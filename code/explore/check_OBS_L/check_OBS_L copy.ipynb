{
 "cells": [
  {
   "cell_type": "markdown",
   "metadata": {},
   "source": [
    "<span style=\"font-size:24px; font-family:'Roboto'; font-weight:bold;\">\n",
    "Script to check if OBS have been assigned to the correct layer.\n",
    "</span><br>"
   ]
  },
  {
   "cell_type": "markdown",
   "metadata": {},
   "source": [
    "## 0.0. Libraries"
   ]
  },
  {
   "cell_type": "code",
   "execution_count": 1,
   "metadata": {},
   "outputs": [],
   "source": [
    "import WS_Mdl as WS # import functions defined for WS_Mdl (by me)\n",
    "import os
from os import listdir as LD, makedirs as MDs
from os.path import join as PJ, basename as PBN, dirname as PDN, exists as PE \n",
    "import imod\n",
    "import pandas as pd\n",
    "from pathlib import Path\n",
    "import re\n",
    "import numpy as np\n",
    "import geopandas as gpd\n",
    "import xarray as xr"
   ]
  },
  {
   "cell_type": "markdown",
   "metadata": {},
   "source": [
    "## 0.1. Options"
   ]
  },
  {
   "cell_type": "code",
   "execution_count": 2,
   "metadata": {},
   "outputs": [],
   "source": [
    "MdlN = 'NBr5'\n",
    "Mdl = ''.join([c for c in MdlN if not c.isdigit()])\n",
    "d_Pa = WS.get_MdlN_paths(MdlN)"
   ]
  },
  {
   "cell_type": "markdown",
   "metadata": {},
   "source": [
    "# 1. Read INI file to get model size"
   ]
  },
  {
   "cell_type": "code",
   "execution_count": 3,
   "metadata": {},
   "outputs": [],
   "source": [
    "Xmin, Ymin, Xmax, Ymax, cellsize, N_R, N_C = WS.Mdl_Dmns_from_INI(d_Pa['Pa_INI'])"
   ]
  },
  {
   "cell_type": "markdown",
   "metadata": {},
   "source": [
    "# 2. Read IPF"
   ]
  },
  {
   "cell_type": "code",
   "execution_count": 4,
   "metadata": {},
   "outputs": [],
   "source": [
    "Pa_IPF = PJ(d_Pa['Pa_Mdl'], r'In\\OBS\\NBr5\\ijkset_selectie\\ijkset_selectie.ipf')\n",
    "IPF = WS.read_IPF_Spa(Pa_IPF)"
   ]
  },
  {
   "cell_type": "markdown",
   "metadata": {},
   "source": [
    "# 3. Process IPF"
   ]
  },
  {
   "cell_type": "code",
   "execution_count": 5,
   "metadata": {},
   "outputs": [],
   "source": [
    "IPF.columns = IPF.columns.str.replace(',-9999','') # Headers had ',-9999' in their names. They serve no purpose, hence will be removed."
   ]
  },
  {
   "cell_type": "code",
   "execution_count": 6,
   "metadata": {},
   "outputs": [],
   "source": [
    "IPF.rename(columns={'xcoordinate': 'x', 'ycoordinate': 'y'}, inplace=True)"
   ]
  },
  {
   "cell_type": "code",
   "execution_count": 7,
   "metadata": {},
   "outputs": [],
   "source": [
    "IPF_Mdl = IPF.loc[ ( (IPF['x'] > Xmin) & (IPF['x'] < Xmax) ) & ( (IPF['y'] > Ymin) & (IPF['y'] < Ymax) ) ].copy() # Limit to OBS within the Mdl Aa"
   ]
  },
  {
   "cell_type": "markdown",
   "metadata": {},
   "source": [
    "The MF6 layer needs to be calculated, as ilay represents the old model layer."
   ]
  },
  {
   "cell_type": "code",
   "execution_count": 8,
   "metadata": {},
   "outputs": [],
   "source": [
    "IPF_Mdl['L'] = IPF_Mdl['ilay']*2 - 1"
   ]
  },
  {
   "cell_type": "code",
   "execution_count": 9,
   "metadata": {},
   "outputs": [],
   "source": [
    "IPF_Mdl['R'] = ( -(IPF_Mdl['y']-Ymax) / cellsize ).astype(np.int32) + 1 # Ymax is at the origin of the model.\n",
    "IPF_Mdl['C'] = (  (IPF_Mdl['x']-Xmin) / cellsize ).astype(np.int32) + 1 # Xmin at the origin of the model."
   ]
  },
  {
   "cell_type": "code",
   "execution_count": 10,
   "metadata": {},
   "outputs": [],
   "source": [
    "IPF_Mdl.sort_values(by=[\"L\", \"R\", \"C\"], ascending=[True, True, True], inplace=True) # Let's sort the DF by L, R, C"
   ]
  },
  {
   "cell_type": "markdown",
   "metadata": {},
   "source": [
    "# 4. Read TOP and BOT arrays "
   ]
  },
  {
   "cell_type": "code",
   "execution_count": 11,
   "metadata": {},
   "outputs": [],
   "source": [
    "Pa_TOP = r'C:\\OD\\WS_Mdl\\models\\NBr\\In\\TOP'\n",
    "l_TOP = [PJ(Pa_TOP, i) for i in LD(Pa_TOP) if 'idf' in i]\n",
    "TOP = imod.formats.idf.open(l_TOP, pattern=\"{name}_L{layer}_\").sel(x=slice(Xmin, Xmax), y=slice(Ymax, Ymin))"
   ]
  },
  {
   "cell_type": "code",
   "execution_count": 12,
   "metadata": {},
   "outputs": [],
   "source": [
    "Pa_BOT = r'C:\\OD\\WS_Mdl\\models\\NBr\\In\\BOT'\n",
    "l_BOT = [PJ(Pa_BOT, i) for i in LD(Pa_BOT) if 'idf' in i]\n",
    "BOT = imod.formats.idf.open(l_BOT, pattern=\"{name}_L{layer}_\").sel(x=slice(Xmin, Xmax), y=slice(Ymax, Ymin))"
   ]
  },
  {
   "cell_type": "markdown",
   "metadata": {},
   "source": [
    "# 5. Match L based on TOP and BOT values (compared to filter top and bot)"
   ]
  },
  {
   "cell_type": "code",
   "execution_count": 13,
   "metadata": {},
   "outputs": [],
   "source": [
    "# Make sure x and y coordinates exist in TOP as 1D arrays\n",
    "TOP_x = TOP.coords['x'].values\n",
    "TOP_y = TOP.coords['y'].values"
   ]
  },
  {
   "cell_type": "code",
   "execution_count": null,
   "metadata": {},
   "outputs": [],
   "source": [
    "d_fields =  {i: (None, []) for i in ['L_case1', 'L_case2', 'L_case3', 'L_case4', 'L_match', 'TOP_combined', 'BOT_combined', 'match_distances']} # Dictionary of fields. key=field, value=tuple - 1st item is a temporary value, 2nd item is the final value"
   ]
  },
  {
   "cell_type": "code",
   "execution_count": null,
   "metadata": {},
   "outputs": [],
   "source": [
    "for _, row in IPF_Mdl.iterrows(): # Loop through each row in IPF_Mdl\n",
    "    # Find closest grid point in TOP (we're assuming TOP and BOT are identical in terms of coordinates)\n",
    "    dx, dy = TOP_x - row['x'], TOP_y - row['y']\n",
    "    dist_matrix = np.sqrt((dy[:, None])**2 + (dx[None, :])**2)\n",
    "    iy, ix = np.unravel_index(np.argmin(dist_matrix), dist_matrix.shape)\n",
    "    min_dist = dist_matrix[iy, ix]\n",
    "\n",
    "    flt_top, flt_bot = row['filtertoplevel'], row['filterbottomlevel']\n",
    "\n",
    "    d_fields['case4_L'] = [] # Needs to be declared as a list for append to work.\n",
    "\n",
    "    # Loop over layers\n",
    "    for L in range(TOP.shape[0]):\n",
    "        L_top = float(TOP[L, iy, ix].values)\n",
    "        L_bot = float(BOT[L, iy, ix].values)\n",
    "\n",
    "        in_top  = L_bot < flt_top < L_top\n",
    "        in_bot  = L_bot < flt_bot < L_top\n",
    "        in_full = flt_bot < L_bot and flt_top > L_top\n",
    "\n",
    "        if in_top and in_bot:\n",
    "            d_fields['L_case3'][0] = L\n",
    "        elif in_top:\n",
    "            d_fields['L_case1'][0] = L\n",
    "        elif in_bot:\n",
    "            d_fields['L_case2'][0] = L\n",
    "        elif in_full:\n",
    "            d_fields['L_case4'][0].append(L)\n",
    "\n",
    "    # Combine and convert to 1-based indexing\n",
    "    d_fields['L_match'][0] = sorted(set([l for l in [d_fields['L_case1'], d_fields['L_case2'], d_fields['L_case3']] if l is not None] + d_fields['L_case4']))\n",
    "    d_fields['L_match'][0] = [l + 1 for l in d_fields['L_match'][0]] \n",
    "\n",
    "    # Get combined TOP and BOT if any layer matched\n",
    "    if L_match:\n",
    "        L_shallowest = min(L_match)\n",
    "        L_deepest    = max(L_match)\n",
    "        L_top = float(TOP[L_shallowest, iy, ix].values)\n",
    "        L_bot = float(BOT[L_deepest,    iy, ix].values)\n",
    "    else:\n",
    "        L_top = None\n",
    "        L_bot = None\n",
    "\n",
    "    # Store results (with 1-based indexing)\n",
    "for i in range(3):\n",
    "    d_fields[f'case{i+1}_L'] = None\n",
    "d_fields['case4_L'] = []\n",
    "\n",
    "    case1_Ls.append(layer_case1 + 1 if layer_case1 is not None else None)\n",
    "    case2_Ls.append(layer_case2 + 1 if layer_case2 is not None else None)\n",
    "    case3_Ls.append(layer_case3 + 1 if layer_case3 is not None else None)\n",
    "    case4_Ls.append([l + 1 for l in layers_case4])\n",
    "    combined_layers.append(L_match_1base)\n",
    "    combined_TOP_vals.append(top_val)\n",
    "    combined_BOT_vals.append(bot_val)\n",
    "    match_distances.append(min_dist)"
   ]
  },
  {
   "cell_type": "code",
   "execution_count": null,
   "metadata": {},
   "outputs": [],
   "source": [
    "IPF_Mdl_ = IPF_Mdl.copy()"
   ]
  },
  {
   "cell_type": "code",
   "execution_count": null,
   "metadata": {},
   "outputs": [],
   "source": [
    "IPF_Mdl_['layer_case1']     = case1_layers\n",
    "IPF_Mdl_['layer_case2']     = case2_layers\n",
    "IPF_Mdl_['layer_case3']     = case3_layers\n",
    "IPF_Mdl_['layer_case4']     = case4_layers\n",
    "IPF_Mdl_['layer_combined']  = combined_layers\n",
    "IPF_Mdl_['combined_TOP']    = combined_TOP_vals\n",
    "IPF_Mdl_['combined_BOT']    = combined_BOT_vals\n",
    "IPF_Mdl_['match_distance']  = match_distances"
   ]
  },
  {
   "cell_type": "code",
   "execution_count": null,
   "metadata": {},
   "outputs": [],
   "source": [
    "IPF_Mdl_.sort_values('R', inplace=True)"
   ]
  },
  {
   "cell_type": "code",
   "execution_count": null,
   "metadata": {},
   "outputs": [],
   "source": [
    "IPF_Mdl_"
   ]
  },
  {
   "cell_type": "code",
   "execution_count": null,
   "metadata": {},
   "outputs": [],
   "source": [
    "def remove_L_from_combined_str(row):\n",
    "    try:\n",
    "        layer_list = row['layer_combined'].copy()\n",
    "        layer_list.remove(row['L'])\n",
    "    except ValueError:\n",
    "        layer_list = row['layer_combined']\n",
    "    return ', '.join(str(x) for x in layer_list)"
   ]
  },
  {
   "cell_type": "code",
   "execution_count": null,
   "metadata": {},
   "outputs": [],
   "source": [
    "# Checks\n",
    "IPF_Mdl_['layer_match'] = IPF_Mdl_.apply(lambda row: row['L'] in row['layer_combined'], axis=1)\n",
    "IPF_Mdl_['extra_layers'] = IPF_Mdl_.apply(remove_L_from_combined_str, axis=1)\n",
    "IPF_Mdl_['TOP_match'] = IPF_Mdl_.apply(lambda R: True if R['combined_TOP'] > R['filtertoplevel'] else False, axis=1)\n",
    "IPF_Mdl_['BOT_match'] = IPF_Mdl_.apply(lambda R: True if R['combined_BOT'] < R['filterbottomlevel'] else False, axis=1)"
   ]
  },
  {
   "cell_type": "code",
   "execution_count": null,
   "metadata": {},
   "outputs": [],
   "source": [
    "IPF_Mdl_"
   ]
  },
  {
   "cell_type": "code",
   "execution_count": null,
   "metadata": {},
   "outputs": [],
   "source": [
    "IPF_Mdl_.to_excel('check_OBS_L.xlsx', index=None)"
   ]
  },
  {
   "cell_type": "code",
   "execution_count": null,
   "metadata": {},
   "outputs": [],
   "source": []
  }
 ],
 "metadata": {
  "kernelspec": {
   "display_name": "Python 3",
   "language": "python",
   "name": "python3"
  },
  "language_info": {
   "codemirror_mode": {
    "name": "ipython",
    "version": 3
   },
   "file_extension": ".py",
   "mimetype": "text/x-python",
   "name": "python",
   "nbconvert_exporter": "python",
   "pygments_lexer": "ipython3",
   "version": "3.12.8"
  }
 },
 "nbformat": 4,
 "nbformat_minor": 2
}
