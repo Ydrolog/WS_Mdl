{
  "cells": [
    {
      "cell_type": "code",
      "execution_count": 1,
      "id": "6bc94662",
      "metadata": {},
      "outputs": [],
      "source": [
        "from WS_Mdl.utils import Sign, Pre_Sign\n",
        "import WS_Mdl.utils as U\n",
        "import WS_Mdl.utils_imod as UIM\n",
        "import WS_Mdl.geo as G\n",
        "import os\n",
        "from os import listdir as LD, makedirs as MDs\n",
        "from os.path import join as PJ, basename as PBN, dirname as PDN, exists as PE\n",
        "import shutil as sh\n",
        "import re\n",
        "from datetime import datetime as DT\n",
        "from typing import Optional, Dict\n",
        "import rasterio\n",
        "from rasterio.transform import from_bounds\n",
        "import imod\n",
        "import numpy as np\n",
        "import xarray as xr\n",
        "from pathlib import Path\n",
        "import pandas as pd\n",
        "pd.set_option('display.max_rows', 30)      # show up to 30 rows\n",
        "import geopandas as gpd\n",
        "from shapely.geometry import Point as Pt\n",
        "from concurrent.futures import ProcessPoolExecutor as PPE\n",
        "import zipfile as ZF\n",
        "import xml.etree.ElementTree as ET\n",
        "import sys\n",
        "from itertools import product\n",
        "import pandas as pd\n",
        "import matplotlib.pyplot as plt"
      ]
    },
    {
      "cell_type": "code",
      "execution_count": 2,
      "id": "844956fa",
      "metadata": {},
      "outputs": [
        {
          "data": {
            "text/plain": [
              "<module 'WS_Mdl.geo' from 'c:\\\\users\\\\karam014\\\\onedrive - universiteit utrecht\\\\ws_mdl\\\\code\\\\WS_Mdl\\\\geo.py'>"
            ]
          },
          "execution_count": 2,
          "metadata": {},
          "output_type": "execute_result"
        }
      ],
      "source": [
        "import importlib as IL\n",
        "IL.reload(U)\n",
        "IL.reload(G)"
      ]
    },
    {
      "cell_type": "markdown",
      "metadata": {},
      "source": [
        "# 1. Options."
      ]
    },
    {
      "cell_type": "code",
      "execution_count": 3,
      "id": "497879cb",
      "metadata": {},
      "outputs": [],
      "source": [
        "#JypNote_name = 'write_SFR_NBr17.ipynb'  # replace with __file__ when converted to .py\n",
        "#Pa_Ctmt = r'C:\\OD\\WS_Mdl\\models\\NBr\\PoP\\common\\Pgn\\Chaamse_beek\\catchment_chaamsebeek_ulvenhout.shp'\n",
        "Pa_TOP = r'C:\\OD\\WS_Mdl\\models\\NBr\\In\\TOP'\n",
        "Pa_BOT = r'C:\\OD\\WS_Mdl\\models\\NBr\\In\\BOT'"
      ]
    },
    {
      "cell_type": "code",
      "execution_count": 4,
      "id": "1fb249a7",
      "metadata": {},
      "outputs": [],
      "source": [
        "MdlN, MdlN_B, MdlN_B_RIV = 'NBr19', 'NBr17', 'NBr1'"
      ]
    },
    {
      "cell_type": "code",
      "execution_count": 6,
      "id": "4b6fde97",
      "metadata": {},
      "outputs": [],
      "source": [
        "d_Pa = U.get_MdlN_paths(MdlN)\n",
        "#d_Pa_B = U.get_MdlN_paths(MdlN_B)\n",
        "Pa_SFR = PJ(d_Pa['Pa_Mdl'], f'In/SFR/{MdlN}/{MdlN}.SFR6')\n",
        "MDs(PDN(Pa_SFR), exist_ok=True)  # Make dir for SFR file."
      ]
    },
    {
      "cell_type": "code",
      "execution_count": null,
      "id": "ca169976",
      "metadata": {},
      "outputs": [],
      "source": [
        "Xmin, Ymin, Xmax, Ymax, cellsize, N_R, N_C = U.Mdl_Dmns_from_INI(d_Pa_B['INI'])"
      ]
    },
    {
      "cell_type": "markdown",
      "id": "7cfe5f9d",
      "metadata": {},
      "source": [
        "# 2. Load RIV to get params."
      ]
    },
    {
      "cell_type": "code",
      "execution_count": null,
      "id": "b64555d8",
      "metadata": {},
      "outputs": [],
      "source": [
        "DF_full = UIM.PRJ_to_DF(MdlN_B)"
      ]
    },
    {
      "cell_type": "code",
      "execution_count": null,
      "id": "d65da876",
      "metadata": {},
      "outputs": [],
      "source": [
        "DF = DF_full.copy().query(\" (package == 'RIV') & (path==path) \")"
      ]
    },
    {
      "cell_type": "markdown",
      "id": "668b31e1",
      "metadata": {},
      "source": [
        "# 3. Make an A of cells where we'll place SFR reaches."
      ]
    },
    {
      "cell_type": "markdown",
      "id": "f8020aa2",
      "metadata": {},
      "source": [
        "## 3.0. Make a Series of As that show where each RIV IDF is active."
      ]
    },
    {
      "cell_type": "code",
      "execution_count": null,
      "id": "7fcf27d1",
      "metadata": {},
      "outputs": [],
      "source": [
        "def active_A(Pa):\n",
        "    IDF = imod.formats.idf.open(Pa)\n",
        "    IDF = IDF.sel(x=slice(Xmin, Xmax), y=slice(Ymax, Ymin))\n",
        "    return IDF.notnull().astype(int)"
      ]
    },
    {
      "cell_type": "code",
      "execution_count": null,
      "id": "342186c8",
      "metadata": {},
      "outputs": [],
      "source": [
        "Se_active_A = DF['path'].apply(active_A)"
      ]
    },
    {
      "cell_type": "markdown",
      "id": "966b3451",
      "metadata": {},
      "source": [
        "## 3.1. Review the number of active cells"
      ]
    },
    {
      "cell_type": "code",
      "execution_count": null,
      "id": "6d1af099",
      "metadata": {},
      "outputs": [],
      "source": [
        "DF['shape'] = Se_active_A.apply(lambda x: x.shape)\n",
        "DF['N_active_cells'] = Se_active_A.apply(lambda x: int(x.sum()))\n",
        "DF['basename'] = DF['path'].apply(lambda x: PBN(x))\n",
        "DF['system'] = DF['basename'].apply(lambda x: x.split('_')[2].lower())"
      ]
    },
    {
      "cell_type": "code",
      "execution_count": null,
      "id": "6200dd80",
      "metadata": {},
      "outputs": [],
      "source": [
        "l_Cs = ['parameter', 'time', 'shape', 'N_active_cells', 'system', 'basename']"
      ]
    },
    {
      "cell_type": "code",
      "execution_count": null,
      "id": "4587d132",
      "metadata": {},
      "outputs": [],
      "source": [
        "for time in DF['time'].unique():\n",
        "    print(DF.query('time == \"summer\"').loc[:, l_Cs].sort_values(['N_active_cells', 'parameter'], ascending=False).to_string(index=False))\n",
        "    print('-'*100)"
      ]
    },
    {
      "cell_type": "markdown",
      "id": "0d28eff5",
      "metadata": {},
      "source": [
        "There are some dataset issues:\n",
        "- N_active_cells differ between parts of the same system\n",
        "- N_active_cells same across seasons, so summer file can be used for all."
      ]
    },
    {
      "cell_type": "markdown",
      "id": "0e0c483f",
      "metadata": {},
      "source": [
        "Notes:\n",
        "- Sys1 is detailwatergangen\n",
        "- Sys2 and Sys3 main river\n",
        "- Sys4 and Sys5 not important here\n",
        "- Each parameter has 15 arrays (3 seasons x 5 systems)"
      ]
    },
    {
      "cell_type": "markdown",
      "id": "1b33e1e3",
      "metadata": {},
      "source": [
        "Check how many cells are active in RIV/DRN but not in detailwatergangen (cond)."
      ]
    },
    {
      "cell_type": "code",
      "execution_count": null,
      "id": "aae3f2f5",
      "metadata": {},
      "outputs": [],
      "source": [
        "DF.query(\"basename == 'RIV_Cond_DRN_NBr1.IDF'\")"
      ]
    },
    {
      "cell_type": "markdown",
      "id": "17cca22a",
      "metadata": {},
      "source": [
        "Call them A1 and A2 for simplicity."
      ]
    },
    {
      "cell_type": "code",
      "execution_count": null,
      "id": "e22d8799",
      "metadata": {},
      "outputs": [],
      "source": [
        "A1 = Se_active_A.iloc[0]\n",
        "A2 = Se_active_A.iloc[1]"
      ]
    },
    {
      "cell_type": "code",
      "execution_count": null,
      "id": "1cb37f02",
      "metadata": {},
      "outputs": [],
      "source": [
        "A3 = xr.where((A1==0) & (A2==1), 1, 0)\n",
        "A4 = xr.where((A1==1) & (A2==1), 1, 0)\n",
        "A5 = xr.where((A1==1) & (A2==0), 1, 0)"
      ]
    },
    {
      "cell_type": "code",
      "execution_count": null,
      "id": "1a2e9885",
      "metadata": {},
      "outputs": [],
      "source": [
        "A3.plot()"
      ]
    },
    {
      "cell_type": "code",
      "execution_count": null,
      "id": "5af95e77",
      "metadata": {},
      "outputs": [],
      "source": [
        "A4.plot()"
      ]
    },
    {
      "cell_type": "code",
      "execution_count": null,
      "id": "1315debd",
      "metadata": {},
      "outputs": [],
      "source": [
        "A5.plot()"
      ]
    },
    {
      "cell_type": "code",
      "execution_count": null,
      "id": "77b0daf7",
      "metadata": {},
      "outputs": [],
      "source": [
        "A3.sum().values, A4.sum().values, A5.sum().values"
      ]
    },
    {
      "cell_type": "markdown",
      "id": "a4b3cda4",
      "metadata": {},
      "source": [
        "- Most main river cells aren't part of detailwatergangen\n",
        "- Detailwatergangen not well connected, main river cells help connectivity\n",
        "- For NBr17 all cells will be connected downstream\n",
        "- Will create one SFR network for all nodes within catchment for routing simplicity"
      ]
    },
    {
      "cell_type": "markdown",
      "id": "0c9793e8",
      "metadata": {},
      "source": [
        "Better to use cells active in both cond and bot arrays, maybe same as bot array only. Check next."
      ]
    },
    {
      "cell_type": "code",
      "execution_count": null,
      "id": "d25f1ead",
      "metadata": {},
      "outputs": [],
      "source": [
        "Se_active_A.iloc[30:33].index.values, Se_active_A.iloc[0:3].index.values"
      ]
    },
    {
      "cell_type": "code",
      "execution_count": null,
      "id": "6408da9b",
      "metadata": {},
      "outputs": [],
      "source": [
        "A6 = xr.where((Se_active_A.iloc[31-1]==1) & (Se_active_A.iloc[1-1]==0), 1, 0)\n",
        "A7 = xr.where((Se_active_A.iloc[32-1]==1) & (Se_active_A.iloc[2-1]==0), 1, 0)"
      ]
    },
    {
      "cell_type": "code",
      "execution_count": null,
      "id": "b25d3bbb",
      "metadata": {},
      "outputs": [],
      "source": [
        "print(f\"\"\"Number of active cells in the bot array that aren't active in the cond array.\n",
        "            For detailwatergangen: {A6.sum().values}\n",
        "            For RIV: {A7.sum().values}\"\"\")"
      ]
    },
    {
      "cell_type": "markdown",
      "id": "f7f0099c",
      "metadata": {},
      "source": [
        "Both 0, so bot array covers all bottom cells; use bot array."
      ]
    },
    {
      "cell_type": "markdown",
      "id": "66565e0e",
      "metadata": {},
      "source": [
        "Check opposite direction"
      ]
    },
    {
      "cell_type": "code",
      "execution_count": null,
      "id": "83228fdb",
      "metadata": {},
      "outputs": [],
      "source": [
        "A8 = xr.where((Se_active_A.iloc[31-1]==0) & (Se_active_A.iloc[1-1]==1), 1, 0)\n",
        "A9 = xr.where((Se_active_A.iloc[32-1]==0) & (Se_active_A.iloc[2-1]==1), 1, 0)"
      ]
    },
    {
      "cell_type": "code",
      "execution_count": null,
      "id": "53b4bac1",
      "metadata": {},
      "outputs": [],
      "source": [
        "print(f\"\"\"Number of active cells in the cond array that aren't active in the bot array.\n",
        "            For detailwatergangen: {A8.sum().values}\n",
        "            For RIV: {A9.sum().values}\"\"\")"
      ]
    },
    {
      "cell_type": "markdown",
      "id": "f0ef6097",
      "metadata": {},
      "source": [
        "Confirms plot of N_active columns."
      ]
    },
    {
      "cell_type": "markdown",
      "id": "15d1eda5",
      "metadata": {},
      "source": [
        "## 3.2. Prep to write SFR blocks."
      ]
    },
    {
      "cell_type": "markdown",
      "id": "53a34ae1",
      "metadata": {},
      "source": [
        "### 3.2.0. NREACHES"
      ]
    },
    {
      "cell_type": "code",
      "execution_count": null,
      "id": "d0d9bd01",
      "metadata": {},
      "outputs": [],
      "source": [
        "A = Se_active_A.iloc[30] | Se_active_A.iloc[31]"
      ]
    },
    {
      "cell_type": "code",
      "execution_count": null,
      "id": "871a35c8",
      "metadata": {},
      "outputs": [],
      "source": [
        "A.plot()"
      ]
    },
    {
      "cell_type": "markdown",
      "id": "913e64b0",
      "metadata": {},
      "source": [
        "Check for any null values"
      ]
    },
    {
      "cell_type": "code",
      "execution_count": null,
      "id": "53419d2e",
      "metadata": {},
      "outputs": [],
      "source": [
        "n_nans = A.isnull().sum().compute().item()\n",
        "if n_nans > 0:\n",
        "    raise ValueError(f'There are {n_nans} null values in the active cells array.')"
      ]
    },
    {
      "cell_type": "code",
      "execution_count": null,
      "id": "13143559",
      "metadata": {},
      "outputs": [],
      "source": [
        "NREACHES = A.sum().values\n",
        "NREACHES"
      ]
    },
    {
      "cell_type": "markdown",
      "id": "cb9cd248",
      "metadata": {},
      "source": [
        "### 3.2.1. PACKAGEDATA"
      ]
    },
    {
      "cell_type": "code",
      "execution_count": null,
      "id": "e1b61ca2",
      "metadata": {},
      "outputs": [],
      "source": [
        "L = 1  # Will be improved to find correct layer\n",
        "Rs, Cs = np.nonzero(A.values)\n",
        "Xs, Ys = A['x'].values[Cs], A['y'].values[Rs]\n",
        "Pts = [Pt(x, y) for x, y in zip(Xs, Ys)]"
      ]
    },
    {
      "cell_type": "code",
      "execution_count": null,
      "id": "babcb003",
      "metadata": {},
      "outputs": [],
      "source": [
        "A_rtp1 = imod.formats.idf.open(r'C:/OD/WS_Mdl\\models\\NBr\\In\\RIV\\RIV_Bot_RIVER_RIVER_BOTTOM_NBr1.IDF').sel(x=slice(Xmin, Xmax), y=slice(Ymax, Ymin))\n",
        "A_rtp2 = imod.formats.idf.open(r'C:/OD/WS_Mdl\\models\\NBr\\In\\RIV\\NBr13\\RIV_Stg_Detailwatergangen_NBr13.IDF').sel(x=slice(Xmin, Xmax), y=slice(Ymax, Ymin))"
      ]
    },
    {
      "cell_type": "code",
      "execution_count": null,
      "id": "5c431e1f",
      "metadata": {},
      "outputs": [],
      "source": [
        "# G.DA_stats(A_tp1)"
      ]
    },
    {
      "cell_type": "code",
      "execution_count": null,
      "id": "9e20b906",
      "metadata": {},
      "outputs": [],
      "source": [
        "A_rtp1.plot()"
      ]
    },
    {
      "cell_type": "code",
      "execution_count": null,
      "id": "6fd02363",
      "metadata": {},
      "outputs": [],
      "source": [
        "A_rtp2.plot()"
      ]
    },
    {
      "cell_type": "markdown",
      "id": "48e60fea",
      "metadata": {},
      "source": [
        "Main rivers take priority over detailwatergangen for rtp."
      ]
    },
    {
      "cell_type": "code",
      "execution_count": null,
      "id": "54c66d08",
      "metadata": {},
      "outputs": [],
      "source": [
        "type(A_rtp1)"
      ]
    },
    {
      "cell_type": "code",
      "execution_count": null,
      "id": "c0822a71",
      "metadata": {},
      "outputs": [],
      "source": [
        "# rtp_1 = A_rtp1.values[Rs, Cs]\n",
        "# rtp_2 = A_rtp2.values[Rs, Cs]"
      ]
    },
    {
      "cell_type": "code",
      "execution_count": null,
      "id": "458d7951",
      "metadata": {},
      "outputs": [],
      "source": [
        "A_rtp_active = xr.where(np.isnan(A_rtp2), A_rtp1, A_rtp2)  # Use RIV/DRN bottoms if possible, else detailwatergangen"
      ]
    },
    {
      "cell_type": "markdown",
      "id": "d29bf79a",
      "metadata": {},
      "source": [
        "Cell above didn't work due to elevation conflicts."
      ]
    },
    {
      "cell_type": "markdown",
      "id": "3dd3644e",
      "metadata": {},
      "source": [
        "#### Get correct Ls for each reach"
      ]
    },
    {
      "cell_type": "markdown",
      "id": "0304bdb8",
      "metadata": {},
      "source": [
        "l_TOP = [PJ(Pa_TOP, i) for i in LD(Pa_TOP) if ('idf' in i) and ('.dvc' not in i.lower())]\n",
        "l_BOT = [PJ(Pa_BOT, i) for i in LD(Pa_BOT) if ('idf' in i) and ('.dvc' not in i.lower())]\n",
        "TOP_100 = imod.formats.idf.open(l_TOP, pattern=\"{name}_L{layer}_\").sel(x=slice(Xmin, Xmax), y=slice(Ymax, Ymin))\n",
        "BOT_100 = imod.formats.idf.open(l_BOT, pattern=\"{name}_L{layer}_\").sel(x=slice(Xmin, Xmax), y=slice(Ymax, Ymin))\n",
        "**All reaches connected to L1, L1 top used as rtp. Will improve later.**\n",
        "TOP = TOP_100.interp(y=A_rtp_active['y'], x=A_rtp_active['x'], method='linear', kwargs={'fill_value': 'extrapolate'})\n",
        "BOT = BOT_100.interp(y=A_rtp_active['y'], x=A_rtp_active['x'], method='linear', kwargs={'fill_value': 'extrapolate'})"
      ]
    },
    {
      "cell_type": "code",
      "execution_count": null,
      "id": "0e756a56",
      "metadata": {},
      "outputs": [],
      "source": [
        "Pa_TOP = r\"C:\\OD\\WS_Mdl\\models\\NBr\\Sim\\NBr16\\GWF_1\\MODELINPUT\\DIS6\\TOPM_L1.IDF\""
      ]
    },
    {
      "cell_type": "code",
      "execution_count": null,
      "id": "69f7da67",
      "metadata": {},
      "outputs": [],
      "source": [
        "TOP = imod.formats.idf.open(Pa_TOP)"
      ]
    },
    {
      "cell_type": "code",
      "execution_count": null,
      "id": "b689c83a",
      "metadata": {},
      "outputs": [],
      "source": [
        "A_rtp = TOP.where(~np.isnan(A_rtp_active))\n",
        "Se_rtp = A_rtp.stack(cell=('y','x')).dropna('cell').to_pandas().squeeze()"
      ]
    },
    {
      "cell_type": "code",
      "execution_count": null,
      "id": "5a1ce69b",
      "metadata": {},
      "outputs": [],
      "source": [
        "type(Se_rtp)"
      ]
    },
    {
      "cell_type": "markdown",
      "id": "23505e2a",
      "metadata": {},
      "source": [
        "#### Get correct L from TOP"
      ]
    },
    {
      "cell_type": "markdown",
      "id": "de63a7a7",
      "metadata": {},
      "source": [
        "---"
      ]
    },
    {
      "cell_type": "markdown",
      "id": "bde8a564",
      "metadata": {},
      "source": [
        "valid_mask = ~np.isnan(A_rtp)"
      ]
    },
    {
      "cell_type": "markdown",
      "id": "60d6f774",
      "metadata": {},
      "source": [
        "A_rtp_3D = A_rtp.where(valid_mask).expand_dims({'layer': TOP['layer']}, axis=0)"
      ]
    },
    {
      "cell_type": "markdown",
      "id": "5e21b7be",
      "metadata": {},
      "source": [
        "Cdt = (TOP >= A_rtp_3D) & (A_rtp_3D >= BOT)  # Check if layer bounds match"
      ]
    },
    {
      "cell_type": "markdown",
      "id": "05c5a71e",
      "metadata": {},
      "source": [
        "print(f\"{NREACHES - Cdt.values.sum()} cells didn't match\")"
      ]
    },
    {
      "cell_type": "markdown",
      "id": "60742dac",
      "metadata": {},
      "source": [
        "Check for multiple matches (should be impossible)"
      ]
    },
    {
      "cell_type": "markdown",
      "id": "45d77b7c",
      "metadata": {},
      "source": [
        "matches_per_cell = Cdt.sum(dim='layer')\n",
        "multiple_matches = (matches_per_cell > 1)\n",
        "if multiple_matches.any():\n",
        "    print(\"Warning: some cells have multiple matching layers.\")\n",
        "else:\n",
        "    print(\"No cells have multiple matching layers.\")"
      ]
    },
    {
      "cell_type": "markdown",
      "id": "97da6937",
      "metadata": {},
      "source": [
        "Check cells without a match"
      ]
    },
    {
      "cell_type": "markdown",
      "id": "1dddca61",
      "metadata": {},
      "source": [
        "no_match = (Cdt.sum(dim='layer') == 0)\n",
        "valid_no_match = no_match & (~np.isnan(A_rtp))\n",
        "rows, cols = np.where(valid_no_match.values)"
      ]
    },
    {
      "cell_type": "markdown",
      "id": "7df6dc73",
      "metadata": {},
      "source": [
        "for i, (r, c) in enumerate(zip(rows[:20], cols[:20])):\n",
        "    ar_val = A_rtp.values[r, c]\n",
        "    bot_vals = BOT.values[:, r, c]\n",
        "    top_vals = TOP.values[:, r, c]\n",
        "    print(f\"Cell ({r},{c}): A_rtp={ar_val}\")\n",
        "    for l in range(len(bot_vals)):\n",
        "        print(f\"{i}  Layer {l}: BOT={bot_vals[l]}, TOP={top_vals[l]}\")"
      ]
    },
    {
      "cell_type": "markdown",
      "id": "c488fdc2",
      "metadata": {},
      "source": [
        "Multiple unmatched cells found."
      ]
    },
    {
      "cell_type": "markdown",
      "id": "780d9ff8",
      "metadata": {},
      "source": [
        "---"
      ]
    },
    {
      "cell_type": "markdown",
      "id": "1ed6ffb5",
      "metadata": {},
      "source": [
        "#### Make DF from params and write block"
      ]
    },
    {
      "cell_type": "code",
      "execution_count": null,
      "id": "fed05605",
      "metadata": {},
      "outputs": [],
      "source": [
        "DF_PD = pd.DataFrame({\n",
        "    'ifno': np.arange(1, NREACHES+1),\n",
        "    'L': L,\n",
        "    'R': Rs+1,\n",
        "    'C': Cs+1,\n",
        "    'rlen': 25,\n",
        "    'rwid': 2,\n",
        "    'rgrd': 0.001,\n",
        "    'rtp': Se_rtp,\n",
        "    'rbth': 0.001,\n",
        "    'rhk': 0.0001,\n",
        "    'man': 0.03,\n",
        "    'ncon': 1,\n",
        "    'ustrf': 1,\n",
        "    'ndv': 0,\n",
        "    'aux': ['r' + str(i) for i in np.arange(1, NREACHES+1)],\n",
        "    'X': Xs,\n",
        "    'Y': Ys\n",
        "})"
      ]
    },
    {
      "cell_type": "markdown",
      "id": "0f4fa0c7",
      "metadata": {},
      "source": [
        "### 3.2.2 CONNECTION"
      ]
    },
    {
      "cell_type": "code",
      "execution_count": null,
      "id": "92ab410d",
      "metadata": {},
      "outputs": [],
      "source": [
        "GDF_Ctmt = gpd.read_file(Pa_Ctmt)\n",
        "Pgn_Ctmt = GDF_Ctmt.geometry.union_all()"
      ]
    },
    {
      "cell_type": "code",
      "execution_count": null,
      "id": "7b00407c",
      "metadata": {},
      "outputs": [],
      "source": [
        "DF_PD['geometry'] = Pts"
      ]
    },
    {
      "cell_type": "code",
      "execution_count": null,
      "id": "293199ac",
      "metadata": {},
      "outputs": [],
      "source": [
        "inside_mask = DF_PD['geometry'].apply(Pgn_Ctmt.contains)\n",
        "DF_PD['Ctmt'] = 0\n",
        "DF_PD.loc[inside_mask, 'Ctmt'] = 1"
      ]
    },
    {
      "cell_type": "code",
      "execution_count": null,
      "id": "f1189888",
      "metadata": {},
      "outputs": [],
      "source": [
        "d_outlets = {}"
      ]
    },
    {
      "cell_type": "code",
      "execution_count": null,
      "id": "4fba410b",
      "metadata": {},
      "outputs": [],
      "source": [
        "for i in DF_PD['Ctmt'].unique():\n",
        "    subset = DF_PD[DF_PD['Ctmt'] == i]\n",
        "    d_outlets[i] = subset[subset['rtp'] == subset['rtp'].min()]['ifno'].values[0]\n",
        "d_outlets"
      ]
    },
    {
      "cell_type": "code",
      "execution_count": null,
      "id": "74ba2cce",
      "metadata": {},
      "outputs": [],
      "source": [
        "DF_PD['ic'] = DF_PD.apply(lambda r: -int(d_outlets[r['Ctmt']]) if r['ifno'] != d_outlets[r['Ctmt']] else np.nan, axis=1)"
      ]
    },
    {
      "cell_type": "code",
      "execution_count": null,
      "id": "6f69ff81",
      "metadata": {},
      "outputs": [],
      "source": [
        "DF_PD['ncon']"
      ]
    },
    {
      "cell_type": "code",
      "execution_count": null,
      "id": "cc0f585c",
      "metadata": {},
      "outputs": [],
      "source": [
        "mapping = { int(-k): v for k, v in DF_PD['ic'].value_counts().to_dict().items() }"
      ]
    },
    {
      "cell_type": "code",
      "execution_count": null,
      "id": "3fc3a22e",
      "metadata": {},
      "outputs": [],
      "source": [
        "mask = DF_PD['ifno'].isin(mapping)"
      ]
    },
    {
      "cell_type": "code",
      "execution_count": null,
      "id": "184c86f5",
      "metadata": {},
      "outputs": [],
      "source": [
        "DF_PD.loc[mask, 'ncon'] = DF_PD.loc[mask, 'ifno'] # replace the ncon values with ifno, so that they can then be raplaced by mapping. This is quite flawed, but works for now."
      ]
    },
    {
      "cell_type": "code",
      "execution_count": null,
      "id": "9e4ae423",
      "metadata": {},
      "outputs": [],
      "source": [
        "DF_PD.loc[mask, 'ncon'] = DF_PD.loc[mask, 'ncon'].map(mapping)"
      ]
    },
    {
      "cell_type": "markdown",
      "id": "0488d5b1",
      "metadata": {},
      "source": [
        "2 missing values; others reference outlets as expected."
      ]
    },
    {
      "cell_type": "code",
      "execution_count": null,
      "id": "0362b68a",
      "metadata": {},
      "outputs": [],
      "source": [
        "DF_PD['ic'] = DF_PD['ic'].fillna(0).astype(int)"
      ]
    },
    {
      "cell_type": "code",
      "execution_count": null,
      "id": "592f4903",
      "metadata": {},
      "outputs": [],
      "source": [
        "#DF_PD_group = DF_PD.groupby('ic')['ifno'].apply(lambda s: ' '.join(s.astype(str))).rename('ic_outflow')"
      ]
    },
    {
      "cell_type": "code",
      "execution_count": null,
      "id": "c9e36f8e",
      "metadata": {},
      "outputs": [],
      "source": [
        "#DF_PD_group.index = DF_PD_group.index*(-1)"
      ]
    },
    {
      "cell_type": "code",
      "execution_count": null,
      "id": "94e3109d",
      "metadata": {},
      "outputs": [],
      "source": [
        "ifnos_to_replace = DF_PD.loc[DF_PD['ic'] == 0, 'ifno']"
      ]
    },
    {
      "cell_type": "code",
      "execution_count": null,
      "id": "cb93addb",
      "metadata": {},
      "outputs": [],
      "source": [
        "lookup = {ifno: ' '.join(DF_PD.loc[DF_PD['ic'] == -ifno, 'ifno'].astype(str))\n",
        "          for ifno in ifnos_to_replace}\n",
        "DF_PD.loc[DF_PD['ic'] == 0, 'ic'] = DF_PD['ifno'].map(lookup)"
      ]
    },
    {
      "cell_type": "code",
      "execution_count": null,
      "id": "8754c86b",
      "metadata": {},
      "outputs": [],
      "source": [
        "DF_PD['ic'] = DF_PD['ic'].apply(lambda x: ' '.join(map(str, x)) if hasattr(x, '__iter__') and not isinstance(x, str) else str(x))"
      ]
    },
    {
      "cell_type": "code",
      "execution_count": null,
      "id": "8d2acf0a",
      "metadata": {},
      "outputs": [],
      "source": [
        "DF_Conn = DF_PD[['ifno', 'ic']]"
      ]
    },
    {
      "cell_type": "code",
      "execution_count": null,
      "id": "28fc8502",
      "metadata": {},
      "outputs": [],
      "source": [
        "DF_PD['ncon']"
      ]
    },
    {
      "cell_type": "code",
      "execution_count": null,
      "id": "9ee9f941",
      "metadata": {},
      "outputs": [],
      "source": [
        "DF_Conn['ic'].apply(lambda x: len(x.split(' ')))"
      ]
    },
    {
      "cell_type": "markdown",
      "id": "d9dbc56d",
      "metadata": {},
      "source": [
        "## 3.3. Write SFR blocks"
      ]
    },
    {
      "cell_type": "markdown",
      "id": "d55504dd",
      "metadata": {},
      "source": [
        "### 3.3.0. OPTIONS & DIMENSIONS"
      ]
    },
    {
      "cell_type": "code",
      "execution_count": null,
      "id": "b9f4867f",
      "metadata": {},
      "outputs": [],
      "source": [
        "with open(Pa_SFR, 'w') as f:\n",
        "    f.write(f\"# File created by {JypNote_name} for {MdlN} on {DT.now()}\\n\")\n",
        "    f.write('BEGIN OPTIONS\\nEND OPTIONS\\n\\n')\n",
        "    f.write('BEGIN DIMENSIONS\\n')\n",
        "    f.write(f'\\tNREACHES {NREACHES}\\n')\n",
        "    f.write('END DIMENSIONS\\n')"
      ]
    },
    {
      "cell_type": "markdown",
      "id": "33300e34",
      "metadata": {},
      "source": [
        "### 3.3.1. PACKAGEDATA"
      ]
    },
    {
      "cell_type": "code",
      "execution_count": null,
      "id": "3bb42892",
      "metadata": {},
      "outputs": [],
      "source": [
        "with open(Pa_SFR, 'a') as f:\n",
        "    f.write('\\nBEGIN PACKAGEDATA\\n')\n",
        "    block = U.DF_to_MF_block(DF_PD[DF_PD.columns[:-3]], Min_width=4)\n",
        "    f.write(block)\n",
        "    f.write('END PACKAGEDATA\\n')"
      ]
    },
    {
      "cell_type": "markdown",
      "id": "4bcd31a7",
      "metadata": {},
      "source": [
        "### 3.3.2. CONNECTIONDATA"
      ]
    },
    {
      "cell_type": "code",
      "execution_count": null,
      "id": "6d63ba75",
      "metadata": {},
      "outputs": [],
      "source": [
        "with open(Pa_SFR, 'a', newline='') as f:\n",
        "    f.write('\\nBEGIN CONNECTIONDATA\\n')\n",
        "    f.write('#' + '\\t'.join(DF_Conn.columns) + '\\n')\n",
        "    for _, row in DF_Conn.iterrows():\n",
        "        f.write(f\"{row['ifno']}\\t{row['ic']}\\n\")\n",
        "    f.write('END CONNECTIONDATA\\n')"
      ]
    },
    {
      "cell_type": "code",
      "execution_count": null,
      "metadata": {},
      "outputs": [],
      "source": [
        "with open(Pa_SFR, 'a', newline='') as f:\n",
        "    f.write('\\nBEGIN PERIOD 1\\n')\n",
        "    f.write('END PERIOD\\n')"
      ]
    },
    {
      "cell_type": "markdown",
      "metadata": {},
      "source": [
        "#### Testing how iMOD interpolates values."
      ]
    },
    {
      "cell_type": "code",
      "execution_count": null,
      "metadata": {},
      "outputs": [],
      "source": [
        "2 * (3.54 - 3.7710) == (3.7710 - 4.2330)"
      ]
    },
    {
      "cell_type": "code",
      "execution_count": null,
      "metadata": {},
      "outputs": [],
      "source": [
        "TOP.isel(layer=0, x=57, y=0).values"
      ]
    },
    {
      "cell_type": "code",
      "execution_count": null,
      "metadata": {},
      "outputs": [],
      "source": [
        "TOP_100.isel(layer=0, x=13, y=0).values, TOP_100.isel(layer=0, x=14, y=0).values"
      ]
    },
    {
      "cell_type": "code",
      "execution_count": null,
      "metadata": {},
      "outputs": [],
      "source": [
        "C54_5 = BOT_100.isel(layer=0, x=int((54.5-2.5)/4), y=1-1).values\n",
        "C58_5 = BOT_100.isel(layer=0, x=int((58.5-2.5)/4), y=1-1).values"
      ]
    },
    {
      "cell_type": "code",
      "execution_count": null,
      "metadata": {},
      "outputs": [],
      "source": [
        "step = (C58_5-C54_5)/8"
      ]
    },
    {
      "cell_type": "code",
      "execution_count": null,
      "metadata": {},
      "outputs": [],
      "source": [
        "for i in range(9):\n",
        "    if i%2:\n",
        "        print(f\"C{int(54+(i+1)/2)} - {C54_5 + i*step}\")"
      ]
    },
    {
      "cell_type": "code",
      "execution_count": null,
      "metadata": {},
      "outputs": [],
      "source": [
        "BOT.isel(layer=0, x=)"
      ]
    }
  ],
  "metadata": {
    "kernelspec": {
      "display_name": "Python 3",
      "language": "python",
      "name": "python3"
    },
    "language_info": {
      "codemirror_mode": {
        "name": "ipython",
        "version": 3
      },
      "file_extension": ".py",
      "mimetype": "text/x-python",
      "name": "python",
      "nbconvert_exporter": "python",
      "pygments_lexer": "ipython3",
      "version": "3.12.8"
    }
  },
  "nbformat": 4,
  "nbformat_minor": 5
}
