{
 "cells": [
  {
   "cell_type": "markdown",
   "id": "6d96e668",
   "metadata": {},
   "source": [
    "# Compare para_sim from imod python to imod5's para_sim."
   ]
  },
  {
   "cell_type": "code",
   "execution_count": 1,
   "id": "ec6078bf",
   "metadata": {},
   "outputs": [],
   "source": [
    "import pandas as pd"
   ]
  },
  {
   "cell_type": "code",
   "execution_count": 9,
   "id": "3e67c43e",
   "metadata": {},
   "outputs": [],
   "source": [
    "DF = pd.DataFrame()"
   ]
  },
  {
   "cell_type": "code",
   "execution_count": 10,
   "id": "65695bbb",
   "metadata": {},
   "outputs": [],
   "source": [
    "with open('para_sim_iM5.inp') as f:\n",
    "    iM5 = f.readlines()"
   ]
  },
  {
   "cell_type": "code",
   "execution_count": 11,
   "id": "8f4e3f33",
   "metadata": {},
   "outputs": [],
   "source": [
    "for L in iM5:\n",
    "    no_com = L.split('!')[0]\n",
    "    if '=' in L:\n",
    "        P = no_com.split('=')[0].strip()\n",
    "        V = no_com.split('=')[1].strip()\n",
    "        DF.loc[P, 'iM5'] = V"
   ]
  },
  {
   "cell_type": "code",
   "execution_count": 12,
   "id": "1a561c2d",
   "metadata": {},
   "outputs": [],
   "source": [
    "with open('para_sim_iMPy.inp') as f:\n",
    "    iMPy = f.readlines()"
   ]
  },
  {
   "cell_type": "code",
   "execution_count": 13,
   "id": "55e0e8fc",
   "metadata": {},
   "outputs": [],
   "source": [
    "for L in iMPy:\n",
    "    no_com = L.split('!')[0]\n",
    "    if '=' in L:\n",
    "        P = no_com.split('=')[0].strip()\n",
    "        V = no_com.split('=')[1].strip()\n",
    "        DF.loc[P, 'iMPy'] = V"
   ]
  },
  {
   "cell_type": "code",
   "execution_count": 15,
   "id": "9685403f",
   "metadata": {},
   "outputs": [],
   "source": [
    "DF['match'] = DF['iM5'] == DF['iMPy']"
   ]
  },
  {
   "cell_type": "code",
   "execution_count": 18,
   "id": "fbfdc247",
   "metadata": {},
   "outputs": [
    {
     "data": {
      "text/html": [
       "<div>\n",
       "<style scoped>\n",
       "    .dataframe tbody tr th:only-of-type {\n",
       "        vertical-align: middle;\n",
       "    }\n",
       "\n",
       "    .dataframe tbody tr th {\n",
       "        vertical-align: top;\n",
       "    }\n",
       "\n",
       "    .dataframe thead th {\n",
       "        text-align: right;\n",
       "    }\n",
       "</style>\n",
       "<table border=\"1\" class=\"dataframe\">\n",
       "  <thead>\n",
       "    <tr style=\"text-align: right;\">\n",
       "      <th></th>\n",
       "      <th>iM5</th>\n",
       "      <th>iMPy</th>\n",
       "      <th>match</th>\n",
       "    </tr>\n",
       "  </thead>\n",
       "  <tbody>\n",
       "    <tr>\n",
       "      <th>dtgw</th>\n",
       "      <td>1.000000</td>\n",
       "      <td>1.0</td>\n",
       "      <td>False</td>\n",
       "    </tr>\n",
       "    <tr>\n",
       "      <th>dtsw</th>\n",
       "      <td>1.000000</td>\n",
       "      <td>1.0</td>\n",
       "      <td>False</td>\n",
       "    </tr>\n",
       "    <tr>\n",
       "      <th>idbg</th>\n",
       "      <td>0.000000</td>\n",
       "      <td>0.0</td>\n",
       "      <td>False</td>\n",
       "    </tr>\n",
       "    <tr>\n",
       "      <th>svat_sav</th>\n",
       "      <td>1</td>\n",
       "      <td></td>\n",
       "      <td>False</td>\n",
       "    </tr>\n",
       "    <tr>\n",
       "      <th>idf_dx</th>\n",
       "      <td>25.00000</td>\n",
       "      <td>25.0</td>\n",
       "      <td>False</td>\n",
       "    </tr>\n",
       "    <tr>\n",
       "      <th>idf_dy</th>\n",
       "      <td>25.00000</td>\n",
       "      <td>25.0</td>\n",
       "      <td>False</td>\n",
       "    </tr>\n",
       "    <tr>\n",
       "      <th>idf_nodata</th>\n",
       "      <td>-9999.00</td>\n",
       "      <td>-9999.0</td>\n",
       "      <td>False</td>\n",
       "    </tr>\n",
       "    <tr>\n",
       "      <th>idf_sx</th>\n",
       "      <td>0</td>\n",
       "      <td>NaN</td>\n",
       "      <td>False</td>\n",
       "    </tr>\n",
       "    <tr>\n",
       "      <th>idf_sy</th>\n",
       "      <td>0</td>\n",
       "      <td>NaN</td>\n",
       "      <td>False</td>\n",
       "    </tr>\n",
       "    <tr>\n",
       "      <th>tdbg</th>\n",
       "      <td>NaN</td>\n",
       "      <td>0.0</td>\n",
       "      <td>False</td>\n",
       "    </tr>\n",
       "  </tbody>\n",
       "</table>\n",
       "</div>"
      ],
      "text/plain": [
       "                 iM5     iMPy  match\n",
       "dtgw        1.000000      1.0  False\n",
       "dtsw        1.000000      1.0  False\n",
       "idbg        0.000000      0.0  False\n",
       "svat_sav           1           False\n",
       "idf_dx      25.00000     25.0  False\n",
       "idf_dy      25.00000     25.0  False\n",
       "idf_nodata  -9999.00  -9999.0  False\n",
       "idf_sx             0      NaN  False\n",
       "idf_sy             0      NaN  False\n",
       "tdbg             NaN      0.0  False"
      ]
     },
     "execution_count": 18,
     "metadata": {},
     "output_type": "execute_result"
    }
   ],
   "source": [
    "DF.loc[DF['match'] == False]"
   ]
  },
  {
   "cell_type": "code",
   "execution_count": null,
   "id": "df7b3a93",
   "metadata": {},
   "outputs": [],
   "source": []
  }
 ],
 "metadata": {
  "kernelspec": {
   "display_name": "default",
   "language": "python",
   "name": "python3"
  },
  "language_info": {
   "codemirror_mode": {
    "name": "ipython",
    "version": 3
   },
   "file_extension": ".py",
   "mimetype": "text/x-python",
   "name": "python",
   "nbconvert_exporter": "python",
   "pygments_lexer": "ipython3",
   "version": "3.13.5"
  }
 },
 "nbformat": 4,
 "nbformat_minor": 5
}
