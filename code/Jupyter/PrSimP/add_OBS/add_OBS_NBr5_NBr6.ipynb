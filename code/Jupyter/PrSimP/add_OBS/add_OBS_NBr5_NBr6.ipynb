{
 "cells": [
  {
   "cell_type": "markdown",
   "metadata": {},
   "source": [
    "<span style=\"font-size:24px; font-family:'Roboto'; font-weight:bold;\">\n",
    "Script to add OBS files to iMOD model.\n",
    "</span><br>\n",
    "To be used after the model has been PrPed by iMOD (.bat file etc. etc.)."
   ]
  },
  {
   "cell_type": "markdown",
   "metadata": {},
   "source": [
    "**This script was used for NBr5 & 6 (same process, just the MdlN changed), before the process got automated with the WS.add_OBS function.**"
   ]
  },
  {
   "cell_type": "markdown",
   "metadata": {},
   "source": [
    "## 0.0. Libraries"
   ]
  },
  {
   "cell_type": "code",
   "execution_count": 1,
   "metadata": {},
   "outputs": [
    {
     "data": {
      "text/plain": [
       "\"iMOD5 can't add these to a MF6 mode. Thus this function will identify OBS IPF files in the PRJ file & create OBS files from them, then add them to the Sim (Mdl NAM file).\""
      ]
     },
     "execution_count": 1,
     "metadata": {},
     "output_type": "execute_result"
    }
   ],
   "source": [
    "\"\"\"iMOD5 can't add these to a MF6 mode. Thus this function will identify OBS IPF files in the PRJ file & create OBS files from them, then add them to the Sim (Mdl NAM file).\"\"\""
   ]
  },
  {
   "cell_type": "code",
   "execution_count": 2,
   "metadata": {},
   "outputs": [],
   "source": [
    "import os
from os import listdir as LD, makedirs as MDs
from os.path import join as PJ, basename as PBN, dirname as PDN, exists as PE\n",
    "import WS_Mdl as WS # import functions defined for WS_Mdl (by me)\n",
    "import tempfile\n",
    "import numpy as np\n",
    "import re"
   ]
  },
  {
   "cell_type": "code",
   "execution_count": 3,
   "metadata": {},
   "outputs": [],
   "source": [
    "import imod"
   ]
  },
  {
   "cell_type": "code",
   "execution_count": 4,
   "metadata": {},
   "outputs": [],
   "source": [
    "import flopy as fp"
   ]
  },
  {
   "cell_type": "markdown",
   "metadata": {},
   "source": [
    "## 0.1. Options"
   ]
  },
  {
   "cell_type": "code",
   "execution_count": 5,
   "metadata": {},
   "outputs": [],
   "source": [
    "MdlN = 'NBr6'"
   ]
  },
  {
   "cell_type": "code",
   "execution_count": null,
   "metadata": {},
   "outputs": [],
   "source": [
    "d_Pa = WS.get_MdlN_paths(MdlN) # Get default directories\n",
    "MdlN_B, Pa_Mdl, Pa_Sim_Mdl, Pa_INI, Pa_BAT, Pa_PRJ = (d_Pa[k] for k in ['MdlN_B','Pa_Mdl', 'Pa_MdlN', \"Pa_INI\", \"Pa_BAT\", \"Pa_PRJ\"]) # and pass them to objects that will be used in the function"
   ]
  },
  {
   "cell_type": "code",
   "execution_count": 7,
   "metadata": {},
   "outputs": [],
   "source": [
    "#Mdl, SimN = \"\".join(re.findall('[a-zA-Z]', MdlN)), \"\".join(re.findall('[0-9]', MdlN))"
   ]
  },
  {
   "cell_type": "code",
   "execution_count": 8,
   "metadata": {},
   "outputs": [],
   "source": [
    "d_INI = WS.INI_to_d(Pa_INI)"
   ]
  },
  {
   "cell_type": "code",
   "execution_count": 9,
   "metadata": {},
   "outputs": [
    {
     "name": "stdout",
     "output_type": "stream",
     "text": [
      "The model area has 344 rows and 480 columns.\n"
     ]
    }
   ],
   "source": [
    "Xmin, Ymin, Xmax, Ymax = [float(i) for i in d_INI['window'].split(',')]\n",
    "cellsize = float(d_INI['CELLSIZE'])\n",
    "N_R, N_C = int( - (Ymin - Ymax) / cellsize ), int( (Xmax - Xmin) / cellsize ), \n",
    "print(f'The model area has {N_R} rows and {N_C} columns.')"
   ]
  },
  {
   "cell_type": "code",
   "execution_count": 10,
   "metadata": {},
   "outputs": [],
   "source": [
    "Pa_OBS_IPF = os.path.normpath(PJ(Pa_PRJ, '../../../In/OBS/NBr5/ijkset_selectie/ijkset_selectie.ipf'))"
   ]
  },
  {
   "cell_type": "code",
   "execution_count": 11,
   "metadata": {},
   "outputs": [],
   "source": [
    "Pa_OBS = PJ(Pa_Sim_Mdl, f'GWF_1/MODELINPUT/{MdlN}.OBS6') # pathectory where OBS file will be written."
   ]
  },
  {
   "cell_type": "markdown",
   "metadata": {},
   "source": [
    "# 1. Load model"
   ]
  },
  {
   "cell_type": "markdown",
   "metadata": {},
   "source": [
    "## 1.0. PRJ\n",
    "imod.formats.prj.read_projectfile() struggles with the OBS package. So I'll temporarily remove it, so that it can be read."
   ]
  },
  {
   "cell_type": "code",
   "execution_count": 12,
   "metadata": {},
   "outputs": [
    {
     "name": "stdout",
     "output_type": "stream",
     "text": [
      "Modified PRJ file saved to: C:\\Users\\Karam014\\AppData\\Local\\Temp\\tmpl1zoz_9s.prj\n"
     ]
    }
   ],
   "source": [
    "with open(Pa_PRJ, \"r\") as f: # Read the PRJ file and filter out OBS lines\n",
    "    lines = f.readlines()\n",
    "\n",
    "filtered_lines = []\n",
    "skip_block = False\n",
    "obs_lines = []\n",
    "for line in lines:\n",
    "    if \"(obs)\" in line.lower():  # Start of OBS block\n",
    "        skip_block = True\n",
    "        obs_lines.append(line)  # Keep the header\n",
    "    elif skip_block and line.strip() == \"\":  # End of OBS block\n",
    "        skip_block = False\n",
    "    elif skip_block:\n",
    "        obs_lines.append(line)  # Store OBS content\n",
    "    else:\n",
    "        filtered_lines.append(line)  # Keep everything else\n",
    "\n",
    "# Write to a temporary file\n",
    "with tempfile.NamedTemporaryFile(delete=False, mode=\"w\", suffix=\".prj\") as temp_file:\n",
    "    temp_file.writelines(filtered_lines)\n",
    "    Pa_PRJ_temp = temp_file.name\n",
    "\n",
    "print(f\"Modified PRJ file saved to: {Pa_PRJ_temp}\")\n",
    "\n",
    "PRJ = imod.formats.prj.read_projectfile(Pa_PRJ_temp) # Load the PRJ file without OBS"
   ]
  },
  {
   "cell_type": "markdown",
   "metadata": {},
   "source": [
    "Incomplete<br>\n",
    ".....................<br>.....................<br>.....................<br>.....................<br>.....................<br>"
   ]
  },
  {
   "cell_type": "markdown",
   "metadata": {},
   "source": [
    "## 1.1. Explore OBS IPF"
   ]
  },
  {
   "cell_type": "code",
   "execution_count": 13,
   "metadata": {},
   "outputs": [
    {
     "name": "stderr",
     "output_type": "stream",
     "text": [
      "c:\\mamba_envs\\imod\\Lib\\site-packages\\imod\\formats\\ipf.py:30: UserWarning: Inconsistent IPF: header states 2 columns, first line contains 0\n",
      "  warnings.warn(\n",
      "c:\\mamba_envs\\imod\\Lib\\site-packages\\imod\\formats\\ipf.py:30: UserWarning: Inconsistent IPF: header states 2 columns, first line contains 0\n",
      "  warnings.warn(\n",
      "c:\\mamba_envs\\imod\\Lib\\site-packages\\imod\\formats\\ipf.py:30: UserWarning: Inconsistent IPF: header states 2 columns, first line contains 0\n",
      "  warnings.warn(\n",
      "c:\\mamba_envs\\imod\\Lib\\site-packages\\imod\\formats\\ipf.py:30: UserWarning: Inconsistent IPF: header states 2 columns, first line contains 0\n",
      "  warnings.warn(\n",
      "c:\\mamba_envs\\imod\\Lib\\site-packages\\imod\\formats\\ipf.py:30: UserWarning: Inconsistent IPF: header states 2 columns, first line contains 0\n",
      "  warnings.warn(\n",
      "c:\\mamba_envs\\imod\\Lib\\site-packages\\imod\\formats\\ipf.py:30: UserWarning: Inconsistent IPF: header states 2 columns, first line contains 0\n",
      "  warnings.warn(\n",
      "c:\\mamba_envs\\imod\\Lib\\site-packages\\imod\\formats\\ipf.py:30: UserWarning: Inconsistent IPF: header states 2 columns, first line contains 0\n",
      "  warnings.warn(\n",
      "c:\\mamba_envs\\imod\\Lib\\site-packages\\imod\\formats\\ipf.py:30: UserWarning: Inconsistent IPF: header states 2 columns, first line contains 0\n",
      "  warnings.warn(\n",
      "c:\\mamba_envs\\imod\\Lib\\site-packages\\imod\\formats\\ipf.py:30: UserWarning: Inconsistent IPF: header states 2 columns, first line contains 0\n",
      "  warnings.warn(\n",
      "c:\\mamba_envs\\imod\\Lib\\site-packages\\imod\\formats\\ipf.py:30: UserWarning: Inconsistent IPF: header states 2 columns, first line contains 0\n",
      "  warnings.warn(\n",
      "c:\\mamba_envs\\imod\\Lib\\site-packages\\imod\\formats\\ipf.py:30: UserWarning: Inconsistent IPF: header states 2 columns, first line contains 0\n",
      "  warnings.warn(\n",
      "c:\\mamba_envs\\imod\\Lib\\site-packages\\imod\\formats\\ipf.py:30: UserWarning: Inconsistent IPF: header states 2 columns, first line contains 0\n",
      "  warnings.warn(\n",
      "c:\\mamba_envs\\imod\\Lib\\site-packages\\imod\\formats\\ipf.py:30: UserWarning: Inconsistent IPF: header states 2 columns, first line contains 0\n",
      "  warnings.warn(\n",
      "c:\\mamba_envs\\imod\\Lib\\site-packages\\imod\\formats\\ipf.py:30: UserWarning: Inconsistent IPF: header states 2 columns, first line contains 0\n",
      "  warnings.warn(\n",
      "c:\\mamba_envs\\imod\\Lib\\site-packages\\imod\\formats\\ipf.py:30: UserWarning: Inconsistent IPF: header states 2 columns, first line contains 0\n",
      "  warnings.warn(\n",
      "c:\\mamba_envs\\imod\\Lib\\site-packages\\imod\\formats\\ipf.py:30: UserWarning: Inconsistent IPF: header states 2 columns, first line contains 0\n",
      "  warnings.warn(\n",
      "c:\\mamba_envs\\imod\\Lib\\site-packages\\imod\\formats\\ipf.py:30: UserWarning: Inconsistent IPF: header states 2 columns, first line contains 0\n",
      "  warnings.warn(\n",
      "c:\\mamba_envs\\imod\\Lib\\site-packages\\imod\\formats\\ipf.py:30: UserWarning: Inconsistent IPF: header states 2 columns, first line contains 0\n",
      "  warnings.warn(\n",
      "c:\\mamba_envs\\imod\\Lib\\site-packages\\imod\\formats\\ipf.py:30: UserWarning: Inconsistent IPF: header states 2 columns, first line contains 0\n",
      "  warnings.warn(\n",
      "c:\\mamba_envs\\imod\\Lib\\site-packages\\imod\\formats\\ipf.py:30: UserWarning: Inconsistent IPF: header states 2 columns, first line contains 0\n",
      "  warnings.warn(\n",
      "c:\\mamba_envs\\imod\\Lib\\site-packages\\imod\\formats\\ipf.py:30: UserWarning: Inconsistent IPF: header states 2 columns, first line contains 0\n",
      "  warnings.warn(\n",
      "c:\\mamba_envs\\imod\\Lib\\site-packages\\imod\\formats\\ipf.py:30: UserWarning: Inconsistent IPF: header states 2 columns, first line contains 0\n",
      "  warnings.warn(\n"
     ]
    }
   ],
   "source": [
    "DF_OBS_IPF = imod.formats.ipf.read(Pa_OBS_IPF) # Read IPF file containing OBS BHs"
   ]
  },
  {
   "cell_type": "code",
   "execution_count": 14,
   "metadata": {},
   "outputs": [],
   "source": [
    "DF_OBS_IPF.columns = DF_OBS_IPF.columns.str.replace(',-9999','') # Headers had ',-9999' in their names. They serve no purpose, hence will be removed."
   ]
  },
  {
   "cell_type": "code",
   "execution_count": 15,
   "metadata": {},
   "outputs": [],
   "source": [
    "DF_OBS_IPF_MdlAa = DF_OBS_IPF.loc[ ( (DF_OBS_IPF['xcoordinate']>Xmin) & (DF_OBS_IPF['xcoordinate']<Xmax ) ) &\n",
    "                                  ( (DF_OBS_IPF['ycoordinate']>Ymin) & (DF_OBS_IPF['ycoordinate']<Ymax ) )].copy() # Slice to OBS within the Mdl Aa"
   ]
  },
  {
   "cell_type": "code",
   "execution_count": 16,
   "metadata": {},
   "outputs": [
    {
     "name": "stdout",
     "output_type": "stream",
     "text": [
      "The whole OBS IPF file contains 7036 locations/Obs BHs.\n",
      "There are 99 locations/Obs BHs in the Mdl Aa/window.\n"
     ]
    }
   ],
   "source": [
    "print(f\"The whole OBS IPF file contains {len(DF_OBS_IPF['id'].unique())} locations/Obs BHs.\")\n",
    "print(f\"There are {len(DF_OBS_IPF_MdlAa['id'].unique())} locations/Obs BHs in the Mdl Aa/window.\")"
   ]
  },
  {
   "cell_type": "markdown",
   "metadata": {},
   "source": [
    "Let's explore the BHs inside the Mdl Aa"
   ]
  },
  {
   "cell_type": "code",
   "execution_count": 17,
   "metadata": {},
   "outputs": [
    {
     "data": {
      "text/html": [
       "<div>\n",
       "<style scoped>\n",
       "    .dataframe tbody tr th:only-of-type {\n",
       "        vertical-align: middle;\n",
       "    }\n",
       "\n",
       "    .dataframe tbody tr th {\n",
       "        vertical-align: top;\n",
       "    }\n",
       "\n",
       "    .dataframe thead th {\n",
       "        text-align: right;\n",
       "    }\n",
       "</style>\n",
       "<table border=\"1\" class=\"dataframe\">\n",
       "  <thead>\n",
       "    <tr style=\"text-align: right;\">\n",
       "      <th></th>\n",
       "      <th>datetime</th>\n",
       "      <th>head</th>\n",
       "      <th>xcoordinate</th>\n",
       "      <th>ycoordinate</th>\n",
       "      <th>ilay</th>\n",
       "      <th>id</th>\n",
       "      <th>code</th>\n",
       "      <th>filterno</th>\n",
       "      <th>surfacelevel</th>\n",
       "      <th>filtertoplevel</th>\n",
       "      <th>filterbottomlevel</th>\n",
       "    </tr>\n",
       "  </thead>\n",
       "  <tbody>\n",
       "    <tr>\n",
       "      <th>count</th>\n",
       "      <td>237071</td>\n",
       "      <td>237071.000000</td>\n",
       "      <td>237071.000000</td>\n",
       "      <td>237071.000000</td>\n",
       "      <td>237071.000000</td>\n",
       "      <td>237071</td>\n",
       "      <td>237071</td>\n",
       "      <td>237071.000000</td>\n",
       "      <td>237071.000000</td>\n",
       "      <td>237071.000000</td>\n",
       "      <td>237071.000000</td>\n",
       "    </tr>\n",
       "    <tr>\n",
       "      <th>unique</th>\n",
       "      <td>NaN</td>\n",
       "      <td>NaN</td>\n",
       "      <td>NaN</td>\n",
       "      <td>NaN</td>\n",
       "      <td>NaN</td>\n",
       "      <td>99</td>\n",
       "      <td>65</td>\n",
       "      <td>NaN</td>\n",
       "      <td>NaN</td>\n",
       "      <td>NaN</td>\n",
       "      <td>NaN</td>\n",
       "    </tr>\n",
       "    <tr>\n",
       "      <th>top</th>\n",
       "      <td>NaN</td>\n",
       "      <td>NaN</td>\n",
       "      <td>NaN</td>\n",
       "      <td>NaN</td>\n",
       "      <td>NaN</td>\n",
       "      <td>5212_1</td>\n",
       "      <td>B50B0070</td>\n",
       "      <td>NaN</td>\n",
       "      <td>NaN</td>\n",
       "      <td>NaN</td>\n",
       "      <td>NaN</td>\n",
       "    </tr>\n",
       "    <tr>\n",
       "      <th>freq</th>\n",
       "      <td>NaN</td>\n",
       "      <td>NaN</td>\n",
       "      <td>NaN</td>\n",
       "      <td>NaN</td>\n",
       "      <td>NaN</td>\n",
       "      <td>4284</td>\n",
       "      <td>11462</td>\n",
       "      <td>NaN</td>\n",
       "      <td>NaN</td>\n",
       "      <td>NaN</td>\n",
       "      <td>NaN</td>\n",
       "    </tr>\n",
       "    <tr>\n",
       "      <th>mean</th>\n",
       "      <td>2013-02-17 04:36:29.298564608</td>\n",
       "      <td>7.482131</td>\n",
       "      <td>117694.609041</td>\n",
       "      <td>393643.329589</td>\n",
       "      <td>7.473234</td>\n",
       "      <td>NaN</td>\n",
       "      <td>NaN</td>\n",
       "      <td>1.852441</td>\n",
       "      <td>-65.954342</td>\n",
       "      <td>-12.447127</td>\n",
       "      <td>-13.701441</td>\n",
       "    </tr>\n",
       "    <tr>\n",
       "      <th>min</th>\n",
       "      <td>2000-01-13 00:00:00</td>\n",
       "      <td>-0.740000</td>\n",
       "      <td>113131.000000</td>\n",
       "      <td>388313.000000</td>\n",
       "      <td>1.000000</td>\n",
       "      <td>NaN</td>\n",
       "      <td>NaN</td>\n",
       "      <td>1.000000</td>\n",
       "      <td>-9999.000000</td>\n",
       "      <td>-246.740000</td>\n",
       "      <td>-248.740000</td>\n",
       "    </tr>\n",
       "    <tr>\n",
       "      <th>25%</th>\n",
       "      <td>2011-06-22 00:00:00</td>\n",
       "      <td>4.380000</td>\n",
       "      <td>114783.000000</td>\n",
       "      <td>392044.000000</td>\n",
       "      <td>3.000000</td>\n",
       "      <td>NaN</td>\n",
       "      <td>NaN</td>\n",
       "      <td>1.000000</td>\n",
       "      <td>2.800000</td>\n",
       "      <td>-10.350000</td>\n",
       "      <td>-11.350000</td>\n",
       "    </tr>\n",
       "    <tr>\n",
       "      <th>50%</th>\n",
       "      <td>2013-06-28 00:00:00</td>\n",
       "      <td>7.320000</td>\n",
       "      <td>117588.000000</td>\n",
       "      <td>394107.000000</td>\n",
       "      <td>7.000000</td>\n",
       "      <td>NaN</td>\n",
       "      <td>NaN</td>\n",
       "      <td>1.000000</td>\n",
       "      <td>8.640000</td>\n",
       "      <td>1.920000</td>\n",
       "      <td>0.920000</td>\n",
       "    </tr>\n",
       "    <tr>\n",
       "      <th>75%</th>\n",
       "      <td>2015-07-05 00:00:00</td>\n",
       "      <td>9.640000</td>\n",
       "      <td>119695.000000</td>\n",
       "      <td>395357.000000</td>\n",
       "      <td>9.000000</td>\n",
       "      <td>NaN</td>\n",
       "      <td>NaN</td>\n",
       "      <td>2.000000</td>\n",
       "      <td>11.990000</td>\n",
       "      <td>5.570000</td>\n",
       "      <td>4.570000</td>\n",
       "    </tr>\n",
       "    <tr>\n",
       "      <th>max</th>\n",
       "      <td>2018-03-14 00:00:00</td>\n",
       "      <td>21.890000</td>\n",
       "      <td>125050.000000</td>\n",
       "      <td>396195.000000</td>\n",
       "      <td>19.000000</td>\n",
       "      <td>NaN</td>\n",
       "      <td>NaN</td>\n",
       "      <td>7.000000</td>\n",
       "      <td>21.990000</td>\n",
       "      <td>18.480000</td>\n",
       "      <td>18.180000</td>\n",
       "    </tr>\n",
       "    <tr>\n",
       "      <th>std</th>\n",
       "      <td>NaN</td>\n",
       "      <td>3.938406</td>\n",
       "      <td>3536.248150</td>\n",
       "      <td>2174.786127</td>\n",
       "      <td>4.368992</td>\n",
       "      <td>NaN</td>\n",
       "      <td>NaN</td>\n",
       "      <td>1.335698</td>\n",
       "      <td>859.560517</td>\n",
       "      <td>36.637631</td>\n",
       "      <td>36.958689</td>\n",
       "    </tr>\n",
       "  </tbody>\n",
       "</table>\n",
       "</div>"
      ],
      "text/plain": [
       "                             datetime           head    xcoordinate  \\\n",
       "count                          237071  237071.000000  237071.000000   \n",
       "unique                            NaN            NaN            NaN   \n",
       "top                               NaN            NaN            NaN   \n",
       "freq                              NaN            NaN            NaN   \n",
       "mean    2013-02-17 04:36:29.298564608       7.482131  117694.609041   \n",
       "min               2000-01-13 00:00:00      -0.740000  113131.000000   \n",
       "25%               2011-06-22 00:00:00       4.380000  114783.000000   \n",
       "50%               2013-06-28 00:00:00       7.320000  117588.000000   \n",
       "75%               2015-07-05 00:00:00       9.640000  119695.000000   \n",
       "max               2018-03-14 00:00:00      21.890000  125050.000000   \n",
       "std                               NaN       3.938406    3536.248150   \n",
       "\n",
       "          ycoordinate           ilay      id      code       filterno  \\\n",
       "count   237071.000000  237071.000000  237071    237071  237071.000000   \n",
       "unique            NaN            NaN      99        65            NaN   \n",
       "top               NaN            NaN  5212_1  B50B0070            NaN   \n",
       "freq              NaN            NaN    4284     11462            NaN   \n",
       "mean    393643.329589       7.473234     NaN       NaN       1.852441   \n",
       "min     388313.000000       1.000000     NaN       NaN       1.000000   \n",
       "25%     392044.000000       3.000000     NaN       NaN       1.000000   \n",
       "50%     394107.000000       7.000000     NaN       NaN       1.000000   \n",
       "75%     395357.000000       9.000000     NaN       NaN       2.000000   \n",
       "max     396195.000000      19.000000     NaN       NaN       7.000000   \n",
       "std       2174.786127       4.368992     NaN       NaN       1.335698   \n",
       "\n",
       "         surfacelevel  filtertoplevel  filterbottomlevel  \n",
       "count   237071.000000   237071.000000      237071.000000  \n",
       "unique            NaN             NaN                NaN  \n",
       "top               NaN             NaN                NaN  \n",
       "freq              NaN             NaN                NaN  \n",
       "mean       -65.954342      -12.447127         -13.701441  \n",
       "min      -9999.000000     -246.740000        -248.740000  \n",
       "25%          2.800000      -10.350000         -11.350000  \n",
       "50%          8.640000        1.920000           0.920000  \n",
       "75%         11.990000        5.570000           4.570000  \n",
       "max         21.990000       18.480000          18.180000  \n",
       "std        859.560517       36.637631          36.958689  "
      ]
     },
     "execution_count": 17,
     "metadata": {},
     "output_type": "execute_result"
    }
   ],
   "source": [
    "DF_OBS_IPF_MdlAa.describe(include='all')"
   ]
  },
  {
   "cell_type": "markdown",
   "metadata": {},
   "source": [
    "Notes:\n",
    "- Date range: 2000-01-13 - 2018-03-14 -> It's pointless to use a much lenghtier simulation range, unless we find/use another OBS dataset on to of this one.\n",
    "- head, surfacelevel, filertoplevel, filterbottomlevel value ranges make sense.\n",
    "- xcoordinate and ycoordinate obviously are within the selected range.\n",
    "- ilay seems reasonable too, although it'd be good to double check that the refered layers aren't those of the old model. A way to do that is to print all the unique values. If they're all odd numbers, we're using the new model layers (cause even numbers are aquitards.)\n",
    "- I don't know what filter number is. But I don't think it matters."
   ]
  },
  {
   "cell_type": "code",
   "execution_count": 18,
   "metadata": {},
   "outputs": [
    {
     "data": {
      "text/plain": [
       "array([ 1,  2,  3,  4,  5,  6,  7,  8,  9, 10, 11, 12, 13, 18, 19])"
      ]
     },
     "execution_count": 18,
     "metadata": {},
     "output_type": "execute_result"
    }
   ],
   "source": [
    "np.sort(DF_OBS_IPF_MdlAa['ilay'].unique())"
   ]
  },
  {
   "cell_type": "markdown",
   "metadata": {},
   "source": [
    "This isn't looking good... Seems like it's using the old model layers and those will need to be converted. Let's check the number of OBS in each layer first."
   ]
  },
  {
   "cell_type": "code",
   "execution_count": 19,
   "metadata": {},
   "outputs": [
    {
     "data": {
      "text/plain": [
       "ilay\n",
       "1      3\n",
       "2      1\n",
       "3     19\n",
       "4      5\n",
       "5      3\n",
       "6     14\n",
       "7      8\n",
       "8      5\n",
       "9     18\n",
       "10     2\n",
       "11     3\n",
       "12     5\n",
       "13     4\n",
       "18     7\n",
       "19     2\n",
       "Name: id, dtype: int64"
      ]
     },
     "execution_count": 19,
     "metadata": {},
     "output_type": "execute_result"
    }
   ],
   "source": [
    "DF_OBS_IPF_MdlAa.groupby('ilay')['id'].nunique()"
   ]
  },
  {
   "cell_type": "markdown",
   "metadata": {},
   "source": [
    "It seems that there are quite a few boreholes in even number layers, which indicates that this IPF file is using the old model layers.<br>\n",
    "Assuming that the aquitards are quite thin and we want to monitor the aquifers, we'll get the new model layer by using this equation MF6_ilay = ilay*2-1"
   ]
  },
  {
   "cell_type": "code",
   "execution_count": 20,
   "metadata": {},
   "outputs": [],
   "source": [
    "DF_OBS_IPF_MdlAa['L'] = DF_OBS_IPF_MdlAa['ilay']*2 - 1"
   ]
  },
  {
   "cell_type": "markdown",
   "metadata": {},
   "source": [
    "Let's see if they're all even numbers now."
   ]
  },
  {
   "cell_type": "code",
   "execution_count": 21,
   "metadata": {},
   "outputs": [
    {
     "data": {
      "text/plain": [
       "L\n",
       "1      3\n",
       "3      1\n",
       "5     19\n",
       "7      5\n",
       "9      3\n",
       "11    14\n",
       "13     8\n",
       "15     5\n",
       "17    18\n",
       "19     2\n",
       "21     3\n",
       "23     5\n",
       "25     4\n",
       "35     7\n",
       "37     2\n",
       "Name: id, dtype: int64"
      ]
     },
     "execution_count": 21,
     "metadata": {},
     "output_type": "execute_result"
    }
   ],
   "source": [
    "DF_OBS_IPF_MdlAa.groupby('L')['id'].nunique()"
   ]
  },
  {
   "cell_type": "markdown",
   "metadata": {},
   "source": [
    "# 2. Write OBS file"
   ]
  },
  {
   "cell_type": "markdown",
   "metadata": {},
   "source": [
    "## 2.0. Calculate OBS R and C"
   ]
  },
  {
   "cell_type": "code",
   "execution_count": 22,
   "metadata": {},
   "outputs": [],
   "source": [
    "DF_OBS_IPF_MdlAa['C'] = ( (DF_OBS_IPF_MdlAa['xcoordinate']-Xmin) / cellsize ).astype(np.int32) + 1 # Xmin sets the origin of the model.\n",
    "DF_OBS_IPF_MdlAa['R'] = ( -(DF_OBS_IPF_MdlAa['ycoordinate']-Ymax) / cellsize ).astype(np.int32) + 1 # Xmin sets the origin of the model."
   ]
  },
  {
   "cell_type": "code",
   "execution_count": 23,
   "metadata": {},
   "outputs": [
    {
     "data": {
      "text/html": [
       "<div>\n",
       "<style scoped>\n",
       "    .dataframe tbody tr th:only-of-type {\n",
       "        vertical-align: middle;\n",
       "    }\n",
       "\n",
       "    .dataframe tbody tr th {\n",
       "        vertical-align: top;\n",
       "    }\n",
       "\n",
       "    .dataframe thead th {\n",
       "        text-align: right;\n",
       "    }\n",
       "</style>\n",
       "<table border=\"1\" class=\"dataframe\">\n",
       "  <thead>\n",
       "    <tr style=\"text-align: right;\">\n",
       "      <th></th>\n",
       "      <th>C</th>\n",
       "      <th>R</th>\n",
       "    </tr>\n",
       "  </thead>\n",
       "  <tbody>\n",
       "    <tr>\n",
       "      <th>count</th>\n",
       "      <td>237071.000000</td>\n",
       "      <td>237071.000000</td>\n",
       "    </tr>\n",
       "    <tr>\n",
       "      <th>mean</th>\n",
       "      <td>184.371323</td>\n",
       "      <td>102.860586</td>\n",
       "    </tr>\n",
       "    <tr>\n",
       "      <th>std</th>\n",
       "      <td>141.430496</td>\n",
       "      <td>86.947775</td>\n",
       "    </tr>\n",
       "    <tr>\n",
       "      <th>min</th>\n",
       "      <td>2.000000</td>\n",
       "      <td>1.000000</td>\n",
       "    </tr>\n",
       "    <tr>\n",
       "      <th>25%</th>\n",
       "      <td>68.000000</td>\n",
       "      <td>34.000000</td>\n",
       "    </tr>\n",
       "    <tr>\n",
       "      <th>50%</th>\n",
       "      <td>180.000000</td>\n",
       "      <td>84.000000</td>\n",
       "    </tr>\n",
       "    <tr>\n",
       "      <th>75%</th>\n",
       "      <td>264.000000</td>\n",
       "      <td>167.000000</td>\n",
       "    </tr>\n",
       "    <tr>\n",
       "      <th>max</th>\n",
       "      <td>479.000000</td>\n",
       "      <td>316.000000</td>\n",
       "    </tr>\n",
       "  </tbody>\n",
       "</table>\n",
       "</div>"
      ],
      "text/plain": [
       "                   C              R\n",
       "count  237071.000000  237071.000000\n",
       "mean      184.371323     102.860586\n",
       "std       141.430496      86.947775\n",
       "min         2.000000       1.000000\n",
       "25%        68.000000      34.000000\n",
       "50%       180.000000      84.000000\n",
       "75%       264.000000     167.000000\n",
       "max       479.000000     316.000000"
      ]
     },
     "execution_count": 23,
     "metadata": {},
     "output_type": "execute_result"
    }
   ],
   "source": [
    "DF_OBS_IPF_MdlAa[['C', 'R']].describe()"
   ]
  },
  {
   "cell_type": "markdown",
   "metadata": {},
   "source": [
    "Seems like the Cs and Rs have been calculated correctly (they're above 0 and below the number of Rs and Cs in the model.)"
   ]
  },
  {
   "cell_type": "markdown",
   "metadata": {},
   "source": [
    "## 2.1. Write OBS file"
   ]
  },
  {
   "cell_type": "code",
   "execution_count": 24,
   "metadata": {},
   "outputs": [
    {
     "data": {
      "text/html": [
       "<div>\n",
       "<style scoped>\n",
       "    .dataframe tbody tr th:only-of-type {\n",
       "        vertical-align: middle;\n",
       "    }\n",
       "\n",
       "    .dataframe tbody tr th {\n",
       "        vertical-align: top;\n",
       "    }\n",
       "\n",
       "    .dataframe thead th {\n",
       "        text-align: right;\n",
       "    }\n",
       "</style>\n",
       "<table border=\"1\" class=\"dataframe\">\n",
       "  <thead>\n",
       "    <tr style=\"text-align: right;\">\n",
       "      <th></th>\n",
       "      <th>datetime</th>\n",
       "      <th>head</th>\n",
       "      <th>xcoordinate</th>\n",
       "      <th>ycoordinate</th>\n",
       "      <th>ilay</th>\n",
       "      <th>id</th>\n",
       "      <th>code</th>\n",
       "      <th>filterno</th>\n",
       "      <th>surfacelevel</th>\n",
       "      <th>filtertoplevel</th>\n",
       "      <th>filterbottomlevel</th>\n",
       "      <th>L</th>\n",
       "      <th>C</th>\n",
       "      <th>R</th>\n",
       "    </tr>\n",
       "  </thead>\n",
       "  <tbody>\n",
       "    <tr>\n",
       "      <th>410380</th>\n",
       "      <td>2008-07-09</td>\n",
       "      <td>1.43</td>\n",
       "      <td>113300.0</td>\n",
       "      <td>395959.0</td>\n",
       "      <td>1</td>\n",
       "      <td>5241_1</td>\n",
       "      <td>5241</td>\n",
       "      <td>1</td>\n",
       "      <td>3.10</td>\n",
       "      <td>1.58</td>\n",
       "      <td>0.58</td>\n",
       "      <td>1</td>\n",
       "      <td>9</td>\n",
       "      <td>10</td>\n",
       "    </tr>\n",
       "    <tr>\n",
       "      <th>410381</th>\n",
       "      <td>2008-07-10</td>\n",
       "      <td>1.48</td>\n",
       "      <td>113300.0</td>\n",
       "      <td>395959.0</td>\n",
       "      <td>1</td>\n",
       "      <td>5241_1</td>\n",
       "      <td>5241</td>\n",
       "      <td>1</td>\n",
       "      <td>3.10</td>\n",
       "      <td>1.58</td>\n",
       "      <td>0.58</td>\n",
       "      <td>1</td>\n",
       "      <td>9</td>\n",
       "      <td>10</td>\n",
       "    </tr>\n",
       "    <tr>\n",
       "      <th>410382</th>\n",
       "      <td>2008-07-11</td>\n",
       "      <td>1.53</td>\n",
       "      <td>113300.0</td>\n",
       "      <td>395959.0</td>\n",
       "      <td>1</td>\n",
       "      <td>5241_1</td>\n",
       "      <td>5241</td>\n",
       "      <td>1</td>\n",
       "      <td>3.10</td>\n",
       "      <td>1.58</td>\n",
       "      <td>0.58</td>\n",
       "      <td>1</td>\n",
       "      <td>9</td>\n",
       "      <td>10</td>\n",
       "    </tr>\n",
       "    <tr>\n",
       "      <th>410383</th>\n",
       "      <td>2008-07-12</td>\n",
       "      <td>1.55</td>\n",
       "      <td>113300.0</td>\n",
       "      <td>395959.0</td>\n",
       "      <td>1</td>\n",
       "      <td>5241_1</td>\n",
       "      <td>5241</td>\n",
       "      <td>1</td>\n",
       "      <td>3.10</td>\n",
       "      <td>1.58</td>\n",
       "      <td>0.58</td>\n",
       "      <td>1</td>\n",
       "      <td>9</td>\n",
       "      <td>10</td>\n",
       "    </tr>\n",
       "    <tr>\n",
       "      <th>410384</th>\n",
       "      <td>2008-07-13</td>\n",
       "      <td>1.56</td>\n",
       "      <td>113300.0</td>\n",
       "      <td>395959.0</td>\n",
       "      <td>1</td>\n",
       "      <td>5241_1</td>\n",
       "      <td>5241</td>\n",
       "      <td>1</td>\n",
       "      <td>3.10</td>\n",
       "      <td>1.58</td>\n",
       "      <td>0.58</td>\n",
       "      <td>1</td>\n",
       "      <td>9</td>\n",
       "      <td>10</td>\n",
       "    </tr>\n",
       "    <tr>\n",
       "      <th>...</th>\n",
       "      <td>...</td>\n",
       "      <td>...</td>\n",
       "      <td>...</td>\n",
       "      <td>...</td>\n",
       "      <td>...</td>\n",
       "      <td>...</td>\n",
       "      <td>...</td>\n",
       "      <td>...</td>\n",
       "      <td>...</td>\n",
       "      <td>...</td>\n",
       "      <td>...</td>\n",
       "      <td>...</td>\n",
       "      <td>...</td>\n",
       "      <td>...</td>\n",
       "    </tr>\n",
       "    <tr>\n",
       "      <th>6140644</th>\n",
       "      <td>2017-07-02</td>\n",
       "      <td>4.48</td>\n",
       "      <td>118782.0</td>\n",
       "      <td>395042.0</td>\n",
       "      <td>19</td>\n",
       "      <td>B50B0070_7</td>\n",
       "      <td>B50B0070</td>\n",
       "      <td>7</td>\n",
       "      <td>11.32</td>\n",
       "      <td>-246.74</td>\n",
       "      <td>-248.74</td>\n",
       "      <td>37</td>\n",
       "      <td>228</td>\n",
       "      <td>47</td>\n",
       "    </tr>\n",
       "    <tr>\n",
       "      <th>6140645</th>\n",
       "      <td>2017-07-03</td>\n",
       "      <td>4.58</td>\n",
       "      <td>118782.0</td>\n",
       "      <td>395042.0</td>\n",
       "      <td>19</td>\n",
       "      <td>B50B0070_7</td>\n",
       "      <td>B50B0070</td>\n",
       "      <td>7</td>\n",
       "      <td>11.32</td>\n",
       "      <td>-246.74</td>\n",
       "      <td>-248.74</td>\n",
       "      <td>37</td>\n",
       "      <td>228</td>\n",
       "      <td>47</td>\n",
       "    </tr>\n",
       "    <tr>\n",
       "      <th>6140646</th>\n",
       "      <td>2017-07-04</td>\n",
       "      <td>4.59</td>\n",
       "      <td>118782.0</td>\n",
       "      <td>395042.0</td>\n",
       "      <td>19</td>\n",
       "      <td>B50B0070_7</td>\n",
       "      <td>B50B0070</td>\n",
       "      <td>7</td>\n",
       "      <td>11.32</td>\n",
       "      <td>-246.74</td>\n",
       "      <td>-248.74</td>\n",
       "      <td>37</td>\n",
       "      <td>228</td>\n",
       "      <td>47</td>\n",
       "    </tr>\n",
       "    <tr>\n",
       "      <th>6140647</th>\n",
       "      <td>2017-07-05</td>\n",
       "      <td>4.65</td>\n",
       "      <td>118782.0</td>\n",
       "      <td>395042.0</td>\n",
       "      <td>19</td>\n",
       "      <td>B50B0070_7</td>\n",
       "      <td>B50B0070</td>\n",
       "      <td>7</td>\n",
       "      <td>11.32</td>\n",
       "      <td>-246.74</td>\n",
       "      <td>-248.74</td>\n",
       "      <td>37</td>\n",
       "      <td>228</td>\n",
       "      <td>47</td>\n",
       "    </tr>\n",
       "    <tr>\n",
       "      <th>6140648</th>\n",
       "      <td>2017-07-06</td>\n",
       "      <td>4.68</td>\n",
       "      <td>118782.0</td>\n",
       "      <td>395042.0</td>\n",
       "      <td>19</td>\n",
       "      <td>B50B0070_7</td>\n",
       "      <td>B50B0070</td>\n",
       "      <td>7</td>\n",
       "      <td>11.32</td>\n",
       "      <td>-246.74</td>\n",
       "      <td>-248.74</td>\n",
       "      <td>37</td>\n",
       "      <td>228</td>\n",
       "      <td>47</td>\n",
       "    </tr>\n",
       "  </tbody>\n",
       "</table>\n",
       "<p>237071 rows × 14 columns</p>\n",
       "</div>"
      ],
      "text/plain": [
       "          datetime  head  xcoordinate  ycoordinate  ilay          id  \\\n",
       "410380  2008-07-09  1.43     113300.0     395959.0     1      5241_1   \n",
       "410381  2008-07-10  1.48     113300.0     395959.0     1      5241_1   \n",
       "410382  2008-07-11  1.53     113300.0     395959.0     1      5241_1   \n",
       "410383  2008-07-12  1.55     113300.0     395959.0     1      5241_1   \n",
       "410384  2008-07-13  1.56     113300.0     395959.0     1      5241_1   \n",
       "...            ...   ...          ...          ...   ...         ...   \n",
       "6140644 2017-07-02  4.48     118782.0     395042.0    19  B50B0070_7   \n",
       "6140645 2017-07-03  4.58     118782.0     395042.0    19  B50B0070_7   \n",
       "6140646 2017-07-04  4.59     118782.0     395042.0    19  B50B0070_7   \n",
       "6140647 2017-07-05  4.65     118782.0     395042.0    19  B50B0070_7   \n",
       "6140648 2017-07-06  4.68     118782.0     395042.0    19  B50B0070_7   \n",
       "\n",
       "             code  filterno  surfacelevel  filtertoplevel  filterbottomlevel  \\\n",
       "410380       5241         1          3.10            1.58               0.58   \n",
       "410381       5241         1          3.10            1.58               0.58   \n",
       "410382       5241         1          3.10            1.58               0.58   \n",
       "410383       5241         1          3.10            1.58               0.58   \n",
       "410384       5241         1          3.10            1.58               0.58   \n",
       "...           ...       ...           ...             ...                ...   \n",
       "6140644  B50B0070         7         11.32         -246.74            -248.74   \n",
       "6140645  B50B0070         7         11.32         -246.74            -248.74   \n",
       "6140646  B50B0070         7         11.32         -246.74            -248.74   \n",
       "6140647  B50B0070         7         11.32         -246.74            -248.74   \n",
       "6140648  B50B0070         7         11.32         -246.74            -248.74   \n",
       "\n",
       "          L    C   R  \n",
       "410380    1    9  10  \n",
       "410381    1    9  10  \n",
       "410382    1    9  10  \n",
       "410383    1    9  10  \n",
       "410384    1    9  10  \n",
       "...      ..  ...  ..  \n",
       "6140644  37  228  47  \n",
       "6140645  37  228  47  \n",
       "6140646  37  228  47  \n",
       "6140647  37  228  47  \n",
       "6140648  37  228  47  \n",
       "\n",
       "[237071 rows x 14 columns]"
      ]
     },
     "execution_count": 24,
     "metadata": {},
     "output_type": "execute_result"
    }
   ],
   "source": [
    "DF_OBS_IPF_MdlAa.sort_values(by=[\"L\", \"R\", \"C\"], ascending=[True, True, True], inplace=True) # Let's sort the DF by L, R, C\n",
    "DF_OBS_IPF_MdlAa # and check how it looks"
   ]
  },
  {
   "cell_type": "code",
   "execution_count": 25,
   "metadata": {},
   "outputs": [],
   "source": [
    "d_OBS = {\n",
    "    \"obs.csv\": [\n",
    "        (row[\"id\"], \"HEAD\", (row[\"L\"], row[\"R\"], row[\"C\"]))  # Extract values from DataFrame\n",
    "        for _, row in DF_OBS_IPF_MdlAa.drop_duplicates(subset=['id', 'L', 'R', 'C']).iterrows() # We only need each id once.\n",
    "    ]\n",
    "}"
   ]
  },
  {
   "cell_type": "code",
   "execution_count": 26,
   "metadata": {},
   "outputs": [
    {
     "name": "stdout",
     "output_type": "stream",
     "text": [
      "Couldn't find program: 'false'\n"
     ]
    }
   ],
   "source": [
    "%%script false --no-raise-error # This method is producing an error, which I don't have the time to solve.\n",
    "Sim = fp.mf6.MFSimulation.load(sim_ws=Pa_Sim_Mdl) # Load the MODFLOW 6 simulation (which includes the GWF model)\n",
    "\n",
    "GWF = Sim.get_model()  # If there's only one model, it gets the first GWF model # Get the GWF model from the simulation\n",
    "\n",
    "# Create an Observation Package\n",
    "obs_package = fp.mf6.ModflowUtlobs(parent_model_or_package=None, # OBS is not directly tied to a model in Flopy, so use None\n",
    "                                   digits=10,\n",
    "                                   continuous=d_OBS,\n",
    "                                   filename=Pa_OBS,\n",
    "                                   pname=\"obs\",\n",
    "                                   print_input=True)\n",
    "\n",
    "obs_package.write() # Write the OBS file"
   ]
  },
  {
   "cell_type": "code",
   "execution_count": 27,
   "metadata": {},
   "outputs": [],
   "source": [
    "with open(Pa_OBS, \"w\") as f:\n",
    "    f.write(\"BEGIN OPTIONS\\n\\tDIGITS 6\\nEND OPTIONS\\n\\n\")\n",
    "\n",
    "    f.write(\"BEGIN CONTINUOUS FILEOUT obs.csv\\n\")\n",
    "    \n",
    "    for _, row in DF_OBS_IPF_MdlAa.drop_duplicates(subset=['id', 'L', 'R', 'C']).iterrows():\n",
    "        obs_name = row[\"id\"]\n",
    "        ilay, irow, icol = row[\"L\"], row[\"R\"], row[\"C\"]\n",
    "        f.write(f\"    {obs_name} HEAD {ilay} {irow} {icol}\\n\")\n",
    "    \n",
    "    f.write(\"END CONTINUOUS\\n\")"
   ]
  },
  {
   "cell_type": "markdown",
   "metadata": {},
   "source": [
    "## 2.2. Open NAM file and add OBS file to it"
   ]
  },
  {
   "cell_type": "code",
   "execution_count": 28,
   "metadata": {},
   "outputs": [],
   "source": [
    "with open(PJ(Pa_Sim_Mdl, 'GWF_1', MdlN+'.nam'), 'r') as f1:\n",
    "    NAM = f1.read()"
   ]
  },
  {
   "cell_type": "code",
   "execution_count": 29,
   "metadata": {},
   "outputs": [],
   "source": [
    "l_NAM = NAM.split('END PACKAGES')\n",
    "\n",
    "with open(PJ(Pa_Sim_Mdl, 'GWF_1', MdlN+'.nam'), 'w') as f2:\n",
    "    f2.write(l_NAM[0] + fr' OBS6 .\\GWF_1\\MODELINPUT\\{MdlN}.OBS6 OBS6' + '\\nEND PACKAGES')"
   ]
  },
  {
   "cell_type": "code",
   "execution_count": null,
   "metadata": {},
   "outputs": [],
   "source": []
  },
  {
   "cell_type": "markdown",
   "metadata": {},
   "source": [
    "------------------------"
   ]
  },
  {
   "cell_type": "markdown",
   "metadata": {},
   "source": [
    "# Junkyard"
   ]
  },
  {
   "cell_type": "code",
   "execution_count": null,
   "metadata": {},
   "outputs": [],
   "source": [
    "stop"
   ]
  },
  {
   "cell_type": "code",
   "execution_count": 30,
   "metadata": {},
   "outputs": [
    {
     "ename": "KeyError",
     "evalue": "'timing'",
     "output_type": "error",
     "traceback": [
      "\u001b[1;31m---------------------------------------------------------------------------\u001b[0m",
      "\u001b[1;31mKeyError\u001b[0m                                  Traceback (most recent call last)",
      "Cell \u001b[1;32mIn[30], line 1\u001b[0m\n\u001b[1;32m----> 1\u001b[0m Sim \u001b[38;5;241m=\u001b[39m \u001b[43mimod\u001b[49m\u001b[38;5;241;43m.\u001b[39;49m\u001b[43mmf6\u001b[49m\u001b[38;5;241;43m.\u001b[39;49m\u001b[43mModflow6Simulation\u001b[49m\u001b[43m(\u001b[49m\u001b[43mMdlN\u001b[49m\u001b[43m)\u001b[49m\u001b[38;5;241;43m.\u001b[39;49m\u001b[43mfrom_file\u001b[49m\u001b[43m(\u001b[49m\u001b[43mos\u001b[49m\u001b[38;5;241;43m.\u001b[39;49m\u001b[43mpath\u001b[49m\u001b[38;5;241;43m.\u001b[39;49m\u001b[43mjoin\u001b[49m\u001b[43m(\u001b[49m\u001b[43mPa_Sim_Mdl\u001b[49m\u001b[43m,\u001b[49m\u001b[43m \u001b[49m\u001b[38;5;124;43mf\u001b[39;49m\u001b[38;5;124;43m'\u001b[39;49m\u001b[38;5;132;43;01m{\u001b[39;49;00m\u001b[43mMdlN\u001b[49m\u001b[38;5;132;43;01m}\u001b[39;49;00m\u001b[38;5;124;43m.toml\u001b[39;49m\u001b[38;5;124;43m'\u001b[39;49m\u001b[43m)\u001b[49m\u001b[43m)\u001b[49m\n",
      "File \u001b[1;32mc:\\mamba_envs\\imod\\Lib\\site-packages\\imod\\mf6\\simulation.py:946\u001b[0m, in \u001b[0;36mModflow6Simulation.from_file\u001b[1;34m(toml_path)\u001b[0m\n\u001b[0;32m    944\u001b[0m \u001b[38;5;28;01mfor\u001b[39;00m key, entry \u001b[38;5;129;01min\u001b[39;00m toml_content\u001b[38;5;241m.\u001b[39mitems():\n\u001b[0;32m    945\u001b[0m     \u001b[38;5;28;01mif\u001b[39;00m key \u001b[38;5;129;01mnot\u001b[39;00m \u001b[38;5;129;01min\u001b[39;00m [\u001b[38;5;124m\"\u001b[39m\u001b[38;5;124mgwtgwf_exchanges\u001b[39m\u001b[38;5;124m\"\u001b[39m, \u001b[38;5;124m\"\u001b[39m\u001b[38;5;124msplit_exchanges\u001b[39m\u001b[38;5;124m\"\u001b[39m]:\n\u001b[1;32m--> 946\u001b[0m         item_cls \u001b[38;5;241m=\u001b[39m \u001b[43mclasses\u001b[49m\u001b[43m[\u001b[49m\u001b[43mkey\u001b[49m\u001b[43m]\u001b[49m\n\u001b[0;32m    947\u001b[0m         \u001b[38;5;28;01mfor\u001b[39;00m name, filename \u001b[38;5;129;01min\u001b[39;00m entry\u001b[38;5;241m.\u001b[39mitems():\n\u001b[0;32m    948\u001b[0m             path \u001b[38;5;241m=\u001b[39m toml_path\u001b[38;5;241m.\u001b[39mparent \u001b[38;5;241m/\u001b[39m filename\n",
      "\u001b[1;31mKeyError\u001b[0m: 'timing'"
     ]
    }
   ],
   "source": [
    "Sim = imod.mf6.Modflow6Simulation(MdlN).from_file(PJ(Pa_Sim_Mdl, f'{MdlN}.toml'))"
   ]
  },
  {
   "cell_type": "code",
   "execution_count": null,
   "metadata": {},
   "outputs": [],
   "source": [
    "# Check if RUN.BAT exists\n",
    "if not os.path.exists(Pa_BAT):\n",
    "    raise FileNotFoundError(f\"RUN.BAT not found in {Pa_BAT}\")\n",
    "\n",
    "# Load the iMOD model\n",
    "model = imod.mf6.Modflow6Simulation.read(Pa_Mdl)\n",
    "print(\"iMOD model loaded successfully.\")"
   ]
  },
  {
   "cell_type": "code",
   "execution_count": null,
   "metadata": {},
   "outputs": [],
   "source": []
  }
 ],
 "metadata": {
  "kernelspec": {
   "display_name": "Python 3",
   "language": "python",
   "name": "python3"
  },
  "language_info": {
   "codemirror_mode": {
    "name": "ipython",
    "version": 3
   },
   "file_extension": ".py",
   "mimetype": "text/x-python",
   "name": "python",
   "nbconvert_exporter": "python",
   "pygments_lexer": "ipython3",
   "version": "3.12.8"
  }
 },
 "nbformat": 4,
 "nbformat_minor": 2
}
