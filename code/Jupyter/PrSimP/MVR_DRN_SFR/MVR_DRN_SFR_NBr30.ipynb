{
 "cells": [
  {
   "cell_type": "markdown",
   "id": "a6e6c2c3",
   "metadata": {},
   "source": [
    "# Connect DRN items to SFR reaches"
   ]
  },
  {
   "cell_type": "code",
   "execution_count": 51,
   "id": "e3fbd19a",
   "metadata": {},
   "outputs": [],
   "source": [
    "from WS_Mdl.utils import Sign, Pre_Sign\n",
    "import WS_Mdl.utils as U\n",
    "import WS_Mdl.utils_imod as UIM\n",
    "import WS_Mdl.geo as G\n",
    "import os\n",
    "from os import listdir as LD, makedirs as MDs\n",
    "from os.path import join as PJ, basename as PBN, dirname as PDN, exists as PE\n",
    "import shutil as sh\n",
    "import re\n",
    "from datetime import datetime as DT\n",
    "from typing import Optional, Dict\n",
    "import rasterio\n",
    "from rasterio.transform import from_bounds\n",
    "import imod\n",
    "import numpy as np\n",
    "import xarray as xr\n",
    "from pathlib import Path\n",
    "import pandas as pd\n",
    "\n",
    "pd.set_option('display.max_rows', 30)  # show up to 30 rows\n",
    "import geopandas as gpd\n",
    "from shapely.geometry import Point as Pt\n",
    "from concurrent.futures import ProcessPoolExecutor as PPE\n",
    "import zipfile as ZF\n",
    "import xml.etree.ElementTree as ET\n",
    "import sys\n",
    "from itertools import product\n",
    "import pandas as pd\n",
    "import matplotlib.pyplot as plt\n",
    "import DRN_SFR_match\n",
    "from DRN_SFR_match import match_cells_to_SFR\n",
    "import w_MVR\n",
    "from w_MVR import w_MVR"
   ]
  },
  {
   "cell_type": "code",
   "execution_count": 91,
   "id": "526dbaed",
   "metadata": {},
   "outputs": [],
   "source": [
    "import importlib as IL\n",
    "\n",
    "IL.reload(U)\n",
    "IL.reload(G)\n",
    "IL.reload(DRN_SFR_match)\n",
    "match_cells_to_SFR = DRN_SFR_match.match_cells_to_SFR\n",
    "IL.reload(write_MVR)\n",
    "from w_MVR import w_MVR"
   ]
  },
  {
   "cell_type": "markdown",
   "id": "95504438",
   "metadata": {},
   "source": [
    "# 1. Options."
   ]
  },
  {
   "cell_type": "code",
   "execution_count": 53,
   "id": "4cfc6e2c",
   "metadata": {},
   "outputs": [],
   "source": [
    "MdlN = 'NBr30'"
   ]
  },
  {
   "cell_type": "code",
   "execution_count": 54,
   "id": "a8f7e6a9",
   "metadata": {},
   "outputs": [],
   "source": [
    "d_Pa = U.get_MdlN_Pa(MdlN)\n",
    "Pa_SFR = PJ(d_Pa['Pa_Mdl'], f'In/SFR/{MdlN}/{MdlN}.SFR6')\n",
    "MDs(PDN(Pa_SFR), exist_ok=True)  # Make dir for SFR file."
   ]
  },
  {
   "cell_type": "code",
   "execution_count": 55,
   "id": "9fdcad6c",
   "metadata": {},
   "outputs": [
    {
     "name": "stdout",
     "output_type": "stream",
     "text": [
      "🟢 - INI file C:/OD/WS_Mdl\\models/NBr\\code/Mdl_Prep/Mdl_Prep_NBr30.ini read successfully. Dictionary created with 22 keys.\n",
      "🟢 - model dimensions extracted from C:/OD/WS_Mdl\\models/NBr\\code/Mdl_Prep/Mdl_Prep_NBr30.ini.\n"
     ]
    }
   ],
   "source": [
    "Xmin, Ymin, Xmax, Ymax, cellsize, N_R, N_C = U.Mdl_Dmns_from_INI(d_Pa['INI'])"
   ]
  },
  {
   "cell_type": "code",
   "execution_count": 56,
   "id": "b2f5a700",
   "metadata": {},
   "outputs": [],
   "source": [
    "# Pa_Ctmt = r'C:\\OD\\WS_Mdl\\models\\NBr\\PoP\\common\\Pgn\\Chaamse_beek\\catchment_chaamsebeek_ulvenhout.shp'\n",
    "Pa_SFR_Atv = r'C:\\OD\\WS_Mdl\\models\\NBr\\In\\SFR\\_other\\RIV_Bot_active.IDF'"
   ]
  },
  {
   "cell_type": "code",
   "execution_count": 57,
   "id": "9d63d381",
   "metadata": {},
   "outputs": [],
   "source": [
    "Pa_DRN = [\n",
    "    r'C:\\OD\\WS_Mdl\\models\\NBr\\Sim\\NBr18\\GWF_1\\MODELINPUT\\DRN6\\SYS1\\DRN_T1.ARR',\n",
    "    r'C:\\OD\\WS_Mdl\\models\\NBr\\Sim\\NBr18\\GWF_1\\MODELINPUT\\DRN6\\SYS3\\DRN_T1.ARR',\n",
    "]"
   ]
  },
  {
   "cell_type": "markdown",
   "id": "5c1e1c72",
   "metadata": {},
   "source": [
    "# 2. Load Stuff"
   ]
  },
  {
   "cell_type": "markdown",
   "id": "ec884d85",
   "metadata": {},
   "source": [
    "## 2.0. Read PRJ"
   ]
  },
  {
   "cell_type": "code",
   "execution_count": 58,
   "id": "08ac490a",
   "metadata": {},
   "outputs": [],
   "source": [
    "U.set_verbose(False)"
   ]
  },
  {
   "cell_type": "code",
   "execution_count": 59,
   "id": "1857ed69",
   "metadata": {},
   "outputs": [
    {
     "data": {
      "application/vnd.microsoft.datawrangler.viewer.v0+json": {
       "columns": [
        {
         "name": "index",
         "rawType": "object",
         "type": "string"
        },
        {
         "name": "package",
         "rawType": "object",
         "type": "string"
        },
        {
         "name": "parameter",
         "rawType": "object",
         "type": "string"
        },
        {
         "name": "MdlN",
         "rawType": "object",
         "type": "unknown"
        },
        {
         "name": "time",
         "rawType": "object",
         "type": "unknown"
        },
        {
         "name": "active",
         "rawType": "object",
         "type": "unknown"
        },
        {
         "name": "is_constant",
         "rawType": "object",
         "type": "unknown"
        },
        {
         "name": "layer",
         "rawType": "object",
         "type": "unknown"
        },
        {
         "name": "factor",
         "rawType": "object",
         "type": "unknown"
        },
        {
         "name": "addition",
         "rawType": "object",
         "type": "unknown"
        },
        {
         "name": "constant",
         "rawType": "object",
         "type": "unknown"
        },
        {
         "name": "suffix",
         "rawType": "object",
         "type": "string"
        },
        {
         "name": "path",
         "rawType": "string",
         "type": "string"
        }
       ],
       "ref": "85aecb46-453c-4439-b4a2-6e6880e7daeb",
       "rows": [
        [
         "(CAP)_boundary",
         "CAP",
         "boundary",
         "NBr1",
         null,
         "True",
         "2",
         "1",
         "1.0",
         "0.0",
         "-9999.0",
         ".idf",
         "C:/OD/WS_Mdl\\models\\NBr\\In\\BND\\BND_L1_NBr1.IDF"
        ],
        [
         "(CAP)_landuse",
         "CAP",
         "landuse",
         "NBr1",
         null,
         "True",
         "2",
         "1",
         "1.0",
         "0.0",
         "1e+20",
         ".idf",
         "C:/OD/WS_Mdl\\models\\NBr\\In\\CAP\\LGN\\LGN_NBr1.idf"
        ],
        [
         "(CAP)_rootzone_thickness",
         "CAP",
         "rootzone_thickness",
         "NBr1",
         null,
         "True",
         "2",
         "1",
         "1.0",
         "0.0",
         "1e+20",
         ".idf",
         "C:/OD/WS_Mdl\\models\\NBr\\In\\CAP\\RZN\\RZN_NBr1.idf"
        ],
        [
         "(CAP)_soil_physical_unit",
         "CAP",
         "soil_physical_unit",
         "NBr1",
         null,
         "True",
         "2",
         "1",
         "1.0",
         "0.0",
         "1e+20",
         ".idf",
         "C:/OD/WS_Mdl\\models\\NBr\\In\\CAP\\SFU\\SFU_NBr1.idf"
        ],
        [
         "(CAP)_meteo_station_number",
         "CAP",
         "meteo_station_number",
         "NBr1",
         null,
         "True",
         "2",
         "1",
         "1.0",
         "0.0",
         "-9999.0",
         ".idf",
         "C:/OD/WS_Mdl\\models\\NBr\\In\\BND\\BND_L1_NBr1.IDF"
        ],
        [
         "(CAP)_surface_elevation",
         "CAP",
         "surface_elevation",
         "NBr1",
         null,
         "True",
         "2",
         "1",
         "1.0",
         "0.0",
         "-9999.0",
         ".idf",
         "C:/OD/WS_Mdl\\models\\NBr\\In\\CAP\\SEV\\SEV_NBr1.IDF"
        ],
        [
         "(CAP)_artificial_recharge",
         "CAP",
         "artificial_recharge",
         "NBr1",
         null,
         "True",
         "2",
         "1",
         "1.0",
         "0.0",
         "1e+20",
         ".idf",
         "C:/OD/WS_Mdl\\models\\NBr\\In\\CAP\\ART\\ART_NBr1.idf"
        ],
        [
         "(CAP)_artificial_recharge_layer",
         "CAP",
         "artificial_recharge_layer",
         "NBr1",
         null,
         "True",
         "2",
         "1",
         "1.0",
         "0.0",
         "1e+20",
         ".idf",
         "C:/OD/WS_Mdl\\models\\NBr\\In\\CAP\\ARL\\ARL_NBr1.idf"
        ],
        [
         "(CAP)_artificial_recharge_capacity",
         "CAP",
         "artificial_recharge_capacity",
         null,
         null,
         "True",
         "1",
         "1",
         "1.0",
         "0.0",
         "25.0",
         "-",
         null
        ],
        [
         "(CAP)_wetted_area",
         "CAP",
         "wetted_area",
         "NBr1",
         null,
         "True",
         "2",
         "1",
         "1.0",
         "0.0",
         "1e+20",
         ".idf",
         "C:/OD/WS_Mdl\\models\\NBr\\In\\CAP\\WTA\\WTA_NBr1.idf"
        ],
        [
         "(CAP)_urban_area",
         "CAP",
         "urban_area",
         "NBr1",
         null,
         "True",
         "2",
         "1",
         "1.0",
         "0.0",
         "1e+20",
         ".idf",
         "C:/OD/WS_Mdl\\models\\NBr\\In\\CAP\\UBA\\UBA_NBr1.idf"
        ],
        [
         "(CAP)_urban_ponding_depth",
         "CAP",
         "urban_ponding_depth",
         null,
         null,
         "True",
         "1",
         "1",
         "1.0",
         "0.0",
         "0.002",
         "-",
         null
        ],
        [
         "(CAP)_rural_ponding_depth",
         "CAP",
         "rural_ponding_depth",
         null,
         null,
         "True",
         "1",
         "1",
         "1.0",
         "0.0",
         "0.002",
         "-",
         null
        ],
        [
         "(CAP)_urban_runoff_resistance",
         "CAP",
         "urban_runoff_resistance",
         null,
         null,
         "True",
         "1",
         "1",
         "1.0",
         "0.0",
         "1.0",
         "-",
         null
        ],
        [
         "(CAP)_rural_runoff_resistance",
         "CAP",
         "rural_runoff_resistance",
         null,
         null,
         "True",
         "1",
         "1",
         "1.0",
         "0.0",
         "1.0",
         "-",
         null
        ],
        [
         "(CAP)_urban_runon_resistance",
         "CAP",
         "urban_runon_resistance",
         null,
         null,
         "True",
         "1",
         "1",
         "1.0",
         "0.0",
         "1.0",
         "-",
         null
        ],
        [
         "(CAP)_rural_runon_resistance",
         "CAP",
         "rural_runon_resistance",
         null,
         null,
         "True",
         "1",
         "1",
         "1.0",
         "0.0",
         "1.0",
         "-",
         null
        ],
        [
         "(CAP)_urban_infiltration_capacity",
         "CAP",
         "urban_infiltration_capacity",
         null,
         null,
         "True",
         "1",
         "1",
         "1.0",
         "0.0",
         "0.0",
         "-",
         null
        ],
        [
         "(CAP)_rural_infiltration_capacity",
         "CAP",
         "rural_infiltration_capacity",
         null,
         null,
         "True",
         "1",
         "1",
         "1.0",
         "0.0",
         "1.05",
         "-",
         null
        ],
        [
         "(CAP)_perched_water_table_level",
         "CAP",
         "perched_water_table_level",
         null,
         null,
         "True",
         "1",
         "1",
         "1.0",
         "0.0",
         "-9999.0",
         "-",
         null
        ],
        [
         "(CAP)_soil_moisture_fraction",
         "CAP",
         "soil_moisture_fraction",
         null,
         null,
         "True",
         "1",
         "1",
         "1.0",
         "0.0",
         "1.0",
         "-",
         null
        ],
        [
         "(CAP)_conductivitiy_factor",
         "CAP",
         "conductivitiy_factor",
         null,
         null,
         "True",
         "1",
         "1",
         "1.0",
         "0.0",
         "1.0",
         "-",
         null
        ],
        [
         "EXTRA",
         "-",
         "-",
         "-",
         "-",
         "Failed to read package",
         "-",
         "-",
         "-",
         "-",
         "-",
         "-",
         "-"
        ],
        [
         "(BND)_ibound_Sys1",
         "BND",
         "ibound",
         "NBr1",
         null,
         "True",
         "2",
         "1",
         "1.0",
         "0.0",
         "-999.99",
         ".idf",
         "C:/OD/WS_Mdl\\models\\NBr\\In\\BND\\BND_L1_NBr1.IDF"
        ],
        [
         "(BND)_ibound_Sys2",
         "BND",
         "ibound",
         "NBr1",
         null,
         "True",
         "2",
         "2",
         "1.0",
         "0.0",
         "-999.99",
         ".idf",
         "C:/OD/WS_Mdl\\models\\NBr\\In\\BND\\BND_L1_NBr1.IDF"
        ],
        [
         "(BND)_ibound_Sys3",
         "BND",
         "ibound",
         "NBr1",
         null,
         "True",
         "2",
         "3",
         "1.0",
         "0.0",
         "-999.99",
         ".idf",
         "C:/OD/WS_Mdl\\models\\NBr\\In\\BND\\BND_L1_NBr1.IDF"
        ],
        [
         "(BND)_ibound_Sys4",
         "BND",
         "ibound",
         "NBr1",
         null,
         "True",
         "2",
         "4",
         "1.0",
         "0.0",
         "-999.99",
         ".idf",
         "C:/OD/WS_Mdl\\models\\NBr\\In\\BND\\BND_L1_NBr1.IDF"
        ],
        [
         "(BND)_ibound_Sys5",
         "BND",
         "ibound",
         "NBr1",
         null,
         "True",
         "2",
         "5",
         "1.0",
         "0.0",
         "-999.99",
         ".idf",
         "C:/OD/WS_Mdl\\models\\NBr\\In\\BND\\BND_L1_NBr1.IDF"
        ],
        [
         "(BND)_ibound_Sys6",
         "BND",
         "ibound",
         "NBr1",
         null,
         "True",
         "2",
         "6",
         "1.0",
         "0.0",
         "-999.99",
         ".idf",
         "C:/OD/WS_Mdl\\models\\NBr\\In\\BND\\BND_L1_NBr1.IDF"
        ],
        [
         "(BND)_ibound_Sys7",
         "BND",
         "ibound",
         "NBr1",
         null,
         "True",
         "2",
         "7",
         "1.0",
         "0.0",
         "-999.99",
         ".idf",
         "C:/OD/WS_Mdl\\models\\NBr\\In\\BND\\BND_L1_NBr1.IDF"
        ],
        [
         "(BND)_ibound_Sys8",
         "BND",
         "ibound",
         "NBr1",
         null,
         "True",
         "2",
         "8",
         "1.0",
         "0.0",
         "-999.99",
         ".idf",
         "C:/OD/WS_Mdl\\models\\NBr\\In\\BND\\BND_L1_NBr1.IDF"
        ],
        [
         "(BND)_ibound_Sys9",
         "BND",
         "ibound",
         "NBr1",
         null,
         "True",
         "2",
         "9",
         "1.0",
         "0.0",
         "-999.99",
         ".idf",
         "C:/OD/WS_Mdl\\models\\NBr\\In\\BND\\BND_L1_NBr1.IDF"
        ],
        [
         "(BND)_ibound_Sys10",
         "BND",
         "ibound",
         "NBr1",
         null,
         "True",
         "2",
         "10",
         "1.0",
         "0.0",
         "-999.99",
         ".idf",
         "C:/OD/WS_Mdl\\models\\NBr\\In\\BND\\BND_L1_NBr1.IDF"
        ],
        [
         "(BND)_ibound_Sys11",
         "BND",
         "ibound",
         "NBr1",
         null,
         "True",
         "2",
         "11",
         "1.0",
         "0.0",
         "-999.99",
         ".idf",
         "C:/OD/WS_Mdl\\models\\NBr\\In\\BND\\BND_L1_NBr1.IDF"
        ],
        [
         "(BND)_ibound_Sys12",
         "BND",
         "ibound",
         "NBr1",
         null,
         "True",
         "2",
         "12",
         "1.0",
         "0.0",
         "-999.99",
         ".idf",
         "C:/OD/WS_Mdl\\models\\NBr\\In\\BND\\BND_L1_NBr1.IDF"
        ],
        [
         "(BND)_ibound_Sys13",
         "BND",
         "ibound",
         "NBr1",
         null,
         "True",
         "2",
         "13",
         "1.0",
         "0.0",
         "-999.99",
         ".idf",
         "C:/OD/WS_Mdl\\models\\NBr\\In\\BND\\BND_L1_NBr1.IDF"
        ],
        [
         "(BND)_ibound_Sys14",
         "BND",
         "ibound",
         "NBr1",
         null,
         "True",
         "2",
         "14",
         "1.0",
         "0.0",
         "-999.99",
         ".idf",
         "C:/OD/WS_Mdl\\models\\NBr\\In\\BND\\BND_L1_NBr1.IDF"
        ],
        [
         "(BND)_ibound_Sys15",
         "BND",
         "ibound",
         "NBr1",
         null,
         "True",
         "2",
         "15",
         "1.0",
         "0.0",
         "-999.99",
         ".idf",
         "C:/OD/WS_Mdl\\models\\NBr\\In\\BND\\BND_L1_NBr1.IDF"
        ],
        [
         "(BND)_ibound_Sys16",
         "BND",
         "ibound",
         "NBr1",
         null,
         "True",
         "2",
         "16",
         "1.0",
         "0.0",
         "-999.99",
         ".idf",
         "C:/OD/WS_Mdl\\models\\NBr\\In\\BND\\BND_L1_NBr1.IDF"
        ],
        [
         "(BND)_ibound_Sys17",
         "BND",
         "ibound",
         "NBr1",
         null,
         "True",
         "2",
         "17",
         "1.0",
         "0.0",
         "-999.99",
         ".idf",
         "C:/OD/WS_Mdl\\models\\NBr\\In\\BND\\BND_L1_NBr1.IDF"
        ],
        [
         "(BND)_ibound_Sys18",
         "BND",
         "ibound",
         "NBr1",
         null,
         "True",
         "2",
         "18",
         "1.0",
         "0.0",
         "-999.99",
         ".idf",
         "C:/OD/WS_Mdl\\models\\NBr\\In\\BND\\BND_L1_NBr1.IDF"
        ],
        [
         "(BND)_ibound_Sys19",
         "BND",
         "ibound",
         "NBr1",
         null,
         "True",
         "2",
         "19",
         "1.0",
         "0.0",
         "-999.99",
         ".idf",
         "C:/OD/WS_Mdl\\models\\NBr\\In\\BND\\BND_L1_NBr1.IDF"
        ],
        [
         "(BND)_ibound_Sys20",
         "BND",
         "ibound",
         "NBr1",
         null,
         "True",
         "2",
         "20",
         "1.0",
         "0.0",
         "-999.99",
         ".idf",
         "C:/OD/WS_Mdl\\models\\NBr\\In\\BND\\BND_L1_NBr1.IDF"
        ],
        [
         "(BND)_ibound_Sys21",
         "BND",
         "ibound",
         "NBr1",
         null,
         "True",
         "2",
         "21",
         "1.0",
         "0.0",
         "-999.99",
         ".idf",
         "C:/OD/WS_Mdl\\models\\NBr\\In\\BND\\BND_L1_NBr1.IDF"
        ],
        [
         "(BND)_ibound_Sys22",
         "BND",
         "ibound",
         "NBr1",
         null,
         "True",
         "2",
         "22",
         "1.0",
         "0.0",
         "-999.99",
         ".idf",
         "C:/OD/WS_Mdl\\models\\NBr\\In\\BND\\BND_L1_NBr1.IDF"
        ],
        [
         "(BND)_ibound_Sys23",
         "BND",
         "ibound",
         "NBr1",
         null,
         "True",
         "2",
         "23",
         "1.0",
         "0.0",
         "-999.99",
         ".idf",
         "C:/OD/WS_Mdl\\models\\NBr\\In\\BND\\BND_L1_NBr1.IDF"
        ],
        [
         "(BND)_ibound_Sys24",
         "BND",
         "ibound",
         "NBr1",
         null,
         "True",
         "2",
         "24",
         "1.0",
         "0.0",
         "-999.99",
         ".idf",
         "C:/OD/WS_Mdl\\models\\NBr\\In\\BND\\BND_L1_NBr1.IDF"
        ],
        [
         "(BND)_ibound_Sys25",
         "BND",
         "ibound",
         "NBr1",
         null,
         "True",
         "2",
         "25",
         "1.0",
         "0.0",
         "-999.99",
         ".idf",
         "C:/OD/WS_Mdl\\models\\NBr\\In\\BND\\BND_L1_NBr1.IDF"
        ],
        [
         "(BND)_ibound_Sys26",
         "BND",
         "ibound",
         "NBr1",
         null,
         "True",
         "2",
         "26",
         "1.0",
         "0.0",
         "-999.99",
         ".idf",
         "C:/OD/WS_Mdl\\models\\NBr\\In\\BND\\BND_L1_NBr1.IDF"
        ],
        [
         "(BND)_ibound_Sys27",
         "BND",
         "ibound",
         "NBr1",
         null,
         "True",
         "2",
         "27",
         "1.0",
         "0.0",
         "-999.99",
         ".idf",
         "C:/OD/WS_Mdl\\models\\NBr\\In\\BND\\BND_L1_NBr1.IDF"
        ]
       ],
       "shape": {
        "columns": 12,
        "rows": 2561
       }
      },
      "text/html": [
       "<div>\n",
       "<style scoped>\n",
       "    .dataframe tbody tr th:only-of-type {\n",
       "        vertical-align: middle;\n",
       "    }\n",
       "\n",
       "    .dataframe tbody tr th {\n",
       "        vertical-align: top;\n",
       "    }\n",
       "\n",
       "    .dataframe thead th {\n",
       "        text-align: right;\n",
       "    }\n",
       "</style>\n",
       "<table border=\"1\" class=\"dataframe\">\n",
       "  <thead>\n",
       "    <tr style=\"text-align: right;\">\n",
       "      <th></th>\n",
       "      <th>package</th>\n",
       "      <th>parameter</th>\n",
       "      <th>MdlN</th>\n",
       "      <th>time</th>\n",
       "      <th>active</th>\n",
       "      <th>is_constant</th>\n",
       "      <th>layer</th>\n",
       "      <th>factor</th>\n",
       "      <th>addition</th>\n",
       "      <th>constant</th>\n",
       "      <th>suffix</th>\n",
       "      <th>path</th>\n",
       "    </tr>\n",
       "  </thead>\n",
       "  <tbody>\n",
       "    <tr>\n",
       "      <th>(CAP)_boundary</th>\n",
       "      <td>CAP</td>\n",
       "      <td>boundary</td>\n",
       "      <td>NBr1</td>\n",
       "      <td>NaN</td>\n",
       "      <td>True</td>\n",
       "      <td>2</td>\n",
       "      <td>1</td>\n",
       "      <td>1.0</td>\n",
       "      <td>0.0</td>\n",
       "      <td>-9999.0</td>\n",
       "      <td>.idf</td>\n",
       "      <td>C:/OD/WS_Mdl\\models\\NBr\\In\\BND\\BND_L1_NBr1.IDF</td>\n",
       "    </tr>\n",
       "    <tr>\n",
       "      <th>(CAP)_landuse</th>\n",
       "      <td>CAP</td>\n",
       "      <td>landuse</td>\n",
       "      <td>NBr1</td>\n",
       "      <td>NaN</td>\n",
       "      <td>True</td>\n",
       "      <td>2</td>\n",
       "      <td>1</td>\n",
       "      <td>1.0</td>\n",
       "      <td>0.0</td>\n",
       "      <td>100000000000000000000.0</td>\n",
       "      <td>.idf</td>\n",
       "      <td>C:/OD/WS_Mdl\\models\\NBr\\In\\CAP\\LGN\\LGN_NBr1.idf</td>\n",
       "    </tr>\n",
       "    <tr>\n",
       "      <th>(CAP)_rootzone_thickness</th>\n",
       "      <td>CAP</td>\n",
       "      <td>rootzone_thickness</td>\n",
       "      <td>NBr1</td>\n",
       "      <td>NaN</td>\n",
       "      <td>True</td>\n",
       "      <td>2</td>\n",
       "      <td>1</td>\n",
       "      <td>1.0</td>\n",
       "      <td>0.0</td>\n",
       "      <td>100000000000000000000.0</td>\n",
       "      <td>.idf</td>\n",
       "      <td>C:/OD/WS_Mdl\\models\\NBr\\In\\CAP\\RZN\\RZN_NBr1.idf</td>\n",
       "    </tr>\n",
       "    <tr>\n",
       "      <th>(CAP)_soil_physical_unit</th>\n",
       "      <td>CAP</td>\n",
       "      <td>soil_physical_unit</td>\n",
       "      <td>NBr1</td>\n",
       "      <td>NaN</td>\n",
       "      <td>True</td>\n",
       "      <td>2</td>\n",
       "      <td>1</td>\n",
       "      <td>1.0</td>\n",
       "      <td>0.0</td>\n",
       "      <td>100000000000000000000.0</td>\n",
       "      <td>.idf</td>\n",
       "      <td>C:/OD/WS_Mdl\\models\\NBr\\In\\CAP\\SFU\\SFU_NBr1.idf</td>\n",
       "    </tr>\n",
       "    <tr>\n",
       "      <th>(CAP)_meteo_station_number</th>\n",
       "      <td>CAP</td>\n",
       "      <td>meteo_station_number</td>\n",
       "      <td>NBr1</td>\n",
       "      <td>NaN</td>\n",
       "      <td>True</td>\n",
       "      <td>2</td>\n",
       "      <td>1</td>\n",
       "      <td>1.0</td>\n",
       "      <td>0.0</td>\n",
       "      <td>-9999.0</td>\n",
       "      <td>.idf</td>\n",
       "      <td>C:/OD/WS_Mdl\\models\\NBr\\In\\BND\\BND_L1_NBr1.IDF</td>\n",
       "    </tr>\n",
       "    <tr>\n",
       "      <th>...</th>\n",
       "      <td>...</td>\n",
       "      <td>...</td>\n",
       "      <td>...</td>\n",
       "      <td>...</td>\n",
       "      <td>...</td>\n",
       "      <td>...</td>\n",
       "      <td>...</td>\n",
       "      <td>...</td>\n",
       "      <td>...</td>\n",
       "      <td>...</td>\n",
       "      <td>...</td>\n",
       "      <td>...</td>\n",
       "    </tr>\n",
       "    <tr>\n",
       "      <th>(CHD)_head_Sys17_2018-12-14 00:00:00</th>\n",
       "      <td>CHD</td>\n",
       "      <td>head</td>\n",
       "      <td>NBr5</td>\n",
       "      <td>2018-12-14 00:00:00</td>\n",
       "      <td>True</td>\n",
       "      <td>2</td>\n",
       "      <td>33</td>\n",
       "      <td>1.0</td>\n",
       "      <td>0.0</td>\n",
       "      <td>-999.99</td>\n",
       "      <td>.idf</td>\n",
       "      <td>C:/OD/WS_Mdl\\models\\NBr\\In\\CHD\\NBr5\\head_20181...</td>\n",
       "    </tr>\n",
       "    <tr>\n",
       "      <th>(CHD)_head_Sys18_2018-12-14 00:00:00</th>\n",
       "      <td>CHD</td>\n",
       "      <td>head</td>\n",
       "      <td>NBr5</td>\n",
       "      <td>2018-12-14 00:00:00</td>\n",
       "      <td>True</td>\n",
       "      <td>2</td>\n",
       "      <td>35</td>\n",
       "      <td>1.0</td>\n",
       "      <td>0.0</td>\n",
       "      <td>-999.99</td>\n",
       "      <td>.idf</td>\n",
       "      <td>C:/OD/WS_Mdl\\models\\NBr\\In\\CHD\\NBr5\\head_20181...</td>\n",
       "    </tr>\n",
       "    <tr>\n",
       "      <th>(CHD)_head_Sys19_2018-12-14 00:00:00</th>\n",
       "      <td>CHD</td>\n",
       "      <td>head</td>\n",
       "      <td>NBr5</td>\n",
       "      <td>2018-12-14 00:00:00</td>\n",
       "      <td>True</td>\n",
       "      <td>2</td>\n",
       "      <td>37</td>\n",
       "      <td>1.0</td>\n",
       "      <td>0.0</td>\n",
       "      <td>-999.99</td>\n",
       "      <td>.idf</td>\n",
       "      <td>C:/OD/WS_Mdl\\models\\NBr\\In\\CHD\\NBr5\\head_20181...</td>\n",
       "    </tr>\n",
       "    <tr>\n",
       "      <th>PERIODS</th>\n",
       "      <td>-</td>\n",
       "      <td>-</td>\n",
       "      <td>-</td>\n",
       "      <td>-</td>\n",
       "      <td>Failed to read package</td>\n",
       "      <td>-</td>\n",
       "      <td>-</td>\n",
       "      <td>-</td>\n",
       "      <td>-</td>\n",
       "      <td>-</td>\n",
       "      <td>-</td>\n",
       "      <td>-</td>\n",
       "    </tr>\n",
       "    <tr>\n",
       "      <th>SPECIES</th>\n",
       "      <td>-</td>\n",
       "      <td>-</td>\n",
       "      <td>-</td>\n",
       "      <td>-</td>\n",
       "      <td>Failed to read package</td>\n",
       "      <td>-</td>\n",
       "      <td>-</td>\n",
       "      <td>-</td>\n",
       "      <td>-</td>\n",
       "      <td>-</td>\n",
       "      <td>-</td>\n",
       "      <td>-</td>\n",
       "    </tr>\n",
       "  </tbody>\n",
       "</table>\n",
       "<p>2561 rows × 12 columns</p>\n",
       "</div>"
      ],
      "text/plain": [
       "                                     package             parameter  MdlN  \\\n",
       "(CAP)_boundary                           CAP              boundary  NBr1   \n",
       "(CAP)_landuse                            CAP               landuse  NBr1   \n",
       "(CAP)_rootzone_thickness                 CAP    rootzone_thickness  NBr1   \n",
       "(CAP)_soil_physical_unit                 CAP    soil_physical_unit  NBr1   \n",
       "(CAP)_meteo_station_number               CAP  meteo_station_number  NBr1   \n",
       "...                                      ...                   ...   ...   \n",
       "(CHD)_head_Sys17_2018-12-14 00:00:00     CHD                  head  NBr5   \n",
       "(CHD)_head_Sys18_2018-12-14 00:00:00     CHD                  head  NBr5   \n",
       "(CHD)_head_Sys19_2018-12-14 00:00:00     CHD                  head  NBr5   \n",
       "PERIODS                                    -                     -     -   \n",
       "SPECIES                                    -                     -     -   \n",
       "\n",
       "                                                     time  \\\n",
       "(CAP)_boundary                                        NaN   \n",
       "(CAP)_landuse                                         NaN   \n",
       "(CAP)_rootzone_thickness                              NaN   \n",
       "(CAP)_soil_physical_unit                              NaN   \n",
       "(CAP)_meteo_station_number                            NaN   \n",
       "...                                                   ...   \n",
       "(CHD)_head_Sys17_2018-12-14 00:00:00  2018-12-14 00:00:00   \n",
       "(CHD)_head_Sys18_2018-12-14 00:00:00  2018-12-14 00:00:00   \n",
       "(CHD)_head_Sys19_2018-12-14 00:00:00  2018-12-14 00:00:00   \n",
       "PERIODS                                                 -   \n",
       "SPECIES                                                 -   \n",
       "\n",
       "                                                      active is_constant  \\\n",
       "(CAP)_boundary                                          True           2   \n",
       "(CAP)_landuse                                           True           2   \n",
       "(CAP)_rootzone_thickness                                True           2   \n",
       "(CAP)_soil_physical_unit                                True           2   \n",
       "(CAP)_meteo_station_number                              True           2   \n",
       "...                                                      ...         ...   \n",
       "(CHD)_head_Sys17_2018-12-14 00:00:00                    True           2   \n",
       "(CHD)_head_Sys18_2018-12-14 00:00:00                    True           2   \n",
       "(CHD)_head_Sys19_2018-12-14 00:00:00                    True           2   \n",
       "PERIODS                               Failed to read package           -   \n",
       "SPECIES                               Failed to read package           -   \n",
       "\n",
       "                                     layer factor addition  \\\n",
       "(CAP)_boundary                           1    1.0      0.0   \n",
       "(CAP)_landuse                            1    1.0      0.0   \n",
       "(CAP)_rootzone_thickness                 1    1.0      0.0   \n",
       "(CAP)_soil_physical_unit                 1    1.0      0.0   \n",
       "(CAP)_meteo_station_number               1    1.0      0.0   \n",
       "...                                    ...    ...      ...   \n",
       "(CHD)_head_Sys17_2018-12-14 00:00:00    33    1.0      0.0   \n",
       "(CHD)_head_Sys18_2018-12-14 00:00:00    35    1.0      0.0   \n",
       "(CHD)_head_Sys19_2018-12-14 00:00:00    37    1.0      0.0   \n",
       "PERIODS                                  -      -        -   \n",
       "SPECIES                                  -      -        -   \n",
       "\n",
       "                                                     constant suffix  \\\n",
       "(CAP)_boundary                                        -9999.0   .idf   \n",
       "(CAP)_landuse                         100000000000000000000.0   .idf   \n",
       "(CAP)_rootzone_thickness              100000000000000000000.0   .idf   \n",
       "(CAP)_soil_physical_unit              100000000000000000000.0   .idf   \n",
       "(CAP)_meteo_station_number                            -9999.0   .idf   \n",
       "...                                                       ...    ...   \n",
       "(CHD)_head_Sys17_2018-12-14 00:00:00                  -999.99   .idf   \n",
       "(CHD)_head_Sys18_2018-12-14 00:00:00                  -999.99   .idf   \n",
       "(CHD)_head_Sys19_2018-12-14 00:00:00                  -999.99   .idf   \n",
       "PERIODS                                                     -      -   \n",
       "SPECIES                                                     -      -   \n",
       "\n",
       "                                                                                   path  \n",
       "(CAP)_boundary                           C:/OD/WS_Mdl\\models\\NBr\\In\\BND\\BND_L1_NBr1.IDF  \n",
       "(CAP)_landuse                           C:/OD/WS_Mdl\\models\\NBr\\In\\CAP\\LGN\\LGN_NBr1.idf  \n",
       "(CAP)_rootzone_thickness                C:/OD/WS_Mdl\\models\\NBr\\In\\CAP\\RZN\\RZN_NBr1.idf  \n",
       "(CAP)_soil_physical_unit                C:/OD/WS_Mdl\\models\\NBr\\In\\CAP\\SFU\\SFU_NBr1.idf  \n",
       "(CAP)_meteo_station_number               C:/OD/WS_Mdl\\models\\NBr\\In\\BND\\BND_L1_NBr1.IDF  \n",
       "...                                                                                 ...  \n",
       "(CHD)_head_Sys17_2018-12-14 00:00:00  C:/OD/WS_Mdl\\models\\NBr\\In\\CHD\\NBr5\\head_20181...  \n",
       "(CHD)_head_Sys18_2018-12-14 00:00:00  C:/OD/WS_Mdl\\models\\NBr\\In\\CHD\\NBr5\\head_20181...  \n",
       "(CHD)_head_Sys19_2018-12-14 00:00:00  C:/OD/WS_Mdl\\models\\NBr\\In\\CHD\\NBr5\\head_20181...  \n",
       "PERIODS                                                                               -  \n",
       "SPECIES                                                                               -  \n",
       "\n",
       "[2561 rows x 12 columns]"
      ]
     },
     "execution_count": 59,
     "metadata": {},
     "output_type": "execute_result"
    }
   ],
   "source": [
    "DF_full = UIM.PRJ_to_DF(MdlN)\n",
    "DF_full"
   ]
  },
  {
   "cell_type": "markdown",
   "id": "16c53ef0",
   "metadata": {},
   "source": [
    "## 2.1. SFR active"
   ]
  },
  {
   "cell_type": "code",
   "execution_count": 60,
   "id": "ef0596d1",
   "metadata": {},
   "outputs": [
    {
     "data": {
      "text/plain": [
       "<matplotlib.collections.QuadMesh at 0x22761c71820>"
      ]
     },
     "execution_count": 60,
     "metadata": {},
     "output_type": "execute_result"
    },
    {
     "data": {
      "image/png": "[encoded data removed]",
      "text/plain": [
       "<Figure size 640x480 with 2 Axes>"
      ]
     },
     "metadata": {},
     "output_type": "display_data"
    }
   ],
   "source": [
    "A_SFR_Atv = imod.formats.idf.open(Pa_SFR_Atv).sel(\n",
    "    x=slice(Xmin, Xmax), y=slice(Ymax, Ymin)\n",
    ")  # 666 To be replaced with proper active SFR array from SFR file.\n",
    "A_SFR_Atv.plot()"
   ]
  },
  {
   "cell_type": "markdown",
   "id": "b124e1d7",
   "metadata": {},
   "source": [
    "## 2.2. DRNs"
   ]
  },
  {
   "cell_type": "code",
   "execution_count": 61,
   "id": "70c863f7",
   "metadata": {},
   "outputs": [
    {
     "data": {
      "application/vnd.microsoft.datawrangler.viewer.v0+json": {
       "columns": [
        {
         "name": "index",
         "rawType": "object",
         "type": "string"
        },
        {
         "name": "package",
         "rawType": "object",
         "type": "string"
        },
        {
         "name": "parameter",
         "rawType": "object",
         "type": "string"
        },
        {
         "name": "MdlN",
         "rawType": "object",
         "type": "string"
        },
        {
         "name": "time",
         "rawType": "object",
         "type": "string"
        },
        {
         "name": "active",
         "rawType": "object",
         "type": "unknown"
        },
        {
         "name": "is_constant",
         "rawType": "object",
         "type": "unknown"
        },
        {
         "name": "layer",
         "rawType": "object",
         "type": "unknown"
        },
        {
         "name": "factor",
         "rawType": "object",
         "type": "unknown"
        },
        {
         "name": "addition",
         "rawType": "object",
         "type": "unknown"
        },
        {
         "name": "constant",
         "rawType": "object",
         "type": "unknown"
        },
        {
         "name": "suffix",
         "rawType": "object",
         "type": "string"
        },
        {
         "name": "path",
         "rawType": "string",
         "type": "string"
        }
       ],
       "ref": "35b5029d-621c-418b-8aef-e48ebfbb8f66",
       "rows": [
        [
         "(DRN)_conductance_Sys1_steady-state",
         "DRN",
         "conductance",
         "NBr1",
         "steady-state",
         "True",
         "2",
         "1",
         "1.0",
         "0.0",
         "-999.99",
         ".idf",
         "C:/OD/WS_Mdl\\models\\NBr\\In\\DRN\\DRN_Cond_buis_NBr1.IDF"
        ],
        [
         "(DRN)_conductance_Sys2_steady-state",
         "DRN",
         "conductance",
         "NBr1",
         "steady-state",
         "True",
         "2",
         "1",
         "1.0",
         "0.0",
         "-999.99",
         ".idf",
         "C:/OD/WS_Mdl\\models\\NBr\\In\\DRN\\DRN_Cond_MV_25M_MODEL_NBr1.IDF"
        ],
        [
         "(DRN)_conductance_Sys3_steady-state",
         "DRN",
         "conductance",
         "NBr1",
         "steady-state",
         "True",
         "2",
         "1",
         "1.0",
         "0.0",
         "-999.99",
         ".idf",
         "C:/OD/WS_Mdl\\models\\NBr\\In\\DRN\\DRN_Cond_ONTWATERING_BELGIE_NBr1.IDF"
        ],
        [
         "(DRN)_conductance_Sys1_2010-01-01 00:00:00",
         "DRN",
         "conductance",
         "NBr1",
         "2010-01-01 00:00:00",
         "True",
         "2",
         "1",
         "1.0",
         "0.0",
         "-999.99",
         ".idf",
         "C:/OD/WS_Mdl\\models\\NBr\\In\\DRN\\DRN_Cond_buis_NBr1.IDF"
        ],
        [
         "(DRN)_conductance_Sys2_2010-01-01 00:00:00",
         "DRN",
         "conductance",
         "NBr1",
         "2010-01-01 00:00:00",
         "True",
         "2",
         "1",
         "1.0",
         "0.0",
         "-999.99",
         ".idf",
         "C:/OD/WS_Mdl\\models\\NBr\\In\\DRN\\DRN_Cond_MV_25M_MODEL_NBr1.IDF"
        ],
        [
         "(DRN)_conductance_Sys3_2010-01-01 00:00:00",
         "DRN",
         "conductance",
         "NBr1",
         "2010-01-01 00:00:00",
         "True",
         "2",
         "1",
         "1.0",
         "0.0",
         "-999.99",
         ".idf",
         "C:/OD/WS_Mdl\\models\\NBr\\In\\DRN\\DRN_Cond_ONTWATERING_BELGIE_NBr1.IDF"
        ],
        [
         "(DRN)_elevation_Sys1_steady-state",
         "DRN",
         "elevation",
         "NBr1",
         "steady-state",
         "True",
         "2",
         "1",
         "1.0",
         "0.0",
         "-999.99",
         ".idf",
         "C:/OD/WS_Mdl\\models\\NBr\\In\\DRN\\DRN_Elv_buis_NBr1.IDF"
        ],
        [
         "(DRN)_elevation_Sys2_steady-state",
         "DRN",
         "elevation",
         "NBr1",
         "steady-state",
         "True",
         "2",
         "1",
         "1.0",
         "0.0",
         "-999.99",
         ".idf",
         "C:/OD/WS_Mdl\\models\\NBr\\In\\DRN\\DRN_Elv_MV_25M_NBr1.IDF"
        ],
        [
         "(DRN)_elevation_Sys3_steady-state",
         "DRN",
         "elevation",
         "NBr1",
         "steady-state",
         "True",
         "2",
         "1",
         "1.0",
         "0.0",
         "-999.99",
         ".idf",
         "C:/OD/WS_Mdl\\models\\NBr\\In\\DRN\\DRN_Elv_BELGIE_NBr1.IDF"
        ],
        [
         "(DRN)_elevation_Sys1_2010-01-01 00:00:00",
         "DRN",
         "elevation",
         "NBr1",
         "2010-01-01 00:00:00",
         "True",
         "2",
         "1",
         "1.0",
         "0.0",
         "-999.99",
         ".idf",
         "C:/OD/WS_Mdl\\models\\NBr\\In\\DRN\\DRN_Elv_buis_NBr1.IDF"
        ],
        [
         "(DRN)_elevation_Sys2_2010-01-01 00:00:00",
         "DRN",
         "elevation",
         "NBr1",
         "2010-01-01 00:00:00",
         "True",
         "2",
         "1",
         "1.0",
         "0.0",
         "-999.99",
         ".idf",
         "C:/OD/WS_Mdl\\models\\NBr\\In\\DRN\\DRN_Elv_MV_25M_NBr1.IDF"
        ],
        [
         "(DRN)_elevation_Sys3_2010-01-01 00:00:00",
         "DRN",
         "elevation",
         "NBr1",
         "2010-01-01 00:00:00",
         "True",
         "2",
         "1",
         "1.0",
         "0.0",
         "-999.99",
         ".idf",
         "C:/OD/WS_Mdl\\models\\NBr\\In\\DRN\\DRN_Elv_BELGIE_NBr1.IDF"
        ]
       ],
       "shape": {
        "columns": 12,
        "rows": 12
       }
      },
      "text/html": [
       "<div>\n",
       "<style scoped>\n",
       "    .dataframe tbody tr th:only-of-type {\n",
       "        vertical-align: middle;\n",
       "    }\n",
       "\n",
       "    .dataframe tbody tr th {\n",
       "        vertical-align: top;\n",
       "    }\n",
       "\n",
       "    .dataframe thead th {\n",
       "        text-align: right;\n",
       "    }\n",
       "</style>\n",
       "<table border=\"1\" class=\"dataframe\">\n",
       "  <thead>\n",
       "    <tr style=\"text-align: right;\">\n",
       "      <th></th>\n",
       "      <th>package</th>\n",
       "      <th>parameter</th>\n",
       "      <th>MdlN</th>\n",
       "      <th>time</th>\n",
       "      <th>active</th>\n",
       "      <th>is_constant</th>\n",
       "      <th>layer</th>\n",
       "      <th>factor</th>\n",
       "      <th>addition</th>\n",
       "      <th>constant</th>\n",
       "      <th>suffix</th>\n",
       "      <th>path</th>\n",
       "    </tr>\n",
       "  </thead>\n",
       "  <tbody>\n",
       "    <tr>\n",
       "      <th>(DRN)_conductance_Sys1_steady-state</th>\n",
       "      <td>DRN</td>\n",
       "      <td>conductance</td>\n",
       "      <td>NBr1</td>\n",
       "      <td>steady-state</td>\n",
       "      <td>True</td>\n",
       "      <td>2</td>\n",
       "      <td>1</td>\n",
       "      <td>1.0</td>\n",
       "      <td>0.0</td>\n",
       "      <td>-999.99</td>\n",
       "      <td>.idf</td>\n",
       "      <td>C:/OD/WS_Mdl\\models\\NBr\\In\\DRN\\DRN_Cond_buis_N...</td>\n",
       "    </tr>\n",
       "    <tr>\n",
       "      <th>(DRN)_conductance_Sys2_steady-state</th>\n",
       "      <td>DRN</td>\n",
       "      <td>conductance</td>\n",
       "      <td>NBr1</td>\n",
       "      <td>steady-state</td>\n",
       "      <td>True</td>\n",
       "      <td>2</td>\n",
       "      <td>1</td>\n",
       "      <td>1.0</td>\n",
       "      <td>0.0</td>\n",
       "      <td>-999.99</td>\n",
       "      <td>.idf</td>\n",
       "      <td>C:/OD/WS_Mdl\\models\\NBr\\In\\DRN\\DRN_Cond_MV_25M...</td>\n",
       "    </tr>\n",
       "    <tr>\n",
       "      <th>(DRN)_conductance_Sys3_steady-state</th>\n",
       "      <td>DRN</td>\n",
       "      <td>conductance</td>\n",
       "      <td>NBr1</td>\n",
       "      <td>steady-state</td>\n",
       "      <td>True</td>\n",
       "      <td>2</td>\n",
       "      <td>1</td>\n",
       "      <td>1.0</td>\n",
       "      <td>0.0</td>\n",
       "      <td>-999.99</td>\n",
       "      <td>.idf</td>\n",
       "      <td>C:/OD/WS_Mdl\\models\\NBr\\In\\DRN\\DRN_Cond_ONTWAT...</td>\n",
       "    </tr>\n",
       "    <tr>\n",
       "      <th>(DRN)_conductance_Sys1_2010-01-01 00:00:00</th>\n",
       "      <td>DRN</td>\n",
       "      <td>conductance</td>\n",
       "      <td>NBr1</td>\n",
       "      <td>2010-01-01 00:00:00</td>\n",
       "      <td>True</td>\n",
       "      <td>2</td>\n",
       "      <td>1</td>\n",
       "      <td>1.0</td>\n",
       "      <td>0.0</td>\n",
       "      <td>-999.99</td>\n",
       "      <td>.idf</td>\n",
       "      <td>C:/OD/WS_Mdl\\models\\NBr\\In\\DRN\\DRN_Cond_buis_N...</td>\n",
       "    </tr>\n",
       "    <tr>\n",
       "      <th>(DRN)_conductance_Sys2_2010-01-01 00:00:00</th>\n",
       "      <td>DRN</td>\n",
       "      <td>conductance</td>\n",
       "      <td>NBr1</td>\n",
       "      <td>2010-01-01 00:00:00</td>\n",
       "      <td>True</td>\n",
       "      <td>2</td>\n",
       "      <td>1</td>\n",
       "      <td>1.0</td>\n",
       "      <td>0.0</td>\n",
       "      <td>-999.99</td>\n",
       "      <td>.idf</td>\n",
       "      <td>C:/OD/WS_Mdl\\models\\NBr\\In\\DRN\\DRN_Cond_MV_25M...</td>\n",
       "    </tr>\n",
       "    <tr>\n",
       "      <th>(DRN)_conductance_Sys3_2010-01-01 00:00:00</th>\n",
       "      <td>DRN</td>\n",
       "      <td>conductance</td>\n",
       "      <td>NBr1</td>\n",
       "      <td>2010-01-01 00:00:00</td>\n",
       "      <td>True</td>\n",
       "      <td>2</td>\n",
       "      <td>1</td>\n",
       "      <td>1.0</td>\n",
       "      <td>0.0</td>\n",
       "      <td>-999.99</td>\n",
       "      <td>.idf</td>\n",
       "      <td>C:/OD/WS_Mdl\\models\\NBr\\In\\DRN\\DRN_Cond_ONTWAT...</td>\n",
       "    </tr>\n",
       "    <tr>\n",
       "      <th>(DRN)_elevation_Sys1_steady-state</th>\n",
       "      <td>DRN</td>\n",
       "      <td>elevation</td>\n",
       "      <td>NBr1</td>\n",
       "      <td>steady-state</td>\n",
       "      <td>True</td>\n",
       "      <td>2</td>\n",
       "      <td>1</td>\n",
       "      <td>1.0</td>\n",
       "      <td>0.0</td>\n",
       "      <td>-999.99</td>\n",
       "      <td>.idf</td>\n",
       "      <td>C:/OD/WS_Mdl\\models\\NBr\\In\\DRN\\DRN_Elv_buis_NB...</td>\n",
       "    </tr>\n",
       "    <tr>\n",
       "      <th>(DRN)_elevation_Sys2_steady-state</th>\n",
       "      <td>DRN</td>\n",
       "      <td>elevation</td>\n",
       "      <td>NBr1</td>\n",
       "      <td>steady-state</td>\n",
       "      <td>True</td>\n",
       "      <td>2</td>\n",
       "      <td>1</td>\n",
       "      <td>1.0</td>\n",
       "      <td>0.0</td>\n",
       "      <td>-999.99</td>\n",
       "      <td>.idf</td>\n",
       "      <td>C:/OD/WS_Mdl\\models\\NBr\\In\\DRN\\DRN_Elv_MV_25M_...</td>\n",
       "    </tr>\n",
       "    <tr>\n",
       "      <th>(DRN)_elevation_Sys3_steady-state</th>\n",
       "      <td>DRN</td>\n",
       "      <td>elevation</td>\n",
       "      <td>NBr1</td>\n",
       "      <td>steady-state</td>\n",
       "      <td>True</td>\n",
       "      <td>2</td>\n",
       "      <td>1</td>\n",
       "      <td>1.0</td>\n",
       "      <td>0.0</td>\n",
       "      <td>-999.99</td>\n",
       "      <td>.idf</td>\n",
       "      <td>C:/OD/WS_Mdl\\models\\NBr\\In\\DRN\\DRN_Elv_BELGIE_...</td>\n",
       "    </tr>\n",
       "    <tr>\n",
       "      <th>(DRN)_elevation_Sys1_2010-01-01 00:00:00</th>\n",
       "      <td>DRN</td>\n",
       "      <td>elevation</td>\n",
       "      <td>NBr1</td>\n",
       "      <td>2010-01-01 00:00:00</td>\n",
       "      <td>True</td>\n",
       "      <td>2</td>\n",
       "      <td>1</td>\n",
       "      <td>1.0</td>\n",
       "      <td>0.0</td>\n",
       "      <td>-999.99</td>\n",
       "      <td>.idf</td>\n",
       "      <td>C:/OD/WS_Mdl\\models\\NBr\\In\\DRN\\DRN_Elv_buis_NB...</td>\n",
       "    </tr>\n",
       "    <tr>\n",
       "      <th>(DRN)_elevation_Sys2_2010-01-01 00:00:00</th>\n",
       "      <td>DRN</td>\n",
       "      <td>elevation</td>\n",
       "      <td>NBr1</td>\n",
       "      <td>2010-01-01 00:00:00</td>\n",
       "      <td>True</td>\n",
       "      <td>2</td>\n",
       "      <td>1</td>\n",
       "      <td>1.0</td>\n",
       "      <td>0.0</td>\n",
       "      <td>-999.99</td>\n",
       "      <td>.idf</td>\n",
       "      <td>C:/OD/WS_Mdl\\models\\NBr\\In\\DRN\\DRN_Elv_MV_25M_...</td>\n",
       "    </tr>\n",
       "    <tr>\n",
       "      <th>(DRN)_elevation_Sys3_2010-01-01 00:00:00</th>\n",
       "      <td>DRN</td>\n",
       "      <td>elevation</td>\n",
       "      <td>NBr1</td>\n",
       "      <td>2010-01-01 00:00:00</td>\n",
       "      <td>True</td>\n",
       "      <td>2</td>\n",
       "      <td>1</td>\n",
       "      <td>1.0</td>\n",
       "      <td>0.0</td>\n",
       "      <td>-999.99</td>\n",
       "      <td>.idf</td>\n",
       "      <td>C:/OD/WS_Mdl\\models\\NBr\\In\\DRN\\DRN_Elv_BELGIE_...</td>\n",
       "    </tr>\n",
       "  </tbody>\n",
       "</table>\n",
       "</div>"
      ],
      "text/plain": [
       "                                           package    parameter  MdlN  \\\n",
       "(DRN)_conductance_Sys1_steady-state            DRN  conductance  NBr1   \n",
       "(DRN)_conductance_Sys2_steady-state            DRN  conductance  NBr1   \n",
       "(DRN)_conductance_Sys3_steady-state            DRN  conductance  NBr1   \n",
       "(DRN)_conductance_Sys1_2010-01-01 00:00:00     DRN  conductance  NBr1   \n",
       "(DRN)_conductance_Sys2_2010-01-01 00:00:00     DRN  conductance  NBr1   \n",
       "(DRN)_conductance_Sys3_2010-01-01 00:00:00     DRN  conductance  NBr1   \n",
       "(DRN)_elevation_Sys1_steady-state              DRN    elevation  NBr1   \n",
       "(DRN)_elevation_Sys2_steady-state              DRN    elevation  NBr1   \n",
       "(DRN)_elevation_Sys3_steady-state              DRN    elevation  NBr1   \n",
       "(DRN)_elevation_Sys1_2010-01-01 00:00:00       DRN    elevation  NBr1   \n",
       "(DRN)_elevation_Sys2_2010-01-01 00:00:00       DRN    elevation  NBr1   \n",
       "(DRN)_elevation_Sys3_2010-01-01 00:00:00       DRN    elevation  NBr1   \n",
       "\n",
       "                                                           time active  \\\n",
       "(DRN)_conductance_Sys1_steady-state                steady-state   True   \n",
       "(DRN)_conductance_Sys2_steady-state                steady-state   True   \n",
       "(DRN)_conductance_Sys3_steady-state                steady-state   True   \n",
       "(DRN)_conductance_Sys1_2010-01-01 00:00:00  2010-01-01 00:00:00   True   \n",
       "(DRN)_conductance_Sys2_2010-01-01 00:00:00  2010-01-01 00:00:00   True   \n",
       "(DRN)_conductance_Sys3_2010-01-01 00:00:00  2010-01-01 00:00:00   True   \n",
       "(DRN)_elevation_Sys1_steady-state                  steady-state   True   \n",
       "(DRN)_elevation_Sys2_steady-state                  steady-state   True   \n",
       "(DRN)_elevation_Sys3_steady-state                  steady-state   True   \n",
       "(DRN)_elevation_Sys1_2010-01-01 00:00:00    2010-01-01 00:00:00   True   \n",
       "(DRN)_elevation_Sys2_2010-01-01 00:00:00    2010-01-01 00:00:00   True   \n",
       "(DRN)_elevation_Sys3_2010-01-01 00:00:00    2010-01-01 00:00:00   True   \n",
       "\n",
       "                                           is_constant layer factor addition  \\\n",
       "(DRN)_conductance_Sys1_steady-state                  2     1    1.0      0.0   \n",
       "(DRN)_conductance_Sys2_steady-state                  2     1    1.0      0.0   \n",
       "(DRN)_conductance_Sys3_steady-state                  2     1    1.0      0.0   \n",
       "(DRN)_conductance_Sys1_2010-01-01 00:00:00           2     1    1.0      0.0   \n",
       "(DRN)_conductance_Sys2_2010-01-01 00:00:00           2     1    1.0      0.0   \n",
       "(DRN)_conductance_Sys3_2010-01-01 00:00:00           2     1    1.0      0.0   \n",
       "(DRN)_elevation_Sys1_steady-state                    2     1    1.0      0.0   \n",
       "(DRN)_elevation_Sys2_steady-state                    2     1    1.0      0.0   \n",
       "(DRN)_elevation_Sys3_steady-state                    2     1    1.0      0.0   \n",
       "(DRN)_elevation_Sys1_2010-01-01 00:00:00             2     1    1.0      0.0   \n",
       "(DRN)_elevation_Sys2_2010-01-01 00:00:00             2     1    1.0      0.0   \n",
       "(DRN)_elevation_Sys3_2010-01-01 00:00:00             2     1    1.0      0.0   \n",
       "\n",
       "                                           constant suffix  \\\n",
       "(DRN)_conductance_Sys1_steady-state         -999.99   .idf   \n",
       "(DRN)_conductance_Sys2_steady-state         -999.99   .idf   \n",
       "(DRN)_conductance_Sys3_steady-state         -999.99   .idf   \n",
       "(DRN)_conductance_Sys1_2010-01-01 00:00:00  -999.99   .idf   \n",
       "(DRN)_conductance_Sys2_2010-01-01 00:00:00  -999.99   .idf   \n",
       "(DRN)_conductance_Sys3_2010-01-01 00:00:00  -999.99   .idf   \n",
       "(DRN)_elevation_Sys1_steady-state           -999.99   .idf   \n",
       "(DRN)_elevation_Sys2_steady-state           -999.99   .idf   \n",
       "(DRN)_elevation_Sys3_steady-state           -999.99   .idf   \n",
       "(DRN)_elevation_Sys1_2010-01-01 00:00:00    -999.99   .idf   \n",
       "(DRN)_elevation_Sys2_2010-01-01 00:00:00    -999.99   .idf   \n",
       "(DRN)_elevation_Sys3_2010-01-01 00:00:00    -999.99   .idf   \n",
       "\n",
       "                                                                                         path  \n",
       "(DRN)_conductance_Sys1_steady-state         C:/OD/WS_Mdl\\models\\NBr\\In\\DRN\\DRN_Cond_buis_N...  \n",
       "(DRN)_conductance_Sys2_steady-state         C:/OD/WS_Mdl\\models\\NBr\\In\\DRN\\DRN_Cond_MV_25M...  \n",
       "(DRN)_conductance_Sys3_steady-state         C:/OD/WS_Mdl\\models\\NBr\\In\\DRN\\DRN_Cond_ONTWAT...  \n",
       "(DRN)_conductance_Sys1_2010-01-01 00:00:00  C:/OD/WS_Mdl\\models\\NBr\\In\\DRN\\DRN_Cond_buis_N...  \n",
       "(DRN)_conductance_Sys2_2010-01-01 00:00:00  C:/OD/WS_Mdl\\models\\NBr\\In\\DRN\\DRN_Cond_MV_25M...  \n",
       "(DRN)_conductance_Sys3_2010-01-01 00:00:00  C:/OD/WS_Mdl\\models\\NBr\\In\\DRN\\DRN_Cond_ONTWAT...  \n",
       "(DRN)_elevation_Sys1_steady-state           C:/OD/WS_Mdl\\models\\NBr\\In\\DRN\\DRN_Elv_buis_NB...  \n",
       "(DRN)_elevation_Sys2_steady-state           C:/OD/WS_Mdl\\models\\NBr\\In\\DRN\\DRN_Elv_MV_25M_...  \n",
       "(DRN)_elevation_Sys3_steady-state           C:/OD/WS_Mdl\\models\\NBr\\In\\DRN\\DRN_Elv_BELGIE_...  \n",
       "(DRN)_elevation_Sys1_2010-01-01 00:00:00    C:/OD/WS_Mdl\\models\\NBr\\In\\DRN\\DRN_Elv_buis_NB...  \n",
       "(DRN)_elevation_Sys2_2010-01-01 00:00:00    C:/OD/WS_Mdl\\models\\NBr\\In\\DRN\\DRN_Elv_MV_25M_...  \n",
       "(DRN)_elevation_Sys3_2010-01-01 00:00:00    C:/OD/WS_Mdl\\models\\NBr\\In\\DRN\\DRN_Elv_BELGIE_...  "
      ]
     },
     "execution_count": 61,
     "metadata": {},
     "output_type": "execute_result"
    }
   ],
   "source": [
    "DF_DRN = DF_full.loc[DF_full['package'] == 'DRN']\n",
    "DF_DRN"
   ]
  },
  {
   "cell_type": "markdown",
   "id": "baced3ba",
   "metadata": {},
   "source": [
    "Let's quickly investigate if the arrays are active in the same regions between parameters and between times"
   ]
  },
  {
   "cell_type": "code",
   "execution_count": 62,
   "id": "fa2055e5",
   "metadata": {},
   "outputs": [],
   "source": [
    "def active_A(Pa):\n",
    "    IDF = imod.formats.idf.open(Pa)\n",
    "    IDF = IDF.sel(x=slice(Xmin, Xmax), y=slice(Ymax, Ymin))\n",
    "    return IDF.notnull().astype(int)"
   ]
  },
  {
   "cell_type": "code",
   "execution_count": 63,
   "id": "c203e37e",
   "metadata": {},
   "outputs": [],
   "source": [
    "Se_Atv_A = DF_DRN['path'].apply(active_A)"
   ]
  },
  {
   "cell_type": "code",
   "execution_count": 64,
   "id": "8f8a0198",
   "metadata": {},
   "outputs": [],
   "source": [
    "d_Diff = {}"
   ]
  },
  {
   "cell_type": "code",
   "execution_count": 65,
   "id": "987c1724",
   "metadata": {},
   "outputs": [
    {
     "name": "stdout",
     "output_type": "stream",
     "text": [
      "(DRN)_conductance_Sys1_steady-state\n",
      "25494 22747\n",
      "(DRN)_conductance_Sys2_steady-state\n",
      "Same active area for elevation and conductance.\n",
      "(DRN)_conductance_Sys3_steady-state\n",
      "116 10536\n",
      "(DRN)_conductance_Sys1_2010-01-01 00:00:00\n",
      "25494 22747\n",
      "(DRN)_conductance_Sys2_2010-01-01 00:00:00\n",
      "Same active area for elevation and conductance.\n",
      "(DRN)_conductance_Sys3_2010-01-01 00:00:00\n",
      "116 10536\n"
     ]
    }
   ],
   "source": [
    "i = 1\n",
    "for k, A1 in list(Se_Atv_A.loc[[i for i in Se_Atv_A.keys() if 'conductance' in i]].items())[:]:\n",
    "    print(k)\n",
    "    A2 = Se_Atv_A[k.replace('conductance', 'elevation')]\n",
    "    if A1.equals(A2):\n",
    "        print('Same active area for elevation and conductance.')\n",
    "    else:\n",
    "        print(A1.values.sum(), A2.values.sum())\n",
    "        A3 = xr.where((A1 == 1) & (A2 == 0), 1, 0)\n",
    "        A4 = xr.where((A1 == 0) & (A2 == 1), 1, 0)\n",
    "        d_Diff[f'Sys{i}'] = [A1, A2, A3, A4]\n",
    "        i += 1"
   ]
  },
  {
   "cell_type": "markdown",
   "id": "42718d00",
   "metadata": {},
   "source": [
    "We get the same pattern (in the printed out text) for 2 different times (the SS and transient blocks).\n",
    "- We'll work with the 1st Sys for now. \n",
    "- Sys 2 is active everywhere close to the L1 TOP (someplaces above, someplaces below).\n",
    "- Sys 3 is in Belgium. This one is weird cause the resolution of the conductance is different than the elevation's. But if you plot them, they're identical."
   ]
  },
  {
   "cell_type": "code",
   "execution_count": 66,
   "id": "2c517997",
   "metadata": {},
   "outputs": [
    {
     "data": {
      "text/plain": [
       "dict_keys(['Sys1', 'Sys2', 'Sys3', 'Sys4'])"
      ]
     },
     "execution_count": 66,
     "metadata": {},
     "output_type": "execute_result"
    }
   ],
   "source": [
    "d_Diff.keys()"
   ]
  },
  {
   "cell_type": "code",
   "execution_count": 67,
   "id": "de58daaf",
   "metadata": {},
   "outputs": [
    {
     "data": {
      "text/plain": [
       "<matplotlib.collections.QuadMesh at 0x227616c7e00>"
      ]
     },
     "execution_count": 67,
     "metadata": {},
     "output_type": "execute_result"
    },
    {
     "data": {
      "image/png": "[encoded data removed]",
      "text/plain": [
       "<Figure size 640x480 with 2 Axes>"
      ]
     },
     "metadata": {},
     "output_type": "display_data"
    }
   ],
   "source": [
    "i = 1\n",
    "d_Diff[f'Sys{i}'][2].plot()"
   ]
  },
  {
   "cell_type": "code",
   "execution_count": 68,
   "id": "74eca3c6",
   "metadata": {},
   "outputs": [
    {
     "data": {
      "text/plain": [
       "<matplotlib.collections.QuadMesh at 0x22761b3fe00>"
      ]
     },
     "execution_count": 68,
     "metadata": {},
     "output_type": "execute_result"
    },
    {
     "data": {
      "image/png": "[encoded data removed]",
      "text/plain": [
       "<Figure size 640x480 with 2 Axes>"
      ]
     },
     "metadata": {},
     "output_type": "display_data"
    }
   ],
   "source": [
    "d_Diff[f'Sys{i}'][3].plot()"
   ]
  },
  {
   "cell_type": "markdown",
   "id": "c03801e5",
   "metadata": {},
   "source": [
    "We'll work with the elevation array, as it has fewer values than the conductance array (assuming DRN is disabled everywhere where only one of them has a value.)"
   ]
  },
  {
   "cell_type": "code",
   "execution_count": 69,
   "id": "0685cb11",
   "metadata": {},
   "outputs": [],
   "source": [
    "A_DRN_Atv = d_Diff[f'Sys{i}'][1]"
   ]
  },
  {
   "cell_type": "code",
   "execution_count": 70,
   "id": "ea6152cb",
   "metadata": {},
   "outputs": [
    {
     "data": {
      "text/plain": [
       "<matplotlib.collections.QuadMesh at 0x22761a66f60>"
      ]
     },
     "execution_count": 70,
     "metadata": {},
     "output_type": "execute_result"
    },
    {
     "data": {
      "image/png": "[encoded data removed]",
      "text/plain": [
       "<Figure size 640x480 with 2 Axes>"
      ]
     },
     "metadata": {},
     "output_type": "display_data"
    }
   ],
   "source": [
    "A_DRN_Atv.plot()"
   ]
  },
  {
   "cell_type": "code",
   "execution_count": 71,
   "id": "b2bd4309",
   "metadata": {},
   "outputs": [
    {
     "data": {
      "text/plain": [
       "<matplotlib.collections.QuadMesh at 0x22760e36900>"
      ]
     },
     "execution_count": 71,
     "metadata": {},
     "output_type": "execute_result"
    },
    {
     "data": {
      "image/png": "[encoded data removed]",
      "text/plain": [
       "<Figure size 640x480 with 2 Axes>"
      ]
     },
     "metadata": {},
     "output_type": "display_data"
    }
   ],
   "source": [
    "A_SFR_Atv.plot()"
   ]
  },
  {
   "cell_type": "markdown",
   "id": "7640ef68",
   "metadata": {},
   "source": [
    "# 3. Connect DRN cells to SFR cells"
   ]
  },
  {
   "cell_type": "code",
   "execution_count": 72,
   "id": "449cd6ae",
   "metadata": {},
   "outputs": [],
   "source": [
    "DF = match_cells_to_SFR(A_SFR_Atv, A_DRN_Atv).drop('distance', axis=1)"
   ]
  },
  {
   "cell_type": "markdown",
   "id": "c259ee51",
   "metadata": {},
   "source": [
    "We've connected them cell to cell, but we need to connect them based on the internal ids for each package.\n",
    "- For DRN the id is the number of the element, as it's written in the PERIOD block (i.e. its line number)\n",
    "- For SFR it's the reach number."
   ]
  },
  {
   "cell_type": "markdown",
   "id": "db276ff3",
   "metadata": {},
   "source": [
    "# 4. Convert cellids to package ids"
   ]
  },
  {
   "cell_type": "markdown",
   "id": "03d31e54",
   "metadata": {},
   "source": [
    "## 4.0. Load DRN and SFR PACKAGEDATA"
   ]
  },
  {
   "cell_type": "code",
   "execution_count": 73,
   "id": "a6437e34",
   "metadata": {},
   "outputs": [],
   "source": [
    "DF_DRN_1 = pd.read_csv(\n",
    "    Pa_DRN[0],\n",
    "    delim_whitespace=True,  # splits on one-or-more spaces/tabs\n",
    "    names=['L', 'R', 'C', 'elevation', 'conductance', 'aux'],\n",
    "    header=None,\n",
    "    engine='python',  # needed for skipfooter\n",
    "    skipfooter=12,\n",
    ")\n",
    "DF_DRN_ = DF_DRN_1.copy()  # Copy to avoid modifying original DF_DRN_1.\n",
    "DF_DRN_ = DF_DRN_.drop(\n",
    "    columns=[i for i in DF_DRN_.columns if i not in ['L', 'R', 'C']]\n",
    ")  # We only need L, R, C for matching."
   ]
  },
  {
   "cell_type": "code",
   "execution_count": 74,
   "id": "e1648e9f",
   "metadata": {},
   "outputs": [],
   "source": [
    "DF_DRN_.index += 1  # Make it 1-based index, as in MODFLOW."
   ]
  },
  {
   "cell_type": "code",
   "execution_count": 75,
   "id": "743ce731",
   "metadata": {},
   "outputs": [],
   "source": [
    "DF_DRN_ = DF_DRN_.reset_index().rename(columns={'index': 'Pvd_i'})"
   ]
  },
  {
   "cell_type": "code",
   "execution_count": 76,
   "id": "e05eaf13",
   "metadata": {},
   "outputs": [
    {
     "name": "stderr",
     "output_type": "stream",
     "text": [
      "C:\\Users\\Karam014\\OneDrive - Universiteit Utrecht\\WS_Mdl\\code\\WS_Mdl\\utils.py:329: ParserWarning: Falling back to the 'python' engine because the 'c' engine does not support skipfooter; you can avoid this warning by specifying engine='python'.\n",
      "  DF = pd.read_csv(\n"
     ]
    }
   ],
   "source": [
    "DF_SFR = U.MF6_block_to_DF(Pa_SFR, 'PACKAGEDATA', has_header=False, skipfooter=1)\n",
    "DF_SFR = DF_SFR.drop(\n",
    "    columns=[i for i in DF_SFR.columns if i not in ['ifno', 'L', 'R', 'C']]\n",
    ")  # We only need L, R, C for matching.\n",
    "DF_SFR = DF_SFR.rename(columns={'ifno': 'Rcv_i'})"
   ]
  },
  {
   "cell_type": "code",
   "execution_count": 77,
   "id": "1c7ecbfc",
   "metadata": {},
   "outputs": [
    {
     "data": {
      "application/vnd.microsoft.datawrangler.viewer.v0+json": {
       "columns": [
        {
         "name": "index",
         "rawType": "int64",
         "type": "integer"
        },
        {
         "name": "Pvd_i",
         "rawType": "int64",
         "type": "integer"
        },
        {
         "name": "L",
         "rawType": "int64",
         "type": "integer"
        },
        {
         "name": "R",
         "rawType": "int64",
         "type": "integer"
        },
        {
         "name": "C",
         "rawType": "int64",
         "type": "integer"
        }
       ],
       "ref": "41c14427-0967-4e9a-820c-64148f61350d",
       "rows": [
        [
         "0",
         "1",
         "1",
         "2",
         "2"
        ],
        [
         "1",
         "2",
         "1",
         "2",
         "3"
        ],
        [
         "2",
         "3",
         "1",
         "2",
         "4"
        ],
        [
         "3",
         "4",
         "1",
         "2",
         "5"
        ],
        [
         "4",
         "5",
         "1",
         "2",
         "143"
        ]
       ],
       "shape": {
        "columns": 4,
        "rows": 5
       }
      },
      "text/html": [
       "<div>\n",
       "<style scoped>\n",
       "    .dataframe tbody tr th:only-of-type {\n",
       "        vertical-align: middle;\n",
       "    }\n",
       "\n",
       "    .dataframe tbody tr th {\n",
       "        vertical-align: top;\n",
       "    }\n",
       "\n",
       "    .dataframe thead th {\n",
       "        text-align: right;\n",
       "    }\n",
       "</style>\n",
       "<table border=\"1\" class=\"dataframe\">\n",
       "  <thead>\n",
       "    <tr style=\"text-align: right;\">\n",
       "      <th></th>\n",
       "      <th>Pvd_i</th>\n",
       "      <th>L</th>\n",
       "      <th>R</th>\n",
       "      <th>C</th>\n",
       "    </tr>\n",
       "  </thead>\n",
       "  <tbody>\n",
       "    <tr>\n",
       "      <th>0</th>\n",
       "      <td>1</td>\n",
       "      <td>1</td>\n",
       "      <td>2</td>\n",
       "      <td>2</td>\n",
       "    </tr>\n",
       "    <tr>\n",
       "      <th>1</th>\n",
       "      <td>2</td>\n",
       "      <td>1</td>\n",
       "      <td>2</td>\n",
       "      <td>3</td>\n",
       "    </tr>\n",
       "    <tr>\n",
       "      <th>2</th>\n",
       "      <td>3</td>\n",
       "      <td>1</td>\n",
       "      <td>2</td>\n",
       "      <td>4</td>\n",
       "    </tr>\n",
       "    <tr>\n",
       "      <th>3</th>\n",
       "      <td>4</td>\n",
       "      <td>1</td>\n",
       "      <td>2</td>\n",
       "      <td>5</td>\n",
       "    </tr>\n",
       "    <tr>\n",
       "      <th>4</th>\n",
       "      <td>5</td>\n",
       "      <td>1</td>\n",
       "      <td>2</td>\n",
       "      <td>143</td>\n",
       "    </tr>\n",
       "  </tbody>\n",
       "</table>\n",
       "</div>"
      ],
      "text/plain": [
       "   Pvd_i  L  R    C\n",
       "0      1  1  2    2\n",
       "1      2  1  2    3\n",
       "2      3  1  2    4\n",
       "3      4  1  2    5\n",
       "4      5  1  2  143"
      ]
     },
     "execution_count": 77,
     "metadata": {},
     "output_type": "execute_result"
    }
   ],
   "source": [
    "DF_DRN_.head()"
   ]
  },
  {
   "cell_type": "code",
   "execution_count": 78,
   "id": "9916ac15",
   "metadata": {},
   "outputs": [
    {
     "data": {
      "application/vnd.microsoft.datawrangler.viewer.v0+json": {
       "columns": [
        {
         "name": "index",
         "rawType": "int64",
         "type": "integer"
        },
        {
         "name": "Rcv_i",
         "rawType": "int64",
         "type": "integer"
        },
        {
         "name": "L",
         "rawType": "int64",
         "type": "integer"
        },
        {
         "name": "R",
         "rawType": "int64",
         "type": "integer"
        },
        {
         "name": "C",
         "rawType": "int64",
         "type": "integer"
        }
       ],
       "ref": "0e5ff8a6-5947-4bc1-8f2a-8681d55e8477",
       "rows": [
        [
         "0",
         "1",
         "1",
         "1",
         "6"
        ],
        [
         "1",
         "2",
         "1",
         "1",
         "11"
        ],
        [
         "2",
         "3",
         "1",
         "1",
         "12"
        ],
        [
         "3",
         "4",
         "1",
         "1",
         "18"
        ],
        [
         "4",
         "5",
         "1",
         "1",
         "20"
        ]
       ],
       "shape": {
        "columns": 4,
        "rows": 5
       }
      },
      "text/html": [
       "<div>\n",
       "<style scoped>\n",
       "    .dataframe tbody tr th:only-of-type {\n",
       "        vertical-align: middle;\n",
       "    }\n",
       "\n",
       "    .dataframe tbody tr th {\n",
       "        vertical-align: top;\n",
       "    }\n",
       "\n",
       "    .dataframe thead th {\n",
       "        text-align: right;\n",
       "    }\n",
       "</style>\n",
       "<table border=\"1\" class=\"dataframe\">\n",
       "  <thead>\n",
       "    <tr style=\"text-align: right;\">\n",
       "      <th></th>\n",
       "      <th>Rcv_i</th>\n",
       "      <th>L</th>\n",
       "      <th>R</th>\n",
       "      <th>C</th>\n",
       "    </tr>\n",
       "  </thead>\n",
       "  <tbody>\n",
       "    <tr>\n",
       "      <th>0</th>\n",
       "      <td>1</td>\n",
       "      <td>1</td>\n",
       "      <td>1</td>\n",
       "      <td>6</td>\n",
       "    </tr>\n",
       "    <tr>\n",
       "      <th>1</th>\n",
       "      <td>2</td>\n",
       "      <td>1</td>\n",
       "      <td>1</td>\n",
       "      <td>11</td>\n",
       "    </tr>\n",
       "    <tr>\n",
       "      <th>2</th>\n",
       "      <td>3</td>\n",
       "      <td>1</td>\n",
       "      <td>1</td>\n",
       "      <td>12</td>\n",
       "    </tr>\n",
       "    <tr>\n",
       "      <th>3</th>\n",
       "      <td>4</td>\n",
       "      <td>1</td>\n",
       "      <td>1</td>\n",
       "      <td>18</td>\n",
       "    </tr>\n",
       "    <tr>\n",
       "      <th>4</th>\n",
       "      <td>5</td>\n",
       "      <td>1</td>\n",
       "      <td>1</td>\n",
       "      <td>20</td>\n",
       "    </tr>\n",
       "  </tbody>\n",
       "</table>\n",
       "</div>"
      ],
      "text/plain": [
       "   Rcv_i  L  R   C\n",
       "0      1  1  1   6\n",
       "1      2  1  1  11\n",
       "2      3  1  1  12\n",
       "3      4  1  1  18\n",
       "4      5  1  1  20"
      ]
     },
     "execution_count": 78,
     "metadata": {},
     "output_type": "execute_result"
    }
   ],
   "source": [
    "DF_SFR.head()"
   ]
  },
  {
   "cell_type": "markdown",
   "id": "0d29fea5",
   "metadata": {},
   "source": [
    "## 4.1. Trim array edges and start merging."
   ]
  },
  {
   "cell_type": "code",
   "execution_count": 79,
   "id": "3f4b1843",
   "metadata": {},
   "outputs": [],
   "source": [
    "DF = DF.loc[\n",
    "    (DF['Tgt_R'] != 1) & (DF['Tgt_C'] != 1) & (DF['Tgt_R'] != N_R) & (DF['Tgt_C'] != N_C)\n",
    "]  # items at the edges of the models aren't connected to DRN (that's default iMOD behaviour, I think)"
   ]
  },
  {
   "cell_type": "code",
   "execution_count": 80,
   "id": "c3c01948",
   "metadata": {},
   "outputs": [],
   "source": [
    "DF1 = DF.merge(\n",
    "    DF_DRN_, left_on=[f'Tgt_{i}' for i in ('L', 'R', 'C')], right_on=['L', 'R', 'C'], how='left'\n",
    ")\n",
    "DF1 = DF1.drop(\n",
    "    columns=['Tgt_L', 'Tgt_R', 'Tgt_C', 'L', 'R', 'C']\n",
    ")  # Those are redundant now. We only need SFR L R C to connect to reach numbers."
   ]
  },
  {
   "cell_type": "code",
   "execution_count": 81,
   "id": "b7aee856",
   "metadata": {},
   "outputs": [
    {
     "data": {
      "application/vnd.microsoft.datawrangler.viewer.v0+json": {
       "columns": [
        {
         "name": "index",
         "rawType": "int64",
         "type": "integer"
        },
        {
         "name": "Pvd_i",
         "rawType": "int64",
         "type": "integer"
        },
        {
         "name": "L",
         "rawType": "int64",
         "type": "integer"
        },
        {
         "name": "R",
         "rawType": "int64",
         "type": "integer"
        },
        {
         "name": "C",
         "rawType": "int64",
         "type": "integer"
        }
       ],
       "ref": "06838974-897f-43b0-acc9-a12cc396ee4e",
       "rows": [
        [
         "0",
         "1",
         "1",
         "2",
         "2"
        ],
        [
         "1",
         "2",
         "1",
         "2",
         "3"
        ],
        [
         "2",
         "3",
         "1",
         "2",
         "4"
        ],
        [
         "3",
         "4",
         "1",
         "2",
         "5"
        ],
        [
         "4",
         "5",
         "1",
         "2",
         "143"
        ],
        [
         "5",
         "6",
         "1",
         "2",
         "144"
        ],
        [
         "6",
         "7",
         "1",
         "2",
         "145"
        ],
        [
         "7",
         "8",
         "1",
         "2",
         "146"
        ],
        [
         "8",
         "9",
         "1",
         "2",
         "160"
        ],
        [
         "9",
         "10",
         "1",
         "2",
         "171"
        ],
        [
         "10",
         "11",
         "1",
         "2",
         "172"
        ],
        [
         "11",
         "12",
         "1",
         "2",
         "173"
        ],
        [
         "12",
         "13",
         "1",
         "2",
         "174"
        ],
        [
         "13",
         "14",
         "1",
         "2",
         "183"
        ],
        [
         "14",
         "15",
         "1",
         "2",
         "184"
        ],
        [
         "15",
         "16",
         "1",
         "2",
         "185"
        ],
        [
         "16",
         "17",
         "1",
         "2",
         "233"
        ],
        [
         "17",
         "18",
         "1",
         "2",
         "234"
        ],
        [
         "18",
         "19",
         "1",
         "2",
         "235"
        ],
        [
         "19",
         "20",
         "1",
         "2",
         "236"
        ]
       ],
       "shape": {
        "columns": 4,
        "rows": 20
       }
      },
      "text/html": [
       "<div>\n",
       "<style scoped>\n",
       "    .dataframe tbody tr th:only-of-type {\n",
       "        vertical-align: middle;\n",
       "    }\n",
       "\n",
       "    .dataframe tbody tr th {\n",
       "        vertical-align: top;\n",
       "    }\n",
       "\n",
       "    .dataframe thead th {\n",
       "        text-align: right;\n",
       "    }\n",
       "</style>\n",
       "<table border=\"1\" class=\"dataframe\">\n",
       "  <thead>\n",
       "    <tr style=\"text-align: right;\">\n",
       "      <th></th>\n",
       "      <th>Pvd_i</th>\n",
       "      <th>L</th>\n",
       "      <th>R</th>\n",
       "      <th>C</th>\n",
       "    </tr>\n",
       "  </thead>\n",
       "  <tbody>\n",
       "    <tr>\n",
       "      <th>0</th>\n",
       "      <td>1</td>\n",
       "      <td>1</td>\n",
       "      <td>2</td>\n",
       "      <td>2</td>\n",
       "    </tr>\n",
       "    <tr>\n",
       "      <th>1</th>\n",
       "      <td>2</td>\n",
       "      <td>1</td>\n",
       "      <td>2</td>\n",
       "      <td>3</td>\n",
       "    </tr>\n",
       "    <tr>\n",
       "      <th>2</th>\n",
       "      <td>3</td>\n",
       "      <td>1</td>\n",
       "      <td>2</td>\n",
       "      <td>4</td>\n",
       "    </tr>\n",
       "    <tr>\n",
       "      <th>3</th>\n",
       "      <td>4</td>\n",
       "      <td>1</td>\n",
       "      <td>2</td>\n",
       "      <td>5</td>\n",
       "    </tr>\n",
       "    <tr>\n",
       "      <th>4</th>\n",
       "      <td>5</td>\n",
       "      <td>1</td>\n",
       "      <td>2</td>\n",
       "      <td>143</td>\n",
       "    </tr>\n",
       "    <tr>\n",
       "      <th>5</th>\n",
       "      <td>6</td>\n",
       "      <td>1</td>\n",
       "      <td>2</td>\n",
       "      <td>144</td>\n",
       "    </tr>\n",
       "    <tr>\n",
       "      <th>6</th>\n",
       "      <td>7</td>\n",
       "      <td>1</td>\n",
       "      <td>2</td>\n",
       "      <td>145</td>\n",
       "    </tr>\n",
       "    <tr>\n",
       "      <th>7</th>\n",
       "      <td>8</td>\n",
       "      <td>1</td>\n",
       "      <td>2</td>\n",
       "      <td>146</td>\n",
       "    </tr>\n",
       "    <tr>\n",
       "      <th>8</th>\n",
       "      <td>9</td>\n",
       "      <td>1</td>\n",
       "      <td>2</td>\n",
       "      <td>160</td>\n",
       "    </tr>\n",
       "    <tr>\n",
       "      <th>9</th>\n",
       "      <td>10</td>\n",
       "      <td>1</td>\n",
       "      <td>2</td>\n",
       "      <td>171</td>\n",
       "    </tr>\n",
       "    <tr>\n",
       "      <th>10</th>\n",
       "      <td>11</td>\n",
       "      <td>1</td>\n",
       "      <td>2</td>\n",
       "      <td>172</td>\n",
       "    </tr>\n",
       "    <tr>\n",
       "      <th>11</th>\n",
       "      <td>12</td>\n",
       "      <td>1</td>\n",
       "      <td>2</td>\n",
       "      <td>173</td>\n",
       "    </tr>\n",
       "    <tr>\n",
       "      <th>12</th>\n",
       "      <td>13</td>\n",
       "      <td>1</td>\n",
       "      <td>2</td>\n",
       "      <td>174</td>\n",
       "    </tr>\n",
       "    <tr>\n",
       "      <th>13</th>\n",
       "      <td>14</td>\n",
       "      <td>1</td>\n",
       "      <td>2</td>\n",
       "      <td>183</td>\n",
       "    </tr>\n",
       "    <tr>\n",
       "      <th>14</th>\n",
       "      <td>15</td>\n",
       "      <td>1</td>\n",
       "      <td>2</td>\n",
       "      <td>184</td>\n",
       "    </tr>\n",
       "    <tr>\n",
       "      <th>15</th>\n",
       "      <td>16</td>\n",
       "      <td>1</td>\n",
       "      <td>2</td>\n",
       "      <td>185</td>\n",
       "    </tr>\n",
       "    <tr>\n",
       "      <th>16</th>\n",
       "      <td>17</td>\n",
       "      <td>1</td>\n",
       "      <td>2</td>\n",
       "      <td>233</td>\n",
       "    </tr>\n",
       "    <tr>\n",
       "      <th>17</th>\n",
       "      <td>18</td>\n",
       "      <td>1</td>\n",
       "      <td>2</td>\n",
       "      <td>234</td>\n",
       "    </tr>\n",
       "    <tr>\n",
       "      <th>18</th>\n",
       "      <td>19</td>\n",
       "      <td>1</td>\n",
       "      <td>2</td>\n",
       "      <td>235</td>\n",
       "    </tr>\n",
       "    <tr>\n",
       "      <th>19</th>\n",
       "      <td>20</td>\n",
       "      <td>1</td>\n",
       "      <td>2</td>\n",
       "      <td>236</td>\n",
       "    </tr>\n",
       "  </tbody>\n",
       "</table>\n",
       "</div>"
      ],
      "text/plain": [
       "    Pvd_i  L  R    C\n",
       "0       1  1  2    2\n",
       "1       2  1  2    3\n",
       "2       3  1  2    4\n",
       "3       4  1  2    5\n",
       "4       5  1  2  143\n",
       "5       6  1  2  144\n",
       "6       7  1  2  145\n",
       "7       8  1  2  146\n",
       "8       9  1  2  160\n",
       "9      10  1  2  171\n",
       "10     11  1  2  172\n",
       "11     12  1  2  173\n",
       "12     13  1  2  174\n",
       "13     14  1  2  183\n",
       "14     15  1  2  184\n",
       "15     16  1  2  185\n",
       "16     17  1  2  233\n",
       "17     18  1  2  234\n",
       "18     19  1  2  235\n",
       "19     20  1  2  236"
      ]
     },
     "execution_count": 81,
     "metadata": {},
     "output_type": "execute_result"
    }
   ],
   "source": [
    "DF_DRN_.head(20)"
   ]
  },
  {
   "cell_type": "code",
   "execution_count": 82,
   "id": "5507bf07",
   "metadata": {},
   "outputs": [
    {
     "data": {
      "application/vnd.microsoft.datawrangler.viewer.v0+json": {
       "columns": [
        {
         "name": "index",
         "rawType": "int64",
         "type": "integer"
        },
        {
         "name": "Tgt_L",
         "rawType": "int64",
         "type": "integer"
        },
        {
         "name": "Tgt_R",
         "rawType": "int64",
         "type": "integer"
        },
        {
         "name": "Tgt_C",
         "rawType": "int64",
         "type": "integer"
        },
        {
         "name": "SFR_L",
         "rawType": "int64",
         "type": "integer"
        },
        {
         "name": "SFR_R",
         "rawType": "int64",
         "type": "integer"
        },
        {
         "name": "SFR_C",
         "rawType": "int64",
         "type": "integer"
        }
       ],
       "ref": "08dade08-49a8-40e7-b3cf-4b4695b732d3",
       "rows": [
        [
         "114",
         "1",
         "2",
         "2",
         "1",
         "4",
         "3"
        ],
        [
         "115",
         "1",
         "2",
         "3",
         "1",
         "4",
         "3"
        ],
        [
         "116",
         "1",
         "2",
         "4",
         "1",
         "2",
         "6"
        ],
        [
         "117",
         "1",
         "2",
         "5",
         "1",
         "2",
         "6"
        ],
        [
         "118",
         "1",
         "2",
         "143",
         "1",
         "2",
         "142"
        ],
        [
         "119",
         "1",
         "2",
         "144",
         "1",
         "1",
         "144"
        ],
        [
         "120",
         "1",
         "2",
         "145",
         "1",
         "3",
         "145"
        ],
        [
         "121",
         "1",
         "2",
         "146",
         "1",
         "2",
         "146"
        ],
        [
         "122",
         "1",
         "2",
         "160",
         "1",
         "2",
         "160"
        ],
        [
         "123",
         "1",
         "2",
         "171",
         "1",
         "4",
         "171"
        ],
        [
         "124",
         "1",
         "2",
         "172",
         "1",
         "1",
         "173"
        ],
        [
         "125",
         "1",
         "2",
         "173",
         "1",
         "1",
         "173"
        ],
        [
         "126",
         "1",
         "2",
         "174",
         "1",
         "2",
         "174"
        ],
        [
         "127",
         "1",
         "2",
         "183",
         "1",
         "4",
         "185"
        ],
        [
         "128",
         "1",
         "2",
         "184",
         "1",
         "4",
         "185"
        ],
        [
         "129",
         "1",
         "2",
         "185",
         "1",
         "3",
         "186"
        ],
        [
         "130",
         "1",
         "2",
         "233",
         "1",
         "2",
         "233"
        ],
        [
         "131",
         "1",
         "2",
         "234",
         "1",
         "2",
         "233"
        ],
        [
         "132",
         "1",
         "2",
         "235",
         "1",
         "3",
         "236"
        ],
        [
         "133",
         "1",
         "2",
         "236",
         "1",
         "2",
         "237"
        ]
       ],
       "shape": {
        "columns": 6,
        "rows": 20
       }
      },
      "text/html": [
       "<div>\n",
       "<style scoped>\n",
       "    .dataframe tbody tr th:only-of-type {\n",
       "        vertical-align: middle;\n",
       "    }\n",
       "\n",
       "    .dataframe tbody tr th {\n",
       "        vertical-align: top;\n",
       "    }\n",
       "\n",
       "    .dataframe thead th {\n",
       "        text-align: right;\n",
       "    }\n",
       "</style>\n",
       "<table border=\"1\" class=\"dataframe\">\n",
       "  <thead>\n",
       "    <tr style=\"text-align: right;\">\n",
       "      <th></th>\n",
       "      <th>Tgt_L</th>\n",
       "      <th>Tgt_R</th>\n",
       "      <th>Tgt_C</th>\n",
       "      <th>SFR_L</th>\n",
       "      <th>SFR_R</th>\n",
       "      <th>SFR_C</th>\n",
       "    </tr>\n",
       "  </thead>\n",
       "  <tbody>\n",
       "    <tr>\n",
       "      <th>114</th>\n",
       "      <td>1</td>\n",
       "      <td>2</td>\n",
       "      <td>2</td>\n",
       "      <td>1</td>\n",
       "      <td>4</td>\n",
       "      <td>3</td>\n",
       "    </tr>\n",
       "    <tr>\n",
       "      <th>115</th>\n",
       "      <td>1</td>\n",
       "      <td>2</td>\n",
       "      <td>3</td>\n",
       "      <td>1</td>\n",
       "      <td>4</td>\n",
       "      <td>3</td>\n",
       "    </tr>\n",
       "    <tr>\n",
       "      <th>116</th>\n",
       "      <td>1</td>\n",
       "      <td>2</td>\n",
       "      <td>4</td>\n",
       "      <td>1</td>\n",
       "      <td>2</td>\n",
       "      <td>6</td>\n",
       "    </tr>\n",
       "    <tr>\n",
       "      <th>117</th>\n",
       "      <td>1</td>\n",
       "      <td>2</td>\n",
       "      <td>5</td>\n",
       "      <td>1</td>\n",
       "      <td>2</td>\n",
       "      <td>6</td>\n",
       "    </tr>\n",
       "    <tr>\n",
       "      <th>118</th>\n",
       "      <td>1</td>\n",
       "      <td>2</td>\n",
       "      <td>143</td>\n",
       "      <td>1</td>\n",
       "      <td>2</td>\n",
       "      <td>142</td>\n",
       "    </tr>\n",
       "    <tr>\n",
       "      <th>119</th>\n",
       "      <td>1</td>\n",
       "      <td>2</td>\n",
       "      <td>144</td>\n",
       "      <td>1</td>\n",
       "      <td>1</td>\n",
       "      <td>144</td>\n",
       "    </tr>\n",
       "    <tr>\n",
       "      <th>120</th>\n",
       "      <td>1</td>\n",
       "      <td>2</td>\n",
       "      <td>145</td>\n",
       "      <td>1</td>\n",
       "      <td>3</td>\n",
       "      <td>145</td>\n",
       "    </tr>\n",
       "    <tr>\n",
       "      <th>121</th>\n",
       "      <td>1</td>\n",
       "      <td>2</td>\n",
       "      <td>146</td>\n",
       "      <td>1</td>\n",
       "      <td>2</td>\n",
       "      <td>146</td>\n",
       "    </tr>\n",
       "    <tr>\n",
       "      <th>122</th>\n",
       "      <td>1</td>\n",
       "      <td>2</td>\n",
       "      <td>160</td>\n",
       "      <td>1</td>\n",
       "      <td>2</td>\n",
       "      <td>160</td>\n",
       "    </tr>\n",
       "    <tr>\n",
       "      <th>123</th>\n",
       "      <td>1</td>\n",
       "      <td>2</td>\n",
       "      <td>171</td>\n",
       "      <td>1</td>\n",
       "      <td>4</td>\n",
       "      <td>171</td>\n",
       "    </tr>\n",
       "    <tr>\n",
       "      <th>124</th>\n",
       "      <td>1</td>\n",
       "      <td>2</td>\n",
       "      <td>172</td>\n",
       "      <td>1</td>\n",
       "      <td>1</td>\n",
       "      <td>173</td>\n",
       "    </tr>\n",
       "    <tr>\n",
       "      <th>125</th>\n",
       "      <td>1</td>\n",
       "      <td>2</td>\n",
       "      <td>173</td>\n",
       "      <td>1</td>\n",
       "      <td>1</td>\n",
       "      <td>173</td>\n",
       "    </tr>\n",
       "    <tr>\n",
       "      <th>126</th>\n",
       "      <td>1</td>\n",
       "      <td>2</td>\n",
       "      <td>174</td>\n",
       "      <td>1</td>\n",
       "      <td>2</td>\n",
       "      <td>174</td>\n",
       "    </tr>\n",
       "    <tr>\n",
       "      <th>127</th>\n",
       "      <td>1</td>\n",
       "      <td>2</td>\n",
       "      <td>183</td>\n",
       "      <td>1</td>\n",
       "      <td>4</td>\n",
       "      <td>185</td>\n",
       "    </tr>\n",
       "    <tr>\n",
       "      <th>128</th>\n",
       "      <td>1</td>\n",
       "      <td>2</td>\n",
       "      <td>184</td>\n",
       "      <td>1</td>\n",
       "      <td>4</td>\n",
       "      <td>185</td>\n",
       "    </tr>\n",
       "    <tr>\n",
       "      <th>129</th>\n",
       "      <td>1</td>\n",
       "      <td>2</td>\n",
       "      <td>185</td>\n",
       "      <td>1</td>\n",
       "      <td>3</td>\n",
       "      <td>186</td>\n",
       "    </tr>\n",
       "    <tr>\n",
       "      <th>130</th>\n",
       "      <td>1</td>\n",
       "      <td>2</td>\n",
       "      <td>233</td>\n",
       "      <td>1</td>\n",
       "      <td>2</td>\n",
       "      <td>233</td>\n",
       "    </tr>\n",
       "    <tr>\n",
       "      <th>131</th>\n",
       "      <td>1</td>\n",
       "      <td>2</td>\n",
       "      <td>234</td>\n",
       "      <td>1</td>\n",
       "      <td>2</td>\n",
       "      <td>233</td>\n",
       "    </tr>\n",
       "    <tr>\n",
       "      <th>132</th>\n",
       "      <td>1</td>\n",
       "      <td>2</td>\n",
       "      <td>235</td>\n",
       "      <td>1</td>\n",
       "      <td>3</td>\n",
       "      <td>236</td>\n",
       "    </tr>\n",
       "    <tr>\n",
       "      <th>133</th>\n",
       "      <td>1</td>\n",
       "      <td>2</td>\n",
       "      <td>236</td>\n",
       "      <td>1</td>\n",
       "      <td>2</td>\n",
       "      <td>237</td>\n",
       "    </tr>\n",
       "  </tbody>\n",
       "</table>\n",
       "</div>"
      ],
      "text/plain": [
       "     Tgt_L  Tgt_R  Tgt_C  SFR_L  SFR_R  SFR_C\n",
       "114      1      2      2      1      4      3\n",
       "115      1      2      3      1      4      3\n",
       "116      1      2      4      1      2      6\n",
       "117      1      2      5      1      2      6\n",
       "118      1      2    143      1      2    142\n",
       "119      1      2    144      1      1    144\n",
       "120      1      2    145      1      3    145\n",
       "121      1      2    146      1      2    146\n",
       "122      1      2    160      1      2    160\n",
       "123      1      2    171      1      4    171\n",
       "124      1      2    172      1      1    173\n",
       "125      1      2    173      1      1    173\n",
       "126      1      2    174      1      2    174\n",
       "127      1      2    183      1      4    185\n",
       "128      1      2    184      1      4    185\n",
       "129      1      2    185      1      3    186\n",
       "130      1      2    233      1      2    233\n",
       "131      1      2    234      1      2    233\n",
       "132      1      2    235      1      3    236\n",
       "133      1      2    236      1      2    237"
      ]
     },
     "execution_count": 82,
     "metadata": {},
     "output_type": "execute_result"
    }
   ],
   "source": [
    "DF.head(20)"
   ]
  },
  {
   "cell_type": "code",
   "execution_count": 83,
   "id": "0d6545f9",
   "metadata": {},
   "outputs": [
    {
     "data": {
      "application/vnd.microsoft.datawrangler.viewer.v0+json": {
       "columns": [
        {
         "name": "index",
         "rawType": "int64",
         "type": "integer"
        },
        {
         "name": "SFR_L",
         "rawType": "int64",
         "type": "integer"
        },
        {
         "name": "SFR_R",
         "rawType": "int64",
         "type": "integer"
        },
        {
         "name": "SFR_C",
         "rawType": "int64",
         "type": "integer"
        },
        {
         "name": "Pvd_i",
         "rawType": "int64",
         "type": "integer"
        }
       ],
       "ref": "71f07c86-d9cc-498f-b591-1b04fb3b3a0a",
       "rows": [
        [
         "0",
         "1",
         "4",
         "3",
         "1"
        ],
        [
         "1",
         "1",
         "4",
         "3",
         "2"
        ],
        [
         "2",
         "1",
         "2",
         "6",
         "3"
        ],
        [
         "3",
         "1",
         "2",
         "6",
         "4"
        ],
        [
         "4",
         "1",
         "2",
         "142",
         "5"
        ]
       ],
       "shape": {
        "columns": 4,
        "rows": 5
       }
      },
      "text/html": [
       "<div>\n",
       "<style scoped>\n",
       "    .dataframe tbody tr th:only-of-type {\n",
       "        vertical-align: middle;\n",
       "    }\n",
       "\n",
       "    .dataframe tbody tr th {\n",
       "        vertical-align: top;\n",
       "    }\n",
       "\n",
       "    .dataframe thead th {\n",
       "        text-align: right;\n",
       "    }\n",
       "</style>\n",
       "<table border=\"1\" class=\"dataframe\">\n",
       "  <thead>\n",
       "    <tr style=\"text-align: right;\">\n",
       "      <th></th>\n",
       "      <th>SFR_L</th>\n",
       "      <th>SFR_R</th>\n",
       "      <th>SFR_C</th>\n",
       "      <th>Pvd_i</th>\n",
       "    </tr>\n",
       "  </thead>\n",
       "  <tbody>\n",
       "    <tr>\n",
       "      <th>0</th>\n",
       "      <td>1</td>\n",
       "      <td>4</td>\n",
       "      <td>3</td>\n",
       "      <td>1</td>\n",
       "    </tr>\n",
       "    <tr>\n",
       "      <th>1</th>\n",
       "      <td>1</td>\n",
       "      <td>4</td>\n",
       "      <td>3</td>\n",
       "      <td>2</td>\n",
       "    </tr>\n",
       "    <tr>\n",
       "      <th>2</th>\n",
       "      <td>1</td>\n",
       "      <td>2</td>\n",
       "      <td>6</td>\n",
       "      <td>3</td>\n",
       "    </tr>\n",
       "    <tr>\n",
       "      <th>3</th>\n",
       "      <td>1</td>\n",
       "      <td>2</td>\n",
       "      <td>6</td>\n",
       "      <td>4</td>\n",
       "    </tr>\n",
       "    <tr>\n",
       "      <th>4</th>\n",
       "      <td>1</td>\n",
       "      <td>2</td>\n",
       "      <td>142</td>\n",
       "      <td>5</td>\n",
       "    </tr>\n",
       "  </tbody>\n",
       "</table>\n",
       "</div>"
      ],
      "text/plain": [
       "   SFR_L  SFR_R  SFR_C  Pvd_i\n",
       "0      1      4      3      1\n",
       "1      1      4      3      2\n",
       "2      1      2      6      3\n",
       "3      1      2      6      4\n",
       "4      1      2    142      5"
      ]
     },
     "execution_count": 83,
     "metadata": {},
     "output_type": "execute_result"
    }
   ],
   "source": [
    "DF1.head()"
   ]
  },
  {
   "cell_type": "code",
   "execution_count": 84,
   "id": "f4a83fc1",
   "metadata": {},
   "outputs": [],
   "source": [
    "DF2 = DF1.merge(\n",
    "    DF_SFR, left_on=[f'SFR_{i}' for i in ('L', 'R', 'C')], right_on=['L', 'R', 'C'], how='left'\n",
    ")  # likewise for the other DF\n",
    "DF2 = DF2.drop(columns=['SFR_L', 'SFR_R', 'SFR_C', 'L', 'R', 'C'])  # Those are redundant now."
   ]
  },
  {
   "cell_type": "code",
   "execution_count": 85,
   "id": "1c8ee0b8",
   "metadata": {},
   "outputs": [],
   "source": [
    "t = U.DF_to_MF_block(DF2)"
   ]
  },
  {
   "cell_type": "code",
   "execution_count": 86,
   "id": "8a23a830",
   "metadata": {},
   "outputs": [],
   "source": [
    "l = []"
   ]
  },
  {
   "cell_type": "code",
   "execution_count": 87,
   "id": "1ed96828",
   "metadata": {},
   "outputs": [],
   "source": [
    "l.append(t)"
   ]
  },
  {
   "cell_type": "code",
   "execution_count": 88,
   "id": "54d424d3",
   "metadata": {},
   "outputs": [
    {
     "data": {
      "text/plain": [
       "'    #Pvd_i Rcv_i\\n         1   394\\n         2   394\\n         3   136\\n         4   136\\n         5   173\\n         6    53\\n         7   298\\n         8   174\\n         9   183\\n        10   446\\n        11    66\\n        12    66\\n        13   187\\n        14   449\\n        15   449\\n        16   311\\n        17   204\\n        18   204\\n        19   331\\n        20   205\\n        21   207\\n        22   207\\n        23   207\\n        24   335\\n        25   208\\n        26   211\\n        27   211\\n        28   473\\n        29   474\\n        30   475\\n        31   476\\n        32   477\\n        33   478\\n        34   479\\n        35   480\\n        36   481\\n        37   482\\n        38   483\\n        39   484\\n        40   212\\n        41   212\\n        42   212\\n        43   339\\n        44   489\\n        45   490\\n        46   491\\n        47   492\\n        48   493\\n        49   494\\n        50   495\\n        51    90\\n        52    90\\n        53   213\\n        54   213\\n        55   213\\n        56   341\\n        57   341\\n        58   342\\n        59   214\\n        60   219\\n        61   220\\n        62    93\\n        63    94\\n        64    95\\n        65   221\\n        66   223\\n        67   223\\n        68   223\\n        69   507\\n        70   507\\n        71   350\\n        72   350\\n        73   350\\n        74   350\\n        75   351\\n        76    99\\n        77   224\\n        78   225\\n        79   226\\n        80   227\\n        81   229\\n        82   230\\n        83   230\\n        84   357\\n        85   358\\n        86   358\\n        87   231\\n        88   231\\n        89   231\\n        90   231\\n        91   231\\n        92   670\\n        93   670\\n        94   232\\n        95   232\\n        96   232\\n        97   232\\n        98   232\\n        99   232\\n       100   233\\n       101   233\\n       102   233\\n       103   233\\n       104   107\\n       105   107\\n       106   108\\n       107   234\\n       108   110\\n       109   111\\n       110   112\\n       111   113\\n       112   114\\n       113   115\\n       114   235\\n       115   117\\n       116   118\\n       117   119\\n       118   236\\n       119   237\\n       120   394\\n       121   394\\n       122   395\\n       123   258\\n       124   173\\n       125   437\\n       126   297\\n       127   304\\n       128   183\\n       129   305\\n       130   306\\n       131   446\\n       132   187\\n       133   187\\n       134   309\\n       135   449\\n       136   449\\n       137   311\\n       138   330\\n       139   330\\n       140   331\\n       141   331\\n       142   334\\n       143   334\\n       144   335\\n       145   335\\n       146   335\\n       147   337\\n       148   472\\n       149   473\\n       150   474\\n       151   475\\n       152   476\\n       153   477\\n       154   478\\n       155   479\\n       156   480\\n       157   481\\n       158   482\\n       159   483\\n       160   484\\n       161   485\\n       162   338\\n       163   339\\n       164   339\\n       165   489\\n       166   490\\n       167   491\\n       168   492\\n       169   493\\n       170   494\\n       171   495\\n       172   496\\n       173   497\\n       174   340\\n       175   500\\n       176   501\\n       177   341\\n       178   342\\n       179   343\\n       180   346\\n       181   219\\n       182   220\\n       183   220\\n       184    94\\n       185   347\\n       186   347\\n       187   507\\n       188   507\\n       189   507\\n       190   507\\n       191   350\\n       192   350\\n       193   350\\n       194   350\\n       195   351\\n       196   352\\n       197   353\\n       198   354\\n       199   354\\n       200   227\\n       201   228\\n       202   355\\n       203   355\\n       204   356\\n       205   357\\n       206   358\\n       207   358\\n       208   512\\n       209   359\\n       210   359\\n       211   359\\n       212   669\\n       213   670\\n       214   670\\n       215   670\\n       216   360\\n       217   360\\n       218   360\\n       219   360\\n       220   361\\n       221   361\\n       222   361\\n       223   361\\n       224   361\\n       225   107\\n       226   362\\n       227   362\\n       228   362\\n       229   111\\n       230   112\\n       231   113\\n       232   518\\n       233   518\\n       234   235\\n       235   235\\n       236   118\\n       237   236\\n       238   236\\n       239   237\\n       240   238\\n       241   239\\n       242   363\\n       243   364\\n       244   365\\n       245   394\\n       246   394\\n       247   395\\n       248   396\\n       249   304\\n       250   305\\n       251   305\\n       252   306\\n       253   443\\n       254   627\\n       255   628\\n       256   309\\n       257   447\\n       258   449\\n       259   330\\n       260   465\\n       261   465\\n       262   334\\n       263   334\\n       264   468\\n       265   468\\n       266   484\\n       267   485\\n       268   486\\n       269   487\\n       270   488\\n       271   489\\n       272   490\\n       273   491\\n       274   492\\n       275   493\\n       276   494\\n       277   495\\n       278   496\\n       279   497\\n       280   498\\n       281   499\\n       282   501\\n       283   502\\n       284   504\\n       285   504\\n       286   504\\n       287   220\\n       288   347\\n       289   347\\n       290   347\\n       291   507\\n       292   507\\n       293   507\\n       294   806\\n       295   350\\n       296   350\\n       297   350\\n       298   350\\n       299   351\\n       300   352\\n       301   353\\n       302   508\\n       303   508\\n       304   508\\n       305   228\\n       306   355\\n       307   355\\n       308   356\\n       309   509\\n       310   510\\n       311   511\\n       312   512\\n       313   513\\n       314   514\\n       315   514\\n       316   669\\n       317   670\\n       318   670\\n       319   811\\n       320   515\\n       321   515\\n       322   515\\n       323   515\\n       324   516\\n       325   516\\n       326   516\\n       327   516\\n       328   516\\n       329   517\\n       330   517\\n       331   517\\n       332   517\\n       333   517\\n       334   816\\n       335   518\\n       336   518\\n       337   518\\n       338   518\\n       339   819\\n       340   820\\n       341   821\\n       342   236\\n       343   237\\n       344   238\\n       345   363\\n       346   363\\n       347   364\\n       348   365\\n       349   366\\n       350   367\\n       351   623\\n       352   623\\n       353   305\\n       354   443\\n       355   443\\n       356   624\\n       357   628\\n       358   629\\n       359   629\\n       360   630\\n       361   647\\n       362   783\\n       363   648\\n       364   651\\n       365   651\\n       366   651\\n       367   786\\n       368   786\\n       369   652\\n       370   653\\n       371   492\\n       372   493\\n       373   494\\n       374   495\\n       375   496\\n       376   497\\n       377   498\\n       378   659\\n       379   501\\n       380   502\\n       381   661\\n       382   661\\n       383   798\\n       384   798\\n       385   347\\n       386   662\\n       387   662\\n       388   662\\n       389   664\\n       390   806\\n       391   806\\n       392  1091\\n       393   350\\n       394   350\\n       395   350\\n       396   351\\n       397   665\\n       398   665\\n       399   355\\n       400   355\\n       401   355\\n       402   666\\n       403   666\\n       404   510\\n       405   511\\n       406   512\\n       407   513\\n       408   667\\n       409   670\\n       410   670\\n       411   811\\n       412   812\\n       413   671\\n       414   671\\n       415   671\\n       416   672\\n       417   672\\n       418   672\\n       419   672\\n       420   673\\n       421   673\\n       422   673\\n       423   673\\n       424   958\\n       425   816\\n       426   674\\n       427   674\\n       428   818\\n       429   819\\n       430   820\\n       431   821\\n       432   822\\n       433   823\\n       434   824\\n       435   825\\n       436   826\\n       437   827\\n       438   827\\n       439   675\\n       440   675\\n       441   761\\n       442   761\\n       443  1041\\n       444   443\\n       445   624\\n       446   624\\n       447   762\\n       448   766\\n       449   767\\n       450   910\\n       451   768\\n       452   783\\n       453   783\\n       454   785\\n       455   651\\n       456   786\\n       457   786\\n       458   786\\n       459   786\\n       460   653\\n       461   654\\n       462   787\\n       463   788\\n       464   794\\n       465   794\\n       466   794\\n       467   495\\n       468   496\\n       469   497\\n       470   795\\n       471   795\\n       472   795\\n       473   935\\n       474   796\\n       475   796\\n       476   798\\n       477   798\\n       478   798\\n       479   798\\n       480   662\\n       481   662\\n       482   799\\n       483   806\\n       484   807\\n       485   807\\n       486   807\\n       487   808\\n       488   808\\n       489   808\\n       490   808\\n       491   808\\n       492   511\\n       493   512\\n       494   667\\n       495   667\\n       496   668\\n       497   669\\n       498   809\\n       499   810\\n       500   812\\n       501   813\\n       502   813\\n       503   813\\n       504   813\\n       505   953\\n       506   814\\n       507   814\\n       508   814\\n       509   815\\n       510   815\\n       511   815\\n       512   957\\n       513   958\\n       514   816\\n       515   816\\n       516   817\\n       517   818\\n       518   819\\n       519   820\\n       520   821\\n       521   827\\n       522   827\\n       523   904\\n       524  1041\\n       525  1041\\n       526  1041\\n       527   624\\n       528   762\\n       529   905\\n       530   905\\n       531   910\\n       532   910\\n       533   911\\n       534   915\\n       535   927\\n       536   927\\n       537   927\\n       538  1075\\n       539  1075\\n       540   928\\n       541   928\\n       542   928\\n       543   787\\n       544   787\\n       545   788\\n       546   789\\n       547   929\\n       548   930\\n       549   934\\n       550   934\\n       551   934\\n       552   934\\n       553   496\\n       554   795\\n       555   795\\n       556   795\\n       557   935\\n       558   935\\n       559   796\\n       560   796\\n       561   937\\n       562   937\\n       563   937\\n       564  1232\\n       565   662\\n       566   938\\n       567   938\\n       568   947\\n       569   947\\n       570   947\\n       571  1363\\n       572   948\\n       573   948\\n       574   948\\n       575   948\\n       576  1099\\n       577  1099\\n       578   667\\n       579   667\\n       580   668\\n       581   809\\n       582   809\\n       583  1100\\n       584   949\\n       585   950\\n       586   951\\n       587  1104\\n       588   953\\n       589  1107\\n       590  1108\\n       591  1108\\n       592   955\\n       593   959\\n       594   816\\n       595   817\\n       596   960\\n       597   960\\n       598  1041\\n       599  1041\\n       600  1191\\n       601  1191\\n       602   762\\n       603   905\\n       604   905\\n       605  1042\\n       606  1045\\n       607  1046\\n       608  1050\\n       609  1198\\n       610  1054\\n       611   915\\n       612  1058\\n       613  1074\\n       614  1074\\n       615  1074\\n       616  1075\\n       617  1075\\n       618  1076\\n       619  1076\\n       620  1076\\n       621   787\\n       622   787\\n       623   788\\n       624   929\\n       625   929\\n       626  1220\\n       627  1080\\n       628  1080\\n       629  1080\\n       630  1080\\n       631   795\\n       632   795\\n       633  1081\\n       634  1081\\n       635  1081\\n       636  1228\\n       637  1082\\n       638  1083\\n       639  1232\\n       640  1232\\n       641  1084\\n       642  1084\\n       643  1084\\n       644  1084\\n       645  1097\\n       646  1097\\n       647  1362\\n       648  1363\\n       649  1364\\n       650  1098\\n       651  1098\\n       652  1099\\n       653  1099\\n       654  1099\\n       655  1370\\n       656  1371\\n       657  1371\\n       658  1100\\n       659  1100\\n       660  1100\\n       661  1101\\n       662  1101\\n       663   951\\n       664   959\\n       665   959\\n       666   817\\n       667   960\\n       668   960\\n       669  1110\\n       670  1191\\n       671  1191\\n       672  1318\\n       673  1318\\n       674   905\\n       675  1042\\n       676  1042\\n       677  1194\\n       678  1045\\n       679  1046\\n       680  1195\\n       681  1197\\n       682  1198\\n       683  1202\\n       684  1054\\n       685  1203\\n       686  1203\\n       687  1206\\n       688  1058\\n       689  1059\\n       690  1207\\n       691  1218\\n       692  1074\\n       693  1219\\n       694  1219\\n       695  1219\\n       696  1219\\n       697  1076\\n       698  1076\\n       699  1076\\n       700   787\\n       701   929\\n       702  1220\\n       703  1220\\n       704  1220\\n       705  1226\\n       706  1226\\n       707  1472\\n       708  1472\\n       709  1227\\n       710  1227\\n       711  1227\\n       712  1227\\n       713  1228\\n       714  1228\\n       715  1229\\n       716  1229\\n       717  1232\\n       718  1232\\n       719  1232\\n       720  1478\\n       721  1084\\n       722  1084\\n       723  1233\\n       724  1236\\n       725  1361\\n       726  1362\\n       727  1363\\n       728  1364\\n       729  1365\\n       730  1098\\n       731  1237\\n       732  1237\\n       733  1369\\n       734  1370\\n       735  1371\\n       736  1371\\n       737  1485\\n       738  1238\\n       739  1238\\n       740  1238\\n       741  1101\\n       742  1239\\n       743  1492\\n       744  1493\\n       745  1494\\n       746   960\\n       747  1110\\n       748  1110\\n       749  1318\\n       750  1318\\n       751  1440\\n       752  1440\\n       753  1319\\n       754  1319\\n       755  1319\\n       756  1322\\n       757  1194\\n       758  1195\\n       759  1195\\n       760  1196\\n       761  1324\\n       762  1327\\n       763  1327\\n       764  1202\\n       765  1203\\n       766  1328\\n       767  1328\\n       768  1331\\n       769  1331\\n       770  1453\\n       771  1207\\n       772  1207\\n       773  1332\\n       774  1333\\n       775  1346\\n       776  1346\\n       777  1346\\n       778  1465\\n       779  1465\\n       780  1347\\n       781  1347\\n       782  1347\\n       783  1076\\n       784  1076\\n       785  1576\\n       786  1576\\n       787  1348\\n       788  1348\\n       789  1353\\n       790  1472\\n       791  1472\\n       792  1472\\n       793  1227\\n       794  1227\\n       795  1227\\n       796  1227\\n       797  1474\\n       798  1474\\n       799  1355\\n       800  1356\\n       801  1356\\n       802  1478\\n       803  1478\\n       804  1084\\n       805  1357\\n       806  1357\\n       807  1357\\n       808  1360\\n       809  1361\\n       810  1364\\n       811  1365\\n       812  1366\\n       813  1367\\n       814  1368\\n       815  1369\\n       816  1370\\n       817  1371\\n       818  1371\\n       819  1485\\n       820  1372\\n       821  1372\\n       822  1373\\n       823  1492\\n       824  1493\\n       825  1494\\n       826  1494\\n       827  1376\\n       828  1376\\n       829  1376\\n       830  1396\\n       831  1440\\n       832  1440\\n       833  1546\\n       834  1686\\n       835  1319\\n       836  1319\\n       837  1320\\n       838  1441\\n       839  1442\\n       840  1442\\n       841  1549\\n       842  1549\\n       843  1195\\n       844  1323\\n       845  1323\\n       846  1443\\n       847  1447\\n       848  1327\\n       849  1327\\n       850  1327\\n       851  1328\\n       852  1328\\n       853  1328\\n       854  1448\\n       855  1453\\n       856  1453\\n       857  1562\\n       858  1562\\n       859  1332\\n       860  1333\\n       861  1454\\n       862  1465\\n       863  1465\\n       864  1465\\n       865  1347\\n       866  1347\\n       867  1717\\n       868  1717\\n       869  1717\\n       870  1576\\n       871  1576\\n       872  1576\\n       873  1466\\n       874  1472\\n       875  1472\\n       876  1472\\n       877  1472\\n       878  1726\\n       879  1726\\n       880  1726\\n       881  1473\\n       882  1473\\n       883  1474\\n       884  1474\\n       885  1475\\n       886  1475\\n       887  1478\\n       888  1478\\n       889  1478\\n       890  1479\\n       891  1479\\n       892  1479\\n       893  1479\\n       894  1483\\n       895  1361\\n       896  1362\\n       897  1363\\n       898  1365\\n       899  1366\\n       900  1367\\n       901  1368\\n       902  1369\\n       903  1370\\n       904  1371\\n       905  1484\\n       906  1485\\n       907  1493\\n       908  1494\\n       909  1606\\n       910  1511\\n       911  1396\\n       912  1397\\n       913  1512\\n       914  1513\\n       915  1546\\n       916  1686\\n       917  1686\\n       918  1686\\n       919  1319\\n       920  1441\\n       921  1441\\n       922  1547\\n       923  1548\\n       924  1549\\n       925  1549\\n       926  1690\\n       927  1691\\n       928  1550\\n       929  1550\\n       930  1553\\n       931  1553\\n       932  1447\\n       933  1327\\n       934  1327\\n       935  1554\\n       936  1554\\n       937  1554\\n       938  1562\\n       939  1562\\n       940  1700\\n       941  1700\\n       942  1454\\n       943  1455\\n       944  1563\\n       945  1575\\n       946  1716\\n       947  1717\\n       948  1717\\n       949  1717\\n       950  1857\\n       951  1576\\n       952  1576\\n       953  1576\\n       954  1588\\n       955  1588\\n       956  1588\\n       957  1588\\n       958  1726\\n       959  1726\\n       960  1726\\n       961  1727\\n       962  1589\\n       963  1590\\n       964  1590\\n       965  1730\\n       966  1475\\n       967  1592\\n       968  1592\\n       969  1592\\n       970  1873\\n       971  1479\\n       972  1479\\n       973  1479\\n       974  1602\\n       975  1602\\n       976  1362\\n       977  1363\\n       978  1364\\n       979  1365\\n       980  1366\\n       981  1367\\n       982  1368\\n       983  1369\\n       984  1370\\n       985  1484\\n       986  1484\\n       987  1485\\n       988  1488\\n       989  1489\\n       990  1490\\n       991  1491\\n       992  1492\\n       993  1493\\n       994  1605\\n       995  1627\\n       996  1627\\n       997  1512\\n       998  1512\\n       999  1513\\n      1000  1686\\n      1001  1686\\n      1002  1828\\n      1003  1828\\n      1004  1829\\n      1005  1829\\n      1006  1687\\n      1007  1690\\n      1008  1690\\n      1009  1691\\n      1010  1691\\n      1011  1694\\n      1012  1553\\n      1013  1553\\n      1014  1553\\n      1015  1447\\n      1016  1695\\n      1017  1695\\n      1018  1695\\n      1019  1700\\n      1020  1700\\n      1021  1840\\n      1022  1563\\n      1023  1563\\n      1024  1564\\n      1025  1701\\n      1026  1716\\n      1027  1717\\n      1028  1717\\n      1029  1857\\n      1030  1857\\n      1031  1718\\n      1032  1718\\n      1033  1718\\n      1034  1725\\n      1035  1725\\n      1036  1725\\n      1037  1725\\n      1038  1726\\n      1039  1726\\n      1040  1726\\n      1041  1727\\n      1042  1728\\n      1043  1730\\n      1044  1730\\n      1045  1731\\n      1046  1732\\n      1047  1873\\n      1048  1873\\n      1049  1479\\n      1050  1733\\n      1051  1733\\n      1052  1733\\n      1053  1739\\n      1054  1739\\n      1055  1739\\n      1056  1363\\n      1057  1364\\n      1058  1365\\n      1059  1366\\n      1060  1367\\n      1061  2019\\n      1062  2019\\n      1063  2019\\n      1064  2020\\n      1065  1484\\n      1066  1885\\n      1067  1745\\n      1068  1745\\n      1069  1745\\n      1070  1491\\n      1071  1492\\n      1072  1605\\n      1073  1605\\n      1074  1763\\n      1075  1763\\n      1076  1763\\n      1077  1512\\n      1078  1513\\n      1079  1828\\n      1080  1828\\n      1081  1964\\n      1082  1965\\n      1083  1829\\n      1084  1832\\n      1085  1832\\n      1086  1835\\n      1087  1835\\n      1088  1694\\n      1089  1553\\n      1090  1553\\n      1091  1553\\n      1092  1836\\n      1093  1836\\n      1094  1840\\n      1095  1840\\n      1096  1976\\n      1097  1976\\n      1098  1701\\n      1099  1841\\n      1100  1841\\n      1101  1842\\n      1102  1715\\n      1103  1716\\n      1104  1856\\n      1105  1857\\n      1106  1857\\n      1107  1857\\n      1108  1990\\n      1109  1990\\n      1110  1867\\n      1111  1867\\n      1112  2125\\n      1113  1726\\n      1114  1726\\n      1115  1726\\n      1116  1727\\n      1117  1728\\n      1118  1868\\n      1119  1869\\n      1120  1869\\n      1121  1870\\n      1122  1870\\n      1123  1871\\n      1124  1871\\n      1125  1871\\n      1126  1872\\n      1127  1872\\n      1128  1872\\n      1129  1873\\n      1130  1873\\n      1131  1873\\n      1132  1873\\n      1133  1733\\n      1134  1733\\n      1135  1733\\n      1136  1884\\n      1137  1884\\n      1138  1884\\n      1139  1884\\n      1140  2259\\n      1141  2259\\n      1142  2136\\n      1143  2136\\n      1144  2136\\n      1145  2019\\n      1146  2019\\n      1147  2020\\n      1148  2021\\n      1149  1885\\n      1150  1895\\n      1151  1896\\n      1152  1896\\n      1153  1897\\n      1154  1744\\n      1155  1745\\n      1156  1745\\n      1157  1745\\n      1158  1491\\n      1159  1605\\n      1160  1898\\n      1161  1898\\n      1162  1914\\n      1163  1914\\n      1164  1512\\n      1165  1628\\n      1166  1964\\n      1167  1964\\n      1168  1965\\n      1169  1835\\n      1170  2216\\n      1171  2216\\n      1172  2216\\n      1173  2216\\n      1174  1973\\n      1175  1976\\n      1176  1976\\n      1177  2101\\n      1178  1841\\n      1179  1841\\n      1180  1842\\n      1181  1977\\n      1182  1715\\n      1183  1856\\n      1184  1856\\n      1185  1857\\n      1186  1857\\n      1187  1990\\n      1188  1990\\n      1189  1990\\n      1190  2003\\n      1191  2125\\n      1192  2125\\n      1193  2125\\n      1194  1726\\n      1195  1726\\n      1196  1727\\n      1197  1868\\n      1198  1868\\n      1199  2004\\n      1200  2127\\n      1201  1870\\n      1202  2005\\n      1203  2005\\n      1204  2005\\n      1205  1872\\n      1206  1872\\n      1207  1872\\n      1208  2006\\n      1209  2006\\n      1210  2245\\n      1211  1733\\n      1212  2007\\n      1213  2007\\n      1214  2007\\n      1215  2018\\n      1216  2018\\n      1217  2018\\n      1218  2018\\n      1219  2259\\n      1220  2259\\n      1221  2259\\n      1222  2136\\n      1223  2136\\n      1224  2019\\n      1225  2019\\n      1226  2020\\n      1227  2022\\n      1228  2023\\n      1229  2024\\n      1230  2024\\n      1231  1888\\n      1232  1889\\n      1233  1890\\n      1234  2143\\n      1235  1895\\n      1236  1896\\n      1237  2027\\n      1238  2027\\n      1239  2144\\n      1240  2144\\n      1241  1745\\n      1242  1745\\n      1243  1745\\n      1244  2028\\n      1245  2028\\n      1246  2028\\n      1247  2293\\n      1248  2294\\n      1249  2295\\n      1250  2088\\n      1251  2216\\n      1252  2216\\n      1253  2216\\n      1254  2216\\n      1255  2216\\n      1256  2096\\n      1257  2096\\n      1258  1973\\n      1259  2101\\n      1260  2223\\n      1261  2224\\n      1262  2224\\n      1263  1977\\n      1264  2102\\n      1265  2102\\n      1266  2358\\n      1267  2359\\n      1268  1856\\n      1269  1857\\n      1270  1857\\n      1271  2114\\n      1272  2114\\n      1273  2114\\n      1274  1999\\n      1275  2000\\n      1276  2001\\n      1277  2002\\n      1278  2123\\n      1279  2125\\n      1280  2125\\n      1281  2242\\n      1282  2242\\n      1283  2373\\n      1284  1868\\n      1285  2126\\n      1286  2126\\n      1287  2126\\n      1288  2127\\n      1289  2127\\n      1290  2128\\n      1291  2128\\n      1292  2128\\n      1293  2244\\n      1294  2244\\n      1295  2129\\n      1296  2129\\n      1297  2129\\n      1298  2245\\n      1299  2245\\n      1300  2245\\n      1301  2130\\n      1302  2130\\n      1303  2130\\n      1304  2135\\n      1305  2135\\n      1306  2386\\n      1307  2387\\n      1308  2259\\n      1309  2259\\n      1310  2136\\n      1311  2136\\n      1312  2137\\n      1313  2138\\n      1314  2138\\n      1315  2021\\n      1316  2139\\n      1317  2139\\n      1318  2140\\n      1319  2140\\n      1320  2392\\n      1321  2141\\n      1322  2141\\n      1323  2143\\n      1324  2143\\n      1325  1896\\n      1326  2027\\n      1327  2027\\n      1328  2144\\n      1329  2144\\n      1330  2144\\n      1331  2144\\n      1332  2523\\n      1333  2145\\n      1334  2145\\n      1335  2145\\n      1336  2216\\n      1337  2216\\n      1338  2216\\n      1339  2216\\n      1340  2094\\n      1341  2218\\n      1342  2219\\n      1343  2220\\n      1344  2221\\n      1345  2224\\n      1346  2224\\n      1347  2224\\n      1348  2102\\n      1349  2102\\n      1350  2103\\n      1351  2225\\n      1352  2359\\n      1353  2360\\n      1354  2361\\n      1355  2361\\n      1356  2362\\n      1357  2362\\n      1358  1999\\n      1359  1999\\n      1360  2000\\n      1361  2001\\n      1362  2239\\n      1363  2239\\n      1364  2242\\n      1365  2242\\n      1366  2373\\n      1367  2373\\n      1368  2497\\n      1369  2126\\n      1370  2126\\n      1371  2126\\n      1372  2243\\n      1373  2243\\n      1374  2128\\n      1375  2128\\n      1376  2244\\n      1377  2244\\n      1378  2244\\n      1379  2129\\n      1380  2129\\n      1381  2129\\n      1382  2245\\n      1383  2245\\n      1384  2245\\n      1385  2503\\n      1386  2246\\n      1387  2246\\n      1388  2258\\n      1389  2386\\n      1390  2386\\n      1391  2387\\n      1392  2259\\n      1393  2259\\n      1394  2260\\n      1395  2261\\n      1396  2137\\n      1397  2262\\n      1398  2263\\n      1399  2263\\n      1400  2264\\n      1401  2264\\n      1402  2265\\n      1403  2265\\n      1404  2392\\n      1405  2393\\n      1406  2266\\n      1407  2267\\n      1408  2267\\n      1409  2267\\n      1410  2268\\n      1411  2268\\n      1412  2268\\n      1413  2268\\n      1414  2268\\n      1415  2268\\n      1416  2523\\n      1417  2523\\n      1418  2523\\n      1419  2269\\n      1420  2291\\n      1421  2292\\n      1422  2293\\n      1423  2294\\n      1424  2216\\n      1425  2216\\n      1426  2216\\n      1427  2216\\n      1428  2094\\n      1429  2094\\n      1430  2220\\n      1431  2221\\n      1432  2349\\n      1433  2349\\n      1434  2349\\n      1435  2102\\n      1436  2102\\n      1437  2225\\n      1438  2225\\n      1439  2350\\n      1440  2360\\n      1441  2361\\n      1442  2361\\n      1443  2362\\n      1444  2362\\n      1445  2369\\n      1446  2369\\n      1447  2618\\n      1448  2618\\n      1449  2618\\n      1450  2371\\n      1451  2371\\n      1452  2371\\n      1453  2373\\n      1454  2497\\n      1455  2497\\n      1456  2126\\n      1457  2374\\n      1458  2374\\n      1459  2375\\n      1460  2375\\n      1461  2376\\n      1462  2376\\n      1463  2501\\n      1464  2501\\n      1465  2377\\n      1466  2377\\n      1467  2377\\n      1468  2503\\n      1469  2503\\n      1470  2378\\n      1471  2378\\n      1472  2385\\n      1473  2386\\n      1474  2386\\n      1475  2387\\n      1476  2259\\n      1477  2260\\n      1478  2261\\n      1479  2261\\n      1480  2262\\n      1481  2389\\n      1482  2389\\n      1483  2264\\n      1484  2390\\n      1485  2393\\n      1486  2393\\n      1487  2395\\n      1488  2395\\n      1489  2395\\n      1490  2396\\n      1491  2396\\n      1492  2396\\n      1493  2396\\n      1494  2396\\n      1495  2645\\n      1496  2523\\n      1497  2523\\n      1498  2523\\n      1499  2524\\n      1500  2411\\n      1501  2411\\n      1502  2293\\n      1503  2294\\n      1504  2412\\n      1505  2467\\n      1506  2345\\n      1507  2345\\n      1508  2216\\n      1509  2216\\n      1510  2216\\n      1511  2094\\n      1512  2094\\n      1513  2094\\n      1514  2471\\n      1515  2349\\n      1516  2349\\n      1517  2349\\n      1518  2102\\n      1519  2225\\n      1520  2225\\n      1521  2350\\n      1522  2483\\n      1523  2484\\n      1524  2618\\n      1525  2618\\n      1526  2618\\n      1527  2619\\n      1528  2619\\n      1529  2497\\n      1530  2497\\n      1531  2497\\n      1532  2497\\n      1533  2498\\n      1534  2498\\n      1535  2498\\n      1536  2499\\n      1537  2499\\n      1538  2500\\n      1539  2500\\n      1540  2501\\n      1541  2501\\n      1542  2501\\n      1543  2502\\n      1544  2502\\n      1545  2502\\n      1546  2503\\n      1547  2503\\n      1548  2503\\n      1549  2625\\n      1550  2504\\n      1551  2514\\n      1552  2515\\n      1553  2388\\n      1554  2260\\n      1555  2261\\n      1556  2517\\n      1557  2517\\n      1558  2517\\n      1559  2517\\n      1560  2518\\n      1561  2518\\n      1562  2519\\n      1563  2519\\n      1564  2521\\n      1565  2521\\n      1566  2521\\n      1567  2522\\n      1568  2522\\n      1569  2522\\n      1570  2522\\n      1571  2522\\n      1572  2745\\n      1573  2645\\n      1574  2523\\n      1575  2523\\n      1576  2524\\n      1577  2540\\n      1578  2660\\n      1579  2412\\n      1580  2412\\n      1581  2592\\n      1582  2467\\n      1583  2467\\n      1584  2345\\n      1585  2345\\n      1586  2216\\n      1587  2216\\n      1588  2094\\n      1589  2094\\n      1590  2094\\n      1591  2217\\n      1592  2596\\n      1593  2471\\n      1594  2471\\n      1595  2349\\n      1596  2349\\n      1597  2349\\n      1598  2225\\n      1599  2350\\n      1600  2350\\n      1601  2618\\n      1602  2618\\n      1603  2618\\n      1604  2619\\n      1605  2619\\n      1606  2621\\n      1607  2621\\n      1608  2621\\n      1609  2840\\n      1610  2498\\n      1611  2498\\n      1612  2622\\n      1613  2622\\n      1614  2732\\n      1615  2500\\n      1616  2623\\n      1617  2623\\n      1618  2623\\n      1619  2502\\n      1620  2502\\n      1621  2624\\n      1622  2624\\n      1623  2624\\n      1624  2624\\n      1625  2625\\n      1626  2625\\n      1627  2505\\n      1628  2627\\n      1629  2627\\n      1630  2628\\n      1631  2388\\n      1632  2388\\n      1633  2261\\n      1634  2637\\n      1635  2637\\n      1636  2637\\n      1637  2637\\n      1638  2638\\n      1639  2638\\n      1640  2641\\n      1641  2641\\n      1642  2643\\n      1643  2643\\n      1644  2643\\n      1645  2644\\n      1646  2644\\n      1647  2644\\n      1648  2644\\n      1649  2745\\n      1650  2745\\n      1651  2645\\n      1652  2645\\n      1653  2660\\n      1654  2660\\n      1655  2661\\n      1656  2661\\n      1657  2704\\n      1658  2704\\n      1659  2592\\n      1660  2467\\n      1661  2467\\n      1662  2345\\n      1663  2345\\n      1664  2216\\n      1665  2216\\n      1666  2094\\n      1667  2217\\n      1668  2346\\n      1669  2595\\n      1670  2596\\n      1671  2596\\n      1672  2471\\n      1673  2471\\n      1674  2349\\n      1675  3118\\n      1676  2931\\n      1677  2931\\n      1678  2931\\n      1679  2818\\n      1680  2818\\n      1681  2718\\n      1682  2728\\n      1683  2728\\n      1684  2729\\n      1685  2729\\n      1686  2730\\n      1687  2840\\n      1688  2840\\n      1689  2498\\n      1690  2731\\n      1691  2731\\n      1692  2731\\n      1693  2733\\n      1694  2733\\n      1695  2733\\n      1696  2955\\n      1697  2734\\n      1698  2734\\n      1699  2734\\n      1700  2734\\n      1701  2735\\n      1702  2735\\n      1703  2505\\n      1704  2627\\n      1705  2627\\n      1706  2628\\n      1707  2388\\n      1708  2388\\n      1709  2739\\n      1710  2739\\n      1711  2739\\n      1712  2739\\n      1713  2739\\n      1714  2740\\n      1715  2740\\n      1716  2740\\n      1717  2741\\n      1718  2741\\n      1719  2741\\n      1720  2742\\n      1721  2743\\n      1722  2743\\n      1723  2743\\n      1724  2744\\n      1725  2744\\n      1726  2744\\n      1727  2744\\n      1728  2854\\n      1729  2745\\n      1730  2748\\n      1731  2748\\n      1732  2771\\n      1733  2771\\n      1734  2894\\n      1735  2772\\n      1736  2814\\n      1737  2704\\n      1738  2704\\n      1739  2704\\n      1740  2592\\n      1741  2467\\n      1742  2467\\n      1743  2345\\n      1744  2345\\n      1745  2216\\n      1746  2094\\n      1747  2346\\n      1748  2346\\n      1749  2346\\n      1750  2707\\n      1751  2707\\n      1752  2596\\n      1753  2596\\n      1754  2596\\n      1755  2471\\n      1756  3118\\n      1757  3118\\n      1758  3033\\n      1759  2931\\n      1760  2931\\n      1761  2931\\n      1762  2818\\n      1763  2950\\n      1764  2950\\n      1765  2838\\n      1766  2838\\n      1767  2840\\n      1768  2840\\n      1769  2840\\n      1770  3049\\n      1771  2731\\n      1772  2731\\n      1773  2731\\n      1774  2842\\n      1775  2842\\n      1776  2842\\n      1777  2955\\n      1778  2955\\n      1779  2843\\n      1780  2843\\n      1781  2843\\n      1782  2843\\n      1783  2844\\n      1784  2844\\n      1785  2627\\n      1786  2627\\n      1787  2627\\n      1788  2628\\n      1789  3253\\n      1790  3142\\n      1791  2847\\n      1792  2847\\n      1793  2847\\n      1794  2847\\n      1795  2847\\n      1796  2848\\n      1797  2848\\n      1798  2848\\n      1799  2849\\n      1800  2849\\n      1801  2849\\n      1802  2850\\n      1803  2851\\n      1804  2851\\n      1805  2965\\n      1806  2966\\n      1807  2852\\n      1808  2852\\n      1809  2856\\n      1810  2856\\n      1811  2748\\n      1812  2857\\n      1813  2865\\n      1814  2866\\n      1815  2893\\n      1816  2894\\n      1817  3000\\n      1818  2895\\n      1819  2814\\n      1820  2704\\n      1821  2704\\n      1822  2704\\n      1823  2592\\n      1824  2467\\n      1825  2467\\n      1826  2345\\n      1827  2345\\n      1828  2346\\n      1829  2346\\n      1830  2346\\n      1831  2346\\n      1832  2346\\n      1833  2346\\n      1834  2930\\n      1835  2817\\n      1836  2817\\n      1837  2707\\n      1838  2707\\n      1839  2596\\n      1840  2596\\n      1841  3118\\n      1842  3118\\n      1843  3118\\n      1844  3118\\n      1845  3033\\n      1846  2931\\n      1847  2931\\n      1848  2606\\n      1849  2950\\n      1850  2950\\n      1851  2838\\n      1852  2838\\n      1853  2951\\n      1854  2953\\n      1855  3049\\n      1856  3049\\n      1857  2731\\n      1858  2954\\n      1859  2954\\n      1860  2842\\n      1861  2842\\n      1862  2955\\n      1863  2955\\n      1864  2955\\n      1865  2956\\n      1866  2956\\n      1867  2956\\n      1868  2956\\n      1869  2956\\n      1870  2957\\n      1871  3055\\n      1872  2627\\n      1873  2627\\n      1874  2628\\n      1875  3253\\n      1876  3142\\n      1877  3142\\n      1878  2959\\n      1879  3058\\n      1880  2960\\n      1881  2960\\n      1882  2961\\n      1883  2961\\n      1884  2962\\n      1885  2964\\n      1886  2965\\n      1887  2971\\n      1888  2971\\n      1889  2856\\n      1890  2748\\n      1891  2972\\n      1892  2984\\n      1893  2866\\n      1894  2995\\n      1895  3000\\n      1896  3001\\n      1897  2814\\n      1898  2814\\n      1899  2704\\n      1900  2704\\n      1901  2704\\n      1902  2592\\n      1903  2467\\n      1904  2467\\n      1905  3819\\n      1906  3819\\n      1907  3820\\n      1908  2346\\n      1909  2346\\n      1910  2346\\n      1911  2346\\n      1912  2593\\n      1913  3032\\n      1914  2930\\n      1915  2930\\n      1916  2817\\n      1917  2817\\n      1918  2707\\n      1919  2596\\n      1920  3221\\n      1921  3221\\n      1922  3118\\n      1923  3118\\n      1924  3118\\n      1925  3033\\n      1926  3036\\n      1927  3125\\n      1928  3125\\n      1929  3125\\n      1930  3046\\n      1931  3046\\n      1932  3046\\n      1933  2951\\n      1934  2951\\n      1935  3047\\n      1936  3049\\n      1937  3049\\n      1938  3242\\n      1939  3243\\n      1940  3244\\n      1941  3050\\n      1942  3050\\n      1943  3050\\n      1944  3051\\n      1945  3051\\n      1946  3052\\n      1947  3052\\n      1948  3053\\n      1949  3054\\n      1950  3055\\n      1951  3055\\n      1952  3055\\n      1953  3055\\n      1954  3055\\n      1955  3368\\n      1956  3368\\n      1957  3253\\n      1958  3254\\n      1959  3142\\n      1960  3142\\n      1961  3057\\n      1962  3058\\n      1963  3058\\n      1964  3060\\n      1965  3061\\n      1966  3063\\n      1967  3070\\n      1968  3071\\n      1969  3072\\n      1970  3072\\n      1971  3072\\n      1972  3073\\n      1973  3073\\n      1974  3081\\n      1975  3081\\n      1976  3081\\n      1977  2995\\n      1978  2996\\n      1979  3088\\n      1980  2814\\n      1981  2814\\n      1982  2814\\n      1983  2704\\n      1984  2704\\n      1985  2704\\n      1986  3819\\n      1987  3819\\n      1988  3819\\n      1989  3819\\n      1990  3820\\n      1991  3821\\n      1992  3821\\n      1993  3821\\n      1994  3821\\n      1995  2593\\n      1996  2930\\n      1997  2930\\n      1998  2817\\n      1999  2817\\n      2000  3331\\n      2001  3331\\n      2002  3221\\n      2003  3221\\n      2004  3118\\n      2005  3118\\n      2006  3122\\n      2007  3123\\n      2008  3037\\n      2009  3037\\n      2010  3037\\n      2011  3124\\n      2012  3124\\n      2013  3124\\n      2014  3336\\n      2015  3135\\n      2016  3236\\n      2017  3349\\n      2018  3047\\n      2019  3047\\n      2020  3137\\n      2021  3137\\n      2022  3242\\n      2023  3243\\n      2024  3244\\n      2025  3138\\n      2026  3249\\n      2027  3051\\n      2028  3139\\n      2029  3139\\n      2030  3139\\n      2031  3139\\n      2032  3054\\n      2033  3140\\n      2034  3140\\n      2035  3140\\n      2036  3140\\n      2037  3489\\n      2038  3368\\n      2039  3368\\n      2040  3253\\n      2041  3254\\n      2042  3142\\n      2043  3142\\n      2044  3150\\n      2045  3151\\n      2046  3153\\n      2047  3069\\n      2048  3070\\n      2049  3154\\n      2050  3155\\n      2051  3155\\n      2052  3155\\n      2053  3156\\n      2054  3156\\n      2055  3156\\n      2056  3164\\n      2057  3164\\n      2058  3164\\n      2059  3171\\n      2060  3171\\n      2061  3171\\n      2062  3089\\n      2063  3172\\n      2064  3173\\n      2065  2814\\n      2066  2814\\n      2067  2814\\n      2068  2704\\n      2069  3819\\n      2070  3819\\n      2071  3819\\n      2072  3819\\n      2073  3819\\n      2074  3820\\n      2075  3821\\n      2076  3821\\n      2077  3821\\n      2078  3821\\n      2079  3821\\n      2080  2705\\n      2081  3721\\n      2082  3458\\n      2083  3458\\n      2084  3331\\n      2085  3331\\n      2086  3221\\n      2087  3221\\n      2088  3226\\n      2089  3123\\n      2090  3123\\n      2091  3037\\n      2092  3037\\n      2093  3124\\n      2094  3124\\n      2095  3124\\n      2096  3124\\n      2097  3335\\n      2098  3335\\n      2099  3236\\n      2100  3236\\n      2101  3349\\n      2102  3350\\n      2103  3351\\n      2104  3237\\n      2105  3241\\n      2106  3249\\n      2107  3249\\n      2108  3483\\n      2109  3250\\n      2110  3250\\n      2111  3250\\n      2112  3250\\n      2113  3251\\n      2114  3251\\n      2115  3251\\n      2116  3251\\n      2117  3488\\n      2118  3489\\n      2119  3490\\n      2120  3368\\n      2121  3253\\n      2122  3254\\n      2123  3259\\n      2124  3146\\n      2125  3147\\n      2126  3148\\n      2127  3149\\n      2128  3150\\n      2129  3151\\n      2130  3261\\n      2131  3261\\n      2132  3262\\n      2133  3262\\n      2134  3263\\n      2135  3263\\n      2136  3263\\n      2137  3264\\n      2138  3264\\n      2139  3264\\n      2140  3164\\n      2141  3164\\n      2142  3164\\n      2143  3415\\n      2144  3279\\n      2145  3279\\n      2146  3279\\n      2147  3172\\n      2148  3173\\n      2149  3174\\n      2150  2814\\n      2151  2814\\n      2152  3930\\n      2153  3819\\n      2154  3819\\n      2155  3819\\n      2156  3819\\n      2157  3819\\n      2158  3820\\n      2159  3821\\n      2160  3821\\n      2161  3821\\n      2162  3821\\n      2163  3821\\n      2164  4049\\n      2165  2815\\n      2166  3458\\n      2167  3458\\n      2168  3331\\n      2169  3331\\n      2170  3225\\n      2171  3226\\n      2172  3226\\n      2173  3123\\n      2174  3123\\n      2175  3037\\n      2176  3124\\n      2177  3124\\n      2178  3335\\n      2179  3335\\n      2180  3335\\n      2181  3335\\n      2182  3464\\n      2183  3464\\n      2184  3336\\n      2185  3336\\n      2186  3347\\n      2187  3348\\n      2188  3349\\n      2189  3350\\n      2190  3351\\n      2191  3360\\n      2192  3360\\n      2193  3245\\n      2194  3246\\n      2195  3361\\n      2196  3483\\n      2197  3484\\n      2198  3485\\n      2199  3367\\n      2200  3367\\n      2201  3488\\n      2202  3488\\n      2203  3489\\n      2204  3490\\n      2205  3368\\n      2206  3389\\n      2207  3147\\n      2208  3148\\n      2209  3390\\n      2210  3390\\n      2211  3394\\n      2212  3394\\n      2213  3395\\n      2214  3395\\n      2215  3397\\n      2216  3397\\n      2217  3397\\n      2218  3398\\n      2219  3398\\n      2220  3398\\n      2221  3407\\n      2222  3407\\n      2223  3415\\n      2224  3416\\n      2225  3416\\n      2226  3416\\n      2227  3172\\n      2228  3173\\n      2229  3417\\n      2230  3930\\n      2231  3930\\n      2232  3930\\n      2233  3819\\n      2234  3819\\n      2235  3819\\n      2236  3819\\n      2237  3820\\n      2238  3821\\n      2239  3821\\n      2240  3821\\n      2241  3821\\n      2242  3821\\n      2243  4049\\n      2244  4049\\n      2245  4164\\n      2246  3458\\n      2247  3462\\n      2248  3462\\n      2249  3462\\n      2250  3226\\n      2251  3123\\n      2252  3123\\n      2253  3463\\n      2254  3463\\n      2255  3463\\n      2256  3463\\n      2257  3463\\n      2258  3464\\n      2259  3464\\n      2260  3597\\n      2261  3597\\n      2262  3597\\n      2263  3597\\n      2264  3336\\n      2265  3336\\n      2266  3336\\n      2267  3336\\n      2268  3336\\n      2269  3360\\n      2270  3360\\n      2271  3245\\n      2272  3361\\n      2273  3361\\n      2274  3484\\n      2275  3485\\n      2276  3487\\n      2277  3487\\n      2278  3488\\n      2279  3488\\n      2280  3489\\n      2281  3490\\n      2282  3628\\n      2283  3628\\n      2284  3505\\n      2285  3505\\n      2286  3505\\n      2287  3505\\n      2288  3391\\n      2289  3508\\n      2290  3395\\n      2291  3395\\n      2292  3510\\n      2293  3510\\n      2294  3510\\n      2295  3511\\n      2296  3511\\n      2297  3511\\n      2298  3527\\n      2299  3527\\n      2300  3644\\n      2301  3534\\n      2302  3535\\n      2303  3535\\n      2304  3535\\n      2305  3663\\n      2306  3664\\n      2307  3665\\n      2308  3930\\n      2309  3930\\n      2310  3930\\n      2311  3930\\n      2312  3819\\n      2313  3819\\n      2314  3819\\n      2315  3820\\n      2316  3821\\n      2317  3821\\n      2318  3821\\n      2319  3821\\n      2320  4049\\n      2321  4049\\n      2322  4049\\n      2323  4164\\n      2324  4164\\n      2325  3595\\n      2326  3595\\n      2327  3595\\n      2328  3595\\n      2329  3595\\n      2330  3123\\n      2331  3463\\n      2332  3463\\n      2333  3463\\n      2334  3463\\n      2335  3463\\n      2336  3596\\n      2337  3597\\n      2338  3597\\n      2339  3597\\n      2340  3597\\n      2341  3597\\n      2342  3336\\n      2343  3336\\n      2344  3336\\n      2345  3598\\n      2346  3598\\n      2347  3598\\n      2348  3360\\n      2349  3360\\n      2350  3360\\n      2351  3361\\n      2352  3361\\n      2353  3628\\n      2354  3628\\n      2355  3628\\n      2356  3629\\n      2357  3629\\n      2358  3629\\n      2359  3630\\n      2360  3633\\n      2361  3634\\n      2362  3634\\n      2363  3635\\n      2364  3635\\n      2365  3635\\n      2366  3636\\n      2367  3636\\n      2368  3636\\n      2369  3659\\n      2370  3660\\n      2371  3661\\n      2372  3662\\n      2373  3664\\n      2374  3668\\n      2375  3669\\n      2376  3930\\n      2377  3930\\n      2378  3930\\n      2379  3930\\n      2380  3819\\n      2381  3819\\n      2382  3820\\n      2383  3821\\n      2384  3821\\n      2385  3821\\n      2386  3933\\n      2387  4049\\n      2388  4049\\n      2389  4164\\n      2390  4164\\n      2391  4164\\n      2392  4165\\n      2393  4165\\n      2394  3725\\n      2395  3595\\n      2396  3595\\n      2397  3595\\n      2398  3595\\n      2399  3595\\n      2400  3595\\n      2401  3463\\n      2402  3463\\n      2403  3463\\n      2404  3463\\n      2405  3596\\n      2406  3596\\n      2407  3726\\n      2408  3726\\n      2409  3726\\n      2410  3726\\n      2411  3726\\n      2412  3336\\n      2413  3598\\n      2414  3598\\n      2415  3598\\n      2416  3598\\n      2417  3598\\n      2418  3360\\n      2419  3360\\n      2420  3360\\n      2421  3361\\n      2422  3361\\n      2423  3756\\n      2424  3756\\n      2425  3756\\n      2426  3757\\n      2427  3757\\n      2428  3758\\n      2429  3758\\n      2430  3761\\n      2431  3761\\n      2432  3762\\n      2433  3763\\n      2434  3763\\n      2435  3763\\n      2436  3764\\n      2437  3764\\n      2438  3764\\n      2439  3773\\n      2440  3774\\n      2441  3781\\n      2442  3782\\n      2443  3659\\n      2444  3660\\n      2445  3661\\n      2446  3662\\n      2447  3663\\n      2448  3664\\n      2449  3785\\n      2450  3668\\n      2451  3669\\n      2452  3930\\n      2453  3930\\n      2454  3930\\n      2455  3930\\n      2456  3819\\n      2457  3821\\n      2458  3821\\n      2459  3933\\n      2460  4049\\n      2461  4049\\n      2462  4049\\n      2463  4164\\n      2464  4164\\n      2465  4164\\n      2466  4165\\n      2467  4165\\n      2468  4165\\n      2469  4050\\n      2470  3826\\n      2471  3826\\n      2472  3826\\n      2473  3595\\n      2474  3595\\n      2475  3595\\n      2476  3595\\n      2477  4053\\n      2478  4053\\n      2479  4053\\n      2480  3827\\n      2481  3827\\n      2482  3827\\n      2483  3827\\n      2484  3726\\n      2485  3726\\n      2486  3726\\n      2487  3726\\n      2488  3726\\n      2489  3598\\n      2490  3598\\n      2491  3828\\n      2492  3828\\n      2493  4063\\n      2494  4063\\n      2495  4063\\n      2496  3361\\n      2497  3361\\n      2498  3857\\n      2499  3971\\n      2500  3972\\n      2501  3757\\n      2502  3858\\n      2503  3859\\n      2504  3859\\n      2505  3861\\n      2506  3982\\n      2507  3983\\n      2508  3862\\n      2509  3863\\n      2510  3863\\n      2511  3863\\n      2512  4094\\n      2513  3864\\n      2514  3864\\n      2515  3871\\n      2516  3774\\n      2517  3775\\n      2518  3775\\n      2519  3775\\n      2520  3775\\n      2521  3775\\n      2522  3875\\n      2523  3782\\n      2524  4004\\n      2525  4005\\n      2526  4006\\n      2527  4007\\n      2528  4008\\n      2529  3878\\n      2530  3879\\n      2531  3930\\n      2532  3930\\n      2533  3930\\n      2534  3931\\n      2535  3931\\n      2536  3932\\n      2537  3933\\n      2538  3933\\n      2539  4049\\n      2540  4049\\n      2541  4164\\n      2542  4164\\n      2543  4164\\n      2544  4164\\n      2545  4165\\n      2546  4165\\n      2547  4165\\n      2548  4165\\n      2549  4050\\n      2550  3826\\n      2551  3826\\n      2552  3826\\n      2553  3826\\n      2554  3826\\n      2555  3595\\n      2556  4053\\n      2557  4053\\n      2558  4053\\n      2559  4053\\n      2560  4053\\n      2561  3938\\n      2562  3938\\n      2563  3938\\n      2564  3938\\n      2565  3726\\n      2566  3726\\n      2567  3726\\n      2568  3726\\n      2569  3598\\n      2570  3828\\n      2571  3828\\n      2572  3840\\n      2573  3841\\n      2574  3946\\n      2575  4063\\n      2576  4063\\n      2577  4063\\n      2578  4063\\n      2579  3361\\n      2580  3970\\n      2581  3971\\n      2582  3972\\n      2583  3973\\n      2584  3974\\n      2585  3975\\n      2586  3976\\n      2587  3981\\n      2588  3982\\n      2589  3983\\n      2590  3984\\n      2591  3986\\n      2592  3986\\n      2593  4093\\n      2594  4094\\n      2595  4095\\n      2596  3987\\n      2597  3996\\n      2598  3996\\n      2599  3775\\n      2600  3775\\n      2601  3775\\n      2602  3775\\n      2603  4422\\n      2604  4002\\n      2605  4003\\n      2606  4004\\n      2607  4005\\n      2608  4006\\n      2609  4008\\n      2610  4011\\n      2611  4011\\n      2612  4159\\n      2613  4046\\n      2614  3931\\n      2615  3931\\n      2616  3932\\n      2617  4047\\n      2618  4048\\n      2619  4049\\n      2620  4049\\n      2621  4164\\n      2622  4164\\n      2623  4164\\n      2624  4268\\n      2625  4269\\n      2626  4165\\n      2627  4165\\n      2628  4165\\n      2629  4050\\n      2630  4050\\n      2631  4052\\n      2632  4052\\n      2633  4052\\n      2634  3826\\n      2635  3826\\n      2636  3826\\n      2637  3826\\n      2638  4053\\n      2639  4053\\n      2640  4053\\n      2641  4053\\n      2642  4053\\n      2643  4053\\n      2644  4054\\n      2645  4054\\n      2646  4054\\n      2647  4054\\n      2648  4054\\n      2649  4054\\n      2650  3726\\n      2651  3828\\n      2652  3828\\n      2653  4055\\n      2654  4055\\n      2655  4055\\n      2656  4284\\n      2657  3946\\n      2658  3946\\n      2659  4063\\n      2660  4063\\n      2661  4063\\n      2662  4063\\n      2663  4490\\n      2664  4490\\n      2665  4086\\n      2666  4087\\n      2667  4087\\n      2668  3973\\n      2669  3974\\n      2670  3975\\n      2671  3976\\n      2672  3977\\n      2673  3978\\n      2674  3979\\n      2675  3980\\n      2676  3981\\n      2677  3982\\n      2678  3983\\n      2679  4088\\n      2680  4089\\n      2681  4090\\n      2682  4091\\n      2683  4092\\n      2684  4093\\n      2685  4094\\n      2686  4095\\n      2687  4096\\n      2688  4097\\n      2689  4098\\n      2690  4099\\n      2691  4100\\n      2692  4101\\n      2693  4115\\n      2694  4115\\n      2695  4115\\n      2696  4115\\n      2697  4421\\n      2698  4422\\n      2699  4422\\n      2700  4422\\n      2701  4122\\n      2702  4003\\n      2703  4123\\n      2704  4124\\n      2705  4011\\n      2706  4128\\n      2707  4135\\n      2708  4135\\n      2709  4135\\n      2710  4159\\n      2711  4159\\n      2712  4161\\n      2713  4161\\n      2714  4266\\n      2715  4047\\n      2716  4048\\n      2717  4162\\n      2718  4163\\n      2719  4164\\n      2720  4164\\n      2721  4268\\n      2722  4374\\n      2723  4269\\n      2724  4269\\n      2725  4165\\n      2726  4165\\n      2727  4169\\n      2728  4169\\n      2729  4169\\n      2730  4169\\n      2731  4169\\n      2732  3826\\n      2733  4378\\n      2734  4378\\n      2735  4378\\n      2736  4378\\n      2737  4170\\n      2738  4170\\n      2739  4170\\n      2740  4054\\n      2741  4054\\n      2742  4054\\n      2743  4054\\n      2744  4054\\n      2745  4054\\n      2746  4054\\n      2747  3828\\n      2748  3828\\n      2749  4055\\n      2750  4055\\n      2751  4055\\n      2752  4055\\n      2753  4171\\n      2754  4171\\n      2755  4284\\n      2756  4284\\n      2757  4177\\n      2758  4179\\n      2759  4179\\n      2760  4490\\n      2761  4197\\n      2762  4086\\n      2763  4087\\n      2764  4087\\n      2765  3973\\n      2766  3974\\n      2767  3975\\n      2768  3976\\n      2769  3977\\n      2770  3978\\n      2771  3979\\n      2772  3980\\n      2773  3981\\n      2774  3982\\n      2775  4198\\n      2776  4198\\n      2777  4198\\n      2778  4090\\n      2779  4091\\n      2780  4093\\n      2781  4094\\n      2782  4095\\n      2783  4200\\n      2784  4200\\n      2785  4098\\n      2786  4099\\n      2787  4100\\n      2788  4101\\n      2789  4102\\n      2790  4103\\n      2791  4104\\n      2792  4201\\n      2793  4204\\n      2794  4205\\n      2795  4206\\n      2796  4207\\n      2797  4207\\n      2798  4212\\n      2799  4213\\n      2800  4213\\n      2801  4214\\n      2802  4214\\n      2803  4214\\n      2804  4420\\n      2805  4421\\n      2806  4422\\n      2807  4422\\n      2808  4422\\n      2809  4218\\n      2810  4218\\n      2811  4123\\n      2812  4124\\n      2813  4219\\n      2814  4011\\n      2815  4223\\n      2816  4449\\n      2817  4449\\n      2818  4135\\n      2819  4135\\n      2820  4135\\n      2821  4266\\n      2822  4266\\n      2823  4371\\n      2824  4162\\n      2825  4163\\n      2826  4267\\n      2827  4268\\n      2828  4268\\n      2829  4374\\n      2830  4375\\n      2831  4269\\n      2832  4269\\n      2833  4271\\n      2834  4167\\n      2835  4272\\n      2836  4169\\n      2837  4169\\n      2838  4169\\n      2839  4169\\n      2840  4169\\n      2841  4572\\n      2842  4378\\n      2843  4378\\n      2844  4378\\n      2845  4378\\n      2846  4273\\n      2847  4273\\n      2848  4273\\n      2849  4273\\n      2850  4054\\n      2851  4054\\n      2852  4054\\n      2853  4055\\n      2854  4055\\n      2855  4055\\n      2856  4055\\n      2857  4171\\n      2858  4171\\n      2859  4171\\n      2860  4171\\n      2861  4171\\n      2862  4274\\n      2863  4274\\n      2864  4274\\n      2865  4274\\n      2866  4274\\n      2867  4281\\n      2868  4284\\n      2869  4285\\n      2870  4287\\n      2871  4287\\n      2872  4489\\n      2873  4490\\n      2874  4307\\n      2875  4197\\n      2876  4197\\n      2877  4087\\n      2878  4087\\n      2879  4087\\n      2880  3974\\n      2881  3975\\n      2882  3976\\n      2883  3977\\n      2884  3978\\n      2885  3979\\n      2886  3980\\n      2887  3981\\n      2888  4198\\n      2889  4198\\n      2890  4308\\n      2891  4308\\n      2892  4308\\n      2893  4309\\n      2894  4309\\n      2895  4309\\n      2896  4094\\n      2897  4310\\n      2898  4310\\n      2899  4310\\n      2900  4098\\n      2901  4099\\n      2902  4100\\n      2903  4101\\n      2904  4102\\n      2905  4103\\n      2906  4311\\n      2907  4311\\n      2908  4311\\n      2909  4311\\n      2910  4203\\n      2911  4204\\n      2912  4205\\n      2913  4206\\n      2914  4207\\n      2915  4312\\n      2916  4312\\n      2917  4315\\n      2918  4315\\n      2919  4213\\n      2920  4214\\n      2921  4214\\n      2922  4420\\n      2923  4420\\n      2924  4421\\n      2925  4422\\n      2926  4422\\n      2927  4320\\n      2928  4320\\n      2929  4429\\n      2930  4321\\n      2931  4327\\n      2932  4327\\n      2933  4449\\n      2934  4449\\n      2935  4449\\n      2936  4135\\n      2937  4135\\n      2938  4230\\n      2939  4230\\n      2940  4344\\n      2941  4370\\n      2942  4371\\n      2943  4371\\n      2944  4473\\n      2945  4372\\n      2946  4372\\n      2947  4374\\n      2948  4375\\n      2949  4375\\n      2950  4377\\n      2951  4271\\n      2952  4167\\n      2953  4167\\n      2954  4272\\n      2955  4272\\n      2956  4272\\n      2957  4169\\n      2958  4169\\n      2959  4169\\n      2960  4169\\n      2961  4572\\n      2962  4572\\n      2963  4572\\n      2964  4378\\n      2965  4378\\n      2966  4378\\n      2967  4273\\n      2968  4273\\n      2969  4273\\n      2970  4273\\n      2971  4273\\n      2972  4054\\n      2973  4054\\n      2974  4055\\n      2975  4055\\n      2976  4171\\n      2977  4171\\n      2978  4171\\n      2979  4171\\n      2980  4171\\n      2981  4171\\n      2982  4379\\n      2983  4379\\n      2984  4379\\n      2985  4379\\n      2986  4379\\n      2987  4380\\n      2988  4277\\n      2989  4278\\n      2990  4279\\n      2991  4280\\n      2992  4281\\n      2993  4381\\n      2994  4384\\n      2995  4387\\n      2996  4488\\n      2997  4489\\n      2998  4490\\n      2999  4490\\n      3000  4507\\n      3001  4507\\n      3002  4507\\n      3003  4087\\n      3004  4087\\n      3005  3974\\n      3006  3975\\n      3007  3976\\n      3008  3977\\n      3009  4848\\n      3010  4849\\n      3011  4850\\n      3012  4198\\n      3013  4198\\n      3014  4410\\n      3015  4410\\n      3016  4410\\n      3017  4410\\n      3018  4411\\n      3019  4411\\n      3020  4411\\n      3021  4411\\n      3022  4412\\n      3023  4412\\n      3024  4412\\n      3025  4613\\n      3026  4614\\n      3027  4615\\n      3028  4615\\n      3029  4615\\n      3030  4727\\n      3031  4413\\n      3032  4413\\n      3033  4413\\n      3034  4413\\n      3035  4203\\n      3036  4204\\n      3037  4205\\n      3038  4206\\n      3039  4207\\n      3040  4312\\n      3041  4312\\n      3042  4418\\n      3043  4419\\n      3044  4419\\n      3045  4419\\n      3046  4516\\n      3047  4516\\n      3048  4420\\n      3049  4420\\n      3050  4421\\n      3051  4422\\n      3052  4520\\n      3053  4428\\n      3054  4637\\n      3055  4638\\n      3056  4435\\n      3057  4449\\n      3058  4449\\n      3059  4449\\n      3060  4655\\n      3061  4544\\n      3062  4544\\n      3063  4450\\n      3064  4473\\n      3065  4473\\n      3066  4372\\n      3067  4372\\n      3068  4373\\n      3069  4474\\n      3070  4475\\n      3071  4476\\n      3072  4377\\n      3073  4377\\n      3074  4271\\n      3075  4167\\n      3076  4167\\n      3077  4272\\n      3078  4272\\n      3079  4272\\n      3080  4272\\n      3081  4169\\n      3082  4169\\n      3083  4803\\n      3084  4572\\n      3085  4572\\n      3086  4572\\n      3087  4572\\n      3088  4477\\n      3089  4477\\n      3090  4477\\n      3091  4477\\n      3092  4273\\n      3093  4273\\n      3094  5192\\n      3095  5193\\n      3096  5194\\n      3097  4055\\n      3098  4055\\n      3099  4171\\n      3100  4171\\n      3101  4171\\n      3102  4171\\n      3103  4171\\n      3104  4478\\n      3105  4478\\n      3106  4478\\n      3107  4478\\n      3108  4479\\n      3109  4479\\n      3110  4278\\n      3111  4279\\n      3112  4280\\n      3113  4480\\n      3114  4480\\n      3115  4490\\n      3116  4584\\n      3117  4497\\n      3118  4507\\n      3119  4507\\n      3120  4507\\n      3121  4722\\n      3122  4843\\n      3123  4844\\n      3124  4845\\n      3125  4846\\n      3126  4847\\n      3127  4848\\n      3128  4849\\n      3129  4850\\n      3130  4851\\n      3131  4852\\n      3132  4508\\n      3133  4508\\n      3134  4508\\n      3135  4508\\n      3136  4509\\n      3137  4509\\n      3138  4509\\n      3139  4609\\n      3140  4610\\n      3141  4510\\n      3142  4613\\n      3143  4614\\n      3144  4615\\n      3145  4615\\n      3146  4726\\n      3147  4727\\n      3148  4728\\n      3149  4511\\n      3150  4511\\n      3151  4511\\n      3152  4511\\n      3153  4204\\n      3154  4205\\n      3155  4206\\n      3156  4312\\n      3157  4512\\n      3158  4512\\n      3159  4515\\n      3160  4515\\n      3161  4419\\n      3162  4619\\n      3163  4620\\n      3164  4516\\n      3165  4516\\n      3166  4637\\n      3167  4638\\n      3168  4639\\n      3169  4534\\n      3170  4535\\n      3171  4543\\n      3172  4654\\n      3173  4655\\n      3174  4656\\n      3175  4544\\n      3176  4569\\n      3177  4569\\n      3178  4687\\n      3179  4570\\n      3180  4570\\n      3181  4571\\n      3182  4476\\n      3183  4476\\n      3184  4377\\n      3185  4377\\n      3186  4377\\n      3187  4377\\n      3188  4271\\n      3189  4167\\n      3190  4167\\n      3191  3936\\n      3192  4943\\n      3193  4272\\n      3194  4272\\n      3195  4272\\n      3196  4272\\n      3197  4272\\n      3198  5177\\n      3199  4803\\n      3200  4803\\n      3201  4803\\n      3202  4572\\n      3203  4572\\n      3204  4572\\n      3205  4573\\n      3206  4573\\n      3207  4573\\n      3208  4573\\n      3209  4573\\n      3210  5193\\n      3211  5194\\n      3212  5194\\n      3213  5194\\n      3214  4171\\n      3215  4171\\n      3216  4171\\n      3217  4171\\n      3218  4171\\n      3219  4171\\n      3220  4171\\n      3221  4574\\n      3222  4574\\n      3223  4574\\n      3224  4574\\n      3225  4575\\n      3226  4575\\n      3227  4575\\n      3228  4279\\n      3229  4480\\n      3230  4480\\n      3231  4480\\n      3232  4576\\n      3233  4577\\n      3234  4578\\n      3235  4582\\n      3236  4583\\n      3237  4593\\n      3238  4497\\n      3239  4605\\n      3240  4722\\n      3241  4842\\n      3242  4843\\n      3243  4844\\n      3244  4845\\n      3245  4846\\n      3246  4847\\n      3247  4848\\n      3248  4849\\n      3249  4850\\n      3250  4851\\n      3251  4852\\n      3252  4853\\n      3253  4606\\n      3254  4606\\n      3255  4606\\n      3256  4607\\n      3257  4607\\n      3258  4608\\n      3259  4609\\n      3260  4610\\n      3261  4611\\n      3262  4612\\n      3263  4613\\n      3264  4614\\n      3265  4615\\n      3266  4615\\n      3267  4726\\n      3268  4727\\n      3269  4728\\n      3270  4729\\n      3271  4616\\n      3272  4616\\n      3273  4616\\n      3274  4616\\n      3275  4982\\n      3276  4983\\n      3277  4984\\n      3278  4512\\n      3279  4512\\n      3280  4617\\n      3281  4617\\n      3282  4617\\n      3283  4617\\n      3284  4618\\n      3285  4618\\n      3286  4619\\n      3287  4619\\n      3288  4620\\n      3289  4637\\n      3290  4638\\n      3291  4640\\n      3292  4642\\n      3293  4642\\n      3294  4643\\n      3295  4654\\n      3296  4655\\n      3297  4687\\n      3298  4688\\n      3299  4571\\n      3300  4571\\n      3301  4476\\n      3302  4476\\n      3303  4377\\n      3304  4377\\n      3305  4377\\n      3306  4377\\n      3307  4271\\n      3308  4167\\n      3309  4167\\n      3310  3936\\n      3311  3936\\n      3312  4943\\n      3313  4943\\n      3314  4943\\n      3315  5174\\n      3316  5175\\n      3317  5176\\n      3318  5177\\n      3319  5178\\n      3320  4803\\n      3321  4803\\n      3322  4803\\n      3323  4689\\n      3324  4689\\n      3325  4573\\n      3326  4573\\n      3327  4573\\n      3328  4573\\n      3329  5188\\n      3330  5189\\n      3331  5192\\n      3332  5193\\n      3333  5194\\n      3334  5194\\n      3335  5194\\n      3336  5194\\n      3337  5333\\n      3338  5334\\n      3339  4171\\n      3340  5336\\n      3341  5337\\n      3342  4690\\n      3343  4690\\n      3344  4690\\n      3345  4690\\n      3346  4690\\n      3347  4691\\n      3348  4691\\n      3349  4691\\n      3350  4480\\n      3351  4480\\n      3352  4480\\n      3353  4576\\n      3354  4578\\n      3355  4692\\n      3356  4693\\n      3357  4698\\n      3358  4698\\n      3359  4699\\n      3360  4699\\n      3361  4710\\n      3362  4710\\n      3363  4711\\n      3364  4722\\n      3365  4722\\n      3366  4842\\n      3367  4843\\n      3368  4844\\n      3369  4845\\n      3370  4846\\n      3371  4847\\n      3372  4848\\n      3373  4849\\n      3374  4850\\n      3375  4851\\n      3376  4852\\n      3377  4853\\n      3378  4854\\n      3379  4723\\n      3380  4723\\n      3381  4724\\n      3382  4724\\n      3383  4608\\n      3384  4609\\n      3385  4610\\n      3386  4611\\n      3387  4612\\n      3388  4613\\n      3389  4614\\n      3390  4615\\n      3391  4725\\n      3392  4726\\n      3393  4727\\n      3394  4728\\n      3395  4729\\n      3396  4730\\n      3397  4730\\n      3398  4730\\n      3399  4982\\n      3400  4982\\n      3401  4983\\n      3402  4984\\n      3403  4985\\n      3404  4986\\n      3405  4617\\n      3406  4617\\n      3407  4861\\n      3408  4862\\n      3409  4732\\n      3410  4743\\n      3411  4744\\n      3412  4749\\n      3413  4638\\n      3414  4639\\n      3415  4750\\n      3416  4750\\n      3417  4755\\n      3418  4643\\n      3419  4756\\n      3420  4763\\n      3421  4802\\n      3422  4802\\n      3423  4941\\n      3424  4941\\n      3425  4941\\n      3426  4941\\n      3427  4941\\n      3428  4377\\n      3429  4377\\n      3430  4377\\n      3431  4377\\n      3432  4271\\n      3433  4167\\n      3434  4167\\n      3435  4942\\n      3436  4942\\n      3437  4943\\n      3438  4943\\n      3439  4943\\n      3440  5050\\n      3441  5174\\n      3442  5175\\n      3443  5176\\n      3444  5177\\n      3445  5178\\n      3446  5179\\n      3447  4803\\n      3448  4803\\n      3449  4803\\n      3450  4804\\n      3451  4804\\n      3452  4804\\n      3453  4573\\n      3454  5187\\n      3455  5188\\n      3456  5189\\n      3457  5190\\n      3458  5191\\n      3459  5192\\n      3460  5193\\n      3461  5194\\n      3462  5194\\n      3463  5194\\n      3464  5332\\n      3465  5333\\n      3466  5334\\n      3467  5335\\n      3468  5336\\n      3469  5337\\n      3470  5338\\n      3471  5052\\n      3472  5052\\n      3473  4805\\n      3474  4805\\n      3475  4805\\n      3476  4806\\n      3477  4809\\n      3478  4809\\n      3479  4809\\n      3480  4809\\n      3481  4480\\n      3482  4576\\n      3483  4576\\n      3484  4576\\n      3485  4577\\n      3486  4692\\n      3487  4692\\n      3488  4693\\n      3489  4694\\n      3490  4810\\n      3491  4811\\n      3492  4814\\n      3493  4815\\n      3494  4815\\n      3495  4699\\n      3496  4816\\n      3497  4822\\n      3498  4829\\n      3499  4830\\n      3500  4831\\n      3501  4841\\n      3502  4842\\n      3503  4843\\n      3504  4847\\n      3505  4848\\n      3506  4849\\n      3507  4850\\n      3508  4851\\n      3509  4852\\n      3510  4853\\n      3511  4854\\n      3512  4855\\n      3513  4856\\n      3514  4857\\n      3515  4858\\n      3516  4859\\n      3517  4859\\n      3518  4610\\n      3519  4611\\n      3520  4612\\n      3521  4613\\n      3522  4614\\n      3523  4725\\n      3524  4725\\n      3525  4726\\n      3526  4727\\n      3527  4728\\n      3528  4729\\n      3529  4860\\n      3530  4860\\n      3531  5078\\n      3532  4982\\n      3533  4982\\n      3534  4983\\n      3535  4984\\n      3536  4985\\n      3537  4986\\n      3538  4987\\n      3539  4861\\n      3540  4861\\n      3541  4862\\n      3542  4875\\n      3543  4875\\n      3544  4743\\n      3545  4744\\n      3546  4881\\n      3547  4881\\n      3548  4881\\n      3549  4750\\n      3550  4750\\n      3551  4890\\n      3552  4756\\n      3553  4891\\n      3554  4892\\n      3555  4940\\n      3556  4941\\n      3557  4941\\n      3558  4941\\n      3559  4941\\n      3560  4941\\n      3561  4941\\n      3562  4377\\n      3563  4377\\n      3564  4377\\n      3565  4377\\n      3566  4271\\n      3567  4942\\n      3568  4942\\n      3569  4942\\n      3570  4942\\n      3571  4942\\n      3572  4943\\n      3573  4943\\n      3574  5050\\n      3575  5173\\n      3576  5174\\n      3577  5175\\n      3578  5176\\n      3579  5177\\n      3580  5178\\n      3581  5179\\n      3582  5180\\n      3583  4944\\n      3584  4944\\n      3585  4804\\n      3586  4804\\n      3587  5185\\n      3588  5186\\n      3589  5187\\n      3590  5188\\n      3591  5189\\n      3592  5190\\n      3593  5191\\n      3594  5192\\n      3595  5193\\n      3596  5194\\n      3597  5194\\n      3598  5194\\n      3599  5332\\n      3600  5333\\n      3601  5334\\n      3602  5335\\n      3603  5336\\n      3604  5337\\n      3605  5338\\n      3606  5339\\n      3607  5052\\n      3608  5052\\n      3609  4945\\n      3610  4945\\n      3611  4806\\n      3612  4807\\n      3613  4808\\n      3614  4809\\n      3615  4809\\n      3616  4809\\n      3617  4809\\n      3618  5347\\n      3619  5347\\n      3620  4576\\n      3621  4576\\n      3622  4576\\n      3623  4692\\n      3624  4692\\n      3625  4692\\n      3626  4693\\n      3627  4810\\n      3628  4810\\n      3629  4811\\n      3630  4947\\n      3631  4949\\n      3632  4949\\n      3633  4950\\n      3634  4952\\n      3635  4952\\n      3636  4817\\n      3637  4953\\n      3638  4822\\n      3639  4955\\n      3640  4956\\n      3641  4962\\n      3642  4963\\n      3643  4964\\n      3644  4831\\n      3645  4976\\n      3646  4842\\n      3647  4843\\n      3648  4844\\n      3649  4845\\n      3650  4846\\n      3651  4847\\n      3652  4977\\n      3653  4977\\n      3654  4850\\n      3655  4851\\n      3656  4978\\n      3657  4853\\n      3658  4854\\n      3659  4855\\n      3660  4856\\n      3661  4857\\n      3662  4979\\n      3663  4980\\n      3664  4980\\n      3665  4980\\n      3666  5233\\n      3667  5234\\n      3668  5235\\n      3669  5236\\n      3670  5237\\n      3671  4725\\n      3672  4726\\n      3673  4727\\n      3674  4728\\n      3675  4981\\n      3676  4981\\n      3677  4981\\n      3678  5078\\n      3679  5079\\n      3680  4982\\n      3681  4983\\n      3682  4987\\n      3683  4988\\n      3684  4989\\n      3685  4989\\n      3686  5082\\n      3687  4994\\n      3688  5095\\n      3689  4995\\n      3690  4995\\n      3691  5000\\n      3692  5104\\n      3693  5105\\n      3694  5001\\n      3695  5001\\n      3696  4891\\n      3697  4892\\n      3698  5006\\n      3699  5047\\n      3700  5047\\n      3701  5047\\n      3702  5047\\n      3703  5047\\n      3704  5047\\n      3705  5047\\n      3706  5047\\n      3707  4377\\n      3708  4377\\n      3709  5983\\n      3710  5048\\n      3711  5048\\n      3712  5048\\n      3713  5048\\n      3714  5048\\n      3715  5048\\n      3716  5049\\n      3717  5050\\n      3718  5172\\n      3719  5173\\n      3720  5174\\n      3721  5175\\n      3722  5176\\n      3723  5177\\n      3724  5178\\n      3725  5179\\n      3726  5180\\n      3727  5051\\n      3728  5051\\n      3729  5051\\n      3730  5184\\n      3731  5185\\n      3732  5186\\n      3733  5187\\n      3734  5188\\n      3735  5189\\n      3736  5190\\n      3737  5191\\n      3738  5192\\n      3739  5193\\n      3740  5194\\n      3741  5194\\n      3742  5331\\n      3743  5332\\n      3744  5333\\n      3745  5334\\n      3746  5335\\n      3747  5336\\n      3748  5337\\n      3749  5338\\n      3750  5339\\n      3751  5052\\n      3752  5052\\n      3753  5052\\n      3754  5053\\n      3755  5197\\n      3756  5198\\n      3757  5198\\n      3758  4809\\n      3759  5346\\n      3760  5347\\n      3761  5347\\n      3762  5347\\n      3763  5347\\n      3764  5347\\n      3765  4576\\n      3766  4576\\n      3767  4692\\n      3768  4692\\n      3769  4692\\n      3770  4810\\n      3771  4810\\n      3772  4810\\n      3773  4811\\n      3774  4946\\n      3775  4946\\n      3776  4948\\n      3777  4949\\n      3778  4949\\n      3779  4950\\n      3780  4951\\n      3781  4952\\n      3782  4952\\n      3783  5199\\n      3784  4821\\n      3785  4955\\n      3786  4955\\n      3787  4956\\n      3788  5056\\n      3789  5060\\n      3790  4962\\n      3791  4963\\n      3792  5061\\n      3793  5061\\n      3794  5062\\n      3795  5066\\n      3796  5067\\n      3797  5072\\n      3798  5072\\n      3799  4843\\n      3800  4844\\n      3801  4845\\n      3802  4846\\n      3803  5073\\n      3804  5073\\n      3805  5073\\n      3806  5073\\n      3807  5074\\n      3808  5074\\n      3809  5074\\n      3810  4854\\n      3811  4855\\n      3812  4856\\n      3813  4979\\n      3814  4979\\n      3815  5075\\n      3816  5075\\n      3817  5232\\n      3818  5233\\n      3819  5234\\n      3820  5235\\n      3821  5236\\n      3822  5237\\n      3823  5238\\n      3824  5239\\n      3825  5240\\n      3826  5241\\n      3827  5076\\n      3828  5077\\n      3829  5078\\n      3830  5079\\n      3831  5080\\n      3832  5080\\n      3833  4984\\n      3834  4985\\n      3835  5081\\n      3836  4987\\n      3837  4988\\n      3838  4989\\n      3839  5082\\n      3840  5082\\n      3841  5094\\n      3842  5095\\n      3843  5103\\n      3844  5104\\n      3845  5112\\n      3846  5113\\n      3847  5047\\n      3848  5047\\n      3849  5047\\n      3850  5047\\n      3851  5769\\n      3852  5769\\n      3853  5769\\n      3854  5983\\n      3855  5983\\n      3856  6098\\n      3857  5048\\n      3858  5048\\n      3859  5048\\n      3860  5048\\n      3861  5048\\n      3862  5048\\n      3863  5048\\n      3864  5181\\n      3865  5182\\n      3866  5183\\n      3867  5184\\n      3868  5185\\n      3869  5186\\n      3870  5187\\n      3871  5188\\n      3872  5189\\n      3873  5190\\n      3874  5191\\n      3875  5192\\n      3876  5193\\n      3877  5194\\n      3878  5194\\n      3879  5331\\n      3880  5332\\n      3881  5333\\n      3882  5334\\n      3883  5335\\n      3884  5336\\n      3885  5337\\n      3886  5338\\n      3887  5339\\n      3888  5340\\n      3889  5195\\n      3890  5195\\n      3891  5196\\n      3892  5197\\n      3893  5198\\n      3894  5198\\n      3895  5345\\n      3896  5346\\n      3897  5347\\n      3898  5347\\n      3899  5347\\n      3900  5347\\n      3901  5578\\n      3902  5578\\n      3903  4576\\n      3904  4692\\n      3905  4692\\n      3906  4692\\n      3907  4810\\n      3908  4810\\n      3909  4810\\n      3910  4946\\n      3911  4946\\n      3912  4946\\n      3913  4947\\n      3914  5054\\n      3915  5054\\n      3916  5054\\n      3917  4949\\n      3918  5348\\n      3919  5348\\n      3920  5199\\n      3921  5199\\n      3922  4954\\n      3923  4955\\n      3924  4955\\n      3925  5056\\n      3926  5056\\n      3927  5057\\n      3928  5206\\n      3929  5206\\n      3930  5355\\n      3931  5207\\n      3932  5207\\n      3933  5207\\n      3934  5208\\n      3935  5212\\n      3936  5212\\n      3937  5213\\n      3938  5066\\n      3939  5214\\n      3940  5369\\n      3941  5369\\n      3942  5369\\n      3943  4845\\n      3944  5228\\n      3945  5228\\n      3946  5228\\n      3947  5228\\n      3948  5228\\n      3949  5229\\n      3950  5229\\n      3951  5229\\n      3952  5229\\n      3953  5487\\n      3954  4979\\n      3955  5230\\n      3956  5230\\n      3957  5230\\n      3958  5231\\n      3959  5232\\n      3960  5233\\n      3961  5234\\n      3962  5235\\n      3963  5236\\n      3964  5237\\n      3965  5238\\n      3966  5239\\n      3967  5240\\n      3968  5241\\n      3969  5243\\n      3970  5078\\n      3971  5079\\n      3972  5080\\n      3973  5080\\n      3974  5244\\n      3975  5244\\n      3976  5244\\n      3977  5245\\n      3978  5245\\n      3979  4989\\n      3980  5246\\n      3981  5246\\n      3982  5269\\n      3983  5270\\n      3984  5278\\n      3985  5047\\n      3986  5769\\n      3987  5769\\n      3988  5769\\n      3989  5769\\n      3990  5983\\n      3991  5983\\n      3992  5983\\n      3993  6098\\n      3994  6098\\n      3995  6098\\n      3996  5048\\n      3997  5048\\n      3998  5048\\n      3999  5048\\n      4000  5048\\n      4001  5048\\n      4002  5048\\n      4003  5343\\n      4004  5343\\n      4005  5344\\n      4006  5345\\n      4007  5346\\n      4008  5347\\n      4009  5347\\n      4010  5347\\n      4011  5578\\n      4012  5578\\n      4013  5680\\n      4014  5783\\n      4015  5784\\n      4016  5785\\n      4017  5786\\n      4018  5787\\n      4019  4810\\n      4020  4810\\n      4021  4946\\n      4022  4946\\n      4023  4946\\n      4024  5054\\n      4025  5054\\n      4026  5054\\n      4027  5054\\n      4028  5054\\n      4029  5348\\n      4030  5348\\n      4031  5348\\n      4032  5582\\n      4033  5583\\n      4034  5583\\n      4035  5056\\n      4036  5056\\n      4037  5201\\n      4038  5350\\n      4039  5355\\n      4040  5355\\n      4041  5473\\n      4042  5356\\n      4043  5356\\n      4044  5357\\n      4045  5358\\n      4046  5359\\n      4047  5360\\n      4048  5360\\n      4049  5212\\n      4050  5361\\n      4051  5361\\n      4052  5362\\n      4053  5362\\n      4054  5369\\n      4055  5369\\n      4056  5369\\n      4057  5596\\n      4058  5370\\n      4059  5370\\n      4060  5370\\n      4061  5370\\n      4062  5371\\n      4063  5371\\n      4064  5371\\n      4065  5487\\n      4066  5487\\n      4067  5372\\n      4068  5372\\n      4069  5372\\n      4070  5231\\n      4071  5232\\n      4072  5233\\n      4073  5234\\n      4074  5235\\n      4075  5236\\n      4076  5237\\n      4077  5373\\n      4078  5239\\n      4079  5240\\n      4080  5241\\n      4081  5242\\n      4082  5374\\n      4083  5375\\n      4084  5375\\n      4085  5079\\n      4086  5080\\n      4087  5080\\n      4088  5244\\n      4089  5244\\n      4090  5244\\n      4091  5376\\n      4092  5376\\n      4093  5376\\n      4094  5246\\n      4095  5246\\n      4096  6240\\n      4097  6240\\n      4098  6240\\n      4099  6240\\n      4100  5408\\n      4101  5409\\n      4102  5277\\n      4103  5278\\n      4104  5410\\n      4105  5769\\n      4106  5769\\n      4107  5769\\n      4108  5983\\n      4109  5983\\n      4110  5983\\n      4111  6098\\n      4112  6098\\n      4113  6098\\n      4114  6098\\n      4115  5048\\n      4116  5048\\n      4117  5048\\n      4118  5048\\n      4119  5048\\n      4120  5048\\n      4121  5172\\n      4122  5449\\n      4123  5462\\n      4124  5462\\n      4125  5345\\n      4126  5463\\n      4127  5463\\n      4128  5347\\n      4129  5578\\n      4130  5578\\n      4131  5680\\n      4132  5680\\n      4133  5783\\n      4134  5784\\n      4135  5785\\n      4136  5786\\n      4137  5787\\n      4138  5787\\n      4139  5787\\n      4140  5890\\n      4141  5891\\n      4142  4946\\n      4143  5054\\n      4144  5054\\n      4145  5054\\n      4146  5054\\n      4147  5464\\n      4148  5464\\n      4149  5464\\n      4150  5464\\n      4151  5465\\n      4152  5582\\n      4153  5583\\n      4154  5583\\n      4155  5684\\n      4156  5685\\n      4157  5685\\n      4158  5350\\n      4159  5468\\n      4160  5468\\n      4161  5472\\n      4162  5472\\n      4163  5473\\n      4164  5474\\n      4165  5475\\n      4166  5358\\n      4167  5359\\n      4168  5360\\n      4169  5360\\n      4170  5476\\n      4171  5476\\n      4172  5476\\n      4173  5477\\n      4174  5477\\n      4175  5478\\n      4176  5485\\n      4177  5596\\n      4178  5596\\n      4179  5486\\n      4180  5486\\n      4181  5486\\n      4182  5486\\n      4183  5486\\n      4184  5371\\n      4185  5371\\n      4186  5487\\n      4187  5487\\n      4188  5487\\n      4189  5487\\n      4190  5488\\n      4191  5488\\n      4192  5488\\n      4193  5232\\n      4194  5233\\n      4195  5234\\n      4196  5235\\n      4197  5236\\n      4198  5489\\n      4199  5489\\n      4200  5489\\n      4201  5240\\n      4202  5241\\n      4203  5374\\n      4204  5374\\n      4205  5490\\n      4206  5490\\n      4207  5490\\n      4208  5080\\n      4209  5080\\n      4210  5244\\n      4211  5491\\n      4212  5491\\n      4213  5491\\n      4214  5491\\n      4215  5491\\n      4216  5246\\n      4217  5377\\n      4218  5518\\n      4219  5518\\n      4220  5519\\n      4221  5520\\n      4222  5769\\n      4223  5983\\n      4224  5983\\n      4225  5983\\n      4226  5983\\n      4227  6098\\n      4228  6098\\n      4229  6098\\n      4230  6098\\n      4231  6099\\n      4232  6099\\n      4233  5048\\n      4234  5048\\n      4235  5048\\n      4236  5558\\n      4237  5558\\n      4238  5576\\n      4239  5576\\n      4240  5577\\n      4241  5577\\n      4242  5577\\n      4243  5578\\n      4244  5578\\n      4245  5680\\n      4246  5680\\n      4247  5782\\n      4248  5783\\n      4249  5784\\n      4250  5785\\n      4251  5786\\n      4252  5787\\n      4253  5787\\n      4254  5787\\n      4255  5890\\n      4256  5891\\n      4257  5892\\n      4258  5893\\n      4259  5894\\n      4260  5895\\n      4261  5895\\n      4262  5896\\n      4263  5464\\n      4264  5464\\n      4265  5464\\n      4266  5465\\n      4267  5466\\n      4268  5579\\n      4269  5580\\n      4270  5582\\n      4271  5583\\n      4272  5583\\n      4273  5684\\n      4274  5685\\n      4275  5685\\n      4276  5686\\n      4277  5584\\n      4278  5584\\n      4279  5589\\n      4280  5474\\n      4281  5475\\n      4282  5475\\n      4283  5359\\n      4284  5360\\n      4285  5360\\n      4286  5476\\n      4287  5476\\n      4288  5476\\n      4289  5590\\n      4290  5590\\n      4291  5478\\n      4292  5596\\n      4293  5596\\n      4294  5596\\n      4295  5597\\n      4296  5597\\n      4297  5597\\n      4298  5597\\n      4299  5597\\n      4300  5598\\n      4301  5598\\n      4302  5598\\n      4303  5598\\n      4304  5598\\n      4305  5598\\n      4306  5599\\n      4307  5599\\n      4308  5599\\n      4309  5599\\n      4310  5599\\n      4311  5233\\n      4312  5234\\n      4313  5235\\n      4314  5600\\n      4315  5600\\n      4316  5600\\n      4317  5600\\n      4318  5600\\n      4319  5374\\n      4320  5601\\n      4321  5601\\n      4322  5601\\n      4323  5601\\n      4324  5814\\n      4325  5814\\n      4326  5602\\n      4327  5602\\n      4328  5602\\n      4329  5602\\n      4330  5602\\n      4331  5707\\n      4332  5707\\n      4333  5815\\n      4334  5606\\n      4335  5606\\n      4336  5496\\n      4337  5628\\n      4338  5983\\n      4339  5983\\n      4340  5983\\n      4341  6098\\n      4342  6098\\n      4343  6098\\n      4344  6098\\n      4345  6099\\n      4346  6099\\n      4347  6099\\n      4348  6099\\n      4349  5558\\n      4350  5558\\n      4351  5558\\n      4352  5677\\n      4353  5677\\n      4354  5773\\n      4355  5774\\n      4356  5678\\n      4357  5678\\n      4358  5678\\n      4359  5679\\n      4360  5679\\n      4361  5680\\n      4362  5782\\n      4363  5783\\n      4364  5784\\n      4365  5785\\n      4366  5786\\n      4367  5787\\n      4368  5787\\n      4369  5889\\n      4370  5890\\n      4371  5891\\n      4372  5892\\n      4373  5893\\n      4374  5894\\n      4375  5895\\n      4376  5895\\n      4377  5896\\n      4378  5896\\n      4379  5464\\n      4380  5464\\n      4381  5465\\n      4382  5579\\n      4383  5579\\n      4384  5580\\n      4385  5581\\n      4386  5681\\n      4387  5682\\n      4388  5684\\n      4389  5685\\n      4390  5685\\n      4391  5686\\n      4392  5686\\n      4393  5688\\n      4394  5689\\n      4395  5589\\n      4396  5589\\n      4397  5475\\n      4398  5475\\n      4399  5475\\n      4400  5360\\n      4401  5360\\n      4402  5476\\n      4403  5694\\n      4404  5694\\n      4405  5694\\n      4406  5695\\n      4407  5695\\n      4408  5696\\n      4409  5700\\n      4410  5808\\n      4411  5701\\n      4412  5701\\n      4413  5701\\n      4414  5701\\n      4415  5701\\n      4416  5702\\n      4417  5702\\n      4418  5702\\n      4419  5702\\n      4420  5702\\n      4421  5702\\n      4422  5703\\n      4423  5703\\n      4424  5703\\n      4425  5703\\n      4426  5703\\n      4427  6015\\n      4428  6016\\n      4429  6017\\n      4430  5704\\n      4431  5704\\n      4432  5704\\n      4433  5812\\n      4434  5812\\n      4435  5812\\n      4436  5705\\n      4437  5705\\n      4438  5705\\n      4439  5814\\n      4440  5814\\n      4441  5814\\n      4442  6022\\n      4443  5706\\n      4444  5706\\n      4445  5706\\n      4446  5706\\n      4447  5707\\n      4448  5707\\n      4449  5707\\n      4450  5815\\n      4451  5712\\n      4452  5712\\n      4453  5983\\n      4454  6196\\n      4455  6098\\n      4456  6098\\n      4457  6098\\n      4458  6098\\n      4459  6099\\n      4460  6099\\n      4461  6099\\n      4462  6099\\n      4463  6099\\n      4464  5558\\n      4465  5558\\n      4466  5771\\n      4467  5772\\n      4468  5773\\n      4469  5774\\n      4470  5775\\n      4471  5776\\n      4472  5777\\n      4473  5778\\n      4474  5779\\n      4475  5783\\n      4476  5784\\n      4477  5785\\n      4478  5786\\n      4479  5787\\n      4480  5787\\n      4481  5889\\n      4482  5890\\n      4483  5891\\n      4484  5892\\n      4485  5893\\n      4486  5894\\n      4487  5894\\n      4488  5895\\n      4489  5896\\n      4490  5896\\n      4491  5896\\n      4492  5985\\n      4493  5579\\n      4494  5579\\n      4495  5579\\n      4496  5580\\n      4497  5681\\n      4498  5681\\n      4499  5682\\n      4500  5683\\n      4501  5788\\n      4502  5789\\n      4503  5791\\n      4504  5793\\n      4505  5793\\n      4506  5689\\n      4507  5794\\n      4508  5795\\n      4509  5799\\n      4510  5799\\n      4511  5903\\n      4512  5903\\n      4513  5994\\n      4514  6109\\n      4515  6109\\n      4516  5694\\n      4517  5694\\n      4518  5694\\n      4519  5694\\n      4520  5800\\n      4521  5800\\n      4522  5696\\n      4523  5808\\n      4524  5808\\n      4525  5808\\n      4526  5809\\n      4527  5809\\n      4528  5809\\n      4529  5911\\n      4530  5810\\n      4531  5810\\n      4532  5810\\n      4533  5810\\n      4534  5810\\n      4535  5810\\n      4536  5811\\n      4537  5811\\n      4538  5811\\n      4539  5811\\n      4540  6014\\n      4541  6015\\n      4542  6016\\n      4543  6017\\n      4544  6017\\n      4545  5704\\n      4546  5704\\n      4547  5812\\n      4548  5812\\n      4549  5812\\n      4550  5813\\n      4551  5813\\n      4552  5813\\n      4553  5814\\n      4554  5814\\n      4555  5814\\n      4556  6022\\n      4557  6023\\n      4558  6024\\n      4559  5706\\n      4560  5706\\n      4561  5707\\n      4562  5707\\n      4563  6029\\n      4564  5815\\n      4565  5822\\n      4566  5822\\n      4567  6098\\n      4568  6098\\n      4569  6098\\n      4570  6098\\n      4571  6099\\n      4572  6099\\n      4573  6099\\n      4574  6099\\n      4575  6099\\n      4576  5558\\n      4577  5889\\n      4578  5889\\n      4579  5890\\n      4580  5891\\n      4581  5892\\n      4582  5893\\n      4583  5894\\n      4584  5894\\n      4585  5895\\n      4586  5896\\n      4587  5896\\n      4588  5985\\n      4589  6101\\n      4590  6101\\n      4591  6101\\n      4592  5579\\n      4593  5681\\n      4594  5681\\n      4595  5681\\n      4596  5682\\n      4597  5788\\n      4598  5788\\n      4599  5789\\n      4600  5898\\n      4601  5899\\n      4602  5900\\n      4603  5900\\n      4604  5991\\n      4605  5794\\n      4606  5795\\n      4607  5903\\n      4608  5903\\n      4609  5994\\n      4610  6109\\n      4611  6109\\n      4612  6109\\n      4613  6210\\n      4614  5904\\n      4615  5904\\n      4616  5904\\n      4617  5904\\n      4618  5905\\n      4619  5905\\n      4620  5909\\n      4621  5909\\n      4622  6009\\n      4623  5910\\n      4624  5910\\n      4625  5911\\n      4626  5911\\n      4627  5911\\n      4628  5912\\n      4629  5912\\n      4630  5912\\n      4631  5912\\n      4632  5912\\n      4633  5913\\n      4634  5913\\n      4635  5913\\n      4636  6013\\n      4637  6014\\n      4638  6015\\n      4639  6016\\n      4640  6017\\n      4641  6017\\n      4642  6130\\n      4643  5914\\n      4644  5914\\n      4645  5914\\n      4646  5914\\n      4647  5813\\n      4648  5813\\n      4649  5813\\n      4650  5915\\n      4651  5915\\n      4652  6021\\n      4653  6022\\n      4654  6023\\n      4655  6024\\n      4656  6025\\n      4657  6026\\n      4658  6027\\n      4659  6028\\n      4660  6029\\n      4661  6030\\n      4662  5919\\n      4663  5919\\n      4664  6098\\n      4665  6098\\n      4666  6098\\n      4667  6099\\n      4668  6099\\n      4669  6099\\n      4670  6099\\n      4671  6099\\n      4672  6440\\n      4673  5985\\n      4674  5985\\n      4675  6101\\n      4676  6101\\n      4677  6101\\n      4678  6200\\n      4679  6322\\n      4680  6201\\n      4681  6102\\n      4682  6102\\n      4683  5986\\n      4684  5986\\n      4685  5988\\n      4686  5898\\n      4687  5899\\n      4688  5989\\n      4689  5990\\n      4690  5991\\n      4691  5991\\n      4692  5795\\n      4693  5994\\n      4694  5994\\n      4695  6109\\n      4696  6109\\n      4697  6209\\n      4698  6210\\n      4699  6211\\n      4700  6212\\n      4701  5904\\n      4702  5995\\n      4703  5995\\n      4704  5996\\n      4705  5996\\n      4706  6009\\n      4707  6009\\n      4708  5910\\n      4709  5910\\n      4710  6010\\n      4711  6010\\n      4712  6010\\n      4713  6011\\n      4714  6011\\n      4715  6011\\n      4716  6231\\n      4717  6012\\n      4718  6012\\n      4719  6012\\n      4720  6013\\n      4721  6014\\n      4722  6015\\n      4723  6016\\n      4724  6017\\n      4725  6017\\n      4726  6130\\n      4727  6131\\n      4728  6018\\n      4729  6018\\n      4730  6018\\n      4731  5813\\n      4732  6019\\n      4733  6019\\n      4734  6020\\n      4735  6021\\n      4736  6022\\n      4737  6240\\n      4738  6042\\n      4739  6042\\n      4740  6098\\n      4741  6098\\n      4742  6099\\n      4743  6099\\n      4744  6099\\n      4745  6100\\n      4746  6101\\n      4747  6101\\n      4748  6200\\n      4749  6200\\n      4750  6322\\n      4751  6322\\n      4752  6201\\n      4753  6102\\n      4754  6102\\n      4755  6104\\n      4756  5988\\n      4757  5988\\n      4758  5989\\n      4759  5989\\n      4760  5990\\n      4761  6105\\n      4762  6105\\n      4763  6203\\n      4764  6203\\n      4765  6108\\n      4766  6109\\n      4767  6109\\n      4768  6209\\n      4769  6210\\n      4770  6211\\n      4771  6212\\n      4772  6213\\n      4773  6110\\n      4774  6216\\n      4775  5996\\n      4776  6111\\n      4777  6126\\n      4778  6126\\n      4779  6226\\n      4780  6127\\n      4781  6127\\n      4782  6127\\n      4783  6127\\n      4784  6128\\n      4785  6128\\n      4786  6128\\n      4787  6230\\n      4788  6231\\n      4789  6232\\n      4790  6012\\n      4791  6012\\n      4792  6129\\n      4793  6129\\n      4794  6015\\n      4795  6016\\n      4796  6017\\n      4797  6130\\n      4798  6130\\n      4799  6131\\n      4800  6132\\n      4801  6132\\n      4802  6132\\n      4803  6132\\n      4804  6133\\n      4805  6133\\n      4806  6020\\n      4807  6021\\n      4808  6022\\n      4809  6023\\n      4810  6134\\n      4811  6143\\n      4812  6248\\n      4813  6198\\n      4814  6198\\n      4815  6198\\n      4816  6199\\n      4817  6200\\n      4818  6200\\n      4819  6321\\n      4820  6322\\n      4821  6322\\n      4822  6201\\n      4823  6201\\n      4824  6202\\n      4825  6103\\n      4826  6104\\n      4827  6104\\n      4828  5988\\n      4829  5989\\n      4830  5989\\n      4831  6105\\n      4832  6105\\n      4833  6203\\n      4834  6203\\n      4835  6203\\n      4836  6203\\n      4837  5992\\n      4838  6205\\n      4839  6227\\n      4840  6228\\n      4841  6228\\n      4842  6344\\n      4843  6229\\n      4844  6229\\n      4845  6229\\n      4846  6230\\n      4847  6231\\n      4848  6232\\n      4849  6348\\n      4850  6349\\n      4851  6233\\n      4852  6233\\n      4853  6233\\n      4854  6016\\n      4855  6017\\n      4856  6130\\n      4857  6130\\n      4858  6131\\n      4859  6234\\n      4860  6234\\n      4861  6234\\n      4862  6235\\n      4863  6235\\n      4864  6235\\n      4865  6021\\n      4866  6022\\n      4867  6236\\n      4868  6236\\n      4869  6247\\n      4870  6248\\n      4871  6312\\n      4872  6312\\n      4873  6312\\n      4874  6320\\n      4875  6321\\n      4876  6321\\n      4877  6451\\n      4878  6322\\n      4879  6324\\n      4880  6202\\n      4881  6202\\n      4882  6104\\n      4883  6104\\n      4884  6104\\n      4885  5989\\n      4886  6105\\n      4887  6105\\n      4888  6203\\n      4889  6203\\n      4890  6203\\n      4891  6203\\n      4892  6203\\n      4893  6454\\n      4894  6454\\n      4895  6325\\n      4896  6325\\n      4897  6326\\n      4898  6326\\n      4899  6326\\n      4900  6327\\n      4901  6328\\n      4902  6329\\n      4903  6330\\n      4904  6331\\n      4905  6332\\n      4906  6333\\n      4907  6343\\n      4908  6344\\n      4909  6344\\n      4910  6345\\n      4911  6345\\n      4912  6230\\n      4913  6349\\n      4914  6350\\n      4915  6350\\n      4916  6350\\n      4917  6350\\n      4918  6130\\n      4919  6130\\n      4920  6130\\n      4921  6351\\n      4922  6351\\n      4923  6351\\n      4924  6351\\n      4925  6574\\n      4926  6575\\n      4927  6352\\n      4928  6352\\n      4929  6352\\n      4930  6352\\n      4931  6353\\n      4932  6353\\n      4933  6353\\n      4934  6312\\n      4935  6449\\n      4936  6450\\n      4937  6451\\n      4938  6453\\n      4939  6453\\n      4940  6324\\n      4941  6202\\n      4942  6202\\n      4943  6104\\n      4944  6104\\n      4945  5989\\n      4946  6105\\n      4947  6203\\n      4948  6203\\n      4949  6203\\n      4950  6203\\n      4951  6203\\n      4952  6673\\n      4953  6454\\n      4954  6454\\n      4955  6454\\n      4956  6455\\n      4957  6455\\n      4958  6456\\n      4959  6457\\n      4960  6457\\n      4961  6327\\n      4962  6328\\n      4963  6329\\n      4964  6330\\n      4965  6331\\n      4966  6458\\n      4967  6463\\n      4968  6471\\n      4969  6472\\n      4970  6472\\n      4971  6474\\n      4972  6474\\n      4973  6474\\n      4974  6825\\n      4975  6826\\n      4976  6475\\n      4977  6475\\n      4978  6475\\n      4979  6475\\n      4980  6475\\n      4981  6573\\n      4982  6574\\n      4983  6575\\n      4984  6576\\n      4985  6476\\n      4986  6476\\n      4987  6476\\n      4988  6477\\n      4989  6477\\n      4990  6477\\n      4991  6453\\n      4992  6453\\n      4993  6324\\n      4994  6202\\n      4995  6104\\n      4996  6104\\n      4997  6104\\n      4998  6203\\n      4999  6203\\n      5000  6203\\n      5001  6203\\n      5002  6203\\n      5003  6673\\n      5004  6673\\n      5005  6673\\n      5006  6673\\n      5007  6555\\n      5008  6455\\n      5009  6556\\n      5010  6556\\n      5011  6457\\n      5012  6457\\n      5013  6327\\n      5014  6328\\n      5015  6329\\n      5016  6677\\n      5017  6677\\n      5018  6463\\n      5019  6464\\n      5020  6465\\n      5021  6561\\n      5022  6569\\n      5023  6570\\n      5024  6570\\n      5025  6824\\n      5026  6825\\n      5027  6826\\n      5028  6826\\n      5029  6571\\n      5030  6571\\n      5031  6571\\n      5032  6572\\n      5033  6573\\n      5034  6574\\n      5035  6575\\n      5036  6576\\n      5037  6577\\n      5038  6577\\n      5039  6577\\n      5040  6578\\n      5041  6578\\n      5042  6453\\n      5043  6453\\n      5044  6324\\n      5045  6202\\n      5046  6104\\n      5047  6203\\n      5048  6203\\n      5049  6203\\n      5050  6203\\n      5051  6203\\n      5052  6913\\n      5053  6913\\n      5054  6673\\n      5055  6673\\n      5056  6673\\n      5057  6674\\n      5058  6675\\n      5059  6675\\n      5060  6676\\n      5061  6676\\n      5062  6676\\n      5063  6457\\n      5064  6916\\n      5065  6677\\n      5066  6677\\n      5067  6677\\n      5068  6681\\n      5069  6681\\n      5070  6464\\n      5071  6561\\n      5072  6561\\n      5073  6562\\n      5074  6690\\n      5075  6824\\n      5076  6825\\n      5077  6826\\n      5078  6826\\n      5079  6937\\n      5080  6691\\n      5081  6691\\n      5082  6574\\n      5083  6575\\n      5084  6576\\n      5085  6693\\n      5086  6693\\n      5087  6693\\n      5088  6947\\n      5089  6694\\n      5090  6749\\n      5091  6749\\n      5092  6634\\n      5093  6634\\n      5094  6453\\n      5095  6453\\n      5096  7478\\n      5097  7478\\n      5098  7478\\n      5099  6203\\n      5100  6203\\n      5101  6913\\n      5102  6913\\n      5103  6913\\n      5104  6913\\n      5105  6913\\n      5106  6913\\n      5107  6799\\n      5108  6674\\n      5109  6800\\n      5110  6676\\n      5111  6676\\n      5112  6676\\n      5113  6676\\n      5114  6916\\n      5115  6916\\n      5116  6916\\n      5117  6803\\n      5118  6804\\n      5119  6805\\n      5120  6810\\n      5121  6810\\n      5122  6923\\n      5123  6811\\n      5124  6811\\n      5125  6811\\n      5126  6824\\n      5127  6825\\n      5128  6826\\n      5129  6936\\n      5130  6937\\n      5131  6938\\n      5132  6827\\n      5133  6943\\n      5134  6829\\n      5135  6829\\n      5136  6946\\n      5137  6947\\n      5138  6948\\n      5139  6871\\n      5140  6871\\n      5141  6871\\n      5142  6872\\n      5143  6872\\n      5144  7189\\n      5145  7189\\n      5146  7478\\n      5147  7478\\n      5148  7478\\n      5149  7478\\n      5150  6913\\n      5151  6913\\n      5152  6913\\n      5153  6913\\n      5154  6913\\n      5155  6913\\n      5156  6913\\n      5157  6913\\n      5158  6914\\n      5159  6914\\n      5160  6915\\n      5161  6915\\n      5162  6915\\n      5163  6676\\n      5164  7191\\n      5165  6916\\n      5166  6916\\n      5167  6916\\n      5168  6919\\n      5169  6804\\n      5170  6805\\n      5171  6806\\n      5172  6807\\n      5173  6920\\n      5174  6921\\n      5175  6922\\n      5176  6923\\n      5177  6923\\n      5178  7059\\n      5179  6924\\n      5180  6924\\n      5181  6945\\n      5182  6946\\n      5183  6947\\n      5184  6948\\n      5185  7003\\n      5186  6861\\n      5187  7014\\n      5188  7014\\n      5189  7014\\n      5190  6872\\n      5191  6872\\n      5192  7015\\n      5193  7351\\n      5194  7478\\n      5195  7478\\n      5196  7478\\n      5197  7478\\n      5198  7478\\n      5199  7052\\n      5200  7052\\n      5201  7052\\n      5202  7052\\n      5203  7052\\n      5204  7052\\n      5205  7052\\n      5206  7052\\n      5207  7053\\n      5208  7053\\n      5209  6915\\n      5210  6915\\n      5211  6915\\n      5212  6915\\n      5213  7191\\n      5214  7191\\n      5215  7054\\n      5216  6919\\n      5217  6919\\n      5218  6805\\n      5219  6806\\n      5220  6920\\n      5221  6920\\n      5222  6921\\n      5223  7058\\n      5224  7059\\n      5225  7059\\n      5226  7060\\n      5227  7151\\n      5228  7151\\n      5229  7003\\n      5230  7003\\n      5231  7152\\n      5232  7478\\n      5233  7478\\n      5234  7478\\n      5235  7478\\n      5236  7478\\n      5237  8083\\n      5238  7052\\n      5239  7052\\n      5240  7052\\n      5241  7052\\n      5242  7052\\n      5243  7052\\n      5244  7352\\n      5245  7190\\n      5246  7053\\n      5247  7053\\n      5248  6915\\n      5249  6915\\n      5250  7480\\n      5251  7191\\n      5252  7191\\n      5253  7191\\n      5254  7194\\n      5255  7194\\n      5256  7483\\n      5257  7483\\n      5258  7483\\n      5259  7195\\n      5260  7195\\n      5261  7195\\n      5262  7198\\n      5263  7221\\n      5264  7221\\n      5265  7222\\n      5266  7222\\n      5267  7223\\n      5268  7224\\n      5269  7225\\n      5270  7304\\n      5271  7151\\n      5272  7151\\n      5273  7003\\n      5274  7152\\n      5275  7152\\n      5276  7152\\n      5277  7478\\n      5278  7478\\n      5279  7478\\n      5280  7779\\n      5281  8083\\n      5282  7052\\n      5283  7052\\n      5284  7052\\n      5285  7352\\n      5286  7352\\n      5287  7352\\n      5288  7353\\n      5289  7353\\n      5290  7353\\n      5291  7053\\n      5292  7643\\n      5293  7643\\n      5294  7480\\n      5295  7354\\n      5296  7356\\n      5297  7356\\n      5298  7483\\n      5299  7483\\n      5300  7647\\n      5301  7357\\n      5302  7357\\n      5303  7357\\n      5304  7385\\n      5305  7385\\n      5306  7222\\n      5307  7222\\n      5308  7223\\n      5309  7224\\n      5310  7225\\n      5311  7226\\n      5312  7227\\n      5313  7228\\n      5314  7257\\n      5315  7396\\n      5316  7433\\n      5317  7433\\n      5318  7574\\n      5319  7574\\n      5320  7152\\n      5321  7152\\n      5322  7779\\n      5323  7779\\n      5324  8082\\n      5325  7641\\n      5326  7641\\n      5327  7641\\n      5328  7641\\n      5329  7479\\n      5330  7353\\n      5331  7353\\n      5332  7353\\n      5333  7353\\n      5334  7643\\n      5335  7643\\n      5336  7643\\n      5337  7483\\n      5338  7483\\n      5339  7647\\n      5340  7647\\n      5341  7484\\n      5342  7509\\n      5343  7510\\n      5344  7511\\n      5345  7523\\n      5346  7523\\n      5347  7523\\n      5348  7222\\n      5349  7223\\n      5350  7224\\n      5351  7225\\n      5352  7226\\n      5353  7227\\n      5354  7228\\n      5355  7256\\n      5356  7396\\n      5357  7396\\n      5358  7397\\n      5359  7398\\n      5360  7537\\n      5361  7574\\n      5362  7574\\n      5363  7734\\n      5364  7734\\n      5365  7575\\n      5366  7575\\n      5367  7921\\n      5368  7641\\n      5369  7641\\n      5370  7641\\n      5371  7641\\n      5372  7642\\n      5373  7642\\n      5374  7642\\n      5375  7353\\n      5376  7923\\n      5377  7643\\n      5378  7643\\n      5379  7643\\n      5380  7647\\n      5381  7647\\n      5382  7786\\n      5383  7667\\n      5384  7667\\n      5385  7510\\n      5386  7511\\n      5387  7512\\n      5388  7668\\n      5389  7680\\n      5390  7680\\n      5391  7680\\n      5392  7680\\n      5393  7223\\n      5394  7971\\n      5395  7971\\n      5396  7971\\n      5397  7971\\n      5398  7971\\n      5399  7689\\n      5400  7984\\n      5401  7396\\n      5402  7396\\n      5403  7397\\n      5404  7537\\n      5405  7537\\n      5406  7732\\n      5407  7733\\n      5408  7734\\n      5409  7734\\n      5410  7735\\n      5411  7735\\n      5412  7735\\n      5413  8083\\n      5414  7780\\n      5415  7780\\n      5416  7780\\n      5417  7780\\n      5418  7642\\n      5419  7642\\n      5420  7923\\n      5421  7923\\n      5422  7923\\n      5423  7781\\n      5424  7786\\n      5425  7799\\n      5426  7799\\n      5427  7667\\n      5428  7667\\n      5429  7510\\n      5430  7511\\n      5431  7668\\n      5432  7668\\n      5433  7815\\n      5434  7815\\n      5435  7815\\n      5436  7815\\n      5437  7971\\n      5438  7971\\n      5439  7971\\n      5440  7971\\n      5441  7971\\n      5442  7971\\n      5443  7822\\n      5444  7822\\n      5445  7690\\n      5446  7984\\n      5447  7984\\n      5448  7984\\n      5449  8128\\n      5450  7824\\n      5451  7824\\n      5452  7824\\n      5453  7857\\n      5454  7733\\n      5455  7734\\n      5456  7734\\n      5457  7734\\n      5458  7735\\n      5459  7735\\n      5460  7735\\n      5461  7735\\n      5462  8224\\n      5463  7922\\n      5464  7922\\n      5465  7922\\n      5466  7922\\n      5467  7642\\n      5468  8225\\n      5469  7923\\n      5470  7923\\n      5471  7923\\n      5472  7949\\n      5473  7799\\n      5474  7799\\n      5475  7667\\n      5476  7667\\n      5477  8103\\n      5478  8103\\n      5479  8103\\n      5480  8104\\n      5481  7970\\n      5482  7970\\n      5483  7970\\n      5484  7970\\n      5485  7971\\n      5486  7971\\n      5487  7971\\n      5488  7971\\n      5489  7971\\n      5490  7971\\n      5491  7972\\n      5492  7972\\n      5493  7972\\n      5494  7822\\n      5495  7822\\n      5496  7823\\n      5497  7984\\n      5498  7984\\n      5499  8268\\n      5500  8128\\n      5501  8128\\n      5502  8128\\n      5503  8022\\n      5504  8022\\n      5505  8171\\n      5506  8303\\n      5507  8303\\n      5508  8303\\n      5509  7735\\n      5510  7735\\n      5511  7735\\n      5512  7922\\n      5513  7922\\n      5514  8355\\n      5515  8225\\n      5516  8225\\n      5517  8084\\n      5518  8102\\n      5519  8102\\n      5520  7949\\n      5521  7799\\n      5522  7799\\n      5523  8375\\n      5524  8103\\n      5525  8103\\n      5526  8103\\n      5527  7970\\n      5528  7970\\n      5529  7970\\n      5530  7970\\n      5531  8518\\n      5532  8117\\n      5533  8117\\n      5534  8117\\n      5535  8117\\n      5536  8117\\n      5537  8118\\n      5538  8118\\n      5539  8118\\n      5540  8125\\n      5541  8125\\n      5542  8265\\n      5543  8127\\n      5544  8127\\n      5545  8127\\n      5546  8268\\n      5547  8268\\n      5548  8128\\n      5549  8128\\n      5550  8171\\n      5551  8303\\n      5552  8303\\n      5553  8303\\n      5554  8434\\n      5555  7735\\n      5556  8054\\n      5557  8054\\n      5558  7922\\n      5559  7922\\n      5560  8355\\n      5561  8355\\n      5562  8225\\n      5563  8225\\n      5564  8243\\n      5565  8244\\n      5566  8102\\n      5567  8102\\n      5568  8102\\n      5569  7949\\n      5570  8375\\n      5571  8375\\n      5572  8375\\n      5573  8245\\n      5574  8248\\n      5575  8248\\n      5576  7970\\n      5577  8518\\n      5578  8518\\n      5579  8519\\n      5580  8249\\n      5581  8249\\n      5582  8249\\n      5583  8249\\n      5584  8250\\n      5585  8250\\n      5586  8250\\n      5587  8265\\n      5588  8127\\n      5589  8127\\n      5590  8127\\n      5591  8268\\n      5592  8268\\n      5593  8268\\n      5594  8303\\n      5595  8303\\n      5596  8434\\n      5597  8570\\n      5598  8311\\n      5599  8447\\n      5600  8312\\n      5601  8312\\n      5602  8335\\n      5603  8599\\n      5604  8727\\n      5605  8728\\n      5606  8729\\n      5607  8730\\n      5608  8731\\n      5609  8484\\n      5610  8484\\n      5611  8611\\n      5612  8355\\n      5613  8355\\n      5614  8355\\n      5615  8374\\n      5616  8374\\n      5617  8244\\n      5618  8244\\n      5619  8102\\n      5620  8102\\n      5621  8627\\n      5622  8627\\n      5623  8375\\n      5624  8375\\n      5625  8375\\n      5626  8381\\n      5627  8381\\n      5628  8651\\n      5629  8518\\n      5630  8518\\n      5631  8519\\n      5632  8520\\n      5633  8382\\n      5634  8382\\n      5635  8523\\n      5636  8524\\n      5637  8383\\n      5638  8383\\n      5639  8390\\n      5640  8390\\n      5641  8390\\n      5642  8390\\n      5643  8923\\n      5644  8401\\n      5645  8401\\n      5646  8541\\n      5647  8541\\n      5648  8402\\n      5649  8402\\n      5650  8403\\n      5651  8434\\n      5652  8434\\n      5653  8447\\n      5654  8447\\n      5655  8447\\n      5656  8312\\n      5657  8312\\n      5658  8599\\n      5659  8726\\n      5660  8727\\n      5661  8728\\n      5662  8729\\n      5663  8730\\n      5664  8731\\n      5665  8484\\n      5666  8746\\n      5667  8611\\n      5668  8611\\n      5669  8485\\n      5670  8505\\n      5671  8374\\n      5672  8374\\n      5673  8759\\n      5674  8759\\n      5675  8759\\n      5676  8898\\n      5677  8627\\n      5678  8627\\n      5679  8627\\n      5680  8506\\n      5681  8517\\n      5682  8517\\n      5683  8651\\n      5684  8651\\n      5685  8518\\n      5686  8519\\n      5687  8520\\n      5688  8521\\n      5689  8522\\n      5690  8535\\n      5691  8535\\n      5692  8781\\n      5693  8781\\n      5694  8923\\n      5695  8540\\n      5696  8540\\n      5697  8541\\n      5698  8541\\n      5699  8541\\n      5700  8542\\n      5701  8403\\n      5702  8404\\n      5703  8543\\n      5704  8583\\n      5705  8714\\n      5706  8714\\n      5707  8714\\n      5708  8448\\n      5709  8448\\n      5710  8599\\n      5711  8726\\n      5712  8727\\n      5713  8728\\n      5714  8729\\n      5715  8730\\n      5716  8731\\n      5717  8746\\n      5718  8611\\n      5719  8611\\n      5720  8611\\n      5721  8624\\n      5722  8625\\n      5723  8626\\n      5724  8626\\n      5725  8759\\n      5726  8759\\n      5727  8898\\n      5728  8898\\n      5729  8899\\n      5730  8627\\n      5731  8627\\n      5732  8627\\n      5733  8650\\n      5734  8773\\n      5735  8651\\n      5736  8651\\n      5737  8519\\n      5738  8520\\n      5739  8521\\n      5740  8522\\n      5741  8658\\n      5742  8781\\n      5743  8781\\n      5744  8781\\n      5745  8923\\n      5746  8666\\n      5747  8793\\n      5748  8794\\n      5749  8667\\n      5750  8542\\n      5751  8542\\n      5752  8543\\n      5753  8543\\n      5754  8705\\n      5755  8987\\n      5756  8714\\n      5757  8714\\n      5758  8714\\n      5759  8448\\n      5760  8448\\n      5761  8449\\n      5762  8883\\n      5763  8747\\n      5764  8756\\n      5765  8756\\n      5766  8624\\n      5767  8625\\n      5768  8757\\n      5769  8758\\n      5770  8759\\n      5771  8759\\n      5772  8898\\n      5773  8898\\n      5774  9048\\n      5775  8899\\n      5776  8760\\n      5777  8650\\n      5778  8773\\n      5779  8652\\n      5780  8520\\n      5781  8775\\n      5782  8775\\n      5783  8781\\n      5784  8781\\n      5785  8781\\n      5786  9072\\n      5787  8923\\n      5788  8923\\n      5789  8792\\n      5790  8793\\n      5791  8794\\n      5792  8795\\n      5793  8796\\n      5794  8796\\n      5795  8936\\n      5796  8936\\n      5797  8797\\n      5798  8840\\n      5799  8986\\n      5800  8987\\n      5801  8851\\n      5802  8851\\n      5803  8995\\n      5804  9145\\n      5805  9145\\n      5806  9145\\n      5807  8883\\n      5808  8895\\n      5809  8895\\n      5810  9045\\n      5811  8757\\n      5812  8757\\n      5813  8758\\n      5814  8896\\n      5815  8897\\n      5816  8898\\n      5817  8898\\n      5818  9048\\n      5819  8899\\n      5820  8899\\n      5821  8900\\n      5822  8762\\n      5823  8901\\n      5824  9064\\n      5825  9064\\n      5826  8917\\n      5827  8917\\n      5828  8922\\n      5829  8922\\n      5830  8922\\n      5831  9221\\n      5832  9072\\n      5833  8923\\n      5834  8923\\n      5835  8923\\n      5836  8923\\n      5837  9074\\n      5838  8935\\n      5839  8935\\n      5840  8796\\n      5841  8936\\n      5842  8936\\n      5843  8986\\n      5844  8986\\n      5845  8987\\n      5846  8995\\n      5847  9145\\n      5848  9145\\n      5849  9307\\n      5850  9045\\n      5851  9045\\n      5852  9192\\n      5853  8757\\n      5854  8896\\n      5855  8896\\n      5856  9046\\n      5857  9046\\n      5858  9047\\n      5859  9048\\n      5860  9049\\n      5861  8900\\n      5862  8901\\n      5863  8901\\n      5864  8902\\n      5865  9052\\n      5866  9064\\n      5867  9064\\n      5868  9065\\n      5869  9065\\n      5870  9071\\n      5871  9221\\n      5872  9221\\n      5873  9072\\n      5874  9072\\n      5875  9073\\n      5876  9073\\n      5877  9073\\n      5878  9381\\n      5879  9381\\n      5880  9074\\n      5881  9074\\n      5882  9086\\n      5883  9086\\n      5884  9241\\n      5885  9242\\n      5886  8987\\n      5887  9137\\n      5888  9145\\n      5889  9307\\n      5890  9192\\n      5891  9192\\n      5892  9345\\n      5893  9489\\n      5894  8896\\n      5895  9046\\n      5896  9046\\n      5897  9047\\n      5898  9193\\n      5899  9194\\n      5900  9196\\n      5901  9196\\n      5902  9196\\n      5903  9197\\n      5904  9197\\n      5905  9197\\n      5906  9211\\n      5907  9211\\n      5908  9211\\n      5909  9212\\n      5910  9212\\n      5911  9220\\n      5912  9376\\n      5913  9221\\n      5914  9223\\n      5915  9223\\n      5916  9380\\n      5917  9381\\n      5918  9381\\n      5919  9381\\n      5920  9224\\n      5921  9224\\n      5922  9241\\n      5923  9241\\n      5924  9242\\n      5925  9243\\n      5926  9291\\n      5927  9292\\n      5928  9292\\n      5929  9296\\n      5930  9296\\n      5931  9139\\n      5932  9345\\n      5933  9489\\n      5934  9489\\n      5935  9489\\n      5936  9046\\n      5937  9046\\n      5938  9346\\n      5939  9346\\n      5940  9196\\n      5941  9196\\n      5942  9196\\n      5943  9496\\n      5944  9349\\n      5945  9365\\n      5946  9365\\n      5947  9365\\n      5948  9366\\n      5949  9366\\n      5950  9380\\n      5951  9381\\n      5952  9381\\n      5953  9381\\n      5954  9382\\n      5955  9382\\n      5956  9382\\n      5957  9401\\n      5958  9243\\n      5959  9244\\n      5960  9442\\n      5961  9596\\n      5962  9443\\n      5963  9598\\n      5964  9445\\n      5965  9445\\n      5966  9489\\n      5967  9489\\n      5968  9636\\n      5969  9636\\n      5970  9637\\n      5971  9637\\n      5972  9495\\n      5973  9495\\n      5974  9495\\n      5975  9640\\n      5976  9496\\n      5977  9496\\n      5978  9511\\n      5979  9511\\n      5980  9511\\n      5981  9512\\n      5982  9512\\n      5983  9523\\n      5984  9523\\n      5985  9523\\n      5986  9524\\n      5987  9524\\n      5988  9524\\n      5989  9543\\n      5990  9596\\n      5991  9596\\n      5992  9597\\n      5993  9597\\n      5994  9598\\n      5995  9598\\n      5996  9445\\n      5997  9599\\n      5998  9636\\n      5999  9636\\n      6000  9774\\n      6001  9637\\n      6002  9637\\n      6003  9638\\n      6004  9638\\n      6005  9492\\n      6006  9493\\n      6007  9639\\n      6008  9495\\n      6009  9495\\n      6010  9640\\n      6011  9640\\n      6012  9640\\n      6013  9511\\n      6014  9511\\n      6015  9511\\n      6016  9652\\n      6017  9652\\n      6018  9523\\n      6019  9523\\n      6020  9523\\n      6021  9662\\n      6022  9662\\n      6023  9662\\n      6024  9738\\n      6025  9738\\n      6026  9739\\n      6027  9739\\n      6028  9741\\n      6029  9599\\n      6030  9599\\n      6031  9774\\n      6032  9774\\n      6033  9775\\n      6034  9775\\n      6035  9638\\n      6036  9638\\n      6037  9492\\n      6038  9639\\n      6039  9639\\n      6040  9639\\n      6041  9495\\n      6042  9898\\n      6043  9776\\n      6044  9776\\n      6045  9785\\n      6046  9785\\n      6047 10067\\n      6048  9786\\n      6049  9786\\n      6050  9798\\n      6051  9798\\n      6052  9924\\n      6053  9924\\n      6054  9924\\n      6055  9662\\n      6056  9662\\n      6057  9858\\n      6058  9739\\n      6059  9739\\n      6060  9859\\n      6061  9997\\n      6062  9895\\n      6063  9896\\n      6064  9897\\n      6065  9897\\n      6066  9897\\n      6067  9638\\n      6068  9639\\n      6069  9639\\n      6070  9639\\n      6071  9898\\n      6072  9898\\n      6073  9898\\n      6074  9912\\n      6075 10066\\n      6076 10067\\n      6077 10068\\n      6078 10069\\n      6079  9921\\n      6080  9922\\n      6081  9923\\n      6082  9924\\n      6083  9924\\n      6084 10078\\n      6085  9925\\n      6086  9925\\n      6087  9930\\n      6088  9931\\n      6089  9932\\n      6090  9993\\n      6091 10157\\n      6092  9994\\n      6093  9994\\n      6094 10056\\n      6095  9897\\n      6096  9897\\n      6097  9897\\n      6098  9897\\n      6099  9639\\n      6100  9639\\n      6101 10209\\n      6102 10209\\n      6103 10057\\n      6104 10066\\n      6105 10066\\n      6106 10067\\n      6107 10068\\n      6108 10076\\n      6109 10076\\n      6110  9923\\n      6111 10077\\n      6112 10078\\n      6113 10078\\n      6114 10080\\n      6115 10080\\n      6116  9928\\n      6117  9929\\n      6118  9930\\n      6119  9931\\n      6120  9932\\n      6121 10157\\n      6122 10157\\n      6123  9994\\n      6124 10158\\n      6125 10158\\n      6126 10208\\n      6127 10208\\n      6128 10351\\n      6129 10351\\n      6130 10507\\n      6131 10666\\n      6132 10508\\n      6133 10209\\n      6134 10209\\n      6135 10209\\n      6136 10232\\n      6137 10076\\n      6138 10076\\n      6139 10077\\n      6140 10077\\n      6141 10078\\n      6142 10078\\n      6143 10080\\n      6144 10080\\n      6145  9928\\n      6146  9929\\n      6147  9930\\n      6148  9931\\n      6149  9932\\n      6150 10238\\n      6151 10238\\n      6152 10239\\n      6153 10298\\n      6154 10298\\n      6155 10433\\n      6156 10434\\n      6157 10299\\n      6158 10351\\n      6159 10351\\n      6160 10507\\n      6161 10666\\n      6162 10666\\n      6163 10667\\n      6164 10508\\n      6165 10508\\n      6166 10363\\n      6167 10364\\n      6168 10365\\n      6169 10365\\n      6170 10221\\n      6171 10374\\n      6172 10232\\n      6173 10698\\n      6174 10698\\n      6175 10077\\n      6176 10078\\n      6177 10080\\n      6178 10080\\n      6179 10080\\n      6180  9929\\n      6181  9930\\n      6182  9931\\n      6183  9932\\n      6184 10238\\n      6185 10238\\n      6186 10239\\n      6187 10240\\n      6188 10381\\n      6189 10432\\n      6190 10433\\n      6191 10434\\n      6192 10507\\n      6193 10666\\n      6194 10666\\n      6195 10666\\n      6196 10667\\n      6197 10667\\n      6198 10508\\n      6199 10522\\n      6200 10365\\n      6201 10365\\n      6202 10523\\n      6203 10523\\n      6204 10537\\n      6205 10537\\n      6206 10697\\n      6207 10698\\n      6208 10698\\n      6209 10865\\n      6210 10866\\n      6211 10538\\n      6212 10538\\n      6213 10080\\n      6214 10080\\n      6215 10080\\n      6216  9929\\n      6217  9930\\n      6218  9931\\n      6219  9932\\n      6220 10541\\n      6221 10541\\n      6222 10541\\n      6223 10239\\n      6224 10381\\n      6225 10381\\n      6226 10666\\n      6227 10666\\n      6228 10841\\n      6229 10667\\n      6230 10667\\n      6231 10855\\n      6232 10855\\n      6233 10681\\n      6234 10681\\n      6235 10681\\n      6236 10697\\n      6237 10698\\n      6238 10698\\n      6239 10865\\n      6240 10866\\n      6241 10538\\n      6242 10080\\n      6243 11349\\n      6244 11350\\n      6245 11351\\n      6246 11352\\n      6247 11353\\n      6248 10700\\n      6249 10703\\n      6250 10703\\n      6251 10703\\n      6252 10704\\n      6253 10704\\n      6254 10704\\n      6255 10841\\n      6256 10841\\n      6257 10994\\n      6258 10842\\n      6259 10855\\n      6260 10855\\n      6261 10855\\n      6262 10681\\n      6263 10681\\n      6264 10861\\n      6265 10862\\n      6266 10862\\n      6267 10863\\n      6268 11349\\n      6269 11349\\n      6270 11350\\n      6271 11351\\n      6272 11352\\n      6273 11353\\n      6274 11354\\n      6275 10879\\n      6276 10703\\n      6277 10703\\n      6278 10880\\n      6279 10880\\n      6280 10880\\n      6281 10920\\n      6282 10748\\n      6283 10924\\n      6284 10925\\n      6285 10931\\n      6286 10931\\n      6287 10932\\n      6288 10993\\n      6289 10994\\n      6290 11006\\n      6291 11006\\n      6292 11006\\n      6293 10681\\n      6294 10681\\n      6295 11014\\n      6296 11014\\n      6297 10862\\n      6298 10862\\n      6299 10863\\n      6300 10864\\n      6301 10865\\n      6302 11019\\n      6303 11019\\n      6304 11349\\n      6305 11349\\n      6306 11349\\n      6307 11350\\n      6308 11351\\n      6309 11352\\n      6310 11353\\n      6311 11354\\n      6312 11024\\n      6313 11024\\n      6314 11024\\n      6315 11173\\n      6316 11173\\n      6317 11173\\n      6318 11071\\n      6319 11210\\n      6320 11076\\n      6321 11077\\n      6322 11077\\n      6323 10929\\n      6324 11078\\n      6325 11079\\n      6326 11080\\n      6327 11081\\n      6328 11145\\n      6329 11157\\n      6330 11157\\n      6331 11157\\n      6332 11517\\n      6333 11517\\n      6334 11166\\n      6335 11166\\n      6336 11166\\n      6337 10862\\n      6338 10863\\n      6339 10864\\n      6340 11015\\n      6341 11168\\n      6342 11168\\n      6343 11168\\n      6344 11529\\n      6345 11349\\n      6346 11349\\n      6347 11350\\n      6348 11351\\n      6349 11352\\n      6350 11353\\n      6351 11354\\n      6352 11172\\n      6353 11024\\n      6354 11024\\n      6355 11173\\n      6356 11173\\n      6357 11173\\n      6358 11060\\n      6359 11061\\n      6360 11062\\n      6361 11063\\n      6362 11205\\n      6363 11229\\n      6364 11229\\n      6365 11415\\n      6366 11078\\n      6367 11230\\n      6368 11231\\n      6369 11232\\n      6370 11233\\n      6371 11341\\n      6372 11341\\n      6373 11517\\n      6374 11517\\n      6375 11518\\n      6376 11346\\n      6377 11346\\n      6378 11676\\n      6379 10863\\n      6380 11015\\n      6381 11015\\n      6382 11528\\n      6383 11529\\n      6384 11530\\n      6385 11349\\n      6386 11350\\n      6387 11352\\n      6388 11353\\n      6389 11394\\n      6390 11395\\n      6391 11395\\n      6392 11572\\n      6393 11206\\n      6394 11396\\n      6395 11396\\n      6396 11415\\n      6397 11416\\n      6398 11416\\n      6399 11417\\n      6400 11418\\n      6401 11419\\n      6402 11502\\n      6403 11516\\n      6404 11665\\n      6405 11517\\n      6406 11517\\n      6407 11518\\n      6408 11525\\n      6409 11676\\n      6410 11676\\n      6411 11676\\n      6412 11677\\n      6413 11677\\n      6414 11677\\n      6415 11531\\n      6416 11532\\n      6417 11532\\n      6418 11352\\n      6419 11353\\n      6420 11354\\n      6421 11533\\n      6422 11572\\n      6423 11572\\n      6424 11724\\n      6425 11396\\n      6426 11397\\n      6427 11573\\n      6428 11574\\n      6429 11589\\n      6430 11589\\n      6431 11416\\n      6432 11590\\n      6433 11591\\n      6434 11592\\n      6435 11502\\n      6436 11503\\n      6437 11664\\n      6438 11665\\n      6439 11666\\n      6440 11676\\n      6441 11676\\n      6442 11676\\n      6443 11676\\n      6444 11677\\n      6445 11677\\n      6446 11677\\n      6447 11529\\n      6448 11530\\n      6449 11531\\n      6450 11532\\n      6451 11532\\n      6452 11352\\n      6453 11353\\n      6454 11682\\n      6455 11872\\n      6456 11541\\n      6457 11690\\n      6458 11691\\n      6459 11724\\n      6460 11724\\n      6461 11904\\n      6462 11573\\n      6463 11574\\n      6464 11575\\n      6465 11725\\n      6466 11741\\n      6467 11742\\n      6468 11771\\n      6469 11772\\n      6470 11773\\n      6471 11773\\n      6472 11615\\n      6473 11774\\n      6474 11775\\n      6475 11833\\n      6476 11833\\n      6477 11834\\n      6478 11834\\n      6479 11849\\n      6480 11859\\n      6481 11859\\n      6482 11859\\n      6483 11860\\n      6484 11860\\n      6485 11860\\n      6486 11860\\n      6487 11529\\n      6488 11530\\n      6489 11531\\n      6490 11532\\n      6491 11532\\n      6492 11532\\n      6493 11863\\n      6494 11863\\n      6495 11872\\n      6496 11872\\n      6497 11690\\n      6498 11691\\n      6499 11904\\n      6500 11905\\n      6501 11905\\n      6502 12070\\n      6503 11950\\n      6504 11951\\n      6505 11953\\n      6506 11954\\n      6507 11955\\n      6508 11995\\n      6509 11833\\n      6510 11834\\n      6511 11996\\n      6512 11996\\n      6513 11999\\n      6514 11837\\n      6515 12000\\n      6516 12001\\n      6517 12023\\n      6518 12023\\n      6519 12023\\n      6520 12023\\n      6521 11860\\n      6522 11860\\n      6523 11860\\n      6524 12184\\n      6525 11530\\n      6526 11531\\n      6527 11532\\n      6528 11532\\n      6529 12026\\n      6530 12026\\n      6531 12026\\n      6532 12033\\n      6533 12033\\n      6534 12033\\n      6535 11691\\n      6536 12069\\n      6537 12070\\n      6538 12099\\n      6539 12105\\n      6540 12105\\n      6541 11952\\n      6542 11953\\n      6543 12153\\n      6544 12153\\n      6545 12153\\n      6546 11996\\n      6547 11996\\n      6548 11996\\n      6549 12154\\n      6550 12156\\n      6551 12000\\n      6552 12000\\n      6553 12001\\n      6554 12157\\n      6555 12157\\n      6556 12158\\n      6557 12182\\n      6558 12182\\n      6559 12463\\n      6560 11860\\n      6561 12183\\n      6562 12183\\n      6563 12184\\n      6564 12184\\n      6565 11531\\n      6566 12190\\n      6567 12190\\n      6568 12472\\n      6569 12256\\n      6570 12105\\n      6571 12153\\n      6572 12153\\n      6573 12153\\n      6574 11996\\n      6575 11996\\n      6576 12154\\n      6577 12154\\n      6578 12298\\n      6579 12299\\n      6580 12299\\n      6581 12299\\n      6582 12000\\n      6583 12001\\n      6584 12157\\n      6585 12157\\n      6586 12158\\n      6587 12159\\n      6588 12300\\n      6589 12301\\n      6590 12463\\n      6591 12463\\n      6592 12463\\n      6593 12326\\n      6594 12326\\n      6595 12326\\n      6596 12326\\n      6597 12332\\n      6598 12472\\n      6599 12472\\n      6600 12392\\n      6601 12439\\n      6602 12439\\n      6603 12439\\n      6604 12153\\n      6605 12729\\n      6606 12440\\n      6607 12440\\n      6608 12440\\n      6609 12299\\n      6610 12299\\n      6611 12299\\n      6612 12000\\n      6613 12157\\n      6614 12157\\n      6615 12157\\n      6616 12158\\n      6617 12300\\n      6618 12300\\n      6619 12301\\n      6620 12442\\n      6621 12442\\n      6622 12463\\n      6623 12463\\n      6624 12463\\n      6625 12463\\n      6626 12326\\n      6627 12326\\n      6628 12326\\n      6629 12326\\n      6630 12464\\n      6631 12464\\n      6632 12472\\n      6633 12472\\n      6634 12472\\n      6635 12539\\n      6636 12583\\n      6637 12439\\n      6638 12439\\n      6639 12439\\n      6640 12439\\n      6641 12729\\n      6642 12729\\n      6643 12729\\n      6644 12584\\n      6645 12585\\n      6646 12585\\n      6647 12585\\n      6648 12299\\n      6649 12299\\n      6650 12157\\n      6651 12157\\n      6652 12850\\n      6653 12850\\n      6654 12731\\n      6655 12731\\n      6656 12586\\n      6657 12588\\n      6658 12589\\n      6659 12601\\n      6660 12601\\n      6661 12601\\n      6662 12601\\n      6663 12326\\n      6664 12326\\n      6665 12326\\n      6666 12326\\n      6667 12602\\n      6668 12602\\n      6669 12609\\n      6670 12609\\n      6671 12609\\n      6672 12622\\n      6673 12622\\n      6674 12623\\n      6675 12623\\n      6676 12673\\n      6677 12583\\n      6678 12583\\n      6679 12439\\n      6680 12439\\n      6681 12999\\n      6682 12729\\n      6683 12729\\n      6684 12729\\n      6685 12730\\n      6686 12585\\n      6687 12585\\n      6688 12585\\n      6689 12585\\n      6690 13001\\n      6691 13001\\n      6692 13001\\n      6693 13001\\n      6694 12850\\n      6695 12850\\n      6696 12731\\n      6697 12733\\n      6698 12588\\n      6699 12589\\n      6700 12734\\n      6701 12746\\n      6702 12746\\n      6703 12746\\n      6704 12746\\n      6705 13198\\n      6706 12326\\n      6707 12326\\n      6708 12747\\n      6709 12747\\n      6710 12747\\n      6711 12753\\n      6712 12753\\n      6713 12765\\n      6714 12765\\n      6715 12766\\n      6716 12766\\n      6717 12624\\n      6718 12624\\n      6719 12803\\n      6720 12847\\n      6721 12848\\n      6722 12848\\n      6723 12848\\n      6724 13173\\n      6725 13174\\n      6726 13174\\n      6727 12999\\n      6728 12999\\n      6729 12730\\n      6730 12730\\n      6731 12585\\n      6732 12585\\n      6733 12585\\n      6734 13176\\n      6735 13001\\n      6736 13001\\n      6737 13001\\n      6738 13002\\n      6739 12850\\n      6740 12851\\n      6741 12852\\n      6742 12733\\n      6743 12733\\n      6744 12734\\n      6745 12734\\n      6746 12853\\n      6747 12871\\n      6748 12871\\n      6749 13198\\n      6750 13198\\n      6751 13334\\n      6752 13334\\n      6753 12747\\n      6754 12880\\n      6755 13037\\n      6756 12892\\n      6757 12892\\n      6758 12893\\n      6759 12893\\n      6760 12893\\n      6761 12894\\n      6762 12897\\n      6763 13116\\n      6764 12948\\n      6765 12948\\n      6766 12951\\n      6767 12996\\n      6768 12997\\n      6769 12847\\n      6770 12998\\n      6771 13173\\n      6772 13173\\n      6773 13173\\n      6774 13174\\n      6775 13174\\n      6776 13174\\n      6777 12999\\n      6778 13000\\n      6779 13000\\n      6780 13000\\n      6781 12730\\n      6782 13450\\n      6783 13317\\n      6784 13176\\n      6785 13176\\n      6786 13001\\n      6787 13001\\n      6788 13003\\n      6789 13003\\n      6790 12852\\n      6791 12852\\n      6792 12733\\n      6793 12734\\n      6794 12853\\n      6795 12853\\n      6796 13024\\n      6797 13198\\n      6798 13198\\n      6799 13333\\n      6800 13334\\n      6801 13028\\n      6802 13029\\n      6803 13036\\n      6804 13037\\n      6805 13061\\n      6806 13062\\n      6807 13063\\n      6808 13064\\n      6809 13065\\n      6810 13065\\n      6811 13066\\n      6812 13066\\n      6813 13066\\n      6814 12894\\n      6815 12894\\n      6816 13067\\n      6817 12897\\n      6818 13069\\n      6819 13116\\n      6820 13116\\n      6821 13268\\n      6822 13117\\n      6823 13117\\n      6824 13172\\n      6825 12996\\n      6826 12997\\n      6827 12997\\n      6828 12998\\n      6829 13173\\n      6830 13314\\n      6831 13174\\n      6832 13174\\n      6833 13174\\n      6834 13175\\n      6835 13000\\n      6836 13000\\n      6837 13450\\n      6838 13450\\n      6839 13450\\n      6840 13317\\n      6841 13176\\n      6842 13176\\n      6843 13178\\n      6844 13178\\n      6845 13003\\n      6846 12852\\n      6847 12852\\n      6848 12852\\n      6849 12853\\n      6850 13179\\n      6851 13179\\n      6852 13197\\n      6853 13198\\n      6854 13198\\n      6855 13333\\n      6856 13334\\n      6857 13029\\n      6858 13030\\n      6859 13031\\n      6860 13200\\n      6861 13221\\n      6862 13221\\n      6863 13063\\n      6864 13064\\n      6865 13065\\n      6866 13222\\n      6867 13222\\n      6868 13222\\n      6869 13222\\n      6870 13223\\n      6871 13223\\n      6872 13223\\n      6873 13224\\n      6874 13225\\n      6875 13225\\n      6876 13268\\n      6877 13397\\n      6878 13398\\n      6879 13313\\n      6880 13172\\n      6881 13172\\n      6882 12997\\n      6883 12997\\n      6884 13173\\n      6885 13173\\n      6886 13314\\n      6887 13314\\n      6888 13445\\n      6889 13446\\n      6890 13315\\n      6891 13316\\n      6892 13316\\n      6893 13449\\n      6894 13582\\n      6895 13450\\n      6896 13450\\n      6897 13450\\n      6898 13317\\n      6899 13317\\n      6900 13318\\n      6901 13177\\n      6902 13178\\n      6903 13178\\n      6904 13178\\n      6905 12852\\n      6906 12852\\n      6907 13179\\n      6908 13179\\n      6909 13333\\n      6910 13336\\n      6911 13477\\n      6912 13337\\n      6913 13358\\n      6914 13491\\n      6915 13630\\n      6916 13631\\n      6917 13359\\n      6918 13359\\n      6919 13359\\n      6920 13359\\n      6921 13360\\n      6922 13360\\n      6923 13360\\n      6924 13361\\n      6925 13225\\n      6926 13225\\n      6927 13362\\n      6928 13397\\n      6929 13398\\n      6930 13442\\n      6931 13443\\n      6932 13313\\n      6933 13313\\n      6934 13172\\n      6935 13172\\n      6936 13173\\n      6937 13444\\n      6938 13444\\n      6939 13444\\n      6940 13445\\n      6941 13445\\n      6942 13446\\n      6943 13449\\n      6944 13582\\n      6945 13582\\n      6946 13583\\n      6947 13450\\n      6948 13450\\n      6949 13452\\n      6950 13318\\n      6951 13318\\n      6952 13178\\n      6953 13178\\n      6954 13178\\n      6955 13856\\n      6956 13856\\n      6957 13856\\n      6958 13179\\n      6959 13476\\n      6960 13476\\n      6961 13476\\n      6962 13477\\n      6963 13477\\n      6964 13491\\n      6965 13491\\n      6966 13630\\n      6967 13631\\n      6968 13492\\n      6969 13492\\n      6970 13492\\n      6971 13492\\n      6972 13493\\n      6973 13493\\n      6974 13493\\n      6975 13494\\n      6976 13494\\n      6977 13362\\n      6978 13362\\n      6979 13495\\n      6980 13529\\n      6981 13576\\n      6982 13442\\n      6983 13443\\n      6984 13443\\n      6985 13313\\n      6986 13313\\n      6987 13172\\n      6988 13850\\n      6989 13850\\n      6990 13444\\n      6991 13444\\n      6992 13577\\n      6993 13578\\n      6994 13582\\n      6995 13582\\n      6996 13583\\n      6997 13583\\n      6998 13585\\n      6999 13452\\n      7000 13452\\n      7001 13318\\n      7002 13318\\n      7003 13856\\n      7004 13856\\n      7005 13856\\n      7006 13856\\n      7007 13856\\n      7008 13476\\n      7009 13476\\n      7010 13609\\n      7011 13609\\n      7012 13622\\n      7013 13623\\n      7014 13624\\n      7015 13625\\n      7016 13626\\n      7017 13627\\n      7018 13628\\n      7019 13629\\n      7020 13630\\n      7021 13631\\n      7022 13631\\n      7023 13632\\n      7024 13632\\n      7025 13632\\n      7026 13633\\n      7027 13633\\n      7028 13633\\n      7029 13634\\n      7030 13634\\n      7031 13362\\n      7032 13495\\n      7033 13495\\n      7034 13635\\n      7035 13730\\n      7036 13730\\n      7037 13849\\n      7038 13443\\n      7039 13443\\n      7040 13443\\n      7041 14089\\n      7042 13967\\n      7043 13850\\n      7044 13850\\n      7045 13850\\n      7046 13731\\n      7047 13734\\n      7048 13735\\n      7049 13737\\n      7050 13737\\n      7051 13585\\n      7052 13452\\n      7053 13974\\n      7054 13974\\n      7055 13974\\n      7056 13856\\n      7057 13856\\n      7058 13856\\n      7059 13764\\n      7060 13764\\n      7061 13764\\n      7062 13882\\n      7063 13765\\n      7064 13781\\n      7065 13622\\n      7066 13623\\n      7067 13624\\n      7068 13625\\n      7069 13626\\n      7070 13627\\n      7071 13628\\n      7072 13629\\n      7073 13630\\n      7074 13631\\n      7075 13782\\n      7076 13782\\n      7077 13782\\n      7078 13782\\n      7079 13783\\n      7080 13783\\n      7081 13783\\n      7082 13784\\n      7083 13784\\n      7084 13495\\n      7085 13495\\n      7086 13901\\n      7087 13785\\n      7088 13785\\n      7089 13966\\n      7090 13966\\n      7091 13966\\n      7092 14088\\n      7093 14089\\n      7094 14089\\n      7095 13967\\n      7096 13850\\n      7097 13850\\n      7098 13855\\n      7099 13855\\n      7100 13737\\n      7101 14095\\n      7102 14095\\n      7103 13974\\n      7104 13974\\n      7105 13974\\n      7106 13856\\n      7107 13856\\n      7108 13875\\n      7109 13875\\n      7110 13875\\n      7111 13875\\n      7112 13881\\n      7113 13764\\n      7114 13882\\n      7115 13882\\n      7116 13882\\n      7117 13780\\n      7118 13781\\n      7119 14012\\n      7120 14012\\n      7121 13624\\n      7122 13625\\n      7123 13626\\n      7124 13627\\n      7125 13628\\n      7126 13629\\n      7127 13630\\n      7128 14013\\n      7129 14013\\n      7130 13898\\n      7131 13898\\n      7132 13898\\n      7133 13899\\n      7134 13899\\n      7135 13899\\n      7136 13900\\n      7137 13900\\n      7138 13900\\n      7139 13901\\n      7140 13901\\n      7141 13901\\n      7142 14032\\n      7143 14032\\n      7144 14032\\n      7145 13966\\n      7146 14088\\n      7147 14088\\n      7148 14089\\n      7149 14089\\n      7150 13967\\n      7151 13967\\n      7152 13973\\n      7153 13973\\n      7154 14095\\n      7155 14095\\n      7156 14096\\n      7157 13974\\n      7158 13974\\n      7159 13975\\n      7160 13982\\n      7161 13983\\n      7162 13990\\n      7163 13990\\n      7164 13990\\n      7165 14109\\n      7166 14109\\n      7167 13995\\n      7168 13881\\n      7169 13881\\n      7170 13996\\n      7171 13996\\n      7172 13996\\n      7173 14003\\n      7174 14004\\n      7175 14010\\n      7176 14011\\n      7177 14012\\n      7178 14012\\n      7179 14012\\n      7180 14232\\n      7181 14233\\n      7182 14234\\n      7183 14235\\n      7184 14236\\n      7185 14013\\n      7186 14013\\n      7187 14013\\n      7188 13898\\n      7189 13898\\n      7190 14242\\n      7191 14014\\n      7192 14014\\n      7193 14014\\n      7194 14015\\n      7195 14015\\n      7196 14250\\n      7197 14251\\n      7198 14016\\n      7199 14016\\n      7200 14032\\n      7201 14145\\n      7202 14070\\n      7203 14071\\n      7204 14088\\n      7205 14188\\n      7206 14189\\n      7207 14089\\n      7208 14095\\n      7209 14095\\n      7210 14096\\n      7211 14096\\n      7212 14103\\n      7213 13981\\n      7214 13982\\n      7215 13983\\n      7216 14104\\n      7217 14104\\n      7218 13986\\n      7219 14108\\n      7220 14108\\n      7221 14108\\n      7222 14108\\n      7223 14108\\n      7224 14343\\n      7225 14343\\n      7226 14343\\n      7227 14109\\n      7228 14109\\n      7229 14109\\n      7230 14112\\n      7231 14214\\n      7232 14214\\n      7233 14113\\n      7234 14113\\n      7235 14118\\n      7236 14004\\n      7237 14123\\n      7238 14123\\n      7239 14231\\n      7240 14232\\n      7241 14233\\n      7242 14234\\n      7243 14235\\n      7244 14236\\n      7245 14237\\n      7246 14124\\n      7247 14124\\n      7248 14124\\n      7249 14241\\n      7250 14242\\n      7251 14243\\n      7252 14125\\n      7253 14125\\n      7254 14126\\n      7255 14249\\n      7256 14250\\n      7257 14251\\n      7258 14252\\n      7259 14031\\n      7260 14144\\n      7261 14144\\n      7262 14145\\n      7263 14145\\n      7264 14274\\n      7265 14070\\n      7266 14071\\n      7267 14173\\n      7268 14173\\n      7269 14188\\n      7270 14189\\n      7271 14192\\n      7272 14192\\n      7273 14194\\n      7274 14195\\n      7275 14201\\n      7276 14202\\n      7277 14103\\n      7278 14103\\n      7279 13982\\n      7280 14104\\n      7281 14104\\n      7282 14104\\n      7283 13986\\n      7284 14207\\n      7285 14207\\n      7286 14207\\n      7287 14207\\n      7288 14207\\n      7289 14343\\n      7290 14343\\n      7291 14343\\n      7292 14343\\n      7293 14343\\n      7294 14214\\n      7295 14214\\n      7296 14475\\n      7297 14215\\n      7298 14215\\n      7299 14223\\n      7300 14118\\n      7301 14241\\n      7302 14242\\n      7303 14243\\n      7304 14244\\n      7305 14245\\n      7306 14250\\n      7307 14251\\n      7308 14252\\n      7309 14384\\n      7310 14385\\n      7311 14144\\n      7312 14273\\n      7313 14274\\n      7314 14389\\n      7315 14284\\n      7316 14431\\n      7317 14173\\n      7318 14173\\n      7319 14173\\n      7320 14305\\n      7321 14305\\n      7322 14305\\n      7323 14326\\n      7324 14192\\n      7325 14192\\n      7326 14192\\n      7327 14335\\n      7328 14336\\n      7329 14201\\n      7330 14202\\n      7331 14202\\n      7332 14103\\n      7333 14103\\n      7334 14104\\n      7335 14104\\n      7336 14104\\n      7337 14104\\n      7338 13986\\n      7339 14342\\n      7340 14342\\n      7341 14342\\n      7342 14342\\n      7343 14342\\n      7344 14714\\n      7345 14591\\n      7346 14343\\n      7347 14343\\n      7348 14343\\n      7349 14347\\n      7350 14475\\n      7351 14475\\n      7352 14348\\n      7353 14356\\n      7354 14484\\n      7355 14241\\n      7356 14242\\n      7357 14243\\n      7358 14244\\n      7359 14245\\n      7360 14246\\n      7361 14247\\n      7362 14248\\n      7363 14249\\n      7364 14250\\n      7365 14251\\n      7366 14252\\n      7367 14253\\n      7368 14254\\n      7369 14255\\n      7370 14384\\n      7371 14399\\n      7372 14284\\n      7373 14284\\n      7374 14400\\n      7375 14416\\n      7376 14431\\n      7377 14431\\n      7378 14173\\n      7379 14173\\n      7380 14305\\n      7381 14305\\n      7382 14305\\n      7383 14432\\n      7384 14450\\n      7385 14325\\n      7386 14326\\n      7387 14326\\n      7388 14192\\n      7389 14192\\n      7390 14192\\n      7391 14458\\n      7392 14459\\n      7393 14335\\n      7394 14460\\n      7395 14585\\n      7396 14585\\n      7397 14202\\n      7398 14202\\n      7399 14103\\n      7400 14104\\n      7401 14104\\n      7402 14104\\n      7403 14104\\n      7404 13986\\n      7405 14342\\n      7406 14342\\n      7407 14342\\n      7408 14342\\n      7409 14714\\n      7410 14714\\n      7411 14714\\n      7412 14591\\n      7413 14466\\n      7414 14466\\n      7415 14475\\n      7416 14475\\n      7417 14476\\n      7418 14483\\n      7419 14483\\n      7420 14484\\n      7421 14493\\n      7422 14242\\n      7423 14243\\n      7424 14244\\n      7425 14245\\n      7426 14246\\n      7427 14247\\n      7428 14248\\n      7429 14249\\n      7430 14250\\n      7431 14251\\n      7432 14252\\n      7433 14253\\n      7434 14254\\n      7435 14494\\n      7436 14505\\n      7437 14506\\n      7438 14386\\n      7439 14387\\n      7440 14388\\n      7441 14507\\n      7442 14520\\n      7443 14520\\n      7444 14521\\n      7445 14521\\n      7446 14648\\n      7447 14522\\n      7448 14522\\n      7449 14522\\n      7450 14650\\n      7451 14650\\n      7452 14535\\n      7453 14536\\n      7454 14414\\n      7455 14415\\n      7456 14416\\n      7457 14539\\n      7458 14431\\n      7459 14431\\n      7460 14173\\n      7461 14173\\n      7462 14305\\n      7463 14305\\n      7464 14432\\n      7465 14432\\n      7466 14553\\n      7467 14576\\n      7468 14576\\n      7469 14450\\n      7470 14326\\n      7471 14326\\n      7472 14326\\n      7473 14192\\n      7474 14192\\n      7475 14577\\n      7476 14583\\n      7477 14583\\n      7478 14459\\n      7479 14584\\n      7480 14584\\n      7481 14585\\n      7482 14585\\n      7483 14706\\n      7484 14706\\n      7485 14706\\n      7486 14706\\n      7487 14104\\n      7488 14104\\n      7489 14104\\n      7490 14104\\n      7491 13986\\n      7492 14586\\n      7493 14590\\n      7494 14590\\n      7495 14590\\n      7496 14342\\n      7497 14342\\n      7498 14714\\n      7499 14714\\n      7500 14714\\n      7501 14714\\n      7502 14591\\n      7503 14602\\n      7504 14603\\n      7505 14611\\n      7506 14626\\n      7507 14626\\n      7508 14243\\n      7509 14244\\n      7510 14245\\n      7511 14246\\n      7512 14247\\n      7513 14248\\n      7514 14249\\n      7515 14250\\n      7516 14251\\n      7517 14252\\n      7518 14865\\n      7519 14627\\n      7520 14627\\n      7521 14506\\n      7522 14506\\n      7523 14387\\n      7524 14507\\n      7525 14507\\n      7526 14637\\n      7527 14520\\n      7528 14647\\n      7529 14647\\n      7530 14648\\n      7531 14648\\n      7532 14649\\n      7533 14649\\n      7534 14650\\n      7535 14650\\n      7536 14650\\n      7537 14893\\n      7538 14401\\n      7539 14655\\n      7540 14656\\n      7541 14656\\n      7542 14535\\n      7543 14536\\n      7544 14536\\n      7545 14770\\n      7546 14657\\n      7547 14660\\n      7548 14661\\n      7549 14661\\n      7550 14539\\n      7551 14540\\n      7552 14662\\n      7553 14663\\n      7554 14431\\n      7555 14431\\n      7556 14431\\n      7557 14173\\n      7558 14305\\n      7559 14432\\n      7560 14432\\n      7561 14553\\n      7562 14673\\n      7563 14673\\n      7564 14696\\n      7565 14696\\n      7566 14576\\n      7567 14576\\n      7568 14450\\n      7569 14326\\n      7570 14326\\n      7571 14326\\n      7572 14192\\n      7573 14577\\n      7574 14702\\n      7575 14582\\n      7576 14703\\n      7577 14704\\n      7578 14704\\n      7579 14584\\n      7580 14584\\n      7581 14705\\n      7582 14706\\n      7583 14706\\n      7584 14706\\n      7585 14963\\n      7586 14963\\n      7587 14963\\n      7588 15371\\n      7589 15371\\n      7590 15371\\n      7591 15371\\n      7592 14586\\n      7593 14586\\n      7594 14713\\n      7595 14713\\n      7596 14713\\n      7597 14713\\n      7598 14970\\n      7599 14970\\n      7600 14714\\n      7601 14714\\n      7602 14714\\n      7603 14729\\n      7604 14729\\n      7605 14730\\n      7606 14742\\n      7607 14742\\n      7608 14742\\n      7609 14742\\n      7610 15266\\n      7611 15267\\n      7612 14247\\n      7613 14248\\n      7614 15270\\n      7615 15008\\n      7616 15008\\n      7617 15008\\n      7618 15008\\n      7619 14865\\n      7620 14743\\n      7621 14873\\n      7622 14874\\n      7623 14875\\n      7624 14752\\n      7625 14752\\n      7626 14520\\n      7627 14647\\n      7628 14647\\n      7629 14762\\n      7630 14889\\n      7631 14649\\n      7632 14763\\n      7633 14893\\n      7634 14893\\n      7635 14769\\n      7636 14769\\n      7637 14656\\n      7638 14535\\n      7639 14901\\n      7640 14901\\n      7641 14770\\n      7642 14771\\n      7643 14772\\n      7644 14772\\n      7645 14659\\n      7646 14660\\n      7647 14661\\n      7648 14661\\n      7649 14904\\n      7650 14904\\n      7651 14773\\n      7652 14773\\n      7653 14431\\n      7654 14431\\n      7655 14431\\n      7656 14431\\n      7657 14432\\n      7658 14432\\n      7659 14553\\n      7660 14673\\n      7661 14673\\n      7662 14673\\n      7663 14674\\n      7664 14811\\n      7665 14811\\n      7666 14953\\n      7667 14953\\n      7668 15091\\n      7669 15091\\n      7670 15219\\n      7671 14326\\n      7672 14577\\n      7673 14819\\n      7674 14819\\n      7675 14703\\n      7676 14820\\n      7677 14961\\n      7678 14705\\n      7679 14705\\n      7680 14821\\n      7681 14821\\n      7682 14963\\n      7683 14963\\n      7684 14963\\n      7685 15370\\n      7686 15371\\n      7687 15371\\n      7688 15371\\n      7689 15371\\n      7690 15512\\n      7691 14586\\n      7692 14586\\n      7693 14822\\n      7694 14822\\n      7695 14713\\n      7696 14713\\n      7697 14713\\n      7698 14713\\n      7699 14970\\n      7700 14970\\n      7701 14970\\n      7702 14970\\n      7703 14828\\n      7704 14841\\n      7705 14842\\n      7706 14851\\n      7707 14852\\n      7708 14852\\n      7709 14864\\n      7710 14864\\n      7711 14864\\n      7712 15265\\n      7713 15266\\n      7714 15267\\n      7715 15268\\n      7716 15269\\n      7717 15270\\n      7718 15271\\n      7719 15008\\n      7720 15008\\n      7721 15008\\n      7722 14865\\n      7723 14865\\n      7724 14873\\n      7725 14874\\n      7726 14875\\n      7727 14876\\n      7728 15032\\n      7729 15033\\n      7730 15034\\n      7731 14887\\n      7732 14888\\n      7733 14889\\n      7734 14890\\n      7735 14900\\n      7736 14900\\n      7737 14900\\n      7738 15051\\n      7739 14901\\n      7740 14901\\n      7741 14903\\n      7742 14903\\n      7743 14903\\n      7744 14660\\n      7745 15054\\n      7746 15054\\n      7747 14904\\n      7748 14904\\n      7749 15324\\n      7750 15324\\n      7751 15324\\n      7752 15324\\n      7753 15324\\n      7754 14553\\n      7755 14673\\n      7756 14673\\n      7757 14673\\n      7758 15070\\n      7759 15070\\n      7760 14953\\n      7761 14953\\n      7762 15091\\n      7763 15091\\n      7764 15219\\n      7765 15357\\n      7766 15499\\n      7767 15097\\n      7768 14960\\n      7769 14960\\n      7770 14961\\n      7771 14961\\n      7772 14961\\n      7773 14962\\n      7774 14962\\n      7775 14963\\n      7776 14963\\n      7777 14963\\n      7778 14963\\n      7779 15370\\n      7780 15371\\n      7781 15371\\n      7782 15371\\n      7783 15371\\n      7784 15512\\n      7785 15372\\n      7786 15372\\n      7787 15228\\n      7788 15228\\n      7789 15228\\n      7790 14822\\n      7791 14822\\n      7792 14969\\n      7793 14969\\n      7794 14969\\n      7795 14713\\n      7796 14713\\n      7797 15233\\n      7798 14970\\n      7799 14970\\n      7800 14970\\n      7801 14984\\n      7802 14842\\n      7803 14985\\n      7804 14991\\n      7805 15007\\n      7806 15007\\n      7807 15264\\n      7808 15265\\n      7809 15266\\n      7810 15267\\n      7811 15268\\n      7812 15269\\n      7813 15270\\n      7814 15271\\n      7815 15272\\n      7816 15008\\n      7817 14873\\n      7818 14874\\n      7819 14875\\n      7820 15017\\n      7821 15028\\n      7822 15050\\n      7823 15050\\n      7824 15173\\n      7825 15051\\n      7826 15051\\n      7827 15053\\n      7828 15053\\n      7829 15177\\n      7830 15177\\n      7831 15054\\n      7832 15065\\n      7833 15065\\n      7834 15066\\n      7835 15066\\n      7836 15324\\n      7837 15324\\n      7838 15324\\n      7839 15622\\n      7840 15622\\n      7841 15070\\n      7842 15070\\n      7843 15070\\n      7844 15070\\n      7845 15070\\n      7846 15091\\n      7847 15091\\n      7848 15219\\n      7849 15357\\n      7850 15094\\n      7851 15097\\n      7852 15097\\n      7853 14960\\n      7854 15098\\n      7855 15098\\n      7856 15226\\n      7857 14962\\n      7858 14962\\n      7859 15099\\n      7860 15099\\n      7861 15369\\n      7862 15370\\n      7863 15371\\n      7864 15371\\n      7865 15371\\n      7866 15371\\n      7867 15512\\n      7868 15512\\n      7869 15372\\n      7870 15372\\n      7871 15372\\n      7872 15228\\n      7873 15228\\n      7874 15229\\n      7875 15100\\n      7876 15100\\n      7877 15105\\n      7878 15105\\n      7879 15105\\n      7880 15105\\n      7881 15380\\n      7882 15380\\n      7883 15233\\n      7884 15233\\n      7885 15113\\n      7886 15113\\n      7887 15114\\n      7888 15114\\n      7889 15132\\n      7890 15263\\n      7891 15264\\n      7892 15265\\n      7893 15266\\n      7894 15267\\n      7895 15268\\n      7896 15269\\n      7897 15270\\n      7898 15271\\n      7899 15272\\n      7900 15273\\n      7901 15140\\n      7902 15140\\n      7903 15141\\n      7904 15174\\n      7905 15176\\n      7906 15310\\n      7907 15177\\n      7908 15177\\n      7909 15065\\n      7910 15065\\n      7911 15185\\n      7912 15185\\n      7913 15324\\n      7914 15324\\n      7915 15478\\n      7916 15622\\n      7917 15622\\n      7918 15622\\n      7919 15193\\n      7920 15193\\n      7921 15193\\n      7922 15193\\n      7923 15219\\n      7924 15357\\n      7925 15222\\n      7926 15222\\n      7927 15094\\n      7928 15224\\n      7929 15225\\n      7930 15225\\n      7931 15226\\n      7932 15226\\n      7933 15227\\n      7934 15227\\n      7935 15227\\n      7936 15227\\n      7937 15368\\n      7938 15369\\n      7939 15370\\n      7940 15371\\n      7941 15371\\n      7942 15371\\n      7943 15511\\n      7944 15512\\n      7945 15512\\n      7946 15512\\n      7947 15372\\n      7948 15372\\n      7949 15373\\n      7950 15228\\n      7951 15229\\n      7952 15229\\n      7953 15230\\n      7954 15230\\n      7955 15105\\n      7956 15105\\n      7957 15105\\n      7958 15380\\n      7959 15380\\n      7960 15380\\n      7961 15380\\n      7962 15233\\n      7963 15240\\n      7964 15240\\n      7965 15113\\n      7966 15114\\n      7967 15114\\n      7968 15246\\n      7969 15265\\n      7970 15266\\n      7971 15267\\n      7972 15268\\n      7973 15269\\n      7974 15270\\n      7975 15271\\n      7976 15272\\n      7977 15273\\n      7978 15310\\n      7979 15311\\n      7980 15317\\n      7981 15318\\n      7982 15318\\n      7983 15318\\n      7984 15320\\n      7985 15324\\n      7986 15478\\n      7987 15621\\n      7988 15622\\n      7989 15622\\n      7990 15622\\n      7991 15623\\n      7992 15325\\n      7993 15325\\n      7994 15360\\n      7995 15361\\n      7996 15222\\n      7997 15222\\n      7998 15362\\n      7999 15362\\n      8000 15365\\n      8001 15365\\n      8002 15225\\n      8003 15366\\n      8004 15366\\n      8005 15506\\n      8006 15367\\n      8007 15367\\n      8008 15368\\n      8009 15368\\n      8010 15369\\n      8011 15370\\n      8012 15371\\n      8013 15371\\n      8014 15511\\n      8015 15652\\n      8016 15652\\n      8017 15512\\n      8018 15512\\n      8019 15372\\n      8020 15372\\n      8021 15373\\n      8022 15374\\n      8023 15229\\n      8024 15375\\n      8025 15375\\n      8026 15379\\n      8027 15379\\n      8028 15379\\n      8029 15105\\n      8030 15660\\n      8031 15380\\n      8032 15380\\n      8033 15380\\n      8034 15390\\n      8035 15240\\n      8036 15240\\n      8037 15391\\n      8038 15391\\n      8039 15391\\n      8040 15455\\n      8041 15456\\n      8042 15473\\n      8043 15474\\n      8044 15474\\n      8045 15475\\n      8046 15478\\n      8047 15478\\n      8048 15621\\n      8049 15622\\n      8050 15622\\n      8051 15750\\n      8052 15623\\n      8053 15623\\n      8054 15623\\n      8055 15503\\n      8056 15503\\n      8057 15361\\n      8058 15361\\n      8059 15222\\n      8060 15362\\n      8061 15362\\n      8062 15505\\n      8063 15366\\n      8064 15366\\n      8065 15506\\n      8066 15506\\n      8067 15367\\n      8068 15367\\n      8069 15507\\n      8070 15509\\n      8071 15370\\n      8072 15510\\n      8073 15511\\n      8074 15511\\n      8075 15652\\n      8076 15652\\n      8077 15512\\n      8078 15512\\n      8079 15514\\n      8080 15373\\n      8081 15374\\n      8082 15515\\n      8083 15515\\n      8084 15379\\n      8085 15379\\n      8086 15379\\n      8087 15660\\n      8088 15660\\n      8089 15660\\n      8090 15660\\n      8091 15520\\n      8092 15528\\n      8093 15528\\n      8094 15528\\n      8095 15240\\n      8096 15391\\n      8097 15391\\n      8098 15391\\n      8099 15455\\n      8100 15456\\n      8101 15593\\n      8102 15615\\n      8103 15615\\n      8104 15740\\n      8105 15616\\n      8106 15617\\n      8107 15617\\n      8108 15618\\n      8109 15619\\n      8110 15621\\n      8111 15622\\n      8112 15622\\n      8113 15750\\n      8114 15750\\n      8115 15623\\n      8116 15623\\n      8117 15646\\n      8118 15502\\n      8119 15503\\n      8120 15503\\n      8121 15361\\n      8122 15361\\n      8123 15362\\n      8124 15647\\n      8125 15647\\n      8126 15647\\n      8127 15650\\n      8128 15650\\n      8129 15506\\n      8130 15506\\n      8131 15367\\n      8132 15507\\n      8133 15507\\n      8134 15508\\n      8135 15509\\n      8136 15509\\n      8137 15510\\n      8138 15778\\n      8139 15652\\n      8140 15652\\n      8141 15653\\n      8142 15654\\n      8143 15513\\n      8144 15514\\n      8145 15514\\n      8146 15374\\n      8147 15515\\n      8148 15515\\n      8149 15659\\n      8150 15659\\n      8151 15379\\n      8152 15911\\n      8153 15660\\n      8154 15660\\n      8155 15660\\n      8156 15666\\n      8157 15666\\n      8158 15528\\n      8159 15528\\n      8160 15528\\n      8161 15391\\n      8162 15667\\n      8163 15667\\n      8164 15667\\n      8165 15851\\n      8166 15593\\n      8167 15722\\n      8168 15722\\n      8169 15739\\n      8170 15739\\n      8171 15740\\n      8172 15740\\n      8173 15741\\n      8174 15742\\n      8175 15871\\n      8176 15872\\n      8177 15618\\n      8178 15619\\n      8179 15620\\n      8180 15747\\n      8181 15749\\n      8182 15750\\n      8183 15876\\n      8184 15877\\n      8185 15751\\n      8186 15775\\n      8187 15775\\n      8188 15646\\n      8189 15646\\n      8190 15503\\n      8191 15503\\n      8192 15503\\n      8193 15361\\n      8194 15647\\n      8195 15647\\n      8196 15647\\n      8197 15647\\n      8198 15649\\n      8199 15649\\n      8200 15649\\n      8201 15650\\n      8202 15650\\n      8203 15506\\n      8204 15506\\n      8205 15506\\n      8206 15507\\n      8207 15507\\n      8208 15507\\n      8209 15508\\n      8210 15509\\n      8211 15777\\n      8212 15777\\n      8213 15777\\n      8214 15778\\n      8215 15779\\n      8216 15780\\n      8217 15653\\n      8218 15654\\n      8219 15654\\n      8220 15514\\n      8221 16037\\n      8222 16038\\n      8223 16039\\n      8224 15781\\n      8225 15781\\n      8226 15786\\n      8227 15786\\n      8228 15786\\n      8229 15786\\n      8230 15911\\n      8231 15911\\n      8232 15787\\n      8233 15791\\n      8234 15666\\n      8235 15666\\n      8236 15666\\n      8237 15528\\n      8238 15528\\n      8239 15667\\n      8240 15667\\n      8241 15667\\n      8242 15667\\n      8243 15851\\n      8244 16117\\n      8245 15722\\n      8246 15722\\n      8247 15852\\n      8248 15869\\n      8249 15869\\n      8250 15870\\n      8251 15870\\n      8252 15741\\n      8253 15742\\n      8254 15743\\n      8255 15744\\n      8256 15871\\n      8257 15872\\n      8258 15873\\n      8259 15619\\n      8260 15747\\n      8261 15747\\n      8262 15748\\n      8263 15874\\n      8264 15877\\n      8265 15904\\n      8266 15775\\n      8267 15646\\n      8268 15646\\n      8269 15646\\n      8270 15503\\n      8271 15503\\n      8272 15361\\n      8273 15647\\n      8274 15647\\n      8275 15647\\n      8276 15776\\n      8277 15776\\n      8278 15776\\n      8279 15776\\n      8280 15649\\n      8281 15649\\n      8282 15649\\n      8283 15650\\n      8284 15650\\n      8285 15650\\n      8286 15506\\n      8287 15506\\n      8288 15507\\n      8289 15507\\n      8290 15507\\n      8291 15508\\n      8292 15509\\n      8293 15777\\n      8294 15777\\n      8295 15777\\n      8296 15905\\n      8297 15905\\n      8298 16032\\n      8299 16033\\n      8300 16034\\n      8301 16035\\n      8302 16036\\n      8303 16037\\n      8304 16038\\n      8305 16039\\n      8306 16040\\n      8307 15781\\n      8308 15907\\n      8309 15907\\n      8310 15910\\n      8311 15786\\n      8312 15786\\n      8313 15911\\n      8314 15911\\n      8315 15911\\n      8316 15911\\n      8317 15916\\n      8318 15791\\n      8319 15791\\n      8320 15666\\n      8321 15666\\n      8322 15666\\n      8323 15528\\n      8324 15667\\n      8325 15667\\n      8326 15917\\n      8327 15917\\n      8328 15917\\n      8329 15980\\n      8330 16117\\n      8331 16118\\n      8332 15981\\n      8333 15982\\n      8334 15983\\n      8335 15854\\n      8336 15855\\n      8337 15856\\n      8338 15857\\n      8339 15858\\n      8340 15858\\n      8341 15869\\n      8342 15869\\n      8343 15999\\n      8344 15999\\n      8345 15742\\n      8346 16146\\n      8347 16146\\n      8348 16000\\n      8349 16000\\n      8350 16001\\n      8351 16002\\n      8352 16002\\n      8353 15747\\n      8354 15747\\n      8355 15874\\n      8356 15874\\n      8357 15875\\n      8358 16003\\n      8359 15895\\n      8360 16018\\n      8361 16019\\n      8362 16020\\n      8363 16029\\n      8364 16029\\n      8365 16176\\n      8366 16176\\n      8367 16294\\n      8368 16294\\n      8369 16534\\n      8370 16534\\n      8371 16534\\n      8372 15647\\n      8373 15647\\n      8374 15776\\n      8375 15776\\n      8376 15776\\n      8377 15776\\n      8378 15776\\n      8379 15776\\n      8380 15649\\n      8381 15649\\n      8382 15650\\n      8383 15650\\n      8384 15650\\n      8385 15506\\n      8386 15506\\n      8387 15507\\n      8388 15507\\n      8389 15507\\n      8390 15508\\n      8391 15777\\n      8392 15777\\n      8393 16030\\n      8394 16030\\n      8395 16030\\n      8396 16031\\n      8397 16032\\n      8398 16033\\n      8399 16034\\n      8400 16035\\n      8401 16038\\n      8402 16039\\n      8403 16040\\n      8404 16041\\n      8405 16041\\n      8406 15907\\n      8407 16042\\n      8408 16042\\n      8409 16044\\n      8410 16044\\n      8411 15786\\n      8412 16045\\n      8413 16045\\n      8414 16045\\n      8415 16050\\n      8416 16051\\n      8417 15916\\n      8418 15916\\n      8419 15791\\n      8420 15791\\n      8421 15666\\n      8422 15666\\n      8423 15666\\n      8424 15917\\n      8425 15917\\n      8426 15917\\n      8427 15917\\n      8428 15917\\n      8429 16054\\n      8430 16117\\n      8431 16118\\n      8432 16118\\n      8433 15982\\n      8434 16119\\n      8435 16119\\n      8436 15855\\n      8437 15856\\n      8438 15857\\n      8439 15858\\n      8440 15858\\n      8441 16125\\n      8442 16126\\n      8443 16144\\n      8444 16264\\n      8445 16145\\n      8446 16145\\n      8447 16145\\n      8448 16146\\n      8449 16146\\n      8450 16146\\n      8451 16147\\n      8452 16147\\n      8453 16148\\n      8454 16149\\n      8455 16149\\n      8456 16495\\n      8457 15874\\n      8458 15874\\n      8459 15874\\n      8460 16003\\n      8461 16003\\n      8462 16004\\n      8463 16150\\n      8464 16283\\n      8465 16164\\n      8466 16164\\n      8467 16165\\n      8468 16022\\n      8469 16166\\n      8470 16167\\n      8471 16176\\n      8472 16176\\n      8473 16294\\n      8474 16294\\n      8475 16406\\n      8476 16534\\n      8477 16534\\n      8478 16534\\n      8479 16534\\n      8480 15776\\n      8481 15776\\n      8482 15776\\n      8483 15776\\n      8484 15776\\n      8485 15776\\n      8486 15776\\n      8487 15649\\n      8488 15649\\n      8489 15650\\n      8490 15650\\n      8491 15650\\n      8492 15506\\n      8493 16812\\n      8494 16813\\n      8495 15507\\n      8496 15507\\n      8497 15508\\n      8498 16177\\n      8499 16177\\n      8500 16177\\n      8501 16177\\n      8502 16177\\n      8503 16178\\n      8504 16032\\n      8505 16033\\n      8506 16034\\n      8507 16035\\n      8508 16036\\n      8509 16037\\n      8510 16038\\n      8511 16039\\n      8512 16040\\n      8513 16041\\n      8514 16041\\n      8515 15907\\n      8516 16042\\n      8517 16042\\n      8518 16180\\n      8519 16180\\n      8520 16180\\n      8521 16180\\n      8522 16045\\n      8523 16045\\n      8524 16045\\n      8525 16045\\n      8526 16045\\n      8527 15912\\n      8528 15912\\n      8529 16046\\n      8530 16046\\n      8531 16046\\n      8532 16047\\n      8533 16048\\n      8534 16049\\n      8535 16050\\n      8536 16051\\n      8537 16181\\n      8538 16183\\n      8539 16183\\n      8540 16183\\n      8541 15916\\n      8542 15791\\n      8543 16692\\n      8544 16692\\n      8545 16822\\n      8546 15917\\n      8547 15917\\n      8548 15917\\n      8549 15917\\n      8550 16054\\n      8551 16054\\n      8552 16117\\n      8553 16235\\n      8554 16236\\n      8555 16237\\n      8556 16238\\n      8557 16238\\n      8558 16362\\n      8559 16468\\n      8560 16469\\n      8561 16469\\n      8562 16469\\n      8563 16243\\n      8564 16245\\n      8565 16245\\n      8566 16127\\n      8567 16246\\n      8568 16250\\n      8569 16265\\n      8570 16266\\n      8571 16266\\n      8572 16266\\n      8573 16267\\n      8574 16267\\n      8575 16147\\n      8576 16268\\n      8577 16268\\n      8578 16269\\n      8579 16494\\n      8580 16495\\n      8581 16496\\n      8582 16497\\n      8583 16498\\n      8584 16499\\n      8585 16500\\n      8586 16150\\n      8587 16150\\n      8588 16151\\n      8589 16153\\n      8590 16273\\n      8591 16283\\n      8592 16283\\n      8593 16284\\n      8594 16285\\n      8595 16286\\n      8596 16286\\n      8597 16166\\n      8598 16166\\n      8599 16167\\n      8600 16398\\n      8601 16287\\n      8602 16294\\n      8603 16294\\n      8604 16406\\n      8605 16534\\n      8606 16534\\n      8607 16534\\n      8608 16534\\n      8609 16671\\n      8610 15776\\n      8611 15776\\n      8612 15776\\n      8613 15776\\n      8614 15776\\n      8615 15776\\n      8616 15776\\n      8617 15649\\n      8618 15649\\n      8619 15650\\n      8620 16812\\n      8621 16812\\n      8622 16812\\n      8623 16812\\n      8624 16813\\n      8625 16813\\n      8626 16813\\n      8627 16813\\n      8628 16177\\n      8629 16177\\n      8630 16177\\n      8631 16177\\n      8632 16177\\n      8633 16295\\n      8634 16295\\n      8635 16408\\n      8636 16034\\n      8637 16035\\n      8638 16036\\n      8639 16037\\n      8640 16038\\n      8641 16039\\n      8642 16040\\n      8643 16041\\n      8644 16041\\n      8645 16041\\n      8646 16296\\n      8647 16296\\n      8648 16296\\n      8649 16297\\n      8650 16297\\n      8651 16297\\n      8652 16045\\n      8653 16045\\n      8654 16045\\n      8655 16045\\n      8656 16538\\n      8657 16539\\n      8658 16540\\n      8659 16541\\n      8660 16542\\n      8661 16046\\n      8662 16047\\n      8663 16048\\n      8664 16049\\n      8665 16050\\n      8666 16298\\n      8667 16298\\n      8668 16183\\n      8669 16183\\n      8670 16183\\n      8671 16691\\n      8672 16692\\n      8673 16692\\n      8674 16692\\n      8675 16822\\n      8676 16822\\n      8677 15917\\n      8678 15917\\n      8679 16054\\n      8680 16300\\n      8681 16300\\n      8682 16300\\n      8683 16360\\n      8684 16360\\n      8685 16237\\n      8686 16361\\n      8687 16362\\n      8688 16362\\n      8689 16468\\n      8690 16469\\n      8691 16469\\n      8692 16366\\n      8693 16367\\n      8694 16368\\n      8695 16368\\n      8696 16369\\n      8697 16369\\n      8698 16477\\n      8699 16370\\n      8700 16372\\n      8701 16372\\n      8702 16373\\n      8703 16380\\n      8704 16266\\n      8705 16266\\n      8706 16489\\n      8707 16381\\n      8708 16381\\n      8709 16381\\n      8710 16382\\n      8711 16383\\n      8712 16494\\n      8713 16495\\n      8714 16496\\n      8715 16497\\n      8716 16498\\n      8717 16499\\n      8718 16500\\n      8719 16501\\n      8720 16502\\n      8721 16384\\n      8722 16384\\n      8723 16273\\n      8724 16273\\n      8725 16388\\n      8726 16396\\n      8727 16284\\n      8728 16397\\n      8729 16286\\n      8730 16286\\n      8731 16286\\n      8732 16398\\n      8733 16398\\n      8734 16398\\n      8735 16406\\n      8736 16406\\n      8737 16534\\n      8738 16534\\n      8739 16534\\n      8740 16671\\n      8741 16671\\n      8742 16935\\n      8743 16935\\n      8744 16935\\n      8745 15776\\n      8746 15776\\n      8747 15776\\n      8748 15776\\n      8749 15649\\n      8750 16812\\n      8751 16812\\n      8752 16812\\n      8753 16812\\n      8754 16812\\n      8755 16813\\n      8756 16813\\n      8757 16813\\n      8758 16813\\n      8759 16177\\n      8760 16177\\n      8761 16177\\n      8762 16407\\n      8763 16407\\n      8764 16407\\n      8765 16408\\n      8766 16408\\n      8767 16408\\n      8768 16675\\n      8769 16676\\n      8770 16677\\n      8771 16678\\n      8772 16679\\n      8773 16680\\n      8774 16681\\n      8775 16682\\n      8776 16683\\n      8777 16409\\n      8778 16409\\n      8779 16409\\n      8780 16410\\n      8781 16410\\n      8782 16410\\n      8783 16410\\n      8784 16410\\n      8785 16538\\n      8786 16538\\n      8787 16538\\n      8788 16538\\n      8789 16539\\n      8790 16540\\n      8791 16541\\n      8792 16542\\n      8793 16543\\n      8794 16544\\n      8795 16545\\n      8796 16546\\n      8797 16547\\n      8798 16411\\n      8799 16411\\n      8800 16412\\n      8801 16552\\n      8802 16690\\n      8803 16691\\n      8804 16692\\n      8805 16692\\n      8806 16692\\n      8807 16822\\n      8808 16822\\n      8809 16822\\n      8810 16951\\n      8811 16300\\n      8812 16300\\n      8813 16300\\n      8814 16300\\n      8815 16413\\n      8816 16465\\n      8817 16360\\n      8818 16361\\n      8819 16361\\n      8820 16466\\n      8821 16468\\n      8822 16469\\n      8823 16469\\n      8824 16613\\n      8825 16472\\n      8826 16365\\n      8827 16366\\n      8828 16367\\n      8829 16474\\n      8830 16475\\n      8831 16476\\n      8832 16477\\n      8833 16480\\n      8834 16480\\n      8835 16481\\n      8836 16380\\n      8837 16380\\n      8838 16489\\n      8839 16489\\n      8840 16489\\n      8841 16490\\n      8842 16490\\n      8843 16491\\n      8844 16492\\n      8845 16493\\n      8846 16494\\n      8847 16495\\n      8848 16496\\n      8849 16497\\n      8850 16273\\n      8851 16273\\n      8852 16388\\n      8853 16388\\n      8854 16509\\n      8855 16520\\n      8856 16520\\n      8857 16521\\n      8858 16522\\n      8859 16522\\n      8860 16522\\n      8861 16522\\n      8862 16667\\n      8863 16667\\n      8864 16523\\n      8865 16534\\n      8866 16534\\n      8867 16671\\n      8868 16671\\n      8869 16811\\n      8870 16935\\n      8871 16935\\n      8872 16935\\n      8873 16935\\n      8874 16935\\n      8875 16935\\n      8876 15776\\n      8877 16812\\n      8878 16812\\n      8879 16812\\n      8880 16812\\n      8881 16812\\n      8882 16812\\n      8883 16812\\n      8884 16813\\n      8885 16813\\n      8886 16813\\n      8887 16813\\n      8888 16813\\n      8889 16407\\n      8890 16407\\n      8891 16407\\n      8892 16407\\n      8893 16407\\n      8894 16535\\n      8895 16674\\n      8896 16675\\n      8897 16676\\n      8898 16677\\n      8899 16678\\n      8900 16679\\n      8901 16680\\n      8902 16681\\n      8903 16682\\n      8904 16683\\n      8905 16684\\n      8906 16536\\n      8907 16536\\n      8908 16537\\n      8909 16537\\n      8910 16537\\n      8911 16537\\n      8912 16943\\n      8913 16538\\n      8914 16538\\n      8915 16538\\n      8916 16538\\n      8917 16539\\n      8918 16540\\n      8919 16541\\n      8920 16542\\n      8921 16543\\n      8922 16544\\n      8923 16545\\n      8924 16548\\n      8925 16549\\n      8926 16551\\n      8927 16552\\n      8928 16552\\n      8929 16690\\n      8930 16691\\n      8931 16692\\n      8932 16692\\n      8933 16821\\n      8934 16822\\n      8935 16822\\n      8936 16822\\n      8937 16951\\n      8938 16951\\n      8939 16300\\n      8940 16300\\n      8941 16413\\n      8942 16611\\n      8943 16757\\n      8944 16466\\n      8945 16466\\n      8946 16467\\n      8947 16612\\n      8948 16612\\n      8949 16613\\n      8950 16618\\n      8951 16618\\n      8952 16768\\n      8953 16769\\n      8954 16770\\n      8955 16771\\n      8956 16619\\n      8957 16620\\n      8958 16621\\n      8959 16622\\n      8960 16623\\n      8961 16623\\n      8962 16626\\n      8963 16488\\n      8964 16488\\n      8965 16899\\n      8966 16634\\n      8967 16634\\n      8968 16634\\n      8969 16490\\n      8970 16490\\n      8971 16635\\n      8972 16913\\n      8973 16388\\n      8974 16388\\n      8975 16509\\n      8976 16509\\n      8977 16654\\n      8978 16665\\n      8979 16665\\n      8980 16521\\n      8981 16666\\n      8982 16522\\n      8983 16522\\n      8984 16522\\n      8985 16807\\n      8986 16667\\n      8987 16671\\n      8988 16671\\n      8989 16811\\n      8990 16934\\n      8991 16935\\n      8992 16935\\n      8993 16935\\n      8994 16935\\n      8995 16935\\n      8996 16935\\n      8997 16935\\n      8998 17061\\n      8999 17061\\n      9000 16812\\n      9001 16812\\n      9002 16812\\n      9003 16812\\n      9004 16812\\n      9005 16813\\n      9006 16813\\n      9007 16813\\n      9008 16813\\n      9009 16813\\n      9010 16407\\n      9011 16407\\n      9012 16407\\n      9013 16672\\n      9014 16672\\n      9015 16672\\n      9016 16673\\n      9017 16674\\n      9018 16675\\n      9019 16676\\n      9020 16677\\n      9021 16678\\n      9022 16679\\n      9023 16680\\n      9024 16687\\n      9025 16687\\n      9026 16687\\n      9027 16942\\n      9028 16943\\n      9029 16944\\n      9030 16945\\n      9031 16538\\n      9032 16538\\n      9033 16539\\n      9034 16540\\n      9035 16541\\n      9036 16542\\n      9037 16543\\n      9038 16544\\n      9039 16545\\n      9040 16546\\n      9041 16547\\n      9042 16548\\n      9043 16549\\n      9044 16692\\n      9045 16820\\n      9046 16821\\n      9047 16822\\n      9048 16822\\n      9049 16822\\n      9050 16951\\n      9051 16951\\n      9052 16951\\n      9053 16951\\n      9054 16954\\n      9055 16696\\n      9056 16696\\n      9057 16757\\n      9058 16757\\n      9059 16758\\n      9060 16758\\n      9061 16759\\n      9062 16760\\n      9063 16618\\n      9064 16767\\n      9065 16768\\n      9066 16769\\n      9067 16770\\n      9068 16772\\n      9069 16773\\n      9070 16774\\n      9071 16775\\n      9072 16622\\n      9073 16623\\n      9074 16623\\n      9075 16624\\n      9076 16776\\n      9077 16783\\n      9078 16898\\n      9079 16899\\n      9080 16900\\n      9081 16784\\n      9082 16784\\n      9083 16784\\n      9084 16902\\n      9085 16785\\n      9086 16913\\n      9087 16913\\n      9088 17036\\n      9089 16509\\n      9090 16509\\n      9091 16654\\n      9092 16654\\n      9093 16794\\n      9094 16805\\n      9095 16805\\n      9096 16806\\n      9097 16806\\n      9098 16806\\n      9099 16928\\n      9100 16807\\n      9101 16807\\n      9102 16811\\n      9103 16811\\n      9104 16934\\n      9105 16935\\n      9106 16935\\n      9107 16935\\n      9108 16935\\n      9109 16935\\n      9110 16935\\n      9111 17417\\n      9112 17061\\n      9113 17061\\n      9114 17061\\n      9115 17061\\n      9116 16812\\n      9117 16812\\n      9118 16812\\n      9119 16816\\n      9120 16816\\n      9121 16941\\n      9122 16942\\n      9123 16943\\n      9124 16944\\n      9125 16945\\n      9126 16946\\n      9127 16947\\n      9128 16817\\n      9129 16818\\n      9130 16818\\n      9131 16818\\n      9132 16543\\n      9133 16544\\n      9134 16545\\n      9135 16546\\n      9136 16547\\n      9137 16548\\n      9138 16549\\n      9139 16822\\n      9140 16822\\n      9141 16822\\n      9142 16951\\n      9143 16951\\n      9144 16951\\n      9145 16954\\n      9146 16954\\n      9147 16954\\n      9148 16832\\n      9149 16703\\n      9150 16833\\n      9151 16887\\n      9152 16767\\n      9153 16768\\n      9154 16888\\n      9155 16770\\n      9156 16771\\n      9157 16772\\n      9158 16889\\n      9159 16774\\n      9160 16775\\n      9161 16775\\n      9162 16623\\n      9163 16623\\n      9164 16776\\n      9165 16776\\n      9166 16777\\n      9167 16890\\n      9168 16897\\n      9169 16898\\n      9170 16899\\n      9171 17025\\n      9172 16900\\n      9173 16901\\n      9174 16901\\n      9175 16902\\n      9176 16913\\n      9177 16913\\n      9178 17036\\n      9179 17147\\n      9180 17147\\n      9181 17147\\n      9182 16654\\n      9183 16794\\n      9184 16794\\n      9185 16914\\n      9186 16926\\n      9187 16927\\n      9188 16927\\n      9189 16927\\n      9190 16928\\n      9191 16928\\n      9192 16933\\n      9193 16934\\n      9194 16935\\n      9195 16935\\n      9196 16935\\n      9197 16935\\n      9198 16935\\n      9199 17417\\n      9200 17417\\n      9201 17418\\n      9202 17061\\n      9203 17061\\n      9204 17061\\n      9205 17061\\n      9206 16936\\n      9207 16936\\n      9208 16948\\n      9209 16948\\n      9210 16948\\n      9211 16948\\n      9212 16544\\n      9213 16545\\n      9214 16546\\n      9215 16547\\n      9216 16548\\n      9217 16549\\n      9218 16550\\n      9219 16822\\n      9220 16822\\n      9221 17070\\n      9222 17071\\n      9223 17075\\n      9224 16954\\n      9225 16963\\n      9226 16964\\n      9227 16964\\n      9228 17006\\n      9229 17014\\n      9230 17014\\n      9231 17015\\n      9232 17015\\n      9233 17015\\n      9234 16889\\n      9235 16889\\n      9236 17016\\n      9237 17016\\n      9238 17016\\n      9239 16775\\n      9240 16776\\n      9241 16776\\n      9242 16776\\n      9243 17017\\n      9244 17027\\n      9245 17036\\n      9246 17146\\n      9247 17147\\n      9248 17147\\n      9249 17147\\n      9250 17263\\n      9251 16794\\n      9252 16914\\n      9253 16914\\n      9254 17037\\n      9255 17060\\n      9256 17060\\n      9257 16935\\n      9258 16935\\n      9259 17291\\n      9260 17417\\n      9261 17417\\n      9262 17417\\n      9263 17418\\n      9264 17418\\n      9265 17292\\n      9266 17061\\n      9267 17061\\n      9268 17061\\n      9269 17067\\n      9270 17067\\n      9271 17067\\n      9272 17067\\n      9273 17067\\n      9274 16545\\n      9275 16546\\n      9276 16547\\n      9277 16548\\n      9278 16549\\n      9279 16550\\n      9280 17069\\n      9281 17181\\n      9282 17070\\n      9283 17075\\n      9284 17075\\n      9285 17080\\n      9286 16962\\n      9287 16963\\n      9288 17081\\n      9289 16965\\n      9290 16965\\n      9291 17082\\n      9292 17082\\n      9293 17117\\n      9294 17118\\n      9295 17006\\n      9296 17119\\n      9297 17125\\n      9298 17125\\n      9299 17126\\n      9300 17126\\n      9301 17126\\n      9302 17232\\n      9303 17127\\n      9304 17127\\n      9305 17127\\n      9306 17127\\n      9307 17127\\n      9308 17234\\n      9309 17234\\n      9310 17234\\n      9311 17128\\n      9312 17134\\n      9313 17147\\n      9314 17147\\n      9315 17263\\n      9316 17263\\n      9317 16914\\n      9318 16914\\n      9319 17037\\n      9320 17037\\n      9321 17148\\n      9322 17171\\n      9323 17171\\n      9324 17291\\n      9325 17417\\n      9326 17417\\n      9327 17417\\n      9328 17417\\n      9329 17418\\n      9330 17418\\n      9331 17418\\n      9332 17292\\n      9333 17292\\n      9334 17177\\n      9335 17177\\n      9336 17177\\n      9337 17177\\n      9338 17177\\n      9339 17177\\n      9340 16546\\n      9341 16547\\n      9342 16548\\n      9343 16549\\n      9344 17178\\n      9345 17300\\n      9346 17181\\n      9347 17186\\n      9348 17186\\n      9349 17079\\n      9350 17189\\n      9351 17190\\n      9352 17190\\n      9353 17081\\n      9354 17314\\n      9355 17315\\n      9356 17191\\n      9357 17191\\n      9358 17225\\n      9359 17226\\n      9360 17226\\n      9361 17118\\n      9362 17361\\n      9363 17119\\n      9364 17229\\n      9365 17230\\n      9366 17230\\n      9367 17231\\n      9368 17231\\n      9369 17232\\n      9370 17232\\n      9371 17233\\n      9372 17233\\n      9373 17233\\n      9374 17233\\n      9375 17233\\n      9376 17233\\n      9377 17234\\n      9378 17234\\n      9379 17234\\n      9380 17234\\n      9381 17241\\n      9382 17134\\n      9383 17135\\n      9384 17136\\n      9385 17137\\n      9386 17242\\n      9387 17243\\n      9388 17244\\n      9389 17263\\n      9390 17263\\n      9391 17393\\n      9392 17393\\n      9393 17037\\n      9394 17037\\n      9395 17148\\n      9396 17264\\n      9397 17264\\n      9398 17291\\n      9399 17416\\n      9400 17417\\n      9401 17417\\n      9402 17417\\n      9403 17516\\n      9404 17418\\n      9405 17418\\n      9406 17418\\n      9407 17418\\n      9408 17292\\n      9409 17297\\n      9410 17297\\n      9411 17297\\n      9412 17297\\n      9413 17297\\n      9414 17720\\n      9415 16547\\n      9416 16548\\n      9417 17298\\n      9418 17298\\n      9419 17300\\n      9420 17306\\n      9421 17312\\n      9422 17313\\n      9423 17314\\n      9424 17315\\n      9425 17316\\n      9426 17317\\n      9427 17360\\n      9428 17360\\n      9429 17226\\n      9430 17469\\n      9431 17470\\n      9432 17361\\n      9433 17362\\n      9434 17367\\n      9435 17230\\n      9436 17230\\n      9437 17231\\n      9438 17231\\n      9439 17368\\n      9440 17368\\n      9441 17369\\n      9442 17369\\n      9443 17369\\n      9444 17369\\n      9445 17369\\n      9446 17369\\n      9447 17572\\n      9448 17370\\n      9449 17370\\n      9450 17379\\n      9451 17379\\n      9452 17135\\n      9453 17136\\n      9454 17242\\n      9455 17242\\n      9456 17243\\n      9457 17244\\n      9458 17245\\n      9459 17246\\n      9460 17247\\n      9461 17380\\n      9462 17381\\n      9463 17382\\n      9464 17393\\n      9465 17393\\n      9466 17498\\n      9467 17591\\n      9468 17591\\n      9469 17264\\n      9470 17264\\n      9471 17264\\n      9472 17394\\n      9473 17417\\n      9474 17417\\n      9475 17516\\n      9476 17608\\n      9477 17608\\n      9478 17418\\n      9479 17418\\n      9480 17418\\n      9481 17423\\n      9482 17423\\n      9483 17423\\n      9484 17312\\n      9485 17313\\n      9486 17314\\n      9487 17468\\n      9488 17359\\n      9489 17360\\n      9490 17360\\n      9491 17469\\n      9492 17469\\n      9493 17470\\n      9494 17471\\n      9495 17362\\n      9496 17472\\n      9497 17367\\n      9498 17367\\n      9499 17230\\n      9500 17478\\n      9501 17478\\n      9502 17478\\n      9503 17570\\n      9504 17570\\n      9505 17479\\n      9506 17479\\n      9507 17479\\n      9508 17479\\n      9509 17572\\n      9510 17572\\n      9511 17480\\n      9512 17379\\n      9513 17379\\n      9514 17379\\n      9515 17242\\n      9516 17242\\n      9517 17242\\n      9518 17243\\n      9519 17244\\n      9520 17245\\n      9521 17246\\n      9522 17380\\n      9523 17380\\n      9524 17381\\n      9525 17382\\n      9526 17383\\n      9527 17384\\n      9528 17498\\n      9529 17591\\n      9530 17591\\n      9531 17591\\n      9532 17264\\n      9533 17264\\n      9534 17394\\n      9535 17394\\n      9536 17499\\n      9537 17516\\n      9538 17608\\n      9539 17608\\n      9540 17608\\n      9541 17609\\n      9542 17609\\n      9543 17517\\n      9544 17529\\n      9545 17629\\n      9546 17530\\n      9547 17560\\n      9548 17560\\n      9549 17468\\n      9550 17666\\n      9551 17666\\n      9552 17561\\n      9553 17561\\n      9554 17562\\n      9555 17470\\n      9556 17471\\n      9557 17669\\n      9558 17563\\n      9559 17563\\n      9560 17568\\n      9561 17568\\n      9562 17677\\n      9563 17678\\n      9564 17678\\n      9565 17569\\n      9566 17569\\n      9567 17681\\n      9568 17570\\n      9569 17571\\n      9570 17571\\n      9571 17571\\n      9572 17571\\n      9573 17572\\n      9574 17572\\n      9575 17572\\n      9576 17577\\n      9577 17577\\n      9578 17577\\n      9579 17379\\n      9580 17379\\n      9581 17242\\n      9582 17242\\n      9583 17243\\n      9584 17244\\n      9585 17245\\n      9586 17380\\n      9587 17380\\n      9588 17380\\n      9589 17381\\n      9590 17382\\n      9591 17383\\n      9592 17384\\n      9593 17591\\n      9594 17591\\n      9595 17701\\n      9596 17701\\n      9597 17394\\n      9598 17394\\n      9599 17499\\n      9600 17499\\n      9601 17592\\n      9602 17608\\n      9603 17608\\n      9604 17714\\n      9605 17609\\n      9606 17609\\n      9607 17630\\n      9608 17631\\n      9609 17560\\n      9610 17771\\n      9611 17666\\n      9612 17666\\n      9613 17667\\n      9614 17668\\n      9615 17562\\n      9616 17562\\n      9617 17773\\n      9618 17669\\n      9619 17669\\n      9620 17670\\n      9621 17671\\n      9622 17677\\n      9623 17785\\n      9624 17678\\n      9625 17679\\n      9626 17680\\n      9627 17682\\n      9628 17571\\n      9629 17571\\n      9630 17683\\n      9631 17683\\n      9632 17683\\n      9633 17683\\n      9634 17577\\n      9635 17577\\n      9636 17577\\n      9637 17577\\n      9638 17577\\n      9639 17242\\n      9640 17242\\n      9641 17243\\n      9642 17244\\n      9643 18026\\n      9644 18026\\n      9645 17910\\n      9646 17910\\n      9647 17910\\n      9648 17911\\n      9649 17912\\n      9650 17913\\n      9651 17701\\n      9652 17701\\n      9653 17809\\n      9654 17809\\n      9655 17810\\n      9656 17702\\n      9657 17702\\n      9658 17592\\n      9659 17703\\n      9660 17714\\n      9661 17714\\n      9662 17715\\n      9663 17887\\n      9664 17771\\n      9665 17772\\n      9666 17772\\n      9667 17668\\n      9668 17889\\n      9669 17889\\n      9670 17773\\n      9671 17774\\n      9672 17669\\n      9673 17670\\n      9674 17671\\n      9675 17775\\n      9676 17783\\n      9677 17783\\n      9678 17785\\n      9679 17786\\n      9680 17787\\n      9681 17788\\n      9682 17681\\n      9683 17682\\n      9684 17682\\n      9685 17682\\n      9686 17571\\n      9687 17789\\n      9688 17789\\n      9689 17789\\n      9690 17791\\n      9691 17791\\n      9692 17577\\n      9693 18130\\n      9694 18130\\n      9695 18130\\n      9696 18250\\n      9697 18250\\n      9698 18026\\n      9699 18026\\n      9700 18026\\n      9701 18026\\n      9702 17910\\n      9703 17910\\n      9704 17911\\n      9705 17912\\n      9706 17913\\n      9707 17796\\n      9708 17797\\n      9709 17798\\n      9710 17809\\n      9711 17809\\n      9712 17933\\n      9713 17810\\n      9714 17810\\n      9715 17811\\n      9716 17812\\n      9717 17812\\n      9718 17823\\n      9719 17824\\n      9720 17888\\n      9721 17772\\n      9722 17772\\n      9723 18003\\n      9724 17889\\n      9725 17889\\n      9726 17890\\n      9727 17774\\n      9728 17774\\n      9729 17670\\n      9730 17775\\n      9731 17775\\n      9732 17891\\n      9733 17782\\n      9734 17783\\n      9735 17783\\n      9736 17784\\n      9737 17785\\n      9738 17786\\n      9739 17787\\n      9740 17903\\n      9741 17682\\n      9742 17682\\n      9743 17682\\n      9744 17682\\n      9745 18119\\n      9746 17904\\n      9747 17904\\n      9748 17909\\n      9749 17909\\n      9750 17909\\n      9751 18129\\n      9752 18130\\n      9753 18130\\n      9754 18130\\n      9755 18250\\n      9756 18250\\n      9757 18026\\n      9758 18026\\n      9759 18026\\n      9760 18026\\n      9761 17910\\n      9762 17910\\n      9763 17911\\n      9764 17912\\n      9765 17913\\n      9766 17922\\n      9767 17922\\n      9768 17796\\n      9769 17797\\n      9770 17798\\n      9771 17933\\n      9772 17933\\n      9773 17934\\n      9774 17935\\n      9775 17811\\n      9776 17812\\n      9777 17812\\n      9778 17936\\n      9779 17887\\n      9780 17888\\n      9781 17888\\n      9782 18003\\n      9783 18003\\n      9784 18004\\n      9785 18005\\n      9786 17890\\n      9787 17890\\n      9788 17774\\n      9789 17774\\n      9790 17775\\n      9791 17891\\n      9792 17891\\n      9793 18006\\n      9794 18115\\n      9795 18115\\n      9796 18115\\n      9797 17784\\n      9798 17785\\n      9799 18116\\n      9800 18116\\n      9801 18016\\n      9802 18118\\n      9803 18118\\n      9804 18242\\n      9805 18242\\n      9806 18242\\n      9807 18119\\n      9808 18119\\n      9809 18119\\n      9810 18025\\n      9811 18127\\n      9812 18128\\n      9813 18129\\n      9814 18130\\n      9815 18130\\n      9816 18250\\n      9817 18250\\n      9818 18250\\n      9819 18380\\n      9820 18026\\n      9821 18026\\n      9822 18028\\n      9823 18029\\n      9824 17912\\n      9825 17913\\n      9826 18030\\n      9827 18031\\n      9828 18031\\n      9829 18031\\n      9830 17797\\n      9831 17798\\n      9832 18040\\n      9833 18041\\n      9834 17935\\n      9835 17935\\n      9836 17812\\n      9837 17936\\n      9838 17936\\n      9839 18099\\n      9840 18099\\n      9841 17888\\n      9842 18100\\n      9843 18100\\n      9844 18003\\n      9845 18004\\n      9846 18101\\n      9847 18228\\n      9848 18228\\n      9849 18228\\n      9850 18228\\n      9851 17891\\n      9852 17891\\n      9853 18006\\n      9854 18006\\n      9855 18102\\n      9856 18114\\n      9857 18115\\n      9858 18115\\n      9859 18236\\n      9860 18238\\n      9861 18116\\n      9862 18117\\n      9863 18118\\n      9864 18242\\n      9865 18242\\n      9866 18242\\n      9867 18119\\n      9868 18119\\n      9869 18119\\n      9870 18128\\n      9871 18129\\n      9872 18130\\n      9873 18130\\n      9874 18250\\n      9875 18250\\n      9876 18379\\n      9877 18380\\n      9878 18381\\n      9879 18131\\n      9880 18131\\n      9881 18027\\n      9882 18028\\n      9883 18029\\n      9884 18029\\n      9885 18132\\n      9886 18132\\n      9887 18133\\n      9888 18133\\n      9889 18133\\n      9890 18133\\n      9891 17798\\n      9892 18144\\n      9893 18041\\n      9894 17935\\n      9895 17936\\n      9896 18145\\n      9897 18145\\n      9898 18145\\n      9899 18098\\n      9900 18099\\n      9901 18099\\n      9902 18225\\n      9903 18225\\n      9904 18225\\n      9905 18226\\n      9906 18226\\n      9907 18227\\n      9908 18228\\n      9909 18228\\n      9910 18228\\n      9911 17891\\n      9912 18006\\n      9913 18006\\n      9914 18102\\n      9915 18102\\n      9916 18229\\n      9917 18114\\n      9918 18235\\n      9919 18236\\n      9920 18236\\n      9921 18237\\n      9922 18237\\n      9923 18242\\n      9924 18242\\n      9925 18243\\n      9926 18243\\n      9927 18250\\n      9928 18250\\n      9929 18379\\n      9930 18380\\n      9931 18381\\n      9932 18382\\n      9933 18131\\n      9934 18131\\n      9935 18028\\n      9936 18029\\n      9937 18251\\n      9938 18251\\n      9939 18251\\n      9940 18252\\n      9941 18252\\n      9942 18252\\n      9943 18252\\n      9944 18253\\n      9945 18144\\n      9946 18491\\n      9947 18491\\n      9948 18491\\n      9949 18145\\n      9950 18099\\n      9951 18099\\n      9952 18225\\n      9953 18225\\n      9954 18365\\n      9955 18365\\n      9956 18365\\n      9957 18366\\n      9958 18366\\n      9959 18366\\n      9960 18366\\n      9961 18366\\n      9962 18366\\n      9963 18006\\n      9964 18102\\n      9965 18102\\n      9966 18229\\n      9967 18367\\n      9968 18367\\n      9969 18235\\n      9970 18370\\n      9971 18370\\n      9972 18370\\n      9973 18371\\n      9974 18380\\n      9975 18381\\n      9976 18382\\n      9977 18383\\n      9978 18383\\n      9979 18483\\n      9980 18483\\n      9981 18384\\n      9982 18384\\n      9983 18384\\n      9984 18385\\n      9985 18385\\n      9986 18385\\n      9987 18385\\n      9988 18686\\n      9989 18386\\n      9990 18491\\n      9991 18491\\n      9992 18058\\n      9993 18058\\n      9994 18466\\n      9995 18467\\n      9996 18666\\n      9997 18225\\n      9998 18472\\n      9999 18472\\n     10000 18472\\n     10001 18472\\n     10002 18473\\n     10003 18473\\n     10004 18473\\n     10005 18473\\n     10006 18473\\n     10007 18771\\n     10008 18669\\n     10009 18669\\n     10010 18574\\n     10011 18474\\n     10012 18474\\n     10013 18477\\n     10014 18477\\n     10015 18483\\n     10016 18483\\n     10017 18586\\n     10018 18680\\n     10019 18484\\n     10020 18484\\n     10021 18385\\n     10022 18385\\n     10023 18795\\n     10024 18686\\n     10025 18686\\n     10026 18686\\n     10027 18485\\n     10028 18485\\n     10029 18613\\n     10030 18613\\n     10031 18568\\n     10032 18467\\n     10033 18468\\n     10034 18569\\n     10035 18666\\n     10036 18769\\n     10037 18572\\n     10038 18572\\n     10039 18572\\n     10040 18572\\n     10041 18573\\n     10042 18573\\n     10043 18573\\n     10044 18573\\n     10045 18770\\n     10046 18771\\n     10047 18771\\n     10048 18771\\n     10049 18669\\n     10050 18669\\n     10051 18574\\n     10052 18477\\n     10053 18477\\n     10054 18477\\n     10055 18586\\n     10056 18586\\n     10057 18680\\n     10058 18587\\n     10059 18587\\n     10060 18794\\n     10061 18795\\n     10062 18796\\n     10063 18686\\n     10064 18686\\n     10065 18687\\n     10066 18613\\n     10067 18613\\n     10068 18613\\n     10069 18613\\n     10070 18613\\n     10071 18614\\n     10072 18663\\n     10073 18569\\n     10074 18569\\n     10075 18570\\n     10076 18664\\n     10077 18769\\n     10078 18769\\n     10079 18667\\n     10080 18667\\n     10081 18667\\n     10082 18667\\n     10083 18668\\n     10084 18668\\n     10085 18668\\n     10086 18770\\n     10087 18770\\n     10088 18890\\n     10089 18771\\n     10090 18771\\n     10091 18771\\n     10092 18669\\n     10093 18895\\n     10094 18896\\n     10095 18794\\n     10096 18795\\n     10097 18796\\n     10098 18686\\n     10099 18686\\n     10100 18687\\n     10101 19083\\n     10102 19084\\n     10103 18613\\n     10104 18613\\n     10105 18613\\n     10106 18614\\n     10107 18739\\n     10108 18740\\n     10109 18766\\n     10110 18766\\n     10111 18569\\n     10112 18664\\n     10113 18664\\n     10114 18767\\n     10115 18769\\n     10116 18888\\n     10117 19005\\n     10118 18667\\n     10119 18667\\n     10120 18667\\n     10121 18668\\n     10122 18668\\n     10123 18770\\n     10124 18770\\n     10125 18890\\n     10126 18890\\n     10127 18771\\n     10128 18771\\n     10129 18775\\n     10130 18776\\n     10131 18781\\n     10132 18796\\n     10133 19083\\n     10134 19084\\n     10135 19085\\n     10136 19086\\n     10137 18949\\n     10138 18949\\n     10139 18855\\n     10140 18738\\n     10141 18739\\n     10142 18740\\n     10143 18856\\n     10144 18883\\n     10145 18999\\n     10146 18999\\n     10147 19000\\n     10148 18884\\n     10149 18885\\n     10150 18886\\n     10151 18888\\n     10152 18888\\n     10153 19005\\n     10154 19006\\n     10155 19007\\n     10156 19008\\n     10157 19009\\n     10158 18889\\n     10159 18889\\n     10160 18889\\n     10161 18889\\n     10162 18890\\n     10163 18890\\n     10164 18890\\n     10165 18896\\n     10166 18897\\n     10167 18775\\n     10168 18775\\n     10169 18776\\n     10170 18898\\n     10171 18902\\n     10172 18781\\n     10173 18782\\n     10174 18783\\n     10175 18903\\n     10176 18904\\n     10177 18911\\n     10178 18792\\n     10179 18793\\n     10180 18794\\n     10181 18795\\n     10182 18796\\n     10183 18948\\n     10184 18948\\n     10185 19076\\n     10186 19077\\n     10187 19078\\n     10188 19079\\n     10189 19080\\n     10190 19081\\n     10191 19082\\n     10192 19083\\n     10193 19084\\n     10194 19085\\n     10195 19086\\n     10196 18949\\n     10197 18949\\n     10198 18950\\n     10199 18950\\n     10200 18976\\n     10201 18854\\n     10202 18855\\n     10203 18855\\n     10204 18739\\n     10205 18856\\n     10206 18977\\n     10207 18998\\n     10208 18999\\n     10209 18999\\n     10210 19000\\n     10211 19004\\n     10212 19005\\n     10213 18895\\n     10214 18896\\n     10215 18897\\n     10216 18897\\n     10217 19164\\n     10218 19165\\n     10219 19016\\n     10220 18902\\n     10221 18902\\n     10222 18782\\n     10223 18903\\n     10224 18903\\n     10225 18904\\n     10226 18905\\n     10227 18906\\n     10228 18907\\n     10229 19026\\n     10230 19027\\n     10231 19034\\n     10232 18911\\n     10233 18912\\n     10234 18792\\n     10235 18793\\n     10236 18794\\n     10237 18795\\n     10238 19035\\n     10239 19075\\n     10240 19075\\n     10241 19076\\n     10242 19077\\n     10243 19078\\n     10244 19079\\n     10245 19080\\n     10246 19081\\n     10247 19083\\n     10248 19084\\n     10249 19085\\n     10250 19086\\n     10251 19087\\n     10252 19088\\n     10253 19088\\n     10254 19120\\n     10255 19120\\n     10256 19247\\n     10257 19247\\n     10258 19248\\n     10259 19249\\n     10260 19121\\n     10261 19148\\n     10262 19149\\n     10263 19296\\n     10264 19297\\n     10265 19164\\n     10266 19164\\n     10267 19175\\n     10268 19175\\n     10269 19175\\n     10270 18902\\n     10271 18903\\n     10272 18903\\n     10273 18904\\n     10274 18905\\n     10275 18906\\n     10276 19026\\n     10277 19026\\n     10278 19027\\n     10279 19028\\n     10280 19176\\n     10281 19176\\n     10282 19177\\n     10283 19186\\n     10284 19186\\n     10285 19187\\n     10286 19187\\n     10287 19187\\n     10288 19187\\n     10289 19419\\n     10290 19419\\n     10291 19420\\n     10292 19188\\n     10293 19228\\n     10294 19229\\n     10295 19230\\n     10296 19230\\n     10297 19078\\n     10298 19079\\n     10299 19080\\n     10300 19081\\n     10301 19082\\n     10302 19083\\n     10303 19084\\n     10304 19085\\n     10305 19086\\n     10306 19087\\n     10307 19088\\n     10308 19088\\n     10309 19246\\n     10310 19246\\n     10311 19247\\n     10312 19247\\n     10313 19248\\n     10314 19297\\n     10315 19175\\n     10316 19414\\n     10317 19414\\n     10318 19552\\n     10319 19552\\n     10320 19552\\n     10321 18904\\n     10322 18905\\n     10323 19026\\n     10324 19026\\n     10325 19026\\n     10326 19027\\n     10327 19028\\n     10328 19176\\n     10329 19176\\n     10330 19177\\n     10331 19178\\n     10332 19179\\n     10333 19180\\n     10334 19308\\n     10335 19309\\n     10336 19316\\n     10337 19186\\n     10338 19186\\n     10339 19317\\n     10340 19317\\n     10341 19317\\n     10342 19418\\n     10343 19419\\n     10344 19419\\n     10345 19420\\n     10346 19318\\n     10347 19350\\n     10348 19350\\n     10349 19230\\n     10350 19230\\n     10351 19078\\n     10352 19079\\n     10353 19080\\n     10354 19456\\n     10355 19456\\n     10356 19457\\n     10357 19458\\n     10358 19459\\n     10359 19460\\n     10360 19461\\n     10361 19462\\n     10362 19463\\n     10363 19370\\n     10364 19414\\n     10365 19414\\n     10366 19552\\n     10367 19552\\n     10368 19693\\n     10369 19693\\n     10370 19693\\n     10371 19815\\n     10372 19694\\n     10373 19694\\n     10374 19694\\n     10375 19695\\n     10376 19696\\n     10377 19176\\n     10378 19177\\n     10379 19178\\n     10380 19179\\n     10381 19308\\n     10382 19308\\n     10383 19309\\n     10384 19310\\n     10385 19415\\n     10386 19312\\n     10387 19312\\n     10388 19417\\n     10389 19316\\n     10390 19316\\n     10391 19186\\n     10392 19317\\n     10393 19317\\n     10394 19418\\n     10395 19560\\n     10396 19561\\n     10397 19419\\n     10398 19420\\n     10399 19604\\n     10400 19605\\n     10401 19456\\n     10402 19456\\n     10403 19457\\n     10404 19458\\n     10405 19459\\n     10406 19460\\n     10407 19461\\n     10408 19462\\n     10409 19552\\n     10410 19552\\n     10411 19693\\n     10412 19693\\n     10413 19814\\n     10414 19815\\n     10415 19816\\n     10416 19694\\n     10417 19694\\n     10418 19695\\n     10419 19696\\n     10420 19697\\n     10421 19697\\n     10422 19697\\n     10423 19308\\n     10424 19308\\n     10425 19308\\n     10426 19553\\n     10427 19553\\n     10428 19554\\n     10429 19554\\n     10430 19554\\n     10431 19555\\n     10432 19558\\n     10433 19558\\n     10434 19558\\n     10435 19559\\n     10436 19559\\n     10437 19559\\n     10438 19692\\n     10439 19693\\n     10440 19693\\n     10441 19814\\n     10442 19815\\n     10443 19816\\n     10444 19694\\n     10445 19694\\n     10446 19695\\n     10447 19696\\n     10448 19697\\n     10449 19697\\n     10450 19697\\n     10451 19927\\n     10452 19928\\n     10453 19698\\n     10454 19698\\n     10455 19698\\n     10456 19698\\n     10457 19554\\n     10458 19699\\n     10459 19699\\n     10460 19700\\n     10461 19700\\n     10462 19700\\n     10463 19701\\n     10464 19701\\n     10465 19796\\n     10466 19797\\n     10467 19821\\n     10468 19927\\n     10469 20041\\n     10470 20042\\n     10471 19928\\n     10472 19822\\n     10473 19822\\n     10474 19822\\n     10475 19822\\n     10476 20048\\n     10477 19823\\n     10478 19932\\n     10479 19932\\n     10480 19825\\n     10481 19825\\n     10482 19493\\n     10483 19909\\n     10484 19909\\n     10485 19796\\n     10486 19910\\n     10487 19927\\n     10488 19927\\n     10489 20041\\n     10490 20042\\n     10491 20043\\n     10492 19928\\n     10493 19929\\n     10494 19929\\n     10495 20047\\n     10496 20048\\n     10497 20049\\n     10498 19932\\n     10499 19932\\n     10500 19932\\n     10501 19933\\n     10502 20541\\n     10503 20541\\n     10504 20436\\n     10505 20436\\n     10506 20436\\n     10507 19750\\n     10508 19758\\n     10509 19758\\n     10510 20103\\n     10511 20103\\n     10512 20021\\n     10513 20021\\n     10514 19909\\n     10515 19909\\n     10516 20022\\n     10517 20022\\n     10518 20049\\n     10519 20052\\n     10520 20052\\n     10521 20052\\n     10522 20053\\n     10523 20541\\n     10524 20541\\n     10525 20436\\n     10526 20436\\n     10527 20436\\n     10528 20437\\n     10529 20438\\n     10530 19977\\n     10531 19977\\n     10532 19977\\n     10533 20233\\n     10534 20342\\n     10535 20342\\n     10536 20343\\n     10537 20234\\n     10538 20103\\n     10539 20103\\n     10540 20103\\n     10541 20150\\n     10542 20150\\n     10543 20021\\n     10544 19909\\n     10545 20151\\n     10546 20151\\n     10547 20151\\n     10548 20168\\n     10549 20290\\n     10550 20291\\n     10551 20292\\n     10552 20541\\n     10553 20541\\n     10554 20436\\n     10555 20436\\n     10556 20436\\n     10557 20437\\n     10558 20438\\n     10559 20233\\n     10560 20342\\n     10561 20342\\n     10562 20343\\n     10563 20343\\n     10564 20234\\n     10565 20234\\n     10566 20103\\n     10567 20104\\n     10568 20104\\n     10569 20235\\n     10570 20268\\n     10571 20268\\n     10572 20150\\n     10573 20150\\n     10574 20150\\n     10575 20021\\n     10576 20151\\n     10577 20151\\n     10578 20151\\n     10579 20291\\n     10580 20292\\n     10581 20541\\n     10582 20541\\n     10583 20542\\n     10584 20436\\n     10585 20342\\n     10586 20342\\n     10587 20343\\n     10588 20343\\n     10589 20234\\n     10590 20234\\n     10591 20446\\n     10592 20447\\n     10593 20448\\n     10594 20449\\n     10595 20235\\n     10596 20236\\n     10597 20237\\n     10598 20364\\n     10599 20365\\n     10600 20366\\n     10601 20366\\n     10602 20264\\n     10603 20268\\n     10604 20268\\n     10605 20150\\n     10606 20150\\n     10607 20150\\n     10608 20150\\n     10609 20151\\n     10610 20374\\n     10611 20394\\n     10612 20445\\n     10613 20343\\n     10614 20550\\n     10615 20446\\n     10616 20446\\n     10617 20448\\n     10618 20449\\n     10619 20449\\n     10620 20554\\n     10621 20450\\n     10622 20361\\n     10623 20362\\n     10624 20363\\n     10625 20364\\n     10626 20365\\n     10627 20366\\n     10628 20366\\n     10629 20264\\n     10630 20268\\n     10631 20268\\n     10632 20268\\n     10633 20150\\n     10634 20150\\n     10635 20930\\n     10636 20797\\n     10637 20797\\n     10638 20797\\n     10639 20798\\n     10640 20799\\n     10641 20532\\n     10642 20532\\n     10643 20550\\n     10644 20550\\n     10645 20553\\n     10646 20554\\n     10647 20554\\n     10648 20713\\n     10649 20713\\n     10650 20714\\n     10651 20715\\n     10652 20716\\n     10653 20717\\n     10654 20718\\n     10655 20719\\n     10656 20863\\n     10657 20268\\n     10658 20268\\n     10659 20619\\n     10660 20504\\n     10661 20929\\n     10662 20930\\n     10663 20931\\n     10664 20797\\n     10665 20797\\n     10666 20798\\n     10667 20799\\n     10668 20800\\n     10669 20658\\n     10670 20662\\n     10671 20663\\n     10672 20663\\n     10673 20534\\n     10674 20713\\n     10675 20714\\n     10676 20715\\n     10677 20716\\n     10678 20717\\n     10679 20718\\n     10680 20719\\n     10681 20720\\n     10682 20997\\n     10683 20997\\n     10684 20997\\n     10685 20736\\n     10686 20736\\n     10687 20736\\n     10688 20612\\n     10689 20765\\n     10690 20619\\n     10691 20619\\n     10692 20504\\n     10693 20929\\n     10694 20930\\n     10695 20931\\n     10696 20797\\n     10697 20797\\n     10698 20798\\n     10699 20800\\n     10700 20801\\n     10701 20802\\n     10702 20659\\n     10703 20660\\n     10704 20661\\n     10705 20662\\n     10706 20663\\n     10707 20663\\n     10708 20534\\n     10709 20816\\n     10710 20997\\n     10711 20997\\n     10712 20997\\n     10713 20997\\n     10714 20997\\n     10715 20890\\n     10716 21020\\n     10717 20891\\n     10718 20894\\n     10719 20895\\n     10720 20899\\n     10721 20765\\n     10722 20765\\n     10723 20619\\n     10724 20619\\n     10725 20504\\n     10726 20795\\n     10727 20922\\n     10728 20923\\n     10729 20924\\n     10730 20929\\n     10731 20931\\n     10732 20932\\n     10733 20933\\n     10734 20933\\n     10735 20799\\n     10736 20800\\n     10737 20801\\n     10738 20802\\n     10739 20802\\n     10740 20660\\n     10741 20661\\n     10742 20662\\n     10743 20663\\n     10744 20663\\n     10745 20663\\n     10746 20945\\n     10747 20946\\n     10748 20946\\n     10749 20815\\n     10750 20816\\n     10751 21242\\n     10752 21242\\n     10753 20997\\n     10754 20997\\n     10755 20997\\n     10756 21019\\n     10757 21020\\n     10758 21023\\n     10759 21023\\n     10760 21024\\n     10761 21028\\n     10762 20899\\n     10763 20899\\n     10764 20765\\n     10765 20765\\n     10766 20619\\n     10767 20619\\n     10768 20504\\n     10769 21058\\n     10770 21058\\n     10771 20923\\n     10772 20924\\n     10773 20925\\n     10774 20926\\n     10775 20927\\n     10776 20928\\n     10777 20929\\n     10778 20930\\n     10779 20931\\n     10780 20932\\n     10781 20933\\n     10782 20933\\n     10783 20799\\n     10784 20800\\n     10785 20801\\n     10786 20802\\n     10787 20802\\n     10788 20802\\n     10789 20661\\n     10790 20662\\n     10791 20663\\n     10792 21073\\n     10793 20945\\n     10794 20946\\n     10795 20946\\n     10796 20815\\n     10797 20816\\n     10798 21242\\n     10799 21242\\n     10800 21242\\n     10801 21125\\n     10802 21142\\n     10803 21142\\n     10804 21143\\n     10805 21145\\n     10806 21028\\n     10807 21265\\n     10808 21265\\n     10809 21265\\n     10810 21375\\n     10811 21475\\n     10812 21573\\n     10813 21573\\n     10814 21266\\n     10815 21165\\n     10816 21165\\n     10817 21165\\n     10818 20926\\n     10819 20927\\n     10820 20928\\n     10821 20929\\n     10822 20930\\n     10823 20931\\n     10824 20932\\n     10825 20933\\n     10826 20933\\n     10827 20933\\n     10828 20800\\n     10829 21499\\n     10830 20802\\n     10831 20802\\n     10832 20802\\n     10833 20661\\n     10834 20662\\n     10835 21181\\n     10836 21181\\n     10837 20946\\n     10838 20946\\n     10839 20946\\n     10840 20816\\n     10841 20816\\n     10842 21449\\n     10843 21242\\n     10844 21242\\n     10845 21242\\n     10846 21261\\n     10847 21261\\n     10848 21262\\n     10849 21262\\n     10850 21265\\n     10851 21265\\n     10852 21375\\n     10853 21475\\n     10854 21475\\n     10855 21573\\n     10856 21573\\n     10857 21266\\n     10858 21266\\n     10859 21266\\n     10860 21286\\n     10861 21286\\n     10862 21286\\n     10863 21286\\n     10864 20927\\n     10865 20928\\n     10866 20929\\n     10867 20930\\n     10868 20931\\n     10869 20932\\n     10870 20933\\n     10871 20933\\n     10872 21499\\n     10873 21499\\n     10874 21499\\n     10875 21499\\n     10876 21499\\n     10877 21499\\n     10878 21295\\n     10879 21297\\n     10880 21297\\n     10881 21297\\n     10882 21510\\n     10883 20946\\n     10884 20816\\n     10885 20816\\n     10886 21346\\n     10887 21449\\n     10888 21449\\n     10889 21350\\n     10890 21373\\n     10891 21373\\n     10892 21373\\n     10893 21571\\n     10894 21263\\n     10895 21263\\n     10896 21374\\n     10897 21374\\n     10898 21375\\n     10899 21475\\n     10900 21475\\n     10901 21573\\n     10902 21573\\n     10903 21573\\n     10904 21573\\n     10905 21376\\n     10906 21376\\n     10907 21376\\n     10908 21376\\n     10909 21377\\n     10910 21286\\n     10911 21286\\n     10912 21286\\n     10913 21286\\n     10914 20927\\n     10915 20928\\n     10916 20929\\n     10917 20930\\n     10918 21718\\n     10919 21718\\n     10920 21588\\n     10921 21588\\n     10922 21588\\n     10923 21499\\n     10924 21499\\n     10925 21499\\n     10926 21499\\n     10927 21410\\n     10928 21411\\n     10929 21411\\n     10930 21295\\n     10931 21412\\n     10932 21510\\n     10933 21510\\n     10934 21510\\n     10935 21510\\n     10936 20816\\n     10937 21445\\n     10938 21445\\n     10939 21346\\n     10940 21347\\n     10941 21449\\n     10942 21449\\n     10943 21449\\n     10944 21473\\n     10945 21473\\n     10946 21571\\n     10947 21701\\n     10948 21701\\n     10949 21263\\n     10950 21263\\n     10951 21374\\n     10952 21374\\n     10953 21474\\n     10954 21475\\n     10955 21475\\n     10956 21573\\n     10957 21573\\n     10958 21573\\n     10959 21573\\n     10960 21376\\n     10961 21376\\n     10962 21376\\n     10963 21376\\n     10964 21377\\n     10965 21476\\n     10966 21477\\n     10967 21498\\n     10968 21498\\n     10969 21286\\n     10970 21286\\n     10971 21946\\n     10972 21947\\n     10973 21948\\n     10974 21840\\n     10975 21718\\n     10976 21718\\n     10977 21718\\n     10978 21588\\n     10979 21588\\n     10980 21589\\n     10981 21499\\n     10982 21410\\n     10983 21411\\n     10984 21411\\n     10985 21295\\n     10986 21510\\n     10987 21510\\n     10988 21510\\n     10989 21510\\n     10990 21510\\n     10991 21510\\n     10992 21664\\n     10993 21665\\n     10994 21665\\n     10995 21670\\n     10996 21549\\n     10997 21571\\n     10998 21571\\n     10999 21701\\n     11000 21701\\n     11001 21816\\n     11002 21817\\n     11003 21818\\n     11004 21474\\n     11005 21474\\n     11006 21475\\n     11007 21573\\n     11008 21573\\n     11009 21573\\n     11010 21573\\n     11011 21376\\n     11012 21376\\n     11013 21376\\n     11014 21376\\n     11015 21476\\n     11016 21476\\n     11017 21477\\n     11018 21478\\n     11019 21574\\n     11020 21587\\n     11021 21587\\n     11022 21587\\n     11023 21945\\n     11024 21946\\n     11025 21947\\n     11026 21948\\n     11027 21840\\n     11028 21840\\n     11029 21718\\n     11030 21718\\n     11031 21719\\n     11032 21588\\n     11033 21410\\n     11034 21411\\n     11035 21411\\n     11036 21411\\n     11037 21296\\n     11038 21599\\n     11039 21599\\n     11040 21599\\n     11041 21599\\n     11042 21599\\n     11043 21599\\n     11044 21956\\n     11045 21665\\n     11046 21665\\n     11047 21782\\n     11048 21670\\n     11049 21670\\n     11050 21701\\n     11051 21701\\n     11052 21816\\n     11053 21817\\n     11054 21818\\n     11055 21819\\n     11056 21820\\n     11057 21572\\n     11058 21572\\n     11059 21702\\n     11060 21702\\n     11061 21702\\n     11062 21702\\n     11063 22028\\n     11064 21376\\n     11065 21376\\n     11066 21476\\n     11067 21476\\n     11068 21476\\n     11069 21477\\n     11070 21574\\n     11071 21574\\n     11072 21575\\n     11073 21575\\n     11074 21717\\n     11075 21717\\n     11076 21945\\n     11077 21945\\n     11078 21946\\n     11079 21947\\n     11080 21948\\n     11081 21949\\n     11082 21840\\n     11083 21840\\n     11084 21718\\n     11085 21719\\n     11086 21410\\n     11087 21411\\n     11088 21411\\n     11089 21411\\n     11090 21296\\n     11091 21728\\n     11092 21728\\n     11093 21956\\n     11094 21956\\n     11095 21956\\n     11096 21956\\n     11097 21788\\n     11098 21818\\n     11099 21819\\n     11100 21820\\n     11101 21926\\n     11102 21927\\n     11103 21702\\n     11104 21702\\n     11105 22028\\n     11106 22028\\n     11107 22028\\n     11108 22140\\n     11109 22140\\n     11110 21476\\n     11111 21476\\n     11112 21476\\n     11113 21574\\n     11114 21574\\n     11115 21574\\n     11116 21929\\n     11117 21821\\n     11118 21839\\n     11119 21839\\n     11120 21945\\n     11121 21945\\n     11122 21946\\n     11123 21947\\n     11124 21948\\n     11125 21949\\n     11126 21950\\n     11127 21840\\n     11128 21844\\n     11129 21844\\n     11130 21411\\n     11131 21411\\n     11132 21411\\n     11133 21411\\n     11134 21847\\n     11135 21956\\n     11136 21956\\n     11137 21956\\n     11138 21956\\n     11139 21956\\n     11140 21736\\n     11141 21928\\n     11142 21928\\n     11143 22028\\n     11144 22028\\n     11145 22139\\n     11146 22140\\n     11147 22140\\n     11148 22140\\n     11149 22259\\n     11150 22141\\n     11151 22029\\n     11152 22029\\n     11153 22029\\n     11154 21929\\n     11155 21944\\n     11156 22048\\n     11157 21945\\n     11158 21945\\n     11159 21946\\n     11160 21947\\n     11161 21948\\n     11162 21949\\n     11163 21502\\n     11164 21844\\n     11165 21844\\n     11166 21844\\n     11167 21844\\n     11168 21411\\n     11169 21411\\n     11170 21411\\n     11171 21411\\n     11172 21296\\n     11173 21956\\n     11174 21956\\n     11175 21956\\n     11176 21956\\n     11177 21956\\n     11178 21956\\n     11179 22287\\n     11180 21957\\n     11181 21849\\n     11182 21958\\n     11183 21958\\n     11184 21995\\n     11185 22028\\n     11186 22028\\n     11187 22139\\n     11188 22140\\n     11189 22140\\n     11190 22259\\n     11191 22259\\n     11192 22141\\n     11193 22141\\n     11194 22029\\n     11195 22029\\n     11196 22052\\n     11197 22052\\n     11198 21502\\n     11199 21502\\n     11200 21844\\n     11201 21844\\n     11202 21844\\n     11203 22053\\n     11204 22053\\n     11205 22053\\n     11206 22055\\n     11207 21411\\n     11208 21411\\n     11209 21411\\n     11210 21296\\n     11211 22056\\n     11212 22056\\n     11213 22056\\n     11214 22287\\n     11215 22287\\n     11216 22287\\n     11217 22287\\n     11218 23157\\n     11219 23157\\n     11220 23158\\n     11221 22058\\n     11222 22058\\n     11223 22058\\n     11224 21958\\n     11225 21958\\n     11226 22059\\n     11227 22100\\n     11228 22136\\n     11229 22139\\n     11230 22140\\n     11231 22140\\n     11232 22259\\n     11233 22259\\n     11234 22260\\n     11235 22141\\n     11236 22141\\n     11237 22169\\n     11238 22169\\n     11239 22169\\n     11240 22169\\n     11241 22169\\n     11242 22169\\n     11243 21844\\n     11244 21844\\n     11245 22170\\n     11246 22170\\n     11247 22170\\n     11248 22170\\n     11249 22170\\n     11250 22510\\n     11251 22510\\n     11252 21411\\n     11253 21411\\n     11254 21411\\n     11255 22172\\n     11256 22287\\n     11257 22287\\n     11258 22287\\n     11259 22287\\n     11260 22287\\n     11261 22287\\n     11262 22287\\n     11263 22287\\n     11264 23157\\n     11265 23157\\n     11266 23157\\n     11267 23158\\n     11268 22058\\n     11269 22058\\n     11270 22058\\n     11271 21958\\n     11272 22059\\n     11273 22059\\n     11274 22174\\n     11275 22225\\n     11276 22225\\n     11277 22225\\n     11278 21992\\n     11279 22226\\n     11280 22227\\n     11281 22120\\n     11282 22121\\n     11283 22243\\n     11284 22244\\n     11285 22136\\n     11286 22136\\n     11287 22255\\n     11288 22258\\n     11289 22259\\n     11290 22259\\n     11291 22367\\n     11292 22260\\n     11293 22282\\n     11294 22282\\n     11295 22282\\n     11296 22282\\n     11297 22282\\n     11298 22282\\n     11299 22283\\n     11300 22283\\n     11301 22283\\n     11302 22283\\n     11303 22283\\n     11304 22283\\n     11305 22283\\n     11306 22510\\n     11307 22510\\n     11308 22510\\n     11309 21955\\n     11310 22287\\n     11311 22287\\n     11312 22287\\n     11313 22287\\n     11314 22287\\n     11315 22287\\n     11316 22287\\n     11317 22287\\n     11318 22287\\n     11319 23157\\n     11320 23157\\n     11321 23157\\n     11322 23157\\n     11323 23158\\n     11324 22289\\n     11325 22289\\n     11326 22289\\n     11327 22058\\n     11328 22059\\n     11329 22059\\n     11330 22174\\n     11331 22174\\n     11332 22175\\n     11333 22321\\n     11334 22321\\n     11335 22332\\n     11336 22332\\n     11337 22225\\n     11338 22225\\n     11339 22556\\n     11340 22556\\n     11341 22557\\n     11342 22333\\n     11343 22333\\n     11344 22334\\n     11345 22334\\n     11346 22119\\n     11347 22120\\n     11348 22243\\n     11349 22243\\n     11350 22244\\n     11351 22350\\n     11352 22350\\n     11353 22136\\n     11354 22255\\n     11355 22255\\n     11356 22362\\n     11357 22367\\n     11358 22610\\n     11359 22610\\n     11360 22401\\n     11361 22401\\n     11362 22401\\n     11363 22401\\n     11364 22726\\n     11365 22726\\n     11366 22283\\n     11367 22283\\n     11368 22283\\n     11369 22283\\n     11370 22283\\n     11371 22283\\n     11372 22283\\n     11373 22510\\n     11374 22510\\n     11375 22510\\n     11376 21955\\n     11377 22286\\n     11378 22404\\n     11379 22404\\n     11380 22404\\n     11381 22404\\n     11382 22404\\n     11383 22404\\n     11384 22730\\n     11385 22730\\n     11386 22730\\n     11387 23157\\n     11388 23157\\n     11389 23157\\n     11390 23157\\n     11391 23158\\n     11392 23159\\n     11393 22289\\n     11394 22289\\n     11395 22289\\n     11396 22737\\n     11397 22738\\n     11398 22174\\n     11399 22174\\n     11400 22320\\n     11401 22434\\n     11402 22434\\n     11403 22447\\n     11404 22447\\n     11405 22447\\n     11406 22556\\n     11407 22556\\n     11408 22557\\n     11409 22558\\n     11410 22448\\n     11411 22334\\n     11412 22334\\n     11413 22449\\n     11414 22346\\n     11415 22461\\n     11416 22462\\n     11417 22574\\n     11418 22685\\n     11419 22686\\n     11420 22243\\n     11421 22244\\n     11422 22467\\n     11423 22255\\n     11424 22362\\n     11425 22362\\n     11426 22363\\n     11427 22478\\n     11428 22610\\n     11429 22610\\n     11430 22610\\n     11431 22610\\n     11432 22507\\n     11433 22507\\n     11434 22726\\n     11435 22726\\n     11436 22726\\n     11437 22726\\n     11438 22726\\n     11439 22283\\n     11440 22283\\n     11441 22283\\n     11442 22283\\n     11443 22508\\n     11444 22508\\n     11445 22508\\n     11446 22829\\n     11447 22829\\n     11448 22829\\n     11449 22829\\n     11450 22286\\n     11451 22511\\n     11452 22511\\n     11453 22730\\n     11454 22730\\n     11455 22730\\n     11456 22730\\n     11457 22730\\n     11458 23276\\n     11459 23157\\n     11460 23157\\n     11461 23157\\n     11462 23157\\n     11463 23158\\n     11464 23159\\n     11465 22515\\n     11466 22515\\n     11467 22736\\n     11468 22737\\n     11469 22738\\n     11470 22320\\n     11471 22434\\n     11472 22434\\n     11473 22541\\n     11474 22555\\n     11475 22669\\n     11476 22669\\n     11477 22670\\n     11478 22556\\n     11479 22558\\n     11480 22559\\n     11481 22559\\n     11482 22449\\n     11483 22449\\n     11484 22450\\n     11485 22568\\n     11486 22461\\n     11487 22462\\n     11488 22463\\n     11489 22569\\n     11490 22570\\n     11491 22571\\n     11492 22574\\n     11493 22685\\n     11494 22686\\n     11495 22686\\n     11496 22687\\n     11497 22575\\n     11498 22362\\n     11499 22362\\n     11500 22478\\n     11501 22585\\n     11502 22585\\n     11503 22610\\n     11504 22610\\n     11505 22610\\n     11506 22610\\n     11507 22610\\n     11508 22726\\n     11509 22726\\n     11510 22726\\n     11511 22726\\n     11512 22726\\n     11513 22726\\n     11514 22726\\n     11515 22283\\n     11516 22283\\n     11517 22615\\n     11518 22615\\n     11519 22615\\n     11520 22615\\n     11521 22615\\n     11522 22829\\n     11523 22829\\n     11524 22829\\n     11525 22286\\n     11526 22618\\n     11527 22730\\n     11528 22730\\n     11529 22730\\n     11530 22730\\n     11531 22730\\n     11532 22730\\n     11533 23276\\n     11534 23157\\n     11535 23157\\n     11536 23157\\n     11537 23157\\n     11538 23158\\n     11539 23159\\n     11540 22623\\n     11541 22735\\n     11542 22736\\n     11543 22737\\n     11544 22738\\n     11545 22434\\n     11546 22649\\n     11547 22649\\n     11548 22649\\n     11549 22662\\n     11550 22663\\n     11551 22664\\n     11552 22665\\n     11553 22666\\n     11554 22669\\n     11555 22669\\n     11556 22670\\n     11557 22671\\n     11558 22671\\n     11559 22558\\n     11560 22771\\n     11561 22672\\n     11562 22773\\n     11563 22774\\n     11564 22774\\n     11565 22673\\n     11566 22681\\n     11567 22681\\n     11568 22782\\n     11569 22783\\n     11570 22569\\n     11571 22570\\n     11572 22685\\n     11573 22686\\n     11574 22686\\n     11575 22787\\n     11576 22687\\n     11577 22894\\n     11578 22478\\n     11579 22585\\n     11580 22585\\n     11581 22585\\n     11582 22699\\n     11583 22610\\n     11584 22610\\n     11585 22726\\n     11586 22726\\n     11587 22726\\n     11588 22726\\n     11589 22726\\n     11590 22726\\n     11591 22726\\n     11592 23044\\n     11593 23044\\n     11594 22615\\n     11595 22615\\n     11596 22615\\n     11597 22615\\n     11598 22615\\n     11599 22829\\n     11600 22829\\n     11601 22829\\n     11602 22286\\n     11603 22729\\n     11604 22730\\n     11605 22730\\n     11606 22730\\n     11607 22730\\n     11608 22730\\n     11609 23050\\n     11610 23276\\n     11611 23276\\n     11612 23276\\n     11613 23157\\n     11614 23157\\n     11615 23157\\n     11616 23158\\n     11617 23159\\n     11618 22734\\n     11619 22649\\n     11620 22649\\n     11621 22649\\n     11622 22758\\n     11623 22758\\n     11624 22763\\n     11625 22764\\n     11626 22765\\n     11627 22765\\n     11628 22661\\n     11629 22766\\n     11630 22767\\n     11631 22767\\n     11632 22665\\n     11633 22666\\n     11634 22769\\n     11635 22770\\n     11636 22670\\n     11637 22671\\n     11638 22873\\n     11639 22874\\n     11640 22771\\n     11641 22773\\n     11642 22773\\n     11643 22774\\n     11644 22774\\n     11645 22782\\n     11646 22783\\n     11647 22783\\n     11648 22885\\n     11649 22787\\n     11650 22894\\n     11651 22585\\n     11652 22585\\n     11653 22699\\n     11654 22699\\n     11655 22700\\n     11656 22895\\n     11657 22824\\n     11658 22824\\n     11659 22824\\n     11660 22824\\n     11661 22824\\n     11662 22824\\n     11663 22824\\n     11664 23044\\n     11665 23044\\n     11666 23044\\n     11667 23044\\n     11668 23044\\n     11669 23044\\n     11670 22825\\n     11671 22825\\n     11672 22829\\n     11673 22829\\n     11674 22829\\n     11675 23274\\n     11676 22729\\n     11677 22830\\n     11678 22830\\n     11679 22830\\n     11680 23050\\n     11681 23050\\n     11682 23050\\n     11683 23276\\n     11684 23276\\n     11685 23276\\n     11686 23157\\n     11687 23157\\n     11688 23157\\n     11689 23158\\n     11690 23159\\n     11691 22734\\n     11692 22735\\n     11693 22736\\n     11694 22737\\n     11695 22738\\n     11696 22739\\n     11697 22740\\n     11698 22632\\n     11699 22632\\n     11700 22745\\n     11701 22745\\n     11702 22649\\n     11703 22758\\n     11704 22758\\n     11705 22758\\n     11706 22866\\n     11707 22763\\n     11708 22764\\n     11709 22765\\n     11710 22765\\n     11711 22766\\n     11712 22766\\n     11713 22867\\n     11714 22981\\n     11715 22868\\n     11716 22868\\n     11717 22871\\n     11718 22986\\n     11719 22872\\n     11720 22873\\n     11721 22877\\n     11722 22997\\n     11723 22885\\n     11724 22894\\n     11725 22585\\n     11726 22699\\n     11727 22699\\n     11728 22895\\n     11729 22895\\n     11730 22929\\n     11731 22930\\n     11732 22933\\n     11733 22933\\n     11734 22933\\n     11735 22933\\n     11736 22933\\n     11737 22933\\n     11738 22933\\n     11739 23044\\n     11740 23044\\n     11741 23044\\n     11742 23044\\n     11743 23044\\n     11744 23044\\n     11745 23045\\n     11746 22934\\n     11747 23274\\n     11748 23274\\n     11749 23274\\n     11750 23959\\n     11751 23810\\n     11752 23050\\n     11753 23050\\n     11754 23050\\n     11755 23050\\n     11756 23392\\n     11757 23276\\n     11758 23276\\n     11759 23276\\n     11760 23157\\n     11761 23157\\n     11762 23157\\n     11763 23158\\n     11764 23159\\n     11765 22946\\n     11766 22946\\n     11767 22736\\n     11768 22737\\n     11769 22738\\n     11770 22739\\n     11771 22740\\n     11772 23177\\n     11773 23177\\n     11774 23298\\n     11775 22745\\n     11776 22955\\n     11777 22955\\n     11778 23324\\n     11779 22758\\n     11780 22973\\n     11781 22973\\n     11782 22979\\n     11783 22979\\n     11784 22764\\n     11785 22765\\n     11786 22765\\n     11787 22980\\n     11788 22980\\n     11789 22980\\n     11790 22981\\n     11791 22981\\n     11792 22982\\n     11793 22982\\n     11794 22996\\n     11795 22997\\n     11796 22892\\n     11797 22893\\n     11798 22894\\n     11799 22894\\n     11800 22894\\n     11801 22894\\n     11802 23357\\n     11803 23357\\n     11804 23358\\n     11805 22895\\n     11806 22895\\n     11807 22895\\n     11808 23039\\n     11809 23040\\n     11810 22928\\n     11811 22929\\n     11812 22930\\n     11813 23043\\n     11814 23043\\n     11815 23043\\n     11816 23043\\n     11817 23043\\n     11818 23043\\n     11819 23658\\n     11820 23044\\n     11821 23044\\n     11822 23044\\n     11823 23044\\n     11824 23044\\n     11825 23044\\n     11826 23045\\n     11827 23274\\n     11828 23274\\n     11829 23959\\n     11830 23810\\n     11831 23050\\n     11832 23050\\n     11833 23050\\n     11834 23050\\n     11835 23392\\n     11836 23276\\n     11837 23276\\n     11838 23276\\n     11839 23277\\n     11840 23157\\n     11841 23157\\n     11842 23158\\n     11843 23159\\n     11844 23058\\n     11845 23287\\n     11846 23288\\n     11847 23289\\n     11848 23289\\n     11849 23289\\n     11850 23177\\n     11851 23297\\n     11852 23298\\n     11853 23299\\n     11854 23300\\n     11855 23064\\n     11856 23324\\n     11857 23324\\n     11858 23079\\n     11859 23079\\n     11860 23079\\n     11861 23086\\n     11862 23086\\n     11863 23086\\n     11864 22765\\n     11865 22765\\n     11866 22980\\n     11867 23087\\n     11868 23088\\n     11869 23088\\n     11870 22982\\n     11871 23122\\n     11872 23122\\n     11873 22892\\n     11874 22893\\n     11875 22894\\n     11876 22894\\n     11877 22894\\n     11878 23357\\n     11879 23357\\n     11880 23357\\n     11881 23358\\n     11882 23358\\n     11883 22895\\n     11884 23016\\n     11885 23016\\n     11886 23134\\n     11887 23150\\n     11888 23150\\n     11889 23038\\n     11890 23039\\n     11891 23040\\n     11892 23040\\n     11893 22929\\n     11894 22930\\n     11895 22930\\n     11896 23153\\n     11897 23153\\n     11898 23153\\n     11899 23153\\n     11900 23153\\n     11901 23153\\n     11902 23658\\n     11903 23658\\n     11904 23154\\n     11905 23154\\n     11906 23154\\n     11907 23154\\n     11908 23274\\n     11909 23959\\n     11910 23959\\n     11911 23810\\n     11912 23810\\n     11913 23156\\n     11914 23156\\n     11915 23156\\n     11916 23391\\n     11917 23392\\n     11918 23393\\n     11919 23276\\n     11920 23276\\n     11921 23277\\n     11922 23278\\n     11923 23157\\n     11924 23158\\n     11925 23167\\n     11926 23287\\n     11927 23288\\n     11928 23289\\n     11929 23289\\n     11930 23403\\n     11931 23404\\n     11932 23177\\n     11933 23297\\n     11934 23298\\n     11935 23299\\n     11936 23300\\n     11937 23301\\n     11938 23064\\n     11939 23324\\n     11940 23324\\n     11941 23194\\n     11942 23197\\n     11943 23197\\n     11944 23086\\n     11945 23086\\n     11946 23086\\n     11947 23086\\n     11948 22980\\n     11949 22980\\n     11950 22980\\n     11951 23087\\n     11952 23087\\n     11953 23199\\n     11954 23200\\n     11955 23237\\n     11956 23238\\n     11957 23239\\n     11958 23239\\n     11959 23354\\n     11960 23122\\n     11961 23240\\n     11962 23477\\n     11963 23477\\n     11964 22894\\n     11965 23478\\n     11966 23478\\n     11967 23478\\n     11968 23357\\n     11969 23357\\n     11970 23358\\n     11971 23358\\n     11972 23480\\n     11973 23016\\n     11974 23124\\n     11975 23124\\n     11976 23134\\n     11977 23265\\n     11978 23266\\n     11979 23266\\n     11980 23149\\n     11981 23150\\n     11982 23267\\n     11983 23267\\n     11984 23267\\n     11985 23040\\n     11986 23040\\n     11987 23040\\n     11988 22930\\n     11989 22930\\n     11990 23271\\n     11991 23271\\n     11992 23271\\n     11993 23271\\n     11994 23271\\n     11995 23805\\n     11996 23805\\n     11997 23658\\n     11998 23658\\n     11999 23658\\n     12000 23272\\n     12001 23272\\n     12002 23272\\n     12003 23663\\n     12004 23959\\n     12005 23959\\n     12006 23959\\n     12007 23810\\n     12008 23275\\n     12009 23391\\n     12010 23391\\n     12011 23392\\n     12012 23393\\n     12013 23394\\n     12014 23276\\n     12015 23277\\n     12016 23280\\n     12017 23281\\n     12018 23286\\n     12019 23287\\n     12020 23288\\n     12021 23289\\n     12022 23289\\n     12023 23403\\n     12024 23404\\n     12025 23296\\n     12026 23297\\n     12027 23298\\n     12028 23299\\n     12029 23300\\n     12030 23301\\n     12031 23302\\n     12032 23324\\n     12033 23328\\n     12034 23445\\n     12035 23445\\n     12036 23086\\n     12037 23086\\n     12038 23719\\n     12039 22980\\n     12040 23087\\n     12041 23087\\n     12042 23198\\n     12043 23198\\n     12044 23199\\n     12045 23236\\n     12046 23237\\n     12047 23238\\n     12048 23239\\n     12049 23354\\n     12050 23354\\n     12051 23354\\n     12052 23240\\n     12053 23477\\n     12054 23477\\n     12055 23604\\n     12056 23478\\n     12057 23478\\n     12058 23357\\n     12059 23358\\n     12060 23480\\n     12061 23480\\n     12062 23606\\n     12063 23124\\n     12064 23242\\n     12065 23242\\n     12066 23368\\n     12067 23368\\n     12068 23369\\n     12069 23384\\n     12070 23384\\n     12071 23265\\n     12072 23266\\n     12073 23266\\n     12074 23149\\n     12075 23267\\n     12076 23267\\n     12077 23267\\n     12078 23267\\n     12079 23040\\n     12080 23040\\n     12081 23040\\n     12082 22930\\n     12083 22930\\n     12084 23387\\n     12085 23387\\n     12086 23387\\n     12087 23387\\n     12088 23805\\n     12089 23805\\n     12090 23805\\n     12091 23658\\n     12092 23658\\n     12093 23658\\n     12094 23659\\n     12095 23388\\n     12096 23388\\n     12097 23959\\n     12098 23959\\n     12099 23959\\n     12100 23810\\n     12101 23390\\n     12102 23391\\n     12103 23391\\n     12104 23392\\n     12105 23395\\n     12106 23396\\n     12107 23397\\n     12108 23397\\n     12109 23280\\n     12110 23281\\n     12111 23286\\n     12112 23287\\n     12113 23288\\n     12114 23289\\n     12115 23403\\n     12116 23403\\n     12117 23404\\n     12118 23419\\n     12119 23297\\n     12120 23298\\n     12121 23299\\n     12122 23300\\n     12123 23538\\n     12124 23302\\n     12125 23445\\n     12126 23445\\n     12127 23445\\n     12128 23718\\n     12129 23718\\n     12130 23719\\n     12131 23719\\n     12132 23719\\n     12133 23719\\n     12134 23720\\n     12135 23198\\n     12136 23446\\n     12137 23469\\n     12138 23470\\n     12139 23471\\n     12140 23354\\n     12141 23354\\n     12142 23756\\n     12143 23598\\n     12144 23477\\n     12145 23477\\n     12146 23604\\n     12147 23604\\n     12148 23604\\n     12149 23480\\n     12150 23480\\n     12151 23606\\n     12152 23606\\n     12153 23481\\n     12154 23481\\n     12155 23481\\n     12156 23484\\n     12157 23485\\n     12158 23491\\n     12159 23368\\n     12160 23368\\n     12161 23369\\n     12162 23384\\n     12163 23384\\n     12164 23265\\n     12165 23266\\n     12166 23266\\n     12167 23266\\n     12168 23267\\n     12169 23267\\n     12170 23267\\n     12171 23267\\n     12172 23267\\n     12173 23040\\n     12174 23040\\n     12175 22930\\n     12176 22930\\n     12177 23512\\n     12178 23512\\n     12179 23512\\n     12180 23512\\n     12181 23805\\n     12182 23805\\n     12183 23805\\n     12184 23806\\n     12185 23658\\n     12186 23658\\n     12187 23659\\n     12188 23660\\n     12189 23513\\n     12190 23959\\n     12191 23959\\n     12192 23959\\n     12193 23810\\n     12194 23810\\n     12195 23517\\n     12196 23521\\n     12197 23395\\n     12198 23396\\n     12199 23397\\n     12200 23397\\n     12201 23280\\n     12202 23281\\n     12203 23531\\n     12204 23680\\n     12205 23681\\n     12206 23681\\n     12207 23403\\n     12208 23403\\n     12209 23404\\n     12210 23685\\n     12211 23686\\n     12212 23687\\n     12213 23688\\n     12214 23538\\n     12215 23539\\n     12216 23567\\n     12217 23567\\n     12218 23718\\n     12219 23718\\n     12220 23718\\n     12221 23719\\n     12222 23719\\n     12223 23719\\n     12224 23719\\n     12225 23720\\n     12226 23721\\n     12227 23722\\n     12228 23597\\n     12229 23469\\n     12230 23470\\n     12231 23471\\n     12232 23754\\n     12233 23755\\n     12234 23756\\n     12235 23757\\n     12236 23598\\n     12237 23477\\n     12238 23477\\n     12239 23906\\n     12240 23907\\n     12241 23604\\n     12242 23604\\n     12243 23606\\n     12244 23606\\n     12245 23766\\n     12246 23481\\n     12247 23607\\n     12248 23607\\n     12249 23610\\n     12250 23610\\n     12251 23611\\n     12252 23611\\n     12253 23616\\n     12254 23616\\n     12255 23491\\n     12256 23617\\n     12257 23617\\n     12258 23650\\n     12259 23650\\n     12260 23650\\n     12261 23650\\n     12262 23266\\n     12263 23266\\n     12264 23267\\n     12265 23267\\n     12266 23267\\n     12267 23267\\n     12268 23267\\n     12269 23267\\n     12270 23040\\n     12271 23040\\n     12272 23268\\n     12273 23268\\n     12274 23657\\n     12275 23657\\n     12276 23657\\n     12277 23954\\n     12278 23955\\n     12279 23805\\n     12280 23805\\n     12281 23806\\n     12282 23658\\n     12283 23658\\n     12284 23659\\n     12285 23959\\n     12286 23959\\n     12287 23959\\n     12288 23960\\n     12289 23810\\n     12290 23395\\n     12291 23396\\n     12292 23397\\n     12293 23397\\n     12294 23397\\n     12295 23281\\n     12296 23523\\n     12297 23671\\n     12298 23680\\n     12299 23681\\n     12300 23681\\n     12301 23825\\n     12302 23826\\n     12303 23827\\n     12304 23685\\n     12305 23686\\n     12306 23687\\n     12307 23715\\n     12308 23718\\n     12309 23718\\n     12310 23718\\n     12311 24144\\n     12312 24145\\n     12313 23719\\n     12314 23751\\n     12315 23751\\n     12316 23752\\n     12317 23753\\n     12318 23754\\n     12319 23755\\n     12320 23759\\n     12321 23759\\n     12322 23904\\n     12323 23905\\n     12324 23906\\n     12325 23907\\n     12326 23908\\n     12327 23766\\n     12328 23766\\n     12329 23910\\n     12330 23607\\n     12331 23607\\n     12332 23768\\n     12333 23768\\n     12334 23610\\n     12335 23611\\n     12336 23611\\n     12337 23769\\n     12338 23773\\n     12339 23773\\n     12340 23616\\n     12341 23616\\n     12342 23774\\n     12343 23774\\n     12344 23797\\n     12345 23797\\n     12346 23797\\n     12347 24078\\n     12348 24078\\n     12349 24078\\n     12350 23267\\n     12351 23267\\n     12352 23267\\n     12353 23267\\n     12354 23267\\n     12355 23267\\n     12356 24543\\n     12357 24543\\n     12358 23651\\n     12359 23651\\n     12360 23804\\n     12361 23954\\n     12362 23954\\n     12363 23955\\n     12364 23805\\n     12365 23805\\n     12366 23806\\n     12367 24090\\n     12368 23959\\n     12369 23959\\n     12370 23960\\n     12371 23961\\n     12372 23521\\n     12373 23396\\n     12374 23397\\n     12375 23397\\n     12376 23397\\n     12377 23281\\n     12378 23968\\n     12379 23680\\n     12380 23681\\n     12381 23824\\n     12382 23825\\n     12383 23826\\n     12384 23827\\n     12385 23865\\n     12386 23866\\n     12387 23867\\n     12388 23872\\n     12389 23872\\n     12390 24144\\n     12391 24145\\n     12392 24146\\n     12393 23719\\n     12394 23719\\n     12395 23873\\n     12396 23722\\n     12397 23884\\n     12398 23884\\n     12399 23901\\n     12400 23901\\n     12401 23760\\n     12402 23761\\n     12403 23902\\n     12404 23910\\n     12405 24049\\n     12406 23911\\n     12407 23911\\n     12408 23768\\n     12409 23768\\n     12410 23768\\n     12411 23611\\n     12412 23769\\n     12413 23769\\n     12414 23915\\n     12415 23915\\n     12416 23773\\n     12417 23773\\n     12418 23616\\n     12419 23916\\n     12420 23916\\n     12421 24078\\n     12422 24078\\n     12423 24078\\n     12424 24078\\n     12425 23267\\n     12426 23267\\n     12427 24540\\n     12428 24541\\n     12429 24542\\n     12430 24543\\n     12431 24543\\n     12432 24543\\n     12433 24543\\n     12434 23651\\n     12435 23953\\n     12436 23954\\n     12437 23954\\n     12438 23955\\n     12439 24091\\n     12440 23959\\n     12441 23960\\n     12442 24225\\n     12443 24225\\n     12444 23397\\n     12445 23397\\n     12446 23397\\n     12447 23397\\n     12448 23968\\n     12449 23971\\n     12450 23680\\n     12451 23824\\n     12452 23824\\n     12453 23825\\n     12454 23826\\n     12455 23827\\n     12456 23828\\n     12457 23972\\n     12458 23973\\n     12459 24015\\n     12460 24015\\n     12461 23867\\n     12462 24016\\n     12463 24019\\n     12464 24143\\n     12465 24144\\n     12466 24145\\n     12467 24146\\n     12468 24147\\n     12469 24020\\n     12470 24020\\n     12471 24020\\n     12472 23884\\n     12473 23884\\n     12474 23885\\n     12475 24032\\n     12476 24033\\n     12477 23901\\n     12478 24176\\n     12479 24177\\n     12480 24178\\n     12481 23902\\n     12482 24048\\n     12483 24048\\n     12484 24049\\n     12485 24050\\n     12486 24050\\n     12487 24050\\n     12488 23768\\n     12489 24186\\n     12490 24186\\n     12491 24051\\n     12492 24054\\n     12493 24054\\n     12494 23915\\n     12495 23915\\n     12496 23773\\n     12497 24055\\n     12498 24055\\n     12499 24055\\n     12500 24078\\n     12501 24078\\n     12502 24078\\n     12503 24078\\n     12504 24078\\n     12505 24540\\n     12506 24540\\n     12507 24540\\n     12508 24541\\n     12509 24542\\n     12510 24543\\n     12511 24543\\n     12512 24543\\n     12513 24543\\n     12514 24543\\n     12515 24079\\n     12516 24085\\n     12517 24225\\n     12518 24225\\n     12519 24225\\n     12520 23397\\n     12521 23397\\n     12522 24100\\n     12523 24230\\n     12524 24231\\n     12525 24231\\n     12526 23825\\n     12527 23826\\n     12528 23827\\n     12529 23972\\n     12530 23972\\n     12531 23973\\n     12532 23974\\n     12533 23975\\n     12534 24101\\n     12535 24138\\n     12536 24138\\n     12537 24016\\n     12538 24016\\n     12539 24142\\n     12540 24143\\n     12541 24144\\n     12542 24145\\n     12543 24146\\n     12544 24147\\n     12545 24147\\n     12546 24270\\n     12547 24031\\n     12548 23884\\n     12549 23884\\n     12550 24032\\n     12551 24032\\n     12552 24033\\n     12553 24034\\n     12554 24160\\n     12555 24175\\n     12556 24176\\n     12557 24177\\n     12558 24178\\n     12559 24183\\n     12560 24184\\n     12561 24185\\n     12562 24185\\n     12563 24050\\n     12564 24050\\n     12565 24414\\n     12566 24304\\n     12567 24186\\n     12568 24189\\n     12569 24189\\n     12570 24307\\n     12571 24307\\n     12572 24190\\n     12573 24190\\n     12574 24190\\n     12575 24210\\n     12576 24210\\n     12577 24210\\n     12578 24210\\n     12579 24210\\n     12580 24540\\n     12581 24540\\n     12582 24540\\n     12583 24541\\n     12584 24542\\n     12585 24543\\n     12586 24543\\n     12587 24543\\n     12588 24543\\n     12589 24543\\n     12590 24211\\n     12591 24220\\n     12592 24221\\n     12593 24221\\n     12594 24225\\n     12595 24225\\n     12596 24225\\n     12597 24556\\n     12598 24556\\n     12599 24230\\n     12600 24231\\n     12601 24231\\n     12602 24348\\n     12603 24349\\n     12604 24350\\n     12605 24351\\n     12606 24351\\n     12607 23973\\n     12608 23974\\n     12609 24101\\n     12610 24101\\n     12611 24261\\n     12612 24379\\n     12613 24262\\n     12614 24262\\n     12615 24265\\n     12616 24265\\n     12617 24143\\n     12618 24144\\n     12619 24145\\n     12620 24146\\n     12621 24266\\n     12622 24267\\n     12623 24268\\n     12624 24270\\n     12625 24271\\n     12626 24159\\n     12627 24031\\n     12628 23884\\n     12629 24032\\n     12630 24032\\n     12631 24032\\n     12632 24394\\n     12633 24280\\n     12634 24301\\n     12635 24302\\n     12636 24303\\n     12637 24303\\n     12638 24185\\n     12639 24185\\n     12640 24414\\n     12641 24414\\n     12642 24414\\n     12643 24307\\n     12644 24307\\n     12645 24307\\n     12646 24307\\n     12647 24308\\n     12648 24308\\n     12649 24325\\n     12650 24325\\n     12651 24539\\n     12652 24686\\n     12653 24540\\n     12654 24540\\n     12655 24540\\n     12656 24541\\n     12657 24542\\n     12658 24543\\n     12659 24543\\n     12660 24543\\n     12661 24543\\n     12662 24543\\n     12663 24211\\n     12664 24332\\n     12665 24333\\n     12666 24333\\n     12667 24220\\n     12668 24221\\n     12669 24221\\n     12670 24556\\n     12671 24556\\n     12672 24556\\n     12673 24556\\n     12674 24556\\n     12675 24345\\n     12676 24229\\n     12677 24346\\n     12678 24347\\n     12679 24349\\n     12680 24350\\n     12681 24351\\n     12682 24351\\n     12683 24454\\n     12684 24455\\n     12685 24456\\n     12686 24456\\n     12687 24379\\n     12688 24379\\n     12689 24262\\n     12690 24381\\n     12691 24383\\n     12692 24383\\n     12693 24488\\n     12694 24384\\n     12695 24384\\n     12696 24266\\n     12697 24266\\n     12698 24267\\n     12699 24268\\n     12700 24269\\n     12701 24270\\n     12702 24629\\n     12703 24630\\n     12704 24630\\n     12705 24630\\n     12706 24631\\n     12707 24394\\n     12708 24394\\n     12709 24394\\n     12710 24412\\n     12711 24413\\n     12712 24303\\n     12713 24303\\n     12714 24656\\n     12715 24657\\n     12716 24658\\n     12717 24414\\n     12718 24307\\n     12719 24307\\n     12720 24307\\n     12721 24307\\n     12722 24308\\n     12723 24308\\n     12724 24308\\n     12725 24435\\n     12726 24539\\n     12727 24539\\n     12728 24686\\n     12729 24687\\n     12730 24540\\n     12731 24540\\n     12732 24541\\n     12733 24542\\n     12734 24543\\n     12735 24543\\n     12736 24543\\n     12737 24441\\n     12738 24442\\n     12739 24442\\n     12740 24331\\n     12741 24332\\n     12742 24333\\n     12743 24333\\n     12744 24220\\n     12745 24221\\n     12746 24221\\n     12747 24221\\n     12748 24556\\n     12749 24556\\n     12750 24556\\n     12751 24556\\n     12752 24451\\n     12753 24345\\n     12754 24229\\n     12755 24455\\n     12756 24456\\n     12757 24456\\n     12758 24379\\n     12759 24379\\n     12760 24380\\n     12761 24380\\n     12762 24484\\n     12763 24486\\n     12764 24487\\n     12765 24488\\n     12766 24489\\n     12767 24489\\n     12768 24489\\n     12769 24266\\n     12770 24267\\n     12771 24490\\n     12772 24490\\n     12773 24490\\n     12774 24628\\n     12775 24629\\n     12776 24630\\n     12777 24630\\n     12778 24741\\n     12779 24631\\n     12780 24631\\n     12781 24517\\n     12782 24517\\n     12783 24655\\n     12784 24655\\n     12785 24656\\n     12786 24657\\n     12787 24658\\n     12788 24519\\n     12789 24519\\n     12790 24307\\n     12791 24307\\n     12792 24308\\n     12793 24520\\n     12794 24520\\n     12795 24539\\n     12796 24539\\n     12797 24686\\n     12798 24686\\n     12799 24687\\n     12800 24540\\n     12801 24540\\n     12802 24551\\n     12803 24552\\n     12804 24552\\n     12805 24441\\n     12806 24442\\n     12807 24442\\n     12808 24331\\n     12809 24332\\n     12810 24333\\n     12811 24333\\n     12812 24333\\n     12813 24221\\n     12814 24221\\n     12815 24334\\n     12816 24556\\n     12817 24556\\n     12818 24556\\n     12819 24922\\n     12820 24563\\n     12821 24451\\n     12822 24451\\n     12823 24380\\n     12824 24484\\n     12825 24484\\n     12826 24485\\n     12827 24603\\n     12828 24605\\n     12829 24606\\n     12830 24606\\n     12831 24731\\n     12832 24731\\n     12833 24856\\n     12834 24732\\n     12835 24732\\n     12836 24629\\n     12837 24630\\n     12838 24741\\n     12839 24741\\n     12840 24742\\n     12841 24631\\n     12842 24497\\n     12843 24497\\n     12844 24654\\n     12845 24654\\n     12846 24517\\n     12847 24663\\n     12848 24663\\n     12849 24663\\n     12850 24663\\n     12851 24663\\n     12852 24664\\n     12853 24664\\n     12854 24664\\n     12855 24685\\n     12856 24685\\n     12857 24798\\n     12858 24686\\n     12859 24696\\n     12860 24697\\n     12861 24697\\n     12862 24551\\n     12863 24552\\n     12864 24552\\n     12865 24441\\n     12866 24442\\n     12867 24442\\n     12868 24442\\n     12869 24332\\n     12870 24333\\n     12871 24333\\n     12872 24333\\n     12873 24221\\n     12874 24221\\n     12875 24698\\n     12876 24922\\n     12877 24922\\n     12878 24922\\n     12879 24922\\n     12880 24706\\n     12881 24563\\n     12882 24563\\n     12883 24451\\n     12884 24484\\n     12885 24484\\n     12886 24603\\n     12887 24603\\n     12888 24604\\n     12889 24730\\n     12890 24731\\n     12891 24856\\n     12892 24856\\n     12893 24732\\n     12894 24732\\n     12895 24741\\n     12896 24741\\n     12897 24742\\n     12898 24742\\n     12899 24631\\n     12900 24497\\n     12901 24497\\n     12902 24988\\n     12903 24776\\n     12904 24776\\n     12905 24776\\n     12906 24776\\n     12907 24776\\n     12908 24777\\n     12909 24777\\n     12910 24777\\n     12911 24806\\n     12912 24807\\n     12913 24807\\n     12914 24695\\n     12915 24696\\n     12916 24697\\n     12917 24697\\n     12918 24551\\n     12919 24552\\n     12920 24552\\n     12921 24552\\n     12922 24442\\n     12923 24442\\n     12924 24442\\n     12925 24332\\n     12926 24333\\n     12927 24333\\n     12928 24333\\n     12929 24333\\n     12930 24698\\n     12931 24698\\n     12932 24698\\n     12933 24922\\n     12934 24922\\n     12935 24922\\n     12936 24815\\n     12937 24706\\n     12938 24706\\n     12939 24706\\n     12940 24563\\n     12941 24603\\n     12942 24728\\n     12943 24729\\n     12944 24855\\n     12945 24856\\n     12946 24856\\n     12947 24972\\n     12948 24870\\n     12949 24871\\n     12950 24872\\n     12951 24872\\n     12952 24631\\n     12953 24988\\n     12954 24988\\n     12955 24776\\n     12956 24776\\n     12957 24776\\n     12958 24776\\n     12959 24886\\n     12960 24886\\n     12961 24886\\n     12962 24886\\n     12963 24806\\n     12964 24807\\n     12965 24807\\n     12966 24695\\n     12967 24696\\n     12968 24697\\n     12969 24697\\n     12970 24697\\n     12971 24552\\n     12972 24552\\n     12973 24552\\n     12974 24442\\n     12975 24442\\n     12976 24442\\n     12977 24442\\n     12978 24333\\n     12979 24333\\n     12980 24333\\n     12981 24333\\n     12982 24698\\n     12983 24698\\n     12984 24698\\n     12985 24922\\n     12986 24922\\n     12987 24922\\n     12988 24925\\n     12989 24925\\n     12990 24815\\n     12991 24706\\n     12992 24706\\n     12993 24706\\n     12994 24967\\n     12995 24969\\n     12996 24855\\n     12997 24971\\n     12998 24972\\n     12999 24974\\n     13000 24975\\n     13001 24987\\n     13002 24872\\n     13003 24872\\n     13004 24872\\n     13005 25218\\n     13006 25219\\n     13007 25001\\n     13008 25001\\n     13009 25001\\n     13010 24776\\n     13011 24776\\n     13012 25002\\n     13013 25002\\n     13014 25002\\n     13015 25002\\n     13016 24806\\n     13017 24807\\n     13018 24807\\n     13019 24807\\n     13020 24696\\n     13021 24697\\n     13022 24697\\n     13023 24697\\n     13024 24552\\n     13025 24552\\n     13026 24552\\n     13027 24442\\n     13028 24442\\n     13029 24442\\n     13030 25622\\n     13031 25622\\n     13032 25623\\n     13033 25624\\n     13034 25625\\n     13035 25527\\n     13036 25527\\n     13037 25036\\n     13038 25273\\n     13039 25273\\n     13040 25273\\n     13041 25042\\n     13042 25042\\n     13043 24925\\n     13044 24925\\n     13045 24815\\n     13046 25391\\n     13047 25085\\n     13048 25086\\n     13049 25087\\n     13050 25090\\n     13051 25090\\n     13052 24975\\n     13053 25091\\n     13054 25092\\n     13055 25103\\n     13056 25103\\n     13057 25218\\n     13058 25218\\n     13059 25330\\n     13060 25104\\n     13061 25121\\n     13062 25121\\n     13063 25121\\n     13064 25121\\n     13065 25121\\n     13066 25122\\n     13067 25122\\n     13068 25122\\n     13069 25122\\n     13070 25122\\n     13071 25382\\n     13072 25382\\n     13073 25382\\n     13074 25382\\n     13075 24696\\n     13076 24697\\n     13077 24697\\n     13078 24697\\n     13079 24697\\n     13080 24552\\n     13081 24552\\n     13082 25712\\n     13083 25622\\n     13084 25622\\n     13085 25622\\n     13086 25622\\n     13087 25623\\n     13088 25624\\n     13089 25625\\n     13090 25626\\n     13091 25527\\n     13092 25527\\n     13093 25383\\n     13094 25273\\n     13095 25273\\n     13096 25168\\n     13097 25168\\n     13098 25277\\n     13099 25174\\n     13100 25046\\n     13101 25047\\n     13102 25175\\n     13103 25205\\n     13104 25208\\n     13105 25211\\n     13106 25211\\n     13107 25212\\n     13108 25213\\n     13109 25325\\n     13110 25214\\n     13111 25218\\n     13112 25218\\n     13113 25329\\n     13114 24877\\n     13115 25229\\n     13116 25121\\n     13117 25121\\n     13118 25121\\n     13119 25121\\n     13120 25230\\n     13121 25230\\n     13122 25230\\n     13123 25230\\n     13124 25230\\n     13125 25382\\n     13126 25382\\n     13127 25382\\n     13128 25382\\n     13129 25382\\n     13130 24697\\n     13131 24697\\n     13132 24697\\n     13133 24697\\n     13134 25712\\n     13135 25712\\n     13136 25712\\n     13137 25712\\n     13138 25622\\n     13139 25622\\n     13140 25622\\n     13141 25623\\n     13142 25624\\n     13143 25625\\n     13144 25626\\n     13145 25527\\n     13146 25527\\n     13147 25527\\n     13148 25273\\n     13149 25273\\n     13150 25277\\n     13151 25289\\n     13152 25289\\n     13153 25174\\n     13154 25174\\n     13155 25290\\n     13156 25290\\n     13157 25323\\n     13158 25211\\n     13159 25212\\n     13160 25324\\n     13161 25329\\n     13162 25334\\n     13163 25334\\n     13164 25335\\n     13165 25335\\n     13166 25335\\n     13167 25488\\n     13168 25488\\n     13169 25488\\n     13170 25798\\n     13171 25799\\n     13172 25230\\n     13173 25230\\n     13174 25230\\n     13175 25230\\n     13176 25377\\n     13177 25378\\n     13178 25382\\n     13179 25382\\n     13180 25382\\n     13181 25382\\n     13182 25382\\n     13183 25382\\n     13184 25382\\n     13185 24697\\n     13186 25712\\n     13187 25712\\n     13188 25712\\n     13189 25712\\n     13190 25712\\n     13191 25622\\n     13192 25622\\n     13193 25622\\n     13194 25623\\n     13195 25624\\n     13196 25625\\n     13197 25626\\n     13198 25627\\n     13199 25527\\n     13200 25527\\n     13201 25630\\n     13202 25630\\n     13203 25398\\n     13204 25399\\n     13205 25399\\n     13206 25289\\n     13207 25289\\n     13208 25174\\n     13209 25290\\n     13210 25290\\n     13211 25290\\n     13212 25441\\n     13213 25451\\n     13214 25451\\n     13215 25324\\n     13216 25452\\n     13217 25456\\n     13218 25456\\n     13219 25467\\n     13220 25467\\n     13221 25777\\n     13222 25778\\n     13223 25335\\n     13224 25335\\n     13225 25335\\n     13226 25488\\n     13227 25488\\n     13228 25488\\n     13229 25798\\n     13230 25799\\n     13231 25799\\n     13232 25230\\n     13233 25489\\n     13234 25489\\n     13235 25521\\n     13236 25521\\n     13237 25376\\n     13238 25377\\n     13239 25378\\n     13240 25522\\n     13241 25523\\n     13242 25526\\n     13243 25526\\n     13244 25382\\n     13245 25382\\n     13246 25382\\n     13247 25382\\n     13248 25382\\n     13249 25382\\n     13250 25382\\n     13251 25712\\n     13252 25712\\n     13253 25712\\n     13254 25712\\n     13255 25712\\n     13256 25712\\n     13257 25712\\n     13258 25622\\n     13259 25622\\n     13260 25623\\n     13261 25624\\n     13262 25625\\n     13263 25626\\n     13264 25627\\n     13265 25527\\n     13266 25527\\n     13267 25528\\n     13268 25630\\n     13269 25539\\n     13270 25539\\n     13271 25398\\n     13272 25399\\n     13273 25399\\n     13274 25289\\n     13275 25289\\n     13276 25289\\n     13277 25290\\n     13278 25540\\n     13279 25540\\n     13280 25441\\n     13281 25442\\n     13282 25563\\n     13283 25574\\n     13284 25586\\n     13285 25586\\n     13286 25776\\n     13287 25777\\n     13288 25778\\n     13289 25779\\n     13290 25779\\n     13291 25468\\n     13292 25468\\n     13293 25587\\n     13294 25594\\n     13295 25483\\n     13296 25484\\n     13297 25485\\n     13298 25689\\n     13299 25596\\n     13300 25596\\n     13301 25596\\n     13302 25797\\n     13303 25798\\n     13304 25799\\n     13305 25799\\n     13306 25799\\n     13307 25597\\n     13308 25597\\n     13309 25619\\n     13310 25619\\n     13311 25520\\n     13312 25521\\n     13313 25521\\n     13314 25376\\n     13315 25377\\n     13316 25522\\n     13317 25522\\n     13318 25620\\n     13319 25526\\n     13320 25526\\n     13321 25382\\n     13322 25382\\n     13323 25382\\n     13324 25382\\n     13325 25382\\n     13326 25382\\n     13327 25382\\n     13328 25712\\n     13329 25712\\n     13330 25712\\n     13331 25712\\n     13332 25712\\n     13333 25712\\n     13334 25712\\n     13335 25713\\n     13336 25622\\n     13337 25623\\n     13338 25624\\n     13339 25625\\n     13340 25626\\n     13341 25630\\n     13342 25539\\n     13343 25539\\n     13344 25398\\n     13345 25399\\n     13346 25399\\n     13347 25399\\n     13348 25289\\n     13349 25289\\n     13350 25639\\n     13351 25639\\n     13352 25639\\n     13353 25639\\n     13354 25661\\n     13355 25662\\n     13356 25662\\n     13357 25662\\n     13358 25670\\n     13359 25671\\n     13360 25679\\n     13361 25679\\n     13362 25586\\n     13363 25776\\n     13364 25777\\n     13365 25778\\n     13366 25779\\n     13367 25779\\n     13368 25882\\n     13369 25587\\n     13370 25587\\n     13371 25680\\n     13372 25688\\n     13373 25688\\n     13374 25484\\n     13375 25689\\n     13376 25689\\n     13377 25691\\n     13378 25691\\n     13379 25796\\n     13380 25797\\n     13381 25798\\n     13382 25799\\n     13383 25799\\n     13384 25799\\n     13385 25692\\n     13386 25692\\n     13387 25710\\n     13388 25618\\n     13389 25619\\n     13390 25619\\n     13391 25520\\n     13392 25521\\n     13393 25521\\n     13394 25521\\n     13395 25522\\n     13396 25522\\n     13397 25620\\n     13398 25620\\n     13399 25526\\n     13400 25526\\n     13401 25526\\n     13402 25382\\n     13403 25382\\n     13404 25382\\n     13405 25382\\n     13406 25382\\n     13407 25382\\n     13408 25712\\n     13409 25712\\n     13410 25712\\n     13411 25712\\n     13412 25712\\n     13413 25712\\n     13414 25920\\n     13415 25722\\n     13416 25722\\n     13417 25722\\n     13418 25929\\n     13419 25399\\n     13420 25399\\n     13421 25289\\n     13422 25723\\n     13423 25723\\n     13424 25723\\n     13425 25723\\n     13426 25723\\n     13427 25860\\n     13428 25748\\n     13429 25748\\n     13430 25748\\n     13431 25759\\n     13432 25775\\n     13433 25879\\n     13434 25880\\n     13435 25776\\n     13436 25777\\n     13437 25779\\n     13438 25779\\n     13439 25882\\n     13440 25883\\n     13441 25780\\n     13442 25791\\n     13443 25791\\n     13444 25791\\n     13445 25792\\n     13446 25792\\n     13447 25797\\n     13448 25798\\n     13449 25799\\n     13450 25799\\n     13451 25799\\n     13452 25710\\n     13453 25618\\n     13454 25619\\n     13455 25619\\n     13456 25619\\n     13457 25521\\n     13458 25521\\n     13459 25521\\n     13460 25522\\n     13461 25620\\n     13462 25620\\n     13463 25620\\n     13464 25822\\n     13465 25822\\n     13466 25822\\n     13467 25526\\n     13468 25526\\n     13469 25382\\n     13470 25382\\n     13471 25382\\n     13472 25382\\n     13473 25382\\n     13474 25712\\n     13475 25712\\n     13476 25712\\n     13477 25712\\n     13478 25712\\n     13479 25712\\n     13480 25712\\n     13481 25835\\n     13482 25929\\n     13483 25929\\n     13484 25929\\n     13485 26235\\n     13486 26117\\n     13487 26117\\n     13488 26019\\n     13489 25723\\n     13490 25723\\n     13491 25723\\n     13492 25860\\n     13493 25955\\n     13494 25861\\n     13495 25871\\n     13496 25872\\n     13497 25775\\n     13498 25881\\n     13499 25881\\n     13500 25882\\n     13501 25894\\n     13502 25894\\n     13503 25710\\n     13504 25619\\n     13505 25619\\n     13506 25619\\n     13507 25521\\n     13508 25521\\n     13509 25521\\n     13510 25620\\n     13511 25620\\n     13512 25620\\n     13513 25620\\n     13514 25918\\n     13515 25918\\n     13516 25526\\n     13517 25526\\n     13518 25526\\n     13519 25382\\n     13520 25382\\n     13521 25382\\n     13522 25382\\n     13523 25712\\n     13524 25712\\n     13525 25712\\n     13526 25712\\n     13527 25712\\n     13528 25929\\n     13529 25929\\n     13530 25929\\n     13531 26116\\n     13532 26235\\n     13533 26117\\n     13534 26117\\n     13535 26117\\n     13536 26019\\n     13537 26019\\n     13538 26020\\n     13539 25955\\n     13540 25955\\n     13541 25956\\n     13542 25964\\n     13543 25965\\n     13544 25966\\n     13545 25975\\n     13546 25976\\n     13547 25710\\n     13548 25619\\n     13549 25619\\n     13550 25619\\n     13551 25521\\n     13552 25521\\n     13553 25521\\n     13554 25620\\n     13555 25620\\n     13556 26011\\n     13557 26011\\n     13558 26011\\n     13559 26011\\n     13560 25525\\n     13561 25525\\n     13562 25526\\n     13563 25526\\n     13564 25526\\n     13565 25526\\n     13566 25382\\n     13567 25382\\n     13568 25712\\n     13569 25712\\n     13570 25712\\n     13571 26116\\n     13572 26116\\n     13573 26116\\n     13574 26235\\n     13575 26236\\n     13576 26117\\n     13577 26117\\n     13578 26118\\n     13579 26019\\n     13580 26020\\n     13581 26050\\n     13582 26051\\n     13583 26063\\n     13584 26064\\n     13585 26065\\n     13586 26076\\n     13587 26077\\n     13588 26082\\n     13589 26083\\n     13590 25710\\n     13591 25619\\n     13592 25619\\n     13593 25619\\n     13594 25521\\n     13595 25521\\n     13596 25620\\n     13597 26100\\n     13598 26100\\n     13599 26100\\n     13600 26100\\n     13601 26100\\n     13602 26100\\n     13603 26317\\n     13604 26317\\n     13605 26317\\n     13606 26317\\n     13607 25525\\n     13608 25525\\n     13609 25526\\n     13610 25526\\n     13611 25526\\n     13612 25712\\n     13613 25712\\n     13614 25712\\n     13615 25713\\n     13616 26116\\n     13617 26116\\n     13618 26235\\n     13619 26235\\n     13620 26236\\n     13621 26237\\n     13622 26117\\n     13623 26118\\n     13624 26120\\n     13625 26147\\n     13626 26148\\n     13627 26169\\n     13628 26065\\n     13629 26182\\n     13630 26198\\n     13631 26199\\n     13632 26199\\n     13633 26200\\n     13634 25710\\n     13635 25619\\n     13636 25619\\n     13637 25619\\n     13638 25521\\n     13639 26216\\n     13640 26216\\n     13641 26216\\n     13642 26216\\n     13643 26216\\n     13644 26216\\n     13645 26216\\n     13646 26216\\n     13647 26216\\n     13648 26317\\n     13649 26317\\n     13650 26317\\n     13651 26317\\n     13652 26317\\n     13653 26317\\n     13654 25525\\n     13655 25526\\n     13656 25526\\n     13657 25712\\n     13658 25712\\n     13659 25712\\n     13660 25713\\n     13661 26234\\n     13662 26340\\n     13663 26235\\n     13664 26236\\n     13665 26238\\n     13666 26239\\n     13667 26239\\n     13668 26120\\n     13669 26260\\n     13670 26261\\n     13671 26262\\n     13672 26262\\n     13673 26146\\n     13674 26147\\n     13675 26148\\n     13676 26148\\n     13677 26480\\n     13678 26480\\n     13679 26263\\n     13680 26263\\n     13681 26263\\n     13682 26157\\n     13683 26158\\n     13684 26274\\n     13685 26275\\n     13686 26284\\n     13687 26168\\n     13688 26286\\n     13689 26170\\n     13690 26171\\n     13691 26301\\n     13692 26302\\n     13693 26302\\n     13694 25619\\n     13695 25619\\n     13696 25619\\n     13697 25521\\n     13698 26216\\n     13699 26216\\n     13700 26216\\n     13701 26216\\n     13702 26216\\n     13703 26216\\n     13704 26216\\n     13705 26216\\n     13706 26317\\n     13707 26317\\n     13708 26317\\n     13709 26317\\n     13710 26317\\n     13711 26317\\n     13712 26317\\n     13713 26317\\n     13714 25712\\n     13715 25712\\n     13716 25713\\n     13717 26339\\n     13718 26340\\n     13719 26342\\n     13720 26343\\n     13721 26343\\n     13722 26239\\n     13723 26239\\n     13724 26344\\n     13725 26344\\n     13726 26364\\n     13727 26261\\n     13728 26262\\n     13729 26475\\n     13730 26476\\n     13731 26477\\n     13732 26478\\n     13733 26479\\n     13734 26479\\n     13735 26480\\n     13736 26480\\n     13737 26480\\n     13738 26263\\n     13739 26263\\n     13740 26365\\n     13741 26376\\n     13742 26376\\n     13743 26377\\n     13744 26378\\n     13745 26378\\n     13746 26275\\n     13747 26383\\n     13748 26386\\n     13749 26284\\n     13750 26284\\n     13751 26285\\n     13752 26387\\n     13753 26403\\n     13754 26403\\n     13755 26297\\n     13756 26405\\n     13757 26406\\n     13758 26955\\n     13759 26955\\n     13760 27076\\n     13761 26216\\n     13762 26216\\n     13763 26216\\n     13764 26216\\n     13765 26216\\n     13766 26216\\n     13767 26216\\n     13768 26420\\n     13769 26420\\n     13770 26420\\n     13771 26420\\n     13772 26420\\n     13773 26420\\n     13774 26420\\n     13775 25712\\n     13776 25712\\n     13777 25713\\n     13778 25713\\n     13779 26441\\n     13780 26442\\n     13781 26442\\n     13782 26342\\n     13783 26343\\n     13784 26343\\n     13785 26239\\n     13786 26443\\n     13787 26443\\n     13788 26443\\n     13789 26472\\n     13790 26473\\n     13791 26474\\n     13792 26480\\n     13793 26480\\n     13794 26494\\n     13795 26494\\n     13796 26495\\n     13797 26378\\n     13798 26607\\n     13799 26501\\n     13800 26502\\n     13801 26502\\n     13802 26386\\n     13803 26712\\n     13804 26387\\n     13805 26387\\n     13806 26503\\n     13807 26506\\n     13808 26519\\n     13809 26403\\n     13810 26520\\n     13811 26521\\n     13812 26521\\n     13813 26521\\n     13814 26523\\n     13815 26523\\n     13816 26524\\n     13817 27076\\n     13818 27076\\n     13819 26216\\n     13820 26216\\n     13821 26216\\n     13822 26216\\n     13823 26216\\n     13824 26540\\n     13825 26540\\n     13826 26540\\n     13827 26540\\n     13828 26540\\n     13829 25712\\n     13830 25712\\n     13831 25713\\n     13832 25713\\n     13833 26555\\n     13834 26556\\n     13835 26556\\n     13836 26442\\n     13837 26442\\n     13838 26342\\n     13839 26343\\n     13840 26343\\n     13841 26343\\n     13842 26443\\n     13843 26443\\n     13844 26557\\n     13845 26582\\n     13846 26583\\n     13847 26502\\n     13848 26712\\n     13849 26712\\n     13850 26608\\n     13851 26609\\n     13852 26610\\n     13853 26611\\n     13854 26507\\n     13855 26612\\n     13856 26615\\n     13857 26616\\n     13858 26617\\n     13859 26628\\n     13860 26628\\n     13861 26628\\n     13862 26629\\n     13863 26629\\n     13864 26631\\n     13865 26631\\n     13866 26631\\n     13867 26631\\n     13868 26631\\n     13869 26726\\n     13870 26632\\n     13871 26633\\n     13872 26635\\n     13873 27076\\n     13874 27076\\n     13875 27076\\n     13876 26649\\n     13877 26649\\n     13878 26649\\n     13879 26649\\n     13880 25712\\n     13881 25713\\n     13882 25713\\n     13883 26670\\n     13884 26554\\n     13885 26555\\n     13886 26556\\n     13887 26556\\n     13888 26442\\n     13889 26442\\n     13890 26442\\n     13891 26343\\n     13892 26343\\n     13893 26343\\n     13894 26443\\n     13895 26671\\n     13896 26671\\n     13897 26689\\n     13898 26582\\n     13899 26690\\n     13900 26691\\n     13901 26692\\n     13902 26693\\n     13903 26712\\n     13904 26712\\n     13905 26713\\n     13906 26609\\n     13907 26610\\n     13908 26714\\n     13909 26803\\n     13910 26616\\n     13911 26715\\n     13912 26628\\n     13913 26628\\n     13914 26723\\n     13915 26723\\n     13916 26723\\n     13917 26725\\n     13918 26725\\n     13919 26725\\n     13920 26725\\n     13921 26725\\n     13922 26726\\n     13923 26726\\n     13924 26726\\n     13925 26726\\n     13926 26727\\n     13927 26727\\n     13928 26728\\n     13929 26525\\n     13930 26635\\n     13931 26635\\n     13932 26636\\n     13933 26730\\n     13934 27076\\n     13935 27076\\n     13936 25712\\n     13937 25713\\n     13938 25713\\n     13939 25713\\n     13940 26760\\n     13941 26867\\n     13942 26556\\n     13943 26556\\n     13944 26556\\n     13945 26442\\n     13946 26442\\n     13947 26343\\n     13948 26343\\n     13949 26761\\n     13950 26761\\n     13951 26761\\n     13952 26761\\n     13953 26761\\n     13954 26780\\n     13955 26781\\n     13956 26782\\n     13957 26782\\n     13958 26800\\n     13959 26800\\n     13960 26800\\n     13961 26713\\n     13962 26801\\n     13963 26801\\n     13964 26802\\n     13965 26803\\n     13966 26803\\n     13967 26613\\n     13968 26910\\n     13969 26804\\n     13970 26815\\n     13971 26815\\n     13972 26923\\n     13973 26923\\n     13974 26816\\n     13975 26816\\n     13976 26819\\n     13977 26819\\n     13978 26819\\n     13979 27040\\n     13980 27140\\n     13981 27041\\n     13982 26820\\n     13983 26820\\n     13984 26727\\n     13985 26821\\n     13986 26821\\n     13987 26635\\n     13988 26635\\n     13989 26730\\n     13990 26730\\n     13991 26731\\n     13992 26822\\n     13993 25712\\n     13994 25713\\n     13995 25713\\n     13996 25713\\n     13997 26867\\n     13998 26980\\n     13999 26980\\n     14000 26980\\n     14001 26442\\n     14002 26442\\n     14003 26343\\n     14004 27407\\n     14005 26761\\n     14006 26761\\n     14007 26761\\n     14008 26761\\n     14009 26761\\n     14010 26886\\n     14011 26781\\n     14012 26782\\n     14013 26996\\n     14014 26904\\n     14015 26904\\n     14016 27117\\n     14017 26905\\n     14018 26905\\n     14019 26905\\n     14020 26906\\n     14021 26907\\n     14022 26908\\n     14023 26802\\n     14024 26909\\n     14025 27022\\n     14026 27023\\n     14027 26910\\n     14028 26922\\n     14029 26923\\n     14030 26923\\n     14031 26816\\n     14032 26816\\n     14033 26926\\n     14034 26926\\n     14035 27040\\n     14036 27139\\n     14037 27140\\n     14038 27141\\n     14039 27041\\n     14040 27041\\n     14041 26927\\n     14042 26927\\n     14043 26928\\n     14044 27046\\n     14045 27150\\n     14046 27047\\n     14047 26929\\n     14048 26929\\n     14049 26980\\n     14050 26980\\n     14051 26980\\n     14052 27193\\n     14053 27193\\n     14054 27300\\n     14055 27407\\n     14056 27407\\n     14057 27407\\n     14058 26761\\n     14059 26993\\n     14060 26994\\n     14061 26995\\n     14062 26996\\n     14063 27013\\n     14064 27018\\n     14065 27018\\n     14066 27226\\n     14067 27117\\n     14068 27117\\n     14069 27118\\n     14070 27020\\n     14071 27020\\n     14072 27021\\n     14073 27021\\n     14074 27022\\n     14075 27024\\n     14076 27127\\n     14077 26923\\n     14078 26923\\n     14079 27033\\n     14080 27033\\n     14081 27040\\n     14082 27040\\n     14083 27139\\n     14084 27140\\n     14085 27141\\n     14086 27041\\n     14087 27041\\n     14088 27042\\n     14089 27042\\n     14090 27043\\n     14091 27046\\n     14092 27046\\n     14093 27150\\n     14094 27047\\n     14095 27047\\n     14096 27193\\n     14097 27193\\n     14098 27193\\n     14099 27300\\n     14100 27407\\n     14101 27407\\n     14102 27407\\n     14103 26993\\n     14104 26994\\n     14105 26995\\n     14106 26996\\n     14107 26997\\n     14108 27110\\n     14109 27110\\n     14110 27111\\n     14111 27116\\n     14112 27225\\n     14113 27226\\n     14114 27117\\n     14115 27117\\n     14116 27121\\n     14117 27121\\n     14118 27021\\n     14119 27122\\n     14120 27123\\n     14121 27126\\n     14122 27127\\n     14123 27245\\n     14124 27245\\n     14125 27246\\n     14126 27246\\n     14127 27039\\n     14128 27137\\n     14129 27138\\n     14130 27139\\n     14131 27140\\n     14132 27141\\n     14133 27142\\n     14134 27144\\n     14135 27144\\n     14136 27145\\n     14137 27044\\n     14138 27146\\n     14139 27149\\n     14140 27150\\n     14141 27193\\n     14142 27300\\n     14143 27300\\n     14144 27407\\n     14145 27312\\n     14146 27313\\n     14147 27314\\n     14148 27315\\n     14149 27316\\n     14150 27202\\n     14151 27218\\n     14152 27218\\n     14153 27111\\n     14154 27219\\n     14155 27224\\n     14156 27225\\n     14157 27226\\n     14158 27231\\n     14159 27234\\n     14160 27241\\n     14161 27242\\n     14162 27243\\n     14163 27245\\n     14164 27245\\n     14165 27246\\n     14166 27246\\n     14167 27038\\n     14168 27137\\n     14169 27137\\n     14170 27138\\n     14171 27139\\n     14172 27140\\n     14173 27141\\n     14174 27142\\n     14175 27248\\n     14176 27248\\n     14177 27249\\n     14178 27249\\n     14179 27250\\n     14180 27250\\n     14181 27250\\n     14182 27148\\n     14183 27251\\n     14184 27300\\n     14185 27312\\n     14186 27315\\n     14187 27316\\n     14188 27317\\n     14189 27318\\n     14190 27337\\n     14191 27337\\n     14192 27219\\n     14193 27338\\n     14194 27350\\n     14195 27351\\n     14196 27356\\n     14197 27243\\n     14198 27244\\n     14199 27357\\n     14200 27357\\n     14201 27357\\n     14202 27358\\n     14203 27358\\n     14204 27463\\n     14205 27463\\n     14206 27464\\n     14207 27465\\n     14208 27466\\n     14209 27467\\n     14210 27467\\n     14211 27142\\n     14212 27248\\n     14213 27248\\n     14214 27249\\n     14215 27249\\n     14216 27250\\n     14217 27250\\n     14218 27250\\n     14219 27251\\n     14220 27251\\n     14221 27266\\n     14222 27368\\n     14223 27416\\n     14224 27417\\n     14225 27418\\n     14226 27419\\n     14227 27420\\n     14228 27421\\n     14229 27422\\n     14230 27439\\n     14231 27439\\n     14232 27440\\n     14233 27441\\n     14234 27553\\n     14235 27442\\n     14236 27442\\n     14237 27341\\n     14238 27445\\n     14239 27449\\n     14240 27450\\n     14241 27450\\n     14242 27349\\n     14243 27351\\n     14244 27452\\n     14245 27461\\n     14246 27461\\n     14247 27357\\n     14248 27357\\n     14249 27581\\n     14250 27581\\n     14251 27462\\n     14252 27466\\n     14253 27467\\n     14254 27467\\n     14255 27467\\n     14256 27248\\n     14257 27248\\n     14258 27249\\n     14259 27249\\n     14260 27250\\n     14261 27250\\n     14262 27250\\n     14263 27468\\n     14264 27468\\n     14265 27266\\n     14266 27368\\n     14267 27368\\n     14268 27479\\n     14269 27518\\n     14270 27518\\n     14271 27518\\n     14272 27638\\n     14273 27638\\n     14274 27638\\n     14275 27534\\n     14276 27417\\n     14277 27418\\n     14278 27535\\n     14279 27536\\n     14280 27537\\n     14281 27537\\n     14282 27538\\n     14283 27550\\n     14284 27551\\n     14285 27439\\n     14286 27439\\n     14287 27440\\n     14288 27552\\n     14289 27553\\n     14290 27554\\n     14291 27341\\n     14292 27445\\n     14293 27445\\n     14294 27564\\n     14295 27565\\n     14296 27566\\n     14297 27567\\n     14298 27567\\n     14299 27568\\n     14300 27580\\n     14301 27702\\n     14302 27581\\n     14303 27581\\n     14304 27586\\n     14305 27586\\n     14306 27586\\n     14307 27248\\n     14308 27249\\n     14309 27249\\n     14310 27250\\n     14311 27250\\n     14312 27587\\n     14313 27587\\n     14314 27587\\n     14315 27587\\n     14316 27596\\n     14317 27368\\n     14318 27368\\n     14319 27479\\n     14320 27479\\n     14321 27480\\n     14322 27516\\n     14323 27516\\n     14324 27517\\n     14325 27517\\n     14326 27637\\n     14327 27637\\n     14328 27637\\n     14329 27637\\n     14330 27638\\n     14331 27638\\n     14332 27638\\n     14333 27658\\n     14334 27660\\n     14335 27535\\n     14336 27536\\n     14337 27661\\n     14338 27662\\n     14339 27663\\n     14340 27664\\n     14341 27675\\n     14342 27551\\n     14343 27551\\n     14344 27439\\n     14345 27552\\n     14346 27552\\n     14347 27676\\n     14348 27791\\n     14349 27445\\n     14350 27445\\n     14351 27557\\n     14352 27557\\n     14353 27686\\n     14354 27686\\n     14355 27687\\n     14356 27688\\n     14357 27689\\n     14358 27690\\n     14359 27690\\n     14360 27691\\n     14361 27702\\n     14362 27702\\n     14363 27703\\n     14364 27711\\n     14365 27711\\n     14366 27711\\n     14367 27248\\n     14368 28022\\n     14369 28022\\n     14370 28022\\n     14371 28023\\n     14372 28024\\n     14373 27587\\n     14374 27587\\n     14375 27587\\n     14376 27718\\n     14377 27718\\n     14378 27718\\n     14379 27718\\n     14380 27719\\n     14381 27719\\n     14382 27719\\n     14383 27719\\n     14384 27729\\n     14385 27596\\n     14386 27596\\n     14387 27479\\n     14388 27479\\n     14389 27479\\n     14390 27761\\n     14391 27761\\n     14392 27517\\n     14393 27762\\n     14394 27762\\n     14395 27762\\n     14396 27762\\n     14397 27862\\n     14398 27763\\n     14399 27763\\n     14400 27763\\n     14401 27774\\n     14402 27775\\n     14403 27775\\n     14404 27776\\n     14405 27777\\n     14406 27777\\n     14407 27664\\n     14408 27779\\n     14409 27785\\n     14410 27785\\n     14411 27886\\n     14412 27786\\n     14413 27786\\n     14414 27791\\n     14415 27791\\n     14416 27791\\n     14417 27557\\n     14418 27792\\n     14419 27792\\n     14420 27792\\n     14421 27799\\n     14422 27687\\n     14423 27689\\n     14424 27801\\n     14425 27801\\n     14426 27809\\n     14427 27814\\n     14428 27814\\n     14429 27814\\n     14430 28166\\n     14431 28022\\n     14432 28022\\n     14433 28022\\n     14434 28023\\n     14435 28024\\n     14436 28025\\n     14437 27815\\n     14438 27815\\n     14439 27823\\n     14440 27823\\n     14441 28037\\n     14442 28178\\n     14443 27824\\n     14444 27824\\n     14445 27824\\n     14446 27832\\n     14447 27729\\n     14448 27729\\n     14449 27596\\n     14450 27596\\n     14451 27479\\n     14452 27479\\n     14453 27597\\n     14454 27860\\n     14455 27860\\n     14456 27861\\n     14457 27861\\n     14458 27861\\n     14459 27861\\n     14460 27862\\n     14461 27862\\n     14462 27862\\n     14463 27763\\n     14464 27763\\n     14465 27873\\n     14466 27874\\n     14467 27875\\n     14468 27776\\n     14469 27777\\n     14470 27876\\n     14471 27876\\n     14472 27778\\n     14473 27877\\n     14474 27877\\n     14475 27877\\n     14476 27885\\n     14477 27886\\n     14478 27893\\n     14479 27893\\n     14480 27893\\n     14481 27893\\n     14482 27792\\n     14483 27792\\n     14484 27792\\n     14485 27792\\n     14486 27793\\n     14487 27894\\n     14488 27897\\n     14489 27800\\n     14490 27801\\n     14491 27914\\n     14492 27914\\n     14493 28165\\n     14494 28166\\n     14495 28167\\n     14496 28022\\n     14497 28022\\n     14498 28023\\n     14499 28024\\n     14500 28025\\n     14501 28026\\n     14502 27915\\n     14503 27915\\n     14504 27818\\n     14505 27819\\n     14506 27923\\n     14507 28037\\n     14508 28037\\n     14509 28178\\n     14510 28178\\n     14511 27924\\n     14512 27924\\n     14513 27832\\n     14514 27832\\n     14515 27729\\n     14516 27729\\n     14517 28341\\n     14518 28341\\n     14519 28341\\n     14520 28342\\n     14521 27968\\n     14522 27968\\n     14523 27968\\n     14524 27861\\n     14525 27861\\n     14526 27861\\n     14527 27969\\n     14528 27969\\n     14529 27969\\n     14530 27970\\n     14531 27970\\n     14532 27983\\n     14533 27984\\n     14534 27875\\n     14535 28121\\n     14536 27985\\n     14537 27986\\n     14538 27986\\n     14539 28123\\n     14540 28123\\n     14541 27987\\n     14542 27987\\n     14543 27988\\n     14544 27998\\n     14545 28134\\n     14546 27893\\n     14547 27893\\n     14548 27893\\n     14549 27893\\n     14550 28411\\n     14551 27792\\n     14552 27792\\n     14553 27792\\n     14554 27894\\n     14555 27894\\n     14556 28001\\n     14557 28002\\n     14558 28003\\n     14559 28021\\n     14560 28164\\n     14561 28165\\n     14562 28166\\n     14563 28167\\n     14564 28022\\n     14565 28022\\n     14566 28023\\n     14567 28024\\n     14568 28030\\n     14569 28031\\n     14570 28031\\n     14571 28037\\n     14572 28037\\n     14573 28037\\n     14574 28178\\n     14575 28178\\n     14576 28179\\n     14577 28038\\n     14578 28050\\n     14579 28050\\n     14580 28050\\n     14581 28476\\n     14582 28341\\n     14583 28341\\n     14584 28341\\n     14585 28342\\n     14586 28097\\n     14587 28097\\n     14588 28097\\n     14589 27861\\n     14590 28098\\n     14591 28098\\n     14592 28098\\n     14593 28098\\n     14594 28098\\n     14595 28099\\n     14596 28099\\n     14597 28120\\n     14598 27984\\n     14599 28121\\n     14600 28121\\n     14601 28122\\n     14602 28122\\n     14603 27986\\n     14604 28123\\n     14605 28123\\n     14606 28124\\n     14607 28124\\n     14608 27988\\n     14609 27988\\n     14610 27997\\n     14611 28133\\n     14612 28134\\n     14613 28134\\n     14614 28279\\n     14615 28411\\n     14616 28411\\n     14617 28411\\n     14618 28412\\n     14619 28412\\n     14620 28412\\n     14621 28413\\n     14622 27894\\n     14623 28415\\n     14624 28139\\n     14625 28140\\n     14626 28163\\n     14627 28164\\n     14628 28165\\n     14629 28173\\n     14630 28031\\n     14631 28174\\n     14632 28174\\n     14633 28177\\n     14634 28177\\n     14635 28327\\n     14636 28178\\n     14637 28178\\n     14638 28179\\n     14639 28179\\n     14640 28199\\n     14641 28199\\n     14642 28475\\n     14643 28476\\n     14644 28476\\n     14645 28341\\n     14646 28341\\n     14647 28243\\n     14648 28243\\n     14649 28509\\n     14650 28509\\n     14651 28509\\n     14652 28244\\n     14653 28244\\n     14654 28244\\n     14655 28244\\n     14656 28514\\n     14657 28245\\n     14658 28245\\n     14659 28267\\n     14660 28268\\n     14661 28268\\n     14662 28269\\n     14663 28270\\n     14664 28270\\n     14665 28122\\n     14666 28399\\n     14667 28399\\n     14668 28271\\n     14669 28124\\n     14670 27988\\n     14671 27988\\n     14672 27988\\n     14673 27878\\n     14674 27997\\n     14675 28133\\n     14676 28133\\n     14677 28278\\n     14678 28279\\n     14679 28279\\n     14680 28411\\n     14681 28411\\n     14682 28554\\n     14683 28555\\n     14684 28412\\n     14685 28288\\n     14686 28448\\n     14687 28449\\n     14688 28450\\n     14689 28451\\n     14690 28327\\n     14691 28327\\n     14692 28458\\n     14693 28178\\n     14694 28328\\n     14695 28329\\n     14696 28330\\n     14697 28181\\n     14698 28182\\n     14699 28183\\n     14700 28184\\n     14701 28185\\n     14702 28186\\n     14703 28340\\n     14704 28475\\n     14705 28608\\n     14706 28608\\n     14707 28476\\n     14708 28476\\n     14709 28341\\n     14710 28372\\n     14711 28640\\n     14712 28641\\n     14713 28509\\n     14714 28509\\n     14715 28510\\n     14716 28373\\n     14717 28373\\n     14718 28513\\n     14719 28514\\n     14720 28515\\n     14721 28374\\n     14722 28392\\n     14723 28392\\n     14724 28393\\n     14725 28394\\n     14726 28395\\n     14727 28397\\n     14728 28398\\n     14729 28270\\n     14730 28270\\n     14731 28399\\n     14732 28399\\n     14733 28399\\n     14734 28400\\n     14735 28400\\n     14736 28400\\n     14737 28124\\n     14738 27988\\n     14739 27988\\n     14740 28871\\n     14741 28872\\n     14742 28873\\n     14743 27996\\n     14744 28133\\n     14745 28133\\n     14746 28278\\n     14747 28278\\n     14748 28409\\n     14749 28410\\n     14750 28411\\n     14751 28411\\n     14752 28554\\n     14753 28555\\n     14754 28437\\n     14755 28438\\n     14756 28441\\n     14757 28448\\n     14758 28449\\n     14759 28450\\n     14760 28451\\n     14761 28457\\n     14762 28458\\n     14763 28459\\n     14764 28460\\n     14765 28461\\n     14766 28462\\n     14767 28462\\n     14768 28182\\n     14769 28183\\n     14770 28184\\n     14771 28463\\n     14772 28463\\n     14773 28475\\n     14774 28475\\n     14775 28608\\n     14776 28608\\n     14777 28609\\n     14778 28476\\n     14779 28641\\n     14780 28642\\n     14781 28509\\n     14782 28510\\n     14783 28511\\n     14784 28512\\n     14785 28513\\n     14786 28514\\n     14787 28515\\n     14788 28516\\n     14789 28522\\n     14790 28522\\n     14791 28523\\n     14792 28535\\n     14793 28392\\n     14794 28393\\n     14795 28536\\n     14796 28537\\n     14797 28538\\n     14798 28539\\n     14799 28540\\n     14800 28662\\n     14801 28663\\n     14802 28663\\n     14803 28664\\n     14804 28541\\n     14805 28400\\n     14806 28400\\n     14807 28771\\n     14808 28771\\n     14809 28771\\n     14810 28870\\n     14811 28871\\n     14812 28872\\n     14813 28873\\n     14814 28781\\n     14815 28781\\n     14816 28781\\n     14817 28278\\n     14818 28278\\n     14819 28409\\n     14820 28409\\n     14821 28677\\n     14822 28552\\n     14823 28555\\n     14824 28586\\n     14825 28586\\n     14826 28587\\n     14827 28441\\n     14828 28442\\n     14829 28443\\n     14830 28445\\n     14831 28446\\n     14832 28447\\n     14833 28448\\n     14834 28449\\n     14835 28450\\n     14836 28451\\n     14837 28452\\n     14838 28453\\n     14839 28454\\n     14840 28455\\n     14841 28456\\n     14842 28590\\n     14843 28591\\n     14844 28458\\n     14845 28459\\n     14846 28460\\n     14847 28461\\n     14848 28462\\n     14849 28462\\n     14850 28462\\n     14851 28183\\n     14852 28592\\n     14853 28592\\n     14854 28592\\n     14855 28607\\n     14856 28723\\n     14857 28608\\n     14858 28647\\n     14859 28648\\n     14860 28657\\n     14861 28658\\n     14862 28658\\n     14863 28658\\n     14864 28659\\n     14865 28662\\n     14866 28663\\n     14867 28663\\n     14868 28664\\n     14869 28665\\n     14870 28769\\n     14871 28770\\n     14872 28771\\n     14873 28771\\n     14874 28869\\n     14875 28870\\n     14876 28871\\n     14877 28872\\n     14878 28873\\n     14879 28781\\n     14880 28781\\n     14881 28881\\n     14882 28881\\n     14883 28409\\n     14884 28677\\n     14885 28677\\n     14886 28677\\n     14887 28686\\n     14888 28687\\n     14889 28586\\n     14890 28706\\n     14891 28441\\n     14892 28442\\n     14893 28708\\n     14894 28708\\n     14895 28446\\n     14896 28447\\n     14897 28448\\n     14898 28449\\n     14899 28450\\n     14900 28451\\n     14901 28452\\n     14902 28453\\n     14903 28454\\n     14904 28455\\n     14905 28590\\n     14906 28590\\n     14907 28709\\n     14908 28710\\n     14909 28814\\n     14910 28814\\n     14911 28461\\n     14912 28462\\n     14913 28462\\n     14914 28462\\n     14915 28711\\n     14916 28711\\n     14917 28711\\n     14918 28711\\n     14919 28722\\n     14920 28723\\n     14921 28755\\n     14922 28756\\n     14923 28758\\n     14924 28864\\n     14925 28764\\n     14926 28764\\n     14927 28771\\n     14928 28771\\n     14929 28869\\n     14930 28870\\n     14931 28871\\n     14932 28872\\n     14933 28873\\n     14934 28873\\n     14935 28781\\n     14936 28781\\n     14937 28881\\n     14938 28881\\n     14939 28881\\n     14940 28882\\n     14941 28882\\n     14942 28882\\n     14943 28790\\n     14944 28790\\n     14945 28791\\n     14946 28791\\n     14947 28806\\n     14948 28910\\n     14949 29028\\n     14950 29028\\n     14951 29152\\n     14952 28441\\n     14953 28811\\n     14954 28811\\n     14955 28811\\n     14956 28811\\n     14957 28447\\n     14958 28448\\n     14959 29030\\n     14960 29030\\n     14961 29030\\n     14962 29031\\n     14963 29032\\n     14964 29033\\n     14965 29033\\n     14966 28812\\n     14967 28812\\n     14968 28812\\n     14969 28814\\n     14970 28814\\n     14971 28919\\n     14972 29037\\n     14973 29038\\n     14974 29039\\n     14975 29040\\n     14976 29041\\n     14977 28815\\n     14978 28815\\n     14979 28755\\n     14980 28756\\n     14981 28757\\n     14982 28857\\n     14983 28858\\n     14984 28864\\n     14985 28864\\n     14986 28869\\n     14987 28870\\n     14988 28871\\n     14989 28872\\n     14990 28873\\n     14991 28873\\n     14992 28881\\n     14993 28881\\n     14994 28881\\n     14995 29110\\n     14996 28882\\n     14997 28882\\n     14998 28882\\n     14999 28790\\n     15000 28790\\n     15001 28791\\n     15002 28791\\n     15003 28893\\n     15004 28909\\n     15005 28910\\n     15006 28910\\n     15007 29028\\n     15008 29151\\n     15009 29152\\n     15010 29152\\n     15011 29152\\n     15012 29293\\n     15013 29293\\n     15014 28916\\n     15015 28916\\n     15016 28916\\n     15017 28916\\n     15018 28916\\n     15019 29154\\n     15020 29154\\n     15021 29154\\n     15022 29030\\n     15023 29030\\n     15024 29031\\n     15025 29032\\n     15026 29033\\n     15027 29033\\n     15028 29159\\n     15029 28812\\n     15030 28812\\n     15031 28917\\n     15032 28919\\n     15033 28919\\n     15034 29037\\n     15035 29038\\n     15036 29039\\n     15037 29040\\n     15038 29041\\n     15039 29042\\n     15040 28920\\n     15041 28964\\n     15042 28965\\n     15043 28965\\n     15044 29085\\n     15045 28857\\n     15046 28858\\n     15047 28972\\n     15048 28981\\n     15049 28989\\n     15050 29110\\n     15051 29110\\n     15052 28990\\n     15053 28990\\n     15054 28990\\n     15055 28991\\n     15056 29000\\n     15057 29000\\n     15058 29122\\n     15059 28893\\n     15060 28893\\n     15061 29001\\n     15062 28901\\n     15063 29020\\n     15064 29020\\n     15065 28909\\n     15066 29021\\n     15067 29028\\n     15068 29151\\n     15069 29152\\n     15070 29152\\n     15071 29292\\n     15072 29293\\n     15073 29293\\n     15074 29293\\n     15075 29029\\n     15076 29029\\n     15077 29029\\n     15078 29029\\n     15079 29295\\n     15080 29296\\n     15081 29154\\n     15082 29154\\n     15083 29155\\n     15084 29030\\n     15085 29031\\n     15086 29032\\n     15087 29033\\n     15088 29033\\n     15089 29159\\n     15090 29160\\n     15091 29161\\n     15092 28917\\n     15093 29034\\n     15094 29036\\n     15095 29037\\n     15096 29038\\n     15097 29040\\n     15098 29041\\n     15099 29042\\n     15100 29042\\n     15101 28921\\n     15102 29043\\n     15103 29085\\n     15104 29085\\n     15105 29208\\n     15106 29086\\n     15107 29110\\n     15108 29239\\n     15109 29239\\n     15110 28990\\n     15111 28990\\n     15112 28991\\n     15113 29111\\n     15114 29122\\n     15115 29122\\n     15116 29256\\n     15117 29001\\n     15118 29001\\n     15119 29123\\n     15120 29132\\n     15121 29133\\n     15122 29145\\n     15123 29145\\n     15124 29285\\n     15125 29286\\n     15126 29151\\n     15127 29152\\n     15128 29152\\n     15129 29292\\n     15130 29293\\n     15131 29293\\n     15132 29431\\n     15133 29432\\n     15134 29153\\n     15135 29153\\n     15136 29295\\n     15137 29296\\n     15138 29154\\n     15139 29161\\n     15140 29162\\n     15141 29165\\n     15142 29165\\n     15143 29038\\n     15144 29039\\n     15145 29040\\n     15146 29041\\n     15147 29042\\n     15148 29042\\n     15149 29043\\n     15150 29207\\n     15151 29208\\n     15152 29229\\n     15153 29230\\n     15154 29231\\n     15155 29239\\n     15156 29239\\n     15157 29388\\n     15158 29516\\n     15159 29389\\n     15160 29240\\n     15161 29240\\n     15162 29256\\n     15163 29256\\n     15164 29256\\n     15165 29123\\n     15166 29133\\n     15167 29269\\n     15168 29285\\n     15169 29286\\n     15170 29292\\n     15171 29293\\n     15172 29293\\n     15173 29431\\n     15174 29432\\n     15175 29432\\n     15176 29294\\n     15177 29297\\n     15178 29300\\n     15179 29382\\n     15180 29230\\n     15181 29231\\n     15182 29234\\n     15183 29235\\n     15184 29384\\n     15185 29385\\n     15186 29386\\n     15187 29388\\n     15188 29516\\n     15189 29389\\n     15190 29389\\n     15191 29402\\n     15192 29402\\n     15193 29402\\n     15194 29257\\n     15195 29257\\n     15196 29431\\n     15197 29432\\n     15198 29432\\n     15199 29555\\n     15200 29433\\n     15201 29436\\n     15202 29436\\n     15203 29437\\n     15204 29512\\n     15205 29512\\n     15206 29632\\n     15207 29633\\n     15208 29513\\n     15209 29513\\n     15210 29384\\n     15211 29384\\n     15212 29385\\n     15213 29386\\n     15214 29387\\n     15215 29514\\n     15216 29516\\n     15217 29526\\n     15218 29526\\n     15219 29402\\n     15220 29402\\n     15221 29257\\n     15222 29527\\n     15223 29527\\n     15224 29555\\n     15225 29556\\n     15226 29557\\n     15227 29557\\n     15228 29436\\n     15229 29558\\n     15230 29558\\n     15231 29630\\n     15232 29631\\n     15233 29632\\n     15234 29634\\n     15235 29513\\n     15236 29513\\n     15237 29384\\n     15238 29385\\n     15239 29386\\n     15240 29514\\n     15241 29635\\n     15242 29635\\n     15243 29636\\n     15244 29637\\n     15245 29645\\n     15246 29526\\n     15247 29526\\n     15248 29526\\n     15249 29886\\n     15250 29886\\n     15251 29646\\n     15252 29646\\n     15253 29677\\n     15254 29555\\n     15255 29556\\n     15256 29557\\n     15257 29557\\n     15258 29436\\n     15259 29678\\n     15260 29678\\n     15261 29760\\n     15262 29631\\n     15263 29632\\n     15264 29761\\n     15265 29762\\n     15266 29762\\n     15267 29762\\n     15268 29513\\n     15269 29384\\n     15270 29385\\n     15271 29514\\n     15272 29635\\n     15273 29635\\n     15274 29635\\n     15275 29636\\n     15276 29637\\n     15277 29763\\n     15278 29764\\n     15279 29771\\n     15280 29885\\n     15281 30005\\n     15282 29886\\n     15283 29886\\n     15284 29887\\n     15285 29772\\n     15286 29798\\n     15287 29798\\n     15288 29798\\n     15289 29557\\n     15290 29557\\n     15291 29799\\n     15292 29799\\n     15293 29799\\n     15294 29875\\n     15295 29997\\n     15296 29761\\n     15297 29762\\n     15298 29762\\n     15299 29762\\n     15300 29762\\n     15301 29384\\n     15302 29385\\n     15303 29635\\n     15304 29635\\n     15305 29635\\n     15306 29635\\n     15307 29636\\n     15308 29763\\n     15309 29763\\n     15310 29764\\n     15311 29876\\n     15312 29881\\n     15313 29882\\n     15314 29885\\n     15315 29885\\n     15316 30005\\n     15317 29886\\n     15318 29886\\n     15319 29887\\n     15320 29925\\n     15321 29925\\n     15322 29925\\n     15323 30181\\n     15324 30181\\n     15325 30182\\n     15326 29926\\n     15327 29997\\n     15328 29997\\n     15329 30130\\n     15330 29762\\n     15331 29762\\n     15332 30396\\n     15333 30396\\n     15334 30537\\n     15335 29635\\n     15336 29635\\n     15337 29635\\n     15338 29635\\n     15339 29763\\n     15340 29763\\n     15341 29763\\n     15342 29876\\n     15343 29876\\n     15344 29998\\n     15345 29879\\n     15346 29880\\n     15347 29881\\n     15348 29882\\n     15349 30001\\n     15350 30004\\n     15351 30009\\n     15352 29889\\n     15353 30029\\n     15354 30037\\n     15355 29925\\n     15356 29925\\n     15357 30181\\n     15358 30181\\n     15359 30181\\n     15360 30182\\n     15361 30183\\n     15362 30130\\n     15363 30130\\n     15364 30271\\n     15365 30396\\n     15366 30396\\n     15367 30396\\n     15368 30537\\n     15369 30537\\n     15370 30538\\n     15371 30538\\n     15372 30538\\n     15373 30538\\n     15374 29763\\n     15375 29876\\n     15376 29876\\n     15377 29998\\n     15378 29998\\n     15379 30131\\n     15380 30000\\n     15381 30000\\n     15382 29880\\n     15383 30135\\n     15384 30135\\n     15385 30135\\n     15386 30141\\n     15387 30158\\n     15388 30028\\n     15389 30029\\n     15390 30164\\n     15391 30164\\n     15392 30164\\n     15393 30165\\n     15394 30165\\n     15395 30035\\n     15396 30036\\n     15397 30166\\n     15398 30180\\n     15399 30180\\n     15400 30181\\n     15401 30181\\n     15402 30181\\n     15403 30182\\n     15404 30183\\n     15405 30271\\n     15406 30271\\n     15407 30396\\n     15408 30396\\n     15409 30537\\n     15410 30537\\n     15411 30537\\n     15412 30538\\n     15413 30538\\n     15414 30538\\n     15415 30538\\n     15416 30689\\n     15417 30690\\n     15418 29998\\n     15419 29998\\n     15420 30131\\n     15421 30131\\n     15422 30132\\n     15423 30272\\n     15424 30272\\n     15425 30134\\n     15426 30000\\n     15427 30000\\n     15428 30135\\n     15429 30135\\n     15430 30135\\n     15431 30274\\n     15432 30274\\n     15433 30275\\n     15434 30287\\n     15435 30157\\n     15436 30158\\n     15437 30158\\n     15438 30415\\n     15439 30288\\n     15440 30293\\n     15441 30422\\n     15442 30294\\n     15443 30294\\n     15444 30294\\n     15445 30295\\n     15446 30295\\n     15447 30296\\n     15448 30168\\n     15449 30308\\n     15450 30441\\n     15451 30442\\n     15452 30443\\n     15453 30395\\n     15454 30396\\n     15455 30396\\n     15456 30537\\n     15457 30537\\n     15458 30537\\n     15459 30538\\n     15460 30538\\n     15461 30538\\n     15462 30688\\n     15463 30689\\n     15464 30690\\n     15465 30690\\n     15466 30691\\n     15467 30539\\n     15468 30539\\n     15469 30398\\n     15470 30398\\n     15471 30398\\n     15472 30134\\n     15473 30135\\n     15474 30135\\n     15475 30399\\n     15476 30399\\n     15477 30399\\n     15478 30402\\n     15479 30402\\n     15480 30275\\n     15481 30403\\n     15482 30413\\n     15483 30414\\n     15484 30414\\n     15485 30287\\n     15486 30287\\n     15487 30560\\n     15488 30415\\n     15489 30415\\n     15490 30416\\n     15491 30422\\n     15492 30422\\n     15493 30423\\n     15494 30423\\n     15495 30423\\n     15496 30424\\n     15497 30424\\n     15498 30425\\n     15499 30426\\n     15500 30440\\n     15501 30441\\n     15502 30442\\n     15503 30443\\n     15504 30525\\n     15505 30537\\n     15506 30537\\n     15507 30684\\n     15508 30538\\n     15509 30538\\n     15510 30688\\n     15511 30689\\n     15512 30690\\n     15513 30690\\n     15514 30691\\n     15515 30692\\n     15516 30539\\n     15517 30540\\n     15518 30540\\n     15519 30398\\n     15520 30398\\n     15521 30398\\n     15522 30933\\n     15523 30813\\n     15524 30813\\n     15525 30399\\n     15526 30399\\n     15527 30402\\n     15528 30402\\n     15529 30403\\n     15530 30403\\n     15531 30543\\n     15532 30559\\n     15533 30559\\n     15534 30414\\n     15535 30414\\n     15536 30287\\n     15537 30707\\n     15538 30560\\n     15539 30560\\n     15540 30568\\n     15541 30568\\n     15542 30716\\n     15543 30569\\n     15544 30569\\n     15545 30570\\n     15546 30570\\n     15547 30571\\n     15548 30572\\n     15549 30672\\n     15550 30672\\n     15551 30525\\n     15552 30526\\n     15553 30684\\n     15554 30684\\n     15555 30685\\n     15556 30686\\n     15557 30687\\n     15558 30688\\n     15559 30689\\n     15560 30690\\n     15561 30690\\n     15562 30691\\n     15563 30692\\n     15564 30539\\n     15565 30540\\n     15566 30540\\n     15567 30540\\n     15568 30398\\n     15569 30933\\n     15570 30933\\n     15571 30933\\n     15572 30813\\n     15573 30813\\n     15574 30693\\n     15575 30694\\n     15576 30695\\n     15577 30695\\n     15578 30403\\n     15579 30543\\n     15580 30543\\n     15581 30706\\n     15582 30706\\n     15583 30829\\n     15584 30830\\n     15585 30707\\n     15586 30707\\n     15587 30713\\n     15588 30714\\n     15589 30716\\n     15590 30717\\n     15591 30717\\n     15592 30718\\n     15593 30718\\n     15594 30571\\n     15595 30719\\n     15596 30797\\n     15597 30670\\n     15598 30798\\n     15599 30798\\n     15600 30672\\n     15601 30672\\n     15602 30525\\n     15603 30526\\n     15604 30526\\n     15605 30673\\n     15606 30807\\n     15607 30686\\n     15608 30687\\n     15609 30809\\n     15610 30689\\n     15611 30810\\n     15612 30811\\n     15613 30812\\n     15614 30812\\n     15615 30692\\n     15616 30540\\n     15617 30540\\n     15618 30540\\n     15619 30933\\n     15620 30933\\n     15621 30933\\n     15622 30933\\n     15623 30934\\n     15624 30813\\n     15625 30817\\n     15626 30817\\n     15627 30817\\n     15628 30818\\n     15629 30818\\n     15630 30818\\n     15631 30829\\n     15632 30830\\n     15633 30831\\n     15634 30837\\n     15635 30837\\n     15636 30714\\n     15637 30838\\n     15638 30838\\n     15639 30839\\n     15640 30840\\n     15641 30840\\n     15642 30842\\n     15643 30843\\n     15644 30922\\n     15645 30798\\n     15646 30798\\n     15647 30798\\n     15648 30798\\n     15649 30672\\n     15650 30672\\n     15651 30923\\n     15652 30923\\n     15653 30923\\n     15654 30923\\n     15655 30931\\n     15656 30931\\n     15657 30809\\n     15658 30932\\n     15659 30932\\n     15660 30932\\n     15661 30812\\n     15662 30812\\n     15663 30812\\n     15664 30692\\n     15665 30540\\n     15666 30540\\n     15667 30933\\n     15668 30933\\n     15669 30933\\n     15670 30933\\n     15671 30934\\n     15672 30937\\n     15673 30937\\n     15674 30937\\n     15675 30938\\n     15676 30938\\n     15677 30938\\n     15678 30837\\n     15679 30837\\n     15680 30714\\n     15681 30838\\n     15682 30838\\n     15683 30952\\n     15684 30953\\n     15685 30954\\n     15686 30955\\n     15687 30842\\n     15688 30843\\n     15689 30844\\n     15690 30959\\n     15691 31022\\n     15692 31022\\n     15693 30798\\n     15694 30798\\n     15695 30798\\n     15696 30798\\n     15697 31023\\n     15698 31023\\n     15699 31023\\n     15700 31023\\n     15701 31023\\n     15702 31032\\n     15703 31032\\n     15704 31033\\n     15705 31034\\n     15706 31034\\n     15707 31257\\n     15708 31258\\n     15709 31258\\n     15710 31258\\n     15711 31258\\n     15712 30933\\n     15713 30933\\n     15714 30933\\n     15715 30933\\n     15716 30933\\n     15717 30934\\n     15718 31037\\n     15719 31037\\n     15720 31037\\n     15721 31145\\n     15722 31145\\n     15723 31049\\n     15724 31049\\n     15725 31049\\n     15726 31158\\n     15727 31050\\n     15728 31050\\n     15729 30953\\n     15730 30954\\n     15731 30955\\n     15732 30955\\n     15733 30843\\n     15734 31052\\n     15735 31054\\n     15736 30959\\n     15737 31055\\n     15738 31055\\n     15739 31056\\n     15740 31127\\n     15741 31127\\n     15742 31127\\n     15743 31127\\n     15744 30798\\n     15745 30798\\n     15746 30798\\n     15747 31364\\n     15748 31364\\n     15749 31128\\n     15750 31128\\n     15751 31128\\n     15752 31138\\n     15753 31139\\n     15754 31139\\n     15755 31256\\n     15756 31257\\n     15757 31258\\n     15758 31258\\n     15759 31258\\n     15760 31378\\n     15761 31378\\n     15762 30933\\n     15763 30933\\n     15764 30933\\n     15765 30933\\n     15766 31140\\n     15767 31140\\n     15768 31144\\n     15769 31144\\n     15770 31264\\n     15771 31145\\n     15772 31145\\n     15773 31157\\n     15774 31049\\n     15775 31049\\n     15776 31282\\n     15777 31158\\n     15778 31158\\n     15779 31051\\n     15780 31051\\n     15781 30954\\n     15782 30955\\n     15783 30955\\n     15784 31160\\n     15785 31160\\n     15786 31160\\n     15787 31162\\n     15788 31055\\n     15789 31056\\n     15790 31163\\n     15791 31163\\n     15792 31164\\n     15793 31241\\n     15794 31241\\n     15795 31241\\n     15796 31469\\n     15797 31578\\n     15798 31578\\n     15799 31705\\n     15800 31364\\n     15801 31364\\n     15802 31364\\n     15803 31242\\n     15804 31254\\n     15805 31256\\n     15806 31257\\n     15807 31258\\n     15808 31258\\n     15809 31378\\n     15810 31378\\n     15811 31485\\n     15812 31593\\n     15813 31593\\n     15814 31259\\n     15815 31259\\n     15816 31259\\n     15817 31259\\n     15818 31265\\n     15819 31281\\n     15820 31281\\n     15821 31157\\n     15822 31282\\n     15823 31282\\n     15824 31282\\n     15825 31159\\n     15826 31159\\n     15827 31508\\n     15828 31509\\n     15829 31510\\n     15830 31511\\n     15831 31511\\n     15832 31160\\n     15833 31160\\n     15834 31284\\n     15835 31286\\n     15836 31286\\n     15837 31401\\n     15838 31056\\n     15839 31163\\n     15840 31163\\n     15841 31164\\n     15842 31287\\n     15843 31287\\n     15844 31288\\n     15845 31363\\n     15846 31469\\n     15847 31469\\n     15848 31578\\n     15849 31578\\n     15850 31578\\n     15851 31705\\n     15852 31364\\n     15853 31364\\n     15854 31364\\n     15855 31364\\n     15856 31254\\n     15857 31255\\n     15858 31256\\n     15859 31378\\n     15860 31378\\n     15861 31485\\n     15862 31593\\n     15863 31593\\n     15864 31593\\n     15865 31259\\n     15866 31259\\n     15867 31259\\n     15868 31259\\n     15869 31394\\n     15870 31394\\n     15871 31281\\n     15872 31612\\n     15873 31503\\n     15874 31395\\n     15875 31397\\n     15876 31397\\n     15877 31508\\n     15878 31509\\n     15879 31510\\n     15880 31511\\n     15881 31511\\n     15882 31398\\n     15883 31398\\n     15884 31401\\n     15885 31401\\n     15886 31515\\n     15887 31163\\n     15888 31164\\n     15889 31287\\n     15890 31287\\n     15891 31288\\n     15892 31289\\n     15893 31402\\n     15894 31298\\n     15895 31416\\n     15896 31469\\n     15897 31469\\n     15898 31578\\n     15899 31578\\n     15900 31704\\n     15901 31705\\n     15902 31705\\n     15903 31470\\n     15904 31470\\n     15905 31470\\n     15906 31482\\n     15907 31485\\n     15908 31485\\n     15909 31593\\n     15910 31593\\n     15911 31722\\n     15912 31722\\n     15913 31259\\n     15914 31486\\n     15915 31486\\n     15916 31486\\n     15917 31502\\n     15918 31502\\n     15919 31612\\n     15920 31503\\n     15921 31503\\n     15922 31506\\n     15923 31507\\n     15924 31508\\n     15925 31509\\n     15926 31510\\n     15927 31511\\n     15928 31511\\n     15929 31515\\n     15930 31515\\n     15931 31750\\n     15932 31751\\n     15933 31287\\n     15934 31287\\n     15935 31288\\n     15936 31516\\n     15937 31516\\n     15938 31521\\n     15939 31623\\n     15940 31624\\n     15941 31522\\n     15942 31522\\n     15943 31523\\n     15944 31578\\n     15945 31578\\n     15946 31704\\n     15947 31705\\n     15948 31705\\n     15949 31819\\n     15950 31579\\n     15951 31371\\n     15952 31584\\n     15953 31585\\n     15954 31593\\n     15955 31722\\n     15956 31722\\n     15957 31832\\n     15958 31832\\n     15959 31486\\n     15960 31486\\n     15961 31486\\n     15962 31612\\n     15963 31739\\n     15964 31749\\n     15965 31750\\n     15966 31751\\n     15967 31751\\n     15968 31864\\n     15969 31752\\n     15970 31752\\n     15971 31624\\n     15972 31625\\n     15973 31522\\n     15974 31523\\n     15975 31524\\n     15976 31626\\n     15977 31627\\n     15978 31668\\n     15979 31669\\n     15980 31670\\n     15981 31704\\n     15982 31705\\n     15983 31705\\n     15984 31819\\n     15985 31820\\n     15986 31713\\n     15987 31713\\n     15988 31713\\n     15989 31713\\n     15990 31714\\n     15991 31722\\n     15992 31722\\n     15993 31832\\n     15994 31832\\n     15995 31949\\n     15996 31723\\n     15997 31723\\n     15998 31723\\n     15999 31739\\n     16000 31751\\n     16001 31751\\n     16002 31864\\n     16003 31865\\n     16004 31752\\n     16005 31752\\n     16006 31758\\n     16007 31873\\n     16008 31788\\n     16009 31789\\n     16010 31790\\n     16011 31790\\n     16012 31667\\n     16013 31668\\n     16014 31669\\n     16015 31670\\n     16016 31671\\n     16017 31819\\n     16018 31820\\n     16019 31713\\n     16020 31713\\n     16021 31713\\n     16022 31826\\n     16023 31832\\n     16024 31832\\n     16025 31949\\n     16026 31949\\n     16027 31833\\n     16028 31833\\n     16029 31843\\n     16030 31865\\n     16031 31866\\n     16032 31901\\n     16033 31901\\n     16034 31788\\n     16035 31789\\n     16036 31790\\n     16037 31790\\n     16038 31667\\n     16039 31668\\n     16040 31669\\n     16041 31670\\n     16042 31671\\n     16043 31939\\n     16044 32161\\n     16045 32057\\n     16046 32057\\n     16047 32057\\n     16048 31948\\n     16049 31949\\n     16050 31949\\n     16051 31950\\n     16052 31958\\n     16053 31959\\n     16054 31960\\n     16055 31894\\n     16056 32011\\n     16057 32012\\n     16058 32017\\n     16059 31788\\n     16060 31790\\n     16061 31668\\n     16062 31669\\n     16063 31670\\n     16064 31791\\n     16065 32045\\n     16066 32046\\n     16067 32048\\n     16068 32049\\n     16069 32161\\n     16070 32161\\n     16071 32057\\n     16072 32057\\n     16073 32057\\n     16074 32067\\n     16075 32068\\n     16076 31956\\n     16077 32075\\n     16078 31959\\n     16079 31960\\n     16080 31961\\n     16081 32076\\n     16082 32123\\n     16083 32123\\n     16084 32011\\n     16085 32012\\n     16086 32013\\n     16087 32124\\n     16088 32125\\n     16089 32458\\n     16090 32460\\n     16091 32234\\n     16092 32153\\n     16093 32153\\n     16094 32046\\n     16095 32047\\n     16096 32154\\n     16097 32161\\n     16098 32161\\n     16099 32162\\n     16100 32162\\n     16101 32162\\n     16102 32175\\n     16103 32176\\n     16104 32181\\n     16105 32181\\n     16106 32181\\n     16107 32182\\n     16108 32182\\n     16109 31960\\n     16110 32076\\n     16111 32076\\n     16112 32077\\n     16113 32183\\n     16114 32123\\n     16115 32123\\n     16116 32011\\n     16117 32012\\n     16118 32124\\n     16119 32124\\n     16120 32125\\n     16121 32126\\n     16122 32227\\n     16123 32228\\n     16124 32337\\n     16125 32153\\n     16126 32153\\n     16127 32379\\n     16128 32379\\n     16129 32266\\n     16130 32267\\n     16131 32269\\n     16132 32269\\n     16133 32384\\n     16134 32270\\n     16135 32281\\n     16136 32289\\n     16137 32289\\n     16138 32289\\n     16139 32290\\n     16140 32290\\n     16141 32290\\n     16142 32290\\n     16143 32076\\n     16144 32076\\n     16145 32076\\n     16146 32291\\n     16147 32291\\n     16148 32318\\n     16149 32318\\n     16150 32326\\n     16151 32326\\n     16152 32445\\n     16153 32445\\n     16154 32446\\n     16155 32447\\n     16156 32448\\n     16157 32449\\n     16158 32327\\n     16159 32328\\n     16160 32329\\n     16161 32376\\n     16162 32376\\n     16163 32377\\n     16164 32378\\n     16165 32503\\n     16166 32504\\n     16167 32505\\n     16168 32379\\n     16169 32380\\n     16170 32382\\n     16171 32382\\n     16172 32383\\n     16173 32383\\n     16174 32384\\n     16175 32384\\n     16176 32385\\n     16177 32385\\n     16178 32398\\n     16179 32289\\n     16180 32289\\n     16181 32399\\n     16182 32399\\n     16183 32399\\n     16184 32399\\n     16185 32750\\n     16186 32400\\n     16187 32400\\n     16188 32400\\n     16189 32400\\n     16190 32318\\n     16191 32318\\n     16192 32319\\n     16193 32319\\n     16194 32444\\n     16195 32444\\n     16196 32573\\n     16197 32445\\n     16198 32445\\n     16199 32446\\n     16200 32447\\n     16201 32329\\n     16202 32330\\n     16203 32331\\n     16204 32332\\n     16205 32454\\n     16206 32376\\n     16207 32376\\n     16208 32377\\n     16209 32502\\n     16210 32503\\n     16211 32504\\n     16212 32506\\n     16213 32507\\n     16214 32507\\n     16215 32382\\n     16216 32630\\n     16217 32510\\n     16218 32637\\n     16219 32638\\n     16220 32511\\n     16221 32511\\n     16222 32385\\n     16223 32640\\n     16224 32640\\n     16225 32522\\n     16226 32522\\n     16227 32523\\n     16228 32524\\n     16229 32527\\n     16230 32527\\n     16231 32745\\n     16232 32745\\n     16233 32528\\n     16234 32528\\n     16235 32528\\n     16236 32749\\n     16237 32750\\n     16238 32750\\n     16239 32529\\n     16240 32529\\n     16241 32563\\n     16242 32563\\n     16243 32563\\n     16244 32319\\n     16245 32319\\n     16246 32430\\n     16247 32430\\n     16248 32578\\n     16249 32450\\n     16250 32329\\n     16251 32330\\n     16252 32331\\n     16253 32451\\n     16254 32451\\n     16255 32452\\n     16256 32625\\n     16257 32625\\n     16258 32502\\n     16259 32502\\n     16260 32503\\n     16261 32504\\n     16262 32626\\n     16263 32627\\n     16264 32629\\n     16265 32629\\n     16266 32629\\n     16267 32630\\n     16268 32630\\n     16269 32630\\n     16270 32631\\n     16271 32632\\n     16272 32637\\n     16273 32638\\n     16274 32639\\n     16275 32639\\n     16276 32725\\n     16277 32725\\n     16278 32640\\n     16279 32650\\n     16280 32651\\n     16281 32652\\n     16282 32522\\n     16283 32523\\n     16284 32524\\n     16285 32525\\n     16286 32653\\n     16287 32657\\n     16288 32744\\n     16289 32745\\n     16290 32745\\n     16291 32746\\n     16292 32746\\n     16293 32658\\n     16294 32749\\n     16295 32750\\n     16296 32750\\n     16297 32751\\n     16298 32751\\n     16299 32683\\n     16300 32683\\n     16301 32683\\n     16302 32683\\n     16303 32430\\n     16304 32772\\n     16305 32772\\n     16306 32772\\n     16307 32691\\n     16308 32691\\n     16309 32450\\n     16310 32873\\n     16311 32873\\n     16312 32788\\n     16313 32788\\n     16314 32986\\n     16315 32986\\n     16316 32986\\n     16317 32721\\n     16318 32721\\n     16319 32818\\n     16320 32819\\n     16321 32819\\n     16322 32503\\n     16323 32626\\n     16324 32626\\n     16325 32723\\n     16326 32723\\n     16327 32629\\n     16328 32629\\n     16329 32724\\n     16330 32724\\n     16331 32724\\n     16332 32724\\n     16333 32632\\n     16334 32633\\n     16335 32634\\n     16336 32635\\n     16337 32636\\n     16338 32637\\n     16339 32638\\n     16340 32639\\n     16341 32823\\n     16342 32824\\n     16343 32725\\n     16344 32650\\n     16345 32651\\n     16346 32738\\n     16347 32738\\n     16348 32738\\n     16349 32523\\n     16350 32524\\n     16351 32653\\n     16352 32745\\n     16353 32745\\n     16354 32843\\n     16355 32746\\n     16356 32747\\n     16357 32748\\n     16358 32749\\n     16359 32750\\n     16360 32750\\n     16361 32848\\n     16362 32751\\n     16363 32683\\n     16364 32683\\n     16365 32683\\n     16366 32683\\n     16367 32772\\n     16368 32772\\n     16369 32772\\n     16370 32772\\n     16371 32691\\n     16372 32691\\n     16373 32691\\n     16374 32968\\n     16375 32968\\n     16376 32873\\n     16377 32873\\n     16378 33181\\n     16379 33079\\n     16380 32986\\n     16381 32986\\n     16382 32986\\n     16383 32819\\n     16384 32819\\n     16385 32913\\n     16386 32914\\n     16387 32820\\n     16388 32821\\n     16389 32723\\n     16390 32723\\n     16391 32917\\n     16392 32917\\n     16393 32917\\n     16394 32822\\n     16395 32822\\n     16396 32822\\n     16397 32633\\n     16398 32634\\n     16399 32635\\n     16400 32636\\n     16401 32637\\n     16402 32919\\n     16403 32919\\n     16404 32823\\n     16405 32836\\n     16406 32836\\n     16407 32738\\n     16408 32738\\n     16409 32738\\n     16410 32738\\n     16411 32931\\n     16412 32931\\n     16413 32931\\n     16414 32844\\n     16415 32845\\n     16416 32845\\n     16417 32749\\n     16418 32846\\n     16419 32847\\n     16420 32848\\n     16421 32864\\n     16422 32864\\n     16423 32864\\n     16424 32683\\n     16425 32683\\n     16426 32865\\n     16427 32865\\n     16428 32865\\n     16429 32865\\n     16430 32872\\n     16431 32787\\n     16432 32691\\n     16433 32691\\n     16434 32968\\n     16435 32968\\n     16436 32968\\n     16437 32873\\n     16438 33294\\n     16439 33294\\n     16440 33181\\n     16441 33181\\n     16442 33079\\n     16443 32986\\n     16444 32986\\n     16445 32986\\n     16446 32914\\n     16447 32915\\n     16448 32916\\n     16449 32916\\n     16450 32916\\n     16451 32723\\n     16452 32917\\n     16453 32917\\n     16454 32917\\n     16455 32918\\n     16456 32918\\n     16457 32918\\n     16458 32633\\n     16459 32634\\n     16460 33105\\n     16461 33007\\n     16462 33007\\n     16463 33007\\n     16464 32919\\n     16465 32836\\n     16466 32836\\n     16467 32836\\n     16468 32738\\n     16469 32738\\n     16470 32738\\n     16471 32931\\n     16472 32931\\n     16473 32937\\n     16474 32846\\n     16475 32846\\n     16476 32847\\n     16477 32848\\n     16478 32864\\n     16479 32864\\n     16480 32864\\n     16481 32864\\n     16482 33154\\n     16483 33154\\n     16484 32957\\n     16485 32957\\n     16486 32967\\n     16487 32872\\n     16488 32872\\n     16489 32787\\n     16490 33165\\n     16491 32968\\n     16492 32968\\n     16493 32968\\n     16494 33078\\n     16495 33078\\n     16496 33294\\n     16497 33294\\n     16498 33294\\n     16499 33294\\n     16500 33181\\n     16501 33181\\n     16502 33079\\n     16503 32986\\n     16504 32986\\n     16505 33005\\n     16506 33102\\n     16507 33210\\n     16508 33210\\n     16509 33103\\n     16510 33103\\n     16511 33006\\n     16512 33006\\n     16513 32918\\n     16514 32918\\n     16515 33325\\n     16516 33212\\n     16517 33105\\n     16518 33105\\n     16519 33007\\n     16520 33007\\n     16521 33019\\n     16522 33019\\n     16523 33019\\n     16524 33227\\n     16525 32738\\n     16526 32931\\n     16527 32931\\n     16528 32931\\n     16529 32931\\n     16530 33020\\n     16531 33020\\n     16532 33027\\n     16533 33122\\n     16534 33028\\n     16535 33028\\n     16536 33028\\n     16537 33051\\n     16538 32864\\n     16539 32864\\n     16540 33154\\n     16541 33154\\n     16542 33154\\n     16543 33052\\n     16544 33061\\n     16545 33061\\n     16546 32872\\n     16547 33276\\n     16548 33276\\n     16549 33165\\n     16550 33165\\n     16551 33078\\n     16552 33078\\n     16553 33078\\n     16554 33294\\n     16555 33294\\n     16556 33294\\n     16557 33294\\n     16558 33294\\n     16559 33181\\n     16560 33181\\n     16561 33079\\n     16562 33101\\n     16563 33102\\n     16564 33102\\n     16565 33210\\n     16566 33210\\n     16567 33103\\n     16568 33103\\n     16569 33104\\n     16570 33104\\n     16571 33104\\n     16572 32918\\n     16573 33325\\n     16574 33325\\n     16575 33212\\n     16576 33105\\n     16577 33105\\n     16578 33117\\n     16579 33227\\n     16580 33339\\n     16581 33339\\n     16582 33339\\n     16583 32931\\n     16584 32931\\n     16585 32931\\n     16586 33020\\n     16587 33020\\n     16588 33021\\n     16589 33022\\n     16590 33118\\n     16591 33122\\n     16592 33122\\n     16593 33237\\n     16594 33123\\n     16595 33153\\n     16596 33154\\n     16597 33154\\n     16598 33154\\n     16599 33154\\n     16600 33164\\n     16601 33275\\n     16602 33275\\n     16603 33390\\n     16604 33276\\n     16605 33276\\n     16606 33180\\n     16607 33078\\n     16608 33078\\n     16609 33078\\n     16610 33078\\n     16611 33078\\n     16612 33598\\n     16613 33598\\n     16614 33294\\n     16615 33294\\n     16616 33294\\n     16617 33294\\n     16618 33294\\n     16619 33181\\n     16620 33210\\n     16621 33210\\n     16622 33211\\n     16623 33211\\n     16624 33104\\n     16625 33104\\n     16626 33325\\n     16627 33325\\n     16628 33325\\n     16629 33212\\n     16630 33212\\n     16631 33227\\n     16632 33339\\n     16633 33339\\n     16634 33339\\n     16635 33339\\n     16636 32931\\n     16637 32931\\n     16638 33020\\n     16639 33020\\n     16640 33020\\n     16641 33021\\n     16642 33022\\n     16643 33118\\n     16644 33228\\n     16645 33228\\n     16646 33232\\n     16647 33233\\n     16648 33346\\n     16649 33237\\n     16650 33237\\n     16651 33478\\n     16652 33265\\n     16653 33265\\n     16654 33265\\n     16655 33275\\n     16656 33275\\n     16657 33390\\n     16658 33390\\n     16659 33276\\n     16660 33180\\n     16661 33180\\n     16662 33078\\n     16663 33078\\n     16664 33078\\n     16665 33078\\n     16666 33078\\n     16667 33598\\n     16668 33598\\n     16669 33598\\n     16670 33504\\n     16671 33294\\n     16672 33294\\n     16673 33294\\n     16674 33210\\n     16675 33432\\n     16676 33324\\n     16677 33324\\n     16678 33324\\n     16679 33433\\n     16680 33433\\n     16681 33325\\n     16682 33325\\n     16683 33332\\n     16684 33339\\n     16685 33339\\n     16686 33339\\n     16687 33543\\n     16688 33638\\n     16689 32931\\n     16690 33020\\n     16691 33020\\n     16692 33020\\n     16693 33021\\n     16694 33118\\n     16695 33228\\n     16696 33228\\n     16697 33228\\n     16698 33229\\n     16699 33340\\n     16700 33342\\n     16701 33342\\n     16702 33233\\n     16703 33234\\n     16704 33343\\n     16705 33346\\n     16706 33347\\n     16707 33478\\n     16708 33379\\n     16709 33379\\n     16710 33386\\n     16711 33387\\n     16712 33389\\n     16713 33390\\n     16714 33390\\n     16715 33390\\n     16716 33293\\n     16717 33293\\n     16718 33180\\n     16719 33180\\n     16720 33078\\n     16721 33078\\n     16722 33078\\n     16723 33598\\n     16724 33598\\n     16725 33598\\n     16726 33598\\n     16727 33598\\n     16728 33504\\n     16729 33504\\n     16730 33428\\n     16731 33429\\n     16732 33432\\n     16733 33432\\n     16734 33324\\n     16735 33324\\n     16736 33324\\n     16737 33625\\n     16738 33433\\n     16739 33433\\n     16740 33435\\n     16741 33332\\n     16742 33332\\n     16743 33440\\n     16744 33446\\n     16745 33543\\n     16746 33638\\n     16747 33638\\n     16748 33738\\n     16749 33738\\n     16750 33832\\n     16751 33833\\n     16752 33021\\n     16753 33228\\n     16754 33228\\n     16755 33228\\n     16756 33228\\n     16757 33340\\n     16758 33340\\n     16759 33341\\n     16760 33342\\n     16761 33342\\n     16762 33233\\n     16763 33343\\n     16764 33343\\n     16765 33447\\n     16766 33487\\n     16767 33487\\n     16768 33488\\n     16769 33490\\n     16770 33585\\n     16771 33585\\n     16772 33407\\n     16773 33407\\n     16774 33293\\n     16775 33293\\n     16776 33180\\n     16777 33180\\n     16778 33078\\n     16779 33078\\n     16780 33793\\n     16781 33598\\n     16782 33598\\n     16783 33598\\n     16784 33598\\n     16785 33598\\n     16786 33526\\n     16787 33428\\n     16788 33527\\n     16789 33530\\n     16790 33530\\n     16791 33722\\n     16792 33625\\n     16793 33625\\n     16794 33626\\n     16795 33532\\n     16796 33435\\n     16797 33332\\n     16798 33332\\n     16799 33440\\n     16800 33440\\n     16801 33538\\n     16802 33638\\n     16803 33738\\n     16804 33738\\n     16805 33738\\n     16806 33832\\n     16807 33833\\n     16808 33833\\n     16809 33833\\n     16810 33228\\n     16811 33228\\n     16812 33340\\n     16813 33340\\n     16814 33340\\n     16815 33341\\n     16816 33342\\n     16817 33342\\n     16818 33342\\n     16819 33544\\n     16820 33544\\n     16821 33544\\n     16822 33545\\n     16823 33581\\n     16824 33487\\n     16825 33487\\n     16826 33488\\n     16827 33582\\n     16828 33584\\n     16829 33682\\n     16830 33597\\n     16831 33597\\n     16832 33597\\n     16833 33407\\n     16834 33293\\n     16835 33293\\n     16836 33180\\n     16837 33180\\n     16838 33793\\n     16839 33793\\n     16840 33793\\n     16841 33793\\n     16842 33598\\n     16843 33598\\n     16844 33598\\n     16845 33619\\n     16846 33619\\n     16847 33716\\n     16848 33624\\n     16849 33721\\n     16850 33722\\n     16851 33723\\n     16852 33626\\n     16853 33627\\n     16854 33532\\n     16855 33628\\n     16856 33332\\n     16857 33332\\n     16858 33440\\n     16859 33440\\n     16860 33538\\n     16861 33638\\n     16862 33638\\n     16863 33738\\n     16864 33738\\n     16865 33831\\n     16866 33832\\n     16867 33833\\n     16868 33833\\n     16869 33833\\n     16870 33940\\n     16871 33940\\n     16872 33340\\n     16873 33340\\n     16874 33340\\n     16875 33341\\n     16876 33342\\n     16877 33941\\n     16878 33834\\n     16879 33544\\n     16880 33679\\n     16881 33679\\n     16882 33679\\n     16883 33582\\n     16884 33582\\n     16885 33680\\n     16886 33681\\n     16887 33682\\n     16888 33693\\n     16889 33693\\n     16890 33597\\n     16891 33597\\n     16892 33597\\n     16893 33597\\n     16894 33293\\n     16895 33293\\n     16896 33793\\n     16897 33793\\n     16898 33793\\n     16899 33793\\n     16900 33793\\n     16901 33793\\n     16902 33793\\n     16903 33700\\n     16904 33715\\n     16905 33716\\n     16906 33722\\n     16907 33724\\n     16908 33725\\n     16909 33627\\n     16910 33627\\n     16911 33726\\n     16912 33537\\n     16913 33332\\n     16914 33440\\n     16915 33440\\n     16916 33538\\n     16917 33737\\n     16918 33738\\n     16919 33738\\n     16920 33831\\n     16921 33832\\n     16922 33833\\n     16923 33833\\n     16924 33939\\n     16925 33940\\n     16926 33940\\n     16927 33940\\n     16928 33940\\n     16929 34043\\n     16930 34043\\n     16931 33941\\n     16932 33941\\n     16933 33941\\n     16934 33777\\n     16935 33777\\n     16936 33679\\n     16937 33873\\n     16938 33873\\n     16939 33874\\n     16940 33778\\n     16941 33779\\n     16942 33792\\n     16943 33693\\n     16944 33693\\n     16945 33693\\n     16946 33597\\n     16947 33597\\n     16948 33597\\n     16949 34288\\n     16950 34288\\n     16951 34288\\n     16952 33793\\n     16953 33793\\n     16954 33793\\n     16955 33793\\n     16956 33793\\n     16957 33801\\n     16958 33701\\n     16959 33702\\n     16960 33703\\n     16961 33704\\n     16962 33705\\n     16963 33802\\n     16964 33810\\n     16965 33811\\n     16966 33812\\n     16967 33813\\n     16968 33818\\n     16969 33818\\n     16970 33819\\n     16971 33819\\n     16972 33820\\n     16973 33820\\n     16974 34131\\n     16975 34229\\n     16976 34230\\n     16977 34132\\n     16978 34132\\n     16979 33833\\n     16980 33939\\n     16981 33940\\n     16982 33940\\n     16983 33940\\n     16984 34145\\n     16985 34043\\n     16986 34043\\n     16987 34043\\n     16988 33777\\n     16989 33981\\n     16990 33873\\n     16991 33873\\n     16992 33874\\n     16993 33875\\n     16994 33875\\n     16995 33876\\n     16996 33878\\n     16997 33878\\n     16998 33879\\n     16999 33880\\n     17000 33881\\n     17001 33890\\n     17002 33792\\n     17003 33792\\n     17004 33693\\n     17005 33693\\n     17006 34196\\n     17007 34196\\n     17008 34196\\n     17009 34288\\n     17010 34288\\n     17011 34288\\n     17012 34288\\n     17013 33891\\n     17014 33891\\n     17015 33891\\n     17016 33891\\n     17017 33902\\n     17018 33902\\n     17019 33702\\n     17020 33703\\n     17021 33704\\n     17022 33802\\n     17023 33802\\n     17024 33915\\n     17025 33917\\n     17026 33918\\n     17027 33925\\n     17028 33925\\n     17029 33926\\n     17030 33926\\n     17031 33926\\n     17032 33926\\n     17033 33927\\n     17034 34131\\n     17035 34229\\n     17036 34321\\n     17037 34230\\n     17038 34230\\n     17039 34132\\n     17040 33830\\n     17041 33831\\n     17042 33832\\n     17043 33937\\n     17044 33938\\n     17045 33940\\n     17046 33940\\n     17047 33940\\n     17048 34145\\n     17049 34145\\n     17050 34043\\n     17051 34043\\n     17052 33941\\n     17053 34082\\n     17054 33981\\n     17055 33981\\n     17056 33982\\n     17057 33983\\n     17058 33983\\n     17059 33875\\n     17060 34084\\n     17061 33984\\n     17062 33987\\n     17063 33878\\n     17064 33879\\n     17065 33880\\n     17066 33881\\n     17067 33882\\n     17068 33883\\n     17069 33884\\n     17070 33988\\n     17071 33890\\n     17072 34096\\n     17073 34097\\n     17074 34097\\n     17075 34195\\n     17076 34196\\n     17077 34196\\n     17078 34196\\n     17079 34288\\n     17080 34288\\n     17081 34288\\n     17082 34373\\n     17083 33891\\n     17084 33891\\n     17085 33891\\n     17086 34005\\n     17087 34208\\n     17088 34208\\n     17089 34106\\n     17090 34106\\n     17091 34017\\n     17092 33918\\n     17093 34018\\n     17094 34018\\n     17095 34019\\n     17096 34027\\n     17097 34027\\n     17098 33925\\n     17099 34028\\n     17100 34028\\n     17101 34028\\n     17102 34028\\n     17103 34029\\n     17104 34229\\n     17105 34229\\n     17106 34321\\n     17107 34321\\n     17108 34230\\n     17109 34230\\n     17110 34132\\n     17111 33830\\n     17112 34138\\n     17113 34138\\n     17114 34040\\n     17115 34041\\n     17116 34141\\n     17117 34042\\n     17118 34144\\n     17119 34145\\n     17120 34145\\n     17121 34043\\n     17122 34043\\n     17123 34081\\n     17124 34082\\n     17125 34082\\n     17126 34083\\n     17127 33982\\n     17128 33983\\n     17129 33983\\n     17130 34183\\n     17131 34084\\n     17132 34087\\n     17133 34087\\n     17134 34186\\n     17135 33879\\n     17136 33880\\n     17137 33881\\n     17138 33882\\n     17139 33883\\n     17140 33988\\n     17141 33988\\n     17142 33989\\n     17143 34088\\n     17144 34089\\n     17145 34097\\n     17146 34195\\n     17147 34196\\n     17148 34196\\n     17149 34287\\n     17150 34288\\n     17151 34288\\n     17152 34288\\n     17153 34373\\n     17154 34373\\n     17155 34374\\n     17156 34207\\n     17157 34208\\n     17158 34208\\n     17159 34209\\n     17160 34106\\n     17161 34121\\n     17162 34121\\n     17163 34018\\n     17164 34018\\n     17165 34019\\n     17166 34020\\n     17167 34124\\n     17168 34124\\n     17169 34125\\n     17170 34125\\n     17171 34125\\n     17172 34126\\n     17173 34126\\n     17174 34229\\n     17175 34229\\n     17176 34321\\n     17177 34321\\n     17178 34321\\n     17179 34322\\n     17180 34230\\n     17181 34230\\n     17182 34132\\n     17183 34236\\n     17184 34237\\n     17185 34238\\n     17186 34139\\n     17187 34140\\n     17188 34141\\n     17189 34144\\n     17190 34145\\n     17191 34145\\n     17192 34146\\n     17193 34148\\n     17194 34149\\n     17195 34081\\n     17196 34082\\n     17197 34082\\n     17198 34083\\n     17199 34083\\n     17200 34270\\n     17201 34183\\n     17202 34183\\n     17203 34186\\n     17204 34186\\n     17205 34273\\n     17206 34273\\n     17207 34357\\n     17208 33882\\n     17209 33988\\n     17210 33988\\n     17211 33988\\n     17212 34088\\n     17213 34088\\n     17214 34089\\n     17215 34090\\n     17216 34187\\n     17217 34286\\n     17218 34287\\n     17219 34288\\n     17220 34288\\n     17221 34372\\n     17222 34373\\n     17223 34373\\n     17224 34207\\n     17225 34208\\n     17226 34208\\n     17227 34209\\n     17228 34218\\n     17229 34118\\n     17230 34119\\n     17231 34119\\n     17232 34121\\n     17233 34121\\n     17234 34018\\n     17235 34018\\n     17236 34019\\n     17237 34020\\n     17238 34222\\n     17239 34222\\n     17240 34315\\n     17241 34223\\n     17242 34223\\n     17243 34223\\n     17244 34223\\n     17245 34224\\n     17246 34224\\n     17247 34229\\n     17248 34229\\n     17249 34321\\n     17250 34321\\n     17251 34321\\n     17252 34322\\n     17253 34322\\n     17254 34230\\n     17255 34231\\n     17256 34231\\n     17257 34239\\n     17258 34240\\n     17259 34241\\n     17260 34242\\n     17261 34242\\n     17262 34143\\n     17263 34243\\n     17264 34246\\n     17265 34147\\n     17266 34148\\n     17267 34149\\n     17268 34082\\n     17269 34082\\n     17270 34083\\n     17271 34270\\n     17272 34270\\n     17273 34270\\n     17274 34273\\n     17275 34273\\n     17276 34357\\n     17277 34357\\n     17278 34444\\n     17279 34528\\n     17280 33988\\n     17281 34088\\n     17282 34088\\n     17283 34088\\n     17284 34089\\n     17285 34187\\n     17286 34187\\n     17287 34274\\n     17288 34274\\n     17289 34275\\n     17290 34288\\n     17291 34372\\n     17292 34373\\n     17293 34373\\n     17294 34299\\n     17295 34300\\n     17296 34301\\n     17297 34302\\n     17298 34308\\n     17299 34218\\n     17300 34218\\n     17301 34392\\n     17302 34309\\n     17303 34309\\n     17304 34313\\n     17305 34313\\n     17306 34121\\n     17307 34018\\n     17308 34019\\n     17309 34397\\n     17310 34222\\n     17311 34315\\n     17312 34315\\n     17313 34316\\n     17314 34316\\n     17315 34316\\n     17316 34316\\n     17317 34317\\n     17318 34317\\n     17319 34321\\n     17320 34321\\n     17321 34406\\n     17322 34322\\n     17323 34322\\n     17324 34323\\n     17325 34323\\n     17326 34231\\n     17327 34231\\n     17328 34327\\n     17329 34328\\n     17330 34242\\n     17331 34242\\n     17332 34243\\n     17333 34329\\n     17334 34329\\n     17335 34330\\n     17336 34330\\n     17337 34246\\n     17338 34331\\n     17339 34439\\n     17340 34439\\n     17341 34440\\n     17342 34354\\n     17343 34357\\n     17344 34357\\n     17345 34444\\n     17346 34528\\n     17347 34528\\n     17348 34528\\n     17349 34088\\n     17350 34088\\n     17351 34088\\n     17352 34187\\n     17353 34187\\n     17354 34187\\n     17355 34274\\n     17356 34274\\n     17357 34275\\n     17358 34276\\n     17359 34358\\n     17360 34359\\n     17361 34373\\n     17362 34205\\n     17363 34206\\n     17364 34299\\n     17365 34299\\n     17366 34386\\n     17367 34386\\n     17368 34391\\n     17369 34469\\n     17370 34470\\n     17371 34471\\n     17372 34392\\n     17373 34393\\n     17374 34395\\n     17375 34396\\n     17376 34312\\n     17377 34313\\n     17378 34313\\n     17379 34313\\n     17380 34313\\n     17381 34554\\n     17382 34554\\n     17383 34315\\n     17384 34315\\n     17385 34315\\n     17386 34401\\n     17387 34401\\n     17388 34401\\n     17389 34401\\n     17390 34402\\n     17391 34402\\n     17392 34406\\n     17393 34406\\n     17394 34482\\n     17395 34407\\n     17396 34323\\n     17397 34323\\n     17398 34323\\n     17399 34231\\n     17400 34231\\n     17401 34231\\n     17402 34412\\n     17403 34412\\n     17404 34242\\n     17405 34329\\n     17406 34329\\n     17407 34329\\n     17408 34413\\n     17409 34413\\n     17410 34490\\n     17411 34331\\n     17412 34331\\n     17413 34439\\n     17414 34439\\n     17415 34440\\n     17416 34440\\n     17417 34444\\n     17418 34528\\n     17419 34528\\n     17420 34528\\n     17421 34613\\n     17422 34613\\n     17423 34088\\n     17424 34088\\n     17425 34187\\n     17426 34187\\n     17427 34274\\n     17428 34274\\n     17429 34274\\n     17430 34275\\n     17431 34358\\n     17432 34358\\n     17433 34445\\n     17434 34462\\n     17435 34462\\n     17436 34462\\n     17437 34625\\n     17438 34625\\n     17439 34543\\n     17440 34543\\n     17441 34468\\n     17442 34469\\n     17443 34472\\n     17444 34472\\n     17445 34396\\n     17446 34313\\n     17447 34313\\n     17448 34313\\n     17449 34313\\n     17450 34554\\n     17451 34554\\n     17452 34554\\n     17453 34475\\n     17454 34475\\n     17455 34557\\n     17456 34557\\n     17457 34558\\n     17458 34476\\n     17459 34476\\n     17460 34476\\n     17461 34477\\n     17462 34477\\n     17463 34481\\n     17464 34482\\n     17465 34567\\n     17466 34567\\n     17467 34567\\n     17468 34567\\n     17469 34567\\n     17470 34231\\n     17471 34133\\n     17472 34488\\n     17473 34488\\n     17474 34488\\n     17475 34329\\n     17476 34489\\n     17477 34489\\n     17478 34489\\n     17479 34490\\n     17480 34490\\n     17481 34490\\n     17482 34331\\n     17483 34332\\n     17484 34519\\n     17485 34520\\n     17486 34521\\n     17487 34522\\n     17488 34528\\n     17489 34528\\n     17490 34613\\n     17491 34613\\n     17492 34698\\n     17493 34698\\n     17494 34770\\n     17495 34187\\n     17496 34187\\n     17497 34274\\n     17498 34274\\n     17499 34274\\n     17500 34358\\n     17501 34358\\n     17502 34445\\n     17503 34529\\n     17504 34529\\n     17505 34542\\n     17506 34542\\n     17507 34714\\n     17508 34625\\n     17509 34625\\n     17510 34625\\n     17511 34543\\n     17512 34553\\n     17513 34553\\n     17514 34553\\n     17515 34396\\n     17516 34808\\n     17517 34808\\n     17518 34554\\n     17519 34554\\n     17520 34554\\n     17521 34554\\n     17522 34554\\n     17523 34556\\n     17524 34643\\n     17525 34644\\n     17526 34557\\n     17527 34558\\n     17528 34559\\n     17529 34559\\n     17530 34559\\n     17531 34560\\n     17532 34560\\n     17533 34565\\n     17534 34566\\n     17535 34567\\n     17536 34567\\n     17537 34567\\n     17538 34567\\n     17539 34567\\n     17540 34567\\n     17541 34133\\n     17542 34133\\n     17543 34488\\n     17544 34488\\n     17545 34488\\n     17546 34489\\n     17547 34489\\n     17548 34489\\n     17549 34489\\n     17550 34572\\n     17551 34572\\n     17552 34657\\n     17553 34658\\n     17554 34658\\n     17555 34501\\n     17556 34606\\n     17557 34606\\n     17558 34522\\n     17559 34607\\n     17560 34613\\n     17561 34613\\n     17562 34698\\n     17563 34698\\n     17564 34770\\n     17565 34770\\n     17566 34938\\n     17567 34938\\n     17568 34939\\n     17569 34274\\n     17570 34274\\n     17571 34358\\n     17572 34445\\n     17573 34529\\n     17574 34529\\n     17575 34614\\n     17576 34624\\n     17577 34714\\n     17578 34788\\n     17579 34625\\n     17580 34625\\n     17581 34625\\n     17582 34640\\n     17583 34640\\n     17584 34640\\n     17585 34808\\n     17586 34808\\n     17587 34808\\n     17588 34889\\n     17589 34809\\n     17590 34809\\n     17591 34554\\n     17592 34554\\n     17593 34643\\n     17594 34645\\n     17595 34645\\n     17596 34559\\n     17597 34559\\n     17598 34814\\n     17599 34560\\n     17600 34560\\n     17601 34653\\n     17602 34566\\n     17603 34567\\n     17604 34567\\n     17605 34567\\n     17606 34567\\n     17607 34567\\n     17608 34567\\n     17609 34567\\n     17610 34133\\n     17611 34324\\n     17612 34408\\n     17613 34826\\n     17614 34826\\n     17615 34826\\n     17616 34489\\n     17617 34489\\n     17618 34572\\n     17619 34657\\n     17620 34657\\n     17621 34657\\n     17622 34658\\n     17623 34658\\n     17624 34659\\n     17625 34668\\n     17626 34669\\n     17627 34501\\n     17628 34502\\n     17629 34502\\n     17630 34585\\n     17631 34585\\n     17632 34586\\n     17633 34674\\n     17634 34675\\n     17635 34676\\n     17636 34677\\n     17637 34691\\n     17638 34691\\n     17639 34606\\n     17640 34607\\n     17641 34607\\n     17642 34692\\n     17643 34698\\n     17644 34698\\n     17645 34770\\n     17646 34770\\n     17647 34858\\n     17648 34938\\n     17649 34938\\n     17650 34939\\n     17651 34939\\n     17652 34939\\n     17653 34445\\n     17654 34529\\n     17655 34529\\n     17656 34614\\n     17657 34714\\n     17658 34714\\n     17659 34788\\n     17660 34789\\n     17661 34789\\n     17662 34715\\n     17663 34722\\n     17664 34722\\n     17665 34807\\n     17666 34808\\n     17667 34889\\n     17668 34889\\n     17669 34809\\n     17670 34809\\n     17671 34809\\n     17672 34810\\n     17673 34723\\n     17674 34726\\n     17675 34727\\n     17676 34728\\n     17677 34728\\n     17678 34645\\n     17679 34645\\n     17680 34559\\n     17681 34814\\n     17682 34814\\n     17683 34815\\n     17684 34729\\n     17685 34734\\n     17686 34649\\n     17687 34650\\n     17688 34737\\n     17689 34653\\n     17690 34653\\n     17691 34567\\n     17692 34567\\n     17693 34567\\n     17694 34567\\n     17695 34980\\n     17696 34980\\n     17697 34980\\n     17698 34408\\n     17699 34826\\n     17700 34905\\n     17701 34905\\n     17702 34572\\n     17703 34742\\n     17704 34742\\n     17705 34742\\n     17706 34743\\n     17707 34744\\n     17708 34658\\n     17709 34745\\n     17710 34750\\n     17711 34751\\n     17712 34751\\n     17713 34669\\n     17714 34752\\n     17715 34584\\n     17716 34584\\n     17717 34502\\n     17718 34585\\n     17719 34585\\n     17720 34585\\n     17721 34674\\n     17722 34674\\n     17723 34675\\n     17724 34676\\n     17725 34677\\n     17726 34765\\n     17727 34691\\n     17728 34691\\n     17729 34607\\n     17730 34692\\n     17731 34692\\n     17732 34766\\n     17733 34770\\n     17734 34770\\n     17735 34858\\n     17736 34858\\n     17737 34938\\n     17738 34938\\n     17739 34939\\n     17740 34939\\n     17741 34939\\n     17742 34939\\n     17743 34529\\n     17744 34614\\n     17745 34614\\n     17746 34788\\n     17747 34789\\n     17748 34789\\n     17749 34805\\n     17750 34806\\n     17751 34807\\n     17752 34808\\n     17753 34889\\n     17754 34889\\n     17755 34809\\n     17756 34809\\n     17757 34809\\n     17758 34811\\n     17759 34811\\n     17760 34725\\n     17761 34726\\n     17762 34812\\n     17763 34813\\n     17764 34813\\n     17765 34892\\n     17766 34892\\n     17767 34893\\n     17768 34814\\n     17769 34814\\n     17770 34815\\n     17771 34816\\n     17772 34818\\n     17773 34819\\n     17774 34732\\n     17775 34733\\n     17776 34734\\n     17777 34734\\n     17778 34820\\n     17779 34822\\n     17780 34822\\n     17781 34901\\n     17782 34901\\n     17783 34980\\n     17784 34980\\n     17785 34980\\n     17786 34980\\n     17787 34980\\n     17788 34980\\n     17789 34980\\n     17790 34905\\n     17791 34905\\n     17792 34905\\n     17793 34742\\n     17794 34742\\n     17795 34742\\n     17796 34827\\n     17797 34828\\n     17798 34828\\n     17799 34829\\n     17800 34834\\n     17801 34834\\n     17802 34751\\n     17803 34751\\n     17804 34835\\n     17805 34835\\n     17806 35001\\n     17807 35002\\n     17808 35002\\n     17809 35002\\n     17810 35083\\n     17811 34674\\n     17812 34674\\n     17813 34674\\n     17814 34675\\n     17815 34676\\n     17816 34677\\n     17817 34852\\n     17818 34852\\n     17819 34691\\n     17820 34692\\n     17821 34692\\n     17822 34766\\n     17823 34766\\n     17824 34932\\n     17825 34854\\n     17826 34858\\n     17827 34858\\n     17828 34937\\n     17829 34938\\n     17830 34938\\n     17831 34939\\n     17832 34939\\n     17833 34939\\n     17834 34939\\n     17835 35110\\n     17836 34614\\n     17837 34614\\n     17838 34699\\n     17839 34877\\n     17840 34887\\n     17841 34888\\n     17842 34889\\n     17843 34889\\n     17844 34968\\n     17845 34890\\n     17846 34890\\n     17847 34890\\n     17848 34811\\n     17849 34811\\n     17850 34725\\n     17851 34812\\n     17852 34891\\n     17853 34891\\n     17854 34973\\n     17855 34892\\n     17856 34893\\n     17857 34894\\n     17858 34894\\n     17859 34815\\n     17860 34816\\n     17861 34817\\n     17862 34818\\n     17863 34819\\n     17864 34819\\n     17865 34733\\n     17866 34734\\n     17867 34895\\n     17868 34895\\n     17869 34895\\n     17870 34900\\n     17871 34901\\n     17872 34979\\n     17873 34980\\n     17874 34980\\n     17875 34980\\n     17876 34980\\n     17877 34980\\n     17878 34980\\n     17879 34905\\n     17880 34984\\n     17881 35073\\n     17882 34742\\n     17883 34827\\n     17884 34906\\n     17885 34906\\n     17886 34907\\n     17887 34907\\n     17888 34913\\n     17889 34913\\n     17890 34913\\n     17891 34751\\n     17892 34835\\n     17893 34835\\n     17894 34914\\n     17895 35001\\n     17896 35002\\n     17897 35002\\n     17898 35082\\n     17899 35083\\n     17900 35084\\n     17901 35084\\n     17902 35084\\n     17903 34675\\n     17904 34676\\n     17905 34677\\n     17906 34931\\n     17907 34931\\n     17908 34931\\n     17909 34931\\n     17910 34692\\n     17911 34766\\n     17912 34932\\n     17913 34932\\n     17914 34932\\n     17915 34933\\n     17916 34933\\n     17917 34854\\n     17918 34937\\n     17919 35027\\n     17920 35028\\n     17921 34938\\n     17922 34939\\n     17923 34939\\n     17924 35110\\n     17925 35110\\n     17926 35110\\n     17927 34699\\n     17928 34699\\n     17929 34771\\n     17930 34887\\n     17931 34888\\n     17932 34967\\n     17933 34968\\n     17934 34968\\n     17935 35059\\n     17936 34969\\n     17937 34970\\n     17938 34970\\n     17939 35062\\n     17940 35062\\n     17941 34971\\n     17942 34971\\n     17943 34971\\n     17944 34972\\n     17945 34974\\n     17946 34974\\n     17947 34894\\n     17948 34894\\n     17949 34815\\n     17950 34816\\n     17951 34817\\n     17952 34818\\n     17953 34819\\n     17954 34819\\n     17955 34819\\n     17956 34975\\n     17957 34975\\n     17958 34975\\n     17959 34975\\n     17960 34979\\n     17961 34980\\n     17962 34980\\n     17963 34980\\n     17964 34980\\n     17965 34980\\n     17966 34984\\n     17967 34984\\n     17968 35073\\n     17969 35073\\n     17970 34985\\n     17971 34985\\n     17972 34986\\n     17973 34986\\n     17974 34987\\n     17975 34995\\n     17976 34995\\n     17977 34995\\n     17978 34835\\n     17979 34996\\n     17980 34996\\n     17981 34996\\n     17982 34997\\n     17983 34998\\n     17984 34999\\n     17985 35000\\n     17986 35001\\n     17987 35002\\n     17988 35002\\n     17989 35082\\n     17990 35083\\n     17991 35084\\n     17992 35084\\n     17993 35169\\n     17994 35170\\n     17995 35171\\n     17996 35172\\n     17997 35022\\n     17998 35022\\n     17999 35022\\n     18000 35022\\n     18001 35192\\n     18002 35105\\n     18003 35105\\n     18004 35105\\n     18005 34933\\n     18006 34933\\n     18007 34933\\n     18008 34854\\n     18009 35027\\n     18010 35028\\n     18011 35110\\n     18012 35110\\n     18013 35110\\n     18014 35110\\n     18015 35110\\n     18016 34771\\n     18017 34771\\n     18018 34771\\n     18019 34887\\n     18020 34967\\n     18021 34967\\n     18022 35057\\n     18023 35058\\n     18024 35060\\n     18025 35061\\n     18026 35061\\n     18027 35062\\n     18028 35062\\n     18029 35143\\n     18030 35063\\n     18031 35063\\n     18032 35064\\n     18033 35064\\n     18034 34974\\n     18035 34974\\n     18036 34894\\n     18037 34894\\n     18038 34894\\n     18039 34816\\n     18040 34817\\n     18041 34818\\n     18042 34819\\n     18043 34819\\n     18044 34819\\n     18045 35065\\n     18046 35065\\n     18047 35065\\n     18048 35065\\n     18049 35069\\n     18050 35069\\n     18051 35069\\n     18052 35069\\n     18053 35073\\n     18054 35073\\n     18055 35160\\n     18056 35074\\n     18057 34986\\n     18058 34986\\n     18059 34987\\n     18060 35078\\n     18061 35078\\n     18062 35078\\n     18063 34996\\n     18064 34996\\n     18065 34996\\n     18066 34998\\n     18067 34999\\n     18068 35000\\n     18069 35001\\n     18070 35080\\n     18071 35081\\n     18072 35083\\n     18073 35084\\n     18074 35084\\n     18075 35169\\n     18076 35170\\n     18077 35171\\n     18078 35090\\n     18079 35091\\n     18080 35091\\n     18081 35092\\n     18082 35022\\n     18083 35022\\n     18084 35022\\n     18085 35261\\n     18086 35192\\n     18087 35192\\n     18088 35105\\n     18089 35105\\n     18090 35105\\n     18091 35023\\n     18092 34933\\n     18093 34933\\n     18094 34933\\n     18095 35106\\n     18096 35110\\n     18097 35110\\n     18098 35110\\n     18099 35110\\n     18100 35110\\n     18101 34771\\n     18102 34771\\n     18103 34859\\n     18104 34967\\n     18105 34967\\n     18106 35057\\n     18107 35057\\n     18108 35058\\n     18109 35059\\n     18110 35060\\n     18111 35141\\n     18112 35141\\n     18113 35142\\n     18114 35143\\n     18115 35143\\n     18116 35144\\n     18117 35144\\n     18118 35145\\n     18119 35145\\n     18120 35145\\n     18121 34974\\n     18122 34974\\n     18123 34894\\n     18124 34894\\n     18125 34816\\n     18126 34817\\n     18127 34818\\n     18128 34819\\n     18129 34819\\n     18130 35146\\n     18131 35146\\n     18132 35146\\n     18133 35146\\n     18134 35146\\n     18135 35069\\n     18136 35159\\n     18137 35160\\n     18138 35074\\n     18139 35074\\n     18140 35300\\n     18141 35164\\n     18142 35164\\n     18143 35306\\n     18144 34996\\n     18145 35165\\n     18146 35165\\n     18147 35165\\n     18148 35166\\n     18149 35166\\n     18150 35000\\n     18151 35080\\n     18152 35080\\n     18153 35081\\n     18154 35082\\n     18155 35167\\n     18156 35167\\n     18157 35168\\n     18158 35169\\n     18159 35170\\n     18160 35171\\n     18161 35178\\n     18162 35178\\n     18163 35090\\n     18164 35091\\n     18165 35091\\n     18166 35179\\n     18167 35191\\n     18168 35022\\n     18169 35261\\n     18170 35261\\n     18171 35192\\n     18172 35192\\n     18173 35193\\n     18174 35193\\n     18175 35193\\n     18176 35023\\n     18177 34933\\n     18178 35106\\n     18179 35106\\n     18180 35198\\n     18181 35198\\n     18182 35198\\n     18183 35198\\n     18184 35198\\n     18185 35198\\n     18186 34771\\n     18187 34859\\n     18188 34859\\n     18189 34859\\n     18190 35215\\n     18191 35216\\n     18192 35130\\n     18193 35131\\n     18194 35132\\n     18195 35133\\n     18196 35134\\n     18197 34967\\n     18198 35057\\n     18199 35057\\n     18200 35057\\n     18201 35058\\n     18202 35059\\n     18203 35225\\n     18204 35225\\n     18205 35226\\n     18206 35142\\n     18207 35227\\n     18208 35227\\n     18209 35144\\n     18210 35144\\n     18211 35228\\n     18212 35228\\n     18213 35357\\n     18214 34974\\n     18215 34894\\n     18216 34894\\n     18217 34894\\n     18218 34817\\n     18219 34818\\n     18220 34819\\n     18221 35229\\n     18222 35229\\n     18223 35229\\n     18224 35229\\n     18225 35229\\n     18226 35229\\n     18227 35234\\n     18228 35234\\n     18229 35300\\n     18230 35306\\n     18231 35306\\n     18232 35306\\n     18233 35165\\n     18234 35165\\n     18235 35165\\n     18236 35165\\n     18237 35240\\n     18238 35308\\n     18239 35308\\n     18240 35080\\n     18241 35081\\n     18242 35082\\n     18243 35167\\n     18244 35167\\n     18245 35168\\n     18246 35169\\n     18247 35170\\n     18248 35171\\n     18249 35241\\n     18250 35242\\n     18251 35249\\n     18252 35249\\n     18253 35177\\n     18254 35178\\n     18255 35178\\n     18256 35090\\n     18257 35091\\n     18258 35250\\n     18259 35250\\n     18260 35250\\n     18261 35261\\n     18262 35261\\n     18263 35262\\n     18264 35193\\n     18265 35193\\n     18266 35193\\n     18267 35193\\n     18268 35193\\n     18269 35469\\n     18270 35395\\n     18271 35329\\n     18272 35270\\n     18273 35270\\n     18274 35270\\n     18275 35270\\n     18276 35270\\n     18277 35474\\n     18278 35532\\n     18279 34859\\n     18280 34859\\n     18281 34859\\n     18282 34859\\n     18283 35284\\n     18284 35216\\n     18285 35216\\n     18286 35131\\n     18287 35132\\n     18288 35133\\n     18289 35217\\n     18290 35217\\n     18291 34967\\n     18292 35057\\n     18293 35057\\n     18294 35057\\n     18295 35057\\n     18296 35058\\n     18297 35225\\n     18298 35225\\n     18299 35291\\n     18300 35291\\n     18301 35291\\n     18302 35292\\n     18303 35292\\n     18304 35355\\n     18305 35293\\n     18306 35293\\n     18307 35293\\n     18308 35357\\n     18309 35357\\n     18310 35357\\n     18311 35357\\n     18312 35558\\n     18313 35558\\n     18314 35559\\n     18315 35560\\n     18316 35561\\n     18317 35562\\n     18318 35294\\n     18319 35294\\n     18320 35294\\n     18321 35294\\n     18322 35294\\n     18323 35300\\n     18324 35306\\n     18325 35306\\n     18326 35306\\n     18327 35306\\n     18328 35165\\n     18329 35307\\n     18330 35307\\n     18331 35307\\n     18332 35308\\n     18333 35308\\n     18334 35308\\n     18335 35450\\n     18336 35081\\n     18337 35167\\n     18338 35167\\n     18339 35167\\n     18340 35168\\n     18341 35169\\n     18342 35309\\n     18343 35309\\n     18344 35241\\n     18345 35242\\n     18346 35243\\n     18347 35244\\n     18348 35310\\n     18349 35311\\n     18350 35312\\n     18351 35317\\n     18352 35317\\n     18353 35178\\n     18354 35178\\n     18355 35460\\n     18356 35460\\n     18357 35386\\n     18358 35386\\n     18359 35318\\n     18360 35328\\n     18361 35328\\n     18362 35262\\n     18363 35193\\n     18364 35193\\n     18365 35193\\n     18366 35469\\n     18367 35469\\n     18368 35469\\n     18369 35395\\n     18370 35329\\n     18371 35335\\n     18372 35270\\n     18373 35270\\n     18374 35270\\n     18375 35474\\n     18376 35474\\n     18377 35532\\n     18378 35532\\n     18379 35603\\n     18380 34859\\n     18381 34859\\n     18382 34859\\n     18383 35604\\n     18384 35349\\n     18385 35349\\n     18386 35216\\n     18387 35216\\n     18388 35492\\n     18389 35492\\n     18390 35492\\n     18391 35493\\n     18392 35683\\n     18393 35057\\n     18394 35057\\n     18395 35057\\n     18396 35057\\n     18397 35225\\n     18398 35225\\n     18399 35354\\n     18400 35354\\n     18401 35354\\n     18402 35354\\n     18403 35292\\n     18404 35355\\n     18405 35429\\n     18406 35430\\n     18407 35356\\n     18408 35357\\n     18409 35357\\n     18410 35357\\n     18411 35357\\n     18412 35558\\n     18413 35558\\n     18414 35558\\n     18415 35559\\n     18416 35560\\n     18417 35561\\n     18418 35562\\n     18419 35563\\n     18420 35358\\n     18421 35358\\n     18422 35358\\n     18423 35358\\n     18424 35374\\n     18425 35374\\n     18426 35374\\n     18427 35374\\n     18428 35307\\n     18429 35307\\n     18430 35307\\n     18431 35307\\n     18432 35375\\n     18433 35450\\n     18434 35450\\n     18435 35450\\n     18436 35450\\n     18437 35513\\n     18438 35513\\n     18439 35513\\n     18440 35513\\n     18441 35376\\n     18442 35376\\n     18443 35376\\n     18444 35242\\n     18445 35243\\n     18446 35310\\n     18447 35310\\n     18448 35311\\n     18449 35312\\n     18450 35313\\n     18451 35314\\n     18452 35459\\n     18453 35459\\n     18454 35459\\n     18455 35519\\n     18456 35460\\n     18457 35460\\n     18458 35386\\n     18459 35328\\n     18460 35328\\n     18461 35328\\n     18462 35262\\n     18463 35193\\n     18464 35469\\n     18465 35469\\n     18466 35469\\n     18467 35469\\n     18468 35469\\n     18469 35395\\n     18470 35399\\n     18471 35399\\n     18472 35401\\n     18473 35401\\n     18474 35474\\n     18475 35474\\n     18476 35532\\n     18477 35532\\n     18478 35603\\n     18479 35603\\n     18480 35657\\n     18481 35657\\n     18482 35658\\n     18483 35604\\n     18484 35604\\n     18485 35416\\n     18486 35416\\n     18487 35548\\n     18488 35548\\n     18489 35548\\n     18490 35492\\n     18491 35492\\n     18492 35493\\n     18493 35494\\n     18494 35683\\n     18495 35683\\n     18496 35683\\n     18497 35057\\n     18498 35425\\n     18499 35425\\n     18500 35425\\n     18501 35425\\n     18502 35425\\n     18503 35425\\n     18504 35426\\n     18505 35427\\n     18506 35428\\n     18507 35429\\n     18508 35430\\n     18509 35430\\n     18510 35431\\n     18511 35431\\n     18512 35557\\n     18513 35558\\n     18514 35558\\n     18515 35558\\n     18516 35559\\n     18517 35560\\n     18518 35561\\n     18519 35562\\n     18520 35563\\n     18521 35564\\n     18522 35565\\n     18523 35358\\n     18524 35358\\n     18525 35448\\n     18526 35448\\n     18527 35578\\n     18528 35578\\n     18529 35307\\n     18530 35449\\n     18531 35449\\n     18532 35449\\n     18533 35580\\n     18534 35513\\n     18535 35513\\n     18536 35513\\n     18537 35513\\n     18538 35514\\n     18539 35451\\n     18540 35451\\n     18541 35451\\n     18542 35310\\n     18543 35310\\n     18544 35310\\n     18545 35311\\n     18546 35312\\n     18547 35313\\n     18548 35459\\n     18549 35459\\n     18550 35518\\n     18551 35519\\n     18552 35520\\n     18553 35460\\n     18554 35527\\n     18555 35328\\n     18556 35328\\n     18557 35328\\n     18558 35328\\n     18559 35651\\n     18560 35598\\n     18561 35598\\n     18562 35469\\n     18563 35469\\n     18564 35469\\n     18565 35472\\n     18566 35472\\n     18567 35399\\n     18568 35400\\n     18569 35474\\n     18570 35474\\n     18571 35532\\n     18572 35532\\n     18573 35603\\n     18574 35603\\n     18575 35657\\n     18576 35657\\n     18577 35722\\n     18578 35658\\n     18579 35658\\n     18580 35604\\n     18581 35604\\n     18582 35491\\n     18583 35491\\n     18584 35548\\n     18585 35548\\n     18586 35548\\n     18587 35492\\n     18588 35492\\n     18589 35493\\n     18590 35494\\n     18591 35683\\n     18592 35683\\n     18593 35683\\n     18594 35683\\n     18595 35425\\n     18596 35425\\n     18597 35425\\n     18598 35425\\n     18599 35425\\n     18600 35425\\n     18601 35426\\n     18602 35427\\n     18603 35428\\n     18604 35429\\n     18605 35499\\n     18606 35500\\n     18607 35501\\n     18608 35501\\n     18609 35557\\n     18610 35557\\n     18611 35558\\n     18612 35558\\n     18613 35558\\n     18614 35559\\n     18615 35560\\n     18616 35561\\n     18617 35562\\n     18618 35563\\n     18619 35564\\n     18620 35565\\n     18621 35566\\n     18622 35567\\n     18623 35511\\n     18624 35578\\n     18625 35578\\n     18626 35578\\n     18627 35449\\n     18628 35449\\n     18629 35449\\n     18630 35449\\n     18631 35513\\n     18632 35514\\n     18633 35514\\n     18634 35515\\n     18635 35515\\n     18636 35515\\n     18637 35515\\n     18638 35310\\n     18639 35310\\n     18640 35311\\n     18641 35312\\n     18642 35377\\n     18643 35518\\n     18644 35518\\n     18645 35519\\n     18646 35527\\n     18647 35527\\n     18648 35527\\n     18649 35328\\n     18650 35328\\n     18651 35651\\n     18652 35651\\n     18653 35598\\n     18654 35598\\n     18655 35528\\n     18656 35528\\n     18657 35470\\n     18658 35530\\n     18659 35530\\n     18660 35472\\n     18661 35472\\n     18662 35532\\n     18663 35532\\n     18664 35603\\n     18665 35603\\n     18666 35657\\n     18667 35657\\n     18668 35722\\n     18669 35722\\n     18670 35723\\n     18671 35658\\n     18672 35658\\n     18673 35604\\n     18674 35604\\n     18675 35547\\n     18676 35547\\n     18677 35548\\n     18678 35548\\n     18679 35548\\n     18680 35549\\n     18681 35550\\n     18682 35550\\n     18683 35494\\n     18684 35619\\n     18685 35683\\n     18686 35683\\n     18687 35683\\n     18688 35683\\n     18689 35683\\n     18690 35425\\n     18691 35425\\n     18692 35425\\n     18693 35425\\n     18694 35425\\n     18695 35426\\n     18696 35427\\n     18697 35428\\n     18698 35499\\n     18699 35499\\n     18700 35556\\n     18701 35556\\n     18702 35557\\n     18703 35557\\n     18704 35557\\n     18705 35558\\n     18706 35558\\n     18707 35578\\n     18708 35578\\n     18709 35578\\n     18710 35449\\n     18711 35449\\n     18712 35579\\n     18713 35579\\n     18714 35579\\n     18715 35583\\n     18716 35583\\n     18717 35583\\n     18718 35583\\n     18719 35583\\n     18720 35310\\n     18721 35311\\n     18722 35312\\n     18723 35377\\n     18724 35587\\n     18725 35597\\n     18726 35597\\n     18727 35527\\n     18728 35527\\n     18729 35527\\n     18730 35527\\n     18731 35651\\n     18732 35651\\n     18733 35651\\n     18734 35651\\n     18735 35598\\n     18736 35599\\n     18737 35599\\n     18738 35601\\n     18739 35601\\n     18740 35530\\n     18741 35530\\n     18742 35472\\n     18743 35603\\n     18744 35603\\n     18745 35657\\n     18746 35657\\n     18747 35722\\n     18748 35722\\n     18749 35793\\n     18750 35723\\n     18751 35723\\n     18752 35658\\n     18753 35658\\n     18754 35604\\n     18755 35604\\n     18756 35618\\n     18757 35618\\n     18758 35548\\n     18759 35548\\n     18760 35548\\n     18761 35549\\n     18762 35550\\n     18763 35550\\n     18764 35675\\n     18765 35619\\n     18766 35683\\n     18767 35683\\n     18768 35683\\n     18769 35683\\n     18770 35683\\n     18771 35425\\n     18772 35425\\n     18773 35425\\n     18774 35425\\n     18775 35425\\n     18776 35426\\n     18777 35427\\n     18778 35499\\n     18779 35499\\n     18780 35499\\n     18781 35556\\n     18782 35556\\n     18783 35624\\n     18784 35624\\n     18785 35625\\n     18786 35625\\n     18787 35625\\n     18788 35636\\n     18789 35636\\n     18790 35775\\n     18791 35775\\n     18792 35579\\n     18793 35579\\n     18794 35579\\n     18795 35579\\n     18796 35583\\n     18797 35583\\n     18798 35583\\n     18799 35583\\n     18800 35583\\n     18801 35310\\n     18802 35311\\n     18803 35312\\n     18804 35377\\n     18805 35650\\n     18806 35650\\n     18807 35650\\n     18808 35650\\n     18809 35527\\n     18810 35527\\n     18811 35527\\n     18812 35527\\n     18813 35844\\n     18814 35789\\n     18815 35789\\n     18816 35651\\n     18817 35651\\n     18818 35651\\n     18819 35652\\n     18820 35599\\n     18821 35599\\n     18822 35654\\n     18823 35654\\n     18824 35601\\n     18825 35601\\n     18826 35530\\n     18827 35657\\n     18828 35657\\n     18829 35722\\n     18830 35722\\n     18831 35793\\n     18832 35793\\n     18833 35723\\n     18834 35723\\n     18835 35723\\n     18836 35658\\n     18837 35658\\n     18838 35674\\n     18839 35674\\n     18840 35548\\n     18841 35548\\n     18842 35548\\n     18843 35741\\n     18844 35741\\n     18845 35742\\n     18846 35675\\n     18847 35683\\n     18848 35683\\n     18849 35683\\n     18850 35683\\n     18851 35683\\n     18852 35425\\n     18853 35425\\n     18854 35425\\n     18855 35425\\n     18856 35425\\n     18857 35426\\n     18858 35427\\n     18859 35499\\n     18860 35499\\n     18861 35556\\n     18862 35684\\n     18863 35684\\n     18864 35684\\n     18865 35684\\n     18866 35747\\n     18867 35625\\n     18868 35625\\n     18869 35625\\n     18870 35700\\n     18871 35775\\n     18872 35775\\n     18873 35775\\n     18874 35579\\n     18875 35579\\n     18876 35701\\n     18877 35701\\n     18878 35701\\n     18879 35703\\n     18880 35703\\n     18881 35583\\n     18882 35583\\n     18883 35583\\n     18884 35583\\n     18885 35311\\n     18886 35377\\n     18887 35377\\n     18888 35715\\n     18889 35715\\n     18890 35715\\n     18891 35897\\n     18892 35897\\n     18893 35898\\n     18894 35527\\n     18895 35527\\n     18896 35527\\n     18897 35527\\n     18898 35844\\n     18899 35844\\n     18900 35789\\n     18901 35789\\n     18902 35716\\n     18903 35716\\n     18904 35652\\n     18905 35652\\n     18906 35718\\n     18907 35718\\n     18908 35654\\n     18909 35654\\n     18910 35601\\n     18911 35601\\n     18912 35720\\n     18913 35720\\n     18914 35722\\n     18915 35722\\n     18916 35793\\n     18917 35793\\n     18918 35848\\n     18919 35849\\n     18920 35723\\n     18921 35723\\n     18922 35723\\n     18923 35740\\n     18924 35863\\n     18925 35809\\n     18926 35809\\n     18927 35741\\n     18928 35741\\n     18929 35742\\n     18930 35746\\n     18931 35746\\n     18932 35747\\n     18933 35747\\n     18934 35747\\n     18935 35748\\n     18936 35748\\n     18937 35775\\n     18938 35775\\n     18939 35775\\n     18940 35947\\n     18941 35883\\n     18942 35883\\n     18943 35832\\n     18944 35832\\n     18945 35777\\n     18946 35777\\n     18947 35777\\n     18948 35777\\n     18949 35583\\n     18950 35583\\n     18951 35583\\n     18952 35377\\n     18953 35788\\n     18954 35788\\n     18955 35897\\n     18956 35897\\n     18957 35897\\n     18958 35898\\n     18959 35899\\n     18960 35899\\n     18961 35527\\n     18962 35527\\n     18963 35527\\n     18964 35844\\n     18965 35844\\n     18966 35844\\n     18967 35844\\n     18968 35789\\n     18969 35716\\n     18970 35716\\n     18971 35791\\n     18972 35718\\n     18973 35718\\n     18974 35718\\n     18975 35654\\n     18976 35719\\n     18977 35719\\n     18978 35719\\n     18979 35720\\n     18980 35720\\n     18981 35721\\n     18982 35793\\n     18983 35793\\n     18984 35848\\n     18985 35848\\n     18986 35849\\n     18987 35849\\n     18988 35794\\n     18989 36617\\n     18990 36617\\n     18991 35740\\n     18992 35740\\n     18993 35920\\n     18994 35863\\n     18995 35809\\n     18996 35809\\n     18997 35813\\n     18998 35813\\n     18999 35814\\n     19000 35814\\n     19001 35814\\n     19002 35831\\n     19003 35831\\n     19004 35946\\n     19005 35947\\n     19006 35947\\n     19007 35883\\n     19008 35883\\n     19009 35832\\n     19010 35835\\n     19011 35835\\n     19012 35835\\n     19013 35835\\n     19014 35835\\n     19015 35835\\n     19016 35835\\n     19017 35377\\n     19018 35843\\n     19019 35843\\n     19020 35897\\n     19021 35897\\n     19022 35897\\n     19023 35898\\n     19024 35899\\n     19025 35899\\n     19026 35899\\n     19027 35526\\n     19028 35527\\n     19029 36052\\n     19030 36010\\n     19031 35963\\n     19032 35963\\n     19033 35844\\n     19034 35844\\n     19035 35844\\n     19036 35845\\n     19037 35845\\n     19038 35845\\n     19039 35846\\n     19040 35791\\n     19041 35718\\n     19042 35718\\n     19043 35654\\n     19044 35719\\n     19045 35719\\n     19046 35719\\n     19047 35719\\n     19048 35719\\n     19049 35720\\n     19050 35720\\n     19051 35792\\n     19052 35792\\n     19053 35848\\n     19054 35848\\n     19055 35904\\n     19056 35905\\n     19057 35849\\n     19058 36617\\n     19059 36617\\n     19060 36617\\n     19061 36617\\n     19062 36617\\n     19063 36617\\n     19064 36617\\n     19065 35919\\n     19066 35920\\n     19067 35920\\n     19068 35863\\n     19069 35863\\n     19070 35868\\n     19071 35926\\n     19072 35814\\n     19073 35814\\n     19074 35814\\n     19075 35946\\n     19076 35946\\n     19077 35998\\n     19078 35999\\n     19079 35947\\n     19080 35947\\n     19081 35883\\n     19082 35835\\n     19083 35835\\n     19084 35835\\n     19085 35835\\n     19086 35835\\n     19087 35835\\n     19088 35835\\n     19089 35835\\n     19090 35896\\n     19091 36008\\n     19092 35961\\n     19093 35897\\n     19094 35897\\n     19095 35899\\n     19096 35899\\n     19097 35899\\n     19098 35899\\n     19099 35899\\n     19100 36102\\n     19101 36103\\n     19102 36103\\n     19103 36052\\n     19104 36052\\n     19105 36010\\n     19106 35963\\n     19107 35963\\n     19108 35900\\n     19109 35900\\n     19110 35845\\n     19111 35845\\n     19112 35902\\n     19113 35967\\n     19114 35967\\n     19115 35967\\n     19116 36014\\n     19117 36014\\n     19118 36057\\n     19119 35719\\n     19120 35719\\n     19121 35719\\n     19122 35719\\n     19123 35720\\n     19124 35792\\n     19125 35792\\n     19126 35847\\n     19127 35847\\n     19128 35904\\n     19129 35904\\n     19130 35905\\n     19131 36550\\n     19132 36550\\n     19133 36550\\n     19134 36550\\n     19135 36617\\n     19136 36617\\n     19137 36617\\n     19138 36617\\n     19139 36617\\n     19140 36617\\n     19141 36617\\n     19142 36617\\n     19143 37037\\n     19144 35919\\n     19145 35919\\n     19146 35981\\n     19147 35920\\n     19148 35924\\n     19149 35926\\n     19150 35926\\n     19151 35926\\n     19152 35927\\n     19153 35927\\n     19154 35946\\n     19155 35998\\n     19156 35999\\n     19157 36000\\n     19158 35947\\n     19159 35949\\n     19160 35949\\n     19161 35835\\n     19162 35835\\n     19163 35835\\n     19164 35835\\n     19165 35835\\n     19166 35835\\n     19167 35835\\n     19168 35960\\n     19169 35960\\n     19170 36008\\n     19171 35961\\n     19172 35961\\n     19173 35962\\n     19174 35898\\n     19175 35899\\n     19176 35899\\n     19177 35899\\n     19178 36100\\n     19179 36101\\n     19180 36102\\n     19181 36103\\n     19182 36103\\n     19183 36052\\n     19184 36052\\n     19185 36052\\n     19186 36010\\n     19187 35963\\n     19188 35900\\n     19189 35900\\n     19190 35965\\n     19191 35965\\n     19192 35966\\n     19193 35967\\n     19194 35967\\n     19195 36014\\n     19196 36014\\n     19197 36057\\n     19198 36057\\n     19199 36108\\n     19200 35719\\n     19201 35719\\n     19202 35719\\n     19203 35720\\n     19204 35792\\n     19205 35847\\n     19206 35847\\n     19207 35903\\n     19208 35903\\n     19209 35969\\n     19210 35970\\n     19211 36550\\n     19212 36550\\n     19213 36550\\n     19214 36550\\n     19215 36617\\n     19216 36617\\n     19217 36617\\n     19218 36617\\n     19219 36617\\n     19220 36617\\n     19221 36617\\n     19222 36617\\n     19223 36617\\n     19224 36617\\n     19225 36617\\n     19226 35980\\n     19227 35980\\n     19228 35918\\n     19229 35919\\n     19230 36024\\n     19231 35981\\n     19232 35984\\n     19233 35984\\n     19234 35984\\n     19235 35683\\n     19236 35683\\n     19237 35425\\n     19238 35425\\n     19239 35746\\n     19240 35746\\n     19241 35925\\n     19242 35925\\n     19243 35925\\n     19244 35925\\n     19245 35925\\n     19246 35985\\n     19247 35985\\n     19248 35986\\n     19249 35986\\n     19250 35986\\n     19251 35997\\n     19252 35835\\n     19253 35835\\n     19254 35835\\n     19255 35835\\n     19256 36007\\n     19257 36007\\n     19258 36050\\n     19259 36008\\n     19260 36009\\n     19261 35961\\n     19262 35962\\n     19263 35962\\n     19264 35899\\n     19265 35899\\n     19266 36099\\n     19267 36100\\n     19268 36101\\n     19269 36102\\n     19270 36103\\n     19271 36103\\n     19272 36103\\n     19273 36052\\n     19274 36052\\n     19275 36052\\n     19276 36010\\n     19277 36011\\n     19278 36011\\n     19279 36011\\n     19280 36012\\n     19281 36012\\n     19282 35965\\n     19283 36013\\n     19284 36013\\n     19285 36014\\n     19286 36057\\n     19287 36057\\n     19288 36108\\n     19289 36157\\n     19290 36157\\n     19291 36157\\n     19292 35719\\n     19293 35720\\n     19294 35847\\n     19295 36109\\n     19296 36109\\n     19297 36058\\n     19298 36058\\n     19299 36015\\n     19300 36550\\n     19301 36550\\n     19302 36550\\n     19303 36550\\n     19304 36617\\n     19305 36617\\n     19306 36617\\n     19307 36617\\n     19308 36617\\n     19309 36617\\n     19310 36617\\n     19311 36617\\n     19312 36617\\n     19313 36617\\n     19314 36617\\n     19315 37037\\n     19316 37037\\n     19317 36023\\n     19318 36023\\n     19319 36064\\n     19320 36065\\n     19321 36024\\n     19322 35984\\n     19323 35984\\n     19324 35984\\n     19325 35984\\n     19326 35984\\n     19327 35683\\n     19328 35683\\n     19329 35683\\n     19330 35425\\n     19331 35925\\n     19332 35925\\n     19333 35925\\n     19334 35925\\n     19335 35925\\n     19336 35925\\n     19337 35925\\n     19338 35925\\n     19339 36028\\n     19340 36028\\n     19341 36028\\n     19342 36028\\n     19343 36069\\n     19344 35986\\n     19345 35986\\n     19346 35986\\n     19347 36007\\n     19348 36050\\n     19349 36050\\n     19350 36051\\n     19351 36009\\n     19352 36009\\n     19353 35962\\n     19354 35962\\n     19355 36147\\n     19356 36099\\n     19357 36099\\n     19358 36100\\n     19359 36101\\n     19360 36102\\n     19361 36103\\n     19362 36103\\n     19363 36151\\n     19364 36052\\n     19365 36052\\n     19366 36052\\n     19367 36053\\n     19368 36011\\n     19369 36011\\n     19370 36055\\n     19371 36055\\n     19372 36055\\n     19373 36013\\n     19374 36013\\n     19375 36056\\n     19376 36057\\n     19377 36057\\n     19378 36108\\n     19379 36157\\n     19380 36157\\n     19381 36157\\n     19382 36201\\n     19383 36201\\n     19384 36202\\n     19385 36158\\n     19386 36158\\n     19387 36109\\n     19388 36109\\n     19389 36058\\n     19390 36058\\n     19391 36059\\n     19392 36550\\n     19393 36617\\n     19394 36617\\n     19395 36617\\n     19396 36617\\n     19397 36617\\n     19398 36617\\n     19399 36617\\n     19400 36617\\n     19401 36617\\n     19402 36617\\n     19403 36063\\n     19404 36064\\n     19405 35984\\n     19406 35984\\n     19407 35984\\n     19408 35984\\n     19409 35984\\n     19410 36067\\n     19411 36067\\n     19412 35683\\n     19413 35683\\n     19414 35683\\n     19415 35925\\n     19416 35925\\n     19417 35925\\n     19418 35925\\n     19419 35925\\n     19420 35925\\n     19421 35925\\n     19422 36068\\n     19423 36068\\n     19424 36068\\n     19425 36068\\n     19426 36068\\n     19427 36069\\n     19428 36069\\n     19429 36069\\n     19430 36070\\n     19431 36070\\n     19432 36049\\n     19433 36050\\n     19434 36050\\n     19435 36098\\n     19436 36098\\n     19437 36146\\n     19438 36194\\n     19439 36147\\n     19440 36147\\n     19441 36148\\n     19442 36099\\n     19443 36100\\n     19444 36102\\n     19445 36103\\n     19446 36150\\n     19447 36151\\n     19448 36152\\n     19449 36153\\n     19450 36104\\n     19451 36053\\n     19452 36106\\n     19453 36106\\n     19454 36055\\n     19455 36055\\n     19456 36013\\n     19457 36056\\n     19458 36056\\n     19459 36107\\n     19460 36108\\n     19461 36157\\n     19462 36157\\n     19463 36157\\n     19464 36201\\n     19465 36201\\n     19466 36246\\n     19467 36202\\n     19468 36202\\n     19469 36158\\n     19470 36158\\n     19471 36109\\n     19472 36109\\n     19473 36111\\n     19474 36111\\n     19475 36617\\n     19476 36617\\n     19477 36617\\n     19478 36617\\n     19479 36617\\n     19480 36617\\n     19481 36617\\n     19482 36617\\n     19483 36617\\n     19484 36617\\n     19485 37037\\n     19486 37037\\n     19487 36117\\n     19488 35984\\n     19489 35984\\n     19490 35984\\n     19491 35984\\n     19492 36067\\n     19493 36067\\n     19494 36067\\n     19495 36067\\n     19496 35683\\n     19497 35683\\n     19498 36643\\n     19499 35925\\n     19500 35925\\n     19501 35925\\n     19502 35925\\n     19503 36068\\n     19504 36068\\n     19505 36068\\n     19506 36068\\n     19507 36068\\n     19508 36068\\n     19509 36068\\n     19510 36068\\n     19511 36120\\n     19512 36120\\n     19513 36121\\n     19514 36121\\n     19515 36121\\n     19516 36145\\n     19517 36145\\n     19518 36146\\n     19519 36146\\n     19520 36194\\n     19521 36147\\n     19522 36147\\n     19523 36148\\n     19524 36148\\n     19525 36100\\n     19526 36101\\n     19527 36102\\n     19528 36149\\n     19529 36150\\n     19530 36151\\n     19531 36152\\n     19532 36154\\n     19533 36154\\n     19534 36155\\n     19535 36155\\n     19536 36106\\n     19537 36106\\n     19538 36055\\n     19539 36056\\n     19540 36056\\n     19541 36107\\n     19542 36107\\n     19543 36156\\n     19544 36157\\n     19545 36157\\n     19546 36201\\n     19547 36201\\n     19548 36246\\n     19549 36246\\n     19550 36247\\n     19551 36202\\n     19552 36202\\n     19553 36158\\n     19554 36158\\n     19555 36160\\n     19556 36160\\n     19557 36111\\n     19558 36111\\n     19559 36617\\n     19560 36617\\n     19561 36617\\n     19562 36617\\n     19563 36617\\n     19564 36617\\n     19565 36617\\n     19566 36617\\n     19567 36617\\n     19568 36617\\n     19569 35984\\n     19570 35984\\n     19571 35984\\n     19572 36067\\n     19573 36067\\n     19574 36067\\n     19575 36067\\n     19576 36067\\n     19577 36067\\n     19578 36641\\n     19579 36642\\n     19580 36643\\n     19581 36644\\n     19582 36557\\n     19583 36068\\n     19584 36068\\n     19585 36068\\n     19586 36068\\n     19587 36068\\n     19588 36068\\n     19589 36068\\n     19590 36068\\n     19591 36068\\n     19592 36120\\n     19593 36120\\n     19594 36120\\n     19595 36121\\n     19596 36121\\n     19597 36121\\n     19598 36145\\n     19599 36193\\n     19600 36194\\n     19601 36195\\n     19602 36196\\n     19603 36148\\n     19604 36148\\n     19605 36100\\n     19606 36101\\n     19607 36149\\n     19608 36149\\n     19609 36150\\n     19610 36151\\n     19611 36197\\n     19612 36198\\n     19613 36198\\n     19614 36154\\n     19615 36199\\n     19616 36155\\n     19617 36290\\n     19618 36290\\n     19619 36290\\n     19620 36327\\n     19621 36107\\n     19622 36107\\n     19623 36156\\n     19624 36156\\n     19625 36200\\n     19626 36201\\n     19627 36201\\n     19628 36246\\n     19629 36246\\n     19630 36291\\n     19631 36247\\n     19632 36247\\n     19633 36202\\n     19634 36202\\n     19635 36204\\n     19636 36160\\n     19637 36160\\n     19638 36160\\n     19639 36111\\n     19640 36111\\n     19641 36617\\n     19642 36617\\n     19643 36617\\n     19644 36617\\n     19645 36617\\n     19646 36617\\n     19647 36167\\n     19648 36168\\n     19649 35923\\n     19650 36628\\n     19651 36067\\n     19652 36067\\n     19653 36067\\n     19654 36067\\n     19655 36067\\n     19656 36067\\n     19657 36067\\n     19658 36067\\n     19659 36641\\n     19660 36642\\n     19661 36643\\n     19662 36644\\n     19663 36557\\n     19664 36557\\n     19665 36557\\n     19666 36068\\n     19667 36068\\n     19668 36068\\n     19669 36068\\n     19670 36068\\n     19671 36068\\n     19672 36120\\n     19673 36120\\n     19674 36120\\n     19675 36120\\n     19676 36120\\n     19677 36121\\n     19678 36209\\n     19679 36071\\n     19680 36210\\n     19681 36210\\n     19682 36219\\n     19683 36219\\n     19684 36238\\n     19685 36239\\n     19686 36240\\n     19687 36195\\n     19688 36196\\n     19689 36196\\n     19690 36148\\n     19691 36148\\n     19692 36149\\n     19693 36149\\n     19694 36149\\n     19695 36286\\n     19696 36286\\n     19697 36198\\n     19698 36198\\n     19699 36242\\n     19700 36243\\n     19701 36244\\n     19702 36290\\n     19703 36290\\n     19704 36327\\n     19705 36327\\n     19706 36327\\n     19707 36156\\n     19708 36156\\n     19709 36200\\n     19710 36200\\n     19711 36245\\n     19712 36246\\n     19713 36246\\n     19714 36291\\n     19715 36329\\n     19716 36247\\n     19717 36247\\n     19718 36247\\n     19719 36249\\n     19720 36204\\n     19721 36204\\n     19722 36160\\n     19723 36160\\n     19724 36160\\n     19725 36111\\n     19726 36111\\n     19727 36617\\n     19728 36257\\n     19729 36257\\n     19730 36257\\n     19731 36460\\n     19732 36460\\n     19733 36504\\n     19734 36504\\n     19735 36556\\n     19736 36627\\n     19737 36628\\n     19738 36629\\n     19739 36629\\n     19740 36067\\n     19741 36067\\n     19742 36067\\n     19743 36067\\n     19744 36067\\n     19745 36067\\n     19746 36641\\n     19747 36642\\n     19748 36643\\n     19749 36644\\n     19750 36645\\n     19751 36557\\n     19752 36557\\n     19753 36557\\n     19754 36557\\n     19755 36068\\n     19756 36068\\n     19757 36068\\n     19758 36120\\n     19759 36120\\n     19760 36120\\n     19761 36120\\n     19762 36120\\n     19763 36120\\n     19764 36209\\n     19765 36209\\n     19766 36209\\n     19767 36209\\n     19768 36209\\n     19769 36209\\n     19770 36209\\n     19771 36209\\n     19772 36209\\n     19773 36209\\n     19774 36300\\n     19775 36210\\n     19776 36210\\n     19777 36268\\n     19778 36268\\n     19779 36268\\n     19780 36268\\n     19781 36268\\n     19782 36268\\n     19783 36268\\n     19784 36285\\n     19785 36239\\n     19786 36240\\n     19787 36240\\n     19788 36196\\n     19789 36196\\n     19790 36196\\n     19791 36148\\n     19792 36323\\n     19793 36323\\n     19794 36323\\n     19795 36323\\n     19796 36287\\n     19797 36287\\n     19798 36287\\n     19799 36325\\n     19800 36325\\n     19801 36288\\n     19802 36243\\n     19803 36244\\n     19804 36290\\n     19805 36327\\n     19806 36327\\n     19807 36327\\n     19808 36371\\n     19809 36156\\n     19810 36200\\n     19811 36200\\n     19812 36245\\n     19813 36245\\n     19814 36246\\n     19815 36291\\n     19816 36329\\n     19817 36329\\n     19818 36330\\n     19819 36293\\n     19820 36249\\n     19821 36249\\n     19822 36204\\n     19823 36204\\n     19824 36160\\n     19825 36160\\n     19826 36160\\n     19827 36111\\n     19828 36298\\n     19829 36298\\n     19830 36298\\n     19831 36460\\n     19832 36460\\n     19833 36460\\n     19834 36504\\n     19835 36504\\n     19836 36556\\n     19837 36556\\n     19838 36627\\n     19839 36628\\n     19840 36629\\n     19841 36629\\n     19842 36629\\n     19843 36067\\n     19844 36067\\n     19845 36067\\n     19846 36067\\n     19847 36067\\n     19848 36641\\n     19849 36642\\n     19850 36643\\n     19851 36644\\n     19852 36645\\n     19853 36557\\n     19854 36557\\n     19855 36557\\n     19856 36557\\n     19857 36558\\n     19858 36559\\n     19859 36120\\n     19860 36120\\n     19861 36120\\n     19862 36120\\n     19863 36120\\n     19864 36120\\n     19865 36120\\n     19866 36209\\n     19867 36209\\n     19868 36209\\n     19869 36209\\n     19870 36209\\n     19871 36209\\n     19872 36209\\n     19873 36209\\n     19874 36209\\n     19875 36209\\n     19876 36209\\n     19877 36463\\n     19878 36463\\n     19879 36210\\n     19880 36268\\n     19881 36268\\n     19882 36268\\n     19883 36268\\n     19884 36268\\n     19885 36268\\n     19886 36522\\n     19887 36522\\n     19888 36522\\n     19889 36522\\n     19890 36522\\n     19891 36522\\n     19892 36322\\n     19893 36322\\n     19894 36240\\n     19895 36240\\n     19896 36240\\n     19897 36196\\n     19898 36196\\n     19899 36403\\n     19900 36403\\n     19901 36323\\n     19902 36323\\n     19903 36323\\n     19904 36324\\n     19905 36324\\n     19906 36287\\n     19907 36366\\n     19908 36366\\n     19909 36325\\n     19910 36325\\n     19911 36288\\n     19912 36368\\n     19913 36368\\n     19914 36326\\n     19915 36327\\n     19916 36327\\n     19917 36371\\n     19918 36371\\n     19919 36408\\n     19920 36408\\n     19921 36245\\n     19922 36245\\n     19923 36245\\n     19924 36291\\n     19925 36291\\n     19926 36328\\n     19927 36329\\n     19928 36329\\n     19929 36331\\n     19930 36293\\n     19931 36293\\n     19932 36249\\n     19933 36249\\n     19934 36204\\n     19935 36204\\n     19936 36160\\n     19937 36160\\n     19938 36338\\n     19939 36381\\n     19940 36460\\n     19941 36460\\n     19942 36460\\n     19943 36504\\n     19944 36504\\n     19945 36504\\n     19946 36556\\n     19947 36556\\n     19948 36627\\n     19949 36628\\n     19950 36629\\n     19951 36629\\n     19952 36629\\n     19953 36629\\n     19954 36630\\n     19955 36630\\n     19956 36630\\n     19957 36630\\n     19958 36641\\n     19959 36642\\n     19960 36643\\n     19961 36644\\n     19962 36645\\n     19963 36557\\n     19964 36557\\n     19965 36557\\n     19966 36557\\n     19967 36558\\n     19968 36559\\n     19969 36559\\n     19970 36559\\n     19971 36120\\n     19972 36120\\n     19973 36120\\n     19974 36120\\n     19975 36209\\n     19976 36209\\n     19977 36209\\n     19978 36209\\n     19979 36209\\n     19980 36209\\n     19981 36209\\n     19982 36209\\n     19983 36209\\n     19984 36209\\n     19985 36209\\n     19986 36209\\n     19987 36348\\n     19988 36348\\n     19989 36353\\n     19990 36353\\n     19991 36268\\n     19992 36268\\n     19993 36522\\n     19994 36522\\n     19995 36522\\n     19996 36522\\n     19997 36522\\n     19998 36522\\n     19999 36522\\n     20000 36522\\n     20001 36751\\n     20002 36751\\n     20003 36394\\n     20004 36394\\n     20005 36394\\n     20006 36364\\n     20007 36322\\n     20008 36322\\n     20009 36322\\n     20010 36240\\n     20011 36240\\n     20012 36196\\n     20013 36443\\n     20014 36443\\n     20015 36403\\n     20016 36403\\n     20017 36403\\n     20018 36365\\n     20019 36365\\n     20020 36324\\n     20021 36366\\n     20022 36366\\n     20023 36366\\n     20024 36367\\n     20025 36367\\n     20026 36368\\n     20027 36368\\n     20028 36368\\n     20029 36369\\n     20030 36370\\n     20031 36371\\n     20032 36371\\n     20033 36408\\n     20034 36408\\n     20035 36449\\n     20036 36449\\n     20037 36245\\n     20038 36291\\n     20039 36291\\n     20040 36328\\n     20041 36372\\n     20042 36372\\n     20043 36374\\n     20044 36374\\n     20045 36331\\n     20046 36293\\n     20047 36293\\n     20048 36249\\n     20049 36249\\n     20050 36204\\n     20051 36204\\n     20052 36418\\n     20053 36418\\n     20054 36459\\n     20055 36460\\n     20056 36460\\n     20057 36460\\n     20058 36504\\n     20059 36504\\n     20060 36556\\n     20061 36556\\n     20062 36556\\n     20063 36627\\n     20064 36628\\n     20065 36629\\n     20066 36629\\n     20067 36629\\n     20068 36629\\n     20069 36630\\n     20070 36630\\n     20071 36630\\n     20072 36630\\n     20073 36640\\n     20074 36641\\n     20075 36642\\n     20076 36643\\n     20077 36644\\n     20078 36645\\n     20079 36557\\n     20080 36557\\n     20081 36557\\n     20082 36557\\n     20083 36558\\n     20084 36559\\n     20085 36559\\n     20086 36559\\n     20087 36559\\n     20088 36653\\n     20089 36653\\n     20090 36653\\n     20091 36209\\n     20092 36209\\n     20093 36209\\n     20094 36209\\n     20095 36209\\n     20096 36209\\n     20097 36209\\n     20098 36209\\n     20099 36209\\n     20100 36209\\n     20101 36209\\n     20102 36209\\n     20103 36796\\n     20104 36348\\n     20105 36348\\n     20106 36348\\n     20107 36389\\n     20108 36393\\n     20109 36393\\n     20110 36393\\n     20111 36478\\n     20112 36522\\n     20113 36522\\n     20114 36522\\n     20115 36522\\n     20116 36522\\n     20117 36522\\n     20118 36522\\n     20119 36522\\n     20120 36522\\n     20121 36751\\n     20122 36751\\n     20123 36751\\n     20124 36751\\n     20125 36394\\n     20126 36402\\n     20127 36364\\n     20128 36364\\n     20129 36322\\n     20130 36322\\n     20131 36322\\n     20132 36240\\n     20133 36443\\n     20134 36443\\n     20135 36443\\n     20136 36443\\n     20137 36403\\n     20138 36403\\n     20139 36404\\n     20140 36404\\n     20141 36404\\n     20142 36445\\n     20143 36405\\n     20144 36405\\n     20145 36405\\n     20146 36367\\n     20147 36446\\n     20148 36406\\n     20149 36406\\n     20150 36370\\n     20151 36407\\n     20152 36408\\n     20153 36408\\n     20154 36449\\n     20155 36449\\n     20156 36495\\n     20157 36495\\n     20158 36496\\n     20159 36496\\n     20160 36450\\n     20161 36450\\n     20162 36410\\n     20163 36410\\n     20164 36374\\n     20165 36374\\n     20166 36331\\n     20167 36293\\n     20168 36293\\n     20169 36249\\n     20170 36249\\n     20171 36418\\n     20172 36418\\n     20173 36459\\n     20174 36460\\n     20175 36460\\n     20176 36504\\n     20177 36504\\n     20178 36504\\n     20179 36556\\n     20180 36556\\n     20181 36626\\n     20182 36627\\n     20183 36628\\n     20184 36629\\n     20185 36629\\n     20186 36629\\n     20187 36629\\n     20188 36630\\n     20189 36630\\n     20190 36630\\n     20191 36630\\n     20192 36640\\n     20193 36641\\n     20194 36642\\n     20195 36643\\n     20196 36644\\n     20197 36645\\n     20198 36646\\n     20199 36557\\n     20200 36557\\n     20201 36557\\n     20202 36558\\n     20203 36559\\n     20204 36559\\n     20205 36559\\n     20206 36652\\n     20207 36653\\n     20208 36653\\n     20209 36653\\n     20210 36653\\n     20211 36733\\n     20212 36209\\n     20213 36209\\n     20214 36209\\n     20215 36209\\n     20216 36209\\n     20217 36209\\n     20218 36209\\n     20219 36209\\n     20220 36209\\n     20221 36796\\n     20222 36796\\n     20223 36421\\n     20224 36421\\n     20225 36348\\n     20226 36465\\n     20227 36424\\n     20228 36427\\n     20229 36427\\n     20230 36389\\n     20231 36436\\n     20232 36436\\n     20233 36478\\n     20234 36521\\n     20235 36522\\n     20236 36522\\n     20237 36522\\n     20238 36522\\n     20239 36522\\n     20240 36522\\n     20241 36522\\n     20242 36522\\n     20243 36522\\n     20244 36751\\n     20245 36751\\n     20246 36751\\n     20247 36751\\n     20248 36751\\n     20249 36442\\n     20250 36442\\n     20251 36402\\n     20252 36364\\n     20253 36364\\n     20254 36322\\n     20255 36322\\n     20256 36602\\n     20257 36602\\n     20258 36537\\n     20259 36443\\n     20260 36443\\n     20261 36443\\n     20262 36444\\n     20263 36404\\n     20264 36404\\n     20265 36490\\n     20266 36490\\n     20267 36445\\n     20268 36405\\n     20269 36492\\n     20270 36492\\n     20271 36446\\n     20272 36447\\n     20273 36447\\n     20274 36407\\n     20275 36407\\n     20276 36448\\n     20277 36449\\n     20278 36449\\n     20279 36495\\n     20280 36495\\n     20281 36543\\n     20282 36544\\n     20283 36496\\n     20284 36496\\n     20285 36450\\n     20286 36451\\n     20287 36410\\n     20288 36410\\n     20289 36374\\n     20290 36374\\n     20291 36331\\n     20292 36293\\n     20293 36459\\n     20294 36460\\n     20295 36460\\n     20296 36504\\n     20297 36504\\n     20298 36556\\n     20299 36556\\n     20300 36556\\n     20301 36626\\n     20302 36627\\n     20303 36628\\n     20304 36629\\n     20305 36629\\n     20306 36629\\n     20307 36709\\n     20308 36710\\n     20309 36630\\n     20310 36630\\n     20311 36640\\n     20312 36641\\n     20313 36642\\n     20314 36643\\n     20315 36644\\n     20316 36645\\n     20317 36646\\n     20318 36557\\n     20319 36557\\n     20320 36557\\n     20321 36558\\n     20322 36559\\n     20323 36559\\n     20324 36559\\n     20325 36652\\n     20326 36653\\n     20327 36653\\n     20328 36653\\n     20329 36733\\n     20330 36733\\n     20331 36733\\n     20332 36795\\n     20333 36795\\n     20334 36795\\n     20335 36860\\n     20336 36860\\n     20337 36860\\n     20338 36925\\n     20339 36796\\n     20340 36796\\n     20341 36796\\n     20342 36464\\n     20343 36464\\n     20344 36565\\n     20345 36565\\n     20346 36465\\n     20347 36465\\n     20348 36466\\n     20349 36466\\n     20350 36467\\n     20351 36467\\n     20352 36470\\n     20353 36427\\n     20354 36515\\n     20355 36471\\n     20356 36478\\n     20357 36478\\n     20358 36521\\n     20359 36522\\n     20360 36522\\n     20361 36522\\n     20362 36522\\n     20363 36522\\n     20364 36522\\n     20365 36522\\n     20366 36522\\n     20367 36522\\n     20368 36751\\n     20369 36751\\n     20370 36751\\n     20371 36751\\n     20372 36442\\n     20373 36442\\n     20374 36442\\n     20375 36402\\n     20376 36692\\n     20377 36692\\n     20378 36692\\n     20379 36602\\n     20380 36602\\n     20381 36602\\n     20382 36537\\n     20383 36537\\n     20384 36489\\n     20385 36489\\n     20386 36444\\n     20387 36539\\n     20388 36539\\n     20389 36490\\n     20390 36491\\n     20391 36491\\n     20392 36491\\n     20393 36492\\n     20394 36492\\n     20395 36447\\n     20396 36407\\n     20397 36448\\n     20398 36448\\n     20399 36494\\n     20400 36495\\n     20401 36495\\n     20402 36543\\n     20403 36543\\n     20404 36544\\n     20405 36544\\n     20406 36496\\n     20407 36410\\n     20408 36410\\n     20409 36374\\n     20410 36374\\n     20411 36504\\n     20412 36504\\n     20413 36556\\n     20414 36556\\n     20415 36625\\n     20416 36626\\n     20417 36627\\n     20418 36628\\n     20419 36629\\n     20420 36629\\n     20421 36629\\n     20422 36709\\n     20423 36710\\n     20424 36630\\n     20425 36630\\n     20426 36640\\n     20427 36641\\n     20428 36642\\n     20429 36643\\n     20430 36644\\n     20431 36645\\n     20432 36646\\n     20433 36647\\n     20434 36557\\n     20435 36557\\n     20436 36558\\n     20437 36559\\n     20438 36559\\n     20439 36651\\n     20440 36652\\n     20441 36653\\n     20442 36653\\n     20443 36653\\n     20444 36733\\n     20445 36733\\n     20446 36795\\n     20447 36795\\n     20448 36795\\n     20449 36795\\n     20450 36860\\n     20451 36860\\n     20452 36860\\n     20453 36925\\n     20454 36925\\n     20455 36796\\n     20456 36796\\n     20457 36796\\n     20458 36508\\n     20459 36565\\n     20460 36565\\n     20461 36565\\n     20462 36509\\n     20463 36509\\n     20464 36509\\n     20465 36510\\n     20466 36510\\n     20467 36467\\n     20468 36467\\n     20469 36511\\n     20470 36514\\n     20471 36514\\n     20472 36470\\n     20473 36569\\n     20474 36515\\n     20475 36522\\n     20476 36522\\n     20477 36522\\n     20478 36522\\n     20479 36522\\n     20480 36522\\n     20481 36522\\n     20482 36522\\n     20483 36751\\n     20484 36751\\n     20485 36751\\n     20486 36751\\n     20487 36751\\n     20488 36536\\n     20489 36536\\n     20490 36536\\n     20491 36690\\n     20492 36691\\n     20493 36692\\n     20494 36692\\n     20495 36692\\n     20496 36766\\n     20497 36602\\n     20498 36602\\n     20499 36602\\n     20500 36537\\n     20501 36538\\n     20502 36538\\n     20503 36539\\n     20504 36539\\n     20505 36539\\n     20506 36540\\n     20507 36491\\n     20508 36491\\n     20509 36605\\n     20510 36605\\n     20511 36447\\n     20512 36448\\n     20513 36494\\n     20514 36542\\n     20515 36542\\n     20516 36543\\n     20517 36543\\n     20518 36609\\n     20519 36544\\n     20520 36544\\n     20521 36410\\n     20522 36410\\n     20523 36556\\n     20524 36556\\n     20525 36625\\n     20526 36626\\n     20527 36627\\n     20528 36628\\n     20529 36629\\n     20530 36629\\n     20531 36708\\n     20532 36709\\n     20533 36710\\n     20534 36711\\n     20535 36630\\n     20536 36640\\n     20537 36641\\n     20538 36642\\n     20539 36643\\n     20540 36644\\n     20541 36645\\n     20542 36646\\n     20543 36647\\n     20544 36557\\n     20545 36558\\n     20546 36559\\n     20547 36559\\n     20548 36651\\n     20549 36652\\n     20550 36653\\n     20551 36653\\n     20552 36733\\n     20553 36733\\n     20554 36733\\n     20555 36795\\n     20556 36795\\n     20557 36795\\n     20558 36860\\n     20559 36860\\n     20560 36860\\n     20561 36925\\n     20562 36925\\n     20563 36925\\n     20564 36796\\n     20565 36796\\n     20566 36796\\n     20567 36564\\n     20568 36565\\n     20569 36565\\n     20570 36663\\n     20571 36664\\n     20572 36664\\n     20573 36566\\n     20574 36510\\n     20575 36510\\n     20576 36467\\n     20577 36511\\n     20578 36511\\n     20579 36567\\n     20580 36568\\n     20581 36514\\n     20582 36514\\n     20583 36668\\n     20584 36569\\n     20585 36522\\n     20586 36522\\n     20587 36522\\n     20588 36751\\n     20589 36751\\n     20590 36751\\n     20591 36751\\n     20592 36751\\n     20593 36600\\n     20594 36601\\n     20595 36601\\n     20596 36689\\n     20597 36690\\n     20598 36691\\n     20599 36692\\n     20600 36692\\n     20601 36765\\n     20602 36766\\n     20603 36602\\n     20604 36602\\n     20605 36602\\n     20606 36603\\n     20607 36538\\n     20608 36538\\n     20609 36694\\n     20610 36694\\n     20611 36604\\n     20612 36540\\n     20613 36605\\n     20614 36605\\n     20615 36605\\n     20616 36494\\n     20617 36542\\n     20618 36542\\n     20619 36542\\n     20620 36607\\n     20621 36608\\n     20622 36609\\n     20623 36609\\n     20624 36627\\n     20625 36628\\n     20626 36629\\n     20627 36629\\n     20628 36708\\n     20629 36709\\n     20630 36710\\n     20631 36711\\n     20632 36630\\n     20633 36653\\n     20634 36653\\n     20635 36733\\n     20636 36733\\n     20637 36794\\n     20638 36795\\n     20639 36795\\n     20640 36795\\n     20641 36860\\n     20642 36860\\n     20643 36860\\n     20644 36925\\n     20645 36925\\n     20646 36925\\n     20647 36796\\n     20648 36796\\n     20649 36796\\n     20650 36796\\n     20651 36564\\n     20652 36662\\n     20653 36663\\n     20654 36663\\n     20655 36664\\n     20656 36664\\n     20657 36665\\n     20658 36665\\n     20659 36665\\n     20660 36510\\n     20661 36511\\n     20662 36567\\n     20663 36567\\n     20664 36666\\n     20665 36667\\n     20666 36667\\n     20667 36668\\n     20668 36751\\n     20669 36751\\n     20670 36751\\n     20671 36690\\n     20672 36691\\n     20673 36692\\n     20674 36692\\n     20675 36765\\n     20676 36766\\n     20677 36767\\n     20678 36693\\n     20679 36693\\n     20680 36693\\n     20681 36603\\n     20682 36769\\n     20683 36769\\n     20684 36694\\n     20685 36695\\n     20686 36695\\n     20687 36695\\n     20688 36605\\n     20689 36605\\n     20690 36542\\n     20691 36542\\n     20692 36607\\n     20693 36696\\n     20694 36696\\n     20695 36710\\n     20696 36711\\n     20697 36733\\n     20698 36733\\n     20699 36794\\n     20700 36795\\n     20701 36795\\n     20702 36859\\n     20703 36860\\n     20704 36860\\n     20705 36860\\n     20706 36925\\n     20707 36925\\n     20708 36925\\n     20709 36926\\n     20710 36796\\n     20711 36796\\n     20712 36796\\n     20713 36740\\n     20714 36741\\n     20715 36741\\n     20716 36742\\n     20717 36743\\n     20718 36744\\n     20719 36665\\n     20720 36665\\n     20721 36665\\n     20722 36879\\n     20723 36567\\n     20724 36567\\n     20725 36666\\n     20726 36745\\n     20727 36745\\n     20728 36746\\n     20729 36766\\n     20730 36767\\n     20731 36693\\n     20732 36833\\n     20733 36834\\n     20734 36769\\n     20735 36769\\n     20736 36770\\n     20737 36770\\n     20738 36695\\n     20739 36695\\n     20740 36605\\n     20741 36771\\n     20742 36771\\n     20743 36771\\n     20744 36794\\n     20745 36795\\n     20746 36795\\n     20747 36859\\n     20748 36860\\n     20749 36860\\n     20750 36924\\n     20751 36925\\n     20752 36925\\n     20753 36925\\n     20754 36926\\n     20755 36926\\n     20756 36796\\n     20757 36796\\n     20758 36796\\n     20759 36810\\n     20760 36877\\n     20761 36741\\n     20762 36742\\n     20763 36811\\n     20764 36812\\n     20765 36878\\n     20766 36879\\n     20767 36879\\n     20768 36948\\n     20769 36948\\n     20770 36948\\n     20771 36745\\n     20772 36745\\n     20773 36745\\n     20774 36834\\n     20775 36835\\n     20776 36836\\n     20777 36836\\n     20778 36899\\n     20779 36900\\n     20780 36900\\n     20781 36966\\n     20782 36837\\n     20783 36859\\n     20784 36860\\n     20785 36923\\n     20786 36924\\n     20787 36925\\n     20788 36925\\n     20789 36990\\n     20790 36991\\n     20791 36926\\n     20792 36926\\n     20793 36861\\n     20794 36877\\n     20795 36877\\n     20796 36946\\n     20797 36811\\n     20798 36812\\n     20799 36878\\n     20800 36879\\n     20801 36879\\n     20802 36948\\n     20803 36948\\n     20804 36948\\n     20805 36948\\n     20806 36963\\n     20807 36963\\n     20808 36963\\n     20809 37032\\n     20810 37032\\n     20811 36679\\n     20812 36899\\n     20813 36900\\n     20814 36900\\n     20815 36924\\n     20816 36925\\n     20817 36925\\n     20818 36990\\n     20819 36991\\n     20820 36926\\n     20821 36926\\n     20822 36927\\n     20823 36942\\n     20824 36943\\n     20825 36944\\n     20826 36945\\n     20827 36946\\n     20828 37009\\n     20829 37009\\n     20830 37010\\n     20831 36947\\n     20832 37012\\n     20833 37013\\n     20834 36948\\n     20835 36963\\n     20836 36963\\n     20837 37032\\n     20838 37032\\n     20839 37105\\n     20840 37167\\n     20841 37168\\n     20842 37168\\n     20843 36964\\n     20844 36964\\n     20845 36964\\n     20846 36964\\n     20847 36990\\n     20848 36991\\n     20849 37006\\n     20850 37006\\n     20851 37007\\n     20852 37008\\n     20853 37009\\n     20854 37009\\n     20855 37010\\n     20856 37011\\n     20857 37012\\n     20858 37015\\n     20859 37015\\n     20860 37018\\n     20861 37032\\n     20862 37032\\n     20863 37105\\n     20864 37166\\n     20865 37167\\n     20866 37168\\n     20867 37168\\n     20868 37168\\n     20869 37033\\n     20870 37033\\n     20871 37033\\n     20872 37033\\n     20873 37033\\n     20874 37033\\n     20875 37074\\n     20876 37007\\n     20877 37008\\n     20878 37075\\n     20879 37015\\n     20880 37015\\n     20881 37080\\n     20882 37084\\n     20883 37085\\n     20884 37085\\n     20885 37086\\n     20886 37105\\n     20887 37105\\n     20888 37166\\n     20889 37167\\n     20890 37168\\n     20891 37168\\n     20892 37236\\n     20893 37237\\n     20894 37106\\n     20895 37106\\n     20896 37106\\n     20897 37106\\n     20898 37106\\n     20899 37312\\n     20900 37312\\n     20901 37312\\n     20902 37376\\n     20903 37141\\n     20904 37075\\n     20905 37142\\n     20906 37144\\n     20907 37144\\n     20908 37144\\n     20909 37144\\n     20910 37145\\n     20911 37146\\n     20912 37147\\n     20913 37147\\n     20914 37085\\n     20915 37085\\n     20916 37086\\n     20917 37166\\n     20918 37167\\n     20919 37168\\n     20920 37168\\n     20921 37236\\n     20922 37237\\n     20923 37238\\n     20924 37169\\n     20925 37169\\n     20926 37169\\n     20927 37311\\n     20928 37312\\n     20929 37312\\n     20930 37312\\n     20931 37376\\n     20932 37377\\n     20933 37377\\n     20934 37240\\n     20935 37240\\n     20936 37240\\n     20937 37214\\n     20938 37215\\n     20939 37216\\n     20940 37216\\n     20941 37216\\n     20942 37216\\n     20943 37145\\n     20944 37146\\n     20945 37147\\n     20946 37147\\n     20947 37085\\n     20948 37217\\n     20949 37217\\n     20950 37217\\n     20951 37237\\n     20952 37238\\n     20953 37239\\n     20954 37239\\n     20955 37310\\n     20956 37311\\n     20957 37312\\n     20958 37312\\n     20959 37375\\n     20960 37376\\n     20961 37377\\n     20962 37377\\n     20963 37377\\n     20964 37240\\n     20965 37240\\n     20966 37240\\n     20967 37202\\n     20968 37203\\n     20969 37204\\n     20970 37205\\n     20971 37206\\n     20972 37207\\n     20973 37280\\n     20974 37291\\n     20975 37291\\n     20976 37291\\n     20977 37291\\n     20978 37291\\n     20979 37146\\n     20980 37147\\n     20981 37448\\n     20982 37449\\n     20983 37450\\n     20984 37217\\n     20985 37292\\n     20986 37223\\n     20987 37294\\n     20988 37295\\n     20989 37296\\n     20990 37311\\n     20991 37312\\n     20992 37312\\n     20993 37375\\n     20994 37376\\n     20995 37377\\n     20996 37377\\n     20997 37488\\n     20998 37313\\n     20999 37313\\n     21000 37313\\n     21001 37202\\n     21002 37203\\n     21003 37204\\n     21004 37205\\n     21005 37206\\n     21006 37338\\n     21007 37338\\n     21008 37341\\n     21009 37342\\n     21010 37342\\n     21011 37441\\n     21012 37355\\n     21013 37355\\n     21014 37355\\n     21015 37445\\n     21016 37446\\n     21017 37447\\n     21018 37448\\n     21019 37449\\n     21020 37450\\n     21021 37451\\n     21022 37452\\n     21023 37356\\n     21024 37467\\n     21025 37294\\n     21026 37295\\n     21027 37296\\n     21028 37297\\n     21029 37298\\n     21030 37359\\n     21031 37360\\n     21032 37371\\n     21033 37371\\n     21034 37310\\n     21035 37372\\n     21036 37373\\n     21037 37376\\n     21038 37377\\n     21039 37377\\n     21040 37488\\n     21041 37489\\n     21042 37378\\n     21043 37202\\n     21044 37203\\n     21045 37204\\n     21046 37205\\n     21047 37416\\n     21048 37416\\n     21049 37419\\n     21050 37420\\n     21051 37516\\n     21052 37343\\n     21053 37421\\n     21054 37421\\n     21055 37434\\n     21056 37434\\n     21057 37535\\n     21058 37435\\n     21059 37441\\n     21060 37442\\n     21061 37443\\n     21062 37463\\n     21063 37464\\n     21064 37467\\n     21065 37467\\n     21066 37546\\n     21067 37547\\n     21068 37548\\n     21069 37359\\n     21070 37360\\n     21071 37361\\n     21072 37362\\n     21073 37468\\n     21074 37469\\n     21075 37470\\n     21076 37485\\n     21077 37485\\n     21078 37372\\n     21079 37372\\n     21080 37373\\n     21081 37374\\n     21082 37375\\n     21083 37376\\n     21084 37486\\n     21085 37487\\n     21086 37490\\n     21087 37202\\n     21088 37203\\n     21089 37204\\n     21090 37514\\n     21091 37514\\n     21092 37514\\n     21093 37514\\n     21094 37517\\n     21095 37518\\n     21096 37518\\n     21097 37518\\n     21098 37422\\n     21099 37422\\n     21100 37423\\n     21101 37424\\n     21102 37425\\n     21103 37535\\n     21104 37535\\n     21105 37536\\n     21106 37537\\n     21107 37538\\n     21108 37539\\n     21109 37540\\n     21110 37540\\n     21111 37439\\n     21112 37440\\n     21113 37541\\n     21114 37541\\n     21115 37443\\n     21116 37444\\n     21117 37445\\n     21118 37446\\n     21119 37447\\n     21120 37448\\n     21121 37449\\n     21122 37450\\n     21123 37451\\n     21124 37452\\n     21125 37463\\n     21126 37464\\n     21127 37465\\n     21128 37466\\n     21129 37544\\n     21130 37547\\n     21131 37548\\n     21132 37548\\n     21133 37612\\n     21134 37613\\n     21135 37613\\n     21136 37468\\n     21137 37468\\n     21138 37469\\n     21139 37470\\n     21140 37471\\n     21141 37472\\n     21142 37549\\n     21143 37550\\n     21144 37558\\n     21145 37559\\n     21146 37560\\n     21147 37564\\n     21148 37564\\n     21149 37485\\n     21150 37372\\n     21151 37372\\n     21152 37373\\n     21153 37374\\n     21154 37375\\n     21155 37486\\n     21156 37486\\n     21157 37487\\n     21158 37488\\n     21159 37489\\n     21160 37565\\n     21161 37566\\n     21162 37855\\n     21163 37856\\n     21164 37590\\n     21165 37590\\n     21166 37590\\n     21167 37590\\n     21168 37590\\n     21169 37590\\n     21170 37590\\n     21171 37590\\n     21172 37592\\n     21173 37592\\n     21174 37592\\n     21175 37658\\n     21176 37658\\n     21177 37658\\n     21178 37424\\n     21179 37659\\n     21180 37659\\n     21181 37599\\n     21182 37599\\n     21183 37537\\n     21184 37538\\n     21185 37539\\n     21186 37540\\n     21187 37540\\n     21188 37600\\n     21189 37600\\n     21190 37601\\n     21191 37601\\n     21192 37443\\n     21193 37668\\n     21194 37668\\n     21195 37669\\n     21196 37670\\n     21197 37671\\n     21198 37604\\n     21199 37605\\n     21200 37606\\n     21201 37609\\n     21202 37678\\n     21203 37679\\n     21204 37680\\n     21205 37681\\n     21206 37682\\n     21207 37682\\n     21208 37465\\n     21209 37544\\n     21210 37544\\n     21211 37545\\n     21212 37546\\n     21213 37547\\n     21214 37610\\n     21215 37612\\n     21216 37613\\n     21217 37613\\n     21218 37685\\n     21219 37686\\n     21220 37687\\n     21221 37687\\n     21222 37471\\n     21223 37549\\n     21224 37549\\n     21225 37550\\n     21226 37620\\n     21227 37621\\n     21228 37622\\n     21229 37555\\n     21230 37556\\n     21231 37557\\n     21232 37558\\n     21233 37559\\n     21234 37560\\n     21235 37623\\n     21236 37564\\n     21237 37698\\n     21238 37698\\n     21239 37698\\n     21240 37768\\n     21241 37373\\n     21242 37374\\n     21243 37486\\n     21244 37486\\n     21245 37486\\n     21246 37487\\n     21247 37488\\n     21248 37565\\n     21249 37565\\n     21250 37628\\n     21251 37629\\n     21252 37715\\n     21253 37855\\n     21254 37856\\n     21255 37856\\n     21256 37656\\n     21257 37656\\n     21258 37656\\n     21259 37656\\n     21260 37656\\n     21261 37656\\n     21262 37656\\n     21263 37339\\n     21264 37417\\n     21265 37417\\n     21266 37657\\n     21267 37592\\n     21268 37658\\n     21269 37658\\n     21270 37658\\n     21271 37658\\n     21272 37722\\n     21273 37723\\n     21274 37659\\n     21275 37660\\n     21276 37660\\n     21277 37727\\n     21278 37728\\n     21279 37729\\n     21280 37729\\n     21281 37593\\n     21282 37593\\n     21283 37594\\n     21284 37595\\n     21285 37595\\n     21286 37661\\n     21287 37666\\n     21288 37666\\n     21289 37734\\n     21290 37540\\n     21291 37667\\n     21292 37667\\n     21293 37667\\n     21294 37667\\n     21295 37737\\n     21296 37738\\n     21297 37739\\n     21298 37670\\n     21299 37671\\n     21300 37672\\n     21301 37673\\n     21302 37673\\n     21303 37604\\n     21304 37605\\n     21305 37674\\n     21306 37674\\n     21307 37675\\n     21308 37676\\n     21309 37677\\n     21310 37681\\n     21311 37682\\n     21312 37682\\n     21313 37747\\n     21314 37748\\n     21315 37749\\n     21316 37750\\n     21317 37751\\n     21318 37610\\n     21319 37610\\n     21320 37611\\n     21321 37612\\n     21322 37683\\n     21323 37684\\n     21324 37686\\n     21325 37687\\n     21326 37687\\n     21327 37754\\n     21328 37755\\n     21329 37756\\n     21330 37688\\n     21331 37690\\n     21332 37690\\n     21333 37618\\n     21334 37619\\n     21335 37620\\n     21336 37621\\n     21337 37622\\n     21338 37622\\n     21339 37760\\n     21340 37760\\n     21341 37761\\n     21342 37762\\n     21343 37691\\n     21344 37692\\n     21345 37698\\n     21346 37698\\n     21347 37768\\n     21348 37831\\n     21349 37831\\n     21350 37831\\n     21351 37900\\n     21352 37486\\n     21353 37486\\n     21354 37487\\n     21355 37565\\n     21356 37699\\n     21357 37699\\n     21358 37699\\n     21359 37699\\n     21360 37629\\n     21361 37630\\n     21362 37630\\n     21363 37715\\n     21364 37715\\n     21365 37852\\n     21366 37716\\n     21367 37716\\n     21368 37855\\n     21369 37856\\n     21370 37856\\n     21371 37856\\n     21372 37718\\n     21373 37718\\n     21374 37718\\n     21375 37718\\n     21376 37718\\n     21377 37718\\n     21378 37718\\n     21379 37417\\n     21380 37417\\n     21381 37417\\n     21382 37515\\n     21383 37719\\n     21384 37719\\n     21385 37720\\n     21386 37720\\n     21387 37720\\n     21388 37721\\n     21389 37722\\n     21390 37723\\n     21391 37724\\n     21392 37725\\n     21393 37726\\n     21394 37727\\n     21395 37728\\n     21396 37729\\n     21397 37729\\n     21398 37729\\n     21399 37593\\n     21400 37594\\n     21401 37595\\n     21402 37730\\n     21403 37730\\n     21404 37734\\n     21405 37738\\n     21406 37739\\n     21407 37739\\n     21408 37740\\n     21409 37670\\n     21410 37671\\n     21411 37672\\n     21412 37741\\n     21413 37741\\n     21414 37741\\n     21415 37742\\n     21416 37742\\n     21417 37742\\n     21418 37676\\n     21419 37677\\n     21420 37678\\n     21421 37679\\n     21422 37680\\n     21423 37744\\n     21424 37745\\n     21425 37746\\n     21426 37750\\n     21427 37751\\n     21428 37810\\n     21429 37811\\n     21430 37812\\n     21431 37813\\n     21432 37814\\n     21433 37815\\n     21434 37685\\n     21435 37686\\n     21436 37752\\n     21437 37755\\n     21438 37756\\n     21439 37756\\n     21440 37759\\n     21441 37759\\n     21442 37890\\n     21443 37891\\n     21444 37822\\n     21445 37822\\n     21446 37823\\n     21447 37824\\n     21448 37825\\n     21449 37760\\n     21450 37768\\n     21451 37768\\n     21452 37831\\n     21453 37831\\n     21454 37900\\n     21455 37900\\n     21456 37900\\n     21457 37900\\n     21458 37487\\n     21459 37769\\n     21460 37769\\n     21461 37769\\n     21462 37769\\n     21463 37769\\n     21464 37630\\n     21465 37788\\n     21466 37914\\n     21467 37852\\n     21468 37852\\n     21469 37789\\n     21470 37856\\n     21471 37856\\n     21472 37856\\n     21473 37718\\n     21474 37718\\n     21475 37718\\n     21476 37718\\n     21477 37718\\n     21478 37718\\n     21479 37718\\n     21480 37718\\n     21481 37417\\n     21482 37857\\n     21483 37857\\n     21484 37857\\n     21485 37857\\n     21486 37790\\n     21487 37790\\n     21488 37790\\n     21489 37790\\n     21490 37720\\n     21491 37720\\n     21492 37720\\n     21493 37721\\n     21494 37722\\n     21495 37723\\n     21496 37724\\n     21497 37725\\n     21498 37726\\n     21499 37727\\n     21500 37728\\n     21501 37791\\n     21502 37791\\n     21503 37791\\n     21504 37593\\n     21505 37594\\n     21506 37595\\n     21507 37792\\n     21508 37792\\n     21509 37799\\n     21510 37799\\n     21511 37737\\n     21512 37800\\n     21513 37800\\n     21514 37801\\n     21515 37801\\n     21516 37802\\n     21517 37802\\n     21518 37803\\n     21519 37803\\n     21520 37803\\n     21521 37803\\n     21522 37872\\n     21523 37872\\n     21524 37804\\n     21525 37805\\n     21526 37806\\n     21527 37806\\n     21528 37806\\n     21529 37679\\n     21530 37744\\n     21531 37744\\n     21532 37745\\n     21533 37746\\n     21534 37747\\n     21535 37807\\n     21536 37807\\n     21537 37808\\n     21538 37809\\n     21539 37814\\n     21540 37815\\n     21541 37815\\n     21542 37879\\n     21543 37880\\n     21544 37753\\n     21545 37882\\n     21546 37755\\n     21547 37816\\n     21548 37821\\n     21549 37890\\n     21550 37891\\n     21551 37892\\n     21552 37822\\n     21553 37823\\n     21554 37825\\n     21555 37826\\n     21556 37826\\n     21557 37830\\n     21558 37831\\n     21559 37831\\n     21560 37900\\n     21561 37900\\n     21562 37900\\n     21563 37949\\n     21564 38001\\n     21565 37950\\n     21566 37832\\n     21567 37832\\n     21568 37832\\n     21569 37832\\n     21570 37832\\n     21571 37832\\n     21572 37851\\n     21573 37914\\n     21574 37914\\n     21575 37852\\n     21576 37852\\n     21577 37856\\n     21578 37856\\n     21579 37718\\n     21580 37718\\n     21581 37718\\n     21582 37718\\n     21583 37718\\n     21584 37718\\n     21585 37718\\n     21586 37718\\n     21587 37857\\n     21588 37857\\n     21589 37857\\n     21590 37857\\n     21591 37857\\n     21592 37857\\n     21593 37858\\n     21594 37858\\n     21595 37858\\n     21596 37720\\n     21597 37859\\n     21598 37860\\n     21599 37861\\n     21600 37861\\n     21601 37919\\n     21602 37920\\n     21603 37862\\n     21604 37862\\n     21605 37791\\n     21606 37791\\n     21607 37971\\n     21608 37972\\n     21609 37974\\n     21610 37863\\n     21611 37863\\n     21612 37799\\n     21613 37799\\n     21614 37869\\n     21615 37869\\n     21616 37869\\n     21617 37801\\n     21618 37801\\n     21619 37870\\n     21620 37870\\n     21621 37871\\n     21622 37871\\n     21623 37871\\n     21624 37930\\n     21625 37930\\n     21626 37872\\n     21627 37873\\n     21628 37874\\n     21629 37874\\n     21630 37744\\n     21631 37744\\n     21632 37744\\n     21633 37745\\n     21634 37746\\n     21635 37747\\n     21636 37807\\n     21637 37807\\n     21638 37808\\n     21639 37809\\n     21640 37810\\n     21641 37811\\n     21642 37875\\n     21643 37875\\n     21644 37876\\n     21645 37877\\n     21646 37882\\n     21647 37882\\n     21648 37816\\n     21649 37937\\n     21650 37818\\n     21651 37889\\n     21652 37890\\n     21653 37893\\n     21654 37893\\n     21655 37824\\n     21656 37825\\n     21657 37826\\n     21658 37826\\n     21659 37762\\n     21660 37897\\n     21661 37897\\n     21662 37898\\n     21663 37900\\n     21664 37900\\n     21665 37949\\n     21666 38001\\n     21667 38001\\n     21668 37950\\n     21669 37950\\n     21670 37950\\n     21671 37901\\n     21672 37901\\n     21673 37901\\n     21674 37901\\n     21675 37856\\n     21676 37856\\n     21677 37718\\n     21678 37718\\n     21679 37718\\n     21680 37718\\n     21681 37917\\n     21682 37917\\n     21683 37917\\n     21684 37917\\n     21685 37917\\n     21686 37917\\n     21687 37858\\n     21688 37858\\n     21689 37858\\n     21690 37858\\n     21691 37859\\n     21692 37921\\n     21693 37922\\n     21694 37973\\n     21695 37974\\n     21696 37975\\n     21697 37923\\n     21698 37865\\n     21699 37799\\n     21700 37927\\n     21701 37927\\n     21702 37927\\n     21703 37927\\n     21704 37927\\n     21705 37928\\n     21706 37928\\n     21707 37928\\n     21708 37929\\n     21709 37929\\n     21710 37929\\n     21711 37930\\n     21712 37930\\n     21713 37931\\n     21714 37931\\n     21715 37873\\n     21716 37932\\n     21717 37986\\n     21718 37986\\n     21719 37744\\n     21720 37744\\n     21721 37745\\n     21722 37746\\n     21723 37807\\n     21724 37807\\n     21725 37807\\n     21726 37808\\n     21727 37809\\n     21728 37810\\n     21729 37811\\n     21730 37875\\n     21731 37875\\n     21732 37876\\n     21733 37877\\n     21734 37878\\n     21735 37879\\n     21736 37880\\n     21737 37933\\n     21738 37934\\n     21739 37935\\n     21740 37936\\n     21741 37937\\n     21742 37883\\n     21743 37884\\n     21744 37885\\n     21745 37886\\n     21746 37938\\n     21747 37941\\n     21748 37941\\n     21749 37890\\n     21750 37891\\n     21751 37892\\n     21752 37893\\n     21753 37893\\n     21754 37824\\n     21755 37825\\n     21756 37989\\n     21757 37989\\n     21758 37990\\n     21759 37947\\n     21760 37947\\n     21761 37898\\n     21762 37899\\n     21763 37948\\n     21764 37949\\n     21765 37949\\n     21766 38001\\n     21767 38001\\n     21768 38060\\n     21769 37950\\n     21770 37950\\n     21771 37951\\n     21772 37951\\n     21773 37951\\n     21774 37856\\n     21775 37718\\n     21776 37970\\n     21777 37970\\n     21778 37970\\n     21779 37970\\n     21780 37970\\n     21781 37970\\n     21782 37970\\n     21783 37970\\n     21784 37858\\n     21785 37858\\n     21786 37859\\n     21787 37859\\n     21788 37921\\n     21789 37922\\n     21790 37922\\n     21791 37971\\n     21792 37971\\n     21793 37979\\n     21794 37980\\n     21795 37926\\n     21796 37926\\n     21797 37799\\n     21798 37981\\n     21799 37981\\n     21800 37981\\n     21801 37981\\n     21802 37981\\n     21803 37982\\n     21804 37982\\n     21805 37982\\n     21806 37983\\n     21807 37983\\n     21808 37983\\n     21809 38039\\n     21810 37984\\n     21811 37931\\n     21812 37985\\n     21813 37985\\n     21814 37986\\n     21815 37986\\n     21816 37986\\n     21817 38092\\n     21818 38092\\n     21819 38189\\n     21820 38190\\n     21821 37807\\n     21822 37807\\n     21823 37807\\n     21824 37808\\n     21825 37809\\n     21826 37810\\n     21827 37875\\n     21828 37875\\n     21829 37875\\n     21830 37876\\n     21831 37877\\n     21832 37878\\n     21833 37879\\n     21834 37933\\n     21835 37933\\n     21836 37934\\n     21837 37935\\n     21838 37936\\n     21839 37987\\n     21840 37987\\n     21841 37884\\n     21842 37885\\n     21843 37988\\n     21844 37988\\n     21845 37939\\n     21846 37940\\n     21847 37941\\n     21848 37941\\n     21849 38099\\n     21850 38044\\n     21851 38044\\n     21852 38045\\n     21853 38046\\n     21854 38047\\n     21855 38048\\n     21856 38049\\n     21857 37989\\n     21858 37990\\n     21859 37998\\n     21860 37947\\n     21861 37947\\n     21862 37898\\n     21863 37948\\n     21864 37948\\n     21865 37999\\n     21866 38001\\n     21867 38001\\n     21868 38060\\n     21869 38002\\n     21870 38002\\n     21871 37951\\n     21872 37951\\n     21873 37951\\n     21874 38024\\n     21875 38024\\n     21876 38024\\n     21877 38024\\n     21878 38024\\n     21879 38024\\n     21880 38024\\n     21881 37859\\n     21882 37859\\n     21883 38081\\n     21884 38082\\n     21885 38083\\n     21886 38084\\n     21887 37971\\n     21888 37972\\n     21889 37973\\n     21890 38025\\n     21891 38026\\n     21892 38027\\n     21893 38034\\n     21894 37978\\n     21895 37979\\n     21896 37980\\n     21897 37980\\n     21898 37926\\n     21899 38035\\n     21900 38035\\n     21901 38035\\n     21902 38035\\n     21903 38035\\n     21904 38035\\n     21905 38036\\n     21906 38036\\n     21907 38036\\n     21908 38037\\n     21909 38037\\n     21910 38038\\n     21911 38039\\n     21912 38040\\n     21913 38040\\n     21914 38040\\n     21915 37985\\n     21916 37985\\n     21917 38092\\n     21918 38092\\n     21919 38092\\n     21920 38188\\n     21921 38189\\n     21922 38190\\n     21923 38191\\n     21924 38192\\n     21925 38192\\n     21926 38192\\n     21927 37809\\n     21928 38248\\n     21929 37875\\n     21930 37875\\n     21931 37875\\n     21932 37876\\n     21933 37877\\n     21934 37878\\n     21935 37933\\n     21936 37933\\n     21937 37933\\n     21938 37934\\n     21939 37935\\n     21940 38042\\n     21941 38042\\n     21942 38094\\n     21943 38143\\n     21944 38144\\n     21945 37988\\n     21946 37988\\n     21947 38043\\n     21948 38043\\n     21949 38097\\n     21950 38098\\n     21951 38099\\n     21952 38100\\n     21953 38044\\n     21954 38045\\n     21955 38046\\n     21956 38051\\n     21957 38052\\n     21958 38053\\n     21959 38057\\n     21960 38108\\n     21961 38109\\n     21962 38109\\n     21963 38157\\n     21964 37999\\n     21965 37999\\n     21966 38000\\n     21967 38058\\n     21968 38059\\n     21969 38060\\n     21970 38061\\n     21971 38061\\n     21972 38061\\n     21973 38061\\n     21974 37951\\n     21975 38069\\n     21976 38069\\n     21977 38069\\n     21978 38024\\n     21979 38024\\n     21980 38024\\n     21981 38024\\n     21982 38024\\n     21983 38228\\n     21984 38228\\n     21985 38228\\n     21986 38080\\n     21987 38081\\n     21988 38082\\n     21989 38083\\n     21990 38084\\n     21991 38084\\n     21992 38084\\n     21993 38025\\n     21994 38025\\n     21995 38026\\n     21996 38085\\n     21997 38032\\n     21998 38033\\n     21999 38034\\n     22000 38034\\n     22001 37979\\n     22002 37980\\n     22003 37980\\n     22004 37980\\n     22005 37926\\n     22006 38035\\n     22007 38035\\n     22008 38035\\n     22009 38035\\n     22010 38035\\n     22011 38088\\n     22012 38088\\n     22013 38088\\n     22014 38088\\n     22015 38037\\n     22016 38037\\n     22017 38089\\n     22018 38090\\n     22019 38040\\n     22020 38040\\n     22021 38091\\n     22022 38091\\n     22023 38091\\n     22024 38092\\n     22025 38092\\n     22026 38092\\n     22027 38188\\n     22028 38189\\n     22029 38190\\n     22030 38191\\n     22031 38192\\n     22032 38192\\n     22033 38192\\n     22034 38247\\n     22035 38248\\n     22036 38249\\n     22037 38250\\n     22038 38251\\n     22039 38251\\n     22040 38251\\n     22041 37878\\n     22042 37933\\n     22043 37933\\n     22044 37933\\n     22045 37934\\n     22046 38093\\n     22047 38093\\n     22048 38093\\n     22049 38094\\n     22050 38094\\n     22051 38143\\n     22052 38144\\n     22053 38145\\n     22054 38146\\n     22055 38095\\n     22056 38096\\n     22057 38097\\n     22058 38098\\n     22059 38102\\n     22060 38103\\n     22061 38103\\n     22062 38048\\n     22063 38049\\n     22064 38050\\n     22065 38051\\n     22066 38052\\n     22067 38053\\n     22068 38104\\n     22069 38109\\n     22070 38109\\n     22071 38157\\n     22072 38157\\n     22073 37999\\n     22074 38058\\n     22075 38058\\n     22076 38059\\n     22077 38110\\n     22078 38111\\n     22079 38112\\n     22080 38112\\n     22081 38160\\n     22082 38209\\n     22083 38119\\n     22084 38119\\n     22085 38119\\n     22086 38119\\n     22087 38119\\n     22088 38119\\n     22089 38119\\n     22090 37777\\n     22091 38024\\n     22092 38024\\n     22093 38024\\n     22094 38024\\n     22095 38288\\n     22096 38228\\n     22097 38228\\n     22098 38228\\n     22099 38129\\n     22100 38081\\n     22101 38082\\n     22102 38083\\n     22103 38130\\n     22104 38130\\n     22105 38130\\n     22106 38177\\n     22107 38131\\n     22108 38131\\n     22109 38132\\n     22110 38135\\n     22111 38034\\n     22112 38034\\n     22113 38034\\n     22114 37980\\n     22115 37980\\n     22116 37980\\n     22117 37980\\n     22118 38035\\n     22119 38035\\n     22120 38035\\n     22121 38035\\n     22122 38035\\n     22123 38136\\n     22124 38136\\n     22125 38136\\n     22126 38136\\n     22127 38137\\n     22128 38137\\n     22129 38137\\n     22130 38138\\n     22131 38138\\n     22132 38138\\n     22133 38040\\n     22134 38139\\n     22135 38139\\n     22136 38139\\n     22137 38140\\n     22138 38187\\n     22139 38188\\n     22140 38189\\n     22141 38190\\n     22142 38191\\n     22143 38192\\n     22144 38192\\n     22145 38246\\n     22146 38247\\n     22147 38248\\n     22148 38249\\n     22149 38250\\n     22150 38251\\n     22151 38251\\n     22152 38251\\n     22153 38302\\n     22154 38303\\n     22155 38304\\n     22156 38305\\n     22157 38306\\n     22158 38093\\n     22159 38093\\n     22160 38093\\n     22161 38141\\n     22162 38142\\n     22163 38143\\n     22164 38144\\n     22165 38148\\n     22166 38149\\n     22167 38150\\n     22168 38099\\n     22169 38100\\n     22170 38101\\n     22171 38102\\n     22172 38103\\n     22173 38103\\n     22174 38048\\n     22175 38049\\n     22176 38050\\n     22177 38051\\n     22178 38052\\n     22179 38151\\n     22180 38151\\n     22181 38157\\n     22182 38157\\n     22183 38206\\n     22184 38206\\n     22185 38263\\n     22186 38110\\n     22187 38110\\n     22188 38158\\n     22189 38160\\n     22190 38168\\n     22191 38168\\n     22192 38168\\n     22193 38168\\n     22194 38168\\n     22195 38168\\n     22196 38168\\n     22197 38024\\n     22198 38024\\n     22199 38024\\n     22200 38024\\n     22201 38288\\n     22202 38288\\n     22203 38228\\n     22204 38228\\n     22205 38228\\n     22206 38176\\n     22207 38176\\n     22208 38176\\n     22209 38082\\n     22210 38130\\n     22211 38130\\n     22212 38130\\n     22213 38231\\n     22214 38232\\n     22215 38177\\n     22216 38178\\n     22217 38179\\n     22218 38135\\n     22219 38295\\n     22220 38034\\n     22221 38034\\n     22222 37980\\n     22223 37980\\n     22224 37980\\n     22225 37980\\n     22226 38346\\n     22227 38346\\n     22228 38346\\n     22229 38346\\n     22230 38346\\n     22231 38346\\n     22232 38035\\n     22233 38035\\n     22234 38183\\n     22235 38183\\n     22236 38183\\n     22237 38183\\n     22238 38239\\n     22239 38239\\n     22240 38240\\n     22241 38184\\n     22242 38138\\n     22243 38138\\n     22244 38138\\n     22245 38138\\n     22246 38139\\n     22247 38139\\n     22248 38139\\n     22249 38190\\n     22250 38191\\n     22251 38192\\n     22252 38192\\n     22253 38246\\n     22254 38247\\n     22255 38248\\n     22256 38249\\n     22257 38250\\n     22258 38251\\n     22259 38251\\n     22260 38301\\n     22261 38302\\n     22262 38303\\n     22263 38304\\n     22264 38305\\n     22265 38306\\n     22266 38306\\n     22267 38252\\n     22268 38252\\n     22269 38193\\n     22270 38196\\n     22271 38196\\n     22272 38146\\n     22273 38147\\n     22274 38148\\n     22275 38198\\n     22276 38198\\n     22277 38100\\n     22278 38101\\n     22279 38102\\n     22280 38103\\n     22281 38103\\n     22282 38103\\n     22283 38049\\n     22284 38050\\n     22285 38051\\n     22286 38151\\n     22287 38151\\n     22288 38151\\n     22289 38199\\n     22290 38205\\n     22291 38206\\n     22292 38206\\n     22293 38263\\n     22294 38263\\n     22295 38158\\n     22296 38158\\n     22297 38207\\n     22298 38207\\n     22299 38168\\n     22300 38168\\n     22301 38168\\n     22302 38168\\n     22303 38168\\n     22304 38168\\n     22305 38168\\n     22306 38024\\n     22307 38024\\n     22308 38288\\n     22309 38288\\n     22310 38288\\n     22311 38288\\n     22312 38228\\n     22313 38228\\n     22314 38229\\n     22315 38230\\n     22316 38230\\n     22317 38176\\n     22318 38176\\n     22319 38130\\n     22320 38130\\n     22321 38130\\n     22322 38231\\n     22323 38231\\n     22324 38232\\n     22325 38177\\n     22326 38178\\n     22327 38233\\n     22328 38235\\n     22329 38236\\n     22330 38295\\n     22331 38345\\n     22332 38345\\n     22333 38345\\n     22334 37980\\n     22335 37980\\n     22336 38346\\n     22337 38346\\n     22338 38346\\n     22339 38346\\n     22340 38346\\n     22341 38346\\n     22342 38346\\n     22343 38346\\n     22344 38238\\n     22345 38238\\n     22346 38238\\n     22347 38238\\n     22348 38239\\n     22349 38239\\n     22350 38240\\n     22351 38241\\n     22352 38241\\n     22353 38241\\n     22354 38138\\n     22355 38138\\n     22356 38139\\n     22357 38242\\n     22358 38242\\n     22359 38242\\n     22360 38249\\n     22361 38250\\n     22362 38251\\n     22363 38251\\n     22364 38301\\n     22365 38302\\n     22366 38303\\n     22367 38304\\n     22368 38305\\n     22369 38306\\n     22370 38306\\n     22371 38307\\n     22372 38252\\n     22373 38196\\n     22374 38146\\n     22375 38312\\n     22376 38312\\n     22377 38312\\n     22378 38357\\n     22379 38103\\n     22380 38103\\n     22381 38103\\n     22382 38049\\n     22383 38050\\n     22384 38151\\n     22385 38151\\n     22386 38151\\n     22387 38199\\n     22388 38199\\n     22389 38257\\n     22390 38262\\n     22391 38263\\n     22392 38263\\n     22393 38319\\n     22394 38319\\n     22395 38207\\n     22396 38207\\n     22397 38208\\n     22398 38264\\n     22399 38272\\n     22400 38272\\n     22401 38168\\n     22402 38168\\n     22403 38168\\n     22404 38168\\n     22405 38168\\n     22406 38288\\n     22407 38288\\n     22408 38288\\n     22409 38288\\n     22410 38288\\n     22411 38288\\n     22412 38289\\n     22413 38229\\n     22414 38230\\n     22415 38230\\n     22416 38230\\n     22417 38176\\n     22418 38130\\n     22419 38290\\n     22420 38290\\n     22421 38290\\n     22422 38290\\n     22423 38290\\n     22424 38291\\n     22425 38291\\n     22426 38235\\n     22427 38236\\n     22428 38294\\n     22429 38345\\n     22430 38345\\n     22431 38345\\n     22432 38345\\n     22433 38346\\n     22434 38346\\n     22435 38346\\n     22436 38346\\n     22437 38346\\n     22438 38346\\n     22439 38346\\n     22440 38346\\n     22441 38346\\n     22442 38346\\n     22443 38238\\n     22444 38238\\n     22445 38238\\n     22446 38296\\n     22447 38296\\n     22448 38297\\n     22449 38297\\n     22450 38241\\n     22451 38241\\n     22452 38241\\n     22453 38241\\n     22454 38242\\n     22455 38242\\n     22456 38242\\n     22457 38242\\n     22458 38303\\n     22459 38304\\n     22460 38305\\n     22461 38306\\n     22462 38306\\n     22463 38307\\n     22464 38312\\n     22465 38357\\n     22466 38357\\n     22467 38357\\n     22468 38357\\n     22469 38103\\n     22470 38049\\n     22471 38050\\n     22472 38151\\n     22473 38151\\n     22474 38199\\n     22475 38313\\n     22476 38313\\n     22477 38313\\n     22478 38318\\n     22479 38319\\n     22480 38364\\n     22481 38365\\n     22482 38365\\n     22483 38264\\n     22484 38330\\n     22485 38330\\n     22486 38330\\n     22487 38330\\n     22488 38168\\n     22489 38168\\n     22490 38168\\n'"
      ]
     },
     "execution_count": 88,
     "metadata": {},
     "output_type": "execute_result"
    }
   ],
   "source": [
    "l[0]"
   ]
  },
  {
   "cell_type": "markdown",
   "id": "c0508908",
   "metadata": {},
   "source": [
    "# 4. Write MVR file "
   ]
  },
  {
   "cell_type": "code",
   "execution_count": 89,
   "id": "63fdaa2c",
   "metadata": {},
   "outputs": [],
   "source": [
    "Pa_MVR = PJ(d_Pa['Pa_Mdl'], f'In/MVR/{MdlN}/{MdlN}.MVR')"
   ]
  },
  {
   "cell_type": "code",
   "execution_count": 93,
   "id": "307b84fb",
   "metadata": {},
   "outputs": [
    {
     "data": {
      "text/plain": [
       "Path('C:/OD/WS_Mdl/models/NBr/In/MVR/NBr30/NBr30.MVR')"
      ]
     },
     "execution_count": 93,
     "metadata": {},
     "output_type": "execute_result"
    }
   ],
   "source": [
    "w_MVR(DF2, filename=Pa_MVR, Pkg1='DRN_SYS1', Pkg2='SFR')"
   ]
  },
  {
   "cell_type": "markdown",
   "id": "5fbc623d",
   "metadata": {},
   "source": [
    "# -1. Junkyard"
   ]
  },
  {
   "cell_type": "markdown",
   "id": "994acb4a",
   "metadata": {},
   "source": [
    "N_R"
   ]
  },
  {
   "cell_type": "markdown",
   "id": "ada7421b",
   "metadata": {},
   "source": [
    "N_C"
   ]
  },
  {
   "cell_type": "markdown",
   "id": "6f9600b8",
   "metadata": {},
   "source": [
    "196241 == 22490 + 163476 + 10275"
   ]
  },
  {
   "cell_type": "markdown",
   "id": "513d4889",
   "metadata": {},
   "source": [
    "196241 - 185966"
   ]
  },
  {
   "cell_type": "markdown",
   "id": "18465050",
   "metadata": {},
   "source": [
    "(22505-15)*2 "
   ]
  },
  {
   "cell_type": "markdown",
   "id": "690d76f6",
   "metadata": {},
   "source": [
    "45001-15"
   ]
  },
  {
   "cell_type": "markdown",
   "id": "2d14e278",
   "metadata": {},
   "source": [
    "#### Explore DRN_SFR_Match."
   ]
  },
  {
   "cell_type": "markdown",
   "id": "1e3da679",
   "metadata": {},
   "source": [
    "tree, SFR_i = DRN_SFR_match._build_SFR_tree(A_SFR_Atv)"
   ]
  },
  {
   "cell_type": "markdown",
   "id": "b383a7a9",
   "metadata": {},
   "source": [
    "target_mask = (A_DRN_Atv.astype(bool) if A_DRN_Atv is not None else xr.ones_like(A_SFR_Atv, dtype=bool))"
   ]
  },
  {
   "cell_type": "markdown",
   "id": "09ef15d0",
   "metadata": {},
   "source": [
    "targ_idx = DRN_SFR_match._as_index_array(target_mask)"
   ]
  },
  {
   "cell_type": "markdown",
   "id": "ddb4db9c",
   "metadata": {},
   "source": [
    "dist, nearest_pos = tree.query(targ_idx, k=1)\n",
    "nearest_i = SFR_i[nearest_pos]"
   ]
  },
  {
   "cell_type": "markdown",
   "id": "2c930a6e",
   "metadata": {},
   "source": [
    "from math import sqrt\n",
    "sqrt(16**2 + 15**2)"
   ]
  },
  {
   "cell_type": "markdown",
   "id": "36d850bf",
   "metadata": {},
   "source": [
    "nearest_pos"
   ]
  },
  {
   "cell_type": "markdown",
   "id": "5e599bd1",
   "metadata": {},
   "source": [
    "nearest_i"
   ]
  },
  {
   "cell_type": "markdown",
   "id": "07d92258",
   "metadata": {},
   "source": [
    "nearest_pos"
   ]
  },
  {
   "cell_type": "markdown",
   "id": "4eb4cdc0",
   "metadata": {},
   "source": [
    "SFR_i.shape[]"
   ]
  },
  {
   "cell_type": "markdown",
   "id": "3c854c03",
   "metadata": {},
   "source": [
    "type(dist)"
   ]
  },
  {
   "cell_type": "markdown",
   "id": "9e085832",
   "metadata": {},
   "source": [
    "pd.Series(dist, name='a').describe()"
   ]
  },
  {
   "cell_type": "markdown",
   "id": "8ff3190a",
   "metadata": {},
   "source": [
    "DF = pd.DataFrame({\"Tgt_L\": targ_idx[:, 0],\n",
    "                    \"Tgt_R\": targ_idx[:, 1],\n",
    "                    \"Tgt_C\": targ_idx[:, 2],\n",
    "                    \"SFR_L\": nearest_i[:, 0],\n",
    "                    \"SFR_R\": nearest_i[:, 1],\n",
    "                    \"SFR_C\": nearest_i[:, 2],\n",
    "                    \"distance\": dist,})"
   ]
  },
  {
   "cell_type": "markdown",
   "id": "e9c03ca1",
   "metadata": {},
   "source": [
    "DF[DF.columns.drop('distance')] = DF[DF.columns.drop('distance')] + 1 # Add 1 to all indices to convert from 0-based to 1-based indexing."
   ]
  },
  {
   "cell_type": "markdown",
   "id": "c2df981d",
   "metadata": {},
   "source": [
    "DF['distance'] = DF['distance'].round(2)"
   ]
  },
  {
   "cell_type": "markdown",
   "id": "d6cac8d8",
   "metadata": {},
   "source": [
    "#### Investigation of inconsistencies between Sys1 & 3 active arrays"
   ]
  },
  {
   "cell_type": "markdown",
   "id": "d27f9d6f",
   "metadata": {},
   "source": [
    "i = 1\n",
    "d_Diff[list(d_Diff.keys())[i]][0].plot()\n",
    "d_Diff[list(d_Diff.keys())[i]][1].plot()"
   ]
  },
  {
   "cell_type": "markdown",
   "id": "5c05d371",
   "metadata": {},
   "source": [
    "d_Diff"
   ]
  },
  {
   "cell_type": "markdown",
   "id": "eec701a0",
   "metadata": {},
   "source": [
    "A3 = xr.where( (A1==1) & (A2==0), 1, 0)\n",
    "A4 = xr.where( (A1==0) & (A2==1), 1, 0)                \n",
    "A3.plot()"
   ]
  },
  {
   "cell_type": "markdown",
   "id": "4821f53c",
   "metadata": {},
   "source": [
    "A4.plot()"
   ]
  },
  {
   "cell_type": "markdown",
   "id": "c4a81b9d",
   "metadata": {},
   "source": [
    "#### Initial attempt to connect"
   ]
  },
  {
   "cell_type": "markdown",
   "id": "2a088c40",
   "metadata": {},
   "source": [
    "os.listdir(Pa_TOP)\n",
    "Fi_TOP_L1 = [i for i in os.listdir(Pa_TOP) if ('_L1_' in i) and ('.dvc' not in i)]\n",
    "TOP = imod.formats.idf.open(PJ(Pa_TOP, Fi_TOP_L1[0]), pattern=\"{name}_L{layer}_\").sel(x=slice(Xmin, Xmax), y=slice(Ymax, Ymin))\n",
    "PJ(Pa_TOP, Fi_TOP_L1[0])\n",
    "TOP.plot()"
   ]
  },
  {
   "cell_type": "markdown",
   "id": "69c25c5f",
   "metadata": {},
   "source": [
    "OFFSETS = [(-1,  0),  # 0: N\n",
    "           (-1,  1),  # 1: NE\n",
    "           ( 0,  1),  # 2: E\n",
    "           ( 1,  1),  # 3: SE\n",
    "           ( 1,  0),  # 4: S\n",
    "           ( 1, -1),  # 5: SW\n",
    "           ( 0, -1),  # 6: W\n",
    "           (-1, -1)]  # 7: NW\n",
    "\n",
    "def flow_direction_xr(elev_da: xr.DataArray) -> xr.DataArray:\n",
    "    \"\"\"\n",
    "    Compute D8 flow-direction grid for a 2-D xarray DataArray\n",
    "    (dims: 'y', 'x').  Returns a new DataArray with int16 codes.\n",
    "\n",
    "    Codes: 0-7 clockwise from North; -1 = sink / flat / edge.\n",
    "    \"\"\"\n",
    "    if list(elev_da.dims) != ['y', 'x']:\n",
    "        raise ValueError(\"Input DataArray must have dims ('y','x').\")\n",
    "\n",
    "    # Stack the 8 drops into a new 'direction' dimension\n",
    "    drops = []\n",
    "    for di, dj in OFFSETS:\n",
    "        # shift puts neighbour into candidate cell; NaNs created at edges\n",
    "        shifted = elev_da.shift(y=-di, x=-dj)\n",
    "        drop = elev_da - shifted\n",
    "        drop = drop.where(~np.isnan(shifted), -np.inf)   # no descent beyond edge\n",
    "        drops.append(drop)\n",
    "\n",
    "    drop_stack = xr.concat(drops, dim='direction')       # shape: (direction, y, x)\n",
    "\n",
    "    # Best direction & maximum drop\n",
    "    best_dir = drop_stack.argmax(dim='direction')        # int indices 0-7\n",
    "    max_drop = drop_stack.max(dim='direction')\n",
    "\n",
    "    # Mark cells with no downhill neighbour (max_drop ≤ 0) as -1\n",
    "    flow_dir = best_dir.where(max_drop > 0, -1).astype(np.int16)\n",
    "\n",
    "    # Nice metadata\n",
    "    flow_dir.name = 'flow_dir'\n",
    "    flow_dir.attrs.update(\n",
    "        description=\"D8 flow direction (0=N … 7=NW, -1=sink/flat/edge)\",\n",
    "        nodata=-1\n",
    "    )\n",
    "    return flow_dir"
   ]
  },
  {
   "cell_type": "markdown",
   "id": "79a2c7ac",
   "metadata": {},
   "source": [
    "A = flow_direction_xr(TOP)"
   ]
  }
 ],
 "metadata": {
  "kernelspec": {
   "display_name": "Python 3",
   "language": "python",
   "name": "python3"
  },
  "language_info": {
   "codemirror_mode": {
    "name": "ipython",
    "version": 3
   },
   "file_extension": ".py",
   "mimetype": "text/x-python",
   "name": "python",
   "nbconvert_exporter": "python",
   "pygments_lexer": "ipython3",
   "version": "3.12.8"
  }
 },
 "nbformat": 4,
 "nbformat_minor": 5
}
