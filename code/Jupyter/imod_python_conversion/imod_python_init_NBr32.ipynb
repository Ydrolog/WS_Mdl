{
 "cells": [
  {
   "cell_type": "markdown",
   "id": "45323fb4",
   "metadata": {},
   "source": [
    "# Imports"
   ]
  },
  {
   "cell_type": "code",
   "execution_count": null,
   "id": "ae3f08e7",
   "metadata": {},
   "outputs": [],
   "source": [
    "import WS_Mdl.utils as U\n",
    "import WS_Mdl.utils_imod as UIM"
   ]
  },
  {
   "cell_type": "code",
   "execution_count": null,
   "id": "5bde7958",
   "metadata": {},
   "outputs": [],
   "source": [
    "import matplotlib.pyplot as plt\n",
    "import numpy as np\n",
    "import os\n",
    "from os import listdir as LD, makedirs as MDs\n",
    "from os.path import join as PJ, basename as PBN, dirname as PDN, exists as PE\n",
    "import pandas as pd\n",
    "from datetime import datetime as DT"
   ]
  },
  {
   "cell_type": "code",
   "execution_count": null,
   "id": "2d4f76d6",
   "metadata": {},
   "outputs": [],
   "source": [
    "from imod import msw\n",
    "from imod import mf6"
   ]
  },
  {
   "cell_type": "code",
   "execution_count": null,
   "id": "87aced2c",
   "metadata": {},
   "outputs": [],
   "source": [
    "import primod"
   ]
  },
  {
   "cell_type": "code",
   "execution_count": null,
   "id": "baa0e0c2",
   "metadata": {},
   "outputs": [],
   "source": [
    "import importlib as IL\n",
    "IL.reload(U)\n",
    "IL.reload(UIM)\n",
    "IL.reload(primod)\n",
    "IL.reload(msw)\n",
    "IL.reload(mf6)"
   ]
  },
  {
   "cell_type": "markdown",
   "id": "2125c45b",
   "metadata": {},
   "source": [
    "# Options + Basics"
   ]
  },
  {
   "cell_type": "code",
   "execution_count": null,
   "id": "7302b9fb",
   "metadata": {},
   "outputs": [],
   "source": [
    "MdlN = 'NBr32'"
   ]
  },
  {
   "cell_type": "code",
   "execution_count": null,
   "id": "ce246892",
   "metadata": {},
   "outputs": [],
   "source": [
    "U.set_verbose(False)"
   ]
  },
  {
   "cell_type": "code",
   "execution_count": null,
   "id": "a543c73a",
   "metadata": {},
   "outputs": [],
   "source": [
    "# Load paths and variables from PRJ & INI\n",
    "d_Pa = U.get_MdlN_Pa(MdlN)\n",
    "Pa_PRJ = d_Pa['PRJ']\n",
    "Dir_PRJ = PDN(Pa_PRJ)\n",
    "d_INI = U.INI_to_d(d_Pa['INI'])\n",
    "Xmin, Ymin, Xmax, Ymax = [float(i) for i in d_INI['WINDOW'].split(',')]\n",
    "SP_date_1st, SP_date_last = [DT.strftime(DT.strptime(d_INI[f'{i}'], '%Y%m%d'), '%Y-%m-%d') for i in ['SDATE', 'EDATE']]\n",
    "dx = dy = float(d_INI['CELLSIZE'])"
   ]
  },
  {
   "cell_type": "markdown",
   "id": "1479689a",
   "metadata": {},
   "source": [
    "# Load PRJ"
   ]
  },
  {
   "cell_type": "code",
   "execution_count": null,
   "id": "2db71674",
   "metadata": {},
   "outputs": [],
   "source": [
    "PRJ_, PRJ_OBS = UIM.o_PRJ_with_OBS(Pa_PRJ)"
   ]
  },
  {
   "cell_type": "code",
   "execution_count": null,
   "id": "f43af1a6",
   "metadata": {},
   "outputs": [],
   "source": [
    "PRJ, period_data = PRJ_[0], PRJ_[1]"
   ]
  },
  {
   "cell_type": "markdown",
   "id": "3e2f13d7",
   "metadata": {},
   "source": [
    "# Load DIS and limit to Mdl Aa"
   ]
  },
  {
   "cell_type": "code",
   "execution_count": null,
   "id": "1cc7e265",
   "metadata": {},
   "outputs": [],
   "source": [
    "PRJ_regrid = UIM.regrid_PRJ(PRJ, MdlN)"
   ]
  },
  {
   "cell_type": "code",
   "execution_count": null,
   "id": "48c0976f",
   "metadata": {},
   "outputs": [],
   "source": [
    "BND = PRJ_regrid['bnd']['ibound']"
   ]
  },
  {
   "cell_type": "code",
   "execution_count": null,
   "id": "c8598a0a",
   "metadata": {},
   "outputs": [],
   "source": [
    "# Set outer boundaries to -1 (for CHD)\n",
    "\n",
    "# Get the coordinate indices for boundaries\n",
    "y_coords = BND.y\n",
    "x_coords = BND.x\n",
    "first_y = y_coords.isel(y=0)  # First y coordinate\n",
    "last_y = y_coords.isel(y=-1)  # Last y coordinate  \n",
    "first_x = x_coords.isel(x=0)  # First x coordinate\n",
    "last_x = x_coords.isel(x=-1)  # Last x coordinate\n",
    "\n",
    "# Set boundary values using .loc indexing\n",
    "BND.loc[:, first_y, :] = -1  # Top row (all layers, first y, all x)\n",
    "BND.loc[:, last_y, :] = -1   # Bottom row (all layers, last y, all x)\n",
    "BND.loc[:, :, first_x] = -1  # Left column (all layers, all y, first x)  \n",
    "BND.loc[:, :, last_x] = -1   # Right column (all layers, all y, last x)\n",
    "\n",
    "print(\"✅ Boundary conditions set successfully!\")"
   ]
  },
  {
   "cell_type": "code",
   "execution_count": null,
   "id": "b1ba325d",
   "metadata": {},
   "outputs": [],
   "source": [
    "BND.isel(layer=0, x=range(0,10), y=range(0,10)).plot.imshow(cmap='viridis')"
   ]
  },
  {
   "cell_type": "markdown",
   "id": "4d427856",
   "metadata": {},
   "source": [
    "# Load MF6 Mdl"
   ]
  },
  {
   "cell_type": "code",
   "execution_count": null,
   "id": "aa7236f9",
   "metadata": {},
   "outputs": [],
   "source": [
    "times = pd.date_range(SP_date_1st, SP_date_last, freq='D')"
   ]
  },
  {
   "cell_type": "markdown",
   "id": "f749ccb3",
   "metadata": {},
   "source": [
    "Using original PRJ to load MF6 Mdl gives warnings (and it's very slow). Thus, well use the regridded PRJ, which is much faster. It can be further sped up by multi-processing, but this is not implemented yet."
   ]
  },
  {
   "cell_type": "code",
   "execution_count": null,
   "id": "f749ccb3",
   "metadata": {},
   "outputs": [],
   "source": [
    "Sim_MF6 = mf6.Modflow6Simulation.from_imod5_data(PRJ_regrid, period_data, times)"
   ]
  },
  {
   "cell_type": "code",
   "execution_count": null,
   "id": "234ead8b",
   "metadata": {},
   "outputs": [],
   "source": [
    "MF6_Mdl = Sim_MF6['imported_model']"
   ]
  },
  {
   "cell_type": "markdown",
   "id": "19ba84d0",
   "metadata": {},
   "source": [
    "For some reason there is only 1 river system remaining. I'd expect at least 2 out of 5 (RIV and detailwatergangen) (RIV supposedly has 2, but the one that can discharge into the aquifer has a conductance of 0)."
   ]
  },
  {
   "cell_type": "code",
   "execution_count": null,
   "id": "3e51ba58",
   "metadata": {},
   "outputs": [],
   "source": [
    "MF6_Mdl[\"oc\"] = mf6.OutputControl(save_head=\"last\", save_budget=\"last\")\n",
    "    \n",
    "Sim_MF6[\"ims\"] = UIM.mf6_solution_moderate_settings() # Mimic iMOD5's \"Moderate\" settings"
   ]
  },
  {
   "cell_type": "markdown",
   "id": "6492a155",
   "metadata": {},
   "source": [
    "# Load MSW"
   ]
  },
  {
   "cell_type": "markdown",
   "id": "130f794e",
   "metadata": {},
   "source": [
    "## 1st attempt"
   ]
  },
  {
   "cell_type": "code",
   "execution_count": null,
   "id": "02af4484",
   "metadata": {},
   "outputs": [],
   "source": [
    "MF6_DIS = Sim_MF6[\"imported_model\"][\"dis\"]  # This gets the OLD 100m grid"
   ]
  },
  {
   "cell_type": "code",
   "execution_count": null,
   "id": "eae098c4",
   "metadata": {},
   "outputs": [],
   "source": [
    "PRJ_MSW = {'cap': PRJ_regrid.copy()['cap'], 'extra': PRJ_regrid.copy()['extra']}"
   ]
  },
  {
   "cell_type": "markdown",
   "id": "1936d316",
   "metadata": {},
   "source": [
    "PRJ_regrid['cap'].keys()\n",
    "for i in PRJ_regrid['cap'].keys():\n",
    "    print(f\" === {i} ===\")\n",
    "    print(PRJ_regrid['cap'][i], \"\\n\")\n",
    "x_CeCes, y_CeCes = UIM.get_CeCes_from_INI(MdlN)\n",
    "PRJ['cap']['urban_area'].x.shape[0] / PRJ_regrid['cap']['urban_area'].x.shape[0]\n",
    "len(x_CeCes)\n",
    "PRJ['cap']['urban_area'].sel(x=slice(Xmin, Xmax), y=slice(Ymax, Ymin)).plot(cmap='Spectral')\n",
    "(PRJ['cap']['urban_area'].sel(x=slice(Xmin, Xmax), y=slice(Ymax, Ymin)) / PRJ_regrid['cap']['urban_area']).plot(cmap='Spectral')\n",
    "PRJ_regrid['cap']['urban_area'].plot(cmap='Spectral')"
   ]
  },
  {
   "cell_type": "code",
   "execution_count": null,
   "id": "1ed6fe49",
   "metadata": {},
   "outputs": [],
   "source": [
    "try:\n",
    "    MSW_Mdl = msw.MetaSwapModel.from_imod5_data(PRJ_MSW, MF6_DIS, times)\n",
    "    print(\"🎉 MetaSwap model created successfully!\")\n",
    "except Exception as e:\n",
    "    print(f\"Error creating MetaSwap model: {e}\")\n",
    "    MSW_Mdl = None"
   ]
  },
  {
   "cell_type": "markdown",
   "id": "7a4a578f",
   "metadata": {},
   "source": [
    "## 2nd attempt"
   ]
  },
  {
   "cell_type": "markdown",
   "id": "aa0f189b",
   "metadata": {},
   "source": [
    "### Fix mete_grid.inp relative paths\n",
    "MSW.MetaSwapModel.from_imod5_data is struggling with relative paths, so we'll convert them to full paths. #666 caution, if they're already full paths, this may cause an error."
   ]
  },
  {
   "cell_type": "code",
   "execution_count": null,
   "id": "90bd32c3",
   "metadata": {},
   "outputs": [],
   "source": [
    "# Replace the mete_grid.inp path in the PRJ_MSW_for_MSW dictionary\n",
    "PRJ['extra']['paths'][2][0] = UIM.mete_grid_Cvt_to_AbsPa(Pa_PRJ, PRJ)"
   ]
  },
  {
   "cell_type": "markdown",
   "id": "e2bcabf7",
   "metadata": {},
   "source": [
    "### Finally load MSW Sim"
   ]
  },
  {
   "cell_type": "code",
   "execution_count": null,
   "id": "d5005945",
   "metadata": {},
   "outputs": [],
   "source": [
    "# Create the MetaSwap model\n",
    "MSW_Mdl = msw.MetaSwapModel.from_imod5_data(PRJ_MSW, MF6_DIS, times)\n",
    "print(\"🎉 MetaSwap model loaded successfully!\")"
   ]
  },
  {
   "cell_type": "markdown",
   "id": "2d72c340",
   "metadata": {},
   "source": [
    "# Connect MF6 to MetaSWAP"
   ]
  },
  {
   "cell_type": "markdown",
   "id": "7e79ef78",
   "metadata": {},
   "source": [
    "## Clip models"
   ]
  },
  {
   "cell_type": "code",
   "execution_count": null,
   "id": "06f90a7f",
   "metadata": {},
   "outputs": [],
   "source": [
    "Sim_MF6_AoI = Sim_MF6.clip_box(x_min=Xmin, x_max=Xmax, y_min=Ymin, y_max=Ymax)"
   ]
  },
  {
   "cell_type": "code",
   "execution_count": null,
   "id": "e6be0c8a",
   "metadata": {},
   "outputs": [],
   "source": [
    "MF6_Mdl_AoI = Sim_MF6_AoI['imported_model']"
   ]
  },
  {
   "cell_type": "code",
   "execution_count": null,
   "id": "f76d1d24",
   "metadata": {},
   "outputs": [],
   "source": [
    "MSW_Mdl_AoI = MSW_Mdl.clip_box(x_min=Xmin, x_max=Xmax, y_min=Ymin, y_max=Ymax)"
   ]
  },
  {
   "cell_type": "code",
   "execution_count": null,
   "id": "1c685aa5",
   "metadata": {},
   "outputs": [],
   "source": [
    "print(f\"MF6 Model AoI DIS shape: {MF6_Mdl_AoI['dis'].dataset.sizes}\")\n",
    "print(f\"MSW Model AoI grid shape: {MSW_Mdl_AoI['grid'].dataset.sizes}\")\n",
    "print(\"✅ Both models successfully clipped to Area of Interest with compatible discretization!\")"
   ]
  },
  {
   "cell_type": "code",
   "execution_count": null,
   "id": "045b4d51",
   "metadata": {},
   "outputs": [],
   "source": [
    "MF6_Mdl_AoI['dis'].dataset.equals(MF6_Mdl['dis'].dataset)"
   ]
  },
  {
   "cell_type": "markdown",
   "id": "fc9a2dd7",
   "metadata": {},
   "source": [
    "clip_box doesn't clip the packages I clipped beforehand, but it clips non raster-like packages like WEL and removes packages that are not in the AoI."
   ]
  },
  {
   "cell_type": "markdown",
   "id": "55116693",
   "metadata": {},
   "source": [
    "#### Sense check"
   ]
  },
  {
   "cell_type": "code",
   "execution_count": null,
   "id": "8979c992",
   "metadata": {},
   "outputs": [],
   "source": [
    "Xmin, Xmax, Ymin, Ymax"
   ]
  },
  {
   "cell_type": "code",
   "execution_count": null,
   "id": "44f2727b",
   "metadata": {},
   "outputs": [],
   "source": [
    "MF6_Mdl_AoI['dis']['x'].min().values, MF6_Mdl_AoI['dis']['x'].max().values, \\\n",
    "MF6_Mdl_AoI['dis']['y'].min().values, MF6_Mdl_AoI['dis']['y'].max().values"
   ]
  },
  {
   "cell_type": "markdown",
   "id": "fe2efe09",
   "metadata": {},
   "source": [
    "Makes sense as those are cell centers."
   ]
  },
  {
   "cell_type": "markdown",
   "id": "5648db6c",
   "metadata": {},
   "source": [
    "## Load models into memory"
   ]
  },
  {
   "cell_type": "code",
   "execution_count": null,
   "id": "e260be4c",
   "metadata": {},
   "outputs": [],
   "source": [
    "for pkg in MF6_Mdl_AoI.values():\n",
    "    pkg.dataset.load()\n",
    "\n",
    "for pkg in MSW_Mdl_AoI.values():\n",
    "    pkg.dataset.load()"
   ]
  },
  {
   "cell_type": "markdown",
   "id": "f94ab962",
   "metadata": {},
   "source": [
    "## Cleanup"
   ]
  },
  {
   "cell_type": "markdown",
   "id": "3a3272ea",
   "metadata": {},
   "source": [
    "### MF6"
   ]
  },
  {
   "cell_type": "code",
   "execution_count": null,
   "id": "75111d78",
   "metadata": {},
   "outputs": [],
   "source": [
    "# Create mask from current regridded model (not the old one)\n",
    "mask = MF6_Mdl_AoI.domain"
   ]
  },
  {
   "cell_type": "code",
   "execution_count": null,
   "id": "f0e555af",
   "metadata": {},
   "outputs": [],
   "source": [
    "Sim_MF6_AoI.mask_all_models(mask)\n",
    "DIS_AoI = MF6_Mdl_AoI[\"dis\"]"
   ]
  },
  {
   "cell_type": "markdown",
   "id": "887c7797",
   "metadata": {},
   "source": [
    "### Check if the packages are the same"
   ]
  },
  {
   "cell_type": "code",
   "execution_count": null,
   "id": "bc22c182",
   "metadata": {},
   "outputs": [],
   "source": [
    "MF6_Mdl_AoI = Sim_MF6_AoI['imported_model']"
   ]
  },
  {
   "cell_type": "code",
   "execution_count": null,
   "id": "cb3e3ad0",
   "metadata": {},
   "outputs": [],
   "source": [
    "# Compare the keys of both models\n",
    "keys_equal = MF6_Mdl.keys() == MF6_Mdl_AoI.keys()\n",
    "print(f\"Are the keys identical? {keys_equal}\")\n",
    "print()\n",
    "\n",
    "# Get the actual keys for detailed comparison\n",
    "original_keys = set(MF6_Mdl.keys())\n",
    "aoi_keys = set(MF6_Mdl_AoI.keys())\n",
    "\n",
    "print(\"=== DETAILED KEY COMPARISON ===\")\n",
    "print(f\"Original model has {len(original_keys)} packages:\")\n",
    "for key in sorted(original_keys):\n",
    "    print(f\"  - {key}\")\n",
    "\n",
    "print(f\"\\nAoI model has {len(aoi_keys)} packages:\")\n",
    "for key in sorted(aoi_keys):\n",
    "    print(f\"  - {key}\")\n",
    "\n",
    "# Find differences\n",
    "missing_in_aoi = original_keys - aoi_keys\n",
    "extra_in_aoi = aoi_keys - original_keys\n",
    "common_keys = original_keys & aoi_keys\n",
    "\n",
    "print(f\"\\n=== DIFFERENCES ===\")\n",
    "if missing_in_aoi:\n",
    "    print(f\"Packages REMOVED in AoI model ({len(missing_in_aoi)}):\")\n",
    "    for key in sorted(missing_in_aoi):\n",
    "        print(f\"  ❌ {key}\")\n",
    "        # Try to understand why it was removed\n",
    "        try:\n",
    "            pkg = MF6_Mdl[key]\n",
    "            if hasattr(pkg, 'dataset') and hasattr(pkg.dataset, 'sizes'):\n",
    "                print(f\"     Size in original: {dict(pkg.dataset.sizes)}\")\n",
    "        except:\n",
    "            pass\n",
    "else:\n",
    "    print(\"✅ No packages removed in AoI model\")\n",
    "\n",
    "if extra_in_aoi:\n",
    "    print(f\"\\nPackages ADDED in AoI model ({len(extra_in_aoi)}):\")\n",
    "    for key in sorted(extra_in_aoi):\n",
    "        print(f\"  ➕ {key}\")\n",
    "else:\n",
    "    print(\"✅ No packages added in AoI model\")\n",
    "\n",
    "print(f\"\\nCommon packages: {len(common_keys)}/{len(original_keys)} ({100*len(common_keys)/len(original_keys):.1f}%)\")\n",
    "\n",
    "# Show why packages might be missing\n",
    "if missing_in_aoi:\n",
    "    print(f\"\\n=== WHY PACKAGES WERE REMOVED ===\")\n",
    "    print(\"Packages are typically removed from AoI models when:\")\n",
    "    print(\"1. They have no data within the clipped boundary\")\n",
    "    print(\"2. All their stress points/cells fall outside the AoI\")\n",
    "    print(\"3. The clip_box() method filters out empty packages\" \\\n",
    "    \"\")\n",
    "    print(\"\\nThis is normal behavior and indicates successful spatial filtering!\")"
   ]
  },
  {
   "cell_type": "code",
   "execution_count": null,
   "id": "588b72e6",
   "metadata": {},
   "outputs": [],
   "source": [
    "# Analyze the data content of common packages\n",
    "print(\"=== PACKAGE DATA COMPARISON ===\")\n",
    "print(\"Comparing spatial dimensions and data ranges for common packages:\\n\")\n",
    "\n",
    "for key in sorted(common_keys):\n",
    "    print(f\"📦 {key}:\")\n",
    "    try:\n",
    "        orig_pkg = MF6_Mdl[key] \n",
    "        aoi_pkg = MF6_Mdl_AoI[key]\n",
    "        \n",
    "        # Compare dataset sizes\n",
    "        if hasattr(orig_pkg, 'dataset') and hasattr(aoi_pkg, 'dataset'):\n",
    "            orig_sizes = dict(orig_pkg.dataset.sizes)\n",
    "            aoi_sizes = dict(aoi_pkg.dataset.sizes)\n",
    "            \n",
    "            print(f\"   Original sizes: {orig_sizes}\")\n",
    "            print(f\"   AoI sizes:      {aoi_sizes}\")\n",
    "            \n",
    "            # Calculate reduction ratios\n",
    "            for dim in ['x', 'y']:\n",
    "                if dim in orig_sizes and dim in aoi_sizes:\n",
    "                    reduction = aoi_sizes[dim] / orig_sizes[dim]\n",
    "                    print(f\"   {dim} reduction: {reduction:.3f} ({aoi_sizes[dim]}/{orig_sizes[dim]} cells)\")\n",
    "            \n",
    "            # Check if data values are the same (for first few values)\n",
    "            if hasattr(orig_pkg.dataset, 'data_vars') and hasattr(aoi_pkg.dataset, 'data_vars'):\n",
    "                common_vars = set(orig_pkg.dataset.data_vars) & set(aoi_pkg.dataset.data_vars)\n",
    "                if common_vars:\n",
    "                    var = list(common_vars)[0]  # Check first variable\n",
    "                    orig_data = orig_pkg.dataset[var]\n",
    "                    aoi_data = aoi_pkg.dataset[var]\n",
    "                    \n",
    "                    # Check if AoI data is a subset of original\n",
    "                    if 'x' in orig_data.dims and 'y' in orig_data.dims:\n",
    "                        print(f\"   Variable '{var}': Data appears to be spatially clipped ✓\")\n",
    "                    else:\n",
    "                        print(f\"   Variable '{var}': Non-spatial data\")\n",
    "        else:\n",
    "            print(\"   No dataset attributes to compare\")\n",
    "            \n",
    "    except Exception as e:\n",
    "        print(f\"   ⚠️  Error comparing {key}: {e}\")\n",
    "    \n",
    "    print()  # Empty line for readability"
   ]
  },
  {
   "cell_type": "code",
   "execution_count": null,
   "id": "ce53d047",
   "metadata": {},
   "outputs": [],
   "source": [
    "# Compare coordinate bounds to verify clipping worked correctly\n",
    "print(\"=== COORDINATE BOUNDS COMPARISON ===\")\n",
    "print(f\"Target clipping bounds: X({Xmin:.1f}, {Xmax:.1f}), Y({Ymin:.1f}, {Ymax:.1f})\")\n",
    "print()\n",
    "\n",
    "# Check DIS package bounds (most reliable for spatial extent)\n",
    "if 'dis' in common_keys:\n",
    "    try:\n",
    "        orig_dis = MF6_Mdl['dis']\n",
    "        aoi_dis = MF6_Mdl_AoI['dis']\n",
    "        \n",
    "        # Original bounds\n",
    "        orig_x_min, orig_x_max = float(orig_dis.dataset.x.min()), float(orig_dis.dataset.x.max())\n",
    "        orig_y_min, orig_y_max = float(orig_dis.dataset.y.min()), float(orig_dis.dataset.y.max())\n",
    "        \n",
    "        # AoI bounds  \n",
    "        aoi_x_min, aoi_x_max = float(aoi_dis.dataset.x.min()), float(aoi_dis.dataset.x.max())\n",
    "        aoi_y_min, aoi_y_max = float(aoi_dis.dataset.y.min()), float(aoi_dis.dataset.y.max())\n",
    "        \n",
    "        print(\"Original model bounds:\")\n",
    "        print(f\"   X: {orig_x_min:.1f} to {orig_x_max:.1f} (range: {orig_x_max-orig_x_min:.1f})\")\n",
    "        print(f\"   Y: {orig_y_min:.1f} to {orig_y_max:.1f} (range: {orig_y_max-orig_y_min:.1f})\")\n",
    "        \n",
    "        print(\"\\nAoI model bounds:\")\n",
    "        print(f\"   X: {aoi_x_min:.1f} to {aoi_x_max:.1f} (range: {aoi_x_max-aoi_x_min:.1f})\")\n",
    "        print(f\"   Y: {aoi_y_min:.1f} to {aoi_y_max:.1f} (range: {aoi_y_max-aoi_y_min:.1f})\")\n",
    "        \n",
    "        # Verify clipping worked as expected\n",
    "        x_within_bounds = (aoi_x_min >= Xmin-dx) and (aoi_x_max <= Xmax+dx)\n",
    "        y_within_bounds = (aoi_y_min >= Ymin-dy) and (aoi_y_max <= Ymax+dy)\n",
    "        \n",
    "        print(f\"\\nClipping verification:\")\n",
    "        print(f\"   X bounds within target: {'✓' if x_within_bounds else '✗'}\")\n",
    "        print(f\"   Y bounds within target: {'✓' if y_within_bounds else '✗'}\")\n",
    "        \n",
    "        if x_within_bounds and y_within_bounds:\n",
    "            print(\"   🎉 Clipping successful!\")\n",
    "        else:\n",
    "            print(\"   ⚠️  Clipping may not have worked as expected\")\n",
    "            \n",
    "        # Calculate area reduction\n",
    "        orig_area = (orig_x_max - orig_x_min) * (orig_y_max - orig_y_min)\n",
    "        aoi_area = (aoi_x_max - aoi_x_min) * (aoi_y_max - aoi_y_min)\n",
    "        area_ratio = aoi_area / orig_area\n",
    "        \n",
    "        print(f\"\\nArea reduction:\")\n",
    "        print(f\"   Original area: {orig_area:,.0f} m²\")\n",
    "        print(f\"   AoI area: {aoi_area:,.0f} m²\") \n",
    "        print(f\"   Ratio: {area_ratio:.4f} ({area_ratio*100:.2f}%)\")\n",
    "        \n",
    "    except Exception as e:\n",
    "        print(f\"Error comparing DIS bounds: {e}\")\n",
    "else:\n",
    "    print(\"DIS package not found in common keys - cannot compare bounds\")"
   ]
  },
  {
   "cell_type": "code",
   "execution_count": null,
   "id": "91717a4d",
   "metadata": {},
   "outputs": [],
   "source": [
    "# Print the names of common packages\n",
    "print(\"=== COMMON PACKAGES ===\")\n",
    "print(f\"These {len(common_keys)} packages are present in both models:\")\n",
    "for i, key in enumerate(sorted(common_keys), 1):\n",
    "    print(f\"{i:2d}. {key}\")"
   ]
  },
  {
   "cell_type": "code",
   "execution_count": null,
   "id": "cb5891a3",
   "metadata": {},
   "outputs": [],
   "source": [
    "MF6_Mdl_AoI.keys()"
   ]
  },
  {
   "cell_type": "code",
   "execution_count": null,
   "id": "ae1b8e50",
   "metadata": {},
   "outputs": [],
   "source": [
    "MF6_Mdl['chd_merged']['head'].isel(time=0, layer=0).isel(x=range(0,10), y=range(0,10)).plot.imshow(cmap='viridis')"
   ]
  },
  {
   "cell_type": "code",
   "execution_count": null,
   "id": "1bc6f585",
   "metadata": {},
   "outputs": [],
   "source": [
    "MF6_Mdl_AoI['chd_merged']['head'].isel(time=0, layer=0).plot.imshow(cmap='viridis')"
   ]
  },
  {
   "cell_type": "markdown",
   "id": "1ab2e7f7",
   "metadata": {},
   "source": [
    "Seems like CHD has finally been applied correctly!"
   ]
  },
  {
   "cell_type": "markdown",
   "id": "fad1368b",
   "metadata": {},
   "source": [
    "This is ok. The only missing package is one of the WEL packages, which has no items in the model area."
   ]
  },
  {
   "cell_type": "markdown",
   "id": "66284647",
   "metadata": {},
   "source": [
    "### Cleanup MF6"
   ]
  },
  {
   "cell_type": "code",
   "execution_count": null,
   "id": "f977772d",
   "metadata": {},
   "outputs": [],
   "source": [
    "try:\n",
    "    for Pkg in [i for i in MF6_Mdl_AoI.keys() if ('riv' in i.lower()) or ('drn' in i.lower())]:\n",
    "        MF6_Mdl_AoI[Pkg].cleanup(DIS_AoI)\n",
    "except:\n",
    "    print('Failed to cleanup packaes. Proceeding without cleanup. Fingers crossed!')"
   ]
  },
  {
   "cell_type": "markdown",
   "id": "53e2e680",
   "metadata": {},
   "source": [
    "### MSW"
   ]
  },
  {
   "cell_type": "code",
   "execution_count": null,
   "id": "dfadb000",
   "metadata": {},
   "outputs": [],
   "source": [
    "# Cleanup MetaSWAP\n",
    "MSW_Mdl_AoI[\"grid\"].dataset[\"rootzone_depth\"] = MSW_Mdl_AoI[\"grid\"].dataset[\"rootzone_depth\"].fillna(1.0)"
   ]
  },
  {
   "cell_type": "markdown",
   "id": "40407dbd",
   "metadata": {},
   "source": [
    "## Couple"
   ]
  },
  {
   "cell_type": "code",
   "execution_count": null,
   "id": "8e4be448",
   "metadata": {},
   "outputs": [],
   "source": [
    "metamod_coupling = primod.MetaModDriverCoupling(mf6_model=\"imported_model\", mf6_recharge_package=\"msw-rch\", mf6_wel_package=\"msw-sprinkling\")\n",
    "metamod = primod.MetaMod(MSW_Mdl_AoI, Sim_MF6_AoI, coupling_list=[metamod_coupling])"
   ]
  },
  {
   "cell_type": "code",
   "execution_count": null,
   "id": "c1a52b72",
   "metadata": {},
   "outputs": [],
   "source": [
    "os.makedirs(d_Pa['Pa_MdlN'], exist_ok=True) # Create simulation directory if it doesn't exist"
   ]
  },
  {
   "cell_type": "code",
   "execution_count": null,
   "id": "802caf67",
   "metadata": {},
   "outputs": [],
   "source": [
    "Pa_MF6_DLL = r\"C:\\OD\\WS_Mdl\\software\\iMOD5\\bin\\iMOD_coupler\\libmf6.dll\"\n",
    "Pa_MSW_DLL = r\"C:\\OD\\WS_Mdl\\software\\iMOD5\\bin\\iMOD_coupler\\MetaSWAP.dll\""
   ]
  },
  {
   "cell_type": "code",
   "execution_count": null,
   "id": "682653d8",
   "metadata": {},
   "outputs": [],
   "source": [
    "metamod.write(directory=d_Pa['Pa_MdlN'], modflow6_dll=Pa_MF6_DLL, metaswap_dll=Pa_MSW_DLL, metaswap_dll_dependency=PDN(Pa_MF6_DLL))"
   ]
  }
 ],
 "metadata": {
  "kernelspec": {
   "display_name": "default",
   "language": "python",
   "name": "python3"
  },
  "language_info": {
   "codemirror_mode": {
    "name": "ipython",
    "version": 3
   },
   "file_extension": ".py",
   "mimetype": "text/x-python",
   "name": "python",
   "nbconvert_exporter": "python",
   "pygments_lexer": "ipython3",
   "version": "3.13.5"
  }
 },
 "nbformat": 4,
 "nbformat_minor": 5
}
