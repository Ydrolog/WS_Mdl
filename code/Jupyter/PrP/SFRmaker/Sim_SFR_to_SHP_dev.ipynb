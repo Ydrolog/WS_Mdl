{
 "cells": [
  {
   "cell_type": "markdown",
   "id": "49d21d4b",
   "metadata": {},
   "source": [
    "# Imports"
   ]
  },
  {
   "cell_type": "code",
   "execution_count": null,
   "id": "cc04d54c",
   "metadata": {},
   "outputs": [],
   "source": [
    "import WS_Mdl.utils as U\n",
    "import WS_Mdl.utils_imod as UIM"
   ]
  },
  {
   "cell_type": "code",
   "execution_count": null,
   "id": "254863cf",
   "metadata": {},
   "outputs": [],
   "source": [
    "import matplotlib.pyplot as plt\n",
    "import numpy as np\n",
    "import os\n",
    "from os import listdir as LD, makedirs as MDs\n",
    "from os.path import join as PJ, basename as PBN, dirname as PDN, exists as PE\n",
    "import pandas as pd\n",
    "from datetime import datetime as DT\n",
    "import xarray as xr"
   ]
  },
  {
   "cell_type": "code",
   "execution_count": null,
   "id": "2823c257",
   "metadata": {},
   "outputs": [],
   "source": [
    "from imod import msw\n",
    "from imod import mf6\n",
    "import primod"
   ]
  },
  {
   "cell_type": "code",
   "execution_count": null,
   "id": "7accf54b",
   "metadata": {},
   "outputs": [],
   "source": [
    "import flopy as fp"
   ]
  },
  {
   "cell_type": "code",
   "execution_count": null,
   "id": "812f83cc",
   "metadata": {},
   "outputs": [],
   "source": [
    "import importlib as IL\n",
    "IL.reload(U)\n",
    "IL.reload(UIM)\n",
    "IL.reload(primod)\n",
    "IL.reload(msw)\n",
    "IL.reload(mf6)"
   ]
  },
  {
   "cell_type": "code",
   "execution_count": null,
   "id": "ccc924cb",
   "metadata": {},
   "outputs": [],
   "source": [
    "# Additional imports for shapefile creation\n",
    "from shapely.geometry import LineString, Point\n",
    "import geopandas as gpd\n",
    "import re"
   ]
  },
  {
   "cell_type": "markdown",
   "id": "7245ecf7",
   "metadata": {},
   "source": [
    "# Options + Basics"
   ]
  },
  {
   "cell_type": "code",
   "execution_count": null,
   "id": "9a83a8c9",
   "metadata": {},
   "outputs": [],
   "source": [
    "MdlN = 'NBr30'"
   ]
  },
  {
   "cell_type": "code",
   "execution_count": null,
   "id": "078d2c36",
   "metadata": {},
   "outputs": [],
   "source": [
    "# Load paths and variables from PRJ & INI\n",
    "d_Pa = U.get_MdlN_Pa(MdlN)\n",
    "Pa_PRJ = d_Pa['PRJ']\n",
    "Dir_PRJ = PDN(Pa_PRJ)\n",
    "d_INI = U.INI_to_d(d_Pa['INI'])\n",
    "Xmin, Ymin, Xmax, Ymax = [float(i) for i in d_INI['WINDOW'].split(',')]\n",
    "SP_date_1st, SP_date_last = [DT.strftime(DT.strptime(d_INI[f'{i}'], '%Y%m%d'), '%Y-%m-%d') for i in ['SDATE', 'EDATE']]\n",
    "dx = dy = float(d_INI['CELLSIZE'])"
   ]
  },
  {
   "cell_type": "code",
   "execution_count": null,
   "id": "78fe989d",
   "metadata": {},
   "outputs": [],
   "source": [
    "d_Pa"
   ]
  },
  {
   "cell_type": "markdown",
   "id": "0e1db650",
   "metadata": {},
   "source": [
    "# Read SFR"
   ]
  },
  {
   "cell_type": "markdown",
   "id": "a883c458",
   "metadata": {},
   "source": [
    "## Read file"
   ]
  },
  {
   "cell_type": "code",
   "execution_count": null,
   "id": "3eb77587",
   "metadata": {},
   "outputs": [],
   "source": [
    "Pa_SFR = d_Pa['SFR']"
   ]
  },
  {
   "cell_type": "code",
   "execution_count": null,
   "id": "3e9bc47e",
   "metadata": {},
   "outputs": [],
   "source": [
    "l_Lns = U.r_Txt_Lns(Pa_SFR)"
   ]
  },
  {
   "cell_type": "markdown",
   "id": "82147e27",
   "metadata": {},
   "source": [
    "## PACKAGEDATA "
   ]
  },
  {
   "cell_type": "markdown",
   "id": "7627bc29",
   "metadata": {},
   "source": [
    "### Read into DF"
   ]
  },
  {
   "cell_type": "code",
   "execution_count": null,
   "id": "201f32e7",
   "metadata": {},
   "outputs": [],
   "source": [
    "PkgDt_start = next(i for i,l in enumerate(l_Lns) if 'BEGIN PACKAGEDATA' in l)+2\n",
    "PkgDt_end = next(i for i,l in enumerate(l_Lns) if 'END PACKAGEDATA' in l)\n",
    "PkgDt_Cols = ['ifno', 'L', 'R', 'C', 'rlen', 'rwid', 'rgrd', 'rtp', 'rbth', 'rhk', 'man', 'ncon', 'ustrf', 'ndv', 'aux', 'X', 'Y']\n",
    "PkgDt_data = [l.split() for l in l_Lns[PkgDt_start:PkgDt_end] if l.strip() and not l.strip().startswith('#')]\n",
    "\n",
    "for row in PkgDt_data: # Robust fix: if only one 'NONE' and it's at index 1, replace with three 'NONE's\n",
    "    if row.count('NONE') == 1 and row[1] == 'NONE':\n",
    "        row[1:2] = ['NONE','NONE','NONE']\n",
    "\n",
    "DF_PkgDt = pd.DataFrame(PkgDt_data, columns=PkgDt_Cols)\n",
    "DF_PkgDt"
   ]
  },
  {
   "cell_type": "markdown",
   "id": "2e286e2c",
   "metadata": {},
   "source": [
    "### Cleanup"
   ]
  },
  {
   "cell_type": "code",
   "execution_count": null,
   "id": "c08f063c",
   "metadata": {},
   "outputs": [],
   "source": [
    "DF_PkgDt = DF_PkgDt.replace([\"NONE\", \"\", \"NaN\", \"nan\"], pd.NA) # 1) normalize NA-like tokens and strip spaces\n",
    "DF_PkgDt = DF_PkgDt.apply(lambda s: s.str.strip() if s.dtype == \"object\" else s)\n",
    "\n",
    "l_Num_Cols = [c for c in DF_PkgDt.columns if c != 'aux']  # 2) choose numeric columns and coerce\n",
    "DF_PkgDt[l_Num_Cols] = DF_PkgDt[l_Num_Cols].apply(pd.to_numeric)\n",
    "\n",
    "# 3) optional: get nullable ints/floats\n",
    "DF_PkgDt = DF_PkgDt.convert_dtypes()\n",
    "# or enforce ints: DF_PkgDt[num_cols] = DF_PkgDt[num_cols].astype(\"Int64\")\n"
   ]
  },
  {
   "cell_type": "code",
   "execution_count": null,
   "id": "5def0bc8",
   "metadata": {},
   "outputs": [],
   "source": [
    "DF_PkgDt.dtypes"
   ]
  },
  {
   "cell_type": "markdown",
   "id": "f1969499",
   "metadata": {},
   "source": [
    "## CONNECTIONDATA"
   ]
  },
  {
   "cell_type": "code",
   "execution_count": null,
   "id": "05093a8a",
   "metadata": {},
   "outputs": [],
   "source": [
    "Conn_start = next(i for i,l in enumerate(l_Lns) if 'BEGIN CONNECTIONDATA' in l)+1\n",
    "Conn_end = next(i for i,l in enumerate(l_Lns) if 'END CONNECTIONDATA' in l)\n",
    "Conn_data = [(int(parts[0]), [int(x) for x in parts[1:]])\n",
    "             for l in l_Lns[Conn_start+1:Conn_end]\n",
    "             if (parts := l.strip().split())]\n",
    "\n",
    "DF_Conn = pd.DataFrame(Conn_data, columns=['reach','connections'])\n",
    "DF_Conn['downstream'] = DF_Conn['connections'].apply(lambda l_Conns: next((-x for x in l_Conns if x < 0), None))\n",
    "DF_Conn['downstream'] = DF_Conn['downstream'].astype(\"Int64\")\n",
    "DF_Conn"
   ]
  },
  {
   "cell_type": "markdown",
   "id": "7f59d31f",
   "metadata": {},
   "source": [
    "## Merge"
   ]
  },
  {
   "cell_type": "code",
   "execution_count": null,
   "id": "cec32a47",
   "metadata": {},
   "outputs": [],
   "source": [
    "DF = pd.merge(DF_PkgDt, DF_Conn[['reach', 'downstream']], left_on='ifno', right_on='reach', how='left')"
   ]
  },
  {
   "cell_type": "code",
   "execution_count": null,
   "id": "cdf8d57f",
   "metadata": {},
   "outputs": [],
   "source": [
    "def make_geom(row, DF):\n",
    "    if pd.notna(row['downstream']):\n",
    "        # Get downstream X,Y\n",
    "        DS = DF.loc[DF['ifno'] == row['downstream']]\n",
    "        if not DS.empty:\n",
    "            return LineString([(row['X'], row['Y']), (DS.iloc[0]['X'], DS.iloc[0]['Y'])])\n",
    "    # If no downstream, return Point (or buffer for circle)\n",
    "    return Point(row['X'], row['Y']).buffer(dx)\n",
    "\n",
    "GDF = DF.copy()\n",
    "GDF['geometry'] = GDF.apply(lambda r: make_geom(r, GDF), axis=1)\n",
    "GDF = gpd.GeoDataFrame(GDF, geometry='geometry', crs=28992)  # Set CRS as needed\n",
    "GDF.head()"
   ]
  },
  {
   "cell_type": "code",
   "execution_count": null,
   "id": "44ac07ad",
   "metadata": {},
   "outputs": [],
   "source": [
    "GDF.head()"
   ]
  },
  {
   "cell_type": "code",
   "execution_count": null,
   "id": "daac7498",
   "metadata": {},
   "outputs": [],
   "source": [
    "GDF.insert(0, 'reach')"
   ]
  },
  {
   "cell_type": "code",
   "execution_count": null,
   "id": "0a7f3947",
   "metadata": {},
   "outputs": [],
   "source": [
    "os.getcwd()"
   ]
  },
  {
   "cell_type": "code",
   "execution_count": null,
   "id": "370aae33",
   "metadata": {},
   "outputs": [],
   "source": [
    "GDF.to_file('SFR_lines.shp')\n"
   ]
  },
  {
   "cell_type": "code",
   "execution_count": null,
   "id": "8ee17c0f",
   "metadata": {},
   "outputs": [],
   "source": [
    "DF"
   ]
  }
 ],
 "metadata": {
  "kernelspec": {
   "display_name": "default",
   "language": "python",
   "name": "python3"
  },
  "language_info": {
   "codemirror_mode": {
    "name": "ipython",
    "version": 3
   },
   "file_extension": ".py",
   "mimetype": "text/x-python",
   "name": "python",
   "nbconvert_exporter": "python",
   "pygments_lexer": "ipython3",
   "version": "3.13.5"
  }
 },
 "nbformat": 4,
 "nbformat_minor": 5
}
