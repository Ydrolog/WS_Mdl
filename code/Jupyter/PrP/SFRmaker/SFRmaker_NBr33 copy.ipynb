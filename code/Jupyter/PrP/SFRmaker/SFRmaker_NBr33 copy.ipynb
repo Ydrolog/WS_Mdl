{
 "cells": [
  {
   "cell_type": "markdown",
   "id": "702e13cb",
   "metadata": {},
   "source": [
    "# Imports"
   ]
  },
  {
   "cell_type": "code",
   "execution_count": 1,
   "id": "e81b0924",
   "metadata": {},
   "outputs": [],
   "source": [
    "import matplotlib.pyplot as plt\n",
    "import numpy as np\n",
    "import os\n",
    "from os import listdir as LD, makedirs as MDs\n",
    "from os.path import join as PJ, basename as PBN, dirname as PDN, exists as PE\n",
    "import pandas as pd\n",
    "from datetime import datetime as DT"
   ]
  },
  {
   "cell_type": "code",
   "execution_count": 2,
   "id": "705b8efe",
   "metadata": {},
   "outputs": [],
   "source": [
    "# from imod import msw\n",
    "# from imod import mf6\n",
    "# import primod"
   ]
  },
  {
   "cell_type": "code",
   "execution_count": 3,
   "id": "8d4d2d63",
   "metadata": {},
   "outputs": [],
   "source": [
    "import WS_Mdl.utils as U\n",
    "import WS_Mdl.utils_imod as UIM\n",
    "import WS_Mdl.calcs as C"
   ]
  },
  {
   "cell_type": "code",
   "execution_count": 4,
   "id": "23de4e0b",
   "metadata": {},
   "outputs": [
    {
     "data": {
      "text/plain": [
       "<module 'WS_Mdl.utils_imod' from 'C:\\\\Users\\\\Karam014\\\\OneDrive - Universiteit Utrecht\\\\WS_Mdl\\\\code\\\\WS_Mdl\\\\utils_imod.py'>"
      ]
     },
     "execution_count": 4,
     "metadata": {},
     "output_type": "execute_result"
    }
   ],
   "source": [
    "import importlib as IL\n",
    "IL.reload(U)\n",
    "IL.reload(UIM)"
   ]
  },
  {
   "cell_type": "code",
   "execution_count": 5,
   "id": "3f10ee69",
   "metadata": {},
   "outputs": [],
   "source": [
    "# Import sfrmaker and other necessary packages for SFR network creation\n",
    "import sfrmaker as sfr\n",
    "import geopandas as gpd\n",
    "import numpy as np"
   ]
  },
  {
   "cell_type": "code",
   "execution_count": 6,
   "id": "99d296c5",
   "metadata": {},
   "outputs": [],
   "source": [
    "import fiona"
   ]
  },
  {
   "cell_type": "code",
   "execution_count": 7,
   "id": "faa7c8bb",
   "metadata": {},
   "outputs": [
    {
     "data": {
      "text/plain": [
       "'0.11.3'"
      ]
     },
     "execution_count": 7,
     "metadata": {},
     "output_type": "execute_result"
    }
   ],
   "source": [
    "sfr.__version__"
   ]
  },
  {
   "cell_type": "code",
   "execution_count": 8,
   "id": "83068e94",
   "metadata": {},
   "outputs": [],
   "source": [
    "from WS_Mdl.utils import bold, style_reset"
   ]
  },
  {
   "cell_type": "code",
   "execution_count": 9,
   "id": "7b8177ed",
   "metadata": {},
   "outputs": [],
   "source": [
    "from imod import msw\n",
    "from imod import mf6\n",
    "import primod"
   ]
  },
  {
   "cell_type": "markdown",
   "id": "6b789b34",
   "metadata": {},
   "source": [
    "# Options"
   ]
  },
  {
   "cell_type": "code",
   "execution_count": 10,
   "id": "f6b07653",
   "metadata": {},
   "outputs": [],
   "source": [
    "Pa_GPkg_1ry = r'C:\\OD\\WS_Mdl\\models\\NBr\\PrP\\SFR\\BrabantseDelta\\WBD_SW_NW_1ry.gpkg' \n",
    "Pa_GPkg = r\"C:\\OD\\WS_Mdl\\models\\NBr\\PrP\\SFR\\BrabantseDelta\\acceptatiedatabase.gdb\"\n",
    "detailed = 'hydroobject'\n",
    "primary = 'LEGGER_VASTGESTELD_WATERLOOP_CATEGORIE_A'"
   ]
  },
  {
   "cell_type": "code",
   "execution_count": 11,
   "id": "2201f84e",
   "metadata": {},
   "outputs": [],
   "source": [
    "MdlN = 'NBr33'"
   ]
  },
  {
   "cell_type": "code",
   "execution_count": 12,
   "id": "0da68110",
   "metadata": {},
   "outputs": [],
   "source": [
    "U.set_verbose(False)"
   ]
  },
  {
   "cell_type": "code",
   "execution_count": 13,
   "id": "8464b2aa",
   "metadata": {},
   "outputs": [],
   "source": [
    "# Load paths and variables from PRJ & INI\n",
    "d_Pa = U.get_MdlN_Pa(MdlN)\n",
    "Pa_PRJ = d_Pa['PRJ']\n",
    "Dir_PRJ = PDN(Pa_PRJ)\n",
    "d_INI = U.INI_to_d(d_Pa['INI'])\n",
    "Xmin, Ymin, Xmax, Ymax = [float(i) for i in d_INI['WINDOW'].split(',')]\n",
    "SP_date_1st, SP_date_last = [DT.strftime(DT.strptime(d_INI[f'{i}'], '%Y%m%d'), '%Y-%m-%d') for i in ['SDATE', 'EDATE']]\n",
    "dx = dy = float(d_INI['CELLSIZE'])"
   ]
  },
  {
   "cell_type": "markdown",
   "id": "2e36a0dd",
   "metadata": {},
   "source": [
    "# 1ry SW Nw PrP"
   ]
  },
  {
   "cell_type": "markdown",
   "id": "f459aa49",
   "metadata": {},
   "source": [
    "## Load"
   ]
  },
  {
   "cell_type": "code",
   "execution_count": 14,
   "id": "85dc2dab",
   "metadata": {},
   "outputs": [],
   "source": [
    "GDF_all = gpd.read_file(Pa_GPkg_1ry)"
   ]
  },
  {
   "cell_type": "code",
   "execution_count": 15,
   "id": "05ccecb9",
   "metadata": {},
   "outputs": [
    {
     "data": {
      "text/html": [
       "<div>\n",
       "<style scoped>\n",
       "    .dataframe tbody tr th:only-of-type {\n",
       "        vertical-align: middle;\n",
       "    }\n",
       "\n",
       "    .dataframe tbody tr th {\n",
       "        vertical-align: top;\n",
       "    }\n",
       "\n",
       "    .dataframe thead th {\n",
       "        text-align: right;\n",
       "    }\n",
       "</style>\n",
       "<table border=\"1\" class=\"dataframe\">\n",
       "  <thead>\n",
       "    <tr style=\"text-align: right;\">\n",
       "      <th></th>\n",
       "      <th>OBJECTID</th>\n",
       "      <th>CODE</th>\n",
       "      <th>WS_STATUS_L</th>\n",
       "      <th>WS_LEGGERCATEGORIE_L</th>\n",
       "      <th>WS_LEGGERBRON_L</th>\n",
       "      <th>DATUM_VASTGESTELD</th>\n",
       "      <th>LEGGER_KENMERK</th>\n",
       "      <th>WS_ONDERHOUDSPLICHTIGE_L</th>\n",
       "      <th>WS_ONDERHOUDSPLICHT_L</th>\n",
       "      <th>WS_BODEMBREEDTE_L</th>\n",
       "      <th>...</th>\n",
       "      <th>WS_OMSCHRIJVING_TRAJECT_L</th>\n",
       "      <th>WS_LEGGERVERWIJZING_L</th>\n",
       "      <th>WS_HYPERLINK_PRO_OPW_L</th>\n",
       "      <th>WS_HYPERLINK_PRO_VW_L</th>\n",
       "      <th>WS_LEGGERBRON_OMW_L</th>\n",
       "      <th>WS_LEGGERBRON_WAW_L</th>\n",
       "      <th>WS_LEGGERBRON_COS_L</th>\n",
       "      <th>WS_HYPERLINK_BESLUIT_L</th>\n",
       "      <th>SHAPE_Length</th>\n",
       "      <th>geometry</th>\n",
       "    </tr>\n",
       "  </thead>\n",
       "  <tbody>\n",
       "    <tr>\n",
       "      <th>0</th>\n",
       "      <td>1</td>\n",
       "      <td>OVK12326</td>\n",
       "      <td>Vastgesteld, Besluit geverifieerd, ingemeten</td>\n",
       "      <td>Oppervlaktewaterlichamen</td>\n",
       "      <td>11UT009138, kernregistratie</td>\n",
       "      <td>2021-03-30 00:00:00+00:00</td>\n",
       "      <td>Waterschapsblad 2021, 4434</td>\n",
       "      <td>None</td>\n",
       "      <td>None</td>\n",
       "      <td>0.50</td>\n",
       "      <td>...</td>\n",
       "      <td>None</td>\n",
       "      <td>Niet van toepassing</td>\n",
       "      <td>None</td>\n",
       "      <td>None</td>\n",
       "      <td>None</td>\n",
       "      <td>None</td>\n",
       "      <td>None</td>\n",
       "      <td>None</td>\n",
       "      <td>103.786374</td>\n",
       "      <td>MULTILINESTRING ((82178.821 382139.593, 82180....</td>\n",
       "    </tr>\n",
       "    <tr>\n",
       "      <th>1</th>\n",
       "      <td>2</td>\n",
       "      <td>OVK21780</td>\n",
       "      <td>Vastgesteld, Besluit geverifieerd, ingemeten</td>\n",
       "      <td>Oppervlaktewaterlichamen</td>\n",
       "      <td>Oude legger de gewijzigde Cruijslandpolders 19...</td>\n",
       "      <td>2021-03-30 00:00:00+00:00</td>\n",
       "      <td>Waterschapsblad 2021, 4434</td>\n",
       "      <td>None</td>\n",
       "      <td>None</td>\n",
       "      <td>1.50</td>\n",
       "      <td>...</td>\n",
       "      <td>None</td>\n",
       "      <td>Niet van toepassing</td>\n",
       "      <td>None</td>\n",
       "      <td>None</td>\n",
       "      <td>None</td>\n",
       "      <td>None</td>\n",
       "      <td>None</td>\n",
       "      <td>None</td>\n",
       "      <td>159.245366</td>\n",
       "      <td>MULTILINESTRING ((87960.311 397958.808, 87960....</td>\n",
       "    </tr>\n",
       "    <tr>\n",
       "      <th>2</th>\n",
       "      <td>3</td>\n",
       "      <td>OVK02233</td>\n",
       "      <td>Vastgesteld, Ligging gewijzigd, tabel ongewijzigd</td>\n",
       "      <td>Oppervlaktewaterlichamen</td>\n",
       "      <td>None</td>\n",
       "      <td>2021-03-30 00:00:00+00:00</td>\n",
       "      <td>Waterschapsblad 2021, 4434</td>\n",
       "      <td>None</td>\n",
       "      <td>None</td>\n",
       "      <td>0.60</td>\n",
       "      <td>...</td>\n",
       "      <td>None</td>\n",
       "      <td>Niet van toepassing</td>\n",
       "      <td>None</td>\n",
       "      <td>None</td>\n",
       "      <td>None</td>\n",
       "      <td>None</td>\n",
       "      <td>None</td>\n",
       "      <td>None</td>\n",
       "      <td>211.357944</td>\n",
       "      <td>MULTILINESTRING ((111124.488 396263.763, 11113...</td>\n",
       "    </tr>\n",
       "    <tr>\n",
       "      <th>3</th>\n",
       "      <td>4</td>\n",
       "      <td>OVK07620</td>\n",
       "      <td>Vastgesteld, Ligging gewijzigd, tabel ongewijzigd</td>\n",
       "      <td>Oppervlaktewaterlichamen</td>\n",
       "      <td>None</td>\n",
       "      <td>2021-03-30 00:00:00+00:00</td>\n",
       "      <td>Waterschapsblad 2021, 4434</td>\n",
       "      <td>None</td>\n",
       "      <td>None</td>\n",
       "      <td>0.90</td>\n",
       "      <td>...</td>\n",
       "      <td>None</td>\n",
       "      <td>Niet van toepassing</td>\n",
       "      <td>None</td>\n",
       "      <td>None</td>\n",
       "      <td>None</td>\n",
       "      <td>None</td>\n",
       "      <td>None</td>\n",
       "      <td>None</td>\n",
       "      <td>565.948226</td>\n",
       "      <td>MULTILINESTRING ((104001.385 404319.356, 10400...</td>\n",
       "    </tr>\n",
       "    <tr>\n",
       "      <th>4</th>\n",
       "      <td>5</td>\n",
       "      <td>OVK05547</td>\n",
       "      <td>Vastgesteld, Besluit geverifieerd, ingemeten</td>\n",
       "      <td>Oppervlaktewaterlichamen</td>\n",
       "      <td>Oude legger De polders van Nieuw Vosmeer 1971,...</td>\n",
       "      <td>2021-03-30 00:00:00+00:00</td>\n",
       "      <td>Waterschapsblad 2021, 4434</td>\n",
       "      <td>None</td>\n",
       "      <td>None</td>\n",
       "      <td>1.77</td>\n",
       "      <td>...</td>\n",
       "      <td>None</td>\n",
       "      <td>Niet van toepassing</td>\n",
       "      <td>None</td>\n",
       "      <td>None</td>\n",
       "      <td>None</td>\n",
       "      <td>None</td>\n",
       "      <td>None</td>\n",
       "      <td>None</td>\n",
       "      <td>1415.946440</td>\n",
       "      <td>MULTILINESTRING ((75046.141 401865.437, 75045....</td>\n",
       "    </tr>\n",
       "    <tr>\n",
       "      <th>...</th>\n",
       "      <td>...</td>\n",
       "      <td>...</td>\n",
       "      <td>...</td>\n",
       "      <td>...</td>\n",
       "      <td>...</td>\n",
       "      <td>...</td>\n",
       "      <td>...</td>\n",
       "      <td>...</td>\n",
       "      <td>...</td>\n",
       "      <td>...</td>\n",
       "      <td>...</td>\n",
       "      <td>...</td>\n",
       "      <td>...</td>\n",
       "      <td>...</td>\n",
       "      <td>...</td>\n",
       "      <td>...</td>\n",
       "      <td>...</td>\n",
       "      <td>...</td>\n",
       "      <td>...</td>\n",
       "      <td>...</td>\n",
       "      <td>...</td>\n",
       "    </tr>\n",
       "    <tr>\n",
       "      <th>12859</th>\n",
       "      <td>12860</td>\n",
       "      <td>OVK03414</td>\n",
       "      <td>Vigerende legger</td>\n",
       "      <td>Oppervlaktewaterlichamen</td>\n",
       "      <td>None</td>\n",
       "      <td>2024-11-21 00:00:00+00:00</td>\n",
       "      <td>Waterschapsblad 2024, 25527</td>\n",
       "      <td>Gemeente Waalwijk</td>\n",
       "      <td>None</td>\n",
       "      <td>0.50</td>\n",
       "      <td>...</td>\n",
       "      <td>None</td>\n",
       "      <td>Niet van toepassing</td>\n",
       "      <td>None</td>\n",
       "      <td>None</td>\n",
       "      <td>14IN032214</td>\n",
       "      <td>None</td>\n",
       "      <td>None</td>\n",
       "      <td>https://zoek.officielebekendmakingen.nl/wsb-20...</td>\n",
       "      <td>230.941879</td>\n",
       "      <td>MULTILINESTRING ((127154.852 413725.971, 12715...</td>\n",
       "    </tr>\n",
       "    <tr>\n",
       "      <th>12860</th>\n",
       "      <td>12861</td>\n",
       "      <td>OVK08022</td>\n",
       "      <td>Vigerende legger</td>\n",
       "      <td>Oppervlaktewaterlichamen</td>\n",
       "      <td>None</td>\n",
       "      <td>2024-11-21 00:00:00+00:00</td>\n",
       "      <td>Waterschapsblad 2024, 25527</td>\n",
       "      <td>None</td>\n",
       "      <td>None</td>\n",
       "      <td>0.92</td>\n",
       "      <td>...</td>\n",
       "      <td>None</td>\n",
       "      <td>Niet van toepassing</td>\n",
       "      <td>None</td>\n",
       "      <td>None</td>\n",
       "      <td>448580</td>\n",
       "      <td>None</td>\n",
       "      <td>None</td>\n",
       "      <td>https://zoek.officielebekendmakingen.nl/wsb-20...</td>\n",
       "      <td>562.094599</td>\n",
       "      <td>MULTILINESTRING ((106839.183 406980.574, 10685...</td>\n",
       "    </tr>\n",
       "    <tr>\n",
       "      <th>12861</th>\n",
       "      <td>12862</td>\n",
       "      <td>OVK21240</td>\n",
       "      <td>Vigerende legger</td>\n",
       "      <td>Oppervlaktewaterlichamen</td>\n",
       "      <td>None</td>\n",
       "      <td>2024-11-21 00:00:00+00:00</td>\n",
       "      <td>Waterschapsblad 2024, 25527</td>\n",
       "      <td>None</td>\n",
       "      <td>None</td>\n",
       "      <td>1.00</td>\n",
       "      <td>...</td>\n",
       "      <td>None</td>\n",
       "      <td>Niet van toepassing</td>\n",
       "      <td>None</td>\n",
       "      <td>None</td>\n",
       "      <td>757483</td>\n",
       "      <td>None</td>\n",
       "      <td>waterloop was op de legger cat-C tijdens vergu...</td>\n",
       "      <td>https://zoek.officielebekendmakingen.nl/wsb-20...</td>\n",
       "      <td>405.070769</td>\n",
       "      <td>MULTILINESTRING ((98685.008 394485.756, 98680....</td>\n",
       "    </tr>\n",
       "    <tr>\n",
       "      <th>12862</th>\n",
       "      <td>12863</td>\n",
       "      <td>OVK07617</td>\n",
       "      <td>Vigerende legger</td>\n",
       "      <td>Oppervlaktewaterlichamen</td>\n",
       "      <td>None</td>\n",
       "      <td>2024-11-21 00:00:00+00:00</td>\n",
       "      <td>Waterschapsblad 2024, 25527</td>\n",
       "      <td>None</td>\n",
       "      <td>None</td>\n",
       "      <td>0.80</td>\n",
       "      <td>...</td>\n",
       "      <td>None</td>\n",
       "      <td>Niet van toepassing</td>\n",
       "      <td>None</td>\n",
       "      <td>None</td>\n",
       "      <td>IP800380 verbetering RWK</td>\n",
       "      <td>None</td>\n",
       "      <td>None</td>\n",
       "      <td>https://zoek.officielebekendmakingen.nl/wsb-20...</td>\n",
       "      <td>512.689618</td>\n",
       "      <td>MULTILINESTRING ((102983.931 404344.646, 10300...</td>\n",
       "    </tr>\n",
       "    <tr>\n",
       "      <th>12863</th>\n",
       "      <td>12864</td>\n",
       "      <td>OVK02407</td>\n",
       "      <td>Vigerende legger</td>\n",
       "      <td>Oppervlaktewaterlichamen</td>\n",
       "      <td>None</td>\n",
       "      <td>2024-11-21 00:00:00+00:00</td>\n",
       "      <td>Waterschapsblad 2024, 25527</td>\n",
       "      <td>None</td>\n",
       "      <td>None</td>\n",
       "      <td>1.00</td>\n",
       "      <td>...</td>\n",
       "      <td>None</td>\n",
       "      <td>Niet van toepassing</td>\n",
       "      <td>None</td>\n",
       "      <td>None</td>\n",
       "      <td>453138</td>\n",
       "      <td>None</td>\n",
       "      <td>None</td>\n",
       "      <td>https://zoek.officielebekendmakingen.nl/wsb-20...</td>\n",
       "      <td>331.549309</td>\n",
       "      <td>MULTILINESTRING ((109561.648 399619.577, 10956...</td>\n",
       "    </tr>\n",
       "  </tbody>\n",
       "</table>\n",
       "<p>12864 rows × 56 columns</p>\n",
       "</div>"
      ],
      "text/plain": [
       "       OBJECTID      CODE                                        WS_STATUS_L  \\\n",
       "0             1  OVK12326       Vastgesteld, Besluit geverifieerd, ingemeten   \n",
       "1             2  OVK21780       Vastgesteld, Besluit geverifieerd, ingemeten   \n",
       "2             3  OVK02233  Vastgesteld, Ligging gewijzigd, tabel ongewijzigd   \n",
       "3             4  OVK07620  Vastgesteld, Ligging gewijzigd, tabel ongewijzigd   \n",
       "4             5  OVK05547       Vastgesteld, Besluit geverifieerd, ingemeten   \n",
       "...         ...       ...                                                ...   \n",
       "12859     12860  OVK03414                                   Vigerende legger   \n",
       "12860     12861  OVK08022                                   Vigerende legger   \n",
       "12861     12862  OVK21240                                   Vigerende legger   \n",
       "12862     12863  OVK07617                                   Vigerende legger   \n",
       "12863     12864  OVK02407                                   Vigerende legger   \n",
       "\n",
       "           WS_LEGGERCATEGORIE_L  \\\n",
       "0      Oppervlaktewaterlichamen   \n",
       "1      Oppervlaktewaterlichamen   \n",
       "2      Oppervlaktewaterlichamen   \n",
       "3      Oppervlaktewaterlichamen   \n",
       "4      Oppervlaktewaterlichamen   \n",
       "...                         ...   \n",
       "12859  Oppervlaktewaterlichamen   \n",
       "12860  Oppervlaktewaterlichamen   \n",
       "12861  Oppervlaktewaterlichamen   \n",
       "12862  Oppervlaktewaterlichamen   \n",
       "12863  Oppervlaktewaterlichamen   \n",
       "\n",
       "                                         WS_LEGGERBRON_L  \\\n",
       "0                            11UT009138, kernregistratie   \n",
       "1      Oude legger de gewijzigde Cruijslandpolders 19...   \n",
       "2                                                   None   \n",
       "3                                                   None   \n",
       "4      Oude legger De polders van Nieuw Vosmeer 1971,...   \n",
       "...                                                  ...   \n",
       "12859                                               None   \n",
       "12860                                               None   \n",
       "12861                                               None   \n",
       "12862                                               None   \n",
       "12863                                               None   \n",
       "\n",
       "              DATUM_VASTGESTELD               LEGGER_KENMERK  \\\n",
       "0     2021-03-30 00:00:00+00:00   Waterschapsblad 2021, 4434   \n",
       "1     2021-03-30 00:00:00+00:00   Waterschapsblad 2021, 4434   \n",
       "2     2021-03-30 00:00:00+00:00   Waterschapsblad 2021, 4434   \n",
       "3     2021-03-30 00:00:00+00:00   Waterschapsblad 2021, 4434   \n",
       "4     2021-03-30 00:00:00+00:00   Waterschapsblad 2021, 4434   \n",
       "...                         ...                          ...   \n",
       "12859 2024-11-21 00:00:00+00:00  Waterschapsblad 2024, 25527   \n",
       "12860 2024-11-21 00:00:00+00:00  Waterschapsblad 2024, 25527   \n",
       "12861 2024-11-21 00:00:00+00:00  Waterschapsblad 2024, 25527   \n",
       "12862 2024-11-21 00:00:00+00:00  Waterschapsblad 2024, 25527   \n",
       "12863 2024-11-21 00:00:00+00:00  Waterschapsblad 2024, 25527   \n",
       "\n",
       "      WS_ONDERHOUDSPLICHTIGE_L WS_ONDERHOUDSPLICHT_L  WS_BODEMBREEDTE_L  ...  \\\n",
       "0                         None                  None               0.50  ...   \n",
       "1                         None                  None               1.50  ...   \n",
       "2                         None                  None               0.60  ...   \n",
       "3                         None                  None               0.90  ...   \n",
       "4                         None                  None               1.77  ...   \n",
       "...                        ...                   ...                ...  ...   \n",
       "12859        Gemeente Waalwijk                  None               0.50  ...   \n",
       "12860                     None                  None               0.92  ...   \n",
       "12861                     None                  None               1.00  ...   \n",
       "12862                     None                  None               0.80  ...   \n",
       "12863                     None                  None               1.00  ...   \n",
       "\n",
       "       WS_OMSCHRIJVING_TRAJECT_L  WS_LEGGERVERWIJZING_L  \\\n",
       "0                           None    Niet van toepassing   \n",
       "1                           None    Niet van toepassing   \n",
       "2                           None    Niet van toepassing   \n",
       "3                           None    Niet van toepassing   \n",
       "4                           None    Niet van toepassing   \n",
       "...                          ...                    ...   \n",
       "12859                       None    Niet van toepassing   \n",
       "12860                       None    Niet van toepassing   \n",
       "12861                       None    Niet van toepassing   \n",
       "12862                       None    Niet van toepassing   \n",
       "12863                       None    Niet van toepassing   \n",
       "\n",
       "       WS_HYPERLINK_PRO_OPW_L  WS_HYPERLINK_PRO_VW_L  \\\n",
       "0                        None                   None   \n",
       "1                        None                   None   \n",
       "2                        None                   None   \n",
       "3                        None                   None   \n",
       "4                        None                   None   \n",
       "...                       ...                    ...   \n",
       "12859                    None                   None   \n",
       "12860                    None                   None   \n",
       "12861                    None                   None   \n",
       "12862                    None                   None   \n",
       "12863                    None                   None   \n",
       "\n",
       "            WS_LEGGERBRON_OMW_L  WS_LEGGERBRON_WAW_L  \\\n",
       "0                          None                 None   \n",
       "1                          None                 None   \n",
       "2                          None                 None   \n",
       "3                          None                 None   \n",
       "4                          None                 None   \n",
       "...                         ...                  ...   \n",
       "12859                14IN032214                 None   \n",
       "12860                    448580                 None   \n",
       "12861                    757483                 None   \n",
       "12862  IP800380 verbetering RWK                 None   \n",
       "12863                    453138                 None   \n",
       "\n",
       "                                     WS_LEGGERBRON_COS_L  \\\n",
       "0                                                   None   \n",
       "1                                                   None   \n",
       "2                                                   None   \n",
       "3                                                   None   \n",
       "4                                                   None   \n",
       "...                                                  ...   \n",
       "12859                                               None   \n",
       "12860                                               None   \n",
       "12861  waterloop was op de legger cat-C tijdens vergu...   \n",
       "12862                                               None   \n",
       "12863                                               None   \n",
       "\n",
       "                                  WS_HYPERLINK_BESLUIT_L  SHAPE_Length  \\\n",
       "0                                                   None    103.786374   \n",
       "1                                                   None    159.245366   \n",
       "2                                                   None    211.357944   \n",
       "3                                                   None    565.948226   \n",
       "4                                                   None   1415.946440   \n",
       "...                                                  ...           ...   \n",
       "12859  https://zoek.officielebekendmakingen.nl/wsb-20...    230.941879   \n",
       "12860  https://zoek.officielebekendmakingen.nl/wsb-20...    562.094599   \n",
       "12861  https://zoek.officielebekendmakingen.nl/wsb-20...    405.070769   \n",
       "12862  https://zoek.officielebekendmakingen.nl/wsb-20...    512.689618   \n",
       "12863  https://zoek.officielebekendmakingen.nl/wsb-20...    331.549309   \n",
       "\n",
       "                                                geometry  \n",
       "0      MULTILINESTRING ((82178.821 382139.593, 82180....  \n",
       "1      MULTILINESTRING ((87960.311 397958.808, 87960....  \n",
       "2      MULTILINESTRING ((111124.488 396263.763, 11113...  \n",
       "3      MULTILINESTRING ((104001.385 404319.356, 10400...  \n",
       "4      MULTILINESTRING ((75046.141 401865.437, 75045....  \n",
       "...                                                  ...  \n",
       "12859  MULTILINESTRING ((127154.852 413725.971, 12715...  \n",
       "12860  MULTILINESTRING ((106839.183 406980.574, 10685...  \n",
       "12861  MULTILINESTRING ((98685.008 394485.756, 98680....  \n",
       "12862  MULTILINESTRING ((102983.931 404344.646, 10300...  \n",
       "12863  MULTILINESTRING ((109561.648 399619.577, 10956...  \n",
       "\n",
       "[12864 rows x 56 columns]"
      ]
     },
     "execution_count": 15,
     "metadata": {},
     "output_type": "execute_result"
    }
   ],
   "source": [
    "GDF_all"
   ]
  },
  {
   "cell_type": "markdown",
   "id": "09530835",
   "metadata": {},
   "source": [
    "## Calculate routing"
   ]
  },
  {
   "cell_type": "markdown",
   "id": "f186dfff",
   "metadata": {},
   "source": [
    "### Extract coordinates and identify downstream segments."
   ]
  },
  {
   "cell_type": "markdown",
   "id": "33957669",
   "metadata": {},
   "source": [
    "#### Create Xend and Yend columns"
   ]
  },
  {
   "cell_type": "code",
   "execution_count": 16,
   "id": "adbbbc78",
   "metadata": {},
   "outputs": [],
   "source": [
    "from shapely.geometry import MultiLineString"
   ]
  },
  {
   "cell_type": "code",
   "execution_count": 17,
   "id": "f100fa5f",
   "metadata": {},
   "outputs": [],
   "source": [
    "GDF_all['Xstart'] = GDF_all['geometry'].apply(lambda x: x.geoms[0].coords[0][0]) # Access X coorddinate of first point in first linestring\n",
    "GDF_all['Ystart'] = GDF_all['geometry'].apply(lambda x: x.geoms[0].coords[0][1])\n",
    "GDF_all['Xend'] = GDF_all['geometry'].apply(lambda x: x.geoms[0].coords[-1][0])\n",
    "GDF_all['Yend'] = GDF_all['geometry'].apply(lambda x: x.geoms[0].coords[-1][1])"
   ]
  },
  {
   "cell_type": "code",
   "execution_count": 18,
   "id": "afaac2ee",
   "metadata": {},
   "outputs": [
    {
     "name": "stdout",
     "output_type": "stream",
     "text": [
      "✓ Start and end coordinates extracted.\n"
     ]
    },
    {
     "data": {
      "text/html": [
       "<div>\n",
       "<style scoped>\n",
       "    .dataframe tbody tr th:only-of-type {\n",
       "        vertical-align: middle;\n",
       "    }\n",
       "\n",
       "    .dataframe tbody tr th {\n",
       "        vertical-align: top;\n",
       "    }\n",
       "\n",
       "    .dataframe thead th {\n",
       "        text-align: right;\n",
       "    }\n",
       "</style>\n",
       "<table border=\"1\" class=\"dataframe\">\n",
       "  <thead>\n",
       "    <tr style=\"text-align: right;\">\n",
       "      <th></th>\n",
       "      <th>CODE</th>\n",
       "      <th>Xstart</th>\n",
       "      <th>Ystart</th>\n",
       "      <th>Xend</th>\n",
       "      <th>Yend</th>\n",
       "    </tr>\n",
       "  </thead>\n",
       "  <tbody>\n",
       "    <tr>\n",
       "      <th>0</th>\n",
       "      <td>OVK12326</td>\n",
       "      <td>82178.8210</td>\n",
       "      <td>382139.5930</td>\n",
       "      <td>82211.0763</td>\n",
       "      <td>382230.8210</td>\n",
       "    </tr>\n",
       "    <tr>\n",
       "      <th>1</th>\n",
       "      <td>OVK21780</td>\n",
       "      <td>87960.3111</td>\n",
       "      <td>397958.8084</td>\n",
       "      <td>87987.8930</td>\n",
       "      <td>397803.1720</td>\n",
       "    </tr>\n",
       "    <tr>\n",
       "      <th>2</th>\n",
       "      <td>OVK02233</td>\n",
       "      <td>111124.4879</td>\n",
       "      <td>396263.7630</td>\n",
       "      <td>111286.6935</td>\n",
       "      <td>396369.1693</td>\n",
       "    </tr>\n",
       "    <tr>\n",
       "      <th>3</th>\n",
       "      <td>OVK07620</td>\n",
       "      <td>104001.3850</td>\n",
       "      <td>404319.3560</td>\n",
       "      <td>104532.9200</td>\n",
       "      <td>404493.5701</td>\n",
       "    </tr>\n",
       "    <tr>\n",
       "      <th>4</th>\n",
       "      <td>OVK05547</td>\n",
       "      <td>75046.1407</td>\n",
       "      <td>401865.4367</td>\n",
       "      <td>73901.1920</td>\n",
       "      <td>401618.4030</td>\n",
       "    </tr>\n",
       "  </tbody>\n",
       "</table>\n",
       "</div>"
      ],
      "text/plain": [
       "       CODE       Xstart       Ystart         Xend         Yend\n",
       "0  OVK12326   82178.8210  382139.5930   82211.0763  382230.8210\n",
       "1  OVK21780   87960.3111  397958.8084   87987.8930  397803.1720\n",
       "2  OVK02233  111124.4879  396263.7630  111286.6935  396369.1693\n",
       "3  OVK07620  104001.3850  404319.3560  104532.9200  404493.5701\n",
       "4  OVK05547   75046.1407  401865.4367   73901.1920  401618.4030"
      ]
     },
     "execution_count": 18,
     "metadata": {},
     "output_type": "execute_result"
    }
   ],
   "source": [
    "print(\"✓ Start and end coordinates extracted.\")\n",
    "l_coord_cols = ['CODE', 'Xstart', 'Ystart', 'Xend', 'Yend']\n",
    "GDF_all[l_coord_cols].head()"
   ]
  },
  {
   "cell_type": "markdown",
   "id": "c95cd85f",
   "metadata": {},
   "source": [
    "#### Limit X, Y to model area"
   ]
  },
  {
   "cell_type": "code",
   "execution_count": 19,
   "id": "379f79a5",
   "metadata": {},
   "outputs": [],
   "source": [
    "GDF = GDF_all[  ( (GDF_all['Xstart'].between(Xmin, Xmax, inclusive='both') | GDF_all['Xend'].between(Xmin, Xmax, inclusive='both') ) &\n",
    "              (GDF_all['Ystart'].between(Ymin, Ymax, inclusive='both') | GDF_all['Yend'].between(Ymin, Ymax, inclusive='both') ) ) ]"
   ]
  },
  {
   "cell_type": "code",
   "execution_count": 20,
   "id": "2d588b3a",
   "metadata": {},
   "outputs": [
    {
     "name": "stdout",
     "output_type": "stream",
     "text": [
      "✓ Lookup dictionary created with \u001b[1m583\u001b[0m entries.\n"
     ]
    }
   ],
   "source": [
    "# Create a lookup dictionary from start coordinates to CODE\n",
    "coord_to_id = {(row.Xstart, row.Ystart): (row.CODE, row.OBJECTID) for row in GDF.itertuples()}\n",
    "\n",
    "print(f\"✓ Lookup dictionary created with {bold}{len(coord_to_id)}{style_reset} entries.\")"
   ]
  },
  {
   "cell_type": "markdown",
   "id": "5d91cffd",
   "metadata": {},
   "source": [
    "The number of features selected in QGIS (within model area) is 562, which suprisingly is bigger than 556. We'll continue without investigating further for now."
   ]
  },
  {
   "cell_type": "markdown",
   "id": "61af3f1b",
   "metadata": {},
   "source": [
    "#### Identify downstream"
   ]
  },
  {
   "cell_type": "code",
   "execution_count": 21,
   "id": "b69aff0a",
   "metadata": {},
   "outputs": [
    {
     "name": "stdout",
     "output_type": "stream",
     "text": [
      "✓ 'DStr' columns calculated.\n"
     ]
    }
   ],
   "source": [
    "# Function to find the downstream ID\n",
    "def get_DStr(row):\n",
    "    end_coords = (row.Xend, row.Yend)\n",
    "    result = coord_to_id.get(end_coords, (0, 0))\n",
    "    return result\n",
    "\n",
    "# Apply the function to create the 'DStr' column\n",
    "GDF[['DStr_code', 'DStr_ID']] = GDF.apply(get_DStr, axis=1, result_type='expand')\n",
    "\n",
    "print(\"✓ 'DStr' columns calculated.\")"
   ]
  },
  {
   "cell_type": "code",
   "execution_count": 22,
   "id": "6ae695c5",
   "metadata": {},
   "outputs": [
    {
     "name": "stdout",
     "output_type": "stream",
     "text": [
      "9.48 % of DStrs are 0 (i.e. no start coordinates match the end coordinates of the current node).\n"
     ]
    }
   ],
   "source": [
    "print(f'{round(GDF['DStr_code'].value_counts().max()/GDF.shape[0]*100, 2)} % of DStrs are 0 (i.e. no start coordinates match the end coordinates of the current node).')"
   ]
  },
  {
   "cell_type": "markdown",
   "id": "47a844d5",
   "metadata": {},
   "source": [
    "The percentage is bigger than expected. Let's investigate."
   ]
  },
  {
   "cell_type": "markdown",
   "id": "520e5632",
   "metadata": {},
   "source": [
    "### Investigate segments that failed to connect"
   ]
  },
  {
   "cell_type": "markdown",
   "id": "75329381",
   "metadata": {},
   "source": [
    "#### Check out number of matches/no matches"
   ]
  },
  {
   "cell_type": "code",
   "execution_count": 23,
   "id": "acd213e0",
   "metadata": {},
   "outputs": [
    {
     "data": {
      "text/plain": [
       "DStr_code\n",
       "0           56\n",
       "OVK03070     3\n",
       "OVK11688     3\n",
       "OVK02834     2\n",
       "OVK01661     2\n",
       "            ..\n",
       "OVK02106     1\n",
       "OVK02327     1\n",
       "OVK01633     1\n",
       "OVK01349     1\n",
       "OVK01433     1\n",
       "Name: count, Length: 451, dtype: int64"
      ]
     },
     "execution_count": 23,
     "metadata": {},
     "output_type": "execute_result"
    }
   ],
   "source": [
    "GDF['DStr_match'] = GDF['DStr_code'].isin(GDF['CODE'])\n",
    "GDF['DStr_code'].value_counts()"
   ]
  },
  {
   "cell_type": "markdown",
   "id": "ed0935b3",
   "metadata": {},
   "source": [
    "It makes sense that most nodes have just a few upstream nodes. 56 nodes are not connected."
   ]
  },
  {
   "cell_type": "code",
   "execution_count": 24,
   "id": "019adbe9",
   "metadata": {},
   "outputs": [
    {
     "data": {
      "text/plain": [
       "DStr_match\n",
       "True     535\n",
       "False     56\n",
       "Name: count, dtype: int64"
      ]
     },
     "execution_count": 24,
     "metadata": {},
     "output_type": "execute_result"
    }
   ],
   "source": [
    "GDF['DStr_match'].value_counts()"
   ]
  },
  {
   "cell_type": "markdown",
   "id": "7822adee",
   "metadata": {},
   "source": [
    "#### Calculate min distance from start to any reach's end and investigate no matches."
   ]
  },
  {
   "cell_type": "code",
   "execution_count": 25,
   "id": "99da0031",
   "metadata": {},
   "outputs": [],
   "source": [
    "GDF['min_Dist'] = 0.0\n",
    "GDF.loc[GDF['DStr_code'] == 0, 'min_Dist'] = GDF.loc[GDF['DStr_code'] == 0].apply(lambda row: C.c_Dist(row['Xend'], row['Yend'], GDF['Xstart'], GDF['Ystart']).min(), axis=1)"
   ]
  },
  {
   "cell_type": "code",
   "execution_count": 26,
   "id": "65e84c7c",
   "metadata": {},
   "outputs": [],
   "source": [
    "N_total_no_match = (GDF['DStr_code'] == 0).sum()"
   ]
  },
  {
   "cell_type": "code",
   "execution_count": 27,
   "id": "59b6168f",
   "metadata": {},
   "outputs": [
    {
     "data": {
      "text/plain": [
       "count     56.000000\n",
       "mean      50.930158\n",
       "std      119.328808\n",
       "min        0.000100\n",
       "25%        0.000100\n",
       "50%        0.000241\n",
       "75%       10.010838\n",
       "max      564.173123\n",
       "Name: min_Dist, dtype: float64"
      ]
     },
     "execution_count": 27,
     "metadata": {},
     "output_type": "execute_result"
    }
   ],
   "source": [
    "GDF.loc[GDF['DStr_match']==False,'min_Dist'].describe()"
   ]
  },
  {
   "cell_type": "code",
   "execution_count": 28,
   "id": "a025722d",
   "metadata": {},
   "outputs": [
    {
     "name": "stdout",
     "output_type": "stream",
     "text": [
      "Out of the 56 segments that do not match:\n",
      "-     0 < min_Dist <= 0.001 |N:     37 (+   37) ( 66.1 %) | Codes: ['OVK02919:   0.0001', 'OVK02936:   0.0001', 'OVK02055:   0.0001', 'OVK02089:   0.0001', 'OVK01666:   0.0001', 'OVK20480:   0.0001', 'OVK20466:   0.0001', 'OVK02235:   0.0001', 'OVK00961:   0.0001', 'OVK20990:   0.0001', 'OVK01440:   0.0001', 'OVK00937:   0.0001', 'OVK01445:   0.0001', 'OVK00976:   0.0001', 'OVK01793:   0.0001', 'OVK01694:   0.0001', 'OVK02909:   0.0001', 'OVK00907:   0.0001', 'OVK01716:   0.0001', 'OVK01492:   0.0001', 'OVK02214:   0.0001', 'OVK00960:   0.0001', 'OVK00965:   0.0001', 'OVK01537:   0.0001', 'OVK02101:   0.0001', 'OVK01675:   0.0001', 'OVK02326:   0.0001', 'OVK01803:   0.0002', 'OVK20449:   0.0003', 'OVK02098:   0.0003', 'OVK22007:   0.0003', 'OVK01674:   0.0004', 'OVK00975:   0.0005', 'OVK01717:   0.0006', 'OVK11693:   0.0006', 'OVK00974:   0.0006', 'OVK11686:   0.0010']\n",
      "\n",
      "- 0.001 < min_Dist <=   0.1 |N:     41 (+    4) ( 73.2 %) | Codes: ['OVK02106:   0.0061', 'OVK02109:   0.0067', 'OVK20460:   0.0474', 'OVK00979:   0.0894']\n",
      "\n",
      "-   0.1 < min_Dist <=     1 |N:     42 (+    1) ( 75.0 %) | Codes: ['OVK01667:   0.5880']\n",
      "\n",
      "-     1 < min_Dist <=    10 |N:     42 (+    0) ( 75.0 %) | Codes: []\n",
      "\n",
      "-    10 < min_Dist <=   100 |N:     47 (+    5) ( 83.9 %) | Codes: ['OVK11551:  38.2794', 'OVK02333:  56.2029', 'OVK02160:  70.1709', 'OVK02830:  70.1709', 'OVK01792:  84.2079']\n",
      "\n",
      "-   100 < min_Dist <=  1000 |N:     56 (+    9) (100.0 %) | Codes: ['OVK02242: 103.0596', 'OVK02238: 133.9487', 'OVK02121: 158.3277', 'OVK01807: 192.3580', 'OVK03078: 227.1055', 'OVK02887: 360.4249', 'OVK02933: 364.0876', 'OVK01682: 428.8265', 'OVK00416: 564.1731']\n",
      "\n",
      "-  1000 < min_Dist <= 10000 |N:     56 (+    0) (100.0 %) | Codes: []\n",
      "\n"
     ]
    }
   ],
   "source": [
    "l_Vals = [0.001, 0.1, 1, 10, 100, 1000, 10000]\n",
    "\n",
    "print(f'Out of the {N_total_no_match} segments that do not match:')\n",
    "\n",
    "N_below_Prv, Val_Prv = 0, 0\n",
    "for v in l_Vals:\n",
    "    N_below = (GDF.loc[GDF['DStr_match']==False,'min_Dist'] <= v).sum()\n",
    "    P_below = round(N_below / N_total_no_match * 100, 2)\n",
    "    \n",
    "    sample_gdf = GDF.loc[(GDF['min_Dist'] > Val_Prv) & (GDF['min_Dist'] <= v), ['CODE', 'min_Dist']].sort_values(by='min_Dist')\n",
    "    sample_gdf['Code:min_Dist'] = sample_gdf.apply(lambda row: f\"{row['CODE']}: {row['min_Dist']:8.4f}\", axis=1)\n",
    "    sample_gdf = sample_gdf['Code:min_Dist']\n",
    "    example_nodes = sample_gdf.iloc[:].tolist()\n",
    "\n",
    "    print(f'-{Val_Prv:6} < min_Dist <= {v:5} |N: {N_below:6} (+ {(N_below - N_below_Prv):4}) ({round(P_below,1):5} %) | Codes: {example_nodes}\\n')\n",
    "\n",
    "    N_below_Prv, Val_Prv = N_below, v"
   ]
  },
  {
   "cell_type": "markdown",
   "id": "e83d4823",
   "metadata": {},
   "source": [
    "The total number of segments that do not match is too high to check them all, but we'll check some cases. Check C:\\OD\\WS_Mdl\\Mng\\Mdl_Ipvs.xlsx/WBD_SHP_Eval for more info."
   ]
  },
  {
   "cell_type": "markdown",
   "id": "1c27497e",
   "metadata": {},
   "source": [
    "The ones <1m can be attributed to closing errors, and we can connect them to the closest one via an algorithm.<br>Let's print out the names of the bigger differences, so that we can check them in QGIS."
   ]
  },
  {
   "cell_type": "code",
   "execution_count": 29,
   "id": "728422c1",
   "metadata": {},
   "outputs": [
    {
     "data": {
      "text/html": [
       "<div>\n",
       "<style scoped>\n",
       "    .dataframe tbody tr th:only-of-type {\n",
       "        vertical-align: middle;\n",
       "    }\n",
       "\n",
       "    .dataframe tbody tr th {\n",
       "        vertical-align: top;\n",
       "    }\n",
       "\n",
       "    .dataframe thead th {\n",
       "        text-align: right;\n",
       "    }\n",
       "</style>\n",
       "<table border=\"1\" class=\"dataframe\">\n",
       "  <thead>\n",
       "    <tr style=\"text-align: right;\">\n",
       "      <th></th>\n",
       "      <th>CODE</th>\n",
       "      <th>min_Dist</th>\n",
       "    </tr>\n",
       "  </thead>\n",
       "  <tbody>\n",
       "    <tr>\n",
       "      <th>0</th>\n",
       "      <td>OVK11551</td>\n",
       "      <td>38.279426</td>\n",
       "    </tr>\n",
       "    <tr>\n",
       "      <th>1</th>\n",
       "      <td>OVK02333</td>\n",
       "      <td>56.202931</td>\n",
       "    </tr>\n",
       "    <tr>\n",
       "      <th>2</th>\n",
       "      <td>OVK02160</td>\n",
       "      <td>70.170908</td>\n",
       "    </tr>\n",
       "    <tr>\n",
       "      <th>3</th>\n",
       "      <td>OVK02830</td>\n",
       "      <td>70.170908</td>\n",
       "    </tr>\n",
       "    <tr>\n",
       "      <th>4</th>\n",
       "      <td>OVK01792</td>\n",
       "      <td>84.207934</td>\n",
       "    </tr>\n",
       "  </tbody>\n",
       "</table>\n",
       "</div>"
      ],
      "text/plain": [
       "       CODE   min_Dist\n",
       "0  OVK11551  38.279426\n",
       "1  OVK02333  56.202931\n",
       "2  OVK02160  70.170908\n",
       "3  OVK02830  70.170908\n",
       "4  OVK01792  84.207934"
      ]
     },
     "execution_count": 29,
     "metadata": {},
     "output_type": "execute_result"
    }
   ],
   "source": [
    "GDF.loc[GDF['min_Dist'].between(10,100, inclusive='right'), ['CODE', 'min_Dist']].sort_values(by='min_Dist').reset_index(drop=True)"
   ]
  },
  {
   "cell_type": "markdown",
   "id": "4fa4e228",
   "metadata": {},
   "source": [
    "- **OVK11551**: -- TO BE CORRECTED -- is an anomaly, as it attaches to a very long feature, far from the final start and end.\n",
    "- **OVK02333**: -- IGNORE -- ends outside the model, so there is no feature to connect to.\n",
    "- **OVK02830** & **OVK02160**: -- IGNORE -- are in the same spot. one of them is straight, the other one circles around, and they both end outside the model.\n",
    "- **OVK01792**: -- IGNORE -- also ends outside the model."
   ]
  },
  {
   "cell_type": "code",
   "execution_count": 30,
   "id": "59a7f7c5",
   "metadata": {},
   "outputs": [
    {
     "data": {
      "text/html": [
       "<div>\n",
       "<style scoped>\n",
       "    .dataframe tbody tr th:only-of-type {\n",
       "        vertical-align: middle;\n",
       "    }\n",
       "\n",
       "    .dataframe tbody tr th {\n",
       "        vertical-align: top;\n",
       "    }\n",
       "\n",
       "    .dataframe thead th {\n",
       "        text-align: right;\n",
       "    }\n",
       "</style>\n",
       "<table border=\"1\" class=\"dataframe\">\n",
       "  <thead>\n",
       "    <tr style=\"text-align: right;\">\n",
       "      <th></th>\n",
       "      <th>CODE</th>\n",
       "      <th>min_Dist</th>\n",
       "    </tr>\n",
       "  </thead>\n",
       "  <tbody>\n",
       "    <tr>\n",
       "      <th>0</th>\n",
       "      <td>OVK02242</td>\n",
       "      <td>103.059615</td>\n",
       "    </tr>\n",
       "    <tr>\n",
       "      <th>1</th>\n",
       "      <td>OVK02238</td>\n",
       "      <td>133.948685</td>\n",
       "    </tr>\n",
       "    <tr>\n",
       "      <th>2</th>\n",
       "      <td>OVK02121</td>\n",
       "      <td>158.327719</td>\n",
       "    </tr>\n",
       "    <tr>\n",
       "      <th>3</th>\n",
       "      <td>OVK01807</td>\n",
       "      <td>192.357958</td>\n",
       "    </tr>\n",
       "    <tr>\n",
       "      <th>4</th>\n",
       "      <td>OVK03078</td>\n",
       "      <td>227.105468</td>\n",
       "    </tr>\n",
       "    <tr>\n",
       "      <th>5</th>\n",
       "      <td>OVK02887</td>\n",
       "      <td>360.424861</td>\n",
       "    </tr>\n",
       "    <tr>\n",
       "      <th>6</th>\n",
       "      <td>OVK02933</td>\n",
       "      <td>364.087586</td>\n",
       "    </tr>\n",
       "    <tr>\n",
       "      <th>7</th>\n",
       "      <td>OVK01682</td>\n",
       "      <td>428.826538</td>\n",
       "    </tr>\n",
       "    <tr>\n",
       "      <th>8</th>\n",
       "      <td>OVK00416</td>\n",
       "      <td>564.173123</td>\n",
       "    </tr>\n",
       "  </tbody>\n",
       "</table>\n",
       "</div>"
      ],
      "text/plain": [
       "       CODE    min_Dist\n",
       "0  OVK02242  103.059615\n",
       "1  OVK02238  133.948685\n",
       "2  OVK02121  158.327719\n",
       "3  OVK01807  192.357958\n",
       "4  OVK03078  227.105468\n",
       "5  OVK02887  360.424861\n",
       "6  OVK02933  364.087586\n",
       "7  OVK01682  428.826538\n",
       "8  OVK00416  564.173123"
      ]
     },
     "execution_count": 30,
     "metadata": {},
     "output_type": "execute_result"
    }
   ],
   "source": [
    "GDF.loc[GDF['min_Dist'].between(100,1000, inclusive='right'), ['CODE', 'min_Dist']].sort_values(by='min_Dist').reset_index(drop=True)"
   ]
  },
  {
   "cell_type": "markdown",
   "id": "df297302",
   "metadata": {},
   "source": [
    "- **OVK02242**: --- IGNORE --- ends outside the model and doesn't have any impact on Chaamse Beek \n",
    "- **OVK02238**: --- IGNORE --- ends outside the model and doesn't have any impact on Chaamse Beek \n",
    "- **OVK02121**: --- IGNORE --- ends outside the model and doesn't have any impact on Chaamse Beek \n",
    "- **OVK01807**: --- IGNORE --- ends outside the model and doesn't have any impact on Chaamse Beek \n",
    "- **OVK03078**: --- IGNORE --- ends outside the model and doesn't have any impact on Chaamse Beek \n",
    "- **OVK02887**: --- IGNORE --- ends outside the model and doesn't have any impact on Chaamse Beek (final Mark outled outside MdlAa) \n",
    "- **OVK02933**: --- IGNORE --- ends outside the model and doesn't have any impact on Chaamse Beek \n",
    "- **OVK01682**: --- IGNORE --- ends outside the model and doesn't have any impact on Chaamse Beek \n",
    "- **OVK00416**: --- IGNORE --- ends outside the model and doesn't have any impact on Chaamse Beek \n"
   ]
  },
  {
   "cell_type": "markdown",
   "id": "c9d0f42f",
   "metadata": {},
   "source": [
    "### Edit connections"
   ]
  },
  {
   "cell_type": "code",
   "execution_count": 31,
   "id": "e40560e3",
   "metadata": {},
   "outputs": [
    {
     "name": "stdout",
     "output_type": "stream",
     "text": [
      "Found 42 segments with no downstream connection and a potential connection within 1m.\n",
      "✓ Corrected 41 segments by updating 'DStr_code' and 'DStr_ID'.\n",
      "✓ Found 1 segments with multiple potential connections (stored in 'multiple_close').\n"
     ]
    }
   ],
   "source": [
    "# Initialize the 'multiple_close' column with empty strings\n",
    "GDF['multiple_close'] = \"\"\n",
    "\n",
    "# Select rows to correct\n",
    "rows_to_correct = GDF[(GDF['DStr_code'] == 0) & (GDF['min_Dist'] < 1)].copy()\n",
    "\n",
    "print(f\"Found {len(rows_to_correct)} segments with no downstream connection and a potential connection within 1m.\")\n",
    "\n",
    "# Create a Series of all start coordinates for faster access\n",
    "all_starts_x = GDF['Xstart']\n",
    "all_starts_y = GDF['Ystart']\n",
    "all_codes = GDF['CODE']\n",
    "all_object_ids = GDF['OBJECTID']\n",
    "\n",
    "corrected_count = 0\n",
    "multiple_count = 0\n",
    "\n",
    "# Loop through the rows that need correction\n",
    "for index, row in rows_to_correct.iterrows():\n",
    "    # Calculate distances from the current row's end point to all other rows' start points\n",
    "    distances = C.c_Dist(row['Xend'], row['Yend'], all_starts_x, all_starts_y)\n",
    "    \n",
    "    # Find segments where the distance is less than 1m\n",
    "    close_mask = (distances < 1) & (GDF.index != index) # Exclude self\n",
    "    close_segments_codes = all_codes[close_mask].tolist()\n",
    "    close_segments_object_ids = all_object_ids[close_mask].tolist()\n",
    "    \n",
    "    if len(close_segments_codes) == 1:\n",
    "        # If there is exactly one close segment, update both 'DStr_code' and 'DStr_ID'\n",
    "        GDF.loc[index, 'DStr_code'] = close_segments_codes[0]\n",
    "        GDF.loc[index, 'DStr_ID'] = close_segments_object_ids[0]\n",
    "        corrected_count += 1\n",
    "    elif len(close_segments_codes) > 1:\n",
    "        # If there are multiple close segments, store as comma-separated string\n",
    "        GDF.loc[index, 'multiple_close'] = \", \".join(close_segments_codes)\n",
    "        multiple_count += 1\n",
    "\n",
    "print(f\"✓ Corrected {corrected_count} segments by updating 'DStr_code' and 'DStr_ID'.\")\n",
    "print(f\"✓ Found {multiple_count} segments with multiple potential connections (stored in 'multiple_close').\")"
   ]
  },
  {
   "cell_type": "code",
   "execution_count": 32,
   "id": "b01686e1",
   "metadata": {},
   "outputs": [
    {
     "data": {
      "text/html": [
       "<div>\n",
       "<style scoped>\n",
       "    .dataframe tbody tr th:only-of-type {\n",
       "        vertical-align: middle;\n",
       "    }\n",
       "\n",
       "    .dataframe tbody tr th {\n",
       "        vertical-align: top;\n",
       "    }\n",
       "\n",
       "    .dataframe thead th {\n",
       "        text-align: right;\n",
       "    }\n",
       "</style>\n",
       "<table border=\"1\" class=\"dataframe\">\n",
       "  <thead>\n",
       "    <tr style=\"text-align: right;\">\n",
       "      <th></th>\n",
       "      <th>CODE</th>\n",
       "      <th>multiple_close</th>\n",
       "    </tr>\n",
       "  </thead>\n",
       "  <tbody>\n",
       "    <tr>\n",
       "      <th>3533</th>\n",
       "      <td>OVK00976</td>\n",
       "      <td>OVK00977, OVK01474</td>\n",
       "    </tr>\n",
       "  </tbody>\n",
       "</table>\n",
       "</div>"
      ],
      "text/plain": [
       "          CODE      multiple_close\n",
       "3533  OVK00976  OVK00977, OVK01474"
      ]
     },
     "execution_count": 32,
     "metadata": {},
     "output_type": "execute_result"
    }
   ],
   "source": [
    "GDF.loc[GDF['multiple_close']!='', ['CODE', 'multiple_close']].sort_values(by='multiple_close', ascending=False)"
   ]
  },
  {
   "cell_type": "markdown",
   "id": "a4f0209f",
   "metadata": {},
   "source": [
    "This is an upstremost segment that's really small, so it doesn't matter much where it connects to. We'll connect it to one of the two downstream segments at random."
   ]
  },
  {
   "cell_type": "code",
   "execution_count": 33,
   "id": "b17f30dc",
   "metadata": {},
   "outputs": [],
   "source": [
    "GDF.loc[GDF['CODE']=='OVK00976', ['DStr_code', 'DStr_ID']] = ['OVK00977', GDF.loc[GDF['CODE']=='OVK00977', 'OBJECTID'].values[0]]"
   ]
  },
  {
   "cell_type": "markdown",
   "id": "ec898dbb",
   "metadata": {},
   "source": [
    "Let's also fix OVK11551, which connects to that very long segment (OVK03013), far from either end."
   ]
  },
  {
   "cell_type": "code",
   "execution_count": 34,
   "id": "25d872a0",
   "metadata": {},
   "outputs": [],
   "source": [
    "GDF.loc[GDF['CODE']=='OVK11551', ['DStr_code', 'DStr_ID']] = ['OVK03013', GDF.loc[GDF['CODE']=='OVK03013', 'OBJECTID'].values[0]]"
   ]
  },
  {
   "cell_type": "markdown",
   "id": "49215580",
   "metadata": {},
   "source": [
    "## Explore GDF to Fill SFRmaker Input data requirements"
   ]
  },
  {
   "cell_type": "markdown",
   "id": "560b5dc0",
   "metadata": {},
   "source": [
    "#### Custom Hydrography Required Fields"
   ]
  },
  {
   "cell_type": "markdown",
   "id": "9c9d78be",
   "metadata": {},
   "source": [
    "Below, we'll match the shapefile attributes to the SFRmaker requirements as per SFRmaker manual ( https://doi-usgs.github.io/sfrmaker/latest/inputs.html):\n",
    "\n",
    "**Custom hydrography** <br>\n",
    "Any Polyline shapefile can be supplied in lieu of NHDPlus, but it must have the following columns, as shown in the second example:\n",
    "1. **flowlines_file**: path to shapefile\n",
    "2. **id_column**: unique identifier for each polyline\n",
    "3. **routing_column**: downstream connection (ID), 0 if none\n",
    "4. **width1_column**: channel width at start of line, in attr\\_length\\_units (optional)\n",
    "5. **width2_column**: channel width at end of line, in attr_length_units (optional)\n",
    "6. **up_elevation_column**: streambed elevation at start of line, in attr_height_units\n",
    "7. **dn_elevation_column**: streambed elevation at end of line, in attr_height_units\n",
    "8. **name_column**: stream name (optional)\n",
    "9. **attr_length_units**: channel width units\n",
    "10. **attr_height_units**: streambed elevation units"
   ]
  },
  {
   "cell_type": "markdown",
   "id": "6d6b3d88",
   "metadata": {},
   "source": [
    "Here are the columns of the GDF, so we can match them to the SFRmaker requirements:"
   ]
  },
  {
   "cell_type": "code",
   "execution_count": 35,
   "id": "3f9998e4",
   "metadata": {},
   "outputs": [
    {
     "name": "stdout",
     "output_type": "stream",
     "text": [
      "0: OBJECTID\n",
      "1: CODE\n",
      "2: WS_STATUS_L\n",
      "3: WS_LEGGERCATEGORIE_L\n",
      "4: WS_LEGGERBRON_L\n",
      "5: DATUM_VASTGESTELD\n",
      "6: LEGGER_KENMERK\n",
      "7: WS_ONDERHOUDSPLICHTIGE_L\n",
      "8: WS_ONDERHOUDSPLICHT_L\n",
      "9: WS_BODEMBREEDTE_L\n",
      "10: WS_BH_BOVENSTROOMS_L\n",
      "11: WS_BH_BENEDENSTROOMS_L\n",
      "12: WS_BODBREE_ACCPROF_LI_L\n",
      "13: WS_BODBREE_ACCPROF_RE_L\n",
      "14: WS_HGT_INSTEEK_LI_L\n",
      "15: WS_HGT_INSTEEK_RE_L\n",
      "16: WS_BHGT_ACCPROF_LI_L\n",
      "17: WS_BHGT_ACCPROF_RE_L\n",
      "18: WS_TALUD_LINKS_L\n",
      "19: WS_TALUD_RECHTS_L\n",
      "20: WS_TALUD_ACCPROF_LI_L\n",
      "21: WS_TALUD_ACCPROF_RE_L\n",
      "22: WS_ONDERWATERTALUD_LI_L\n",
      "23: WS_ONDERWATERTALUD_RE_L\n",
      "24: WS_HGT_BESCHOEIING_LI_L\n",
      "25: WS_HGT_BESCHOEIING_RE_L\n",
      "26: WS_HGT_ONDERK_BES_LI_L\n",
      "27: WS_HGT_ONDERK_BES_RE_L\n",
      "28: WS_HGT_INSTEEK_ACCPROF_LI_L\n",
      "29: WS_HGT_INSTEEK_ACCPROF_RE_L\n",
      "30: WS_BIJZ_FUNCTIE_L\n",
      "31: WS_INHOUD_RETENTIE_L\n",
      "32: WS_LENGTE_L\n",
      "33: WS_OPW_BIJZ_PROF_L\n",
      "34: WS_VW_BODEMBREEDTE_L\n",
      "35: WS_VW_BH_BOVENSTROOMS_L\n",
      "36: WS_VW_BH_BENEDENSTROOMS_L\n",
      "37: WS_VW_TALUD_LINKS_L\n",
      "38: WS_VW_TALUD_RECHTS_L\n",
      "39: WS_VW_BIJZ_PROF_L\n",
      "40: WIJZIGING\n",
      "41: SE_ANNO_CAD_DATA\n",
      "42: CREATED_USER\n",
      "43: CREATED_DATE\n",
      "44: LAST_EDITED_USER\n",
      "45: LAST_EDITED_DATE\n",
      "46: WS_OMSCHRIJVING_TRAJECT_L\n",
      "47: WS_LEGGERVERWIJZING_L\n",
      "48: WS_HYPERLINK_PRO_OPW_L\n",
      "49: WS_HYPERLINK_PRO_VW_L\n",
      "50: WS_LEGGERBRON_OMW_L\n",
      "51: WS_LEGGERBRON_WAW_L\n",
      "52: WS_LEGGERBRON_COS_L\n",
      "53: WS_HYPERLINK_BESLUIT_L\n",
      "54: SHAPE_Length\n",
      "55: geometry\n",
      "56: Xstart\n",
      "57: Ystart\n",
      "58: Xend\n",
      "59: Yend\n",
      "60: DStr_code\n",
      "61: DStr_ID\n",
      "62: DStr_match\n",
      "63: min_Dist\n",
      "64: multiple_close\n"
     ]
    }
   ],
   "source": [
    "for i, col in enumerate(GDF.columns):\n",
    "    print(f\"{i}: {col}\")"
   ]
  },
  {
   "cell_type": "markdown",
   "id": "c3d89065",
   "metadata": {},
   "source": [
    "#### 1. flowlines_file will definitely be Pa_GPkg_1ry "
   ]
  },
  {
   "cell_type": "markdown",
   "id": "05cbe04f",
   "metadata": {},
   "source": [
    "#### 2. & 3. will most likely be 'OBJECTID' & 'DStr_ID'."
   ]
  },
  {
   "cell_type": "markdown",
   "id": "8f68da2e",
   "metadata": {},
   "source": [
    "But let's ensure there are no nulls and use the .describe() method to check more details"
   ]
  },
  {
   "cell_type": "code",
   "execution_count": 36,
   "id": "c9f7b439",
   "metadata": {},
   "outputs": [
    {
     "data": {
      "text/plain": [
       "OBJECTID    0\n",
       "DStr_ID     0\n",
       "dtype: int64"
      ]
     },
     "execution_count": 36,
     "metadata": {},
     "output_type": "execute_result"
    }
   ],
   "source": [
    "GDF[['OBJECTID', 'DStr_ID']].isna().sum()"
   ]
  },
  {
   "cell_type": "code",
   "execution_count": 37,
   "id": "57ced383",
   "metadata": {},
   "outputs": [
    {
     "data": {
      "text/html": [
       "<div>\n",
       "<style scoped>\n",
       "    .dataframe tbody tr th:only-of-type {\n",
       "        vertical-align: middle;\n",
       "    }\n",
       "\n",
       "    .dataframe tbody tr th {\n",
       "        vertical-align: top;\n",
       "    }\n",
       "\n",
       "    .dataframe thead th {\n",
       "        text-align: right;\n",
       "    }\n",
       "</style>\n",
       "<table border=\"1\" class=\"dataframe\">\n",
       "  <thead>\n",
       "    <tr style=\"text-align: right;\">\n",
       "      <th></th>\n",
       "      <th>CODE</th>\n",
       "      <th>OBJECTID</th>\n",
       "      <th>DStr_code</th>\n",
       "      <th>DStr_ID</th>\n",
       "    </tr>\n",
       "  </thead>\n",
       "  <tbody>\n",
       "    <tr>\n",
       "      <th>count</th>\n",
       "      <td>591</td>\n",
       "      <td>591.000000</td>\n",
       "      <td>591.0</td>\n",
       "      <td>591.00000</td>\n",
       "    </tr>\n",
       "    <tr>\n",
       "      <th>unique</th>\n",
       "      <td>591</td>\n",
       "      <td>NaN</td>\n",
       "      <td>487.0</td>\n",
       "      <td>NaN</td>\n",
       "    </tr>\n",
       "    <tr>\n",
       "      <th>top</th>\n",
       "      <td>OVK01308</td>\n",
       "      <td>NaN</td>\n",
       "      <td>0.0</td>\n",
       "      <td>NaN</td>\n",
       "    </tr>\n",
       "    <tr>\n",
       "      <th>freq</th>\n",
       "      <td>1</td>\n",
       "      <td>NaN</td>\n",
       "      <td>13.0</td>\n",
       "      <td>NaN</td>\n",
       "    </tr>\n",
       "    <tr>\n",
       "      <th>mean</th>\n",
       "      <td>NaN</td>\n",
       "      <td>6246.402707</td>\n",
       "      <td>NaN</td>\n",
       "      <td>6174.41286</td>\n",
       "    </tr>\n",
       "    <tr>\n",
       "      <th>std</th>\n",
       "      <td>NaN</td>\n",
       "      <td>3976.475789</td>\n",
       "      <td>NaN</td>\n",
       "      <td>4026.85889</td>\n",
       "    </tr>\n",
       "    <tr>\n",
       "      <th>min</th>\n",
       "      <td>NaN</td>\n",
       "      <td>15.000000</td>\n",
       "      <td>NaN</td>\n",
       "      <td>0.00000</td>\n",
       "    </tr>\n",
       "    <tr>\n",
       "      <th>25%</th>\n",
       "      <td>NaN</td>\n",
       "      <td>2359.500000</td>\n",
       "      <td>NaN</td>\n",
       "      <td>2213.00000</td>\n",
       "    </tr>\n",
       "    <tr>\n",
       "      <th>50%</th>\n",
       "      <td>NaN</td>\n",
       "      <td>7167.000000</td>\n",
       "      <td>NaN</td>\n",
       "      <td>7082.00000</td>\n",
       "    </tr>\n",
       "    <tr>\n",
       "      <th>75%</th>\n",
       "      <td>NaN</td>\n",
       "      <td>8832.000000</td>\n",
       "      <td>NaN</td>\n",
       "      <td>8856.00000</td>\n",
       "    </tr>\n",
       "    <tr>\n",
       "      <th>max</th>\n",
       "      <td>NaN</td>\n",
       "      <td>12856.000000</td>\n",
       "      <td>NaN</td>\n",
       "      <td>12856.00000</td>\n",
       "    </tr>\n",
       "  </tbody>\n",
       "</table>\n",
       "</div>"
      ],
      "text/plain": [
       "            CODE      OBJECTID  DStr_code      DStr_ID\n",
       "count        591    591.000000      591.0    591.00000\n",
       "unique       591           NaN      487.0          NaN\n",
       "top     OVK01308           NaN        0.0          NaN\n",
       "freq           1           NaN       13.0          NaN\n",
       "mean         NaN   6246.402707        NaN   6174.41286\n",
       "std          NaN   3976.475789        NaN   4026.85889\n",
       "min          NaN     15.000000        NaN      0.00000\n",
       "25%          NaN   2359.500000        NaN   2213.00000\n",
       "50%          NaN   7167.000000        NaN   7082.00000\n",
       "75%          NaN   8832.000000        NaN   8856.00000\n",
       "max          NaN  12856.000000        NaN  12856.00000"
      ]
     },
     "execution_count": 37,
     "metadata": {},
     "output_type": "execute_result"
    }
   ],
   "source": [
    "GDF[['CODE', 'OBJECTID', 'DStr_code', 'DStr_ID']].describe(include='all')"
   ]
  },
  {
   "cell_type": "code",
   "execution_count": 38,
   "id": "205cee37",
   "metadata": {},
   "outputs": [
    {
     "data": {
      "text/plain": [
       "np.int64(13)"
      ]
     },
     "execution_count": 38,
     "metadata": {},
     "output_type": "execute_result"
    }
   ],
   "source": [
    "GDF.loc[GDF['DStr_ID']==0, 'DStr_ID'].count()"
   ]
  },
  {
   "cell_type": "markdown",
   "id": "0fe3b4cb",
   "metadata": {},
   "source": [
    "Great. No nuls and 13 DStr_codes with no downstream connection ('DStr'==0) (9 with min_Dist between 100 and 1000, + 5 with min_Dist betwen 10 and 100, -1, that we connected to the meandering long segment)."
   ]
  },
  {
   "cell_type": "markdown",
   "id": "b26f4064",
   "metadata": {},
   "source": [
    "#### 4. & 5. Widths (at start and end)"
   ]
  },
  {
   "cell_type": "markdown",
   "id": "53174b56",
   "metadata": {},
   "source": [
    "There are 4 candidates for those fields:\n",
    "- 'WS_BODEMBREEDTE_L' (channel bed width)\n",
    "- 'WS_BODBREE_ACCPROF_LI_L' (Accepted profile bottom width (left) (m))\n",
    "- 'WS_BODBREE_ACCPROF_RE_L' (Accepted profile bottom width (right) (m))\n",
    "- 'WS_VW_BODEMBREEDTE_L' (Prescribed bottom width (voorwaarde) (m))\n",
    "\n",
    "Let's compare the values. We can probably just use WS_BODEMBREEDTE. I think it has no/fewer nuls and the values are similar to the other 3 fields. Then we can upgrade. But let's have a look."
   ]
  },
  {
   "cell_type": "code",
   "execution_count": 39,
   "id": "80b6a63b",
   "metadata": {},
   "outputs": [
    {
     "data": {
      "text/html": [
       "<div>\n",
       "<style scoped>\n",
       "    .dataframe tbody tr th:only-of-type {\n",
       "        vertical-align: middle;\n",
       "    }\n",
       "\n",
       "    .dataframe tbody tr th {\n",
       "        vertical-align: top;\n",
       "    }\n",
       "\n",
       "    .dataframe thead th {\n",
       "        text-align: right;\n",
       "    }\n",
       "</style>\n",
       "<table border=\"1\" class=\"dataframe\">\n",
       "  <thead>\n",
       "    <tr style=\"text-align: right;\">\n",
       "      <th></th>\n",
       "      <th>CODE</th>\n",
       "      <th>OBJECTID</th>\n",
       "      <th>WS_BODEMBREEDTE_L</th>\n",
       "      <th>WS_BODBREE_ACCPROF_LI_L</th>\n",
       "      <th>WS_BODBREE_ACCPROF_RE_L</th>\n",
       "      <th>WS_VW_BODEMBREEDTE_L</th>\n",
       "    </tr>\n",
       "  </thead>\n",
       "  <tbody>\n",
       "    <tr>\n",
       "      <th>count</th>\n",
       "      <td>591</td>\n",
       "      <td>591.000000</td>\n",
       "      <td>591.000000</td>\n",
       "      <td>15.000000</td>\n",
       "      <td>9.000000</td>\n",
       "      <td>0.0</td>\n",
       "    </tr>\n",
       "    <tr>\n",
       "      <th>unique</th>\n",
       "      <td>591</td>\n",
       "      <td>NaN</td>\n",
       "      <td>NaN</td>\n",
       "      <td>NaN</td>\n",
       "      <td>NaN</td>\n",
       "      <td>NaN</td>\n",
       "    </tr>\n",
       "    <tr>\n",
       "      <th>top</th>\n",
       "      <td>OVK01308</td>\n",
       "      <td>NaN</td>\n",
       "      <td>NaN</td>\n",
       "      <td>NaN</td>\n",
       "      <td>NaN</td>\n",
       "      <td>NaN</td>\n",
       "    </tr>\n",
       "    <tr>\n",
       "      <th>freq</th>\n",
       "      <td>1</td>\n",
       "      <td>NaN</td>\n",
       "      <td>NaN</td>\n",
       "      <td>NaN</td>\n",
       "      <td>NaN</td>\n",
       "      <td>NaN</td>\n",
       "    </tr>\n",
       "    <tr>\n",
       "      <th>mean</th>\n",
       "      <td>NaN</td>\n",
       "      <td>6246.402707</td>\n",
       "      <td>3.257783</td>\n",
       "      <td>7.730000</td>\n",
       "      <td>11.666667</td>\n",
       "      <td>NaN</td>\n",
       "    </tr>\n",
       "    <tr>\n",
       "      <th>std</th>\n",
       "      <td>NaN</td>\n",
       "      <td>3976.475789</td>\n",
       "      <td>41.111277</td>\n",
       "      <td>8.591478</td>\n",
       "      <td>9.454232</td>\n",
       "      <td>NaN</td>\n",
       "    </tr>\n",
       "    <tr>\n",
       "      <th>min</th>\n",
       "      <td>NaN</td>\n",
       "      <td>15.000000</td>\n",
       "      <td>0.400000</td>\n",
       "      <td>3.200000</td>\n",
       "      <td>3.500000</td>\n",
       "      <td>NaN</td>\n",
       "    </tr>\n",
       "    <tr>\n",
       "      <th>25%</th>\n",
       "      <td>NaN</td>\n",
       "      <td>2359.500000</td>\n",
       "      <td>0.700000</td>\n",
       "      <td>3.500000</td>\n",
       "      <td>4.900000</td>\n",
       "      <td>NaN</td>\n",
       "    </tr>\n",
       "    <tr>\n",
       "      <th>50%</th>\n",
       "      <td>NaN</td>\n",
       "      <td>7167.000000</td>\n",
       "      <td>0.850000</td>\n",
       "      <td>3.750000</td>\n",
       "      <td>6.200000</td>\n",
       "      <td>NaN</td>\n",
       "    </tr>\n",
       "    <tr>\n",
       "      <th>75%</th>\n",
       "      <td>NaN</td>\n",
       "      <td>8832.000000</td>\n",
       "      <td>1.275000</td>\n",
       "      <td>5.750000</td>\n",
       "      <td>20.000000</td>\n",
       "      <td>NaN</td>\n",
       "    </tr>\n",
       "    <tr>\n",
       "      <th>max</th>\n",
       "      <td>NaN</td>\n",
       "      <td>12856.000000</td>\n",
       "      <td>999.000000</td>\n",
       "      <td>30.000000</td>\n",
       "      <td>30.000000</td>\n",
       "      <td>NaN</td>\n",
       "    </tr>\n",
       "  </tbody>\n",
       "</table>\n",
       "</div>"
      ],
      "text/plain": [
       "            CODE      OBJECTID  WS_BODEMBREEDTE_L  WS_BODBREE_ACCPROF_LI_L  \\\n",
       "count        591    591.000000         591.000000                15.000000   \n",
       "unique       591           NaN                NaN                      NaN   \n",
       "top     OVK01308           NaN                NaN                      NaN   \n",
       "freq           1           NaN                NaN                      NaN   \n",
       "mean         NaN   6246.402707           3.257783                 7.730000   \n",
       "std          NaN   3976.475789          41.111277                 8.591478   \n",
       "min          NaN     15.000000           0.400000                 3.200000   \n",
       "25%          NaN   2359.500000           0.700000                 3.500000   \n",
       "50%          NaN   7167.000000           0.850000                 3.750000   \n",
       "75%          NaN   8832.000000           1.275000                 5.750000   \n",
       "max          NaN  12856.000000         999.000000                30.000000   \n",
       "\n",
       "        WS_BODBREE_ACCPROF_RE_L  WS_VW_BODEMBREEDTE_L  \n",
       "count                  9.000000                   0.0  \n",
       "unique                      NaN                   NaN  \n",
       "top                         NaN                   NaN  \n",
       "freq                        NaN                   NaN  \n",
       "mean                  11.666667                   NaN  \n",
       "std                    9.454232                   NaN  \n",
       "min                    3.500000                   NaN  \n",
       "25%                    4.900000                   NaN  \n",
       "50%                    6.200000                   NaN  \n",
       "75%                   20.000000                   NaN  \n",
       "max                   30.000000                   NaN  "
      ]
     },
     "execution_count": 39,
     "metadata": {},
     "output_type": "execute_result"
    }
   ],
   "source": [
    "GDF[['CODE', 'OBJECTID', 'WS_BODEMBREEDTE_L', 'WS_BODBREE_ACCPROF_LI_L', 'WS_BODBREE_ACCPROF_RE_L', 'WS_VW_BODEMBREEDTE_L']].describe(include='all')"
   ]
  },
  {
   "cell_type": "code",
   "execution_count": 40,
   "id": "42101d7e",
   "metadata": {},
   "outputs": [
    {
     "data": {
      "text/html": [
       "<div>\n",
       "<style scoped>\n",
       "    .dataframe tbody tr th:only-of-type {\n",
       "        vertical-align: middle;\n",
       "    }\n",
       "\n",
       "    .dataframe tbody tr th {\n",
       "        vertical-align: top;\n",
       "    }\n",
       "\n",
       "    .dataframe thead th {\n",
       "        text-align: right;\n",
       "    }\n",
       "</style>\n",
       "<table border=\"1\" class=\"dataframe\">\n",
       "  <thead>\n",
       "    <tr style=\"text-align: right;\">\n",
       "      <th></th>\n",
       "      <th>CODE</th>\n",
       "      <th>WS_BODEMBREEDTE_L</th>\n",
       "      <th>WS_BODBREE_ACCPROF_LI_L</th>\n",
       "      <th>WS_BODBREE_ACCPROF_RE_L</th>\n",
       "      <th>WS_VW_BODEMBREEDTE_L</th>\n",
       "    </tr>\n",
       "  </thead>\n",
       "  <tbody>\n",
       "    <tr>\n",
       "      <th>369</th>\n",
       "      <td>OVK20487</td>\n",
       "      <td>1.0</td>\n",
       "      <td>6.50</td>\n",
       "      <td>NaN</td>\n",
       "      <td>NaN</td>\n",
       "    </tr>\n",
       "    <tr>\n",
       "      <th>511</th>\n",
       "      <td>OVK01430</td>\n",
       "      <td>0.8</td>\n",
       "      <td>NaN</td>\n",
       "      <td>4.4</td>\n",
       "      <td>NaN</td>\n",
       "    </tr>\n",
       "    <tr>\n",
       "      <th>775</th>\n",
       "      <td>OVK01438</td>\n",
       "      <td>0.8</td>\n",
       "      <td>3.50</td>\n",
       "      <td>NaN</td>\n",
       "      <td>NaN</td>\n",
       "    </tr>\n",
       "    <tr>\n",
       "      <th>2198</th>\n",
       "      <td>OVK00979</td>\n",
       "      <td>0.8</td>\n",
       "      <td>3.20</td>\n",
       "      <td>NaN</td>\n",
       "      <td>NaN</td>\n",
       "    </tr>\n",
       "    <tr>\n",
       "      <th>2395</th>\n",
       "      <td>OVK01793</td>\n",
       "      <td>0.5</td>\n",
       "      <td>NaN</td>\n",
       "      <td>20.0</td>\n",
       "      <td>NaN</td>\n",
       "    </tr>\n",
       "    <tr>\n",
       "      <th>3106</th>\n",
       "      <td>OVK20485</td>\n",
       "      <td>1.0</td>\n",
       "      <td>5.00</td>\n",
       "      <td>NaN</td>\n",
       "      <td>NaN</td>\n",
       "    </tr>\n",
       "    <tr>\n",
       "      <th>3815</th>\n",
       "      <td>OVK01792</td>\n",
       "      <td>0.5</td>\n",
       "      <td>NaN</td>\n",
       "      <td>20.0</td>\n",
       "      <td>NaN</td>\n",
       "    </tr>\n",
       "    <tr>\n",
       "      <th>3928</th>\n",
       "      <td>OVK20488</td>\n",
       "      <td>1.0</td>\n",
       "      <td>3.75</td>\n",
       "      <td>NaN</td>\n",
       "      <td>NaN</td>\n",
       "    </tr>\n",
       "    <tr>\n",
       "      <th>4588</th>\n",
       "      <td>OVK01547</td>\n",
       "      <td>1.0</td>\n",
       "      <td>30.00</td>\n",
       "      <td>30.0</td>\n",
       "      <td>NaN</td>\n",
       "    </tr>\n",
       "    <tr>\n",
       "      <th>5197</th>\n",
       "      <td>OVK20473</td>\n",
       "      <td>0.9</td>\n",
       "      <td>3.50</td>\n",
       "      <td>NaN</td>\n",
       "      <td>NaN</td>\n",
       "    </tr>\n",
       "    <tr>\n",
       "      <th>5292</th>\n",
       "      <td>OVK20478</td>\n",
       "      <td>1.2</td>\n",
       "      <td>3.70</td>\n",
       "      <td>NaN</td>\n",
       "      <td>NaN</td>\n",
       "    </tr>\n",
       "    <tr>\n",
       "      <th>5723</th>\n",
       "      <td>OVK20463</td>\n",
       "      <td>0.8</td>\n",
       "      <td>11.00</td>\n",
       "      <td>11.0</td>\n",
       "      <td>NaN</td>\n",
       "    </tr>\n",
       "    <tr>\n",
       "      <th>6094</th>\n",
       "      <td>OVK20471</td>\n",
       "      <td>0.8</td>\n",
       "      <td>26.50</td>\n",
       "      <td>6.2</td>\n",
       "      <td>NaN</td>\n",
       "    </tr>\n",
       "    <tr>\n",
       "      <th>6948</th>\n",
       "      <td>OVK20501</td>\n",
       "      <td>0.8</td>\n",
       "      <td>3.20</td>\n",
       "      <td>NaN</td>\n",
       "      <td>NaN</td>\n",
       "    </tr>\n",
       "    <tr>\n",
       "      <th>7876</th>\n",
       "      <td>OVK20970</td>\n",
       "      <td>0.5</td>\n",
       "      <td>3.40</td>\n",
       "      <td>NaN</td>\n",
       "      <td>NaN</td>\n",
       "    </tr>\n",
       "    <tr>\n",
       "      <th>9422</th>\n",
       "      <td>OVK20464</td>\n",
       "      <td>0.8</td>\n",
       "      <td>3.50</td>\n",
       "      <td>3.5</td>\n",
       "      <td>NaN</td>\n",
       "    </tr>\n",
       "    <tr>\n",
       "      <th>9433</th>\n",
       "      <td>OVK01439</td>\n",
       "      <td>0.9</td>\n",
       "      <td>4.20</td>\n",
       "      <td>NaN</td>\n",
       "      <td>NaN</td>\n",
       "    </tr>\n",
       "    <tr>\n",
       "      <th>10790</th>\n",
       "      <td>OVK01431</td>\n",
       "      <td>0.7</td>\n",
       "      <td>NaN</td>\n",
       "      <td>5.0</td>\n",
       "      <td>NaN</td>\n",
       "    </tr>\n",
       "    <tr>\n",
       "      <th>10807</th>\n",
       "      <td>OVK02953</td>\n",
       "      <td>1.2</td>\n",
       "      <td>5.00</td>\n",
       "      <td>NaN</td>\n",
       "      <td>NaN</td>\n",
       "    </tr>\n",
       "    <tr>\n",
       "      <th>12124</th>\n",
       "      <td>OVK01434</td>\n",
       "      <td>0.8</td>\n",
       "      <td>NaN</td>\n",
       "      <td>4.9</td>\n",
       "      <td>NaN</td>\n",
       "    </tr>\n",
       "  </tbody>\n",
       "</table>\n",
       "</div>"
      ],
      "text/plain": [
       "           CODE  WS_BODEMBREEDTE_L  WS_BODBREE_ACCPROF_LI_L  \\\n",
       "369    OVK20487                1.0                     6.50   \n",
       "511    OVK01430                0.8                      NaN   \n",
       "775    OVK01438                0.8                     3.50   \n",
       "2198   OVK00979                0.8                     3.20   \n",
       "2395   OVK01793                0.5                      NaN   \n",
       "3106   OVK20485                1.0                     5.00   \n",
       "3815   OVK01792                0.5                      NaN   \n",
       "3928   OVK20488                1.0                     3.75   \n",
       "4588   OVK01547                1.0                    30.00   \n",
       "5197   OVK20473                0.9                     3.50   \n",
       "5292   OVK20478                1.2                     3.70   \n",
       "5723   OVK20463                0.8                    11.00   \n",
       "6094   OVK20471                0.8                    26.50   \n",
       "6948   OVK20501                0.8                     3.20   \n",
       "7876   OVK20970                0.5                     3.40   \n",
       "9422   OVK20464                0.8                     3.50   \n",
       "9433   OVK01439                0.9                     4.20   \n",
       "10790  OVK01431                0.7                      NaN   \n",
       "10807  OVK02953                1.2                     5.00   \n",
       "12124  OVK01434                0.8                      NaN   \n",
       "\n",
       "       WS_BODBREE_ACCPROF_RE_L  WS_VW_BODEMBREEDTE_L  \n",
       "369                        NaN                   NaN  \n",
       "511                        4.4                   NaN  \n",
       "775                        NaN                   NaN  \n",
       "2198                       NaN                   NaN  \n",
       "2395                      20.0                   NaN  \n",
       "3106                       NaN                   NaN  \n",
       "3815                      20.0                   NaN  \n",
       "3928                       NaN                   NaN  \n",
       "4588                      30.0                   NaN  \n",
       "5197                       NaN                   NaN  \n",
       "5292                       NaN                   NaN  \n",
       "5723                      11.0                   NaN  \n",
       "6094                       6.2                   NaN  \n",
       "6948                       NaN                   NaN  \n",
       "7876                       NaN                   NaN  \n",
       "9422                       3.5                   NaN  \n",
       "9433                       NaN                   NaN  \n",
       "10790                      5.0                   NaN  \n",
       "10807                      NaN                   NaN  \n",
       "12124                      4.9                   NaN  "
      ]
     },
     "execution_count": 40,
     "metadata": {},
     "output_type": "execute_result"
    }
   ],
   "source": [
    "GDF.loc[ GDF['WS_BODBREE_ACCPROF_LI_L'].notna() | GDF['WS_BODBREE_ACCPROF_RE_L'].notna() | GDF['WS_VW_BODEMBREEDTE_L'].notna(),\n",
    "         ['CODE', 'WS_BODEMBREEDTE_L', 'WS_BODBREE_ACCPROF_LI_L', 'WS_BODBREE_ACCPROF_RE_L', 'WS_VW_BODEMBREEDTE_L']]"
   ]
  },
  {
   "cell_type": "markdown",
   "id": "da1bf2e6",
   "metadata": {},
   "source": [
    "'WS_BODBREE_ACCPROF_LI_L' & 'WS_BODBREE_ACCPROF_RE_L' are not the bottom of the channel. This is clear if we masure the channel width in QGIS. So we won't use those.<br>\n",
    "'WS_VW_BODEMBREEDTE_L' only has nulls, so we won't use that either.<br>\n",
    "**So we'll just use 'WS_BODEMBREEDTE_L'.**"
   ]
  },
  {
   "cell_type": "markdown",
   "id": "1277cd67",
   "metadata": {},
   "source": [
    "#### 6. & 7. Upstream and downstream elevations"
   ]
  },
  {
   "cell_type": "code",
   "execution_count": 41,
   "id": "997e8c1d",
   "metadata": {},
   "outputs": [
    {
     "data": {
      "text/html": [
       "<div>\n",
       "<style scoped>\n",
       "    .dataframe tbody tr th:only-of-type {\n",
       "        vertical-align: middle;\n",
       "    }\n",
       "\n",
       "    .dataframe tbody tr th {\n",
       "        vertical-align: top;\n",
       "    }\n",
       "\n",
       "    .dataframe thead th {\n",
       "        text-align: right;\n",
       "    }\n",
       "</style>\n",
       "<table border=\"1\" class=\"dataframe\">\n",
       "  <thead>\n",
       "    <tr style=\"text-align: right;\">\n",
       "      <th></th>\n",
       "      <th>CODE</th>\n",
       "      <th>WS_BH_BOVENSTROOMS_L</th>\n",
       "      <th>WS_BH_BENEDENSTROOMS_L</th>\n",
       "    </tr>\n",
       "  </thead>\n",
       "  <tbody>\n",
       "    <tr>\n",
       "      <th>count</th>\n",
       "      <td>591</td>\n",
       "      <td>591.000000</td>\n",
       "      <td>591.000000</td>\n",
       "    </tr>\n",
       "    <tr>\n",
       "      <th>unique</th>\n",
       "      <td>591</td>\n",
       "      <td>NaN</td>\n",
       "      <td>NaN</td>\n",
       "    </tr>\n",
       "    <tr>\n",
       "      <th>top</th>\n",
       "      <td>OVK01308</td>\n",
       "      <td>NaN</td>\n",
       "      <td>NaN</td>\n",
       "    </tr>\n",
       "    <tr>\n",
       "      <th>freq</th>\n",
       "      <td>1</td>\n",
       "      <td>NaN</td>\n",
       "      <td>NaN</td>\n",
       "    </tr>\n",
       "    <tr>\n",
       "      <th>mean</th>\n",
       "      <td>NaN</td>\n",
       "      <td>8.995431</td>\n",
       "      <td>8.588037</td>\n",
       "    </tr>\n",
       "    <tr>\n",
       "      <th>std</th>\n",
       "      <td>NaN</td>\n",
       "      <td>4.708964</td>\n",
       "      <td>4.636708</td>\n",
       "    </tr>\n",
       "    <tr>\n",
       "      <th>min</th>\n",
       "      <td>NaN</td>\n",
       "      <td>-1.630000</td>\n",
       "      <td>-1.650000</td>\n",
       "    </tr>\n",
       "    <tr>\n",
       "      <th>25%</th>\n",
       "      <td>NaN</td>\n",
       "      <td>5.860000</td>\n",
       "      <td>5.345000</td>\n",
       "    </tr>\n",
       "    <tr>\n",
       "      <th>50%</th>\n",
       "      <td>NaN</td>\n",
       "      <td>9.120000</td>\n",
       "      <td>8.760000</td>\n",
       "    </tr>\n",
       "    <tr>\n",
       "      <th>75%</th>\n",
       "      <td>NaN</td>\n",
       "      <td>12.490000</td>\n",
       "      <td>12.015000</td>\n",
       "    </tr>\n",
       "    <tr>\n",
       "      <th>max</th>\n",
       "      <td>NaN</td>\n",
       "      <td>19.800000</td>\n",
       "      <td>19.780001</td>\n",
       "    </tr>\n",
       "  </tbody>\n",
       "</table>\n",
       "</div>"
      ],
      "text/plain": [
       "            CODE  WS_BH_BOVENSTROOMS_L  WS_BH_BENEDENSTROOMS_L\n",
       "count        591            591.000000              591.000000\n",
       "unique       591                   NaN                     NaN\n",
       "top     OVK01308                   NaN                     NaN\n",
       "freq           1                   NaN                     NaN\n",
       "mean         NaN              8.995431                8.588037\n",
       "std          NaN              4.708964                4.636708\n",
       "min          NaN             -1.630000               -1.650000\n",
       "25%          NaN              5.860000                5.345000\n",
       "50%          NaN              9.120000                8.760000\n",
       "75%          NaN             12.490000               12.015000\n",
       "max          NaN             19.800000               19.780001"
      ]
     },
     "execution_count": 41,
     "metadata": {},
     "output_type": "execute_result"
    }
   ],
   "source": [
    "GDF[[ 'CODE', 'WS_BH_BOVENSTROOMS_L', 'WS_BH_BENEDENSTROOMS_L']].describe(include='all')"
   ]
  },
  {
   "cell_type": "markdown",
   "id": "7017a577",
   "metadata": {},
   "source": [
    "No nulls + the percentiles make sense.🟢<br>\n",
    "Let's make sure the UStr is always higher than the DnStr.<br>\n",
    "Then let's print out some values to check in QGIS."
   ]
  },
  {
   "cell_type": "code",
   "execution_count": 42,
   "id": "fa042d75",
   "metadata": {},
   "outputs": [
    {
     "data": {
      "text/plain": [
       "(np.int64(98), np.int64(24), np.int64(493), 591)"
      ]
     },
     "execution_count": 42,
     "metadata": {},
     "output_type": "execute_result"
    }
   ],
   "source": [
    "(GDF['WS_BH_BOVENSTROOMS_L'] <= GDF['WS_BH_BENEDENSTROOMS_L']).sum(), (GDF['WS_BH_BOVENSTROOMS_L'] < GDF['WS_BH_BENEDENSTROOMS_L']).sum(), (GDF['WS_BH_BOVENSTROOMS_L'] > GDF['WS_BH_BENEDENSTROOMS_L']).sum(), GDF.shape[0]"
   ]
  },
  {
   "cell_type": "markdown",
   "id": "3fb76324",
   "metadata": {},
   "source": [
    "For 98 segments (out of 591), the UStr Elv is <= the DStr Elv. This is not good. We'll have to fix this. 🔴<br>\n",
    "Only 24/99 have DStr < UStr , the rest are equal. = will be corrected by SFR itself (as far as I know), so no action is required for those."
   ]
  },
  {
   "cell_type": "markdown",
   "id": "d9e2d450",
   "metadata": {},
   "source": [
    "Let's print out some CODEs where =, to check in QGIS. *(We don't really need to, I'm just curious)*"
   ]
  },
  {
   "cell_type": "code",
   "execution_count": 43,
   "id": "c89fd4e0",
   "metadata": {},
   "outputs": [],
   "source": [
    "GDF_Elv = GDF[['CODE', 'WS_BH_BOVENSTROOMS_L', 'WS_BH_BENEDENSTROOMS_L', 'DStr_code', 'DStr_ID']].copy()"
   ]
  },
  {
   "cell_type": "code",
   "execution_count": 44,
   "id": "5c26b301",
   "metadata": {},
   "outputs": [],
   "source": [
    "GDF_Elv['Diff'] = GDF_Elv['WS_BH_BOVENSTROOMS_L'] - GDF_Elv['WS_BH_BENEDENSTROOMS_L']"
   ]
  },
  {
   "cell_type": "code",
   "execution_count": 45,
   "id": "b3767f90",
   "metadata": {},
   "outputs": [
    {
     "data": {
      "text/html": [
       "<div>\n",
       "<style scoped>\n",
       "    .dataframe tbody tr th:only-of-type {\n",
       "        vertical-align: middle;\n",
       "    }\n",
       "\n",
       "    .dataframe tbody tr th {\n",
       "        vertical-align: top;\n",
       "    }\n",
       "\n",
       "    .dataframe thead th {\n",
       "        text-align: right;\n",
       "    }\n",
       "</style>\n",
       "<table border=\"1\" class=\"dataframe\">\n",
       "  <thead>\n",
       "    <tr style=\"text-align: right;\">\n",
       "      <th></th>\n",
       "      <th>CODE</th>\n",
       "      <th>WS_BH_BOVENSTROOMS_L</th>\n",
       "      <th>WS_BH_BENEDENSTROOMS_L</th>\n",
       "      <th>DStr_code</th>\n",
       "      <th>DStr_ID</th>\n",
       "      <th>Diff</th>\n",
       "    </tr>\n",
       "  </thead>\n",
       "  <tbody>\n",
       "    <tr>\n",
       "      <th>318</th>\n",
       "      <td>OVK02978</td>\n",
       "      <td>2.90</td>\n",
       "      <td>2.90</td>\n",
       "      <td>OVK02979</td>\n",
       "      <td>6696</td>\n",
       "      <td>0.0</td>\n",
       "    </tr>\n",
       "    <tr>\n",
       "      <th>383</th>\n",
       "      <td>OVK02056</td>\n",
       "      <td>10.35</td>\n",
       "      <td>10.35</td>\n",
       "      <td>OVK02055</td>\n",
       "      <td>481</td>\n",
       "      <td>0.0</td>\n",
       "    </tr>\n",
       "    <tr>\n",
       "      <th>397</th>\n",
       "      <td>OVK03014</td>\n",
       "      <td>5.35</td>\n",
       "      <td>5.35</td>\n",
       "      <td>OVK03010</td>\n",
       "      <td>475</td>\n",
       "      <td>0.0</td>\n",
       "    </tr>\n",
       "    <tr>\n",
       "      <th>476</th>\n",
       "      <td>OVK00950</td>\n",
       "      <td>10.86</td>\n",
       "      <td>10.86</td>\n",
       "      <td>OVK01471</td>\n",
       "      <td>371</td>\n",
       "      <td>0.0</td>\n",
       "    </tr>\n",
       "    <tr>\n",
       "      <th>489</th>\n",
       "      <td>OVK00994</td>\n",
       "      <td>12.30</td>\n",
       "      <td>12.30</td>\n",
       "      <td>OVK00995</td>\n",
       "      <td>7231</td>\n",
       "      <td>0.0</td>\n",
       "    </tr>\n",
       "  </tbody>\n",
       "</table>\n",
       "</div>"
      ],
      "text/plain": [
       "         CODE  WS_BH_BOVENSTROOMS_L  WS_BH_BENEDENSTROOMS_L DStr_code  \\\n",
       "318  OVK02978                  2.90                    2.90  OVK02979   \n",
       "383  OVK02056                 10.35                   10.35  OVK02055   \n",
       "397  OVK03014                  5.35                    5.35  OVK03010   \n",
       "476  OVK00950                 10.86                   10.86  OVK01471   \n",
       "489  OVK00994                 12.30                   12.30  OVK00995   \n",
       "\n",
       "     DStr_ID  Diff  \n",
       "318     6696   0.0  \n",
       "383      481   0.0  \n",
       "397      475   0.0  \n",
       "476      371   0.0  \n",
       "489     7231   0.0  "
      ]
     },
     "execution_count": 45,
     "metadata": {},
     "output_type": "execute_result"
    }
   ],
   "source": [
    "GDF_Elv.loc[GDF_Elv['Diff'] == 0].head()"
   ]
  },
  {
   "cell_type": "code",
   "execution_count": 46,
   "id": "4ed88bff",
   "metadata": {},
   "outputs": [
    {
     "data": {
      "text/html": [
       "<div>\n",
       "<style scoped>\n",
       "    .dataframe tbody tr th:only-of-type {\n",
       "        vertical-align: middle;\n",
       "    }\n",
       "\n",
       "    .dataframe tbody tr th {\n",
       "        vertical-align: top;\n",
       "    }\n",
       "\n",
       "    .dataframe thead th {\n",
       "        text-align: right;\n",
       "    }\n",
       "</style>\n",
       "<table border=\"1\" class=\"dataframe\">\n",
       "  <thead>\n",
       "    <tr style=\"text-align: right;\">\n",
       "      <th></th>\n",
       "      <th>CODE</th>\n",
       "      <th>WS_BH_BOVENSTROOMS_L</th>\n",
       "      <th>WS_BH_BENEDENSTROOMS_L</th>\n",
       "      <th>DStr_code</th>\n",
       "      <th>DStr_ID</th>\n",
       "      <th>Diff</th>\n",
       "    </tr>\n",
       "  </thead>\n",
       "  <tbody>\n",
       "    <tr>\n",
       "      <th>7524</th>\n",
       "      <td>OVK02241</td>\n",
       "      <td>-0.77</td>\n",
       "      <td>-0.400000</td>\n",
       "      <td>OVK02242</td>\n",
       "      <td>3718</td>\n",
       "      <td>-0.37</td>\n",
       "    </tr>\n",
       "    <tr>\n",
       "      <th>3717</th>\n",
       "      <td>OVK02242</td>\n",
       "      <td>-0.40</td>\n",
       "      <td>-0.050000</td>\n",
       "      <td>0</td>\n",
       "      <td>0</td>\n",
       "      <td>-0.35</td>\n",
       "    </tr>\n",
       "    <tr>\n",
       "      <th>3733</th>\n",
       "      <td>OVK02988</td>\n",
       "      <td>0.40</td>\n",
       "      <td>0.700000</td>\n",
       "      <td>OVK11790</td>\n",
       "      <td>4052</td>\n",
       "      <td>-0.30</td>\n",
       "    </tr>\n",
       "    <tr>\n",
       "      <th>461</th>\n",
       "      <td>OVK01451</td>\n",
       "      <td>19.52</td>\n",
       "      <td>19.780001</td>\n",
       "      <td>OVK01449</td>\n",
       "      <td>281</td>\n",
       "      <td>-0.26</td>\n",
       "    </tr>\n",
       "    <tr>\n",
       "      <th>4117</th>\n",
       "      <td>OVK00972</td>\n",
       "      <td>14.30</td>\n",
       "      <td>14.550000</td>\n",
       "      <td>OVK00970</td>\n",
       "      <td>934</td>\n",
       "      <td>-0.25</td>\n",
       "    </tr>\n",
       "  </tbody>\n",
       "</table>\n",
       "</div>"
      ],
      "text/plain": [
       "          CODE  WS_BH_BOVENSTROOMS_L  WS_BH_BENEDENSTROOMS_L DStr_code  \\\n",
       "7524  OVK02241                 -0.77               -0.400000  OVK02242   \n",
       "3717  OVK02242                 -0.40               -0.050000         0   \n",
       "3733  OVK02988                  0.40                0.700000  OVK11790   \n",
       "461   OVK01451                 19.52               19.780001  OVK01449   \n",
       "4117  OVK00972                 14.30               14.550000  OVK00970   \n",
       "\n",
       "      DStr_ID  Diff  \n",
       "7524     3718 -0.37  \n",
       "3717        0 -0.35  \n",
       "3733     4052 -0.30  \n",
       "461       281 -0.26  \n",
       "4117      934 -0.25  "
      ]
     },
     "execution_count": 46,
     "metadata": {},
     "output_type": "execute_result"
    }
   ],
   "source": [
    "GDF_Elv.loc[ GDF_Elv['Diff'] < 0 ].sort_values(by='Diff', ascending=True).head()"
   ]
  },
  {
   "cell_type": "markdown",
   "id": "a8ae72da",
   "metadata": {},
   "source": [
    "Let's see if any of the problematic segments have multiple UStr segments. That would make a solution harder to implement.<br>\n",
    "*(if there is only 1 UStr segment, the DStr Elv of the UStr segment can be modified to allow the UStr Elv of the current segmet to be increased as well, but if there are multiple, this becomes more complicated)*"
   ]
  },
  {
   "cell_type": "code",
   "execution_count": 47,
   "id": "678c64e0",
   "metadata": {},
   "outputs": [
    {
     "name": "stdout",
     "output_type": "stream",
     "text": [
      "OVK02982 2\n",
      "OVK21050 2\n",
      "OVK03070 3\n",
      "OVK02326 2\n",
      "OVK01434 2\n"
     ]
    }
   ],
   "source": [
    "l_problematic = GDF_Elv.loc[ GDF_Elv['Diff'] < 0, 'CODE'].tolist()\n",
    "for S in l_problematic:\n",
    "    sum = (GDF['DStr_code']==S).sum()\n",
    "    if sum > 1:\n",
    "        print(S, sum)"
   ]
  },
  {
   "cell_type": "markdown",
   "id": "5b044bca",
   "metadata": {},
   "source": [
    "There are multiple segments with more than 1 UStr segment. We'll have to consider this when designing the elevation correction logic. "
   ]
  },
  {
   "cell_type": "markdown",
   "id": "d938eac8",
   "metadata": {},
   "source": [
    "We'll design an algorithm to fix the ones with <. The ones with = will be fixed by SFR itself (hopefully). The following abbreviations are useful for explaining the concept:\n",
    "- A: DStr Elv of DStr segment\n",
    "- B: UStr Elv of DStr segment\n",
    "- C: DStr Elv of current segment\n",
    "- D: UStr Elv of current segment\n",
    "- F: DStr Elv of UStr segment(s)\n",
    "\n",
    "Here is the idea behind the algorithm:\n",
    "1. If **C > D & B <= D** :<br>\n",
    "-> Set **C = D**\n",
    "2. If **C > D & B > D** :<br>\n",
    "-> Set **C = D**. Set **B = D**\n",
    "3. If **C <= D** :<br>\n",
    "-> **No action**.\n",
    "\n",
    "Repeat till there are no segments with C < D.\n",
    "\n",
    "When there is no downstream segment, we apply the logic used in case 1."
   ]
  },
  {
   "cell_type": "code",
   "execution_count": 48,
   "id": "2c2f4466",
   "metadata": {},
   "outputs": [
    {
     "ename": "KeyError",
     "evalue": "'DStr'",
     "output_type": "error",
     "traceback": [
      "\u001b[31m---------------------------------------------------------------------------\u001b[39m",
      "\u001b[31mKeyError\u001b[39m                                  Traceback (most recent call last)",
      "\u001b[32m~\\AppData\\Local\\Temp\\ipykernel_7508\\2744099870.py\u001b[39m in \u001b[36m?\u001b[39m\u001b[34m()\u001b[39m\n\u001b[32m----> \u001b[39m\u001b[32m1\u001b[39m GDF_Elv = GDF_Elv.merge(GDF[[\u001b[33m'CODE'\u001b[39m, \u001b[33m'WS_BH_BOVENSTROOMS_L'\u001b[39m, \u001b[33m'WS_BH_BENEDENSTROOMS_L'\u001b[39m]], left_on=\u001b[33m'DStr'\u001b[39m, right_on=\u001b[33m'CODE'\u001b[39m, suffixes=(\u001b[33m''\u001b[39m, \u001b[33m'_DStr'\u001b[39m))\n",
      "\u001b[32mc:\\Users\\Karam014\\OneDrive - Universiteit Utrecht\\WS_Mdl\\code\\.pixi\\envs\\default\\Lib\\site-packages\\pandas\\core\\frame.py\u001b[39m in \u001b[36m?\u001b[39m\u001b[34m(self, right, how, on, left_on, right_on, left_index, right_index, sort, suffixes, copy, indicator, validate)\u001b[39m\n\u001b[32m  10835\u001b[39m         validate: MergeValidate | \u001b[38;5;28;01mNone\u001b[39;00m = \u001b[38;5;28;01mNone\u001b[39;00m,\n\u001b[32m  10836\u001b[39m     ) -> DataFrame:\n\u001b[32m  10837\u001b[39m         \u001b[38;5;28;01mfrom\u001b[39;00m pandas.core.reshape.merge \u001b[38;5;28;01mimport\u001b[39;00m merge\n\u001b[32m  10838\u001b[39m \n\u001b[32m> \u001b[39m\u001b[32m10839\u001b[39m         return merge(\n\u001b[32m  10840\u001b[39m             self,\n\u001b[32m  10841\u001b[39m             right,\n\u001b[32m  10842\u001b[39m             how=how,\n",
      "\u001b[32mc:\\Users\\Karam014\\OneDrive - Universiteit Utrecht\\WS_Mdl\\code\\.pixi\\envs\\default\\Lib\\site-packages\\pandas\\core\\reshape\\merge.py\u001b[39m in \u001b[36m?\u001b[39m\u001b[34m(left, right, how, on, left_on, right_on, left_index, right_index, sort, suffixes, copy, indicator, validate)\u001b[39m\n\u001b[32m    166\u001b[39m             validate=validate,\n\u001b[32m    167\u001b[39m             copy=copy,\n\u001b[32m    168\u001b[39m         )\n\u001b[32m    169\u001b[39m     \u001b[38;5;28;01melse\u001b[39;00m:\n\u001b[32m--> \u001b[39m\u001b[32m170\u001b[39m         op = _MergeOperation(\n\u001b[32m    171\u001b[39m             left_df,\n\u001b[32m    172\u001b[39m             right_df,\n\u001b[32m    173\u001b[39m             how=how,\n",
      "\u001b[32mc:\\Users\\Karam014\\OneDrive - Universiteit Utrecht\\WS_Mdl\\code\\.pixi\\envs\\default\\Lib\\site-packages\\pandas\\core\\reshape\\merge.py\u001b[39m in \u001b[36m?\u001b[39m\u001b[34m(self, left, right, how, on, left_on, right_on, left_index, right_index, sort, suffixes, indicator, validate)\u001b[39m\n\u001b[32m    790\u001b[39m             self.right_join_keys,\n\u001b[32m    791\u001b[39m             self.join_names,\n\u001b[32m    792\u001b[39m             left_drop,\n\u001b[32m    793\u001b[39m             right_drop,\n\u001b[32m--> \u001b[39m\u001b[32m794\u001b[39m         ) = self._get_merge_keys()\n\u001b[32m    795\u001b[39m \n\u001b[32m    796\u001b[39m         \u001b[38;5;28;01mif\u001b[39;00m left_drop:\n\u001b[32m    797\u001b[39m             self.left = self.left._drop_labels_or_levels(left_drop)\n",
      "\u001b[32mc:\\Users\\Karam014\\OneDrive - Universiteit Utrecht\\WS_Mdl\\code\\.pixi\\envs\\default\\Lib\\site-packages\\pandas\\core\\reshape\\merge.py\u001b[39m in \u001b[36m?\u001b[39m\u001b[34m(self)\u001b[39m\n\u001b[32m   1307\u001b[39m                     \u001b[38;5;28;01mif\u001b[39;00m lk \u001b[38;5;28;01mis\u001b[39;00m \u001b[38;5;28;01mnot\u001b[39;00m \u001b[38;5;28;01mNone\u001b[39;00m:\n\u001b[32m   1308\u001b[39m                         \u001b[38;5;66;03m# Then we're either Hashable or a wrong-length arraylike,\u001b[39;00m\n\u001b[32m   1309\u001b[39m                         \u001b[38;5;66;03m#  the latter of which will raise\u001b[39;00m\n\u001b[32m   1310\u001b[39m                         lk = cast(Hashable, lk)\n\u001b[32m-> \u001b[39m\u001b[32m1311\u001b[39m                         left_keys.append(left._get_label_or_level_values(lk))\n\u001b[32m   1312\u001b[39m                         join_names.append(lk)\n\u001b[32m   1313\u001b[39m                     \u001b[38;5;28;01melse\u001b[39;00m:\n\u001b[32m   1314\u001b[39m                         \u001b[38;5;66;03m# work-around for merge_asof(left_index=True)\u001b[39;00m\n",
      "\u001b[32mc:\\Users\\Karam014\\OneDrive - Universiteit Utrecht\\WS_Mdl\\code\\.pixi\\envs\\default\\Lib\\site-packages\\pandas\\core\\generic.py\u001b[39m in \u001b[36m?\u001b[39m\u001b[34m(self, key, axis)\u001b[39m\n\u001b[32m   1907\u001b[39m             values = self.xs(key, axis=other_axes[\u001b[32m0\u001b[39m])._values\n\u001b[32m   1908\u001b[39m         \u001b[38;5;28;01melif\u001b[39;00m self._is_level_reference(key, axis=axis):\n\u001b[32m   1909\u001b[39m             values = self.axes[axis].get_level_values(key)._values\n\u001b[32m   1910\u001b[39m         \u001b[38;5;28;01melse\u001b[39;00m:\n\u001b[32m-> \u001b[39m\u001b[32m1911\u001b[39m             \u001b[38;5;28;01mraise\u001b[39;00m KeyError(key)\n\u001b[32m   1912\u001b[39m \n\u001b[32m   1913\u001b[39m         \u001b[38;5;66;03m# Check for duplicates\u001b[39;00m\n\u001b[32m   1914\u001b[39m         \u001b[38;5;28;01mif\u001b[39;00m values.ndim > \u001b[32m1\u001b[39m:\n",
      "\u001b[31mKeyError\u001b[39m: 'DStr'"
     ]
    }
   ],
   "source": [
    "GDF_Elv = GDF_Elv.merge(GDF[['CODE', 'WS_BH_BOVENSTROOMS_L', 'WS_BH_BENEDENSTROOMS_L']], left_on='DStr', right_on='CODE', suffixes=('', '_DStr'))"
   ]
  },
  {
   "cell_type": "code",
   "execution_count": null,
   "id": "4f15b20a",
   "metadata": {},
   "outputs": [],
   "source": [
    "GDF_Elv.rename(columns={'WS_BH_BOVENSTROOMS_L_DStr': 'B', 'WS_BH_BENEDENSTROOMS_L': 'A'}, inplace=True)"
   ]
  },
  {
   "cell_type": "code",
   "execution_count": null,
   "id": "cf07d6c7",
   "metadata": {},
   "outputs": [],
   "source": [
    "def adjust_elevations(row):\n",
    "    if row['C'] <= row['D']:\n",
    "        return row['B'], row['C']\n",
    "    elif (row['C'] > row['D']) and (row['B'] <= row['D']):\n",
    "        return row['B'], row['D']\n",
    "    elif (row['C'] > row['D']) and (row['B'] > row['D']):\n",
    "        return row['D'], row['D']"
   ]
  },
  {
   "cell_type": "code",
   "execution_count": null,
   "id": "27ead71f",
   "metadata": {},
   "outputs": [],
   "source": [
    "GDF_Elv[['B_', 'C_']] = GDF_Elv.apply(adjust_elevations, axis=1, result_type='expand')"
   ]
  },
  {
   "cell_type": "code",
   "execution_count": null,
   "id": "0fed8337",
   "metadata": {},
   "outputs": [],
   "source": [
    "GDF_Elv.loc[ (GDF_Elv['Diff'] < 0) , \n",
    "            ['DStr', 'A', 'B', 'B_', 'CODE', 'C', 'C_', 'D']].sort_values(by='CODE').reset_index(drop=True)"
   ]
  },
  {
   "cell_type": "code",
   "execution_count": null,
   "id": "dcc5c6e6",
   "metadata": {},
   "outputs": [],
   "source": [
    "GDF_Elv.loc[(GDF_Elv['DStr']=='OVK02242') | (GDF_Elv['CODE']=='OVK02242')]"
   ]
  },
  {
   "cell_type": "code",
   "execution_count": null,
   "id": "a179f331",
   "metadata": {},
   "outputs": [],
   "source": [
    "UNFINISHED BUSINESS - CORRECTIONS"
   ]
  },
  {
   "cell_type": "code",
   "execution_count": null,
   "id": "4f15b20a",
   "metadata": {},
   "outputs": [],
   "source": [
    "GDF_Elv.rename(columns={'WS_BH_BOVENSTROOMS_L_DStr': 'B', 'WS_BH_BENEDENSTROOMS_L': 'A'}, inplace=True)"
   ]
  },
  {
   "cell_type": "code",
   "execution_count": null,
   "id": "2c2f4466",
   "metadata": {},
   "outputs": [],
   "source": [
    "GDF_Elv = GDF_Elv.merge(GDF[['CODE', 'WS_BH_BOVENSTROOMS_L', 'WS_BH_BENEDENSTROOMS_L']], left_on='DStr', right_on='CODE', suffixes=('', '_DStr'))"
   ]
  },
  {
   "cell_type": "code",
   "execution_count": null,
   "id": "2c2f4466",
   "metadata": {},
   "outputs": [],
   "source": [
    "GDF_Elv = GDF_Elv.merge(GDF[['CODE', 'WS_BH_BOVENSTROOMS_L', 'WS_BH_BENEDENSTROOMS_L']], left_on='DStr', right_on='CODE', suffixes=('', '_DStr'))"
   ]
  },
  {
   "cell_type": "code",
   "execution_count": null,
   "id": "320ea2f3",
   "metadata": {},
   "outputs": [],
   "source": [
    "GDF_Elv[['C', 'D']] = GDF_Elv[['WS_BH_BENEDENSTROOMS_L', 'WS_BH_BOVENSTROOMS_L']].copy()"
   ]
  },
  {
   "cell_type": "markdown",
   "id": "664a3b40",
   "metadata": {},
   "source": [
    "#### Conclusion"
   ]
  },
  {
   "cell_type": "markdown",
   "id": "579bb2a0",
   "metadata": {},
   "source": [
    "**Custom hydrography** <br>\n",
    "Any Polyline shapefile can be supplied in lieu of NHDPlus, but it must have the following columns, as shown in the second example:\n",
    "1. flowlines_file: path to shapefile <br>\n",
    "    -> **Pa_GPkg_1ry** <br>\n",
    "2. id_column: unique identifier for each polyline <br>\n",
    "    -> **OBJECTID** <br>\n",
    "3. routing_column: downstream connection (ID), 0 if none <br>\n",
    "    -> **DStr_ID** <br>\n",
    "4. width1_column: channel width at start of line, in attr\\_length\\_units (optional) <br>\n",
    "    -> **WS_BODEMBREEDTE_L** <br>\n",
    "5. width2_column: channel width at end of line, in attr_length_units (optional) <br>\n",
    "    -> **WS_BODEMBREEDTE_L** <br>\n",
    "6. up_elevation_column: streambed elevation at start of line, in attr_height_units <br>\n",
    "    -> **WS_BH_BOVENSTROOMS_L** <br>\n",
    "7. dn_elevation_column: streambed elevation at end of line, in attr_height_units <br>\n",
    "    -> **WS_BH_BENEDENSTROOMS_L** <br>\n",
    "8. name_column: stream name (optional) <br>\n",
    "    -> **CODE** <br>\n",
    "9. attr_length_units: channel width units <br>\n",
    "    -> **'m'** <br>\n",
    "10. attr_height_units: streambed elevation units <br>\n",
    "    -> **'m'** <br>"
   ]
  },
  {
   "cell_type": "code",
   "execution_count": null,
   "id": "cd4a4970",
   "metadata": {},
   "outputs": [],
   "source": []
  },
  {
   "cell_type": "code",
   "execution_count": null,
   "id": "a3b5467e",
   "metadata": {},
   "outputs": [],
   "source": []
  },
  {
   "cell_type": "markdown",
   "id": "4692b24d",
   "metadata": {},
   "source": [
    "# Create Grid and Generate SFR Routing Network"
   ]
  },
  {
   "cell_type": "code",
   "execution_count": 49,
   "id": "2bbe7057",
   "metadata": {},
   "outputs": [],
   "source": [
    "# help(sfr.Lines.from_dataframe)"
   ]
  },
  {
   "cell_type": "code",
   "execution_count": 50,
   "id": "21ff882b",
   "metadata": {},
   "outputs": [],
   "source": [
    "# help(sfr.Lines.from_shapefile)"
   ]
  },
  {
   "cell_type": "code",
   "execution_count": 51,
   "id": "01f999a4",
   "metadata": {},
   "outputs": [
    {
     "name": "stderr",
     "output_type": "stream",
     "text": [
      "c:\\Users\\Karam014\\OneDrive - Universiteit Utrecht\\WS_Mdl\\code\\.pixi\\envs\\default\\Lib\\site-packages\\sfrmaker\\lines.py:93: PendingDeprecationWarning: attr_length_units argument is deprecated, use width_units or asum_units instead\n",
      "  warnings.warn(\n",
      "c:\\Users\\Karam014\\OneDrive - Universiteit Utrecht\\WS_Mdl\\code\\.pixi\\envs\\default\\Lib\\site-packages\\sfrmaker\\lines.py:101: PendingDeprecationWarning: attr_height_units argument is deprecated, use elevation_units instead\n",
      "  warnings.warn(\n"
     ]
    }
   ],
   "source": [
    "lines = sfr.Lines.from_dataframe(df=GDF,\n",
    "    id_column='OBJECTID',\n",
    "    routing_column='DStr_ID',\n",
    "    width1_column='WS_BODEMBREEDTE_L', width2_column='WS_BODEMBREEDTE_L',\n",
    "    up_elevation_column='WS_BH_BOVENSTROOMS_L',\n",
    "    dn_elevation_column='WS_BH_BENEDENSTROOMS_L',\n",
    "    name_column='CODE',\n",
    "    attr_length_units='m',\n",
    "    attr_height_units='m',\n",
    "    crs=GDF.crs\n",
    "    #    shapefile=Pa_GPkg_1ry_SHP_SFR,\n",
    "\n",
    ")"
   ]
  },
  {
   "cell_type": "code",
   "execution_count": 52,
   "id": "e0102847",
   "metadata": {},
   "outputs": [
    {
     "data": {
      "text/plain": [
       "<sfrmaker.lines.Lines at 0x18df2192f90>"
      ]
     },
     "execution_count": 52,
     "metadata": {},
     "output_type": "execute_result"
    }
   ],
   "source": [
    "lines"
   ]
  },
  {
   "cell_type": "markdown",
   "id": "aa88da1b",
   "metadata": {},
   "source": [
    "## Explore SFRmaker Lines Object\n",
    "\n",
    "Now that we have successfully created the `lines` object, let's explore what we can do with it:"
   ]
  },
  {
   "cell_type": "code",
   "execution_count": 53,
   "id": "b48fb3d8",
   "metadata": {},
   "outputs": [
    {
     "name": "stdout",
     "output_type": "stream",
     "text": [
      "=== Basic Lines Object Information ===\n",
      "Number of stream segments: 591\n",
      "Columns in lines dataframe: ['id', 'toid', 'asum1', 'asum2', 'width1', 'width2', 'elevup', 'elevdn', 'name', 'geometry']\n",
      "CRS: EPSG:28992\n",
      "Total network length: 154.1 km\n"
     ]
    }
   ],
   "source": [
    "# 1. Basic information about the lines object\n",
    "print(\"=== Basic Lines Object Information ===\")\n",
    "print(f\"Number of stream segments: {len(lines.df)}\")\n",
    "print(f\"Columns in lines dataframe: {list(lines.df.columns)}\")\n",
    "print(f\"CRS: {lines.df.crs}\")\n",
    "print(f\"Total network length: {lines.df.geometry.length.sum()/1000:.1f} km\")"
   ]
  },
  {
   "cell_type": "code",
   "execution_count": 54,
   "id": "f08eee43",
   "metadata": {},
   "outputs": [
    {
     "name": "stdout",
     "output_type": "stream",
     "text": [
      "=== Lines DataFrame Sample ===\n"
     ]
    },
    {
     "data": {
      "text/html": [
       "<div>\n",
       "<style scoped>\n",
       "    .dataframe tbody tr th:only-of-type {\n",
       "        vertical-align: middle;\n",
       "    }\n",
       "\n",
       "    .dataframe tbody tr th {\n",
       "        vertical-align: top;\n",
       "    }\n",
       "\n",
       "    .dataframe thead th {\n",
       "        text-align: right;\n",
       "    }\n",
       "</style>\n",
       "<table border=\"1\" class=\"dataframe\">\n",
       "  <thead>\n",
       "    <tr style=\"text-align: right;\">\n",
       "      <th></th>\n",
       "      <th>id</th>\n",
       "      <th>toid</th>\n",
       "      <th>asum1</th>\n",
       "      <th>asum2</th>\n",
       "      <th>width1</th>\n",
       "      <th>width2</th>\n",
       "      <th>elevup</th>\n",
       "      <th>elevdn</th>\n",
       "      <th>name</th>\n",
       "      <th>geometry</th>\n",
       "    </tr>\n",
       "  </thead>\n",
       "  <tbody>\n",
       "    <tr>\n",
       "      <th>14</th>\n",
       "      <td>15</td>\n",
       "      <td>10620</td>\n",
       "      <td>0</td>\n",
       "      <td>0</td>\n",
       "      <td>0</td>\n",
       "      <td>2.7</td>\n",
       "      <td>1.18</td>\n",
       "      <td>1.05</td>\n",
       "      <td>OVK02998</td>\n",
       "      <td>MULTILINESTRING ((114635.707 395108.94, 114632...</td>\n",
       "    </tr>\n",
       "    <tr>\n",
       "      <th>61</th>\n",
       "      <td>62</td>\n",
       "      <td>10288</td>\n",
       "      <td>0</td>\n",
       "      <td>0</td>\n",
       "      <td>0</td>\n",
       "      <td>0.7</td>\n",
       "      <td>11.85</td>\n",
       "      <td>11.40</td>\n",
       "      <td>OVK01660</td>\n",
       "      <td>MULTILINESTRING ((121796.6 395861.57, 121796.6...</td>\n",
       "    </tr>\n",
       "    <tr>\n",
       "      <th>147</th>\n",
       "      <td>148</td>\n",
       "      <td>298</td>\n",
       "      <td>0</td>\n",
       "      <td>0</td>\n",
       "      <td>0</td>\n",
       "      <td>0.8</td>\n",
       "      <td>12.21</td>\n",
       "      <td>12.19</td>\n",
       "      <td>OVK20472</td>\n",
       "      <td>MULTILINESTRING ((119937.312 389911.54, 119929...</td>\n",
       "    </tr>\n",
       "    <tr>\n",
       "      <th>148</th>\n",
       "      <td>149</td>\n",
       "      <td>7051</td>\n",
       "      <td>0</td>\n",
       "      <td>0</td>\n",
       "      <td>0</td>\n",
       "      <td>0.9</td>\n",
       "      <td>9.49</td>\n",
       "      <td>9.42</td>\n",
       "      <td>OVK01485</td>\n",
       "      <td>MULTILINESTRING ((118662.842 391082.725, 11865...</td>\n",
       "    </tr>\n",
       "    <tr>\n",
       "      <th>149</th>\n",
       "      <td>150</td>\n",
       "      <td>7184</td>\n",
       "      <td>0</td>\n",
       "      <td>0</td>\n",
       "      <td>0</td>\n",
       "      <td>0.8</td>\n",
       "      <td>13.53</td>\n",
       "      <td>12.76</td>\n",
       "      <td>OVK01428</td>\n",
       "      <td>MULTILINESTRING ((119746.239 388831.654, 11951...</td>\n",
       "    </tr>\n",
       "  </tbody>\n",
       "</table>\n",
       "</div>"
      ],
      "text/plain": [
       "      id   toid  asum1  asum2  width1  width2  elevup  elevdn      name  \\\n",
       "14    15  10620      0      0       0     2.7    1.18    1.05  OVK02998   \n",
       "61    62  10288      0      0       0     0.7   11.85   11.40  OVK01660   \n",
       "147  148    298      0      0       0     0.8   12.21   12.19  OVK20472   \n",
       "148  149   7051      0      0       0     0.9    9.49    9.42  OVK01485   \n",
       "149  150   7184      0      0       0     0.8   13.53   12.76  OVK01428   \n",
       "\n",
       "                                              geometry  \n",
       "14   MULTILINESTRING ((114635.707 395108.94, 114632...  \n",
       "61   MULTILINESTRING ((121796.6 395861.57, 121796.6...  \n",
       "147  MULTILINESTRING ((119937.312 389911.54, 119929...  \n",
       "148  MULTILINESTRING ((118662.842 391082.725, 11865...  \n",
       "149  MULTILINESTRING ((119746.239 388831.654, 11951...  "
      ]
     },
     "execution_count": 54,
     "metadata": {},
     "output_type": "execute_result"
    }
   ],
   "source": [
    "# 2. View the lines dataframe structure\n",
    "print(\"=== Lines DataFrame Sample ===\")\n",
    "lines.df.head()"
   ]
  },
  {
   "cell_type": "markdown",
   "id": "212174a4",
   "metadata": {},
   "source": [
    "### Now you can do several things with the `lines` object:\n",
    "\n",
    "**1. Create SFR Package for MODFLOW 6:**"
   ]
  },
  {
   "cell_type": "code",
   "execution_count": 55,
   "id": "0395ce08",
   "metadata": {},
   "outputs": [
    {
     "name": "stdout",
     "output_type": "stream",
     "text": [
      "✓ Lines object ready for grid intersection and SFR package creation\n",
      "Next steps: Define your MODFLOW 6 model grid and create SFR package\n"
     ]
    }
   ],
   "source": [
    "# First, you'll need to create a model grid to intersect the lines with\n",
    "# This is typically done using flopy or similar tools\n",
    "\n",
    "# Example of what you might do next (you'll need to define your model grid):\n",
    "\"\"\"\n",
    "# Create a model grid (this is just an example structure)\n",
    "import flopy\n",
    "\n",
    "# Define model domain\n",
    "nlay, nrow, ncol = 1, 100, 100  # Example dimensions\n",
    "delr = delc = 100  # 100m cell size\n",
    "xoff, yoff = Xmin, Ymin  # Use your model bounds\n",
    "\n",
    "# Create a simple structured grid\n",
    "sim = flopy.mf6.MFSimulation('sfr_model')\n",
    "gwf = flopy.mf6.MFModel(sim, modelname='model')\n",
    "dis = flopy.mf6.ModflowGwfdis(gwf, nlay=nlay, nrow=nrow, ncol=ncol, \n",
    "                              delr=delr, delc=delc, xorigin=xoff, yorigin=yoff)\n",
    "\n",
    "# Then use SFRmaker to create the SFR package:\n",
    "sfr_package = lines.to_sfr(model=gwf, \n",
    "                          grid=dis.grid,  # or your grid object\n",
    "                          package_name='sfr')\n",
    "\"\"\"\n",
    "\n",
    "print(\"✓ Lines object ready for grid intersection and SFR package creation\")\n",
    "print(\"Next steps: Define your MODFLOW 6 model grid and create SFR package\")"
   ]
  },
  {
   "cell_type": "code",
   "execution_count": 56,
   "id": "b5e956c9",
   "metadata": {},
   "outputs": [
    {
     "name": "stdout",
     "output_type": "stream",
     "text": [
      "=== Visualizing Stream Network ===\n"
     ]
    },
    {
     "data": {
      "image/png": "[encoded data removed]",
      "text/plain": [
       "<Figure size 1200x800 with 1 Axes>"
      ]
     },
     "metadata": {},
     "output_type": "display_data"
    },
    {
     "name": "stdout",
     "output_type": "stream",
     "text": [
      "✓ Stream network contains 591 segments\n"
     ]
    }
   ],
   "source": [
    "# 3. Visualize the stream network\n",
    "print(\"=== Visualizing Stream Network ===\")\n",
    "fig, ax = plt.subplots(figsize=(12, 8))\n",
    "\n",
    "# Plot the stream network\n",
    "lines.df.plot(ax=ax, color='blue', linewidth=1, alpha=0.7)\n",
    "\n",
    "# Add model boundary\n",
    "from matplotlib.patches import Rectangle\n",
    "model_rect = Rectangle((Xmin, Ymin), Xmax-Xmin, Ymax-Ymin, \n",
    "                      linewidth=2, edgecolor='red', facecolor='none', \n",
    "                      linestyle='--', label='Model boundary')\n",
    "ax.add_patch(model_rect)\n",
    "\n",
    "ax.set_title('SFRmaker Stream Network')\n",
    "ax.set_xlabel('X coordinate (m)')\n",
    "ax.set_ylabel('Y coordinate (m)')\n",
    "ax.legend()\n",
    "ax.grid(True, alpha=0.3)\n",
    "\n",
    "plt.tight_layout()\n",
    "plt.show()\n",
    "\n",
    "print(f\"✓ Stream network contains {len(lines.df)} segments\")"
   ]
  },
  {
   "cell_type": "code",
   "execution_count": 57,
   "id": "90da488a",
   "metadata": {},
   "outputs": [
    {
     "name": "stdout",
     "output_type": "stream",
     "text": [
      "=== Network Connectivity Analysis ===\n",
      "Segments with downstream connections: 578\n",
      "Terminal segments (outlets): 13\n",
      "Unique downstream connections: 487\n",
      "Headwater segments: 105\n",
      "\n",
      "Elevation range: -1.63 - 19.80 m\n",
      "Width range: 0.40 - 999.00 m\n"
     ]
    }
   ],
   "source": [
    "# 4. Analyze network connectivity\n",
    "print(\"=== Network Connectivity Analysis ===\")\n",
    "print(f\"Segments with downstream connections: {(lines.df['toid'] != 0).sum()}\")\n",
    "print(f\"Terminal segments (outlets): {(lines.df['toid'] == 0).sum()}\")\n",
    "print(f\"Unique downstream connections: {lines.df['toid'].nunique()}\")\n",
    "\n",
    "# Find headwater segments (no segments flow into them)\n",
    "all_ids = set(lines.df['id'])\n",
    "downstream_ids = set(lines.df['toid']) - {0}  # Remove 0 (outlets)\n",
    "headwater_segments = all_ids - downstream_ids\n",
    "print(f\"Headwater segments: {len(headwater_segments)}\")\n",
    "\n",
    "# Show some statistics\n",
    "print(f\"\\nElevation range: {lines.df['elevup'].min():.2f} - {lines.df['elevup'].max():.2f} m\")\n",
    "print(f\"Width range: {lines.df['width2'].min():.2f} - {lines.df['width2'].max():.2f} m\")"
   ]
  },
  {
   "cell_type": "markdown",
   "id": "017b53c7",
   "metadata": {},
   "source": [
    "### What you can do next with the `lines` object:\n",
    "\n",
    "**Main Applications:**\n",
    "\n",
    "1. **Create MODFLOW 6 SFR Package** - The primary goal\n",
    "2. **Export processed data** - Save cleaned stream network\n",
    "3. **Quality control** - Validate routing and elevations  \n",
    "4. **Visualization** - Create maps and plots\n",
    "5. **Analysis** - Network statistics and connectivity\n",
    "\n",
    "**Next Steps for MODFLOW 6 Integration:**"
   ]
  },
  {
   "cell_type": "code",
   "execution_count": 58,
   "id": "95d5d88b",
   "metadata": {},
   "outputs": [
    {
     "name": "stdout",
     "output_type": "stream",
     "text": [
      "Adding elevation data to stream network...\n",
      "⚠ Warning: Could not merge elevation data: \"None of [Index(['CODE', 'WS_BH_BOVENSTROOMS_L', 'WS_BH_BENEDENSTROOMS_L'], dtype='object')] are in the [columns]\"\n",
      "  Proceeding without downstream width information\n"
     ]
    }
   ],
   "source": [
    "# Add elevation data to stream network\n",
    "# Merge elevation data from GDF to GDF_Elv based on downstream connections\n",
    "print(\"Adding elevation data to stream network...\")\n",
    "\n",
    "try:\n",
    "    # Merge with GDF to get width information for downstream segments\n",
    "    GDF_Elv = GDF_Elv.merge(GDF[['CODE', 'WS_BH_BOVENSTROOMS_L', 'WS_BH_BENEDENSTROOMS_L']], \n",
    "                             left_on='DStr', right_on='CODE', suffixes=('', '_DStr'))\n",
    "    print(f\"✓ Successfully merged elevation data with stream widths\")\n",
    "    print(f\"  GDF_Elv shape after merge: {GDF_Elv.shape}\")\n",
    "except Exception as e:\n",
    "    print(f\"⚠ Warning: Could not merge elevation data: {e}\")\n",
    "    print(\"  Proceeding without downstream width information\")"
   ]
  },
  {
   "cell_type": "code",
   "execution_count": 59,
   "id": "a03c3a7e",
   "metadata": {},
   "outputs": [
    {
     "name": "stdout",
     "output_type": "stream",
     "text": [
      "Loading MF6 model components...\n"
     ]
    }
   ],
   "source": [
    "# Import and load MF6 model components\n",
    "print(\"Loading MF6 model components...\")\n",
    "\n",
    "try:\n",
    "    # Import the simulation\n",
    "    # Note: These variables should be defined from your earlier model loading code\n",
    "    if 'Sim_MF6' in locals():\n",
    "        print(f\"✓ Simulation available: {type(Sim_MF6)}\")\n",
    "        \n",
    "    if 'MF6_Mdl' in locals():\n",
    "        print(f\"✓ MF6 model available: {type(MF6_Mdl)}\")\n",
    "        \n",
    "    if 'MF6_DIS' in locals():\n",
    "        print(f\"✓ Discretization available: {type(MF6_DIS)}\")\n",
    "        print(f\"  Grid dimensions: {MF6_DIS.dataset.dims}\")\n",
    "        \n",
    "    # Display available model packages if MF6 model exists\n",
    "    if 'MF6_Mdl' in locals() and hasattr(MF6_Mdl, 'keys'):\n",
    "        print(f\"✓ Available packages: {list(MF6_Mdl.keys())}\")\n",
    "    \n",
    "except Exception as e:\n",
    "    print(f\"⚠ Warning: Issues with MF6 model components: {e}\")\n",
    "    print(\"  Make sure the model has been properly loaded earlier in the notebook\")"
   ]
  },
  {
   "cell_type": "code",
   "execution_count": 60,
   "id": "9c71c920",
   "metadata": {},
   "outputs": [
    {
     "name": "stdout",
     "output_type": "stream",
     "text": [
      "Setting up MetaSWAP-MODFLOW coupling...\n",
      "✓ primod available for coupling\n",
      "⚠ MSW_Mdl_AoI or Sim_MF6_AoI not available\n"
     ]
    }
   ],
   "source": [
    "# Setup coupling between MetaSWAP and MODFLOW 6 using primod\n",
    "print(\"Setting up MetaSWAP-MODFLOW coupling...\")\n",
    "\n",
    "try:\n",
    "    # Check if primod is available\n",
    "    if 'primod' in locals() or 'primod' in globals():\n",
    "        print(\"✓ primod available for coupling\")\n",
    "        \n",
    "        # Create coupling configuration\n",
    "        # This assumes MSW_Mdl_AoI and Sim_MF6_AoI are available from earlier loading\n",
    "        if 'MSW_Mdl_AoI' in locals() and 'Sim_MF6_AoI' in locals():\n",
    "            metamod_coupling = primod.MetaModDriverCoupling(\n",
    "                mf6_model=\"imported_model\", \n",
    "                mf6_recharge_package=\"msw-rch\", \n",
    "                mf6_wel_package=\"msw-sprinkling\"\n",
    "            )\n",
    "            \n",
    "            metamod = primod.MetaMod(MSW_Mdl_AoI, Sim_MF6_AoI, \n",
    "                                   coupling_list=[metamod_coupling])\n",
    "            \n",
    "            print(\"✓ Coupling configured successfully\")\n",
    "        else:\n",
    "            print(\"⚠ MSW_Mdl_AoI or Sim_MF6_AoI not available\")\n",
    "    else:\n",
    "        print(\"⚠ primod not available - make sure it's imported earlier\")\n",
    "        \n",
    "except Exception as e:\n",
    "    print(f\"⚠ Warning: Could not setup coupling: {e}\")\n",
    "    print(\"  Ensure primod is imported and models are properly loaded\")"
   ]
  },
  {
   "cell_type": "markdown",
   "id": "1b323952",
   "metadata": {},
   "source": [
    "# Load PRJ"
   ]
  },
  {
   "cell_type": "code",
   "execution_count": 62,
   "id": "4c2fc3ee",
   "metadata": {},
   "outputs": [],
   "source": [
    "PRJ_, PRJ_OBS = UIM.o_PRJ_with_OBS(Pa_PRJ)"
   ]
  },
  {
   "cell_type": "code",
   "execution_count": 63,
   "id": "0960a113",
   "metadata": {},
   "outputs": [],
   "source": [
    "PRJ, period_data = PRJ_[0], PRJ_[1]"
   ]
  },
  {
   "cell_type": "markdown",
   "id": "f4cfe111",
   "metadata": {},
   "source": [
    "# Load DIS and limit to Mdl Aa"
   ]
  },
  {
   "cell_type": "code",
   "execution_count": 64,
   "id": "347d651b",
   "metadata": {},
   "outputs": [],
   "source": [
    "PRJ_regrid = UIM.regrid_PRJ(PRJ, MdlN)"
   ]
  },
  {
   "cell_type": "code",
   "execution_count": 65,
   "id": "02039dbd",
   "metadata": {},
   "outputs": [],
   "source": [
    "BND = PRJ_regrid['bnd']['ibound']"
   ]
  },
  {
   "cell_type": "code",
   "execution_count": 66,
   "id": "068608ce",
   "metadata": {},
   "outputs": [
    {
     "name": "stdout",
     "output_type": "stream",
     "text": [
      "✅ Boundary conditions set successfully!\n"
     ]
    }
   ],
   "source": [
    "# Set outer boundaries to -1 (for CHD)\n",
    "\n",
    "# Get the coordinate indices for boundaries\n",
    "y_coords = BND.y\n",
    "x_coords = BND.x\n",
    "first_y = y_coords.isel(y=0)  # First y coordinate\n",
    "last_y = y_coords.isel(y=-1)  # Last y coordinate  \n",
    "first_x = x_coords.isel(x=0)  # First x coordinate\n",
    "last_x = x_coords.isel(x=-1)  # Last x coordinate\n",
    "\n",
    "# Set boundary values using .loc indexing\n",
    "BND.loc[:, first_y, :] = -1  # Top row (all layers, first y, all x)\n",
    "BND.loc[:, last_y, :] = -1   # Bottom row (all layers, last y, all x)\n",
    "BND.loc[:, :, first_x] = -1  # Left column (all layers, all y, first x)  \n",
    "BND.loc[:, :, last_x] = -1   # Right column (all layers, all y, last x)\n",
    "\n",
    "print(\"✅ Boundary conditions set successfully!\")"
   ]
  },
  {
   "cell_type": "code",
   "execution_count": 67,
   "id": "8d2790f3",
   "metadata": {},
   "outputs": [
    {
     "name": "stdout",
     "output_type": "stream",
     "text": [
      "✅ Boundary conditions set successfully!\n"
     ]
    }
   ],
   "source": [
    "# Set outer boundaries to -1 (for CHD)\n",
    "BND.loc[:, [BND.y[0], BND.y[-1]], :] = -1  # Top and bottom rows\n",
    "BND.loc[:, :, [BND.x[0], BND.x[-1]]] = -1  # Left and right columns\n",
    "\n",
    "print(\"✅ Boundary conditions set successfully!\")\n"
   ]
  },
  {
   "cell_type": "code",
   "execution_count": 68,
   "id": "31569d84",
   "metadata": {},
   "outputs": [
    {
     "data": {
      "text/plain": [
       "<matplotlib.image.AxesImage at 0x18df6b83cb0>"
      ]
     },
     "execution_count": 68,
     "metadata": {},
     "output_type": "execute_result"
    },
    {
     "data": {
      "image/png": "[encoded data removed]",
      "text/plain": [
       "<Figure size 640x480 with 2 Axes>"
      ]
     },
     "metadata": {},
     "output_type": "display_data"
    }
   ],
   "source": [
    "BND.isel(layer=0, x=range(0,10), y=range(0,10)).plot.imshow(cmap='viridis')"
   ]
  },
  {
   "cell_type": "markdown",
   "id": "deed1ee2",
   "metadata": {},
   "source": [
    "# Load MF6 Mdl"
   ]
  },
  {
   "cell_type": "code",
   "execution_count": 125,
   "id": "51582fdd",
   "metadata": {},
   "outputs": [],
   "source": [
    "times = pd.date_range(SP_date_1st, SP_date_last, freq='D')"
   ]
  },
  {
   "cell_type": "markdown",
   "id": "48aef4a2",
   "metadata": {},
   "source": [
    "Using original PRJ to load MF6 Mdl gives warnings (and it's very slow). Thus, well use the regridded PRJ, which is much faster. It can be further sped up by multi-processing, but this is not implemented yet."
   ]
  },
  {
   "cell_type": "code",
   "execution_count": 70,
   "id": "a5357ce9",
   "metadata": {},
   "outputs": [],
   "source": [
    "Sim_MF6 = mf6.Modflow6Simulation.from_imod5_data(PRJ_regrid, period_data, times)"
   ]
  },
  {
   "cell_type": "code",
   "execution_count": 71,
   "id": "744a96ff",
   "metadata": {},
   "outputs": [],
   "source": [
    "MF6_Mdl = Sim_MF6['imported_model']"
   ]
  },
  {
   "cell_type": "code",
   "execution_count": 72,
   "id": "875d5c50",
   "metadata": {},
   "outputs": [],
   "source": [
    "MF6_Mdl[\"oc\"] = mf6.OutputControl(save_head=\"last\", save_budget=\"last\")\n",
    "Sim_MF6[\"ims\"] = UIM.mf6_solution_moderate_settings() # Mimic iMOD5's \"Moderate\" settings"
   ]
  },
  {
   "cell_type": "code",
   "execution_count": 76,
   "id": "1e7b7fda",
   "metadata": {},
   "outputs": [],
   "source": [
    "MF6_DIS = MF6_Mdl[\"dis\"]  # This gets the OLD 100m grid"
   ]
  },
  {
   "cell_type": "markdown",
   "id": "7b9e25d5",
   "metadata": {},
   "source": [
    "# Connect SFR to MF6 model"
   ]
  },
  {
   "cell_type": "code",
   "execution_count": 114,
   "id": "8f6e31d4",
   "metadata": {},
   "outputs": [
    {
     "name": "stdout",
     "output_type": "stream",
     "text": [
      "Help on method get_non_grid_data in module imod.mf6.package:\n",
      "\n",
      "get_non_grid_data(grid_names: 'list[str]') -> 'dict[str, Any]' method of imod.mf6.dis.StructuredDiscretization instance\n",
      "    This function copies the attributes of a dataset that are scalars, such as options.\n",
      "\n",
      "    parameters\n",
      "    ----------\n",
      "    grid_names: list of str\n",
      "        the names of the attribbutes of a dataset that are grids.\n",
      "\n"
     ]
    }
   ],
   "source": [
    "help(MF6_DIS.get_non_grid_data)"
   ]
  },
  {
   "cell_type": "code",
   "execution_count": 115,
   "id": "07a33cdc",
   "metadata": {},
   "outputs": [
    {
     "name": "stdout",
     "output_type": "stream",
     "text": [
      "Help on method write_binary_griddata in module imod.mf6.package:\n",
      "\n",
      "write_binary_griddata(outpath, da, dtype) method of imod.mf6.dis.StructuredDiscretization instance\n",
      "\n"
     ]
    }
   ],
   "source": [
    "help(MF6_DIS.write_binary_griddata)"
   ]
  },
  {
   "cell_type": "code",
   "execution_count": null,
   "id": "cb3db4ad",
   "metadata": {},
   "outputs": [
    {
     "name": "stdout",
     "output_type": "stream",
     "text": [
      "MF6_DIS type: <class 'imod.mf6.dis.StructuredDiscretization'>\n",
      "MF6_DIS attributes:\n",
      "  auxiliary_data_fields: {}\n",
      "  cleanup: <bound method Package.cleanup of StructuredDiscretization\n",
      "<xarray.Dataset> Size: 99MB\n",
      "Dimensions:  (layer: 37, y: 344, x: 480)\n",
      "Coordinates:\n",
      "    dx       float64 8B 25.0\n",
      "    dy       float64 8B -25.0\n",
      "  * layer    (layer) int64 296B 1 2 3 4 5 6 7 8 9 ... 29 30 31 32 33 34 35 36 37\n",
      "  * y        (y) float64 3kB 3.962e+05 3.962e+05 ... 3.876e+05 3.876e+05\n",
      "  * x        (x) float64 4kB 1.131e+05 1.131e+05 ... 1.251e+05 1.251e+05\n",
      "Data variables:\n",
      "    idomain  (layer, y, x) int64 49MB 1 1 1 1 1 1 1 1 1 1 ... 1 1 1 1 1 1 1 1 1\n",
      "    top      (y, x) float64 1MB 4.113 4.057 4.046 4.079 ... 24.71 24.66 24.64\n",
      "    bottom   (layer, y, x) float64 49MB 4.063 4.008 3.996 ... -214.8 -214.9>\n",
      "  clip_box: <bound method Package.clip_box of StructuredDiscretization\n",
      "<xarray.Dataset> Size: 99MB\n",
      "Dimensions:  (layer: 37, y: 344, x: 480)\n",
      "Coordinates:\n",
      "    dx       float64 8B 25.0\n",
      "    dy       float64 8B -25.0\n",
      "  * layer    (layer) int64 296B 1 2 3 4 5 6 7 8 9 ... 29 30 31 32 33 34 35 36 37\n",
      "  * y        (y) float64 3kB 3.962e+05 3.962e+05 ... 3.876e+05 3.876e+05\n",
      "  * x        (x) float64 4kB 1.131e+05 1.131e+05 ... 1.251e+05 1.251e+05\n",
      "Data variables:\n",
      "    idomain  (layer, y, x) int64 49MB 1 1 1 1 1 1 1 1 1 1 ... 1 1 1 1 1 1 1 1 1\n",
      "    top      (y, x) float64 1MB 4.113 4.057 4.046 4.079 ... 24.71 24.66 24.64\n",
      "    bottom   (layer, y, x) float64 49MB 4.063 4.008 3.996 ... -214.8 -214.9>\n",
      "  copy: <bound method Package.copy of StructuredDiscretization\n",
      "<xarray.Dataset> Size: 99MB\n",
      "Dimensions:  (layer: 37, y: 344, x: 480)\n",
      "Coordinates:\n",
      "    dx       float64 8B 25.0\n",
      "    dy       float64 8B -25.0\n",
      "  * layer    (layer) int64 296B 1 2 3 4 5 6 7 8 9 ... 29 30 31 32 33 34 35 36 37\n",
      "  * y        (y) float64 3kB 3.962e+05 3.962e+05 ... 3.876e+05 3.876e+05\n",
      "  * x        (x) float64 4kB 1.131e+05 1.131e+05 ... 1.251e+05 1.251e+05\n",
      "Data variables:\n",
      "    idomain  (layer, y, x) int64 49MB 1 1 1 1 1 1 1 1 1 1 ... 1 1 1 1 1 1 1 1 1\n",
      "    top      (y, x) float64 1MB 4.113 4.057 4.046 4.079 ... 24.71 24.66 24.64\n",
      "    bottom   (layer, y, x) float64 49MB 4.063 4.008 3.996 ... -214.8 -214.9>\n",
      "  dataset: <xarray.Dataset> Size: 99MB\n",
      "Dimensions:  (layer: 37, y: 344, x: 480)\n",
      "Coordinates:\n",
      "    dx       float64 8B 25.0\n",
      "    dy       float64 8B -25.0\n",
      "  * layer    (layer) int64 296B 1 2 3 4 5 6 7 8 9 ... 29 30 31 32 33 34 35 36 37\n",
      "  * y        (y) float64 3kB 3.962e+05 3.962e+05 ... 3.876e+05 3.876e+05\n",
      "  * x        (x) float64 4kB 1.131e+05 1.131e+05 ... 1.251e+05 1.251e+05\n",
      "Data variables:\n",
      "    idomain  (layer, y, x) int64 49MB 1 1 1 1 1 1 1 1 1 1 ... 1 1 1 1 1 1 1 1 1\n",
      "    top      (y, x) float64 1MB 4.113 4.057 4.046 4.079 ... 24.71 24.66 24.64\n",
      "    bottom   (layer, y, x) float64 49MB 4.063 4.008 3.996 ... -214.8 -214.9\n",
      "  from_file: <bound method PackageBase.from_file of <class 'imod.mf6.dis.StructuredDiscretization'>>\n",
      "  from_imod5_data: <bound method StructuredDiscretization.from_imod5_data of <class 'imod.mf6.dis.StructuredDiscretization'>>\n",
      "  get_aggregate_methods: <bound method Package.get_aggregate_methods of <class 'imod.mf6.dis.StructuredDiscretization'>>\n",
      "  get_non_grid_data: <bound method Package.get_non_grid_data of StructuredDiscretization\n",
      "<xarray.Dataset> Size: 99MB\n",
      "Dimensions:  (layer: 37, y: 344, x: 480)\n",
      "Coordinates:\n",
      "    dx       float64 8B 25.0\n",
      "    dy       float64 8B -25.0\n",
      "  * layer    (layer) int64 296B 1 2 3 4 5 6 7 8 9 ... 29 30 31 32 33 34 35 36 37\n",
      "  * y        (y) float64 3kB 3.962e+05 3.962e+05 ... 3.876e+05 3.876e+05\n",
      "  * x        (x) float64 4kB 1.131e+05 1.131e+05 ... 1.251e+05 1.251e+05\n",
      "Data variables:\n",
      "    idomain  (layer, y, x) int64 49MB 1 1 1 1 1 1 1 1 1 1 ... 1 1 1 1 1 1 1 1 1\n",
      "    top      (y, x) float64 1MB 4.113 4.057 4.046 4.079 ... 24.71 24.66 24.64\n",
      "    bottom   (layer, y, x) float64 49MB 4.063 4.008 3.996 ... -214.8 -214.9>\n",
      "  get_regrid_methods: <bound method StructuredDiscretization.get_regrid_methods of <class 'imod.mf6.dis.StructuredDiscretization'>>\n",
      "  is_clipping_supported: <bound method Package.is_clipping_supported of StructuredDiscretization\n",
      "<xarray.Dataset> Size: 99MB\n",
      "Dimensions:  (layer: 37, y: 344, x: 480)\n",
      "Coordinates:\n",
      "    dx       float64 8B 25.0\n",
      "    dy       float64 8B -25.0\n",
      "  * layer    (layer) int64 296B 1 2 3 4 5 6 7 8 9 ... 29 30 31 32 33 34 35 36 37\n",
      "  * y        (y) float64 3kB 3.962e+05 3.962e+05 ... 3.876e+05 3.876e+05\n",
      "  * x        (x) float64 4kB 1.131e+05 1.131e+05 ... 1.251e+05 1.251e+05\n",
      "Data variables:\n",
      "    idomain  (layer, y, x) int64 49MB 1 1 1 1 1 1 1 1 1 1 ... 1 1 1 1 1 1 1 1 1\n",
      "    top      (y, x) float64 1MB 4.113 4.057 4.046 4.079 ... 24.71 24.66 24.64\n",
      "    bottom   (layer, y, x) float64 49MB 4.063 4.008 3.996 ... -214.8 -214.9>\n",
      "  is_empty: <bound method Package.is_empty of StructuredDiscretization\n",
      "<xarray.Dataset> Size: 99MB\n",
      "Dimensions:  (layer: 37, y: 344, x: 480)\n",
      "Coordinates:\n",
      "    dx       float64 8B 25.0\n",
      "    dy       float64 8B -25.0\n",
      "  * layer    (layer) int64 296B 1 2 3 4 5 6 7 8 9 ... 29 30 31 32 33 34 35 36 37\n",
      "  * y        (y) float64 3kB 3.962e+05 3.962e+05 ... 3.876e+05 3.876e+05\n",
      "  * x        (x) float64 4kB 1.131e+05 1.131e+05 ... 1.251e+05 1.251e+05\n",
      "Data variables:\n",
      "    idomain  (layer, y, x) int64 49MB 1 1 1 1 1 1 1 1 1 1 ... 1 1 1 1 1 1 1 1 1\n",
      "    top      (y, x) float64 1MB 4.113 4.057 4.046 4.079 ... 24.71 24.66 24.64\n",
      "    bottom   (layer, y, x) float64 49MB 4.063 4.008 3.996 ... -214.8 -214.9>\n",
      "  is_grid_agnostic_package: <bound method Package.is_grid_agnostic_package of <class 'imod.mf6.dis.StructuredDiscretization'>>\n",
      "  is_regridding_supported: <bound method Package.is_regridding_supported of StructuredDiscretization\n",
      "<xarray.Dataset> Size: 99MB\n",
      "Dimensions:  (layer: 37, y: 344, x: 480)\n",
      "Coordinates:\n",
      "    dx       float64 8B 25.0\n",
      "    dy       float64 8B -25.0\n",
      "  * layer    (layer) int64 296B 1 2 3 4 5 6 7 8 9 ... 29 30 31 32 33 34 35 36 37\n",
      "  * y        (y) float64 3kB 3.962e+05 3.962e+05 ... 3.876e+05 3.876e+05\n",
      "  * x        (x) float64 4kB 1.131e+05 1.131e+05 ... 1.251e+05 1.251e+05\n",
      "Data variables:\n",
      "    idomain  (layer, y, x) int64 49MB 1 1 1 1 1 1 1 1 1 1 ... 1 1 1 1 1 1 1 1 1\n",
      "    top      (y, x) float64 1MB 4.113 4.057 4.046 4.079 ... 24.71 24.66 24.64\n",
      "    bottom   (layer, y, x) float64 49MB 4.063 4.008 3.996 ... -214.8 -214.9>\n",
      "  is_splitting_supported: <bound method Package.is_splitting_supported of StructuredDiscretization\n",
      "<xarray.Dataset> Size: 99MB\n",
      "Dimensions:  (layer: 37, y: 344, x: 480)\n",
      "Coordinates:\n",
      "    dx       float64 8B 25.0\n",
      "    dy       float64 8B -25.0\n",
      "  * layer    (layer) int64 296B 1 2 3 4 5 6 7 8 9 ... 29 30 31 32 33 34 35 36 37\n",
      "  * y        (y) float64 3kB 3.962e+05 3.962e+05 ... 3.876e+05 3.876e+05\n",
      "  * x        (x) float64 4kB 1.131e+05 1.131e+05 ... 1.251e+05 1.251e+05\n",
      "Data variables:\n",
      "    idomain  (layer, y, x) int64 49MB 1 1 1 1 1 1 1 1 1 1 ... 1 1 1 1 1 1 1 1 1\n",
      "    top      (y, x) float64 1MB 4.113 4.057 4.046 4.079 ... 24.71 24.66 24.64\n",
      "    bottom   (layer, y, x) float64 49MB 4.063 4.008 3.996 ... -214.8 -214.9>\n",
      "  isel: <bound method Package.isel of StructuredDiscretization\n",
      "<xarray.Dataset> Size: 99MB\n",
      "Dimensions:  (layer: 37, y: 344, x: 480)\n",
      "Coordinates:\n",
      "    dx       float64 8B 25.0\n",
      "    dy       float64 8B -25.0\n",
      "  * layer    (layer) int64 296B 1 2 3 4 5 6 7 8 9 ... 29 30 31 32 33 34 35 36 37\n",
      "  * y        (y) float64 3kB 3.962e+05 3.962e+05 ... 3.876e+05 3.876e+05\n",
      "  * x        (x) float64 4kB 1.131e+05 1.131e+05 ... 1.251e+05 1.251e+05\n",
      "Data variables:\n",
      "    idomain  (layer, y, x) int64 49MB 1 1 1 1 1 1 1 1 1 1 ... 1 1 1 1 1 1 1 1 1\n",
      "    top      (y, x) float64 1MB 4.113 4.057 4.046 4.079 ... 24.71 24.66 24.64\n",
      "    bottom   (layer, y, x) float64 49MB 4.063 4.008 3.996 ... -214.8 -214.9>\n",
      "  mask: <bound method Package.mask of StructuredDiscretization\n",
      "<xarray.Dataset> Size: 99MB\n",
      "Dimensions:  (layer: 37, y: 344, x: 480)\n",
      "Coordinates:\n",
      "    dx       float64 8B 25.0\n",
      "    dy       float64 8B -25.0\n",
      "  * layer    (layer) int64 296B 1 2 3 4 5 6 7 8 9 ... 29 30 31 32 33 34 35 36 37\n",
      "  * y        (y) float64 3kB 3.962e+05 3.962e+05 ... 3.876e+05 3.876e+05\n",
      "  * x        (x) float64 4kB 1.131e+05 1.131e+05 ... 1.251e+05 1.251e+05\n",
      "Data variables:\n",
      "    idomain  (layer, y, x) int64 49MB 1 1 1 1 1 1 1 1 1 1 ... 1 1 1 1 1 1 1 1 1\n",
      "    top      (y, x) float64 1MB 4.113 4.057 4.046 4.079 ... 24.71 24.66 24.64\n",
      "    bottom   (layer, y, x) float64 49MB 4.063 4.008 3.996 ... -214.8 -214.9>\n",
      "  regrid_like: <bound method StructuredDiscretization.regrid_like of StructuredDiscretization\n",
      "<xarray.Dataset> Size: 99MB\n",
      "Dimensions:  (layer: 37, y: 344, x: 480)\n",
      "Coordinates:\n",
      "    dx       float64 8B 25.0\n",
      "    dy       float64 8B -25.0\n",
      "  * layer    (layer) int64 296B 1 2 3 4 5 6 7 8 9 ... 29 30 31 32 33 34 35 36 37\n",
      "  * y        (y) float64 3kB 3.962e+05 3.962e+05 ... 3.876e+05 3.876e+05\n",
      "  * x        (x) float64 4kB 1.131e+05 1.131e+05 ... 1.251e+05 1.251e+05\n",
      "Data variables:\n",
      "    idomain  (layer, y, x) int64 49MB 1 1 1 1 1 1 1 1 1 1 ... 1 1 1 1 1 1 1 1 1\n",
      "    top      (y, x) float64 1MB 4.113 4.057 4.046 4.079 ... 24.71 24.66 24.64\n",
      "    bottom   (layer, y, x) float64 49MB 4.063 4.008 3.996 ... -214.8 -214.9>\n",
      "  render: <bound method Package.render of StructuredDiscretization\n",
      "<xarray.Dataset> Size: 99MB\n",
      "Dimensions:  (layer: 37, y: 344, x: 480)\n",
      "Coordinates:\n",
      "    dx       float64 8B 25.0\n",
      "    dy       float64 8B -25.0\n",
      "  * layer    (layer) int64 296B 1 2 3 4 5 6 7 8 9 ... 29 30 31 32 33 34 35 36 37\n",
      "  * y        (y) float64 3kB 3.962e+05 3.962e+05 ... 3.876e+05 3.876e+05\n",
      "  * x        (x) float64 4kB 1.131e+05 1.131e+05 ... 1.251e+05 1.251e+05\n",
      "Data variables:\n",
      "    idomain  (layer, y, x) int64 49MB 1 1 1 1 1 1 1 1 1 1 ... 1 1 1 1 1 1 1 1 1\n",
      "    top      (y, x) float64 1MB 4.113 4.057 4.046 4.079 ... 24.71 24.66 24.64\n",
      "    bottom   (layer, y, x) float64 49MB 4.063 4.008 3.996 ... -214.8 -214.9>\n",
      "  sel: <bound method Package.sel of StructuredDiscretization\n",
      "<xarray.Dataset> Size: 99MB\n",
      "Dimensions:  (layer: 37, y: 344, x: 480)\n",
      "Coordinates:\n",
      "    dx       float64 8B 25.0\n",
      "    dy       float64 8B -25.0\n",
      "  * layer    (layer) int64 296B 1 2 3 4 5 6 7 8 9 ... 29 30 31 32 33 34 35 36 37\n",
      "  * y        (y) float64 3kB 3.962e+05 3.962e+05 ... 3.876e+05 3.876e+05\n",
      "  * x        (x) float64 4kB 1.131e+05 1.131e+05 ... 1.251e+05 1.251e+05\n",
      "Data variables:\n",
      "    idomain  (layer, y, x) int64 49MB 1 1 1 1 1 1 1 1 1 1 ... 1 1 1 1 1 1 1 1 1\n",
      "    top      (y, x) float64 1MB 4.113 4.057 4.046 4.079 ... 24.71 24.66 24.64\n",
      "    bottom   (layer, y, x) float64 49MB 4.063 4.008 3.996 ... -214.8 -214.9>\n",
      "  skip_variables: ['bottom']\n",
      "  to_netcdf: <bound method PackageBase.to_netcdf of StructuredDiscretization\n",
      "<xarray.Dataset> Size: 99MB\n",
      "Dimensions:  (layer: 37, y: 344, x: 480)\n",
      "Coordinates:\n",
      "    dx       float64 8B 25.0\n",
      "    dy       float64 8B -25.0\n",
      "  * layer    (layer) int64 296B 1 2 3 4 5 6 7 8 9 ... 29 30 31 32 33 34 35 36 37\n",
      "  * y        (y) float64 3kB 3.962e+05 3.962e+05 ... 3.876e+05 3.876e+05\n",
      "  * x        (x) float64 4kB 1.131e+05 1.131e+05 ... 1.251e+05 1.251e+05\n",
      "Data variables:\n",
      "    idomain  (layer, y, x) int64 49MB 1 1 1 1 1 1 1 1 1 1 ... 1 1 1 1 1 1 1 1 1\n",
      "    top      (y, x) float64 1MB 4.113 4.057 4.046 4.079 ... 24.71 24.66 24.64\n",
      "    bottom   (layer, y, x) float64 49MB 4.063 4.008 3.996 ... -214.8 -214.9>\n",
      "  write: <bound method Package.write of StructuredDiscretization\n",
      "<xarray.Dataset> Size: 99MB\n",
      "Dimensions:  (layer: 37, y: 344, x: 480)\n",
      "Coordinates:\n",
      "    dx       float64 8B 25.0\n",
      "    dy       float64 8B -25.0\n",
      "  * layer    (layer) int64 296B 1 2 3 4 5 6 7 8 9 ... 29 30 31 32 33 34 35 36 37\n",
      "  * y        (y) float64 3kB 3.962e+05 3.962e+05 ... 3.876e+05 3.876e+05\n",
      "  * x        (x) float64 4kB 1.131e+05 1.131e+05 ... 1.251e+05 1.251e+05\n",
      "Data variables:\n",
      "    idomain  (layer, y, x) int64 49MB 1 1 1 1 1 1 1 1 1 1 ... 1 1 1 1 1 1 1 1 1\n",
      "    top      (y, x) float64 1MB 4.113 4.057 4.046 4.079 ... 24.71 24.66 24.64\n",
      "    bottom   (layer, y, x) float64 49MB 4.063 4.008 3.996 ... -214.8 -214.9>\n",
      "  write_binary_griddata: <bound method Package.write_binary_griddata of StructuredDiscretization\n",
      "<xarray.Dataset> Size: 99MB\n",
      "Dimensions:  (layer: 37, y: 344, x: 480)\n",
      "Coordinates:\n",
      "    dx       float64 8B 25.0\n",
      "    dy       float64 8B -25.0\n",
      "  * layer    (layer) int64 296B 1 2 3 4 5 6 7 8 9 ... 29 30 31 32 33 34 35 36 37\n",
      "  * y        (y) float64 3kB 3.962e+05 3.962e+05 ... 3.876e+05 3.876e+05\n",
      "  * x        (x) float64 4kB 1.131e+05 1.131e+05 ... 1.251e+05 1.251e+05\n",
      "Data variables:\n",
      "    idomain  (layer, y, x) int64 49MB 1 1 1 1 1 1 1 1 1 1 ... 1 1 1 1 1 1 1 1 1\n",
      "    top      (y, x) float64 1MB 4.113 4.057 4.046 4.079 ... 24.71 24.66 24.64\n",
      "    bottom   (layer, y, x) float64 49MB 4.063 4.008 3.996 ... -214.8 -214.9>\n",
      "  write_blockfile: <bound method Package.write_blockfile of StructuredDiscretization\n",
      "<xarray.Dataset> Size: 99MB\n",
      "Dimensions:  (layer: 37, y: 344, x: 480)\n",
      "Coordinates:\n",
      "    dx       float64 8B 25.0\n",
      "    dy       float64 8B -25.0\n",
      "  * layer    (layer) int64 296B 1 2 3 4 5 6 7 8 9 ... 29 30 31 32 33 34 35 36 37\n",
      "  * y        (y) float64 3kB 3.962e+05 3.962e+05 ... 3.876e+05 3.876e+05\n",
      "  * x        (x) float64 4kB 1.131e+05 1.131e+05 ... 1.251e+05 1.251e+05\n",
      "Data variables:\n",
      "    idomain  (layer, y, x) int64 49MB 1 1 1 1 1 1 1 1 1 1 ... 1 1 1 1 1 1 1 1 1\n",
      "    top      (y, x) float64 1MB 4.113 4.057 4.046 4.079 ... 24.71 24.66 24.64\n",
      "    bottom   (layer, y, x) float64 49MB 4.063 4.008 3.996 ... -214.8 -214.9>\n",
      "  write_text_griddata: <bound method Package.write_text_griddata of StructuredDiscretization\n",
      "<xarray.Dataset> Size: 99MB\n",
      "Dimensions:  (layer: 37, y: 344, x: 480)\n",
      "Coordinates:\n",
      "    dx       float64 8B 25.0\n",
      "    dy       float64 8B -25.0\n",
      "  * layer    (layer) int64 296B 1 2 3 4 5 6 7 8 9 ... 29 30 31 32 33 34 35 36 37\n",
      "  * y        (y) float64 3kB 3.962e+05 3.962e+05 ... 3.876e+05 3.876e+05\n",
      "  * x        (x) float64 4kB 1.131e+05 1.131e+05 ... 1.251e+05 1.251e+05\n",
      "Data variables:\n",
      "    idomain  (layer, y, x) int64 49MB 1 1 1 1 1 1 1 1 1 1 ... 1 1 1 1 1 1 1 1 1\n",
      "    top      (y, x) float64 1MB 4.113 4.057 4.046 4.079 ... 24.71 24.66 24.64\n",
      "    bottom   (layer, y, x) float64 49MB 4.063 4.008 3.996 ... -214.8 -214.9>\n"
     ]
    }
   ],
   "source": [
    "# Export MF6_DIS to flopy grid"
   ]
  },
  {
   "cell_type": "code",
   "execution_count": 126,
   "id": "2cab1dbb",
   "metadata": {},
   "outputs": [
    {
     "name": "stdout",
     "output_type": "stream",
     "text": [
      "✓ Created flopy MF6 model with DIS:\n",
      "  - Grid: 37 layers, 344 rows, 480 cols\n",
      "  - Cell size: 25.0 x 25.0 m\n",
      "  - Origin: (113100, 387600)\n",
      "  - Workspace: flopy_model\n",
      "\\n✓ Flopy StructuredGrid created:\n",
      "  - Shape: (37, 344, 480)\n",
      "  - Extent: (np.float64(113100.0), np.float64(125100.0), np.float64(387600.0), np.float64(396200.0))\n",
      "  - Grid ready for use with flopy tools!\n"
     ]
    }
   ],
   "source": [
    "import flopy\n",
    "import flopy.mf6 as mf6\n",
    "import numpy as np\n",
    "import os\n",
    "\n",
    "# Create flopy MF6 model with DIS package from existing MF6_DIS\n",
    "def create_flopy_model_from_imod_dis(mf6_dis, model_name=\"gwf_model\"):\n",
    "    \"\"\"\n",
    "    Convert imod MF6_DIS to flopy MF6 model with DIS package\n",
    "    \"\"\"\n",
    "    # Extract data from imod DIS\n",
    "    dataset = mf6_dis.dataset\n",
    "    nlay, nrow, ncol = dataset.dims['layer'], dataset.dims['y'], dataset.dims['x']\n",
    "    dx = abs(float(dataset.coords['dx'].values))\n",
    "    dy = abs(float(dataset.coords['dy'].values))\n",
    "    \n",
    "    # Get elevation arrays\n",
    "    top_array = dataset['top'].values\n",
    "    bottom_array = dataset['bottom'].values\n",
    "    idomain_array = dataset['idomain'].values\n",
    "    \n",
    "    # Calculate grid origin \n",
    "    x_coords = dataset.coords['x'].values\n",
    "    y_coords = dataset.coords['y'].values\n",
    "    xorigin = x_coords[0] - dx/2\n",
    "    yorigin = y_coords[-1] - dy/2\n",
    "    \n",
    "    # Create flopy simulation\n",
    "    model_ws = \"flopy_model\"\n",
    "    os.makedirs(model_ws, exist_ok=True)\n",
    "    \n",
    "    sim = mf6.MFSimulation(sim_name=\"mf6_sim\", sim_ws=model_ws, exe_name='mf6')\n",
    "    tdis = mf6.ModflowTdis(sim, nper=1, perioddata=[(1.0, 1, 1.0)])\n",
    "    ims = mf6.ModflowIms(sim, print_option='ALL')\n",
    "    \n",
    "    # Create groundwater flow model\n",
    "    gwf = mf6.MFModel(simulation=sim, model_type='gwf6', modelname=model_name)\n",
    "    \n",
    "    # Create DIS package\n",
    "    dis = mf6.ModflowGwfdis(\n",
    "        gwf,\n",
    "        nlay=nlay, nrow=nrow, ncol=ncol,\n",
    "        delr=dx, delc=dy,\n",
    "        top=top_array,\n",
    "        botm=bottom_array,\n",
    "        idomain=idomain_array,\n",
    "        xorigin=xorigin,\n",
    "        yorigin=yorigin\n",
    "    )\n",
    "    \n",
    "    print(f\"✓ Created flopy MF6 model with DIS:\")\n",
    "    print(f\"  - Grid: {nlay} layers, {nrow} rows, {ncol} cols\")\n",
    "    print(f\"  - Cell size: {dx} x {dy} m\")\n",
    "    print(f\"  - Origin: ({xorigin:.0f}, {yorigin:.0f})\")\n",
    "    print(f\"  - Workspace: {model_ws}\")\n",
    "    \n",
    "    return sim, gwf, dis\n",
    "\n",
    "# Create flopy model\n",
    "sim, gwf, dis = create_flopy_model_from_imod_dis(MF6_DIS)\n",
    "\n",
    "# Access the flopy grid object\n",
    "flopy_grid = gwf.modelgrid\n",
    "print(f\"\\\\n✓ Flopy StructuredGrid created:\")\n",
    "print(f\"  - Shape: {flopy_grid.shape}\")\n",
    "print(f\"  - Extent: {flopy_grid.extent}\")\n",
    "print(f\"  - Grid ready for use with flopy tools!\")"
   ]
  },
  {
   "cell_type": "code",
   "execution_count": 128,
   "id": "eef3efd2",
   "metadata": {},
   "outputs": [
    {
     "data": {
      "text/plain": [
       "flopy.discretization.structuredgrid.StructuredGrid"
      ]
     },
     "execution_count": 128,
     "metadata": {},
     "output_type": "execute_result"
    }
   ],
   "source": [
    "type(flopy_grid)"
   ]
  },
  {
   "cell_type": "code",
   "execution_count": 132,
   "id": "17cfc44e",
   "metadata": {},
   "outputs": [
    {
     "data": {
      "text/plain": [
       "flopy.mf6.modflow.mfgwfdis.ModflowGwfdis"
      ]
     },
     "execution_count": 132,
     "metadata": {},
     "output_type": "execute_result"
    }
   ],
   "source": [
    "type(dis)"
   ]
  },
  {
   "cell_type": "code",
   "execution_count": 131,
   "id": "a5ff84f9",
   "metadata": {},
   "outputs": [
    {
     "data": {
      "text/plain": [
       "Model grid information\n",
       "structured grid\n",
       "nnodes: 165,120\n",
       "nlay: 1\n",
       "nrow: 344\n",
       "ncol: 480\n",
       "model length units: undefined\n",
       "crs: None\n",
       "bounds: 113100.00, 387600.00, 125100.00, 396200.00\n",
       "active area defined by: all cells"
      ]
     },
     "execution_count": 131,
     "metadata": {},
     "output_type": "execute_result"
    }
   ],
   "source": [
    "sfr.StructuredGrid.from_modelgrid(flopy_grid)"
   ]
  },
  {
   "cell_type": "code",
   "execution_count": 75,
   "id": "345c65a6",
   "metadata": {},
   "outputs": [
    {
     "name": "stdout",
     "output_type": "stream",
     "text": [
      "Creating full-size grid to cover all stream lines...\n",
      "This may take a moment for the full grid...\n",
      "Lines bounds: [112885.761  387082.9701 125619.006  396480.772 ]\n"
     ]
    },
    {
     "ename": "NameError",
     "evalue": "name 'xorigin' is not defined",
     "output_type": "error",
     "traceback": [
      "\u001b[31m---------------------------------------------------------------------------\u001b[39m",
      "\u001b[31mNameError\u001b[39m                                 Traceback (most recent call last)",
      "\u001b[36mCell\u001b[39m\u001b[36m \u001b[39m\u001b[32mIn[75]\u001b[39m\u001b[32m, line 11\u001b[39m\n\u001b[32m      9\u001b[39m lines_bounds = GDF.total_bounds\n\u001b[32m     10\u001b[39m \u001b[38;5;28mprint\u001b[39m(\u001b[33mf\u001b[39m\u001b[33m\"\u001b[39m\u001b[33mLines bounds: \u001b[39m\u001b[38;5;132;01m{\u001b[39;00mlines_bounds\u001b[38;5;132;01m}\u001b[39;00m\u001b[33m\"\u001b[39m)\n\u001b[32m---> \u001b[39m\u001b[32m11\u001b[39m \u001b[38;5;28mprint\u001b[39m(\u001b[33mf\u001b[39m\u001b[33m\"\u001b[39m\u001b[33mModel bounds: xmin=\u001b[39m\u001b[38;5;132;01m{\u001b[39;00m\u001b[43mxorigin\u001b[49m\u001b[38;5;132;01m}\u001b[39;00m\u001b[33m, ymin=\u001b[39m\u001b[38;5;132;01m{\u001b[39;00myorigin-nrow*dy\u001b[38;5;132;01m}\u001b[39;00m\u001b[33m, xmax=\u001b[39m\u001b[38;5;132;01m{\u001b[39;00mxorigin+ncol*dx\u001b[38;5;132;01m}\u001b[39;00m\u001b[33m, ymax=\u001b[39m\u001b[38;5;132;01m{\u001b[39;00myorigin\u001b[38;5;132;01m}\u001b[39;00m\u001b[33m\"\u001b[39m)\n\u001b[32m     13\u001b[39m \u001b[38;5;66;03m# Create grid cells only where they might intersect with lines\u001b[39;00m\n\u001b[32m     14\u001b[39m \u001b[38;5;66;03m# Calculate which grid cells might contain streams (with some buffer)\u001b[39;00m\n\u001b[32m     15\u001b[39m buffer = \u001b[32m1000\u001b[39m  \u001b[38;5;66;03m# 1km buffer\u001b[39;00m\n",
      "\u001b[31mNameError\u001b[39m: name 'xorigin' is not defined"
     ]
    }
   ],
   "source": [
    "# Create FULL-SIZE grid that covers all the lines\n",
    "print(\"Creating full-size grid to cover all stream lines...\")\n",
    "\n",
    "# Create cell polygons for the entire grid\n",
    "print(\"This may take a moment for the full grid...\")\n",
    "\n",
    "# Let's be smarter - just create a representative sample that covers the stream extent\n",
    "# First, let's see what area the lines cover\n",
    "lines_bounds = GDF.total_bounds\n",
    "print(f\"Lines bounds: {lines_bounds}\")\n",
    "print(f\"Model bounds: xmin={xorigin}, ymin={yorigin-nrow*dy}, xmax={xorigin+ncol*dx}, ymax={yorigin}\")\n",
    "\n",
    "# Create grid cells only where they might intersect with lines\n",
    "# Calculate which grid cells might contain streams (with some buffer)\n",
    "buffer = 1000  # 1km buffer\n",
    "min_x, min_y, max_x, max_y = lines_bounds\n",
    "\n",
    "# Convert to grid indices\n",
    "j_min = max(0, int((min_x - buffer - xorigin) / dx))\n",
    "j_max = min(ncol, int((max_x + buffer - xorigin) / dx) + 1)\n",
    "i_min = max(0, int((yorigin - (max_y + buffer)) / dy))  \n",
    "i_max = min(nrow, int((yorigin - (min_y - buffer)) / dy) + 1)\n",
    "\n",
    "print(f\"Creating grid subset: rows {i_min}-{i_max}, cols {j_min}-{j_max}\")\n",
    "\n",
    "cell_data = []\n",
    "for i in range(i_min, i_max):\n",
    "    for j in range(j_min, j_max):\n",
    "        # Calculate cell bounds\n",
    "        x_left = xorigin + j * dx\n",
    "        x_right = x_left + dx\n",
    "        y_top = yorigin - i * dy  \n",
    "        y_bottom = y_top - dy\n",
    "        \n",
    "        # Create cell polygon\n",
    "        cell_poly = box(x_left, y_bottom, x_right, y_top)\n",
    "        \n",
    "        cell_data.append({\n",
    "            'k': 0,  # layer (0-based)\n",
    "            'i': i,  # row (0-based)\n",
    "            'j': j,  # column (0-based)\n",
    "            'isfr': 1,  # allow SFR in all cells\n",
    "            'geometry': cell_poly\n",
    "        })\n",
    "\n",
    "grid_df_full = pd.DataFrame(cell_data)\n",
    "print(f\"Created grid DataFrame with {len(grid_df_full)} cells\")\n",
    "\n",
    "# Create SFRmaker StructuredGrid from full DataFrame\n",
    "sfrmaker_grid_full = sfrmaker.StructuredGrid.from_dataframe(\n",
    "    df=grid_df_full,\n",
    "    crs=GDF.crs\n",
    ")\n",
    "\n",
    "print(f\"✓ Created full SFRmaker grid with CRS: {sfrmaker_grid_full.crs}\")\n",
    "print(f\"Grid bounds: {sfrmaker_grid_full.bounds}\")\n",
    "\n",
    "# Test with the full grid\n",
    "print(\"Testing SFRmaker with full grid...\")\n",
    "try:\n",
    "    sfrdata = lines.to_sfr(grid=sfrmaker_grid_full)\n",
    "    print(\"🎉 SUCCESS! SFRmaker created SFR data!\")\n",
    "    print(f\"SFR data type: {type(sfrdata)}\")\n",
    "    \n",
    "    # Try to access the data\n",
    "    if hasattr(sfrdata, 'reach_data'):\n",
    "        print(f\"Number of reaches: {len(sfrdata.reach_data)}\")\n",
    "        print(\"First few reaches:\")\n",
    "        print(sfrdata.reach_data.head())\n",
    "    else:\n",
    "        print(\"Checking available attributes...\")\n",
    "        attrs = [attr for attr in dir(sfrdata) if not attr.startswith('_')]\n",
    "        print(f\"Available attributes: {attrs}\")\n",
    "        \n",
    "except Exception as e:\n",
    "    print(f\"❌ Error: {e}\")\n",
    "    print(f\"Error type: {type(e)}\")"
   ]
  },
  {
   "cell_type": "markdown",
   "id": "815b1a4e",
   "metadata": {},
   "source": [
    "#### Solution: Create SFRmaker-compatible Grid from imod DIS\n",
    "\n",
    "Since SFRmaker expects a flopy-style grid object, we need to create one from the imod StructuredDiscretization data. We'll build the required components manually."
   ]
  },
  {
   "cell_type": "code",
   "execution_count": 136,
   "id": "f98fab47",
   "metadata": {},
   "outputs": [
    {
     "data": {
      "text/plain": [
       "(37, 344, 480)"
      ]
     },
     "execution_count": 136,
     "metadata": {},
     "output_type": "execute_result"
    }
   ],
   "source": [
    "nlay, nrow, ncol"
   ]
  },
  {
   "cell_type": "code",
   "execution_count": 141,
   "id": "e4f2293d",
   "metadata": {},
   "outputs": [
    {
     "data": {
      "text/html": [
       "<div><svg style=\"position: absolute; width: 0; height: 0; overflow: hidden\">\n",
       "<defs>\n",
       "<symbol id=\"icon-database\" viewBox=\"0 0 32 32\">\n",
       "<path d=\"M16 0c-8.837 0-16 2.239-16 5v4c0 2.761 7.163 5 16 5s16-2.239 16-5v-4c0-2.761-7.163-5-16-5z\"></path>\n",
       "<path d=\"M16 17c-8.837 0-16-2.239-16-5v6c0 2.761 7.163 5 16 5s16-2.239 16-5v-6c0 2.761-7.163 5-16 5z\"></path>\n",
       "<path d=\"M16 26c-8.837 0-16-2.239-16-5v6c0 2.761 7.163 5 16 5s16-2.239 16-5v-6c0 2.761-7.163 5-16 5z\"></path>\n",
       "</symbol>\n",
       "<symbol id=\"icon-file-text2\" viewBox=\"0 0 32 32\">\n",
       "<path d=\"M28.681 7.159c-0.694-0.947-1.662-2.053-2.724-3.116s-2.169-2.030-3.116-2.724c-1.612-1.182-2.393-1.319-2.841-1.319h-15.5c-1.378 0-2.5 1.121-2.5 2.5v27c0 1.378 1.122 2.5 2.5 2.5h23c1.378 0 2.5-1.122 2.5-2.5v-19.5c0-0.448-0.137-1.23-1.319-2.841zM24.543 5.457c0.959 0.959 1.712 1.825 2.268 2.543h-4.811v-4.811c0.718 0.556 1.584 1.309 2.543 2.268zM28 29.5c0 0.271-0.229 0.5-0.5 0.5h-23c-0.271 0-0.5-0.229-0.5-0.5v-27c0-0.271 0.229-0.5 0.5-0.5 0 0 15.499-0 15.5 0v7c0 0.552 0.448 1 1 1h7v19.5z\"></path>\n",
       "<path d=\"M23 26h-14c-0.552 0-1-0.448-1-1s0.448-1 1-1h14c0.552 0 1 0.448 1 1s-0.448 1-1 1z\"></path>\n",
       "<path d=\"M23 22h-14c-0.552 0-1-0.448-1-1s0.448-1 1-1h14c0.552 0 1 0.448 1 1s-0.448 1-1 1z\"></path>\n",
       "<path d=\"M23 18h-14c-0.552 0-1-0.448-1-1s0.448-1 1-1h14c0.552 0 1 0.448 1 1s-0.448 1-1 1z\"></path>\n",
       "</symbol>\n",
       "</defs>\n",
       "</svg>\n",
       "<style>/* CSS stylesheet for displaying xarray objects in jupyterlab.\n",
       " *\n",
       " */\n",
       "\n",
       ":root {\n",
       "  --xr-font-color0: var(\n",
       "    --jp-content-font-color0,\n",
       "    var(--pst-color-text-base rgba(0, 0, 0, 1))\n",
       "  );\n",
       "  --xr-font-color2: var(\n",
       "    --jp-content-font-color2,\n",
       "    var(--pst-color-text-base, rgba(0, 0, 0, 0.54))\n",
       "  );\n",
       "  --xr-font-color3: var(\n",
       "    --jp-content-font-color3,\n",
       "    var(--pst-color-text-base, rgba(0, 0, 0, 0.38))\n",
       "  );\n",
       "  --xr-border-color: var(\n",
       "    --jp-border-color2,\n",
       "    hsl(from var(--pst-color-on-background, white) h s calc(l - 10))\n",
       "  );\n",
       "  --xr-disabled-color: var(\n",
       "    --jp-layout-color3,\n",
       "    hsl(from var(--pst-color-on-background, white) h s calc(l - 40))\n",
       "  );\n",
       "  --xr-background-color: var(\n",
       "    --jp-layout-color0,\n",
       "    var(--pst-color-on-background, white)\n",
       "  );\n",
       "  --xr-background-color-row-even: var(\n",
       "    --jp-layout-color1,\n",
       "    hsl(from var(--pst-color-on-background, white) h s calc(l - 5))\n",
       "  );\n",
       "  --xr-background-color-row-odd: var(\n",
       "    --jp-layout-color2,\n",
       "    hsl(from var(--pst-color-on-background, white) h s calc(l - 15))\n",
       "  );\n",
       "}\n",
       "\n",
       "html[theme=\"dark\"],\n",
       "html[data-theme=\"dark\"],\n",
       "body[data-theme=\"dark\"],\n",
       "body.vscode-dark {\n",
       "  --xr-font-color0: var(\n",
       "    --jp-content-font-color0,\n",
       "    var(--pst-color-text-base, rgba(255, 255, 255, 1))\n",
       "  );\n",
       "  --xr-font-color2: var(\n",
       "    --jp-content-font-color2,\n",
       "    var(--pst-color-text-base, rgba(255, 255, 255, 0.54))\n",
       "  );\n",
       "  --xr-font-color3: var(\n",
       "    --jp-content-font-color3,\n",
       "    var(--pst-color-text-base, rgba(255, 255, 255, 0.38))\n",
       "  );\n",
       "  --xr-border-color: var(\n",
       "    --jp-border-color2,\n",
       "    hsl(from var(--pst-color-on-background, #111111) h s calc(l + 10))\n",
       "  );\n",
       "  --xr-disabled-color: var(\n",
       "    --jp-layout-color3,\n",
       "    hsl(from var(--pst-color-on-background, #111111) h s calc(l + 40))\n",
       "  );\n",
       "  --xr-background-color: var(\n",
       "    --jp-layout-color0,\n",
       "    var(--pst-color-on-background, #111111)\n",
       "  );\n",
       "  --xr-background-color-row-even: var(\n",
       "    --jp-layout-color1,\n",
       "    hsl(from var(--pst-color-on-background, #111111) h s calc(l + 5))\n",
       "  );\n",
       "  --xr-background-color-row-odd: var(\n",
       "    --jp-layout-color2,\n",
       "    hsl(from var(--pst-color-on-background, #111111) h s calc(l + 15))\n",
       "  );\n",
       "}\n",
       "\n",
       ".xr-wrap {\n",
       "  display: block !important;\n",
       "  min-width: 300px;\n",
       "  max-width: 700px;\n",
       "}\n",
       "\n",
       ".xr-text-repr-fallback {\n",
       "  /* fallback to plain text repr when CSS is not injected (untrusted notebook) */\n",
       "  display: none;\n",
       "}\n",
       "\n",
       ".xr-header {\n",
       "  padding-top: 6px;\n",
       "  padding-bottom: 6px;\n",
       "  margin-bottom: 4px;\n",
       "  border-bottom: solid 1px var(--xr-border-color);\n",
       "}\n",
       "\n",
       ".xr-header > div,\n",
       ".xr-header > ul {\n",
       "  display: inline;\n",
       "  margin-top: 0;\n",
       "  margin-bottom: 0;\n",
       "}\n",
       "\n",
       ".xr-obj-type,\n",
       ".xr-array-name {\n",
       "  margin-left: 2px;\n",
       "  margin-right: 10px;\n",
       "}\n",
       "\n",
       ".xr-obj-type {\n",
       "  color: var(--xr-font-color2);\n",
       "}\n",
       "\n",
       ".xr-sections {\n",
       "  padding-left: 0 !important;\n",
       "  display: grid;\n",
       "  grid-template-columns: 150px auto auto 1fr 0 20px 0 20px;\n",
       "}\n",
       "\n",
       ".xr-section-item {\n",
       "  display: contents;\n",
       "}\n",
       "\n",
       ".xr-section-item input {\n",
       "  display: inline-block;\n",
       "  opacity: 0;\n",
       "  height: 0;\n",
       "}\n",
       "\n",
       ".xr-section-item input + label {\n",
       "  color: var(--xr-disabled-color);\n",
       "  border: 2px solid transparent !important;\n",
       "}\n",
       "\n",
       ".xr-section-item input:enabled + label {\n",
       "  cursor: pointer;\n",
       "  color: var(--xr-font-color2);\n",
       "}\n",
       "\n",
       ".xr-section-item input:focus + label {\n",
       "  border: 2px solid var(--xr-font-color0) !important;\n",
       "}\n",
       "\n",
       ".xr-section-item input:enabled + label:hover {\n",
       "  color: var(--xr-font-color0);\n",
       "}\n",
       "\n",
       ".xr-section-summary {\n",
       "  grid-column: 1;\n",
       "  color: var(--xr-font-color2);\n",
       "  font-weight: 500;\n",
       "}\n",
       "\n",
       ".xr-section-summary > span {\n",
       "  display: inline-block;\n",
       "  padding-left: 0.5em;\n",
       "}\n",
       "\n",
       ".xr-section-summary-in:disabled + label {\n",
       "  color: var(--xr-font-color2);\n",
       "}\n",
       "\n",
       ".xr-section-summary-in + label:before {\n",
       "  display: inline-block;\n",
       "  content: \"►\";\n",
       "  font-size: 11px;\n",
       "  width: 15px;\n",
       "  text-align: center;\n",
       "}\n",
       "\n",
       ".xr-section-summary-in:disabled + label:before {\n",
       "  color: var(--xr-disabled-color);\n",
       "}\n",
       "\n",
       ".xr-section-summary-in:checked + label:before {\n",
       "  content: \"▼\";\n",
       "}\n",
       "\n",
       ".xr-section-summary-in:checked + label > span {\n",
       "  display: none;\n",
       "}\n",
       "\n",
       ".xr-section-summary,\n",
       ".xr-section-inline-details {\n",
       "  padding-top: 4px;\n",
       "  padding-bottom: 4px;\n",
       "}\n",
       "\n",
       ".xr-section-inline-details {\n",
       "  grid-column: 2 / -1;\n",
       "}\n",
       "\n",
       ".xr-section-details {\n",
       "  display: none;\n",
       "  grid-column: 1 / -1;\n",
       "  margin-bottom: 5px;\n",
       "}\n",
       "\n",
       ".xr-section-summary-in:checked ~ .xr-section-details {\n",
       "  display: contents;\n",
       "}\n",
       "\n",
       ".xr-array-wrap {\n",
       "  grid-column: 1 / -1;\n",
       "  display: grid;\n",
       "  grid-template-columns: 20px auto;\n",
       "}\n",
       "\n",
       ".xr-array-wrap > label {\n",
       "  grid-column: 1;\n",
       "  vertical-align: top;\n",
       "}\n",
       "\n",
       ".xr-preview {\n",
       "  color: var(--xr-font-color3);\n",
       "}\n",
       "\n",
       ".xr-array-preview,\n",
       ".xr-array-data {\n",
       "  padding: 0 5px !important;\n",
       "  grid-column: 2;\n",
       "}\n",
       "\n",
       ".xr-array-data,\n",
       ".xr-array-in:checked ~ .xr-array-preview {\n",
       "  display: none;\n",
       "}\n",
       "\n",
       ".xr-array-in:checked ~ .xr-array-data,\n",
       ".xr-array-preview {\n",
       "  display: inline-block;\n",
       "}\n",
       "\n",
       ".xr-dim-list {\n",
       "  display: inline-block !important;\n",
       "  list-style: none;\n",
       "  padding: 0 !important;\n",
       "  margin: 0;\n",
       "}\n",
       "\n",
       ".xr-dim-list li {\n",
       "  display: inline-block;\n",
       "  padding: 0;\n",
       "  margin: 0;\n",
       "}\n",
       "\n",
       ".xr-dim-list:before {\n",
       "  content: \"(\";\n",
       "}\n",
       "\n",
       ".xr-dim-list:after {\n",
       "  content: \")\";\n",
       "}\n",
       "\n",
       ".xr-dim-list li:not(:last-child):after {\n",
       "  content: \",\";\n",
       "  padding-right: 5px;\n",
       "}\n",
       "\n",
       ".xr-has-index {\n",
       "  font-weight: bold;\n",
       "}\n",
       "\n",
       ".xr-var-list,\n",
       ".xr-var-item {\n",
       "  display: contents;\n",
       "}\n",
       "\n",
       ".xr-var-item > div,\n",
       ".xr-var-item label,\n",
       ".xr-var-item > .xr-var-name span {\n",
       "  background-color: var(--xr-background-color-row-even);\n",
       "  border-color: var(--xr-background-color-row-odd);\n",
       "  margin-bottom: 0;\n",
       "  padding-top: 2px;\n",
       "}\n",
       "\n",
       ".xr-var-item > .xr-var-name:hover span {\n",
       "  padding-right: 5px;\n",
       "}\n",
       "\n",
       ".xr-var-list > li:nth-child(odd) > div,\n",
       ".xr-var-list > li:nth-child(odd) > label,\n",
       ".xr-var-list > li:nth-child(odd) > .xr-var-name span {\n",
       "  background-color: var(--xr-background-color-row-odd);\n",
       "  border-color: var(--xr-background-color-row-even);\n",
       "}\n",
       "\n",
       ".xr-var-name {\n",
       "  grid-column: 1;\n",
       "}\n",
       "\n",
       ".xr-var-dims {\n",
       "  grid-column: 2;\n",
       "}\n",
       "\n",
       ".xr-var-dtype {\n",
       "  grid-column: 3;\n",
       "  text-align: right;\n",
       "  color: var(--xr-font-color2);\n",
       "}\n",
       "\n",
       ".xr-var-preview {\n",
       "  grid-column: 4;\n",
       "}\n",
       "\n",
       ".xr-index-preview {\n",
       "  grid-column: 2 / 5;\n",
       "  color: var(--xr-font-color2);\n",
       "}\n",
       "\n",
       ".xr-var-name,\n",
       ".xr-var-dims,\n",
       ".xr-var-dtype,\n",
       ".xr-preview,\n",
       ".xr-attrs dt {\n",
       "  white-space: nowrap;\n",
       "  overflow: hidden;\n",
       "  text-overflow: ellipsis;\n",
       "  padding-right: 10px;\n",
       "}\n",
       "\n",
       ".xr-var-name:hover,\n",
       ".xr-var-dims:hover,\n",
       ".xr-var-dtype:hover,\n",
       ".xr-attrs dt:hover {\n",
       "  overflow: visible;\n",
       "  width: auto;\n",
       "  z-index: 1;\n",
       "}\n",
       "\n",
       ".xr-var-attrs,\n",
       ".xr-var-data,\n",
       ".xr-index-data {\n",
       "  display: none;\n",
       "  border-top: 2px dotted var(--xr-background-color);\n",
       "  padding-bottom: 20px !important;\n",
       "  padding-top: 10px !important;\n",
       "}\n",
       "\n",
       ".xr-var-attrs-in + label,\n",
       ".xr-var-data-in + label,\n",
       ".xr-index-data-in + label {\n",
       "  padding: 0 1px;\n",
       "}\n",
       "\n",
       ".xr-var-attrs-in:checked ~ .xr-var-attrs,\n",
       ".xr-var-data-in:checked ~ .xr-var-data,\n",
       ".xr-index-data-in:checked ~ .xr-index-data {\n",
       "  display: block;\n",
       "}\n",
       "\n",
       ".xr-var-data > table {\n",
       "  float: right;\n",
       "}\n",
       "\n",
       ".xr-var-data > pre,\n",
       ".xr-index-data > pre,\n",
       ".xr-var-data > table > tbody > tr {\n",
       "  background-color: transparent !important;\n",
       "}\n",
       "\n",
       ".xr-var-name span,\n",
       ".xr-var-data,\n",
       ".xr-index-name div,\n",
       ".xr-index-data,\n",
       ".xr-attrs {\n",
       "  padding-left: 25px !important;\n",
       "}\n",
       "\n",
       ".xr-attrs,\n",
       ".xr-var-attrs,\n",
       ".xr-var-data,\n",
       ".xr-index-data {\n",
       "  grid-column: 1 / -1;\n",
       "}\n",
       "\n",
       "dl.xr-attrs {\n",
       "  padding: 0;\n",
       "  margin: 0;\n",
       "  display: grid;\n",
       "  grid-template-columns: 125px auto;\n",
       "}\n",
       "\n",
       ".xr-attrs dt,\n",
       ".xr-attrs dd {\n",
       "  padding: 0;\n",
       "  margin: 0;\n",
       "  float: left;\n",
       "  padding-right: 10px;\n",
       "  width: auto;\n",
       "}\n",
       "\n",
       ".xr-attrs dt {\n",
       "  font-weight: normal;\n",
       "  grid-column: 1;\n",
       "}\n",
       "\n",
       ".xr-attrs dt:hover span {\n",
       "  display: inline-block;\n",
       "  background: var(--xr-background-color);\n",
       "  padding-right: 10px;\n",
       "}\n",
       "\n",
       ".xr-attrs dd {\n",
       "  grid-column: 2;\n",
       "  white-space: pre-wrap;\n",
       "  word-break: break-all;\n",
       "}\n",
       "\n",
       ".xr-icon-database,\n",
       ".xr-icon-file-text2,\n",
       ".xr-no-icon {\n",
       "  display: inline-block;\n",
       "  vertical-align: middle;\n",
       "  width: 1em;\n",
       "  height: 1.5em !important;\n",
       "  stroke-width: 0;\n",
       "  stroke: currentColor;\n",
       "  fill: currentColor;\n",
       "}\n",
       "\n",
       ".xr-var-attrs-in:checked + label > .xr-icon-file-text2,\n",
       ".xr-var-data-in:checked + label > .xr-icon-database,\n",
       ".xr-index-data-in:checked + label > .xr-icon-database {\n",
       "  color: var(--xr-font-color0);\n",
       "  filter: drop-shadow(1px 1px 5px var(--xr-font-color2));\n",
       "  stroke-width: 0.8px;\n",
       "}\n",
       "</style><pre class='xr-text-repr-fallback'>&lt;xarray.DataArray &#x27;x&#x27; (x: 480)&gt; Size: 4kB\n",
       "array([113112.5, 113137.5, 113162.5, ..., 125037.5, 125062.5, 125087.5],\n",
       "      shape=(480,))\n",
       "Coordinates:\n",
       "    dx       float64 8B 25.0\n",
       "    dy       float64 8B -25.0\n",
       "  * x        (x) float64 4kB 1.131e+05 1.131e+05 ... 1.251e+05 1.251e+05</pre><div class='xr-wrap' style='display:none'><div class='xr-header'><div class='xr-obj-type'>xarray.DataArray</div><div class='xr-array-name'>'x'</div><ul class='xr-dim-list'><li><span class='xr-has-index'>x</span>: 480</li></ul></div><ul class='xr-sections'><li class='xr-section-item'><div class='xr-array-wrap'><input id='section-2f53390f-60ef-4342-998e-83b2beea5f7c' class='xr-array-in' type='checkbox' checked><label for='section-2f53390f-60ef-4342-998e-83b2beea5f7c' title='Show/hide data repr'><svg class='icon xr-icon-database'><use xlink:href='#icon-database'></use></svg></label><div class='xr-array-preview xr-preview'><span>1.131e+05 1.131e+05 1.132e+05 ... 1.25e+05 1.251e+05 1.251e+05</span></div><div class='xr-array-data'><pre>array([113112.5, 113137.5, 113162.5, ..., 125037.5, 125062.5, 125087.5],\n",
       "      shape=(480,))</pre></div></div></li><li class='xr-section-item'><input id='section-3def19bb-5f1f-462e-a89c-27053226fdb4' class='xr-section-summary-in' type='checkbox'  checked><label for='section-3def19bb-5f1f-462e-a89c-27053226fdb4' class='xr-section-summary' >Coordinates: <span>(3)</span></label><div class='xr-section-inline-details'></div><div class='xr-section-details'><ul class='xr-var-list'><li class='xr-var-item'><div class='xr-var-name'><span>dx</span></div><div class='xr-var-dims'>()</div><div class='xr-var-dtype'>float64</div><div class='xr-var-preview xr-preview'>25.0</div><input id='attrs-a2209bc2-3c18-4b99-bf7c-96c8bde456b8' class='xr-var-attrs-in' type='checkbox' disabled><label for='attrs-a2209bc2-3c18-4b99-bf7c-96c8bde456b8' title='Show/Hide attributes'><svg class='icon xr-icon-file-text2'><use xlink:href='#icon-file-text2'></use></svg></label><input id='data-6a9d535b-cb87-4bbe-bbf1-f2e45d02dcca' class='xr-var-data-in' type='checkbox'><label for='data-6a9d535b-cb87-4bbe-bbf1-f2e45d02dcca' title='Show/Hide data repr'><svg class='icon xr-icon-database'><use xlink:href='#icon-database'></use></svg></label><div class='xr-var-attrs'><dl class='xr-attrs'></dl></div><div class='xr-var-data'><pre>array(25.)</pre></div></li><li class='xr-var-item'><div class='xr-var-name'><span>dy</span></div><div class='xr-var-dims'>()</div><div class='xr-var-dtype'>float64</div><div class='xr-var-preview xr-preview'>-25.0</div><input id='attrs-fcc9685b-7f87-4e49-a720-0ed67856af84' class='xr-var-attrs-in' type='checkbox' disabled><label for='attrs-fcc9685b-7f87-4e49-a720-0ed67856af84' title='Show/Hide attributes'><svg class='icon xr-icon-file-text2'><use xlink:href='#icon-file-text2'></use></svg></label><input id='data-a4e71bbc-0b1d-46fa-a6bb-8dbb973c21f6' class='xr-var-data-in' type='checkbox'><label for='data-a4e71bbc-0b1d-46fa-a6bb-8dbb973c21f6' title='Show/Hide data repr'><svg class='icon xr-icon-database'><use xlink:href='#icon-database'></use></svg></label><div class='xr-var-attrs'><dl class='xr-attrs'></dl></div><div class='xr-var-data'><pre>array(-25.)</pre></div></li><li class='xr-var-item'><div class='xr-var-name'><span class='xr-has-index'>x</span></div><div class='xr-var-dims'>(x)</div><div class='xr-var-dtype'>float64</div><div class='xr-var-preview xr-preview'>1.131e+05 1.131e+05 ... 1.251e+05</div><input id='attrs-f70cf79f-e224-43ac-861e-234b56db2a10' class='xr-var-attrs-in' type='checkbox' disabled><label for='attrs-f70cf79f-e224-43ac-861e-234b56db2a10' title='Show/Hide attributes'><svg class='icon xr-icon-file-text2'><use xlink:href='#icon-file-text2'></use></svg></label><input id='data-9e12912d-65f3-418a-8649-3b1ce244fc70' class='xr-var-data-in' type='checkbox'><label for='data-9e12912d-65f3-418a-8649-3b1ce244fc70' title='Show/Hide data repr'><svg class='icon xr-icon-database'><use xlink:href='#icon-database'></use></svg></label><div class='xr-var-attrs'><dl class='xr-attrs'></dl></div><div class='xr-var-data'><pre>array([113112.5, 113137.5, 113162.5, ..., 125037.5, 125062.5, 125087.5],\n",
       "      shape=(480,))</pre></div></li></ul></div></li><li class='xr-section-item'><input id='section-8b1f62b3-1a8b-4bb3-88bd-e3133ff7def5' class='xr-section-summary-in' type='checkbox'  ><label for='section-8b1f62b3-1a8b-4bb3-88bd-e3133ff7def5' class='xr-section-summary' >Indexes: <span>(1)</span></label><div class='xr-section-inline-details'></div><div class='xr-section-details'><ul class='xr-var-list'><li class='xr-var-item'><div class='xr-index-name'><div>x</div></div><div class='xr-index-preview'>PandasIndex</div><input type='checkbox' disabled/><label></label><input id='index-d27196fa-c09d-48a5-828f-93281bf499c5' class='xr-index-data-in' type='checkbox'/><label for='index-d27196fa-c09d-48a5-828f-93281bf499c5' title='Show/Hide index repr'><svg class='icon xr-icon-database'><use xlink:href='#icon-database'></use></svg></label><div class='xr-index-data'><pre>PandasIndex(Index([113112.5, 113137.5, 113162.5, 113187.5, 113212.5, 113237.5, 113262.5,\n",
       "       113287.5, 113312.5, 113337.5,\n",
       "       ...\n",
       "       124862.5, 124887.5, 124912.5, 124937.5, 124962.5, 124987.5, 125012.5,\n",
       "       125037.5, 125062.5, 125087.5],\n",
       "      dtype=&#x27;float64&#x27;, name=&#x27;x&#x27;, length=480))</pre></div></li></ul></div></li><li class='xr-section-item'><input id='section-deb83f9b-195f-499f-bbf9-344d536d9b8f' class='xr-section-summary-in' type='checkbox' disabled ><label for='section-deb83f9b-195f-499f-bbf9-344d536d9b8f' class='xr-section-summary'  title='Expand/collapse section'>Attributes: <span>(0)</span></label><div class='xr-section-inline-details'></div><div class='xr-section-details'><dl class='xr-attrs'></dl></div></li></ul></div></div>"
      ],
      "text/plain": [
       "<xarray.DataArray 'x' (x: 480)> Size: 4kB\n",
       "array([113112.5, 113137.5, 113162.5, ..., 125037.5, 125062.5, 125087.5],\n",
       "      shape=(480,))\n",
       "Coordinates:\n",
       "    dx       float64 8B 25.0\n",
       "    dy       float64 8B -25.0\n",
       "  * x        (x) float64 4kB 1.131e+05 1.131e+05 ... 1.251e+05 1.251e+05"
      ]
     },
     "execution_count": 141,
     "metadata": {},
     "output_type": "execute_result"
    }
   ],
   "source": [
    "MF6_DIS.dataset.x"
   ]
  },
  {
   "cell_type": "code",
   "execution_count": null,
   "id": "3b833739",
   "metadata": {},
   "outputs": [
    {
     "name": "stdout",
     "output_type": "stream",
     "text": [
      "Creating flopy StructuredGrid directly for SFRmaker...\n",
      "Grid dimensions: 37 layers, 344 rows, 480 columns\n",
      "Cell size: dx=25.0, dy=25.0\n",
      "Grid origin (upper-left): x=113100.0, y=396200.0\n",
      "✓ Created flopy grid: <class 'flopy.discretization.structuredgrid.StructuredGrid'>\n",
      "✓ Created SFRmaker grid: <class 'sfrmaker.grid.StructuredGrid'>\n",
      "Grid bounds: (np.float64(113100.0), np.float64(387600.0), np.float64(125100.0), np.float64(396200.0))\n",
      "Grid size: 165120\n",
      "✓ Created SFRmaker grid: <class 'sfrmaker.grid.StructuredGrid'>\n",
      "Grid bounds: (np.float64(113100.0), np.float64(387600.0), np.float64(125100.0), np.float64(396200.0))\n",
      "Grid size: 165120\n"
     ]
    }
   ],
   "source": [
    "# Simple approach: Create flopy StructuredGrid directly\n",
    "import flopy\n",
    "import numpy as np\n",
    "\n",
    "print(\"Creating flopy StructuredGrid directly for SFRmaker...\")\n",
    "\n",
    "# Extract grid information from imod DIS\n",
    "N_L, N_R, N_C = MF6_DIS.dataset.dims['layer'], MF6_DIS.dataset.dims['y'], MF6_DIS.dataset.dims['x']\n",
    "dx, dy = float(MF6_DIS.dataset.coords['dx'].values), abs(float(MF6_DIS.dataset.coords['dy'].values))\n",
    "A_Xs, A_Ys = MF6_DIS.dataset.coords['x'].values, MF6_DIS.dataset.coords['y'].values\n",
    "\n",
    "# Calculate grid origin (upper left corner)\n",
    "xorigin = A_Xs.min() - dx/2  # Cell centers to cell edges\n",
    "yorigin = A_Ys.max() + dy/2  # Cell centers to cell edges\n",
    "\n",
    "print(f\"Grid dimensions: {N_L} layers, {N_R} rows, {N_C} columns\")\n",
    "print(f\"Cell size: dx={dx}, dy={dy}\")\n",
    "print(f\"Grid origin (upper-left): x={xorigin:.1f}, y={yorigin:.1f}\")\n",
    "\n",
    "# Create flopy StructuredGrid directly (no model needed!)\n",
    "flopy_grid = flopy.discretization.StructuredGrid(\n",
    "    delr=np.full(N_C, dx),      # Column widths\n",
    "    delc=np.full(N_R, dy),      # Row heights\n",
    "    top=np.ones((N_R, N_C)),   # Dummy top elevations\n",
    "    botm=np.zeros((N_L, N_R, N_C)),  # Dummy bottom elevations\n",
    "    idomain=np.ones((N_L, N_R, N_C), dtype=int),  # All cells active\n",
    "    xoff=xorigin,  # X offset (origin)\n",
    "    yoff=yorigin - N_R * dy,  # Y offset (bottom edge, not top)\n",
    ")\n",
    "\n",
    "print(f\"✓ Created flopy grid: {type(flopy_grid)}\")\n",
    "\n",
    "# Now create the SFRmaker StructuredGrid using the flopy grid\n",
    "sfrmaker_grid = sfr.StructuredGrid.from_modelgrid(\n",
    "    mg=flopy_grid,\n",
    "    active_area=None,  # We'll use the full grid for now\n",
    "    isfr=None  # SFRmaker will determine this\n",
    ")\n",
    "\n",
    "print(f\"✓ Created SFRmaker grid: {type(sfrmaker_grid)}\")\n",
    "print(f\"Grid bounds: {sfrmaker_grid.bounds}\")\n",
    "print(f\"Grid size: {sfrmaker_grid.size}\")"
   ]
  },
  {
   "cell_type": "code",
   "execution_count": null,
   "id": "f29e5b95",
   "metadata": {},
   "outputs": [],
   "source": []
  },
  {
   "cell_type": "markdown",
   "id": "402356eb",
   "metadata": {},
   "source": [
    "# Load MSW"
   ]
  },
  {
   "cell_type": "markdown",
   "id": "ed45d0e3",
   "metadata": {},
   "source": [
    "## 1st attempt"
   ]
  },
  {
   "cell_type": "code",
   "execution_count": null,
   "id": "9e0bb929",
   "metadata": {},
   "outputs": [],
   "source": [
    "PRJ_MSW = {'cap': PRJ_regrid.copy()['cap'], 'extra': PRJ_regrid.copy()['extra']}"
   ]
  },
  {
   "cell_type": "markdown",
   "id": "7fdd4744",
   "metadata": {},
   "source": [
    "PRJ_regrid['cap'].keys()\n",
    "for i in PRJ_regrid['cap'].keys():\n",
    "    print(f\" === {i} ===\")\n",
    "    print(PRJ_regrid['cap'][i], \"\\n\")\n",
    "x_CeCes, y_CeCes = UIM.get_CeCes_from_INI(MdlN)\n",
    "PRJ['cap']['urban_area'].x.shape[0] / PRJ_regrid['cap']['urban_area'].x.shape[0]\n",
    "len(x_CeCes)\n",
    "PRJ['cap']['urban_area'].sel(x=slice(Xmin, Xmax), y=slice(Ymax, Ymin)).plot(cmap='Spectral')\n",
    "(PRJ['cap']['urban_area'].sel(x=slice(Xmin, Xmax), y=slice(Ymax, Ymin)) / PRJ_regrid['cap']['urban_area']).plot(cmap='Spectral')\n",
    "PRJ_regrid['cap']['urban_area'].plot(cmap='Spectral')"
   ]
  },
  {
   "cell_type": "code",
   "execution_count": null,
   "id": "d1569303",
   "metadata": {},
   "outputs": [],
   "source": [
    "try:\n",
    "    MSW_Mdl = msw.MetaSwapModel.from_imod5_data(PRJ_MSW, MF6_DIS, times)\n",
    "    print(\"🟢 - MetaSwap model created successfully!\")\n",
    "except Exception as e:\n",
    "    print(f\"Error creating MetaSwap model: {e}\")\n",
    "    MSW_Mdl = None"
   ]
  },
  {
   "cell_type": "markdown",
   "id": "417884f6",
   "metadata": {},
   "source": [
    "## 2nd attempt"
   ]
  },
  {
   "cell_type": "markdown",
   "id": "696a3097",
   "metadata": {},
   "source": [
    "### Fix mete_grid.inp relative paths\n",
    "MSW.MetaSwapModel.from_imod5_data is struggling with relative paths, so we'll convert them to full paths. #666 caution, if they're already full paths, this may cause an error."
   ]
  },
  {
   "cell_type": "code",
   "execution_count": null,
   "id": "c05c28be",
   "metadata": {},
   "outputs": [],
   "source": [
    "# Replace the mete_grid.inp path in the PRJ_MSW_for_MSW dictionary\n",
    "PRJ['extra']['paths'][2][0] = UIM.mete_grid_Cvt_to_AbsPa(Pa_PRJ, PRJ)"
   ]
  },
  {
   "cell_type": "markdown",
   "id": "808649bd",
   "metadata": {},
   "source": [
    "### Finally load MSW Sim"
   ]
  },
  {
   "cell_type": "code",
   "execution_count": null,
   "id": "5e9cc8dc",
   "metadata": {},
   "outputs": [],
   "source": [
    "# Create the MetaSwap model\n",
    "MSW_Mdl = msw.MetaSwapModel.from_imod5_data(PRJ_MSW, MF6_DIS, times)\n",
    "print(\"🟢 - MetaSwap model loaded successfully!\")"
   ]
  },
  {
   "cell_type": "markdown",
   "id": "0555966b",
   "metadata": {},
   "source": [
    "# Connect MF6 to MetaSWAP"
   ]
  },
  {
   "cell_type": "markdown",
   "id": "36a467f1",
   "metadata": {},
   "source": [
    "## Clip models"
   ]
  },
  {
   "cell_type": "code",
   "execution_count": null,
   "id": "9cd64d0a",
   "metadata": {},
   "outputs": [],
   "source": [
    "Sim_MF6_AoI = Sim_MF6.clip_box(x_min=Xmin, x_max=Xmax, y_min=Ymin, y_max=Ymax)"
   ]
  },
  {
   "cell_type": "code",
   "execution_count": null,
   "id": "46d68fa4",
   "metadata": {},
   "outputs": [],
   "source": [
    "MF6_Mdl_AoI = Sim_MF6_AoI['imported_model']"
   ]
  },
  {
   "cell_type": "code",
   "execution_count": null,
   "id": "d176a143",
   "metadata": {},
   "outputs": [],
   "source": [
    "MSW_Mdl_AoI = MSW_Mdl.clip_box(x_min=Xmin, x_max=Xmax, y_min=Ymin, y_max=Ymax)"
   ]
  },
  {
   "cell_type": "code",
   "execution_count": null,
   "id": "a7d4565c",
   "metadata": {},
   "outputs": [],
   "source": [
    "print(f\"MF6 Model AoI DIS shape: {MF6_Mdl_AoI['dis'].dataset.sizes}\")\n",
    "print(f\"MSW Model AoI grid shape: {MSW_Mdl_AoI['grid'].dataset.sizes}\")\n",
    "print(\"✅ Both models successfully clipped to Area of Interest with compatible discretization!\")"
   ]
  },
  {
   "cell_type": "code",
   "execution_count": null,
   "id": "3248a637",
   "metadata": {},
   "outputs": [],
   "source": [
    "MF6_Mdl_AoI['dis'].dataset.equals(MF6_Mdl['dis'].dataset)"
   ]
  },
  {
   "cell_type": "markdown",
   "id": "fd536986",
   "metadata": {},
   "source": [
    "clip_box doesn't clip the packages I clipped beforehand, but it clips non raster-like packages like WEL and removes packages that are not in the AoI."
   ]
  },
  {
   "cell_type": "markdown",
   "id": "d06f9f40",
   "metadata": {},
   "source": [
    "#### Sense check"
   ]
  },
  {
   "cell_type": "code",
   "execution_count": null,
   "id": "20d04445",
   "metadata": {},
   "outputs": [],
   "source": [
    "Xmin, Xmax, Ymin, Ymax"
   ]
  },
  {
   "cell_type": "code",
   "execution_count": null,
   "id": "edd14e47",
   "metadata": {},
   "outputs": [],
   "source": [
    "MF6_Mdl_AoI['dis']['x'].min().values, MF6_Mdl_AoI['dis']['x'].max().values, \\\n",
    "MF6_Mdl_AoI['dis']['y'].min().values, MF6_Mdl_AoI['dis']['y'].max().values"
   ]
  },
  {
   "cell_type": "markdown",
   "id": "b25e60d8",
   "metadata": {},
   "source": [
    "Makes sense as those are cell centers."
   ]
  },
  {
   "cell_type": "markdown",
   "id": "176414e0",
   "metadata": {},
   "source": [
    "## Load models into memory"
   ]
  },
  {
   "cell_type": "code",
   "execution_count": null,
   "id": "d5c914df",
   "metadata": {},
   "outputs": [],
   "source": [
    "for pkg in MF6_Mdl_AoI.values():\n",
    "    pkg.dataset.load()\n",
    "\n",
    "for pkg in MSW_Mdl_AoI.values():\n",
    "    pkg.dataset.load()"
   ]
  },
  {
   "cell_type": "markdown",
   "id": "e5777376",
   "metadata": {},
   "source": [
    "## Cleanup"
   ]
  },
  {
   "cell_type": "markdown",
   "id": "8b2cb255",
   "metadata": {},
   "source": [
    "### MF6 mask"
   ]
  },
  {
   "cell_type": "code",
   "execution_count": null,
   "id": "aa5d3b15",
   "metadata": {},
   "outputs": [],
   "source": [
    "# Create mask from current regridded model (not the old one)\n",
    "mask = MF6_Mdl_AoI.domain"
   ]
  },
  {
   "cell_type": "code",
   "execution_count": null,
   "id": "11cfc8cc",
   "metadata": {},
   "outputs": [],
   "source": [
    "mask"
   ]
  },
  {
   "cell_type": "code",
   "execution_count": null,
   "id": "38983eb0",
   "metadata": {},
   "outputs": [],
   "source": [
    "Sim_MF6_AoI.mask_all_models(mask)\n",
    "DIS_AoI = MF6_Mdl_AoI[\"dis\"]"
   ]
  },
  {
   "cell_type": "markdown",
   "id": "c62373b4",
   "metadata": {},
   "source": [
    "### Check if the packages are the same"
   ]
  },
  {
   "cell_type": "code",
   "execution_count": null,
   "id": "7caf8389",
   "metadata": {},
   "outputs": [],
   "source": [
    "MF6_Mdl_AoI = Sim_MF6_AoI['imported_model']"
   ]
  },
  {
   "cell_type": "code",
   "execution_count": null,
   "id": "a0c7f62c",
   "metadata": {},
   "outputs": [],
   "source": [
    "# Compare the keys of both models\n",
    "keys_equal = MF6_Mdl.keys() == MF6_Mdl_AoI.keys()\n",
    "print(f\"Are the keys identical? {keys_equal}\")\n",
    "print()\n",
    "\n",
    "# Get the actual keys for detailed comparison\n",
    "original_keys = set(MF6_Mdl.keys())\n",
    "aoi_keys = set(MF6_Mdl_AoI.keys())\n",
    "\n",
    "print(\"=== DETAILED KEY COMPARISON ===\")\n",
    "print(f\"Original model has {len(original_keys)} packages:\")\n",
    "for key in sorted(original_keys):\n",
    "    print(f\"  - {key}\")\n",
    "\n",
    "print(f\"\\nAoI model has {len(aoi_keys)} packages:\")\n",
    "for key in sorted(aoi_keys):\n",
    "    print(f\"  - {key}\")\n",
    "\n",
    "# Find differences\n",
    "missing_in_aoi = original_keys - aoi_keys\n",
    "extra_in_aoi = aoi_keys - original_keys\n",
    "common_keys = original_keys & aoi_keys\n",
    "\n",
    "print(f\"\\n=== DIFFERENCES ===\")\n",
    "if missing_in_aoi:\n",
    "    print(f\"Packages REMOVED in AoI model ({len(missing_in_aoi)}):\")\n",
    "    for key in sorted(missing_in_aoi):\n",
    "        print(f\"  ❌ {key}\")\n",
    "        # Try to understand why it was removed\n",
    "        try:\n",
    "            pkg = MF6_Mdl[key]\n",
    "            if hasattr(pkg, 'dataset') and hasattr(pkg.dataset, 'sizes'):\n",
    "                print(f\"     Size in original: {dict(pkg.dataset.sizes)}\")\n",
    "        except:\n",
    "            pass\n",
    "else:\n",
    "    print(\"✅ No packages removed in AoI model\")\n",
    "\n",
    "if extra_in_aoi:\n",
    "    print(f\"\\nPackages ADDED in AoI model ({len(extra_in_aoi)}):\")\n",
    "    for key in sorted(extra_in_aoi):\n",
    "        print(f\"  ➕ {key}\")\n",
    "else:\n",
    "    print(\"✅ No packages added in AoI model\")\n",
    "\n",
    "print(f\"\\nCommon packages: {len(common_keys)}/{len(original_keys)} ({100*len(common_keys)/len(original_keys):.1f}%)\")\n",
    "\n",
    "# Show why packages might be missing\n",
    "if missing_in_aoi:\n",
    "    print(f\"\\n=== WHY PACKAGES WERE REMOVED ===\")\n",
    "    print(\"Packages are typically removed from AoI models when:\")\n",
    "    print(\"1. They have no data within the clipped boundary\")\n",
    "    print(\"2. All their stress points/cells fall outside the AoI\")\n",
    "    print(\"3. The clip_box() method filters out empty packages\" \\\n",
    "    \"\")\n",
    "    print(\"\\nThis is normal behavior and indicates successful spatial filtering!\")"
   ]
  },
  {
   "cell_type": "code",
   "execution_count": null,
   "id": "c773321e",
   "metadata": {},
   "outputs": [],
   "source": [
    "# Analyze the data content of common packages\n",
    "print(\"=== PACKAGE DATA COMPARISON ===\")\n",
    "print(\"Comparing spatial dimensions and data ranges for common packages:\\n\")\n",
    "\n",
    "for key in sorted(common_keys):\n",
    "    print(f\"📦 {key}:\")\n",
    "    try:\n",
    "        orig_pkg = MF6_Mdl[key] \n",
    "        aoi_pkg = MF6_Mdl_AoI[key]\n",
    "        \n",
    "        # Compare dataset sizes\n",
    "        if hasattr(orig_pkg, 'dataset') and hasattr(aoi_pkg, 'dataset'):\n",
    "            orig_sizes = dict(orig_pkg.dataset.sizes)\n",
    "            aoi_sizes = dict(aoi_pkg.dataset.sizes)\n",
    "            \n",
    "            print(f\"   Original sizes: {orig_sizes}\")\n",
    "            print(f\"   AoI sizes:      {aoi_sizes}\")\n",
    "            \n",
    "            # Calculate reduction ratios\n",
    "            for dim in ['x', 'y']:\n",
    "                if dim in orig_sizes and dim in aoi_sizes:\n",
    "                    reduction = aoi_sizes[dim] / orig_sizes[dim]\n",
    "                    print(f\"   {dim} reduction: {reduction:.3f} ({aoi_sizes[dim]}/{orig_sizes[dim]} cells)\")\n",
    "            \n",
    "            # Check if data values are the same (for first few values)\n",
    "            if hasattr(orig_pkg.dataset, 'data_vars') and hasattr(aoi_pkg.dataset, 'data_vars'):\n",
    "                common_vars = set(orig_pkg.dataset.data_vars) & set(aoi_pkg.dataset.data_vars)\n",
    "                if common_vars:\n",
    "                    var = list(common_vars)[0]  # Check first variable\n",
    "                    orig_data = orig_pkg.dataset[var]\n",
    "                    aoi_data = aoi_pkg.dataset[var]\n",
    "                    \n",
    "                    # Check if AoI data is a subset of original\n",
    "                    if 'x' in orig_data.dims and 'y' in orig_data.dims:\n",
    "                        print(f\"   Variable '{var}': Data appears to be spatially clipped ✓\")\n",
    "                    else:\n",
    "                        print(f\"   Variable '{var}': Non-spatial data\")\n",
    "        else:\n",
    "            print(\"   No dataset attributes to compare\")\n",
    "            \n",
    "    except Exception as e:\n",
    "        print(f\"   ⚠️  Error comparing {key}: {e}\")\n",
    "    \n",
    "    print()  # Empty line for readability"
   ]
  },
  {
   "cell_type": "code",
   "execution_count": null,
   "id": "7feb3c13",
   "metadata": {},
   "outputs": [],
   "source": [
    "# Compare coordinate bounds to verify clipping worked correctly\n",
    "print(\"=== COORDINATE BOUNDS COMPARISON ===\")\n",
    "print(f\"Target clipping bounds: X({Xmin:.1f}, {Xmax:.1f}), Y({Ymin:.1f}, {Ymax:.1f})\")\n",
    "print()\n",
    "\n",
    "# Check DIS package bounds (most reliable for spatial extent)\n",
    "if 'dis' in common_keys:\n",
    "    try:\n",
    "        orig_dis = MF6_Mdl['dis']\n",
    "        aoi_dis = MF6_Mdl_AoI['dis']\n",
    "        \n",
    "        # Original bounds\n",
    "        orig_x_min, orig_x_max = float(orig_dis.dataset.x.min()), float(orig_dis.dataset.x.max())\n",
    "        orig_y_min, orig_y_max = float(orig_dis.dataset.y.min()), float(orig_dis.dataset.y.max())\n",
    "        \n",
    "        # AoI bounds  \n",
    "        aoi_x_min, aoi_x_max = float(aoi_dis.dataset.x.min()), float(aoi_dis.dataset.x.max())\n",
    "        aoi_y_min, aoi_y_max = float(aoi_dis.dataset.y.min()), float(aoi_dis.dataset.y.max())\n",
    "        \n",
    "        print(\"Original model bounds:\")\n",
    "        print(f\"   X: {orig_x_min:.1f} to {orig_x_max:.1f} (range: {orig_x_max-orig_x_min:.1f})\")\n",
    "        print(f\"   Y: {orig_y_min:.1f} to {orig_y_max:.1f} (range: {orig_y_max-orig_y_min:.1f})\")\n",
    "        \n",
    "        print(\"\\nAoI model bounds:\")\n",
    "        print(f\"   X: {aoi_x_min:.1f} to {aoi_x_max:.1f} (range: {aoi_x_max-aoi_x_min:.1f})\")\n",
    "        print(f\"   Y: {aoi_y_min:.1f} to {aoi_y_max:.1f} (range: {aoi_y_max-aoi_y_min:.1f})\")\n",
    "        \n",
    "        # Verify clipping worked as expected\n",
    "        x_within_bounds = (aoi_x_min >= Xmin-dx) and (aoi_x_max <= Xmax+dx)\n",
    "        y_within_bounds = (aoi_y_min >= Ymin-dy) and (aoi_y_max <= Ymax+dy)\n",
    "        \n",
    "        print(f\"\\nClipping verification:\")\n",
    "        print(f\"   X bounds within target: {'✓' if x_within_bounds else '✗'}\")\n",
    "        print(f\"   Y bounds within target: {'✓' if y_within_bounds else '✗'}\")\n",
    "        \n",
    "        if x_within_bounds and y_within_bounds:\n",
    "            print(\"   🎉 Clipping successful!\")\n",
    "        else:\n",
    "            print(\"   ⚠️  Clipping may not have worked as expected\")\n",
    "            \n",
    "        # Calculate area reduction\n",
    "        orig_area = (orig_x_max - orig_x_min) * (orig_y_max - orig_y_min)\n",
    "        aoi_area = (aoi_x_max - aoi_x_min) * (aoi_y_max - aoi_y_min)\n",
    "        area_ratio = aoi_area / orig_area\n",
    "        \n",
    "        print(f\"\\nArea reduction:\")\n",
    "        print(f\"   Original area: {orig_area:,.0f} m²\")\n",
    "        print(f\"   AoI area: {aoi_area:,.0f} m²\") \n",
    "        print(f\"   Ratio: {area_ratio:.4f} ({area_ratio*100:.2f}%)\")\n",
    "        \n",
    "    except Exception as e:\n",
    "        print(f\"Error comparing DIS bounds: {e}\")\n",
    "else:\n",
    "    print(\"DIS package not found in common keys - cannot compare bounds\")"
   ]
  },
  {
   "cell_type": "code",
   "execution_count": null,
   "id": "876f696c",
   "metadata": {},
   "outputs": [],
   "source": [
    "# Print the names of common packages\n",
    "print(\"=== COMMON PACKAGES ===\")\n",
    "print(f\"These {len(common_keys)} packages are present in both models:\")\n",
    "for i, key in enumerate(sorted(common_keys), 1):\n",
    "    print(f\"{i:2d}. {key}\")"
   ]
  },
  {
   "cell_type": "code",
   "execution_count": null,
   "id": "a50ff8dd",
   "metadata": {},
   "outputs": [],
   "source": [
    "MF6_Mdl_AoI.keys()"
   ]
  },
  {
   "cell_type": "code",
   "execution_count": null,
   "id": "973dbb2f",
   "metadata": {},
   "outputs": [],
   "source": [
    "MF6_Mdl_AoI['chd_merged']['head'].isel(time=0, layer=0).plot.imshow(cmap='viridis')"
   ]
  },
  {
   "cell_type": "code",
   "execution_count": null,
   "id": "960fe367",
   "metadata": {},
   "outputs": [],
   "source": [
    "MF6_Mdl_AoI['chd_merged']['head'].isel(time=0, layer=0, x=range(10), y=range(10)).plot.imshow(cmap='viridis')"
   ]
  },
  {
   "cell_type": "markdown",
   "id": "2ebaac9a",
   "metadata": {},
   "source": [
    "Seems like CHD has finally been applied correctly!"
   ]
  },
  {
   "cell_type": "markdown",
   "id": "736a57a5",
   "metadata": {},
   "source": [
    "This is ok. The only missing package is one of the WEL packages, which has no items in the model area. Also 150 HFB packages/lines have been removed cause none of them intersects the domain."
   ]
  },
  {
   "cell_type": "markdown",
   "id": "0dcc5538",
   "metadata": {},
   "source": [
    "### Cleanup MF6"
   ]
  },
  {
   "cell_type": "code",
   "execution_count": null,
   "id": "fdf51b5c",
   "metadata": {},
   "outputs": [],
   "source": [
    "try:\n",
    "    for Pkg in [i for i in MF6_Mdl_AoI.keys() if ('riv' in i.lower()) or ('drn' in i.lower())]:\n",
    "        MF6_Mdl_AoI[Pkg].cleanup(DIS_AoI)\n",
    "except:\n",
    "    print('Failed to cleanup packages. Proceeding without cleanup. Fingers crossed!')"
   ]
  },
  {
   "cell_type": "markdown",
   "id": "32c98f3a",
   "metadata": {},
   "source": [
    "### MSW"
   ]
  },
  {
   "cell_type": "code",
   "execution_count": null,
   "id": "c0cca65f",
   "metadata": {},
   "outputs": [],
   "source": [
    "# Cleanup MetaSWAP\n",
    "MSW_Mdl_AoI[\"grid\"].dataset[\"rootzone_depth\"] = MSW_Mdl_AoI[\"grid\"].dataset[\"rootzone_depth\"].fillna(1.0)"
   ]
  },
  {
   "cell_type": "markdown",
   "id": "dd14394f",
   "metadata": {},
   "source": [
    "111: Why are we doing this?"
   ]
  },
  {
   "cell_type": "markdown",
   "id": "39003970",
   "metadata": {},
   "source": [
    "## Couple"
   ]
  },
  {
   "cell_type": "code",
   "execution_count": null,
   "id": "0ef22db8",
   "metadata": {},
   "outputs": [],
   "source": [
    "metamod_coupling = primod.MetaModDriverCoupling(mf6_model=\"imported_model\", mf6_recharge_package=\"msw-rch\", mf6_wel_package=\"msw-sprinkling\")\n",
    "metamod = primod.MetaMod(MSW_Mdl_AoI, Sim_MF6_AoI, coupling_list=[metamod_coupling])"
   ]
  },
  {
   "cell_type": "code",
   "execution_count": null,
   "id": "72642cd2",
   "metadata": {},
   "outputs": [],
   "source": [
    "os.makedirs(d_Pa['Pa_MdlN'], exist_ok=True) # Create simulation directory if it doesn't exist"
   ]
  },
  {
   "cell_type": "code",
   "execution_count": null,
   "id": "88d16ed9",
   "metadata": {},
   "outputs": [],
   "source": [
    "# Use correct paths from d_Pa instead of hardcoded paths\n",
    "Pa_MF6_DLL = d_Pa['MF6_DLL']\n",
    "Pa_MSW_DLL = d_Pa['MSW_DLL']\n",
    "Pa_IMC = d_Pa['coupler_Exe']\n",
    "\n",
    "print(f\"✅ MF6 DLL path: {Pa_MF6_DLL}\")\n",
    "print(f\"✅ MSW DLL path: {Pa_MSW_DLL}\")\n",
    "print(f\"✅ Coupler exe path: {d_Pa['coupler_Exe']}\")"
   ]
  },
  {
   "cell_type": "code",
   "execution_count": null,
   "id": "112896a2",
   "metadata": {},
   "outputs": [],
   "source": [
    "metamod.write(directory=d_Pa['Pa_MdlN'], modflow6_dll=Pa_MF6_DLL, metaswap_dll=Pa_MSW_DLL, metaswap_dll_dependency=PDN(Pa_MF6_DLL))"
   ]
  },
  {
   "cell_type": "markdown",
   "id": "b00359cd",
   "metadata": {},
   "source": [
    "# Execute model"
   ]
  },
  {
   "cell_type": "code",
   "execution_count": null,
   "id": "f23b3f4a",
   "metadata": {},
   "outputs": [],
   "source": [
    "# with open(d_Pa['TOML'], 'a') as f: # Add enable_sprinkling = true to the end of the TOML file\n",
    "#     f.write('enable_sprinkling = true\\n')"
   ]
  },
  {
   "cell_type": "code",
   "execution_count": null,
   "id": "61ed37fb",
   "metadata": {},
   "outputs": [],
   "source": [
    "n = os.getcwd()"
   ]
  },
  {
   "cell_type": "code",
   "execution_count": null,
   "id": "872869d7",
   "metadata": {},
   "outputs": [],
   "source": [
    "U.mete_grid_add_missing_Cols(PJ(d_Pa['Pa_MdlN'], 'metaswap/mete_grid.inp'))"
   ]
  },
  {
   "cell_type": "code",
   "execution_count": null,
   "id": "990f769e",
   "metadata": {},
   "outputs": [],
   "source": [
    "# Execute the coupled model\n",
    "print(\"🚀 Starting coupled model execution...\")\n",
    "print(f\"Model directory: {d_Pa['Pa_MdlN']}\")\n",
    "\n",
    "# Check what files were written\n",
    "print(\"\\n📁 Checking written model files:\")\n",
    "if PE(d_Pa['Pa_MdlN']):\n",
    "    model_files = LD(d_Pa['Pa_MdlN'])\n",
    "    for file in sorted(model_files):\n",
    "        print(f\"  - {file}\")\n",
    "    \n",
    "    # Look for the main execution file (usually .toml or similar)\n",
    "    toml_files = [f for f in model_files if f.endswith('.toml')]\n",
    "    if toml_files:\n",
    "        print(f\"\\n🎯 Found TOML configuration file: {toml_files[0]}\")\n",
    "        main_toml = PJ(d_Pa['Pa_MdlN'], toml_files[0])\n",
    "        \n",
    "        # Since we have the DLL paths, we can try to execute using the iMOD coupler\n",
    "        # The iMOD coupler typically needs the .toml file as input\n",
    "        coupler_exe = Pa_IMC\n",
    "        \n",
    "        if PE(coupler_exe):\n",
    "            print(f\"✅ Found iMOD coupler: {coupler_exe}\")\n",
    "            print(f\"🔄 Executing: {coupler_exe} {main_toml}\")\n",
    "            \n",
    "            # Execute the model (this will take some time)\n",
    "            import subprocess\n",
    "            try:\n",
    "                result = subprocess.run([coupler_exe, main_toml], \n",
    "                                      cwd=d_Pa['Pa_MdlN'], \n",
    "                                      capture_output=True, \n",
    "                                      text=True,\n",
    "                                      timeout=3600)  # 1 hour timeout\n",
    "                \n",
    "                print(f\"Return code: {result.returncode}\")\n",
    "                if result.stdout:\n",
    "                    print(\"STDOUT:\")\n",
    "                    print(result.stdout)\n",
    "                if result.stderr:\n",
    "                    print(\"STDERR:\")\n",
    "                    print(result.stderr)\n",
    "                    \n",
    "                if result.returncode == 0:\n",
    "                    print(\"✅ Model execution completed successfully!\")\n",
    "                else:\n",
    "                    print(f\"❌ Model execution failed with return code {result.returncode}\")\n",
    "                    \n",
    "            except subprocess.TimeoutExpired:\n",
    "                print(\"⏰ Model execution timed out after 1 hour\")\n",
    "            except Exception as e:\n",
    "                print(f\"❌ Error executing model: {e}\")\n",
    "        else:\n",
    "            print(f\"❌ iMOD coupler not found at: {coupler_exe}\")\n",
    "            print(\"You may need to execute the model manually using the iMOD coupler\")\n",
    "    else:\n",
    "        print(\"❌ No TOML configuration file found\")\n",
    "else:\n",
    "    print(f\"❌ Model directory not found: {d_Pa['Pa_MdlN']}\")"
   ]
  },
  {
   "cell_type": "code",
   "execution_count": null,
   "id": "2b595248",
   "metadata": {},
   "outputs": [],
   "source": []
  },
  {
   "cell_type": "code",
   "execution_count": null,
   "id": "5a4e1fd0",
   "metadata": {},
   "outputs": [],
   "source": []
  },
  {
   "cell_type": "code",
   "execution_count": null,
   "id": "aa95aade",
   "metadata": {},
   "outputs": [],
   "source": []
  },
  {
   "cell_type": "code",
   "execution_count": null,
   "id": "7751a214",
   "metadata": {},
   "outputs": [],
   "source": []
  },
  {
   "cell_type": "markdown",
   "id": "7a50aefd",
   "metadata": {},
   "source": [
    "# Junkyard"
   ]
  },
  {
   "cell_type": "code",
   "execution_count": null,
   "id": "8079b6f9",
   "metadata": {},
   "outputs": [],
   "source": [
    "stop"
   ]
  },
  {
   "cell_type": "markdown",
   "id": "2df7b9ce",
   "metadata": {},
   "source": [
    "Columns that seem useful:\n",
    "1. CODE: as unique ID.\n",
    "2. NAAM: as name.\n",
    "3. WS_BH_BOVENSTROOMS: width upstream\n",
    "4. WS_BH_BENEDENSTROOMS: width downstream\n",
    "5. WS_HGT_MAAIVELD_BOVS: ground level elevation upstream\n",
    "6. WS_HGT_MAAIVELD_BENS: ground level elevation downstream\n",
    "7. WS_HGT_INSTEEK_LINKERZIJDE: left bank elevation\n",
    "8. WS_HGT_INSTEEK_RECHTERZIJDE: right bank elevation\n",
    "9. WS_TALUD_LINKS_L: left bank slope\n",
    "10. WS_TALUD_RECHTS_L: right bank slope\n",
    "11. WS_BODEMBREEDTE_L: bottom width\n",
    "12. WS_BH_BOVENSTROOMS_L: width upstream (seems like a duplicate of 2, need to check though)\n",
    "13. WS_BH_BENEDENSTROOMS_L: width downstream (seems like a duplicate of 3, need to check though)\n",
    "14. "
   ]
  },
  {
   "cell_type": "markdown",
   "id": "0b2e61ce",
   "metadata": {},
   "source": [
    "Below, we'll match the shapefile attributes to the SFRmaker requirements as per SFRmaker manual ( https://doi-usgs.github.io/sfrmaker/latest/inputs.html):\n",
    "\n",
    "**Custom hydrography** <br>\n",
    "Any Polyline shapefile can be supplied in lieu of NHDPlus, but it must have the following columns, as shown in the second example:\n",
    "1. flowlines_file: path to shapefile<br>-> Pa_GPkg_1ry (object, not column)\n",
    "2. id_column: unique identifier for each polyline<br>-> CODE\n",
    "3. routing_column: downstream connection (ID), 0 if none<br>-> DStr *(has been calculated based on algorithm)*<br>\n",
    "4. width1_column: channel width at start of line, in attr\\_length\\_units (optional)<br>-> WS_BH_BOVENSTROOMS_L\n",
    "5. width2_column: channel width at end of line, in attr_length_units (optional)<br>->  WS_BH_BENEDENSTROOMS_L\n",
    "6. up_elevation_column: streambed elevation at start of line, in attr_height_units<br>-> \n",
    "7. dn_elevation_column: streambed elevation at end of line, in attr_height_units<br>-> \n",
    "8. name_column: stream name (optional)<br>-> \n",
    "9. attr_length_units: channel width units<br>-> m\n",
    "10. attr_height_units: streambed elevation units<br>-> m\n"
   ]
  },
  {
   "cell_type": "markdown",
   "id": "cd8f13d7",
   "metadata": {},
   "source": [
    "## Limit"
   ]
  },
  {
   "cell_type": "code",
   "execution_count": null,
   "id": "90b31639",
   "metadata": {},
   "outputs": [],
   "source": [
    "# Limit GDF to model area bounds\n",
    "print(f\"Model area bounds: Xmin: {Xmin:10}, Xmax: {Xmax:10} | Ymin: {Ymin:10}, Ymax: {Ymax:10}\\n\")\n",
    "print(f\"Original dataset: {bold}{len(GDF):10}{style_reset} features\\t| Bounds: {GDF.total_bounds}\")\n",
    "\n",
    "# Create bounding box for clipping\n",
    "from shapely.geometry import box\n",
    "model_bbox = box(Xmin, Ymin, Xmax, Ymax)\n",
    "\n",
    "# Filter GDF to model area using spatial intersection\n",
    "GDF_clipped = GDF[GDF.geometry.intersects(model_bbox)].copy()\n",
    "\n",
    "print(f\"Filtered dataset: {bold}{len(GDF_clipped):10}{style_reset} features\\t| Bounds: {GDF_clipped.total_bounds}\")\n",
    "print(f\"Reduction: {bold}{len(GDF)-len(GDF_clipped):,}{style_reset} features removed ({(len(GDF)-len(GDF_clipped))/len(GDF)*100:.1f}%) | ✓ GDF updated to model area extent\")\n",
    "print(f\"✓ Network length: {GDF.geometry.length.sum()/1000:.1f} km within model area\")\n",
    "\n",
    "# Update GDF to use the clipped version\n",
    "GDF = GDF_clipped"
   ]
  },
  {
   "cell_type": "code",
   "execution_count": null,
   "id": "22b610aa",
   "metadata": {},
   "outputs": [],
   "source": [
    "# Plot the filtered hydroobject network within model area\n",
    "fig, ax = plt.subplots(figsize=(12, 8))\n",
    "\n",
    "# Plot the filtered GDF\n",
    "GDF.plot(ax=ax, color='blue', linewidth=0.8, alpha=0.7, label='Hydroobject network')\n",
    "\n",
    "# Add model boundary rectangle\n",
    "from matplotlib.patches import Rectangle\n",
    "model_rect = Rectangle((Xmin, Ymin), Xmax-Xmin, Ymax-Ymin, \n",
    "                      linewidth=2, edgecolor='red', facecolor='none', \n",
    "                      linestyle='--', label='Model boundary')\n",
    "ax.add_patch(model_rect)\n",
    "\n",
    "ax.set_title(f'Hydroobject Network within Model Area ({MdlN})')\n",
    "ax.set_xlabel('X coordinate (m)')\n",
    "ax.set_ylabel('Y coordinate (m)')\n",
    "ax.legend()\n",
    "\n",
    "# Add statistics text\n",
    "stats_text = f\"\"\"Filtered Network:\n",
    "• Features: {len(GDF):,}\n",
    "• Total length: {GDF.geometry.length.sum()/1000:.1f} km\n",
    "• Model area: {(Xmax-Xmin)/1000:.1f} × {(Ymax-Ymin)/1000:.1f} km\"\"\"\n",
    "\n",
    "ax.text(0.02, 0.98, stats_text, transform=ax.transAxes, \n",
    "        verticalalignment='top', bbox=dict(boxstyle='round', facecolor='wheat', alpha=0.8))\n",
    "\n",
    "# Add grid\n",
    "ax.grid(True, alpha=0.3)"
   ]
  },
  {
   "cell_type": "markdown",
   "id": "22c24a3a",
   "metadata": {},
   "source": [
    "## Load GPkg. Select correct layer. Limit to Mdl Aa. - Detailed SW network"
   ]
  },
  {
   "cell_type": "markdown",
   "id": "98a6f0e8",
   "metadata": {},
   "source": [
    "After this methodology is established, a function should be created that'll take in either a GeoPackage with a specified layer or a shapefile (single layer).<br>\n",
    "Other Params like the Cols to be used for the SFR network creation, should be provided as well. A .toml file could be a good idea."
   ]
  },
  {
   "cell_type": "markdown",
   "id": "5dc7dd06",
   "metadata": {},
   "source": [
    "## Load"
   ]
  },
  {
   "cell_type": "code",
   "execution_count": null,
   "id": "22c4ca36",
   "metadata": {},
   "outputs": [],
   "source": [
    "# First, let's see what layers are available in the GeoPackage\n",
    "layers = fiona.listlayers(Pa_GPkg)\n",
    "print(\"Available layers in GeoPackage:\")\n",
    "for i, L in enumerate(layers):\n",
    "    print(f\"  {i+1}. {L}\")"
   ]
  },
  {
   "cell_type": "code",
   "execution_count": null,
   "id": "24374d42",
   "metadata": {},
   "outputs": [],
   "source": [
    "# Read the hydroobject layer specifically\n",
    "GDF1 = gpd.read_file(Pa_GPkg, layer=layer)"
   ]
  },
  {
   "cell_type": "code",
   "execution_count": null,
   "id": "0af95b30",
   "metadata": {},
   "outputs": [],
   "source": [
    "print(f\"\\nHydroobject layer loaded successfully!\\nNumber of features: {bold}{len(GDF1)}{style_reset}\\nCRS: {bold}{GDF1.crs}{style_reset}\\nGeometry types: {GDF1.geometry.geom_type.value_counts()}\")\n",
    "print(*GDF1.columns, sep=' | ')"
   ]
  },
  {
   "cell_type": "markdown",
   "id": "c1ce8941",
   "metadata": {},
   "source": [
    "## Explore"
   ]
  },
  {
   "cell_type": "code",
   "execution_count": null,
   "id": "23d5b5c4",
   "metadata": {},
   "outputs": [],
   "source": [
    "GDF1.head(3)"
   ]
  },
  {
   "cell_type": "code",
   "execution_count": null,
   "id": "cfd6ab6d",
   "metadata": {},
   "outputs": [],
   "source": [
    "GDF1.describe(include='all')"
   ]
  },
  {
   "cell_type": "code",
   "execution_count": null,
   "id": "c63be4cb",
   "metadata": {},
   "outputs": [],
   "source": [
    "#666 columns need to be reviewed later!!!"
   ]
  },
  {
   "cell_type": "code",
   "execution_count": null,
   "id": "39a74b7f",
   "metadata": {},
   "outputs": [],
   "source": [
    "GDF1.WS_BH_BOVENSTROOMS.value_counts()"
   ]
  },
  {
   "cell_type": "code",
   "execution_count": null,
   "id": "b69857f2",
   "metadata": {},
   "outputs": [],
   "source": [
    "for i, col in enumerate(GDF1.columns):\n",
    "    print(f\"{i}: {col}\")"
   ]
  },
  {
   "cell_type": "code",
   "execution_count": null,
   "id": "66850f2f",
   "metadata": {},
   "outputs": [],
   "source": [
    "GDF1.sort_values('WS_BH_BOVENSTROOMS', inplace=True, ascending=False)"
   ]
  },
  {
   "cell_type": "code",
   "execution_count": null,
   "id": "d5898bc4",
   "metadata": {},
   "outputs": [],
   "source": [
    "GDF1[['WS_BH_BOVENSTROOMS', 'WS_BH_BENEDENSTROOMS', 'WS_BH_BOVENSTROOMS_L', 'WS_BH_BENEDENSTROOMS_L']].head(10)"
   ]
  },
  {
   "cell_type": "markdown",
   "id": "8cccc564",
   "metadata": {},
   "source": [
    "Columns that seem useful:\n",
    "1. CODE: as unique ID.\n",
    "2. NAAM: as name.\n",
    "3. WS_BH_BOVENSTROOMS: width upstream\n",
    "4. WS_BH_BENEDENSTROOMS: width downstream\n",
    "5. WS_HGT_MAAIVELD_BOVS: ground level elevation upstream\n",
    "6. WS_HGT_MAAIVELD_BENS: ground level elevation downstream\n",
    "7. WS_HGT_INSTEEK_LINKERZIJDE: left bank elevation\n",
    "8. WS_HGT_INSTEEK_RECHTERZIJDE: right bank elevation\n",
    "9. WS_TALUD_LINKS_L: left bank slope\n",
    "10. WS_TALUD_RECHTS_L: right bank slope\n",
    "11. WS_BODEMBREEDTE_L: bottom width\n",
    "12. WS_BH_BOVENSTROOMS_L: width upstream (seems like a duplicate of 2, need to check though)\n",
    "13. WS_BH_BENEDENSTROOMS_L: width downstream (seems like a duplicate of 3, need to check though)\n",
    "14. "
   ]
  },
  {
   "cell_type": "code",
   "execution_count": null,
   "id": "c23a30ff",
   "metadata": {},
   "outputs": [],
   "source": [
    "print('Plot of line geometry in the whole area.')\n",
    "GDF1.plot(figsize=(10, 10), color='blue', edgecolor='black')"
   ]
  },
  {
   "cell_type": "markdown",
   "id": "dbd03d1c",
   "metadata": {},
   "source": [
    "## Limit"
   ]
  },
  {
   "cell_type": "code",
   "execution_count": null,
   "id": "4f843530",
   "metadata": {},
   "outputs": [],
   "source": [
    "# Limit GDF to model area bounds\n",
    "print(f\"Model area bounds: Xmin: {Xmin:10}, Xmax: {Xmax:10} | Ymin: {Ymin:10}, Ymax: {Ymax:10}\\n\")\n",
    "print(f\"Original dataset: {bold}{len(GDF1):10}{style_reset} features\\t| Bounds: {GDF1.total_bounds}\")\n",
    "\n",
    "# Create bounding box for clipping\n",
    "from shapely.geometry import box\n",
    "model_bbox = box(Xmin, Ymin, Xmax, Ymax)\n",
    "\n",
    "# Filter GDF to model area using spatial intersection\n",
    "GDF1_clipped = GDF1[GDF1.geometry.intersects(model_bbox)].copy()\n",
    "\n",
    "print(f\"Filtered dataset: {bold}{len(GDF1_clipped):10}{style_reset} features\\t| Bounds: {GDF1_clipped.total_bounds}\")\n",
    "print(f\"Reduction: {bold}{len(GDF1)-len(GDF1_clipped):,}{style_reset} features removed ({(len(GDF1)-len(GDF1_clipped))/len(GDF1)*100:.1f}%) | ✓ GDF updated to model area extent\")\n",
    "print(f\"✓ Network length: {GDF1.geometry.length.sum()/1000:.1f} km within model area\")\n",
    "\n",
    "# Update GDF to use the clipped version\n",
    "GDF1 = GDF1_clipped"
   ]
  },
  {
   "cell_type": "code",
   "execution_count": null,
   "id": "58cbd813",
   "metadata": {},
   "outputs": [],
   "source": [
    "# Plot the filtered hydroobject network within model area\n",
    "fig, ax = plt.subplots(figsize=(12, 8))\n",
    "\n",
    "# Plot the filtered GDF\n",
    "GDF1.plot(ax=ax, color='blue', linewidth=0.8, alpha=0.7, label='Hydroobject network')\n",
    "\n",
    "# Add model boundary rectangle\n",
    "from matplotlib.patches import Rectangle\n",
    "model_rect = Rectangle((Xmin, Ymin), Xmax-Xmin, Ymax-Ymin, \n",
    "                      linewidth=2, edgecolor='red', facecolor='none', \n",
    "                      linestyle='--', label='Model boundary')\n",
    "ax.add_patch(model_rect)\n",
    "\n",
    "ax.set_title(f'Hydroobject Network within Model Area ({MdlN})')\n",
    "ax.set_xlabel('X coordinate (m)')\n",
    "ax.set_ylabel('Y coordinate (m)')\n",
    "ax.legend()\n",
    "\n",
    "# Add statistics text\n",
    "stats_text = f\"\"\"Filtered Network:\n",
    "• Features: {len(GDF1):,}\n",
    "• Total length: {GDF1.geometry.length.sum()/1000:.1f} km\n",
    "• Model area: {(Xmax-Xmin)/1000:.1f} × {(Ymax-Ymin)/1000:.1f} km\"\"\"\n",
    "\n",
    "ax.text(0.02, 0.98, stats_text, transform=ax.transAxes, \n",
    "        verticalalignment='top', bbox=dict(boxstyle='round', facecolor='wheat', alpha=0.8))\n",
    "\n",
    "# Add grid\n",
    "ax.grid(True, alpha=0.3)"
   ]
  }
 ],
 "metadata": {
  "kernelspec": {
   "display_name": "default",
   "language": "python",
   "name": "python3"
  },
  "language_info": {
   "codemirror_mode": {
    "name": "ipython",
    "version": 3
   },
   "file_extension": ".py",
   "mimetype": "text/x-python",
   "name": "python",
   "nbconvert_exporter": "python",
   "pygments_lexer": "ipython3",
   "version": "3.13.5"
  }
 },
 "nbformat": 4,
 "nbformat_minor": 5
}
