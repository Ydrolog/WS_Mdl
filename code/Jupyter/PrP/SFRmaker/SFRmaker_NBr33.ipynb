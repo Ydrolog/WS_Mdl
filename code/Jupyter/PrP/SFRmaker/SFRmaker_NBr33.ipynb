{
 "cells": [
  {
   "cell_type": "markdown",
   "id": "702e13cb",
   "metadata": {},
   "source": [
    "# Imports"
   ]
  },
  {
   "cell_type": "code",
   "execution_count": 6,
   "id": "e81b0924",
   "metadata": {},
   "outputs": [],
   "source": [
    "import matplotlib.pyplot as plt\n",
    "import numpy as np\n",
    "import os\n",
    "from os import listdir as LD, makedirs as MDs\n",
    "from os.path import join as PJ, basename as PBN, dirname as PDN, exists as PE\n",
    "import pandas as pd\n",
    "from datetime import datetime as DT"
   ]
  },
  {
   "cell_type": "code",
   "execution_count": 7,
   "id": "705b8efe",
   "metadata": {},
   "outputs": [],
   "source": [
    "# from imod import msw\n",
    "# from imod import mf6\n",
    "# import primod"
   ]
  },
  {
   "cell_type": "code",
   "execution_count": 8,
   "id": "8d4d2d63",
   "metadata": {},
   "outputs": [],
   "source": [
    "import WS_Mdl.utils as U\n",
    "import WS_Mdl.utils_imod as UIM\n",
    "import WS_Mdl.calcs as C"
   ]
  },
  {
   "cell_type": "code",
   "execution_count": 9,
   "id": "23de4e0b",
   "metadata": {},
   "outputs": [
    {
     "data": {
      "text/plain": [
       "<module 'WS_Mdl.utils_imod' from 'C:\\\\Users\\\\Karam014\\\\OneDrive - Universiteit Utrecht\\\\WS_Mdl\\\\code\\\\WS_Mdl\\\\utils_imod.py'>"
      ]
     },
     "execution_count": 9,
     "metadata": {},
     "output_type": "execute_result"
    }
   ],
   "source": [
    "import importlib as IL\n",
    "IL.reload(U)\n",
    "IL.reload(UIM)"
   ]
  },
  {
   "cell_type": "code",
   "execution_count": 10,
   "id": "3f10ee69",
   "metadata": {},
   "outputs": [],
   "source": [
    "# Import sfrmaker and other necessary packages for SFR network creation\n",
    "import sfrmaker as sfr\n",
    "import geopandas as gpd\n",
    "import numpy as np"
   ]
  },
  {
   "cell_type": "code",
   "execution_count": 11,
   "id": "99d296c5",
   "metadata": {},
   "outputs": [],
   "source": [
    "import fiona"
   ]
  },
  {
   "cell_type": "code",
   "execution_count": 12,
   "id": "faa7c8bb",
   "metadata": {},
   "outputs": [
    {
     "data": {
      "text/plain": [
       "'0.11.3'"
      ]
     },
     "execution_count": 12,
     "metadata": {},
     "output_type": "execute_result"
    }
   ],
   "source": [
    "sfr.__version__"
   ]
  },
  {
   "cell_type": "code",
   "execution_count": 13,
   "id": "83068e94",
   "metadata": {},
   "outputs": [],
   "source": [
    "from WS_Mdl.utils import bold, style_reset"
   ]
  },
  {
   "cell_type": "code",
   "execution_count": 14,
   "id": "7b8177ed",
   "metadata": {},
   "outputs": [],
   "source": [
    "from imod import msw\n",
    "from imod import mf6\n",
    "import primod"
   ]
  },
  {
   "cell_type": "markdown",
   "id": "6b789b34",
   "metadata": {},
   "source": [
    "# Options"
   ]
  },
  {
   "cell_type": "code",
   "execution_count": 15,
   "id": "f6b07653",
   "metadata": {},
   "outputs": [],
   "source": [
    "Pa_GPkg_1ry = r'C:\\OD\\WS_Mdl\\models\\NBr\\PrP\\SFR\\BrabantseDelta\\WBD_SW_NW_1ry.gpkg' \n",
    "Pa_GPkg = r\"C:\\OD\\WS_Mdl\\models\\NBr\\PrP\\SFR\\BrabantseDelta\\acceptatiedatabase.gdb\"\n",
    "detailed = 'hydroobject'\n",
    "primary = 'LEGGER_VASTGESTELD_WATERLOOP_CATEGORIE_A'"
   ]
  },
  {
   "cell_type": "code",
   "execution_count": 16,
   "id": "2201f84e",
   "metadata": {},
   "outputs": [],
   "source": [
    "MdlN = 'NBr33'"
   ]
  },
  {
   "cell_type": "code",
   "execution_count": 17,
   "id": "0da68110",
   "metadata": {},
   "outputs": [],
   "source": [
    "U.set_verbose(False)"
   ]
  },
  {
   "cell_type": "code",
   "execution_count": 18,
   "id": "8464b2aa",
   "metadata": {},
   "outputs": [],
   "source": [
    "# Load paths and variables from PRJ & INI\n",
    "d_Pa = U.get_MdlN_Pa(MdlN)\n",
    "Pa_PRJ = d_Pa['PRJ']\n",
    "Dir_PRJ = PDN(Pa_PRJ)\n",
    "d_INI = U.INI_to_d(d_Pa['INI'])\n",
    "Xmin, Ymin, Xmax, Ymax = [float(i) for i in d_INI['WINDOW'].split(',')]\n",
    "SP_date_1st, SP_date_last = [DT.strftime(DT.strptime(d_INI[f'{i}'], '%Y%m%d'), '%Y-%m-%d') for i in ['SDATE', 'EDATE']]\n",
    "dx = dy = float(d_INI['CELLSIZE'])"
   ]
  },
  {
   "cell_type": "markdown",
   "id": "2e36a0dd",
   "metadata": {},
   "source": [
    "# 1ry SW Nw PrP"
   ]
  },
  {
   "cell_type": "markdown",
   "id": "f459aa49",
   "metadata": {},
   "source": [
    "## Load"
   ]
  },
  {
   "cell_type": "code",
   "execution_count": 19,
   "id": "85dc2dab",
   "metadata": {},
   "outputs": [],
   "source": [
    "GDF_all = gpd.read_file(Pa_GPkg_1ry)"
   ]
  },
  {
   "cell_type": "code",
   "execution_count": 20,
   "id": "05ccecb9",
   "metadata": {},
   "outputs": [
    {
     "data": {
      "text/html": [
       "<div>\n",
       "<style scoped>\n",
       "    .dataframe tbody tr th:only-of-type {\n",
       "        vertical-align: middle;\n",
       "    }\n",
       "\n",
       "    .dataframe tbody tr th {\n",
       "        vertical-align: top;\n",
       "    }\n",
       "\n",
       "    .dataframe thead th {\n",
       "        text-align: right;\n",
       "    }\n",
       "</style>\n",
       "<table border=\"1\" class=\"dataframe\">\n",
       "  <thead>\n",
       "    <tr style=\"text-align: right;\">\n",
       "      <th></th>\n",
       "      <th>OBJECTID</th>\n",
       "      <th>CODE</th>\n",
       "      <th>WS_STATUS_L</th>\n",
       "      <th>WS_LEGGERCATEGORIE_L</th>\n",
       "      <th>WS_LEGGERBRON_L</th>\n",
       "      <th>DATUM_VASTGESTELD</th>\n",
       "      <th>LEGGER_KENMERK</th>\n",
       "      <th>WS_ONDERHOUDSPLICHTIGE_L</th>\n",
       "      <th>WS_ONDERHOUDSPLICHT_L</th>\n",
       "      <th>WS_BODEMBREEDTE_L</th>\n",
       "      <th>...</th>\n",
       "      <th>WS_OMSCHRIJVING_TRAJECT_L</th>\n",
       "      <th>WS_LEGGERVERWIJZING_L</th>\n",
       "      <th>WS_HYPERLINK_PRO_OPW_L</th>\n",
       "      <th>WS_HYPERLINK_PRO_VW_L</th>\n",
       "      <th>WS_LEGGERBRON_OMW_L</th>\n",
       "      <th>WS_LEGGERBRON_WAW_L</th>\n",
       "      <th>WS_LEGGERBRON_COS_L</th>\n",
       "      <th>WS_HYPERLINK_BESLUIT_L</th>\n",
       "      <th>SHAPE_Length</th>\n",
       "      <th>geometry</th>\n",
       "    </tr>\n",
       "  </thead>\n",
       "  <tbody>\n",
       "    <tr>\n",
       "      <th>0</th>\n",
       "      <td>1</td>\n",
       "      <td>OVK12326</td>\n",
       "      <td>Vastgesteld, Besluit geverifieerd, ingemeten</td>\n",
       "      <td>Oppervlaktewaterlichamen</td>\n",
       "      <td>11UT009138, kernregistratie</td>\n",
       "      <td>2021-03-30 00:00:00+00:00</td>\n",
       "      <td>Waterschapsblad 2021, 4434</td>\n",
       "      <td>None</td>\n",
       "      <td>None</td>\n",
       "      <td>0.50</td>\n",
       "      <td>...</td>\n",
       "      <td>None</td>\n",
       "      <td>Niet van toepassing</td>\n",
       "      <td>None</td>\n",
       "      <td>None</td>\n",
       "      <td>None</td>\n",
       "      <td>None</td>\n",
       "      <td>None</td>\n",
       "      <td>None</td>\n",
       "      <td>103.786374</td>\n",
       "      <td>MULTILINESTRING ((82178.821 382139.593, 82180....</td>\n",
       "    </tr>\n",
       "    <tr>\n",
       "      <th>1</th>\n",
       "      <td>2</td>\n",
       "      <td>OVK21780</td>\n",
       "      <td>Vastgesteld, Besluit geverifieerd, ingemeten</td>\n",
       "      <td>Oppervlaktewaterlichamen</td>\n",
       "      <td>Oude legger de gewijzigde Cruijslandpolders 19...</td>\n",
       "      <td>2021-03-30 00:00:00+00:00</td>\n",
       "      <td>Waterschapsblad 2021, 4434</td>\n",
       "      <td>None</td>\n",
       "      <td>None</td>\n",
       "      <td>1.50</td>\n",
       "      <td>...</td>\n",
       "      <td>None</td>\n",
       "      <td>Niet van toepassing</td>\n",
       "      <td>None</td>\n",
       "      <td>None</td>\n",
       "      <td>None</td>\n",
       "      <td>None</td>\n",
       "      <td>None</td>\n",
       "      <td>None</td>\n",
       "      <td>159.245366</td>\n",
       "      <td>MULTILINESTRING ((87960.311 397958.808, 87960....</td>\n",
       "    </tr>\n",
       "    <tr>\n",
       "      <th>2</th>\n",
       "      <td>3</td>\n",
       "      <td>OVK02233</td>\n",
       "      <td>Vastgesteld, Ligging gewijzigd, tabel ongewijzigd</td>\n",
       "      <td>Oppervlaktewaterlichamen</td>\n",
       "      <td>None</td>\n",
       "      <td>2021-03-30 00:00:00+00:00</td>\n",
       "      <td>Waterschapsblad 2021, 4434</td>\n",
       "      <td>None</td>\n",
       "      <td>None</td>\n",
       "      <td>0.60</td>\n",
       "      <td>...</td>\n",
       "      <td>None</td>\n",
       "      <td>Niet van toepassing</td>\n",
       "      <td>None</td>\n",
       "      <td>None</td>\n",
       "      <td>None</td>\n",
       "      <td>None</td>\n",
       "      <td>None</td>\n",
       "      <td>None</td>\n",
       "      <td>211.357944</td>\n",
       "      <td>MULTILINESTRING ((111124.488 396263.763, 11113...</td>\n",
       "    </tr>\n",
       "    <tr>\n",
       "      <th>3</th>\n",
       "      <td>4</td>\n",
       "      <td>OVK07620</td>\n",
       "      <td>Vastgesteld, Ligging gewijzigd, tabel ongewijzigd</td>\n",
       "      <td>Oppervlaktewaterlichamen</td>\n",
       "      <td>None</td>\n",
       "      <td>2021-03-30 00:00:00+00:00</td>\n",
       "      <td>Waterschapsblad 2021, 4434</td>\n",
       "      <td>None</td>\n",
       "      <td>None</td>\n",
       "      <td>0.90</td>\n",
       "      <td>...</td>\n",
       "      <td>None</td>\n",
       "      <td>Niet van toepassing</td>\n",
       "      <td>None</td>\n",
       "      <td>None</td>\n",
       "      <td>None</td>\n",
       "      <td>None</td>\n",
       "      <td>None</td>\n",
       "      <td>None</td>\n",
       "      <td>565.948226</td>\n",
       "      <td>MULTILINESTRING ((104001.385 404319.356, 10400...</td>\n",
       "    </tr>\n",
       "    <tr>\n",
       "      <th>4</th>\n",
       "      <td>5</td>\n",
       "      <td>OVK05547</td>\n",
       "      <td>Vastgesteld, Besluit geverifieerd, ingemeten</td>\n",
       "      <td>Oppervlaktewaterlichamen</td>\n",
       "      <td>Oude legger De polders van Nieuw Vosmeer 1971,...</td>\n",
       "      <td>2021-03-30 00:00:00+00:00</td>\n",
       "      <td>Waterschapsblad 2021, 4434</td>\n",
       "      <td>None</td>\n",
       "      <td>None</td>\n",
       "      <td>1.77</td>\n",
       "      <td>...</td>\n",
       "      <td>None</td>\n",
       "      <td>Niet van toepassing</td>\n",
       "      <td>None</td>\n",
       "      <td>None</td>\n",
       "      <td>None</td>\n",
       "      <td>None</td>\n",
       "      <td>None</td>\n",
       "      <td>None</td>\n",
       "      <td>1415.946440</td>\n",
       "      <td>MULTILINESTRING ((75046.141 401865.437, 75045....</td>\n",
       "    </tr>\n",
       "    <tr>\n",
       "      <th>...</th>\n",
       "      <td>...</td>\n",
       "      <td>...</td>\n",
       "      <td>...</td>\n",
       "      <td>...</td>\n",
       "      <td>...</td>\n",
       "      <td>...</td>\n",
       "      <td>...</td>\n",
       "      <td>...</td>\n",
       "      <td>...</td>\n",
       "      <td>...</td>\n",
       "      <td>...</td>\n",
       "      <td>...</td>\n",
       "      <td>...</td>\n",
       "      <td>...</td>\n",
       "      <td>...</td>\n",
       "      <td>...</td>\n",
       "      <td>...</td>\n",
       "      <td>...</td>\n",
       "      <td>...</td>\n",
       "      <td>...</td>\n",
       "      <td>...</td>\n",
       "    </tr>\n",
       "    <tr>\n",
       "      <th>12859</th>\n",
       "      <td>12860</td>\n",
       "      <td>OVK03414</td>\n",
       "      <td>Vigerende legger</td>\n",
       "      <td>Oppervlaktewaterlichamen</td>\n",
       "      <td>None</td>\n",
       "      <td>2024-11-21 00:00:00+00:00</td>\n",
       "      <td>Waterschapsblad 2024, 25527</td>\n",
       "      <td>Gemeente Waalwijk</td>\n",
       "      <td>None</td>\n",
       "      <td>0.50</td>\n",
       "      <td>...</td>\n",
       "      <td>None</td>\n",
       "      <td>Niet van toepassing</td>\n",
       "      <td>None</td>\n",
       "      <td>None</td>\n",
       "      <td>14IN032214</td>\n",
       "      <td>None</td>\n",
       "      <td>None</td>\n",
       "      <td>https://zoek.officielebekendmakingen.nl/wsb-20...</td>\n",
       "      <td>230.941879</td>\n",
       "      <td>MULTILINESTRING ((127154.852 413725.971, 12715...</td>\n",
       "    </tr>\n",
       "    <tr>\n",
       "      <th>12860</th>\n",
       "      <td>12861</td>\n",
       "      <td>OVK08022</td>\n",
       "      <td>Vigerende legger</td>\n",
       "      <td>Oppervlaktewaterlichamen</td>\n",
       "      <td>None</td>\n",
       "      <td>2024-11-21 00:00:00+00:00</td>\n",
       "      <td>Waterschapsblad 2024, 25527</td>\n",
       "      <td>None</td>\n",
       "      <td>None</td>\n",
       "      <td>0.92</td>\n",
       "      <td>...</td>\n",
       "      <td>None</td>\n",
       "      <td>Niet van toepassing</td>\n",
       "      <td>None</td>\n",
       "      <td>None</td>\n",
       "      <td>448580</td>\n",
       "      <td>None</td>\n",
       "      <td>None</td>\n",
       "      <td>https://zoek.officielebekendmakingen.nl/wsb-20...</td>\n",
       "      <td>562.094599</td>\n",
       "      <td>MULTILINESTRING ((106839.183 406980.574, 10685...</td>\n",
       "    </tr>\n",
       "    <tr>\n",
       "      <th>12861</th>\n",
       "      <td>12862</td>\n",
       "      <td>OVK21240</td>\n",
       "      <td>Vigerende legger</td>\n",
       "      <td>Oppervlaktewaterlichamen</td>\n",
       "      <td>None</td>\n",
       "      <td>2024-11-21 00:00:00+00:00</td>\n",
       "      <td>Waterschapsblad 2024, 25527</td>\n",
       "      <td>None</td>\n",
       "      <td>None</td>\n",
       "      <td>1.00</td>\n",
       "      <td>...</td>\n",
       "      <td>None</td>\n",
       "      <td>Niet van toepassing</td>\n",
       "      <td>None</td>\n",
       "      <td>None</td>\n",
       "      <td>757483</td>\n",
       "      <td>None</td>\n",
       "      <td>waterloop was op de legger cat-C tijdens vergu...</td>\n",
       "      <td>https://zoek.officielebekendmakingen.nl/wsb-20...</td>\n",
       "      <td>405.070769</td>\n",
       "      <td>MULTILINESTRING ((98685.008 394485.756, 98680....</td>\n",
       "    </tr>\n",
       "    <tr>\n",
       "      <th>12862</th>\n",
       "      <td>12863</td>\n",
       "      <td>OVK07617</td>\n",
       "      <td>Vigerende legger</td>\n",
       "      <td>Oppervlaktewaterlichamen</td>\n",
       "      <td>None</td>\n",
       "      <td>2024-11-21 00:00:00+00:00</td>\n",
       "      <td>Waterschapsblad 2024, 25527</td>\n",
       "      <td>None</td>\n",
       "      <td>None</td>\n",
       "      <td>0.80</td>\n",
       "      <td>...</td>\n",
       "      <td>None</td>\n",
       "      <td>Niet van toepassing</td>\n",
       "      <td>None</td>\n",
       "      <td>None</td>\n",
       "      <td>IP800380 verbetering RWK</td>\n",
       "      <td>None</td>\n",
       "      <td>None</td>\n",
       "      <td>https://zoek.officielebekendmakingen.nl/wsb-20...</td>\n",
       "      <td>512.689618</td>\n",
       "      <td>MULTILINESTRING ((102983.931 404344.646, 10300...</td>\n",
       "    </tr>\n",
       "    <tr>\n",
       "      <th>12863</th>\n",
       "      <td>12864</td>\n",
       "      <td>OVK02407</td>\n",
       "      <td>Vigerende legger</td>\n",
       "      <td>Oppervlaktewaterlichamen</td>\n",
       "      <td>None</td>\n",
       "      <td>2024-11-21 00:00:00+00:00</td>\n",
       "      <td>Waterschapsblad 2024, 25527</td>\n",
       "      <td>None</td>\n",
       "      <td>None</td>\n",
       "      <td>1.00</td>\n",
       "      <td>...</td>\n",
       "      <td>None</td>\n",
       "      <td>Niet van toepassing</td>\n",
       "      <td>None</td>\n",
       "      <td>None</td>\n",
       "      <td>453138</td>\n",
       "      <td>None</td>\n",
       "      <td>None</td>\n",
       "      <td>https://zoek.officielebekendmakingen.nl/wsb-20...</td>\n",
       "      <td>331.549309</td>\n",
       "      <td>MULTILINESTRING ((109561.648 399619.577, 10956...</td>\n",
       "    </tr>\n",
       "  </tbody>\n",
       "</table>\n",
       "<p>12864 rows × 56 columns</p>\n",
       "</div>"
      ],
      "text/plain": [
       "       OBJECTID      CODE                                        WS_STATUS_L  \\\n",
       "0             1  OVK12326       Vastgesteld, Besluit geverifieerd, ingemeten   \n",
       "1             2  OVK21780       Vastgesteld, Besluit geverifieerd, ingemeten   \n",
       "2             3  OVK02233  Vastgesteld, Ligging gewijzigd, tabel ongewijzigd   \n",
       "3             4  OVK07620  Vastgesteld, Ligging gewijzigd, tabel ongewijzigd   \n",
       "4             5  OVK05547       Vastgesteld, Besluit geverifieerd, ingemeten   \n",
       "...         ...       ...                                                ...   \n",
       "12859     12860  OVK03414                                   Vigerende legger   \n",
       "12860     12861  OVK08022                                   Vigerende legger   \n",
       "12861     12862  OVK21240                                   Vigerende legger   \n",
       "12862     12863  OVK07617                                   Vigerende legger   \n",
       "12863     12864  OVK02407                                   Vigerende legger   \n",
       "\n",
       "           WS_LEGGERCATEGORIE_L  \\\n",
       "0      Oppervlaktewaterlichamen   \n",
       "1      Oppervlaktewaterlichamen   \n",
       "2      Oppervlaktewaterlichamen   \n",
       "3      Oppervlaktewaterlichamen   \n",
       "4      Oppervlaktewaterlichamen   \n",
       "...                         ...   \n",
       "12859  Oppervlaktewaterlichamen   \n",
       "12860  Oppervlaktewaterlichamen   \n",
       "12861  Oppervlaktewaterlichamen   \n",
       "12862  Oppervlaktewaterlichamen   \n",
       "12863  Oppervlaktewaterlichamen   \n",
       "\n",
       "                                         WS_LEGGERBRON_L  \\\n",
       "0                            11UT009138, kernregistratie   \n",
       "1      Oude legger de gewijzigde Cruijslandpolders 19...   \n",
       "2                                                   None   \n",
       "3                                                   None   \n",
       "4      Oude legger De polders van Nieuw Vosmeer 1971,...   \n",
       "...                                                  ...   \n",
       "12859                                               None   \n",
       "12860                                               None   \n",
       "12861                                               None   \n",
       "12862                                               None   \n",
       "12863                                               None   \n",
       "\n",
       "              DATUM_VASTGESTELD               LEGGER_KENMERK  \\\n",
       "0     2021-03-30 00:00:00+00:00   Waterschapsblad 2021, 4434   \n",
       "1     2021-03-30 00:00:00+00:00   Waterschapsblad 2021, 4434   \n",
       "2     2021-03-30 00:00:00+00:00   Waterschapsblad 2021, 4434   \n",
       "3     2021-03-30 00:00:00+00:00   Waterschapsblad 2021, 4434   \n",
       "4     2021-03-30 00:00:00+00:00   Waterschapsblad 2021, 4434   \n",
       "...                         ...                          ...   \n",
       "12859 2024-11-21 00:00:00+00:00  Waterschapsblad 2024, 25527   \n",
       "12860 2024-11-21 00:00:00+00:00  Waterschapsblad 2024, 25527   \n",
       "12861 2024-11-21 00:00:00+00:00  Waterschapsblad 2024, 25527   \n",
       "12862 2024-11-21 00:00:00+00:00  Waterschapsblad 2024, 25527   \n",
       "12863 2024-11-21 00:00:00+00:00  Waterschapsblad 2024, 25527   \n",
       "\n",
       "      WS_ONDERHOUDSPLICHTIGE_L WS_ONDERHOUDSPLICHT_L  WS_BODEMBREEDTE_L  ...  \\\n",
       "0                         None                  None               0.50  ...   \n",
       "1                         None                  None               1.50  ...   \n",
       "2                         None                  None               0.60  ...   \n",
       "3                         None                  None               0.90  ...   \n",
       "4                         None                  None               1.77  ...   \n",
       "...                        ...                   ...                ...  ...   \n",
       "12859        Gemeente Waalwijk                  None               0.50  ...   \n",
       "12860                     None                  None               0.92  ...   \n",
       "12861                     None                  None               1.00  ...   \n",
       "12862                     None                  None               0.80  ...   \n",
       "12863                     None                  None               1.00  ...   \n",
       "\n",
       "       WS_OMSCHRIJVING_TRAJECT_L  WS_LEGGERVERWIJZING_L  \\\n",
       "0                           None    Niet van toepassing   \n",
       "1                           None    Niet van toepassing   \n",
       "2                           None    Niet van toepassing   \n",
       "3                           None    Niet van toepassing   \n",
       "4                           None    Niet van toepassing   \n",
       "...                          ...                    ...   \n",
       "12859                       None    Niet van toepassing   \n",
       "12860                       None    Niet van toepassing   \n",
       "12861                       None    Niet van toepassing   \n",
       "12862                       None    Niet van toepassing   \n",
       "12863                       None    Niet van toepassing   \n",
       "\n",
       "       WS_HYPERLINK_PRO_OPW_L  WS_HYPERLINK_PRO_VW_L  \\\n",
       "0                        None                   None   \n",
       "1                        None                   None   \n",
       "2                        None                   None   \n",
       "3                        None                   None   \n",
       "4                        None                   None   \n",
       "...                       ...                    ...   \n",
       "12859                    None                   None   \n",
       "12860                    None                   None   \n",
       "12861                    None                   None   \n",
       "12862                    None                   None   \n",
       "12863                    None                   None   \n",
       "\n",
       "            WS_LEGGERBRON_OMW_L  WS_LEGGERBRON_WAW_L  \\\n",
       "0                          None                 None   \n",
       "1                          None                 None   \n",
       "2                          None                 None   \n",
       "3                          None                 None   \n",
       "4                          None                 None   \n",
       "...                         ...                  ...   \n",
       "12859                14IN032214                 None   \n",
       "12860                    448580                 None   \n",
       "12861                    757483                 None   \n",
       "12862  IP800380 verbetering RWK                 None   \n",
       "12863                    453138                 None   \n",
       "\n",
       "                                     WS_LEGGERBRON_COS_L  \\\n",
       "0                                                   None   \n",
       "1                                                   None   \n",
       "2                                                   None   \n",
       "3                                                   None   \n",
       "4                                                   None   \n",
       "...                                                  ...   \n",
       "12859                                               None   \n",
       "12860                                               None   \n",
       "12861  waterloop was op de legger cat-C tijdens vergu...   \n",
       "12862                                               None   \n",
       "12863                                               None   \n",
       "\n",
       "                                  WS_HYPERLINK_BESLUIT_L  SHAPE_Length  \\\n",
       "0                                                   None    103.786374   \n",
       "1                                                   None    159.245366   \n",
       "2                                                   None    211.357944   \n",
       "3                                                   None    565.948226   \n",
       "4                                                   None   1415.946440   \n",
       "...                                                  ...           ...   \n",
       "12859  https://zoek.officielebekendmakingen.nl/wsb-20...    230.941879   \n",
       "12860  https://zoek.officielebekendmakingen.nl/wsb-20...    562.094599   \n",
       "12861  https://zoek.officielebekendmakingen.nl/wsb-20...    405.070769   \n",
       "12862  https://zoek.officielebekendmakingen.nl/wsb-20...    512.689618   \n",
       "12863  https://zoek.officielebekendmakingen.nl/wsb-20...    331.549309   \n",
       "\n",
       "                                                geometry  \n",
       "0      MULTILINESTRING ((82178.821 382139.593, 82180....  \n",
       "1      MULTILINESTRING ((87960.311 397958.808, 87960....  \n",
       "2      MULTILINESTRING ((111124.488 396263.763, 11113...  \n",
       "3      MULTILINESTRING ((104001.385 404319.356, 10400...  \n",
       "4      MULTILINESTRING ((75046.141 401865.437, 75045....  \n",
       "...                                                  ...  \n",
       "12859  MULTILINESTRING ((127154.852 413725.971, 12715...  \n",
       "12860  MULTILINESTRING ((106839.183 406980.574, 10685...  \n",
       "12861  MULTILINESTRING ((98685.008 394485.756, 98680....  \n",
       "12862  MULTILINESTRING ((102983.931 404344.646, 10300...  \n",
       "12863  MULTILINESTRING ((109561.648 399619.577, 10956...  \n",
       "\n",
       "[12864 rows x 56 columns]"
      ]
     },
     "execution_count": 20,
     "metadata": {},
     "output_type": "execute_result"
    }
   ],
   "source": [
    "GDF_all"
   ]
  },
  {
   "cell_type": "markdown",
   "id": "09530835",
   "metadata": {},
   "source": [
    "## Calculate routing"
   ]
  },
  {
   "cell_type": "markdown",
   "id": "f186dfff",
   "metadata": {},
   "source": [
    "### Extract coordinates and identify downstream segments."
   ]
  },
  {
   "cell_type": "markdown",
   "id": "33957669",
   "metadata": {},
   "source": [
    "#### Create Xend and Yend columns"
   ]
  },
  {
   "cell_type": "code",
   "execution_count": 21,
   "id": "adbbbc78",
   "metadata": {},
   "outputs": [],
   "source": [
    "from shapely.geometry import MultiLineString"
   ]
  },
  {
   "cell_type": "code",
   "execution_count": 22,
   "id": "f100fa5f",
   "metadata": {},
   "outputs": [],
   "source": [
    "GDF_all['Xstart'] = GDF_all['geometry'].apply(lambda x: x.geoms[0].coords[0][0]) # Access X coorddinate of first point in first linestring\n",
    "GDF_all['Ystart'] = GDF_all['geometry'].apply(lambda x: x.geoms[0].coords[0][1])\n",
    "GDF_all['Xend'] = GDF_all['geometry'].apply(lambda x: x.geoms[0].coords[-1][0])\n",
    "GDF_all['Yend'] = GDF_all['geometry'].apply(lambda x: x.geoms[0].coords[-1][1])"
   ]
  },
  {
   "cell_type": "code",
   "execution_count": 23,
   "id": "afaac2ee",
   "metadata": {},
   "outputs": [
    {
     "name": "stdout",
     "output_type": "stream",
     "text": [
      "✓ Start and end coordinates extracted.\n"
     ]
    },
    {
     "data": {
      "text/html": [
       "<div>\n",
       "<style scoped>\n",
       "    .dataframe tbody tr th:only-of-type {\n",
       "        vertical-align: middle;\n",
       "    }\n",
       "\n",
       "    .dataframe tbody tr th {\n",
       "        vertical-align: top;\n",
       "    }\n",
       "\n",
       "    .dataframe thead th {\n",
       "        text-align: right;\n",
       "    }\n",
       "</style>\n",
       "<table border=\"1\" class=\"dataframe\">\n",
       "  <thead>\n",
       "    <tr style=\"text-align: right;\">\n",
       "      <th></th>\n",
       "      <th>CODE</th>\n",
       "      <th>Xstart</th>\n",
       "      <th>Ystart</th>\n",
       "      <th>Xend</th>\n",
       "      <th>Yend</th>\n",
       "    </tr>\n",
       "  </thead>\n",
       "  <tbody>\n",
       "    <tr>\n",
       "      <th>0</th>\n",
       "      <td>OVK12326</td>\n",
       "      <td>82178.8210</td>\n",
       "      <td>382139.5930</td>\n",
       "      <td>82211.0763</td>\n",
       "      <td>382230.8210</td>\n",
       "    </tr>\n",
       "    <tr>\n",
       "      <th>1</th>\n",
       "      <td>OVK21780</td>\n",
       "      <td>87960.3111</td>\n",
       "      <td>397958.8084</td>\n",
       "      <td>87987.8930</td>\n",
       "      <td>397803.1720</td>\n",
       "    </tr>\n",
       "    <tr>\n",
       "      <th>2</th>\n",
       "      <td>OVK02233</td>\n",
       "      <td>111124.4879</td>\n",
       "      <td>396263.7630</td>\n",
       "      <td>111286.6935</td>\n",
       "      <td>396369.1693</td>\n",
       "    </tr>\n",
       "    <tr>\n",
       "      <th>3</th>\n",
       "      <td>OVK07620</td>\n",
       "      <td>104001.3850</td>\n",
       "      <td>404319.3560</td>\n",
       "      <td>104532.9200</td>\n",
       "      <td>404493.5701</td>\n",
       "    </tr>\n",
       "    <tr>\n",
       "      <th>4</th>\n",
       "      <td>OVK05547</td>\n",
       "      <td>75046.1407</td>\n",
       "      <td>401865.4367</td>\n",
       "      <td>73901.1920</td>\n",
       "      <td>401618.4030</td>\n",
       "    </tr>\n",
       "  </tbody>\n",
       "</table>\n",
       "</div>"
      ],
      "text/plain": [
       "       CODE       Xstart       Ystart         Xend         Yend\n",
       "0  OVK12326   82178.8210  382139.5930   82211.0763  382230.8210\n",
       "1  OVK21780   87960.3111  397958.8084   87987.8930  397803.1720\n",
       "2  OVK02233  111124.4879  396263.7630  111286.6935  396369.1693\n",
       "3  OVK07620  104001.3850  404319.3560  104532.9200  404493.5701\n",
       "4  OVK05547   75046.1407  401865.4367   73901.1920  401618.4030"
      ]
     },
     "execution_count": 23,
     "metadata": {},
     "output_type": "execute_result"
    }
   ],
   "source": [
    "print(\"✓ Start and end coordinates extracted.\")\n",
    "l_coord_cols = ['CODE', 'Xstart', 'Ystart', 'Xend', 'Yend']\n",
    "GDF_all[l_coord_cols].head()"
   ]
  },
  {
   "cell_type": "markdown",
   "id": "c95cd85f",
   "metadata": {},
   "source": [
    "#### Limit X, Y to model area"
   ]
  },
  {
   "cell_type": "code",
   "execution_count": 24,
   "id": "379f79a5",
   "metadata": {},
   "outputs": [],
   "source": [
    "GDF = GDF_all[  ( (GDF_all['Xstart'].between(Xmin, Xmax, inclusive='both') | GDF_all['Xend'].between(Xmin, Xmax, inclusive='both') ) &\n",
    "              (GDF_all['Ystart'].between(Ymin, Ymax, inclusive='both') | GDF_all['Yend'].between(Ymin, Ymax, inclusive='both') ) ) ]"
   ]
  },
  {
   "cell_type": "code",
   "execution_count": 25,
   "id": "2d588b3a",
   "metadata": {},
   "outputs": [
    {
     "name": "stdout",
     "output_type": "stream",
     "text": [
      "✓ Lookup dictionary created with \u001b[1m583\u001b[0m entries.\n"
     ]
    }
   ],
   "source": [
    "# Create a lookup dictionary from start coordinates to CODE\n",
    "coord_to_id = {(row.Xstart, row.Ystart): (row.CODE, row.OBJECTID) for row in GDF.itertuples()}\n",
    "\n",
    "print(f\"✓ Lookup dictionary created with {bold}{len(coord_to_id)}{style_reset} entries.\")"
   ]
  },
  {
   "cell_type": "markdown",
   "id": "5d91cffd",
   "metadata": {},
   "source": [
    "The number of features selected in QGIS (within model area) is 562, which suprisingly is bigger than 556. We'll continue without investigating further for now."
   ]
  },
  {
   "cell_type": "markdown",
   "id": "61af3f1b",
   "metadata": {},
   "source": [
    "#### Identify downstream"
   ]
  },
  {
   "cell_type": "code",
   "execution_count": 26,
   "id": "b69aff0a",
   "metadata": {},
   "outputs": [
    {
     "name": "stdout",
     "output_type": "stream",
     "text": [
      "✓ 'DStr' columns calculated.\n"
     ]
    }
   ],
   "source": [
    "# Function to find the downstream ID\n",
    "def get_DStr(row):\n",
    "    end_coords = (row.Xend, row.Yend)\n",
    "    result = coord_to_id.get(end_coords, (0, 0))\n",
    "    return result\n",
    "\n",
    "# Apply the function to create the 'DStr' column\n",
    "GDF[['DStr_code', 'DStr_ID']] = GDF.apply(get_DStr, axis=1, result_type='expand')\n",
    "\n",
    "print(\"✓ 'DStr' columns calculated.\")"
   ]
  },
  {
   "cell_type": "code",
   "execution_count": 27,
   "id": "6ae695c5",
   "metadata": {},
   "outputs": [
    {
     "name": "stdout",
     "output_type": "stream",
     "text": [
      "9.48 % of DStrs are 0 (i.e. no start coordinates match the end coordinates of the current node).\n"
     ]
    }
   ],
   "source": [
    "print(f'{round(GDF['DStr_code'].value_counts().max()/GDF.shape[0]*100, 2)} % of DStrs are 0 (i.e. no start coordinates match the end coordinates of the current node).')"
   ]
  },
  {
   "cell_type": "markdown",
   "id": "47a844d5",
   "metadata": {},
   "source": [
    "The percentage is bigger than expected. Let's investigate."
   ]
  },
  {
   "cell_type": "markdown",
   "id": "520e5632",
   "metadata": {},
   "source": [
    "### Investigate segments that failed to connect"
   ]
  },
  {
   "cell_type": "markdown",
   "id": "75329381",
   "metadata": {},
   "source": [
    "#### Check out number of matches/no matches"
   ]
  },
  {
   "cell_type": "code",
   "execution_count": 28,
   "id": "acd213e0",
   "metadata": {},
   "outputs": [
    {
     "data": {
      "text/plain": [
       "DStr_code\n",
       "0           56\n",
       "OVK03070     3\n",
       "OVK11688     3\n",
       "OVK02834     2\n",
       "OVK01661     2\n",
       "            ..\n",
       "OVK02106     1\n",
       "OVK02327     1\n",
       "OVK01633     1\n",
       "OVK01349     1\n",
       "OVK01433     1\n",
       "Name: count, Length: 451, dtype: int64"
      ]
     },
     "execution_count": 28,
     "metadata": {},
     "output_type": "execute_result"
    }
   ],
   "source": [
    "GDF['DStr_match'] = GDF['DStr_code'].isin(GDF['CODE'])\n",
    "GDF['DStr_code'].value_counts()"
   ]
  },
  {
   "cell_type": "markdown",
   "id": "ed0935b3",
   "metadata": {},
   "source": [
    "It makes sense that most nodes have just a few upstream nodes. 56 nodes are not connected."
   ]
  },
  {
   "cell_type": "code",
   "execution_count": 29,
   "id": "019adbe9",
   "metadata": {},
   "outputs": [
    {
     "data": {
      "text/plain": [
       "DStr_match\n",
       "True     535\n",
       "False     56\n",
       "Name: count, dtype: int64"
      ]
     },
     "execution_count": 29,
     "metadata": {},
     "output_type": "execute_result"
    }
   ],
   "source": [
    "GDF['DStr_match'].value_counts()"
   ]
  },
  {
   "cell_type": "markdown",
   "id": "7822adee",
   "metadata": {},
   "source": [
    "#### Calculate min distance from start to any reach's end and investigate no matches."
   ]
  },
  {
   "cell_type": "code",
   "execution_count": 30,
   "id": "99da0031",
   "metadata": {},
   "outputs": [],
   "source": [
    "GDF['min_Dist'] = 0.0\n",
    "GDF.loc[GDF['DStr_code'] == 0, 'min_Dist'] = GDF.loc[GDF['DStr_code'] == 0].apply(lambda row: C.c_Dist(row['Xend'], row['Yend'], GDF['Xstart'], GDF['Ystart']).min(), axis=1)"
   ]
  },
  {
   "cell_type": "code",
   "execution_count": 31,
   "id": "65e84c7c",
   "metadata": {},
   "outputs": [],
   "source": [
    "N_total_no_match = (GDF['DStr_code'] == 0).sum()"
   ]
  },
  {
   "cell_type": "code",
   "execution_count": 32,
   "id": "59b6168f",
   "metadata": {},
   "outputs": [
    {
     "data": {
      "text/plain": [
       "count     56.000000\n",
       "mean      50.930158\n",
       "std      119.328808\n",
       "min        0.000100\n",
       "25%        0.000100\n",
       "50%        0.000241\n",
       "75%       10.010838\n",
       "max      564.173123\n",
       "Name: min_Dist, dtype: float64"
      ]
     },
     "execution_count": 32,
     "metadata": {},
     "output_type": "execute_result"
    }
   ],
   "source": [
    "GDF.loc[GDF['DStr_match']==False,'min_Dist'].describe()"
   ]
  },
  {
   "cell_type": "code",
   "execution_count": 33,
   "id": "a025722d",
   "metadata": {},
   "outputs": [
    {
     "name": "stdout",
     "output_type": "stream",
     "text": [
      "Out of the 56 segments that do not match:\n",
      "-     0 < min_Dist <= 0.001 |N:     37 (+   37) ( 66.1 %) | Codes: ['OVK02919:   0.0001', 'OVK02936:   0.0001', 'OVK02055:   0.0001', 'OVK02089:   0.0001', 'OVK01666:   0.0001', 'OVK20480:   0.0001', 'OVK20466:   0.0001', 'OVK02235:   0.0001', 'OVK00961:   0.0001', 'OVK20990:   0.0001', 'OVK01440:   0.0001', 'OVK00937:   0.0001', 'OVK01445:   0.0001', 'OVK00976:   0.0001', 'OVK01793:   0.0001', 'OVK01694:   0.0001', 'OVK02909:   0.0001', 'OVK00907:   0.0001', 'OVK01716:   0.0001', 'OVK01492:   0.0001', 'OVK02214:   0.0001', 'OVK00960:   0.0001', 'OVK00965:   0.0001', 'OVK01537:   0.0001', 'OVK02101:   0.0001', 'OVK01675:   0.0001', 'OVK02326:   0.0001', 'OVK01803:   0.0002', 'OVK20449:   0.0003', 'OVK02098:   0.0003', 'OVK22007:   0.0003', 'OVK01674:   0.0004', 'OVK00975:   0.0005', 'OVK01717:   0.0006', 'OVK11693:   0.0006', 'OVK00974:   0.0006', 'OVK11686:   0.0010']\n",
      "\n",
      "- 0.001 < min_Dist <=   0.1 |N:     41 (+    4) ( 73.2 %) | Codes: ['OVK02106:   0.0061', 'OVK02109:   0.0067', 'OVK20460:   0.0474', 'OVK00979:   0.0894']\n",
      "\n",
      "-   0.1 < min_Dist <=     1 |N:     42 (+    1) ( 75.0 %) | Codes: ['OVK01667:   0.5880']\n",
      "\n",
      "-     1 < min_Dist <=    10 |N:     42 (+    0) ( 75.0 %) | Codes: []\n",
      "\n",
      "-    10 < min_Dist <=   100 |N:     47 (+    5) ( 83.9 %) | Codes: ['OVK11551:  38.2794', 'OVK02333:  56.2029', 'OVK02160:  70.1709', 'OVK02830:  70.1709', 'OVK01792:  84.2079']\n",
      "\n",
      "-   100 < min_Dist <=  1000 |N:     56 (+    9) (100.0 %) | Codes: ['OVK02242: 103.0596', 'OVK02238: 133.9487', 'OVK02121: 158.3277', 'OVK01807: 192.3580', 'OVK03078: 227.1055', 'OVK02887: 360.4249', 'OVK02933: 364.0876', 'OVK01682: 428.8265', 'OVK00416: 564.1731']\n",
      "\n",
      "-  1000 < min_Dist <= 10000 |N:     56 (+    0) (100.0 %) | Codes: []\n",
      "\n"
     ]
    }
   ],
   "source": [
    "l_Vals = [0.001, 0.1, 1, 10, 100, 1000, 10000]\n",
    "\n",
    "print(f'Out of the {N_total_no_match} segments that do not match:')\n",
    "\n",
    "N_below_Prv, Val_Prv = 0, 0\n",
    "for v in l_Vals:\n",
    "    N_below = (GDF.loc[GDF['DStr_match']==False,'min_Dist'] <= v).sum()\n",
    "    P_below = round(N_below / N_total_no_match * 100, 2)\n",
    "    \n",
    "    sample_gdf = GDF.loc[(GDF['min_Dist'] > Val_Prv) & (GDF['min_Dist'] <= v), ['CODE', 'min_Dist']].sort_values(by='min_Dist')\n",
    "    sample_gdf['Code:min_Dist'] = sample_gdf.apply(lambda row: f\"{row['CODE']}: {row['min_Dist']:8.4f}\", axis=1)\n",
    "    sample_gdf = sample_gdf['Code:min_Dist']\n",
    "    example_nodes = sample_gdf.iloc[:].tolist()\n",
    "\n",
    "    print(f'-{Val_Prv:6} < min_Dist <= {v:5} |N: {N_below:6} (+ {(N_below - N_below_Prv):4}) ({round(P_below,1):5} %) | Codes: {example_nodes}\\n')\n",
    "\n",
    "    N_below_Prv, Val_Prv = N_below, v"
   ]
  },
  {
   "cell_type": "markdown",
   "id": "e83d4823",
   "metadata": {},
   "source": [
    "The total number of segments that do not match is too high to check them all, but we'll check some cases. Check C:\\OD\\WS_Mdl\\Mng\\Mdl_Ipvs.xlsx/WBD_SHP_Eval for more info."
   ]
  },
  {
   "cell_type": "markdown",
   "id": "1c27497e",
   "metadata": {},
   "source": [
    "The ones <1m can be attributed to closing errors, and we can connect them to the closest one via an algorithm.<br>Let's print out the names of the bigger differences, so that we can check them in QGIS."
   ]
  },
  {
   "cell_type": "code",
   "execution_count": 34,
   "id": "728422c1",
   "metadata": {},
   "outputs": [
    {
     "data": {
      "text/html": [
       "<div>\n",
       "<style scoped>\n",
       "    .dataframe tbody tr th:only-of-type {\n",
       "        vertical-align: middle;\n",
       "    }\n",
       "\n",
       "    .dataframe tbody tr th {\n",
       "        vertical-align: top;\n",
       "    }\n",
       "\n",
       "    .dataframe thead th {\n",
       "        text-align: right;\n",
       "    }\n",
       "</style>\n",
       "<table border=\"1\" class=\"dataframe\">\n",
       "  <thead>\n",
       "    <tr style=\"text-align: right;\">\n",
       "      <th></th>\n",
       "      <th>CODE</th>\n",
       "      <th>min_Dist</th>\n",
       "    </tr>\n",
       "  </thead>\n",
       "  <tbody>\n",
       "    <tr>\n",
       "      <th>0</th>\n",
       "      <td>OVK11551</td>\n",
       "      <td>38.279426</td>\n",
       "    </tr>\n",
       "    <tr>\n",
       "      <th>1</th>\n",
       "      <td>OVK02333</td>\n",
       "      <td>56.202931</td>\n",
       "    </tr>\n",
       "    <tr>\n",
       "      <th>2</th>\n",
       "      <td>OVK02160</td>\n",
       "      <td>70.170908</td>\n",
       "    </tr>\n",
       "    <tr>\n",
       "      <th>3</th>\n",
       "      <td>OVK02830</td>\n",
       "      <td>70.170908</td>\n",
       "    </tr>\n",
       "    <tr>\n",
       "      <th>4</th>\n",
       "      <td>OVK01792</td>\n",
       "      <td>84.207934</td>\n",
       "    </tr>\n",
       "  </tbody>\n",
       "</table>\n",
       "</div>"
      ],
      "text/plain": [
       "       CODE   min_Dist\n",
       "0  OVK11551  38.279426\n",
       "1  OVK02333  56.202931\n",
       "2  OVK02160  70.170908\n",
       "3  OVK02830  70.170908\n",
       "4  OVK01792  84.207934"
      ]
     },
     "execution_count": 34,
     "metadata": {},
     "output_type": "execute_result"
    }
   ],
   "source": [
    "GDF.loc[GDF['min_Dist'].between(10,100, inclusive='right'), ['CODE', 'min_Dist']].sort_values(by='min_Dist').reset_index(drop=True)"
   ]
  },
  {
   "cell_type": "markdown",
   "id": "4fa4e228",
   "metadata": {},
   "source": [
    "- **OVK11551**: -- TO BE CORRECTED -- is an anomaly, as it attaches to a very long feature, far from the final start and end.\n",
    "- **OVK02333**: -- IGNORE -- ends outside the model, so there is no feature to connect to.\n",
    "- **OVK02830** & **OVK02160**: -- IGNORE -- are in the same spot. one of them is straight, the other one circles around, and they both end outside the model.\n",
    "- **OVK01792**: -- IGNORE -- also ends outside the model."
   ]
  },
  {
   "cell_type": "code",
   "execution_count": 35,
   "id": "59a7f7c5",
   "metadata": {},
   "outputs": [
    {
     "data": {
      "text/html": [
       "<div>\n",
       "<style scoped>\n",
       "    .dataframe tbody tr th:only-of-type {\n",
       "        vertical-align: middle;\n",
       "    }\n",
       "\n",
       "    .dataframe tbody tr th {\n",
       "        vertical-align: top;\n",
       "    }\n",
       "\n",
       "    .dataframe thead th {\n",
       "        text-align: right;\n",
       "    }\n",
       "</style>\n",
       "<table border=\"1\" class=\"dataframe\">\n",
       "  <thead>\n",
       "    <tr style=\"text-align: right;\">\n",
       "      <th></th>\n",
       "      <th>CODE</th>\n",
       "      <th>min_Dist</th>\n",
       "    </tr>\n",
       "  </thead>\n",
       "  <tbody>\n",
       "    <tr>\n",
       "      <th>0</th>\n",
       "      <td>OVK02242</td>\n",
       "      <td>103.059615</td>\n",
       "    </tr>\n",
       "    <tr>\n",
       "      <th>1</th>\n",
       "      <td>OVK02238</td>\n",
       "      <td>133.948685</td>\n",
       "    </tr>\n",
       "    <tr>\n",
       "      <th>2</th>\n",
       "      <td>OVK02121</td>\n",
       "      <td>158.327719</td>\n",
       "    </tr>\n",
       "    <tr>\n",
       "      <th>3</th>\n",
       "      <td>OVK01807</td>\n",
       "      <td>192.357958</td>\n",
       "    </tr>\n",
       "    <tr>\n",
       "      <th>4</th>\n",
       "      <td>OVK03078</td>\n",
       "      <td>227.105468</td>\n",
       "    </tr>\n",
       "    <tr>\n",
       "      <th>5</th>\n",
       "      <td>OVK02887</td>\n",
       "      <td>360.424861</td>\n",
       "    </tr>\n",
       "    <tr>\n",
       "      <th>6</th>\n",
       "      <td>OVK02933</td>\n",
       "      <td>364.087586</td>\n",
       "    </tr>\n",
       "    <tr>\n",
       "      <th>7</th>\n",
       "      <td>OVK01682</td>\n",
       "      <td>428.826538</td>\n",
       "    </tr>\n",
       "    <tr>\n",
       "      <th>8</th>\n",
       "      <td>OVK00416</td>\n",
       "      <td>564.173123</td>\n",
       "    </tr>\n",
       "  </tbody>\n",
       "</table>\n",
       "</div>"
      ],
      "text/plain": [
       "       CODE    min_Dist\n",
       "0  OVK02242  103.059615\n",
       "1  OVK02238  133.948685\n",
       "2  OVK02121  158.327719\n",
       "3  OVK01807  192.357958\n",
       "4  OVK03078  227.105468\n",
       "5  OVK02887  360.424861\n",
       "6  OVK02933  364.087586\n",
       "7  OVK01682  428.826538\n",
       "8  OVK00416  564.173123"
      ]
     },
     "execution_count": 35,
     "metadata": {},
     "output_type": "execute_result"
    }
   ],
   "source": [
    "GDF.loc[GDF['min_Dist'].between(100,1000, inclusive='right'), ['CODE', 'min_Dist']].sort_values(by='min_Dist').reset_index(drop=True)"
   ]
  },
  {
   "cell_type": "markdown",
   "id": "df297302",
   "metadata": {},
   "source": [
    "- **OVK02242**: --- IGNORE --- ends outside the model and doesn't have any impact on Chaamse Beek \n",
    "- **OVK02238**: --- IGNORE --- ends outside the model and doesn't have any impact on Chaamse Beek \n",
    "- **OVK02121**: --- IGNORE --- ends outside the model and doesn't have any impact on Chaamse Beek \n",
    "- **OVK01807**: --- IGNORE --- ends outside the model and doesn't have any impact on Chaamse Beek \n",
    "- **OVK03078**: --- IGNORE --- ends outside the model and doesn't have any impact on Chaamse Beek \n",
    "- **OVK02887**: --- IGNORE --- ends outside the model and doesn't have any impact on Chaamse Beek (final Mark outled outside MdlAa) \n",
    "- **OVK02933**: --- IGNORE --- ends outside the model and doesn't have any impact on Chaamse Beek \n",
    "- **OVK01682**: --- IGNORE --- ends outside the model and doesn't have any impact on Chaamse Beek \n",
    "- **OVK00416**: --- IGNORE --- ends outside the model and doesn't have any impact on Chaamse Beek \n"
   ]
  },
  {
   "cell_type": "markdown",
   "id": "c9d0f42f",
   "metadata": {},
   "source": [
    "### Edit connections"
   ]
  },
  {
   "cell_type": "code",
   "execution_count": 36,
   "id": "e40560e3",
   "metadata": {},
   "outputs": [
    {
     "name": "stdout",
     "output_type": "stream",
     "text": [
      "Found 42 segments with no downstream connection and a potential connection within 1m.\n",
      "✓ Corrected 41 segments by updating 'DStr_code' and 'DStr_ID'.\n",
      "✓ Found 1 segments with multiple potential connections (stored in 'multiple_close').\n",
      "✓ Corrected 41 segments by updating 'DStr_code' and 'DStr_ID'.\n",
      "✓ Found 1 segments with multiple potential connections (stored in 'multiple_close').\n"
     ]
    }
   ],
   "source": [
    "# Initialize the 'multiple_close' column with empty strings\n",
    "GDF['multiple_close'] = \"\"\n",
    "\n",
    "# Select rows to correct\n",
    "rows_to_correct = GDF[(GDF['DStr_code'] == 0) & (GDF['min_Dist'] < 1)].copy()\n",
    "\n",
    "print(f\"Found {len(rows_to_correct)} segments with no downstream connection and a potential connection within 1m.\")\n",
    "\n",
    "# Create a Series of all start coordinates for faster access\n",
    "all_starts_x = GDF['Xstart']\n",
    "all_starts_y = GDF['Ystart']\n",
    "all_codes = GDF['CODE']\n",
    "all_object_ids = GDF['OBJECTID']\n",
    "\n",
    "corrected_count = 0\n",
    "multiple_count = 0\n",
    "\n",
    "# Loop through the rows that need correction\n",
    "for index, row in rows_to_correct.iterrows():\n",
    "    # Calculate distances from the current row's end point to all other rows' start points\n",
    "    distances = C.c_Dist(row['Xend'], row['Yend'], all_starts_x, all_starts_y)\n",
    "    \n",
    "    # Find segments where the distance is less than 1m\n",
    "    close_mask = (distances < 1) & (GDF.index != index) # Exclude self\n",
    "    close_segments_codes = all_codes[close_mask].tolist()\n",
    "    close_segments_object_ids = all_object_ids[close_mask].tolist()\n",
    "    \n",
    "    if len(close_segments_codes) == 1:\n",
    "        # If there is exactly one close segment, update both 'DStr_code' and 'DStr_ID'\n",
    "        GDF.loc[index, 'DStr_code'] = close_segments_codes[0]\n",
    "        GDF.loc[index, 'DStr_ID'] = close_segments_object_ids[0]\n",
    "        corrected_count += 1\n",
    "    elif len(close_segments_codes) > 1:\n",
    "        # If there are multiple close segments, store as comma-separated string\n",
    "        GDF.loc[index, 'multiple_close'] = \", \".join(close_segments_codes)\n",
    "        multiple_count += 1\n",
    "\n",
    "print(f\"✓ Corrected {corrected_count} segments by updating 'DStr_code' and 'DStr_ID'.\")\n",
    "print(f\"✓ Found {multiple_count} segments with multiple potential connections (stored in 'multiple_close').\")"
   ]
  },
  {
   "cell_type": "code",
   "execution_count": 37,
   "id": "b01686e1",
   "metadata": {},
   "outputs": [
    {
     "data": {
      "text/html": [
       "<div>\n",
       "<style scoped>\n",
       "    .dataframe tbody tr th:only-of-type {\n",
       "        vertical-align: middle;\n",
       "    }\n",
       "\n",
       "    .dataframe tbody tr th {\n",
       "        vertical-align: top;\n",
       "    }\n",
       "\n",
       "    .dataframe thead th {\n",
       "        text-align: right;\n",
       "    }\n",
       "</style>\n",
       "<table border=\"1\" class=\"dataframe\">\n",
       "  <thead>\n",
       "    <tr style=\"text-align: right;\">\n",
       "      <th></th>\n",
       "      <th>CODE</th>\n",
       "      <th>multiple_close</th>\n",
       "    </tr>\n",
       "  </thead>\n",
       "  <tbody>\n",
       "    <tr>\n",
       "      <th>3533</th>\n",
       "      <td>OVK00976</td>\n",
       "      <td>OVK00977, OVK01474</td>\n",
       "    </tr>\n",
       "  </tbody>\n",
       "</table>\n",
       "</div>"
      ],
      "text/plain": [
       "          CODE      multiple_close\n",
       "3533  OVK00976  OVK00977, OVK01474"
      ]
     },
     "execution_count": 37,
     "metadata": {},
     "output_type": "execute_result"
    }
   ],
   "source": [
    "GDF.loc[GDF['multiple_close']!='', ['CODE', 'multiple_close']].sort_values(by='multiple_close', ascending=False)"
   ]
  },
  {
   "cell_type": "markdown",
   "id": "a4f0209f",
   "metadata": {},
   "source": [
    "This is an upstremost segment that's really small, so it doesn't matter much where it connects to. We'll connect it to one of the two downstream segments at random."
   ]
  },
  {
   "cell_type": "code",
   "execution_count": 38,
   "id": "b17f30dc",
   "metadata": {},
   "outputs": [],
   "source": [
    "GDF.loc[GDF['CODE']=='OVK00976', ['DStr_code', 'DStr_ID']] = ['OVK00977', GDF.loc[GDF['CODE']=='OVK00977', 'OBJECTID'].values[0]]"
   ]
  },
  {
   "cell_type": "markdown",
   "id": "ec898dbb",
   "metadata": {},
   "source": [
    "Let's also fix OVK11551, which connects to that very long segment (OVK03013), far from either end."
   ]
  },
  {
   "cell_type": "code",
   "execution_count": 39,
   "id": "25d872a0",
   "metadata": {},
   "outputs": [],
   "source": [
    "GDF.loc[GDF['CODE']=='OVK11551', ['DStr_code', 'DStr_ID']] = ['OVK03013', GDF.loc[GDF['CODE']=='OVK03013', 'OBJECTID'].values[0]]"
   ]
  },
  {
   "cell_type": "markdown",
   "id": "49215580",
   "metadata": {},
   "source": [
    "## Explore GDF to Fill SFRmaker Input data requirements"
   ]
  },
  {
   "cell_type": "markdown",
   "id": "560b5dc0",
   "metadata": {},
   "source": [
    "#### Custom Hydrography Required Fields"
   ]
  },
  {
   "cell_type": "markdown",
   "id": "9c9d78be",
   "metadata": {},
   "source": [
    "Below, we'll match the shapefile attributes to the SFRmaker requirements as per SFRmaker manual ( https://doi-usgs.github.io/sfrmaker/latest/inputs.html):\n",
    "\n",
    "**Custom hydrography** <br>\n",
    "Any Polyline shapefile can be supplied in lieu of NHDPlus, but it must have the following columns, as shown in the second example:\n",
    "1. **flowlines_file**: path to shapefile\n",
    "2. **id_column**: unique identifier for each polyline\n",
    "3. **routing_column**: downstream connection (ID), 0 if none\n",
    "4. **width1_column**: channel width at start of line, in attr\\_length\\_units (optional)\n",
    "5. **width2_column**: channel width at end of line, in attr_length_units (optional)\n",
    "6. **up_elevation_column**: streambed elevation at start of line, in attr_height_units\n",
    "7. **dn_elevation_column**: streambed elevation at end of line, in attr_height_units\n",
    "8. **name_column**: stream name (optional)\n",
    "9. **attr_length_units**: channel width units\n",
    "10. **attr_height_units**: streambed elevation units"
   ]
  },
  {
   "cell_type": "markdown",
   "id": "6d6b3d88",
   "metadata": {},
   "source": [
    "Here are the columns of the GDF, so we can match them to the SFRmaker requirements:"
   ]
  },
  {
   "cell_type": "code",
   "execution_count": 40,
   "id": "3f9998e4",
   "metadata": {},
   "outputs": [
    {
     "name": "stdout",
     "output_type": "stream",
     "text": [
      "0: OBJECTID\n",
      "1: CODE\n",
      "2: WS_STATUS_L\n",
      "3: WS_LEGGERCATEGORIE_L\n",
      "4: WS_LEGGERBRON_L\n",
      "5: DATUM_VASTGESTELD\n",
      "6: LEGGER_KENMERK\n",
      "7: WS_ONDERHOUDSPLICHTIGE_L\n",
      "8: WS_ONDERHOUDSPLICHT_L\n",
      "9: WS_BODEMBREEDTE_L\n",
      "10: WS_BH_BOVENSTROOMS_L\n",
      "11: WS_BH_BENEDENSTROOMS_L\n",
      "12: WS_BODBREE_ACCPROF_LI_L\n",
      "13: WS_BODBREE_ACCPROF_RE_L\n",
      "14: WS_HGT_INSTEEK_LI_L\n",
      "15: WS_HGT_INSTEEK_RE_L\n",
      "16: WS_BHGT_ACCPROF_LI_L\n",
      "17: WS_BHGT_ACCPROF_RE_L\n",
      "18: WS_TALUD_LINKS_L\n",
      "19: WS_TALUD_RECHTS_L\n",
      "20: WS_TALUD_ACCPROF_LI_L\n",
      "21: WS_TALUD_ACCPROF_RE_L\n",
      "22: WS_ONDERWATERTALUD_LI_L\n",
      "23: WS_ONDERWATERTALUD_RE_L\n",
      "24: WS_HGT_BESCHOEIING_LI_L\n",
      "25: WS_HGT_BESCHOEIING_RE_L\n",
      "26: WS_HGT_ONDERK_BES_LI_L\n",
      "27: WS_HGT_ONDERK_BES_RE_L\n",
      "28: WS_HGT_INSTEEK_ACCPROF_LI_L\n",
      "29: WS_HGT_INSTEEK_ACCPROF_RE_L\n",
      "30: WS_BIJZ_FUNCTIE_L\n",
      "31: WS_INHOUD_RETENTIE_L\n",
      "32: WS_LENGTE_L\n",
      "33: WS_OPW_BIJZ_PROF_L\n",
      "34: WS_VW_BODEMBREEDTE_L\n",
      "35: WS_VW_BH_BOVENSTROOMS_L\n",
      "36: WS_VW_BH_BENEDENSTROOMS_L\n",
      "37: WS_VW_TALUD_LINKS_L\n",
      "38: WS_VW_TALUD_RECHTS_L\n",
      "39: WS_VW_BIJZ_PROF_L\n",
      "40: WIJZIGING\n",
      "41: SE_ANNO_CAD_DATA\n",
      "42: CREATED_USER\n",
      "43: CREATED_DATE\n",
      "44: LAST_EDITED_USER\n",
      "45: LAST_EDITED_DATE\n",
      "46: WS_OMSCHRIJVING_TRAJECT_L\n",
      "47: WS_LEGGERVERWIJZING_L\n",
      "48: WS_HYPERLINK_PRO_OPW_L\n",
      "49: WS_HYPERLINK_PRO_VW_L\n",
      "50: WS_LEGGERBRON_OMW_L\n",
      "51: WS_LEGGERBRON_WAW_L\n",
      "52: WS_LEGGERBRON_COS_L\n",
      "53: WS_HYPERLINK_BESLUIT_L\n",
      "54: SHAPE_Length\n",
      "55: geometry\n",
      "56: Xstart\n",
      "57: Ystart\n",
      "58: Xend\n",
      "59: Yend\n",
      "60: DStr_code\n",
      "61: DStr_ID\n",
      "62: DStr_match\n",
      "63: min_Dist\n",
      "64: multiple_close\n"
     ]
    }
   ],
   "source": [
    "for i, col in enumerate(GDF.columns):\n",
    "    print(f\"{i}: {col}\")"
   ]
  },
  {
   "cell_type": "markdown",
   "id": "c3d89065",
   "metadata": {},
   "source": [
    "#### 1. flowlines_file will definitely be Pa_GPkg_1ry "
   ]
  },
  {
   "cell_type": "markdown",
   "id": "05cbe04f",
   "metadata": {},
   "source": [
    "#### 2. & 3. will most likely be 'OBJECTID' & 'DStr_ID'."
   ]
  },
  {
   "cell_type": "markdown",
   "id": "8f68da2e",
   "metadata": {},
   "source": [
    "But let's ensure there are no nulls and use the .describe() method to check more details"
   ]
  },
  {
   "cell_type": "code",
   "execution_count": 41,
   "id": "c9f7b439",
   "metadata": {},
   "outputs": [
    {
     "data": {
      "text/plain": [
       "OBJECTID    0\n",
       "DStr_ID     0\n",
       "dtype: int64"
      ]
     },
     "execution_count": 41,
     "metadata": {},
     "output_type": "execute_result"
    }
   ],
   "source": [
    "GDF[['OBJECTID', 'DStr_ID']].isna().sum()"
   ]
  },
  {
   "cell_type": "code",
   "execution_count": 42,
   "id": "57ced383",
   "metadata": {},
   "outputs": [
    {
     "data": {
      "text/html": [
       "<div>\n",
       "<style scoped>\n",
       "    .dataframe tbody tr th:only-of-type {\n",
       "        vertical-align: middle;\n",
       "    }\n",
       "\n",
       "    .dataframe tbody tr th {\n",
       "        vertical-align: top;\n",
       "    }\n",
       "\n",
       "    .dataframe thead th {\n",
       "        text-align: right;\n",
       "    }\n",
       "</style>\n",
       "<table border=\"1\" class=\"dataframe\">\n",
       "  <thead>\n",
       "    <tr style=\"text-align: right;\">\n",
       "      <th></th>\n",
       "      <th>CODE</th>\n",
       "      <th>OBJECTID</th>\n",
       "      <th>DStr_code</th>\n",
       "      <th>DStr_ID</th>\n",
       "    </tr>\n",
       "  </thead>\n",
       "  <tbody>\n",
       "    <tr>\n",
       "      <th>count</th>\n",
       "      <td>591</td>\n",
       "      <td>591.000000</td>\n",
       "      <td>591.0</td>\n",
       "      <td>591.00000</td>\n",
       "    </tr>\n",
       "    <tr>\n",
       "      <th>unique</th>\n",
       "      <td>591</td>\n",
       "      <td>NaN</td>\n",
       "      <td>487.0</td>\n",
       "      <td>NaN</td>\n",
       "    </tr>\n",
       "    <tr>\n",
       "      <th>top</th>\n",
       "      <td>OVK01308</td>\n",
       "      <td>NaN</td>\n",
       "      <td>0.0</td>\n",
       "      <td>NaN</td>\n",
       "    </tr>\n",
       "    <tr>\n",
       "      <th>freq</th>\n",
       "      <td>1</td>\n",
       "      <td>NaN</td>\n",
       "      <td>13.0</td>\n",
       "      <td>NaN</td>\n",
       "    </tr>\n",
       "    <tr>\n",
       "      <th>mean</th>\n",
       "      <td>NaN</td>\n",
       "      <td>6246.402707</td>\n",
       "      <td>NaN</td>\n",
       "      <td>6174.41286</td>\n",
       "    </tr>\n",
       "    <tr>\n",
       "      <th>std</th>\n",
       "      <td>NaN</td>\n",
       "      <td>3976.475789</td>\n",
       "      <td>NaN</td>\n",
       "      <td>4026.85889</td>\n",
       "    </tr>\n",
       "    <tr>\n",
       "      <th>min</th>\n",
       "      <td>NaN</td>\n",
       "      <td>15.000000</td>\n",
       "      <td>NaN</td>\n",
       "      <td>0.00000</td>\n",
       "    </tr>\n",
       "    <tr>\n",
       "      <th>25%</th>\n",
       "      <td>NaN</td>\n",
       "      <td>2359.500000</td>\n",
       "      <td>NaN</td>\n",
       "      <td>2213.00000</td>\n",
       "    </tr>\n",
       "    <tr>\n",
       "      <th>50%</th>\n",
       "      <td>NaN</td>\n",
       "      <td>7167.000000</td>\n",
       "      <td>NaN</td>\n",
       "      <td>7082.00000</td>\n",
       "    </tr>\n",
       "    <tr>\n",
       "      <th>75%</th>\n",
       "      <td>NaN</td>\n",
       "      <td>8832.000000</td>\n",
       "      <td>NaN</td>\n",
       "      <td>8856.00000</td>\n",
       "    </tr>\n",
       "    <tr>\n",
       "      <th>max</th>\n",
       "      <td>NaN</td>\n",
       "      <td>12856.000000</td>\n",
       "      <td>NaN</td>\n",
       "      <td>12856.00000</td>\n",
       "    </tr>\n",
       "  </tbody>\n",
       "</table>\n",
       "</div>"
      ],
      "text/plain": [
       "            CODE      OBJECTID  DStr_code      DStr_ID\n",
       "count        591    591.000000      591.0    591.00000\n",
       "unique       591           NaN      487.0          NaN\n",
       "top     OVK01308           NaN        0.0          NaN\n",
       "freq           1           NaN       13.0          NaN\n",
       "mean         NaN   6246.402707        NaN   6174.41286\n",
       "std          NaN   3976.475789        NaN   4026.85889\n",
       "min          NaN     15.000000        NaN      0.00000\n",
       "25%          NaN   2359.500000        NaN   2213.00000\n",
       "50%          NaN   7167.000000        NaN   7082.00000\n",
       "75%          NaN   8832.000000        NaN   8856.00000\n",
       "max          NaN  12856.000000        NaN  12856.00000"
      ]
     },
     "execution_count": 42,
     "metadata": {},
     "output_type": "execute_result"
    }
   ],
   "source": [
    "GDF[['CODE', 'OBJECTID', 'DStr_code', 'DStr_ID']].describe(include='all')"
   ]
  },
  {
   "cell_type": "code",
   "execution_count": 43,
   "id": "205cee37",
   "metadata": {},
   "outputs": [
    {
     "data": {
      "text/plain": [
       "np.int64(13)"
      ]
     },
     "execution_count": 43,
     "metadata": {},
     "output_type": "execute_result"
    }
   ],
   "source": [
    "GDF.loc[GDF['DStr_ID']==0, 'DStr_ID'].count()"
   ]
  },
  {
   "cell_type": "markdown",
   "id": "0fe3b4cb",
   "metadata": {},
   "source": [
    "Great. No nuls and 13 DStr_codes with no downstream connection ('DStr'==0) (9 with min_Dist between 100 and 1000, + 5 with min_Dist betwen 10 and 100, -1, that we connected to the meandering long segment)."
   ]
  },
  {
   "cell_type": "markdown",
   "id": "b26f4064",
   "metadata": {},
   "source": [
    "#### 4. & 5. Widths (at start and end)"
   ]
  },
  {
   "cell_type": "markdown",
   "id": "53174b56",
   "metadata": {},
   "source": [
    "There are 4 candidates for those fields:\n",
    "- 'WS_BODEMBREEDTE_L' (channel bed width)\n",
    "- 'WS_BODBREE_ACCPROF_LI_L' (Accepted profile bottom width (left) (m))\n",
    "- 'WS_BODBREE_ACCPROF_RE_L' (Accepted profile bottom width (right) (m))\n",
    "- 'WS_VW_BODEMBREEDTE_L' (Prescribed bottom width (voorwaarde) (m))\n",
    "\n",
    "Let's compare the values. We can probably just use WS_BODEMBREEDTE. I think it has no/fewer nuls and the values are similar to the other 3 fields. Then we can upgrade. But let's have a look."
   ]
  },
  {
   "cell_type": "code",
   "execution_count": 44,
   "id": "80b6a63b",
   "metadata": {},
   "outputs": [
    {
     "data": {
      "text/html": [
       "<div>\n",
       "<style scoped>\n",
       "    .dataframe tbody tr th:only-of-type {\n",
       "        vertical-align: middle;\n",
       "    }\n",
       "\n",
       "    .dataframe tbody tr th {\n",
       "        vertical-align: top;\n",
       "    }\n",
       "\n",
       "    .dataframe thead th {\n",
       "        text-align: right;\n",
       "    }\n",
       "</style>\n",
       "<table border=\"1\" class=\"dataframe\">\n",
       "  <thead>\n",
       "    <tr style=\"text-align: right;\">\n",
       "      <th></th>\n",
       "      <th>CODE</th>\n",
       "      <th>OBJECTID</th>\n",
       "      <th>WS_BODEMBREEDTE_L</th>\n",
       "      <th>WS_BODBREE_ACCPROF_LI_L</th>\n",
       "      <th>WS_BODBREE_ACCPROF_RE_L</th>\n",
       "      <th>WS_VW_BODEMBREEDTE_L</th>\n",
       "    </tr>\n",
       "  </thead>\n",
       "  <tbody>\n",
       "    <tr>\n",
       "      <th>count</th>\n",
       "      <td>591</td>\n",
       "      <td>591.000000</td>\n",
       "      <td>591.000000</td>\n",
       "      <td>15.000000</td>\n",
       "      <td>9.000000</td>\n",
       "      <td>0.0</td>\n",
       "    </tr>\n",
       "    <tr>\n",
       "      <th>unique</th>\n",
       "      <td>591</td>\n",
       "      <td>NaN</td>\n",
       "      <td>NaN</td>\n",
       "      <td>NaN</td>\n",
       "      <td>NaN</td>\n",
       "      <td>NaN</td>\n",
       "    </tr>\n",
       "    <tr>\n",
       "      <th>top</th>\n",
       "      <td>OVK01308</td>\n",
       "      <td>NaN</td>\n",
       "      <td>NaN</td>\n",
       "      <td>NaN</td>\n",
       "      <td>NaN</td>\n",
       "      <td>NaN</td>\n",
       "    </tr>\n",
       "    <tr>\n",
       "      <th>freq</th>\n",
       "      <td>1</td>\n",
       "      <td>NaN</td>\n",
       "      <td>NaN</td>\n",
       "      <td>NaN</td>\n",
       "      <td>NaN</td>\n",
       "      <td>NaN</td>\n",
       "    </tr>\n",
       "    <tr>\n",
       "      <th>mean</th>\n",
       "      <td>NaN</td>\n",
       "      <td>6246.402707</td>\n",
       "      <td>3.257783</td>\n",
       "      <td>7.730000</td>\n",
       "      <td>11.666667</td>\n",
       "      <td>NaN</td>\n",
       "    </tr>\n",
       "    <tr>\n",
       "      <th>std</th>\n",
       "      <td>NaN</td>\n",
       "      <td>3976.475789</td>\n",
       "      <td>41.111277</td>\n",
       "      <td>8.591478</td>\n",
       "      <td>9.454232</td>\n",
       "      <td>NaN</td>\n",
       "    </tr>\n",
       "    <tr>\n",
       "      <th>min</th>\n",
       "      <td>NaN</td>\n",
       "      <td>15.000000</td>\n",
       "      <td>0.400000</td>\n",
       "      <td>3.200000</td>\n",
       "      <td>3.500000</td>\n",
       "      <td>NaN</td>\n",
       "    </tr>\n",
       "    <tr>\n",
       "      <th>25%</th>\n",
       "      <td>NaN</td>\n",
       "      <td>2359.500000</td>\n",
       "      <td>0.700000</td>\n",
       "      <td>3.500000</td>\n",
       "      <td>4.900000</td>\n",
       "      <td>NaN</td>\n",
       "    </tr>\n",
       "    <tr>\n",
       "      <th>50%</th>\n",
       "      <td>NaN</td>\n",
       "      <td>7167.000000</td>\n",
       "      <td>0.850000</td>\n",
       "      <td>3.750000</td>\n",
       "      <td>6.200000</td>\n",
       "      <td>NaN</td>\n",
       "    </tr>\n",
       "    <tr>\n",
       "      <th>75%</th>\n",
       "      <td>NaN</td>\n",
       "      <td>8832.000000</td>\n",
       "      <td>1.275000</td>\n",
       "      <td>5.750000</td>\n",
       "      <td>20.000000</td>\n",
       "      <td>NaN</td>\n",
       "    </tr>\n",
       "    <tr>\n",
       "      <th>max</th>\n",
       "      <td>NaN</td>\n",
       "      <td>12856.000000</td>\n",
       "      <td>999.000000</td>\n",
       "      <td>30.000000</td>\n",
       "      <td>30.000000</td>\n",
       "      <td>NaN</td>\n",
       "    </tr>\n",
       "  </tbody>\n",
       "</table>\n",
       "</div>"
      ],
      "text/plain": [
       "            CODE      OBJECTID  WS_BODEMBREEDTE_L  WS_BODBREE_ACCPROF_LI_L  \\\n",
       "count        591    591.000000         591.000000                15.000000   \n",
       "unique       591           NaN                NaN                      NaN   \n",
       "top     OVK01308           NaN                NaN                      NaN   \n",
       "freq           1           NaN                NaN                      NaN   \n",
       "mean         NaN   6246.402707           3.257783                 7.730000   \n",
       "std          NaN   3976.475789          41.111277                 8.591478   \n",
       "min          NaN     15.000000           0.400000                 3.200000   \n",
       "25%          NaN   2359.500000           0.700000                 3.500000   \n",
       "50%          NaN   7167.000000           0.850000                 3.750000   \n",
       "75%          NaN   8832.000000           1.275000                 5.750000   \n",
       "max          NaN  12856.000000         999.000000                30.000000   \n",
       "\n",
       "        WS_BODBREE_ACCPROF_RE_L  WS_VW_BODEMBREEDTE_L  \n",
       "count                  9.000000                   0.0  \n",
       "unique                      NaN                   NaN  \n",
       "top                         NaN                   NaN  \n",
       "freq                        NaN                   NaN  \n",
       "mean                  11.666667                   NaN  \n",
       "std                    9.454232                   NaN  \n",
       "min                    3.500000                   NaN  \n",
       "25%                    4.900000                   NaN  \n",
       "50%                    6.200000                   NaN  \n",
       "75%                   20.000000                   NaN  \n",
       "max                   30.000000                   NaN  "
      ]
     },
     "execution_count": 44,
     "metadata": {},
     "output_type": "execute_result"
    }
   ],
   "source": [
    "GDF[['CODE', 'OBJECTID', 'WS_BODEMBREEDTE_L', 'WS_BODBREE_ACCPROF_LI_L', 'WS_BODBREE_ACCPROF_RE_L', 'WS_VW_BODEMBREEDTE_L']].describe(include='all')"
   ]
  },
  {
   "cell_type": "code",
   "execution_count": 45,
   "id": "42101d7e",
   "metadata": {},
   "outputs": [
    {
     "data": {
      "text/html": [
       "<div>\n",
       "<style scoped>\n",
       "    .dataframe tbody tr th:only-of-type {\n",
       "        vertical-align: middle;\n",
       "    }\n",
       "\n",
       "    .dataframe tbody tr th {\n",
       "        vertical-align: top;\n",
       "    }\n",
       "\n",
       "    .dataframe thead th {\n",
       "        text-align: right;\n",
       "    }\n",
       "</style>\n",
       "<table border=\"1\" class=\"dataframe\">\n",
       "  <thead>\n",
       "    <tr style=\"text-align: right;\">\n",
       "      <th></th>\n",
       "      <th>CODE</th>\n",
       "      <th>WS_BODEMBREEDTE_L</th>\n",
       "      <th>WS_BODBREE_ACCPROF_LI_L</th>\n",
       "      <th>WS_BODBREE_ACCPROF_RE_L</th>\n",
       "      <th>WS_VW_BODEMBREEDTE_L</th>\n",
       "    </tr>\n",
       "  </thead>\n",
       "  <tbody>\n",
       "    <tr>\n",
       "      <th>369</th>\n",
       "      <td>OVK20487</td>\n",
       "      <td>1.0</td>\n",
       "      <td>6.50</td>\n",
       "      <td>NaN</td>\n",
       "      <td>NaN</td>\n",
       "    </tr>\n",
       "    <tr>\n",
       "      <th>511</th>\n",
       "      <td>OVK01430</td>\n",
       "      <td>0.8</td>\n",
       "      <td>NaN</td>\n",
       "      <td>4.4</td>\n",
       "      <td>NaN</td>\n",
       "    </tr>\n",
       "    <tr>\n",
       "      <th>775</th>\n",
       "      <td>OVK01438</td>\n",
       "      <td>0.8</td>\n",
       "      <td>3.50</td>\n",
       "      <td>NaN</td>\n",
       "      <td>NaN</td>\n",
       "    </tr>\n",
       "    <tr>\n",
       "      <th>2198</th>\n",
       "      <td>OVK00979</td>\n",
       "      <td>0.8</td>\n",
       "      <td>3.20</td>\n",
       "      <td>NaN</td>\n",
       "      <td>NaN</td>\n",
       "    </tr>\n",
       "    <tr>\n",
       "      <th>2395</th>\n",
       "      <td>OVK01793</td>\n",
       "      <td>0.5</td>\n",
       "      <td>NaN</td>\n",
       "      <td>20.0</td>\n",
       "      <td>NaN</td>\n",
       "    </tr>\n",
       "    <tr>\n",
       "      <th>3106</th>\n",
       "      <td>OVK20485</td>\n",
       "      <td>1.0</td>\n",
       "      <td>5.00</td>\n",
       "      <td>NaN</td>\n",
       "      <td>NaN</td>\n",
       "    </tr>\n",
       "    <tr>\n",
       "      <th>3815</th>\n",
       "      <td>OVK01792</td>\n",
       "      <td>0.5</td>\n",
       "      <td>NaN</td>\n",
       "      <td>20.0</td>\n",
       "      <td>NaN</td>\n",
       "    </tr>\n",
       "    <tr>\n",
       "      <th>3928</th>\n",
       "      <td>OVK20488</td>\n",
       "      <td>1.0</td>\n",
       "      <td>3.75</td>\n",
       "      <td>NaN</td>\n",
       "      <td>NaN</td>\n",
       "    </tr>\n",
       "    <tr>\n",
       "      <th>4588</th>\n",
       "      <td>OVK01547</td>\n",
       "      <td>1.0</td>\n",
       "      <td>30.00</td>\n",
       "      <td>30.0</td>\n",
       "      <td>NaN</td>\n",
       "    </tr>\n",
       "    <tr>\n",
       "      <th>5197</th>\n",
       "      <td>OVK20473</td>\n",
       "      <td>0.9</td>\n",
       "      <td>3.50</td>\n",
       "      <td>NaN</td>\n",
       "      <td>NaN</td>\n",
       "    </tr>\n",
       "    <tr>\n",
       "      <th>5292</th>\n",
       "      <td>OVK20478</td>\n",
       "      <td>1.2</td>\n",
       "      <td>3.70</td>\n",
       "      <td>NaN</td>\n",
       "      <td>NaN</td>\n",
       "    </tr>\n",
       "    <tr>\n",
       "      <th>5723</th>\n",
       "      <td>OVK20463</td>\n",
       "      <td>0.8</td>\n",
       "      <td>11.00</td>\n",
       "      <td>11.0</td>\n",
       "      <td>NaN</td>\n",
       "    </tr>\n",
       "    <tr>\n",
       "      <th>6094</th>\n",
       "      <td>OVK20471</td>\n",
       "      <td>0.8</td>\n",
       "      <td>26.50</td>\n",
       "      <td>6.2</td>\n",
       "      <td>NaN</td>\n",
       "    </tr>\n",
       "    <tr>\n",
       "      <th>6948</th>\n",
       "      <td>OVK20501</td>\n",
       "      <td>0.8</td>\n",
       "      <td>3.20</td>\n",
       "      <td>NaN</td>\n",
       "      <td>NaN</td>\n",
       "    </tr>\n",
       "    <tr>\n",
       "      <th>7876</th>\n",
       "      <td>OVK20970</td>\n",
       "      <td>0.5</td>\n",
       "      <td>3.40</td>\n",
       "      <td>NaN</td>\n",
       "      <td>NaN</td>\n",
       "    </tr>\n",
       "    <tr>\n",
       "      <th>9422</th>\n",
       "      <td>OVK20464</td>\n",
       "      <td>0.8</td>\n",
       "      <td>3.50</td>\n",
       "      <td>3.5</td>\n",
       "      <td>NaN</td>\n",
       "    </tr>\n",
       "    <tr>\n",
       "      <th>9433</th>\n",
       "      <td>OVK01439</td>\n",
       "      <td>0.9</td>\n",
       "      <td>4.20</td>\n",
       "      <td>NaN</td>\n",
       "      <td>NaN</td>\n",
       "    </tr>\n",
       "    <tr>\n",
       "      <th>10790</th>\n",
       "      <td>OVK01431</td>\n",
       "      <td>0.7</td>\n",
       "      <td>NaN</td>\n",
       "      <td>5.0</td>\n",
       "      <td>NaN</td>\n",
       "    </tr>\n",
       "    <tr>\n",
       "      <th>10807</th>\n",
       "      <td>OVK02953</td>\n",
       "      <td>1.2</td>\n",
       "      <td>5.00</td>\n",
       "      <td>NaN</td>\n",
       "      <td>NaN</td>\n",
       "    </tr>\n",
       "    <tr>\n",
       "      <th>12124</th>\n",
       "      <td>OVK01434</td>\n",
       "      <td>0.8</td>\n",
       "      <td>NaN</td>\n",
       "      <td>4.9</td>\n",
       "      <td>NaN</td>\n",
       "    </tr>\n",
       "  </tbody>\n",
       "</table>\n",
       "</div>"
      ],
      "text/plain": [
       "           CODE  WS_BODEMBREEDTE_L  WS_BODBREE_ACCPROF_LI_L  \\\n",
       "369    OVK20487                1.0                     6.50   \n",
       "511    OVK01430                0.8                      NaN   \n",
       "775    OVK01438                0.8                     3.50   \n",
       "2198   OVK00979                0.8                     3.20   \n",
       "2395   OVK01793                0.5                      NaN   \n",
       "3106   OVK20485                1.0                     5.00   \n",
       "3815   OVK01792                0.5                      NaN   \n",
       "3928   OVK20488                1.0                     3.75   \n",
       "4588   OVK01547                1.0                    30.00   \n",
       "5197   OVK20473                0.9                     3.50   \n",
       "5292   OVK20478                1.2                     3.70   \n",
       "5723   OVK20463                0.8                    11.00   \n",
       "6094   OVK20471                0.8                    26.50   \n",
       "6948   OVK20501                0.8                     3.20   \n",
       "7876   OVK20970                0.5                     3.40   \n",
       "9422   OVK20464                0.8                     3.50   \n",
       "9433   OVK01439                0.9                     4.20   \n",
       "10790  OVK01431                0.7                      NaN   \n",
       "10807  OVK02953                1.2                     5.00   \n",
       "12124  OVK01434                0.8                      NaN   \n",
       "\n",
       "       WS_BODBREE_ACCPROF_RE_L  WS_VW_BODEMBREEDTE_L  \n",
       "369                        NaN                   NaN  \n",
       "511                        4.4                   NaN  \n",
       "775                        NaN                   NaN  \n",
       "2198                       NaN                   NaN  \n",
       "2395                      20.0                   NaN  \n",
       "3106                       NaN                   NaN  \n",
       "3815                      20.0                   NaN  \n",
       "3928                       NaN                   NaN  \n",
       "4588                      30.0                   NaN  \n",
       "5197                       NaN                   NaN  \n",
       "5292                       NaN                   NaN  \n",
       "5723                      11.0                   NaN  \n",
       "6094                       6.2                   NaN  \n",
       "6948                       NaN                   NaN  \n",
       "7876                       NaN                   NaN  \n",
       "9422                       3.5                   NaN  \n",
       "9433                       NaN                   NaN  \n",
       "10790                      5.0                   NaN  \n",
       "10807                      NaN                   NaN  \n",
       "12124                      4.9                   NaN  "
      ]
     },
     "execution_count": 45,
     "metadata": {},
     "output_type": "execute_result"
    }
   ],
   "source": [
    "GDF.loc[ GDF['WS_BODBREE_ACCPROF_LI_L'].notna() | GDF['WS_BODBREE_ACCPROF_RE_L'].notna() | GDF['WS_VW_BODEMBREEDTE_L'].notna(),\n",
    "         ['CODE', 'WS_BODEMBREEDTE_L', 'WS_BODBREE_ACCPROF_LI_L', 'WS_BODBREE_ACCPROF_RE_L', 'WS_VW_BODEMBREEDTE_L']]"
   ]
  },
  {
   "cell_type": "markdown",
   "id": "da1bf2e6",
   "metadata": {},
   "source": [
    "'WS_BODBREE_ACCPROF_LI_L' & 'WS_BODBREE_ACCPROF_RE_L' are not the bottom of the channel. This is clear if we masure the channel width in QGIS. So we won't use those.<br>\n",
    "'WS_VW_BODEMBREEDTE_L' only has nulls, so we won't use that either.<br>\n",
    "**So we'll just use 'WS_BODEMBREEDTE_L'.**"
   ]
  },
  {
   "cell_type": "markdown",
   "id": "1277cd67",
   "metadata": {},
   "source": [
    "#### 6. & 7. Upstream and downstream elevations"
   ]
  },
  {
   "cell_type": "code",
   "execution_count": 46,
   "id": "997e8c1d",
   "metadata": {},
   "outputs": [
    {
     "data": {
      "text/html": [
       "<div>\n",
       "<style scoped>\n",
       "    .dataframe tbody tr th:only-of-type {\n",
       "        vertical-align: middle;\n",
       "    }\n",
       "\n",
       "    .dataframe tbody tr th {\n",
       "        vertical-align: top;\n",
       "    }\n",
       "\n",
       "    .dataframe thead th {\n",
       "        text-align: right;\n",
       "    }\n",
       "</style>\n",
       "<table border=\"1\" class=\"dataframe\">\n",
       "  <thead>\n",
       "    <tr style=\"text-align: right;\">\n",
       "      <th></th>\n",
       "      <th>CODE</th>\n",
       "      <th>WS_BH_BOVENSTROOMS_L</th>\n",
       "      <th>WS_BH_BENEDENSTROOMS_L</th>\n",
       "    </tr>\n",
       "  </thead>\n",
       "  <tbody>\n",
       "    <tr>\n",
       "      <th>count</th>\n",
       "      <td>591</td>\n",
       "      <td>591.000000</td>\n",
       "      <td>591.000000</td>\n",
       "    </tr>\n",
       "    <tr>\n",
       "      <th>unique</th>\n",
       "      <td>591</td>\n",
       "      <td>NaN</td>\n",
       "      <td>NaN</td>\n",
       "    </tr>\n",
       "    <tr>\n",
       "      <th>top</th>\n",
       "      <td>OVK01308</td>\n",
       "      <td>NaN</td>\n",
       "      <td>NaN</td>\n",
       "    </tr>\n",
       "    <tr>\n",
       "      <th>freq</th>\n",
       "      <td>1</td>\n",
       "      <td>NaN</td>\n",
       "      <td>NaN</td>\n",
       "    </tr>\n",
       "    <tr>\n",
       "      <th>mean</th>\n",
       "      <td>NaN</td>\n",
       "      <td>8.995431</td>\n",
       "      <td>8.588037</td>\n",
       "    </tr>\n",
       "    <tr>\n",
       "      <th>std</th>\n",
       "      <td>NaN</td>\n",
       "      <td>4.708964</td>\n",
       "      <td>4.636708</td>\n",
       "    </tr>\n",
       "    <tr>\n",
       "      <th>min</th>\n",
       "      <td>NaN</td>\n",
       "      <td>-1.630000</td>\n",
       "      <td>-1.650000</td>\n",
       "    </tr>\n",
       "    <tr>\n",
       "      <th>25%</th>\n",
       "      <td>NaN</td>\n",
       "      <td>5.860000</td>\n",
       "      <td>5.345000</td>\n",
       "    </tr>\n",
       "    <tr>\n",
       "      <th>50%</th>\n",
       "      <td>NaN</td>\n",
       "      <td>9.120000</td>\n",
       "      <td>8.760000</td>\n",
       "    </tr>\n",
       "    <tr>\n",
       "      <th>75%</th>\n",
       "      <td>NaN</td>\n",
       "      <td>12.490000</td>\n",
       "      <td>12.015000</td>\n",
       "    </tr>\n",
       "    <tr>\n",
       "      <th>max</th>\n",
       "      <td>NaN</td>\n",
       "      <td>19.800000</td>\n",
       "      <td>19.780001</td>\n",
       "    </tr>\n",
       "  </tbody>\n",
       "</table>\n",
       "</div>"
      ],
      "text/plain": [
       "            CODE  WS_BH_BOVENSTROOMS_L  WS_BH_BENEDENSTROOMS_L\n",
       "count        591            591.000000              591.000000\n",
       "unique       591                   NaN                     NaN\n",
       "top     OVK01308                   NaN                     NaN\n",
       "freq           1                   NaN                     NaN\n",
       "mean         NaN              8.995431                8.588037\n",
       "std          NaN              4.708964                4.636708\n",
       "min          NaN             -1.630000               -1.650000\n",
       "25%          NaN              5.860000                5.345000\n",
       "50%          NaN              9.120000                8.760000\n",
       "75%          NaN             12.490000               12.015000\n",
       "max          NaN             19.800000               19.780001"
      ]
     },
     "execution_count": 46,
     "metadata": {},
     "output_type": "execute_result"
    }
   ],
   "source": [
    "GDF[[ 'CODE', 'WS_BH_BOVENSTROOMS_L', 'WS_BH_BENEDENSTROOMS_L']].describe(include='all')"
   ]
  },
  {
   "cell_type": "markdown",
   "id": "7017a577",
   "metadata": {},
   "source": [
    "No nulls + the percentiles make sense.🟢<br>\n",
    "Let's make sure the UStr is always higher than the DnStr.<br>\n",
    "Then let's print out some values to check in QGIS."
   ]
  },
  {
   "cell_type": "code",
   "execution_count": 47,
   "id": "fa042d75",
   "metadata": {},
   "outputs": [
    {
     "data": {
      "text/plain": [
       "(np.int64(98), np.int64(24), np.int64(493), 591)"
      ]
     },
     "execution_count": 47,
     "metadata": {},
     "output_type": "execute_result"
    }
   ],
   "source": [
    "(GDF['WS_BH_BOVENSTROOMS_L'] <= GDF['WS_BH_BENEDENSTROOMS_L']).sum(), (GDF['WS_BH_BOVENSTROOMS_L'] < GDF['WS_BH_BENEDENSTROOMS_L']).sum(), (GDF['WS_BH_BOVENSTROOMS_L'] > GDF['WS_BH_BENEDENSTROOMS_L']).sum(), GDF.shape[0]"
   ]
  },
  {
   "cell_type": "markdown",
   "id": "3fb76324",
   "metadata": {},
   "source": [
    "For 98 segments (out of 591), the UStr Elv is <= the DStr Elv. This is not good. We'll have to fix this. 🔴<br>\n",
    "Only 24/99 have DStr < UStr , the rest are equal. = will be corrected by SFR itself (as far as I know), so no action is required for those."
   ]
  },
  {
   "cell_type": "markdown",
   "id": "d9e2d450",
   "metadata": {},
   "source": [
    "Let's print out some CODEs where =, to check in QGIS. *(We don't really need to, I'm just curious)*"
   ]
  },
  {
   "cell_type": "code",
   "execution_count": 48,
   "id": "c89fd4e0",
   "metadata": {},
   "outputs": [],
   "source": [
    "GDF_Elv = GDF[['CODE', 'WS_BH_BOVENSTROOMS_L', 'WS_BH_BENEDENSTROOMS_L', 'DStr_code', 'DStr_ID']].copy()"
   ]
  },
  {
   "cell_type": "code",
   "execution_count": 49,
   "id": "5c26b301",
   "metadata": {},
   "outputs": [],
   "source": [
    "GDF_Elv['Diff'] = GDF_Elv['WS_BH_BOVENSTROOMS_L'] - GDF_Elv['WS_BH_BENEDENSTROOMS_L']"
   ]
  },
  {
   "cell_type": "code",
   "execution_count": 50,
   "id": "b3767f90",
   "metadata": {},
   "outputs": [
    {
     "data": {
      "text/html": [
       "<div>\n",
       "<style scoped>\n",
       "    .dataframe tbody tr th:only-of-type {\n",
       "        vertical-align: middle;\n",
       "    }\n",
       "\n",
       "    .dataframe tbody tr th {\n",
       "        vertical-align: top;\n",
       "    }\n",
       "\n",
       "    .dataframe thead th {\n",
       "        text-align: right;\n",
       "    }\n",
       "</style>\n",
       "<table border=\"1\" class=\"dataframe\">\n",
       "  <thead>\n",
       "    <tr style=\"text-align: right;\">\n",
       "      <th></th>\n",
       "      <th>CODE</th>\n",
       "      <th>WS_BH_BOVENSTROOMS_L</th>\n",
       "      <th>WS_BH_BENEDENSTROOMS_L</th>\n",
       "      <th>DStr_code</th>\n",
       "      <th>DStr_ID</th>\n",
       "      <th>Diff</th>\n",
       "    </tr>\n",
       "  </thead>\n",
       "  <tbody>\n",
       "    <tr>\n",
       "      <th>318</th>\n",
       "      <td>OVK02978</td>\n",
       "      <td>2.90</td>\n",
       "      <td>2.90</td>\n",
       "      <td>OVK02979</td>\n",
       "      <td>6696</td>\n",
       "      <td>0.0</td>\n",
       "    </tr>\n",
       "    <tr>\n",
       "      <th>383</th>\n",
       "      <td>OVK02056</td>\n",
       "      <td>10.35</td>\n",
       "      <td>10.35</td>\n",
       "      <td>OVK02055</td>\n",
       "      <td>481</td>\n",
       "      <td>0.0</td>\n",
       "    </tr>\n",
       "    <tr>\n",
       "      <th>397</th>\n",
       "      <td>OVK03014</td>\n",
       "      <td>5.35</td>\n",
       "      <td>5.35</td>\n",
       "      <td>OVK03010</td>\n",
       "      <td>475</td>\n",
       "      <td>0.0</td>\n",
       "    </tr>\n",
       "    <tr>\n",
       "      <th>476</th>\n",
       "      <td>OVK00950</td>\n",
       "      <td>10.86</td>\n",
       "      <td>10.86</td>\n",
       "      <td>OVK01471</td>\n",
       "      <td>371</td>\n",
       "      <td>0.0</td>\n",
       "    </tr>\n",
       "    <tr>\n",
       "      <th>489</th>\n",
       "      <td>OVK00994</td>\n",
       "      <td>12.30</td>\n",
       "      <td>12.30</td>\n",
       "      <td>OVK00995</td>\n",
       "      <td>7231</td>\n",
       "      <td>0.0</td>\n",
       "    </tr>\n",
       "  </tbody>\n",
       "</table>\n",
       "</div>"
      ],
      "text/plain": [
       "         CODE  WS_BH_BOVENSTROOMS_L  WS_BH_BENEDENSTROOMS_L DStr_code  \\\n",
       "318  OVK02978                  2.90                    2.90  OVK02979   \n",
       "383  OVK02056                 10.35                   10.35  OVK02055   \n",
       "397  OVK03014                  5.35                    5.35  OVK03010   \n",
       "476  OVK00950                 10.86                   10.86  OVK01471   \n",
       "489  OVK00994                 12.30                   12.30  OVK00995   \n",
       "\n",
       "     DStr_ID  Diff  \n",
       "318     6696   0.0  \n",
       "383      481   0.0  \n",
       "397      475   0.0  \n",
       "476      371   0.0  \n",
       "489     7231   0.0  "
      ]
     },
     "execution_count": 50,
     "metadata": {},
     "output_type": "execute_result"
    }
   ],
   "source": [
    "GDF_Elv.loc[GDF_Elv['Diff'] == 0].head()"
   ]
  },
  {
   "cell_type": "code",
   "execution_count": 51,
   "id": "4ed88bff",
   "metadata": {},
   "outputs": [
    {
     "data": {
      "text/html": [
       "<div>\n",
       "<style scoped>\n",
       "    .dataframe tbody tr th:only-of-type {\n",
       "        vertical-align: middle;\n",
       "    }\n",
       "\n",
       "    .dataframe tbody tr th {\n",
       "        vertical-align: top;\n",
       "    }\n",
       "\n",
       "    .dataframe thead th {\n",
       "        text-align: right;\n",
       "    }\n",
       "</style>\n",
       "<table border=\"1\" class=\"dataframe\">\n",
       "  <thead>\n",
       "    <tr style=\"text-align: right;\">\n",
       "      <th></th>\n",
       "      <th>CODE</th>\n",
       "      <th>WS_BH_BOVENSTROOMS_L</th>\n",
       "      <th>WS_BH_BENEDENSTROOMS_L</th>\n",
       "      <th>DStr_code</th>\n",
       "      <th>DStr_ID</th>\n",
       "      <th>Diff</th>\n",
       "    </tr>\n",
       "  </thead>\n",
       "  <tbody>\n",
       "    <tr>\n",
       "      <th>7524</th>\n",
       "      <td>OVK02241</td>\n",
       "      <td>-0.77</td>\n",
       "      <td>-0.400000</td>\n",
       "      <td>OVK02242</td>\n",
       "      <td>3718</td>\n",
       "      <td>-0.37</td>\n",
       "    </tr>\n",
       "    <tr>\n",
       "      <th>3717</th>\n",
       "      <td>OVK02242</td>\n",
       "      <td>-0.40</td>\n",
       "      <td>-0.050000</td>\n",
       "      <td>0</td>\n",
       "      <td>0</td>\n",
       "      <td>-0.35</td>\n",
       "    </tr>\n",
       "    <tr>\n",
       "      <th>3733</th>\n",
       "      <td>OVK02988</td>\n",
       "      <td>0.40</td>\n",
       "      <td>0.700000</td>\n",
       "      <td>OVK11790</td>\n",
       "      <td>4052</td>\n",
       "      <td>-0.30</td>\n",
       "    </tr>\n",
       "    <tr>\n",
       "      <th>461</th>\n",
       "      <td>OVK01451</td>\n",
       "      <td>19.52</td>\n",
       "      <td>19.780001</td>\n",
       "      <td>OVK01449</td>\n",
       "      <td>281</td>\n",
       "      <td>-0.26</td>\n",
       "    </tr>\n",
       "    <tr>\n",
       "      <th>4117</th>\n",
       "      <td>OVK00972</td>\n",
       "      <td>14.30</td>\n",
       "      <td>14.550000</td>\n",
       "      <td>OVK00970</td>\n",
       "      <td>934</td>\n",
       "      <td>-0.25</td>\n",
       "    </tr>\n",
       "  </tbody>\n",
       "</table>\n",
       "</div>"
      ],
      "text/plain": [
       "          CODE  WS_BH_BOVENSTROOMS_L  WS_BH_BENEDENSTROOMS_L DStr_code  \\\n",
       "7524  OVK02241                 -0.77               -0.400000  OVK02242   \n",
       "3717  OVK02242                 -0.40               -0.050000         0   \n",
       "3733  OVK02988                  0.40                0.700000  OVK11790   \n",
       "461   OVK01451                 19.52               19.780001  OVK01449   \n",
       "4117  OVK00972                 14.30               14.550000  OVK00970   \n",
       "\n",
       "      DStr_ID  Diff  \n",
       "7524     3718 -0.37  \n",
       "3717        0 -0.35  \n",
       "3733     4052 -0.30  \n",
       "461       281 -0.26  \n",
       "4117      934 -0.25  "
      ]
     },
     "execution_count": 51,
     "metadata": {},
     "output_type": "execute_result"
    }
   ],
   "source": [
    "GDF_Elv.loc[ GDF_Elv['Diff'] < 0 ].sort_values(by='Diff', ascending=True).head()"
   ]
  },
  {
   "cell_type": "markdown",
   "id": "a8ae72da",
   "metadata": {},
   "source": [
    "Let's see if any of the problematic segments have multiple UStr segments. That would make a solution harder to implement.<br>\n",
    "*(if there is only 1 UStr segment, the DStr Elv of the UStr segment can be modified to allow the UStr Elv of the current segmet to be increased as well, but if there are multiple, this becomes more complicated)*"
   ]
  },
  {
   "cell_type": "code",
   "execution_count": 52,
   "id": "678c64e0",
   "metadata": {},
   "outputs": [
    {
     "name": "stdout",
     "output_type": "stream",
     "text": [
      "OVK02982 2\n",
      "OVK21050 2\n",
      "OVK03070 3\n",
      "OVK02326 2\n",
      "OVK01434 2\n"
     ]
    }
   ],
   "source": [
    "l_problematic = GDF_Elv.loc[ GDF_Elv['Diff'] < 0, 'CODE'].tolist()\n",
    "for S in l_problematic:\n",
    "    sum = (GDF['DStr_code']==S).sum()\n",
    "    if sum > 1:\n",
    "        print(S, sum)"
   ]
  },
  {
   "cell_type": "markdown",
   "id": "5b044bca",
   "metadata": {},
   "source": [
    "There are multiple segments with more than 1 UStr segment. We'll have to consider this when designing the elevation correction logic. "
   ]
  },
  {
   "cell_type": "markdown",
   "id": "d938eac8",
   "metadata": {},
   "source": [
    "We'll design an algorithm to fix the ones with <. The ones with = will be fixed by SFR itself (hopefully). The following abbreviations are useful for explaining the concept:\n",
    "- A: DStr Elv of DStr segment\n",
    "- B: UStr Elv of DStr segment\n",
    "- C: DStr Elv of current segment\n",
    "- D: UStr Elv of current segment\n",
    "- F: DStr Elv of UStr segment(s)\n",
    "\n",
    "Here is the idea behind the algorithm:\n",
    "1. If **C > D & B <= D** :<br>\n",
    "-> Set **C = D**\n",
    "2. If **C > D & B > D** :<br>\n",
    "-> Set **C = D**. Set **B = D**\n",
    "3. If **C <= D** :<br>\n",
    "-> **No action**.\n",
    "\n",
    "Repeat till there are no segments with C < D.\n",
    "\n",
    "When there is no downstream segment, we apply the logic used in case 1."
   ]
  },
  {
   "cell_type": "code",
   "execution_count": 54,
   "id": "2c2f4466",
   "metadata": {},
   "outputs": [
    {
     "ename": "KeyError",
     "evalue": "'DStr'",
     "output_type": "error",
     "traceback": [
      "\u001b[31m---------------------------------------------------------------------------\u001b[39m",
      "\u001b[31mKeyError\u001b[39m                                  Traceback (most recent call last)",
      "\u001b[32m~\\AppData\\Local\\Temp\\ipykernel_24824\\2744099870.py\u001b[39m in \u001b[36m?\u001b[39m\u001b[34m()\u001b[39m\n\u001b[32m----> \u001b[39m\u001b[32m1\u001b[39m GDF_Elv = GDF_Elv.merge(GDF[[\u001b[33m'CODE'\u001b[39m, \u001b[33m'WS_BH_BOVENSTROOMS_L'\u001b[39m, \u001b[33m'WS_BH_BENEDENSTROOMS_L'\u001b[39m]], left_on=\u001b[33m'DStr'\u001b[39m, right_on=\u001b[33m'CODE'\u001b[39m, suffixes=(\u001b[33m''\u001b[39m, \u001b[33m'_DStr'\u001b[39m))\n",
      "\u001b[32mc:\\Users\\Karam014\\OneDrive - Universiteit Utrecht\\WS_Mdl\\code\\.pixi\\envs\\default\\Lib\\site-packages\\pandas\\core\\frame.py\u001b[39m in \u001b[36m?\u001b[39m\u001b[34m(self, right, how, on, left_on, right_on, left_index, right_index, sort, suffixes, copy, indicator, validate)\u001b[39m\n\u001b[32m  10835\u001b[39m         validate: MergeValidate | \u001b[38;5;28;01mNone\u001b[39;00m = \u001b[38;5;28;01mNone\u001b[39;00m,\n\u001b[32m  10836\u001b[39m     ) -> DataFrame:\n\u001b[32m  10837\u001b[39m         \u001b[38;5;28;01mfrom\u001b[39;00m pandas.core.reshape.merge \u001b[38;5;28;01mimport\u001b[39;00m merge\n\u001b[32m  10838\u001b[39m \n\u001b[32m> \u001b[39m\u001b[32m10839\u001b[39m         return merge(\n\u001b[32m  10840\u001b[39m             self,\n\u001b[32m  10841\u001b[39m             right,\n\u001b[32m  10842\u001b[39m             how=how,\n",
      "\u001b[32mc:\\Users\\Karam014\\OneDrive - Universiteit Utrecht\\WS_Mdl\\code\\.pixi\\envs\\default\\Lib\\site-packages\\pandas\\core\\reshape\\merge.py\u001b[39m in \u001b[36m?\u001b[39m\u001b[34m(left, right, how, on, left_on, right_on, left_index, right_index, sort, suffixes, copy, indicator, validate)\u001b[39m\n\u001b[32m    166\u001b[39m             validate=validate,\n\u001b[32m    167\u001b[39m             copy=copy,\n\u001b[32m    168\u001b[39m         )\n\u001b[32m    169\u001b[39m     \u001b[38;5;28;01melse\u001b[39;00m:\n\u001b[32m--> \u001b[39m\u001b[32m170\u001b[39m         op = _MergeOperation(\n\u001b[32m    171\u001b[39m             left_df,\n\u001b[32m    172\u001b[39m             right_df,\n\u001b[32m    173\u001b[39m             how=how,\n",
      "\u001b[32mc:\\Users\\Karam014\\OneDrive - Universiteit Utrecht\\WS_Mdl\\code\\.pixi\\envs\\default\\Lib\\site-packages\\pandas\\core\\reshape\\merge.py\u001b[39m in \u001b[36m?\u001b[39m\u001b[34m(self, left, right, how, on, left_on, right_on, left_index, right_index, sort, suffixes, indicator, validate)\u001b[39m\n\u001b[32m    790\u001b[39m             self.right_join_keys,\n\u001b[32m    791\u001b[39m             self.join_names,\n\u001b[32m    792\u001b[39m             left_drop,\n\u001b[32m    793\u001b[39m             right_drop,\n\u001b[32m--> \u001b[39m\u001b[32m794\u001b[39m         ) = self._get_merge_keys()\n\u001b[32m    795\u001b[39m \n\u001b[32m    796\u001b[39m         \u001b[38;5;28;01mif\u001b[39;00m left_drop:\n\u001b[32m    797\u001b[39m             self.left = self.left._drop_labels_or_levels(left_drop)\n",
      "\u001b[32mc:\\Users\\Karam014\\OneDrive - Universiteit Utrecht\\WS_Mdl\\code\\.pixi\\envs\\default\\Lib\\site-packages\\pandas\\core\\reshape\\merge.py\u001b[39m in \u001b[36m?\u001b[39m\u001b[34m(self)\u001b[39m\n\u001b[32m   1307\u001b[39m                     \u001b[38;5;28;01mif\u001b[39;00m lk \u001b[38;5;28;01mis\u001b[39;00m \u001b[38;5;28;01mnot\u001b[39;00m \u001b[38;5;28;01mNone\u001b[39;00m:\n\u001b[32m   1308\u001b[39m                         \u001b[38;5;66;03m# Then we're either Hashable or a wrong-length arraylike,\u001b[39;00m\n\u001b[32m   1309\u001b[39m                         \u001b[38;5;66;03m#  the latter of which will raise\u001b[39;00m\n\u001b[32m   1310\u001b[39m                         lk = cast(Hashable, lk)\n\u001b[32m-> \u001b[39m\u001b[32m1311\u001b[39m                         left_keys.append(left._get_label_or_level_values(lk))\n\u001b[32m   1312\u001b[39m                         join_names.append(lk)\n\u001b[32m   1313\u001b[39m                     \u001b[38;5;28;01melse\u001b[39;00m:\n\u001b[32m   1314\u001b[39m                         \u001b[38;5;66;03m# work-around for merge_asof(left_index=True)\u001b[39;00m\n",
      "\u001b[32mc:\\Users\\Karam014\\OneDrive - Universiteit Utrecht\\WS_Mdl\\code\\.pixi\\envs\\default\\Lib\\site-packages\\pandas\\core\\generic.py\u001b[39m in \u001b[36m?\u001b[39m\u001b[34m(self, key, axis)\u001b[39m\n\u001b[32m   1907\u001b[39m             values = self.xs(key, axis=other_axes[\u001b[32m0\u001b[39m])._values\n\u001b[32m   1908\u001b[39m         \u001b[38;5;28;01melif\u001b[39;00m self._is_level_reference(key, axis=axis):\n\u001b[32m   1909\u001b[39m             values = self.axes[axis].get_level_values(key)._values\n\u001b[32m   1910\u001b[39m         \u001b[38;5;28;01melse\u001b[39;00m:\n\u001b[32m-> \u001b[39m\u001b[32m1911\u001b[39m             \u001b[38;5;28;01mraise\u001b[39;00m KeyError(key)\n\u001b[32m   1912\u001b[39m \n\u001b[32m   1913\u001b[39m         \u001b[38;5;66;03m# Check for duplicates\u001b[39;00m\n\u001b[32m   1914\u001b[39m         \u001b[38;5;28;01mif\u001b[39;00m values.ndim > \u001b[32m1\u001b[39m:\n",
      "\u001b[31mKeyError\u001b[39m: 'DStr'"
     ]
    }
   ],
   "source": [
    "GDF_Elv = GDF_Elv.merge(GDF[['CODE', 'WS_BH_BOVENSTROOMS_L', 'WS_BH_BENEDENSTROOMS_L']], left_on='DStr', right_on='CODE', suffixes=('', '_DStr'))"
   ]
  },
  {
   "cell_type": "code",
   "execution_count": null,
   "id": "4f15b20a",
   "metadata": {},
   "outputs": [],
   "source": [
    "GDF_Elv.rename(columns={'WS_BH_BOVENSTROOMS_L_DStr': 'B', 'WS_BH_BENEDENSTROOMS_L': 'A'}, inplace=True)"
   ]
  },
  {
   "cell_type": "code",
   "execution_count": null,
   "id": "cf07d6c7",
   "metadata": {},
   "outputs": [],
   "source": [
    "def adjust_elevations(row):\n",
    "    if row['C'] <= row['D']:\n",
    "        return row['B'], row['C']\n",
    "    elif (row['C'] > row['D']) and (row['B'] <= row['D']):\n",
    "        return row['B'], row['D']\n",
    "    elif (row['C'] > row['D']) and (row['B'] > row['D']):\n",
    "        return row['D'], row['D']"
   ]
  },
  {
   "cell_type": "code",
   "execution_count": null,
   "id": "27ead71f",
   "metadata": {},
   "outputs": [],
   "source": [
    "GDF_Elv[['B_', 'C_']] = GDF_Elv.apply(adjust_elevations, axis=1, result_type='expand')"
   ]
  },
  {
   "cell_type": "code",
   "execution_count": null,
   "id": "0fed8337",
   "metadata": {},
   "outputs": [],
   "source": [
    "GDF_Elv.loc[ (GDF_Elv['Diff'] < 0) , \n",
    "            ['DStr', 'A', 'B', 'B_', 'CODE', 'C', 'C_', 'D']].sort_values(by='CODE').reset_index(drop=True)"
   ]
  },
  {
   "cell_type": "code",
   "execution_count": null,
   "id": "dcc5c6e6",
   "metadata": {},
   "outputs": [],
   "source": [
    "GDF_Elv.loc[(GDF_Elv['DStr']=='OVK02242') | (GDF_Elv['CODE']=='OVK02242')]"
   ]
  },
  {
   "cell_type": "code",
   "execution_count": null,
   "id": "a179f331",
   "metadata": {},
   "outputs": [],
   "source": [
    "UNFINISHED BUSINESS - CORRECTIONS"
   ]
  },
  {
   "cell_type": "code",
   "execution_count": null,
   "id": "4f15b20a",
   "metadata": {},
   "outputs": [],
   "source": [
    "GDF_Elv.rename(columns={'WS_BH_BOVENSTROOMS_L_DStr': 'B', 'WS_BH_BENEDENSTROOMS_L': 'A'}, inplace=True)"
   ]
  },
  {
   "cell_type": "code",
   "execution_count": 54,
   "id": "2c2f4466",
   "metadata": {},
   "outputs": [
    {
     "ename": "KeyError",
     "evalue": "'DStr'",
     "output_type": "error",
     "traceback": [
      "\u001b[31m---------------------------------------------------------------------------\u001b[39m",
      "\u001b[31mKeyError\u001b[39m                                  Traceback (most recent call last)",
      "\u001b[32m~\\AppData\\Local\\Temp\\ipykernel_24824\\2744099870.py\u001b[39m in \u001b[36m?\u001b[39m\u001b[34m()\u001b[39m\n\u001b[32m----> \u001b[39m\u001b[32m1\u001b[39m GDF_Elv = GDF_Elv.merge(GDF[[\u001b[33m'CODE'\u001b[39m, \u001b[33m'WS_BH_BOVENSTROOMS_L'\u001b[39m, \u001b[33m'WS_BH_BENEDENSTROOMS_L'\u001b[39m]], left_on=\u001b[33m'DStr'\u001b[39m, right_on=\u001b[33m'CODE'\u001b[39m, suffixes=(\u001b[33m''\u001b[39m, \u001b[33m'_DStr'\u001b[39m))\n",
      "\u001b[32mc:\\Users\\Karam014\\OneDrive - Universiteit Utrecht\\WS_Mdl\\code\\.pixi\\envs\\default\\Lib\\site-packages\\pandas\\core\\frame.py\u001b[39m in \u001b[36m?\u001b[39m\u001b[34m(self, right, how, on, left_on, right_on, left_index, right_index, sort, suffixes, copy, indicator, validate)\u001b[39m\n\u001b[32m  10835\u001b[39m         validate: MergeValidate | \u001b[38;5;28;01mNone\u001b[39;00m = \u001b[38;5;28;01mNone\u001b[39;00m,\n\u001b[32m  10836\u001b[39m     ) -> DataFrame:\n\u001b[32m  10837\u001b[39m         \u001b[38;5;28;01mfrom\u001b[39;00m pandas.core.reshape.merge \u001b[38;5;28;01mimport\u001b[39;00m merge\n\u001b[32m  10838\u001b[39m \n\u001b[32m> \u001b[39m\u001b[32m10839\u001b[39m         return merge(\n\u001b[32m  10840\u001b[39m             self,\n\u001b[32m  10841\u001b[39m             right,\n\u001b[32m  10842\u001b[39m             how=how,\n",
      "\u001b[32mc:\\Users\\Karam014\\OneDrive - Universiteit Utrecht\\WS_Mdl\\code\\.pixi\\envs\\default\\Lib\\site-packages\\pandas\\core\\reshape\\merge.py\u001b[39m in \u001b[36m?\u001b[39m\u001b[34m(left, right, how, on, left_on, right_on, left_index, right_index, sort, suffixes, copy, indicator, validate)\u001b[39m\n\u001b[32m    166\u001b[39m             validate=validate,\n\u001b[32m    167\u001b[39m             copy=copy,\n\u001b[32m    168\u001b[39m         )\n\u001b[32m    169\u001b[39m     \u001b[38;5;28;01melse\u001b[39;00m:\n\u001b[32m--> \u001b[39m\u001b[32m170\u001b[39m         op = _MergeOperation(\n\u001b[32m    171\u001b[39m             left_df,\n\u001b[32m    172\u001b[39m             right_df,\n\u001b[32m    173\u001b[39m             how=how,\n",
      "\u001b[32mc:\\Users\\Karam014\\OneDrive - Universiteit Utrecht\\WS_Mdl\\code\\.pixi\\envs\\default\\Lib\\site-packages\\pandas\\core\\reshape\\merge.py\u001b[39m in \u001b[36m?\u001b[39m\u001b[34m(self, left, right, how, on, left_on, right_on, left_index, right_index, sort, suffixes, indicator, validate)\u001b[39m\n\u001b[32m    790\u001b[39m             self.right_join_keys,\n\u001b[32m    791\u001b[39m             self.join_names,\n\u001b[32m    792\u001b[39m             left_drop,\n\u001b[32m    793\u001b[39m             right_drop,\n\u001b[32m--> \u001b[39m\u001b[32m794\u001b[39m         ) = self._get_merge_keys()\n\u001b[32m    795\u001b[39m \n\u001b[32m    796\u001b[39m         \u001b[38;5;28;01mif\u001b[39;00m left_drop:\n\u001b[32m    797\u001b[39m             self.left = self.left._drop_labels_or_levels(left_drop)\n",
      "\u001b[32mc:\\Users\\Karam014\\OneDrive - Universiteit Utrecht\\WS_Mdl\\code\\.pixi\\envs\\default\\Lib\\site-packages\\pandas\\core\\reshape\\merge.py\u001b[39m in \u001b[36m?\u001b[39m\u001b[34m(self)\u001b[39m\n\u001b[32m   1307\u001b[39m                     \u001b[38;5;28;01mif\u001b[39;00m lk \u001b[38;5;28;01mis\u001b[39;00m \u001b[38;5;28;01mnot\u001b[39;00m \u001b[38;5;28;01mNone\u001b[39;00m:\n\u001b[32m   1308\u001b[39m                         \u001b[38;5;66;03m# Then we're either Hashable or a wrong-length arraylike,\u001b[39;00m\n\u001b[32m   1309\u001b[39m                         \u001b[38;5;66;03m#  the latter of which will raise\u001b[39;00m\n\u001b[32m   1310\u001b[39m                         lk = cast(Hashable, lk)\n\u001b[32m-> \u001b[39m\u001b[32m1311\u001b[39m                         left_keys.append(left._get_label_or_level_values(lk))\n\u001b[32m   1312\u001b[39m                         join_names.append(lk)\n\u001b[32m   1313\u001b[39m                     \u001b[38;5;28;01melse\u001b[39;00m:\n\u001b[32m   1314\u001b[39m                         \u001b[38;5;66;03m# work-around for merge_asof(left_index=True)\u001b[39;00m\n",
      "\u001b[32mc:\\Users\\Karam014\\OneDrive - Universiteit Utrecht\\WS_Mdl\\code\\.pixi\\envs\\default\\Lib\\site-packages\\pandas\\core\\generic.py\u001b[39m in \u001b[36m?\u001b[39m\u001b[34m(self, key, axis)\u001b[39m\n\u001b[32m   1907\u001b[39m             values = self.xs(key, axis=other_axes[\u001b[32m0\u001b[39m])._values\n\u001b[32m   1908\u001b[39m         \u001b[38;5;28;01melif\u001b[39;00m self._is_level_reference(key, axis=axis):\n\u001b[32m   1909\u001b[39m             values = self.axes[axis].get_level_values(key)._values\n\u001b[32m   1910\u001b[39m         \u001b[38;5;28;01melse\u001b[39;00m:\n\u001b[32m-> \u001b[39m\u001b[32m1911\u001b[39m             \u001b[38;5;28;01mraise\u001b[39;00m KeyError(key)\n\u001b[32m   1912\u001b[39m \n\u001b[32m   1913\u001b[39m         \u001b[38;5;66;03m# Check for duplicates\u001b[39;00m\n\u001b[32m   1914\u001b[39m         \u001b[38;5;28;01mif\u001b[39;00m values.ndim > \u001b[32m1\u001b[39m:\n",
      "\u001b[31mKeyError\u001b[39m: 'DStr'"
     ]
    }
   ],
   "source": [
    "GDF_Elv = GDF_Elv.merge(GDF[['CODE', 'WS_BH_BOVENSTROOMS_L', 'WS_BH_BENEDENSTROOMS_L']], left_on='DStr', right_on='CODE', suffixes=('', '_DStr'))"
   ]
  },
  {
   "cell_type": "code",
   "execution_count": 54,
   "id": "2c2f4466",
   "metadata": {},
   "outputs": [
    {
     "ename": "KeyError",
     "evalue": "'DStr'",
     "output_type": "error",
     "traceback": [
      "\u001b[31m---------------------------------------------------------------------------\u001b[39m",
      "\u001b[31mKeyError\u001b[39m                                  Traceback (most recent call last)",
      "\u001b[32m~\\AppData\\Local\\Temp\\ipykernel_24824\\2744099870.py\u001b[39m in \u001b[36m?\u001b[39m\u001b[34m()\u001b[39m\n\u001b[32m----> \u001b[39m\u001b[32m1\u001b[39m GDF_Elv = GDF_Elv.merge(GDF[[\u001b[33m'CODE'\u001b[39m, \u001b[33m'WS_BH_BOVENSTROOMS_L'\u001b[39m, \u001b[33m'WS_BH_BENEDENSTROOMS_L'\u001b[39m]], left_on=\u001b[33m'DStr'\u001b[39m, right_on=\u001b[33m'CODE'\u001b[39m, suffixes=(\u001b[33m''\u001b[39m, \u001b[33m'_DStr'\u001b[39m))\n",
      "\u001b[32mc:\\Users\\Karam014\\OneDrive - Universiteit Utrecht\\WS_Mdl\\code\\.pixi\\envs\\default\\Lib\\site-packages\\pandas\\core\\frame.py\u001b[39m in \u001b[36m?\u001b[39m\u001b[34m(self, right, how, on, left_on, right_on, left_index, right_index, sort, suffixes, copy, indicator, validate)\u001b[39m\n\u001b[32m  10835\u001b[39m         validate: MergeValidate | \u001b[38;5;28;01mNone\u001b[39;00m = \u001b[38;5;28;01mNone\u001b[39;00m,\n\u001b[32m  10836\u001b[39m     ) -> DataFrame:\n\u001b[32m  10837\u001b[39m         \u001b[38;5;28;01mfrom\u001b[39;00m pandas.core.reshape.merge \u001b[38;5;28;01mimport\u001b[39;00m merge\n\u001b[32m  10838\u001b[39m \n\u001b[32m> \u001b[39m\u001b[32m10839\u001b[39m         return merge(\n\u001b[32m  10840\u001b[39m             self,\n\u001b[32m  10841\u001b[39m             right,\n\u001b[32m  10842\u001b[39m             how=how,\n",
      "\u001b[32mc:\\Users\\Karam014\\OneDrive - Universiteit Utrecht\\WS_Mdl\\code\\.pixi\\envs\\default\\Lib\\site-packages\\pandas\\core\\reshape\\merge.py\u001b[39m in \u001b[36m?\u001b[39m\u001b[34m(left, right, how, on, left_on, right_on, left_index, right_index, sort, suffixes, copy, indicator, validate)\u001b[39m\n\u001b[32m    166\u001b[39m             validate=validate,\n\u001b[32m    167\u001b[39m             copy=copy,\n\u001b[32m    168\u001b[39m         )\n\u001b[32m    169\u001b[39m     \u001b[38;5;28;01melse\u001b[39;00m:\n\u001b[32m--> \u001b[39m\u001b[32m170\u001b[39m         op = _MergeOperation(\n\u001b[32m    171\u001b[39m             left_df,\n\u001b[32m    172\u001b[39m             right_df,\n\u001b[32m    173\u001b[39m             how=how,\n",
      "\u001b[32mc:\\Users\\Karam014\\OneDrive - Universiteit Utrecht\\WS_Mdl\\code\\.pixi\\envs\\default\\Lib\\site-packages\\pandas\\core\\reshape\\merge.py\u001b[39m in \u001b[36m?\u001b[39m\u001b[34m(self, left, right, how, on, left_on, right_on, left_index, right_index, sort, suffixes, indicator, validate)\u001b[39m\n\u001b[32m    790\u001b[39m             self.right_join_keys,\n\u001b[32m    791\u001b[39m             self.join_names,\n\u001b[32m    792\u001b[39m             left_drop,\n\u001b[32m    793\u001b[39m             right_drop,\n\u001b[32m--> \u001b[39m\u001b[32m794\u001b[39m         ) = self._get_merge_keys()\n\u001b[32m    795\u001b[39m \n\u001b[32m    796\u001b[39m         \u001b[38;5;28;01mif\u001b[39;00m left_drop:\n\u001b[32m    797\u001b[39m             self.left = self.left._drop_labels_or_levels(left_drop)\n",
      "\u001b[32mc:\\Users\\Karam014\\OneDrive - Universiteit Utrecht\\WS_Mdl\\code\\.pixi\\envs\\default\\Lib\\site-packages\\pandas\\core\\reshape\\merge.py\u001b[39m in \u001b[36m?\u001b[39m\u001b[34m(self)\u001b[39m\n\u001b[32m   1307\u001b[39m                     \u001b[38;5;28;01mif\u001b[39;00m lk \u001b[38;5;28;01mis\u001b[39;00m \u001b[38;5;28;01mnot\u001b[39;00m \u001b[38;5;28;01mNone\u001b[39;00m:\n\u001b[32m   1308\u001b[39m                         \u001b[38;5;66;03m# Then we're either Hashable or a wrong-length arraylike,\u001b[39;00m\n\u001b[32m   1309\u001b[39m                         \u001b[38;5;66;03m#  the latter of which will raise\u001b[39;00m\n\u001b[32m   1310\u001b[39m                         lk = cast(Hashable, lk)\n\u001b[32m-> \u001b[39m\u001b[32m1311\u001b[39m                         left_keys.append(left._get_label_or_level_values(lk))\n\u001b[32m   1312\u001b[39m                         join_names.append(lk)\n\u001b[32m   1313\u001b[39m                     \u001b[38;5;28;01melse\u001b[39;00m:\n\u001b[32m   1314\u001b[39m                         \u001b[38;5;66;03m# work-around for merge_asof(left_index=True)\u001b[39;00m\n",
      "\u001b[32mc:\\Users\\Karam014\\OneDrive - Universiteit Utrecht\\WS_Mdl\\code\\.pixi\\envs\\default\\Lib\\site-packages\\pandas\\core\\generic.py\u001b[39m in \u001b[36m?\u001b[39m\u001b[34m(self, key, axis)\u001b[39m\n\u001b[32m   1907\u001b[39m             values = self.xs(key, axis=other_axes[\u001b[32m0\u001b[39m])._values\n\u001b[32m   1908\u001b[39m         \u001b[38;5;28;01melif\u001b[39;00m self._is_level_reference(key, axis=axis):\n\u001b[32m   1909\u001b[39m             values = self.axes[axis].get_level_values(key)._values\n\u001b[32m   1910\u001b[39m         \u001b[38;5;28;01melse\u001b[39;00m:\n\u001b[32m-> \u001b[39m\u001b[32m1911\u001b[39m             \u001b[38;5;28;01mraise\u001b[39;00m KeyError(key)\n\u001b[32m   1912\u001b[39m \n\u001b[32m   1913\u001b[39m         \u001b[38;5;66;03m# Check for duplicates\u001b[39;00m\n\u001b[32m   1914\u001b[39m         \u001b[38;5;28;01mif\u001b[39;00m values.ndim > \u001b[32m1\u001b[39m:\n",
      "\u001b[31mKeyError\u001b[39m: 'DStr'"
     ]
    }
   ],
   "source": [
    "GDF_Elv = GDF_Elv.merge(GDF[['CODE', 'WS_BH_BOVENSTROOMS_L', 'WS_BH_BENEDENSTROOMS_L']], left_on='DStr', right_on='CODE', suffixes=('', '_DStr'))"
   ]
  },
  {
   "cell_type": "code",
   "execution_count": 53,
   "id": "320ea2f3",
   "metadata": {},
   "outputs": [],
   "source": [
    "GDF_Elv[['C', 'D']] = GDF_Elv[['WS_BH_BENEDENSTROOMS_L', 'WS_BH_BOVENSTROOMS_L']].copy()"
   ]
  },
  {
   "cell_type": "markdown",
   "id": "664a3b40",
   "metadata": {},
   "source": [
    "#### Conclusion"
   ]
  },
  {
   "cell_type": "markdown",
   "id": "579bb2a0",
   "metadata": {},
   "source": [
    "**Custom hydrography** <br>\n",
    "Any Polyline shapefile can be supplied in lieu of NHDPlus, but it must have the following columns, as shown in the second example:\n",
    "1. flowlines_file: path to shapefile <br>\n",
    "    -> **Pa_GPkg_1ry** <br>\n",
    "2. id_column: unique identifier for each polyline <br>\n",
    "    -> **OBJECTID** <br>\n",
    "3. routing_column: downstream connection (ID), 0 if none <br>\n",
    "    -> **DStr_ID** <br>\n",
    "4. width1_column: channel width at start of line, in attr\\_length\\_units (optional) <br>\n",
    "    -> **WS_BODEMBREEDTE_L** <br>\n",
    "5. width2_column: channel width at end of line, in attr_length_units (optional) <br>\n",
    "    -> **WS_BODEMBREEDTE_L** <br>\n",
    "6. up_elevation_column: streambed elevation at start of line, in attr_height_units <br>\n",
    "    -> **WS_BH_BOVENSTROOMS_L** <br>\n",
    "7. dn_elevation_column: streambed elevation at end of line, in attr_height_units <br>\n",
    "    -> **WS_BH_BENEDENSTROOMS_L** <br>\n",
    "8. name_column: stream name (optional) <br>\n",
    "    -> **CODE** <br>\n",
    "9. attr_length_units: channel width units <br>\n",
    "    -> **'m'** <br>\n",
    "10. attr_height_units: streambed elevation units <br>\n",
    "    -> **'m'** <br>"
   ]
  },
  {
   "cell_type": "code",
   "execution_count": null,
   "id": "cd4a4970",
   "metadata": {},
   "outputs": [],
   "source": []
  },
  {
   "cell_type": "code",
   "execution_count": null,
   "id": "a3b5467e",
   "metadata": {},
   "outputs": [],
   "source": []
  },
  {
   "cell_type": "markdown",
   "id": "4692b24d",
   "metadata": {},
   "source": [
    "# Create Grid and Generate SFR Routing Network"
   ]
  },
  {
   "cell_type": "code",
   "execution_count": 89,
   "id": "2bbe7057",
   "metadata": {},
   "outputs": [],
   "source": [
    "# help(sfr.Lines.from_dataframe)"
   ]
  },
  {
   "cell_type": "code",
   "execution_count": 88,
   "id": "21ff882b",
   "metadata": {},
   "outputs": [],
   "source": [
    "# help(sfr.Lines.from_shapefile)"
   ]
  },
  {
   "cell_type": "code",
   "execution_count": 57,
   "id": "01f999a4",
   "metadata": {},
   "outputs": [
    {
     "name": "stderr",
     "output_type": "stream",
     "text": [
      "c:\\Users\\Karam014\\OneDrive - Universiteit Utrecht\\WS_Mdl\\code\\.pixi\\envs\\default\\Lib\\site-packages\\sfrmaker\\lines.py:93: PendingDeprecationWarning: attr_length_units argument is deprecated, use width_units or asum_units instead\n",
      "  warnings.warn(\n",
      "c:\\Users\\Karam014\\OneDrive - Universiteit Utrecht\\WS_Mdl\\code\\.pixi\\envs\\default\\Lib\\site-packages\\sfrmaker\\lines.py:101: PendingDeprecationWarning: attr_height_units argument is deprecated, use elevation_units instead\n",
      "  warnings.warn(\n"
     ]
    }
   ],
   "source": [
    "lines = sfr.Lines.from_dataframe(df=GDF,\n",
    "    id_column='OBJECTID',\n",
    "    routing_column='DStr_ID',\n",
    "    width1_column='WS_BODEMBREEDTE_L', width2_column='WS_BODEMBREEDTE_L',\n",
    "    up_elevation_column='WS_BH_BOVENSTROOMS_L',\n",
    "    dn_elevation_column='WS_BH_BENEDENSTROOMS_L',\n",
    "    name_column='CODE',\n",
    "    attr_length_units='m',\n",
    "    attr_height_units='m',\n",
    "    crs=GDF.crs\n",
    "    #    shapefile=Pa_GPkg_1ry_SHP_SFR,\n",
    "\n",
    ")"
   ]
  },
  {
   "cell_type": "code",
   "execution_count": null,
   "id": "e0102847",
   "metadata": {},
   "outputs": [],
   "source": [
    "lines"
   ]
  },
  {
   "cell_type": "markdown",
   "id": "aa88da1b",
   "metadata": {},
   "source": [
    "## Explore SFRmaker Lines Object\n",
    "\n",
    "Now that we have successfully created the `lines` object, let's explore what we can do with it:"
   ]
  },
  {
   "cell_type": "code",
   "execution_count": 83,
   "id": "b48fb3d8",
   "metadata": {},
   "outputs": [
    {
     "name": "stdout",
     "output_type": "stream",
     "text": [
      "=== Basic Lines Object Information ===\n",
      "Number of stream segments: 591\n",
      "Columns in lines dataframe: ['id', 'toid', 'asum1', 'asum2', 'width1', 'width2', 'elevup', 'elevdn', 'name', 'geometry']\n",
      "CRS: EPSG:28992\n",
      "Total network length: 148.0 km\n"
     ]
    }
   ],
   "source": [
    "# 1. Basic information about the lines object\n",
    "print(\"=== Basic Lines Object Information ===\")\n",
    "print(f\"Number of stream segments: {len(lines.df)}\")\n",
    "print(f\"Columns in lines dataframe: {list(lines.df.columns)}\")\n",
    "print(f\"CRS: {lines.df.crs}\")\n",
    "print(f\"Total network length: {lines.df.geometry.length.sum()/1000:.1f} km\")"
   ]
  },
  {
   "cell_type": "code",
   "execution_count": 84,
   "id": "f08eee43",
   "metadata": {},
   "outputs": [
    {
     "name": "stdout",
     "output_type": "stream",
     "text": [
      "=== Lines DataFrame Sample ===\n"
     ]
    },
    {
     "data": {
      "text/html": [
       "<div>\n",
       "<style scoped>\n",
       "    .dataframe tbody tr th:only-of-type {\n",
       "        vertical-align: middle;\n",
       "    }\n",
       "\n",
       "    .dataframe tbody tr th {\n",
       "        vertical-align: top;\n",
       "    }\n",
       "\n",
       "    .dataframe thead th {\n",
       "        text-align: right;\n",
       "    }\n",
       "</style>\n",
       "<table border=\"1\" class=\"dataframe\">\n",
       "  <thead>\n",
       "    <tr style=\"text-align: right;\">\n",
       "      <th></th>\n",
       "      <th>id</th>\n",
       "      <th>toid</th>\n",
       "      <th>asum1</th>\n",
       "      <th>asum2</th>\n",
       "      <th>width1</th>\n",
       "      <th>width2</th>\n",
       "      <th>elevup</th>\n",
       "      <th>elevdn</th>\n",
       "      <th>name</th>\n",
       "      <th>geometry</th>\n",
       "    </tr>\n",
       "  </thead>\n",
       "  <tbody>\n",
       "    <tr>\n",
       "      <th>14</th>\n",
       "      <td>15</td>\n",
       "      <td>10620</td>\n",
       "      <td>-337.833088</td>\n",
       "      <td>0</td>\n",
       "      <td>1.0</td>\n",
       "      <td>1.0</td>\n",
       "      <td>1.18</td>\n",
       "      <td>1.05</td>\n",
       "      <td>OVK02998</td>\n",
       "      <td>LINESTRING (114635.707 395108.94, 114632.161 3...</td>\n",
       "    </tr>\n",
       "    <tr>\n",
       "      <th>61</th>\n",
       "      <td>62</td>\n",
       "      <td>10288</td>\n",
       "      <td>-177.084731</td>\n",
       "      <td>0</td>\n",
       "      <td>1.0</td>\n",
       "      <td>1.0</td>\n",
       "      <td>11.85</td>\n",
       "      <td>11.40</td>\n",
       "      <td>OVK01660</td>\n",
       "      <td>LINESTRING (121796.6 395861.57, 121796.609 395...</td>\n",
       "    </tr>\n",
       "    <tr>\n",
       "      <th>147</th>\n",
       "      <td>148</td>\n",
       "      <td>298</td>\n",
       "      <td>-15.562435</td>\n",
       "      <td>0</td>\n",
       "      <td>1.0</td>\n",
       "      <td>1.0</td>\n",
       "      <td>12.21</td>\n",
       "      <td>12.19</td>\n",
       "      <td>OVK20472</td>\n",
       "      <td>LINESTRING (119937.312 389911.54, 119929.425 3...</td>\n",
       "    </tr>\n",
       "    <tr>\n",
       "      <th>148</th>\n",
       "      <td>149</td>\n",
       "      <td>7051</td>\n",
       "      <td>-14.668250</td>\n",
       "      <td>0</td>\n",
       "      <td>1.0</td>\n",
       "      <td>1.0</td>\n",
       "      <td>9.49</td>\n",
       "      <td>9.42</td>\n",
       "      <td>OVK01485</td>\n",
       "      <td>LINESTRING (118662.842 391082.725, 118653.883 ...</td>\n",
       "    </tr>\n",
       "    <tr>\n",
       "      <th>149</th>\n",
       "      <td>150</td>\n",
       "      <td>7184</td>\n",
       "      <td>-449.989379</td>\n",
       "      <td>0</td>\n",
       "      <td>1.0</td>\n",
       "      <td>1.0</td>\n",
       "      <td>13.53</td>\n",
       "      <td>12.76</td>\n",
       "      <td>OVK01428</td>\n",
       "      <td>LINESTRING (119746.239 388831.654, 119513.879 ...</td>\n",
       "    </tr>\n",
       "  </tbody>\n",
       "</table>\n",
       "</div>"
      ],
      "text/plain": [
       "      id   toid       asum1  asum2  width1  width2  elevup  elevdn      name  \\\n",
       "14    15  10620 -337.833088      0     1.0     1.0    1.18    1.05  OVK02998   \n",
       "61    62  10288 -177.084731      0     1.0     1.0   11.85   11.40  OVK01660   \n",
       "147  148    298  -15.562435      0     1.0     1.0   12.21   12.19  OVK20472   \n",
       "148  149   7051  -14.668250      0     1.0     1.0    9.49    9.42  OVK01485   \n",
       "149  150   7184 -449.989379      0     1.0     1.0   13.53   12.76  OVK01428   \n",
       "\n",
       "                                              geometry  \n",
       "14   LINESTRING (114635.707 395108.94, 114632.161 3...  \n",
       "61   LINESTRING (121796.6 395861.57, 121796.609 395...  \n",
       "147  LINESTRING (119937.312 389911.54, 119929.425 3...  \n",
       "148  LINESTRING (118662.842 391082.725, 118653.883 ...  \n",
       "149  LINESTRING (119746.239 388831.654, 119513.879 ...  "
      ]
     },
     "execution_count": 84,
     "metadata": {},
     "output_type": "execute_result"
    }
   ],
   "source": [
    "# 2. View the lines dataframe structure\n",
    "print(\"=== Lines DataFrame Sample ===\")\n",
    "lines.df.head()"
   ]
  },
  {
   "cell_type": "markdown",
   "id": "212174a4",
   "metadata": {},
   "source": [
    "### Now you can do several things with the `lines` object:\n",
    "\n",
    "**1. Create SFR Package for MODFLOW 6:**"
   ]
  },
  {
   "cell_type": "code",
   "execution_count": 85,
   "id": "0395ce08",
   "metadata": {},
   "outputs": [
    {
     "name": "stdout",
     "output_type": "stream",
     "text": [
      "✓ Lines object ready for grid intersection and SFR package creation\n",
      "Next steps: Define your MODFLOW 6 model grid and create SFR package\n"
     ]
    }
   ],
   "source": [
    "# First, you'll need to create a model grid to intersect the lines with\n",
    "# This is typically done using flopy or similar tools\n",
    "\n",
    "# Example of what you might do next (you'll need to define your model grid):\n",
    "\"\"\"\n",
    "# Create a model grid (this is just an example structure)\n",
    "import flopy\n",
    "\n",
    "# Define model domain\n",
    "nlay, nrow, ncol = 1, 100, 100  # Example dimensions\n",
    "delr = delc = 100  # 100m cell size\n",
    "xoff, yoff = Xmin, Ymin  # Use your model bounds\n",
    "\n",
    "# Create a simple structured grid\n",
    "sim = flopy.mf6.MFSimulation('sfr_model')\n",
    "gwf = flopy.mf6.MFModel(sim, modelname='model')\n",
    "dis = flopy.mf6.ModflowGwfdis(gwf, nlay=nlay, nrow=nrow, ncol=ncol, \n",
    "                              delr=delr, delc=delc, xorigin=xoff, yorigin=yoff)\n",
    "\n",
    "# Then use SFRmaker to create the SFR package:\n",
    "sfr_package = lines.to_sfr(model=gwf, \n",
    "                          grid=dis.grid,  # or your grid object\n",
    "                          package_name='sfr')\n",
    "\"\"\"\n",
    "\n",
    "print(\"✓ Lines object ready for grid intersection and SFR package creation\")\n",
    "print(\"Next steps: Define your MODFLOW 6 model grid and create SFR package\")"
   ]
  },
  {
   "cell_type": "code",
   "execution_count": 86,
   "id": "b5e956c9",
   "metadata": {},
   "outputs": [
    {
     "name": "stdout",
     "output_type": "stream",
     "text": [
      "=== Visualizing Stream Network ===\n"
     ]
    },
    {
     "data": {
      "image/png": "[encoded data removed]",
      "text/plain": [
       "<Figure size 1200x800 with 1 Axes>"
      ]
     },
     "metadata": {},
     "output_type": "display_data"
    },
    {
     "name": "stdout",
     "output_type": "stream",
     "text": [
      "✓ Stream network contains 591 segments\n"
     ]
    }
   ],
   "source": [
    "# 3. Visualize the stream network\n",
    "print(\"=== Visualizing Stream Network ===\")\n",
    "fig, ax = plt.subplots(figsize=(12, 8))\n",
    "\n",
    "# Plot the stream network\n",
    "lines.df.plot(ax=ax, color='blue', linewidth=1, alpha=0.7)\n",
    "\n",
    "# Add model boundary\n",
    "from matplotlib.patches import Rectangle\n",
    "model_rect = Rectangle((Xmin, Ymin), Xmax-Xmin, Ymax-Ymin, \n",
    "                      linewidth=2, edgecolor='red', facecolor='none', \n",
    "                      linestyle='--', label='Model boundary')\n",
    "ax.add_patch(model_rect)\n",
    "\n",
    "ax.set_title('SFRmaker Stream Network')\n",
    "ax.set_xlabel('X coordinate (m)')\n",
    "ax.set_ylabel('Y coordinate (m)')\n",
    "ax.legend()\n",
    "ax.grid(True, alpha=0.3)\n",
    "\n",
    "plt.tight_layout()\n",
    "plt.show()\n",
    "\n",
    "print(f\"✓ Stream network contains {len(lines.df)} segments\")"
   ]
  },
  {
   "cell_type": "code",
   "execution_count": null,
   "id": "90da488a",
   "metadata": {},
   "outputs": [],
   "source": [
    "# 4. Analyze network connectivity\n",
    "print(\"=== Network Connectivity Analysis ===\")\n",
    "print(f\"Segments with downstream connections: {(lines.df['toid'] != 0).sum()}\")\n",
    "print(f\"Terminal segments (outlets): {(lines.df['toid'] == 0).sum()}\")\n",
    "print(f\"Unique downstream connections: {lines.df['toid'].nunique()}\")\n",
    "\n",
    "# Find headwater segments (no segments flow into them)\n",
    "all_ids = set(lines.df['id'])\n",
    "downstream_ids = set(lines.df['toid']) - {0}  # Remove 0 (outlets)\n",
    "headwater_segments = all_ids - downstream_ids\n",
    "print(f\"Headwater segments: {len(headwater_segments)}\")\n",
    "\n",
    "# Show some statistics\n",
    "print(f\"\\nElevation range: {lines.df['elevup'].min():.2f} - {lines.df['elevup'].max():.2f} m\")\n",
    "print(f\"Width range: {lines.df['width2'].min():.2f} - {lines.df['width2'].max():.2f} m\")"
   ]
  },
  {
   "cell_type": "markdown",
   "id": "017b53c7",
   "metadata": {},
   "source": [
    "### What you can do next with the `lines` object:\n",
    "\n",
    "**Main Applications:**\n",
    "\n",
    "1. **Create MODFLOW 6 SFR Package** - The primary goal\n",
    "2. **Export processed data** - Save cleaned stream network\n",
    "3. **Quality control** - Validate routing and elevations  \n",
    "4. **Visualization** - Create maps and plots\n",
    "5. **Analysis** - Network statistics and connectivity\n",
    "\n",
    "**Next Steps for MODFLOW 6 Integration:**"
   ]
  },
  {
   "cell_type": "code",
   "execution_count": null,
   "id": "95d5d88b",
   "metadata": {},
   "outputs": [],
   "source": [
    "# Add elevation data to stream network\n",
    "# Merge elevation data from GDF to GDF_Elv based on downstream connections\n",
    "print(\"Adding elevation data to stream network...\")\n",
    "\n",
    "try:\n",
    "    # Merge with GDF to get width information for downstream segments\n",
    "    GDF_Elv = GDF_Elv.merge(GDF[['CODE', 'WS_BH_BOVENSTROOMS_L', 'WS_BH_BENEDENSTROOMS_L']], \n",
    "                             left_on='DStr', right_on='CODE', suffixes=('', '_DStr'))\n",
    "    print(f\"✓ Successfully merged elevation data with stream widths\")\n",
    "    print(f\"  GDF_Elv shape after merge: {GDF_Elv.shape}\")\n",
    "except Exception as e:\n",
    "    print(f\"⚠ Warning: Could not merge elevation data: {e}\")\n",
    "    print(\"  Proceeding without downstream width information\")"
   ]
  },
  {
   "cell_type": "code",
   "execution_count": null,
   "id": "a03c3a7e",
   "metadata": {},
   "outputs": [],
   "source": [
    "# Import and load MF6 model components\n",
    "print(\"Loading MF6 model components...\")\n",
    "\n",
    "try:\n",
    "    # Import the simulation\n",
    "    # Note: These variables should be defined from your earlier model loading code\n",
    "    if 'Sim_MF6' in locals():\n",
    "        print(f\"✓ Simulation available: {type(Sim_MF6)}\")\n",
    "        \n",
    "    if 'MF6_Mdl' in locals():\n",
    "        print(f\"✓ MF6 model available: {type(MF6_Mdl)}\")\n",
    "        \n",
    "    if 'MF6_DIS' in locals():\n",
    "        print(f\"✓ Discretization available: {type(MF6_DIS)}\")\n",
    "        print(f\"  Grid dimensions: {MF6_DIS.dataset.dims}\")\n",
    "        \n",
    "    # Display available model packages if MF6 model exists\n",
    "    if 'MF6_Mdl' in locals() and hasattr(MF6_Mdl, 'keys'):\n",
    "        print(f\"✓ Available packages: {list(MF6_Mdl.keys())}\")\n",
    "    \n",
    "except Exception as e:\n",
    "    print(f\"⚠ Warning: Issues with MF6 model components: {e}\")\n",
    "    print(\"  Make sure the model has been properly loaded earlier in the notebook\")"
   ]
  },
  {
   "cell_type": "code",
   "execution_count": null,
   "id": "9c71c920",
   "metadata": {},
   "outputs": [],
   "source": [
    "# Setup coupling between MetaSWAP and MODFLOW 6 using primod\n",
    "print(\"Setting up MetaSWAP-MODFLOW coupling...\")\n",
    "\n",
    "try:\n",
    "    # Check if primod is available\n",
    "    if 'primod' in locals() or 'primod' in globals():\n",
    "        print(\"✓ primod available for coupling\")\n",
    "        \n",
    "        # Create coupling configuration\n",
    "        # This assumes MSW_Mdl_AoI and Sim_MF6_AoI are available from earlier loading\n",
    "        if 'MSW_Mdl_AoI' in locals() and 'Sim_MF6_AoI' in locals():\n",
    "            metamod_coupling = primod.MetaModDriverCoupling(\n",
    "                mf6_model=\"imported_model\", \n",
    "                mf6_recharge_package=\"msw-rch\", \n",
    "                mf6_wel_package=\"msw-sprinkling\"\n",
    "            )\n",
    "            \n",
    "            metamod = primod.MetaMod(MSW_Mdl_AoI, Sim_MF6_AoI, \n",
    "                                   coupling_list=[metamod_coupling])\n",
    "            \n",
    "            print(\"✓ Coupling configured successfully\")\n",
    "        else:\n",
    "            print(\"⚠ MSW_Mdl_AoI or Sim_MF6_AoI not available\")\n",
    "    else:\n",
    "        print(\"⚠ primod not available - make sure it's imported earlier\")\n",
    "        \n",
    "except Exception as e:\n",
    "    print(f\"⚠ Warning: Could not setup coupling: {e}\")\n",
    "    print(\"  Ensure primod is imported and models are properly loaded\")"
   ]
  },
  {
   "cell_type": "markdown",
   "id": "d69dd212",
   "metadata": {},
   "source": [
    "#### Solution: Create SFRmaker-compatible Grid from imod DIS\n",
    "\n",
    "Since SFRmaker expects a flopy-style grid object, we need to create one from the imod StructuredDiscretization data. We'll build the required components manually."
   ]
  },
  {
   "cell_type": "code",
   "execution_count": 77,
   "id": "3674394d",
   "metadata": {},
   "outputs": [
    {
     "name": "stdout",
     "output_type": "stream",
     "text": [
      "Creating flopy StructuredGrid directly for SFRmaker...\n",
      "Grid dimensions: 37 layers, 344 rows, 480 columns\n",
      "Cell size: dx=25.0, dy=25.0\n",
      "Grid origin (upper-left): x=113100.0, y=396200.0\n",
      "✓ Created flopy grid: <class 'flopy.discretization.structuredgrid.StructuredGrid'>\n",
      "✓ Created SFRmaker grid: <class 'sfrmaker.grid.StructuredGrid'>\n",
      "Grid bounds: (np.float64(113100.0), np.float64(387600.0), np.float64(125100.0), np.float64(396200.0))\n",
      "Grid size: 165120\n"
     ]
    }
   ],
   "source": [
    "# Simple approach: Create flopy StructuredGrid directly\n",
    "import flopy\n",
    "import numpy as np\n",
    "\n",
    "print(\"Creating flopy StructuredGrid directly for SFRmaker...\")\n",
    "\n",
    "# Extract grid information from imod DIS\n",
    "nlay, nrow, ncol = MF6_DIS.dataset.dims['layer'], MF6_DIS.dataset.dims['y'], MF6_DIS.dataset.dims['x']\n",
    "dx = float(MF6_DIS.dataset.coords['dx'].values)\n",
    "dy = abs(float(MF6_DIS.dataset.coords['dy'].values))  # Make positive\n",
    "x_coords = MF6_DIS.dataset.coords['x'].values\n",
    "y_coords = MF6_DIS.dataset.coords['y'].values\n",
    "\n",
    "# Calculate grid origin (upper left corner)\n",
    "xorigin = x_coords.min() - dx/2  # Cell centers to cell edges\n",
    "yorigin = y_coords.max() + dy/2  # Cell centers to cell edges\n",
    "\n",
    "print(f\"Grid dimensions: {nlay} layers, {nrow} rows, {ncol} columns\")\n",
    "print(f\"Cell size: dx={dx}, dy={dy}\")\n",
    "print(f\"Grid origin (upper-left): x={xorigin:.1f}, y={yorigin:.1f}\")\n",
    "\n",
    "# Create flopy StructuredGrid directly (no model needed!)\n",
    "flopy_grid = flopy.discretization.StructuredGrid(\n",
    "    delr=np.full(ncol, dx),      # Column widths\n",
    "    delc=np.full(nrow, dy),      # Row heights  \n",
    "    top=np.ones((nrow, ncol)),   # Dummy top elevations\n",
    "    botm=np.zeros((nlay, nrow, ncol)),  # Dummy bottom elevations\n",
    "    idomain=np.ones((nlay, nrow, ncol), dtype=int),  # All cells active\n",
    "    xoff=xorigin,  # X offset (origin)\n",
    "    yoff=yorigin - nrow * dy,  # Y offset (bottom edge, not top)\n",
    ")\n",
    "\n",
    "print(f\"✓ Created flopy grid: {type(flopy_grid)}\")\n",
    "\n",
    "# Now create the SFRmaker StructuredGrid using the flopy grid\n",
    "sfrmaker_grid = sfrmaker.StructuredGrid.from_modelgrid(\n",
    "    mg=flopy_grid,\n",
    "    active_area=None,  # We'll use the full grid for now\n",
    "    isfr=None  # SFRmaker will determine this\n",
    ")\n",
    "\n",
    "print(f\"✓ Created SFRmaker grid: {type(sfrmaker_grid)}\")\n",
    "print(f\"Grid bounds: {sfrmaker_grid.bounds}\")\n",
    "print(f\"Grid size: {sfrmaker_grid.size}\")"
   ]
  },
  {
   "cell_type": "markdown",
   "id": "ea592416",
   "metadata": {},
   "source": [
    "## Load PRJ"
   ]
  },
  {
   "cell_type": "code",
   "execution_count": 58,
   "id": "c242e17e",
   "metadata": {},
   "outputs": [],
   "source": [
    "PRJ_, PRJ_OBS = UIM.o_PRJ_with_OBS(Pa_PRJ)"
   ]
  },
  {
   "cell_type": "code",
   "execution_count": 59,
   "id": "f3fbbaa2",
   "metadata": {},
   "outputs": [],
   "source": [
    "PRJ, period_data = PRJ_[0], PRJ_[1]"
   ]
  },
  {
   "cell_type": "markdown",
   "id": "a8fbebd4",
   "metadata": {},
   "source": [
    "## Load DIS and limit to Mdl Aa"
   ]
  },
  {
   "cell_type": "code",
   "execution_count": 60,
   "id": "5911eeb2",
   "metadata": {},
   "outputs": [],
   "source": [
    "PRJ_regrid = UIM.regrid_PRJ(PRJ, MdlN)"
   ]
  },
  {
   "cell_type": "code",
   "execution_count": 61,
   "id": "69d57c62",
   "metadata": {},
   "outputs": [],
   "source": [
    "BND = PRJ_regrid['bnd']['ibound']"
   ]
  },
  {
   "cell_type": "code",
   "execution_count": 62,
   "id": "8d2bda6a",
   "metadata": {},
   "outputs": [
    {
     "name": "stdout",
     "output_type": "stream",
     "text": [
      "✅ Boundary conditions set successfully!\n"
     ]
    }
   ],
   "source": [
    "# Set outer boundaries to -1 (for CHD)\n",
    "\n",
    "# Get the coordinate indices for boundaries\n",
    "y_coords = BND.y\n",
    "x_coords = BND.x\n",
    "first_y = y_coords.isel(y=0)  # First y coordinate\n",
    "last_y = y_coords.isel(y=-1)  # Last y coordinate  \n",
    "first_x = x_coords.isel(x=0)  # First x coordinate\n",
    "last_x = x_coords.isel(x=-1)  # Last x coordinate\n",
    "\n",
    "# Set boundary values using .loc indexing\n",
    "BND.loc[:, first_y, :] = -1  # Top row (all layers, first y, all x)\n",
    "BND.loc[:, last_y, :] = -1   # Bottom row (all layers, last y, all x)\n",
    "BND.loc[:, :, first_x] = -1  # Left column (all layers, all y, first x)  \n",
    "BND.loc[:, :, last_x] = -1   # Right column (all layers, all y, last x)\n",
    "\n",
    "print(\"✅ Boundary conditions set successfully!\")"
   ]
  },
  {
   "cell_type": "code",
   "execution_count": 63,
   "id": "179cca68",
   "metadata": {},
   "outputs": [
    {
     "name": "stdout",
     "output_type": "stream",
     "text": [
      "✅ Boundary conditions set successfully!\n"
     ]
    }
   ],
   "source": [
    "# Set outer boundaries to -1 (for CHD)\n",
    "BND.loc[:, [BND.y[0], BND.y[-1]], :] = -1  # Top and bottom rows\n",
    "BND.loc[:, :, [BND.x[0], BND.x[-1]]] = -1  # Left and right columns\n",
    "\n",
    "print(\"✅ Boundary conditions set successfully!\")\n"
   ]
  },
  {
   "cell_type": "code",
   "execution_count": 64,
   "id": "1dfae349",
   "metadata": {},
   "outputs": [
    {
     "data": {
      "text/plain": [
       "<matplotlib.image.AxesImage at 0x1d8f1edde80>"
      ]
     },
     "execution_count": 64,
     "metadata": {},
     "output_type": "execute_result"
    },
    {
     "data": {
      "text/plain": [
       "<matplotlib.image.AxesImage at 0x1d8f1edde80>"
      ]
     },
     "execution_count": 64,
     "metadata": {},
     "output_type": "execute_result"
    },
    {
     "data": {
      "image/png": "[encoded data removed]",
      "text/plain": [
       "<Figure size 640x480 with 2 Axes>"
      ]
     },
     "metadata": {},
     "output_type": "display_data"
    }
   ],
   "source": [
    "BND.isel(layer=0, x=range(0,10), y=range(0,10)).plot.imshow(cmap='viridis')"
   ]
  },
  {
   "cell_type": "markdown",
   "id": "4facaac6",
   "metadata": {},
   "source": [
    "## Load MF6 Mdl"
   ]
  },
  {
   "cell_type": "markdown",
   "id": "8b0d6fc9",
   "metadata": {},
   "source": [
    "Using original PRJ to load MF6 Mdl gives warnings (and it's very slow). Thus, well use the regridded PRJ, which is much faster. It can be further sped up by multi-processing, but this is not implemented yet."
   ]
  },
  {
   "cell_type": "markdown",
   "id": "4facaac6",
   "metadata": {},
   "source": [
    "## Load MF6 Mdl"
   ]
  },
  {
   "cell_type": "markdown",
   "id": "4facaac6",
   "metadata": {},
   "source": [
    "## Load MF6 Mdl"
   ]
  },
  {
   "cell_type": "markdown",
   "id": "4facaac6",
   "metadata": {},
   "source": [
    "## Load MF6 Mdl"
   ]
  },
  {
   "cell_type": "markdown",
   "id": "8b0d6fc9",
   "metadata": {},
   "source": [
    "Using original PRJ to load MF6 Mdl gives warnings (and it's very slow). Thus, well use the regridded PRJ, which is much faster. It can be further sped up by multi-processing, but this is not implemented yet."
   ]
  },
  {
   "cell_type": "markdown",
   "id": "8b0d6fc9",
   "metadata": {},
   "source": [
    "Using original PRJ to load MF6 Mdl gives warnings (and it's very slow). Thus, well use the regridded PRJ, which is much faster. It can be further sped up by multi-processing, but this is not implemented yet."
   ]
  },
  {
   "cell_type": "code",
   "execution_count": 67,
   "id": "4bd35450",
   "metadata": {},
   "outputs": [],
   "source": [
    "MF6_Mdl = Sim_MF6['imported_model']"
   ]
  },
  {
   "cell_type": "code",
   "execution_count": 67,
   "id": "4bd35450",
   "metadata": {},
   "outputs": [],
   "source": [
    "MF6_Mdl = Sim_MF6['imported_model']"
   ]
  },
  {
   "cell_type": "code",
   "execution_count": 67,
   "id": "4bd35450",
   "metadata": {},
   "outputs": [],
   "source": [
    "MF6_Mdl = Sim_MF6['imported_model']"
   ]
  },
  {
   "cell_type": "code",
   "execution_count": 69,
   "id": "83e0fc19",
   "metadata": {},
   "outputs": [],
   "source": [
    "MF6_DIS = MF6_Mdl[\"dis\"]  # This gets the OLD 100m grid"
   ]
  },
  {
   "cell_type": "code",
   "execution_count": null,
   "id": "8176560e",
   "metadata": {},
   "outputs": [],
   "source": []
  },
  {
   "cell_type": "code",
   "execution_count": null,
   "id": "8176560e",
   "metadata": {},
   "outputs": [],
   "source": []
  },
  {
   "cell_type": "code",
   "execution_count": 70,
   "id": "d71efad0",
   "metadata": {},
   "outputs": [
    {
     "data": {
      "text/plain": [
       "imod.mf6.model_gwf.GroundwaterFlowModel"
      ]
     },
     "execution_count": 70,
     "metadata": {},
     "output_type": "execute_result"
    }
   ],
   "source": [
    "type(MF6_Mdl)"
   ]
  },
  {
   "cell_type": "code",
   "execution_count": 70,
   "id": "d71efad0",
   "metadata": {},
   "outputs": [
    {
     "data": {
      "text/plain": [
       "imod.mf6.model_gwf.GroundwaterFlowModel"
      ]
     },
     "execution_count": 70,
     "metadata": {},
     "output_type": "execute_result"
    }
   ],
   "source": [
    "type(MF6_Mdl)"
   ]
  },
  {
   "cell_type": "code",
   "execution_count": 70,
   "id": "d71efad0",
   "metadata": {},
   "outputs": [
    {
     "data": {
      "text/plain": [
       "imod.mf6.model_gwf.GroundwaterFlowModel"
      ]
     },
     "execution_count": 70,
     "metadata": {},
     "output_type": "execute_result"
    }
   ],
   "source": [
    "type(MF6_Mdl)"
   ]
  },
  {
   "cell_type": "code",
   "execution_count": 72,
   "id": "970e3568",
   "metadata": {},
   "outputs": [
    {
     "name": "stdout",
     "output_type": "stream",
     "text": [
      "\n",
      "SFRmaker version 0.11.3\n",
      "\n",
      "Creating sfr dataset...\n"
     ]
    },
    {
     "name": "stdout",
     "output_type": "stream",
     "text": [
      "\n",
      "SFRmaker version 0.11.3\n",
      "\n",
      "Creating sfr dataset...\n"
     ]
    },
    {
     "ename": "TypeError",
     "evalue": "Unrecognized input for grid: StructuredDiscretization\n<xarray.Dataset> Size: 99MB\nDimensions:  (layer: 37, y: 344, x: 480)\nCoordinates:\n    dx       float64 8B 25.0\n    dy       float64 8B -25.0\n  * layer    (layer) int64 296B 1 2 3 4 5 6 7 8 9 ... 29 30 31 32 33 34 35 36 37\n  * y        (y) float64 3kB 3.962e+05 3.962e+05 ... 3.876e+05 3.876e+05\n  * x        (x) float64 4kB 1.131e+05 1.131e+05 ... 1.251e+05 1.251e+05\nData variables:\n    idomain  (layer, y, x) int64 49MB 1 1 1 1 1 1 1 1 1 1 ... 1 1 1 1 1 1 1 1 1\n    top      (y, x) float64 1MB 4.113 4.057 4.046 4.079 ... 24.71 24.66 24.64\n    bottom   (layer, y, x) float64 49MB 4.063 4.008 3.996 ... -214.8 -214.9",
     "output_type": "error",
     "traceback": [
      "\u001b[31m---------------------------------------------------------------------------\u001b[39m",
      "\u001b[31mTypeError\u001b[39m                                 Traceback (most recent call last)",
      "\u001b[36mCell\u001b[39m\u001b[36m \u001b[39m\u001b[32mIn[72]\u001b[39m\u001b[32m, line 1\u001b[39m\n\u001b[32m----> \u001b[39m\u001b[32m1\u001b[39m sfrdata = \u001b[43mlines\u001b[49m\u001b[43m.\u001b[49m\u001b[43mto_sfr\u001b[49m\u001b[43m(\u001b[49m\u001b[43mgrid\u001b[49m\u001b[43m=\u001b[49m\u001b[43mMF6_DIS\u001b[49m\u001b[43m)\u001b[49m\n",
      "\u001b[36mFile \u001b[39m\u001b[32mc:\\Users\\Karam014\\OneDrive - Universiteit Utrecht\\WS_Mdl\\code\\.pixi\\envs\\default\\Lib\\site-packages\\sfrmaker\\lines.py:1003\u001b[39m, in \u001b[36mLines.to_sfr\u001b[39m\u001b[34m(self, grid, active_area, isfr, model, model_length_units, model_time_units, minimum_reach_length, width_from_asum_a_param, width_from_asum_b_param, minimum_reach_width, consolidate_conductance, one_reach_per_cell, add_outlets, package_name, **kwargs)\u001b[39m\n\u001b[32m   1001\u001b[39m     grid = StructuredGrid.from_modelgrid(model.modelgrid, active_area=active_area, isfr=isfr)\n\u001b[32m   1002\u001b[39m \u001b[38;5;28;01melse\u001b[39;00m:\n\u001b[32m-> \u001b[39m\u001b[32m1003\u001b[39m     \u001b[38;5;28;01mraise\u001b[39;00m \u001b[38;5;167;01mTypeError\u001b[39;00m(\u001b[33m'\u001b[39m\u001b[33mUnrecognized input for grid: \u001b[39m\u001b[38;5;132;01m{}\u001b[39;00m\u001b[33m'\u001b[39m.format(grid))\n\u001b[32m   1005\u001b[39m \u001b[38;5;66;03m# print grid information to screen\u001b[39;00m\n\u001b[32m   1006\u001b[39m \u001b[38;5;28mprint\u001b[39m(grid)\n",
      "\u001b[31mTypeError\u001b[39m: Unrecognized input for grid: StructuredDiscretization\n<xarray.Dataset> Size: 99MB\nDimensions:  (layer: 37, y: 344, x: 480)\nCoordinates:\n    dx       float64 8B 25.0\n    dy       float64 8B -25.0\n  * layer    (layer) int64 296B 1 2 3 4 5 6 7 8 9 ... 29 30 31 32 33 34 35 36 37\n  * y        (y) float64 3kB 3.962e+05 3.962e+05 ... 3.876e+05 3.876e+05\n  * x        (x) float64 4kB 1.131e+05 1.131e+05 ... 1.251e+05 1.251e+05\nData variables:\n    idomain  (layer, y, x) int64 49MB 1 1 1 1 1 1 1 1 1 1 ... 1 1 1 1 1 1 1 1 1\n    top      (y, x) float64 1MB 4.113 4.057 4.046 4.079 ... 24.71 24.66 24.64\n    bottom   (layer, y, x) float64 49MB 4.063 4.008 3.996 ... -214.8 -214.9"
     ]
    }
   ],
   "source": [
    "sfrdata = lines.to_sfr(grid=MF6_DIS)"
   ]
  },
  {
   "cell_type": "code",
   "execution_count": null,
   "id": "449d230c",
   "metadata": {},
   "outputs": [],
   "source": []
  },
  {
   "cell_type": "code",
   "execution_count": null,
   "id": "449d230c",
   "metadata": {},
   "outputs": [],
   "source": []
  },
  {
   "cell_type": "code",
   "execution_count": 63,
   "id": "179cca68",
   "metadata": {},
   "outputs": [
    {
     "name": "stdout",
     "output_type": "stream",
     "text": [
      "✅ Boundary conditions set successfully!\n"
     ]
    }
   ],
   "source": [
    "# Set outer boundaries to -1 (for CHD)\n",
    "BND.loc[:, [BND.y[0], BND.y[-1]], :] = -1  # Top and bottom rows\n",
    "BND.loc[:, :, [BND.x[0], BND.x[-1]]] = -1  # Left and right columns\n",
    "\n",
    "print(\"✅ Boundary conditions set successfully!\")\n"
   ]
  },
  {
   "cell_type": "code",
   "execution_count": 62,
   "id": "8d2bda6a",
   "metadata": {},
   "outputs": [
    {
     "name": "stdout",
     "output_type": "stream",
     "text": [
      "✅ Boundary conditions set successfully!\n"
     ]
    }
   ],
   "source": [
    "# Set outer boundaries to -1 (for CHD)\n",
    "\n",
    "# Get the coordinate indices for boundaries\n",
    "y_coords = BND.y\n",
    "x_coords = BND.x\n",
    "first_y = y_coords.isel(y=0)  # First y coordinate\n",
    "last_y = y_coords.isel(y=-1)  # Last y coordinate  \n",
    "first_x = x_coords.isel(x=0)  # First x coordinate\n",
    "last_x = x_coords.isel(x=-1)  # Last x coordinate\n",
    "\n",
    "# Set boundary values using .loc indexing\n",
    "BND.loc[:, first_y, :] = -1  # Top row (all layers, first y, all x)\n",
    "BND.loc[:, last_y, :] = -1   # Bottom row (all layers, last y, all x)\n",
    "BND.loc[:, :, first_x] = -1  # Left column (all layers, all y, first x)  \n",
    "BND.loc[:, :, last_x] = -1   # Right column (all layers, all y, last x)\n",
    "\n",
    "print(\"✅ Boundary conditions set successfully!\")"
   ]
  },
  {
   "cell_type": "code",
   "execution_count": 61,
   "id": "69d57c62",
   "metadata": {},
   "outputs": [],
   "source": [
    "BND = PRJ_regrid['bnd']['ibound']"
   ]
  },
  {
   "cell_type": "code",
   "execution_count": 61,
   "id": "69d57c62",
   "metadata": {},
   "outputs": [],
   "source": [
    "BND = PRJ_regrid['bnd']['ibound']"
   ]
  },
  {
   "cell_type": "code",
   "execution_count": 61,
   "id": "69d57c62",
   "metadata": {},
   "outputs": [],
   "source": [
    "BND = PRJ_regrid['bnd']['ibound']"
   ]
  },
  {
   "cell_type": "code",
   "execution_count": 61,
   "id": "69d57c62",
   "metadata": {},
   "outputs": [],
   "source": [
    "BND = PRJ_regrid['bnd']['ibound']"
   ]
  },
  {
   "cell_type": "code",
   "execution_count": 60,
   "id": "5911eeb2",
   "metadata": {},
   "outputs": [],
   "source": [
    "PRJ_regrid = UIM.regrid_PRJ(PRJ, MdlN)"
   ]
  },
  {
   "cell_type": "code",
   "execution_count": 58,
   "id": "c242e17e",
   "metadata": {},
   "outputs": [],
   "source": [
    "PRJ_, PRJ_OBS = UIM.o_PRJ_with_OBS(Pa_PRJ)"
   ]
  },
  {
   "cell_type": "code",
   "execution_count": 58,
   "id": "c242e17e",
   "metadata": {},
   "outputs": [],
   "source": [
    "PRJ_, PRJ_OBS = UIM.o_PRJ_with_OBS(Pa_PRJ)"
   ]
  },
  {
   "cell_type": "code",
   "execution_count": 78,
   "id": "a069b9b3",
   "metadata": {},
   "outputs": [
    {
     "name": "stdout",
     "output_type": "stream",
     "text": [
      "Testing SFRmaker with the custom flopy grid...\n",
      "\n",
      "SFRmaker version 0.11.3\n",
      "\n",
      "Creating sfr dataset...\n",
      "Model grid information\n",
      "structured grid\n",
      "nnodes: 165,120\n",
      "nlay: 1\n",
      "nrow: 344\n",
      "ncol: 480\n",
      "model length units: undefined\n",
      "crs: None\n",
      "bounds: 113100.00, 387600.00, 125100.00, 396200.00\n",
      "active area defined by: all cells\n",
      "\n",
      "None\n",
      "❌ Error: No destination CRS to project flowlines to.\n",
      "Error type: <class 'ValueError'>\n"
     ]
    }
   ],
   "source": [
    "# Now test the SFRmaker lines.to_sfr() function with our custom grid!\n",
    "print(\"Testing SFRmaker with the custom flopy grid...\")\n",
    "try:\n",
    "    sfrdata = lines.to_sfr(grid=sfrmaker_grid)\n",
    "    print(\"✅ SUCCESS! SFRmaker accepted the custom flopy grid!\")\n",
    "    print(f\"SFR data type: {type(sfrdata)}\")\n",
    "    if hasattr(sfrdata, 'reach_data'):\n",
    "        print(f\"Number of reaches: {len(sfrdata.reach_data)}\")\n",
    "except Exception as e:\n",
    "    print(f\"❌ Error: {e}\")\n",
    "    print(f\"Error type: {type(e)}\")"
   ]
  },
  {
   "cell_type": "code",
   "execution_count": 80,
   "id": "546b9130",
   "metadata": {},
   "outputs": [
    {
     "name": "stdout",
     "output_type": "stream",
     "text": [
      "Creating SFRmaker grid with proper CRS...\n",
      "✓ Created SFRmaker grid with CRS: None\n",
      "Testing SFRmaker with CRS-enabled grid...\n",
      "\n",
      "SFRmaker version 0.11.3\n",
      "\n",
      "Creating sfr dataset...\n",
      "Model grid information\n",
      "structured grid\n",
      "nnodes: 165,120\n",
      "nlay: 1\n",
      "nrow: 344\n",
      "ncol: 480\n",
      "model length units: undefined\n",
      "crs: None\n",
      "bounds: 113100.00, 387600.00, 125100.00, 396200.00\n",
      "active area defined by: all cells\n",
      "\n",
      "None\n",
      "❌ Error: No destination CRS to project flowlines to.\n",
      "Error type: <class 'ValueError'>\n"
     ]
    }
   ],
   "source": [
    "# Fix the CRS issue - create SFRmaker grid with explicit CRS\n",
    "import pyproj\n",
    "print(\"Creating SFRmaker grid with proper CRS...\")\n",
    "\n",
    "# Create CRS object for Dutch RD New (EPSG:28992)\n",
    "crs_28992 = pyproj.CRS.from_epsg(28992)\n",
    "\n",
    "# Create SFRmaker grid with proper CRS \n",
    "sfrmaker_grid_with_crs = sfrmaker.StructuredGrid.from_modelgrid(\n",
    "    mg=flopy_grid,\n",
    "    active_area=None,\n",
    "    isfr=None,\n",
    "    crs=crs_28992  # Pass pyproj CRS object\n",
    ")\n",
    "\n",
    "print(f\"✓ Created SFRmaker grid with CRS: {sfrmaker_grid_with_crs.crs}\")\n",
    "\n",
    "# Test again with proper CRS\n",
    "print(\"Testing SFRmaker with CRS-enabled grid...\")\n",
    "try:\n",
    "    sfrdata = lines.to_sfr(grid=sfrmaker_grid_with_crs)\n",
    "    print(\"🎉 SUCCESS! SFRmaker created SFR data!\")\n",
    "    print(f\"SFR data type: {type(sfrdata)}\")\n",
    "    if hasattr(sfrdata, 'reach_data'):\n",
    "        print(f\"Number of reaches: {len(sfrdata.reach_data)}\")\n",
    "    elif hasattr(sfrdata, 'packagedata'):\n",
    "        print(f\"Number of reaches: {len(sfrdata.packagedata)}\")\n",
    "    else:\n",
    "        # Check what attributes are available\n",
    "        attrs = [attr for attr in dir(sfrdata) if not attr.startswith('_')]\n",
    "        print(f\"Available attributes: {attrs[:10]}...\")\n",
    "except Exception as e:\n",
    "    print(f\"❌ Error: {e}\")\n",
    "    print(f\"Error type: {type(e)}\")"
   ]
  },
  {
   "cell_type": "code",
   "execution_count": 81,
   "id": "af0d19d8",
   "metadata": {},
   "outputs": [
    {
     "name": "stdout",
     "output_type": "stream",
     "text": [
      "GDF CRS: EPSG:28992\n",
      "Creating SFRmaker grid using GDF CRS...\n",
      "Creating grid DataFrame...\n",
      "Created grid DataFrame with 100 cells\n",
      "✓ Created SFRmaker grid from DataFrame with CRS: EPSG:28992\n",
      "Testing SFRmaker with DataFrame-based grid...\n",
      "\n",
      "SFRmaker version 0.11.3\n",
      "\n",
      "Creating sfr dataset...\n",
      "Model grid information\n",
      "structured grid\n",
      "nnodes: 100\n",
      "nlay: 1\n",
      "nrow: 10\n",
      "ncol: 10\n",
      "model length units: undefined\n",
      "crs: EPSG:28992\n",
      "bounds: 113100.00, 395950.00, 113350.00, 396200.00\n",
      "active area defined by: all cells\n",
      "\n",
      "None\n",
      "\n",
      "Culling hydrography to active area...\n",
      "starting lines: 591\n",
      "❌ Error: No lines in active area. Check CRS for lines, grid and active area polygon.\n",
      "Error type: <class 'ValueError'>\n"
     ]
    }
   ],
   "source": [
    "# Alternative approach: Use GDF.crs and create grid differently\n",
    "print(f\"GDF CRS: {GDF.crs}\")\n",
    "\n",
    "# Let's try creating the SFRmaker grid with the CRS from GDF\n",
    "print(\"Creating SFRmaker grid using GDF CRS...\")\n",
    "\n",
    "# Check if we can create a DataFrame for the StructuredGrid\n",
    "import pandas as pd\n",
    "from shapely.geometry import box\n",
    "\n",
    "# Create a minimal DataFrame with grid cell info for SFRmaker\n",
    "# This approach creates the grid more directly\n",
    "print(\"Creating grid DataFrame...\")\n",
    "\n",
    "# Create cell polygons for a few sample cells to test\n",
    "cell_data = []\n",
    "for i in range(min(10, nrow)):  # Just first 10 rows for testing\n",
    "    for j in range(min(10, ncol)):  # Just first 10 columns for testing\n",
    "        # Calculate cell bounds\n",
    "        x_left = xorigin + j * dx\n",
    "        x_right = x_left + dx\n",
    "        y_top = yorigin - i * dy  \n",
    "        y_bottom = y_top - dy\n",
    "        \n",
    "        # Create cell polygon\n",
    "        cell_poly = box(x_left, y_bottom, x_right, y_top)\n",
    "        \n",
    "        cell_data.append({\n",
    "            'k': 0,  # layer (0-based)\n",
    "            'i': i,  # row (0-based)\n",
    "            'j': j,  # column (0-based)\n",
    "            'isfr': 1,  # allow SFR in all cells\n",
    "            'geometry': cell_poly\n",
    "        })\n",
    "\n",
    "grid_df = pd.DataFrame(cell_data)\n",
    "print(f\"Created grid DataFrame with {len(grid_df)} cells\")\n",
    "\n",
    "# Create SFRmaker StructuredGrid from DataFrame\n",
    "sfrmaker_grid_df = sfrmaker.StructuredGrid.from_dataframe(\n",
    "    df=grid_df,\n",
    "    crs=GDF.crs  # Use the CRS from the GDF\n",
    ")\n",
    "\n",
    "print(f\"✓ Created SFRmaker grid from DataFrame with CRS: {sfrmaker_grid_df.crs}\")\n",
    "\n",
    "# Test with the DataFrame-based grid\n",
    "print(\"Testing SFRmaker with DataFrame-based grid...\")\n",
    "try:\n",
    "    sfrdata = lines.to_sfr(grid=sfrmaker_grid_df)\n",
    "    print(\"🎉 SUCCESS! SFRmaker created SFR data!\")\n",
    "    print(f\"SFR data type: {type(sfrdata)}\")\n",
    "except Exception as e:\n",
    "    print(f\"❌ Error: {e}\")\n",
    "    print(f\"Error type: {type(e)}\")"
   ]
  },
  {
   "cell_type": "code",
   "execution_count": 82,
   "id": "ab627ca0",
   "metadata": {},
   "outputs": [
    {
     "name": "stdout",
     "output_type": "stream",
     "text": [
      "Creating full-size grid to cover all stream lines...\n",
      "This may take a moment for the full grid...\n",
      "Lines bounds: [112885.761  387082.9701 125619.006  396480.772 ]\n",
      "Model bounds: xmin=113100.0, ymin=387600.0, xmax=125100.0, ymax=396200.0\n",
      "Creating grid subset: rows 0-344, cols 0-480\n",
      "Created grid DataFrame with 165120 cells\n",
      "✓ Created full SFRmaker grid with CRS: EPSG:28992\n",
      "Grid bounds: (np.float64(113100.0), np.float64(387600.0), np.float64(125100.0), np.float64(396200.0))\n",
      "Testing SFRmaker with full grid...\n",
      "\n",
      "SFRmaker version 0.11.3\n",
      "\n",
      "Creating sfr dataset...\n",
      "Model grid information\n",
      "structured grid\n",
      "nnodes: 165,120\n",
      "nlay: 1\n",
      "nrow: 344\n",
      "ncol: 480\n",
      "model length units: undefined\n",
      "crs: EPSG:28992\n",
      "bounds: 113100.00, 387600.00, 125100.00, 396200.00\n",
      "active area defined by: all cells\n",
      "\n",
      "None\n",
      "\n",
      "Culling hydrography to active area...\n",
      "starting lines: 591\n",
      "remaining lines: 591\n",
      "finished in 0.02s\n",
      "\n",
      "\n",
      "Intersecting 591 flowlines with 165,120 grid cells...\n",
      "\n",
      "Building spatial index...\n",
      "finished in 13.44s\n",
      "\n",
      "Intersecting 591 features...\n",
      "591\n",
      "finished in 0.23s\n",
      "\n",
      "Setting up reach data... (may take a few minutes for large grids)\n",
      "finished in 0.93s\n",
      "\n",
      "Computing widths...\n",
      "\n",
      "Dropping 236 reaches with length < 1.25 undefined...\n",
      "\n",
      "Repairing routing connections...\n",
      "enforcing best segment numbering...\n",
      "\n",
      "Setting up segment data...\n",
      "Model grid information\n",
      "structured grid\n",
      "nnodes: 165,120\n",
      "nlay: 1\n",
      "nrow: 344\n",
      "ncol: 480\n",
      "model length units: undefined\n",
      "crs: EPSG:28992\n",
      "bounds: 113100.00, 387600.00, 125100.00, 396200.00\n",
      "active area defined by: all cells\n",
      "\n",
      "\n",
      "Time to create sfr dataset: 15.73s\n",
      "\n",
      "🎉 SUCCESS! SFRmaker created SFR data!\n",
      "SFR data type: <class 'sfrmaker.sfrdata.SFRData'>\n",
      "Number of reaches: 7819\n",
      "First few reaches:\n",
      "     rno    node  k    i    j  iseg  ireach     rchlen  width     slope  ...  \\\n",
      "915    1  134792  0  280  392     1       1   9.055565    1.0  0.000100  ...   \n",
      "916    2  135272  0  281  392     1       2   1.706178    1.0  0.000100  ...   \n",
      "326    3  135272  0  281  392     2       1   4.667041    1.0  0.003434  ...   \n",
      "327    4  134792  0  280  392     2       2  14.092730    1.0  0.002461  ...   \n",
      "328    5  134791  0  280  391     2       3  26.508957    1.0  0.001754  ...   \n",
      "\n",
      "     thts  thti  eps  uhc  outreach  outseg        asum  line_id      name  \\\n",
      "915   0.0   0.0  0.0  0.0         2       2   -6.233960      462  OVK01451   \n",
      "916   0.0   0.0  0.0  0.0         3       2   -0.853089      462  OVK01451   \n",
      "326   0.0   0.0  0.0  0.0         4       4 -572.336487      281  OVK01449   \n",
      "327   0.0   0.0  0.0  0.0         5       4 -562.956604      281  OVK01449   \n",
      "328   0.0   0.0  0.0  0.0         6       4 -542.655762      281  OVK01449   \n",
      "\n",
      "                                              geometry  \n",
      "915  LINESTRING (122922.25499999896 389183.19399999...  \n",
      "916  LINESTRING (122918.40075878412 389175, 122917....  \n",
      "326  LINESTRING (122917.69200000167 389173.44799999...  \n",
      "327  LINESTRING (122913.29057205089 389175, 122907....  \n",
      "328  LINESTRING (122900 389179.6867599967, 122882.1...  \n",
      "\n",
      "[5 rows x 23 columns]\n"
     ]
    },
    {
     "name": "stderr",
     "output_type": "stream",
     "text": [
      "c:\\Users\\Karam014\\OneDrive - Universiteit Utrecht\\WS_Mdl\\code\\.pixi\\envs\\default\\Lib\\site-packages\\sfrmaker\\sfrdata.py:490: DeprecationWarning: `in1d` is deprecated. Use `np.isin` instead.\n",
      "  isasegment = np.in1d(self.segment_data.outseg,\n"
     ]
    }
   ],
   "source": [
    "# Create FULL-SIZE grid that covers all the lines\n",
    "print(\"Creating full-size grid to cover all stream lines...\")\n",
    "\n",
    "# Create cell polygons for the entire grid\n",
    "print(\"This may take a moment for the full grid...\")\n",
    "\n",
    "# Let's be smarter - just create a representative sample that covers the stream extent\n",
    "# First, let's see what area the lines cover\n",
    "lines_bounds = GDF.total_bounds\n",
    "print(f\"Lines bounds: {lines_bounds}\")\n",
    "print(f\"Model bounds: xmin={xorigin}, ymin={yorigin-nrow*dy}, xmax={xorigin+ncol*dx}, ymax={yorigin}\")\n",
    "\n",
    "# Create grid cells only where they might intersect with lines\n",
    "# Calculate which grid cells might contain streams (with some buffer)\n",
    "buffer = 1000  # 1km buffer\n",
    "min_x, min_y, max_x, max_y = lines_bounds\n",
    "\n",
    "# Convert to grid indices\n",
    "j_min = max(0, int((min_x - buffer - xorigin) / dx))\n",
    "j_max = min(ncol, int((max_x + buffer - xorigin) / dx) + 1)\n",
    "i_min = max(0, int((yorigin - (max_y + buffer)) / dy))  \n",
    "i_max = min(nrow, int((yorigin - (min_y - buffer)) / dy) + 1)\n",
    "\n",
    "print(f\"Creating grid subset: rows {i_min}-{i_max}, cols {j_min}-{j_max}\")\n",
    "\n",
    "cell_data = []\n",
    "for i in range(i_min, i_max):\n",
    "    for j in range(j_min, j_max):\n",
    "        # Calculate cell bounds\n",
    "        x_left = xorigin + j * dx\n",
    "        x_right = x_left + dx\n",
    "        y_top = yorigin - i * dy  \n",
    "        y_bottom = y_top - dy\n",
    "        \n",
    "        # Create cell polygon\n",
    "        cell_poly = box(x_left, y_bottom, x_right, y_top)\n",
    "        \n",
    "        cell_data.append({\n",
    "            'k': 0,  # layer (0-based)\n",
    "            'i': i,  # row (0-based)\n",
    "            'j': j,  # column (0-based)\n",
    "            'isfr': 1,  # allow SFR in all cells\n",
    "            'geometry': cell_poly\n",
    "        })\n",
    "\n",
    "grid_df_full = pd.DataFrame(cell_data)\n",
    "print(f\"Created grid DataFrame with {len(grid_df_full)} cells\")\n",
    "\n",
    "# Create SFRmaker StructuredGrid from full DataFrame\n",
    "sfrmaker_grid_full = sfrmaker.StructuredGrid.from_dataframe(\n",
    "    df=grid_df_full,\n",
    "    crs=GDF.crs\n",
    ")\n",
    "\n",
    "print(f\"✓ Created full SFRmaker grid with CRS: {sfrmaker_grid_full.crs}\")\n",
    "print(f\"Grid bounds: {sfrmaker_grid_full.bounds}\")\n",
    "\n",
    "# Test with the full grid\n",
    "print(\"Testing SFRmaker with full grid...\")\n",
    "try:\n",
    "    sfrdata = lines.to_sfr(grid=sfrmaker_grid_full)\n",
    "    print(\"🎉 SUCCESS! SFRmaker created SFR data!\")\n",
    "    print(f\"SFR data type: {type(sfrdata)}\")\n",
    "    \n",
    "    # Try to access the data\n",
    "    if hasattr(sfrdata, 'reach_data'):\n",
    "        print(f\"Number of reaches: {len(sfrdata.reach_data)}\")\n",
    "        print(\"First few reaches:\")\n",
    "        print(sfrdata.reach_data.head())\n",
    "    else:\n",
    "        print(\"Checking available attributes...\")\n",
    "        attrs = [attr for attr in dir(sfrdata) if not attr.startswith('_')]\n",
    "        print(f\"Available attributes: {attrs}\")\n",
    "        \n",
    "except Exception as e:\n",
    "    print(f\"❌ Error: {e}\")\n",
    "    print(f\"Error type: {type(e)}\")"
   ]
  },
  {
   "cell_type": "code",
   "execution_count": null,
   "id": "0f279c40",
   "metadata": {},
   "outputs": [],
   "source": []
  },
  {
   "cell_type": "code",
   "execution_count": null,
   "id": "0e5eea7a",
   "metadata": {},
   "outputs": [],
   "source": []
  },
  {
   "cell_type": "markdown",
   "id": "b08903fc",
   "metadata": {},
   "source": [
    "### Load MSW"
   ]
  },
  {
   "cell_type": "markdown",
   "id": "fdff32ec",
   "metadata": {},
   "source": [
    "#### 1st attempt"
   ]
  },
  {
   "cell_type": "code",
   "execution_count": null,
   "id": "bc31138f",
   "metadata": {},
   "outputs": [],
   "source": [
    "PRJ_MSW = {'cap': PRJ_regrid.copy()['cap'], 'extra': PRJ_regrid.copy()['extra']}"
   ]
  },
  {
   "cell_type": "markdown",
   "id": "70ebaf0b",
   "metadata": {},
   "source": [
    "PRJ_regrid['cap'].keys()\n",
    "for i in PRJ_regrid['cap'].keys():\n",
    "    print(f\" === {i} ===\")\n",
    "    print(PRJ_regrid['cap'][i], \"\\n\")\n",
    "x_CeCes, y_CeCes = UIM.get_CeCes_from_INI(MdlN)\n",
    "PRJ['cap']['urban_area'].x.shape[0] / PRJ_regrid['cap']['urban_area'].x.shape[0]\n",
    "len(x_CeCes)\n",
    "PRJ['cap']['urban_area'].sel(x=slice(Xmin, Xmax), y=slice(Ymax, Ymin)).plot(cmap='Spectral')\n",
    "(PRJ['cap']['urban_area'].sel(x=slice(Xmin, Xmax), y=slice(Ymax, Ymin)) / PRJ_regrid['cap']['urban_area']).plot(cmap='Spectral')\n",
    "PRJ_regrid['cap']['urban_area'].plot(cmap='Spectral')"
   ]
  },
  {
   "cell_type": "code",
   "execution_count": null,
   "id": "9d253154",
   "metadata": {},
   "outputs": [],
   "source": [
    "try:\n",
    "    MSW_Mdl = msw.MetaSwapModel.from_imod5_data(PRJ_MSW, MF6_DIS, times)\n",
    "    print(\"🟢 - MetaSwap model created successfully!\")\n",
    "except Exception as e:\n",
    "    print(f\"Error creating MetaSwap model: {e}\")\n",
    "    MSW_Mdl = None"
   ]
  },
  {
   "cell_type": "markdown",
   "id": "cb6c779a",
   "metadata": {},
   "source": [
    "### 2nd attempt"
   ]
  },
  {
   "cell_type": "markdown",
   "id": "52b02fe1",
   "metadata": {},
   "source": [
    "#### Fix mete_grid.inp relative paths\n",
    "MSW.MetaSwapModel.from_imod5_data is struggling with relative paths, so we'll convert them to full paths. #666 caution, if they're already full paths, this may cause an error."
   ]
  },
  {
   "cell_type": "code",
   "execution_count": null,
   "id": "4a8d73e4",
   "metadata": {},
   "outputs": [],
   "source": [
    "# Replace the mete_grid.inp path in the PRJ_MSW_for_MSW dictionary\n",
    "PRJ['extra']['paths'][2][0] = UIM.mete_grid_Cvt_to_AbsPa(Pa_PRJ, PRJ)"
   ]
  },
  {
   "cell_type": "markdown",
   "id": "ca5dc680",
   "metadata": {},
   "source": [
    "#### Finally load MSW Sim"
   ]
  },
  {
   "cell_type": "code",
   "execution_count": null,
   "id": "83a8073d",
   "metadata": {},
   "outputs": [],
   "source": [
    "# Create the MetaSwap model\n",
    "MSW_Mdl = msw.MetaSwapModel.from_imod5_data(PRJ_MSW, MF6_DIS, times)\n",
    "print(\"🟢 - MetaSwap model loaded successfully!\")"
   ]
  },
  {
   "cell_type": "markdown",
   "id": "5aa12096",
   "metadata": {},
   "source": [
    "## Connect MF6 to MetaSWAP"
   ]
  },
  {
   "cell_type": "markdown",
   "id": "b7a4da21",
   "metadata": {},
   "source": [
    "### Clip models"
   ]
  },
  {
   "cell_type": "code",
   "execution_count": null,
   "id": "b34bf4f3",
   "metadata": {},
   "outputs": [],
   "source": [
    "Sim_MF6_AoI = Sim_MF6.clip_box(x_min=Xmin, x_max=Xmax, y_min=Ymin, y_max=Ymax)"
   ]
  },
  {
   "cell_type": "code",
   "execution_count": null,
   "id": "a09f42d0",
   "metadata": {},
   "outputs": [],
   "source": [
    "MF6_Mdl_AoI = Sim_MF6_AoI['imported_model']"
   ]
  },
  {
   "cell_type": "code",
   "execution_count": null,
   "id": "fe377440",
   "metadata": {},
   "outputs": [],
   "source": [
    "MSW_Mdl_AoI = MSW_Mdl.clip_box(x_min=Xmin, x_max=Xmax, y_min=Ymin, y_max=Ymax)"
   ]
  },
  {
   "cell_type": "code",
   "execution_count": null,
   "id": "b3af90b2",
   "metadata": {},
   "outputs": [],
   "source": [
    "print(f\"MF6 Model AoI DIS shape: {MF6_Mdl_AoI['dis'].dataset.sizes}\")\n",
    "print(f\"MSW Model AoI grid shape: {MSW_Mdl_AoI['grid'].dataset.sizes}\")\n",
    "print(\"✅ Both models successfully clipped to Area of Interest with compatible discretization!\")"
   ]
  },
  {
   "cell_type": "code",
   "execution_count": null,
   "id": "b4543251",
   "metadata": {},
   "outputs": [],
   "source": [
    "MF6_Mdl_AoI['dis'].dataset.equals(MF6_Mdl['dis'].dataset)"
   ]
  },
  {
   "cell_type": "markdown",
   "id": "c54016ef",
   "metadata": {},
   "source": [
    "clip_box doesn't clip the packages I clipped beforehand, but it clips non raster-like packages like WEL and removes packages that are not in the AoI."
   ]
  },
  {
   "cell_type": "markdown",
   "id": "a5bf7867",
   "metadata": {},
   "source": [
    "##### Sense check"
   ]
  },
  {
   "cell_type": "code",
   "execution_count": null,
   "id": "d62ca401",
   "metadata": {},
   "outputs": [],
   "source": [
    "Xmin, Xmax, Ymin, Ymax"
   ]
  },
  {
   "cell_type": "code",
   "execution_count": null,
   "id": "89dcfa29",
   "metadata": {},
   "outputs": [],
   "source": [
    "MF6_Mdl_AoI['dis']['x'].min().values, MF6_Mdl_AoI['dis']['x'].max().values, \\\n",
    "MF6_Mdl_AoI['dis']['y'].min().values, MF6_Mdl_AoI['dis']['y'].max().values"
   ]
  },
  {
   "cell_type": "markdown",
   "id": "fd1ff4f2",
   "metadata": {},
   "source": [
    "Makes sense as those are cell centers."
   ]
  },
  {
   "cell_type": "markdown",
   "id": "90f12b70",
   "metadata": {},
   "source": [
    "### Load models into memory"
   ]
  },
  {
   "cell_type": "code",
   "execution_count": null,
   "id": "20453716",
   "metadata": {},
   "outputs": [],
   "source": [
    "for pkg in MF6_Mdl_AoI.values():\n",
    "    pkg.dataset.load()\n",
    "\n",
    "for pkg in MSW_Mdl_AoI.values():\n",
    "    pkg.dataset.load()"
   ]
  },
  {
   "cell_type": "markdown",
   "id": "0a087388",
   "metadata": {},
   "source": [
    "### Cleanup"
   ]
  },
  {
   "cell_type": "markdown",
   "id": "fab3072b",
   "metadata": {},
   "source": [
    "#### MF6 mask"
   ]
  },
  {
   "cell_type": "code",
   "execution_count": null,
   "id": "4bbd3b40",
   "metadata": {},
   "outputs": [],
   "source": [
    "# Create mask from current regridded model (not the old one)\n",
    "mask = MF6_Mdl_AoI.domain"
   ]
  },
  {
   "cell_type": "code",
   "execution_count": null,
   "id": "088f665f",
   "metadata": {},
   "outputs": [],
   "source": [
    "mask"
   ]
  },
  {
   "cell_type": "code",
   "execution_count": null,
   "id": "d73681d2",
   "metadata": {},
   "outputs": [],
   "source": [
    "Sim_MF6_AoI.mask_all_models(mask)\n",
    "DIS_AoI = MF6_Mdl_AoI[\"dis\"]"
   ]
  },
  {
   "cell_type": "markdown",
   "id": "d2d55495",
   "metadata": {},
   "source": [
    "#### Cleanup MF6"
   ]
  },
  {
   "cell_type": "code",
   "execution_count": null,
   "id": "553e6b97",
   "metadata": {},
   "outputs": [],
   "source": [
    "try:\n",
    "    for Pkg in [i for i in MF6_Mdl_AoI.keys() if ('riv' in i.lower()) or ('drn' in i.lower())]:\n",
    "        MF6_Mdl_AoI[Pkg].cleanup(DIS_AoI)\n",
    "except:\n",
    "    print('Failed to cleanup packages. Proceeding without cleanup. Fingers crossed!')"
   ]
  },
  {
   "cell_type": "markdown",
   "id": "735bb4c2",
   "metadata": {},
   "source": [
    "#### MSW"
   ]
  },
  {
   "cell_type": "code",
   "execution_count": null,
   "id": "f7fa384f",
   "metadata": {},
   "outputs": [],
   "source": [
    "# Cleanup MetaSWAP\n",
    "MSW_Mdl_AoI[\"grid\"].dataset[\"rootzone_depth\"] = MSW_Mdl_AoI[\"grid\"].dataset[\"rootzone_depth\"].fillna(1.0)"
   ]
  },
  {
   "cell_type": "markdown",
   "id": "866b176b",
   "metadata": {},
   "source": [
    "111: Why are we doing this?"
   ]
  },
  {
   "cell_type": "markdown",
   "id": "6a953316",
   "metadata": {},
   "source": [
    "## Couple"
   ]
  },
  {
   "cell_type": "code",
   "execution_count": null,
   "id": "31768c93",
   "metadata": {},
   "outputs": [],
   "source": [
    "metamod_coupling = primod.MetaModDriverCoupling(mf6_model=\"imported_model\", mf6_recharge_package=\"msw-rch\", mf6_wel_package=\"msw-sprinkling\")\n",
    "metamod = primod.MetaMod(MSW_Mdl_AoI, Sim_MF6_AoI, coupling_list=[metamod_coupling])"
   ]
  },
  {
   "cell_type": "code",
   "execution_count": null,
   "id": "b0872c6c",
   "metadata": {},
   "outputs": [],
   "source": [
    "os.makedirs(d_Pa['Pa_MdlN'], exist_ok=True) # Create simulation directory if it doesn't exist"
   ]
  },
  {
   "cell_type": "code",
   "execution_count": null,
   "id": "7a54d4e4",
   "metadata": {},
   "outputs": [],
   "source": [
    "# Use correct paths from d_Pa instead of hardcoded paths\n",
    "Pa_MF6_DLL = d_Pa['MF6_DLL']\n",
    "Pa_MSW_DLL = d_Pa['MSW_DLL']\n",
    "Pa_IMC = d_Pa['coupler_Exe']\n",
    "\n",
    "print(f\"✅ MF6 DLL path: {Pa_MF6_DLL}\")\n",
    "print(f\"✅ MSW DLL path: {Pa_MSW_DLL}\")\n",
    "print(f\"✅ Coupler exe path: {d_Pa['coupler_Exe']}\")"
   ]
  },
  {
   "cell_type": "code",
   "execution_count": null,
   "id": "130cc078",
   "metadata": {},
   "outputs": [],
   "source": [
    "metamod.write(directory=d_Pa['Pa_MdlN'], modflow6_dll=Pa_MF6_DLL, metaswap_dll=Pa_MSW_DLL, metaswap_dll_dependency=PDN(Pa_MF6_DLL))"
   ]
  },
  {
   "cell_type": "code",
   "execution_count": null,
   "id": "f902a568",
   "metadata": {},
   "outputs": [],
   "source": []
  },
  {
   "cell_type": "markdown",
   "id": "7a50aefd",
   "metadata": {},
   "source": [
    "# Junkyard"
   ]
  },
  {
   "cell_type": "code",
   "execution_count": null,
   "id": "8079b6f9",
   "metadata": {},
   "outputs": [],
   "source": [
    "stop"
   ]
  },
  {
   "cell_type": "markdown",
   "id": "2df7b9ce",
   "metadata": {},
   "source": [
    "Columns that seem useful:\n",
    "1. CODE: as unique ID.\n",
    "2. NAAM: as name.\n",
    "3. WS_BH_BOVENSTROOMS: width upstream\n",
    "4. WS_BH_BENEDENSTROOMS: width downstream\n",
    "5. WS_HGT_MAAIVELD_BOVS: ground level elevation upstream\n",
    "6. WS_HGT_MAAIVELD_BENS: ground level elevation downstream\n",
    "7. WS_HGT_INSTEEK_LINKERZIJDE: left bank elevation\n",
    "8. WS_HGT_INSTEEK_RECHTERZIJDE: right bank elevation\n",
    "9. WS_TALUD_LINKS_L: left bank slope\n",
    "10. WS_TALUD_RECHTS_L: right bank slope\n",
    "11. WS_BODEMBREEDTE_L: bottom width\n",
    "12. WS_BH_BOVENSTROOMS_L: width upstream (seems like a duplicate of 2, need to check though)\n",
    "13. WS_BH_BENEDENSTROOMS_L: width downstream (seems like a duplicate of 3, need to check though)\n",
    "14. "
   ]
  },
  {
   "cell_type": "markdown",
   "id": "0b2e61ce",
   "metadata": {},
   "source": [
    "Below, we'll match the shapefile attributes to the SFRmaker requirements as per SFRmaker manual ( https://doi-usgs.github.io/sfrmaker/latest/inputs.html):\n",
    "\n",
    "**Custom hydrography** <br>\n",
    "Any Polyline shapefile can be supplied in lieu of NHDPlus, but it must have the following columns, as shown in the second example:\n",
    "1. flowlines_file: path to shapefile<br>-> Pa_GPkg_1ry (object, not column)\n",
    "2. id_column: unique identifier for each polyline<br>-> CODE\n",
    "3. routing_column: downstream connection (ID), 0 if none<br>-> DStr *(has been calculated based on algorithm)*<br>\n",
    "4. width1_column: channel width at start of line, in attr\\_length\\_units (optional)<br>-> WS_BH_BOVENSTROOMS_L\n",
    "5. width2_column: channel width at end of line, in attr_length_units (optional)<br>->  WS_BH_BENEDENSTROOMS_L\n",
    "6. up_elevation_column: streambed elevation at start of line, in attr_height_units<br>-> \n",
    "7. dn_elevation_column: streambed elevation at end of line, in attr_height_units<br>-> \n",
    "8. name_column: stream name (optional)<br>-> \n",
    "9. attr_length_units: channel width units<br>-> m\n",
    "10. attr_height_units: streambed elevation units<br>-> m\n"
   ]
  },
  {
   "cell_type": "markdown",
   "id": "cd8f13d7",
   "metadata": {},
   "source": [
    "## Limit"
   ]
  },
  {
   "cell_type": "code",
   "execution_count": null,
   "id": "90b31639",
   "metadata": {},
   "outputs": [],
   "source": [
    "# Limit GDF to model area bounds\n",
    "print(f\"Model area bounds: Xmin: {Xmin:10}, Xmax: {Xmax:10} | Ymin: {Ymin:10}, Ymax: {Ymax:10}\\n\")\n",
    "print(f\"Original dataset: {bold}{len(GDF):10}{style_reset} features\\t| Bounds: {GDF.total_bounds}\")\n",
    "\n",
    "# Create bounding box for clipping\n",
    "from shapely.geometry import box\n",
    "model_bbox = box(Xmin, Ymin, Xmax, Ymax)\n",
    "\n",
    "# Filter GDF to model area using spatial intersection\n",
    "GDF_clipped = GDF[GDF.geometry.intersects(model_bbox)].copy()\n",
    "\n",
    "print(f\"Filtered dataset: {bold}{len(GDF_clipped):10}{style_reset} features\\t| Bounds: {GDF_clipped.total_bounds}\")\n",
    "print(f\"Reduction: {bold}{len(GDF)-len(GDF_clipped):,}{style_reset} features removed ({(len(GDF)-len(GDF_clipped))/len(GDF)*100:.1f}%) | ✓ GDF updated to model area extent\")\n",
    "print(f\"✓ Network length: {GDF.geometry.length.sum()/1000:.1f} km within model area\")\n",
    "\n",
    "# Update GDF to use the clipped version\n",
    "GDF = GDF_clipped"
   ]
  },
  {
   "cell_type": "code",
   "execution_count": null,
   "id": "22b610aa",
   "metadata": {},
   "outputs": [],
   "source": [
    "# Plot the filtered hydroobject network within model area\n",
    "fig, ax = plt.subplots(figsize=(12, 8))\n",
    "\n",
    "# Plot the filtered GDF\n",
    "GDF.plot(ax=ax, color='blue', linewidth=0.8, alpha=0.7, label='Hydroobject network')\n",
    "\n",
    "# Add model boundary rectangle\n",
    "from matplotlib.patches import Rectangle\n",
    "model_rect = Rectangle((Xmin, Ymin), Xmax-Xmin, Ymax-Ymin, \n",
    "                      linewidth=2, edgecolor='red', facecolor='none', \n",
    "                      linestyle='--', label='Model boundary')\n",
    "ax.add_patch(model_rect)\n",
    "\n",
    "ax.set_title(f'Hydroobject Network within Model Area ({MdlN})')\n",
    "ax.set_xlabel('X coordinate (m)')\n",
    "ax.set_ylabel('Y coordinate (m)')\n",
    "ax.legend()\n",
    "\n",
    "# Add statistics text\n",
    "stats_text = f\"\"\"Filtered Network:\n",
    "• Features: {len(GDF):,}\n",
    "• Total length: {GDF.geometry.length.sum()/1000:.1f} km\n",
    "• Model area: {(Xmax-Xmin)/1000:.1f} × {(Ymax-Ymin)/1000:.1f} km\"\"\"\n",
    "\n",
    "ax.text(0.02, 0.98, stats_text, transform=ax.transAxes, \n",
    "        verticalalignment='top', bbox=dict(boxstyle='round', facecolor='wheat', alpha=0.8))\n",
    "\n",
    "# Add grid\n",
    "ax.grid(True, alpha=0.3)"
   ]
  },
  {
   "cell_type": "markdown",
   "id": "22c24a3a",
   "metadata": {},
   "source": [
    "# Load GPkg. Select correct layer. Limit to Mdl Aa. - Detailed SW network"
   ]
  },
  {
   "cell_type": "markdown",
   "id": "98a6f0e8",
   "metadata": {},
   "source": [
    "After this methodology is established, a function should be created that'll take in either a GeoPackage with a specified layer or a shapefile (single layer).<br>\n",
    "Other Params like the Cols to be used for the SFR network creation, should be provided as well. A .toml file could be a good idea."
   ]
  },
  {
   "cell_type": "markdown",
   "id": "5dc7dd06",
   "metadata": {},
   "source": [
    "## Load"
   ]
  },
  {
   "cell_type": "code",
   "execution_count": null,
   "id": "22c4ca36",
   "metadata": {},
   "outputs": [],
   "source": [
    "# First, let's see what layers are available in the GeoPackage\n",
    "layers = fiona.listlayers(Pa_GPkg)\n",
    "print(\"Available layers in GeoPackage:\")\n",
    "for i, L in enumerate(layers):\n",
    "    print(f\"  {i+1}. {L}\")"
   ]
  },
  {
   "cell_type": "code",
   "execution_count": null,
   "id": "24374d42",
   "metadata": {},
   "outputs": [],
   "source": [
    "# Read the hydroobject layer specifically\n",
    "GDF1 = gpd.read_file(Pa_GPkg, layer=layer)"
   ]
  },
  {
   "cell_type": "code",
   "execution_count": null,
   "id": "0af95b30",
   "metadata": {},
   "outputs": [],
   "source": [
    "print(f\"\\nHydroobject layer loaded successfully!\\nNumber of features: {bold}{len(GDF1)}{style_reset}\\nCRS: {bold}{GDF1.crs}{style_reset}\\nGeometry types: {GDF1.geometry.geom_type.value_counts()}\")\n",
    "print(*GDF1.columns, sep=' | ')"
   ]
  },
  {
   "cell_type": "markdown",
   "id": "c1ce8941",
   "metadata": {},
   "source": [
    "## Explore"
   ]
  },
  {
   "cell_type": "code",
   "execution_count": null,
   "id": "23d5b5c4",
   "metadata": {},
   "outputs": [],
   "source": [
    "GDF1.head(3)"
   ]
  },
  {
   "cell_type": "code",
   "execution_count": null,
   "id": "cfd6ab6d",
   "metadata": {},
   "outputs": [],
   "source": [
    "GDF1.describe(include='all')"
   ]
  },
  {
   "cell_type": "code",
   "execution_count": null,
   "id": "c63be4cb",
   "metadata": {},
   "outputs": [],
   "source": [
    "#666 columns need to be reviewed later!!!"
   ]
  },
  {
   "cell_type": "code",
   "execution_count": null,
   "id": "39a74b7f",
   "metadata": {},
   "outputs": [],
   "source": [
    "GDF1.WS_BH_BOVENSTROOMS.value_counts()"
   ]
  },
  {
   "cell_type": "code",
   "execution_count": null,
   "id": "b69857f2",
   "metadata": {},
   "outputs": [],
   "source": [
    "for i, col in enumerate(GDF1.columns):\n",
    "    print(f\"{i}: {col}\")"
   ]
  },
  {
   "cell_type": "code",
   "execution_count": null,
   "id": "66850f2f",
   "metadata": {},
   "outputs": [],
   "source": [
    "GDF1.sort_values('WS_BH_BOVENSTROOMS', inplace=True, ascending=False)"
   ]
  },
  {
   "cell_type": "code",
   "execution_count": null,
   "id": "d5898bc4",
   "metadata": {},
   "outputs": [],
   "source": [
    "GDF1[['WS_BH_BOVENSTROOMS', 'WS_BH_BENEDENSTROOMS', 'WS_BH_BOVENSTROOMS_L', 'WS_BH_BENEDENSTROOMS_L']].head(10)"
   ]
  },
  {
   "cell_type": "markdown",
   "id": "8cccc564",
   "metadata": {},
   "source": [
    "Columns that seem useful:\n",
    "1. CODE: as unique ID.\n",
    "2. NAAM: as name.\n",
    "3. WS_BH_BOVENSTROOMS: width upstream\n",
    "4. WS_BH_BENEDENSTROOMS: width downstream\n",
    "5. WS_HGT_MAAIVELD_BOVS: ground level elevation upstream\n",
    "6. WS_HGT_MAAIVELD_BENS: ground level elevation downstream\n",
    "7. WS_HGT_INSTEEK_LINKERZIJDE: left bank elevation\n",
    "8. WS_HGT_INSTEEK_RECHTERZIJDE: right bank elevation\n",
    "9. WS_TALUD_LINKS_L: left bank slope\n",
    "10. WS_TALUD_RECHTS_L: right bank slope\n",
    "11. WS_BODEMBREEDTE_L: bottom width\n",
    "12. WS_BH_BOVENSTROOMS_L: width upstream (seems like a duplicate of 2, need to check though)\n",
    "13. WS_BH_BENEDENSTROOMS_L: width downstream (seems like a duplicate of 3, need to check though)\n",
    "14. "
   ]
  },
  {
   "cell_type": "code",
   "execution_count": null,
   "id": "c23a30ff",
   "metadata": {},
   "outputs": [],
   "source": [
    "print('Plot of line geometry in the whole area.')\n",
    "GDF1.plot(figsize=(10, 10), color='blue', edgecolor='black')"
   ]
  },
  {
   "cell_type": "markdown",
   "id": "dbd03d1c",
   "metadata": {},
   "source": [
    "## Limit"
   ]
  },
  {
   "cell_type": "code",
   "execution_count": null,
   "id": "4f843530",
   "metadata": {},
   "outputs": [],
   "source": [
    "# Limit GDF to model area bounds\n",
    "print(f\"Model area bounds: Xmin: {Xmin:10}, Xmax: {Xmax:10} | Ymin: {Ymin:10}, Ymax: {Ymax:10}\\n\")\n",
    "print(f\"Original dataset: {bold}{len(GDF1):10}{style_reset} features\\t| Bounds: {GDF1.total_bounds}\")\n",
    "\n",
    "# Create bounding box for clipping\n",
    "from shapely.geometry import box\n",
    "model_bbox = box(Xmin, Ymin, Xmax, Ymax)\n",
    "\n",
    "# Filter GDF to model area using spatial intersection\n",
    "GDF1_clipped = GDF1[GDF1.geometry.intersects(model_bbox)].copy()\n",
    "\n",
    "print(f\"Filtered dataset: {bold}{len(GDF1_clipped):10}{style_reset} features\\t| Bounds: {GDF1_clipped.total_bounds}\")\n",
    "print(f\"Reduction: {bold}{len(GDF1)-len(GDF1_clipped):,}{style_reset} features removed ({(len(GDF1)-len(GDF1_clipped))/len(GDF1)*100:.1f}%) | ✓ GDF updated to model area extent\")\n",
    "print(f\"✓ Network length: {GDF1.geometry.length.sum()/1000:.1f} km within model area\")\n",
    "\n",
    "# Update GDF to use the clipped version\n",
    "GDF1 = GDF1_clipped"
   ]
  },
  {
   "cell_type": "code",
   "execution_count": null,
   "id": "58cbd813",
   "metadata": {},
   "outputs": [],
   "source": [
    "# Plot the filtered hydroobject network within model area\n",
    "fig, ax = plt.subplots(figsize=(12, 8))\n",
    "\n",
    "# Plot the filtered GDF\n",
    "GDF1.plot(ax=ax, color='blue', linewidth=0.8, alpha=0.7, label='Hydroobject network')\n",
    "\n",
    "# Add model boundary rectangle\n",
    "from matplotlib.patches import Rectangle\n",
    "model_rect = Rectangle((Xmin, Ymin), Xmax-Xmin, Ymax-Ymin, \n",
    "                      linewidth=2, edgecolor='red', facecolor='none', \n",
    "                      linestyle='--', label='Model boundary')\n",
    "ax.add_patch(model_rect)\n",
    "\n",
    "ax.set_title(f'Hydroobject Network within Model Area ({MdlN})')\n",
    "ax.set_xlabel('X coordinate (m)')\n",
    "ax.set_ylabel('Y coordinate (m)')\n",
    "ax.legend()\n",
    "\n",
    "# Add statistics text\n",
    "stats_text = f\"\"\"Filtered Network:\n",
    "• Features: {len(GDF1):,}\n",
    "• Total length: {GDF1.geometry.length.sum()/1000:.1f} km\n",
    "• Model area: {(Xmax-Xmin)/1000:.1f} × {(Ymax-Ymin)/1000:.1f} km\"\"\"\n",
    "\n",
    "ax.text(0.02, 0.98, stats_text, transform=ax.transAxes, \n",
    "        verticalalignment='top', bbox=dict(boxstyle='round', facecolor='wheat', alpha=0.8))\n",
    "\n",
    "# Add grid\n",
    "ax.grid(True, alpha=0.3)"
   ]
  }
 ],
 "metadata": {
  "kernelspec": {
   "display_name": "default",
   "language": "python",
   "name": "python3"
  },
  "language_info": {
   "codemirror_mode": {
    "name": "ipython",
    "version": 3
   },
   "file_extension": ".py",
   "mimetype": "text/x-python",
   "name": "python",
   "nbconvert_exporter": "python",
   "pygments_lexer": "ipython3",
   "version": "3.13.5"
  }
 },
 "nbformat": 4,
 "nbformat_minor": 5
}
