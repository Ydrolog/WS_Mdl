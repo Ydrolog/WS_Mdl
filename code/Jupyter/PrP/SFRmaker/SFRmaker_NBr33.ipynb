{
 "cells": [
  {
   "cell_type": "markdown",
   "id": "702e13cb",
   "metadata": {},
   "source": [
    "# Imports"
   ]
  },
  {
   "cell_type": "code",
   "execution_count": 1,
   "id": "e81b0924",
   "metadata": {},
   "outputs": [],
   "source": [
    "import matplotlib.pyplot as plt\n",
    "import numpy as np\n",
    "import os\n",
    "from os import listdir as LD, makedirs as MDs\n",
    "from os.path import join as PJ, basename as PBN, dirname as PDN, exists as PE\n",
    "import pandas as pd\n",
    "from datetime import datetime as DT"
   ]
  },
  {
   "cell_type": "code",
   "execution_count": 2,
   "id": "8d4d2d63",
   "metadata": {},
   "outputs": [],
   "source": [
    "import WS_Mdl.utils as U\n",
    "import WS_Mdl.utils_imod as UIM\n",
    "import WS_Mdl.calcs as C\n",
    "import WS_Mdl.geo as G"
   ]
  },
  {
   "cell_type": "code",
   "execution_count": 3,
   "id": "23de4e0b",
   "metadata": {},
   "outputs": [
    {
     "data": {
      "text/plain": [
       "<module 'WS_Mdl.utils_imod' from 'C:\\\\Users\\\\Karam014\\\\OneDrive - Universiteit Utrecht\\\\WS_Mdl\\\\code\\\\WS_Mdl\\\\utils_imod.py'>"
      ]
     },
     "execution_count": 3,
     "metadata": {},
     "output_type": "execute_result"
    }
   ],
   "source": [
    "import importlib as IL\n",
    "IL.reload(U)\n",
    "IL.reload(UIM)"
   ]
  },
  {
   "cell_type": "code",
   "execution_count": 4,
   "id": "3f10ee69",
   "metadata": {},
   "outputs": [],
   "source": [
    "# Import sfrmaker and other necessary packages for SFR network creation\n",
    "import sfrmaker as sfr\n",
    "import geopandas as gpd\n",
    "import numpy as np\n",
    "from shapely.geometry import MultiLineString, box"
   ]
  },
  {
   "cell_type": "code",
   "execution_count": 5,
   "id": "99d296c5",
   "metadata": {},
   "outputs": [],
   "source": [
    "import fiona"
   ]
  },
  {
   "cell_type": "code",
   "execution_count": 6,
   "id": "faa7c8bb",
   "metadata": {},
   "outputs": [
    {
     "data": {
      "text/plain": [
       "'0.11.3'"
      ]
     },
     "execution_count": 6,
     "metadata": {},
     "output_type": "execute_result"
    }
   ],
   "source": [
    "sfr.__version__"
   ]
  },
  {
   "cell_type": "code",
   "execution_count": 7,
   "id": "83068e94",
   "metadata": {},
   "outputs": [],
   "source": [
    "from WS_Mdl.utils import bold, style_reset"
   ]
  },
  {
   "cell_type": "code",
   "execution_count": 8,
   "id": "7b8177ed",
   "metadata": {},
   "outputs": [],
   "source": [
    "from imod import msw\n",
    "from imod import mf6\n",
    "import primod"
   ]
  },
  {
   "cell_type": "code",
   "execution_count": null,
   "id": "7ca6e21e",
   "metadata": {},
   "outputs": [],
   "source": []
  },
  {
   "cell_type": "markdown",
   "id": "6b789b34",
   "metadata": {},
   "source": [
    "# Options"
   ]
  },
  {
   "cell_type": "code",
   "execution_count": 9,
   "id": "f6b07653",
   "metadata": {},
   "outputs": [],
   "source": [
    "Pa_GPkg_1ry = r'C:\\OD\\WS_Mdl\\models\\NBr\\PrP\\SFR\\BrabantseDelta\\WBD_SW_NW_1ry.gpkg' \n",
    "Pa_GPkg = r\"C:\\OD\\WS_Mdl\\models\\NBr\\PrP\\SFR\\BrabantseDelta\\acceptatiedatabase.gdb\"\n",
    "detailed = 'hydroobject'\n",
    "primary = 'LEGGER_VASTGESTELD_WATERLOOP_CATEGORIE_A'"
   ]
  },
  {
   "cell_type": "code",
   "execution_count": 10,
   "id": "2201f84e",
   "metadata": {},
   "outputs": [],
   "source": [
    "MdlN = 'NBr33'"
   ]
  },
  {
   "cell_type": "code",
   "execution_count": 11,
   "id": "0da68110",
   "metadata": {},
   "outputs": [],
   "source": [
    "U.set_verbose(False)"
   ]
  },
  {
   "cell_type": "code",
   "execution_count": 12,
   "id": "8464b2aa",
   "metadata": {},
   "outputs": [],
   "source": [
    "# Load paths and variables from PRJ & INI\n",
    "d_Pa = U.get_MdlN_Pa(MdlN)\n",
    "Pa_PRJ = d_Pa['PRJ']\n",
    "Dir_PRJ = PDN(Pa_PRJ)\n",
    "d_INI = U.INI_to_d(d_Pa['INI'])\n",
    "Xmin, Ymin, Xmax, Ymax = [float(i) for i in d_INI['WINDOW'].split(',')]\n",
    "SP_date_1st, SP_date_last = [DT.strftime(DT.strptime(d_INI[f'{i}'], '%Y%m%d'), '%Y-%m-%d') for i in ['SDATE', 'EDATE']]\n",
    "dx = dy = float(d_INI['CELLSIZE'])"
   ]
  },
  {
   "cell_type": "markdown",
   "id": "2e36a0dd",
   "metadata": {},
   "source": [
    "# 1ry SW Nw PrP"
   ]
  },
  {
   "cell_type": "markdown",
   "id": "f459aa49",
   "metadata": {},
   "source": [
    "## Load"
   ]
  },
  {
   "cell_type": "code",
   "execution_count": 13,
   "id": "85dc2dab",
   "metadata": {},
   "outputs": [],
   "source": [
    "GDF_all = gpd.read_file(Pa_GPkg_1ry)"
   ]
  },
  {
   "cell_type": "code",
   "execution_count": 14,
   "id": "05ccecb9",
   "metadata": {},
   "outputs": [
    {
     "data": {
      "text/html": [
       "<div>\n",
       "<style scoped>\n",
       "    .dataframe tbody tr th:only-of-type {\n",
       "        vertical-align: middle;\n",
       "    }\n",
       "\n",
       "    .dataframe tbody tr th {\n",
       "        vertical-align: top;\n",
       "    }\n",
       "\n",
       "    .dataframe thead th {\n",
       "        text-align: right;\n",
       "    }\n",
       "</style>\n",
       "<table border=\"1\" class=\"dataframe\">\n",
       "  <thead>\n",
       "    <tr style=\"text-align: right;\">\n",
       "      <th></th>\n",
       "      <th>OBJECTID</th>\n",
       "      <th>CODE</th>\n",
       "      <th>WS_STATUS_L</th>\n",
       "      <th>WS_LEGGERCATEGORIE_L</th>\n",
       "      <th>WS_LEGGERBRON_L</th>\n",
       "      <th>DATUM_VASTGESTELD</th>\n",
       "      <th>LEGGER_KENMERK</th>\n",
       "      <th>WS_ONDERHOUDSPLICHTIGE_L</th>\n",
       "      <th>WS_ONDERHOUDSPLICHT_L</th>\n",
       "      <th>WS_BODEMBREEDTE_L</th>\n",
       "      <th>...</th>\n",
       "      <th>WS_OMSCHRIJVING_TRAJECT_L</th>\n",
       "      <th>WS_LEGGERVERWIJZING_L</th>\n",
       "      <th>WS_HYPERLINK_PRO_OPW_L</th>\n",
       "      <th>WS_HYPERLINK_PRO_VW_L</th>\n",
       "      <th>WS_LEGGERBRON_OMW_L</th>\n",
       "      <th>WS_LEGGERBRON_WAW_L</th>\n",
       "      <th>WS_LEGGERBRON_COS_L</th>\n",
       "      <th>WS_HYPERLINK_BESLUIT_L</th>\n",
       "      <th>SHAPE_Length</th>\n",
       "      <th>geometry</th>\n",
       "    </tr>\n",
       "  </thead>\n",
       "  <tbody>\n",
       "    <tr>\n",
       "      <th>0</th>\n",
       "      <td>1</td>\n",
       "      <td>OVK12326</td>\n",
       "      <td>Vastgesteld, Besluit geverifieerd, ingemeten</td>\n",
       "      <td>Oppervlaktewaterlichamen</td>\n",
       "      <td>11UT009138, kernregistratie</td>\n",
       "      <td>2021-03-30 00:00:00+00:00</td>\n",
       "      <td>Waterschapsblad 2021, 4434</td>\n",
       "      <td>None</td>\n",
       "      <td>None</td>\n",
       "      <td>0.50</td>\n",
       "      <td>...</td>\n",
       "      <td>None</td>\n",
       "      <td>Niet van toepassing</td>\n",
       "      <td>None</td>\n",
       "      <td>None</td>\n",
       "      <td>None</td>\n",
       "      <td>None</td>\n",
       "      <td>None</td>\n",
       "      <td>None</td>\n",
       "      <td>103.786374</td>\n",
       "      <td>MULTILINESTRING ((82178.821 382139.593, 82180....</td>\n",
       "    </tr>\n",
       "    <tr>\n",
       "      <th>1</th>\n",
       "      <td>2</td>\n",
       "      <td>OVK21780</td>\n",
       "      <td>Vastgesteld, Besluit geverifieerd, ingemeten</td>\n",
       "      <td>Oppervlaktewaterlichamen</td>\n",
       "      <td>Oude legger de gewijzigde Cruijslandpolders 19...</td>\n",
       "      <td>2021-03-30 00:00:00+00:00</td>\n",
       "      <td>Waterschapsblad 2021, 4434</td>\n",
       "      <td>None</td>\n",
       "      <td>None</td>\n",
       "      <td>1.50</td>\n",
       "      <td>...</td>\n",
       "      <td>None</td>\n",
       "      <td>Niet van toepassing</td>\n",
       "      <td>None</td>\n",
       "      <td>None</td>\n",
       "      <td>None</td>\n",
       "      <td>None</td>\n",
       "      <td>None</td>\n",
       "      <td>None</td>\n",
       "      <td>159.245366</td>\n",
       "      <td>MULTILINESTRING ((87960.311 397958.808, 87960....</td>\n",
       "    </tr>\n",
       "    <tr>\n",
       "      <th>2</th>\n",
       "      <td>3</td>\n",
       "      <td>OVK02233</td>\n",
       "      <td>Vastgesteld, Ligging gewijzigd, tabel ongewijzigd</td>\n",
       "      <td>Oppervlaktewaterlichamen</td>\n",
       "      <td>None</td>\n",
       "      <td>2021-03-30 00:00:00+00:00</td>\n",
       "      <td>Waterschapsblad 2021, 4434</td>\n",
       "      <td>None</td>\n",
       "      <td>None</td>\n",
       "      <td>0.60</td>\n",
       "      <td>...</td>\n",
       "      <td>None</td>\n",
       "      <td>Niet van toepassing</td>\n",
       "      <td>None</td>\n",
       "      <td>None</td>\n",
       "      <td>None</td>\n",
       "      <td>None</td>\n",
       "      <td>None</td>\n",
       "      <td>None</td>\n",
       "      <td>211.357944</td>\n",
       "      <td>MULTILINESTRING ((111124.488 396263.763, 11113...</td>\n",
       "    </tr>\n",
       "    <tr>\n",
       "      <th>3</th>\n",
       "      <td>4</td>\n",
       "      <td>OVK07620</td>\n",
       "      <td>Vastgesteld, Ligging gewijzigd, tabel ongewijzigd</td>\n",
       "      <td>Oppervlaktewaterlichamen</td>\n",
       "      <td>None</td>\n",
       "      <td>2021-03-30 00:00:00+00:00</td>\n",
       "      <td>Waterschapsblad 2021, 4434</td>\n",
       "      <td>None</td>\n",
       "      <td>None</td>\n",
       "      <td>0.90</td>\n",
       "      <td>...</td>\n",
       "      <td>None</td>\n",
       "      <td>Niet van toepassing</td>\n",
       "      <td>None</td>\n",
       "      <td>None</td>\n",
       "      <td>None</td>\n",
       "      <td>None</td>\n",
       "      <td>None</td>\n",
       "      <td>None</td>\n",
       "      <td>565.948226</td>\n",
       "      <td>MULTILINESTRING ((104001.385 404319.356, 10400...</td>\n",
       "    </tr>\n",
       "    <tr>\n",
       "      <th>4</th>\n",
       "      <td>5</td>\n",
       "      <td>OVK05547</td>\n",
       "      <td>Vastgesteld, Besluit geverifieerd, ingemeten</td>\n",
       "      <td>Oppervlaktewaterlichamen</td>\n",
       "      <td>Oude legger De polders van Nieuw Vosmeer 1971,...</td>\n",
       "      <td>2021-03-30 00:00:00+00:00</td>\n",
       "      <td>Waterschapsblad 2021, 4434</td>\n",
       "      <td>None</td>\n",
       "      <td>None</td>\n",
       "      <td>1.77</td>\n",
       "      <td>...</td>\n",
       "      <td>None</td>\n",
       "      <td>Niet van toepassing</td>\n",
       "      <td>None</td>\n",
       "      <td>None</td>\n",
       "      <td>None</td>\n",
       "      <td>None</td>\n",
       "      <td>None</td>\n",
       "      <td>None</td>\n",
       "      <td>1415.946440</td>\n",
       "      <td>MULTILINESTRING ((75046.141 401865.437, 75045....</td>\n",
       "    </tr>\n",
       "    <tr>\n",
       "      <th>...</th>\n",
       "      <td>...</td>\n",
       "      <td>...</td>\n",
       "      <td>...</td>\n",
       "      <td>...</td>\n",
       "      <td>...</td>\n",
       "      <td>...</td>\n",
       "      <td>...</td>\n",
       "      <td>...</td>\n",
       "      <td>...</td>\n",
       "      <td>...</td>\n",
       "      <td>...</td>\n",
       "      <td>...</td>\n",
       "      <td>...</td>\n",
       "      <td>...</td>\n",
       "      <td>...</td>\n",
       "      <td>...</td>\n",
       "      <td>...</td>\n",
       "      <td>...</td>\n",
       "      <td>...</td>\n",
       "      <td>...</td>\n",
       "      <td>...</td>\n",
       "    </tr>\n",
       "    <tr>\n",
       "      <th>12859</th>\n",
       "      <td>12860</td>\n",
       "      <td>OVK03414</td>\n",
       "      <td>Vigerende legger</td>\n",
       "      <td>Oppervlaktewaterlichamen</td>\n",
       "      <td>None</td>\n",
       "      <td>2024-11-21 00:00:00+00:00</td>\n",
       "      <td>Waterschapsblad 2024, 25527</td>\n",
       "      <td>Gemeente Waalwijk</td>\n",
       "      <td>None</td>\n",
       "      <td>0.50</td>\n",
       "      <td>...</td>\n",
       "      <td>None</td>\n",
       "      <td>Niet van toepassing</td>\n",
       "      <td>None</td>\n",
       "      <td>None</td>\n",
       "      <td>14IN032214</td>\n",
       "      <td>None</td>\n",
       "      <td>None</td>\n",
       "      <td>https://zoek.officielebekendmakingen.nl/wsb-20...</td>\n",
       "      <td>230.941879</td>\n",
       "      <td>MULTILINESTRING ((127154.852 413725.971, 12715...</td>\n",
       "    </tr>\n",
       "    <tr>\n",
       "      <th>12860</th>\n",
       "      <td>12861</td>\n",
       "      <td>OVK08022</td>\n",
       "      <td>Vigerende legger</td>\n",
       "      <td>Oppervlaktewaterlichamen</td>\n",
       "      <td>None</td>\n",
       "      <td>2024-11-21 00:00:00+00:00</td>\n",
       "      <td>Waterschapsblad 2024, 25527</td>\n",
       "      <td>None</td>\n",
       "      <td>None</td>\n",
       "      <td>0.92</td>\n",
       "      <td>...</td>\n",
       "      <td>None</td>\n",
       "      <td>Niet van toepassing</td>\n",
       "      <td>None</td>\n",
       "      <td>None</td>\n",
       "      <td>448580</td>\n",
       "      <td>None</td>\n",
       "      <td>None</td>\n",
       "      <td>https://zoek.officielebekendmakingen.nl/wsb-20...</td>\n",
       "      <td>562.094599</td>\n",
       "      <td>MULTILINESTRING ((106839.183 406980.574, 10685...</td>\n",
       "    </tr>\n",
       "    <tr>\n",
       "      <th>12861</th>\n",
       "      <td>12862</td>\n",
       "      <td>OVK21240</td>\n",
       "      <td>Vigerende legger</td>\n",
       "      <td>Oppervlaktewaterlichamen</td>\n",
       "      <td>None</td>\n",
       "      <td>2024-11-21 00:00:00+00:00</td>\n",
       "      <td>Waterschapsblad 2024, 25527</td>\n",
       "      <td>None</td>\n",
       "      <td>None</td>\n",
       "      <td>1.00</td>\n",
       "      <td>...</td>\n",
       "      <td>None</td>\n",
       "      <td>Niet van toepassing</td>\n",
       "      <td>None</td>\n",
       "      <td>None</td>\n",
       "      <td>757483</td>\n",
       "      <td>None</td>\n",
       "      <td>waterloop was op de legger cat-C tijdens vergu...</td>\n",
       "      <td>https://zoek.officielebekendmakingen.nl/wsb-20...</td>\n",
       "      <td>405.070769</td>\n",
       "      <td>MULTILINESTRING ((98685.008 394485.756, 98680....</td>\n",
       "    </tr>\n",
       "    <tr>\n",
       "      <th>12862</th>\n",
       "      <td>12863</td>\n",
       "      <td>OVK07617</td>\n",
       "      <td>Vigerende legger</td>\n",
       "      <td>Oppervlaktewaterlichamen</td>\n",
       "      <td>None</td>\n",
       "      <td>2024-11-21 00:00:00+00:00</td>\n",
       "      <td>Waterschapsblad 2024, 25527</td>\n",
       "      <td>None</td>\n",
       "      <td>None</td>\n",
       "      <td>0.80</td>\n",
       "      <td>...</td>\n",
       "      <td>None</td>\n",
       "      <td>Niet van toepassing</td>\n",
       "      <td>None</td>\n",
       "      <td>None</td>\n",
       "      <td>IP800380 verbetering RWK</td>\n",
       "      <td>None</td>\n",
       "      <td>None</td>\n",
       "      <td>https://zoek.officielebekendmakingen.nl/wsb-20...</td>\n",
       "      <td>512.689618</td>\n",
       "      <td>MULTILINESTRING ((102983.931 404344.646, 10300...</td>\n",
       "    </tr>\n",
       "    <tr>\n",
       "      <th>12863</th>\n",
       "      <td>12864</td>\n",
       "      <td>OVK02407</td>\n",
       "      <td>Vigerende legger</td>\n",
       "      <td>Oppervlaktewaterlichamen</td>\n",
       "      <td>None</td>\n",
       "      <td>2024-11-21 00:00:00+00:00</td>\n",
       "      <td>Waterschapsblad 2024, 25527</td>\n",
       "      <td>None</td>\n",
       "      <td>None</td>\n",
       "      <td>1.00</td>\n",
       "      <td>...</td>\n",
       "      <td>None</td>\n",
       "      <td>Niet van toepassing</td>\n",
       "      <td>None</td>\n",
       "      <td>None</td>\n",
       "      <td>453138</td>\n",
       "      <td>None</td>\n",
       "      <td>None</td>\n",
       "      <td>https://zoek.officielebekendmakingen.nl/wsb-20...</td>\n",
       "      <td>331.549309</td>\n",
       "      <td>MULTILINESTRING ((109561.648 399619.577, 10956...</td>\n",
       "    </tr>\n",
       "  </tbody>\n",
       "</table>\n",
       "<p>12864 rows × 56 columns</p>\n",
       "</div>"
      ],
      "text/plain": [
       "       OBJECTID      CODE                                        WS_STATUS_L  \\\n",
       "0             1  OVK12326       Vastgesteld, Besluit geverifieerd, ingemeten   \n",
       "1             2  OVK21780       Vastgesteld, Besluit geverifieerd, ingemeten   \n",
       "2             3  OVK02233  Vastgesteld, Ligging gewijzigd, tabel ongewijzigd   \n",
       "3             4  OVK07620  Vastgesteld, Ligging gewijzigd, tabel ongewijzigd   \n",
       "4             5  OVK05547       Vastgesteld, Besluit geverifieerd, ingemeten   \n",
       "...         ...       ...                                                ...   \n",
       "12859     12860  OVK03414                                   Vigerende legger   \n",
       "12860     12861  OVK08022                                   Vigerende legger   \n",
       "12861     12862  OVK21240                                   Vigerende legger   \n",
       "12862     12863  OVK07617                                   Vigerende legger   \n",
       "12863     12864  OVK02407                                   Vigerende legger   \n",
       "\n",
       "           WS_LEGGERCATEGORIE_L  \\\n",
       "0      Oppervlaktewaterlichamen   \n",
       "1      Oppervlaktewaterlichamen   \n",
       "2      Oppervlaktewaterlichamen   \n",
       "3      Oppervlaktewaterlichamen   \n",
       "4      Oppervlaktewaterlichamen   \n",
       "...                         ...   \n",
       "12859  Oppervlaktewaterlichamen   \n",
       "12860  Oppervlaktewaterlichamen   \n",
       "12861  Oppervlaktewaterlichamen   \n",
       "12862  Oppervlaktewaterlichamen   \n",
       "12863  Oppervlaktewaterlichamen   \n",
       "\n",
       "                                         WS_LEGGERBRON_L  \\\n",
       "0                            11UT009138, kernregistratie   \n",
       "1      Oude legger de gewijzigde Cruijslandpolders 19...   \n",
       "2                                                   None   \n",
       "3                                                   None   \n",
       "4      Oude legger De polders van Nieuw Vosmeer 1971,...   \n",
       "...                                                  ...   \n",
       "12859                                               None   \n",
       "12860                                               None   \n",
       "12861                                               None   \n",
       "12862                                               None   \n",
       "12863                                               None   \n",
       "\n",
       "              DATUM_VASTGESTELD               LEGGER_KENMERK  \\\n",
       "0     2021-03-30 00:00:00+00:00   Waterschapsblad 2021, 4434   \n",
       "1     2021-03-30 00:00:00+00:00   Waterschapsblad 2021, 4434   \n",
       "2     2021-03-30 00:00:00+00:00   Waterschapsblad 2021, 4434   \n",
       "3     2021-03-30 00:00:00+00:00   Waterschapsblad 2021, 4434   \n",
       "4     2021-03-30 00:00:00+00:00   Waterschapsblad 2021, 4434   \n",
       "...                         ...                          ...   \n",
       "12859 2024-11-21 00:00:00+00:00  Waterschapsblad 2024, 25527   \n",
       "12860 2024-11-21 00:00:00+00:00  Waterschapsblad 2024, 25527   \n",
       "12861 2024-11-21 00:00:00+00:00  Waterschapsblad 2024, 25527   \n",
       "12862 2024-11-21 00:00:00+00:00  Waterschapsblad 2024, 25527   \n",
       "12863 2024-11-21 00:00:00+00:00  Waterschapsblad 2024, 25527   \n",
       "\n",
       "      WS_ONDERHOUDSPLICHTIGE_L WS_ONDERHOUDSPLICHT_L  WS_BODEMBREEDTE_L  ...  \\\n",
       "0                         None                  None               0.50  ...   \n",
       "1                         None                  None               1.50  ...   \n",
       "2                         None                  None               0.60  ...   \n",
       "3                         None                  None               0.90  ...   \n",
       "4                         None                  None               1.77  ...   \n",
       "...                        ...                   ...                ...  ...   \n",
       "12859        Gemeente Waalwijk                  None               0.50  ...   \n",
       "12860                     None                  None               0.92  ...   \n",
       "12861                     None                  None               1.00  ...   \n",
       "12862                     None                  None               0.80  ...   \n",
       "12863                     None                  None               1.00  ...   \n",
       "\n",
       "       WS_OMSCHRIJVING_TRAJECT_L  WS_LEGGERVERWIJZING_L  \\\n",
       "0                           None    Niet van toepassing   \n",
       "1                           None    Niet van toepassing   \n",
       "2                           None    Niet van toepassing   \n",
       "3                           None    Niet van toepassing   \n",
       "4                           None    Niet van toepassing   \n",
       "...                          ...                    ...   \n",
       "12859                       None    Niet van toepassing   \n",
       "12860                       None    Niet van toepassing   \n",
       "12861                       None    Niet van toepassing   \n",
       "12862                       None    Niet van toepassing   \n",
       "12863                       None    Niet van toepassing   \n",
       "\n",
       "       WS_HYPERLINK_PRO_OPW_L  WS_HYPERLINK_PRO_VW_L  \\\n",
       "0                        None                   None   \n",
       "1                        None                   None   \n",
       "2                        None                   None   \n",
       "3                        None                   None   \n",
       "4                        None                   None   \n",
       "...                       ...                    ...   \n",
       "12859                    None                   None   \n",
       "12860                    None                   None   \n",
       "12861                    None                   None   \n",
       "12862                    None                   None   \n",
       "12863                    None                   None   \n",
       "\n",
       "            WS_LEGGERBRON_OMW_L  WS_LEGGERBRON_WAW_L  \\\n",
       "0                          None                 None   \n",
       "1                          None                 None   \n",
       "2                          None                 None   \n",
       "3                          None                 None   \n",
       "4                          None                 None   \n",
       "...                         ...                  ...   \n",
       "12859                14IN032214                 None   \n",
       "12860                    448580                 None   \n",
       "12861                    757483                 None   \n",
       "12862  IP800380 verbetering RWK                 None   \n",
       "12863                    453138                 None   \n",
       "\n",
       "                                     WS_LEGGERBRON_COS_L  \\\n",
       "0                                                   None   \n",
       "1                                                   None   \n",
       "2                                                   None   \n",
       "3                                                   None   \n",
       "4                                                   None   \n",
       "...                                                  ...   \n",
       "12859                                               None   \n",
       "12860                                               None   \n",
       "12861  waterloop was op de legger cat-C tijdens vergu...   \n",
       "12862                                               None   \n",
       "12863                                               None   \n",
       "\n",
       "                                  WS_HYPERLINK_BESLUIT_L  SHAPE_Length  \\\n",
       "0                                                   None    103.786374   \n",
       "1                                                   None    159.245366   \n",
       "2                                                   None    211.357944   \n",
       "3                                                   None    565.948226   \n",
       "4                                                   None   1415.946440   \n",
       "...                                                  ...           ...   \n",
       "12859  https://zoek.officielebekendmakingen.nl/wsb-20...    230.941879   \n",
       "12860  https://zoek.officielebekendmakingen.nl/wsb-20...    562.094599   \n",
       "12861  https://zoek.officielebekendmakingen.nl/wsb-20...    405.070769   \n",
       "12862  https://zoek.officielebekendmakingen.nl/wsb-20...    512.689618   \n",
       "12863  https://zoek.officielebekendmakingen.nl/wsb-20...    331.549309   \n",
       "\n",
       "                                                geometry  \n",
       "0      MULTILINESTRING ((82178.821 382139.593, 82180....  \n",
       "1      MULTILINESTRING ((87960.311 397958.808, 87960....  \n",
       "2      MULTILINESTRING ((111124.488 396263.763, 11113...  \n",
       "3      MULTILINESTRING ((104001.385 404319.356, 10400...  \n",
       "4      MULTILINESTRING ((75046.141 401865.437, 75045....  \n",
       "...                                                  ...  \n",
       "12859  MULTILINESTRING ((127154.852 413725.971, 12715...  \n",
       "12860  MULTILINESTRING ((106839.183 406980.574, 10685...  \n",
       "12861  MULTILINESTRING ((98685.008 394485.756, 98680....  \n",
       "12862  MULTILINESTRING ((102983.931 404344.646, 10300...  \n",
       "12863  MULTILINESTRING ((109561.648 399619.577, 10956...  \n",
       "\n",
       "[12864 rows x 56 columns]"
      ]
     },
     "execution_count": 14,
     "metadata": {},
     "output_type": "execute_result"
    }
   ],
   "source": [
    "GDF_all"
   ]
  },
  {
   "cell_type": "markdown",
   "id": "09530835",
   "metadata": {},
   "source": [
    "## Calculate routing"
   ]
  },
  {
   "cell_type": "markdown",
   "id": "f186dfff",
   "metadata": {},
   "source": [
    "### Extract coordinates and identify downstream segments."
   ]
  },
  {
   "cell_type": "markdown",
   "id": "33957669",
   "metadata": {},
   "source": [
    "#### Create Xend and Yend columns"
   ]
  },
  {
   "cell_type": "code",
   "execution_count": 15,
   "id": "f100fa5f",
   "metadata": {},
   "outputs": [],
   "source": [
    "GDF_all['Xstart'] = GDF_all['geometry'].apply(lambda x: x.geoms[0].coords[0][0]) # Access X coorddinate of first point in first linestring\n",
    "GDF_all['Ystart'] = GDF_all['geometry'].apply(lambda x: x.geoms[0].coords[0][1])\n",
    "GDF_all['Xend'] = GDF_all['geometry'].apply(lambda x: x.geoms[0].coords[-1][0])\n",
    "GDF_all['Yend'] = GDF_all['geometry'].apply(lambda x: x.geoms[0].coords[-1][1])"
   ]
  },
  {
   "cell_type": "code",
   "execution_count": 16,
   "id": "afaac2ee",
   "metadata": {},
   "outputs": [
    {
     "name": "stdout",
     "output_type": "stream",
     "text": [
      "✓ Start and end coordinates extracted.\n"
     ]
    },
    {
     "data": {
      "application/vnd.microsoft.datawrangler.viewer.v0+json": {
       "columns": [
        {
         "name": "index",
         "rawType": "int64",
         "type": "integer"
        },
        {
         "name": "CODE",
         "rawType": "object",
         "type": "string"
        },
        {
         "name": "Xstart",
         "rawType": "float64",
         "type": "float"
        },
        {
         "name": "Ystart",
         "rawType": "float64",
         "type": "float"
        },
        {
         "name": "Xend",
         "rawType": "float64",
         "type": "float"
        },
        {
         "name": "Yend",
         "rawType": "float64",
         "type": "float"
        }
       ],
       "ref": "b2ad9e06-934a-453f-87e8-d2e7d589c489",
       "rows": [
        [
         "0",
         "OVK12326",
         "82178.8209999986",
         "382139.5929999985",
         "82211.07629999891",
         "382230.8209999986"
        ],
        [
         "1",
         "OVK21780",
         "87960.31109999865",
         "397958.8084000014",
         "87987.89299999923",
         "397803.1719999984"
        ],
        [
         "2",
         "OVK02233",
         "111124.48790000007",
         "396263.76300000027",
         "111286.69350000098",
         "396369.1693000011"
        ],
        [
         "3",
         "OVK07620",
         "104001.38500000164",
         "404319.35599999875",
         "104532.92000000179",
         "404493.57009999827"
        ],
        [
         "4",
         "OVK05547",
         "75046.14070000127",
         "401865.43670000136",
         "73901.19200000167",
         "401618.40300000086"
        ]
       ],
       "shape": {
        "columns": 5,
        "rows": 5
       }
      },
      "text/html": [
       "<div>\n",
       "<style scoped>\n",
       "    .dataframe tbody tr th:only-of-type {\n",
       "        vertical-align: middle;\n",
       "    }\n",
       "\n",
       "    .dataframe tbody tr th {\n",
       "        vertical-align: top;\n",
       "    }\n",
       "\n",
       "    .dataframe thead th {\n",
       "        text-align: right;\n",
       "    }\n",
       "</style>\n",
       "<table border=\"1\" class=\"dataframe\">\n",
       "  <thead>\n",
       "    <tr style=\"text-align: right;\">\n",
       "      <th></th>\n",
       "      <th>CODE</th>\n",
       "      <th>Xstart</th>\n",
       "      <th>Ystart</th>\n",
       "      <th>Xend</th>\n",
       "      <th>Yend</th>\n",
       "    </tr>\n",
       "  </thead>\n",
       "  <tbody>\n",
       "    <tr>\n",
       "      <th>0</th>\n",
       "      <td>OVK12326</td>\n",
       "      <td>82178.8210</td>\n",
       "      <td>382139.5930</td>\n",
       "      <td>82211.0763</td>\n",
       "      <td>382230.8210</td>\n",
       "    </tr>\n",
       "    <tr>\n",
       "      <th>1</th>\n",
       "      <td>OVK21780</td>\n",
       "      <td>87960.3111</td>\n",
       "      <td>397958.8084</td>\n",
       "      <td>87987.8930</td>\n",
       "      <td>397803.1720</td>\n",
       "    </tr>\n",
       "    <tr>\n",
       "      <th>2</th>\n",
       "      <td>OVK02233</td>\n",
       "      <td>111124.4879</td>\n",
       "      <td>396263.7630</td>\n",
       "      <td>111286.6935</td>\n",
       "      <td>396369.1693</td>\n",
       "    </tr>\n",
       "    <tr>\n",
       "      <th>3</th>\n",
       "      <td>OVK07620</td>\n",
       "      <td>104001.3850</td>\n",
       "      <td>404319.3560</td>\n",
       "      <td>104532.9200</td>\n",
       "      <td>404493.5701</td>\n",
       "    </tr>\n",
       "    <tr>\n",
       "      <th>4</th>\n",
       "      <td>OVK05547</td>\n",
       "      <td>75046.1407</td>\n",
       "      <td>401865.4367</td>\n",
       "      <td>73901.1920</td>\n",
       "      <td>401618.4030</td>\n",
       "    </tr>\n",
       "  </tbody>\n",
       "</table>\n",
       "</div>"
      ],
      "text/plain": [
       "       CODE       Xstart       Ystart         Xend         Yend\n",
       "0  OVK12326   82178.8210  382139.5930   82211.0763  382230.8210\n",
       "1  OVK21780   87960.3111  397958.8084   87987.8930  397803.1720\n",
       "2  OVK02233  111124.4879  396263.7630  111286.6935  396369.1693\n",
       "3  OVK07620  104001.3850  404319.3560  104532.9200  404493.5701\n",
       "4  OVK05547   75046.1407  401865.4367   73901.1920  401618.4030"
      ]
     },
     "execution_count": 16,
     "metadata": {},
     "output_type": "execute_result"
    }
   ],
   "source": [
    "print(\"✓ Start and end coordinates extracted.\")\n",
    "l_coord_cols = ['CODE', 'Xstart', 'Ystart', 'Xend', 'Yend']\n",
    "GDF_all[l_coord_cols].head()"
   ]
  },
  {
   "cell_type": "markdown",
   "id": "c95cd85f",
   "metadata": {},
   "source": [
    "#### Limit X, Y to model area"
   ]
  },
  {
   "cell_type": "code",
   "execution_count": 17,
   "id": "379f79a5",
   "metadata": {},
   "outputs": [],
   "source": [
    "GDF = GDF_all[  ( (GDF_all['Xstart'].between(Xmin, Xmax, inclusive='both') | GDF_all['Xend'].between(Xmin, Xmax, inclusive='both') ) &\n",
    "              (GDF_all['Ystart'].between(Ymin, Ymax, inclusive='both') | GDF_all['Yend'].between(Ymin, Ymax, inclusive='both') ) ) ]"
   ]
  },
  {
   "cell_type": "code",
   "execution_count": 18,
   "id": "2d588b3a",
   "metadata": {},
   "outputs": [
    {
     "name": "stdout",
     "output_type": "stream",
     "text": [
      "✓ Lookup dictionary created with \u001b[1m583\u001b[0m entries.\n"
     ]
    }
   ],
   "source": [
    "# Create a lookup dictionary from start coordinates to CODE\n",
    "coord_to_id = {(row.Xstart, row.Ystart): (row.CODE, row.OBJECTID) for row in GDF.itertuples()}\n",
    "\n",
    "print(f\"✓ Lookup dictionary created with {bold}{len(coord_to_id)}{style_reset} entries.\")"
   ]
  },
  {
   "cell_type": "markdown",
   "id": "5d91cffd",
   "metadata": {},
   "source": [
    "The number of features selected in QGIS (within model area) is 562, which suprisingly is bigger than 556. We'll continue without investigating further for now."
   ]
  },
  {
   "cell_type": "markdown",
   "id": "61af3f1b",
   "metadata": {},
   "source": [
    "#### Identify downstream"
   ]
  },
  {
   "cell_type": "code",
   "execution_count": 19,
   "id": "b69aff0a",
   "metadata": {},
   "outputs": [
    {
     "name": "stdout",
     "output_type": "stream",
     "text": [
      "✓ 'DStr' columns calculated.\n"
     ]
    }
   ],
   "source": [
    "# Function to find the downstream ID\n",
    "def get_DStr(row):\n",
    "    end_coords = (row.Xend, row.Yend)\n",
    "    result = coord_to_id.get(end_coords, (0, 0))\n",
    "    return result\n",
    "\n",
    "# Apply the function to create the 'DStr' column\n",
    "GDF[['DStr_code', 'DStr_ID']] = GDF.apply(get_DStr, axis=1, result_type='expand')\n",
    "\n",
    "print(\"✓ 'DStr' columns calculated.\")"
   ]
  },
  {
   "cell_type": "code",
   "execution_count": 20,
   "id": "6ae695c5",
   "metadata": {},
   "outputs": [
    {
     "name": "stdout",
     "output_type": "stream",
     "text": [
      "9.48 % of DStrs are 0 (i.e. no start coordinates match the end coordinates of the current node).\n"
     ]
    }
   ],
   "source": [
    "print(f'{round(GDF['DStr_code'].value_counts().max()/GDF.shape[0]*100, 2)} % of DStrs are 0 (i.e. no start coordinates match the end coordinates of the current node).')"
   ]
  },
  {
   "cell_type": "markdown",
   "id": "47a844d5",
   "metadata": {},
   "source": [
    "The percentage is bigger than expected. Let's investigate."
   ]
  },
  {
   "cell_type": "markdown",
   "id": "520e5632",
   "metadata": {},
   "source": [
    "### Investigate segments that failed to connect"
   ]
  },
  {
   "cell_type": "markdown",
   "id": "75329381",
   "metadata": {},
   "source": [
    "#### Check out number of matches/no matches"
   ]
  },
  {
   "cell_type": "code",
   "execution_count": 21,
   "id": "acd213e0",
   "metadata": {},
   "outputs": [
    {
     "data": {
      "application/vnd.microsoft.datawrangler.viewer.v0+json": {
       "columns": [
        {
         "name": "DStr_code",
         "rawType": "object",
         "type": "unknown"
        },
        {
         "name": "count",
         "rawType": "int64",
         "type": "integer"
        }
       ],
       "ref": "2bbce6b4-a8bd-4b17-be16-c80bb296836c",
       "rows": [
        [
         "0",
         "56"
        ],
        [
         "OVK03070",
         "3"
        ],
        [
         "OVK11688",
         "3"
        ],
        [
         "OVK02834",
         "2"
        ],
        [
         "OVK01661",
         "2"
        ],
        [
         "OVK02979",
         "2"
        ],
        [
         "OVK02952",
         "2"
        ],
        [
         "OVK02836",
         "2"
        ],
        [
         "OVK20465",
         "2"
        ],
        [
         "OVK11641",
         "2"
        ],
        [
         "OVK02257",
         "2"
        ],
        [
         "OVK20482",
         "2"
        ],
        [
         "OVK01346",
         "2"
        ],
        [
         "OVK03079",
         "2"
        ],
        [
         "OVK03082",
         "2"
        ],
        [
         "OVK02111",
         "2"
        ],
        [
         "OVK03078",
         "2"
        ],
        [
         "OVK02938",
         "2"
        ],
        [
         "OVK20442",
         "2"
        ],
        [
         "OVK02829",
         "2"
        ],
        [
         "OVK02957",
         "2"
        ],
        [
         "OVK01471",
         "2"
        ],
        [
         "OVK02832",
         "2"
        ],
        [
         "OVK02826",
         "2"
        ],
        [
         "OVK02912",
         "2"
        ],
        [
         "OVK01798",
         "2"
        ],
        [
         "OVK02837",
         "2"
        ],
        [
         "OVK21050",
         "2"
        ],
        [
         "OVK02325",
         "2"
        ],
        [
         "OVK03018",
         "2"
        ],
        [
         "OVK01478",
         "2"
        ],
        [
         "OVK02968",
         "2"
        ],
        [
         "OVK12314",
         "2"
        ],
        [
         "OVK02915",
         "2"
        ],
        [
         "OVK00916",
         "2"
        ],
        [
         "OVK02961",
         "2"
        ],
        [
         "OVK03011",
         "2"
        ],
        [
         "OVK02080",
         "2"
        ],
        [
         "OVK01447",
         "2"
        ],
        [
         "OVK02121",
         "2"
        ],
        [
         "OVK11686",
         "2"
        ],
        [
         "OVK01492",
         "2"
        ],
        [
         "OVK01707",
         "2"
        ],
        [
         "OVK01672",
         "2"
        ],
        [
         "OVK00450",
         "2"
        ],
        [
         "OVK02326",
         "2"
        ],
        [
         "OVK01434",
         "2"
        ],
        [
         "OVK01545",
         "2"
        ],
        [
         "OVK01309",
         "2"
        ],
        [
         "OVK02945",
         "2"
        ]
       ],
       "shape": {
        "columns": 1,
        "rows": 451
       }
      },
      "text/plain": [
       "DStr_code\n",
       "0           56\n",
       "OVK03070     3\n",
       "OVK11688     3\n",
       "OVK02834     2\n",
       "OVK01661     2\n",
       "            ..\n",
       "OVK02106     1\n",
       "OVK02327     1\n",
       "OVK01633     1\n",
       "OVK01349     1\n",
       "OVK01433     1\n",
       "Name: count, Length: 451, dtype: int64"
      ]
     },
     "execution_count": 21,
     "metadata": {},
     "output_type": "execute_result"
    }
   ],
   "source": [
    "GDF['DStr_match'] = GDF['DStr_code'].isin(GDF['CODE'])\n",
    "GDF['DStr_code'].value_counts()"
   ]
  },
  {
   "cell_type": "markdown",
   "id": "ed0935b3",
   "metadata": {},
   "source": [
    "It makes sense that most nodes have just a few upstream nodes. 56 nodes are not connected."
   ]
  },
  {
   "cell_type": "code",
   "execution_count": 22,
   "id": "019adbe9",
   "metadata": {},
   "outputs": [
    {
     "data": {
      "application/vnd.microsoft.datawrangler.viewer.v0+json": {
       "columns": [
        {
         "name": "DStr_match",
         "rawType": "bool",
         "type": "boolean"
        },
        {
         "name": "count",
         "rawType": "int64",
         "type": "integer"
        }
       ],
       "ref": "e40d681f-53e4-45b1-90f3-518ace2feb31",
       "rows": [
        [
         "True",
         "535"
        ],
        [
         "False",
         "56"
        ]
       ],
       "shape": {
        "columns": 1,
        "rows": 2
       }
      },
      "text/plain": [
       "DStr_match\n",
       "True     535\n",
       "False     56\n",
       "Name: count, dtype: int64"
      ]
     },
     "execution_count": 22,
     "metadata": {},
     "output_type": "execute_result"
    }
   ],
   "source": [
    "GDF['DStr_match'].value_counts()"
   ]
  },
  {
   "cell_type": "markdown",
   "id": "7822adee",
   "metadata": {},
   "source": [
    "#### Calculate min distance from start to any reach's end and investigate no matches."
   ]
  },
  {
   "cell_type": "code",
   "execution_count": 23,
   "id": "99da0031",
   "metadata": {},
   "outputs": [],
   "source": [
    "GDF['min_Dist'] = 0.0\n",
    "GDF.loc[GDF['DStr_code'] == 0, 'min_Dist'] = GDF.loc[GDF['DStr_code'] == 0].apply(lambda row: C.c_Dist(row['Xend'], row['Yend'], GDF['Xstart'], GDF['Ystart']).min(), axis=1)"
   ]
  },
  {
   "cell_type": "code",
   "execution_count": 24,
   "id": "65e84c7c",
   "metadata": {},
   "outputs": [],
   "source": [
    "N_total_no_match = (GDF['DStr_code'] == 0).sum()"
   ]
  },
  {
   "cell_type": "code",
   "execution_count": 25,
   "id": "59b6168f",
   "metadata": {},
   "outputs": [
    {
     "data": {
      "application/vnd.microsoft.datawrangler.viewer.v0+json": {
       "columns": [
        {
         "name": "index",
         "rawType": "object",
         "type": "string"
        },
        {
         "name": "min_Dist",
         "rawType": "float64",
         "type": "float"
        }
       ],
       "ref": "74a55fcf-ab24-41ae-af21-5d0a31fcd2e6",
       "rows": [
        [
         "count",
         "56.0"
        ],
        [
         "mean",
         "50.93015769417782"
        ],
        [
         "std",
         "119.32880751904689"
        ],
        [
         "min",
         "9.999796748161316e-05"
        ],
        [
         "25%",
         "0.00010000169277191162"
        ],
        [
         "50%",
         "0.0002414209461270354"
        ],
        [
         "75%",
         "10.010838004127296"
        ],
        [
         "max",
         "564.1731227499665"
        ]
       ],
       "shape": {
        "columns": 1,
        "rows": 8
       }
      },
      "text/plain": [
       "count     56.000000\n",
       "mean      50.930158\n",
       "std      119.328808\n",
       "min        0.000100\n",
       "25%        0.000100\n",
       "50%        0.000241\n",
       "75%       10.010838\n",
       "max      564.173123\n",
       "Name: min_Dist, dtype: float64"
      ]
     },
     "execution_count": 25,
     "metadata": {},
     "output_type": "execute_result"
    }
   ],
   "source": [
    "GDF.loc[GDF['DStr_match']==False,'min_Dist'].describe()"
   ]
  },
  {
   "cell_type": "code",
   "execution_count": 26,
   "id": "a025722d",
   "metadata": {},
   "outputs": [
    {
     "name": "stdout",
     "output_type": "stream",
     "text": [
      "Out of the 56 segments that do not match:\n",
      "-     0 < min_Dist <= 0.001 |N:     37 (+   37) ( 66.1 %) | Codes: ['OVK02919:   0.0001', 'OVK02936:   0.0001', 'OVK02055:   0.0001', 'OVK02089:   0.0001', 'OVK01666:   0.0001', 'OVK20480:   0.0001', 'OVK20466:   0.0001', 'OVK02235:   0.0001', 'OVK00961:   0.0001', 'OVK20990:   0.0001', 'OVK01440:   0.0001', 'OVK00937:   0.0001', 'OVK01445:   0.0001', 'OVK00976:   0.0001', 'OVK01793:   0.0001', 'OVK01694:   0.0001', 'OVK02909:   0.0001', 'OVK00907:   0.0001', 'OVK01716:   0.0001', 'OVK01492:   0.0001', 'OVK02214:   0.0001', 'OVK00960:   0.0001', 'OVK00965:   0.0001', 'OVK01537:   0.0001', 'OVK02101:   0.0001', 'OVK01675:   0.0001', 'OVK02326:   0.0001', 'OVK01803:   0.0002', 'OVK20449:   0.0003', 'OVK02098:   0.0003', 'OVK22007:   0.0003', 'OVK01674:   0.0004', 'OVK00975:   0.0005', 'OVK01717:   0.0006', 'OVK11693:   0.0006', 'OVK00974:   0.0006', 'OVK11686:   0.0010']\n",
      "\n",
      "- 0.001 < min_Dist <=   0.1 |N:     41 (+    4) ( 73.2 %) | Codes: ['OVK02106:   0.0061', 'OVK02109:   0.0067', 'OVK20460:   0.0474', 'OVK00979:   0.0894']\n",
      "\n",
      "-   0.1 < min_Dist <=     1 |N:     42 (+    1) ( 75.0 %) | Codes: ['OVK01667:   0.5880']\n",
      "\n",
      "-     1 < min_Dist <=    10 |N:     42 (+    0) ( 75.0 %) | Codes: []\n",
      "\n",
      "-    10 < min_Dist <=   100 |N:     47 (+    5) ( 83.9 %) | Codes: ['OVK11551:  38.2794', 'OVK02333:  56.2029', 'OVK02160:  70.1709', 'OVK02830:  70.1709', 'OVK01792:  84.2079']\n",
      "\n",
      "-   100 < min_Dist <=  1000 |N:     56 (+    9) (100.0 %) | Codes: ['OVK02242: 103.0596', 'OVK02238: 133.9487', 'OVK02121: 158.3277', 'OVK01807: 192.3580', 'OVK03078: 227.1055', 'OVK02887: 360.4249', 'OVK02933: 364.0876', 'OVK01682: 428.8265', 'OVK00416: 564.1731']\n",
      "\n",
      "-  1000 < min_Dist <= 10000 |N:     56 (+    0) (100.0 %) | Codes: []\n",
      "\n"
     ]
    }
   ],
   "source": [
    "l_Vals = [0.001, 0.1, 1, 10, 100, 1000, 10000]\n",
    "\n",
    "print(f'Out of the {N_total_no_match} segments that do not match:')\n",
    "\n",
    "N_below_Prv, Val_Prv = 0, 0\n",
    "for v in l_Vals:\n",
    "    N_below = (GDF.loc[GDF['DStr_match']==False,'min_Dist'] <= v).sum()\n",
    "    P_below = round(N_below / N_total_no_match * 100, 2)\n",
    "    \n",
    "    sample_gdf = GDF.loc[(GDF['min_Dist'] > Val_Prv) & (GDF['min_Dist'] <= v), ['CODE', 'min_Dist']].sort_values(by='min_Dist')\n",
    "    sample_gdf['Code:min_Dist'] = sample_gdf.apply(lambda row: f\"{row['CODE']}: {row['min_Dist']:8.4f}\", axis=1)\n",
    "    sample_gdf = sample_gdf['Code:min_Dist']\n",
    "    example_nodes = sample_gdf.iloc[:].tolist()\n",
    "\n",
    "    print(f'-{Val_Prv:6} < min_Dist <= {v:5} |N: {N_below:6} (+ {(N_below - N_below_Prv):4}) ({round(P_below,1):5} %) | Codes: {example_nodes}\\n')\n",
    "\n",
    "    N_below_Prv, Val_Prv = N_below, v"
   ]
  },
  {
   "cell_type": "markdown",
   "id": "e83d4823",
   "metadata": {},
   "source": [
    "The total number of segments that do not match is too high to check them all, but we'll check some cases. Check C:\\OD\\WS_Mdl\\Mng\\Mdl_Ipvs.xlsx/WBD_SHP_Eval for more info."
   ]
  },
  {
   "cell_type": "markdown",
   "id": "1c27497e",
   "metadata": {},
   "source": [
    "The ones <1m can be attributed to closing errors, and we can connect them to the closest one via an algorithm.<br>Let's print out the names of the bigger differences, so that we can check them in QGIS."
   ]
  },
  {
   "cell_type": "code",
   "execution_count": 27,
   "id": "728422c1",
   "metadata": {},
   "outputs": [
    {
     "data": {
      "application/vnd.microsoft.datawrangler.viewer.v0+json": {
       "columns": [
        {
         "name": "index",
         "rawType": "int64",
         "type": "integer"
        },
        {
         "name": "CODE",
         "rawType": "object",
         "type": "string"
        },
        {
         "name": "min_Dist",
         "rawType": "float64",
         "type": "float"
        }
       ],
       "ref": "388cc5d1-31e6-4533-a527-f0ea017cffa5",
       "rows": [
        [
         "0",
         "OVK11551",
         "38.27942576678943"
        ],
        [
         "1",
         "OVK02333",
         "56.202930739978"
        ],
        [
         "2",
         "OVK02160",
         "70.17090794020767"
        ],
        [
         "3",
         "OVK02830",
         "70.17090794020767"
        ],
        [
         "4",
         "OVK01792",
         "84.20793412706207"
        ]
       ],
       "shape": {
        "columns": 2,
        "rows": 5
       }
      },
      "text/html": [
       "<div>\n",
       "<style scoped>\n",
       "    .dataframe tbody tr th:only-of-type {\n",
       "        vertical-align: middle;\n",
       "    }\n",
       "\n",
       "    .dataframe tbody tr th {\n",
       "        vertical-align: top;\n",
       "    }\n",
       "\n",
       "    .dataframe thead th {\n",
       "        text-align: right;\n",
       "    }\n",
       "</style>\n",
       "<table border=\"1\" class=\"dataframe\">\n",
       "  <thead>\n",
       "    <tr style=\"text-align: right;\">\n",
       "      <th></th>\n",
       "      <th>CODE</th>\n",
       "      <th>min_Dist</th>\n",
       "    </tr>\n",
       "  </thead>\n",
       "  <tbody>\n",
       "    <tr>\n",
       "      <th>0</th>\n",
       "      <td>OVK11551</td>\n",
       "      <td>38.279426</td>\n",
       "    </tr>\n",
       "    <tr>\n",
       "      <th>1</th>\n",
       "      <td>OVK02333</td>\n",
       "      <td>56.202931</td>\n",
       "    </tr>\n",
       "    <tr>\n",
       "      <th>2</th>\n",
       "      <td>OVK02160</td>\n",
       "      <td>70.170908</td>\n",
       "    </tr>\n",
       "    <tr>\n",
       "      <th>3</th>\n",
       "      <td>OVK02830</td>\n",
       "      <td>70.170908</td>\n",
       "    </tr>\n",
       "    <tr>\n",
       "      <th>4</th>\n",
       "      <td>OVK01792</td>\n",
       "      <td>84.207934</td>\n",
       "    </tr>\n",
       "  </tbody>\n",
       "</table>\n",
       "</div>"
      ],
      "text/plain": [
       "       CODE   min_Dist\n",
       "0  OVK11551  38.279426\n",
       "1  OVK02333  56.202931\n",
       "2  OVK02160  70.170908\n",
       "3  OVK02830  70.170908\n",
       "4  OVK01792  84.207934"
      ]
     },
     "execution_count": 27,
     "metadata": {},
     "output_type": "execute_result"
    }
   ],
   "source": [
    "GDF.loc[GDF['min_Dist'].between(10,100, inclusive='right'), ['CODE', 'min_Dist']].sort_values(by='min_Dist').reset_index(drop=True)"
   ]
  },
  {
   "cell_type": "markdown",
   "id": "4fa4e228",
   "metadata": {},
   "source": [
    "- **OVK11551**: -- TO BE CORRECTED -- is an anomaly, as it attaches to a very long feature, far from the final start and end.\n",
    "- **OVK02333**: -- IGNORE -- ends outside the model, so there is no feature to connect to.\n",
    "- **OVK02830** & **OVK02160**: -- IGNORE -- are in the same spot. one of them is straight, the other one circles around, and they both end outside the model.\n",
    "- **OVK01792**: -- IGNORE -- also ends outside the model."
   ]
  },
  {
   "cell_type": "code",
   "execution_count": 28,
   "id": "59a7f7c5",
   "metadata": {},
   "outputs": [
    {
     "data": {
      "application/vnd.microsoft.datawrangler.viewer.v0+json": {
       "columns": [
        {
         "name": "index",
         "rawType": "int64",
         "type": "integer"
        },
        {
         "name": "CODE",
         "rawType": "object",
         "type": "string"
        },
        {
         "name": "min_Dist",
         "rawType": "float64",
         "type": "float"
        }
       ],
       "ref": "0b28dd89-afd8-4f8b-8102-4f8b60af0dac",
       "rows": [
        [
         "0",
         "OVK02242",
         "103.05961523630643"
        ],
        [
         "1",
         "OVK02238",
         "133.9486852264715"
        ],
        [
         "2",
         "OVK02121",
         "158.32771867132837"
        ],
        [
         "3",
         "OVK01807",
         "192.35795780262268"
        ],
        [
         "4",
         "OVK03078",
         "227.1054678877359"
        ],
        [
         "5",
         "OVK02887",
         "360.4248614413474"
        ],
        [
         "6",
         "OVK02933",
         "364.08758610341783"
        ],
        [
         "7",
         "OVK01682",
         "428.8265381702546"
        ],
        [
         "8",
         "OVK00416",
         "564.1731227499665"
        ]
       ],
       "shape": {
        "columns": 2,
        "rows": 9
       }
      },
      "text/html": [
       "<div>\n",
       "<style scoped>\n",
       "    .dataframe tbody tr th:only-of-type {\n",
       "        vertical-align: middle;\n",
       "    }\n",
       "\n",
       "    .dataframe tbody tr th {\n",
       "        vertical-align: top;\n",
       "    }\n",
       "\n",
       "    .dataframe thead th {\n",
       "        text-align: right;\n",
       "    }\n",
       "</style>\n",
       "<table border=\"1\" class=\"dataframe\">\n",
       "  <thead>\n",
       "    <tr style=\"text-align: right;\">\n",
       "      <th></th>\n",
       "      <th>CODE</th>\n",
       "      <th>min_Dist</th>\n",
       "    </tr>\n",
       "  </thead>\n",
       "  <tbody>\n",
       "    <tr>\n",
       "      <th>0</th>\n",
       "      <td>OVK02242</td>\n",
       "      <td>103.059615</td>\n",
       "    </tr>\n",
       "    <tr>\n",
       "      <th>1</th>\n",
       "      <td>OVK02238</td>\n",
       "      <td>133.948685</td>\n",
       "    </tr>\n",
       "    <tr>\n",
       "      <th>2</th>\n",
       "      <td>OVK02121</td>\n",
       "      <td>158.327719</td>\n",
       "    </tr>\n",
       "    <tr>\n",
       "      <th>3</th>\n",
       "      <td>OVK01807</td>\n",
       "      <td>192.357958</td>\n",
       "    </tr>\n",
       "    <tr>\n",
       "      <th>4</th>\n",
       "      <td>OVK03078</td>\n",
       "      <td>227.105468</td>\n",
       "    </tr>\n",
       "    <tr>\n",
       "      <th>5</th>\n",
       "      <td>OVK02887</td>\n",
       "      <td>360.424861</td>\n",
       "    </tr>\n",
       "    <tr>\n",
       "      <th>6</th>\n",
       "      <td>OVK02933</td>\n",
       "      <td>364.087586</td>\n",
       "    </tr>\n",
       "    <tr>\n",
       "      <th>7</th>\n",
       "      <td>OVK01682</td>\n",
       "      <td>428.826538</td>\n",
       "    </tr>\n",
       "    <tr>\n",
       "      <th>8</th>\n",
       "      <td>OVK00416</td>\n",
       "      <td>564.173123</td>\n",
       "    </tr>\n",
       "  </tbody>\n",
       "</table>\n",
       "</div>"
      ],
      "text/plain": [
       "       CODE    min_Dist\n",
       "0  OVK02242  103.059615\n",
       "1  OVK02238  133.948685\n",
       "2  OVK02121  158.327719\n",
       "3  OVK01807  192.357958\n",
       "4  OVK03078  227.105468\n",
       "5  OVK02887  360.424861\n",
       "6  OVK02933  364.087586\n",
       "7  OVK01682  428.826538\n",
       "8  OVK00416  564.173123"
      ]
     },
     "execution_count": 28,
     "metadata": {},
     "output_type": "execute_result"
    }
   ],
   "source": [
    "GDF.loc[GDF['min_Dist'].between(100,1000, inclusive='right'), ['CODE', 'min_Dist']].sort_values(by='min_Dist').reset_index(drop=True)"
   ]
  },
  {
   "cell_type": "markdown",
   "id": "df297302",
   "metadata": {},
   "source": [
    "- **OVK02242**: --- IGNORE --- ends outside the model and doesn't have any impact on Chaamse Beek \n",
    "- **OVK02238**: --- IGNORE --- ends outside the model and doesn't have any impact on Chaamse Beek \n",
    "- **OVK02121**: --- IGNORE --- ends outside the model and doesn't have any impact on Chaamse Beek \n",
    "- **OVK01807**: --- IGNORE --- ends outside the model and doesn't have any impact on Chaamse Beek \n",
    "- **OVK03078**: --- IGNORE --- ends outside the model and doesn't have any impact on Chaamse Beek \n",
    "- **OVK02887**: --- IGNORE --- ends outside the model and doesn't have any impact on Chaamse Beek (final Mark outled outside MdlAa) \n",
    "- **OVK02933**: --- IGNORE --- ends outside the model and doesn't have any impact on Chaamse Beek \n",
    "- **OVK01682**: --- IGNORE --- ends outside the model and doesn't have any impact on Chaamse Beek \n",
    "- **OVK00416**: --- IGNORE --- ends outside the model and doesn't have any impact on Chaamse Beek \n"
   ]
  },
  {
   "cell_type": "markdown",
   "id": "c9d0f42f",
   "metadata": {},
   "source": [
    "### Edit connections"
   ]
  },
  {
   "cell_type": "code",
   "execution_count": 29,
   "id": "e40560e3",
   "metadata": {},
   "outputs": [
    {
     "name": "stdout",
     "output_type": "stream",
     "text": [
      "Found 42 segments with no downstream connection and a potential connection within 1m.\n",
      "✓ Corrected 41 segments by updating 'DStr_code' and 'DStr_ID'.\n",
      "✓ Found 1 segments with multiple potential connections (stored in 'multiple_close').\n"
     ]
    }
   ],
   "source": [
    "# Initialize the 'multiple_close' column with empty strings\n",
    "GDF['multiple_close'] = \"\"\n",
    "\n",
    "# Select rows to correct\n",
    "rows_to_correct = GDF[(GDF['DStr_code'] == 0) & (GDF['min_Dist'] < 1)].copy()\n",
    "\n",
    "print(f\"Found {len(rows_to_correct)} segments with no downstream connection and a potential connection within 1m.\")\n",
    "\n",
    "# Create a Series of all start coordinates for faster access\n",
    "all_starts_x = GDF['Xstart']\n",
    "all_starts_y = GDF['Ystart']\n",
    "all_codes = GDF['CODE']\n",
    "all_object_ids = GDF['OBJECTID']\n",
    "\n",
    "corrected_count = 0\n",
    "multiple_count = 0\n",
    "\n",
    "# Loop through the rows that need correction\n",
    "for index, row in rows_to_correct.iterrows():\n",
    "    # Calculate distances from the current row's end point to all other rows' start points\n",
    "    distances = C.c_Dist(row['Xend'], row['Yend'], all_starts_x, all_starts_y)\n",
    "    \n",
    "    # Find segments where the distance is less than 1m\n",
    "    close_mask = (distances < 1) & (GDF.index != index) # Exclude self\n",
    "    close_segments_codes = all_codes[close_mask].tolist()\n",
    "    close_segments_object_ids = all_object_ids[close_mask].tolist()\n",
    "    \n",
    "    if len(close_segments_codes) == 1:\n",
    "        # If there is exactly one close segment, update both 'DStr_code' and 'DStr_ID'\n",
    "        GDF.loc[index, 'DStr_code'] = close_segments_codes[0]\n",
    "        GDF.loc[index, 'DStr_ID'] = close_segments_object_ids[0]\n",
    "        corrected_count += 1\n",
    "    elif len(close_segments_codes) > 1:\n",
    "        # If there are multiple close segments, store as comma-separated string\n",
    "        GDF.loc[index, 'multiple_close'] = \", \".join(close_segments_codes)\n",
    "        multiple_count += 1\n",
    "\n",
    "print(f\"✓ Corrected {corrected_count} segments by updating 'DStr_code' and 'DStr_ID'.\")\n",
    "print(f\"✓ Found {multiple_count} segments with multiple potential connections (stored in 'multiple_close').\")"
   ]
  },
  {
   "cell_type": "code",
   "execution_count": 30,
   "id": "b01686e1",
   "metadata": {},
   "outputs": [
    {
     "data": {
      "application/vnd.microsoft.datawrangler.viewer.v0+json": {
       "columns": [
        {
         "name": "index",
         "rawType": "int64",
         "type": "integer"
        },
        {
         "name": "CODE",
         "rawType": "object",
         "type": "string"
        },
        {
         "name": "multiple_close",
         "rawType": "object",
         "type": "string"
        }
       ],
       "ref": "2bfe1625-e84b-4d7f-a40a-1757e48c1229",
       "rows": [
        [
         "3533",
         "OVK00976",
         "OVK00977, OVK01474"
        ]
       ],
       "shape": {
        "columns": 2,
        "rows": 1
       }
      },
      "text/html": [
       "<div>\n",
       "<style scoped>\n",
       "    .dataframe tbody tr th:only-of-type {\n",
       "        vertical-align: middle;\n",
       "    }\n",
       "\n",
       "    .dataframe tbody tr th {\n",
       "        vertical-align: top;\n",
       "    }\n",
       "\n",
       "    .dataframe thead th {\n",
       "        text-align: right;\n",
       "    }\n",
       "</style>\n",
       "<table border=\"1\" class=\"dataframe\">\n",
       "  <thead>\n",
       "    <tr style=\"text-align: right;\">\n",
       "      <th></th>\n",
       "      <th>CODE</th>\n",
       "      <th>multiple_close</th>\n",
       "    </tr>\n",
       "  </thead>\n",
       "  <tbody>\n",
       "    <tr>\n",
       "      <th>3533</th>\n",
       "      <td>OVK00976</td>\n",
       "      <td>OVK00977, OVK01474</td>\n",
       "    </tr>\n",
       "  </tbody>\n",
       "</table>\n",
       "</div>"
      ],
      "text/plain": [
       "          CODE      multiple_close\n",
       "3533  OVK00976  OVK00977, OVK01474"
      ]
     },
     "execution_count": 30,
     "metadata": {},
     "output_type": "execute_result"
    }
   ],
   "source": [
    "GDF.loc[GDF['multiple_close']!='', ['CODE', 'multiple_close']].sort_values(by='multiple_close', ascending=False)"
   ]
  },
  {
   "cell_type": "markdown",
   "id": "a4f0209f",
   "metadata": {},
   "source": [
    "This is an upstremost segment that's really small, so it doesn't matter much where it connects to. We'll connect it to one of the two downstream segments at random."
   ]
  },
  {
   "cell_type": "code",
   "execution_count": 31,
   "id": "b17f30dc",
   "metadata": {},
   "outputs": [],
   "source": [
    "GDF.loc[GDF['CODE']=='OVK00976', ['DStr_code', 'DStr_ID']] = ['OVK00977', GDF.loc[GDF['CODE']=='OVK00977', 'OBJECTID'].values[0]]"
   ]
  },
  {
   "cell_type": "markdown",
   "id": "ec898dbb",
   "metadata": {},
   "source": [
    "Let's also fix OVK11551, which connects to that very long segment (OVK03013), far from either end."
   ]
  },
  {
   "cell_type": "code",
   "execution_count": 32,
   "id": "25d872a0",
   "metadata": {},
   "outputs": [],
   "source": [
    "GDF.loc[GDF['CODE']=='OVK11551', ['DStr_code', 'DStr_ID']] = ['OVK03013', GDF.loc[GDF['CODE']=='OVK03013', 'OBJECTID'].values[0]]"
   ]
  },
  {
   "cell_type": "markdown",
   "id": "49215580",
   "metadata": {},
   "source": [
    "## Explore GDF to Fill SFRmaker Input data requirements"
   ]
  },
  {
   "cell_type": "markdown",
   "id": "560b5dc0",
   "metadata": {},
   "source": [
    "### Custom Hydrography Required Fields"
   ]
  },
  {
   "cell_type": "markdown",
   "id": "9c9d78be",
   "metadata": {},
   "source": [
    "Below, we'll match the shapefile attributes to the SFRmaker requirements as per SFRmaker manual ( https://doi-usgs.github.io/sfrmaker/latest/inputs.html):\n",
    "\n",
    "**Custom hydrography** <br>\n",
    "Any Polyline shapefile can be supplied in lieu of NHDPlus, but it must have the following columns, as shown in the second example:\n",
    "1. **flowlines_file**: path to shapefile\n",
    "2. **id_column**: unique identifier for each polyline\n",
    "3. **routing_column**: downstream connection (ID), 0 if none\n",
    "4. **width1_column**: channel width at start of line, in attr\\_length\\_units (optional)\n",
    "5. **width2_column**: channel width at end of line, in attr_length_units (optional)\n",
    "6. **up_elevation_column**: streambed elevation at start of line, in attr_height_units\n",
    "7. **dn_elevation_column**: streambed elevation at end of line, in attr_height_units\n",
    "8. **name_column**: stream name (optional)\n",
    "9. **attr_length_units**: channel width units\n",
    "10. **attr_height_units**: streambed elevation units"
   ]
  },
  {
   "cell_type": "markdown",
   "id": "6d6b3d88",
   "metadata": {},
   "source": [
    "Here are the columns of the GDF, so we can match them to the SFRmaker requirements:"
   ]
  },
  {
   "cell_type": "code",
   "execution_count": 33,
   "id": "3f9998e4",
   "metadata": {},
   "outputs": [
    {
     "name": "stdout",
     "output_type": "stream",
     "text": [
      "0: OBJECTID\n",
      "1: CODE\n",
      "2: WS_STATUS_L\n",
      "3: WS_LEGGERCATEGORIE_L\n",
      "4: WS_LEGGERBRON_L\n",
      "5: DATUM_VASTGESTELD\n",
      "6: LEGGER_KENMERK\n",
      "7: WS_ONDERHOUDSPLICHTIGE_L\n",
      "8: WS_ONDERHOUDSPLICHT_L\n",
      "9: WS_BODEMBREEDTE_L\n",
      "10: WS_BH_BOVENSTROOMS_L\n",
      "11: WS_BH_BENEDENSTROOMS_L\n",
      "12: WS_BODBREE_ACCPROF_LI_L\n",
      "13: WS_BODBREE_ACCPROF_RE_L\n",
      "14: WS_HGT_INSTEEK_LI_L\n",
      "15: WS_HGT_INSTEEK_RE_L\n",
      "16: WS_BHGT_ACCPROF_LI_L\n",
      "17: WS_BHGT_ACCPROF_RE_L\n",
      "18: WS_TALUD_LINKS_L\n",
      "19: WS_TALUD_RECHTS_L\n",
      "20: WS_TALUD_ACCPROF_LI_L\n",
      "21: WS_TALUD_ACCPROF_RE_L\n",
      "22: WS_ONDERWATERTALUD_LI_L\n",
      "23: WS_ONDERWATERTALUD_RE_L\n",
      "24: WS_HGT_BESCHOEIING_LI_L\n",
      "25: WS_HGT_BESCHOEIING_RE_L\n",
      "26: WS_HGT_ONDERK_BES_LI_L\n",
      "27: WS_HGT_ONDERK_BES_RE_L\n",
      "28: WS_HGT_INSTEEK_ACCPROF_LI_L\n",
      "29: WS_HGT_INSTEEK_ACCPROF_RE_L\n",
      "30: WS_BIJZ_FUNCTIE_L\n",
      "31: WS_INHOUD_RETENTIE_L\n",
      "32: WS_LENGTE_L\n",
      "33: WS_OPW_BIJZ_PROF_L\n",
      "34: WS_VW_BODEMBREEDTE_L\n",
      "35: WS_VW_BH_BOVENSTROOMS_L\n",
      "36: WS_VW_BH_BENEDENSTROOMS_L\n",
      "37: WS_VW_TALUD_LINKS_L\n",
      "38: WS_VW_TALUD_RECHTS_L\n",
      "39: WS_VW_BIJZ_PROF_L\n",
      "40: WIJZIGING\n",
      "41: SE_ANNO_CAD_DATA\n",
      "42: CREATED_USER\n",
      "43: CREATED_DATE\n",
      "44: LAST_EDITED_USER\n",
      "45: LAST_EDITED_DATE\n",
      "46: WS_OMSCHRIJVING_TRAJECT_L\n",
      "47: WS_LEGGERVERWIJZING_L\n",
      "48: WS_HYPERLINK_PRO_OPW_L\n",
      "49: WS_HYPERLINK_PRO_VW_L\n",
      "50: WS_LEGGERBRON_OMW_L\n",
      "51: WS_LEGGERBRON_WAW_L\n",
      "52: WS_LEGGERBRON_COS_L\n",
      "53: WS_HYPERLINK_BESLUIT_L\n",
      "54: SHAPE_Length\n",
      "55: geometry\n",
      "56: Xstart\n",
      "57: Ystart\n",
      "58: Xend\n",
      "59: Yend\n",
      "60: DStr_code\n",
      "61: DStr_ID\n",
      "62: DStr_match\n",
      "63: min_Dist\n",
      "64: multiple_close\n"
     ]
    }
   ],
   "source": [
    "for i, col in enumerate(GDF.columns):\n",
    "    print(f\"{i}: {col}\")"
   ]
  },
  {
   "cell_type": "markdown",
   "id": "c3d89065",
   "metadata": {},
   "source": [
    "### 1. flowlines_file will definitely be Pa_GPkg_1ry "
   ]
  },
  {
   "cell_type": "markdown",
   "id": "05cbe04f",
   "metadata": {},
   "source": [
    "### 2. & 3. will most likely be 'OBJECTID' & 'DStr_ID'."
   ]
  },
  {
   "cell_type": "markdown",
   "id": "8f68da2e",
   "metadata": {},
   "source": [
    "But let's ensure there are no nulls and use the .describe() method to check more details"
   ]
  },
  {
   "cell_type": "code",
   "execution_count": 34,
   "id": "c9f7b439",
   "metadata": {},
   "outputs": [
    {
     "data": {
      "application/vnd.microsoft.datawrangler.viewer.v0+json": {
       "columns": [
        {
         "name": "index",
         "rawType": "object",
         "type": "string"
        },
        {
         "name": "0",
         "rawType": "int64",
         "type": "integer"
        }
       ],
       "ref": "51cbf74a-188f-4041-a006-54dbc11f52e9",
       "rows": [
        [
         "OBJECTID",
         "0"
        ],
        [
         "DStr_ID",
         "0"
        ]
       ],
       "shape": {
        "columns": 1,
        "rows": 2
       }
      },
      "text/plain": [
       "OBJECTID    0\n",
       "DStr_ID     0\n",
       "dtype: int64"
      ]
     },
     "execution_count": 34,
     "metadata": {},
     "output_type": "execute_result"
    }
   ],
   "source": [
    "GDF[['OBJECTID', 'DStr_ID']].isna().sum()"
   ]
  },
  {
   "cell_type": "code",
   "execution_count": 35,
   "id": "57ced383",
   "metadata": {},
   "outputs": [
    {
     "data": {
      "application/vnd.microsoft.datawrangler.viewer.v0+json": {
       "columns": [
        {
         "name": "index",
         "rawType": "object",
         "type": "string"
        },
        {
         "name": "CODE",
         "rawType": "object",
         "type": "unknown"
        },
        {
         "name": "OBJECTID",
         "rawType": "float64",
         "type": "float"
        },
        {
         "name": "DStr_code",
         "rawType": "float64",
         "type": "float"
        },
        {
         "name": "DStr_ID",
         "rawType": "float64",
         "type": "float"
        }
       ],
       "ref": "4bf23830-802c-469b-b850-c7faf62bb765",
       "rows": [
        [
         "count",
         "591",
         "591.0",
         "591.0",
         "591.0"
        ],
        [
         "unique",
         "591",
         null,
         "487.0",
         null
        ],
        [
         "top",
         "OVK01308",
         null,
         "0.0",
         null
        ],
        [
         "freq",
         "1",
         null,
         "13.0",
         null
        ],
        [
         "mean",
         null,
         "6246.402707275804",
         null,
         "6174.412859560068"
        ],
        [
         "std",
         null,
         "3976.4757887567894",
         null,
         "4026.858889679853"
        ],
        [
         "min",
         null,
         "15.0",
         null,
         "0.0"
        ],
        [
         "25%",
         null,
         "2359.5",
         null,
         "2213.0"
        ],
        [
         "50%",
         null,
         "7167.0",
         null,
         "7082.0"
        ],
        [
         "75%",
         null,
         "8832.0",
         null,
         "8856.0"
        ],
        [
         "max",
         null,
         "12856.0",
         null,
         "12856.0"
        ]
       ],
       "shape": {
        "columns": 4,
        "rows": 11
       }
      },
      "text/html": [
       "<div>\n",
       "<style scoped>\n",
       "    .dataframe tbody tr th:only-of-type {\n",
       "        vertical-align: middle;\n",
       "    }\n",
       "\n",
       "    .dataframe tbody tr th {\n",
       "        vertical-align: top;\n",
       "    }\n",
       "\n",
       "    .dataframe thead th {\n",
       "        text-align: right;\n",
       "    }\n",
       "</style>\n",
       "<table border=\"1\" class=\"dataframe\">\n",
       "  <thead>\n",
       "    <tr style=\"text-align: right;\">\n",
       "      <th></th>\n",
       "      <th>CODE</th>\n",
       "      <th>OBJECTID</th>\n",
       "      <th>DStr_code</th>\n",
       "      <th>DStr_ID</th>\n",
       "    </tr>\n",
       "  </thead>\n",
       "  <tbody>\n",
       "    <tr>\n",
       "      <th>count</th>\n",
       "      <td>591</td>\n",
       "      <td>591.000000</td>\n",
       "      <td>591.0</td>\n",
       "      <td>591.00000</td>\n",
       "    </tr>\n",
       "    <tr>\n",
       "      <th>unique</th>\n",
       "      <td>591</td>\n",
       "      <td>NaN</td>\n",
       "      <td>487.0</td>\n",
       "      <td>NaN</td>\n",
       "    </tr>\n",
       "    <tr>\n",
       "      <th>top</th>\n",
       "      <td>OVK01308</td>\n",
       "      <td>NaN</td>\n",
       "      <td>0.0</td>\n",
       "      <td>NaN</td>\n",
       "    </tr>\n",
       "    <tr>\n",
       "      <th>freq</th>\n",
       "      <td>1</td>\n",
       "      <td>NaN</td>\n",
       "      <td>13.0</td>\n",
       "      <td>NaN</td>\n",
       "    </tr>\n",
       "    <tr>\n",
       "      <th>mean</th>\n",
       "      <td>NaN</td>\n",
       "      <td>6246.402707</td>\n",
       "      <td>NaN</td>\n",
       "      <td>6174.41286</td>\n",
       "    </tr>\n",
       "    <tr>\n",
       "      <th>std</th>\n",
       "      <td>NaN</td>\n",
       "      <td>3976.475789</td>\n",
       "      <td>NaN</td>\n",
       "      <td>4026.85889</td>\n",
       "    </tr>\n",
       "    <tr>\n",
       "      <th>min</th>\n",
       "      <td>NaN</td>\n",
       "      <td>15.000000</td>\n",
       "      <td>NaN</td>\n",
       "      <td>0.00000</td>\n",
       "    </tr>\n",
       "    <tr>\n",
       "      <th>25%</th>\n",
       "      <td>NaN</td>\n",
       "      <td>2359.500000</td>\n",
       "      <td>NaN</td>\n",
       "      <td>2213.00000</td>\n",
       "    </tr>\n",
       "    <tr>\n",
       "      <th>50%</th>\n",
       "      <td>NaN</td>\n",
       "      <td>7167.000000</td>\n",
       "      <td>NaN</td>\n",
       "      <td>7082.00000</td>\n",
       "    </tr>\n",
       "    <tr>\n",
       "      <th>75%</th>\n",
       "      <td>NaN</td>\n",
       "      <td>8832.000000</td>\n",
       "      <td>NaN</td>\n",
       "      <td>8856.00000</td>\n",
       "    </tr>\n",
       "    <tr>\n",
       "      <th>max</th>\n",
       "      <td>NaN</td>\n",
       "      <td>12856.000000</td>\n",
       "      <td>NaN</td>\n",
       "      <td>12856.00000</td>\n",
       "    </tr>\n",
       "  </tbody>\n",
       "</table>\n",
       "</div>"
      ],
      "text/plain": [
       "            CODE      OBJECTID  DStr_code      DStr_ID\n",
       "count        591    591.000000      591.0    591.00000\n",
       "unique       591           NaN      487.0          NaN\n",
       "top     OVK01308           NaN        0.0          NaN\n",
       "freq           1           NaN       13.0          NaN\n",
       "mean         NaN   6246.402707        NaN   6174.41286\n",
       "std          NaN   3976.475789        NaN   4026.85889\n",
       "min          NaN     15.000000        NaN      0.00000\n",
       "25%          NaN   2359.500000        NaN   2213.00000\n",
       "50%          NaN   7167.000000        NaN   7082.00000\n",
       "75%          NaN   8832.000000        NaN   8856.00000\n",
       "max          NaN  12856.000000        NaN  12856.00000"
      ]
     },
     "execution_count": 35,
     "metadata": {},
     "output_type": "execute_result"
    }
   ],
   "source": [
    "GDF[['CODE', 'OBJECTID', 'DStr_code', 'DStr_ID']].describe(include='all')"
   ]
  },
  {
   "cell_type": "code",
   "execution_count": 36,
   "id": "205cee37",
   "metadata": {},
   "outputs": [
    {
     "data": {
      "text/plain": [
       "np.int64(13)"
      ]
     },
     "execution_count": 36,
     "metadata": {},
     "output_type": "execute_result"
    }
   ],
   "source": [
    "GDF.loc[GDF['DStr_ID']==0, 'DStr_ID'].count()"
   ]
  },
  {
   "cell_type": "markdown",
   "id": "0fe3b4cb",
   "metadata": {},
   "source": [
    "Great. No nuls and 13 DStr_codes with no downstream connection ('DStr'==0) (9 with min_Dist between 100 and 1000, + 5 with min_Dist betwen 10 and 100, -1, that we connected to the meandering long segment)."
   ]
  },
  {
   "cell_type": "markdown",
   "id": "b26f4064",
   "metadata": {},
   "source": [
    "### 4. & 5. Widths (at start and end)"
   ]
  },
  {
   "cell_type": "markdown",
   "id": "53174b56",
   "metadata": {},
   "source": [
    "There are 4 candidates for those fields:\n",
    "- 'WS_BODEMBREEDTE_L' (channel bed width)\n",
    "- 'WS_BODBREE_ACCPROF_LI_L' (Accepted profile bottom width (left) (m))\n",
    "- 'WS_BODBREE_ACCPROF_RE_L' (Accepted profile bottom width (right) (m))\n",
    "- 'WS_VW_BODEMBREEDTE_L' (Prescribed bottom width (voorwaarde) (m))\n",
    "\n",
    "Let's compare the values. We can probably just use WS_BODEMBREEDTE. I think it has no/fewer nuls and the values are similar to the other 3 fields. Then we can upgrade. But let's have a look."
   ]
  },
  {
   "cell_type": "code",
   "execution_count": 37,
   "id": "80b6a63b",
   "metadata": {},
   "outputs": [
    {
     "data": {
      "application/vnd.microsoft.datawrangler.viewer.v0+json": {
       "columns": [
        {
         "name": "index",
         "rawType": "object",
         "type": "string"
        },
        {
         "name": "CODE",
         "rawType": "object",
         "type": "unknown"
        },
        {
         "name": "OBJECTID",
         "rawType": "float64",
         "type": "float"
        },
        {
         "name": "WS_BODEMBREEDTE_L",
         "rawType": "float64",
         "type": "float"
        },
        {
         "name": "WS_BODBREE_ACCPROF_LI_L",
         "rawType": "float64",
         "type": "float"
        },
        {
         "name": "WS_BODBREE_ACCPROF_RE_L",
         "rawType": "float64",
         "type": "float"
        },
        {
         "name": "WS_VW_BODEMBREEDTE_L",
         "rawType": "float64",
         "type": "float"
        }
       ],
       "ref": "67dfc976-3ca0-4c07-9e1f-047a55021c20",
       "rows": [
        [
         "count",
         "591",
         "591.0",
         "591.0",
         "15.0",
         "9.0",
         "0.0"
        ],
        [
         "unique",
         "591",
         null,
         null,
         null,
         null,
         null
        ],
        [
         "top",
         "OVK01308",
         null,
         null,
         null,
         null,
         null
        ],
        [
         "freq",
         "1",
         null,
         null,
         null,
         null,
         null
        ],
        [
         "mean",
         null,
         "6246.402707275804",
         "3.257783417766497",
         "7.73",
         "11.666666666666668",
         null
        ],
        [
         "std",
         null,
         "3976.4757887567894",
         "41.111276653939605",
         "8.591478336118879",
         "9.45423185668725",
         null
        ],
        [
         "min",
         null,
         "15.0",
         "0.4",
         "3.2",
         "3.5",
         null
        ],
        [
         "25%",
         null,
         "2359.5",
         "0.69999999",
         "3.5",
         "4.9",
         null
        ],
        [
         "50%",
         null,
         "7167.0",
         "0.85",
         "3.75",
         "6.2",
         null
        ],
        [
         "75%",
         null,
         "8832.0",
         "1.274999975",
         "5.75",
         "20.0",
         null
        ],
        [
         "max",
         null,
         "12856.0",
         "999.0",
         "30.0",
         "30.0",
         null
        ]
       ],
       "shape": {
        "columns": 6,
        "rows": 11
       }
      },
      "text/html": [
       "<div>\n",
       "<style scoped>\n",
       "    .dataframe tbody tr th:only-of-type {\n",
       "        vertical-align: middle;\n",
       "    }\n",
       "\n",
       "    .dataframe tbody tr th {\n",
       "        vertical-align: top;\n",
       "    }\n",
       "\n",
       "    .dataframe thead th {\n",
       "        text-align: right;\n",
       "    }\n",
       "</style>\n",
       "<table border=\"1\" class=\"dataframe\">\n",
       "  <thead>\n",
       "    <tr style=\"text-align: right;\">\n",
       "      <th></th>\n",
       "      <th>CODE</th>\n",
       "      <th>OBJECTID</th>\n",
       "      <th>WS_BODEMBREEDTE_L</th>\n",
       "      <th>WS_BODBREE_ACCPROF_LI_L</th>\n",
       "      <th>WS_BODBREE_ACCPROF_RE_L</th>\n",
       "      <th>WS_VW_BODEMBREEDTE_L</th>\n",
       "    </tr>\n",
       "  </thead>\n",
       "  <tbody>\n",
       "    <tr>\n",
       "      <th>count</th>\n",
       "      <td>591</td>\n",
       "      <td>591.000000</td>\n",
       "      <td>591.000000</td>\n",
       "      <td>15.000000</td>\n",
       "      <td>9.000000</td>\n",
       "      <td>0.0</td>\n",
       "    </tr>\n",
       "    <tr>\n",
       "      <th>unique</th>\n",
       "      <td>591</td>\n",
       "      <td>NaN</td>\n",
       "      <td>NaN</td>\n",
       "      <td>NaN</td>\n",
       "      <td>NaN</td>\n",
       "      <td>NaN</td>\n",
       "    </tr>\n",
       "    <tr>\n",
       "      <th>top</th>\n",
       "      <td>OVK01308</td>\n",
       "      <td>NaN</td>\n",
       "      <td>NaN</td>\n",
       "      <td>NaN</td>\n",
       "      <td>NaN</td>\n",
       "      <td>NaN</td>\n",
       "    </tr>\n",
       "    <tr>\n",
       "      <th>freq</th>\n",
       "      <td>1</td>\n",
       "      <td>NaN</td>\n",
       "      <td>NaN</td>\n",
       "      <td>NaN</td>\n",
       "      <td>NaN</td>\n",
       "      <td>NaN</td>\n",
       "    </tr>\n",
       "    <tr>\n",
       "      <th>mean</th>\n",
       "      <td>NaN</td>\n",
       "      <td>6246.402707</td>\n",
       "      <td>3.257783</td>\n",
       "      <td>7.730000</td>\n",
       "      <td>11.666667</td>\n",
       "      <td>NaN</td>\n",
       "    </tr>\n",
       "    <tr>\n",
       "      <th>std</th>\n",
       "      <td>NaN</td>\n",
       "      <td>3976.475789</td>\n",
       "      <td>41.111277</td>\n",
       "      <td>8.591478</td>\n",
       "      <td>9.454232</td>\n",
       "      <td>NaN</td>\n",
       "    </tr>\n",
       "    <tr>\n",
       "      <th>min</th>\n",
       "      <td>NaN</td>\n",
       "      <td>15.000000</td>\n",
       "      <td>0.400000</td>\n",
       "      <td>3.200000</td>\n",
       "      <td>3.500000</td>\n",
       "      <td>NaN</td>\n",
       "    </tr>\n",
       "    <tr>\n",
       "      <th>25%</th>\n",
       "      <td>NaN</td>\n",
       "      <td>2359.500000</td>\n",
       "      <td>0.700000</td>\n",
       "      <td>3.500000</td>\n",
       "      <td>4.900000</td>\n",
       "      <td>NaN</td>\n",
       "    </tr>\n",
       "    <tr>\n",
       "      <th>50%</th>\n",
       "      <td>NaN</td>\n",
       "      <td>7167.000000</td>\n",
       "      <td>0.850000</td>\n",
       "      <td>3.750000</td>\n",
       "      <td>6.200000</td>\n",
       "      <td>NaN</td>\n",
       "    </tr>\n",
       "    <tr>\n",
       "      <th>75%</th>\n",
       "      <td>NaN</td>\n",
       "      <td>8832.000000</td>\n",
       "      <td>1.275000</td>\n",
       "      <td>5.750000</td>\n",
       "      <td>20.000000</td>\n",
       "      <td>NaN</td>\n",
       "    </tr>\n",
       "    <tr>\n",
       "      <th>max</th>\n",
       "      <td>NaN</td>\n",
       "      <td>12856.000000</td>\n",
       "      <td>999.000000</td>\n",
       "      <td>30.000000</td>\n",
       "      <td>30.000000</td>\n",
       "      <td>NaN</td>\n",
       "    </tr>\n",
       "  </tbody>\n",
       "</table>\n",
       "</div>"
      ],
      "text/plain": [
       "            CODE      OBJECTID  WS_BODEMBREEDTE_L  WS_BODBREE_ACCPROF_LI_L  \\\n",
       "count        591    591.000000         591.000000                15.000000   \n",
       "unique       591           NaN                NaN                      NaN   \n",
       "top     OVK01308           NaN                NaN                      NaN   \n",
       "freq           1           NaN                NaN                      NaN   \n",
       "mean         NaN   6246.402707           3.257783                 7.730000   \n",
       "std          NaN   3976.475789          41.111277                 8.591478   \n",
       "min          NaN     15.000000           0.400000                 3.200000   \n",
       "25%          NaN   2359.500000           0.700000                 3.500000   \n",
       "50%          NaN   7167.000000           0.850000                 3.750000   \n",
       "75%          NaN   8832.000000           1.275000                 5.750000   \n",
       "max          NaN  12856.000000         999.000000                30.000000   \n",
       "\n",
       "        WS_BODBREE_ACCPROF_RE_L  WS_VW_BODEMBREEDTE_L  \n",
       "count                  9.000000                   0.0  \n",
       "unique                      NaN                   NaN  \n",
       "top                         NaN                   NaN  \n",
       "freq                        NaN                   NaN  \n",
       "mean                  11.666667                   NaN  \n",
       "std                    9.454232                   NaN  \n",
       "min                    3.500000                   NaN  \n",
       "25%                    4.900000                   NaN  \n",
       "50%                    6.200000                   NaN  \n",
       "75%                   20.000000                   NaN  \n",
       "max                   30.000000                   NaN  "
      ]
     },
     "execution_count": 37,
     "metadata": {},
     "output_type": "execute_result"
    }
   ],
   "source": [
    "GDF[['CODE', 'OBJECTID', 'WS_BODEMBREEDTE_L', 'WS_BODBREE_ACCPROF_LI_L', 'WS_BODBREE_ACCPROF_RE_L', 'WS_VW_BODEMBREEDTE_L']].describe(include='all')"
   ]
  },
  {
   "cell_type": "code",
   "execution_count": 38,
   "id": "42101d7e",
   "metadata": {},
   "outputs": [
    {
     "data": {
      "application/vnd.microsoft.datawrangler.viewer.v0+json": {
       "columns": [
        {
         "name": "index",
         "rawType": "int64",
         "type": "integer"
        },
        {
         "name": "CODE",
         "rawType": "object",
         "type": "string"
        },
        {
         "name": "WS_BODEMBREEDTE_L",
         "rawType": "float64",
         "type": "float"
        },
        {
         "name": "WS_BODBREE_ACCPROF_LI_L",
         "rawType": "float64",
         "type": "float"
        },
        {
         "name": "WS_BODBREE_ACCPROF_RE_L",
         "rawType": "float64",
         "type": "float"
        },
        {
         "name": "WS_VW_BODEMBREEDTE_L",
         "rawType": "float64",
         "type": "float"
        }
       ],
       "ref": "7108d6f7-7139-41f6-989f-a0279bfe3368",
       "rows": [
        [
         "369",
         "OVK20487",
         "1.0",
         "6.5",
         null,
         null
        ],
        [
         "511",
         "OVK01430",
         "0.8",
         null,
         "4.4",
         null
        ],
        [
         "775",
         "OVK01438",
         "0.8",
         "3.5",
         null,
         null
        ],
        [
         "2198",
         "OVK00979",
         "0.8",
         "3.2",
         null,
         null
        ],
        [
         "2395",
         "OVK01793",
         "0.5",
         null,
         "20.0",
         null
        ],
        [
         "3106",
         "OVK20485",
         "1.0",
         "5.0",
         null,
         null
        ],
        [
         "3815",
         "OVK01792",
         "0.5",
         null,
         "20.0",
         null
        ],
        [
         "3928",
         "OVK20488",
         "1.0",
         "3.75",
         null,
         null
        ],
        [
         "4588",
         "OVK01547",
         "1.0",
         "30.0",
         "30.0",
         null
        ],
        [
         "5197",
         "OVK20473",
         "0.9",
         "3.5",
         null,
         null
        ],
        [
         "5292",
         "OVK20478",
         "1.2",
         "3.7",
         null,
         null
        ],
        [
         "5723",
         "OVK20463",
         "0.8",
         "11.0",
         "11.0",
         null
        ],
        [
         "6094",
         "OVK20471",
         "0.8",
         "26.5",
         "6.2",
         null
        ],
        [
         "6948",
         "OVK20501",
         "0.8",
         "3.2",
         null,
         null
        ],
        [
         "7876",
         "OVK20970",
         "0.5",
         "3.4",
         null,
         null
        ],
        [
         "9422",
         "OVK20464",
         "0.8",
         "3.5",
         "3.5",
         null
        ],
        [
         "9433",
         "OVK01439",
         "0.9",
         "4.2",
         null,
         null
        ],
        [
         "10790",
         "OVK01431",
         "0.7000000000000001",
         null,
         "5.0",
         null
        ],
        [
         "10807",
         "OVK02953",
         "1.2",
         "5.0",
         null,
         null
        ],
        [
         "12124",
         "OVK01434",
         "0.8",
         null,
         "4.9",
         null
        ]
       ],
       "shape": {
        "columns": 5,
        "rows": 20
       }
      },
      "text/html": [
       "<div>\n",
       "<style scoped>\n",
       "    .dataframe tbody tr th:only-of-type {\n",
       "        vertical-align: middle;\n",
       "    }\n",
       "\n",
       "    .dataframe tbody tr th {\n",
       "        vertical-align: top;\n",
       "    }\n",
       "\n",
       "    .dataframe thead th {\n",
       "        text-align: right;\n",
       "    }\n",
       "</style>\n",
       "<table border=\"1\" class=\"dataframe\">\n",
       "  <thead>\n",
       "    <tr style=\"text-align: right;\">\n",
       "      <th></th>\n",
       "      <th>CODE</th>\n",
       "      <th>WS_BODEMBREEDTE_L</th>\n",
       "      <th>WS_BODBREE_ACCPROF_LI_L</th>\n",
       "      <th>WS_BODBREE_ACCPROF_RE_L</th>\n",
       "      <th>WS_VW_BODEMBREEDTE_L</th>\n",
       "    </tr>\n",
       "  </thead>\n",
       "  <tbody>\n",
       "    <tr>\n",
       "      <th>369</th>\n",
       "      <td>OVK20487</td>\n",
       "      <td>1.0</td>\n",
       "      <td>6.50</td>\n",
       "      <td>NaN</td>\n",
       "      <td>NaN</td>\n",
       "    </tr>\n",
       "    <tr>\n",
       "      <th>511</th>\n",
       "      <td>OVK01430</td>\n",
       "      <td>0.8</td>\n",
       "      <td>NaN</td>\n",
       "      <td>4.4</td>\n",
       "      <td>NaN</td>\n",
       "    </tr>\n",
       "    <tr>\n",
       "      <th>775</th>\n",
       "      <td>OVK01438</td>\n",
       "      <td>0.8</td>\n",
       "      <td>3.50</td>\n",
       "      <td>NaN</td>\n",
       "      <td>NaN</td>\n",
       "    </tr>\n",
       "    <tr>\n",
       "      <th>2198</th>\n",
       "      <td>OVK00979</td>\n",
       "      <td>0.8</td>\n",
       "      <td>3.20</td>\n",
       "      <td>NaN</td>\n",
       "      <td>NaN</td>\n",
       "    </tr>\n",
       "    <tr>\n",
       "      <th>2395</th>\n",
       "      <td>OVK01793</td>\n",
       "      <td>0.5</td>\n",
       "      <td>NaN</td>\n",
       "      <td>20.0</td>\n",
       "      <td>NaN</td>\n",
       "    </tr>\n",
       "    <tr>\n",
       "      <th>3106</th>\n",
       "      <td>OVK20485</td>\n",
       "      <td>1.0</td>\n",
       "      <td>5.00</td>\n",
       "      <td>NaN</td>\n",
       "      <td>NaN</td>\n",
       "    </tr>\n",
       "    <tr>\n",
       "      <th>3815</th>\n",
       "      <td>OVK01792</td>\n",
       "      <td>0.5</td>\n",
       "      <td>NaN</td>\n",
       "      <td>20.0</td>\n",
       "      <td>NaN</td>\n",
       "    </tr>\n",
       "    <tr>\n",
       "      <th>3928</th>\n",
       "      <td>OVK20488</td>\n",
       "      <td>1.0</td>\n",
       "      <td>3.75</td>\n",
       "      <td>NaN</td>\n",
       "      <td>NaN</td>\n",
       "    </tr>\n",
       "    <tr>\n",
       "      <th>4588</th>\n",
       "      <td>OVK01547</td>\n",
       "      <td>1.0</td>\n",
       "      <td>30.00</td>\n",
       "      <td>30.0</td>\n",
       "      <td>NaN</td>\n",
       "    </tr>\n",
       "    <tr>\n",
       "      <th>5197</th>\n",
       "      <td>OVK20473</td>\n",
       "      <td>0.9</td>\n",
       "      <td>3.50</td>\n",
       "      <td>NaN</td>\n",
       "      <td>NaN</td>\n",
       "    </tr>\n",
       "    <tr>\n",
       "      <th>5292</th>\n",
       "      <td>OVK20478</td>\n",
       "      <td>1.2</td>\n",
       "      <td>3.70</td>\n",
       "      <td>NaN</td>\n",
       "      <td>NaN</td>\n",
       "    </tr>\n",
       "    <tr>\n",
       "      <th>5723</th>\n",
       "      <td>OVK20463</td>\n",
       "      <td>0.8</td>\n",
       "      <td>11.00</td>\n",
       "      <td>11.0</td>\n",
       "      <td>NaN</td>\n",
       "    </tr>\n",
       "    <tr>\n",
       "      <th>6094</th>\n",
       "      <td>OVK20471</td>\n",
       "      <td>0.8</td>\n",
       "      <td>26.50</td>\n",
       "      <td>6.2</td>\n",
       "      <td>NaN</td>\n",
       "    </tr>\n",
       "    <tr>\n",
       "      <th>6948</th>\n",
       "      <td>OVK20501</td>\n",
       "      <td>0.8</td>\n",
       "      <td>3.20</td>\n",
       "      <td>NaN</td>\n",
       "      <td>NaN</td>\n",
       "    </tr>\n",
       "    <tr>\n",
       "      <th>7876</th>\n",
       "      <td>OVK20970</td>\n",
       "      <td>0.5</td>\n",
       "      <td>3.40</td>\n",
       "      <td>NaN</td>\n",
       "      <td>NaN</td>\n",
       "    </tr>\n",
       "    <tr>\n",
       "      <th>9422</th>\n",
       "      <td>OVK20464</td>\n",
       "      <td>0.8</td>\n",
       "      <td>3.50</td>\n",
       "      <td>3.5</td>\n",
       "      <td>NaN</td>\n",
       "    </tr>\n",
       "    <tr>\n",
       "      <th>9433</th>\n",
       "      <td>OVK01439</td>\n",
       "      <td>0.9</td>\n",
       "      <td>4.20</td>\n",
       "      <td>NaN</td>\n",
       "      <td>NaN</td>\n",
       "    </tr>\n",
       "    <tr>\n",
       "      <th>10790</th>\n",
       "      <td>OVK01431</td>\n",
       "      <td>0.7</td>\n",
       "      <td>NaN</td>\n",
       "      <td>5.0</td>\n",
       "      <td>NaN</td>\n",
       "    </tr>\n",
       "    <tr>\n",
       "      <th>10807</th>\n",
       "      <td>OVK02953</td>\n",
       "      <td>1.2</td>\n",
       "      <td>5.00</td>\n",
       "      <td>NaN</td>\n",
       "      <td>NaN</td>\n",
       "    </tr>\n",
       "    <tr>\n",
       "      <th>12124</th>\n",
       "      <td>OVK01434</td>\n",
       "      <td>0.8</td>\n",
       "      <td>NaN</td>\n",
       "      <td>4.9</td>\n",
       "      <td>NaN</td>\n",
       "    </tr>\n",
       "  </tbody>\n",
       "</table>\n",
       "</div>"
      ],
      "text/plain": [
       "           CODE  WS_BODEMBREEDTE_L  WS_BODBREE_ACCPROF_LI_L  \\\n",
       "369    OVK20487                1.0                     6.50   \n",
       "511    OVK01430                0.8                      NaN   \n",
       "775    OVK01438                0.8                     3.50   \n",
       "2198   OVK00979                0.8                     3.20   \n",
       "2395   OVK01793                0.5                      NaN   \n",
       "3106   OVK20485                1.0                     5.00   \n",
       "3815   OVK01792                0.5                      NaN   \n",
       "3928   OVK20488                1.0                     3.75   \n",
       "4588   OVK01547                1.0                    30.00   \n",
       "5197   OVK20473                0.9                     3.50   \n",
       "5292   OVK20478                1.2                     3.70   \n",
       "5723   OVK20463                0.8                    11.00   \n",
       "6094   OVK20471                0.8                    26.50   \n",
       "6948   OVK20501                0.8                     3.20   \n",
       "7876   OVK20970                0.5                     3.40   \n",
       "9422   OVK20464                0.8                     3.50   \n",
       "9433   OVK01439                0.9                     4.20   \n",
       "10790  OVK01431                0.7                      NaN   \n",
       "10807  OVK02953                1.2                     5.00   \n",
       "12124  OVK01434                0.8                      NaN   \n",
       "\n",
       "       WS_BODBREE_ACCPROF_RE_L  WS_VW_BODEMBREEDTE_L  \n",
       "369                        NaN                   NaN  \n",
       "511                        4.4                   NaN  \n",
       "775                        NaN                   NaN  \n",
       "2198                       NaN                   NaN  \n",
       "2395                      20.0                   NaN  \n",
       "3106                       NaN                   NaN  \n",
       "3815                      20.0                   NaN  \n",
       "3928                       NaN                   NaN  \n",
       "4588                      30.0                   NaN  \n",
       "5197                       NaN                   NaN  \n",
       "5292                       NaN                   NaN  \n",
       "5723                      11.0                   NaN  \n",
       "6094                       6.2                   NaN  \n",
       "6948                       NaN                   NaN  \n",
       "7876                       NaN                   NaN  \n",
       "9422                       3.5                   NaN  \n",
       "9433                       NaN                   NaN  \n",
       "10790                      5.0                   NaN  \n",
       "10807                      NaN                   NaN  \n",
       "12124                      4.9                   NaN  "
      ]
     },
     "execution_count": 38,
     "metadata": {},
     "output_type": "execute_result"
    }
   ],
   "source": [
    "GDF.loc[ GDF['WS_BODBREE_ACCPROF_LI_L'].notna() | GDF['WS_BODBREE_ACCPROF_RE_L'].notna() | GDF['WS_VW_BODEMBREEDTE_L'].notna(),\n",
    "         ['CODE', 'WS_BODEMBREEDTE_L', 'WS_BODBREE_ACCPROF_LI_L', 'WS_BODBREE_ACCPROF_RE_L', 'WS_VW_BODEMBREEDTE_L']]"
   ]
  },
  {
   "cell_type": "markdown",
   "id": "da1bf2e6",
   "metadata": {},
   "source": [
    "'WS_BODBREE_ACCPROF_LI_L' & 'WS_BODBREE_ACCPROF_RE_L' are not the bottom of the channel. This is clear if we masure the channel width in QGIS. So we won't use those.<br>\n",
    "'WS_VW_BODEMBREEDTE_L' only has nulls, so we won't use that either.<br>\n",
    "**So we'll just use 'WS_BODEMBREEDTE_L'.**"
   ]
  },
  {
   "cell_type": "markdown",
   "id": "1277cd67",
   "metadata": {},
   "source": [
    "### 6. & 7. Upstream and downstream elevations"
   ]
  },
  {
   "cell_type": "code",
   "execution_count": 39,
   "id": "997e8c1d",
   "metadata": {},
   "outputs": [
    {
     "data": {
      "application/vnd.microsoft.datawrangler.viewer.v0+json": {
       "columns": [
        {
         "name": "index",
         "rawType": "object",
         "type": "string"
        },
        {
         "name": "CODE",
         "rawType": "object",
         "type": "unknown"
        },
        {
         "name": "WS_BH_BOVENSTROOMS_L",
         "rawType": "float64",
         "type": "float"
        },
        {
         "name": "WS_BH_BENEDENSTROOMS_L",
         "rawType": "float64",
         "type": "float"
        }
       ],
       "ref": "79eac3c2-ffc3-4453-8100-785e18f66495",
       "rows": [
        [
         "count",
         "591",
         "591.0",
         "591.0"
        ],
        [
         "unique",
         "591",
         null,
         null
        ],
        [
         "top",
         "OVK01308",
         null,
         null
        ],
        [
         "freq",
         "1",
         null,
         null
        ],
        [
         "mean",
         null,
         "8.995431477868019",
         "8.58803722360406"
        ],
        [
         "std",
         null,
         "4.708963773661647",
         "4.636707793950966"
        ],
        [
         "min",
         null,
         "-1.6300000000000001",
         "-1.6500000000000001"
        ],
        [
         "25%",
         null,
         "5.86",
         "5.34499995"
        ],
        [
         "50%",
         null,
         "9.120000000000001",
         "8.76"
        ],
        [
         "75%",
         null,
         "12.49",
         "12.015"
        ],
        [
         "max",
         null,
         "19.8",
         "19.78000069"
        ]
       ],
       "shape": {
        "columns": 3,
        "rows": 11
       }
      },
      "text/html": [
       "<div>\n",
       "<style scoped>\n",
       "    .dataframe tbody tr th:only-of-type {\n",
       "        vertical-align: middle;\n",
       "    }\n",
       "\n",
       "    .dataframe tbody tr th {\n",
       "        vertical-align: top;\n",
       "    }\n",
       "\n",
       "    .dataframe thead th {\n",
       "        text-align: right;\n",
       "    }\n",
       "</style>\n",
       "<table border=\"1\" class=\"dataframe\">\n",
       "  <thead>\n",
       "    <tr style=\"text-align: right;\">\n",
       "      <th></th>\n",
       "      <th>CODE</th>\n",
       "      <th>WS_BH_BOVENSTROOMS_L</th>\n",
       "      <th>WS_BH_BENEDENSTROOMS_L</th>\n",
       "    </tr>\n",
       "  </thead>\n",
       "  <tbody>\n",
       "    <tr>\n",
       "      <th>count</th>\n",
       "      <td>591</td>\n",
       "      <td>591.000000</td>\n",
       "      <td>591.000000</td>\n",
       "    </tr>\n",
       "    <tr>\n",
       "      <th>unique</th>\n",
       "      <td>591</td>\n",
       "      <td>NaN</td>\n",
       "      <td>NaN</td>\n",
       "    </tr>\n",
       "    <tr>\n",
       "      <th>top</th>\n",
       "      <td>OVK01308</td>\n",
       "      <td>NaN</td>\n",
       "      <td>NaN</td>\n",
       "    </tr>\n",
       "    <tr>\n",
       "      <th>freq</th>\n",
       "      <td>1</td>\n",
       "      <td>NaN</td>\n",
       "      <td>NaN</td>\n",
       "    </tr>\n",
       "    <tr>\n",
       "      <th>mean</th>\n",
       "      <td>NaN</td>\n",
       "      <td>8.995431</td>\n",
       "      <td>8.588037</td>\n",
       "    </tr>\n",
       "    <tr>\n",
       "      <th>std</th>\n",
       "      <td>NaN</td>\n",
       "      <td>4.708964</td>\n",
       "      <td>4.636708</td>\n",
       "    </tr>\n",
       "    <tr>\n",
       "      <th>min</th>\n",
       "      <td>NaN</td>\n",
       "      <td>-1.630000</td>\n",
       "      <td>-1.650000</td>\n",
       "    </tr>\n",
       "    <tr>\n",
       "      <th>25%</th>\n",
       "      <td>NaN</td>\n",
       "      <td>5.860000</td>\n",
       "      <td>5.345000</td>\n",
       "    </tr>\n",
       "    <tr>\n",
       "      <th>50%</th>\n",
       "      <td>NaN</td>\n",
       "      <td>9.120000</td>\n",
       "      <td>8.760000</td>\n",
       "    </tr>\n",
       "    <tr>\n",
       "      <th>75%</th>\n",
       "      <td>NaN</td>\n",
       "      <td>12.490000</td>\n",
       "      <td>12.015000</td>\n",
       "    </tr>\n",
       "    <tr>\n",
       "      <th>max</th>\n",
       "      <td>NaN</td>\n",
       "      <td>19.800000</td>\n",
       "      <td>19.780001</td>\n",
       "    </tr>\n",
       "  </tbody>\n",
       "</table>\n",
       "</div>"
      ],
      "text/plain": [
       "            CODE  WS_BH_BOVENSTROOMS_L  WS_BH_BENEDENSTROOMS_L\n",
       "count        591            591.000000              591.000000\n",
       "unique       591                   NaN                     NaN\n",
       "top     OVK01308                   NaN                     NaN\n",
       "freq           1                   NaN                     NaN\n",
       "mean         NaN              8.995431                8.588037\n",
       "std          NaN              4.708964                4.636708\n",
       "min          NaN             -1.630000               -1.650000\n",
       "25%          NaN              5.860000                5.345000\n",
       "50%          NaN              9.120000                8.760000\n",
       "75%          NaN             12.490000               12.015000\n",
       "max          NaN             19.800000               19.780001"
      ]
     },
     "execution_count": 39,
     "metadata": {},
     "output_type": "execute_result"
    }
   ],
   "source": [
    "GDF[[ 'CODE', 'WS_BH_BOVENSTROOMS_L', 'WS_BH_BENEDENSTROOMS_L']].describe(include='all')"
   ]
  },
  {
   "cell_type": "markdown",
   "id": "7017a577",
   "metadata": {},
   "source": [
    "No nulls + the percentiles make sense.🟢<br>\n",
    "Let's make sure the UStr is always higher than the DnStr.<br>\n",
    "Then let's print out some values to check in QGIS."
   ]
  },
  {
   "cell_type": "code",
   "execution_count": 40,
   "id": "fa042d75",
   "metadata": {},
   "outputs": [
    {
     "data": {
      "text/plain": [
       "(np.int64(98), np.int64(24), np.int64(493), 591)"
      ]
     },
     "execution_count": 40,
     "metadata": {},
     "output_type": "execute_result"
    }
   ],
   "source": [
    "(GDF['WS_BH_BOVENSTROOMS_L'] <= GDF['WS_BH_BENEDENSTROOMS_L']).sum(), (GDF['WS_BH_BOVENSTROOMS_L'] < GDF['WS_BH_BENEDENSTROOMS_L']).sum(), (GDF['WS_BH_BOVENSTROOMS_L'] > GDF['WS_BH_BENEDENSTROOMS_L']).sum(), GDF.shape[0]"
   ]
  },
  {
   "cell_type": "markdown",
   "id": "3fb76324",
   "metadata": {},
   "source": [
    "For 98 segments (out of 591), the UStr Elv is <= the DStr Elv. This is not good. We'll have to fix this. 🔴<br>\n",
    "Only 24/99 have DStr < UStr , the rest are equal. = will be corrected by SFR itself (as far as I know), so no action is required for those."
   ]
  },
  {
   "cell_type": "markdown",
   "id": "d9e2d450",
   "metadata": {},
   "source": [
    "Let's print out some CODEs where =, to check in QGIS. *(We don't really need to, I'm just curious)*"
   ]
  },
  {
   "cell_type": "code",
   "execution_count": 41,
   "id": "c89fd4e0",
   "metadata": {},
   "outputs": [],
   "source": [
    "GDF_Elv = GDF[['CODE', 'WS_BH_BOVENSTROOMS_L', 'WS_BH_BENEDENSTROOMS_L', 'DStr_code', 'DStr_ID']].copy()"
   ]
  },
  {
   "cell_type": "code",
   "execution_count": 42,
   "id": "5c26b301",
   "metadata": {},
   "outputs": [],
   "source": [
    "GDF_Elv['Diff'] = GDF_Elv['WS_BH_BOVENSTROOMS_L'] - GDF_Elv['WS_BH_BENEDENSTROOMS_L']"
   ]
  },
  {
   "cell_type": "code",
   "execution_count": 43,
   "id": "b3767f90",
   "metadata": {},
   "outputs": [
    {
     "data": {
      "application/vnd.microsoft.datawrangler.viewer.v0+json": {
       "columns": [
        {
         "name": "index",
         "rawType": "int64",
         "type": "integer"
        },
        {
         "name": "CODE",
         "rawType": "object",
         "type": "string"
        },
        {
         "name": "WS_BH_BOVENSTROOMS_L",
         "rawType": "float64",
         "type": "float"
        },
        {
         "name": "WS_BH_BENEDENSTROOMS_L",
         "rawType": "float64",
         "type": "float"
        },
        {
         "name": "DStr_code",
         "rawType": "object",
         "type": "string"
        },
        {
         "name": "DStr_ID",
         "rawType": "int64",
         "type": "integer"
        },
        {
         "name": "Diff",
         "rawType": "float64",
         "type": "float"
        }
       ],
       "ref": "05385c0e-62aa-4bf5-85d6-9506359c389a",
       "rows": [
        [
         "318",
         "OVK02978",
         "2.9",
         "2.9",
         "OVK02979",
         "6696",
         "0.0"
        ],
        [
         "383",
         "OVK02056",
         "10.35000038",
         "10.35000038",
         "OVK02055",
         "481",
         "0.0"
        ],
        [
         "397",
         "OVK03014",
         "5.3499999",
         "5.3499999",
         "OVK03010",
         "475",
         "0.0"
        ],
        [
         "476",
         "OVK00950",
         "10.85999966",
         "10.85999966",
         "OVK01471",
         "371",
         "0.0"
        ],
        [
         "489",
         "OVK00994",
         "12.30000019",
         "12.30000019",
         "OVK00995",
         "7231",
         "0.0"
        ]
       ],
       "shape": {
        "columns": 6,
        "rows": 5
       }
      },
      "text/html": [
       "<div>\n",
       "<style scoped>\n",
       "    .dataframe tbody tr th:only-of-type {\n",
       "        vertical-align: middle;\n",
       "    }\n",
       "\n",
       "    .dataframe tbody tr th {\n",
       "        vertical-align: top;\n",
       "    }\n",
       "\n",
       "    .dataframe thead th {\n",
       "        text-align: right;\n",
       "    }\n",
       "</style>\n",
       "<table border=\"1\" class=\"dataframe\">\n",
       "  <thead>\n",
       "    <tr style=\"text-align: right;\">\n",
       "      <th></th>\n",
       "      <th>CODE</th>\n",
       "      <th>WS_BH_BOVENSTROOMS_L</th>\n",
       "      <th>WS_BH_BENEDENSTROOMS_L</th>\n",
       "      <th>DStr_code</th>\n",
       "      <th>DStr_ID</th>\n",
       "      <th>Diff</th>\n",
       "    </tr>\n",
       "  </thead>\n",
       "  <tbody>\n",
       "    <tr>\n",
       "      <th>318</th>\n",
       "      <td>OVK02978</td>\n",
       "      <td>2.90</td>\n",
       "      <td>2.90</td>\n",
       "      <td>OVK02979</td>\n",
       "      <td>6696</td>\n",
       "      <td>0.0</td>\n",
       "    </tr>\n",
       "    <tr>\n",
       "      <th>383</th>\n",
       "      <td>OVK02056</td>\n",
       "      <td>10.35</td>\n",
       "      <td>10.35</td>\n",
       "      <td>OVK02055</td>\n",
       "      <td>481</td>\n",
       "      <td>0.0</td>\n",
       "    </tr>\n",
       "    <tr>\n",
       "      <th>397</th>\n",
       "      <td>OVK03014</td>\n",
       "      <td>5.35</td>\n",
       "      <td>5.35</td>\n",
       "      <td>OVK03010</td>\n",
       "      <td>475</td>\n",
       "      <td>0.0</td>\n",
       "    </tr>\n",
       "    <tr>\n",
       "      <th>476</th>\n",
       "      <td>OVK00950</td>\n",
       "      <td>10.86</td>\n",
       "      <td>10.86</td>\n",
       "      <td>OVK01471</td>\n",
       "      <td>371</td>\n",
       "      <td>0.0</td>\n",
       "    </tr>\n",
       "    <tr>\n",
       "      <th>489</th>\n",
       "      <td>OVK00994</td>\n",
       "      <td>12.30</td>\n",
       "      <td>12.30</td>\n",
       "      <td>OVK00995</td>\n",
       "      <td>7231</td>\n",
       "      <td>0.0</td>\n",
       "    </tr>\n",
       "  </tbody>\n",
       "</table>\n",
       "</div>"
      ],
      "text/plain": [
       "         CODE  WS_BH_BOVENSTROOMS_L  WS_BH_BENEDENSTROOMS_L DStr_code  \\\n",
       "318  OVK02978                  2.90                    2.90  OVK02979   \n",
       "383  OVK02056                 10.35                   10.35  OVK02055   \n",
       "397  OVK03014                  5.35                    5.35  OVK03010   \n",
       "476  OVK00950                 10.86                   10.86  OVK01471   \n",
       "489  OVK00994                 12.30                   12.30  OVK00995   \n",
       "\n",
       "     DStr_ID  Diff  \n",
       "318     6696   0.0  \n",
       "383      481   0.0  \n",
       "397      475   0.0  \n",
       "476      371   0.0  \n",
       "489     7231   0.0  "
      ]
     },
     "execution_count": 43,
     "metadata": {},
     "output_type": "execute_result"
    }
   ],
   "source": [
    "GDF_Elv.loc[GDF_Elv['Diff'] == 0].head()"
   ]
  },
  {
   "cell_type": "code",
   "execution_count": 44,
   "id": "4ed88bff",
   "metadata": {},
   "outputs": [
    {
     "data": {
      "application/vnd.microsoft.datawrangler.viewer.v0+json": {
       "columns": [
        {
         "name": "index",
         "rawType": "int64",
         "type": "integer"
        },
        {
         "name": "CODE",
         "rawType": "object",
         "type": "string"
        },
        {
         "name": "WS_BH_BOVENSTROOMS_L",
         "rawType": "float64",
         "type": "float"
        },
        {
         "name": "WS_BH_BENEDENSTROOMS_L",
         "rawType": "float64",
         "type": "float"
        },
        {
         "name": "DStr_code",
         "rawType": "object",
         "type": "unknown"
        },
        {
         "name": "DStr_ID",
         "rawType": "int64",
         "type": "integer"
        },
        {
         "name": "Diff",
         "rawType": "float64",
         "type": "float"
        }
       ],
       "ref": "5ebb80f3-3ede-4ab1-a0ba-8b8dbcef6e18",
       "rows": [
        [
         "7524",
         "OVK02241",
         "-0.77",
         "-0.4",
         "OVK02242",
         "3718",
         "-0.37"
        ],
        [
         "3717",
         "OVK02242",
         "-0.40000001",
         "-0.05",
         "0",
         "0",
         "-0.35000001000000003"
        ],
        [
         "3733",
         "OVK02988",
         "0.40000001",
         "0.69999999",
         "OVK11790",
         "4052",
         "-0.29999998"
        ],
        [
         "461",
         "OVK01451",
         "19.52000046",
         "19.78000069",
         "OVK01449",
         "281",
         "-0.26000023000000283"
        ],
        [
         "4117",
         "OVK00972",
         "14.3",
         "14.55",
         "OVK00970",
         "934",
         "-0.25"
        ]
       ],
       "shape": {
        "columns": 6,
        "rows": 5
       }
      },
      "text/html": [
       "<div>\n",
       "<style scoped>\n",
       "    .dataframe tbody tr th:only-of-type {\n",
       "        vertical-align: middle;\n",
       "    }\n",
       "\n",
       "    .dataframe tbody tr th {\n",
       "        vertical-align: top;\n",
       "    }\n",
       "\n",
       "    .dataframe thead th {\n",
       "        text-align: right;\n",
       "    }\n",
       "</style>\n",
       "<table border=\"1\" class=\"dataframe\">\n",
       "  <thead>\n",
       "    <tr style=\"text-align: right;\">\n",
       "      <th></th>\n",
       "      <th>CODE</th>\n",
       "      <th>WS_BH_BOVENSTROOMS_L</th>\n",
       "      <th>WS_BH_BENEDENSTROOMS_L</th>\n",
       "      <th>DStr_code</th>\n",
       "      <th>DStr_ID</th>\n",
       "      <th>Diff</th>\n",
       "    </tr>\n",
       "  </thead>\n",
       "  <tbody>\n",
       "    <tr>\n",
       "      <th>7524</th>\n",
       "      <td>OVK02241</td>\n",
       "      <td>-0.77</td>\n",
       "      <td>-0.400000</td>\n",
       "      <td>OVK02242</td>\n",
       "      <td>3718</td>\n",
       "      <td>-0.37</td>\n",
       "    </tr>\n",
       "    <tr>\n",
       "      <th>3717</th>\n",
       "      <td>OVK02242</td>\n",
       "      <td>-0.40</td>\n",
       "      <td>-0.050000</td>\n",
       "      <td>0</td>\n",
       "      <td>0</td>\n",
       "      <td>-0.35</td>\n",
       "    </tr>\n",
       "    <tr>\n",
       "      <th>3733</th>\n",
       "      <td>OVK02988</td>\n",
       "      <td>0.40</td>\n",
       "      <td>0.700000</td>\n",
       "      <td>OVK11790</td>\n",
       "      <td>4052</td>\n",
       "      <td>-0.30</td>\n",
       "    </tr>\n",
       "    <tr>\n",
       "      <th>461</th>\n",
       "      <td>OVK01451</td>\n",
       "      <td>19.52</td>\n",
       "      <td>19.780001</td>\n",
       "      <td>OVK01449</td>\n",
       "      <td>281</td>\n",
       "      <td>-0.26</td>\n",
       "    </tr>\n",
       "    <tr>\n",
       "      <th>4117</th>\n",
       "      <td>OVK00972</td>\n",
       "      <td>14.30</td>\n",
       "      <td>14.550000</td>\n",
       "      <td>OVK00970</td>\n",
       "      <td>934</td>\n",
       "      <td>-0.25</td>\n",
       "    </tr>\n",
       "  </tbody>\n",
       "</table>\n",
       "</div>"
      ],
      "text/plain": [
       "          CODE  WS_BH_BOVENSTROOMS_L  WS_BH_BENEDENSTROOMS_L DStr_code  \\\n",
       "7524  OVK02241                 -0.77               -0.400000  OVK02242   \n",
       "3717  OVK02242                 -0.40               -0.050000         0   \n",
       "3733  OVK02988                  0.40                0.700000  OVK11790   \n",
       "461   OVK01451                 19.52               19.780001  OVK01449   \n",
       "4117  OVK00972                 14.30               14.550000  OVK00970   \n",
       "\n",
       "      DStr_ID  Diff  \n",
       "7524     3718 -0.37  \n",
       "3717        0 -0.35  \n",
       "3733     4052 -0.30  \n",
       "461       281 -0.26  \n",
       "4117      934 -0.25  "
      ]
     },
     "execution_count": 44,
     "metadata": {},
     "output_type": "execute_result"
    }
   ],
   "source": [
    "GDF_Elv.loc[ GDF_Elv['Diff'] < 0 ].sort_values(by='Diff', ascending=True).head()"
   ]
  },
  {
   "cell_type": "markdown",
   "id": "a8ae72da",
   "metadata": {},
   "source": [
    "Let's see if any of the problematic segments have multiple UStr segments. That would make a solution harder to implement.<br>\n",
    "*(if there is only 1 UStr segment, the DStr Elv of the UStr segment can be modified to allow the UStr Elv of the current segmet to be increased as well, but if there are multiple, this becomes more complicated)*"
   ]
  },
  {
   "cell_type": "code",
   "execution_count": 45,
   "id": "678c64e0",
   "metadata": {},
   "outputs": [
    {
     "name": "stdout",
     "output_type": "stream",
     "text": [
      "OVK02982 2\n",
      "OVK21050 2\n",
      "OVK03070 3\n",
      "OVK02326 2\n",
      "OVK01434 2\n"
     ]
    }
   ],
   "source": [
    "l_problematic = GDF_Elv.loc[ GDF_Elv['Diff'] < 0, 'CODE'].tolist()\n",
    "for S in l_problematic:\n",
    "    sum = (GDF['DStr_code']==S).sum()\n",
    "    if sum > 1:\n",
    "        print(S, sum)"
   ]
  },
  {
   "cell_type": "markdown",
   "id": "5b044bca",
   "metadata": {},
   "source": [
    "There are multiple segments with more than 1 UStr segment. We'll have to consider this when designing the elevation correction logic. "
   ]
  },
  {
   "cell_type": "markdown",
   "id": "d938eac8",
   "metadata": {},
   "source": [
    "We'll design an algorithm to fix the ones with <. The ones with = will be fixed by SFR itself (hopefully). The following abbreviations are useful for explaining the concept:\n",
    "- A: DStr Elv of DStr segment\n",
    "- B: UStr Elv of DStr segment\n",
    "- C: DStr Elv of current segment\n",
    "- D: UStr Elv of current segment\n",
    "- F: DStr Elv of UStr segment(s)\n",
    "\n",
    "Here is the idea behind the algorithm:\n",
    "1. If **C > D & B <= D** :<br>\n",
    "-> Set **C = D**\n",
    "2. If **C > D & B > D** :<br>\n",
    "-> Set **C = D**. Set **B = D**\n",
    "3. If **C <= D** :<br>\n",
    "-> **No action**.\n",
    "\n",
    "Repeat till there are no segments with C < D.\n",
    "\n",
    "When there is no downstream segment, we apply the logic used in case 1."
   ]
  },
  {
   "cell_type": "code",
   "execution_count": 46,
   "id": "2c2f4466",
   "metadata": {},
   "outputs": [],
   "source": [
    "GDF_Elv = GDF_Elv.merge(GDF[['CODE', 'WS_BH_BOVENSTROOMS_L', 'WS_BH_BENEDENSTROOMS_L']], left_on='DStr_code', right_on='CODE', suffixes=('', '_DStr'))"
   ]
  },
  {
   "cell_type": "code",
   "execution_count": 47,
   "id": "4f15b20a",
   "metadata": {},
   "outputs": [],
   "source": [
    "GDF_Elv[['B', 'A']] = GDF_Elv[['WS_BH_BOVENSTROOMS_L_DStr', 'WS_BH_BENEDENSTROOMS_L_DStr']].copy()"
   ]
  },
  {
   "cell_type": "code",
   "execution_count": 48,
   "id": "6b1d0078",
   "metadata": {},
   "outputs": [],
   "source": [
    "GDF_Elv[['C', 'D']] = GDF_Elv[['WS_BH_BENEDENSTROOMS_L', 'WS_BH_BOVENSTROOMS_L']].copy()"
   ]
  },
  {
   "cell_type": "code",
   "execution_count": 49,
   "id": "cf07d6c7",
   "metadata": {},
   "outputs": [],
   "source": [
    "def adjust_elevations(row):\n",
    "    if row['C'] <= row['D']:\n",
    "        return row['B'], row['C']\n",
    "    elif (row['C'] > row['D']) and (row['B'] <= row['D']):\n",
    "        return row['B'], row['D']\n",
    "    elif (row['C'] > row['D']) and (row['B'] > row['D']):\n",
    "        return row['D'], row['D']"
   ]
  },
  {
   "cell_type": "code",
   "execution_count": 50,
   "id": "27ead71f",
   "metadata": {},
   "outputs": [],
   "source": [
    "GDF_Elv[['B_', 'C_']] = GDF_Elv.apply(adjust_elevations, axis=1, result_type='expand')"
   ]
  },
  {
   "cell_type": "code",
   "execution_count": 51,
   "id": "0fed8337",
   "metadata": {},
   "outputs": [
    {
     "data": {
      "application/vnd.microsoft.datawrangler.viewer.v0+json": {
       "columns": [
        {
         "name": "index",
         "rawType": "int64",
         "type": "integer"
        },
        {
         "name": "DStr_code",
         "rawType": "object",
         "type": "string"
        },
        {
         "name": "A",
         "rawType": "float64",
         "type": "float"
        },
        {
         "name": "B",
         "rawType": "float64",
         "type": "float"
        },
        {
         "name": "B_",
         "rawType": "float64",
         "type": "float"
        },
        {
         "name": "CODE",
         "rawType": "object",
         "type": "string"
        },
        {
         "name": "C",
         "rawType": "float64",
         "type": "float"
        },
        {
         "name": "C_",
         "rawType": "float64",
         "type": "float"
        },
        {
         "name": "D",
         "rawType": "float64",
         "type": "float"
        }
       ],
       "ref": "a64adfcb-828a-435e-ad0f-65ff78f8188b",
       "rows": [
        [
         "0",
         "OVK02111",
         "5.3500000000000005",
         "6.4",
         "6.4",
         "OVK00476",
         "6.95",
         "6.94",
         "6.94"
        ],
        [
         "1",
         "OVK00909",
         "14.5",
         "15.27",
         "15.23",
         "OVK00910",
         "15.27",
         "15.23",
         "15.23"
        ],
        [
         "2",
         "OVK00970",
         "14.5",
         "14.55000019",
         "14.3",
         "OVK00972",
         "14.55",
         "14.3",
         "14.3"
        ],
        [
         "3",
         "OVK00969",
         "16.1",
         "16.55",
         "16.29999924",
         "OVK00977",
         "16.54999924",
         "16.29999924",
         "16.29999924"
        ],
        [
         "4",
         "OVK20501",
         "9.83",
         "10.24",
         "10.07",
         "OVK00980",
         "10.24",
         "10.07",
         "10.07"
        ],
        [
         "5",
         "OVK20472",
         "12.19",
         "12.21",
         "12.21",
         "OVK01434",
         "12.96",
         "12.950000000000001",
         "12.950000000000001"
        ],
        [
         "6",
         "OVK01449",
         "18.8",
         "19.78",
         "19.52000046",
         "OVK01451",
         "19.78000069",
         "19.52000046",
         "19.52000046"
        ],
        [
         "7",
         "OVK01479",
         "8.950000000000001",
         "9.27",
         "9.19",
         "OVK01484",
         "9.27",
         "9.19",
         "9.19"
        ],
        [
         "8",
         "OVK01484",
         "9.27",
         "9.19",
         "9.06",
         "OVK01486",
         "9.19",
         "9.06",
         "9.06"
        ],
        [
         "9",
         "OVK01795",
         "8.78",
         "8.78",
         "8.78",
         "OVK01794",
         "9.200000000000001",
         "9.18",
         "9.18"
        ],
        [
         "10",
         "OVK02832",
         "0.23",
         "0.25",
         "0.25",
         "OVK02117",
         "1.0",
         "0.75",
         "0.75"
        ],
        [
         "11",
         "OVK02242",
         "-0.05",
         "-0.40000001",
         "-0.77",
         "OVK02241",
         "-0.4",
         "-0.77",
         "-0.77"
        ],
        [
         "12",
         "OVK02327",
         "3.1",
         "3.92",
         "3.72",
         "OVK02326",
         "3.92",
         "3.72",
         "3.72"
        ],
        [
         "13",
         "OVK02982",
         "1.25",
         "1.16",
         "1.1300000000000001",
         "OVK02956",
         "1.16",
         "1.1300000000000001",
         "1.1300000000000001"
        ],
        [
         "14",
         "OVK02999",
         "1.18",
         "1.25",
         "1.16",
         "OVK02982",
         "1.25",
         "1.16",
         "1.16"
        ],
        [
         "15",
         "OVK02986",
         "0.40000001",
         "1.10000002",
         "1.05",
         "OVK02987",
         "1.1",
         "1.05",
         "1.05"
        ],
        [
         "16",
         "OVK11790",
         "0.69999999",
         "0.69999999",
         "0.40000001",
         "OVK02988",
         "0.69999999",
         "0.40000001",
         "0.40000001"
        ],
        [
         "17",
         "OVK21041",
         "6.23",
         "6.94",
         "6.73",
         "OVK03016",
         "6.94",
         "6.73",
         "6.73"
        ],
        [
         "18",
         "OVK03068",
         "10.09",
         "10.700000000000001",
         "10.700000000000001",
         "OVK03070",
         "11.4",
         "11.35",
         "11.35"
        ],
        [
         "19",
         "OVK00992",
         "12.77000046",
         "14.15999985",
         "14.0",
         "OVK20449",
         "14.16",
         "14.0",
         "14.0"
        ],
        [
         "20",
         "OVK01431",
         "13.85",
         "15.120000000000001",
         "14.89",
         "OVK20467",
         "15.120000000000001",
         "14.89",
         "14.89"
        ],
        [
         "21",
         "OVK01793",
         "8.700000000000001",
         "8.700000000000001",
         "8.700000000000001",
         "OVK21050",
         "9.05",
         "9.0",
         "9.0"
        ],
        [
         "22",
         "OVK21058",
         "13.0",
         "13.040000000000001",
         "13.0",
         "OVK21059",
         "13.040000000000001",
         "13.0",
         "13.0"
        ]
       ],
       "shape": {
        "columns": 8,
        "rows": 23
       }
      },
      "text/html": [
       "<div>\n",
       "<style scoped>\n",
       "    .dataframe tbody tr th:only-of-type {\n",
       "        vertical-align: middle;\n",
       "    }\n",
       "\n",
       "    .dataframe tbody tr th {\n",
       "        vertical-align: top;\n",
       "    }\n",
       "\n",
       "    .dataframe thead th {\n",
       "        text-align: right;\n",
       "    }\n",
       "</style>\n",
       "<table border=\"1\" class=\"dataframe\">\n",
       "  <thead>\n",
       "    <tr style=\"text-align: right;\">\n",
       "      <th></th>\n",
       "      <th>DStr_code</th>\n",
       "      <th>A</th>\n",
       "      <th>B</th>\n",
       "      <th>B_</th>\n",
       "      <th>CODE</th>\n",
       "      <th>C</th>\n",
       "      <th>C_</th>\n",
       "      <th>D</th>\n",
       "    </tr>\n",
       "  </thead>\n",
       "  <tbody>\n",
       "    <tr>\n",
       "      <th>0</th>\n",
       "      <td>OVK02111</td>\n",
       "      <td>5.35</td>\n",
       "      <td>6.40</td>\n",
       "      <td>6.400000</td>\n",
       "      <td>OVK00476</td>\n",
       "      <td>6.950000</td>\n",
       "      <td>6.940000</td>\n",
       "      <td>6.940000</td>\n",
       "    </tr>\n",
       "    <tr>\n",
       "      <th>1</th>\n",
       "      <td>OVK00909</td>\n",
       "      <td>14.50</td>\n",
       "      <td>15.27</td>\n",
       "      <td>15.230000</td>\n",
       "      <td>OVK00910</td>\n",
       "      <td>15.270000</td>\n",
       "      <td>15.230000</td>\n",
       "      <td>15.230000</td>\n",
       "    </tr>\n",
       "    <tr>\n",
       "      <th>2</th>\n",
       "      <td>OVK00970</td>\n",
       "      <td>14.50</td>\n",
       "      <td>14.55</td>\n",
       "      <td>14.300000</td>\n",
       "      <td>OVK00972</td>\n",
       "      <td>14.550000</td>\n",
       "      <td>14.300000</td>\n",
       "      <td>14.300000</td>\n",
       "    </tr>\n",
       "    <tr>\n",
       "      <th>3</th>\n",
       "      <td>OVK00969</td>\n",
       "      <td>16.10</td>\n",
       "      <td>16.55</td>\n",
       "      <td>16.299999</td>\n",
       "      <td>OVK00977</td>\n",
       "      <td>16.549999</td>\n",
       "      <td>16.299999</td>\n",
       "      <td>16.299999</td>\n",
       "    </tr>\n",
       "    <tr>\n",
       "      <th>4</th>\n",
       "      <td>OVK20501</td>\n",
       "      <td>9.83</td>\n",
       "      <td>10.24</td>\n",
       "      <td>10.070000</td>\n",
       "      <td>OVK00980</td>\n",
       "      <td>10.240000</td>\n",
       "      <td>10.070000</td>\n",
       "      <td>10.070000</td>\n",
       "    </tr>\n",
       "    <tr>\n",
       "      <th>5</th>\n",
       "      <td>OVK20472</td>\n",
       "      <td>12.19</td>\n",
       "      <td>12.21</td>\n",
       "      <td>12.210000</td>\n",
       "      <td>OVK01434</td>\n",
       "      <td>12.960000</td>\n",
       "      <td>12.950000</td>\n",
       "      <td>12.950000</td>\n",
       "    </tr>\n",
       "    <tr>\n",
       "      <th>6</th>\n",
       "      <td>OVK01449</td>\n",
       "      <td>18.80</td>\n",
       "      <td>19.78</td>\n",
       "      <td>19.520000</td>\n",
       "      <td>OVK01451</td>\n",
       "      <td>19.780001</td>\n",
       "      <td>19.520000</td>\n",
       "      <td>19.520000</td>\n",
       "    </tr>\n",
       "    <tr>\n",
       "      <th>7</th>\n",
       "      <td>OVK01479</td>\n",
       "      <td>8.95</td>\n",
       "      <td>9.27</td>\n",
       "      <td>9.190000</td>\n",
       "      <td>OVK01484</td>\n",
       "      <td>9.270000</td>\n",
       "      <td>9.190000</td>\n",
       "      <td>9.190000</td>\n",
       "    </tr>\n",
       "    <tr>\n",
       "      <th>8</th>\n",
       "      <td>OVK01484</td>\n",
       "      <td>9.27</td>\n",
       "      <td>9.19</td>\n",
       "      <td>9.060000</td>\n",
       "      <td>OVK01486</td>\n",
       "      <td>9.190000</td>\n",
       "      <td>9.060000</td>\n",
       "      <td>9.060000</td>\n",
       "    </tr>\n",
       "    <tr>\n",
       "      <th>9</th>\n",
       "      <td>OVK01795</td>\n",
       "      <td>8.78</td>\n",
       "      <td>8.78</td>\n",
       "      <td>8.780000</td>\n",
       "      <td>OVK01794</td>\n",
       "      <td>9.200000</td>\n",
       "      <td>9.180000</td>\n",
       "      <td>9.180000</td>\n",
       "    </tr>\n",
       "    <tr>\n",
       "      <th>10</th>\n",
       "      <td>OVK02832</td>\n",
       "      <td>0.23</td>\n",
       "      <td>0.25</td>\n",
       "      <td>0.250000</td>\n",
       "      <td>OVK02117</td>\n",
       "      <td>1.000000</td>\n",
       "      <td>0.750000</td>\n",
       "      <td>0.750000</td>\n",
       "    </tr>\n",
       "    <tr>\n",
       "      <th>11</th>\n",
       "      <td>OVK02242</td>\n",
       "      <td>-0.05</td>\n",
       "      <td>-0.40</td>\n",
       "      <td>-0.770000</td>\n",
       "      <td>OVK02241</td>\n",
       "      <td>-0.400000</td>\n",
       "      <td>-0.770000</td>\n",
       "      <td>-0.770000</td>\n",
       "    </tr>\n",
       "    <tr>\n",
       "      <th>12</th>\n",
       "      <td>OVK02327</td>\n",
       "      <td>3.10</td>\n",
       "      <td>3.92</td>\n",
       "      <td>3.720000</td>\n",
       "      <td>OVK02326</td>\n",
       "      <td>3.920000</td>\n",
       "      <td>3.720000</td>\n",
       "      <td>3.720000</td>\n",
       "    </tr>\n",
       "    <tr>\n",
       "      <th>13</th>\n",
       "      <td>OVK02982</td>\n",
       "      <td>1.25</td>\n",
       "      <td>1.16</td>\n",
       "      <td>1.130000</td>\n",
       "      <td>OVK02956</td>\n",
       "      <td>1.160000</td>\n",
       "      <td>1.130000</td>\n",
       "      <td>1.130000</td>\n",
       "    </tr>\n",
       "    <tr>\n",
       "      <th>14</th>\n",
       "      <td>OVK02999</td>\n",
       "      <td>1.18</td>\n",
       "      <td>1.25</td>\n",
       "      <td>1.160000</td>\n",
       "      <td>OVK02982</td>\n",
       "      <td>1.250000</td>\n",
       "      <td>1.160000</td>\n",
       "      <td>1.160000</td>\n",
       "    </tr>\n",
       "    <tr>\n",
       "      <th>15</th>\n",
       "      <td>OVK02986</td>\n",
       "      <td>0.40</td>\n",
       "      <td>1.10</td>\n",
       "      <td>1.050000</td>\n",
       "      <td>OVK02987</td>\n",
       "      <td>1.100000</td>\n",
       "      <td>1.050000</td>\n",
       "      <td>1.050000</td>\n",
       "    </tr>\n",
       "    <tr>\n",
       "      <th>16</th>\n",
       "      <td>OVK11790</td>\n",
       "      <td>0.70</td>\n",
       "      <td>0.70</td>\n",
       "      <td>0.400000</td>\n",
       "      <td>OVK02988</td>\n",
       "      <td>0.700000</td>\n",
       "      <td>0.400000</td>\n",
       "      <td>0.400000</td>\n",
       "    </tr>\n",
       "    <tr>\n",
       "      <th>17</th>\n",
       "      <td>OVK21041</td>\n",
       "      <td>6.23</td>\n",
       "      <td>6.94</td>\n",
       "      <td>6.730000</td>\n",
       "      <td>OVK03016</td>\n",
       "      <td>6.940000</td>\n",
       "      <td>6.730000</td>\n",
       "      <td>6.730000</td>\n",
       "    </tr>\n",
       "    <tr>\n",
       "      <th>18</th>\n",
       "      <td>OVK03068</td>\n",
       "      <td>10.09</td>\n",
       "      <td>10.70</td>\n",
       "      <td>10.700000</td>\n",
       "      <td>OVK03070</td>\n",
       "      <td>11.400000</td>\n",
       "      <td>11.350000</td>\n",
       "      <td>11.350000</td>\n",
       "    </tr>\n",
       "    <tr>\n",
       "      <th>19</th>\n",
       "      <td>OVK00992</td>\n",
       "      <td>12.77</td>\n",
       "      <td>14.16</td>\n",
       "      <td>14.000000</td>\n",
       "      <td>OVK20449</td>\n",
       "      <td>14.160000</td>\n",
       "      <td>14.000000</td>\n",
       "      <td>14.000000</td>\n",
       "    </tr>\n",
       "    <tr>\n",
       "      <th>20</th>\n",
       "      <td>OVK01431</td>\n",
       "      <td>13.85</td>\n",
       "      <td>15.12</td>\n",
       "      <td>14.890000</td>\n",
       "      <td>OVK20467</td>\n",
       "      <td>15.120000</td>\n",
       "      <td>14.890000</td>\n",
       "      <td>14.890000</td>\n",
       "    </tr>\n",
       "    <tr>\n",
       "      <th>21</th>\n",
       "      <td>OVK01793</td>\n",
       "      <td>8.70</td>\n",
       "      <td>8.70</td>\n",
       "      <td>8.700000</td>\n",
       "      <td>OVK21050</td>\n",
       "      <td>9.050000</td>\n",
       "      <td>9.000000</td>\n",
       "      <td>9.000000</td>\n",
       "    </tr>\n",
       "    <tr>\n",
       "      <th>22</th>\n",
       "      <td>OVK21058</td>\n",
       "      <td>13.00</td>\n",
       "      <td>13.04</td>\n",
       "      <td>13.000000</td>\n",
       "      <td>OVK21059</td>\n",
       "      <td>13.040000</td>\n",
       "      <td>13.000000</td>\n",
       "      <td>13.000000</td>\n",
       "    </tr>\n",
       "  </tbody>\n",
       "</table>\n",
       "</div>"
      ],
      "text/plain": [
       "   DStr_code      A      B         B_      CODE          C         C_  \\\n",
       "0   OVK02111   5.35   6.40   6.400000  OVK00476   6.950000   6.940000   \n",
       "1   OVK00909  14.50  15.27  15.230000  OVK00910  15.270000  15.230000   \n",
       "2   OVK00970  14.50  14.55  14.300000  OVK00972  14.550000  14.300000   \n",
       "3   OVK00969  16.10  16.55  16.299999  OVK00977  16.549999  16.299999   \n",
       "4   OVK20501   9.83  10.24  10.070000  OVK00980  10.240000  10.070000   \n",
       "5   OVK20472  12.19  12.21  12.210000  OVK01434  12.960000  12.950000   \n",
       "6   OVK01449  18.80  19.78  19.520000  OVK01451  19.780001  19.520000   \n",
       "7   OVK01479   8.95   9.27   9.190000  OVK01484   9.270000   9.190000   \n",
       "8   OVK01484   9.27   9.19   9.060000  OVK01486   9.190000   9.060000   \n",
       "9   OVK01795   8.78   8.78   8.780000  OVK01794   9.200000   9.180000   \n",
       "10  OVK02832   0.23   0.25   0.250000  OVK02117   1.000000   0.750000   \n",
       "11  OVK02242  -0.05  -0.40  -0.770000  OVK02241  -0.400000  -0.770000   \n",
       "12  OVK02327   3.10   3.92   3.720000  OVK02326   3.920000   3.720000   \n",
       "13  OVK02982   1.25   1.16   1.130000  OVK02956   1.160000   1.130000   \n",
       "14  OVK02999   1.18   1.25   1.160000  OVK02982   1.250000   1.160000   \n",
       "15  OVK02986   0.40   1.10   1.050000  OVK02987   1.100000   1.050000   \n",
       "16  OVK11790   0.70   0.70   0.400000  OVK02988   0.700000   0.400000   \n",
       "17  OVK21041   6.23   6.94   6.730000  OVK03016   6.940000   6.730000   \n",
       "18  OVK03068  10.09  10.70  10.700000  OVK03070  11.400000  11.350000   \n",
       "19  OVK00992  12.77  14.16  14.000000  OVK20449  14.160000  14.000000   \n",
       "20  OVK01431  13.85  15.12  14.890000  OVK20467  15.120000  14.890000   \n",
       "21  OVK01793   8.70   8.70   8.700000  OVK21050   9.050000   9.000000   \n",
       "22  OVK21058  13.00  13.04  13.000000  OVK21059  13.040000  13.000000   \n",
       "\n",
       "            D  \n",
       "0    6.940000  \n",
       "1   15.230000  \n",
       "2   14.300000  \n",
       "3   16.299999  \n",
       "4   10.070000  \n",
       "5   12.950000  \n",
       "6   19.520000  \n",
       "7    9.190000  \n",
       "8    9.060000  \n",
       "9    9.180000  \n",
       "10   0.750000  \n",
       "11  -0.770000  \n",
       "12   3.720000  \n",
       "13   1.130000  \n",
       "14   1.160000  \n",
       "15   1.050000  \n",
       "16   0.400000  \n",
       "17   6.730000  \n",
       "18  11.350000  \n",
       "19  14.000000  \n",
       "20  14.890000  \n",
       "21   9.000000  \n",
       "22  13.000000  "
      ]
     },
     "execution_count": 51,
     "metadata": {},
     "output_type": "execute_result"
    }
   ],
   "source": [
    "GDF_Elv.loc[ (GDF_Elv['Diff'] < 0) , \n",
    "            ['DStr_code', 'A', 'B', 'B_', 'CODE', 'C', 'C_', 'D']].sort_values(by='CODE').reset_index(drop=True)"
   ]
  },
  {
   "cell_type": "code",
   "execution_count": 52,
   "id": "dcc5c6e6",
   "metadata": {},
   "outputs": [
    {
     "data": {
      "application/vnd.microsoft.datawrangler.viewer.v0+json": {
       "columns": [
        {
         "name": "index",
         "rawType": "int64",
         "type": "integer"
        },
        {
         "name": "CODE",
         "rawType": "object",
         "type": "string"
        },
        {
         "name": "WS_BH_BOVENSTROOMS_L",
         "rawType": "float64",
         "type": "float"
        },
        {
         "name": "WS_BH_BENEDENSTROOMS_L",
         "rawType": "float64",
         "type": "float"
        },
        {
         "name": "DStr_code",
         "rawType": "object",
         "type": "string"
        },
        {
         "name": "DStr_ID",
         "rawType": "int64",
         "type": "integer"
        },
        {
         "name": "Diff",
         "rawType": "float64",
         "type": "float"
        },
        {
         "name": "CODE_DStr",
         "rawType": "object",
         "type": "string"
        },
        {
         "name": "WS_BH_BOVENSTROOMS_L_DStr",
         "rawType": "float64",
         "type": "float"
        },
        {
         "name": "WS_BH_BENEDENSTROOMS_L_DStr",
         "rawType": "float64",
         "type": "float"
        },
        {
         "name": "B",
         "rawType": "float64",
         "type": "float"
        },
        {
         "name": "A",
         "rawType": "float64",
         "type": "float"
        },
        {
         "name": "C",
         "rawType": "float64",
         "type": "float"
        },
        {
         "name": "D",
         "rawType": "float64",
         "type": "float"
        },
        {
         "name": "B_",
         "rawType": "float64",
         "type": "float"
        },
        {
         "name": "C_",
         "rawType": "float64",
         "type": "float"
        }
       ],
       "ref": "a4889c9b-a418-49a3-8d04-4ca44b816914",
       "rows": [
        [
         "335",
         "OVK02241",
         "-0.77",
         "-0.4",
         "OVK02242",
         "3718",
         "-0.37",
         "OVK02242",
         "-0.40000001",
         "-0.05",
         "-0.40000001",
         "-0.05",
         "-0.4",
         "-0.77",
         "-0.77",
         "-0.77"
        ]
       ],
       "shape": {
        "columns": 15,
        "rows": 1
       }
      },
      "text/html": [
       "<div>\n",
       "<style scoped>\n",
       "    .dataframe tbody tr th:only-of-type {\n",
       "        vertical-align: middle;\n",
       "    }\n",
       "\n",
       "    .dataframe tbody tr th {\n",
       "        vertical-align: top;\n",
       "    }\n",
       "\n",
       "    .dataframe thead th {\n",
       "        text-align: right;\n",
       "    }\n",
       "</style>\n",
       "<table border=\"1\" class=\"dataframe\">\n",
       "  <thead>\n",
       "    <tr style=\"text-align: right;\">\n",
       "      <th></th>\n",
       "      <th>CODE</th>\n",
       "      <th>WS_BH_BOVENSTROOMS_L</th>\n",
       "      <th>WS_BH_BENEDENSTROOMS_L</th>\n",
       "      <th>DStr_code</th>\n",
       "      <th>DStr_ID</th>\n",
       "      <th>Diff</th>\n",
       "      <th>CODE_DStr</th>\n",
       "      <th>WS_BH_BOVENSTROOMS_L_DStr</th>\n",
       "      <th>WS_BH_BENEDENSTROOMS_L_DStr</th>\n",
       "      <th>B</th>\n",
       "      <th>A</th>\n",
       "      <th>C</th>\n",
       "      <th>D</th>\n",
       "      <th>B_</th>\n",
       "      <th>C_</th>\n",
       "    </tr>\n",
       "  </thead>\n",
       "  <tbody>\n",
       "    <tr>\n",
       "      <th>335</th>\n",
       "      <td>OVK02241</td>\n",
       "      <td>-0.77</td>\n",
       "      <td>-0.4</td>\n",
       "      <td>OVK02242</td>\n",
       "      <td>3718</td>\n",
       "      <td>-0.37</td>\n",
       "      <td>OVK02242</td>\n",
       "      <td>-0.4</td>\n",
       "      <td>-0.05</td>\n",
       "      <td>-0.4</td>\n",
       "      <td>-0.05</td>\n",
       "      <td>-0.4</td>\n",
       "      <td>-0.77</td>\n",
       "      <td>-0.77</td>\n",
       "      <td>-0.77</td>\n",
       "    </tr>\n",
       "  </tbody>\n",
       "</table>\n",
       "</div>"
      ],
      "text/plain": [
       "         CODE  WS_BH_BOVENSTROOMS_L  WS_BH_BENEDENSTROOMS_L DStr_code  \\\n",
       "335  OVK02241                 -0.77                    -0.4  OVK02242   \n",
       "\n",
       "     DStr_ID  Diff CODE_DStr  WS_BH_BOVENSTROOMS_L_DStr  \\\n",
       "335     3718 -0.37  OVK02242                       -0.4   \n",
       "\n",
       "     WS_BH_BENEDENSTROOMS_L_DStr    B     A    C     D    B_    C_  \n",
       "335                        -0.05 -0.4 -0.05 -0.4 -0.77 -0.77 -0.77  "
      ]
     },
     "execution_count": 52,
     "metadata": {},
     "output_type": "execute_result"
    }
   ],
   "source": [
    "GDF_Elv.loc[(GDF_Elv['DStr_code']=='OVK02242') | (GDF_Elv['CODE']=='OVK02242')]"
   ]
  },
  {
   "cell_type": "markdown",
   "id": "664a3b40",
   "metadata": {},
   "source": [
    "### Conclusion"
   ]
  },
  {
   "cell_type": "markdown",
   "id": "579bb2a0",
   "metadata": {},
   "source": [
    "**Custom hydrography** <br>\n",
    "Any Polyline shapefile can be supplied in lieu of NHDPlus, but it must have the following columns, as shown in the second example:\n",
    "1. flowlines_file: path to shapefile <br>\n",
    "    -> **Pa_GPkg_1ry** <br>\n",
    "2. id_column: unique identifier for each polyline <br>\n",
    "    -> **OBJECTID** <br>\n",
    "3. routing_column: downstream connection (ID), 0 if none <br>\n",
    "    -> **DStr_ID** <br>\n",
    "4. width1_column: channel width at start of line, in attr\\_length\\_units (optional) <br>\n",
    "    -> **WS_BODEMBREEDTE_L** <br>\n",
    "5. width2_column: channel width at end of line, in attr_length_units (optional) <br>\n",
    "    -> **WS_BODEMBREEDTE_L** <br>\n",
    "6. up_elevation_column: streambed elevation at start of line, in attr_height_units <br>\n",
    "    -> **WS_BH_BOVENSTROOMS_L** <br>\n",
    "7. dn_elevation_column: streambed elevation at end of line, in attr_height_units <br>\n",
    "    -> **WS_BH_BENEDENSTROOMS_L** <br>\n",
    "8. name_column: stream name (optional) <br>\n",
    "    -> **CODE** <br>\n",
    "9. attr_length_units: channel width units <br>\n",
    "    -> **'m'** <br>\n",
    "10. attr_height_units: streambed elevation units <br>\n",
    "    -> **'m'** <br>"
   ]
  },
  {
   "cell_type": "code",
   "execution_count": null,
   "id": "a3b5467e",
   "metadata": {},
   "outputs": [],
   "source": []
  },
  {
   "cell_type": "markdown",
   "id": "4692b24d",
   "metadata": {},
   "source": [
    "# Create Grid and Generate SFR Routing Network"
   ]
  },
  {
   "cell_type": "code",
   "execution_count": 53,
   "id": "01f999a4",
   "metadata": {},
   "outputs": [],
   "source": [
    "lines = sfr.Lines.from_dataframe(df=GDF,\n",
    "    id_column='OBJECTID',\n",
    "    routing_column='DStr_ID',\n",
    "    width1_column='WS_BODEMBREEDTE_L', width2_column='WS_BODEMBREEDTE_L',\n",
    "    up_elevation_column='WS_BH_BOVENSTROOMS_L',\n",
    "    dn_elevation_column='WS_BH_BENEDENSTROOMS_L',\n",
    "    name_column='CODE',\n",
    "    width_units='m',\n",
    "    height_units='m',\n",
    "    crs=GDF.crs\n",
    "    #    shapefile=Pa_GPkg_1ry_SHP_SFR,\n",
    "\n",
    ")"
   ]
  },
  {
   "cell_type": "code",
   "execution_count": 54,
   "id": "e0102847",
   "metadata": {},
   "outputs": [
    {
     "data": {
      "text/plain": [
       "<sfrmaker.lines.Lines at 0x20e6125f0e0>"
      ]
     },
     "execution_count": 54,
     "metadata": {},
     "output_type": "execute_result"
    }
   ],
   "source": [
    "lines"
   ]
  },
  {
   "cell_type": "markdown",
   "id": "1b323952",
   "metadata": {},
   "source": [
    "# Load PRJ"
   ]
  },
  {
   "cell_type": "code",
   "execution_count": 55,
   "id": "4c2fc3ee",
   "metadata": {},
   "outputs": [],
   "source": [
    "PRJ_, PRJ_OBS = UIM.o_PRJ_with_OBS(Pa_PRJ)"
   ]
  },
  {
   "cell_type": "code",
   "execution_count": 56,
   "id": "0960a113",
   "metadata": {},
   "outputs": [],
   "source": [
    "PRJ, period_data = PRJ_[0], PRJ_[1]"
   ]
  },
  {
   "cell_type": "markdown",
   "id": "f4cfe111",
   "metadata": {},
   "source": [
    "# Load DIS and limit to Mdl Aa"
   ]
  },
  {
   "cell_type": "code",
   "execution_count": 57,
   "id": "347d651b",
   "metadata": {},
   "outputs": [],
   "source": [
    "PRJ_regrid = UIM.regrid_PRJ(PRJ, MdlN)"
   ]
  },
  {
   "cell_type": "code",
   "execution_count": 58,
   "id": "02039dbd",
   "metadata": {},
   "outputs": [],
   "source": [
    "BND = PRJ_regrid['bnd']['ibound']"
   ]
  },
  {
   "cell_type": "code",
   "execution_count": 59,
   "id": "068608ce",
   "metadata": {},
   "outputs": [
    {
     "name": "stdout",
     "output_type": "stream",
     "text": [
      "✅ Boundary conditions set successfully!\n"
     ]
    }
   ],
   "source": [
    "# Set outer boundaries to -1 (for CHD)\n",
    "\n",
    "# Get the coordinate indices for boundaries\n",
    "y_coords = BND.y\n",
    "x_coords = BND.x\n",
    "first_y = y_coords.isel(y=0)  # First y coordinate\n",
    "last_y = y_coords.isel(y=-1)  # Last y coordinate  \n",
    "first_x = x_coords.isel(x=0)  # First x coordinate\n",
    "last_x = x_coords.isel(x=-1)  # Last x coordinate\n",
    "\n",
    "# Set boundary values using .loc indexing\n",
    "BND.loc[:, first_y, :] = -1  # Top row (all layers, first y, all x)\n",
    "BND.loc[:, last_y, :] = -1   # Bottom row (all layers, last y, all x)\n",
    "BND.loc[:, :, first_x] = -1  # Left column (all layers, all y, first x)  \n",
    "BND.loc[:, :, last_x] = -1   # Right column (all layers, all y, last x)\n",
    "\n",
    "print(\"✅ Boundary conditions set successfully!\")"
   ]
  },
  {
   "cell_type": "code",
   "execution_count": 60,
   "id": "31569d84",
   "metadata": {},
   "outputs": [
    {
     "data": {
      "text/plain": [
       "<matplotlib.image.AxesImage at 0x20e6771a660>"
      ]
     },
     "execution_count": 60,
     "metadata": {},
     "output_type": "execute_result"
    },
    {
     "data": {
      "image/png": "[encoded data removed]",
      "text/plain": [
       "<Figure size 640x480 with 2 Axes>"
      ]
     },
     "metadata": {},
     "output_type": "display_data"
    }
   ],
   "source": [
    "BND.isel(layer=0, x=range(0,10), y=range(0,10)).plot.imshow(cmap='viridis')"
   ]
  },
  {
   "cell_type": "markdown",
   "id": "deed1ee2",
   "metadata": {},
   "source": [
    "# Load MF6 Mdl"
   ]
  },
  {
   "cell_type": "code",
   "execution_count": 61,
   "id": "51582fdd",
   "metadata": {},
   "outputs": [],
   "source": [
    "times = pd.date_range(SP_date_1st, SP_date_last, freq='D')"
   ]
  },
  {
   "cell_type": "markdown",
   "id": "48aef4a2",
   "metadata": {},
   "source": [
    "Using original PRJ to load MF6 Mdl gives warnings (and it's very slow). Thus, well use the regridded PRJ, which is much faster. It can be further sped up by multi-processing, but this is not implemented yet."
   ]
  },
  {
   "cell_type": "code",
   "execution_count": 62,
   "id": "a5357ce9",
   "metadata": {},
   "outputs": [],
   "source": [
    "Sim_MF6 = mf6.Modflow6Simulation.from_imod5_data(PRJ_regrid, period_data, times)"
   ]
  },
  {
   "cell_type": "code",
   "execution_count": 63,
   "id": "744a96ff",
   "metadata": {},
   "outputs": [],
   "source": [
    "MF6_Mdl = Sim_MF6['imported_model']"
   ]
  },
  {
   "cell_type": "code",
   "execution_count": 64,
   "id": "875d5c50",
   "metadata": {},
   "outputs": [],
   "source": [
    "MF6_Mdl[\"oc\"] = mf6.OutputControl(save_head=\"last\", save_budget=\"last\")\n",
    "Sim_MF6[\"ims\"] = UIM.mf6_solution_moderate_settings() # Mimic iMOD5's \"Moderate\" settings"
   ]
  },
  {
   "cell_type": "code",
   "execution_count": 65,
   "id": "1e7b7fda",
   "metadata": {},
   "outputs": [],
   "source": [
    "MF6_DIS = MF6_Mdl[\"dis\"]  # This gets the OLD 100m grid"
   ]
  },
  {
   "cell_type": "markdown",
   "id": "7b9e25d5",
   "metadata": {},
   "source": [
    "# Connect SFR to MF6 model"
   ]
  },
  {
   "cell_type": "markdown",
   "id": "85101c24",
   "metadata": {},
   "source": [
    "## Create SFR_grid item"
   ]
  },
  {
   "cell_type": "markdown",
   "id": "4979d9df",
   "metadata": {},
   "source": [
    "### Initiate parameters"
   ]
  },
  {
   "cell_type": "code",
   "execution_count": 66,
   "id": "a5ff84f9",
   "metadata": {},
   "outputs": [],
   "source": [
    "# Create sfr.StructuredGrid directly from MF6_DIS (DataFrame approach) #666 This cell and the cells below it can be combined into a function to read in a MF6_DIS (imod) object, and return a DF (GDF_grid) with the grid and geometry. \n",
    "DS = MF6_DIS.dataset\n",
    "N_L, N_R, N_C = DS.dims['layer'], DS.dims['y'], DS.dims['x']\n",
    "dx, dy = abs(float(DS.coords['dx'].values)), abs(float(DS.coords['dy'].values))\n",
    "Ls, Xs, Ys = DS.coords['layer'].values, DS.coords['x'].values, DS.coords['y'].values\n",
    "X_Ogn, Y_Ogn = Xs[0] - dx/2, Ys[0] + dy/2  # Upper-left corner"
   ]
  },
  {
   "cell_type": "code",
   "execution_count": 67,
   "id": "ab2a57f0",
   "metadata": {},
   "outputs": [],
   "source": [
    "# Construct TOP, BOT. TOP array: 1st layer from DS['top'], rest from DS['bottom'][::-1] with layer+1\n",
    "TOPs = np.zeros((N_L, N_R, N_C))\n",
    "TOPs[0] = DS['top'].values\n",
    "TOPs[1:] = DS['bottom'].sel(layer=range(1, N_L))\n",
    "BOTs = DS['bottom'].values  # Shape: (N_L, N_R, N_C)"
   ]
  },
  {
   "cell_type": "code",
   "execution_count": 68,
   "id": "cb5c50dc",
   "metadata": {},
   "outputs": [],
   "source": [
    "# Create full 3D grid indices\n",
    "k, i, j = np.meshgrid(range(N_L), range(N_R), range(N_C), indexing='ij')\n",
    "k, i, j = k.ravel(), i.ravel(), j.ravel()"
   ]
  },
  {
   "cell_type": "markdown",
   "id": "5a6f9200",
   "metadata": {},
   "source": [
    "### Prepare GDF"
   ]
  },
  {
   "cell_type": "code",
   "execution_count": 69,
   "id": "83853a80",
   "metadata": {},
   "outputs": [],
   "source": [
    "GDF_grid = gpd.GeoDataFrame({\n",
    "    'k': k,\n",
    "    'i': i,\n",
    "    'j': j, \n",
    "    'node': range(N_L * N_R * N_C),\n",
    "    'isfr': 1,  # All cells can potentially have SFR # if function is made out of this, this needs to be removed and added to the DF after the function has run.\n",
    "    'top': TOPs.ravel(),\n",
    "    'bottom': BOTs.ravel(),\n",
    "})"
   ]
  },
  {
   "cell_type": "code",
   "execution_count": 70,
   "id": "57f73da4",
   "metadata": {},
   "outputs": [],
   "source": [
    "mask = GDF_grid['k'].eq(0)\n",
    "i_L0 = GDF_grid.loc[mask, 'i'].to_numpy()\n",
    "j_L0 = GDF_grid.loc[mask, 'j'].to_numpy()"
   ]
  },
  {
   "cell_type": "code",
   "execution_count": 71,
   "id": "5afe3060",
   "metadata": {},
   "outputs": [],
   "source": [
    "xmin = X_Ogn + j_L0*dx\n",
    "xmax = X_Ogn + (j_L0+1)*dx\n",
    "ymin = Y_Ogn - (i_L0+1)*dy\n",
    "ymax = Y_Ogn - i_L0*dy"
   ]
  },
  {
   "cell_type": "code",
   "execution_count": 72,
   "id": "cf3f4b02",
   "metadata": {},
   "outputs": [],
   "source": [
    "L0_geom = [box(x0, y0, x1, y1) for x0, y0, x1, y1 in zip(xmin, ymin, xmax, ymax)]"
   ]
  },
  {
   "cell_type": "code",
   "execution_count": 73,
   "id": "fe3239ec",
   "metadata": {},
   "outputs": [],
   "source": [
    "for k in GDF_grid['k'].unique():\n",
    "    GDF_grid.loc[GDF_grid['k'] == k, 'geometry'] = L0_geom"
   ]
  },
  {
   "cell_type": "code",
   "execution_count": 74,
   "id": "c5667273",
   "metadata": {},
   "outputs": [],
   "source": [
    "# for k in GDF_grid['k'].unique()[1:]:\n",
    "#     print(k, (GDF_grid.loc[GDF_grid['k'] == k, 'geometry'].values ==\n",
    "#               GDF_grid.loc[GDF_grid['k'] == k-1, 'geometry'].values).all())"
   ]
  },
  {
   "cell_type": "code",
   "execution_count": 75,
   "id": "3ce0186c",
   "metadata": {},
   "outputs": [],
   "source": [
    "GDF_grid = GDF_grid.set_geometry('geometry', crs=DS.rio.crs)"
   ]
  },
  {
   "cell_type": "markdown",
   "id": "0b339644",
   "metadata": {},
   "source": [
    "### Create SFR grid(s)\n",
    "(L1 only for now, to test things out)"
   ]
  },
  {
   "cell_type": "code",
   "execution_count": 76,
   "id": "c23eceec",
   "metadata": {},
   "outputs": [],
   "source": [
    "SFR_grid = sfr.StructuredGrid.from_dataframe(GDF_grid)"
   ]
  },
  {
   "cell_type": "code",
   "execution_count": 77,
   "id": "89083d98",
   "metadata": {},
   "outputs": [
    {
     "data": {
      "text/plain": [
       "Model grid information\n",
       "structured grid\n",
       "nnodes: 6,109,440\n",
       "nlay: 37\n",
       "nrow: 344\n",
       "ncol: 480\n",
       "model length units: undefined\n",
       "crs: None\n",
       "bounds: 113100.00, 387600.00, 125100.00, 396200.00\n",
       "active area defined by: all cells"
      ]
     },
     "execution_count": 77,
     "metadata": {},
     "output_type": "execute_result"
    }
   ],
   "source": [
    "SFR_grid"
   ]
  },
  {
   "cell_type": "markdown",
   "id": "e6f599ee",
   "metadata": {},
   "source": [
    "This is very slow. I'll check if it's much faster with just L1."
   ]
  },
  {
   "cell_type": "code",
   "execution_count": 78,
   "id": "02d0cae2",
   "metadata": {},
   "outputs": [],
   "source": [
    "SFR_grid_L1 = sfr.StructuredGrid.from_dataframe(GDF_grid[GDF_grid['k']==0], crs=G.crs)"
   ]
  },
  {
   "cell_type": "code",
   "execution_count": 79,
   "id": "c19cea52",
   "metadata": {},
   "outputs": [
    {
     "data": {
      "text/plain": [
       "Model grid information\n",
       "structured grid\n",
       "nnodes: 165,120\n",
       "nlay: 1\n",
       "nrow: 344\n",
       "ncol: 480\n",
       "model length units: undefined\n",
       "crs: EPSG:28992\n",
       "bounds: 113100.00, 387600.00, 125100.00, 396200.00\n",
       "active area defined by: all cells"
      ]
     },
     "execution_count": 79,
     "metadata": {},
     "output_type": "execute_result"
    }
   ],
   "source": [
    "SFR_grid_L1"
   ]
  },
  {
   "cell_type": "markdown",
   "id": "164c3cbc",
   "metadata": {},
   "source": [
    "## Make SFRdata"
   ]
  },
  {
   "cell_type": "code",
   "execution_count": 80,
   "id": "b1c49cbc",
   "metadata": {},
   "outputs": [
    {
     "name": "stdout",
     "output_type": "stream",
     "text": [
      "\n",
      "SFRmaker version 0.11.3\n",
      "\n",
      "Creating sfr dataset...\n",
      "Model grid information\n",
      "structured grid\n",
      "nnodes: 165,120\n",
      "nlay: 1\n",
      "nrow: 344\n",
      "ncol: 480\n",
      "model length units: undefined\n",
      "crs: EPSG:28992\n",
      "bounds: 113100.00, 387600.00, 125100.00, 396200.00\n",
      "active area defined by: all cells\n",
      "\n",
      "None\n",
      "\n",
      "Culling hydrography to active area...\n",
      "starting lines: 591\n",
      "remaining lines: 591\n",
      "finished in 0.06s\n",
      "\n",
      "\n",
      "Intersecting 591 flowlines with 165,120 grid cells...\n",
      "\n",
      "Building spatial index...\n",
      "finished in 15.37s\n",
      "\n",
      "Intersecting 591 features...\n",
      "591\n",
      "finished in 0.21s\n",
      "\n",
      "Setting up reach data... (may take a few minutes for large grids)\n",
      "finished in 0.89s\n",
      "\n",
      "Computing widths...\n",
      "\n",
      "Dropping 236 reaches with length < 1.25 undefined...\n",
      "\n",
      "Repairing routing connections...\n",
      "enforcing best segment numbering...\n",
      "\n",
      "Setting up segment data...\n",
      "Model grid information\n",
      "structured grid\n",
      "nnodes: 165,120\n",
      "nlay: 1\n",
      "nrow: 344\n",
      "ncol: 480\n",
      "model length units: undefined\n",
      "crs: EPSG:28992\n",
      "bounds: 113100.00, 387600.00, 125100.00, 396200.00\n",
      "active area defined by: all cells\n",
      "\n",
      "\n",
      "Time to create sfr dataset: 17.97s\n",
      "\n"
     ]
    },
    {
     "name": "stderr",
     "output_type": "stream",
     "text": [
      "c:\\Users\\Karam014\\OneDrive - Universiteit Utrecht\\WS_Mdl\\code\\.pixi\\envs\\default\\Lib\\site-packages\\sfrmaker\\sfrdata.py:490: DeprecationWarning: `in1d` is deprecated. Use `np.isin` instead.\n",
      "  isasegment = np.in1d(self.segment_data.outseg,\n"
     ]
    }
   ],
   "source": [
    "SFR_data = lines.to_sfr(grid=SFR_grid_L1)"
   ]
  },
  {
   "cell_type": "code",
   "execution_count": 82,
   "id": "b10bf2a5",
   "metadata": {},
   "outputs": [
    {
     "data": {
      "application/vnd.microsoft.datawrangler.viewer.v0+json": {
       "columns": [
        {
         "name": "index",
         "rawType": "int64",
         "type": "integer"
        },
        {
         "name": "rno",
         "rawType": "int64",
         "type": "integer"
        },
        {
         "name": "node",
         "rawType": "int64",
         "type": "integer"
        },
        {
         "name": "k",
         "rawType": "int64",
         "type": "integer"
        },
        {
         "name": "i",
         "rawType": "int64",
         "type": "integer"
        },
        {
         "name": "j",
         "rawType": "int64",
         "type": "integer"
        },
        {
         "name": "iseg",
         "rawType": "int64",
         "type": "integer"
        },
        {
         "name": "ireach",
         "rawType": "int64",
         "type": "integer"
        },
        {
         "name": "rchlen",
         "rawType": "float32",
         "type": "float"
        },
        {
         "name": "width",
         "rawType": "float32",
         "type": "float"
        },
        {
         "name": "slope",
         "rawType": "float64",
         "type": "float"
        },
        {
         "name": "strtop",
         "rawType": "float64",
         "type": "float"
        },
        {
         "name": "strthick",
         "rawType": "int64",
         "type": "integer"
        },
        {
         "name": "strhc1",
         "rawType": "float32",
         "type": "float"
        },
        {
         "name": "thts",
         "rawType": "float32",
         "type": "float"
        },
        {
         "name": "thti",
         "rawType": "float32",
         "type": "float"
        },
        {
         "name": "eps",
         "rawType": "float32",
         "type": "float"
        },
        {
         "name": "uhc",
         "rawType": "float32",
         "type": "float"
        },
        {
         "name": "outreach",
         "rawType": "int64",
         "type": "integer"
        },
        {
         "name": "outseg",
         "rawType": "int64",
         "type": "integer"
        },
        {
         "name": "asum",
         "rawType": "float32",
         "type": "float"
        },
        {
         "name": "line_id",
         "rawType": "int64",
         "type": "integer"
        },
        {
         "name": "name",
         "rawType": "object",
         "type": "string"
        },
        {
         "name": "geometry",
         "rawType": "object",
         "type": "unknown"
        }
       ],
       "ref": "df7b8dd1-b778-4939-af7b-2a62f44e9d9a",
       "rows": [
        [
         "915",
         "1",
         "134792",
         "0",
         "280",
         "392",
         "1",
         "1",
         "9.055565",
         "1.0",
         "0.0001",
         "19.629390220687945",
         "1",
         "1.0",
         "0.0",
         "0.0",
         "0.0",
         "0.0",
         "2",
         "2",
         "-0.0062339604",
         "462",
         "OVK01451",
         "LINESTRING (122922.25499999896 389183.1939999983, 122919.93100000173 389178.34099999815, 122919.83700000122 389178.14499999955, 122918.40075878412 389175)"
        ],
        [
         "916",
         "2",
         "135272",
         "0",
         "281",
         "392",
         "1",
         "2",
         "1.706178",
         "1.0",
         "0.0001",
         "19.75939032360863",
         "1",
         "1.0",
         "0.0",
         "0.0",
         "0.0",
         "0.0",
         "3",
         "2",
         "-0.000853089",
         "462",
         "OVK01451",
         "LINESTRING (122918.40075878412 389175, 122917.69200000167 389173.4479999989)"
        ],
        [
         "326",
         "3",
         "135272",
         "0",
         "281",
         "392",
         "2",
         "1",
         "4.667041",
         "1.0",
         "0.0034335238052743493",
         "19.77601414974768",
         "1",
         "1.0",
         "0.0",
         "0.0",
         "0.0",
         "0.0",
         "4",
         "4",
         "-0.5723365",
         "281",
         "OVK01449",
         "LINESTRING (122917.69200000167 389173.4479999989, 122913.29057205089 389175)"
        ],
        [
         "327",
         "4",
         "134792",
         "0",
         "280",
         "392",
         "2",
         "2",
         "14.09273",
         "1.0",
         "0.002460952001993122",
         "19.759989753975233",
         "1",
         "1.0",
         "0.0",
         "0.0",
         "0.0",
         "0.0",
         "5",
         "4",
         "-0.56295663",
         "281",
         "OVK01449",
         "LINESTRING (122913.29057205089 389175, 122907.30099999905 389177.11199999973, 122900 389179.6867599967)"
        ],
        [
         "328",
         "5",
         "134791",
         "0",
         "280",
         "391",
         "2",
         "3",
         "26.508957",
         "1.0",
         "0.0017538057970881789",
         "19.72530822293013",
         "1",
         "1.0",
         "0.0",
         "0.0",
         "0.0",
         "0.0",
         "6",
         "4",
         "-0.54265577",
         "281",
         "OVK01449",
         "LINESTRING (122900 389179.6867599967, 122882.11800000072 389185.9930000007, 122875 389188.5029283753)"
        ],
        [
         "329",
         "6",
         "134790",
         "0",
         "280",
         "390",
         "2",
         "4",
         "27.918734",
         "1.0",
         "0.0014134589743325808",
         "19.67881666062805",
         "1",
         "1.0",
         "0.0",
         "0.0",
         "0.0",
         "0.0",
         "7",
         "4",
         "-0.5154419",
         "281",
         "OVK01449",
         "LINESTRING (122875 389188.5029283753, 122862.15300000086 389193.0329999998, 122858.30779999867 389194.241799999, 122857.11719999835 389193.7259000018, 122856.15170000121 389191.44029999897, 122855.39200000092 389191.7030000016, 122850 389193.49868213094)"
        ],
        [
         "330",
         "7",
         "134789",
         "0",
         "280",
         "389",
         "2",
         "5",
         "18.279442",
         "1.0",
         "0.0012454375044412794",
         "19.63935467607365",
         "1",
         "1.0",
         "0.0",
         "0.0",
         "0.0",
         "0.0",
         "8",
         "4",
         "-0.49234283",
         "281",
         "OVK01449",
         "LINESTRING (122850 389193.49868213094, 122848.86100000143 389193.8779999986, 122842.32999999821 389196.0520000011, 122841.1559999995 389196.44299999997, 122833.15500000119 389199.92599999905, 122832.93514997886 389200)"
        ],
        [
         "331",
         "8",
         "134309",
         "0",
         "279",
         "389",
         "2",
         "6",
         "8.372604",
         "1.0",
         "0.003547608740616037",
         "19.616588773653962",
         "1",
         "1.0",
         "0.0",
         "0.0",
         "0.0",
         "0.0",
         "9",
         "4",
         "-0.4790168",
         "281",
         "OVK01449",
         "LINESTRING (122832.93514997886 389200, 122825.58799999952 389202.47300000116, 122825 389202.67093645374)"
        ],
        [
         "332",
         "9",
         "134308",
         "0",
         "279",
         "388",
         "2",
         "7",
         "26.400398",
         "1.0",
         "0.0017093943834949807",
         "19.586886049208815",
         "1",
         "1.0",
         "0.0",
         "0.0",
         "0.0",
         "0.0",
         "10",
         "4",
         "-0.4616303",
         "281",
         "OVK01449",
         "LINESTRING (122825 389202.67093645374, 122812.93600000069 389206.7320000008, 122800 389211.15486942657)"
        ],
        [
         "333",
         "10",
         "134307",
         "0",
         "279",
         "387",
         "2",
         "8",
         "26.431782",
         "1.0",
         "0.0013604655682832435",
         "19.541757356710722",
         "1",
         "1.0",
         "0.0",
         "0.0",
         "0.0",
         "0.0",
         "11",
         "4",
         "-0.43521422",
         "281",
         "OVK01449",
         "LINESTRING (122800 389211.15486942657, 122786.13899999857 389215.89400000125, 122775 389219.7361206831)"
        ],
        [
         "334",
         "11",
         "134306",
         "0",
         "279",
         "386",
         "2",
         "9",
         "15.666053",
         "1.0",
         "0.001449737763626402",
         "19.505797827705894",
         "1",
         "1.0",
         "0.0",
         "0.0",
         "0.0",
         "0.0",
         "12",
         "4",
         "-0.4141653",
         "281",
         "OVK01449",
         "LINESTRING (122775 389219.7361206831, 122773.0549999997 389220.4070000015, 122760.24491065984 389225)"
        ],
        [
         "335",
         "12",
         "133826",
         "0",
         "278",
         "386",
         "2",
         "10",
         "10.9225235",
         "1.0",
         "0.0029239921449342424",
         "19.48308615932824",
         "1",
         "1.0",
         "0.0",
         "0.0",
         "0.0",
         "0.0",
         "13",
         "4",
         "-0.400871",
         "281",
         "OVK01449",
         "LINESTRING (122760.24491065984 389225, 122759.66200000048 389225.20899999887, 122750 389228.78716654936)"
        ],
        [
         "336",
         "13",
         "133825",
         "0",
         "278",
         "385",
         "2",
         "11",
         "26.4666",
         "1.0",
         "0.001701965827991731",
         "19.451148786415665",
         "1",
         "1.0",
         "0.0",
         "0.0",
         "0.0",
         "0.0",
         "14",
         "4",
         "-0.38217646",
         "281",
         "OVK01449",
         "LINESTRING (122750 389228.78716654936, 122738.31100000069 389233.1160000004, 122737.74199999869 389233.34099999815, 122737.6799999997 389233.3660000004, 122725 389237.4552235184)"
        ],
        [
         "337",
         "14",
         "133824",
         "0",
         "278",
         "384",
         "2",
         "12",
         "26.26788",
         "1.0",
         "0.0013074316194709168",
         "19.406103536920963",
         "1",
         "1.0",
         "0.0",
         "0.0",
         "0.0",
         "0.0",
         "15",
         "4",
         "-0.3558092",
         "281",
         "OVK01449",
         "LINESTRING (122725 389237.4552235184, 122700 389245.51757272606)"
        ],
        [
         "338",
         "15",
         "133823",
         "0",
         "278",
         "383",
         "2",
         "13",
         "13.938012",
         "1.0",
         "0.0016256409547760094",
         "19.371760080704405",
         "1",
         "1.0",
         "0.0",
         "0.0",
         "0.0",
         "0.0",
         "16",
         "4",
         "-0.33570626",
         "281",
         "OVK01449",
         "LINESTRING (122700 389245.51757272606, 122689.55909999833 389248.8847000003, 122686.80905331695 389250)"
        ],
        [
         "339",
         "16",
         "133343",
         "0",
         "277",
         "383",
         "2",
         "14",
         "12.587935",
         "1.0",
         "0.0026511358290724823",
         "19.349101877368916",
         "1",
         "1.0",
         "0.0",
         "0.0",
         "0.0",
         "0.0",
         "17",
         "4",
         "-0.32244328",
         "281",
         "OVK01449",
         "LINESTRING (122686.80905331695 389250, 122682.59459999949 389251.7091999985, 122675 389254.3483188227)"
        ],
        [
         "340",
         "17",
         "133342",
         "0",
         "277",
         "382",
         "2",
         "15",
         "26.481066",
         "1.0",
         "0.0017083895463509422",
         "19.315729550689486",
         "1",
         "1.0",
         "0.0",
         "0.0",
         "0.0",
         "0.0",
         "18",
         "4",
         "-0.30290878",
         "281",
         "OVK01449",
         "LINESTRING (122675 389254.3483188227, 122674.47659999877 389254.53020000085, 122650 389263.0802610392)"
        ],
        [
         "341",
         "18",
         "133341",
         "0",
         "277",
         "381",
         "2",
         "16",
         "26.481379",
         "1.0",
         "0.0011659040091036715",
         "19.270489574785746",
         "1",
         "1.0",
         "0.0",
         "0.0",
         "0.0",
         "0.0",
         "19",
         "4",
         "-0.27642757",
         "281",
         "OVK01449",
         "LINESTRING (122650 389263.0802610392, 122625 389271.81315392343)"
        ],
        [
         "342",
         "19",
         "133340",
         "0",
         "277",
         "380",
         "2",
         "17",
         "9.663702",
         "1.0",
         "0.0023384156608923907",
         "19.239614829361532",
         "1",
         "1.0",
         "0.0",
         "0.0",
         "0.0",
         "0.0",
         "20",
         "4",
         "-0.25835502",
         "281",
         "OVK01449",
         "LINESTRING (122625 389271.81315392343, 122615.87688891056 389275)"
        ],
        [
         "343",
         "20",
         "132860",
         "0",
         "276",
         "380",
         "2",
         "18",
         "16.791534",
         "1.0",
         "0.0022061490031339494",
         "19.21701707723656",
         "1",
         "1.0",
         "0.0",
         "0.0",
         "0.0",
         "0.0",
         "21",
         "4",
         "-0.24512741",
         "281",
         "OVK01449",
         "LINESTRING (122615.87688891056 389275, 122609.89090000093 389277.09099999815, 122601.00400000066 389280.09809999913, 122600 389280.4650794978)"
        ],
        [
         "344",
         "21",
         "132859",
         "0",
         "276",
         "379",
         "2",
         "19",
         "26.576641",
         "1.0",
         "0.0017075149543186916",
         "19.17997245030634",
         "1",
         "1.0",
         "0.0",
         "0.0",
         "0.0",
         "0.0",
         "22",
         "4",
         "-0.22344331",
         "281",
         "OVK01449",
         "LINESTRING (122600 389280.4650794978, 122586.27829999849 389285.4805999994, 122576.40019999817 389288.9987999983, 122575 389289.481645546)"
        ],
        [
         "345",
         "22",
         "132858",
         "0",
         "276",
         "378",
         "2",
         "20",
         "26.549707",
         "1.0",
         "0.0010090457799422586",
         "19.13459243822196",
         "1",
         "1.0",
         "0.0",
         "0.0",
         "0.0",
         "0.0",
         "23",
         "4",
         "-0.19688015",
         "281",
         "OVK01449",
         "LINESTRING (122575 389289.481645546, 122565.91679999977 389292.61389999837, 122550 389298.4167985735)"
        ],
        [
         "346",
         "23",
         "132857",
         "0",
         "276",
         "377",
         "2",
         "21",
         "4.813235",
         "1.0",
         "0.004695309893789102",
         "19.107802567998455",
         "1",
         "1.0",
         "0.0",
         "0.0",
         "0.0",
         "0.0",
         "24",
         "4",
         "-0.18119867",
         "281",
         "OVK01449",
         "LINESTRING (122550 389298.4167985735, 122548.91600000113 389298.811999999, 122545.45476277755 389300)"
        ],
        [
         "347",
         "24",
         "132377",
         "0",
         "275",
         "377",
         "2",
         "22",
         "21.644203",
         "1.0",
         "0.001900184998517369",
         "19.085202938992428",
         "1",
         "1.0",
         "0.0",
         "0.0",
         "0.0",
         "0.0",
         "25",
         "4",
         "-0.16796996",
         "281",
         "OVK01449",
         "LINESTRING (122545.45476277755 389300, 122531.13199999928 389304.91600000113, 122525 389307.07586509053)"
        ],
        [
         "348",
         "25",
         "132376",
         "0",
         "275",
         "376",
         "2",
         "23",
         "26.504328",
         "1.0",
         "0.0017081628333694998",
         "19.04407494879346",
         "1",
         "1.0",
         "0.0",
         "0.0",
         "0.0",
         "0.0",
         "26",
         "4",
         "-0.14389569",
         "281",
         "OVK01449",
         "LINESTRING (122525 389307.07586509053, 122503.64699999988 389314.59699999914, 122500 389315.8781018582)"
        ],
        [
         "349",
         "26",
         "132375",
         "0",
         "275",
         "375",
         "2",
         "24",
         "26.497576",
         "1.0",
         "0.0016745376604090443",
         "18.99880124116639",
         "1",
         "1.0",
         "0.0",
         "0.0",
         "0.0",
         "0.0",
         "27",
         "4",
         "-0.11739474",
         "281",
         "OVK01449",
         "LINESTRING (122500 389315.8781018582, 122475 389324.65999011643)"
        ],
        [
         "350",
         "27",
         "131894",
         "0",
         "274",
         "374",
         "2",
         "25",
         "25.447823",
         "1.0",
         "0.0017468144545247598",
         "18.954430052646916",
         "1",
         "1.0",
         "0.0",
         "0.0",
         "0.0",
         "0.0",
         "28",
         "4",
         "-0.09039613",
         "281",
         "OVK01449",
         "LINESTRING (122474.03207068468 389325, 122465.50600000098 389327.99500000104, 122450 389333.3695072411)"
        ],
        [
         "351",
         "28",
         "131893",
         "0",
         "274",
         "373",
         "2",
         "26",
         "26.592947",
         "1.0",
         "0.0015878535359761907",
         "18.90997742834406",
         "1",
         "1.0",
         "0.0",
         "0.0",
         "0.0",
         "0.0",
         "29",
         "4",
         "-0.06437574",
         "281",
         "OVK01449",
         "LINESTRING (122450 389333.3695072411, 122439.2659999989 389337.08999999985, 122434.82999999821 389338.6279999986, 122433.86400000006 389339.0009999983, 122425 389342.4237695745)"
        ],
        [
         "352",
         "29",
         "131892",
         "0",
         "274",
         "372",
         "2",
         "27",
         "22.840715",
         "1.0",
         "0.0009901524813472568",
         "18.867751723408198",
         "1",
         "1.0",
         "0.0",
         "0.0",
         "0.0",
         "0.0",
         "30",
         "4",
         "-0.039658908",
         "281",
         "OVK01449",
         "LINESTRING (122425 389342.4237695745, 122412.4600000009 389347.2659999989, 122403.4681640625 389350)"
        ],
        [
         "353",
         "30",
         "131412",
         "0",
         "273",
         "372",
         "2",
         "28",
         "3.6355326",
         "1.0",
         "0.006634804904133167",
         "18.845135932370898",
         "1",
         "1.0",
         "0.0",
         "0.0",
         "0.0",
         "0.0",
         "31",
         "4",
         "-0.026420785",
         "281",
         "OVK01449",
         "LINESTRING (122403.4681640625 389350, 122400.8011999987 389350.810899999, 122400 389351.0887622076)"
        ],
        [
         "354",
         "31",
         "131411",
         "0",
         "273",
         "371",
         "2",
         "29",
         "24.60302",
         "1.0",
         "0.0009240093655007381",
         "18.821014882730715",
         "1",
         "1.0",
         "0.0",
         "0.0",
         "0.0",
         "0.0",
         "43",
         "4",
         "-0.012301509",
         "281",
         "OVK01449",
         "LINESTRING (122400 389351.0887622076, 122387.06879999861 389355.57339999825, 122379.8542000018 389357.6308000013, 122376.5623999983 389358.53610000014)"
        ],
        [
         "1546",
         "32",
         "134749",
         "0",
         "280",
         "349",
         "3",
         "1",
         "16.030241",
         "1.0",
         "0.0003204505679822273",
         "17.245458569699895",
         "1",
         "1.0",
         "0.0",
         "0.0",
         "0.0",
         "0.0",
         "33",
         "5",
         "-0.18612376",
         "938",
         "OVK00881",
         "LINESTRING (121841.88800000027 389194.1629999988, 121839.82999999821 389194.98099999875, 121826.95827229688 389200)"
        ],
        [
         "1547",
         "33",
         "134269",
         "0",
         "279",
         "349",
         "3",
         "2",
         "2.1018758",
         "1.0",
         "0.0039021594124821145",
         "17.240321669862524",
         "1",
         "1.0",
         "0.0",
         "0.0",
         "0.0",
         "0.0",
         "34",
         "5",
         "-0.1770577",
         "938",
         "OVK00881",
         "LINESTRING (121826.95827229688 389200, 121825 389200.76357804396)"
        ],
        [
         "1548",
         "34",
         "134268",
         "0",
         "279",
         "348",
         "3",
         "3",
         "26.848846",
         "1.0",
         "0.0005672352298658242",
         "17.232119815495874",
         "1",
         "1.0",
         "0.0",
         "0.0",
         "0.0",
         "0.0",
         "35",
         "5",
         "-0.16258234",
         "938",
         "OVK00881",
         "LINESTRING (121825 389200.76357804396, 121805.33100000024 389208.43299999833, 121800 389210.55412284605)"
        ],
        [
         "1549",
         "35",
         "134267",
         "0",
         "279",
         "347",
         "3",
         "4",
         "26.908304",
         "1.0",
         "0.0004107646256898593",
         "17.216890203916375",
         "1",
         "1.0",
         "0.0",
         "0.0",
         "0.0",
         "0.0",
         "36",
         "5",
         "-0.13570377",
         "938",
         "OVK00881",
         "LINESTRING (121800 389210.55412284605, 121778.10200000182 389219.2670000009, 121775 389220.50684243004)"
        ],
        [
         "1550",
         "36",
         "134266",
         "0",
         "279",
         "346",
         "3",
         "5",
         "12.106253",
         "1.0",
         "0.0006300360513741561",
         "17.205837224407766",
         "1",
         "1.0",
         "0.0",
         "0.0",
         "0.0",
         "0.0",
         "37",
         "5",
         "-0.11619649",
         "938",
         "OVK00881",
         "LINESTRING (121775 389220.50684243004, 121763.75843053682 389225)"
        ],
        [
         "1551",
         "37",
         "133786",
         "0",
         "278",
         "346",
         "3",
         "6",
         "14.816707",
         "1.0",
         "0.000798086431952877",
         "17.19820984877844",
         "1",
         "1.0",
         "0.0",
         "0.0",
         "0.0",
         "0.0",
         "38",
         "5",
         "-0.10273501",
         "938",
         "OVK00881",
         "LINESTRING (121763.75843053682 389225, 121750 389230.49912505725)"
        ],
        [
         "1552",
         "38",
         "133785",
         "0",
         "278",
         "345",
         "3",
         "7",
         "26.922958",
         "1.0",
         "0.0005528941980570768",
         "17.186384836228935",
         "1",
         "1.0",
         "0.0",
         "0.0",
         "0.0",
         "0.0",
         "39",
         "5",
         "-0.08186518",
         "938",
         "OVK00881",
         "LINESTRING (121750 389230.49912505725, 121725 389240.4914076844)"
        ],
        [
         "1553",
         "39",
         "133784",
         "0",
         "278",
         "344",
         "3",
         "8",
         "25.619715",
         "1.0",
         "0.0002977150880735216",
         "17.171499288749406",
         "1",
         "1.0",
         "0.0",
         "0.0",
         "0.0",
         "0.0",
         "40",
         "5",
         "-0.05559384",
         "938",
         "OVK00881",
         "LINESTRING (121725 389240.4914076844, 121701.21015970437 389250)"
        ],
        [
         "1554",
         "40",
         "133304",
         "0",
         "277",
         "344",
         "3",
         "9",
         "1.3032432",
         "1.0",
         "0.006135924029179472",
         "17.16387191312008",
         "1",
         "1.0",
         "0.0",
         "0.0",
         "0.0",
         "0.0",
         "41",
         "5",
         "-0.042132363",
         "938",
         "OVK00881",
         "LINESTRING (121701.21015970437 389250, 121700 389250.4836903116)"
        ],
        [
         "1555",
         "41",
         "133303",
         "0",
         "277",
         "343",
         "3",
         "10",
         "26.922958",
         "1.0",
         "0.00043649206456304634",
         "17.15587531209725",
         "1",
         "1.0",
         "0.0",
         "0.0",
         "0.0",
         "0.0",
         "42",
         "5",
         "-0.028019262",
         "938",
         "OVK00881",
         "LINESTRING (121700 389250.4836903116, 121675 389260.4759729388)"
        ],
        [
         "1556",
         "42",
         "133302",
         "0",
         "277",
         "342",
         "3",
         "11",
         "14.557782",
         "1.0",
         "0.0004791679223406786",
         "17.14412365441243",
         "1",
         "1.0",
         "0.0",
         "0.0",
         "0.0",
         "0.0",
         "78",
         "5",
         "-0.0072788913",
         "938",
         "OVK00881",
         "LINESTRING (121675 389260.4759729388, 121661.48200000077 389265.87900000066)"
        ],
        [
         "4297",
         "43",
         "131411",
         "0",
         "273",
         "371",
         "4",
         "1",
         "1.6739485",
         "1.0",
         "0.017366553557457837",
         "18.79828146209505",
         "1",
         "1.0",
         "0.0",
         "0.0",
         "0.0",
         "0.0",
         "44",
         "6",
         "-0.6569407",
         "7557",
         "OVK01450",
         "LINESTRING (122376.5623999983 389358.53610000014, 122375 389359.13694115257)"
        ],
        [
         "4298",
         "44",
         "131410",
         "0",
         "273",
         "370",
         "4",
         "2",
         "26.655073",
         "1.0",
         "0.0017948070882059127",
         "18.769210745359203",
         "1",
         "1.0",
         "0.0",
         "0.0",
         "0.0",
         "0.0",
         "45",
         "6",
         "-0.6427762",
         "7557",
         "OVK01450",
         "LINESTRING (122375 389359.13694115257, 122361.45199999958 389364.34699999914, 122350 389368.37521712587)"
        ],
        [
         "4299",
         "45",
         "131409",
         "0",
         "273",
         "369",
         "4",
         "3",
         "19.965052",
         "1.0",
         "0.001362147418261817",
         "18.72137003110441",
         "1",
         "1.0",
         "0.0",
         "0.0",
         "0.0",
         "0.0",
         "46",
         "6",
         "-0.6194661",
         "7557",
         "OVK01450",
         "LINESTRING (122350 389368.37521712587, 122331.16610622415 389375)"
        ],
        [
         "4300",
         "46",
         "130929",
         "0",
         "272",
         "369",
         "4",
         "4",
         "6.536441",
         "1.0",
         "0.005180623297091761",
         "18.694174687542535",
         "1",
         "1.0",
         "0.0",
         "0.0",
         "0.0",
         "0.0",
         "47",
         "6",
         "-0.6062154",
         "7557",
         "OVK01450",
         "LINESTRING (122331.16610622415 389375, 122325 389377.16891501035)"
        ],
        [
         "4301",
         "47",
         "130928",
         "0",
         "272",
         "368",
         "4",
         "5",
         "26.462437",
         "1.0",
         "0.0020507750732655585",
         "18.660311849798568",
         "1",
         "1.0",
         "0.0",
         "0.0",
         "0.0",
         "0.0",
         "48",
         "6",
         "-0.58971596",
         "7557",
         "OVK01450",
         "LINESTRING (122325 389377.16891501035, 122324.03599999845 389377.5080000013, 122300 389385.8441710567)"
        ],
        [
         "4302",
         "48",
         "130927",
         "0",
         "272",
         "367",
         "4",
         "6",
         "26.42149",
         "1.0",
         "0.0017018329680017778",
         "18.606043344285506",
         "1",
         "1.0",
         "0.0",
         "0.0",
         "0.0",
         "0.0",
         "49",
         "6",
         "-0.56327397",
         "7557",
         "OVK01450",
         "LINESTRING (122300 389385.8441710567, 122294.08100000024 389387.8969999999, 122275 389394.39350113895)"
        ],
        [
         "4303",
         "49",
         "130926",
         "0",
         "272",
         "366",
         "4",
         "7",
         "17.396257",
         "1.0",
         "0.0015677037966592817",
         "18.56107838202382",
         "1",
         "1.0",
         "0.0",
         "0.0",
         "0.0",
         "0.0",
         "50",
         "6",
         "-0.5413651",
         "7557",
         "OVK01450",
         "LINESTRING (122275 389394.39350113895, 122264.65399999917 389397.91600000113, 122258.53194103453 389400)"
        ],
        [
         "4304",
         "50",
         "130446",
         "0",
         "271",
         "366",
         "4",
         "8",
         "9.180136",
         "1.0",
         "0.004006326616313557",
         "18.533806203249373",
         "1",
         "1.0",
         "0.0",
         "0.0",
         "0.0",
         "0.0",
         "51",
         "6",
         "-0.52807695",
         "7557",
         "OVK01450",
         "LINESTRING (122258.53194103453 389400, 122255.9849999994 389400.8669999987, 122255.20899999887 389401.19200000167, 122252.00600000098 389402.53500000015, 122250 389403.3761045886)"
        ]
       ],
       "shape": {
        "columns": 23,
        "rows": 7819
       }
      },
      "text/html": [
       "<div>\n",
       "<style scoped>\n",
       "    .dataframe tbody tr th:only-of-type {\n",
       "        vertical-align: middle;\n",
       "    }\n",
       "\n",
       "    .dataframe tbody tr th {\n",
       "        vertical-align: top;\n",
       "    }\n",
       "\n",
       "    .dataframe thead th {\n",
       "        text-align: right;\n",
       "    }\n",
       "</style>\n",
       "<table border=\"1\" class=\"dataframe\">\n",
       "  <thead>\n",
       "    <tr style=\"text-align: right;\">\n",
       "      <th></th>\n",
       "      <th>rno</th>\n",
       "      <th>node</th>\n",
       "      <th>k</th>\n",
       "      <th>i</th>\n",
       "      <th>j</th>\n",
       "      <th>iseg</th>\n",
       "      <th>ireach</th>\n",
       "      <th>rchlen</th>\n",
       "      <th>width</th>\n",
       "      <th>slope</th>\n",
       "      <th>...</th>\n",
       "      <th>thts</th>\n",
       "      <th>thti</th>\n",
       "      <th>eps</th>\n",
       "      <th>uhc</th>\n",
       "      <th>outreach</th>\n",
       "      <th>outseg</th>\n",
       "      <th>asum</th>\n",
       "      <th>line_id</th>\n",
       "      <th>name</th>\n",
       "      <th>geometry</th>\n",
       "    </tr>\n",
       "  </thead>\n",
       "  <tbody>\n",
       "    <tr>\n",
       "      <th>915</th>\n",
       "      <td>1</td>\n",
       "      <td>134792</td>\n",
       "      <td>0</td>\n",
       "      <td>280</td>\n",
       "      <td>392</td>\n",
       "      <td>1</td>\n",
       "      <td>1</td>\n",
       "      <td>9.055565</td>\n",
       "      <td>1.0</td>\n",
       "      <td>0.000100</td>\n",
       "      <td>...</td>\n",
       "      <td>0.0</td>\n",
       "      <td>0.0</td>\n",
       "      <td>0.0</td>\n",
       "      <td>0.0</td>\n",
       "      <td>2</td>\n",
       "      <td>2</td>\n",
       "      <td>-0.006234</td>\n",
       "      <td>462</td>\n",
       "      <td>OVK01451</td>\n",
       "      <td>LINESTRING (122922.25499999896 389183.19399999...</td>\n",
       "    </tr>\n",
       "    <tr>\n",
       "      <th>916</th>\n",
       "      <td>2</td>\n",
       "      <td>135272</td>\n",
       "      <td>0</td>\n",
       "      <td>281</td>\n",
       "      <td>392</td>\n",
       "      <td>1</td>\n",
       "      <td>2</td>\n",
       "      <td>1.706178</td>\n",
       "      <td>1.0</td>\n",
       "      <td>0.000100</td>\n",
       "      <td>...</td>\n",
       "      <td>0.0</td>\n",
       "      <td>0.0</td>\n",
       "      <td>0.0</td>\n",
       "      <td>0.0</td>\n",
       "      <td>3</td>\n",
       "      <td>2</td>\n",
       "      <td>-0.000853</td>\n",
       "      <td>462</td>\n",
       "      <td>OVK01451</td>\n",
       "      <td>LINESTRING (122918.40075878412 389175, 122917....</td>\n",
       "    </tr>\n",
       "    <tr>\n",
       "      <th>326</th>\n",
       "      <td>3</td>\n",
       "      <td>135272</td>\n",
       "      <td>0</td>\n",
       "      <td>281</td>\n",
       "      <td>392</td>\n",
       "      <td>2</td>\n",
       "      <td>1</td>\n",
       "      <td>4.667041</td>\n",
       "      <td>1.0</td>\n",
       "      <td>0.003434</td>\n",
       "      <td>...</td>\n",
       "      <td>0.0</td>\n",
       "      <td>0.0</td>\n",
       "      <td>0.0</td>\n",
       "      <td>0.0</td>\n",
       "      <td>4</td>\n",
       "      <td>4</td>\n",
       "      <td>-0.572336</td>\n",
       "      <td>281</td>\n",
       "      <td>OVK01449</td>\n",
       "      <td>LINESTRING (122917.69200000167 389173.44799999...</td>\n",
       "    </tr>\n",
       "    <tr>\n",
       "      <th>327</th>\n",
       "      <td>4</td>\n",
       "      <td>134792</td>\n",
       "      <td>0</td>\n",
       "      <td>280</td>\n",
       "      <td>392</td>\n",
       "      <td>2</td>\n",
       "      <td>2</td>\n",
       "      <td>14.092730</td>\n",
       "      <td>1.0</td>\n",
       "      <td>0.002461</td>\n",
       "      <td>...</td>\n",
       "      <td>0.0</td>\n",
       "      <td>0.0</td>\n",
       "      <td>0.0</td>\n",
       "      <td>0.0</td>\n",
       "      <td>5</td>\n",
       "      <td>4</td>\n",
       "      <td>-0.562957</td>\n",
       "      <td>281</td>\n",
       "      <td>OVK01449</td>\n",
       "      <td>LINESTRING (122913.29057205089 389175, 122907....</td>\n",
       "    </tr>\n",
       "    <tr>\n",
       "      <th>328</th>\n",
       "      <td>5</td>\n",
       "      <td>134791</td>\n",
       "      <td>0</td>\n",
       "      <td>280</td>\n",
       "      <td>391</td>\n",
       "      <td>2</td>\n",
       "      <td>3</td>\n",
       "      <td>26.508957</td>\n",
       "      <td>1.0</td>\n",
       "      <td>0.001754</td>\n",
       "      <td>...</td>\n",
       "      <td>0.0</td>\n",
       "      <td>0.0</td>\n",
       "      <td>0.0</td>\n",
       "      <td>0.0</td>\n",
       "      <td>6</td>\n",
       "      <td>4</td>\n",
       "      <td>-0.542656</td>\n",
       "      <td>281</td>\n",
       "      <td>OVK01449</td>\n",
       "      <td>LINESTRING (122900 389179.6867599967, 122882.1...</td>\n",
       "    </tr>\n",
       "    <tr>\n",
       "      <th>...</th>\n",
       "      <td>...</td>\n",
       "      <td>...</td>\n",
       "      <td>...</td>\n",
       "      <td>...</td>\n",
       "      <td>...</td>\n",
       "      <td>...</td>\n",
       "      <td>...</td>\n",
       "      <td>...</td>\n",
       "      <td>...</td>\n",
       "      <td>...</td>\n",
       "      <td>...</td>\n",
       "      <td>...</td>\n",
       "      <td>...</td>\n",
       "      <td>...</td>\n",
       "      <td>...</td>\n",
       "      <td>...</td>\n",
       "      <td>...</td>\n",
       "      <td>...</td>\n",
       "      <td>...</td>\n",
       "      <td>...</td>\n",
       "      <td>...</td>\n",
       "    </tr>\n",
       "    <tr>\n",
       "      <th>1044</th>\n",
       "      <td>7815</td>\n",
       "      <td>101764</td>\n",
       "      <td>0</td>\n",
       "      <td>212</td>\n",
       "      <td>4</td>\n",
       "      <td>591</td>\n",
       "      <td>1</td>\n",
       "      <td>22.459925</td>\n",
       "      <td>1.0</td>\n",
       "      <td>0.007070</td>\n",
       "      <td>...</td>\n",
       "      <td>0.0</td>\n",
       "      <td>0.0</td>\n",
       "      <td>0.0</td>\n",
       "      <td>0.0</td>\n",
       "      <td>7816</td>\n",
       "      <td>0</td>\n",
       "      <td>-0.111548</td>\n",
       "      <td>492</td>\n",
       "      <td>OVK02121</td>\n",
       "      <td>LINESTRING (113209.83799999952 390879.22199999...</td>\n",
       "    </tr>\n",
       "    <tr>\n",
       "      <th>1045</th>\n",
       "      <td>7816</td>\n",
       "      <td>101763</td>\n",
       "      <td>0</td>\n",
       "      <td>212</td>\n",
       "      <td>3</td>\n",
       "      <td>591</td>\n",
       "      <td>2</td>\n",
       "      <td>25.089886</td>\n",
       "      <td>1.0</td>\n",
       "      <td>0.006679</td>\n",
       "      <td>...</td>\n",
       "      <td>0.0</td>\n",
       "      <td>0.0</td>\n",
       "      <td>0.0</td>\n",
       "      <td>0.0</td>\n",
       "      <td>7817</td>\n",
       "      <td>0</td>\n",
       "      <td>-0.087773</td>\n",
       "      <td>492</td>\n",
       "      <td>OVK02121</td>\n",
       "      <td>LINESTRING (113200 390891.3560705454, 113198.0...</td>\n",
       "    </tr>\n",
       "    <tr>\n",
       "      <th>1046</th>\n",
       "      <td>7817</td>\n",
       "      <td>101762</td>\n",
       "      <td>0</td>\n",
       "      <td>212</td>\n",
       "      <td>2</td>\n",
       "      <td>591</td>\n",
       "      <td>3</td>\n",
       "      <td>25.094591</td>\n",
       "      <td>1.0</td>\n",
       "      <td>0.006676</td>\n",
       "      <td>...</td>\n",
       "      <td>0.0</td>\n",
       "      <td>0.0</td>\n",
       "      <td>0.0</td>\n",
       "      <td>0.0</td>\n",
       "      <td>7818</td>\n",
       "      <td>0</td>\n",
       "      <td>-0.062681</td>\n",
       "      <td>492</td>\n",
       "      <td>OVK02121</td>\n",
       "      <td>LINESTRING (113175 390889.2659779874, 113173.5...</td>\n",
       "    </tr>\n",
       "    <tr>\n",
       "      <th>1047</th>\n",
       "      <td>7818</td>\n",
       "      <td>101761</td>\n",
       "      <td>0</td>\n",
       "      <td>212</td>\n",
       "      <td>1</td>\n",
       "      <td>591</td>\n",
       "      <td>4</td>\n",
       "      <td>25.077015</td>\n",
       "      <td>1.0</td>\n",
       "      <td>0.006676</td>\n",
       "      <td>...</td>\n",
       "      <td>0.0</td>\n",
       "      <td>0.0</td>\n",
       "      <td>0.0</td>\n",
       "      <td>0.0</td>\n",
       "      <td>7819</td>\n",
       "      <td>0</td>\n",
       "      <td>-0.037595</td>\n",
       "      <td>492</td>\n",
       "      <td>OVK02121</td>\n",
       "      <td>LINESTRING (113150 390887.1158237759, 113146.9...</td>\n",
       "    </tr>\n",
       "    <tr>\n",
       "      <th>1048</th>\n",
       "      <td>7819</td>\n",
       "      <td>101760</td>\n",
       "      <td>0</td>\n",
       "      <td>212</td>\n",
       "      <td>0</td>\n",
       "      <td>591</td>\n",
       "      <td>5</td>\n",
       "      <td>25.056593</td>\n",
       "      <td>1.0</td>\n",
       "      <td>0.001000</td>\n",
       "      <td>...</td>\n",
       "      <td>0.0</td>\n",
       "      <td>0.0</td>\n",
       "      <td>0.0</td>\n",
       "      <td>0.0</td>\n",
       "      <td>0</td>\n",
       "      <td>0</td>\n",
       "      <td>-0.012528</td>\n",
       "      <td>492</td>\n",
       "      <td>OVK02121</td>\n",
       "      <td>LINESTRING (113125 390885.1539110324, 113113.9...</td>\n",
       "    </tr>\n",
       "  </tbody>\n",
       "</table>\n",
       "<p>7819 rows × 23 columns</p>\n",
       "</div>"
      ],
      "text/plain": [
       "       rno    node  k    i    j  iseg  ireach     rchlen  width     slope  \\\n",
       "915      1  134792  0  280  392     1       1   9.055565    1.0  0.000100   \n",
       "916      2  135272  0  281  392     1       2   1.706178    1.0  0.000100   \n",
       "326      3  135272  0  281  392     2       1   4.667041    1.0  0.003434   \n",
       "327      4  134792  0  280  392     2       2  14.092730    1.0  0.002461   \n",
       "328      5  134791  0  280  391     2       3  26.508957    1.0  0.001754   \n",
       "...    ...     ... ..  ...  ...   ...     ...        ...    ...       ...   \n",
       "1044  7815  101764  0  212    4   591       1  22.459925    1.0  0.007070   \n",
       "1045  7816  101763  0  212    3   591       2  25.089886    1.0  0.006679   \n",
       "1046  7817  101762  0  212    2   591       3  25.094591    1.0  0.006676   \n",
       "1047  7818  101761  0  212    1   591       4  25.077015    1.0  0.006676   \n",
       "1048  7819  101760  0  212    0   591       5  25.056593    1.0  0.001000   \n",
       "\n",
       "      ...  thts  thti  eps  uhc  outreach  outseg      asum  line_id  \\\n",
       "915   ...   0.0   0.0  0.0  0.0         2       2 -0.006234      462   \n",
       "916   ...   0.0   0.0  0.0  0.0         3       2 -0.000853      462   \n",
       "326   ...   0.0   0.0  0.0  0.0         4       4 -0.572336      281   \n",
       "327   ...   0.0   0.0  0.0  0.0         5       4 -0.562957      281   \n",
       "328   ...   0.0   0.0  0.0  0.0         6       4 -0.542656      281   \n",
       "...   ...   ...   ...  ...  ...       ...     ...       ...      ...   \n",
       "1044  ...   0.0   0.0  0.0  0.0      7816       0 -0.111548      492   \n",
       "1045  ...   0.0   0.0  0.0  0.0      7817       0 -0.087773      492   \n",
       "1046  ...   0.0   0.0  0.0  0.0      7818       0 -0.062681      492   \n",
       "1047  ...   0.0   0.0  0.0  0.0      7819       0 -0.037595      492   \n",
       "1048  ...   0.0   0.0  0.0  0.0         0       0 -0.012528      492   \n",
       "\n",
       "          name                                           geometry  \n",
       "915   OVK01451  LINESTRING (122922.25499999896 389183.19399999...  \n",
       "916   OVK01451  LINESTRING (122918.40075878412 389175, 122917....  \n",
       "326   OVK01449  LINESTRING (122917.69200000167 389173.44799999...  \n",
       "327   OVK01449  LINESTRING (122913.29057205089 389175, 122907....  \n",
       "328   OVK01449  LINESTRING (122900 389179.6867599967, 122882.1...  \n",
       "...        ...                                                ...  \n",
       "1044  OVK02121  LINESTRING (113209.83799999952 390879.22199999...  \n",
       "1045  OVK02121  LINESTRING (113200 390891.3560705454, 113198.0...  \n",
       "1046  OVK02121  LINESTRING (113175 390889.2659779874, 113173.5...  \n",
       "1047  OVK02121  LINESTRING (113150 390887.1158237759, 113146.9...  \n",
       "1048  OVK02121  LINESTRING (113125 390885.1539110324, 113113.9...  \n",
       "\n",
       "[7819 rows x 23 columns]"
      ]
     },
     "execution_count": 82,
     "metadata": {},
     "output_type": "execute_result"
    }
   ],
   "source": [
    "DF_reach = SFR_data.reach_data\n",
    "DF_reach"
   ]
  },
  {
   "cell_type": "markdown",
   "id": "73f53d5c",
   "metadata": {},
   "source": [
    "#### Examples to check if segments were connected to the right cells"
   ]
  },
  {
   "cell_type": "code",
   "execution_count": 84,
   "id": "033d94d4",
   "metadata": {},
   "outputs": [
    {
     "name": "stdout",
     "output_type": "stream",
     "text": [
      "1 OVK01451 2\n",
      "2 OVK01449 29\n",
      "3 OVK00881 11\n",
      "4 OVK01450 35\n",
      "5 OVK00880 20\n",
      "6 OVK01448 6\n",
      "7 OVK01447 15\n",
      "8 OVK20466 6\n",
      "9 OVK01432 5\n",
      "10 OVK01433 9\n"
     ]
    }
   ],
   "source": [
    "for i, seg in enumerate(DF_reach['name'].unique()[:10]):\n",
    "    print(i+1, seg, DF_reach.loc[DF_reach['name']==seg, 'name'].count())"
   ]
  },
  {
   "cell_type": "code",
   "execution_count": 85,
   "id": "9bc5c4fd",
   "metadata": {},
   "outputs": [
    {
     "data": {
      "application/vnd.microsoft.datawrangler.viewer.v0+json": {
       "columns": [
        {
         "name": "index",
         "rawType": "int64",
         "type": "integer"
        },
        {
         "name": "rno",
         "rawType": "int64",
         "type": "integer"
        },
        {
         "name": "node",
         "rawType": "int64",
         "type": "integer"
        },
        {
         "name": "k",
         "rawType": "int64",
         "type": "integer"
        },
        {
         "name": "i",
         "rawType": "int64",
         "type": "integer"
        },
        {
         "name": "j",
         "rawType": "int64",
         "type": "integer"
        },
        {
         "name": "iseg",
         "rawType": "int64",
         "type": "integer"
        },
        {
         "name": "ireach",
         "rawType": "int64",
         "type": "integer"
        },
        {
         "name": "rchlen",
         "rawType": "float32",
         "type": "float"
        },
        {
         "name": "width",
         "rawType": "float32",
         "type": "float"
        },
        {
         "name": "slope",
         "rawType": "float64",
         "type": "float"
        },
        {
         "name": "strtop",
         "rawType": "float64",
         "type": "float"
        },
        {
         "name": "strthick",
         "rawType": "int64",
         "type": "integer"
        },
        {
         "name": "strhc1",
         "rawType": "float32",
         "type": "float"
        },
        {
         "name": "thts",
         "rawType": "float32",
         "type": "float"
        },
        {
         "name": "thti",
         "rawType": "float32",
         "type": "float"
        },
        {
         "name": "eps",
         "rawType": "float32",
         "type": "float"
        },
        {
         "name": "uhc",
         "rawType": "float32",
         "type": "float"
        },
        {
         "name": "outreach",
         "rawType": "int64",
         "type": "integer"
        },
        {
         "name": "outseg",
         "rawType": "int64",
         "type": "integer"
        },
        {
         "name": "asum",
         "rawType": "float32",
         "type": "float"
        },
        {
         "name": "line_id",
         "rawType": "int64",
         "type": "integer"
        },
        {
         "name": "name",
         "rawType": "object",
         "type": "string"
        },
        {
         "name": "geometry",
         "rawType": "object",
         "type": "unknown"
        }
       ],
       "ref": "3d7a99c6-c300-4698-ac6c-b7e4e91ff7b6",
       "rows": [
        [
         "915",
         "1",
         "134792",
         "0",
         "280",
         "392",
         "1",
         "1",
         "9.055565",
         "1.0",
         "0.0001",
         "19.629390220687945",
         "1",
         "1.0",
         "0.0",
         "0.0",
         "0.0",
         "0.0",
         "2",
         "2",
         "-0.0062339604",
         "462",
         "OVK01451",
         "LINESTRING (122922.25499999896 389183.1939999983, 122919.93100000173 389178.34099999815, 122919.83700000122 389178.14499999955, 122918.40075878412 389175)"
        ],
        [
         "916",
         "2",
         "135272",
         "0",
         "281",
         "392",
         "1",
         "2",
         "1.706178",
         "1.0",
         "0.0001",
         "19.75939032360863",
         "1",
         "1.0",
         "0.0",
         "0.0",
         "0.0",
         "0.0",
         "3",
         "2",
         "-0.000853089",
         "462",
         "OVK01451",
         "LINESTRING (122918.40075878412 389175, 122917.69200000167 389173.4479999989)"
        ]
       ],
       "shape": {
        "columns": 23,
        "rows": 2
       }
      },
      "text/html": [
       "<div>\n",
       "<style scoped>\n",
       "    .dataframe tbody tr th:only-of-type {\n",
       "        vertical-align: middle;\n",
       "    }\n",
       "\n",
       "    .dataframe tbody tr th {\n",
       "        vertical-align: top;\n",
       "    }\n",
       "\n",
       "    .dataframe thead th {\n",
       "        text-align: right;\n",
       "    }\n",
       "</style>\n",
       "<table border=\"1\" class=\"dataframe\">\n",
       "  <thead>\n",
       "    <tr style=\"text-align: right;\">\n",
       "      <th></th>\n",
       "      <th>rno</th>\n",
       "      <th>node</th>\n",
       "      <th>k</th>\n",
       "      <th>i</th>\n",
       "      <th>j</th>\n",
       "      <th>iseg</th>\n",
       "      <th>ireach</th>\n",
       "      <th>rchlen</th>\n",
       "      <th>width</th>\n",
       "      <th>slope</th>\n",
       "      <th>...</th>\n",
       "      <th>thts</th>\n",
       "      <th>thti</th>\n",
       "      <th>eps</th>\n",
       "      <th>uhc</th>\n",
       "      <th>outreach</th>\n",
       "      <th>outseg</th>\n",
       "      <th>asum</th>\n",
       "      <th>line_id</th>\n",
       "      <th>name</th>\n",
       "      <th>geometry</th>\n",
       "    </tr>\n",
       "  </thead>\n",
       "  <tbody>\n",
       "    <tr>\n",
       "      <th>915</th>\n",
       "      <td>1</td>\n",
       "      <td>134792</td>\n",
       "      <td>0</td>\n",
       "      <td>280</td>\n",
       "      <td>392</td>\n",
       "      <td>1</td>\n",
       "      <td>1</td>\n",
       "      <td>9.055565</td>\n",
       "      <td>1.0</td>\n",
       "      <td>0.0001</td>\n",
       "      <td>...</td>\n",
       "      <td>0.0</td>\n",
       "      <td>0.0</td>\n",
       "      <td>0.0</td>\n",
       "      <td>0.0</td>\n",
       "      <td>2</td>\n",
       "      <td>2</td>\n",
       "      <td>-0.006234</td>\n",
       "      <td>462</td>\n",
       "      <td>OVK01451</td>\n",
       "      <td>LINESTRING (122922.25499999896 389183.19399999...</td>\n",
       "    </tr>\n",
       "    <tr>\n",
       "      <th>916</th>\n",
       "      <td>2</td>\n",
       "      <td>135272</td>\n",
       "      <td>0</td>\n",
       "      <td>281</td>\n",
       "      <td>392</td>\n",
       "      <td>1</td>\n",
       "      <td>2</td>\n",
       "      <td>1.706178</td>\n",
       "      <td>1.0</td>\n",
       "      <td>0.0001</td>\n",
       "      <td>...</td>\n",
       "      <td>0.0</td>\n",
       "      <td>0.0</td>\n",
       "      <td>0.0</td>\n",
       "      <td>0.0</td>\n",
       "      <td>3</td>\n",
       "      <td>2</td>\n",
       "      <td>-0.000853</td>\n",
       "      <td>462</td>\n",
       "      <td>OVK01451</td>\n",
       "      <td>LINESTRING (122918.40075878412 389175, 122917....</td>\n",
       "    </tr>\n",
       "  </tbody>\n",
       "</table>\n",
       "<p>2 rows × 23 columns</p>\n",
       "</div>"
      ],
      "text/plain": [
       "     rno    node  k    i    j  iseg  ireach    rchlen  width   slope  ...  \\\n",
       "915    1  134792  0  280  392     1       1  9.055565    1.0  0.0001  ...   \n",
       "916    2  135272  0  281  392     1       2  1.706178    1.0  0.0001  ...   \n",
       "\n",
       "     thts  thti  eps  uhc  outreach  outseg      asum  line_id      name  \\\n",
       "915   0.0   0.0  0.0  0.0         2       2 -0.006234      462  OVK01451   \n",
       "916   0.0   0.0  0.0  0.0         3       2 -0.000853      462  OVK01451   \n",
       "\n",
       "                                              geometry  \n",
       "915  LINESTRING (122922.25499999896 389183.19399999...  \n",
       "916  LINESTRING (122918.40075878412 389175, 122917....  \n",
       "\n",
       "[2 rows x 23 columns]"
      ]
     },
     "execution_count": 85,
     "metadata": {},
     "output_type": "execute_result"
    }
   ],
   "source": [
    "DF_reach.loc[DF_reach['name'] == 'OVK01451']"
   ]
  },
  {
   "cell_type": "code",
   "execution_count": 106,
   "id": "ecca07f3",
   "metadata": {},
   "outputs": [],
   "source": [
    "# DF_lines = lines.df\n",
    "# DF_lines.loc[DF_lines['name']=='OVK01448']"
   ]
  },
  {
   "cell_type": "code",
   "execution_count": 87,
   "id": "4aedeaac",
   "metadata": {},
   "outputs": [
    {
     "data": {
      "application/vnd.microsoft.datawrangler.viewer.v0+json": {
       "columns": [
        {
         "name": "index",
         "rawType": "int64",
         "type": "integer"
        },
        {
         "name": "id",
         "rawType": "int64",
         "type": "integer"
        },
        {
         "name": "name",
         "rawType": "object",
         "type": "string"
        },
        {
         "name": "WS_STATUS_L",
         "rawType": "object",
         "type": "string"
        },
        {
         "name": "WS_LEGGERCATEGORIE_L",
         "rawType": "object",
         "type": "string"
        },
        {
         "name": "WS_LEGGERBRON_L",
         "rawType": "object",
         "type": "unknown"
        },
        {
         "name": "DATUM_VASTGESTELD",
         "rawType": "datetime64[ms, UTC]",
         "type": "unknown"
        },
        {
         "name": "LEGGER_KENMERK",
         "rawType": "object",
         "type": "unknown"
        },
        {
         "name": "WS_ONDERHOUDSPLICHTIGE_L",
         "rawType": "object",
         "type": "unknown"
        },
        {
         "name": "WS_ONDERHOUDSPLICHT_L",
         "rawType": "object",
         "type": "unknown"
        },
        {
         "name": "width2",
         "rawType": "float64",
         "type": "float"
        },
        {
         "name": "elevup",
         "rawType": "float64",
         "type": "float"
        },
        {
         "name": "elevdn",
         "rawType": "float64",
         "type": "float"
        },
        {
         "name": "WS_BODBREE_ACCPROF_LI_L",
         "rawType": "float64",
         "type": "float"
        },
        {
         "name": "WS_BODBREE_ACCPROF_RE_L",
         "rawType": "float64",
         "type": "float"
        },
        {
         "name": "WS_HGT_INSTEEK_LI_L",
         "rawType": "float64",
         "type": "float"
        },
        {
         "name": "WS_HGT_INSTEEK_RE_L",
         "rawType": "float64",
         "type": "float"
        },
        {
         "name": "WS_BHGT_ACCPROF_LI_L",
         "rawType": "float64",
         "type": "float"
        },
        {
         "name": "WS_BHGT_ACCPROF_RE_L",
         "rawType": "float64",
         "type": "float"
        },
        {
         "name": "WS_TALUD_LINKS_L",
         "rawType": "float64",
         "type": "float"
        },
        {
         "name": "WS_TALUD_RECHTS_L",
         "rawType": "float64",
         "type": "float"
        },
        {
         "name": "WS_TALUD_ACCPROF_LI_L",
         "rawType": "float64",
         "type": "float"
        },
        {
         "name": "WS_TALUD_ACCPROF_RE_L",
         "rawType": "float64",
         "type": "float"
        },
        {
         "name": "WS_ONDERWATERTALUD_LI_L",
         "rawType": "float64",
         "type": "float"
        },
        {
         "name": "WS_ONDERWATERTALUD_RE_L",
         "rawType": "float64",
         "type": "float"
        },
        {
         "name": "WS_HGT_BESCHOEIING_LI_L",
         "rawType": "float64",
         "type": "float"
        },
        {
         "name": "WS_HGT_BESCHOEIING_RE_L",
         "rawType": "float64",
         "type": "float"
        },
        {
         "name": "WS_HGT_ONDERK_BES_LI_L",
         "rawType": "float64",
         "type": "float"
        },
        {
         "name": "WS_HGT_ONDERK_BES_RE_L",
         "rawType": "float64",
         "type": "float"
        },
        {
         "name": "WS_HGT_INSTEEK_ACCPROF_LI_L",
         "rawType": "float64",
         "type": "float"
        },
        {
         "name": "WS_HGT_INSTEEK_ACCPROF_RE_L",
         "rawType": "float64",
         "type": "float"
        },
        {
         "name": "WS_BIJZ_FUNCTIE_L",
         "rawType": "object",
         "type": "string"
        },
        {
         "name": "WS_INHOUD_RETENTIE_L",
         "rawType": "float64",
         "type": "float"
        },
        {
         "name": "WS_LENGTE_L",
         "rawType": "float64",
         "type": "float"
        },
        {
         "name": "WS_OPW_BIJZ_PROF_L",
         "rawType": "object",
         "type": "unknown"
        },
        {
         "name": "WS_VW_BODEMBREEDTE_L",
         "rawType": "float64",
         "type": "float"
        },
        {
         "name": "WS_VW_BH_BOVENSTROOMS_L",
         "rawType": "float64",
         "type": "float"
        },
        {
         "name": "WS_VW_BH_BENEDENSTROOMS_L",
         "rawType": "float64",
         "type": "float"
        },
        {
         "name": "WS_VW_TALUD_LINKS_L",
         "rawType": "float64",
         "type": "float"
        },
        {
         "name": "WS_VW_TALUD_RECHTS_L",
         "rawType": "float64",
         "type": "float"
        },
        {
         "name": "WS_VW_BIJZ_PROF_L",
         "rawType": "object",
         "type": "unknown"
        },
        {
         "name": "WIJZIGING",
         "rawType": "object",
         "type": "unknown"
        },
        {
         "name": "SE_ANNO_CAD_DATA",
         "rawType": "object",
         "type": "unknown"
        },
        {
         "name": "CREATED_USER",
         "rawType": "object",
         "type": "string"
        },
        {
         "name": "CREATED_DATE",
         "rawType": "datetime64[ms, UTC]",
         "type": "unknown"
        },
        {
         "name": "LAST_EDITED_USER",
         "rawType": "object",
         "type": "string"
        },
        {
         "name": "LAST_EDITED_DATE",
         "rawType": "datetime64[ms, UTC]",
         "type": "unknown"
        },
        {
         "name": "WS_OMSCHRIJVING_TRAJECT_L",
         "rawType": "object",
         "type": "unknown"
        },
        {
         "name": "WS_LEGGERVERWIJZING_L",
         "rawType": "object",
         "type": "unknown"
        },
        {
         "name": "WS_HYPERLINK_PRO_OPW_L",
         "rawType": "object",
         "type": "unknown"
        },
        {
         "name": "WS_HYPERLINK_PRO_VW_L",
         "rawType": "object",
         "type": "unknown"
        },
        {
         "name": "WS_LEGGERBRON_OMW_L",
         "rawType": "object",
         "type": "unknown"
        },
        {
         "name": "WS_LEGGERBRON_WAW_L",
         "rawType": "object",
         "type": "unknown"
        },
        {
         "name": "WS_LEGGERBRON_COS_L",
         "rawType": "object",
         "type": "unknown"
        },
        {
         "name": "WS_HYPERLINK_BESLUIT_L",
         "rawType": "object",
         "type": "unknown"
        },
        {
         "name": "SHAPE_Length",
         "rawType": "float64",
         "type": "float"
        },
        {
         "name": "geometry",
         "rawType": "geometry",
         "type": "unknown"
        },
        {
         "name": "Xstart",
         "rawType": "float64",
         "type": "float"
        },
        {
         "name": "Ystart",
         "rawType": "float64",
         "type": "float"
        },
        {
         "name": "Xend",
         "rawType": "float64",
         "type": "float"
        },
        {
         "name": "Yend",
         "rawType": "float64",
         "type": "float"
        },
        {
         "name": "DStr_code",
         "rawType": "object",
         "type": "string"
        },
        {
         "name": "toid",
         "rawType": "int64",
         "type": "integer"
        },
        {
         "name": "DStr_match",
         "rawType": "bool",
         "type": "boolean"
        },
        {
         "name": "min_Dist",
         "rawType": "float64",
         "type": "float"
        },
        {
         "name": "multiple_close",
         "rawType": "object",
         "type": "string"
        },
        {
         "name": "asum1",
         "rawType": "int64",
         "type": "integer"
        },
        {
         "name": "asum2",
         "rawType": "int64",
         "type": "integer"
        },
        {
         "name": "width1",
         "rawType": "int64",
         "type": "integer"
        }
       ],
       "ref": "533d4061-ca80-4bd4-8198-402207f4c67e",
       "rows": [
        [
         "458",
         "459",
         "OVK01448",
         "Vastgesteld, vigerende legger",
         "Oppervlaktewaterlichamen",
         null,
         "2012-01-10 00:00:00+00:00",
         null,
         null,
         null,
         "1.20000005",
         "17.45000076",
         "16.77000046",
         null,
         null,
         null,
         null,
         null,
         null,
         "1.5",
         "1.5",
         null,
         null,
         null,
         null,
         null,
         null,
         null,
         null,
         null,
         null,
         "Waternatuur",
         null,
         null,
         null,
         null,
         null,
         null,
         null,
         null,
         null,
         null,
         null,
         "LEGGER_VASTGESTELD",
         "2022-09-22 21:25:04+00:00",
         "LEGGER_VASTGESTELD",
         "2022-09-22 21:25:04+00:00",
         null,
         null,
         null,
         null,
         null,
         null,
         null,
         null,
         "79.82772077238964",
         "MULTILINESTRING ((121756.03799999878 389576.2039999999, 121753.27899999917 389574.1860000007, 121734.75499999896 389549.25499999896, 121712.82999999821 389520.21499999985, 121710.66000000015 389517.2829999998, 121707.5940000005 389513.5370000005, 121707.44700000063 389513.0859999992))",
         "121756.03799999878",
         "389576.2039999999",
         "121707.44700000063",
         "389513.0859999992",
         "OVK01447",
         "7213",
         "True",
         "0.0",
         "",
         "0",
         "0",
         "0"
        ]
       ],
       "shape": {
        "columns": 68,
        "rows": 1
       }
      },
      "text/html": [
       "<div>\n",
       "<style scoped>\n",
       "    .dataframe tbody tr th:only-of-type {\n",
       "        vertical-align: middle;\n",
       "    }\n",
       "\n",
       "    .dataframe tbody tr th {\n",
       "        vertical-align: top;\n",
       "    }\n",
       "\n",
       "    .dataframe thead th {\n",
       "        text-align: right;\n",
       "    }\n",
       "</style>\n",
       "<table border=\"1\" class=\"dataframe\">\n",
       "  <thead>\n",
       "    <tr style=\"text-align: right;\">\n",
       "      <th></th>\n",
       "      <th>id</th>\n",
       "      <th>name</th>\n",
       "      <th>WS_STATUS_L</th>\n",
       "      <th>WS_LEGGERCATEGORIE_L</th>\n",
       "      <th>WS_LEGGERBRON_L</th>\n",
       "      <th>DATUM_VASTGESTELD</th>\n",
       "      <th>LEGGER_KENMERK</th>\n",
       "      <th>WS_ONDERHOUDSPLICHTIGE_L</th>\n",
       "      <th>WS_ONDERHOUDSPLICHT_L</th>\n",
       "      <th>width2</th>\n",
       "      <th>...</th>\n",
       "      <th>Xend</th>\n",
       "      <th>Yend</th>\n",
       "      <th>DStr_code</th>\n",
       "      <th>toid</th>\n",
       "      <th>DStr_match</th>\n",
       "      <th>min_Dist</th>\n",
       "      <th>multiple_close</th>\n",
       "      <th>asum1</th>\n",
       "      <th>asum2</th>\n",
       "      <th>width1</th>\n",
       "    </tr>\n",
       "  </thead>\n",
       "  <tbody>\n",
       "    <tr>\n",
       "      <th>458</th>\n",
       "      <td>459</td>\n",
       "      <td>OVK01448</td>\n",
       "      <td>Vastgesteld, vigerende legger</td>\n",
       "      <td>Oppervlaktewaterlichamen</td>\n",
       "      <td>None</td>\n",
       "      <td>2012-01-10 00:00:00+00:00</td>\n",
       "      <td>None</td>\n",
       "      <td>None</td>\n",
       "      <td>None</td>\n",
       "      <td>1.2</td>\n",
       "      <td>...</td>\n",
       "      <td>121707.447</td>\n",
       "      <td>389513.086</td>\n",
       "      <td>OVK01447</td>\n",
       "      <td>7213</td>\n",
       "      <td>True</td>\n",
       "      <td>0.0</td>\n",
       "      <td></td>\n",
       "      <td>0</td>\n",
       "      <td>0</td>\n",
       "      <td>0</td>\n",
       "    </tr>\n",
       "  </tbody>\n",
       "</table>\n",
       "<p>1 rows × 68 columns</p>\n",
       "</div>"
      ],
      "text/plain": [
       "      id      name                    WS_STATUS_L      WS_LEGGERCATEGORIE_L  \\\n",
       "458  459  OVK01448  Vastgesteld, vigerende legger  Oppervlaktewaterlichamen   \n",
       "\n",
       "    WS_LEGGERBRON_L         DATUM_VASTGESTELD LEGGER_KENMERK  \\\n",
       "458            None 2012-01-10 00:00:00+00:00           None   \n",
       "\n",
       "    WS_ONDERHOUDSPLICHTIGE_L WS_ONDERHOUDSPLICHT_L  width2  ...        Xend  \\\n",
       "458                     None                  None     1.2  ...  121707.447   \n",
       "\n",
       "           Yend  DStr_code  toid  DStr_match  min_Dist  multiple_close  asum1  \\\n",
       "458  389513.086   OVK01447  7213        True       0.0                      0   \n",
       "\n",
       "     asum2  width1  \n",
       "458      0       0  \n",
       "\n",
       "[1 rows x 68 columns]"
      ]
     },
     "execution_count": 87,
     "metadata": {},
     "output_type": "execute_result"
    }
   ],
   "source": [
    "pd.DataFrame(GDF.loc[GDF['name'] == 'OVK01448'])"
   ]
  },
  {
   "cell_type": "code",
   "execution_count": null,
   "id": "42973708",
   "metadata": {},
   "outputs": [
    {
     "data": {
      "application/vnd.microsoft.datawrangler.viewer.v0+json": {
       "columns": [
        {
         "name": "index",
         "rawType": "int64",
         "type": "integer"
        },
        {
         "name": "rno",
         "rawType": "int64",
         "type": "integer"
        },
        {
         "name": "node",
         "rawType": "int64",
         "type": "integer"
        },
        {
         "name": "k",
         "rawType": "int64",
         "type": "integer"
        },
        {
         "name": "i",
         "rawType": "int64",
         "type": "integer"
        },
        {
         "name": "j",
         "rawType": "int64",
         "type": "integer"
        },
        {
         "name": "iseg",
         "rawType": "int64",
         "type": "integer"
        },
        {
         "name": "ireach",
         "rawType": "int64",
         "type": "integer"
        },
        {
         "name": "rchlen",
         "rawType": "float32",
         "type": "float"
        },
        {
         "name": "width",
         "rawType": "float32",
         "type": "float"
        },
        {
         "name": "slope",
         "rawType": "float64",
         "type": "float"
        },
        {
         "name": "strtop",
         "rawType": "float64",
         "type": "float"
        },
        {
         "name": "strthick",
         "rawType": "int64",
         "type": "integer"
        },
        {
         "name": "strhc1",
         "rawType": "float32",
         "type": "float"
        },
        {
         "name": "thts",
         "rawType": "float32",
         "type": "float"
        },
        {
         "name": "thti",
         "rawType": "float32",
         "type": "float"
        },
        {
         "name": "eps",
         "rawType": "float32",
         "type": "float"
        },
        {
         "name": "uhc",
         "rawType": "float32",
         "type": "float"
        },
        {
         "name": "outreach",
         "rawType": "int64",
         "type": "integer"
        },
        {
         "name": "outseg",
         "rawType": "int64",
         "type": "integer"
        },
        {
         "name": "asum",
         "rawType": "float32",
         "type": "float"
        },
        {
         "name": "line_id",
         "rawType": "int64",
         "type": "integer"
        },
        {
         "name": "name",
         "rawType": "object",
         "type": "string"
        },
        {
         "name": "geometry",
         "rawType": "object",
         "type": "unknown"
        }
       ],
       "ref": "949d41d8-75da-4ffd-9b5a-eb07299f2b21",
       "rows": [
        [
         "909",
         "98",
         "127066",
         "0",
         "264",
         "346",
         "6",
         "1",
         "2.0394292",
         "1.0",
         "0.018620731715626178",
         "17.441314478328927",
         "1",
         "1.0",
         "0.0",
         "0.0",
         "0.0",
         "0.0",
         "99",
         "7",
         "-0.07880801",
         "459",
         "OVK01448",
         "LINESTRING (121756.03799999878 389576.2039999999, 121754.39189692616 389575)"
        ],
        [
         "910",
         "99",
         "127546",
         "0",
         "265",
         "346",
         "6",
         "2",
         "6.876773",
         "1.0",
         "0.0195160417826874",
         "17.403338814570358",
         "1",
         "1.0",
         "0.0",
         "0.0",
         "0.0",
         "0.0",
         "100",
         "7",
         "-0.0743499",
         "459",
         "OVK01448",
         "LINESTRING (121754.39189692616 389575, 121753.27899999917 389574.1860000007, 121750 389569.7728738409)"
        ],
        [
         "911",
         "100",
         "127545",
         "0",
         "265",
         "345",
         "6",
         "3",
         "24.63342",
         "1.0",
         "0.007218870302614605",
         "17.26913142770341",
         "1",
         "1.0",
         "0.0",
         "0.0",
         "0.0",
         "0.0",
         "101",
         "7",
         "-0.058594808",
         "459",
         "OVK01448",
         "LINESTRING (121750 389569.7728738409, 121735.30854297832 389550)"
        ],
        [
         "912",
         "101",
         "128025",
         "0",
         "266",
         "345",
         "6",
         "4",
         "17.117735",
         "1.0",
         "0.0077928577976830934",
         "17.09130595679742",
         "1",
         "1.0",
         "0.0",
         "0.0",
         "0.0",
         "0.0",
         "102",
         "7",
         "-0.03771923",
         "459",
         "OVK01448",
         "LINESTRING (121735.30854297832 389550, 121734.75499999896 389549.25499999896, 121725 389536.3343523387)"
        ],
        [
         "913",
         "102",
         "128024",
         "0",
         "266",
         "344",
         "6",
         "5",
         "14.201969",
         "1.0",
         "0.008745198283319513",
         "16.9579098828327",
         "1",
         "1.0",
         "0.0",
         "0.0",
         "0.0",
         "0.0",
         "103",
         "7",
         "-0.022059377",
         "459",
         "OVK01448",
         "LINESTRING (121725 389536.3343523387, 121716.44264204401 389525)"
        ],
        [
         "914",
         "103",
         "128504",
         "0",
         "267",
         "344",
         "6",
         "6",
         "14.958393",
         "1.0",
         "0.004673615909918194",
         "16.83371084663097",
         "1",
         "1.0",
         "0.0",
         "0.0",
         "0.0",
         "0.0",
         "104",
         "7",
         "-0.0074791964",
         "459",
         "OVK01448",
         "LINESTRING (121716.44264204401 389525, 121712.82999999821 389520.21499999985, 121710.66000000015 389517.2829999998, 121707.5940000005 389513.5370000005, 121707.44700000063 389513.0859999992)"
        ]
       ],
       "shape": {
        "columns": 23,
        "rows": 6
       }
      },
      "text/html": [
       "<div>\n",
       "<style scoped>\n",
       "    .dataframe tbody tr th:only-of-type {\n",
       "        vertical-align: middle;\n",
       "    }\n",
       "\n",
       "    .dataframe tbody tr th {\n",
       "        vertical-align: top;\n",
       "    }\n",
       "\n",
       "    .dataframe thead th {\n",
       "        text-align: right;\n",
       "    }\n",
       "</style>\n",
       "<table border=\"1\" class=\"dataframe\">\n",
       "  <thead>\n",
       "    <tr style=\"text-align: right;\">\n",
       "      <th></th>\n",
       "      <th>rno</th>\n",
       "      <th>node</th>\n",
       "      <th>k</th>\n",
       "      <th>i</th>\n",
       "      <th>j</th>\n",
       "      <th>iseg</th>\n",
       "      <th>ireach</th>\n",
       "      <th>rchlen</th>\n",
       "      <th>width</th>\n",
       "      <th>slope</th>\n",
       "      <th>...</th>\n",
       "      <th>thts</th>\n",
       "      <th>thti</th>\n",
       "      <th>eps</th>\n",
       "      <th>uhc</th>\n",
       "      <th>outreach</th>\n",
       "      <th>outseg</th>\n",
       "      <th>asum</th>\n",
       "      <th>line_id</th>\n",
       "      <th>name</th>\n",
       "      <th>geometry</th>\n",
       "    </tr>\n",
       "  </thead>\n",
       "  <tbody>\n",
       "    <tr>\n",
       "      <th>909</th>\n",
       "      <td>98</td>\n",
       "      <td>127066</td>\n",
       "      <td>0</td>\n",
       "      <td>264</td>\n",
       "      <td>346</td>\n",
       "      <td>6</td>\n",
       "      <td>1</td>\n",
       "      <td>2.039429</td>\n",
       "      <td>1.0</td>\n",
       "      <td>0.018621</td>\n",
       "      <td>...</td>\n",
       "      <td>0.0</td>\n",
       "      <td>0.0</td>\n",
       "      <td>0.0</td>\n",
       "      <td>0.0</td>\n",
       "      <td>99</td>\n",
       "      <td>7</td>\n",
       "      <td>-0.078808</td>\n",
       "      <td>459</td>\n",
       "      <td>OVK01448</td>\n",
       "      <td>LINESTRING (121756.03799999878 389576.20399999...</td>\n",
       "    </tr>\n",
       "    <tr>\n",
       "      <th>910</th>\n",
       "      <td>99</td>\n",
       "      <td>127546</td>\n",
       "      <td>0</td>\n",
       "      <td>265</td>\n",
       "      <td>346</td>\n",
       "      <td>6</td>\n",
       "      <td>2</td>\n",
       "      <td>6.876773</td>\n",
       "      <td>1.0</td>\n",
       "      <td>0.019516</td>\n",
       "      <td>...</td>\n",
       "      <td>0.0</td>\n",
       "      <td>0.0</td>\n",
       "      <td>0.0</td>\n",
       "      <td>0.0</td>\n",
       "      <td>100</td>\n",
       "      <td>7</td>\n",
       "      <td>-0.074350</td>\n",
       "      <td>459</td>\n",
       "      <td>OVK01448</td>\n",
       "      <td>LINESTRING (121754.39189692616 389575, 121753....</td>\n",
       "    </tr>\n",
       "    <tr>\n",
       "      <th>911</th>\n",
       "      <td>100</td>\n",
       "      <td>127545</td>\n",
       "      <td>0</td>\n",
       "      <td>265</td>\n",
       "      <td>345</td>\n",
       "      <td>6</td>\n",
       "      <td>3</td>\n",
       "      <td>24.633421</td>\n",
       "      <td>1.0</td>\n",
       "      <td>0.007219</td>\n",
       "      <td>...</td>\n",
       "      <td>0.0</td>\n",
       "      <td>0.0</td>\n",
       "      <td>0.0</td>\n",
       "      <td>0.0</td>\n",
       "      <td>101</td>\n",
       "      <td>7</td>\n",
       "      <td>-0.058595</td>\n",
       "      <td>459</td>\n",
       "      <td>OVK01448</td>\n",
       "      <td>LINESTRING (121750 389569.7728738409, 121735.3...</td>\n",
       "    </tr>\n",
       "    <tr>\n",
       "      <th>912</th>\n",
       "      <td>101</td>\n",
       "      <td>128025</td>\n",
       "      <td>0</td>\n",
       "      <td>266</td>\n",
       "      <td>345</td>\n",
       "      <td>6</td>\n",
       "      <td>4</td>\n",
       "      <td>17.117735</td>\n",
       "      <td>1.0</td>\n",
       "      <td>0.007793</td>\n",
       "      <td>...</td>\n",
       "      <td>0.0</td>\n",
       "      <td>0.0</td>\n",
       "      <td>0.0</td>\n",
       "      <td>0.0</td>\n",
       "      <td>102</td>\n",
       "      <td>7</td>\n",
       "      <td>-0.037719</td>\n",
       "      <td>459</td>\n",
       "      <td>OVK01448</td>\n",
       "      <td>LINESTRING (121735.30854297832 389550, 121734....</td>\n",
       "    </tr>\n",
       "    <tr>\n",
       "      <th>913</th>\n",
       "      <td>102</td>\n",
       "      <td>128024</td>\n",
       "      <td>0</td>\n",
       "      <td>266</td>\n",
       "      <td>344</td>\n",
       "      <td>6</td>\n",
       "      <td>5</td>\n",
       "      <td>14.201969</td>\n",
       "      <td>1.0</td>\n",
       "      <td>0.008745</td>\n",
       "      <td>...</td>\n",
       "      <td>0.0</td>\n",
       "      <td>0.0</td>\n",
       "      <td>0.0</td>\n",
       "      <td>0.0</td>\n",
       "      <td>103</td>\n",
       "      <td>7</td>\n",
       "      <td>-0.022059</td>\n",
       "      <td>459</td>\n",
       "      <td>OVK01448</td>\n",
       "      <td>LINESTRING (121725 389536.3343523387, 121716.4...</td>\n",
       "    </tr>\n",
       "    <tr>\n",
       "      <th>914</th>\n",
       "      <td>103</td>\n",
       "      <td>128504</td>\n",
       "      <td>0</td>\n",
       "      <td>267</td>\n",
       "      <td>344</td>\n",
       "      <td>6</td>\n",
       "      <td>6</td>\n",
       "      <td>14.958393</td>\n",
       "      <td>1.0</td>\n",
       "      <td>0.004674</td>\n",
       "      <td>...</td>\n",
       "      <td>0.0</td>\n",
       "      <td>0.0</td>\n",
       "      <td>0.0</td>\n",
       "      <td>0.0</td>\n",
       "      <td>104</td>\n",
       "      <td>7</td>\n",
       "      <td>-0.007479</td>\n",
       "      <td>459</td>\n",
       "      <td>OVK01448</td>\n",
       "      <td>LINESTRING (121716.44264204401 389525, 121712....</td>\n",
       "    </tr>\n",
       "  </tbody>\n",
       "</table>\n",
       "<p>6 rows × 23 columns</p>\n",
       "</div>"
      ],
      "text/plain": [
       "     rno    node  k    i    j  iseg  ireach     rchlen  width     slope  ...  \\\n",
       "909   98  127066  0  264  346     6       1   2.039429    1.0  0.018621  ...   \n",
       "910   99  127546  0  265  346     6       2   6.876773    1.0  0.019516  ...   \n",
       "911  100  127545  0  265  345     6       3  24.633421    1.0  0.007219  ...   \n",
       "912  101  128025  0  266  345     6       4  17.117735    1.0  0.007793  ...   \n",
       "913  102  128024  0  266  344     6       5  14.201969    1.0  0.008745  ...   \n",
       "914  103  128504  0  267  344     6       6  14.958393    1.0  0.004674  ...   \n",
       "\n",
       "     thts  thti  eps  uhc  outreach  outseg      asum  line_id      name  \\\n",
       "909   0.0   0.0  0.0  0.0        99       7 -0.078808      459  OVK01448   \n",
       "910   0.0   0.0  0.0  0.0       100       7 -0.074350      459  OVK01448   \n",
       "911   0.0   0.0  0.0  0.0       101       7 -0.058595      459  OVK01448   \n",
       "912   0.0   0.0  0.0  0.0       102       7 -0.037719      459  OVK01448   \n",
       "913   0.0   0.0  0.0  0.0       103       7 -0.022059      459  OVK01448   \n",
       "914   0.0   0.0  0.0  0.0       104       7 -0.007479      459  OVK01448   \n",
       "\n",
       "                                              geometry  \n",
       "909  LINESTRING (121756.03799999878 389576.20399999...  \n",
       "910  LINESTRING (121754.39189692616 389575, 121753....  \n",
       "911  LINESTRING (121750 389569.7728738409, 121735.3...  \n",
       "912  LINESTRING (121735.30854297832 389550, 121734....  \n",
       "913  LINESTRING (121725 389536.3343523387, 121716.4...  \n",
       "914  LINESTRING (121716.44264204401 389525, 121712....  \n",
       "\n",
       "[6 rows x 23 columns]"
      ]
     },
     "execution_count": 88,
     "metadata": {},
     "output_type": "execute_result"
    }
   ],
   "source": [
    "DF_reach.loc[DF_reach['name'] == 'OVK01448']"
   ]
  },
  {
   "cell_type": "code",
   "execution_count": 105,
   "id": "66da0667",
   "metadata": {},
   "outputs": [],
   "source": [
    "# DF_reach.loc[DF_reach['name'] == 'OVK01433']"
   ]
  },
  {
   "cell_type": "code",
   "execution_count": 1,
   "id": "fbc5e291",
   "metadata": {},
   "outputs": [
    {
     "ename": "NameError",
     "evalue": "name 'SFR_data' is not defined",
     "output_type": "error",
     "traceback": [
      "\u001b[31m---------------------------------------------------------------------------\u001b[39m",
      "\u001b[31mNameError\u001b[39m                                 Traceback (most recent call last)",
      "\u001b[36mCell\u001b[39m\u001b[36m \u001b[39m\u001b[32mIn[1]\u001b[39m\u001b[32m, line 1\u001b[39m\n\u001b[32m----> \u001b[39m\u001b[32m1\u001b[39m DF_Sgm = \u001b[43mSFR_data\u001b[49m.segment_data\n",
      "\u001b[31mNameError\u001b[39m: name 'SFR_data' is not defined"
     ]
    }
   ],
   "source": [
    "DF_Sgm = SFR_data.segment_data"
   ]
  },
  {
   "cell_type": "code",
   "execution_count": 110,
   "id": "2671ca82",
   "metadata": {},
   "outputs": [
    {
     "data": {
      "application/vnd.microsoft.datawrangler.viewer.v0+json": {
       "columns": [
        {
         "name": "index",
         "rawType": "object",
         "type": "string"
        },
        {
         "name": "per",
         "rawType": "float64",
         "type": "float"
        },
        {
         "name": "nseg",
         "rawType": "float64",
         "type": "float"
        },
        {
         "name": "icalc",
         "rawType": "float64",
         "type": "float"
        },
        {
         "name": "outseg",
         "rawType": "float64",
         "type": "float"
        },
        {
         "name": "iupseg",
         "rawType": "float64",
         "type": "float"
        },
        {
         "name": "iprior",
         "rawType": "float64",
         "type": "float"
        },
        {
         "name": "nstrpts",
         "rawType": "float64",
         "type": "float"
        },
        {
         "name": "flow",
         "rawType": "float64",
         "type": "float"
        },
        {
         "name": "runoff",
         "rawType": "float64",
         "type": "float"
        },
        {
         "name": "etsw",
         "rawType": "float64",
         "type": "float"
        },
        {
         "name": "pptsw",
         "rawType": "float64",
         "type": "float"
        },
        {
         "name": "roughch",
         "rawType": "float64",
         "type": "float"
        },
        {
         "name": "roughbk",
         "rawType": "float64",
         "type": "float"
        },
        {
         "name": "cdpth",
         "rawType": "float64",
         "type": "float"
        },
        {
         "name": "fdpth",
         "rawType": "float64",
         "type": "float"
        },
        {
         "name": "awdth",
         "rawType": "float64",
         "type": "float"
        },
        {
         "name": "bwdth",
         "rawType": "float64",
         "type": "float"
        },
        {
         "name": "hcond1",
         "rawType": "float64",
         "type": "float"
        },
        {
         "name": "thickm1",
         "rawType": "float64",
         "type": "float"
        },
        {
         "name": "elevup",
         "rawType": "float64",
         "type": "float"
        },
        {
         "name": "width1",
         "rawType": "float64",
         "type": "float"
        },
        {
         "name": "depth1",
         "rawType": "float64",
         "type": "float"
        },
        {
         "name": "thts1",
         "rawType": "float64",
         "type": "float"
        },
        {
         "name": "thti1",
         "rawType": "float64",
         "type": "float"
        },
        {
         "name": "eps1",
         "rawType": "float64",
         "type": "float"
        },
        {
         "name": "uhc1",
         "rawType": "float64",
         "type": "float"
        },
        {
         "name": "hcond2",
         "rawType": "float64",
         "type": "float"
        },
        {
         "name": "thickm2",
         "rawType": "float64",
         "type": "float"
        },
        {
         "name": "elevdn",
         "rawType": "float64",
         "type": "float"
        },
        {
         "name": "width2",
         "rawType": "float64",
         "type": "float"
        },
        {
         "name": "depth2",
         "rawType": "float64",
         "type": "float"
        },
        {
         "name": "thts2",
         "rawType": "float64",
         "type": "float"
        },
        {
         "name": "thti2",
         "rawType": "float64",
         "type": "float"
        },
        {
         "name": "eps2",
         "rawType": "float64",
         "type": "float"
        },
        {
         "name": "uhc2",
         "rawType": "float64",
         "type": "float"
        }
       ],
       "ref": "3e1960de-f798-44c1-a59d-a4e684659396",
       "rows": [
        [
         "count",
         "591.0",
         "591.0",
         "591.0",
         "591.0",
         "591.0",
         "591.0",
         "591.0",
         "591.0",
         "591.0",
         "591.0",
         "591.0",
         "591.0",
         "591.0",
         "591.0",
         "591.0",
         "591.0",
         "591.0",
         "591.0",
         "591.0",
         "591.0",
         "591.0",
         "591.0",
         "591.0",
         "591.0",
         "591.0",
         "591.0",
         "591.0",
         "591.0",
         "591.0",
         "591.0",
         "591.0",
         "591.0",
         "591.0",
         "591.0",
         "591.0"
        ],
        [
         "mean",
         "0.0",
         "296.0",
         "1.0",
         "292.54991539763114",
         "0.0",
         "0.0",
         "0.0",
         "0.0",
         "0.0",
         "0.0",
         "0.0",
         "0.037",
         "0.0",
         "0.0",
         "0.0",
         "0.0",
         "0.0",
         "0.0",
         "0.0",
         "8.995430946350098",
         "1.0",
         "0.0",
         "0.0",
         "0.0",
         "0.0",
         "0.0",
         "0.0",
         "0.0",
         "8.58803653717041",
         "1.0",
         "0.0",
         "0.0",
         "0.0",
         "0.0",
         "0.0"
        ],
        [
         "std",
         "0.0",
         "170.75128110793196",
         "0.0",
         "174.52312885182312",
         "0.0",
         "0.0",
         "0.0",
         "0.0",
         "0.0",
         "0.0",
         "0.0",
         "1.388954366575292e-17",
         "0.0",
         "0.0",
         "0.0",
         "0.0",
         "0.0",
         "0.0",
         "0.0",
         "4.708963871002197",
         "0.0",
         "0.0",
         "0.0",
         "0.0",
         "0.0",
         "0.0",
         "0.0",
         "0.0",
         "4.636707305908203",
         "0.0",
         "0.0",
         "0.0",
         "0.0",
         "0.0",
         "0.0"
        ],
        [
         "min",
         "0.0",
         "1.0",
         "1.0",
         "0.0",
         "0.0",
         "0.0",
         "0.0",
         "0.0",
         "0.0",
         "0.0",
         "0.0",
         "0.037",
         "0.0",
         "0.0",
         "0.0",
         "0.0",
         "0.0",
         "0.0",
         "0.0",
         "-1.6299999952316284",
         "1.0",
         "0.0",
         "0.0",
         "0.0",
         "0.0",
         "0.0",
         "0.0",
         "0.0",
         "-1.649999976158142",
         "1.0",
         "0.0",
         "0.0",
         "0.0",
         "0.0",
         "0.0"
        ],
        [
         "25%",
         "0.0",
         "148.5",
         "1.0",
         "144.5",
         "0.0",
         "0.0",
         "0.0",
         "0.0",
         "0.0",
         "0.0",
         "0.0",
         "0.037",
         "0.0",
         "0.0",
         "0.0",
         "0.0",
         "0.0",
         "0.0",
         "0.0",
         "5.859999895095825",
         "1.0",
         "0.0",
         "0.0",
         "0.0",
         "0.0",
         "0.0",
         "0.0",
         "0.0",
         "5.3450000286102295",
         "1.0",
         "0.0",
         "0.0",
         "0.0",
         "0.0",
         "0.0"
        ],
        [
         "50%",
         "0.0",
         "296.0",
         "1.0",
         "287.0",
         "0.0",
         "0.0",
         "0.0",
         "0.0",
         "0.0",
         "0.0",
         "0.0",
         "0.037",
         "0.0",
         "0.0",
         "0.0",
         "0.0",
         "0.0",
         "0.0",
         "0.0",
         "9.119999885559082",
         "1.0",
         "0.0",
         "0.0",
         "0.0",
         "0.0",
         "0.0",
         "0.0",
         "0.0",
         "8.760000228881836",
         "1.0",
         "0.0",
         "0.0",
         "0.0",
         "0.0",
         "0.0"
        ],
        [
         "75%",
         "0.0",
         "443.5",
         "1.0",
         "446.5",
         "0.0",
         "0.0",
         "0.0",
         "0.0",
         "0.0",
         "0.0",
         "0.0",
         "0.037",
         "0.0",
         "0.0",
         "0.0",
         "0.0",
         "0.0",
         "0.0",
         "0.0",
         "12.489999771118164",
         "1.0",
         "0.0",
         "0.0",
         "0.0",
         "0.0",
         "0.0",
         "0.0",
         "0.0",
         "12.014999866485596",
         "1.0",
         "0.0",
         "0.0",
         "0.0",
         "0.0",
         "0.0"
        ],
        [
         "max",
         "0.0",
         "591.0",
         "1.0",
         "591.0",
         "0.0",
         "0.0",
         "0.0",
         "0.0",
         "0.0",
         "0.0",
         "0.0",
         "0.037",
         "0.0",
         "0.0",
         "0.0",
         "0.0",
         "0.0",
         "0.0",
         "0.0",
         "19.799999237060547",
         "1.0",
         "0.0",
         "0.0",
         "0.0",
         "0.0",
         "0.0",
         "0.0",
         "0.0",
         "19.780000686645508",
         "1.0",
         "0.0",
         "0.0",
         "0.0",
         "0.0",
         "0.0"
        ]
       ],
       "shape": {
        "columns": 35,
        "rows": 8
       }
      },
      "text/html": [
       "<div>\n",
       "<style scoped>\n",
       "    .dataframe tbody tr th:only-of-type {\n",
       "        vertical-align: middle;\n",
       "    }\n",
       "\n",
       "    .dataframe tbody tr th {\n",
       "        vertical-align: top;\n",
       "    }\n",
       "\n",
       "    .dataframe thead th {\n",
       "        text-align: right;\n",
       "    }\n",
       "</style>\n",
       "<table border=\"1\" class=\"dataframe\">\n",
       "  <thead>\n",
       "    <tr style=\"text-align: right;\">\n",
       "      <th></th>\n",
       "      <th>per</th>\n",
       "      <th>nseg</th>\n",
       "      <th>icalc</th>\n",
       "      <th>outseg</th>\n",
       "      <th>iupseg</th>\n",
       "      <th>iprior</th>\n",
       "      <th>nstrpts</th>\n",
       "      <th>flow</th>\n",
       "      <th>runoff</th>\n",
       "      <th>etsw</th>\n",
       "      <th>...</th>\n",
       "      <th>uhc1</th>\n",
       "      <th>hcond2</th>\n",
       "      <th>thickm2</th>\n",
       "      <th>elevdn</th>\n",
       "      <th>width2</th>\n",
       "      <th>depth2</th>\n",
       "      <th>thts2</th>\n",
       "      <th>thti2</th>\n",
       "      <th>eps2</th>\n",
       "      <th>uhc2</th>\n",
       "    </tr>\n",
       "  </thead>\n",
       "  <tbody>\n",
       "    <tr>\n",
       "      <th>count</th>\n",
       "      <td>591.0</td>\n",
       "      <td>591.000000</td>\n",
       "      <td>591.0</td>\n",
       "      <td>591.000000</td>\n",
       "      <td>591.0</td>\n",
       "      <td>591.0</td>\n",
       "      <td>591.0</td>\n",
       "      <td>591.0</td>\n",
       "      <td>591.0</td>\n",
       "      <td>591.0</td>\n",
       "      <td>...</td>\n",
       "      <td>591.0</td>\n",
       "      <td>591.0</td>\n",
       "      <td>591.0</td>\n",
       "      <td>591.000000</td>\n",
       "      <td>591.0</td>\n",
       "      <td>591.0</td>\n",
       "      <td>591.0</td>\n",
       "      <td>591.0</td>\n",
       "      <td>591.0</td>\n",
       "      <td>591.0</td>\n",
       "    </tr>\n",
       "    <tr>\n",
       "      <th>mean</th>\n",
       "      <td>0.0</td>\n",
       "      <td>296.000000</td>\n",
       "      <td>1.0</td>\n",
       "      <td>292.549915</td>\n",
       "      <td>0.0</td>\n",
       "      <td>0.0</td>\n",
       "      <td>0.0</td>\n",
       "      <td>0.0</td>\n",
       "      <td>0.0</td>\n",
       "      <td>0.0</td>\n",
       "      <td>...</td>\n",
       "      <td>0.0</td>\n",
       "      <td>0.0</td>\n",
       "      <td>0.0</td>\n",
       "      <td>8.588037</td>\n",
       "      <td>1.0</td>\n",
       "      <td>0.0</td>\n",
       "      <td>0.0</td>\n",
       "      <td>0.0</td>\n",
       "      <td>0.0</td>\n",
       "      <td>0.0</td>\n",
       "    </tr>\n",
       "    <tr>\n",
       "      <th>std</th>\n",
       "      <td>0.0</td>\n",
       "      <td>170.751281</td>\n",
       "      <td>0.0</td>\n",
       "      <td>174.523129</td>\n",
       "      <td>0.0</td>\n",
       "      <td>0.0</td>\n",
       "      <td>0.0</td>\n",
       "      <td>0.0</td>\n",
       "      <td>0.0</td>\n",
       "      <td>0.0</td>\n",
       "      <td>...</td>\n",
       "      <td>0.0</td>\n",
       "      <td>0.0</td>\n",
       "      <td>0.0</td>\n",
       "      <td>4.636707</td>\n",
       "      <td>0.0</td>\n",
       "      <td>0.0</td>\n",
       "      <td>0.0</td>\n",
       "      <td>0.0</td>\n",
       "      <td>0.0</td>\n",
       "      <td>0.0</td>\n",
       "    </tr>\n",
       "    <tr>\n",
       "      <th>min</th>\n",
       "      <td>0.0</td>\n",
       "      <td>1.000000</td>\n",
       "      <td>1.0</td>\n",
       "      <td>0.000000</td>\n",
       "      <td>0.0</td>\n",
       "      <td>0.0</td>\n",
       "      <td>0.0</td>\n",
       "      <td>0.0</td>\n",
       "      <td>0.0</td>\n",
       "      <td>0.0</td>\n",
       "      <td>...</td>\n",
       "      <td>0.0</td>\n",
       "      <td>0.0</td>\n",
       "      <td>0.0</td>\n",
       "      <td>-1.650000</td>\n",
       "      <td>1.0</td>\n",
       "      <td>0.0</td>\n",
       "      <td>0.0</td>\n",
       "      <td>0.0</td>\n",
       "      <td>0.0</td>\n",
       "      <td>0.0</td>\n",
       "    </tr>\n",
       "    <tr>\n",
       "      <th>25%</th>\n",
       "      <td>0.0</td>\n",
       "      <td>148.500000</td>\n",
       "      <td>1.0</td>\n",
       "      <td>144.500000</td>\n",
       "      <td>0.0</td>\n",
       "      <td>0.0</td>\n",
       "      <td>0.0</td>\n",
       "      <td>0.0</td>\n",
       "      <td>0.0</td>\n",
       "      <td>0.0</td>\n",
       "      <td>...</td>\n",
       "      <td>0.0</td>\n",
       "      <td>0.0</td>\n",
       "      <td>0.0</td>\n",
       "      <td>5.345000</td>\n",
       "      <td>1.0</td>\n",
       "      <td>0.0</td>\n",
       "      <td>0.0</td>\n",
       "      <td>0.0</td>\n",
       "      <td>0.0</td>\n",
       "      <td>0.0</td>\n",
       "    </tr>\n",
       "    <tr>\n",
       "      <th>50%</th>\n",
       "      <td>0.0</td>\n",
       "      <td>296.000000</td>\n",
       "      <td>1.0</td>\n",
       "      <td>287.000000</td>\n",
       "      <td>0.0</td>\n",
       "      <td>0.0</td>\n",
       "      <td>0.0</td>\n",
       "      <td>0.0</td>\n",
       "      <td>0.0</td>\n",
       "      <td>0.0</td>\n",
       "      <td>...</td>\n",
       "      <td>0.0</td>\n",
       "      <td>0.0</td>\n",
       "      <td>0.0</td>\n",
       "      <td>8.760000</td>\n",
       "      <td>1.0</td>\n",
       "      <td>0.0</td>\n",
       "      <td>0.0</td>\n",
       "      <td>0.0</td>\n",
       "      <td>0.0</td>\n",
       "      <td>0.0</td>\n",
       "    </tr>\n",
       "    <tr>\n",
       "      <th>75%</th>\n",
       "      <td>0.0</td>\n",
       "      <td>443.500000</td>\n",
       "      <td>1.0</td>\n",
       "      <td>446.500000</td>\n",
       "      <td>0.0</td>\n",
       "      <td>0.0</td>\n",
       "      <td>0.0</td>\n",
       "      <td>0.0</td>\n",
       "      <td>0.0</td>\n",
       "      <td>0.0</td>\n",
       "      <td>...</td>\n",
       "      <td>0.0</td>\n",
       "      <td>0.0</td>\n",
       "      <td>0.0</td>\n",
       "      <td>12.015000</td>\n",
       "      <td>1.0</td>\n",
       "      <td>0.0</td>\n",
       "      <td>0.0</td>\n",
       "      <td>0.0</td>\n",
       "      <td>0.0</td>\n",
       "      <td>0.0</td>\n",
       "    </tr>\n",
       "    <tr>\n",
       "      <th>max</th>\n",
       "      <td>0.0</td>\n",
       "      <td>591.000000</td>\n",
       "      <td>1.0</td>\n",
       "      <td>591.000000</td>\n",
       "      <td>0.0</td>\n",
       "      <td>0.0</td>\n",
       "      <td>0.0</td>\n",
       "      <td>0.0</td>\n",
       "      <td>0.0</td>\n",
       "      <td>0.0</td>\n",
       "      <td>...</td>\n",
       "      <td>0.0</td>\n",
       "      <td>0.0</td>\n",
       "      <td>0.0</td>\n",
       "      <td>19.780001</td>\n",
       "      <td>1.0</td>\n",
       "      <td>0.0</td>\n",
       "      <td>0.0</td>\n",
       "      <td>0.0</td>\n",
       "      <td>0.0</td>\n",
       "      <td>0.0</td>\n",
       "    </tr>\n",
       "  </tbody>\n",
       "</table>\n",
       "<p>8 rows × 35 columns</p>\n",
       "</div>"
      ],
      "text/plain": [
       "         per        nseg  icalc      outseg  iupseg  iprior  nstrpts   flow  \\\n",
       "count  591.0  591.000000  591.0  591.000000   591.0   591.0    591.0  591.0   \n",
       "mean     0.0  296.000000    1.0  292.549915     0.0     0.0      0.0    0.0   \n",
       "std      0.0  170.751281    0.0  174.523129     0.0     0.0      0.0    0.0   \n",
       "min      0.0    1.000000    1.0    0.000000     0.0     0.0      0.0    0.0   \n",
       "25%      0.0  148.500000    1.0  144.500000     0.0     0.0      0.0    0.0   \n",
       "50%      0.0  296.000000    1.0  287.000000     0.0     0.0      0.0    0.0   \n",
       "75%      0.0  443.500000    1.0  446.500000     0.0     0.0      0.0    0.0   \n",
       "max      0.0  591.000000    1.0  591.000000     0.0     0.0      0.0    0.0   \n",
       "\n",
       "       runoff   etsw  ...   uhc1  hcond2  thickm2      elevdn  width2  depth2  \\\n",
       "count   591.0  591.0  ...  591.0   591.0    591.0  591.000000   591.0   591.0   \n",
       "mean      0.0    0.0  ...    0.0     0.0      0.0    8.588037     1.0     0.0   \n",
       "std       0.0    0.0  ...    0.0     0.0      0.0    4.636707     0.0     0.0   \n",
       "min       0.0    0.0  ...    0.0     0.0      0.0   -1.650000     1.0     0.0   \n",
       "25%       0.0    0.0  ...    0.0     0.0      0.0    5.345000     1.0     0.0   \n",
       "50%       0.0    0.0  ...    0.0     0.0      0.0    8.760000     1.0     0.0   \n",
       "75%       0.0    0.0  ...    0.0     0.0      0.0   12.015000     1.0     0.0   \n",
       "max       0.0    0.0  ...    0.0     0.0      0.0   19.780001     1.0     0.0   \n",
       "\n",
       "       thts2  thti2   eps2   uhc2  \n",
       "count  591.0  591.0  591.0  591.0  \n",
       "mean     0.0    0.0    0.0    0.0  \n",
       "std      0.0    0.0    0.0    0.0  \n",
       "min      0.0    0.0    0.0    0.0  \n",
       "25%      0.0    0.0    0.0    0.0  \n",
       "50%      0.0    0.0    0.0    0.0  \n",
       "75%      0.0    0.0    0.0    0.0  \n",
       "max      0.0    0.0    0.0    0.0  \n",
       "\n",
       "[8 rows x 35 columns]"
      ]
     },
     "execution_count": 110,
     "metadata": {},
     "output_type": "execute_result"
    }
   ],
   "source": [
    "DF_Sgm.describe()"
   ]
  },
  {
   "cell_type": "markdown",
   "id": "cc0bab31",
   "metadata": {},
   "source": [
    "Most columns aren't interesting. Let's plot the interesting ones."
   ]
  },
  {
   "cell_type": "code",
   "execution_count": null,
   "id": "01725edc",
   "metadata": {},
   "outputs": [],
   "source": []
  },
  {
   "cell_type": "markdown",
   "id": "402356eb",
   "metadata": {},
   "source": [
    "# Load MSW"
   ]
  },
  {
   "cell_type": "markdown",
   "id": "ed45d0e3",
   "metadata": {},
   "source": [
    "## 1st attempt"
   ]
  },
  {
   "cell_type": "code",
   "execution_count": null,
   "id": "9e0bb929",
   "metadata": {},
   "outputs": [],
   "source": [
    "PRJ_MSW = {'cap': PRJ_regrid.copy()['cap'], 'extra': PRJ_regrid.copy()['extra']}"
   ]
  },
  {
   "cell_type": "markdown",
   "id": "7fdd4744",
   "metadata": {},
   "source": [
    "PRJ_regrid['cap'].keys()\n",
    "for i in PRJ_regrid['cap'].keys():\n",
    "    print(f\" === {i} ===\")\n",
    "    print(PRJ_regrid['cap'][i], \"\\n\")\n",
    "x_CeCes, y_CeCes = UIM.get_CeCes_from_INI(MdlN)\n",
    "PRJ['cap']['urban_area'].x.shape[0] / PRJ_regrid['cap']['urban_area'].x.shape[0]\n",
    "len(x_CeCes)\n",
    "PRJ['cap']['urban_area'].sel(x=slice(Xmin, Xmax), y=slice(Ymax, Ymin)).plot(cmap='Spectral')\n",
    "(PRJ['cap']['urban_area'].sel(x=slice(Xmin, Xmax), y=slice(Ymax, Ymin)) / PRJ_regrid['cap']['urban_area']).plot(cmap='Spectral')\n",
    "PRJ_regrid['cap']['urban_area'].plot(cmap='Spectral')"
   ]
  },
  {
   "cell_type": "code",
   "execution_count": null,
   "id": "d1569303",
   "metadata": {},
   "outputs": [],
   "source": [
    "try:\n",
    "    MSW_Mdl = msw.MetaSwapModel.from_imod5_data(PRJ_MSW, MF6_DIS, times)\n",
    "    print(\"🟢 - MetaSwap model created successfully!\")\n",
    "except Exception as e:\n",
    "    print(f\"Error creating MetaSwap model: {e}\")\n",
    "    MSW_Mdl = None"
   ]
  },
  {
   "cell_type": "markdown",
   "id": "417884f6",
   "metadata": {},
   "source": [
    "## 2nd attempt"
   ]
  },
  {
   "cell_type": "markdown",
   "id": "696a3097",
   "metadata": {},
   "source": [
    "### Fix mete_grid.inp relative paths\n",
    "MSW.MetaSwapModel.from_imod5_data is struggling with relative paths, so we'll convert them to full paths. #666 caution, if they're already full paths, this may cause an error."
   ]
  },
  {
   "cell_type": "code",
   "execution_count": null,
   "id": "c05c28be",
   "metadata": {},
   "outputs": [],
   "source": [
    "# Replace the mete_grid.inp path in the PRJ_MSW_for_MSW dictionary\n",
    "PRJ['extra']['paths'][2][0] = UIM.mete_grid_Cvt_to_AbsPa(Pa_PRJ, PRJ)"
   ]
  },
  {
   "cell_type": "markdown",
   "id": "808649bd",
   "metadata": {},
   "source": [
    "### Finally load MSW Sim"
   ]
  },
  {
   "cell_type": "code",
   "execution_count": null,
   "id": "5e9cc8dc",
   "metadata": {},
   "outputs": [],
   "source": [
    "# Create the MetaSwap model\n",
    "MSW_Mdl = msw.MetaSwapModel.from_imod5_data(PRJ_MSW, MF6_DIS, times)\n",
    "print(\"🟢 - MetaSwap model loaded successfully!\")"
   ]
  },
  {
   "cell_type": "markdown",
   "id": "0555966b",
   "metadata": {},
   "source": [
    "# Connect MF6 to MetaSWAP"
   ]
  },
  {
   "cell_type": "markdown",
   "id": "36a467f1",
   "metadata": {},
   "source": [
    "## Clip models"
   ]
  },
  {
   "cell_type": "code",
   "execution_count": null,
   "id": "9cd64d0a",
   "metadata": {},
   "outputs": [],
   "source": [
    "Sim_MF6_AoI = Sim_MF6.clip_box(x_min=Xmin, x_max=Xmax, y_min=Ymin, y_max=Ymax)"
   ]
  },
  {
   "cell_type": "code",
   "execution_count": null,
   "id": "46d68fa4",
   "metadata": {},
   "outputs": [],
   "source": [
    "MF6_Mdl_AoI = Sim_MF6_AoI['imported_model']"
   ]
  },
  {
   "cell_type": "code",
   "execution_count": null,
   "id": "d176a143",
   "metadata": {},
   "outputs": [],
   "source": [
    "MSW_Mdl_AoI = MSW_Mdl.clip_box(x_min=Xmin, x_max=Xmax, y_min=Ymin, y_max=Ymax)"
   ]
  },
  {
   "cell_type": "code",
   "execution_count": null,
   "id": "a7d4565c",
   "metadata": {},
   "outputs": [],
   "source": [
    "print(f\"MF6 Model AoI DIS shape: {MF6_Mdl_AoI['dis'].dataset.sizes}\")\n",
    "print(f\"MSW Model AoI grid shape: {MSW_Mdl_AoI['grid'].dataset.sizes}\")\n",
    "print(\"✅ Both models successfully clipped to Area of Interest with compatible discretization!\")"
   ]
  },
  {
   "cell_type": "code",
   "execution_count": null,
   "id": "3248a637",
   "metadata": {},
   "outputs": [],
   "source": [
    "MF6_Mdl_AoI['dis'].dataset.equals(MF6_Mdl['dis'].dataset)"
   ]
  },
  {
   "cell_type": "markdown",
   "id": "fd536986",
   "metadata": {},
   "source": [
    "clip_box doesn't clip the packages I clipped beforehand, but it clips non raster-like packages like WEL and removes packages that are not in the AoI."
   ]
  },
  {
   "cell_type": "markdown",
   "id": "d06f9f40",
   "metadata": {},
   "source": [
    "#### Sense check"
   ]
  },
  {
   "cell_type": "code",
   "execution_count": null,
   "id": "20d04445",
   "metadata": {},
   "outputs": [],
   "source": [
    "Xmin, Xmax, Ymin, Ymax"
   ]
  },
  {
   "cell_type": "code",
   "execution_count": null,
   "id": "edd14e47",
   "metadata": {},
   "outputs": [],
   "source": [
    "MF6_Mdl_AoI['dis']['x'].min().values, MF6_Mdl_AoI['dis']['x'].max().values, \\\n",
    "MF6_Mdl_AoI['dis']['y'].min().values, MF6_Mdl_AoI['dis']['y'].max().values"
   ]
  },
  {
   "cell_type": "markdown",
   "id": "b25e60d8",
   "metadata": {},
   "source": [
    "Makes sense as those are cell centers."
   ]
  },
  {
   "cell_type": "markdown",
   "id": "176414e0",
   "metadata": {},
   "source": [
    "## Load models into memory"
   ]
  },
  {
   "cell_type": "code",
   "execution_count": null,
   "id": "d5c914df",
   "metadata": {},
   "outputs": [],
   "source": [
    "for pkg in MF6_Mdl_AoI.values():\n",
    "    pkg.dataset.load()\n",
    "\n",
    "for pkg in MSW_Mdl_AoI.values():\n",
    "    pkg.dataset.load()"
   ]
  },
  {
   "cell_type": "markdown",
   "id": "e5777376",
   "metadata": {},
   "source": [
    "## Cleanup"
   ]
  },
  {
   "cell_type": "markdown",
   "id": "8b2cb255",
   "metadata": {},
   "source": [
    "### MF6 mask"
   ]
  },
  {
   "cell_type": "code",
   "execution_count": null,
   "id": "aa5d3b15",
   "metadata": {},
   "outputs": [],
   "source": [
    "# Create mask from current regridded model (not the old one)\n",
    "mask = MF6_Mdl_AoI.domain"
   ]
  },
  {
   "cell_type": "code",
   "execution_count": null,
   "id": "11cfc8cc",
   "metadata": {},
   "outputs": [],
   "source": [
    "mask"
   ]
  },
  {
   "cell_type": "code",
   "execution_count": null,
   "id": "38983eb0",
   "metadata": {},
   "outputs": [],
   "source": [
    "Sim_MF6_AoI.mask_all_models(mask)\n",
    "DIS_AoI = MF6_Mdl_AoI[\"dis\"]"
   ]
  },
  {
   "cell_type": "markdown",
   "id": "c62373b4",
   "metadata": {},
   "source": [
    "### Check if the packages are the same"
   ]
  },
  {
   "cell_type": "code",
   "execution_count": null,
   "id": "7caf8389",
   "metadata": {},
   "outputs": [],
   "source": [
    "MF6_Mdl_AoI = Sim_MF6_AoI['imported_model']"
   ]
  },
  {
   "cell_type": "code",
   "execution_count": null,
   "id": "a0c7f62c",
   "metadata": {},
   "outputs": [],
   "source": [
    "# Compare the keys of both models\n",
    "keys_equal = MF6_Mdl.keys() == MF6_Mdl_AoI.keys()\n",
    "print(f\"Are the keys identical? {keys_equal}\")\n",
    "print()\n",
    "\n",
    "# Get the actual keys for detailed comparison\n",
    "original_keys = set(MF6_Mdl.keys())\n",
    "aoi_keys = set(MF6_Mdl_AoI.keys())\n",
    "\n",
    "print(\"=== DETAILED KEY COMPARISON ===\")\n",
    "print(f\"Original model has {len(original_keys)} packages:\")\n",
    "for key in sorted(original_keys):\n",
    "    print(f\"  - {key}\")\n",
    "\n",
    "print(f\"\\nAoI model has {len(aoi_keys)} packages:\")\n",
    "for key in sorted(aoi_keys):\n",
    "    print(f\"  - {key}\")\n",
    "\n",
    "# Find differences\n",
    "missing_in_aoi = original_keys - aoi_keys\n",
    "extra_in_aoi = aoi_keys - original_keys\n",
    "common_keys = original_keys & aoi_keys\n",
    "\n",
    "print(f\"\\n=== DIFFERENCES ===\")\n",
    "if missing_in_aoi:\n",
    "    print(f\"Packages REMOVED in AoI model ({len(missing_in_aoi)}):\")\n",
    "    for key in sorted(missing_in_aoi):\n",
    "        print(f\"  ❌ {key}\")\n",
    "        # Try to understand why it was removed\n",
    "        try:\n",
    "            pkg = MF6_Mdl[key]\n",
    "            if hasattr(pkg, 'dataset') and hasattr(pkg.dataset, 'sizes'):\n",
    "                print(f\"     Size in original: {dict(pkg.dataset.sizes)}\")\n",
    "        except:\n",
    "            pass\n",
    "else:\n",
    "    print(\"✅ No packages removed in AoI model\")\n",
    "\n",
    "if extra_in_aoi:\n",
    "    print(f\"\\nPackages ADDED in AoI model ({len(extra_in_aoi)}):\")\n",
    "    for key in sorted(extra_in_aoi):\n",
    "        print(f\"  ➕ {key}\")\n",
    "else:\n",
    "    print(\"✅ No packages added in AoI model\")\n",
    "\n",
    "print(f\"\\nCommon packages: {len(common_keys)}/{len(original_keys)} ({100*len(common_keys)/len(original_keys):.1f}%)\")\n",
    "\n",
    "# Show why packages might be missing\n",
    "if missing_in_aoi:\n",
    "    print(f\"\\n=== WHY PACKAGES WERE REMOVED ===\")\n",
    "    print(\"Packages are typically removed from AoI models when:\")\n",
    "    print(\"1. They have no data within the clipped boundary\")\n",
    "    print(\"2. All their stress points/cells fall outside the AoI\")\n",
    "    print(\"3. The clip_box() method filters out empty packages\" \\\n",
    "    \"\")\n",
    "    print(\"\\nThis is normal behavior and indicates successful spatial filtering!\")"
   ]
  },
  {
   "cell_type": "code",
   "execution_count": null,
   "id": "c773321e",
   "metadata": {},
   "outputs": [],
   "source": [
    "# Analyze the data content of common packages\n",
    "print(\"=== PACKAGE DATA COMPARISON ===\")\n",
    "print(\"Comparing spatial dimensions and data ranges for common packages:\\n\")\n",
    "\n",
    "for key in sorted(common_keys):\n",
    "    print(f\"📦 {key}:\")\n",
    "    try:\n",
    "        orig_pkg = MF6_Mdl[key] \n",
    "        aoi_pkg = MF6_Mdl_AoI[key]\n",
    "        \n",
    "        # Compare dataset sizes\n",
    "        if hasattr(orig_pkg, 'dataset') and hasattr(aoi_pkg, 'dataset'):\n",
    "            orig_sizes = dict(orig_pkg.dataset.sizes)\n",
    "            aoi_sizes = dict(aoi_pkg.dataset.sizes)\n",
    "            \n",
    "            print(f\"   Original sizes: {orig_sizes}\")\n",
    "            print(f\"   AoI sizes:      {aoi_sizes}\")\n",
    "            \n",
    "            # Calculate reduction ratios\n",
    "            for dim in ['x', 'y']:\n",
    "                if dim in orig_sizes and dim in aoi_sizes:\n",
    "                    reduction = aoi_sizes[dim] / orig_sizes[dim]\n",
    "                    print(f\"   {dim} reduction: {reduction:.3f} ({aoi_sizes[dim]}/{orig_sizes[dim]} cells)\")\n",
    "            \n",
    "            # Check if data values are the same (for first few values)\n",
    "            if hasattr(orig_pkg.dataset, 'data_vars') and hasattr(aoi_pkg.dataset, 'data_vars'):\n",
    "                common_vars = set(orig_pkg.dataset.data_vars) & set(aoi_pkg.dataset.data_vars)\n",
    "                if common_vars:\n",
    "                    var = list(common_vars)[0]  # Check first variable\n",
    "                    orig_data = orig_pkg.dataset[var]\n",
    "                    aoi_data = aoi_pkg.dataset[var]\n",
    "                    \n",
    "                    # Check if AoI data is a subset of original\n",
    "                    if 'x' in orig_data.dims and 'y' in orig_data.dims:\n",
    "                        print(f\"   Variable '{var}': Data appears to be spatially clipped ✓\")\n",
    "                    else:\n",
    "                        print(f\"   Variable '{var}': Non-spatial data\")\n",
    "        else:\n",
    "            print(\"   No dataset attributes to compare\")\n",
    "            \n",
    "    except Exception as e:\n",
    "        print(f\"   ⚠️  Error comparing {key}: {e}\")\n",
    "    \n",
    "    print()  # Empty line for readability"
   ]
  },
  {
   "cell_type": "code",
   "execution_count": null,
   "id": "7feb3c13",
   "metadata": {},
   "outputs": [],
   "source": [
    "# Compare coordinate bounds to verify clipping worked correctly\n",
    "print(\"=== COORDINATE BOUNDS COMPARISON ===\")\n",
    "print(f\"Target clipping bounds: X({Xmin:.1f}, {Xmax:.1f}), Y({Ymin:.1f}, {Ymax:.1f})\")\n",
    "print()\n",
    "\n",
    "# Check DIS package bounds (most reliable for spatial extent)\n",
    "if 'dis' in common_keys:\n",
    "    try:\n",
    "        orig_dis = MF6_Mdl['dis']\n",
    "        aoi_dis = MF6_Mdl_AoI['dis']\n",
    "        \n",
    "        # Original bounds\n",
    "        orig_x_min, orig_x_max = float(orig_dis.dataset.x.min()), float(orig_dis.dataset.x.max())\n",
    "        orig_y_min, orig_y_max = float(orig_dis.dataset.y.min()), float(orig_dis.dataset.y.max())\n",
    "        \n",
    "        # AoI bounds  \n",
    "        aoi_x_min, aoi_x_max = float(aoi_dis.dataset.x.min()), float(aoi_dis.dataset.x.max())\n",
    "        aoi_y_min, aoi_y_max = float(aoi_dis.dataset.y.min()), float(aoi_dis.dataset.y.max())\n",
    "        \n",
    "        print(\"Original model bounds:\")\n",
    "        print(f\"   X: {orig_x_min:.1f} to {orig_x_max:.1f} (range: {orig_x_max-orig_x_min:.1f})\")\n",
    "        print(f\"   Y: {orig_y_min:.1f} to {orig_y_max:.1f} (range: {orig_y_max-orig_y_min:.1f})\")\n",
    "        \n",
    "        print(\"\\nAoI model bounds:\")\n",
    "        print(f\"   X: {aoi_x_min:.1f} to {aoi_x_max:.1f} (range: {aoi_x_max-aoi_x_min:.1f})\")\n",
    "        print(f\"   Y: {aoi_y_min:.1f} to {aoi_y_max:.1f} (range: {aoi_y_max-aoi_y_min:.1f})\")\n",
    "        \n",
    "        # Verify clipping worked as expected\n",
    "        x_within_bounds = (aoi_x_min >= Xmin-dx) and (aoi_x_max <= Xmax+dx)\n",
    "        y_within_bounds = (aoi_y_min >= Ymin-dy) and (aoi_y_max <= Ymax+dy)\n",
    "        \n",
    "        print(f\"\\nClipping verification:\")\n",
    "        print(f\"   X bounds within target: {'✓' if x_within_bounds else '✗'}\")\n",
    "        print(f\"   Y bounds within target: {'✓' if y_within_bounds else '✗'}\")\n",
    "        \n",
    "        if x_within_bounds and y_within_bounds:\n",
    "            print(\"   🎉 Clipping successful!\")\n",
    "        else:\n",
    "            print(\"   ⚠️  Clipping may not have worked as expected\")\n",
    "            \n",
    "        # Calculate area reduction\n",
    "        orig_area = (orig_x_max - orig_x_min) * (orig_y_max - orig_y_min)\n",
    "        aoi_area = (aoi_x_max - aoi_x_min) * (aoi_y_max - aoi_y_min)\n",
    "        area_ratio = aoi_area / orig_area\n",
    "        \n",
    "        print(f\"\\nArea reduction:\")\n",
    "        print(f\"   Original area: {orig_area:,.0f} m²\")\n",
    "        print(f\"   AoI area: {aoi_area:,.0f} m²\") \n",
    "        print(f\"   Ratio: {area_ratio:.4f} ({area_ratio*100:.2f}%)\")\n",
    "        \n",
    "    except Exception as e:\n",
    "        print(f\"Error comparing DIS bounds: {e}\")\n",
    "else:\n",
    "    print(\"DIS package not found in common keys - cannot compare bounds\")"
   ]
  },
  {
   "cell_type": "code",
   "execution_count": null,
   "id": "876f696c",
   "metadata": {},
   "outputs": [],
   "source": [
    "# Print the names of common packages\n",
    "print(\"=== COMMON PACKAGES ===\")\n",
    "print(f\"These {len(common_keys)} packages are present in both models:\")\n",
    "for i, key in enumerate(sorted(common_keys), 1):\n",
    "    print(f\"{i:2d}. {key}\")"
   ]
  },
  {
   "cell_type": "code",
   "execution_count": null,
   "id": "a50ff8dd",
   "metadata": {},
   "outputs": [],
   "source": [
    "MF6_Mdl_AoI.keys()"
   ]
  },
  {
   "cell_type": "code",
   "execution_count": null,
   "id": "973dbb2f",
   "metadata": {},
   "outputs": [],
   "source": [
    "MF6_Mdl_AoI['chd_merged']['head'].isel(time=0, layer=0).plot.imshow(cmap='viridis')"
   ]
  },
  {
   "cell_type": "code",
   "execution_count": null,
   "id": "960fe367",
   "metadata": {},
   "outputs": [],
   "source": [
    "MF6_Mdl_AoI['chd_merged']['head'].isel(time=0, layer=0, x=range(10), y=range(10)).plot.imshow(cmap='viridis')"
   ]
  },
  {
   "cell_type": "markdown",
   "id": "2ebaac9a",
   "metadata": {},
   "source": [
    "Seems like CHD has finally been applied correctly!"
   ]
  },
  {
   "cell_type": "markdown",
   "id": "736a57a5",
   "metadata": {},
   "source": [
    "This is ok. The only missing package is one of the WEL packages, which has no items in the model area. Also 150 HFB packages/lines have been removed cause none of them intersects the domain."
   ]
  },
  {
   "cell_type": "markdown",
   "id": "0dcc5538",
   "metadata": {},
   "source": [
    "### Cleanup MF6"
   ]
  },
  {
   "cell_type": "code",
   "execution_count": null,
   "id": "fdf51b5c",
   "metadata": {},
   "outputs": [],
   "source": [
    "try:\n",
    "    for Pkg in [i for i in MF6_Mdl_AoI.keys() if ('riv' in i.lower()) or ('drn' in i.lower())]:\n",
    "        MF6_Mdl_AoI[Pkg].cleanup(DIS_AoI)\n",
    "except:\n",
    "    print('Failed to cleanup packages. Proceeding without cleanup. Fingers crossed!')"
   ]
  },
  {
   "cell_type": "markdown",
   "id": "32c98f3a",
   "metadata": {},
   "source": [
    "### MSW"
   ]
  },
  {
   "cell_type": "code",
   "execution_count": null,
   "id": "c0cca65f",
   "metadata": {},
   "outputs": [],
   "source": [
    "# Cleanup MetaSWAP\n",
    "MSW_Mdl_AoI[\"grid\"].dataset[\"rootzone_depth\"] = MSW_Mdl_AoI[\"grid\"].dataset[\"rootzone_depth\"].fillna(1.0)"
   ]
  },
  {
   "cell_type": "markdown",
   "id": "dd14394f",
   "metadata": {},
   "source": [
    "111: Why are we doing this?"
   ]
  },
  {
   "cell_type": "markdown",
   "id": "39003970",
   "metadata": {},
   "source": [
    "## Couple"
   ]
  },
  {
   "cell_type": "code",
   "execution_count": null,
   "id": "0ef22db8",
   "metadata": {},
   "outputs": [],
   "source": [
    "metamod_coupling = primod.MetaModDriverCoupling(mf6_model=\"imported_model\", mf6_recharge_package=\"msw-rch\", mf6_wel_package=\"msw-sprinkling\")\n",
    "metamod = primod.MetaMod(MSW_Mdl_AoI, Sim_MF6_AoI, coupling_list=[metamod_coupling])"
   ]
  },
  {
   "cell_type": "code",
   "execution_count": null,
   "id": "72642cd2",
   "metadata": {},
   "outputs": [],
   "source": [
    "os.makedirs(d_Pa['Pa_MdlN'], exist_ok=True) # Create simulation directory if it doesn't exist"
   ]
  },
  {
   "cell_type": "code",
   "execution_count": null,
   "id": "88d16ed9",
   "metadata": {},
   "outputs": [],
   "source": [
    "# Use correct paths from d_Pa instead of hardcoded paths\n",
    "Pa_MF6_DLL = d_Pa['MF6_DLL']\n",
    "Pa_MSW_DLL = d_Pa['MSW_DLL']\n",
    "Pa_IMC = d_Pa['coupler_Exe']\n",
    "\n",
    "print(f\"✅ MF6 DLL path: {Pa_MF6_DLL}\")\n",
    "print(f\"✅ MSW DLL path: {Pa_MSW_DLL}\")\n",
    "print(f\"✅ Coupler exe path: {d_Pa['coupler_Exe']}\")"
   ]
  },
  {
   "cell_type": "code",
   "execution_count": null,
   "id": "112896a2",
   "metadata": {},
   "outputs": [],
   "source": [
    "metamod.write(directory=d_Pa['Pa_MdlN'], modflow6_dll=Pa_MF6_DLL, metaswap_dll=Pa_MSW_DLL, metaswap_dll_dependency=PDN(Pa_MF6_DLL))"
   ]
  },
  {
   "cell_type": "markdown",
   "id": "b00359cd",
   "metadata": {},
   "source": [
    "# Execute model"
   ]
  },
  {
   "cell_type": "code",
   "execution_count": null,
   "id": "f23b3f4a",
   "metadata": {},
   "outputs": [],
   "source": [
    "# with open(d_Pa['TOML'], 'a') as f: # Add enable_sprinkling = true to the end of the TOML file\n",
    "#     f.write('enable_sprinkling = true\\n')"
   ]
  },
  {
   "cell_type": "code",
   "execution_count": null,
   "id": "61ed37fb",
   "metadata": {},
   "outputs": [],
   "source": [
    "n = os.getcwd()"
   ]
  },
  {
   "cell_type": "code",
   "execution_count": null,
   "id": "872869d7",
   "metadata": {},
   "outputs": [],
   "source": [
    "U.mete_grid_add_missing_Cols(PJ(d_Pa['Pa_MdlN'], 'metaswap/mete_grid.inp'))"
   ]
  },
  {
   "cell_type": "code",
   "execution_count": null,
   "id": "990f769e",
   "metadata": {},
   "outputs": [],
   "source": [
    "# Execute the coupled model\n",
    "print(\"🚀 Starting coupled model execution...\")\n",
    "print(f\"Model directory: {d_Pa['Pa_MdlN']}\")\n",
    "\n",
    "# Check what files were written\n",
    "print(\"\\n📁 Checking written model files:\")\n",
    "if PE(d_Pa['Pa_MdlN']):\n",
    "    model_files = LD(d_Pa['Pa_MdlN'])\n",
    "    for file in sorted(model_files):\n",
    "        print(f\"  - {file}\")\n",
    "    \n",
    "    # Look for the main execution file (usually .toml or similar)\n",
    "    toml_files = [f for f in model_files if f.endswith('.toml')]\n",
    "    if toml_files:\n",
    "        print(f\"\\n🎯 Found TOML configuration file: {toml_files[0]}\")\n",
    "        main_toml = PJ(d_Pa['Pa_MdlN'], toml_files[0])\n",
    "        \n",
    "        # Since we have the DLL paths, we can try to execute using the iMOD coupler\n",
    "        # The iMOD coupler typically needs the .toml file as input\n",
    "        coupler_exe = Pa_IMC\n",
    "        \n",
    "        if PE(coupler_exe):\n",
    "            print(f\"✅ Found iMOD coupler: {coupler_exe}\")\n",
    "            print(f\"🔄 Executing: {coupler_exe} {main_toml}\")\n",
    "            \n",
    "            # Execute the model (this will take some time)\n",
    "            import subprocess\n",
    "            try:\n",
    "                result = subprocess.run([coupler_exe, main_toml], \n",
    "                                      cwd=d_Pa['Pa_MdlN'], \n",
    "                                      capture_output=True, \n",
    "                                      text=True,\n",
    "                                      timeout=3600)  # 1 hour timeout\n",
    "                \n",
    "                print(f\"Return code: {result.returncode}\")\n",
    "                if result.stdout:\n",
    "                    print(\"STDOUT:\")\n",
    "                    print(result.stdout)\n",
    "                if result.stderr:\n",
    "                    print(\"STDERR:\")\n",
    "                    print(result.stderr)\n",
    "                    \n",
    "                if result.returncode == 0:\n",
    "                    print(\"✅ Model execution completed successfully!\")\n",
    "                else:\n",
    "                    print(f\"❌ Model execution failed with return code {result.returncode}\")\n",
    "                    \n",
    "            except subprocess.TimeoutExpired:\n",
    "                print(\"⏰ Model execution timed out after 1 hour\")\n",
    "            except Exception as e:\n",
    "                print(f\"❌ Error executing model: {e}\")\n",
    "        else:\n",
    "            print(f\"❌ iMOD coupler not found at: {coupler_exe}\")\n",
    "            print(\"You may need to execute the model manually using the iMOD coupler\")\n",
    "    else:\n",
    "        print(\"❌ No TOML configuration file found\")\n",
    "else:\n",
    "    print(f\"❌ Model directory not found: {d_Pa['Pa_MdlN']}\")"
   ]
  },
  {
   "cell_type": "markdown",
   "id": "b5ee8110",
   "metadata": {},
   "source": [
    "# Junkyard"
   ]
  },
  {
   "cell_type": "code",
   "execution_count": null,
   "id": "539bae68",
   "metadata": {},
   "outputs": [],
   "source": [
    "# # Create flopy MF6 model with DIS package from existing MF6_DIS\n",
    "# def create_flopy_model_from_imod_dis(mf6_dis, model_name=\"gwf_model\"):\n",
    "#     \"\"\"\n",
    "#     Convert imod MF6_DIS to flopy MF6 model with DIS package\n",
    "#     \"\"\"\n",
    "#     # Extract data from imod DIS\n",
    "#     dataset = mf6_dis.dataset\n",
    "#     nlay, nrow, ncol = dataset.dims['layer'], dataset.dims['y'], dataset.dims['x']\n",
    "#     dx = abs(float(dataset.coords['dx'].values))\n",
    "#     dy = abs(float(dataset.coords['dy'].values))\n",
    "    \n",
    "#     # Get elevation arrays\n",
    "#     top_array = dataset['top'].values\n",
    "#     bottom_array = dataset['bottom'].values\n",
    "#     idomain_array = dataset['idomain'].values\n",
    "    \n",
    "#     # Calculate grid origin \n",
    "#     x_coords = dataset.coords['x'].values\n",
    "#     y_coords = dataset.coords['y'].values\n",
    "#     xorigin = x_coords[0] - dx/2\n",
    "#     yorigin = y_coords[-1] - dy/2\n",
    "    \n",
    "#     # Create flopy simulation\n",
    "#     model_ws = \"flopy_model\"\n",
    "#     os.makedirs(model_ws, exist_ok=True)\n",
    "    \n",
    "#     sim = mf6.MFSimulation(sim_name=\"mf6_sim\", sim_ws=model_ws, exe_name='mf6')\n",
    "#     tdis = mf6.ModflowTdis(sim, nper=1, perioddata=[(1.0, 1, 1.0)])\n",
    "#     ims = mf6.ModflowIms(sim, print_option='ALL')\n",
    "    \n",
    "#     # Create groundwater flow model\n",
    "#     gwf = mf6.MFModel(simulation=sim, model_type='gwf6', modelname=model_name)\n",
    "    \n",
    "#     # Create DIS package\n",
    "#     dis = mf6.ModflowGwfdis(\n",
    "#         gwf,\n",
    "#         nlay=nlay, nrow=nrow, ncol=ncol,\n",
    "#         delr=dx, delc=dy,\n",
    "#         top=top_array,\n",
    "#         botm=bottom_array,\n",
    "#         idomain=idomain_array,\n",
    "#         xorigin=xorigin,\n",
    "#         yorigin=yorigin\n",
    "#     )\n",
    "    \n",
    "#     print(f\"✓ Created flopy MF6 model with DIS:\")\n",
    "#     print(f\"  - Grid: {nlay} layers, {nrow} rows, {ncol} cols\")\n",
    "#     print(f\"  - Cell size: {dx} x {dy} m\")\n",
    "#     print(f\"  - Origin: ({xorigin:.0f}, {yorigin:.0f})\")\n",
    "#     print(f\"  - Workspace: {model_ws}\")\n",
    "    \n",
    "#     return sim, gwf, dis\n",
    "\n",
    "# # Create flopy model\n",
    "# sim, gwf, dis = create_flopy_model_from_imod_dis(MF6_DIS)\n",
    "\n",
    "# # Access the flopy grid object\n",
    "# flopy_grid = gwf.modelgrid\n",
    "# print(f\"\\\\n✓ Flopy StructuredGrid created:\")\n",
    "# print(f\"  - Shape: {flopy_grid.shape}\")\n",
    "# print(f\"  - Extent: {flopy_grid.extent}\")\n",
    "# print(f\"  - Grid ready for use with flopy tools!\")"
   ]
  }
 ],
 "metadata": {
  "kernelspec": {
   "display_name": "default",
   "language": "python",
   "name": "python3"
  },
  "language_info": {
   "codemirror_mode": {
    "name": "ipython",
    "version": 3
   },
   "file_extension": ".py",
   "mimetype": "text/x-python",
   "name": "python",
   "nbconvert_exporter": "python",
   "pygments_lexer": "ipython3",
   "version": "3.13.5"
  }
 },
 "nbformat": 4,
 "nbformat_minor": 5
}
