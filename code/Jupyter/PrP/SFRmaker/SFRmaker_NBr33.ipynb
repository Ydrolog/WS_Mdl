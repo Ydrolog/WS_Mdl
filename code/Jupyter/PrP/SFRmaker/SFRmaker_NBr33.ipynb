{
 "cells": [
  {
   "cell_type": "markdown",
   "id": "702e13cb",
   "metadata": {},
   "source": [
    "# Imports"
   ]
  },
  {
   "cell_type": "code",
   "execution_count": 1,
   "id": "e81b0924",
   "metadata": {},
   "outputs": [],
   "source": [
    "import matplotlib.pyplot as plt\n",
    "import numpy as np\n",
    "import os\n",
    "from os import listdir as LD, makedirs as MDs\n",
    "from os.path import join as PJ, basename as PBN, dirname as PDN, exists as PE\n",
    "import pandas as pd\n",
    "from datetime import datetime as DT"
   ]
  },
  {
   "cell_type": "code",
   "execution_count": null,
   "id": "705b8efe",
   "metadata": {},
   "outputs": [],
   "source": [
    "# from imod import msw\n",
    "# from imod import mf6\n",
    "# import primod"
   ]
  },
  {
   "cell_type": "code",
   "execution_count": 24,
   "id": "8d4d2d63",
   "metadata": {},
   "outputs": [],
   "source": [
    "import WS_Mdl.utils as U\n",
    "import WS_Mdl.utils_imod as UIM\n",
    "import WS_Mdl.calcs as C"
   ]
  },
  {
   "cell_type": "code",
   "execution_count": 4,
   "id": "23de4e0b",
   "metadata": {},
   "outputs": [
    {
     "data": {
      "text/plain": [
       "<module 'WS_Mdl.utils_imod' from 'C:\\\\Users\\\\Karam014\\\\OneDrive - Universiteit Utrecht\\\\WS_Mdl\\\\code\\\\WS_Mdl\\\\utils_imod.py'>"
      ]
     },
     "execution_count": 4,
     "metadata": {},
     "output_type": "execute_result"
    }
   ],
   "source": [
    "import importlib as IL\n",
    "IL.reload(U)\n",
    "IL.reload(UIM)"
   ]
  },
  {
   "cell_type": "code",
   "execution_count": 5,
   "id": "3f10ee69",
   "metadata": {},
   "outputs": [],
   "source": [
    "# Import sfrmaker and other necessary packages for SFR network creation\n",
    "import sfrmaker as sfr\n",
    "import geopandas as gpd\n",
    "import numpy as np"
   ]
  },
  {
   "cell_type": "code",
   "execution_count": 6,
   "id": "99d296c5",
   "metadata": {},
   "outputs": [],
   "source": [
    "import fiona"
   ]
  },
  {
   "cell_type": "code",
   "execution_count": 7,
   "metadata": {},
   "outputs": [
    {
     "data": {
      "text/plain": [
       "'0.11.3'"
      ]
     },
     "execution_count": 7,
     "metadata": {},
     "output_type": "execute_result"
    }
   ],
   "source": [
    "sfr.__version__"
   ]
  },
  {
   "cell_type": "code",
   "execution_count": 8,
   "id": "83068e94",
   "metadata": {},
   "outputs": [],
   "source": [
    "from WS_Mdl.utils import bold, style_reset"
   ]
  },
  {
   "cell_type": "markdown",
   "id": "6b789b34",
   "metadata": {},
   "source": [
    "# Options"
   ]
  },
  {
   "cell_type": "code",
   "execution_count": 9,
   "id": "f6b07653",
   "metadata": {},
   "outputs": [],
   "source": [
    "Pa_GPkg_1ry = r'C:\\OD\\WS_Mdl\\models\\NBr\\PrP\\SFR\\BrabantseDelta\\WBD_SW_NW_1ry.gpkg' \n",
    "Pa_GPkg = r\"C:\\OD\\WS_Mdl\\models\\NBr\\PrP\\SFR\\BrabantseDelta\\acceptatiedatabase.gdb\"\n",
    "detailed = 'hydroobject'\n",
    "primary = 'LEGGER_VASTGESTELD_WATERLOOP_CATEGORIE_A'"
   ]
  },
  {
   "cell_type": "code",
   "execution_count": 10,
   "id": "2201f84e",
   "metadata": {},
   "outputs": [],
   "source": [
    "MdlN = 'NBr33'"
   ]
  },
  {
   "cell_type": "code",
   "execution_count": 11,
   "id": "0da68110",
   "metadata": {},
   "outputs": [],
   "source": [
    "U.set_verbose(False)"
   ]
  },
  {
   "cell_type": "code",
   "execution_count": 12,
   "id": "8464b2aa",
   "metadata": {},
   "outputs": [],
   "source": [
    "# Load paths and variables from PRJ & INI\n",
    "d_Pa = U.get_MdlN_Pa(MdlN)\n",
    "Pa_PRJ = d_Pa['PRJ']\n",
    "Dir_PRJ = PDN(Pa_PRJ)\n",
    "d_INI = U.INI_to_d(d_Pa['INI'])\n",
    "Xmin, Ymin, Xmax, Ymax = [float(i) for i in d_INI['WINDOW'].split(',')]\n",
    "SP_date_1st, SP_date_last = [DT.strftime(DT.strptime(d_INI[f'{i}'], '%Y%m%d'), '%Y-%m-%d') for i in ['SDATE', 'EDATE']]\n",
    "dx = dy = float(d_INI['CELLSIZE'])"
   ]
  },
  {
   "cell_type": "markdown",
   "id": "2e36a0dd",
   "metadata": {},
   "source": [
    "# 1ry SW Nw PrP"
   ]
  },
  {
   "cell_type": "code",
   "execution_count": 13,
   "id": "85dc2dab",
   "metadata": {},
   "outputs": [],
   "source": [
    "GDF = gpd.read_file(Pa_GPkg, layer=primary)"
   ]
  },
  {
   "cell_type": "code",
   "execution_count": 14,
   "id": "05ccecb9",
   "metadata": {},
   "outputs": [
    {
     "data": {
      "text/html": [
       "<div>\n",
       "<style scoped>\n",
       "    .dataframe tbody tr th:only-of-type {\n",
       "        vertical-align: middle;\n",
       "    }\n",
       "\n",
       "    .dataframe tbody tr th {\n",
       "        vertical-align: top;\n",
       "    }\n",
       "\n",
       "    .dataframe thead th {\n",
       "        text-align: right;\n",
       "    }\n",
       "</style>\n",
       "<table border=\"1\" class=\"dataframe\">\n",
       "  <thead>\n",
       "    <tr style=\"text-align: right;\">\n",
       "      <th></th>\n",
       "      <th>CODE</th>\n",
       "      <th>WS_STATUS_L</th>\n",
       "      <th>WS_LEGGERCATEGORIE_L</th>\n",
       "      <th>WS_LEGGERBRON_L</th>\n",
       "      <th>DATUM_VASTGESTELD</th>\n",
       "      <th>LEGGER_KENMERK</th>\n",
       "      <th>WS_ONDERHOUDSPLICHTIGE_L</th>\n",
       "      <th>WS_ONDERHOUDSPLICHT_L</th>\n",
       "      <th>WS_BODEMBREEDTE_L</th>\n",
       "      <th>WS_BH_BOVENSTROOMS_L</th>\n",
       "      <th>...</th>\n",
       "      <th>WS_OMSCHRIJVING_TRAJECT_L</th>\n",
       "      <th>WS_LEGGERVERWIJZING_L</th>\n",
       "      <th>WS_HYPERLINK_PRO_OPW_L</th>\n",
       "      <th>WS_HYPERLINK_PRO_VW_L</th>\n",
       "      <th>WS_LEGGERBRON_OMW_L</th>\n",
       "      <th>WS_LEGGERBRON_WAW_L</th>\n",
       "      <th>WS_LEGGERBRON_COS_L</th>\n",
       "      <th>WS_HYPERLINK_BESLUIT_L</th>\n",
       "      <th>SHAPE_Length</th>\n",
       "      <th>geometry</th>\n",
       "    </tr>\n",
       "  </thead>\n",
       "  <tbody>\n",
       "    <tr>\n",
       "      <th>0</th>\n",
       "      <td>OVK12326</td>\n",
       "      <td>Vastgesteld, Besluit geverifieerd, ingemeten</td>\n",
       "      <td>Oppervlaktewaterlichamen</td>\n",
       "      <td>11UT009138, kernregistratie</td>\n",
       "      <td>2021-03-30 00:00:00+00:00</td>\n",
       "      <td>Waterschapsblad 2021, 4434</td>\n",
       "      <td>None</td>\n",
       "      <td>None</td>\n",
       "      <td>0.50</td>\n",
       "      <td>18.45</td>\n",
       "      <td>...</td>\n",
       "      <td>None</td>\n",
       "      <td>Niet van toepassing</td>\n",
       "      <td>None</td>\n",
       "      <td>None</td>\n",
       "      <td>None</td>\n",
       "      <td>None</td>\n",
       "      <td>None</td>\n",
       "      <td>None</td>\n",
       "      <td>103.786374</td>\n",
       "      <td>MULTILINESTRING ((82178.821 382139.593, 82180....</td>\n",
       "    </tr>\n",
       "    <tr>\n",
       "      <th>1</th>\n",
       "      <td>OVK21780</td>\n",
       "      <td>Vastgesteld, Besluit geverifieerd, ingemeten</td>\n",
       "      <td>Oppervlaktewaterlichamen</td>\n",
       "      <td>Oude legger de gewijzigde Cruijslandpolders 19...</td>\n",
       "      <td>2021-03-30 00:00:00+00:00</td>\n",
       "      <td>Waterschapsblad 2021, 4434</td>\n",
       "      <td>None</td>\n",
       "      <td>None</td>\n",
       "      <td>1.50</td>\n",
       "      <td>-1.64</td>\n",
       "      <td>...</td>\n",
       "      <td>None</td>\n",
       "      <td>Niet van toepassing</td>\n",
       "      <td>None</td>\n",
       "      <td>None</td>\n",
       "      <td>None</td>\n",
       "      <td>None</td>\n",
       "      <td>None</td>\n",
       "      <td>None</td>\n",
       "      <td>159.245366</td>\n",
       "      <td>MULTILINESTRING ((87960.311 397958.808, 87960....</td>\n",
       "    </tr>\n",
       "    <tr>\n",
       "      <th>2</th>\n",
       "      <td>OVK02233</td>\n",
       "      <td>Vastgesteld, Ligging gewijzigd, tabel ongewijzigd</td>\n",
       "      <td>Oppervlaktewaterlichamen</td>\n",
       "      <td>None</td>\n",
       "      <td>2021-03-30 00:00:00+00:00</td>\n",
       "      <td>Waterschapsblad 2021, 4434</td>\n",
       "      <td>None</td>\n",
       "      <td>None</td>\n",
       "      <td>0.60</td>\n",
       "      <td>2.78</td>\n",
       "      <td>...</td>\n",
       "      <td>None</td>\n",
       "      <td>Niet van toepassing</td>\n",
       "      <td>None</td>\n",
       "      <td>None</td>\n",
       "      <td>None</td>\n",
       "      <td>None</td>\n",
       "      <td>None</td>\n",
       "      <td>None</td>\n",
       "      <td>211.357944</td>\n",
       "      <td>MULTILINESTRING ((111124.488 396263.763, 11113...</td>\n",
       "    </tr>\n",
       "    <tr>\n",
       "      <th>3</th>\n",
       "      <td>OVK07620</td>\n",
       "      <td>Vastgesteld, Ligging gewijzigd, tabel ongewijzigd</td>\n",
       "      <td>Oppervlaktewaterlichamen</td>\n",
       "      <td>None</td>\n",
       "      <td>2021-03-30 00:00:00+00:00</td>\n",
       "      <td>Waterschapsblad 2021, 4434</td>\n",
       "      <td>None</td>\n",
       "      <td>None</td>\n",
       "      <td>0.90</td>\n",
       "      <td>-2.19</td>\n",
       "      <td>...</td>\n",
       "      <td>None</td>\n",
       "      <td>Niet van toepassing</td>\n",
       "      <td>None</td>\n",
       "      <td>None</td>\n",
       "      <td>None</td>\n",
       "      <td>None</td>\n",
       "      <td>None</td>\n",
       "      <td>None</td>\n",
       "      <td>565.948226</td>\n",
       "      <td>MULTILINESTRING ((104001.385 404319.356, 10400...</td>\n",
       "    </tr>\n",
       "    <tr>\n",
       "      <th>4</th>\n",
       "      <td>OVK05547</td>\n",
       "      <td>Vastgesteld, Besluit geverifieerd, ingemeten</td>\n",
       "      <td>Oppervlaktewaterlichamen</td>\n",
       "      <td>Oude legger De polders van Nieuw Vosmeer 1971,...</td>\n",
       "      <td>2021-03-30 00:00:00+00:00</td>\n",
       "      <td>Waterschapsblad 2021, 4434</td>\n",
       "      <td>None</td>\n",
       "      <td>None</td>\n",
       "      <td>1.77</td>\n",
       "      <td>-1.56</td>\n",
       "      <td>...</td>\n",
       "      <td>None</td>\n",
       "      <td>Niet van toepassing</td>\n",
       "      <td>None</td>\n",
       "      <td>None</td>\n",
       "      <td>None</td>\n",
       "      <td>None</td>\n",
       "      <td>None</td>\n",
       "      <td>None</td>\n",
       "      <td>1415.946440</td>\n",
       "      <td>MULTILINESTRING ((75046.141 401865.437, 75045....</td>\n",
       "    </tr>\n",
       "    <tr>\n",
       "      <th>...</th>\n",
       "      <td>...</td>\n",
       "      <td>...</td>\n",
       "      <td>...</td>\n",
       "      <td>...</td>\n",
       "      <td>...</td>\n",
       "      <td>...</td>\n",
       "      <td>...</td>\n",
       "      <td>...</td>\n",
       "      <td>...</td>\n",
       "      <td>...</td>\n",
       "      <td>...</td>\n",
       "      <td>...</td>\n",
       "      <td>...</td>\n",
       "      <td>...</td>\n",
       "      <td>...</td>\n",
       "      <td>...</td>\n",
       "      <td>...</td>\n",
       "      <td>...</td>\n",
       "      <td>...</td>\n",
       "      <td>...</td>\n",
       "      <td>...</td>\n",
       "    </tr>\n",
       "    <tr>\n",
       "      <th>12859</th>\n",
       "      <td>OVK03414</td>\n",
       "      <td>Vigerende legger</td>\n",
       "      <td>Oppervlaktewaterlichamen</td>\n",
       "      <td>None</td>\n",
       "      <td>2024-11-21 00:00:00+00:00</td>\n",
       "      <td>Waterschapsblad 2024, 25527</td>\n",
       "      <td>Gemeente Waalwijk</td>\n",
       "      <td>None</td>\n",
       "      <td>0.50</td>\n",
       "      <td>-0.06</td>\n",
       "      <td>...</td>\n",
       "      <td>None</td>\n",
       "      <td>Niet van toepassing</td>\n",
       "      <td>None</td>\n",
       "      <td>None</td>\n",
       "      <td>14IN032214</td>\n",
       "      <td>None</td>\n",
       "      <td>None</td>\n",
       "      <td>https://zoek.officielebekendmakingen.nl/wsb-20...</td>\n",
       "      <td>230.941879</td>\n",
       "      <td>MULTILINESTRING ((127154.852 413725.971, 12715...</td>\n",
       "    </tr>\n",
       "    <tr>\n",
       "      <th>12860</th>\n",
       "      <td>OVK08022</td>\n",
       "      <td>Vigerende legger</td>\n",
       "      <td>Oppervlaktewaterlichamen</td>\n",
       "      <td>None</td>\n",
       "      <td>2024-11-21 00:00:00+00:00</td>\n",
       "      <td>Waterschapsblad 2024, 25527</td>\n",
       "      <td>None</td>\n",
       "      <td>None</td>\n",
       "      <td>0.92</td>\n",
       "      <td>-0.98</td>\n",
       "      <td>...</td>\n",
       "      <td>None</td>\n",
       "      <td>Niet van toepassing</td>\n",
       "      <td>None</td>\n",
       "      <td>None</td>\n",
       "      <td>448580</td>\n",
       "      <td>None</td>\n",
       "      <td>None</td>\n",
       "      <td>https://zoek.officielebekendmakingen.nl/wsb-20...</td>\n",
       "      <td>562.094599</td>\n",
       "      <td>MULTILINESTRING ((106839.183 406980.574, 10685...</td>\n",
       "    </tr>\n",
       "    <tr>\n",
       "      <th>12861</th>\n",
       "      <td>OVK21240</td>\n",
       "      <td>Vigerende legger</td>\n",
       "      <td>Oppervlaktewaterlichamen</td>\n",
       "      <td>None</td>\n",
       "      <td>2024-11-21 00:00:00+00:00</td>\n",
       "      <td>Waterschapsblad 2024, 25527</td>\n",
       "      <td>None</td>\n",
       "      <td>None</td>\n",
       "      <td>1.00</td>\n",
       "      <td>1.50</td>\n",
       "      <td>...</td>\n",
       "      <td>None</td>\n",
       "      <td>Niet van toepassing</td>\n",
       "      <td>None</td>\n",
       "      <td>None</td>\n",
       "      <td>757483</td>\n",
       "      <td>None</td>\n",
       "      <td>waterloop was op de legger cat-C tijdens vergu...</td>\n",
       "      <td>https://zoek.officielebekendmakingen.nl/wsb-20...</td>\n",
       "      <td>405.070769</td>\n",
       "      <td>MULTILINESTRING ((98685.008 394485.756, 98680....</td>\n",
       "    </tr>\n",
       "    <tr>\n",
       "      <th>12862</th>\n",
       "      <td>OVK07617</td>\n",
       "      <td>Vigerende legger</td>\n",
       "      <td>Oppervlaktewaterlichamen</td>\n",
       "      <td>None</td>\n",
       "      <td>2024-11-21 00:00:00+00:00</td>\n",
       "      <td>Waterschapsblad 2024, 25527</td>\n",
       "      <td>None</td>\n",
       "      <td>None</td>\n",
       "      <td>0.80</td>\n",
       "      <td>-1.90</td>\n",
       "      <td>...</td>\n",
       "      <td>None</td>\n",
       "      <td>Niet van toepassing</td>\n",
       "      <td>None</td>\n",
       "      <td>None</td>\n",
       "      <td>IP800380 verbetering RWK</td>\n",
       "      <td>None</td>\n",
       "      <td>None</td>\n",
       "      <td>https://zoek.officielebekendmakingen.nl/wsb-20...</td>\n",
       "      <td>512.689618</td>\n",
       "      <td>MULTILINESTRING ((102983.931 404344.646, 10300...</td>\n",
       "    </tr>\n",
       "    <tr>\n",
       "      <th>12863</th>\n",
       "      <td>OVK02407</td>\n",
       "      <td>Vigerende legger</td>\n",
       "      <td>Oppervlaktewaterlichamen</td>\n",
       "      <td>None</td>\n",
       "      <td>2024-11-21 00:00:00+00:00</td>\n",
       "      <td>Waterschapsblad 2024, 25527</td>\n",
       "      <td>None</td>\n",
       "      <td>None</td>\n",
       "      <td>1.00</td>\n",
       "      <td>0.40</td>\n",
       "      <td>...</td>\n",
       "      <td>None</td>\n",
       "      <td>Niet van toepassing</td>\n",
       "      <td>None</td>\n",
       "      <td>None</td>\n",
       "      <td>453138</td>\n",
       "      <td>None</td>\n",
       "      <td>None</td>\n",
       "      <td>https://zoek.officielebekendmakingen.nl/wsb-20...</td>\n",
       "      <td>331.549309</td>\n",
       "      <td>MULTILINESTRING ((109561.648 399619.577, 10956...</td>\n",
       "    </tr>\n",
       "  </tbody>\n",
       "</table>\n",
       "<p>12864 rows × 55 columns</p>\n",
       "</div>"
      ],
      "text/plain": [
       "           CODE                                        WS_STATUS_L  \\\n",
       "0      OVK12326       Vastgesteld, Besluit geverifieerd, ingemeten   \n",
       "1      OVK21780       Vastgesteld, Besluit geverifieerd, ingemeten   \n",
       "2      OVK02233  Vastgesteld, Ligging gewijzigd, tabel ongewijzigd   \n",
       "3      OVK07620  Vastgesteld, Ligging gewijzigd, tabel ongewijzigd   \n",
       "4      OVK05547       Vastgesteld, Besluit geverifieerd, ingemeten   \n",
       "...         ...                                                ...   \n",
       "12859  OVK03414                                   Vigerende legger   \n",
       "12860  OVK08022                                   Vigerende legger   \n",
       "12861  OVK21240                                   Vigerende legger   \n",
       "12862  OVK07617                                   Vigerende legger   \n",
       "12863  OVK02407                                   Vigerende legger   \n",
       "\n",
       "           WS_LEGGERCATEGORIE_L  \\\n",
       "0      Oppervlaktewaterlichamen   \n",
       "1      Oppervlaktewaterlichamen   \n",
       "2      Oppervlaktewaterlichamen   \n",
       "3      Oppervlaktewaterlichamen   \n",
       "4      Oppervlaktewaterlichamen   \n",
       "...                         ...   \n",
       "12859  Oppervlaktewaterlichamen   \n",
       "12860  Oppervlaktewaterlichamen   \n",
       "12861  Oppervlaktewaterlichamen   \n",
       "12862  Oppervlaktewaterlichamen   \n",
       "12863  Oppervlaktewaterlichamen   \n",
       "\n",
       "                                         WS_LEGGERBRON_L  \\\n",
       "0                            11UT009138, kernregistratie   \n",
       "1      Oude legger de gewijzigde Cruijslandpolders 19...   \n",
       "2                                                   None   \n",
       "3                                                   None   \n",
       "4      Oude legger De polders van Nieuw Vosmeer 1971,...   \n",
       "...                                                  ...   \n",
       "12859                                               None   \n",
       "12860                                               None   \n",
       "12861                                               None   \n",
       "12862                                               None   \n",
       "12863                                               None   \n",
       "\n",
       "              DATUM_VASTGESTELD               LEGGER_KENMERK  \\\n",
       "0     2021-03-30 00:00:00+00:00   Waterschapsblad 2021, 4434   \n",
       "1     2021-03-30 00:00:00+00:00   Waterschapsblad 2021, 4434   \n",
       "2     2021-03-30 00:00:00+00:00   Waterschapsblad 2021, 4434   \n",
       "3     2021-03-30 00:00:00+00:00   Waterschapsblad 2021, 4434   \n",
       "4     2021-03-30 00:00:00+00:00   Waterschapsblad 2021, 4434   \n",
       "...                         ...                          ...   \n",
       "12859 2024-11-21 00:00:00+00:00  Waterschapsblad 2024, 25527   \n",
       "12860 2024-11-21 00:00:00+00:00  Waterschapsblad 2024, 25527   \n",
       "12861 2024-11-21 00:00:00+00:00  Waterschapsblad 2024, 25527   \n",
       "12862 2024-11-21 00:00:00+00:00  Waterschapsblad 2024, 25527   \n",
       "12863 2024-11-21 00:00:00+00:00  Waterschapsblad 2024, 25527   \n",
       "\n",
       "      WS_ONDERHOUDSPLICHTIGE_L WS_ONDERHOUDSPLICHT_L  WS_BODEMBREEDTE_L  \\\n",
       "0                         None                  None               0.50   \n",
       "1                         None                  None               1.50   \n",
       "2                         None                  None               0.60   \n",
       "3                         None                  None               0.90   \n",
       "4                         None                  None               1.77   \n",
       "...                        ...                   ...                ...   \n",
       "12859        Gemeente Waalwijk                  None               0.50   \n",
       "12860                     None                  None               0.92   \n",
       "12861                     None                  None               1.00   \n",
       "12862                     None                  None               0.80   \n",
       "12863                     None                  None               1.00   \n",
       "\n",
       "       WS_BH_BOVENSTROOMS_L  ...  WS_OMSCHRIJVING_TRAJECT_L  \\\n",
       "0                     18.45  ...                       None   \n",
       "1                     -1.64  ...                       None   \n",
       "2                      2.78  ...                       None   \n",
       "3                     -2.19  ...                       None   \n",
       "4                     -1.56  ...                       None   \n",
       "...                     ...  ...                        ...   \n",
       "12859                 -0.06  ...                       None   \n",
       "12860                 -0.98  ...                       None   \n",
       "12861                  1.50  ...                       None   \n",
       "12862                 -1.90  ...                       None   \n",
       "12863                  0.40  ...                       None   \n",
       "\n",
       "       WS_LEGGERVERWIJZING_L  WS_HYPERLINK_PRO_OPW_L  WS_HYPERLINK_PRO_VW_L  \\\n",
       "0        Niet van toepassing                    None                   None   \n",
       "1        Niet van toepassing                    None                   None   \n",
       "2        Niet van toepassing                    None                   None   \n",
       "3        Niet van toepassing                    None                   None   \n",
       "4        Niet van toepassing                    None                   None   \n",
       "...                      ...                     ...                    ...   \n",
       "12859    Niet van toepassing                    None                   None   \n",
       "12860    Niet van toepassing                    None                   None   \n",
       "12861    Niet van toepassing                    None                   None   \n",
       "12862    Niet van toepassing                    None                   None   \n",
       "12863    Niet van toepassing                    None                   None   \n",
       "\n",
       "            WS_LEGGERBRON_OMW_L  WS_LEGGERBRON_WAW_L  \\\n",
       "0                          None                 None   \n",
       "1                          None                 None   \n",
       "2                          None                 None   \n",
       "3                          None                 None   \n",
       "4                          None                 None   \n",
       "...                         ...                  ...   \n",
       "12859                14IN032214                 None   \n",
       "12860                    448580                 None   \n",
       "12861                    757483                 None   \n",
       "12862  IP800380 verbetering RWK                 None   \n",
       "12863                    453138                 None   \n",
       "\n",
       "                                     WS_LEGGERBRON_COS_L  \\\n",
       "0                                                   None   \n",
       "1                                                   None   \n",
       "2                                                   None   \n",
       "3                                                   None   \n",
       "4                                                   None   \n",
       "...                                                  ...   \n",
       "12859                                               None   \n",
       "12860                                               None   \n",
       "12861  waterloop was op de legger cat-C tijdens vergu...   \n",
       "12862                                               None   \n",
       "12863                                               None   \n",
       "\n",
       "                                  WS_HYPERLINK_BESLUIT_L  SHAPE_Length  \\\n",
       "0                                                   None    103.786374   \n",
       "1                                                   None    159.245366   \n",
       "2                                                   None    211.357944   \n",
       "3                                                   None    565.948226   \n",
       "4                                                   None   1415.946440   \n",
       "...                                                  ...           ...   \n",
       "12859  https://zoek.officielebekendmakingen.nl/wsb-20...    230.941879   \n",
       "12860  https://zoek.officielebekendmakingen.nl/wsb-20...    562.094599   \n",
       "12861  https://zoek.officielebekendmakingen.nl/wsb-20...    405.070769   \n",
       "12862  https://zoek.officielebekendmakingen.nl/wsb-20...    512.689618   \n",
       "12863  https://zoek.officielebekendmakingen.nl/wsb-20...    331.549309   \n",
       "\n",
       "                                                geometry  \n",
       "0      MULTILINESTRING ((82178.821 382139.593, 82180....  \n",
       "1      MULTILINESTRING ((87960.311 397958.808, 87960....  \n",
       "2      MULTILINESTRING ((111124.488 396263.763, 11113...  \n",
       "3      MULTILINESTRING ((104001.385 404319.356, 10400...  \n",
       "4      MULTILINESTRING ((75046.141 401865.437, 75045....  \n",
       "...                                                  ...  \n",
       "12859  MULTILINESTRING ((127154.852 413725.971, 12715...  \n",
       "12860  MULTILINESTRING ((106839.183 406980.574, 10685...  \n",
       "12861  MULTILINESTRING ((98685.008 394485.756, 98680....  \n",
       "12862  MULTILINESTRING ((102983.931 404344.646, 10300...  \n",
       "12863  MULTILINESTRING ((109561.648 399619.577, 10956...  \n",
       "\n",
       "[12864 rows x 55 columns]"
      ]
     },
     "execution_count": 14,
     "metadata": {},
     "output_type": "execute_result"
    }
   ],
   "source": [
    "GDF"
   ]
  },
  {
   "cell_type": "markdown",
   "id": "09530835",
   "metadata": {},
   "source": [
    "## Calculate routing"
   ]
  },
  {
   "cell_type": "code",
   "execution_count": 15,
   "id": "adbbbc78",
   "metadata": {},
   "outputs": [],
   "source": [
    "from shapely.geometry import MultiLineString"
   ]
  },
  {
   "cell_type": "code",
   "execution_count": null,
   "id": "f100fa5f",
   "metadata": {},
   "outputs": [],
   "source": [
    "GDF['Xstart'] = GDF['geometry'].apply(lambda x: x.geoms[0].coords[0][0]) # Access X coorddinate of first point in first linestring\n",
    "GDF['Ystart'] = GDF['geometry'].apply(lambda x: x.geoms[0].coords[0][1])\n",
    "GDF['Xend'] = GDF['geometry'].apply(lambda x: x.geoms[0].coords[-1][0])\n",
    "GDF['Yend'] = GDF['geometry'].apply(lambda x: x.geoms[0].coords[-1][1])"
   ]
  },
  {
   "cell_type": "code",
   "execution_count": 18,
   "id": "afaac2ee",
   "metadata": {},
   "outputs": [
    {
     "name": "stdout",
     "output_type": "stream",
     "text": [
      "✓ Start and end coordinates extracted.\n"
     ]
    },
    {
     "data": {
      "text/html": [
       "<div>\n",
       "<style scoped>\n",
       "    .dataframe tbody tr th:only-of-type {\n",
       "        vertical-align: middle;\n",
       "    }\n",
       "\n",
       "    .dataframe tbody tr th {\n",
       "        vertical-align: top;\n",
       "    }\n",
       "\n",
       "    .dataframe thead th {\n",
       "        text-align: right;\n",
       "    }\n",
       "</style>\n",
       "<table border=\"1\" class=\"dataframe\">\n",
       "  <thead>\n",
       "    <tr style=\"text-align: right;\">\n",
       "      <th></th>\n",
       "      <th>CODE</th>\n",
       "      <th>Xstart</th>\n",
       "      <th>Ystart</th>\n",
       "      <th>Xend</th>\n",
       "      <th>Yend</th>\n",
       "    </tr>\n",
       "  </thead>\n",
       "  <tbody>\n",
       "    <tr>\n",
       "      <th>0</th>\n",
       "      <td>OVK12326</td>\n",
       "      <td>82178.8210</td>\n",
       "      <td>382139.5930</td>\n",
       "      <td>82211.0763</td>\n",
       "      <td>382230.8210</td>\n",
       "    </tr>\n",
       "    <tr>\n",
       "      <th>1</th>\n",
       "      <td>OVK21780</td>\n",
       "      <td>87960.3111</td>\n",
       "      <td>397958.8084</td>\n",
       "      <td>87987.8930</td>\n",
       "      <td>397803.1720</td>\n",
       "    </tr>\n",
       "    <tr>\n",
       "      <th>2</th>\n",
       "      <td>OVK02233</td>\n",
       "      <td>111124.4879</td>\n",
       "      <td>396263.7630</td>\n",
       "      <td>111286.6935</td>\n",
       "      <td>396369.1693</td>\n",
       "    </tr>\n",
       "    <tr>\n",
       "      <th>3</th>\n",
       "      <td>OVK07620</td>\n",
       "      <td>104001.3850</td>\n",
       "      <td>404319.3560</td>\n",
       "      <td>104532.9200</td>\n",
       "      <td>404493.5701</td>\n",
       "    </tr>\n",
       "    <tr>\n",
       "      <th>4</th>\n",
       "      <td>OVK05547</td>\n",
       "      <td>75046.1407</td>\n",
       "      <td>401865.4367</td>\n",
       "      <td>73901.1920</td>\n",
       "      <td>401618.4030</td>\n",
       "    </tr>\n",
       "  </tbody>\n",
       "</table>\n",
       "</div>"
      ],
      "text/plain": [
       "       CODE       Xstart       Ystart         Xend         Yend\n",
       "0  OVK12326   82178.8210  382139.5930   82211.0763  382230.8210\n",
       "1  OVK21780   87960.3111  397958.8084   87987.8930  397803.1720\n",
       "2  OVK02233  111124.4879  396263.7630  111286.6935  396369.1693\n",
       "3  OVK07620  104001.3850  404319.3560  104532.9200  404493.5701\n",
       "4  OVK05547   75046.1407  401865.4367   73901.1920  401618.4030"
      ]
     },
     "execution_count": 18,
     "metadata": {},
     "output_type": "execute_result"
    }
   ],
   "source": [
    "print(\"✓ Start and end coordinates extracted.\")\n",
    "GDF[['CODE', 'Xstart', 'Ystart', 'Xend', 'Yend']].head()"
   ]
  },
  {
   "cell_type": "code",
   "execution_count": 19,
   "id": "2d588b3a",
   "metadata": {},
   "outputs": [
    {
     "name": "stdout",
     "output_type": "stream",
     "text": [
      "✓ Lookup dictionary created with \u001b[1m12105\u001b[0m entries.\n"
     ]
    }
   ],
   "source": [
    "# Create a lookup dictionary from start coordinates to CODE\n",
    "coord_to_id = {(row.Xstart, row.Ystart): row.CODE for row in GDF.itertuples()}\n",
    "\n",
    "print(f\"✓ Lookup dictionary created with {bold}{len(coord_to_id)}{style_reset} entries.\")"
   ]
  },
  {
   "cell_type": "code",
   "execution_count": 20,
   "id": "b69aff0a",
   "metadata": {},
   "outputs": [
    {
     "name": "stdout",
     "output_type": "stream",
     "text": [
      "✓ 'toid' column calculated.\n"
     ]
    }
   ],
   "source": [
    "# Function to find the downstream ID\n",
    "def get_toid(row):\n",
    "    end_coords = (row.Xend, row.Yend)\n",
    "    return coord_to_id.get(end_coords, 0)\n",
    "\n",
    "# Apply the function to create the 'toid' column\n",
    "GDF['toid'] = GDF.apply(get_toid, axis=1)\n",
    "\n",
    "print(\"✓ 'toid' column calculated.\")"
   ]
  },
  {
   "cell_type": "code",
   "execution_count": 21,
   "id": "6ae695c5",
   "metadata": {},
   "outputs": [
    {
     "name": "stdout",
     "output_type": "stream",
     "text": [
      "10.11 % of toids are 0.\n"
     ]
    }
   ],
   "source": [
    "print(f'{round(GDF['toid'].value_counts().max()/GDF.shape[0]*100, 2)} % of toids are 0.')"
   ]
  },
  {
   "cell_type": "markdown",
   "id": "47a844d5",
   "metadata": {},
   "source": [
    "This is a big high. We should add probably have some lenience when matching coordinates. Let's check some examples. I'll check the first 10 lines of GDF, and for the 0 toids I'll check the coordinates of the downstream (identified on the map). Let's se how much they differ."
   ]
  },
  {
   "cell_type": "code",
   "execution_count": 22,
   "id": "ebdfc595",
   "metadata": {},
   "outputs": [
    {
     "data": {
      "text/html": [
       "<div>\n",
       "<style scoped>\n",
       "    .dataframe tbody tr th:only-of-type {\n",
       "        vertical-align: middle;\n",
       "    }\n",
       "\n",
       "    .dataframe tbody tr th {\n",
       "        vertical-align: top;\n",
       "    }\n",
       "\n",
       "    .dataframe thead th {\n",
       "        text-align: right;\n",
       "    }\n",
       "</style>\n",
       "<table border=\"1\" class=\"dataframe\">\n",
       "  <thead>\n",
       "    <tr style=\"text-align: right;\">\n",
       "      <th></th>\n",
       "      <th>CODE</th>\n",
       "      <th>Xstart</th>\n",
       "      <th>Ystart</th>\n",
       "      <th>Xend</th>\n",
       "      <th>Yend</th>\n",
       "      <th>toid</th>\n",
       "    </tr>\n",
       "  </thead>\n",
       "  <tbody>\n",
       "    <tr>\n",
       "      <th>0</th>\n",
       "      <td>OVK12326</td>\n",
       "      <td>82178.8210</td>\n",
       "      <td>382139.5930</td>\n",
       "      <td>82211.0763</td>\n",
       "      <td>382230.8210</td>\n",
       "      <td>OVK12327</td>\n",
       "    </tr>\n",
       "    <tr>\n",
       "      <th>1</th>\n",
       "      <td>OVK21780</td>\n",
       "      <td>87960.3111</td>\n",
       "      <td>397958.8084</td>\n",
       "      <td>87987.8930</td>\n",
       "      <td>397803.1720</td>\n",
       "      <td>0</td>\n",
       "    </tr>\n",
       "    <tr>\n",
       "      <th>2</th>\n",
       "      <td>OVK02233</td>\n",
       "      <td>111124.4879</td>\n",
       "      <td>396263.7630</td>\n",
       "      <td>111286.6935</td>\n",
       "      <td>396369.1693</td>\n",
       "      <td>OVK02231</td>\n",
       "    </tr>\n",
       "    <tr>\n",
       "      <th>3</th>\n",
       "      <td>OVK07620</td>\n",
       "      <td>104001.3850</td>\n",
       "      <td>404319.3560</td>\n",
       "      <td>104532.9200</td>\n",
       "      <td>404493.5701</td>\n",
       "      <td>0</td>\n",
       "    </tr>\n",
       "    <tr>\n",
       "      <th>4</th>\n",
       "      <td>OVK05547</td>\n",
       "      <td>75046.1407</td>\n",
       "      <td>401865.4367</td>\n",
       "      <td>73901.1920</td>\n",
       "      <td>401618.4030</td>\n",
       "      <td>0</td>\n",
       "    </tr>\n",
       "    <tr>\n",
       "      <th>5</th>\n",
       "      <td>OVK12583</td>\n",
       "      <td>127090.8665</td>\n",
       "      <td>411159.6276</td>\n",
       "      <td>127000.1134</td>\n",
       "      <td>411147.1889</td>\n",
       "      <td>OVK12590</td>\n",
       "    </tr>\n",
       "    <tr>\n",
       "      <th>6</th>\n",
       "      <td>OVK12582</td>\n",
       "      <td>128241.9405</td>\n",
       "      <td>411305.5110</td>\n",
       "      <td>127380.7649</td>\n",
       "      <td>411390.7410</td>\n",
       "      <td>OVK12594</td>\n",
       "    </tr>\n",
       "    <tr>\n",
       "      <th>7</th>\n",
       "      <td>OVK12600</td>\n",
       "      <td>129079.5431</td>\n",
       "      <td>411761.9633</td>\n",
       "      <td>128545.7180</td>\n",
       "      <td>411844.2280</td>\n",
       "      <td>OVK12597</td>\n",
       "    </tr>\n",
       "    <tr>\n",
       "      <th>8</th>\n",
       "      <td>OVK04177</td>\n",
       "      <td>94086.5539</td>\n",
       "      <td>393798.3641</td>\n",
       "      <td>93307.5780</td>\n",
       "      <td>393841.2610</td>\n",
       "      <td>OVK04130</td>\n",
       "    </tr>\n",
       "    <tr>\n",
       "      <th>9</th>\n",
       "      <td>OVK09302</td>\n",
       "      <td>112714.4690</td>\n",
       "      <td>409124.3400</td>\n",
       "      <td>112649.0850</td>\n",
       "      <td>408927.9510</td>\n",
       "      <td>OVK09299</td>\n",
       "    </tr>\n",
       "  </tbody>\n",
       "</table>\n",
       "</div>"
      ],
      "text/plain": [
       "       CODE       Xstart       Ystart         Xend         Yend      toid\n",
       "0  OVK12326   82178.8210  382139.5930   82211.0763  382230.8210  OVK12327\n",
       "1  OVK21780   87960.3111  397958.8084   87987.8930  397803.1720         0\n",
       "2  OVK02233  111124.4879  396263.7630  111286.6935  396369.1693  OVK02231\n",
       "3  OVK07620  104001.3850  404319.3560  104532.9200  404493.5701         0\n",
       "4  OVK05547   75046.1407  401865.4367   73901.1920  401618.4030         0\n",
       "5  OVK12583  127090.8665  411159.6276  127000.1134  411147.1889  OVK12590\n",
       "6  OVK12582  128241.9405  411305.5110  127380.7649  411390.7410  OVK12594\n",
       "7  OVK12600  129079.5431  411761.9633  128545.7180  411844.2280  OVK12597\n",
       "8  OVK04177   94086.5539  393798.3641   93307.5780  393841.2610  OVK04130\n",
       "9  OVK09302  112714.4690  409124.3400  112649.0850  408927.9510  OVK09299"
      ]
     },
     "execution_count": 22,
     "metadata": {},
     "output_type": "execute_result"
    }
   ],
   "source": [
    "GDF.iloc[:10].loc[:, ['CODE', 'Xstart', 'Ystart', 'Xend', 'Yend', 'toid']]"
   ]
  },
  {
   "cell_type": "code",
   "execution_count": 25,
   "id": "acd213e0",
   "metadata": {},
   "outputs": [],
   "source": [
    "GDF['toid_match'] = GDF['toid'].isin(GDF['CODE'])"
   ]
  },
  {
   "cell_type": "code",
   "execution_count": 27,
   "id": "e489694e",
   "metadata": {},
   "outputs": [
    {
     "data": {
      "text/plain": [
       "toid\n",
       "0           1301\n",
       "OVK12133       4\n",
       "OVK07040       3\n",
       "OVK06530       3\n",
       "OVK06458       3\n",
       "            ... \n",
       "OVK02245       1\n",
       "OVK10522       1\n",
       "OVK10231       1\n",
       "OVK00838       1\n",
       "OVK01774       1\n",
       "Name: count, Length: 8634, dtype: int64"
      ]
     },
     "execution_count": 27,
     "metadata": {},
     "output_type": "execute_result"
    }
   ],
   "source": [
    "GDF['toid'].value_counts()"
   ]
  },
  {
   "cell_type": "code",
   "execution_count": 30,
   "id": "019adbe9",
   "metadata": {},
   "outputs": [
    {
     "data": {
      "text/plain": [
       "toid_match\n",
       "True     11563\n",
       "False     1301\n",
       "Name: count, dtype: int64"
      ]
     },
     "execution_count": 30,
     "metadata": {},
     "output_type": "execute_result"
    }
   ],
   "source": [
    "GDF['toid_match'].value_counts()"
   ]
  },
  {
   "cell_type": "code",
   "execution_count": 31,
   "id": "99da0031",
   "metadata": {},
   "outputs": [],
   "source": [
    "GDF['min_Dist'] = 0.0\n",
    "GDF.loc[GDF['toid'] == 0, 'min_Dist'] = GDF.loc[GDF['toid'] == 0].apply(lambda row: C.c_Dist(row['Xend'], row['Yend'], GDF['Xstart'], GDF['Ystart']).min(), axis=1)"
   ]
  },
  {
   "cell_type": "code",
   "execution_count": 42,
   "id": "d6f11ad4",
   "metadata": {},
   "outputs": [
    {
     "data": {
      "text/html": [
       "<div>\n",
       "<style scoped>\n",
       "    .dataframe tbody tr th:only-of-type {\n",
       "        vertical-align: middle;\n",
       "    }\n",
       "\n",
       "    .dataframe tbody tr th {\n",
       "        vertical-align: top;\n",
       "    }\n",
       "\n",
       "    .dataframe thead th {\n",
       "        text-align: right;\n",
       "    }\n",
       "</style>\n",
       "<table border=\"1\" class=\"dataframe\">\n",
       "  <thead>\n",
       "    <tr style=\"text-align: right;\">\n",
       "      <th></th>\n",
       "      <th>CODE</th>\n",
       "      <th>min_Dist</th>\n",
       "    </tr>\n",
       "  </thead>\n",
       "  <tbody>\n",
       "    <tr>\n",
       "      <th>2903</th>\n",
       "      <td>OVK05520</td>\n",
       "      <td>2125.344220</td>\n",
       "    </tr>\n",
       "    <tr>\n",
       "      <th>10761</th>\n",
       "      <td>OVK10933</td>\n",
       "      <td>1243.853186</td>\n",
       "    </tr>\n",
       "    <tr>\n",
       "      <th>11424</th>\n",
       "      <td>OVK05519</td>\n",
       "      <td>1099.043328</td>\n",
       "    </tr>\n",
       "    <tr>\n",
       "      <th>10509</th>\n",
       "      <td>OVK03518</td>\n",
       "      <td>750.917601</td>\n",
       "    </tr>\n",
       "    <tr>\n",
       "      <th>9478</th>\n",
       "      <td>OVK20205</td>\n",
       "      <td>726.484193</td>\n",
       "    </tr>\n",
       "    <tr>\n",
       "      <th>...</th>\n",
       "      <td>...</td>\n",
       "      <td>...</td>\n",
       "    </tr>\n",
       "    <tr>\n",
       "      <th>2076</th>\n",
       "      <td>OVK01405</td>\n",
       "      <td>0.000100</td>\n",
       "    </tr>\n",
       "    <tr>\n",
       "      <th>12650</th>\n",
       "      <td>OVK03530</td>\n",
       "      <td>0.000100</td>\n",
       "    </tr>\n",
       "    <tr>\n",
       "      <th>12665</th>\n",
       "      <td>OVK08798</td>\n",
       "      <td>0.000100</td>\n",
       "    </tr>\n",
       "    <tr>\n",
       "      <th>12667</th>\n",
       "      <td>OVK05135</td>\n",
       "      <td>0.000100</td>\n",
       "    </tr>\n",
       "    <tr>\n",
       "      <th>12668</th>\n",
       "      <td>OVK02576</td>\n",
       "      <td>0.000100</td>\n",
       "    </tr>\n",
       "  </tbody>\n",
       "</table>\n",
       "<p>1301 rows × 2 columns</p>\n",
       "</div>"
      ],
      "text/plain": [
       "           CODE     min_Dist\n",
       "2903   OVK05520  2125.344220\n",
       "10761  OVK10933  1243.853186\n",
       "11424  OVK05519  1099.043328\n",
       "10509  OVK03518   750.917601\n",
       "9478   OVK20205   726.484193\n",
       "...         ...          ...\n",
       "2076   OVK01405     0.000100\n",
       "12650  OVK03530     0.000100\n",
       "12665  OVK08798     0.000100\n",
       "12667  OVK05135     0.000100\n",
       "12668  OVK02576     0.000100\n",
       "\n",
       "[1301 rows x 2 columns]"
      ]
     },
     "execution_count": 42,
     "metadata": {},
     "output_type": "execute_result"
    }
   ],
   "source": [
    "GDF[['CODE', 'min_Dist']].loc[GDF['toid'] == 0].sort_values(by='min_Dist', ascending=False)"
   ]
  },
  {
   "cell_type": "code",
   "execution_count": 47,
   "id": "c87b76f4",
   "metadata": {},
   "outputs": [
    {
     "name": "stdout",
     "output_type": "stream",
     "text": [
      "Let's see how many features with min_Dist > 0.1 there are: \u001b[1m512\u001b[0m features, out of 1301. That's 39.35 %. Which is quite high.\n"
     ]
    }
   ],
   "source": [
    "print(f\"Let's see how many features with min_Dist > 0.1 there are: {bold}{(GDF['min_Dist'] > 0.1).sum()}{style_reset} features, out of {GDF.loc[GDF['min_Dist']>0].shape[0]}. That's {round((GDF['min_Dist'] > 0.1).sum()/GDF.loc[GDF['min_Dist']>0].shape[0]*100, 2)} %. Which is quite high.\")"
   ]
  },
  {
   "cell_type": "markdown",
   "id": "f41f0c24",
   "metadata": {},
   "source": [
    "Let's check some features where 1 < min_Dist < 10."
   ]
  },
  {
   "cell_type": "code",
   "execution_count": 48,
   "id": "249a1849",
   "metadata": {},
   "outputs": [
    {
     "data": {
      "text/html": [
       "<div>\n",
       "<style scoped>\n",
       "    .dataframe tbody tr th:only-of-type {\n",
       "        vertical-align: middle;\n",
       "    }\n",
       "\n",
       "    .dataframe tbody tr th {\n",
       "        vertical-align: top;\n",
       "    }\n",
       "\n",
       "    .dataframe thead th {\n",
       "        text-align: right;\n",
       "    }\n",
       "</style>\n",
       "<table border=\"1\" class=\"dataframe\">\n",
       "  <thead>\n",
       "    <tr style=\"text-align: right;\">\n",
       "      <th></th>\n",
       "      <th>CODE</th>\n",
       "      <th>min_Dist</th>\n",
       "    </tr>\n",
       "  </thead>\n",
       "  <tbody>\n",
       "    <tr>\n",
       "      <th>8384</th>\n",
       "      <td>OVK06539</td>\n",
       "      <td>9.976710</td>\n",
       "    </tr>\n",
       "    <tr>\n",
       "      <th>258</th>\n",
       "      <td>OVK08958</td>\n",
       "      <td>9.596619</td>\n",
       "    </tr>\n",
       "    <tr>\n",
       "      <th>4071</th>\n",
       "      <td>OVK08754</td>\n",
       "      <td>9.198640</td>\n",
       "    </tr>\n",
       "    <tr>\n",
       "      <th>6502</th>\n",
       "      <td>OVK12495</td>\n",
       "      <td>9.117206</td>\n",
       "    </tr>\n",
       "    <tr>\n",
       "      <th>5123</th>\n",
       "      <td>OVK12640</td>\n",
       "      <td>9.061852</td>\n",
       "    </tr>\n",
       "    <tr>\n",
       "      <th>...</th>\n",
       "      <td>...</td>\n",
       "      <td>...</td>\n",
       "    </tr>\n",
       "    <tr>\n",
       "      <th>5830</th>\n",
       "      <td>OVK10999</td>\n",
       "      <td>1.147236</td>\n",
       "    </tr>\n",
       "    <tr>\n",
       "      <th>8565</th>\n",
       "      <td>OVK10281</td>\n",
       "      <td>1.108484</td>\n",
       "    </tr>\n",
       "    <tr>\n",
       "      <th>6993</th>\n",
       "      <td>OVK10280</td>\n",
       "      <td>1.108484</td>\n",
       "    </tr>\n",
       "    <tr>\n",
       "      <th>9792</th>\n",
       "      <td>OVK12643</td>\n",
       "      <td>1.024820</td>\n",
       "    </tr>\n",
       "    <tr>\n",
       "      <th>11502</th>\n",
       "      <td>OVK09261</td>\n",
       "      <td>1.002236</td>\n",
       "    </tr>\n",
       "  </tbody>\n",
       "</table>\n",
       "<p>111 rows × 2 columns</p>\n",
       "</div>"
      ],
      "text/plain": [
       "           CODE  min_Dist\n",
       "8384   OVK06539  9.976710\n",
       "258    OVK08958  9.596619\n",
       "4071   OVK08754  9.198640\n",
       "6502   OVK12495  9.117206\n",
       "5123   OVK12640  9.061852\n",
       "...         ...       ...\n",
       "5830   OVK10999  1.147236\n",
       "8565   OVK10281  1.108484\n",
       "6993   OVK10280  1.108484\n",
       "9792   OVK12643  1.024820\n",
       "11502  OVK09261  1.002236\n",
       "\n",
       "[111 rows x 2 columns]"
      ]
     },
     "execution_count": 48,
     "metadata": {},
     "output_type": "execute_result"
    }
   ],
   "source": [
    "GDF[['CODE', 'min_Dist']].loc[(GDF['min_Dist'] < 10) & (GDF['min_Dist'] > 1)].sort_values(by='min_Dist', ascending=False)"
   ]
  },
  {
   "cell_type": "code",
   "execution_count": null,
   "id": "c475fc1f",
   "metadata": {},
   "outputs": [],
   "source": []
  },
  {
   "cell_type": "code",
   "execution_count": null,
   "id": "fdc53eb4",
   "metadata": {},
   "outputs": [],
   "source": [
    "code, DStr = 'OKV21780', 'OVK04581'\n",
    "print(f'')"
   ]
  },
  {
   "cell_type": "code",
   "execution_count": null,
   "id": "d8a1d896",
   "metadata": {},
   "outputs": [],
   "source": []
  },
  {
   "cell_type": "code",
   "execution_count": null,
   "id": "4d95421b",
   "metadata": {},
   "outputs": [],
   "source": []
  },
  {
   "cell_type": "code",
   "execution_count": null,
   "id": "61c9e838",
   "metadata": {},
   "outputs": [],
   "source": [
    "# Display the results\n",
    "print(\"GDF with 'toid' column:\")\n",
    "GDF[['CODE', 'toid', 'Xstart', 'Ystart', 'Xend', 'Yend']].head()"
   ]
  },
  {
   "cell_type": "code",
   "execution_count": null,
   "id": "6df5b8a4",
   "metadata": {},
   "outputs": [],
   "source": [
    "# Count the number of outlets (where toid is 0)\n",
    "outlets = GDF[GDF['toid'] == 0]\n",
    "print(f\"\\nNumber of outlets (no downstream connection): {bold}{len(outlets)}{style_reset}\")"
   ]
  },
  {
   "cell_type": "markdown",
   "id": "6ed0dac3",
   "metadata": {},
   "source": [
    "# Load and Explore **1ry SW Nw**"
   ]
  },
  {
   "cell_type": "markdown",
   "id": "7b933488",
   "metadata": {},
   "source": [
    "## Load"
   ]
  },
  {
   "cell_type": "code",
   "execution_count": null,
   "id": "49fef084",
   "metadata": {},
   "outputs": [],
   "source": [
    "# Read the hydroobject layer specifically\n",
    "GDF = gpd.read_file(Pa_GPkg)"
   ]
  },
  {
   "cell_type": "code",
   "execution_count": null,
   "id": "4db9faa4",
   "metadata": {},
   "outputs": [],
   "source": [
    "print(f\"\\nHydroobject layer loaded successfully!\\nNumber of features: {bold}{len(GDF)}{style_reset}\\nCRS: {bold}{GDF.crs}{style_reset}\\nGeometry types: {GDF.geometry.geom_type.value_counts()}\")"
   ]
  },
  {
   "cell_type": "markdown",
   "id": "a6f89fb4",
   "metadata": {},
   "source": [
    "## Explore"
   ]
  },
  {
   "cell_type": "code",
   "execution_count": null,
   "id": "091fa907",
   "metadata": {},
   "outputs": [],
   "source": [
    "GDF.describe(include='all')"
   ]
  },
  {
   "cell_type": "code",
   "execution_count": null,
   "id": "18f8f6a6",
   "metadata": {},
   "outputs": [],
   "source": [
    "for i, col in enumerate(GDF.columns):\n",
    "    print(f\"{i}: {col}\")"
   ]
  },
  {
   "cell_type": "code",
   "execution_count": null,
   "id": "168aed63",
   "metadata": {},
   "outputs": [],
   "source": [
    "GDF[['WS_BH_BOVENSTROOMS_L', 'WS_BH_BENEDENSTROOMS_L', 'WS_BODEMBREEDTE_L', 'WS_TALUD_LINKS_L', 'WS_TALUD_RECHTS_L']].head(10)"
   ]
  },
  {
   "cell_type": "markdown",
   "id": "8b43d602",
   "metadata": {},
   "source": [
    "## Input data requirements"
   ]
  },
  {
   "cell_type": "markdown",
   "id": "cd58b91e",
   "metadata": {},
   "source": [
    "Below, we'll match the shapefile attributes to the SFRmaker requirements as per SFRmaker manual ( https://doi-usgs.github.io/sfrmaker/latest/inputs.html):\n",
    "\n",
    "**Custom hydrography** <br>\n",
    "Any Polyline shapefile can be supplied in lieu of NHDPlus, but it must have the following columns, as shown in the second example:\n",
    "1. flowlines_file: path to shapefile<br>-> Pa_GPkg_1ry (object, not column)\n",
    "2. id_column: unique identifier for each polyline<br>-> CODE\n",
    "3. routing_column: downstream connection (ID), 0 if none<br>->*Needs to be calculated based on algorithm*<br>\n",
    "4. width1_column: channel width at start of line, in attr\\_length\\_units (optional)<br>-> WS_BH_BOVENSTROOMS_L\n",
    "5. width2_column: channel width at end of line, in attr_length_units (optional)<br>->  WS_BH_BENEDENSTROOMS_L\n",
    "6. up_elevation_column: streambed elevation at start of line, in attr_height_units<br>-> \n",
    "7. dn_elevation_column: streambed elevation at end of line, in attr_height_units<br>-> \n",
    "8. name_column: stream name (optional)<br>-> \n",
    "9. attr_length_units: channel width units<br>-> m\n",
    "10. attr_height_units: streambed elevation units<br>-> m\n"
   ]
  },
  {
   "cell_type": "markdown",
   "id": "17206a2c",
   "metadata": {},
   "source": [
    "Columns that seem useful:\n",
    "1. CODE: as unique ID.\n",
    "2. NAAM: as name.\n",
    "3. WS_BH_BOVENSTROOMS: width upstream\n",
    "4. WS_BH_BENEDENSTROOMS: width downstream\n",
    "5. WS_HGT_MAAIVELD_BOVS: ground level elevation upstream\n",
    "6. WS_HGT_MAAIVELD_BENS: ground level elevation downstream\n",
    "7. WS_HGT_INSTEEK_LINKERZIJDE: left bank elevation\n",
    "8. WS_HGT_INSTEEK_RECHTERZIJDE: right bank elevation\n",
    "9. WS_TALUD_LINKS_L: left bank slope\n",
    "10. WS_TALUD_RECHTS_L: right bank slope\n",
    "11. WS_BODEMBREEDTE_L: bottom width\n",
    "12. WS_BH_BOVENSTROOMS_L: width upstream (seems like a duplicate of 2, need to check though)\n",
    "13. WS_BH_BENEDENSTROOMS_L: width downstream (seems like a duplicate of 3, need to check though)\n",
    "14. "
   ]
  },
  {
   "cell_type": "code",
   "execution_count": null,
   "id": "17a78acc",
   "metadata": {},
   "outputs": [],
   "source": [
    "print('Plot of line geometry in the whole area.')\n",
    "GDF.plot(figsize=(10, 10), color='blue', edgecolor='black')"
   ]
  },
  {
   "cell_type": "markdown",
   "id": "985caee8",
   "metadata": {},
   "source": [
    "## Limit"
   ]
  },
  {
   "cell_type": "code",
   "execution_count": null,
   "id": "30ff13a2",
   "metadata": {},
   "outputs": [],
   "source": [
    "# Limit GDF to model area bounds\n",
    "print(f\"Model area bounds: Xmin: {Xmin:10}, Xmax: {Xmax:10} | Ymin: {Ymin:10}, Ymax: {Ymax:10}\\n\")\n",
    "print(f\"Original dataset: {bold}{len(GDF):10}{style_reset} features\\t| Bounds: {GDF.total_bounds}\")\n",
    "\n",
    "# Create bounding box for clipping\n",
    "from shapely.geometry import box\n",
    "model_bbox = box(Xmin, Ymin, Xmax, Ymax)\n",
    "\n",
    "# Filter GDF to model area using spatial intersection\n",
    "GDF_clipped = GDF[GDF.geometry.intersects(model_bbox)].copy()\n",
    "\n",
    "print(f\"Filtered dataset: {bold}{len(GDF_clipped):10}{style_reset} features\\t| Bounds: {GDF_clipped.total_bounds}\")\n",
    "print(f\"Reduction: {bold}{len(GDF)-len(GDF_clipped):,}{style_reset} features removed ({(len(GDF)-len(GDF_clipped))/len(GDF)*100:.1f}%) | ✓ GDF updated to model area extent\")\n",
    "print(f\"✓ Network length: {GDF.geometry.length.sum()/1000:.1f} km within model area\")\n",
    "\n",
    "# Update GDF to use the clipped version\n",
    "GDF = GDF_clipped"
   ]
  },
  {
   "cell_type": "code",
   "execution_count": null,
   "id": "ba2baf63",
   "metadata": {},
   "outputs": [],
   "source": [
    "# Plot the filtered hydroobject network within model area\n",
    "fig, ax = plt.subplots(figsize=(12, 8))\n",
    "\n",
    "# Plot the filtered GDF\n",
    "GDF.plot(ax=ax, color='blue', linewidth=0.8, alpha=0.7, label='Hydroobject network')\n",
    "\n",
    "# Add model boundary rectangle\n",
    "from matplotlib.patches import Rectangle\n",
    "model_rect = Rectangle((Xmin, Ymin), Xmax-Xmin, Ymax-Ymin, \n",
    "                      linewidth=2, edgecolor='red', facecolor='none', \n",
    "                      linestyle='--', label='Model boundary')\n",
    "ax.add_patch(model_rect)\n",
    "\n",
    "ax.set_title(f'Hydroobject Network within Model Area ({MdlN})')\n",
    "ax.set_xlabel('X coordinate (m)')\n",
    "ax.set_ylabel('Y coordinate (m)')\n",
    "ax.legend()\n",
    "\n",
    "# Add statistics text\n",
    "stats_text = f\"\"\"Filtered Network:\n",
    "• Features: {len(GDF):,}\n",
    "• Total length: {GDF.geometry.length.sum()/1000:.1f} km\n",
    "• Model area: {(Xmax-Xmin)/1000:.1f} × {(Ymax-Ymin)/1000:.1f} km\"\"\"\n",
    "\n",
    "ax.text(0.02, 0.98, stats_text, transform=ax.transAxes, \n",
    "        verticalalignment='top', bbox=dict(boxstyle='round', facecolor='wheat', alpha=0.8))\n",
    "\n",
    "# Add grid\n",
    "ax.grid(True, alpha=0.3)"
   ]
  },
  {
   "cell_type": "markdown",
   "id": "4692b24d",
   "metadata": {},
   "source": [
    "# Create Grid and Generate SFR Routing Network"
   ]
  },
  {
   "cell_type": "code",
   "execution_count": null,
   "id": "2bbe7057",
   "metadata": {},
   "outputs": [],
   "source": [
    "help(sfr.Lines.from_dataframe)"
   ]
  },
  {
   "cell_type": "code",
   "execution_count": null,
   "id": "4a2e236b",
   "metadata": {},
   "outputs": [],
   "source": [
    "GDF.columns"
   ]
  },
  {
   "cell_type": "code",
   "execution_count": null,
   "id": "01f999a4",
   "metadata": {},
   "outputs": [],
   "source": [
    "lines = sfr.Lines.from_dataframe(\n",
    "    GDF,\n",
    "    id_column='CODE',\n",
    "    routing_column='toid',                      # <- add this (see quick builder below)\n",
    "    width1_column='W', width2_column='W',\n",
    "    up_elevation_column='WS_BH_BOVENSTROOMS_L',\n",
    "    dn_elevation_column='WS_BH_BENEDENSTROOMS_L',\n",
    "    name_column='LEGGER_KENMERK',\n",
    "    geometry_column=GDF.geometry.name,\n",
    ")\n"
   ]
  },
  {
   "cell_type": "markdown",
   "id": "7a50aefd",
   "metadata": {},
   "source": [
    "# Junkyard"
   ]
  },
  {
   "cell_type": "code",
   "execution_count": null,
   "id": "8079b6f9",
   "metadata": {},
   "outputs": [],
   "source": [
    "stop"
   ]
  },
  {
   "cell_type": "markdown",
   "id": "22c24a3a",
   "metadata": {},
   "source": [
    "# Load GPkg. Select correct layer. Limit to Mdl Aa. - Detailed SW network"
   ]
  },
  {
   "cell_type": "markdown",
   "id": "98a6f0e8",
   "metadata": {},
   "source": [
    "After this methodology is established, a function should be created that'll take in either a GeoPackage with a specified layer or a shapefile (single layer).<br>\n",
    "Other Params like the Cols to be used for the SFR network creation, should be provided as well. A .toml file could be a good idea."
   ]
  },
  {
   "cell_type": "markdown",
   "id": "5dc7dd06",
   "metadata": {},
   "source": [
    "## Load"
   ]
  },
  {
   "cell_type": "code",
   "execution_count": null,
   "id": "22c4ca36",
   "metadata": {},
   "outputs": [],
   "source": [
    "# First, let's see what layers are available in the GeoPackage\n",
    "layers = fiona.listlayers(Pa_GPkg)\n",
    "print(\"Available layers in GeoPackage:\")\n",
    "for i, L in enumerate(layers):\n",
    "    print(f\"  {i+1}. {L}\")"
   ]
  },
  {
   "cell_type": "code",
   "execution_count": null,
   "id": "24374d42",
   "metadata": {},
   "outputs": [],
   "source": [
    "# Read the hydroobject layer specifically\n",
    "GDF1 = gpd.read_file(Pa_GPkg, layer=layer)"
   ]
  },
  {
   "cell_type": "code",
   "execution_count": null,
   "id": "0af95b30",
   "metadata": {},
   "outputs": [],
   "source": [
    "print(f\"\\nHydroobject layer loaded successfully!\\nNumber of features: {bold}{len(GDF1)}{style_reset}\\nCRS: {bold}{GDF1.crs}{style_reset}\\nGeometry types: {GDF1.geometry.geom_type.value_counts()}\")\n",
    "print(*GDF1.columns, sep=' | ')"
   ]
  },
  {
   "cell_type": "markdown",
   "id": "c1ce8941",
   "metadata": {},
   "source": [
    "## Explore"
   ]
  },
  {
   "cell_type": "code",
   "execution_count": null,
   "id": "23d5b5c4",
   "metadata": {},
   "outputs": [],
   "source": [
    "GDF1.head(3)"
   ]
  },
  {
   "cell_type": "code",
   "execution_count": null,
   "id": "cfd6ab6d",
   "metadata": {},
   "outputs": [],
   "source": [
    "GDF1.describe(include='all')"
   ]
  },
  {
   "cell_type": "code",
   "execution_count": null,
   "id": "c63be4cb",
   "metadata": {},
   "outputs": [],
   "source": [
    "#666 columns need to be reviewed later!!!"
   ]
  },
  {
   "cell_type": "code",
   "execution_count": null,
   "id": "39a74b7f",
   "metadata": {},
   "outputs": [],
   "source": [
    "GDF1.WS_BH_BOVENSTROOMS.value_counts()"
   ]
  },
  {
   "cell_type": "code",
   "execution_count": null,
   "id": "b69857f2",
   "metadata": {},
   "outputs": [],
   "source": [
    "for i, col in enumerate(GDF1.columns):\n",
    "    print(f\"{i}: {col}\")"
   ]
  },
  {
   "cell_type": "code",
   "execution_count": null,
   "id": "66850f2f",
   "metadata": {},
   "outputs": [],
   "source": [
    "GDF1.sort_values('WS_BH_BOVENSTROOMS', inplace=True, ascending=False)"
   ]
  },
  {
   "cell_type": "code",
   "execution_count": null,
   "id": "d5898bc4",
   "metadata": {},
   "outputs": [],
   "source": [
    "GDF1[['WS_BH_BOVENSTROOMS', 'WS_BH_BENEDENSTROOMS', 'WS_BH_BOVENSTROOMS_L', 'WS_BH_BENEDENSTROOMS_L']].head(10)"
   ]
  },
  {
   "cell_type": "markdown",
   "id": "8cccc564",
   "metadata": {},
   "source": [
    "Columns that seem useful:\n",
    "1. CODE: as unique ID.\n",
    "2. NAAM: as name.\n",
    "3. WS_BH_BOVENSTROOMS: width upstream\n",
    "4. WS_BH_BENEDENSTROOMS: width downstream\n",
    "5. WS_HGT_MAAIVELD_BOVS: ground level elevation upstream\n",
    "6. WS_HGT_MAAIVELD_BENS: ground level elevation downstream\n",
    "7. WS_HGT_INSTEEK_LINKERZIJDE: left bank elevation\n",
    "8. WS_HGT_INSTEEK_RECHTERZIJDE: right bank elevation\n",
    "9. WS_TALUD_LINKS_L: left bank slope\n",
    "10. WS_TALUD_RECHTS_L: right bank slope\n",
    "11. WS_BODEMBREEDTE_L: bottom width\n",
    "12. WS_BH_BOVENSTROOMS_L: width upstream (seems like a duplicate of 2, need to check though)\n",
    "13. WS_BH_BENEDENSTROOMS_L: width downstream (seems like a duplicate of 3, need to check though)\n",
    "14. "
   ]
  },
  {
   "cell_type": "code",
   "execution_count": null,
   "id": "c23a30ff",
   "metadata": {},
   "outputs": [],
   "source": [
    "print('Plot of line geometry in the whole area.')\n",
    "GDF1.plot(figsize=(10, 10), color='blue', edgecolor='black')"
   ]
  },
  {
   "cell_type": "markdown",
   "id": "dbd03d1c",
   "metadata": {},
   "source": [
    "## Limit"
   ]
  },
  {
   "cell_type": "code",
   "execution_count": null,
   "id": "4f843530",
   "metadata": {},
   "outputs": [],
   "source": [
    "# Limit GDF to model area bounds\n",
    "print(f\"Model area bounds: Xmin: {Xmin:10}, Xmax: {Xmax:10} | Ymin: {Ymin:10}, Ymax: {Ymax:10}\\n\")\n",
    "print(f\"Original dataset: {bold}{len(GDF1):10}{style_reset} features\\t| Bounds: {GDF1.total_bounds}\")\n",
    "\n",
    "# Create bounding box for clipping\n",
    "from shapely.geometry import box\n",
    "model_bbox = box(Xmin, Ymin, Xmax, Ymax)\n",
    "\n",
    "# Filter GDF to model area using spatial intersection\n",
    "GDF1_clipped = GDF1[GDF1.geometry.intersects(model_bbox)].copy()\n",
    "\n",
    "print(f\"Filtered dataset: {bold}{len(GDF1_clipped):10}{style_reset} features\\t| Bounds: {GDF1_clipped.total_bounds}\")\n",
    "print(f\"Reduction: {bold}{len(GDF1)-len(GDF1_clipped):,}{style_reset} features removed ({(len(GDF1)-len(GDF1_clipped))/len(GDF1)*100:.1f}%) | ✓ GDF updated to model area extent\")\n",
    "print(f\"✓ Network length: {GDF1.geometry.length.sum()/1000:.1f} km within model area\")\n",
    "\n",
    "# Update GDF to use the clipped version\n",
    "GDF1 = GDF1_clipped"
   ]
  },
  {
   "cell_type": "code",
   "execution_count": null,
   "id": "58cbd813",
   "metadata": {},
   "outputs": [],
   "source": [
    "# Plot the filtered hydroobject network within model area\n",
    "fig, ax = plt.subplots(figsize=(12, 8))\n",
    "\n",
    "# Plot the filtered GDF\n",
    "GDF1.plot(ax=ax, color='blue', linewidth=0.8, alpha=0.7, label='Hydroobject network')\n",
    "\n",
    "# Add model boundary rectangle\n",
    "from matplotlib.patches import Rectangle\n",
    "model_rect = Rectangle((Xmin, Ymin), Xmax-Xmin, Ymax-Ymin, \n",
    "                      linewidth=2, edgecolor='red', facecolor='none', \n",
    "                      linestyle='--', label='Model boundary')\n",
    "ax.add_patch(model_rect)\n",
    "\n",
    "ax.set_title(f'Hydroobject Network within Model Area ({MdlN})')\n",
    "ax.set_xlabel('X coordinate (m)')\n",
    "ax.set_ylabel('Y coordinate (m)')\n",
    "ax.legend()\n",
    "\n",
    "# Add statistics text\n",
    "stats_text = f\"\"\"Filtered Network:\n",
    "• Features: {len(GDF1):,}\n",
    "• Total length: {GDF1.geometry.length.sum()/1000:.1f} km\n",
    "• Model area: {(Xmax-Xmin)/1000:.1f} × {(Ymax-Ymin)/1000:.1f} km\"\"\"\n",
    "\n",
    "ax.text(0.02, 0.98, stats_text, transform=ax.transAxes, \n",
    "        verticalalignment='top', bbox=dict(boxstyle='round', facecolor='wheat', alpha=0.8))\n",
    "\n",
    "# Add grid\n",
    "ax.grid(True, alpha=0.3)"
   ]
  }
 ],
 "metadata": {
  "kernelspec": {
   "display_name": "default",
   "language": "python",
   "name": "python3"
  },
  "language_info": {
   "codemirror_mode": {
    "name": "ipython",
    "version": 3
   },
   "file_extension": ".py",
   "mimetype": "text/x-python",
   "name": "python",
   "nbconvert_exporter": "python",
   "pygments_lexer": "ipython3",
   "version": "3.13.5"
  }
 },
 "nbformat": 4,
 "nbformat_minor": 5
}
