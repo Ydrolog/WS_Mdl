{
 "cells": [
  {
   "cell_type": "markdown",
   "metadata": {},
   "source": [
    "# Code to write CHD section for NBr2 and others..."
   ]
  },
  {
   "cell_type": "markdown",
   "metadata": {},
   "source": [
    "## 1. Options"
   ]
  },
  {
   "cell_type": "code",
   "execution_count": 1,
   "metadata": {},
   "outputs": [],
   "source": [
    "import pandas as pd\n",
    "import os
from os import listdir as LD, makedirs as MDs
from os.path import join as PJ, basename as PBN, dirname as PDN, exists as PE\n",
    "from datetime import datetime as DT"
   ]
  },
  {
   "cell_type": "code",
   "execution_count": 2,
   "metadata": {},
   "outputs": [],
   "source": [
    "RunN = 'NBr5'\n",
    "date_start = '2010-01-01'\n",
    "date_end = '2018-12-31'"
   ]
  },
  {
   "cell_type": "markdown",
   "metadata": {},
   "source": [
    "## 2 Read and prep DF"
   ]
  },
  {
   "cell_type": "code",
   "execution_count": 3,
   "metadata": {},
   "outputs": [],
   "source": [
    "DF = pd.read_csv(r'../../../data/Dates.csv')"
   ]
  },
  {
   "cell_type": "code",
   "execution_count": 4,
   "metadata": {},
   "outputs": [],
   "source": [
    "DF['Date'] = pd.to_datetime(DF['Date'])"
   ]
  },
  {
   "cell_type": "code",
   "execution_count": 5,
   "metadata": {},
   "outputs": [
    {
     "data": {
      "text/html": [
       "<div>\n",
       "<style scoped>\n",
       "    .dataframe tbody tr th:only-of-type {\n",
       "        vertical-align: middle;\n",
       "    }\n",
       "\n",
       "    .dataframe tbody tr th {\n",
       "        vertical-align: top;\n",
       "    }\n",
       "\n",
       "    .dataframe thead th {\n",
       "        text-align: right;\n",
       "    }\n",
       "</style>\n",
       "<table border=\"1\" class=\"dataframe\">\n",
       "  <thead>\n",
       "    <tr style=\"text-align: right;\">\n",
       "      <th></th>\n",
       "      <th>Date</th>\n",
       "    </tr>\n",
       "  </thead>\n",
       "  <tbody>\n",
       "    <tr>\n",
       "      <th>0</th>\n",
       "      <td>2010-01-01</td>\n",
       "    </tr>\n",
       "    <tr>\n",
       "      <th>1</th>\n",
       "      <td>2010-01-02</td>\n",
       "    </tr>\n",
       "    <tr>\n",
       "      <th>2</th>\n",
       "      <td>2010-01-03</td>\n",
       "    </tr>\n",
       "    <tr>\n",
       "      <th>3</th>\n",
       "      <td>2010-01-04</td>\n",
       "    </tr>\n",
       "    <tr>\n",
       "      <th>4</th>\n",
       "      <td>2010-01-05</td>\n",
       "    </tr>\n",
       "    <tr>\n",
       "      <th>...</th>\n",
       "      <td>...</td>\n",
       "    </tr>\n",
       "    <tr>\n",
       "      <th>3282</th>\n",
       "      <td>2018-12-27</td>\n",
       "    </tr>\n",
       "    <tr>\n",
       "      <th>3283</th>\n",
       "      <td>2018-12-28</td>\n",
       "    </tr>\n",
       "    <tr>\n",
       "      <th>3284</th>\n",
       "      <td>2018-12-29</td>\n",
       "    </tr>\n",
       "    <tr>\n",
       "      <th>3285</th>\n",
       "      <td>2018-12-30</td>\n",
       "    </tr>\n",
       "    <tr>\n",
       "      <th>3286</th>\n",
       "      <td>2018-12-31</td>\n",
       "    </tr>\n",
       "  </tbody>\n",
       "</table>\n",
       "<p>3287 rows × 1 columns</p>\n",
       "</div>"
      ],
      "text/plain": [
       "           Date\n",
       "0    2010-01-01\n",
       "1    2010-01-02\n",
       "2    2010-01-03\n",
       "3    2010-01-04\n",
       "4    2010-01-05\n",
       "...         ...\n",
       "3282 2018-12-27\n",
       "3283 2018-12-28\n",
       "3284 2018-12-29\n",
       "3285 2018-12-30\n",
       "3286 2018-12-31\n",
       "\n",
       "[3287 rows x 1 columns]"
      ]
     },
     "execution_count": 5,
     "metadata": {},
     "output_type": "execute_result"
    }
   ],
   "source": [
    "DF = DF.loc[(DF['Date'] >= date_start) & (DF['Date'] <= date_end)].reset_index(drop=True)\n",
    "DF"
   ]
  },
  {
   "cell_type": "code",
   "execution_count": 6,
   "metadata": {},
   "outputs": [],
   "source": [
    "DF['Year'] = DF['Date'].dt.year\n",
    "DF['Month'] = DF['Date'].dt.month\n",
    "DF['Day'] = DF['Date'].dt.day"
   ]
  },
  {
   "cell_type": "code",
   "execution_count": 7,
   "metadata": {},
   "outputs": [],
   "source": [
    "DF_14 = DF.loc[DF['Day']==14]"
   ]
  },
  {
   "cell_type": "code",
   "execution_count": 8,
   "metadata": {},
   "outputs": [
    {
     "data": {
      "text/plain": [
       "109"
      ]
     },
     "execution_count": 8,
     "metadata": {},
     "output_type": "execute_result"
    }
   ],
   "source": [
    "N_entries = DF_14.shape[0] + 1\n",
    "N_entries"
   ]
  },
  {
   "cell_type": "markdown",
   "metadata": {},
   "source": [
    "## 3. Write block/txt file"
   ]
  },
  {
   "cell_type": "code",
   "execution_count": 9,
   "metadata": {},
   "outputs": [],
   "source": [
    "if True:\n",
    "    with open(f'CHD_block_{DT.now().strftime(\"%Y_%m_%d\")}_{RunN}.txt', 'w') as f:\n",
    "        f.write(f\"{N_entries},(CHD),1, Constant Head Boundary\")\n",
    "        f.write('\\n')\n",
    "\n",
    "        # Write first day of Sim\n",
    "        f.write(f'{date_start} 00:00:00')\n",
    "        date = DT.strptime(date_start, '%Y-%m-%d')\n",
    "        f.write('\\n')\n",
    "        f.write(\"001,019\")\n",
    "        f.write('\\n')\n",
    "        for j in range(1, 37+1, 2):\n",
    "            f.write(rf\" 1,2, {str(j).zfill(3)},   1.000000    ,   0.000000    ,  -999.9900    , '..\\..\\In\\CHD\\NBr5\\head_{date.strftime('%Y%m%d')}_L{j}.idf' >>> (chd) constant head (idf) <<<\")\n",
    "            f.write('\\n')\n",
    "\n",
    "        # The rest of the blocks every 14th of each month (as in the OG model)\n",
    "        for i, date in DF_14['Date'].items():\n",
    "            f.write(date.strftime(\"%Y-%m-%d %H:%M:%S\"))\n",
    "            f.write('\\n')\n",
    "            f.write(\"001,019\")\n",
    "            f.write('\\n')\n",
    "            for j in range(1, 37+1, 2):\n",
    "                f.write(rf\" 1,2, {str(j).zfill(3)},   1.000000    ,   0.000000    ,  -999.9900    , '..\\..\\In\\CHD\\NBr5\\head_{date.strftime('%Y%m%d')}_L{j}.idf' >>> (chd) constant head (idf) <<<\")\n",
    "                f.write('\\n')"
   ]
  },
  {
   "cell_type": "code",
   "execution_count": 10,
   "metadata": {},
   "outputs": [
    {
     "ename": "NameError",
     "evalue": "name 'stop' is not defined",
     "output_type": "error",
     "traceback": [
      "\u001b[1;31m---------------------------------------------------------------------------\u001b[0m",
      "\u001b[1;31mNameError\u001b[0m                                 Traceback (most recent call last)",
      "Cell \u001b[1;32mIn[10], line 1\u001b[0m\n\u001b[1;32m----> 1\u001b[0m \u001b[43mstop\u001b[49m\n",
      "\u001b[1;31mNameError\u001b[0m: name 'stop' is not defined"
     ]
    }
   ],
   "source": [
    "stop"
   ]
  },
  {
   "cell_type": "code",
   "execution_count": null,
   "metadata": {},
   "outputs": [],
   "source": [
    "with open(f'SHD_block_{DT.now().strftime(\"%Y_%m_%d\")}.txt', 'w') as f:\n",
    "    f.write(f\"{N_entries},(CHD),1, Constant Head Boundary\")\n",
    "    f.write('\\n')\n",
    "\n",
    "    f.write('2018-01-01 00:00:00')\n",
    "    date = DT(2018, 1, 1)\n",
    "    f.write('\\n')\n",
    "    f.write(\"001,019\")\n",
    "    f.write('\\n')\n",
    "    for j in range(1, 37+1, 1):\n",
    "        f.write(rf\" 1,2, {str(j).zfill(3)},   1.000000    ,   0.000000    ,  -999.9900    , '..\\..\\In\\CHD\\NBr1\\head_{date.strftime('%Y%m%d')}_L{j}.idf' >>> (shd) constant head (idf) <<<\")\n",
    "        f.write('\\n')"
   ]
  }
 ],
 "metadata": {
  "kernelspec": {
   "display_name": "Python 3",
   "language": "python",
   "name": "python3"
  },
  "language_info": {
   "codemirror_mode": {
    "name": "ipython",
    "version": 3
   },
   "file_extension": ".py",
   "mimetype": "text/x-python",
   "name": "python",
   "nbconvert_exporter": "python",
   "pygments_lexer": "ipython3",
   "version": "3.12.8"
  }
 },
 "nbformat": 4,
 "nbformat_minor": 2
}
