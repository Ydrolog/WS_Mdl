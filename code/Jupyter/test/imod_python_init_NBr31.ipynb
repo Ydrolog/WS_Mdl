{
 "cells": [
  {
   "cell_type": "markdown",
   "id": "45323fb4",
   "metadata": {},
   "source": [
    "# Imports"
   ]
  },
  {
   "cell_type": "code",
   "execution_count": null,
   "id": "5bde7958",
   "metadata": {},
   "outputs": [],
   "source": [
    "import numpy as np\n",
    "import os\n",
    "from os import listdir as LD, makedirs as MDs\n",
    "from os.path import join as PJ, basename as PBN, dirname as PDN, exists as PE\n",
    "import pandas as pd\n",
    "import shutil as sh\n",
    "from datetime import datetime as DT\n",
    "from matplotlib import pyplot as plt"
   ]
  },
  {
   "cell_type": "code",
   "execution_count": null,
   "id": "2d4f76d6",
   "metadata": {},
   "outputs": [],
   "source": [
    "from imod import msw\n",
    "from imod import mf6"
   ]
  },
  {
   "cell_type": "code",
   "execution_count": null,
   "id": "ae3f08e7",
   "metadata": {},
   "outputs": [],
   "source": [
    "import WS_Mdl.utils as U\n",
    "import WS_Mdl.utils_imod as UIM"
   ]
  },
  {
   "cell_type": "code",
   "execution_count": null,
   "id": "baa0e0c2",
   "metadata": {},
   "outputs": [],
   "source": [
    "import importlib as IL\n",
    "IL.reload(U)\n",
    "IL.reload(UIM)"
   ]
  },
  {
   "cell_type": "code",
   "execution_count": null,
   "id": "36e91d83",
   "metadata": {},
   "outputs": [],
   "source": [
    "# import imod\n",
    "# import imod.util.path\n",
    "# from imod.formats.prj.prj import open_projectfile_data\n",
    "# from imod.logging.config import LoggerType\n",
    "# from imod.logging.loglevel import LogLevel\n",
    "# from imod.mf6.oc import OutputControl\n",
    "# from imod.mf6.simulation import Modflow6Simulation\n",
    "# from imod.mf6.ims import Solution"
   ]
  },
  {
   "cell_type": "markdown",
   "id": "2125c45b",
   "metadata": {},
   "source": [
    "# Options + Basics"
   ]
  },
  {
   "cell_type": "code",
   "execution_count": null,
   "id": "7302b9fb",
   "metadata": {},
   "outputs": [],
   "source": [
    "MdlN = 'NBr31'"
   ]
  },
  {
   "cell_type": "code",
   "execution_count": null,
   "id": "ce246892",
   "metadata": {},
   "outputs": [],
   "source": [
    "U.set_verbose(False)"
   ]
  },
  {
   "cell_type": "code",
   "execution_count": null,
   "id": "a543c73a",
   "metadata": {},
   "outputs": [],
   "source": [
    "d_Pa = U.get_MdlN_Pa(MdlN)\n",
    "Pa_PRJ = d_Pa['PRJ']\n",
    "Dir_PRJ = PDN(Pa_PRJ)\n",
    "d_INI = U.INI_to_d(d_Pa['INI'])"
   ]
  },
  {
   "cell_type": "code",
   "execution_count": null,
   "id": "0815a938",
   "metadata": {},
   "outputs": [],
   "source": [
    "Xmin, Ymin, Xmax, Ymax = [float(i) for i in d_INI['WINDOW'].split(',')]\n",
    "cellsize = float(d_INI['CELLSIZE'])\n",
    "N_R, N_C = int( - (Ymin - Ymax) / cellsize ), int( (Xmax - Xmin) / cellsize )"
   ]
  },
  {
   "cell_type": "code",
   "execution_count": null,
   "id": "ee50a9cd",
   "metadata": {},
   "outputs": [],
   "source": [
    "SP_date_1st, SP_date_last = [DT.strftime(DT.strptime(d_INI[f'{i}'], '%Y%m%d'), '%Y-%m-%d') for i in ['SDATE', 'EDATE']]"
   ]
  },
  {
   "cell_type": "markdown",
   "id": "2cfecb83",
   "metadata": {},
   "source": [
    "# Read PRJ"
   ]
  },
  {
   "cell_type": "code",
   "execution_count": null,
   "id": "f5c781db",
   "metadata": {},
   "outputs": [],
   "source": [
    "PRJ_content = UIM.read_PRJ_with_OBS(Pa_PRJ)[0]"
   ]
  },
  {
   "cell_type": "code",
   "execution_count": null,
   "id": "efc6acc0",
   "metadata": {},
   "outputs": [],
   "source": [
    "PRJ_content['(bnd)']"
   ]
  },
  {
   "cell_type": "markdown",
   "id": "1479689a",
   "metadata": {},
   "source": [
    "# Load PRJ"
   ]
  },
  {
   "cell_type": "code",
   "execution_count": null,
   "id": "2db71674",
   "metadata": {},
   "outputs": [],
   "source": [
    "PRJ_, PRJ_OBS = UIM.open_PRJ_with_OBS(Pa_PRJ)"
   ]
  },
  {
   "cell_type": "code",
   "execution_count": null,
   "id": "6883a7a0",
   "metadata": {},
   "outputs": [],
   "source": [
    "Pa_PRJ"
   ]
  },
  {
   "cell_type": "code",
   "execution_count": null,
   "id": "f43af1a6",
   "metadata": {},
   "outputs": [],
   "source": [
    "PRJ = PRJ_[0]"
   ]
  },
  {
   "cell_type": "code",
   "execution_count": null,
   "id": "14e84fc3",
   "metadata": {},
   "outputs": [],
   "source": [
    "period_data = PRJ_[1]"
   ]
  },
  {
   "cell_type": "code",
   "execution_count": null,
   "id": "bff44f90",
   "metadata": {},
   "outputs": [],
   "source": [
    "# PRJ.keys()"
   ]
  },
  {
   "cell_type": "code",
   "execution_count": null,
   "id": "4e72cb5a",
   "metadata": {},
   "outputs": [],
   "source": [
    "# period_data"
   ]
  },
  {
   "cell_type": "markdown",
   "id": "4d427856",
   "metadata": {},
   "source": [
    "# Load MF6 Mdl"
   ]
  },
  {
   "cell_type": "code",
   "execution_count": null,
   "id": "aa7236f9",
   "metadata": {},
   "outputs": [],
   "source": [
    "times = pd.date_range(SP_date_1st, SP_date_last, freq='D')"
   ]
  },
  {
   "cell_type": "code",
   "execution_count": null,
   "id": "72f00356",
   "metadata": {},
   "outputs": [],
   "source": [
    "PRJ_no_cap.keys()"
   ]
  },
  {
   "cell_type": "code",
   "execution_count": null,
   "id": "93264d1c",
   "metadata": {},
   "outputs": [],
   "source": [
    "PRJ_no_cap['bnd']"
   ]
  },
  {
   "cell_type": "code",
   "execution_count": null,
   "id": "7359a61e",
   "metadata": {},
   "outputs": [],
   "source": [
    "PRJ_no_cap['chd-1']['head']"
   ]
  },
  {
   "cell_type": "code",
   "execution_count": null,
   "id": "d3f7abc6",
   "metadata": {},
   "outputs": [],
   "source": [
    "# Convert IMOD5 to MODFLOW6 (without CAP package due to mixed grid issues)\n",
    "PRJ_no_cap = PRJ.copy()\n",
    "PRJ_CAP = {}\n",
    "if \"cap\" in PRJ_no_cap:\n",
    "    PRJ_CAP['cap'] = PRJ_no_cap[\"cap\"]\n",
    "    PRJ_CAP['extra'] = PRJ_no_cap['extra']\n",
    "    del PRJ_no_cap[\"cap\"], PRJ_no_cap['extra']\n",
    "    print(\"Removed CAP package due to mixed grid compatibility issues\")\n",
    "\n",
    "Sim_MF6 = imod.mf6.Modflow6Simulation.from_imod5_data(PRJ_no_cap, period_data, times)\n",
    "print(\"Simulation created successfully!\")"
   ]
  },
  {
   "cell_type": "code",
   "execution_count": null,
   "id": "234ead8b",
   "metadata": {},
   "outputs": [],
   "source": [
    "MF6_Mdl = Sim_MF6['imported_model']"
   ]
  },
  {
   "cell_type": "code",
   "execution_count": null,
   "id": "3e51ba58",
   "metadata": {},
   "outputs": [],
   "source": [
    "MF6_Mdl[\"oc\"] = OutputControl(save_head=\"last\", save_budget=\"last\")\n",
    "    \n",
    "# Mimic iMOD5's \"Moderate\" settings\n",
    "IMS = Solution(\n",
    "    modelnames=[\"imported_model\"],\n",
    "    print_option=\"summary\",\n",
    "    outer_csvfile=None,\n",
    "    inner_csvfile=None,\n",
    "    no_ptc=None,\n",
    "    outer_dvclose=0.001,\n",
    "    outer_maximum=150,\n",
    "    under_relaxation=\"dbd\",\n",
    "    under_relaxation_theta=0.9,\n",
    "    under_relaxation_kappa=0.0001,\n",
    "    under_relaxation_gamma=0.0,\n",
    "    under_relaxation_momentum=0.0,\n",
    "    backtracking_number=0,\n",
    "    backtracking_tolerance=0.0,\n",
    "    backtracking_reduction_factor=0.0,\n",
    "    backtracking_residual_limit=0.0,\n",
    "    inner_maximum=30,\n",
    "    inner_dvclose=0.001,\n",
    "    inner_rclose=100.0,\n",
    "    rclose_option=\"strict\",\n",
    "    linear_acceleration=\"bicgstab\",\n",
    "    relaxation_factor=0.97,\n",
    "    preconditioner_levels=0,\n",
    "    preconditioner_drop_tolerance=0.0,\n",
    "    number_orthogonalizations=0,\n",
    ")\n",
    "Sim_MF6[\"ims\"] = IMS"
   ]
  },
  {
   "cell_type": "markdown",
   "id": "420df23c",
   "metadata": {},
   "source": [
    "MetaSWAP (MSW) needed to be removed, otherwise this function fails."
   ]
  },
  {
   "cell_type": "markdown",
   "id": "ccc95871",
   "metadata": {},
   "source": [
    "## Check MF6 params"
   ]
  },
  {
   "cell_type": "code",
   "execution_count": null,
   "id": "32632735",
   "metadata": {},
   "outputs": [],
   "source": [
    "MF6_Mdl['chd-1']"
   ]
  },
  {
   "cell_type": "code",
   "execution_count": null,
   "id": "b04d9afe",
   "metadata": {},
   "outputs": [],
   "source": [
    "test = MF6_Mdl['chd_merged'].dataset['head'].values"
   ]
  },
  {
   "cell_type": "code",
   "execution_count": null,
   "id": "62d4a88d",
   "metadata": {},
   "outputs": [],
   "source": [
    "test.shape"
   ]
  },
  {
   "cell_type": "code",
   "execution_count": null,
   "id": "c9676cf5",
   "metadata": {},
   "outputs": [],
   "source": [
    "plt.imshow(test[0,7,:,:])"
   ]
  },
  {
   "cell_type": "code",
   "execution_count": null,
   "id": "bcc02c1b",
   "metadata": {},
   "outputs": [],
   "source": [
    "MF6_Mdl['chd_merged'].dataset['head'].isel(time=0, layer=0).plot.imshow()"
   ]
  },
  {
   "cell_type": "code",
   "execution_count": null,
   "id": "63eab77a",
   "metadata": {},
   "outputs": [],
   "source": [
    "MF6_Mdl['chd_merged']"
   ]
  },
  {
   "cell_type": "code",
   "execution_count": null,
   "id": "03d3f528",
   "metadata": {},
   "outputs": [],
   "source": [
    "MF6_Mdl"
   ]
  },
  {
   "cell_type": "code",
   "execution_count": null,
   "id": "25723a63",
   "metadata": {},
   "outputs": [],
   "source": [
    "(~np.isnan(MF6_Mdl['chd_merged'].dataset['head'].isel(time=0, layer=0))).plot.imshow()"
   ]
  },
  {
   "cell_type": "code",
   "execution_count": null,
   "id": "ea7739f7",
   "metadata": {},
   "outputs": [],
   "source": [
    "# Diagnose CHD loading issues\n",
    "chd_data = MF6_Mdl['chd_merged'].dataset['head']\n",
    "print(f\"CHD data shape: {chd_data.shape}\")\n",
    "print(f\"CHD data type: {chd_data.dtype}\")\n",
    "print(f\"CHD data range: {chd_data.min().values} to {chd_data.max().values}\")\n",
    "print(f\"Number of non-NaN values: {(~np.isnan(chd_data)).sum().values}\")\n",
    "print(f\"Coordinates: x={chd_data.x.min().values}-{chd_data.x.max().values}, y={chd_data.y.min().values}-{chd_data.y.max().values}\")\n",
    "print(f\"Time coordinate: {chd_data.time.values}\")\n",
    "print(f\"Layer coordinate: {chd_data.layer.values}\")\n",
    "\n",
    "# Check a sample of the data\n",
    "print(f\"\\nSample data (first few non-NaN values):\")\n",
    "sample = chd_data.isel(time=0, layer=0)\n",
    "non_nan_mask = ~np.isnan(sample)\n",
    "if non_nan_mask.any():\n",
    "    print(f\"Found {non_nan_mask.sum().values} active CHD cells in layer 0\")\n",
    "else:\n",
    "    print(\"No active CHD cells found in layer 0 - checking other layers...\")\n",
    "    for i in range(min(5, chd_data.sizes['layer'])):\n",
    "        layer_sample = chd_data.isel(time=0, layer=i)\n",
    "        layer_count = (~np.isnan(layer_sample)).sum().values\n",
    "        print(f\"Layer {i}: {layer_count} active CHD cells\")"
   ]
  },
  {
   "cell_type": "markdown",
   "id": "6492a155",
   "metadata": {},
   "source": [
    "# Load MSW"
   ]
  },
  {
   "cell_type": "markdown",
   "id": "130f794e",
   "metadata": {},
   "source": [
    "## 1st attempt"
   ]
  },
  {
   "cell_type": "code",
   "execution_count": null,
   "id": "02af4484",
   "metadata": {},
   "outputs": [],
   "source": [
    "MF6_DIS = Sim_MF6[\"imported_model\"][\"dis\"]"
   ]
  },
  {
   "cell_type": "code",
   "execution_count": null,
   "id": "1ed6fe49",
   "metadata": {},
   "outputs": [],
   "source": [
    "try:\n",
    "    MSW_Mdl = MSW.MetaSwapModel.from_imod5_data(PRJ_CAP, MF6_DIS, times)\n",
    "    print(\"🎉 MetaSwap model created successfully!\")\n",
    "except Exception as e:\n",
    "    print(f\"Error creating MetaSwap model: {e}\")\n",
    "    MSW_Mdl = None"
   ]
  },
  {
   "cell_type": "markdown",
   "id": "7a4a578f",
   "metadata": {},
   "source": [
    "## 2nd attempt"
   ]
  },
  {
   "cell_type": "markdown",
   "id": "2976a908",
   "metadata": {},
   "source": [
    "### Regriding\n",
    "Match dimensions of MetaSwap model with MF6 model"
   ]
  },
  {
   "cell_type": "markdown",
   "id": "1cf4e775",
   "metadata": {},
   "source": [
    "Dimensions of MF6_DIS and MetaSWAP files do not align. Former is 100x100, latter is 25x25 m."
   ]
  },
  {
   "cell_type": "code",
   "execution_count": null,
   "id": "761ee85b",
   "metadata": {},
   "outputs": [],
   "source": [
    "# Debug the grid alignment issue\n",
    "print(\"=== Target Discretization ===\")\n",
    "print(f\"Type: {type(MF6_DIS)}\")\n",
    "print(f\"Keys: {list(MF6_DIS.keys()) if hasattr(MF6_DIS, 'keys') else 'No keys method'}\")\n",
    "\n",
    "# Access the data from MF6_DIS\n",
    "if hasattr(MF6_DIS, 'dataset'):\n",
    "    print(f\"Dataset keys: {list(MF6_DIS.dataset.keys())}\")\n",
    "    target_x = MF6_DIS.dataset.x.values\n",
    "    target_y = MF6_DIS.dataset.y.values\n",
    "else:\n",
    "    # Try accessing as a dataset directly\n",
    "    target_x = MF6_DIS.x.values\n",
    "    target_y = MF6_DIS.y.values\n",
    "\n",
    "print(f\"Target X range: {target_x.min()} to {target_x.max()}, length: {len(target_x)}\")\n",
    "print(f\"Target Y range: {target_y.min()} to {target_y.max()}, length: {len(target_y)}\")\n",
    "\n",
    "print(\"\\n=== CAP Data ===\")\n",
    "sample_cap = PRJ_CAP['cap']['urban_area']\n",
    "cap_x = sample_cap.x.values\n",
    "cap_y = sample_cap.y.values\n",
    "print(f\"CAP X range: {cap_x.min()} to {cap_x.max()}, length: {len(cap_x)}\")\n",
    "print(f\"CAP Y range: {cap_y.min()} to {cap_y.max()}, length: {len(cap_y)}\")\n",
    "\n",
    "print(f\"\\n=== Comparison ===\")\n",
    "print(f\"X grids compatible: {len(target_x) == len(cap_x) and np.allclose(target_x, cap_x)}\")\n",
    "print(f\"Y grids compatible: {len(target_y) == len(cap_y) and np.allclose(target_y, cap_y)}\")"
   ]
  },
  {
   "cell_type": "code",
   "execution_count": null,
   "id": "370df6d5",
   "metadata": {},
   "outputs": [],
   "source": [
    "# # Remove 'extra' from cap if it exists (to avoid isel error on metadata)\n",
    "# if 'extra' in PRJ_CAP['cap'].keys():\n",
    "#     PRJ_CAP['cap']['extra']"
   ]
  },
  {
   "cell_type": "code",
   "execution_count": null,
   "id": "657d8dde",
   "metadata": {},
   "outputs": [],
   "source": [
    "# Get the MODFLOW6 extent (target domain)\n",
    "MF6_x_min, MF6_x_max = MF6_DIS.dataset.x.min().item(), MF6_DIS.dataset.x.max().item()\n",
    "MF6_y_min, MF6_y_max = MF6_DIS.dataset.y.min().item(), MF6_DIS.dataset.y.max().item()\n",
    "print(f\"MODFLOW6 domain: X({MF6_x_min:.1f} to {MF6_x_max:.1f}), Y({MF6_y_min:.1f} to {MF6_y_max:.1f})\")"
   ]
  },
  {
   "cell_type": "code",
   "execution_count": null,
   "id": "7ba85269",
   "metadata": {},
   "outputs": [],
   "source": [
    "# Get CAP grid info\n",
    "sample_cap = PRJ_CAP['cap']['urban_area']\n",
    "cap_dx = abs(sample_cap.x.values[1] - sample_cap.x.values[0])  # CAP resolution (absolute value)\n",
    "cap_dy = abs(sample_cap.y.values[1] - sample_cap.y.values[0])  # CAP resolution (absolute value)\n",
    "print(f\"CAP grid resolution: dx={cap_dx:.1f}m, dy={cap_dy:.1f}m\")"
   ]
  },
  {
   "cell_type": "code",
   "execution_count": null,
   "id": "b742a0a8",
   "metadata": {},
   "outputs": [],
   "source": [
    "# Create exact coordinates for the refined grid within MODFLOW6 domain\n",
    "refined_x = np.arange(MF6_x_min + cap_dx/2, MF6_x_max, cap_dx)\n",
    "refined_y = np.arange(MF6_y_max - cap_dy/2, MF6_y_min, -cap_dy)\n",
    "print(f\"Refined grid: x from {refined_x.min():.1f} to {refined_x.max():.1f} ({len(refined_x)} cells)\")\n",
    "print(f\"Refined grid: y from {refined_y.min():.1f} to {refined_y.max():.1f} ({len(refined_y)} cells)\")"
   ]
  },
  {
   "cell_type": "code",
   "execution_count": null,
   "id": "4abf7e67",
   "metadata": {},
   "outputs": [],
   "source": [
    "# Create a refined target discretization\n",
    "MF6_DIS_refined = MF6_DIS.dataset.interp(\n",
    "    x=refined_x,\n",
    "    y=refined_y,\n",
    "    method='nearest'\n",
    ")\n",
    "MF6_DIS_refined['idomain'] = MF6_DIS_refined['idomain'].astype(int)"
   ]
  },
  {
   "cell_type": "code",
   "execution_count": null,
   "id": "e61e3e0b",
   "metadata": {},
   "outputs": [],
   "source": [
    "# Convert back to StructuredDiscretization\n",
    "MF6_DIS = StructuredDiscretization(\n",
    "    idomain=MF6_DIS_refined['idomain'],\n",
    "    top=MF6_DIS_refined['top'],\n",
    "    bottom=MF6_DIS_refined['bottom']\n",
    ")\n",
    "print(f\"Refined MF6_DIS shape: {MF6_DIS.dataset.sizes}\")"
   ]
  },
  {
   "cell_type": "code",
   "execution_count": null,
   "id": "85899feb",
   "metadata": {},
   "outputs": [],
   "source": [
    "# Now regrid all CAP data to the exact refined coordinates\n",
    "PRJ_CAP_regridded = {'cap': {}}\n",
    "for key, data in PRJ_CAP['cap'].items():\n",
    "    print(f\"Processing {key}: dims = {data.dims}\")\n",
    "    \n",
    "    # Check if data has spatial dimensions (x, y)\n",
    "    if 'x' in data.dims and 'y' in data.dims:\n",
    "        if key == 'wetted_area':\n",
    "            # For area-related fields, we need to preserve the total area\n",
    "            # The wetted_area represents the actual area, which should remain as cell area\n",
    "            regridded_data = data.interp(x=refined_x, y=refined_y, method='nearest')\n",
    "            # Set to full cell area (25m x 25m = 625 m²)\n",
    "            PRJ_CAP_regridded['cap'][key] = regridded_data * 0 + (cap_dx * cap_dy)\n",
    "        else:\n",
    "            # For other spatial data, interpolate normally\n",
    "            PRJ_CAP_regridded['cap'][key] = data.interp(\n",
    "                x=refined_x,\n",
    "                y=refined_y,\n",
    "                method='nearest'\n",
    "            )\n",
    "    else:\n",
    "        # Keep non-spatial data as is\n",
    "        PRJ_CAP_regridded['cap'][key] = data\n",
    "print(\"CAP data regridding completed.\")"
   ]
  },
  {
   "cell_type": "code",
   "execution_count": null,
   "id": "3468b1c2",
   "metadata": {},
   "outputs": [],
   "source": [
    "# Merge with extra metadata\n",
    "PRJ_CAP_for_MSW = {**PRJ_CAP_regridded, **{'extra': {**PRJ_CAP['extra']}}}"
   ]
  },
  {
   "cell_type": "markdown",
   "id": "aa0f189b",
   "metadata": {},
   "source": [
    "### Fix mete_grid.inp relative paths\n",
    "MSW.MetaSwapModel.from_imod5_data is struggling with relative paths, so we'll convert them to full paths. #666 caution, if they're already full paths, this may cause an error."
   ]
  },
  {
   "cell_type": "code",
   "execution_count": null,
   "id": "0bcd8aad",
   "metadata": {},
   "outputs": [],
   "source": [
    "# Get the original mete_grid.inp file path\n",
    "Pa_mete_grid = PRJ_CAP['extra']['paths'][2][0]  # 3rd file (index 2) (by design in imod - i.e. the order can't change)\n",
    "print(f\"Original file: {Pa_mete_grid}\")"
   ]
  },
  {
   "cell_type": "code",
   "execution_count": null,
   "id": "9045fdb9",
   "metadata": {},
   "outputs": [],
   "source": [
    "# Load mete_grid, edit and save it \n",
    "Dir_mete_grid = PDN(Pa_mete_grid)\n",
    "Pa_mete_grid_AbsPa = PJ( PDN(Pa_mete_grid), 'temp', 'mete_grid.inp')\n",
    "if not PE(PDN(Pa_mete_grid_AbsPa)):\n",
    "    MDs(PDN(Pa_mete_grid_AbsPa))\n",
    "\n",
    "DF = pd.read_csv(Pa_mete_grid, header=None, names=['N', 'Y', 'P', 'PET'])\n",
    "DF.P = DF.P.apply(lambda x: os.path.abspath( PJ(Dir_PRJ, x) ))\n",
    "DF.PET = DF.PET.apply(lambda x: os.path.abspath( PJ(Dir_PRJ, x) ))  # Fixed: was DF.P instead of DF.PET"
   ]
  },
  {
   "cell_type": "code",
   "execution_count": null,
   "id": "6018fc31",
   "metadata": {},
   "outputs": [],
   "source": [
    "# Write CSV with proper format to avoid imod parsing issues with newlines\n",
    "# imod doesn't strip newlines from paths, so we need to format carefully\n",
    "corrected_lines = []\n",
    "for index, row in DF.iterrows():\n",
    "    # Add quotes around paths like the original format\n",
    "    line = f'{row[\"N\"]},{row[\"Y\"]},\"{row[\"P\"]}\",\"{row[\"PET\"]}\"'\n",
    "    corrected_lines.append(line)\n",
    "\n",
    "# Write without newlines in path columns\n",
    "with open(Pa_mete_grid_AbsPa, 'w') as f:\n",
    "    for i, line in enumerate(corrected_lines):\n",
    "        if i == len(corrected_lines) - 1:  # Last line - no newline\n",
    "            f.write(line)\n",
    "        else:\n",
    "            f.write(line + '\\n')\n",
    "\n",
    "print(f\"Created corrected mete_grid.inp: {Pa_mete_grid_AbsPa}\") "
   ]
  },
  {
   "cell_type": "code",
   "execution_count": null,
   "id": "90bd32c3",
   "metadata": {},
   "outputs": [],
   "source": [
    "# Replace the mete_grid.inp path in the PRJ_CAP_for_MSW dictionary\n",
    "PRJ_CAP_for_MSW['extra']['paths'][2][0] = Pa_mete_grid_AbsPa"
   ]
  },
  {
   "cell_type": "markdown",
   "id": "e2bcabf7",
   "metadata": {},
   "source": [
    "### Finally load MS Sim"
   ]
  },
  {
   "cell_type": "code",
   "execution_count": null,
   "id": "d5005945",
   "metadata": {},
   "outputs": [],
   "source": [
    "# Create the MetaSwap model\n",
    "MSW_Mdl = MSW.MetaSwapModel.from_imod5_data(PRJ_CAP_for_MSW, MF6_DIS, times)\n",
    "print(\"🎉 MetaSwap model created successfully!\")"
   ]
  },
  {
   "cell_type": "markdown",
   "id": "18451460",
   "metadata": {},
   "source": [
    "# Connect MF6 to MetaSWAP"
   ]
  },
  {
   "cell_type": "markdown",
   "id": "ba574058",
   "metadata": {},
   "source": [
    "## Clip models"
   ]
  },
  {
   "cell_type": "code",
   "execution_count": null,
   "id": "06f90a7f",
   "metadata": {},
   "outputs": [],
   "source": [
    "Sim_MF6_AoI = Sim_MF6.clip_box(x_min=Xmin, x_max=Xmax, y_min=Ymin, y_max=Ymax)\n",
    "MSW_Mdl_AoI = MSW_Mdl.clip_box(x_min=Xmin, x_max=Xmax, y_min=Ymin, y_max=Ymax)"
   ]
  },
  {
   "cell_type": "markdown",
   "id": "55116693",
   "metadata": {},
   "source": [
    "#### Sense check"
   ]
  },
  {
   "cell_type": "code",
   "execution_count": null,
   "id": "8979c992",
   "metadata": {},
   "outputs": [],
   "source": [
    "Xmin, Xmax, Ymin, Ymax"
   ]
  },
  {
   "cell_type": "code",
   "execution_count": null,
   "id": "e0060722",
   "metadata": {},
   "outputs": [],
   "source": [
    "MF6_Mdl_AoI = Sim_MF6_AoI['imported_model']"
   ]
  },
  {
   "cell_type": "code",
   "execution_count": null,
   "id": "44f2727b",
   "metadata": {},
   "outputs": [],
   "source": [
    "MF6_Mdl_AoI['dis']['x'].min().values, MF6_Mdl_AoI['dis']['x'].max().values, \\\n",
    "MF6_Mdl_AoI['dis']['y'].min().values, MF6_Mdl_AoI['dis']['y'].max().values"
   ]
  },
  {
   "cell_type": "markdown",
   "id": "fe2efe09",
   "metadata": {},
   "source": [
    "Makes sense as those are cell centers. (dx=dy=100m)"
   ]
  },
  {
   "cell_type": "markdown",
   "id": "5648db6c",
   "metadata": {},
   "source": [
    "## Load models into memory"
   ]
  },
  {
   "cell_type": "code",
   "execution_count": null,
   "id": "0d2b2aab",
   "metadata": {},
   "outputs": [],
   "source": [
    "for pkg in MF6_Mdl_AoI.values():\n",
    "    pkg.dataset.load()\n",
    "\n",
    "for pkg in MSW_Mdl_AoI.values():\n",
    "    pkg.dataset.load()"
   ]
  },
  {
   "cell_type": "markdown",
   "id": "f94ab962",
   "metadata": {},
   "source": [
    "## Cleanup"
   ]
  },
  {
   "cell_type": "markdown",
   "id": "3a3272ea",
   "metadata": {},
   "source": [
    "### MF6"
   ]
  },
  {
   "cell_type": "code",
   "execution_count": null,
   "id": "75111d78",
   "metadata": {},
   "outputs": [],
   "source": [
    "mask = MF6_Mdl_AoI.domain"
   ]
  },
  {
   "cell_type": "code",
   "execution_count": null,
   "id": "3a6df0b6",
   "metadata": {},
   "outputs": [],
   "source": [
    "mask.sel({'layer':5}).plot.imshow( #111 Just to check the mask\n",
    "    cmap='gray')"
   ]
  },
  {
   "cell_type": "code",
   "execution_count": null,
   "id": "e33a6e4b",
   "metadata": {},
   "outputs": [],
   "source": [
    "Sim_MF6_AoI.mask_all_models(mask)\n",
    "DIS_AoI = MF6_Mdl_AoI[\"dis\"]"
   ]
  },
  {
   "cell_type": "markdown",
   "id": "e8fb43f1",
   "metadata": {},
   "source": [
    "### Check if IMS has changed after clipping"
   ]
  },
  {
   "cell_type": "code",
   "execution_count": null,
   "id": "03c3ac0c",
   "metadata": {},
   "outputs": [],
   "source": [
    "Sim_MF6['ims'] == Sim_MF6_AoI['ims']"
   ]
  },
  {
   "cell_type": "code",
   "execution_count": null,
   "id": "68c492f1",
   "metadata": {},
   "outputs": [],
   "source": [
    "IMS_AoI = Sim_MF6_AoI['ims']\n",
    "IMS_AoI_Vars = [attr for attr in dir(IMS_AoI) if not attr.startswith('_') and not callable(getattr(IMS_AoI, attr))]\n",
    "IMS_Vars = [attr for attr in dir(IMS) if not attr.startswith('_') and not callable(getattr(IMS, attr))]\n",
    "for var in IMS_AoI_Vars:\n",
    "    if getattr(IMS_AoI, var) != getattr(IMS, var):\n",
    "        print(f\"{var}: \\n{getattr(IMS_AoI, var)}\\n{getattr(IMS, var)}\")"
   ]
  },
  {
   "cell_type": "markdown",
   "id": "8d23b5eb",
   "metadata": {},
   "source": [
    "False shows it's changed, but I don't see anything different."
   ]
  },
  {
   "cell_type": "code",
   "execution_count": null,
   "id": "a7a865e4",
   "metadata": {},
   "outputs": [],
   "source": [
    "IMS.dataset.equals(IMS_AoI.dataset)"
   ]
  },
  {
   "cell_type": "markdown",
   "id": "28402e57",
   "metadata": {},
   "source": [
    "This confirms the settings are identical. It's just that clipping creates a new object hash, that's why == didn't show True."
   ]
  },
  {
   "cell_type": "markdown",
   "id": "887c7797",
   "metadata": {},
   "source": [
    "### Check if the packages are the same"
   ]
  },
  {
   "cell_type": "code",
   "execution_count": null,
   "id": "01481d3a",
   "metadata": {},
   "outputs": [],
   "source": [
    "MF6_Mdl.keys() == MF6_Mdl_AoI.keys()"
   ]
  },
  {
   "cell_type": "code",
   "execution_count": null,
   "id": "73874bd6",
   "metadata": {},
   "outputs": [],
   "source": [
    "# Detailed comparison of MF6 model packages\n",
    "print(\"=== MF6 Model Package Comparison ===\")\n",
    "\n",
    "# Get the keys from both models\n",
    "original_keys = set(MF6_Mdl.keys())\n",
    "aoi_keys = set(MF6_Mdl_AoI.keys())\n",
    "\n",
    "print(f\"Original model packages: {len(original_keys)}\")\n",
    "print(f\"AoI model packages: {len(aoi_keys)}\")\n",
    "\n",
    "# Find differences\n",
    "only_in_original = original_keys - aoi_keys\n",
    "only_in_aoi = aoi_keys - original_keys\n",
    "common_keys = original_keys & aoi_keys\n",
    "\n",
    "print(f\"\\nPackages only in original model ({len(only_in_original)}):\")\n",
    "for key in sorted(only_in_original):\n",
    "    print(f\"  - {key}\")\n",
    "\n",
    "print(f\"\\nPackages only in AoI model ({len(only_in_aoi)}):\")\n",
    "for key in sorted(only_in_aoi):\n",
    "    print(f\"  - {key}\")\n",
    "\n",
    "print(f\"\\nCommon packages ({len(common_keys)}):\")\n",
    "for key in sorted(common_keys):\n",
    "    print(f\"  - {key}\")\n",
    "\n",
    "# Check if it's just an ordering issue\n",
    "print(f\"\\nSame packages (different order): {original_keys == aoi_keys}\")\n",
    "print(f\"Original keys (ordered): {sorted(original_keys)}\")\n",
    "print(f\"AoI keys (ordered): {sorted(aoi_keys)}\")"
   ]
  },
  {
   "cell_type": "code",
   "execution_count": null,
   "id": "46a5bb71",
   "metadata": {},
   "outputs": [],
   "source": [
    "# Check if the difference is related to the masking operation\n",
    "print(\"\\n=== Impact of Masking Operation ===\")\n",
    "\n",
    "# The masking operation (Sim_MF6_AoI.mask_all_models(mask)) might have removed some packages\n",
    "# that are entirely outside the domain or have no active cells after masking\n",
    "\n",
    "# Let's check if any packages were removed due to masking\n",
    "print(\"Note: The masking operation might remove packages that have no active cells in the AoI\")\n",
    "\n",
    "# Check for specific package types that are commonly affected by clipping/masking\n",
    "potentially_affected = ['wel', 'drn', 'riv', 'ghb', 'chd', 'rch', 'evt']\n",
    "for pkg_type in potentially_affected:\n",
    "    orig_matches = [k for k in original_keys if pkg_type in k.lower()]\n",
    "    aoi_matches = [k for k in aoi_keys if pkg_type in k.lower()]\n",
    "    \n",
    "    if len(orig_matches) != len(aoi_matches):\n",
    "        print(f\"\\n{pkg_type.upper()} packages:\")\n",
    "        print(f\"  Original: {orig_matches}\")\n",
    "        print(f\"  AoI: {aoi_matches}\")\n",
    "        print(f\"  Difference: {len(orig_matches) - len(aoi_matches)} packages removed\")\n",
    "\n",
    "# Check the masking operation that was performed\n",
    "print(f\"\\nMask shape: {mask.shape if hasattr(mask, 'shape') else 'No shape attribute'}\")\n",
    "print(f\"Mask type: {type(mask)}\")\n",
    "\n",
    "# Count active cells in mask\n",
    "try:\n",
    "    if hasattr(mask, 'values'):\n",
    "        active_cells = (mask.values > 0).sum()\n",
    "        total_cells = mask.values.size\n",
    "        print(f\"Active cells in mask: {active_cells}/{total_cells} ({100*active_cells/total_cells:.1f}%)\")\n",
    "except:\n",
    "    print(\"Could not compute active cell statistics\")"
   ]
  },
  {
   "cell_type": "code",
   "execution_count": null,
   "id": "5f0c1f87",
   "metadata": {},
   "outputs": [],
   "source": [
    "MF6_Mdl['chd_merged'].dataset['head'].sel(time='2010-01-01', layer=1).plot.imshow()"
   ]
  },
  {
   "cell_type": "markdown",
   "id": "e3855b5b",
   "metadata": {},
   "source": [
    "** CHD is not plotting properly. We need to check if the input files have been read properly in more regular interval **"
   ]
  },
  {
   "cell_type": "markdown",
   "id": "53e2e680",
   "metadata": {},
   "source": [
    "### MSW"
   ]
  },
  {
   "cell_type": "code",
   "execution_count": null,
   "id": "787f64f8",
   "metadata": {},
   "outputs": [],
   "source": [
    "MF6_Mdl.keys()"
   ]
  },
  {
   "cell_type": "code",
   "execution_count": null,
   "id": "511f2b0b",
   "metadata": {},
   "outputs": [],
   "source": [
    "for Pkg in MF6_Mdl_AoI.keys():\n",
    "    print(Pkg)"
   ]
  },
  {
   "cell_type": "code",
   "execution_count": null,
   "id": "dfadb000",
   "metadata": {},
   "outputs": [],
   "source": [
    "# Cleanup MetaSWAP\n",
    "msw_model_clipped[\"grid\"].dataset[\"rootzone_depth\"] = msw_model_clipped[\"grid\"].dataset[\"rootzone_depth\"].fillna(1.0)\n",
    "\n",
    "import primod\n",
    "\n",
    "metamod_coupling = primod.MetaModDriverCoupling(mf6_model=\"imported_model\", mf6_recharge_package=\"msw-rch\", mf6_wel_package=\"msw-sprinkling\")\n",
    "metamod = primod.MetaMod(msw_model_clipped, simulation_clipped, coupling_list=[metamod_coupling])\n",
    "\n",
    "metamod.write(out_dir, \"modflow6_dll\", \"metaswap_dll\", \"metaswap_dll_dependency\", modflow6_write_kwargs={\"binary\": False})\n"
   ]
  },
  {
   "cell_type": "markdown",
   "id": "030ad3e4",
   "metadata": {},
   "source": [
    "# Write Simulation"
   ]
  },
  {
   "cell_type": "code",
   "execution_count": null,
   "id": "73236099",
   "metadata": {},
   "outputs": [],
   "source": [
    "Sim_MF6_AoI.mask_all_models(mask)"
   ]
  },
  {
   "cell_type": "code",
   "execution_count": null,
   "id": "eb27d629",
   "metadata": {},
   "outputs": [],
   "source": [
    "Dir_Sim = d_Pa['Pa_MdlN']"
   ]
  },
  {
   "cell_type": "code",
   "execution_count": null,
   "id": "e24a46f8",
   "metadata": {},
   "outputs": [],
   "source": [
    "os.makedirs(Dir_Sim, exist_ok=True)"
   ]
  },
  {
   "cell_type": "code",
   "execution_count": null,
   "id": "677dd70d",
   "metadata": {},
   "outputs": [],
   "source": [
    "from imod.schemata import ValidationError\n",
    "\n",
    "with imod.util.print_if_error(ValidationError):\n",
    "    MF6_Sim.write(Dir_Sim)  # Attention: this will fail!"
   ]
  },
  {
   "cell_type": "markdown",
   "id": "060a5f30",
   "metadata": {},
   "source": [
    "# Junkyard"
   ]
  },
  {
   "cell_type": "markdown",
   "id": "f8a103b6",
   "metadata": {},
   "source": [
    "#### Test sim without cap"
   ]
  },
  {
   "cell_type": "markdown",
   "id": "504b7fc0",
   "metadata": {},
   "source": [
    " <!-- # Simple solution: Remove CAP package and test if conversion works\n",
    " print(\"=== Testing Without CAP Package ===\")\n",
    "\n",
    " # Create a copy of PRJ without the CAP package\n",
    " PRJ_no_cap = PRJ.copy()\n",
    " if \"cap\" in PRJ_no_cap:\n",
    "     del PRJ_no_cap[\"cap\"]\n",
    "     print(\"CAP package removed from PRJ\")\n",
    " else:\n",
    "     print(\"CAP package not found in PRJ\")\n",
    "\n",
    " print(f\"Original PRJ keys: {list(PRJ.keys())}\")\n",
    " print(f\"PRJ without CAP keys: {list(PRJ_no_cap.keys())}\")\n",
    "\n",
    " # Test the conversion without CAP\n",
    " try:\n",
    "     print(\"\\n=== Testing Simulation Conversion Without CAP ===\")\n",
    "     simulation = imod.MF6.Modflow6Simulation.from_imod5_data(PRJ_no_cap, period_data, times)\n",
    "     print(\"SUCCESS: Simulation created without CAP package!\")\n",
    "     print(f\"Simulation keys: {list(simulation.keys())}\")\n",
    "    \n",
    "     # Check what packages were created\n",
    "     if \"imported_model\" in simulation:\n",
    "         model = simulation[\"imported_model\"]\n",
    "         print(f\"Model packages: {list(model.keys())}\")\n",
    "        \n",
    " except Exception as e:\n",
    "     print(f\"Error without CAP: {e}\")\n",
    "     import traceback\n",
    "     traceback.print_exc() -->"
   ]
  },
  {
   "cell_type": "markdown",
   "id": "2f0f474d",
   "metadata": {},
   "source": [
    "#### Investigate well error"
   ]
  },
  {
   "cell_type": "markdown",
   "id": "ae2382b8",
   "metadata": {},
   "source": [
    "from imod.MF6.wel import LayeredWell, Well"
   ]
  },
  {
   "cell_type": "markdown",
   "id": "061bef74",
   "metadata": {},
   "source": [
    "PRJ['wel-WEL_Br_Wa_T_NBr1']['layer']"
   ]
  },
  {
   "cell_type": "markdown",
   "id": "db1688bd",
   "metadata": {},
   "source": [
    "Well.from_imod5_data('wel-WEL_Br_Wa_T_NBr1', PRJ, times)"
   ]
  },
  {
   "cell_type": "markdown",
   "id": "db2b363a",
   "metadata": {},
   "source": [
    "os.remove(Pa_PRJ_temp)  # Delete temp PRJ file as it's not needed anymore."
   ]
  }
 ],
 "metadata": {
  "kernelspec": {
   "display_name": "Python 3",
   "language": "python",
   "name": "python3"
  },
  "language_info": {
   "codemirror_mode": {
    "name": "ipython",
    "version": 3
   },
   "file_extension": ".py",
   "mimetype": "text/x-python",
   "name": "python",
   "nbconvert_exporter": "python",
   "pygments_lexer": "ipython3",
   "version": "3.12.8"
  }
 },
 "nbformat": 4,
 "nbformat_minor": 5
}
