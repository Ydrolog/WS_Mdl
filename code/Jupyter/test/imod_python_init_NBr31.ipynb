{
 "cells": [
  {
   "cell_type": "markdown",
   "id": "45323fb4",
   "metadata": {},
   "source": [
    "# Imports"
   ]
  },
  {
   "cell_type": "code",
   "execution_count": 1,
   "id": "5bde7958",
   "metadata": {},
   "outputs": [],
   "source": [
    "import numpy as np\n",
    "import os\n",
    "from os import listdir as LD, makedirs as MDs\n",
    "from os.path import join as PJ, basename as PBN, dirname as PDN, exists as PE\n",
    "import pandas as pd\n",
    "import shutil as sh\n",
    "from datetime import datetime as DT\n",
    "from matplotlib import pyplot as plt"
   ]
  },
  {
   "cell_type": "code",
   "execution_count": 2,
   "id": "2d4f76d6",
   "metadata": {},
   "outputs": [],
   "source": [
    "from imod import msw\n",
    "from imod import mf6"
   ]
  },
  {
   "cell_type": "code",
   "execution_count": 3,
   "id": "ae3f08e7",
   "metadata": {},
   "outputs": [],
   "source": [
    "import WS_Mdl.utils as U\n",
    "import WS_Mdl.utils_imod as UIM"
   ]
  },
  {
   "cell_type": "code",
   "execution_count": 4,
   "id": "baa0e0c2",
   "metadata": {},
   "outputs": [
    {
     "data": {
      "text/plain": [
       "<module 'WS_Mdl.utils_imod' from 'C:\\\\Users\\\\Karam014\\\\OneDrive - Universiteit Utrecht\\\\WS_Mdl\\\\code\\\\WS_Mdl\\\\utils_imod.py'>"
      ]
     },
     "execution_count": 4,
     "metadata": {},
     "output_type": "execute_result"
    }
   ],
   "source": [
    "import importlib as IL\n",
    "IL.reload(U)\n",
    "IL.reload(UIM)"
   ]
  },
  {
   "cell_type": "code",
   "execution_count": 5,
   "id": "36e91d83",
   "metadata": {},
   "outputs": [],
   "source": [
    "# import imod\n",
    "# import imod.util.path\n",
    "# from imod.formats.prj.prj import open_projectfile_data\n",
    "# from imod.logging.config import LoggerType\n",
    "# from imod.logging.loglevel import LogLevel\n",
    "# from imod.mf6.oc import OutputControl\n",
    "# from imod.mf6.simulation import Modflow6Simulation\n",
    "# from imod.mf6.ims import Solution"
   ]
  },
  {
   "cell_type": "markdown",
   "id": "2125c45b",
   "metadata": {},
   "source": [
    "# Options + Basics"
   ]
  },
  {
   "cell_type": "code",
   "execution_count": 6,
   "id": "7302b9fb",
   "metadata": {},
   "outputs": [],
   "source": [
    "MdlN = 'NBr31'"
   ]
  },
  {
   "cell_type": "code",
   "execution_count": 7,
   "id": "ce246892",
   "metadata": {},
   "outputs": [],
   "source": [
    "U.set_verbose(False)"
   ]
  },
  {
   "cell_type": "code",
   "execution_count": 8,
   "id": "a543c73a",
   "metadata": {},
   "outputs": [],
   "source": [
    "d_Pa = U.get_MdlN_Pa(MdlN)\n",
    "Pa_PRJ = d_Pa['PRJ']\n",
    "Dir_PRJ = PDN(Pa_PRJ)\n",
    "d_INI = U.INI_to_d(d_Pa['INI'])"
   ]
  },
  {
   "cell_type": "code",
   "execution_count": 9,
   "id": "0815a938",
   "metadata": {},
   "outputs": [],
   "source": [
    "Xmin, Ymin, Xmax, Ymax = [float(i) for i in d_INI['WINDOW'].split(',')]\n",
    "# cellsize = float(d_INI['CELLSIZE'])\n",
    "# N_R, N_C = int( - (Ymin - Ymax) / cellsize ), int( (Xmax - Xmin) / cellsize )"
   ]
  },
  {
   "cell_type": "code",
   "execution_count": 10,
   "id": "ee50a9cd",
   "metadata": {},
   "outputs": [],
   "source": [
    "SP_date_1st, SP_date_last = [DT.strftime(DT.strptime(d_INI[f'{i}'], '%Y%m%d'), '%Y-%m-%d') for i in ['SDATE', 'EDATE']]"
   ]
  },
  {
   "cell_type": "markdown",
   "id": "2cfecb83",
   "metadata": {},
   "source": [
    "# Read PRJ"
   ]
  },
  {
   "cell_type": "code",
   "execution_count": 11,
   "id": "f5c781db",
   "metadata": {},
   "outputs": [],
   "source": [
    "PRJ_content = UIM.read_PRJ_with_OBS(Pa_PRJ)[0]"
   ]
  },
  {
   "cell_type": "markdown",
   "id": "1479689a",
   "metadata": {},
   "source": [
    "# Load PRJ"
   ]
  },
  {
   "cell_type": "code",
   "execution_count": 12,
   "id": "2db71674",
   "metadata": {},
   "outputs": [],
   "source": [
    "PRJ_, PRJ_OBS = UIM.open_PRJ_with_OBS(Pa_PRJ)"
   ]
  },
  {
   "cell_type": "code",
   "execution_count": 13,
   "id": "f43af1a6",
   "metadata": {},
   "outputs": [],
   "source": [
    "PRJ = PRJ_[0]"
   ]
  },
  {
   "cell_type": "code",
   "execution_count": 14,
   "id": "14e84fc3",
   "metadata": {},
   "outputs": [],
   "source": [
    "period_data = PRJ_[1]"
   ]
  },
  {
   "cell_type": "markdown",
   "id": "3e2f13d7",
   "metadata": {},
   "source": [
    "# Load DIS and limit to Mdl Aa"
   ]
  },
  {
   "cell_type": "code",
   "execution_count": 15,
   "id": "43382cb3",
   "metadata": {},
   "outputs": [],
   "source": [
    "A_BND = PRJ['bnd']['ibound']"
   ]
  },
  {
   "cell_type": "code",
   "execution_count": 16,
   "id": "2b8a25e3",
   "metadata": {},
   "outputs": [
    {
     "data": {
      "text/plain": [
       "(37, 1126, 1503)"
      ]
     },
     "execution_count": 16,
     "metadata": {},
     "output_type": "execute_result"
    }
   ],
   "source": [
    "# A_BND_init = A_BND.copy()\n",
    "# A_BND_init.shape"
   ]
  },
  {
   "cell_type": "code",
   "execution_count": 17,
   "id": "a7dfbcd0",
   "metadata": {},
   "outputs": [
    {
     "name": "stdout",
     "output_type": "stream",
     "text": [
      "Original ibound shape: (37, 1126, 1503)\n",
      "Subsetted ibound shape: (37, 86, 120)\n"
     ]
    },
    {
     "data": {
      "text/html": [
       "<div><svg style=\"position: absolute; width: 0; height: 0; overflow: hidden\">\n",
       "<defs>\n",
       "<symbol id=\"icon-database\" viewBox=\"0 0 32 32\">\n",
       "<path d=\"M16 0c-8.837 0-16 2.239-16 5v4c0 2.761 7.163 5 16 5s16-2.239 16-5v-4c0-2.761-7.163-5-16-5z\"></path>\n",
       "<path d=\"M16 17c-8.837 0-16-2.239-16-5v6c0 2.761 7.163 5 16 5s16-2.239 16-5v-6c0 2.761-7.163 5-16 5z\"></path>\n",
       "<path d=\"M16 26c-8.837 0-16-2.239-16-5v6c0 2.761 7.163 5 16 5s16-2.239 16-5v-6c0 2.761-7.163 5-16 5z\"></path>\n",
       "</symbol>\n",
       "<symbol id=\"icon-file-text2\" viewBox=\"0 0 32 32\">\n",
       "<path d=\"M28.681 7.159c-0.694-0.947-1.662-2.053-2.724-3.116s-2.169-2.030-3.116-2.724c-1.612-1.182-2.393-1.319-2.841-1.319h-15.5c-1.378 0-2.5 1.121-2.5 2.5v27c0 1.378 1.122 2.5 2.5 2.5h23c1.378 0 2.5-1.122 2.5-2.5v-19.5c0-0.448-0.137-1.23-1.319-2.841zM24.543 5.457c0.959 0.959 1.712 1.825 2.268 2.543h-4.811v-4.811c0.718 0.556 1.584 1.309 2.543 2.268zM28 29.5c0 0.271-0.229 0.5-0.5 0.5h-23c-0.271 0-0.5-0.229-0.5-0.5v-27c0-0.271 0.229-0.5 0.5-0.5 0 0 15.499-0 15.5 0v7c0 0.552 0.448 1 1 1h7v19.5z\"></path>\n",
       "<path d=\"M23 26h-14c-0.552 0-1-0.448-1-1s0.448-1 1-1h14c0.552 0 1 0.448 1 1s-0.448 1-1 1z\"></path>\n",
       "<path d=\"M23 22h-14c-0.552 0-1-0.448-1-1s0.448-1 1-1h14c0.552 0 1 0.448 1 1s-0.448 1-1 1z\"></path>\n",
       "<path d=\"M23 18h-14c-0.552 0-1-0.448-1-1s0.448-1 1-1h14c0.552 0 1 0.448 1 1s-0.448 1-1 1z\"></path>\n",
       "</symbol>\n",
       "</defs>\n",
       "</svg>\n",
       "<style>/* CSS stylesheet for displaying xarray objects in jupyterlab.\n",
       " *\n",
       " */\n",
       "\n",
       ":root {\n",
       "  --xr-font-color0: var(--jp-content-font-color0, rgba(0, 0, 0, 1));\n",
       "  --xr-font-color2: var(--jp-content-font-color2, rgba(0, 0, 0, 0.54));\n",
       "  --xr-font-color3: var(--jp-content-font-color3, rgba(0, 0, 0, 0.38));\n",
       "  --xr-border-color: var(--jp-border-color2, #e0e0e0);\n",
       "  --xr-disabled-color: var(--jp-layout-color3, #bdbdbd);\n",
       "  --xr-background-color: var(--jp-layout-color0, white);\n",
       "  --xr-background-color-row-even: var(--jp-layout-color1, white);\n",
       "  --xr-background-color-row-odd: var(--jp-layout-color2, #eeeeee);\n",
       "}\n",
       "\n",
       "html[theme=dark],\n",
       "html[data-theme=dark],\n",
       "body[data-theme=dark],\n",
       "body.vscode-dark {\n",
       "  --xr-font-color0: rgba(255, 255, 255, 1);\n",
       "  --xr-font-color2: rgba(255, 255, 255, 0.54);\n",
       "  --xr-font-color3: rgba(255, 255, 255, 0.38);\n",
       "  --xr-border-color: #1F1F1F;\n",
       "  --xr-disabled-color: #515151;\n",
       "  --xr-background-color: #111111;\n",
       "  --xr-background-color-row-even: #111111;\n",
       "  --xr-background-color-row-odd: #313131;\n",
       "}\n",
       "\n",
       ".xr-wrap {\n",
       "  display: block !important;\n",
       "  min-width: 300px;\n",
       "  max-width: 700px;\n",
       "}\n",
       "\n",
       ".xr-text-repr-fallback {\n",
       "  /* fallback to plain text repr when CSS is not injected (untrusted notebook) */\n",
       "  display: none;\n",
       "}\n",
       "\n",
       ".xr-header {\n",
       "  padding-top: 6px;\n",
       "  padding-bottom: 6px;\n",
       "  margin-bottom: 4px;\n",
       "  border-bottom: solid 1px var(--xr-border-color);\n",
       "}\n",
       "\n",
       ".xr-header > div,\n",
       ".xr-header > ul {\n",
       "  display: inline;\n",
       "  margin-top: 0;\n",
       "  margin-bottom: 0;\n",
       "}\n",
       "\n",
       ".xr-obj-type,\n",
       ".xr-array-name {\n",
       "  margin-left: 2px;\n",
       "  margin-right: 10px;\n",
       "}\n",
       "\n",
       ".xr-obj-type {\n",
       "  color: var(--xr-font-color2);\n",
       "}\n",
       "\n",
       ".xr-sections {\n",
       "  padding-left: 0 !important;\n",
       "  display: grid;\n",
       "  grid-template-columns: 150px auto auto 1fr 0 20px 0 20px;\n",
       "}\n",
       "\n",
       ".xr-section-item {\n",
       "  display: contents;\n",
       "}\n",
       "\n",
       ".xr-section-item input {\n",
       "  display: inline-block;\n",
       "  opacity: 0;\n",
       "}\n",
       "\n",
       ".xr-section-item input + label {\n",
       "  color: var(--xr-disabled-color);\n",
       "}\n",
       "\n",
       ".xr-section-item input:enabled + label {\n",
       "  cursor: pointer;\n",
       "  color: var(--xr-font-color2);\n",
       "}\n",
       "\n",
       ".xr-section-item input:focus + label {\n",
       "  border: 2px solid var(--xr-font-color0);\n",
       "}\n",
       "\n",
       ".xr-section-item input:enabled + label:hover {\n",
       "  color: var(--xr-font-color0);\n",
       "}\n",
       "\n",
       ".xr-section-summary {\n",
       "  grid-column: 1;\n",
       "  color: var(--xr-font-color2);\n",
       "  font-weight: 500;\n",
       "}\n",
       "\n",
       ".xr-section-summary > span {\n",
       "  display: inline-block;\n",
       "  padding-left: 0.5em;\n",
       "}\n",
       "\n",
       ".xr-section-summary-in:disabled + label {\n",
       "  color: var(--xr-font-color2);\n",
       "}\n",
       "\n",
       ".xr-section-summary-in + label:before {\n",
       "  display: inline-block;\n",
       "  content: '►';\n",
       "  font-size: 11px;\n",
       "  width: 15px;\n",
       "  text-align: center;\n",
       "}\n",
       "\n",
       ".xr-section-summary-in:disabled + label:before {\n",
       "  color: var(--xr-disabled-color);\n",
       "}\n",
       "\n",
       ".xr-section-summary-in:checked + label:before {\n",
       "  content: '▼';\n",
       "}\n",
       "\n",
       ".xr-section-summary-in:checked + label > span {\n",
       "  display: none;\n",
       "}\n",
       "\n",
       ".xr-section-summary,\n",
       ".xr-section-inline-details {\n",
       "  padding-top: 4px;\n",
       "  padding-bottom: 4px;\n",
       "}\n",
       "\n",
       ".xr-section-inline-details {\n",
       "  grid-column: 2 / -1;\n",
       "}\n",
       "\n",
       ".xr-section-details {\n",
       "  display: none;\n",
       "  grid-column: 1 / -1;\n",
       "  margin-bottom: 5px;\n",
       "}\n",
       "\n",
       ".xr-section-summary-in:checked ~ .xr-section-details {\n",
       "  display: contents;\n",
       "}\n",
       "\n",
       ".xr-array-wrap {\n",
       "  grid-column: 1 / -1;\n",
       "  display: grid;\n",
       "  grid-template-columns: 20px auto;\n",
       "}\n",
       "\n",
       ".xr-array-wrap > label {\n",
       "  grid-column: 1;\n",
       "  vertical-align: top;\n",
       "}\n",
       "\n",
       ".xr-preview {\n",
       "  color: var(--xr-font-color3);\n",
       "}\n",
       "\n",
       ".xr-array-preview,\n",
       ".xr-array-data {\n",
       "  padding: 0 5px !important;\n",
       "  grid-column: 2;\n",
       "}\n",
       "\n",
       ".xr-array-data,\n",
       ".xr-array-in:checked ~ .xr-array-preview {\n",
       "  display: none;\n",
       "}\n",
       "\n",
       ".xr-array-in:checked ~ .xr-array-data,\n",
       ".xr-array-preview {\n",
       "  display: inline-block;\n",
       "}\n",
       "\n",
       ".xr-dim-list {\n",
       "  display: inline-block !important;\n",
       "  list-style: none;\n",
       "  padding: 0 !important;\n",
       "  margin: 0;\n",
       "}\n",
       "\n",
       ".xr-dim-list li {\n",
       "  display: inline-block;\n",
       "  padding: 0;\n",
       "  margin: 0;\n",
       "}\n",
       "\n",
       ".xr-dim-list:before {\n",
       "  content: '(';\n",
       "}\n",
       "\n",
       ".xr-dim-list:after {\n",
       "  content: ')';\n",
       "}\n",
       "\n",
       ".xr-dim-list li:not(:last-child):after {\n",
       "  content: ',';\n",
       "  padding-right: 5px;\n",
       "}\n",
       "\n",
       ".xr-has-index {\n",
       "  font-weight: bold;\n",
       "}\n",
       "\n",
       ".xr-var-list,\n",
       ".xr-var-item {\n",
       "  display: contents;\n",
       "}\n",
       "\n",
       ".xr-var-item > div,\n",
       ".xr-var-item label,\n",
       ".xr-var-item > .xr-var-name span {\n",
       "  background-color: var(--xr-background-color-row-even);\n",
       "  margin-bottom: 0;\n",
       "}\n",
       "\n",
       ".xr-var-item > .xr-var-name:hover span {\n",
       "  padding-right: 5px;\n",
       "}\n",
       "\n",
       ".xr-var-list > li:nth-child(odd) > div,\n",
       ".xr-var-list > li:nth-child(odd) > label,\n",
       ".xr-var-list > li:nth-child(odd) > .xr-var-name span {\n",
       "  background-color: var(--xr-background-color-row-odd);\n",
       "}\n",
       "\n",
       ".xr-var-name {\n",
       "  grid-column: 1;\n",
       "}\n",
       "\n",
       ".xr-var-dims {\n",
       "  grid-column: 2;\n",
       "}\n",
       "\n",
       ".xr-var-dtype {\n",
       "  grid-column: 3;\n",
       "  text-align: right;\n",
       "  color: var(--xr-font-color2);\n",
       "}\n",
       "\n",
       ".xr-var-preview {\n",
       "  grid-column: 4;\n",
       "}\n",
       "\n",
       ".xr-index-preview {\n",
       "  grid-column: 2 / 5;\n",
       "  color: var(--xr-font-color2);\n",
       "}\n",
       "\n",
       ".xr-var-name,\n",
       ".xr-var-dims,\n",
       ".xr-var-dtype,\n",
       ".xr-preview,\n",
       ".xr-attrs dt {\n",
       "  white-space: nowrap;\n",
       "  overflow: hidden;\n",
       "  text-overflow: ellipsis;\n",
       "  padding-right: 10px;\n",
       "}\n",
       "\n",
       ".xr-var-name:hover,\n",
       ".xr-var-dims:hover,\n",
       ".xr-var-dtype:hover,\n",
       ".xr-attrs dt:hover {\n",
       "  overflow: visible;\n",
       "  width: auto;\n",
       "  z-index: 1;\n",
       "}\n",
       "\n",
       ".xr-var-attrs,\n",
       ".xr-var-data,\n",
       ".xr-index-data {\n",
       "  display: none;\n",
       "  background-color: var(--xr-background-color) !important;\n",
       "  padding-bottom: 5px !important;\n",
       "}\n",
       "\n",
       ".xr-var-attrs-in:checked ~ .xr-var-attrs,\n",
       ".xr-var-data-in:checked ~ .xr-var-data,\n",
       ".xr-index-data-in:checked ~ .xr-index-data {\n",
       "  display: block;\n",
       "}\n",
       "\n",
       ".xr-var-data > table {\n",
       "  float: right;\n",
       "}\n",
       "\n",
       ".xr-var-name span,\n",
       ".xr-var-data,\n",
       ".xr-index-name div,\n",
       ".xr-index-data,\n",
       ".xr-attrs {\n",
       "  padding-left: 25px !important;\n",
       "}\n",
       "\n",
       ".xr-attrs,\n",
       ".xr-var-attrs,\n",
       ".xr-var-data,\n",
       ".xr-index-data {\n",
       "  grid-column: 1 / -1;\n",
       "}\n",
       "\n",
       "dl.xr-attrs {\n",
       "  padding: 0;\n",
       "  margin: 0;\n",
       "  display: grid;\n",
       "  grid-template-columns: 125px auto;\n",
       "}\n",
       "\n",
       ".xr-attrs dt,\n",
       ".xr-attrs dd {\n",
       "  padding: 0;\n",
       "  margin: 0;\n",
       "  float: left;\n",
       "  padding-right: 10px;\n",
       "  width: auto;\n",
       "}\n",
       "\n",
       ".xr-attrs dt {\n",
       "  font-weight: normal;\n",
       "  grid-column: 1;\n",
       "}\n",
       "\n",
       ".xr-attrs dt:hover span {\n",
       "  display: inline-block;\n",
       "  background: var(--xr-background-color);\n",
       "  padding-right: 10px;\n",
       "}\n",
       "\n",
       ".xr-attrs dd {\n",
       "  grid-column: 2;\n",
       "  white-space: pre-wrap;\n",
       "  word-break: break-all;\n",
       "}\n",
       "\n",
       ".xr-icon-database,\n",
       ".xr-icon-file-text2,\n",
       ".xr-no-icon {\n",
       "  display: inline-block;\n",
       "  vertical-align: middle;\n",
       "  width: 1em;\n",
       "  height: 1.5em !important;\n",
       "  stroke-width: 0;\n",
       "  stroke: currentColor;\n",
       "  fill: currentColor;\n",
       "}\n",
       "</style><pre class='xr-text-repr-fallback'>&lt;xarray.DataArray (layer: 37, y: 86, x: 120)&gt; Size: 3MB\n",
       "dask.array&lt;getitem, shape=(37, 86, 120), dtype=float64, chunksize=(1, 86, 120), chunktype=numpy.ndarray&gt;\n",
       "Coordinates:\n",
       "  * x        (x) float64 960B 1.132e+05 1.132e+05 ... 1.25e+05 1.25e+05\n",
       "  * y        (y) float64 688B 3.962e+05 3.96e+05 ... 3.878e+05 3.876e+05\n",
       "    dx       float64 8B 100.0\n",
       "    dy       float64 8B -100.0\n",
       "  * layer    (layer) int64 296B 1 2 3 4 5 6 7 8 9 ... 29 30 31 32 33 34 35 36 37</pre><div class='xr-wrap' style='display:none'><div class='xr-header'><div class='xr-obj-type'>xarray.DataArray</div><div class='xr-array-name'></div><ul class='xr-dim-list'><li><span class='xr-has-index'>layer</span>: 37</li><li><span class='xr-has-index'>y</span>: 86</li><li><span class='xr-has-index'>x</span>: 120</li></ul></div><ul class='xr-sections'><li class='xr-section-item'><div class='xr-array-wrap'><input id='section-1db1e8f1-6c24-43c6-a460-56ee9476f137' class='xr-array-in' type='checkbox' checked><label for='section-1db1e8f1-6c24-43c6-a460-56ee9476f137' title='Show/hide data repr'><svg class='icon xr-icon-database'><use xlink:href='#icon-database'></use></svg></label><div class='xr-array-preview xr-preview'><span>dask.array&lt;chunksize=(1, 86, 120), meta=np.ndarray&gt;</span></div><div class='xr-array-data'><table>\n",
       "    <tr>\n",
       "        <td>\n",
       "            <table style=\"border-collapse: collapse;\">\n",
       "                <thead>\n",
       "                    <tr>\n",
       "                        <td> </td>\n",
       "                        <th> Array </th>\n",
       "                        <th> Chunk </th>\n",
       "                    </tr>\n",
       "                </thead>\n",
       "                <tbody>\n",
       "                    \n",
       "                    <tr>\n",
       "                        <th> Bytes </th>\n",
       "                        <td> 2.91 MiB </td>\n",
       "                        <td> 80.62 kiB </td>\n",
       "                    </tr>\n",
       "                    \n",
       "                    <tr>\n",
       "                        <th> Shape </th>\n",
       "                        <td> (37, 86, 120) </td>\n",
       "                        <td> (1, 86, 120) </td>\n",
       "                    </tr>\n",
       "                    <tr>\n",
       "                        <th> Dask graph </th>\n",
       "                        <td colspan=\"2\"> 37 chunks in 82 graph layers </td>\n",
       "                    </tr>\n",
       "                    <tr>\n",
       "                        <th> Data type </th>\n",
       "                        <td colspan=\"2\"> float64 numpy.ndarray </td>\n",
       "                    </tr>\n",
       "                </tbody>\n",
       "            </table>\n",
       "        </td>\n",
       "        <td>\n",
       "        <svg width=\"205\" height=\"161\" style=\"stroke:rgb(0,0,0);stroke-width:1\" >\n",
       "\n",
       "  <!-- Horizontal lines -->\n",
       "  <line x1=\"10\" y1=\"0\" x2=\"35\" y2=\"25\" style=\"stroke-width:2\" />\n",
       "  <line x1=\"10\" y1=\"86\" x2=\"35\" y2=\"111\" style=\"stroke-width:2\" />\n",
       "\n",
       "  <!-- Vertical lines -->\n",
       "  <line x1=\"10\" y1=\"0\" x2=\"10\" y2=\"86\" style=\"stroke-width:2\" />\n",
       "  <line x1=\"10\" y1=\"0\" x2=\"10\" y2=\"86\" />\n",
       "  <line x1=\"12\" y1=\"2\" x2=\"12\" y2=\"88\" />\n",
       "  <line x1=\"13\" y1=\"3\" x2=\"13\" y2=\"89\" />\n",
       "  <line x1=\"14\" y1=\"4\" x2=\"14\" y2=\"90\" />\n",
       "  <line x1=\"16\" y1=\"6\" x2=\"16\" y2=\"92\" />\n",
       "  <line x1=\"17\" y1=\"7\" x2=\"17\" y2=\"93\" />\n",
       "  <line x1=\"19\" y1=\"9\" x2=\"19\" y2=\"95\" />\n",
       "  <line x1=\"20\" y1=\"10\" x2=\"20\" y2=\"96\" />\n",
       "  <line x1=\"21\" y1=\"11\" x2=\"21\" y2=\"97\" />\n",
       "  <line x1=\"23\" y1=\"13\" x2=\"23\" y2=\"99\" />\n",
       "  <line x1=\"24\" y1=\"14\" x2=\"24\" y2=\"100\" />\n",
       "  <line x1=\"25\" y1=\"15\" x2=\"25\" y2=\"101\" />\n",
       "  <line x1=\"27\" y1=\"17\" x2=\"27\" y2=\"103\" />\n",
       "  <line x1=\"28\" y1=\"18\" x2=\"28\" y2=\"104\" />\n",
       "  <line x1=\"30\" y1=\"20\" x2=\"30\" y2=\"106\" />\n",
       "  <line x1=\"31\" y1=\"21\" x2=\"31\" y2=\"107\" />\n",
       "  <line x1=\"32\" y1=\"22\" x2=\"32\" y2=\"108\" />\n",
       "  <line x1=\"34\" y1=\"24\" x2=\"34\" y2=\"110\" />\n",
       "  <line x1=\"35\" y1=\"25\" x2=\"35\" y2=\"111\" style=\"stroke-width:2\" />\n",
       "\n",
       "  <!-- Colored Rectangle -->\n",
       "  <polygon points=\"10.0,0.0 35.66808441132346,25.66808441132346 35.66808441132346,111.66808441132346 10.0,86.0\" style=\"fill:#8B4903A0;stroke-width:0\"/>\n",
       "\n",
       "  <!-- Horizontal lines -->\n",
       "  <line x1=\"10\" y1=\"0\" x2=\"130\" y2=\"0\" style=\"stroke-width:2\" />\n",
       "  <line x1=\"10\" y1=\"0\" x2=\"130\" y2=\"0\" />\n",
       "  <line x1=\"12\" y1=\"2\" x2=\"132\" y2=\"2\" />\n",
       "  <line x1=\"13\" y1=\"3\" x2=\"133\" y2=\"3\" />\n",
       "  <line x1=\"14\" y1=\"4\" x2=\"134\" y2=\"4\" />\n",
       "  <line x1=\"16\" y1=\"6\" x2=\"136\" y2=\"6\" />\n",
       "  <line x1=\"17\" y1=\"7\" x2=\"137\" y2=\"7\" />\n",
       "  <line x1=\"19\" y1=\"9\" x2=\"139\" y2=\"9\" />\n",
       "  <line x1=\"20\" y1=\"10\" x2=\"140\" y2=\"10\" />\n",
       "  <line x1=\"21\" y1=\"11\" x2=\"141\" y2=\"11\" />\n",
       "  <line x1=\"23\" y1=\"13\" x2=\"143\" y2=\"13\" />\n",
       "  <line x1=\"24\" y1=\"14\" x2=\"144\" y2=\"14\" />\n",
       "  <line x1=\"25\" y1=\"15\" x2=\"145\" y2=\"15\" />\n",
       "  <line x1=\"27\" y1=\"17\" x2=\"147\" y2=\"17\" />\n",
       "  <line x1=\"28\" y1=\"18\" x2=\"148\" y2=\"18\" />\n",
       "  <line x1=\"30\" y1=\"20\" x2=\"150\" y2=\"20\" />\n",
       "  <line x1=\"31\" y1=\"21\" x2=\"151\" y2=\"21\" />\n",
       "  <line x1=\"32\" y1=\"22\" x2=\"152\" y2=\"22\" />\n",
       "  <line x1=\"34\" y1=\"24\" x2=\"154\" y2=\"24\" />\n",
       "  <line x1=\"35\" y1=\"25\" x2=\"155\" y2=\"25\" style=\"stroke-width:2\" />\n",
       "\n",
       "  <!-- Vertical lines -->\n",
       "  <line x1=\"10\" y1=\"0\" x2=\"35\" y2=\"25\" style=\"stroke-width:2\" />\n",
       "  <line x1=\"130\" y1=\"0\" x2=\"155\" y2=\"25\" style=\"stroke-width:2\" />\n",
       "\n",
       "  <!-- Colored Rectangle -->\n",
       "  <polygon points=\"10.0,0.0 130.0,0.0 155.66808441132346,25.66808441132346 35.66808441132346,25.66808441132346\" style=\"fill:#8B4903A0;stroke-width:0\"/>\n",
       "\n",
       "  <!-- Horizontal lines -->\n",
       "  <line x1=\"35\" y1=\"25\" x2=\"155\" y2=\"25\" style=\"stroke-width:2\" />\n",
       "  <line x1=\"35\" y1=\"111\" x2=\"155\" y2=\"111\" style=\"stroke-width:2\" />\n",
       "\n",
       "  <!-- Vertical lines -->\n",
       "  <line x1=\"35\" y1=\"25\" x2=\"35\" y2=\"111\" style=\"stroke-width:2\" />\n",
       "  <line x1=\"155\" y1=\"25\" x2=\"155\" y2=\"111\" style=\"stroke-width:2\" />\n",
       "\n",
       "  <!-- Colored Rectangle -->\n",
       "  <polygon points=\"35.66808441132346,25.66808441132346 155.66808441132346,25.66808441132346 155.66808441132346,111.66808441132346 35.66808441132346,111.66808441132346\" style=\"fill:#ECB172A0;stroke-width:0\"/>\n",
       "\n",
       "  <!-- Text -->\n",
       "  <text x=\"95.668084\" y=\"131.668084\" font-size=\"1.0rem\" font-weight=\"100\" text-anchor=\"middle\" >120</text>\n",
       "  <text x=\"175.668084\" y=\"68.668084\" font-size=\"1.0rem\" font-weight=\"100\" text-anchor=\"middle\" transform=\"rotate(0,175.668084,68.668084)\">86</text>\n",
       "  <text x=\"12.834042\" y=\"118.834042\" font-size=\"1.0rem\" font-weight=\"100\" text-anchor=\"middle\" transform=\"rotate(45,12.834042,118.834042)\">37</text>\n",
       "</svg>\n",
       "        </td>\n",
       "    </tr>\n",
       "</table></div></div></li><li class='xr-section-item'><input id='section-ff42a70f-b247-46ce-92c2-7ef9089c1cb0' class='xr-section-summary-in' type='checkbox'  checked><label for='section-ff42a70f-b247-46ce-92c2-7ef9089c1cb0' class='xr-section-summary' >Coordinates: <span>(5)</span></label><div class='xr-section-inline-details'></div><div class='xr-section-details'><ul class='xr-var-list'><li class='xr-var-item'><div class='xr-var-name'><span class='xr-has-index'>x</span></div><div class='xr-var-dims'>(x)</div><div class='xr-var-dtype'>float64</div><div class='xr-var-preview xr-preview'>1.132e+05 1.132e+05 ... 1.25e+05</div><input id='attrs-6ffe7cab-4079-4878-a50e-51efe3cc8a43' class='xr-var-attrs-in' type='checkbox' disabled><label for='attrs-6ffe7cab-4079-4878-a50e-51efe3cc8a43' title='Show/Hide attributes'><svg class='icon xr-icon-file-text2'><use xlink:href='#icon-file-text2'></use></svg></label><input id='data-57929900-07f0-4ccb-b366-4e025910fe5b' class='xr-var-data-in' type='checkbox'><label for='data-57929900-07f0-4ccb-b366-4e025910fe5b' title='Show/Hide data repr'><svg class='icon xr-icon-database'><use xlink:href='#icon-database'></use></svg></label><div class='xr-var-attrs'><dl class='xr-attrs'></dl></div><div class='xr-var-data'><pre>array([113150., 113250., 113350., 113450., 113550., 113650., 113750., 113850.,\n",
       "       113950., 114050., 114150., 114250., 114350., 114450., 114550., 114650.,\n",
       "       114750., 114850., 114950., 115050., 115150., 115250., 115350., 115450.,\n",
       "       115550., 115650., 115750., 115850., 115950., 116050., 116150., 116250.,\n",
       "       116350., 116450., 116550., 116650., 116750., 116850., 116950., 117050.,\n",
       "       117150., 117250., 117350., 117450., 117550., 117650., 117750., 117850.,\n",
       "       117950., 118050., 118150., 118250., 118350., 118450., 118550., 118650.,\n",
       "       118750., 118850., 118950., 119050., 119150., 119250., 119350., 119450.,\n",
       "       119550., 119650., 119750., 119850., 119950., 120050., 120150., 120250.,\n",
       "       120350., 120450., 120550., 120650., 120750., 120850., 120950., 121050.,\n",
       "       121150., 121250., 121350., 121450., 121550., 121650., 121750., 121850.,\n",
       "       121950., 122050., 122150., 122250., 122350., 122450., 122550., 122650.,\n",
       "       122750., 122850., 122950., 123050., 123150., 123250., 123350., 123450.,\n",
       "       123550., 123650., 123750., 123850., 123950., 124050., 124150., 124250.,\n",
       "       124350., 124450., 124550., 124650., 124750., 124850., 124950., 125050.])</pre></div></li><li class='xr-var-item'><div class='xr-var-name'><span class='xr-has-index'>y</span></div><div class='xr-var-dims'>(y)</div><div class='xr-var-dtype'>float64</div><div class='xr-var-preview xr-preview'>3.962e+05 3.96e+05 ... 3.876e+05</div><input id='attrs-c922183e-e7fd-4177-ae02-01fe89725304' class='xr-var-attrs-in' type='checkbox' disabled><label for='attrs-c922183e-e7fd-4177-ae02-01fe89725304' title='Show/Hide attributes'><svg class='icon xr-icon-file-text2'><use xlink:href='#icon-file-text2'></use></svg></label><input id='data-7201781a-368a-4c98-8325-d80a670ef077' class='xr-var-data-in' type='checkbox'><label for='data-7201781a-368a-4c98-8325-d80a670ef077' title='Show/Hide data repr'><svg class='icon xr-icon-database'><use xlink:href='#icon-database'></use></svg></label><div class='xr-var-attrs'><dl class='xr-attrs'></dl></div><div class='xr-var-data'><pre>array([396150., 396050., 395950., 395850., 395750., 395650., 395550., 395450.,\n",
       "       395350., 395250., 395150., 395050., 394950., 394850., 394750., 394650.,\n",
       "       394550., 394450., 394350., 394250., 394150., 394050., 393950., 393850.,\n",
       "       393750., 393650., 393550., 393450., 393350., 393250., 393150., 393050.,\n",
       "       392950., 392850., 392750., 392650., 392550., 392450., 392350., 392250.,\n",
       "       392150., 392050., 391950., 391850., 391750., 391650., 391550., 391450.,\n",
       "       391350., 391250., 391150., 391050., 390950., 390850., 390750., 390650.,\n",
       "       390550., 390450., 390350., 390250., 390150., 390050., 389950., 389850.,\n",
       "       389750., 389650., 389550., 389450., 389350., 389250., 389150., 389050.,\n",
       "       388950., 388850., 388750., 388650., 388550., 388450., 388350., 388250.,\n",
       "       388150., 388050., 387950., 387850., 387750., 387650.])</pre></div></li><li class='xr-var-item'><div class='xr-var-name'><span>dx</span></div><div class='xr-var-dims'>()</div><div class='xr-var-dtype'>float64</div><div class='xr-var-preview xr-preview'>100.0</div><input id='attrs-61130a28-5ffb-4df9-982b-0a0776a94580' class='xr-var-attrs-in' type='checkbox' disabled><label for='attrs-61130a28-5ffb-4df9-982b-0a0776a94580' title='Show/Hide attributes'><svg class='icon xr-icon-file-text2'><use xlink:href='#icon-file-text2'></use></svg></label><input id='data-73206be7-a372-41d9-8ce9-3dd0c9c89699' class='xr-var-data-in' type='checkbox'><label for='data-73206be7-a372-41d9-8ce9-3dd0c9c89699' title='Show/Hide data repr'><svg class='icon xr-icon-database'><use xlink:href='#icon-database'></use></svg></label><div class='xr-var-attrs'><dl class='xr-attrs'></dl></div><div class='xr-var-data'><pre>array(100.)</pre></div></li><li class='xr-var-item'><div class='xr-var-name'><span>dy</span></div><div class='xr-var-dims'>()</div><div class='xr-var-dtype'>float64</div><div class='xr-var-preview xr-preview'>-100.0</div><input id='attrs-8edef58b-1889-431d-a393-98a232d6b5a5' class='xr-var-attrs-in' type='checkbox' disabled><label for='attrs-8edef58b-1889-431d-a393-98a232d6b5a5' title='Show/Hide attributes'><svg class='icon xr-icon-file-text2'><use xlink:href='#icon-file-text2'></use></svg></label><input id='data-5e088aac-ae73-466b-979b-a43487dfe4d1' class='xr-var-data-in' type='checkbox'><label for='data-5e088aac-ae73-466b-979b-a43487dfe4d1' title='Show/Hide data repr'><svg class='icon xr-icon-database'><use xlink:href='#icon-database'></use></svg></label><div class='xr-var-attrs'><dl class='xr-attrs'></dl></div><div class='xr-var-data'><pre>array(-100.)</pre></div></li><li class='xr-var-item'><div class='xr-var-name'><span class='xr-has-index'>layer</span></div><div class='xr-var-dims'>(layer)</div><div class='xr-var-dtype'>int64</div><div class='xr-var-preview xr-preview'>1 2 3 4 5 6 7 ... 32 33 34 35 36 37</div><input id='attrs-8acd4be7-6b35-4c97-99f6-b24b1fd30e77' class='xr-var-attrs-in' type='checkbox' disabled><label for='attrs-8acd4be7-6b35-4c97-99f6-b24b1fd30e77' title='Show/Hide attributes'><svg class='icon xr-icon-file-text2'><use xlink:href='#icon-file-text2'></use></svg></label><input id='data-1c5b6b90-d298-4360-9a6f-c341b1d51809' class='xr-var-data-in' type='checkbox'><label for='data-1c5b6b90-d298-4360-9a6f-c341b1d51809' title='Show/Hide data repr'><svg class='icon xr-icon-database'><use xlink:href='#icon-database'></use></svg></label><div class='xr-var-attrs'><dl class='xr-attrs'></dl></div><div class='xr-var-data'><pre>array([ 1,  2,  3,  4,  5,  6,  7,  8,  9, 10, 11, 12, 13, 14, 15, 16, 17, 18,\n",
       "       19, 20, 21, 22, 23, 24, 25, 26, 27, 28, 29, 30, 31, 32, 33, 34, 35, 36,\n",
       "       37])</pre></div></li></ul></div></li><li class='xr-section-item'><input id='section-1dc7f014-90fc-4093-8512-aeaecb15b445' class='xr-section-summary-in' type='checkbox'  ><label for='section-1dc7f014-90fc-4093-8512-aeaecb15b445' class='xr-section-summary' >Indexes: <span>(3)</span></label><div class='xr-section-inline-details'></div><div class='xr-section-details'><ul class='xr-var-list'><li class='xr-var-item'><div class='xr-index-name'><div>x</div></div><div class='xr-index-preview'>PandasIndex</div><div></div><input id='index-836eb16b-8c75-4c1e-b138-85bac9492f00' class='xr-index-data-in' type='checkbox'/><label for='index-836eb16b-8c75-4c1e-b138-85bac9492f00' title='Show/Hide index repr'><svg class='icon xr-icon-database'><use xlink:href='#icon-database'></use></svg></label><div class='xr-index-data'><pre>PandasIndex(Index([113150.0, 113250.0, 113350.0, 113450.0, 113550.0, 113650.0, 113750.0,\n",
       "       113850.0, 113950.0, 114050.0,\n",
       "       ...\n",
       "       124150.0, 124250.0, 124350.0, 124450.0, 124550.0, 124650.0, 124750.0,\n",
       "       124850.0, 124950.0, 125050.0],\n",
       "      dtype=&#x27;float64&#x27;, name=&#x27;x&#x27;, length=120))</pre></div></li><li class='xr-var-item'><div class='xr-index-name'><div>y</div></div><div class='xr-index-preview'>PandasIndex</div><div></div><input id='index-e8852725-4462-43a1-9e59-d54c89f05476' class='xr-index-data-in' type='checkbox'/><label for='index-e8852725-4462-43a1-9e59-d54c89f05476' title='Show/Hide index repr'><svg class='icon xr-icon-database'><use xlink:href='#icon-database'></use></svg></label><div class='xr-index-data'><pre>PandasIndex(Index([396150.0, 396050.0, 395950.0, 395850.0, 395750.0, 395650.0, 395550.0,\n",
       "       395450.0, 395350.0, 395250.0, 395150.0, 395050.0, 394950.0, 394850.0,\n",
       "       394750.0, 394650.0, 394550.0, 394450.0, 394350.0, 394250.0, 394150.0,\n",
       "       394050.0, 393950.0, 393850.0, 393750.0, 393650.0, 393550.0, 393450.0,\n",
       "       393350.0, 393250.0, 393150.0, 393050.0, 392950.0, 392850.0, 392750.0,\n",
       "       392650.0, 392550.0, 392450.0, 392350.0, 392250.0, 392150.0, 392050.0,\n",
       "       391950.0, 391850.0, 391750.0, 391650.0, 391550.0, 391450.0, 391350.0,\n",
       "       391250.0, 391150.0, 391050.0, 390950.0, 390850.0, 390750.0, 390650.0,\n",
       "       390550.0, 390450.0, 390350.0, 390250.0, 390150.0, 390050.0, 389950.0,\n",
       "       389850.0, 389750.0, 389650.0, 389550.0, 389450.0, 389350.0, 389250.0,\n",
       "       389150.0, 389050.0, 388950.0, 388850.0, 388750.0, 388650.0, 388550.0,\n",
       "       388450.0, 388350.0, 388250.0, 388150.0, 388050.0, 387950.0, 387850.0,\n",
       "       387750.0, 387650.0],\n",
       "      dtype=&#x27;float64&#x27;, name=&#x27;y&#x27;))</pre></div></li><li class='xr-var-item'><div class='xr-index-name'><div>layer</div></div><div class='xr-index-preview'>PandasIndex</div><div></div><input id='index-6d26cddd-fc73-4f79-aa9f-dd5ed7f3d97b' class='xr-index-data-in' type='checkbox'/><label for='index-6d26cddd-fc73-4f79-aa9f-dd5ed7f3d97b' title='Show/Hide index repr'><svg class='icon xr-icon-database'><use xlink:href='#icon-database'></use></svg></label><div class='xr-index-data'><pre>PandasIndex(Index([ 1,  2,  3,  4,  5,  6,  7,  8,  9, 10, 11, 12, 13, 14, 15, 16, 17, 18,\n",
       "       19, 20, 21, 22, 23, 24, 25, 26, 27, 28, 29, 30, 31, 32, 33, 34, 35, 36,\n",
       "       37],\n",
       "      dtype=&#x27;int64&#x27;, name=&#x27;layer&#x27;))</pre></div></li></ul></div></li><li class='xr-section-item'><input id='section-80ab19f1-4452-4a25-9cce-7aad6399e6dd' class='xr-section-summary-in' type='checkbox' disabled ><label for='section-80ab19f1-4452-4a25-9cce-7aad6399e6dd' class='xr-section-summary'  title='Expand/collapse section'>Attributes: <span>(0)</span></label><div class='xr-section-inline-details'></div><div class='xr-section-details'><dl class='xr-attrs'></dl></div></li></ul></div></div>"
      ],
      "text/plain": [
       "<xarray.DataArray (layer: 37, y: 86, x: 120)> Size: 3MB\n",
       "dask.array<getitem, shape=(37, 86, 120), dtype=float64, chunksize=(1, 86, 120), chunktype=numpy.ndarray>\n",
       "Coordinates:\n",
       "  * x        (x) float64 960B 1.132e+05 1.132e+05 ... 1.25e+05 1.25e+05\n",
       "  * y        (y) float64 688B 3.962e+05 3.96e+05 ... 3.878e+05 3.876e+05\n",
       "    dx       float64 8B 100.0\n",
       "    dy       float64 8B -100.0\n",
       "  * layer    (layer) int64 296B 1 2 3 4 5 6 7 8 9 ... 29 30 31 32 33 34 35 36 37"
      ]
     },
     "execution_count": 17,
     "metadata": {},
     "output_type": "execute_result"
    }
   ],
   "source": [
    "# Subset ibound to the model area of interest (keeping all layers, subsetting x and y)\n",
    "A_BND_AoI = PRJ['bnd']['ibound'].sel(\n",
    "    x=slice(Xmin, Xmax),\n",
    "    y=slice(Ymax, Ymin)  # Note: y is typically decreasing in grid coordinates\n",
    ")\n",
    "print(f\"Original ibound shape: {A_BND.shape}\")\n",
    "print(f\"Subsetted ibound shape: {A_BND_AoI.shape}\")\n",
    "A_BND_AoI"
   ]
  },
  {
   "cell_type": "code",
   "execution_count": 18,
   "id": "27718eec",
   "metadata": {},
   "outputs": [
    {
     "data": {
      "text/html": [
       "<div><svg style=\"position: absolute; width: 0; height: 0; overflow: hidden\">\n",
       "<defs>\n",
       "<symbol id=\"icon-database\" viewBox=\"0 0 32 32\">\n",
       "<path d=\"M16 0c-8.837 0-16 2.239-16 5v4c0 2.761 7.163 5 16 5s16-2.239 16-5v-4c0-2.761-7.163-5-16-5z\"></path>\n",
       "<path d=\"M16 17c-8.837 0-16-2.239-16-5v6c0 2.761 7.163 5 16 5s16-2.239 16-5v-6c0 2.761-7.163 5-16 5z\"></path>\n",
       "<path d=\"M16 26c-8.837 0-16-2.239-16-5v6c0 2.761 7.163 5 16 5s16-2.239 16-5v-6c0 2.761-7.163 5-16 5z\"></path>\n",
       "</symbol>\n",
       "<symbol id=\"icon-file-text2\" viewBox=\"0 0 32 32\">\n",
       "<path d=\"M28.681 7.159c-0.694-0.947-1.662-2.053-2.724-3.116s-2.169-2.030-3.116-2.724c-1.612-1.182-2.393-1.319-2.841-1.319h-15.5c-1.378 0-2.5 1.121-2.5 2.5v27c0 1.378 1.122 2.5 2.5 2.5h23c1.378 0 2.5-1.122 2.5-2.5v-19.5c0-0.448-0.137-1.23-1.319-2.841zM24.543 5.457c0.959 0.959 1.712 1.825 2.268 2.543h-4.811v-4.811c0.718 0.556 1.584 1.309 2.543 2.268zM28 29.5c0 0.271-0.229 0.5-0.5 0.5h-23c-0.271 0-0.5-0.229-0.5-0.5v-27c0-0.271 0.229-0.5 0.5-0.5 0 0 15.499-0 15.5 0v7c0 0.552 0.448 1 1 1h7v19.5z\"></path>\n",
       "<path d=\"M23 26h-14c-0.552 0-1-0.448-1-1s0.448-1 1-1h14c0.552 0 1 0.448 1 1s-0.448 1-1 1z\"></path>\n",
       "<path d=\"M23 22h-14c-0.552 0-1-0.448-1-1s0.448-1 1-1h14c0.552 0 1 0.448 1 1s-0.448 1-1 1z\"></path>\n",
       "<path d=\"M23 18h-14c-0.552 0-1-0.448-1-1s0.448-1 1-1h14c0.552 0 1 0.448 1 1s-0.448 1-1 1z\"></path>\n",
       "</symbol>\n",
       "</defs>\n",
       "</svg>\n",
       "<style>/* CSS stylesheet for displaying xarray objects in jupyterlab.\n",
       " *\n",
       " */\n",
       "\n",
       ":root {\n",
       "  --xr-font-color0: var(--jp-content-font-color0, rgba(0, 0, 0, 1));\n",
       "  --xr-font-color2: var(--jp-content-font-color2, rgba(0, 0, 0, 0.54));\n",
       "  --xr-font-color3: var(--jp-content-font-color3, rgba(0, 0, 0, 0.38));\n",
       "  --xr-border-color: var(--jp-border-color2, #e0e0e0);\n",
       "  --xr-disabled-color: var(--jp-layout-color3, #bdbdbd);\n",
       "  --xr-background-color: var(--jp-layout-color0, white);\n",
       "  --xr-background-color-row-even: var(--jp-layout-color1, white);\n",
       "  --xr-background-color-row-odd: var(--jp-layout-color2, #eeeeee);\n",
       "}\n",
       "\n",
       "html[theme=dark],\n",
       "html[data-theme=dark],\n",
       "body[data-theme=dark],\n",
       "body.vscode-dark {\n",
       "  --xr-font-color0: rgba(255, 255, 255, 1);\n",
       "  --xr-font-color2: rgba(255, 255, 255, 0.54);\n",
       "  --xr-font-color3: rgba(255, 255, 255, 0.38);\n",
       "  --xr-border-color: #1F1F1F;\n",
       "  --xr-disabled-color: #515151;\n",
       "  --xr-background-color: #111111;\n",
       "  --xr-background-color-row-even: #111111;\n",
       "  --xr-background-color-row-odd: #313131;\n",
       "}\n",
       "\n",
       ".xr-wrap {\n",
       "  display: block !important;\n",
       "  min-width: 300px;\n",
       "  max-width: 700px;\n",
       "}\n",
       "\n",
       ".xr-text-repr-fallback {\n",
       "  /* fallback to plain text repr when CSS is not injected (untrusted notebook) */\n",
       "  display: none;\n",
       "}\n",
       "\n",
       ".xr-header {\n",
       "  padding-top: 6px;\n",
       "  padding-bottom: 6px;\n",
       "  margin-bottom: 4px;\n",
       "  border-bottom: solid 1px var(--xr-border-color);\n",
       "}\n",
       "\n",
       ".xr-header > div,\n",
       ".xr-header > ul {\n",
       "  display: inline;\n",
       "  margin-top: 0;\n",
       "  margin-bottom: 0;\n",
       "}\n",
       "\n",
       ".xr-obj-type,\n",
       ".xr-array-name {\n",
       "  margin-left: 2px;\n",
       "  margin-right: 10px;\n",
       "}\n",
       "\n",
       ".xr-obj-type {\n",
       "  color: var(--xr-font-color2);\n",
       "}\n",
       "\n",
       ".xr-sections {\n",
       "  padding-left: 0 !important;\n",
       "  display: grid;\n",
       "  grid-template-columns: 150px auto auto 1fr 0 20px 0 20px;\n",
       "}\n",
       "\n",
       ".xr-section-item {\n",
       "  display: contents;\n",
       "}\n",
       "\n",
       ".xr-section-item input {\n",
       "  display: inline-block;\n",
       "  opacity: 0;\n",
       "}\n",
       "\n",
       ".xr-section-item input + label {\n",
       "  color: var(--xr-disabled-color);\n",
       "}\n",
       "\n",
       ".xr-section-item input:enabled + label {\n",
       "  cursor: pointer;\n",
       "  color: var(--xr-font-color2);\n",
       "}\n",
       "\n",
       ".xr-section-item input:focus + label {\n",
       "  border: 2px solid var(--xr-font-color0);\n",
       "}\n",
       "\n",
       ".xr-section-item input:enabled + label:hover {\n",
       "  color: var(--xr-font-color0);\n",
       "}\n",
       "\n",
       ".xr-section-summary {\n",
       "  grid-column: 1;\n",
       "  color: var(--xr-font-color2);\n",
       "  font-weight: 500;\n",
       "}\n",
       "\n",
       ".xr-section-summary > span {\n",
       "  display: inline-block;\n",
       "  padding-left: 0.5em;\n",
       "}\n",
       "\n",
       ".xr-section-summary-in:disabled + label {\n",
       "  color: var(--xr-font-color2);\n",
       "}\n",
       "\n",
       ".xr-section-summary-in + label:before {\n",
       "  display: inline-block;\n",
       "  content: '►';\n",
       "  font-size: 11px;\n",
       "  width: 15px;\n",
       "  text-align: center;\n",
       "}\n",
       "\n",
       ".xr-section-summary-in:disabled + label:before {\n",
       "  color: var(--xr-disabled-color);\n",
       "}\n",
       "\n",
       ".xr-section-summary-in:checked + label:before {\n",
       "  content: '▼';\n",
       "}\n",
       "\n",
       ".xr-section-summary-in:checked + label > span {\n",
       "  display: none;\n",
       "}\n",
       "\n",
       ".xr-section-summary,\n",
       ".xr-section-inline-details {\n",
       "  padding-top: 4px;\n",
       "  padding-bottom: 4px;\n",
       "}\n",
       "\n",
       ".xr-section-inline-details {\n",
       "  grid-column: 2 / -1;\n",
       "}\n",
       "\n",
       ".xr-section-details {\n",
       "  display: none;\n",
       "  grid-column: 1 / -1;\n",
       "  margin-bottom: 5px;\n",
       "}\n",
       "\n",
       ".xr-section-summary-in:checked ~ .xr-section-details {\n",
       "  display: contents;\n",
       "}\n",
       "\n",
       ".xr-array-wrap {\n",
       "  grid-column: 1 / -1;\n",
       "  display: grid;\n",
       "  grid-template-columns: 20px auto;\n",
       "}\n",
       "\n",
       ".xr-array-wrap > label {\n",
       "  grid-column: 1;\n",
       "  vertical-align: top;\n",
       "}\n",
       "\n",
       ".xr-preview {\n",
       "  color: var(--xr-font-color3);\n",
       "}\n",
       "\n",
       ".xr-array-preview,\n",
       ".xr-array-data {\n",
       "  padding: 0 5px !important;\n",
       "  grid-column: 2;\n",
       "}\n",
       "\n",
       ".xr-array-data,\n",
       ".xr-array-in:checked ~ .xr-array-preview {\n",
       "  display: none;\n",
       "}\n",
       "\n",
       ".xr-array-in:checked ~ .xr-array-data,\n",
       ".xr-array-preview {\n",
       "  display: inline-block;\n",
       "}\n",
       "\n",
       ".xr-dim-list {\n",
       "  display: inline-block !important;\n",
       "  list-style: none;\n",
       "  padding: 0 !important;\n",
       "  margin: 0;\n",
       "}\n",
       "\n",
       ".xr-dim-list li {\n",
       "  display: inline-block;\n",
       "  padding: 0;\n",
       "  margin: 0;\n",
       "}\n",
       "\n",
       ".xr-dim-list:before {\n",
       "  content: '(';\n",
       "}\n",
       "\n",
       ".xr-dim-list:after {\n",
       "  content: ')';\n",
       "}\n",
       "\n",
       ".xr-dim-list li:not(:last-child):after {\n",
       "  content: ',';\n",
       "  padding-right: 5px;\n",
       "}\n",
       "\n",
       ".xr-has-index {\n",
       "  font-weight: bold;\n",
       "}\n",
       "\n",
       ".xr-var-list,\n",
       ".xr-var-item {\n",
       "  display: contents;\n",
       "}\n",
       "\n",
       ".xr-var-item > div,\n",
       ".xr-var-item label,\n",
       ".xr-var-item > .xr-var-name span {\n",
       "  background-color: var(--xr-background-color-row-even);\n",
       "  margin-bottom: 0;\n",
       "}\n",
       "\n",
       ".xr-var-item > .xr-var-name:hover span {\n",
       "  padding-right: 5px;\n",
       "}\n",
       "\n",
       ".xr-var-list > li:nth-child(odd) > div,\n",
       ".xr-var-list > li:nth-child(odd) > label,\n",
       ".xr-var-list > li:nth-child(odd) > .xr-var-name span {\n",
       "  background-color: var(--xr-background-color-row-odd);\n",
       "}\n",
       "\n",
       ".xr-var-name {\n",
       "  grid-column: 1;\n",
       "}\n",
       "\n",
       ".xr-var-dims {\n",
       "  grid-column: 2;\n",
       "}\n",
       "\n",
       ".xr-var-dtype {\n",
       "  grid-column: 3;\n",
       "  text-align: right;\n",
       "  color: var(--xr-font-color2);\n",
       "}\n",
       "\n",
       ".xr-var-preview {\n",
       "  grid-column: 4;\n",
       "}\n",
       "\n",
       ".xr-index-preview {\n",
       "  grid-column: 2 / 5;\n",
       "  color: var(--xr-font-color2);\n",
       "}\n",
       "\n",
       ".xr-var-name,\n",
       ".xr-var-dims,\n",
       ".xr-var-dtype,\n",
       ".xr-preview,\n",
       ".xr-attrs dt {\n",
       "  white-space: nowrap;\n",
       "  overflow: hidden;\n",
       "  text-overflow: ellipsis;\n",
       "  padding-right: 10px;\n",
       "}\n",
       "\n",
       ".xr-var-name:hover,\n",
       ".xr-var-dims:hover,\n",
       ".xr-var-dtype:hover,\n",
       ".xr-attrs dt:hover {\n",
       "  overflow: visible;\n",
       "  width: auto;\n",
       "  z-index: 1;\n",
       "}\n",
       "\n",
       ".xr-var-attrs,\n",
       ".xr-var-data,\n",
       ".xr-index-data {\n",
       "  display: none;\n",
       "  background-color: var(--xr-background-color) !important;\n",
       "  padding-bottom: 5px !important;\n",
       "}\n",
       "\n",
       ".xr-var-attrs-in:checked ~ .xr-var-attrs,\n",
       ".xr-var-data-in:checked ~ .xr-var-data,\n",
       ".xr-index-data-in:checked ~ .xr-index-data {\n",
       "  display: block;\n",
       "}\n",
       "\n",
       ".xr-var-data > table {\n",
       "  float: right;\n",
       "}\n",
       "\n",
       ".xr-var-name span,\n",
       ".xr-var-data,\n",
       ".xr-index-name div,\n",
       ".xr-index-data,\n",
       ".xr-attrs {\n",
       "  padding-left: 25px !important;\n",
       "}\n",
       "\n",
       ".xr-attrs,\n",
       ".xr-var-attrs,\n",
       ".xr-var-data,\n",
       ".xr-index-data {\n",
       "  grid-column: 1 / -1;\n",
       "}\n",
       "\n",
       "dl.xr-attrs {\n",
       "  padding: 0;\n",
       "  margin: 0;\n",
       "  display: grid;\n",
       "  grid-template-columns: 125px auto;\n",
       "}\n",
       "\n",
       ".xr-attrs dt,\n",
       ".xr-attrs dd {\n",
       "  padding: 0;\n",
       "  margin: 0;\n",
       "  float: left;\n",
       "  padding-right: 10px;\n",
       "  width: auto;\n",
       "}\n",
       "\n",
       ".xr-attrs dt {\n",
       "  font-weight: normal;\n",
       "  grid-column: 1;\n",
       "}\n",
       "\n",
       ".xr-attrs dt:hover span {\n",
       "  display: inline-block;\n",
       "  background: var(--xr-background-color);\n",
       "  padding-right: 10px;\n",
       "}\n",
       "\n",
       ".xr-attrs dd {\n",
       "  grid-column: 2;\n",
       "  white-space: pre-wrap;\n",
       "  word-break: break-all;\n",
       "}\n",
       "\n",
       ".xr-icon-database,\n",
       ".xr-icon-file-text2,\n",
       ".xr-no-icon {\n",
       "  display: inline-block;\n",
       "  vertical-align: middle;\n",
       "  width: 1em;\n",
       "  height: 1.5em !important;\n",
       "  stroke-width: 0;\n",
       "  stroke: currentColor;\n",
       "  fill: currentColor;\n",
       "}\n",
       "</style><pre class='xr-text-repr-fallback'>&lt;xarray.DataArray (layer: 37, y: 86, x: 120)&gt; Size: 3MB\n",
       "dask.array&lt;where, shape=(37, 86, 120), dtype=float64, chunksize=(1, 86, 120), chunktype=numpy.ndarray&gt;\n",
       "Coordinates:\n",
       "  * x        (x) float64 960B 1.132e+05 1.132e+05 ... 1.25e+05 1.25e+05\n",
       "  * y        (y) float64 688B 3.962e+05 3.96e+05 ... 3.878e+05 3.876e+05\n",
       "    dx       float64 8B 100.0\n",
       "    dy       float64 8B -100.0\n",
       "  * layer    (layer) int64 296B 1 2 3 4 5 6 7 8 9 ... 29 30 31 32 33 34 35 36 37</pre><div class='xr-wrap' style='display:none'><div class='xr-header'><div class='xr-obj-type'>xarray.DataArray</div><div class='xr-array-name'></div><ul class='xr-dim-list'><li><span class='xr-has-index'>layer</span>: 37</li><li><span class='xr-has-index'>y</span>: 86</li><li><span class='xr-has-index'>x</span>: 120</li></ul></div><ul class='xr-sections'><li class='xr-section-item'><div class='xr-array-wrap'><input id='section-720172c2-1ee8-4cc3-8651-84c99b7bc160' class='xr-array-in' type='checkbox' checked><label for='section-720172c2-1ee8-4cc3-8651-84c99b7bc160' title='Show/hide data repr'><svg class='icon xr-icon-database'><use xlink:href='#icon-database'></use></svg></label><div class='xr-array-preview xr-preview'><span>dask.array&lt;chunksize=(1, 86, 120), meta=np.ndarray&gt;</span></div><div class='xr-array-data'><table>\n",
       "    <tr>\n",
       "        <td>\n",
       "            <table style=\"border-collapse: collapse;\">\n",
       "                <thead>\n",
       "                    <tr>\n",
       "                        <td> </td>\n",
       "                        <th> Array </th>\n",
       "                        <th> Chunk </th>\n",
       "                    </tr>\n",
       "                </thead>\n",
       "                <tbody>\n",
       "                    \n",
       "                    <tr>\n",
       "                        <th> Bytes </th>\n",
       "                        <td> 2.91 MiB </td>\n",
       "                        <td> 80.62 kiB </td>\n",
       "                    </tr>\n",
       "                    \n",
       "                    <tr>\n",
       "                        <th> Shape </th>\n",
       "                        <td> (37, 86, 120) </td>\n",
       "                        <td> (1, 86, 120) </td>\n",
       "                    </tr>\n",
       "                    <tr>\n",
       "                        <th> Dask graph </th>\n",
       "                        <td colspan=\"2\"> 37 chunks in 84 graph layers </td>\n",
       "                    </tr>\n",
       "                    <tr>\n",
       "                        <th> Data type </th>\n",
       "                        <td colspan=\"2\"> float64 numpy.ndarray </td>\n",
       "                    </tr>\n",
       "                </tbody>\n",
       "            </table>\n",
       "        </td>\n",
       "        <td>\n",
       "        <svg width=\"205\" height=\"161\" style=\"stroke:rgb(0,0,0);stroke-width:1\" >\n",
       "\n",
       "  <!-- Horizontal lines -->\n",
       "  <line x1=\"10\" y1=\"0\" x2=\"35\" y2=\"25\" style=\"stroke-width:2\" />\n",
       "  <line x1=\"10\" y1=\"86\" x2=\"35\" y2=\"111\" style=\"stroke-width:2\" />\n",
       "\n",
       "  <!-- Vertical lines -->\n",
       "  <line x1=\"10\" y1=\"0\" x2=\"10\" y2=\"86\" style=\"stroke-width:2\" />\n",
       "  <line x1=\"10\" y1=\"0\" x2=\"10\" y2=\"86\" />\n",
       "  <line x1=\"12\" y1=\"2\" x2=\"12\" y2=\"88\" />\n",
       "  <line x1=\"13\" y1=\"3\" x2=\"13\" y2=\"89\" />\n",
       "  <line x1=\"14\" y1=\"4\" x2=\"14\" y2=\"90\" />\n",
       "  <line x1=\"16\" y1=\"6\" x2=\"16\" y2=\"92\" />\n",
       "  <line x1=\"17\" y1=\"7\" x2=\"17\" y2=\"93\" />\n",
       "  <line x1=\"19\" y1=\"9\" x2=\"19\" y2=\"95\" />\n",
       "  <line x1=\"20\" y1=\"10\" x2=\"20\" y2=\"96\" />\n",
       "  <line x1=\"21\" y1=\"11\" x2=\"21\" y2=\"97\" />\n",
       "  <line x1=\"23\" y1=\"13\" x2=\"23\" y2=\"99\" />\n",
       "  <line x1=\"24\" y1=\"14\" x2=\"24\" y2=\"100\" />\n",
       "  <line x1=\"25\" y1=\"15\" x2=\"25\" y2=\"101\" />\n",
       "  <line x1=\"27\" y1=\"17\" x2=\"27\" y2=\"103\" />\n",
       "  <line x1=\"28\" y1=\"18\" x2=\"28\" y2=\"104\" />\n",
       "  <line x1=\"30\" y1=\"20\" x2=\"30\" y2=\"106\" />\n",
       "  <line x1=\"31\" y1=\"21\" x2=\"31\" y2=\"107\" />\n",
       "  <line x1=\"32\" y1=\"22\" x2=\"32\" y2=\"108\" />\n",
       "  <line x1=\"34\" y1=\"24\" x2=\"34\" y2=\"110\" />\n",
       "  <line x1=\"35\" y1=\"25\" x2=\"35\" y2=\"111\" style=\"stroke-width:2\" />\n",
       "\n",
       "  <!-- Colored Rectangle -->\n",
       "  <polygon points=\"10.0,0.0 35.66808441132346,25.66808441132346 35.66808441132346,111.66808441132346 10.0,86.0\" style=\"fill:#8B4903A0;stroke-width:0\"/>\n",
       "\n",
       "  <!-- Horizontal lines -->\n",
       "  <line x1=\"10\" y1=\"0\" x2=\"130\" y2=\"0\" style=\"stroke-width:2\" />\n",
       "  <line x1=\"10\" y1=\"0\" x2=\"130\" y2=\"0\" />\n",
       "  <line x1=\"12\" y1=\"2\" x2=\"132\" y2=\"2\" />\n",
       "  <line x1=\"13\" y1=\"3\" x2=\"133\" y2=\"3\" />\n",
       "  <line x1=\"14\" y1=\"4\" x2=\"134\" y2=\"4\" />\n",
       "  <line x1=\"16\" y1=\"6\" x2=\"136\" y2=\"6\" />\n",
       "  <line x1=\"17\" y1=\"7\" x2=\"137\" y2=\"7\" />\n",
       "  <line x1=\"19\" y1=\"9\" x2=\"139\" y2=\"9\" />\n",
       "  <line x1=\"20\" y1=\"10\" x2=\"140\" y2=\"10\" />\n",
       "  <line x1=\"21\" y1=\"11\" x2=\"141\" y2=\"11\" />\n",
       "  <line x1=\"23\" y1=\"13\" x2=\"143\" y2=\"13\" />\n",
       "  <line x1=\"24\" y1=\"14\" x2=\"144\" y2=\"14\" />\n",
       "  <line x1=\"25\" y1=\"15\" x2=\"145\" y2=\"15\" />\n",
       "  <line x1=\"27\" y1=\"17\" x2=\"147\" y2=\"17\" />\n",
       "  <line x1=\"28\" y1=\"18\" x2=\"148\" y2=\"18\" />\n",
       "  <line x1=\"30\" y1=\"20\" x2=\"150\" y2=\"20\" />\n",
       "  <line x1=\"31\" y1=\"21\" x2=\"151\" y2=\"21\" />\n",
       "  <line x1=\"32\" y1=\"22\" x2=\"152\" y2=\"22\" />\n",
       "  <line x1=\"34\" y1=\"24\" x2=\"154\" y2=\"24\" />\n",
       "  <line x1=\"35\" y1=\"25\" x2=\"155\" y2=\"25\" style=\"stroke-width:2\" />\n",
       "\n",
       "  <!-- Vertical lines -->\n",
       "  <line x1=\"10\" y1=\"0\" x2=\"35\" y2=\"25\" style=\"stroke-width:2\" />\n",
       "  <line x1=\"130\" y1=\"0\" x2=\"155\" y2=\"25\" style=\"stroke-width:2\" />\n",
       "\n",
       "  <!-- Colored Rectangle -->\n",
       "  <polygon points=\"10.0,0.0 130.0,0.0 155.66808441132346,25.66808441132346 35.66808441132346,25.66808441132346\" style=\"fill:#8B4903A0;stroke-width:0\"/>\n",
       "\n",
       "  <!-- Horizontal lines -->\n",
       "  <line x1=\"35\" y1=\"25\" x2=\"155\" y2=\"25\" style=\"stroke-width:2\" />\n",
       "  <line x1=\"35\" y1=\"111\" x2=\"155\" y2=\"111\" style=\"stroke-width:2\" />\n",
       "\n",
       "  <!-- Vertical lines -->\n",
       "  <line x1=\"35\" y1=\"25\" x2=\"35\" y2=\"111\" style=\"stroke-width:2\" />\n",
       "  <line x1=\"155\" y1=\"25\" x2=\"155\" y2=\"111\" style=\"stroke-width:2\" />\n",
       "\n",
       "  <!-- Colored Rectangle -->\n",
       "  <polygon points=\"35.66808441132346,25.66808441132346 155.66808441132346,25.66808441132346 155.66808441132346,111.66808441132346 35.66808441132346,111.66808441132346\" style=\"fill:#ECB172A0;stroke-width:0\"/>\n",
       "\n",
       "  <!-- Text -->\n",
       "  <text x=\"95.668084\" y=\"131.668084\" font-size=\"1.0rem\" font-weight=\"100\" text-anchor=\"middle\" >120</text>\n",
       "  <text x=\"175.668084\" y=\"68.668084\" font-size=\"1.0rem\" font-weight=\"100\" text-anchor=\"middle\" transform=\"rotate(0,175.668084,68.668084)\">86</text>\n",
       "  <text x=\"12.834042\" y=\"118.834042\" font-size=\"1.0rem\" font-weight=\"100\" text-anchor=\"middle\" transform=\"rotate(45,12.834042,118.834042)\">37</text>\n",
       "</svg>\n",
       "        </td>\n",
       "    </tr>\n",
       "</table></div></div></li><li class='xr-section-item'><input id='section-03e1e608-f143-400b-a60e-7f6f28d724bb' class='xr-section-summary-in' type='checkbox'  checked><label for='section-03e1e608-f143-400b-a60e-7f6f28d724bb' class='xr-section-summary' >Coordinates: <span>(5)</span></label><div class='xr-section-inline-details'></div><div class='xr-section-details'><ul class='xr-var-list'><li class='xr-var-item'><div class='xr-var-name'><span class='xr-has-index'>x</span></div><div class='xr-var-dims'>(x)</div><div class='xr-var-dtype'>float64</div><div class='xr-var-preview xr-preview'>1.132e+05 1.132e+05 ... 1.25e+05</div><input id='attrs-be204cd8-e6a0-4ce4-a12a-c7faec8e1786' class='xr-var-attrs-in' type='checkbox' disabled><label for='attrs-be204cd8-e6a0-4ce4-a12a-c7faec8e1786' title='Show/Hide attributes'><svg class='icon xr-icon-file-text2'><use xlink:href='#icon-file-text2'></use></svg></label><input id='data-e8552754-90f6-4b8b-959e-3aaa07436b18' class='xr-var-data-in' type='checkbox'><label for='data-e8552754-90f6-4b8b-959e-3aaa07436b18' title='Show/Hide data repr'><svg class='icon xr-icon-database'><use xlink:href='#icon-database'></use></svg></label><div class='xr-var-attrs'><dl class='xr-attrs'></dl></div><div class='xr-var-data'><pre>array([113150., 113250., 113350., 113450., 113550., 113650., 113750., 113850.,\n",
       "       113950., 114050., 114150., 114250., 114350., 114450., 114550., 114650.,\n",
       "       114750., 114850., 114950., 115050., 115150., 115250., 115350., 115450.,\n",
       "       115550., 115650., 115750., 115850., 115950., 116050., 116150., 116250.,\n",
       "       116350., 116450., 116550., 116650., 116750., 116850., 116950., 117050.,\n",
       "       117150., 117250., 117350., 117450., 117550., 117650., 117750., 117850.,\n",
       "       117950., 118050., 118150., 118250., 118350., 118450., 118550., 118650.,\n",
       "       118750., 118850., 118950., 119050., 119150., 119250., 119350., 119450.,\n",
       "       119550., 119650., 119750., 119850., 119950., 120050., 120150., 120250.,\n",
       "       120350., 120450., 120550., 120650., 120750., 120850., 120950., 121050.,\n",
       "       121150., 121250., 121350., 121450., 121550., 121650., 121750., 121850.,\n",
       "       121950., 122050., 122150., 122250., 122350., 122450., 122550., 122650.,\n",
       "       122750., 122850., 122950., 123050., 123150., 123250., 123350., 123450.,\n",
       "       123550., 123650., 123750., 123850., 123950., 124050., 124150., 124250.,\n",
       "       124350., 124450., 124550., 124650., 124750., 124850., 124950., 125050.])</pre></div></li><li class='xr-var-item'><div class='xr-var-name'><span class='xr-has-index'>y</span></div><div class='xr-var-dims'>(y)</div><div class='xr-var-dtype'>float64</div><div class='xr-var-preview xr-preview'>3.962e+05 3.96e+05 ... 3.876e+05</div><input id='attrs-8edad9e9-433f-4030-837b-62229eb56e2b' class='xr-var-attrs-in' type='checkbox' disabled><label for='attrs-8edad9e9-433f-4030-837b-62229eb56e2b' title='Show/Hide attributes'><svg class='icon xr-icon-file-text2'><use xlink:href='#icon-file-text2'></use></svg></label><input id='data-33a3a14a-a490-497c-a119-2fc32a8b665f' class='xr-var-data-in' type='checkbox'><label for='data-33a3a14a-a490-497c-a119-2fc32a8b665f' title='Show/Hide data repr'><svg class='icon xr-icon-database'><use xlink:href='#icon-database'></use></svg></label><div class='xr-var-attrs'><dl class='xr-attrs'></dl></div><div class='xr-var-data'><pre>array([396150., 396050., 395950., 395850., 395750., 395650., 395550., 395450.,\n",
       "       395350., 395250., 395150., 395050., 394950., 394850., 394750., 394650.,\n",
       "       394550., 394450., 394350., 394250., 394150., 394050., 393950., 393850.,\n",
       "       393750., 393650., 393550., 393450., 393350., 393250., 393150., 393050.,\n",
       "       392950., 392850., 392750., 392650., 392550., 392450., 392350., 392250.,\n",
       "       392150., 392050., 391950., 391850., 391750., 391650., 391550., 391450.,\n",
       "       391350., 391250., 391150., 391050., 390950., 390850., 390750., 390650.,\n",
       "       390550., 390450., 390350., 390250., 390150., 390050., 389950., 389850.,\n",
       "       389750., 389650., 389550., 389450., 389350., 389250., 389150., 389050.,\n",
       "       388950., 388850., 388750., 388650., 388550., 388450., 388350., 388250.,\n",
       "       388150., 388050., 387950., 387850., 387750., 387650.])</pre></div></li><li class='xr-var-item'><div class='xr-var-name'><span>dx</span></div><div class='xr-var-dims'>()</div><div class='xr-var-dtype'>float64</div><div class='xr-var-preview xr-preview'>100.0</div><input id='attrs-9e90b520-9255-4ed1-a1f8-3377156eaa37' class='xr-var-attrs-in' type='checkbox' disabled><label for='attrs-9e90b520-9255-4ed1-a1f8-3377156eaa37' title='Show/Hide attributes'><svg class='icon xr-icon-file-text2'><use xlink:href='#icon-file-text2'></use></svg></label><input id='data-55a5761c-0c1b-4118-b6bd-5235f45ce942' class='xr-var-data-in' type='checkbox'><label for='data-55a5761c-0c1b-4118-b6bd-5235f45ce942' title='Show/Hide data repr'><svg class='icon xr-icon-database'><use xlink:href='#icon-database'></use></svg></label><div class='xr-var-attrs'><dl class='xr-attrs'></dl></div><div class='xr-var-data'><pre>array(100.)</pre></div></li><li class='xr-var-item'><div class='xr-var-name'><span>dy</span></div><div class='xr-var-dims'>()</div><div class='xr-var-dtype'>float64</div><div class='xr-var-preview xr-preview'>-100.0</div><input id='attrs-fa03b2ff-1e63-4cf5-b8cf-9b89255f2edb' class='xr-var-attrs-in' type='checkbox' disabled><label for='attrs-fa03b2ff-1e63-4cf5-b8cf-9b89255f2edb' title='Show/Hide attributes'><svg class='icon xr-icon-file-text2'><use xlink:href='#icon-file-text2'></use></svg></label><input id='data-b7d81dfc-4c6e-4a59-bfb3-112c478941cc' class='xr-var-data-in' type='checkbox'><label for='data-b7d81dfc-4c6e-4a59-bfb3-112c478941cc' title='Show/Hide data repr'><svg class='icon xr-icon-database'><use xlink:href='#icon-database'></use></svg></label><div class='xr-var-attrs'><dl class='xr-attrs'></dl></div><div class='xr-var-data'><pre>array(-100.)</pre></div></li><li class='xr-var-item'><div class='xr-var-name'><span class='xr-has-index'>layer</span></div><div class='xr-var-dims'>(layer)</div><div class='xr-var-dtype'>int64</div><div class='xr-var-preview xr-preview'>1 2 3 4 5 6 7 ... 32 33 34 35 36 37</div><input id='attrs-a1721500-f65a-4b2c-a70a-e1b080ccb18d' class='xr-var-attrs-in' type='checkbox' disabled><label for='attrs-a1721500-f65a-4b2c-a70a-e1b080ccb18d' title='Show/Hide attributes'><svg class='icon xr-icon-file-text2'><use xlink:href='#icon-file-text2'></use></svg></label><input id='data-151a8371-9c40-47da-9c9b-82ec6c3425bc' class='xr-var-data-in' type='checkbox'><label for='data-151a8371-9c40-47da-9c9b-82ec6c3425bc' title='Show/Hide data repr'><svg class='icon xr-icon-database'><use xlink:href='#icon-database'></use></svg></label><div class='xr-var-attrs'><dl class='xr-attrs'></dl></div><div class='xr-var-data'><pre>array([ 1,  2,  3,  4,  5,  6,  7,  8,  9, 10, 11, 12, 13, 14, 15, 16, 17, 18,\n",
       "       19, 20, 21, 22, 23, 24, 25, 26, 27, 28, 29, 30, 31, 32, 33, 34, 35, 36,\n",
       "       37])</pre></div></li></ul></div></li><li class='xr-section-item'><input id='section-d76a3960-2dc8-48b4-a800-104f92c07ed9' class='xr-section-summary-in' type='checkbox'  ><label for='section-d76a3960-2dc8-48b4-a800-104f92c07ed9' class='xr-section-summary' >Indexes: <span>(3)</span></label><div class='xr-section-inline-details'></div><div class='xr-section-details'><ul class='xr-var-list'><li class='xr-var-item'><div class='xr-index-name'><div>x</div></div><div class='xr-index-preview'>PandasIndex</div><div></div><input id='index-99687def-d9b2-4b51-9e4c-7e4012576f29' class='xr-index-data-in' type='checkbox'/><label for='index-99687def-d9b2-4b51-9e4c-7e4012576f29' title='Show/Hide index repr'><svg class='icon xr-icon-database'><use xlink:href='#icon-database'></use></svg></label><div class='xr-index-data'><pre>PandasIndex(Index([113150.0, 113250.0, 113350.0, 113450.0, 113550.0, 113650.0, 113750.0,\n",
       "       113850.0, 113950.0, 114050.0,\n",
       "       ...\n",
       "       124150.0, 124250.0, 124350.0, 124450.0, 124550.0, 124650.0, 124750.0,\n",
       "       124850.0, 124950.0, 125050.0],\n",
       "      dtype=&#x27;float64&#x27;, name=&#x27;x&#x27;, length=120))</pre></div></li><li class='xr-var-item'><div class='xr-index-name'><div>y</div></div><div class='xr-index-preview'>PandasIndex</div><div></div><input id='index-5e99c1c6-6f19-4571-9cf8-e470d377ec62' class='xr-index-data-in' type='checkbox'/><label for='index-5e99c1c6-6f19-4571-9cf8-e470d377ec62' title='Show/Hide index repr'><svg class='icon xr-icon-database'><use xlink:href='#icon-database'></use></svg></label><div class='xr-index-data'><pre>PandasIndex(Index([396150.0, 396050.0, 395950.0, 395850.0, 395750.0, 395650.0, 395550.0,\n",
       "       395450.0, 395350.0, 395250.0, 395150.0, 395050.0, 394950.0, 394850.0,\n",
       "       394750.0, 394650.0, 394550.0, 394450.0, 394350.0, 394250.0, 394150.0,\n",
       "       394050.0, 393950.0, 393850.0, 393750.0, 393650.0, 393550.0, 393450.0,\n",
       "       393350.0, 393250.0, 393150.0, 393050.0, 392950.0, 392850.0, 392750.0,\n",
       "       392650.0, 392550.0, 392450.0, 392350.0, 392250.0, 392150.0, 392050.0,\n",
       "       391950.0, 391850.0, 391750.0, 391650.0, 391550.0, 391450.0, 391350.0,\n",
       "       391250.0, 391150.0, 391050.0, 390950.0, 390850.0, 390750.0, 390650.0,\n",
       "       390550.0, 390450.0, 390350.0, 390250.0, 390150.0, 390050.0, 389950.0,\n",
       "       389850.0, 389750.0, 389650.0, 389550.0, 389450.0, 389350.0, 389250.0,\n",
       "       389150.0, 389050.0, 388950.0, 388850.0, 388750.0, 388650.0, 388550.0,\n",
       "       388450.0, 388350.0, 388250.0, 388150.0, 388050.0, 387950.0, 387850.0,\n",
       "       387750.0, 387650.0],\n",
       "      dtype=&#x27;float64&#x27;, name=&#x27;y&#x27;))</pre></div></li><li class='xr-var-item'><div class='xr-index-name'><div>layer</div></div><div class='xr-index-preview'>PandasIndex</div><div></div><input id='index-f9036b6e-f809-4527-a97d-7d0292d0dc8f' class='xr-index-data-in' type='checkbox'/><label for='index-f9036b6e-f809-4527-a97d-7d0292d0dc8f' title='Show/Hide index repr'><svg class='icon xr-icon-database'><use xlink:href='#icon-database'></use></svg></label><div class='xr-index-data'><pre>PandasIndex(Index([ 1,  2,  3,  4,  5,  6,  7,  8,  9, 10, 11, 12, 13, 14, 15, 16, 17, 18,\n",
       "       19, 20, 21, 22, 23, 24, 25, 26, 27, 28, 29, 30, 31, 32, 33, 34, 35, 36,\n",
       "       37],\n",
       "      dtype=&#x27;int64&#x27;, name=&#x27;layer&#x27;))</pre></div></li></ul></div></li><li class='xr-section-item'><input id='section-7ff9629b-5d4d-4a54-9b0f-808a71827e63' class='xr-section-summary-in' type='checkbox' disabled ><label for='section-7ff9629b-5d4d-4a54-9b0f-808a71827e63' class='xr-section-summary'  title='Expand/collapse section'>Attributes: <span>(0)</span></label><div class='xr-section-inline-details'></div><div class='xr-section-details'><dl class='xr-attrs'></dl></div></li></ul></div></div>"
      ],
      "text/plain": [
       "<xarray.DataArray (layer: 37, y: 86, x: 120)> Size: 3MB\n",
       "dask.array<where, shape=(37, 86, 120), dtype=float64, chunksize=(1, 86, 120), chunktype=numpy.ndarray>\n",
       "Coordinates:\n",
       "  * x        (x) float64 960B 1.132e+05 1.132e+05 ... 1.25e+05 1.25e+05\n",
       "  * y        (y) float64 688B 3.962e+05 3.96e+05 ... 3.878e+05 3.876e+05\n",
       "    dx       float64 8B 100.0\n",
       "    dy       float64 8B -100.0\n",
       "  * layer    (layer) int64 296B 1 2 3 4 5 6 7 8 9 ... 29 30 31 32 33 34 35 36 37"
      ]
     },
     "execution_count": 18,
     "metadata": {},
     "output_type": "execute_result"
    }
   ],
   "source": [
    "# Create a boolean mask for the first/last row and column\n",
    "is_first_last_col = (A_BND_AoI.coords['x'] == A_BND_AoI.x[0]) | (A_BND_AoI.coords['x'] == A_BND_AoI.x[-1])\n",
    "is_first_last_row = (A_BND_AoI.coords['y'] == A_BND_AoI.y[0]) | (A_BND_AoI.coords['y'] == A_BND_AoI.y[-1])\n",
    "\n",
    "# Combine the masks. This creates a 2D mask that broadcasts over the 'layer' dimension.\n",
    "is_border = is_first_last_col | is_first_last_row\n",
    "\n",
    "# Use where to set border cells to -1, keeping original values elsewhere.\n",
    "A_BND_AoI = A_BND_AoI.where(~is_border, -1)\n",
    "A_BND_AoI"
   ]
  },
  {
   "cell_type": "code",
   "execution_count": 19,
   "id": "772c14c7",
   "metadata": {},
   "outputs": [
    {
     "data": {
      "text/plain": [
       "<matplotlib.image.AxesImage at 0x2c36cb86840>"
      ]
     },
     "execution_count": 19,
     "metadata": {},
     "output_type": "execute_result"
    },
    {
     "data": {
      "image/png": "[encoded data removed]",
      "text/plain": [
       "<Figure size 640x480 with 2 Axes>"
      ]
     },
     "metadata": {},
     "output_type": "display_data"
    }
   ],
   "source": [
    "A_BND_AoI.isel(layer=0).plot.imshow(cmap='grey')"
   ]
  },
  {
   "cell_type": "markdown",
   "id": "fc3ce3e8",
   "metadata": {},
   "source": [
    "Ok, the borders have been set to -1."
   ]
  },
  {
   "cell_type": "code",
   "execution_count": 20,
   "id": "c5a75b7a",
   "metadata": {},
   "outputs": [],
   "source": [
    "PRJ['bnd']['ibound'] = A_BND_AoI # Update the ibound in the project"
   ]
  },
  {
   "cell_type": "code",
   "execution_count": 21,
   "id": "e8055c60",
   "metadata": {},
   "outputs": [],
   "source": [
    "# PRJ['bnd']['ibound'] = A_BND_init # Update the ibound in the project"
   ]
  },
  {
   "cell_type": "code",
   "execution_count": 22,
   "id": "d606cc4a",
   "metadata": {},
   "outputs": [
    {
     "name": "stdout",
     "output_type": "stream",
     "text": [
      "--- Statistics for: DataArray ---\n",
      "count    10320.000000\n",
      "mean         0.920930\n",
      "std          0.389727\n",
      "min         -1.000000\n",
      "25%          1.000000\n",
      "50%          1.000000\n",
      "75%          1.000000\n",
      "max          1.000000\n",
      "Name: DataArray, dtype: float64\n",
      "\n",
      "--- Coordinate Summary ---\n",
      "- x (float64):\n",
      "count       120.0\n",
      "min      113150.0\n",
      "max      125050.0\n",
      "step        100.0\n",
      "\n",
      "- y (float64):\n",
      "count        86.0\n",
      "min      387650.0\n",
      "max      396150.0\n",
      "step       -100.0\n",
      "\n",
      "------------------------------\n"
     ]
    }
   ],
   "source": [
    "UIM.xr_describe(PRJ['bnd']['ibound'].sel(layer=1))"
   ]
  },
  {
   "cell_type": "markdown",
   "id": "4d427856",
   "metadata": {},
   "source": [
    "# Load MF6 Mdl"
   ]
  },
  {
   "cell_type": "code",
   "execution_count": 23,
   "id": "aa7236f9",
   "metadata": {},
   "outputs": [],
   "source": [
    "times = pd.date_range(SP_date_1st, SP_date_last, freq='D')"
   ]
  },
  {
   "cell_type": "code",
   "execution_count": 24,
   "id": "d3f7abc6",
   "metadata": {},
   "outputs": [
    {
     "name": "stdout",
     "output_type": "stream",
     "text": [
      "Removed CAP package due to mixed grid compatibility issues\n",
      "Simulation created successfully!\n"
     ]
    }
   ],
   "source": [
    "# Convert IMOD5 to MODFLOW6 (without CAP package due to mixed grid issues)\n",
    "PRJ_no_MSW = PRJ.copy()\n",
    "PRJ_CAP = {}\n",
    "if \"cap\" in PRJ_no_MSW:\n",
    "    PRJ_CAP['cap'] = PRJ_no_MSW[\"cap\"]\n",
    "    PRJ_CAP['extra'] = PRJ_no_MSW['extra']\n",
    "    del PRJ_no_MSW[\"cap\"], PRJ_no_MSW['extra']\n",
    "    print(\"Removed CAP package due to mixed grid compatibility issues\")\n",
    "\n",
    "Sim_MF6 = mf6.Modflow6Simulation.from_imod5_data(PRJ_no_MSW, period_data, times) #, regridder_types=)\n",
    "print(\"Simulation created successfully!\")"
   ]
  },
  {
   "cell_type": "code",
   "execution_count": 25,
   "id": "234ead8b",
   "metadata": {},
   "outputs": [],
   "source": [
    "MF6_Mdl = Sim_MF6['imported_model']"
   ]
  },
  {
   "cell_type": "code",
   "execution_count": 26,
   "id": "3e51ba58",
   "metadata": {},
   "outputs": [],
   "source": [
    "MF6_Mdl[\"oc\"] = mf6.OutputControl(save_head=\"last\", save_budget=\"last\")\n",
    "    \n",
    "# Mimic iMOD5's \"Moderate\" settings\n",
    "IMS = mf6.Solution(\n",
    "    modelnames=[\"imported_model\"],\n",
    "    print_option=\"summary\",\n",
    "    outer_csvfile=None,\n",
    "    inner_csvfile=None,\n",
    "    no_ptc=None,\n",
    "    outer_dvclose=0.001,\n",
    "    outer_maximum=150,\n",
    "    under_relaxation=\"dbd\",\n",
    "    under_relaxation_theta=0.9,\n",
    "    under_relaxation_kappa=0.0001,\n",
    "    under_relaxation_gamma=0.0,\n",
    "    under_relaxation_momentum=0.0,\n",
    "    backtracking_number=0,\n",
    "    backtracking_tolerance=0.0,\n",
    "    backtracking_reduction_factor=0.0,\n",
    "    backtracking_residual_limit=0.0,\n",
    "    inner_maximum=30,\n",
    "    inner_dvclose=0.001,\n",
    "    inner_rclose=100.0,\n",
    "    rclose_option=\"strict\",\n",
    "    linear_acceleration=\"bicgstab\",\n",
    "    relaxation_factor=0.97,\n",
    "    preconditioner_levels=0,\n",
    "    preconditioner_drop_tolerance=0.0,\n",
    "    number_orthogonalizations=0,\n",
    ")\n",
    "Sim_MF6[\"ims\"] = IMS"
   ]
  },
  {
   "cell_type": "markdown",
   "id": "420df23c",
   "metadata": {},
   "source": [
    "MetaSWAP (MSW) needed to be removed, otherwise this function fails."
   ]
  },
  {
   "cell_type": "markdown",
   "id": "ccc95871",
   "metadata": {},
   "source": [
    "## Check MF6 params"
   ]
  },
  {
   "cell_type": "code",
   "execution_count": 27,
   "id": "7421a0ba",
   "metadata": {},
   "outputs": [],
   "source": [
    "if False:\n",
    "    for k in MF6_Mdl.keys():\n",
    "        print(f\" ***** {k} ***** \")\n",
    "        UIM.xr_describe(MF6_Mdl['sto'].dataset)\n",
    "        print(\"*****************************************************\")"
   ]
  },
  {
   "cell_type": "code",
   "execution_count": 28,
   "id": "25723a63",
   "metadata": {},
   "outputs": [
    {
     "data": {
      "text/plain": [
       "<matplotlib.image.AxesImage at 0x2c37910e960>"
      ]
     },
     "execution_count": 28,
     "metadata": {},
     "output_type": "execute_result"
    },
    {
     "data": {
      "image/png": "[encoded data removed]",
      "text/plain": [
       "<Figure size 640x480 with 2 Axes>"
      ]
     },
     "metadata": {},
     "output_type": "display_data"
    }
   ],
   "source": [
    "(~np.isnan(MF6_Mdl['chd_merged'].dataset['head'].isel(time=0, layer=0))).plot.imshow()"
   ]
  },
  {
   "cell_type": "markdown",
   "id": "8e047532",
   "metadata": {},
   "source": [
    "Ok, CHD is set only at the border as expected. Let's check a few more params though, to be safe."
   ]
  },
  {
   "cell_type": "code",
   "execution_count": 64,
   "id": "9c045880",
   "metadata": {},
   "outputs": [],
   "source": [
    "# MF6_Mdl['dis'].dataset['top'].plot.imshow(cmap='terrain')"
   ]
  },
  {
   "cell_type": "code",
   "execution_count": 51,
   "id": "0d31a911",
   "metadata": {},
   "outputs": [
    {
     "data": {
      "text/plain": [
       "<matplotlib.image.AxesImage at 0x2c379df0d70>"
      ]
     },
     "execution_count": 51,
     "metadata": {},
     "output_type": "execute_result"
    },
    {
     "data": {
      "image/png": "[encoded data removed]",
      "text/plain": [
       "<Figure size 640x480 with 2 Axes>"
      ]
     },
     "metadata": {},
     "output_type": "display_data"
    }
   ],
   "source": [
    "# MF6_Mdl['dis'].dataset['bottom'].sel(layer=2).plot.imshow(cmap='terrain')"
   ]
  },
  {
   "cell_type": "code",
   "execution_count": 63,
   "id": "392123ff",
   "metadata": {},
   "outputs": [
    {
     "data": {
      "text/plain": [
       "<matplotlib.image.AxesImage at 0x2c3048f7ad0>"
      ]
     },
     "execution_count": 63,
     "metadata": {},
     "output_type": "execute_result"
    },
    {
     "data": {
      "image/png": "[encoded data removed]",
      "text/plain": [
       "<Figure size 640x480 with 2 Axes>"
      ]
     },
     "metadata": {},
     "output_type": "display_data"
    }
   ],
   "source": [
    "# MF6_Mdl['npf'].dataset['k'].sel(layer=4).plot.imshow(cmap='terrain')"
   ]
  },
  {
   "cell_type": "markdown",
   "id": "3671ce6f",
   "metadata": {},
   "source": [
    "All those we've checked make sense for now."
   ]
  },
  {
   "cell_type": "markdown",
   "id": "6492a155",
   "metadata": {},
   "source": [
    "# Load MSW"
   ]
  },
  {
   "cell_type": "markdown",
   "id": "130f794e",
   "metadata": {},
   "source": [
    "## 1st attempt"
   ]
  },
  {
   "cell_type": "code",
   "execution_count": 65,
   "id": "02af4484",
   "metadata": {},
   "outputs": [],
   "source": [
    "MF6_DIS = Sim_MF6[\"imported_model\"][\"dis\"]"
   ]
  },
  {
   "cell_type": "code",
   "execution_count": 66,
   "id": "1ed6fe49",
   "metadata": {},
   "outputs": [
    {
     "name": "stdout",
     "output_type": "stream",
     "text": [
      "Error creating MetaSwap model: cannot align objects with join='exact' where index/labels/sizes are not equal along these coordinates (dimensions): 'x' ('x',)\n"
     ]
    }
   ],
   "source": [
    "try:\n",
    "    MSW_Mdl = msw.MetaSwapModel.from_imod5_data(PRJ_CAP, MF6_DIS, times)\n",
    "    print(\"🎉 MetaSwap model created successfully!\")\n",
    "except Exception as e:\n",
    "    print(f\"Error creating MetaSwap model: {e}\")\n",
    "    MSW_Mdl = None"
   ]
  },
  {
   "cell_type": "markdown",
   "id": "7a4a578f",
   "metadata": {},
   "source": [
    "## 2nd attempt"
   ]
  },
  {
   "cell_type": "markdown",
   "id": "2976a908",
   "metadata": {},
   "source": [
    "### Regriding\n",
    "Match dimensions of MetaSwap model with MF6 model"
   ]
  },
  {
   "cell_type": "markdown",
   "id": "1cf4e775",
   "metadata": {},
   "source": [
    "Dimensions of MF6_DIS and MetaSWAP files do not align. Former is 100x100, latter is 25x25 m."
   ]
  },
  {
   "cell_type": "code",
   "execution_count": 79,
   "id": "761ee85b",
   "metadata": {},
   "outputs": [
    {
     "name": "stdout",
     "output_type": "stream",
     "text": [
      "=== Target Discretization ===\n",
      "Type: <class 'imod.mf6.dis.StructuredDiscretization'>\n",
      "Keys: No keys method\n"
     ]
    }
   ],
   "source": [
    "# Debug the grid alignment issue\n",
    "print(\"=== Target Discretization ===\")\n",
    "print(f\"Type: {type(MF6_DIS)}\")\n",
    "print(f\"Keys: {list(MF6_DIS.keys()) if hasattr(MF6_DIS, 'keys') else 'No keys method'}\")"
   ]
  },
  {
   "cell_type": "code",
   "execution_count": 80,
   "id": "c738b50a",
   "metadata": {},
   "outputs": [
    {
     "name": "stdout",
     "output_type": "stream",
     "text": [
      "Dataset keys: ['idomain', 'top', 'bottom']\n"
     ]
    }
   ],
   "source": [
    "# Access the data from MF6_DIS\n",
    "if hasattr(MF6_DIS, 'dataset'):\n",
    "    print(f\"Dataset keys: {list(MF6_DIS.dataset.keys())}\")\n",
    "    x_MF6 = MF6_DIS.dataset.x.values\n",
    "    y_MF6 = MF6_DIS.dataset.y.values\n",
    "else:\n",
    "    # Try accessing as a dataset directly\n",
    "    x_MF6 = MF6_DIS.x.values\n",
    "    y_MF6 = MF6_DIS.y.values"
   ]
  },
  {
   "cell_type": "code",
   "execution_count": 81,
   "id": "4ebf3846",
   "metadata": {},
   "outputs": [
    {
     "name": "stdout",
     "output_type": "stream",
     "text": [
      "Target X range: 113150.0 to 125050.0, length: 120\n",
      "Target Y range: 387650.0 to 396150.0, length: 86\n"
     ]
    }
   ],
   "source": [
    "print(f\"Target X range: {x_MF6.min()} to {x_MF6.max()}, length: {len(x_MF6)}\")\n",
    "print(f\"Target Y range: {y_MF6.min()} to {y_MF6.max()}, length: {len(y_MF6)}\")"
   ]
  },
  {
   "cell_type": "code",
   "execution_count": 82,
   "id": "dabf8a90",
   "metadata": {},
   "outputs": [
    {
     "name": "stdout",
     "output_type": "stream",
     "text": [
      "\n",
      "=== CAP Data ===\n",
      "CAP X range: 60012.5 to 210287.5, length: 6012\n",
      "CAP Y range: 322512.5 to 435087.5, length: 4504\n",
      "\n",
      "=== Comparison ===\n",
      "X grids compatible: False\n",
      "Y grids compatible: False\n"
     ]
    }
   ],
   "source": [
    "print(\"\\n=== CAP Data ===\")\n",
    "sample_cap = PRJ_CAP['cap']['urban_area']\n",
    "x_MSW = sample_cap.x.values\n",
    "y_MSW = sample_cap.y.values\n",
    "print(f\"CAP X range: {x_MSW.min()} to {x_MSW.max()}, length: {len(x_MSW)}\")\n",
    "print(f\"CAP Y range: {y_MSW.min()} to {y_MSW.max()}, length: {len(y_MSW)}\")\n",
    "\n",
    "print(f\"\\n=== Comparison ===\")\n",
    "print(f\"X grids compatible: {len(x_MF6) == len(x_MSW) and np.allclose(x_MF6, x_MSW)}\")\n",
    "print(f\"Y grids compatible: {len(y_MF6) == len(y_MSW) and np.allclose(y_MF6, y_MSW)}\")"
   ]
  },
  {
   "cell_type": "code",
   "execution_count": 83,
   "id": "370df6d5",
   "metadata": {},
   "outputs": [],
   "source": [
    "# # Remove 'extra' from cap if it exists (to avoid isel error on metadata)\n",
    "# if 'extra' in PRJ_CAP['cap'].keys():\n",
    "#     PRJ_CAP['cap']['extra']"
   ]
  },
  {
   "cell_type": "code",
   "execution_count": 84,
   "id": "657d8dde",
   "metadata": {},
   "outputs": [
    {
     "name": "stdout",
     "output_type": "stream",
     "text": [
      "MODFLOW6 domain: X(113150.0 to 125050.0), Y(387650.0 to 396150.0)\n"
     ]
    }
   ],
   "source": [
    "# Get the MODFLOW6 extent (target domain)\n",
    "x_MF6_min, x_MF6_max = MF6_DIS.dataset.x.min().item(), MF6_DIS.dataset.x.max().item()\n",
    "y_MF6_min, y_MF6_max = MF6_DIS.dataset.y.min().item(), MF6_DIS.dataset.y.max().item()\n",
    "print(f\"MODFLOW6 domain: X({x_MF6_min:.1f} to {x_MF6_max:.1f}), Y({y_MF6_min:.1f} to {y_MF6_max:.1f})\")"
   ]
  },
  {
   "cell_type": "code",
   "execution_count": 85,
   "id": "7ba85269",
   "metadata": {},
   "outputs": [
    {
     "name": "stdout",
     "output_type": "stream",
     "text": [
      "CAP grid resolution: dx=25.0m, dy=25.0m\n"
     ]
    }
   ],
   "source": [
    "# Get CAP grid info\n",
    "MSW_sample = PRJ_CAP['cap']['urban_area']\n",
    "dx_MSW = abs(MSW_sample.x.values[1] - MSW_sample.x.values[0])  # CAP resolution (absolute value)\n",
    "dy_MSW = abs(MSW_sample.y.values[1] - MSW_sample.y.values[0])  # CAP resolution (absolute value)\n",
    "print(f\"CAP grid resolution: dx={dx_MSW:.1f}m, dy={dy_MSW:.1f}m\")"
   ]
  },
  {
   "cell_type": "code",
   "execution_count": null,
   "id": "d5a65801",
   "metadata": {},
   "outputs": [],
   "source": [
    "# Create exact coordinates for the refined grid within MODFLOW6 domain\n",
    "refined_x = np.arange( (x_MF6_min - dx_MF6/2 + cap_dx/2) , MF6_x_max, cap_dx)\n",
    "refined_y = np.arange(MF6_y_max + cap_dy*3/2, MF6_y_min, -cap_dy)\n",
    "print(f\"Refined grid: x from {refined_x.min():.1f} to {refined_x.max():.1f} ({len(refined_x)} cells)\")\n",
    "print(f\"Refined grid: y from {refined_y.min():.1f} to {refined_y.max():.1f} ({len(refined_y)} cells)\")"
   ]
  },
  {
   "cell_type": "code",
   "execution_count": null,
   "id": "b742a0a8",
   "metadata": {},
   "outputs": [],
   "source": [
    "# Create exact coordinates for the refined grid within MODFLOW6 domain\n",
    "refined_x = np.arange(MF6_x_min - cap_dx*3/2, MF6_x_max, cap_dx)\n",
    "refined_y = np.arange(MF6_y_max + cap_dy*3/2, MF6_y_min, -cap_dy)\n",
    "print(f\"Refined grid: x from {refined_x.min():.1f} to {refined_x.max():.1f} ({len(refined_x)} cells)\")\n",
    "print(f\"Refined grid: y from {refined_y.min():.1f} to {refined_y.max():.1f} ({len(refined_y)} cells)\")              "
   ]
  },
  {
   "cell_type": "code",
   "execution_count": null,
   "id": "4abf7e67",
   "metadata": {},
   "outputs": [],
   "source": [
    "# Create a refined target discretization\n",
    "MF6_DIS_refined = MF6_DIS.dataset.interp(\n",
    "    x=refined_x,\n",
    "    y=refined_y,\n",
    "    method='linear'\n",
    ")"
   ]
  },
  {
   "cell_type": "code",
   "execution_count": null,
   "id": "9ba52c8d",
   "metadata": {},
   "outputs": [],
   "source": [
    "MF6_DIS_refined['idomain'] = MF6_DIS_refined['idomain'].astype(int)"
   ]
  },
  {
   "cell_type": "code",
   "execution_count": null,
   "id": "5b3c005e",
   "metadata": {},
   "outputs": [],
   "source": [
    "MF6_DIS_refined.sel(layer=1).plot.i"
   ]
  },
  {
   "cell_type": "code",
   "execution_count": null,
   "id": "e61e3e0b",
   "metadata": {},
   "outputs": [],
   "source": [
    "# Convert back to StructuredDiscretization\n",
    "MF6_DIS = mf6.StructuredDiscretization(\n",
    "    idomain=MF6_DIS_refined['idomain'],\n",
    "    top=MF6_DIS_refined['top'],\n",
    "    bottom=MF6_DIS_refined['bottom']\n",
    ")\n",
    "print(f\"Refined MF6_DIS shape: {MF6_DIS.dataset.sizes}\")"
   ]
  },
  {
   "cell_type": "code",
   "execution_count": null,
   "id": "85899feb",
   "metadata": {},
   "outputs": [],
   "source": [
    "# Now regrid all CAP data to the exact refined coordinates\n",
    "PRJ_CAP_regridded = {'cap': {}}\n",
    "for key, data in PRJ_CAP['cap'].items():\n",
    "    print(f\"Processing {key}: dims = {data.dims}\")\n",
    "    \n",
    "    # Check if data has spatial dimensions (x, y)\n",
    "    if 'x' in data.dims and 'y' in data.dims:\n",
    "        if key == 'wetted_area':\n",
    "            # For area-related fields, we need to preserve the total area\n",
    "            # The wetted_area represents the actual area, which should remain as cell area\n",
    "            regridded_data = data.interp(x=refined_x, y=refined_y, method='nearest')\n",
    "            # Set to full cell area (25m x 25m = 625 m²)\n",
    "            PRJ_CAP_regridded['cap'][key] = regridded_data * 0 + (cap_dx * cap_dy)\n",
    "        else:\n",
    "            # For other spatial data, interpolate normally\n",
    "            PRJ_CAP_regridded['cap'][key] = data.interp(\n",
    "                x=refined_x,\n",
    "                y=refined_y,\n",
    "                method='nearest'\n",
    "            )\n",
    "    else:\n",
    "        # Keep non-spatial data as is\n",
    "        PRJ_CAP_regridded['cap'][key] = data\n",
    "print(\"CAP data regridding completed.\")"
   ]
  },
  {
   "cell_type": "code",
   "execution_count": null,
   "id": "3468b1c2",
   "metadata": {},
   "outputs": [],
   "source": [
    "# Merge with extra metadata\n",
    "PRJ_CAP_for_MSW = {**PRJ_CAP_regridded, **{'extra': {**PRJ_CAP['extra']}}}"
   ]
  },
  {
   "cell_type": "markdown",
   "id": "aa0f189b",
   "metadata": {},
   "source": [
    "### Fix mete_grid.inp relative paths\n",
    "MSW.MetaSwapModel.from_imod5_data is struggling with relative paths, so we'll convert them to full paths. #666 caution, if they're already full paths, this may cause an error."
   ]
  },
  {
   "cell_type": "code",
   "execution_count": null,
   "id": "0bcd8aad",
   "metadata": {},
   "outputs": [],
   "source": [
    "# Get the original mete_grid.inp file path\n",
    "Pa_mete_grid = PRJ_CAP['extra']['paths'][2][0]  # 3rd file (index 2) (by design in imod - i.e. the order can't change)\n",
    "print(f\"Original file: {Pa_mete_grid}\")"
   ]
  },
  {
   "cell_type": "code",
   "execution_count": null,
   "id": "9045fdb9",
   "metadata": {},
   "outputs": [],
   "source": [
    "# Load mete_grid, edit and save it \n",
    "Dir_mete_grid = PDN(Pa_mete_grid)\n",
    "Pa_mete_grid_AbsPa = PJ( PDN(Pa_mete_grid), 'temp', 'mete_grid.inp')\n",
    "if not PE(PDN(Pa_mete_grid_AbsPa)):\n",
    "    MDs(PDN(Pa_mete_grid_AbsPa))\n",
    "\n",
    "DF = pd.read_csv(Pa_mete_grid, header=None, names=['N', 'Y', 'P', 'PET'])\n",
    "DF.P = DF.P.apply(lambda x: os.path.abspath( PJ(Dir_PRJ, x) ))\n",
    "DF.PET = DF.PET.apply(lambda x: os.path.abspath( PJ(Dir_PRJ, x) ))  # Fixed: was DF.P instead of DF.PET"
   ]
  },
  {
   "cell_type": "code",
   "execution_count": null,
   "id": "6018fc31",
   "metadata": {},
   "outputs": [],
   "source": [
    "# Write CSV with proper format to avoid imod parsing issues with newlines\n",
    "# imod doesn't strip newlines from paths, so we need to format carefully\n",
    "corrected_lines = []\n",
    "for index, row in DF.iterrows():\n",
    "    # Add quotes around paths like the original format\n",
    "    line = f'{row[\"N\"]},{row[\"Y\"]},\"{row[\"P\"]}\",\"{row[\"PET\"]}\"'\n",
    "    corrected_lines.append(line)\n",
    "\n",
    "# Write without newlines in path columns\n",
    "with open(Pa_mete_grid_AbsPa, 'w') as f:\n",
    "    for i, line in enumerate(corrected_lines):\n",
    "        if i == len(corrected_lines) - 1:  # Last line - no newline\n",
    "            f.write(line)\n",
    "        else:\n",
    "            f.write(line + '\\n')\n",
    "\n",
    "print(f\"Created corrected mete_grid.inp: {Pa_mete_grid_AbsPa}\") "
   ]
  },
  {
   "cell_type": "code",
   "execution_count": null,
   "id": "90bd32c3",
   "metadata": {},
   "outputs": [],
   "source": [
    "# Replace the mete_grid.inp path in the PRJ_CAP_for_MSW dictionary\n",
    "PRJ_CAP_for_MSW['extra']['paths'][2][0] = Pa_mete_grid_AbsPa"
   ]
  },
  {
   "cell_type": "markdown",
   "id": "e2bcabf7",
   "metadata": {},
   "source": [
    "### Finally load MS Sim"
   ]
  },
  {
   "cell_type": "code",
   "execution_count": null,
   "id": "d5005945",
   "metadata": {},
   "outputs": [],
   "source": [
    "# Create the MetaSwap model\n",
    "MSW_Mdl = MSW.MetaSwapModel.from_imod5_data(PRJ_CAP_for_MSW, MF6_DIS, times)\n",
    "print(\"🎉 MetaSwap model created successfully!\")"
   ]
  },
  {
   "cell_type": "markdown",
   "id": "18451460",
   "metadata": {},
   "source": [
    "# Connect MF6 to MetaSWAP"
   ]
  },
  {
   "cell_type": "markdown",
   "id": "ba574058",
   "metadata": {},
   "source": [
    "## Clip models"
   ]
  },
  {
   "cell_type": "code",
   "execution_count": null,
   "id": "06f90a7f",
   "metadata": {},
   "outputs": [],
   "source": [
    "Sim_MF6_AoI = Sim_MF6.clip_box(x_min=Xmin, x_max=Xmax, y_min=Ymin, y_max=Ymax)\n",
    "MSW_Mdl_AoI = MSW_Mdl.clip_box(x_min=Xmin, x_max=Xmax, y_min=Ymin, y_max=Ymax)"
   ]
  },
  {
   "cell_type": "markdown",
   "id": "55116693",
   "metadata": {},
   "source": [
    "#### Sense check"
   ]
  },
  {
   "cell_type": "code",
   "execution_count": null,
   "id": "8979c992",
   "metadata": {},
   "outputs": [],
   "source": [
    "Xmin, Xmax, Ymin, Ymax"
   ]
  },
  {
   "cell_type": "code",
   "execution_count": null,
   "id": "e0060722",
   "metadata": {},
   "outputs": [],
   "source": [
    "MF6_Mdl_AoI = Sim_MF6_AoI['imported_model']"
   ]
  },
  {
   "cell_type": "code",
   "execution_count": null,
   "id": "44f2727b",
   "metadata": {},
   "outputs": [],
   "source": [
    "MF6_Mdl_AoI['dis']['x'].min().values, MF6_Mdl_AoI['dis']['x'].max().values, \\\n",
    "MF6_Mdl_AoI['dis']['y'].min().values, MF6_Mdl_AoI['dis']['y'].max().values"
   ]
  },
  {
   "cell_type": "markdown",
   "id": "fe2efe09",
   "metadata": {},
   "source": [
    "Makes sense as those are cell centers. (dx=dy=100m)"
   ]
  },
  {
   "cell_type": "markdown",
   "id": "5648db6c",
   "metadata": {},
   "source": [
    "## Load models into memory"
   ]
  },
  {
   "cell_type": "code",
   "execution_count": null,
   "id": "0d2b2aab",
   "metadata": {},
   "outputs": [],
   "source": [
    "for pkg in MF6_Mdl_AoI.values():\n",
    "    pkg.dataset.load()\n",
    "\n",
    "for pkg in MSW_Mdl_AoI.values():\n",
    "    pkg.dataset.load()"
   ]
  },
  {
   "cell_type": "markdown",
   "id": "f94ab962",
   "metadata": {},
   "source": [
    "## Cleanup"
   ]
  },
  {
   "cell_type": "markdown",
   "id": "3a3272ea",
   "metadata": {},
   "source": [
    "### MF6"
   ]
  },
  {
   "cell_type": "code",
   "execution_count": null,
   "id": "75111d78",
   "metadata": {},
   "outputs": [],
   "source": [
    "mask = MF6_Mdl_AoI.domain"
   ]
  },
  {
   "cell_type": "code",
   "execution_count": null,
   "id": "3a6df0b6",
   "metadata": {},
   "outputs": [],
   "source": [
    "mask.sel({'layer':5}).plot.imshow( #111 Just to check the mask\n",
    "    cmap='gray')"
   ]
  },
  {
   "cell_type": "code",
   "execution_count": null,
   "id": "e33a6e4b",
   "metadata": {},
   "outputs": [],
   "source": [
    "Sim_MF6_AoI.mask_all_models(mask)\n",
    "DIS_AoI = MF6_Mdl_AoI[\"dis\"]"
   ]
  },
  {
   "cell_type": "markdown",
   "id": "e8fb43f1",
   "metadata": {},
   "source": [
    "### Check if IMS has changed after clipping"
   ]
  },
  {
   "cell_type": "code",
   "execution_count": null,
   "id": "03c3ac0c",
   "metadata": {},
   "outputs": [],
   "source": [
    "Sim_MF6['ims'] == Sim_MF6_AoI['ims']"
   ]
  },
  {
   "cell_type": "code",
   "execution_count": null,
   "id": "68c492f1",
   "metadata": {},
   "outputs": [],
   "source": [
    "IMS_AoI = Sim_MF6_AoI['ims']\n",
    "IMS_AoI_Vars = [attr for attr in dir(IMS_AoI) if not attr.startswith('_') and not callable(getattr(IMS_AoI, attr))]\n",
    "IMS_Vars = [attr for attr in dir(IMS) if not attr.startswith('_') and not callable(getattr(IMS, attr))]\n",
    "for var in IMS_AoI_Vars:\n",
    "    if getattr(IMS_AoI, var) != getattr(IMS, var):\n",
    "        print(f\"{var}: \\n{getattr(IMS_AoI, var)}\\n{getattr(IMS, var)}\")"
   ]
  },
  {
   "cell_type": "markdown",
   "id": "8d23b5eb",
   "metadata": {},
   "source": [
    "False shows it's changed, but I don't see anything different."
   ]
  },
  {
   "cell_type": "code",
   "execution_count": null,
   "id": "a7a865e4",
   "metadata": {},
   "outputs": [],
   "source": [
    "IMS.dataset.equals(IMS_AoI.dataset)"
   ]
  },
  {
   "cell_type": "markdown",
   "id": "28402e57",
   "metadata": {},
   "source": [
    "This confirms the settings are identical. It's just that clipping creates a new object hash, that's why == didn't show True."
   ]
  },
  {
   "cell_type": "markdown",
   "id": "887c7797",
   "metadata": {},
   "source": [
    "### Check if the packages are the same"
   ]
  },
  {
   "cell_type": "code",
   "execution_count": null,
   "id": "01481d3a",
   "metadata": {},
   "outputs": [],
   "source": [
    "MF6_Mdl.keys() == MF6_Mdl_AoI.keys()"
   ]
  },
  {
   "cell_type": "code",
   "execution_count": null,
   "id": "73874bd6",
   "metadata": {},
   "outputs": [],
   "source": [
    "# Detailed comparison of MF6 model packages\n",
    "print(\"=== MF6 Model Package Comparison ===\")\n",
    "\n",
    "# Get the keys from both models\n",
    "original_keys = set(MF6_Mdl.keys())\n",
    "aoi_keys = set(MF6_Mdl_AoI.keys())\n",
    "\n",
    "print(f\"Original model packages: {len(original_keys)}\")\n",
    "print(f\"AoI model packages: {len(aoi_keys)}\")\n",
    "\n",
    "# Find differences\n",
    "only_in_original = original_keys - aoi_keys\n",
    "only_in_aoi = aoi_keys - original_keys\n",
    "common_keys = original_keys & aoi_keys\n",
    "\n",
    "print(f\"\\nPackages only in original model ({len(only_in_original)}):\")\n",
    "for key in sorted(only_in_original):\n",
    "    print(f\"  - {key}\")\n",
    "\n",
    "print(f\"\\nPackages only in AoI model ({len(only_in_aoi)}):\")\n",
    "for key in sorted(only_in_aoi):\n",
    "    print(f\"  - {key}\")\n",
    "\n",
    "print(f\"\\nCommon packages ({len(common_keys)}):\")\n",
    "for key in sorted(common_keys):\n",
    "    print(f\"  - {key}\")\n",
    "\n",
    "# Check if it's just an ordering issue\n",
    "print(f\"\\nSame packages (different order): {original_keys == aoi_keys}\")\n",
    "print(f\"Original keys (ordered): {sorted(original_keys)}\")\n",
    "print(f\"AoI keys (ordered): {sorted(aoi_keys)}\")"
   ]
  },
  {
   "cell_type": "code",
   "execution_count": null,
   "id": "46a5bb71",
   "metadata": {},
   "outputs": [],
   "source": [
    "# Check if the difference is related to the masking operation\n",
    "print(\"\\n=== Impact of Masking Operation ===\")\n",
    "\n",
    "# The masking operation (Sim_MF6_AoI.mask_all_models(mask)) might have removed some packages\n",
    "# that are entirely outside the domain or have no active cells after masking\n",
    "\n",
    "# Let's check if any packages were removed due to masking\n",
    "print(\"Note: The masking operation might remove packages that have no active cells in the AoI\")\n",
    "\n",
    "# Check for specific package types that are commonly affected by clipping/masking\n",
    "potentially_affected = ['wel', 'drn', 'riv', 'ghb', 'chd', 'rch', 'evt']\n",
    "for pkg_type in potentially_affected:\n",
    "    orig_matches = [k for k in original_keys if pkg_type in k.lower()]\n",
    "    aoi_matches = [k for k in aoi_keys if pkg_type in k.lower()]\n",
    "    \n",
    "    if len(orig_matches) != len(aoi_matches):\n",
    "        print(f\"\\n{pkg_type.upper()} packages:\")\n",
    "        print(f\"  Original: {orig_matches}\")\n",
    "        print(f\"  AoI: {aoi_matches}\")\n",
    "        print(f\"  Difference: {len(orig_matches) - len(aoi_matches)} packages removed\")\n",
    "\n",
    "# Check the masking operation that was performed\n",
    "print(f\"\\nMask shape: {mask.shape if hasattr(mask, 'shape') else 'No shape attribute'}\")\n",
    "print(f\"Mask type: {type(mask)}\")\n",
    "\n",
    "# Count active cells in mask\n",
    "try:\n",
    "    if hasattr(mask, 'values'):\n",
    "        active_cells = (mask.values > 0).sum()\n",
    "        total_cells = mask.values.size\n",
    "        print(f\"Active cells in mask: {active_cells}/{total_cells} ({100*active_cells/total_cells:.1f}%)\")\n",
    "except:\n",
    "    print(\"Could not compute active cell statistics\")"
   ]
  },
  {
   "cell_type": "code",
   "execution_count": null,
   "id": "5f0c1f87",
   "metadata": {},
   "outputs": [],
   "source": [
    "MF6_Mdl['chd_merged'].dataset['head'].sel(time='2010-01-01', layer=1).plot.imshow()"
   ]
  },
  {
   "cell_type": "markdown",
   "id": "e3855b5b",
   "metadata": {},
   "source": [
    "** CHD is not plotting properly. We need to check if the input files have been read properly in more regular interval **"
   ]
  },
  {
   "cell_type": "markdown",
   "id": "53e2e680",
   "metadata": {},
   "source": [
    "### MSW"
   ]
  },
  {
   "cell_type": "code",
   "execution_count": null,
   "id": "787f64f8",
   "metadata": {},
   "outputs": [],
   "source": [
    "MF6_Mdl.keys()"
   ]
  },
  {
   "cell_type": "code",
   "execution_count": null,
   "id": "511f2b0b",
   "metadata": {},
   "outputs": [],
   "source": [
    "for Pkg in MF6_Mdl_AoI.keys():\n",
    "    print(Pkg)"
   ]
  },
  {
   "cell_type": "code",
   "execution_count": null,
   "id": "dfadb000",
   "metadata": {},
   "outputs": [],
   "source": [
    "# Cleanup MetaSWAP\n",
    "msw_model_clipped[\"grid\"].dataset[\"rootzone_depth\"] = msw_model_clipped[\"grid\"].dataset[\"rootzone_depth\"].fillna(1.0)\n",
    "\n",
    "import primod\n",
    "\n",
    "metamod_coupling = primod.MetaModDriverCoupling(mf6_model=\"imported_model\", mf6_recharge_package=\"msw-rch\", mf6_wel_package=\"msw-sprinkling\")\n",
    "metamod = primod.MetaMod(msw_model_clipped, simulation_clipped, coupling_list=[metamod_coupling])\n",
    "\n",
    "metamod.write(out_dir, \"modflow6_dll\", \"metaswap_dll\", \"metaswap_dll_dependency\", modflow6_write_kwargs={\"binary\": False})\n"
   ]
  },
  {
   "cell_type": "markdown",
   "id": "030ad3e4",
   "metadata": {},
   "source": [
    "# Write Simulation"
   ]
  },
  {
   "cell_type": "code",
   "execution_count": null,
   "id": "73236099",
   "metadata": {},
   "outputs": [],
   "source": [
    "Sim_MF6_AoI.mask_all_models(mask)"
   ]
  },
  {
   "cell_type": "code",
   "execution_count": null,
   "id": "eb27d629",
   "metadata": {},
   "outputs": [],
   "source": [
    "Dir_Sim = d_Pa['Pa_MdlN']"
   ]
  },
  {
   "cell_type": "code",
   "execution_count": null,
   "id": "e24a46f8",
   "metadata": {},
   "outputs": [],
   "source": [
    "os.makedirs(Dir_Sim, exist_ok=True)"
   ]
  },
  {
   "cell_type": "code",
   "execution_count": null,
   "id": "677dd70d",
   "metadata": {},
   "outputs": [],
   "source": [
    "from imod.schemata import ValidationError\n",
    "\n",
    "with imod.util.print_if_error(ValidationError):\n",
    "    MF6_Sim.write(Dir_Sim)  # Attention: this will fail!"
   ]
  },
  {
   "cell_type": "markdown",
   "id": "060a5f30",
   "metadata": {},
   "source": [
    "# Junkyard"
   ]
  },
  {
   "cell_type": "code",
   "execution_count": null,
   "id": "31eb2ad0",
   "metadata": {},
   "outputs": [],
   "source": [
    "stop"
   ]
  },
  {
   "cell_type": "markdown",
   "id": "f8a103b6",
   "metadata": {},
   "source": [
    "#### Test sim without cap"
   ]
  },
  {
   "cell_type": "markdown",
   "id": "504b7fc0",
   "metadata": {},
   "source": [
    " <!-- # Simple solution: Remove CAP package and test if conversion works\n",
    " print(\"=== Testing Without CAP Package ===\")\n",
    "\n",
    " # Create a copy of PRJ without the CAP package\n",
    " PRJ_no_MSW = PRJ.copy()\n",
    " if \"cap\" in PRJ_no_MSW:\n",
    "     del PRJ_no_MSW[\"cap\"]\n",
    "     print(\"CAP package removed from PRJ\")\n",
    " else:\n",
    "     print(\"CAP package not found in PRJ\")\n",
    "\n",
    " print(f\"Original PRJ keys: {list(PRJ.keys())}\")\n",
    " print(f\"PRJ without CAP keys: {list(PRJ_no_MSW.keys())}\")\n",
    "\n",
    " # Test the conversion without CAP\n",
    " try:\n",
    "     print(\"\\n=== Testing Simulation Conversion Without CAP ===\")\n",
    "     simulation = imod.MF6.Modflow6Simulation.from_imod5_data(PRJ_no_MSW, period_data, times)\n",
    "     print(\"SUCCESS: Simulation created without CAP package!\")\n",
    "     print(f\"Simulation keys: {list(simulation.keys())}\")\n",
    "    \n",
    "     # Check what packages were created\n",
    "     if \"imported_model\" in simulation:\n",
    "         model = simulation[\"imported_model\"]\n",
    "         print(f\"Model packages: {list(model.keys())}\")\n",
    "        \n",
    " except Exception as e:\n",
    "     print(f\"Error without CAP: {e}\")\n",
    "     import traceback\n",
    "     traceback.print_exc() -->"
   ]
  },
  {
   "cell_type": "markdown",
   "id": "2f0f474d",
   "metadata": {},
   "source": [
    "#### Investigate well error"
   ]
  },
  {
   "cell_type": "markdown",
   "id": "ae2382b8",
   "metadata": {},
   "source": [
    "from imod.MF6.wel import LayeredWell, Well"
   ]
  },
  {
   "cell_type": "markdown",
   "id": "061bef74",
   "metadata": {},
   "source": [
    "PRJ['wel-WEL_Br_Wa_T_NBr1']['layer']"
   ]
  },
  {
   "cell_type": "markdown",
   "id": "db1688bd",
   "metadata": {},
   "source": [
    "Well.from_imod5_data('wel-WEL_Br_Wa_T_NBr1', PRJ, times)"
   ]
  },
  {
   "cell_type": "markdown",
   "id": "db2b363a",
   "metadata": {},
   "source": [
    "os.remove(Pa_PRJ_temp)  # Delete temp PRJ file as it's not needed anymore."
   ]
  },
  {
   "cell_type": "markdown",
   "id": "7c7d3619",
   "metadata": {},
   "source": [
    "## Option: Subset PRJ data before conversion\n",
    "\n",
    "You can subset the PRJ data before calling `from_imod5_data` to reduce memory usage and processing time."
   ]
  },
  {
   "cell_type": "code",
   "execution_count": null,
   "id": "dc97a7f1",
   "metadata": {},
   "outputs": [],
   "source": [
    "# Example: Subset PRJ data before conversion to reduce memory usage\n",
    "# This approach can be useful for very large models\n",
    "\n",
    "def subset_prj_data(prj_dict, x_min, x_max, y_min, y_max):\n",
    "    \"\"\"\n",
    "    Subset PRJ data to a specific bounding box before conversion.\n",
    "    \n",
    "    Parameters:\n",
    "    -----------\n",
    "    prj_dict : dict\n",
    "        The PRJ dictionary from open_projectfile_data\n",
    "    x_min, x_max, y_min, y_max : float\n",
    "        Bounding box coordinates\n",
    "    \"\"\"\n",
    "    prj_subset = {}\n",
    "    \n",
    "    for package_name, package_data in prj_dict.items():\n",
    "        if hasattr(package_data, 'sel') and hasattr(package_data, 'dims'):\n",
    "            # For xarray DataArrays with spatial dimensions\n",
    "            if 'x' in package_data.dims and 'y' in package_data.dims:\n",
    "                try:\n",
    "                    # Subset to bounding box\n",
    "                    subset_data = package_data.sel(\n",
    "                        x=slice(x_min, x_max),\n",
    "                        y=slice(y_max, y_min)  # Note: y is typically decreasing\n",
    "                    )\n",
    "                    prj_subset[package_name] = subset_data\n",
    "                    print(f\"Subsetted {package_name}: {package_data.sizes} -> {subset_data.sizes}\")\n",
    "                except Exception as e:\n",
    "                    # If subsetting fails, keep original data\n",
    "                    prj_subset[package_name] = package_data\n",
    "                    print(f\"Could not subset {package_name}: {e}\")\n",
    "            else:\n",
    "                # Keep non-spatial data as is\n",
    "                prj_subset[package_name] = package_data\n",
    "        else:\n",
    "            # Keep non-xarray data as is\n",
    "            prj_subset[package_name] = package_data\n",
    "    \n",
    "    return prj_subset\n",
    "\n",
    "# Example usage (commented out - use if needed):\n",
    "# PRJ_subset = subset_prj_data(PRJ, Xmin, Xmax, Ymin, Ymax)\n",
    "# Sim_MF6_subset = imod.mf6.Modflow6Simulation.from_imod5_data(PRJ_subset, period_data, times)"
   ]
  },
  {
   "cell_type": "markdown",
   "id": "c0a6b572",
   "metadata": {},
   "source": [
    "## Alternative: Check if iMOD-python supports direct spatial selection\n",
    "\n",
    "Some iMOD functions may support direct spatial selection during reading. Check the documentation for your specific iMOD-python version."
   ]
  }
 ],
 "metadata": {
  "kernelspec": {
   "display_name": "Python 3",
   "language": "python",
   "name": "python3"
  },
  "language_info": {
   "codemirror_mode": {
    "name": "ipython",
    "version": 3
   },
   "file_extension": ".py",
   "mimetype": "text/x-python",
   "name": "python",
   "nbconvert_exporter": "python",
   "pygments_lexer": "ipython3",
   "version": "3.12.8"
  }
 },
 "nbformat": 4,
 "nbformat_minor": 5
}
