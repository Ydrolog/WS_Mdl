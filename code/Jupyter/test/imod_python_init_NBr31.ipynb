{
 "cells": [
  {
   "cell_type": "markdown",
   "id": "45323fb4",
   "metadata": {},
   "source": [
    "# Imports"
   ]
  },
  {
   "cell_type": "code",
   "execution_count": 1,
   "id": "254bd21b",
   "metadata": {},
   "outputs": [],
   "source": [
    "from WS_Mdl.utils import Up_log, Pa_WS, INI_to_d, get_elapsed_time_str, get_MdlN_paths"
   ]
  },
  {
   "cell_type": "code",
   "execution_count": 2,
   "id": "5bde7958",
   "metadata": {},
   "outputs": [],
   "source": [
    "import os\n",
    "from os import listdir as LD, makedirs as MDs\n",
    "from os.path import join as PJ, basename as PBN, dirname as PDN, exists as PE\n",
    "from pathlib import Path\n",
    "import re\n",
    "import pandas as pd\n",
    "from colored import fg, bg, attr\n",
    "import tempfile\n",
    "import shutil as sh\n",
    "from filelock import FileLock as FL\n",
    "import subprocess as sp\n",
    "from datetime import datetime as DT\n",
    "from multiprocessing import cpu_count\n",
    "import warnings\n",
    "from multiprocessing import Pool\n",
    "warnings.filterwarnings(\"ignore\", category=UserWarning, module=\"openpyxl.worksheet._read_only\")"
   ]
  },
  {
   "cell_type": "code",
   "execution_count": 3,
   "id": "b8f245eb",
   "metadata": {},
   "outputs": [],
   "source": [
    "from matplotlib import pyplot as plt"
   ]
  },
  {
   "cell_type": "code",
   "execution_count": 4,
   "id": "cf98b288",
   "metadata": {},
   "outputs": [],
   "source": [
    "from pprint import pprint as PP"
   ]
  },
  {
   "cell_type": "code",
   "execution_count": 5,
   "id": "2d4f76d6",
   "metadata": {},
   "outputs": [],
   "source": [
    "import imod\n",
    "from imod import msw as MSW"
   ]
  },
  {
   "cell_type": "code",
   "execution_count": 6,
   "id": "ae3f08e7",
   "metadata": {},
   "outputs": [],
   "source": [
    "import WS_Mdl.utils as U\n",
    "import WS_Mdl.utils_imod as UIM"
   ]
  },
  {
   "cell_type": "code",
   "execution_count": 7,
   "id": "baa0e0c2",
   "metadata": {},
   "outputs": [
    {
     "data": {
      "text/plain": [
       "<module 'WS_Mdl.utils_imod' from 'C:\\\\Users\\\\Karam014\\\\OneDrive - Universiteit Utrecht\\\\WS_Mdl\\\\code\\\\WS_Mdl\\\\utils_imod.py'>"
      ]
     },
     "execution_count": 7,
     "metadata": {},
     "output_type": "execute_result"
    }
   ],
   "source": [
    "import importlib as IL\n",
    "IL.reload(U)\n",
    "IL.reload(UIM)"
   ]
  },
  {
   "cell_type": "code",
   "execution_count": 8,
   "id": "0b32cfbc",
   "metadata": {},
   "outputs": [
    {
     "data": {
      "text/plain": [
       "<module 'imod' from 'c:\\\\mamba_envs\\\\WS\\\\Lib\\\\site-packages\\\\imod\\\\__init__.py'>"
      ]
     },
     "execution_count": 8,
     "metadata": {},
     "output_type": "execute_result"
    }
   ],
   "source": [
    "IL.reload(imod)"
   ]
  },
  {
   "cell_type": "markdown",
   "id": "2125c45b",
   "metadata": {},
   "source": [
    "# Options + Basics"
   ]
  },
  {
   "cell_type": "code",
   "execution_count": 9,
   "id": "7302b9fb",
   "metadata": {},
   "outputs": [],
   "source": [
    "MdlN = 'Nbr31'"
   ]
  },
  {
   "cell_type": "code",
   "execution_count": 10,
   "id": "ce246892",
   "metadata": {},
   "outputs": [],
   "source": [
    "U.set_verbose(False)"
   ]
  },
  {
   "cell_type": "code",
   "execution_count": 11,
   "id": "a543c73a",
   "metadata": {},
   "outputs": [],
   "source": [
    "d_Pa = U.get_MdlN_paths(MdlN)\n",
    "Pa_PRJ = d_Pa['PRJ']\n",
    "Dir_PRJ = PDN(Pa_PRJ)\n",
    "d_INI = U.INI_to_d(d_Pa['INI'])"
   ]
  },
  {
   "cell_type": "code",
   "execution_count": 12,
   "id": "ee50a9cd",
   "metadata": {},
   "outputs": [],
   "source": [
    "SP_date_1st, SP_date_last = [DT.strftime(DT.strptime(d_INI[f'{i}'], '%Y%m%d'), '%Y-%m-%d') for i in ['SDATE', 'EDATE']]"
   ]
  },
  {
   "cell_type": "markdown",
   "id": "2cfecb83",
   "metadata": {},
   "source": [
    "# Read PRJ"
   ]
  },
  {
   "cell_type": "code",
   "execution_count": 13,
   "id": "f5c781db",
   "metadata": {},
   "outputs": [],
   "source": [
    "PRJ_content = UIM.read_PRJ_with_OBS(Pa_PRJ)[0]"
   ]
  },
  {
   "cell_type": "markdown",
   "id": "1479689a",
   "metadata": {},
   "source": [
    "# Load PRJ"
   ]
  },
  {
   "cell_type": "code",
   "execution_count": 14,
   "id": "2db71674",
   "metadata": {},
   "outputs": [],
   "source": [
    "PRJ_, PRJ_OBS = UIM.open_PRJ_with_OBS(Pa_PRJ)"
   ]
  },
  {
   "cell_type": "code",
   "execution_count": 15,
   "id": "f43af1a6",
   "metadata": {},
   "outputs": [],
   "source": [
    "PRJ = PRJ_[0]"
   ]
  },
  {
   "cell_type": "code",
   "execution_count": 16,
   "id": "14e84fc3",
   "metadata": {},
   "outputs": [],
   "source": [
    "period_data = PRJ_[1]"
   ]
  },
  {
   "cell_type": "code",
   "execution_count": 17,
   "id": "bff44f90",
   "metadata": {},
   "outputs": [
    {
     "data": {
      "text/plain": [
       "dict_keys(['cap', 'extra', 'bnd', 'top', 'bot', 'khv', 'kva', 'shd', 'sto', 'spy', 'hfb-1', 'hfb-2', 'hfb-3', 'hfb-4', 'hfb-5', 'hfb-6', 'hfb-7', 'hfb-8', 'hfb-9', 'hfb-10', 'hfb-11', 'hfb-12', 'hfb-13', 'hfb-14', 'hfb-15', 'hfb-16', 'hfb-17', 'hfb-18', 'hfb-19', 'hfb-20', 'hfb-21', 'hfb-22', 'hfb-23', 'hfb-24', 'hfb-25', 'hfb-26', 'hfb-27', 'hfb-28', 'hfb-29', 'hfb-30', 'hfb-31', 'hfb-32', 'hfb-33', 'hfb-34', 'hfb-35', 'hfb-36', 'hfb-37', 'hfb-38', 'hfb-39', 'hfb-40', 'hfb-41', 'hfb-42', 'hfb-43', 'hfb-44', 'hfb-45', 'hfb-46', 'hfb-47', 'hfb-48', 'hfb-49', 'hfb-50', 'hfb-51', 'hfb-52', 'hfb-53', 'hfb-54', 'hfb-55', 'hfb-56', 'hfb-57', 'hfb-58', 'hfb-59', 'hfb-60', 'hfb-61', 'hfb-62', 'hfb-63', 'hfb-64', 'hfb-65', 'hfb-66', 'hfb-67', 'hfb-68', 'hfb-69', 'hfb-70', 'hfb-71', 'hfb-72', 'hfb-73', 'hfb-74', 'hfb-75', 'hfb-76', 'hfb-77', 'hfb-78', 'hfb-79', 'hfb-80', 'hfb-81', 'hfb-82', 'hfb-83', 'hfb-84', 'hfb-85', 'hfb-86', 'hfb-87', 'hfb-88', 'hfb-89', 'hfb-90', 'hfb-91', 'hfb-92', 'hfb-93', 'hfb-94', 'hfb-95', 'hfb-96', 'hfb-97', 'hfb-98', 'hfb-99', 'hfb-100', 'hfb-101', 'hfb-102', 'hfb-103', 'hfb-104', 'hfb-105', 'hfb-106', 'hfb-107', 'hfb-108', 'hfb-109', 'hfb-110', 'hfb-111', 'hfb-112', 'hfb-113', 'hfb-114', 'hfb-115', 'hfb-116', 'hfb-117', 'hfb-118', 'hfb-119', 'hfb-120', 'hfb-121', 'hfb-122', 'hfb-123', 'hfb-124', 'hfb-125', 'hfb-126', 'hfb-127', 'hfb-128', 'hfb-129', 'hfb-130', 'hfb-131', 'hfb-132', 'hfb-133', 'hfb-134', 'hfb-135', 'hfb-136', 'hfb-137', 'hfb-138', 'hfb-139', 'hfb-140', 'hfb-141', 'hfb-142', 'hfb-143', 'hfb-144', 'hfb-145', 'hfb-146', 'hfb-147', 'hfb-148', 'hfb-149', 'hfb-150', 'drn-1', 'drn-2', 'drn-3', 'wel-WEL_Ind_Aa_and_Maas_T_NBr1', 'wel-WEL_Ind_Br_T_NBr1', 'wel-WEL_Br_Wa_T_NBr1', 'pcg', 'chd-1', 'chd-2', 'chd-3', 'chd-4', 'chd-5', 'chd-6', 'chd-7', 'chd-8', 'chd-9', 'chd-10', 'chd-11', 'chd-12', 'chd-13', 'chd-14', 'chd-15', 'chd-16', 'chd-17', 'chd-18', 'chd-19'])"
      ]
     },
     "execution_count": 17,
     "metadata": {},
     "output_type": "execute_result"
    }
   ],
   "source": [
    "PRJ.keys()"
   ]
  },
  {
   "cell_type": "code",
   "execution_count": 18,
   "id": "4e72cb5a",
   "metadata": {},
   "outputs": [
    {
     "data": {
      "text/plain": [
       "{}"
      ]
     },
     "execution_count": 18,
     "metadata": {},
     "output_type": "execute_result"
    }
   ],
   "source": [
    "period_data"
   ]
  },
  {
   "cell_type": "markdown",
   "id": "a867cbb0",
   "metadata": {},
   "source": [
    "# Prepare Sim"
   ]
  },
  {
   "cell_type": "markdown",
   "id": "4d427856",
   "metadata": {},
   "source": [
    "## 1st attempt"
   ]
  },
  {
   "cell_type": "code",
   "execution_count": 19,
   "id": "aa7236f9",
   "metadata": {},
   "outputs": [],
   "source": [
    "times = pd.date_range(SP_date_1st, SP_date_last, freq='D')"
   ]
  },
  {
   "cell_type": "code",
   "execution_count": 20,
   "id": "d3f7abc6",
   "metadata": {},
   "outputs": [
    {
     "name": "stdout",
     "output_type": "stream",
     "text": [
      "Removed CAP package due to mixed grid compatibility issues\n",
      "Simulation created successfully!\n"
     ]
    }
   ],
   "source": [
    "# Convert IMOD5 to MODFLOW6 (without CAP package due to mixed grid issues)\n",
    "PRJ_no_cap = PRJ.copy()\n",
    "PRJ_CAP, PRJ_extra = {}, {}\n",
    "if \"cap\" in PRJ_no_cap:\n",
    "    PRJ_CAP['cap'] = PRJ_no_cap[\"cap\"]\n",
    "    PRJ_extra['extra'] = PRJ_no_cap['extra']\n",
    "    del PRJ_no_cap[\"cap\"], PRJ_no_cap['extra']\n",
    "    print(\"Removed CAP package due to mixed grid compatibility issues\")\n",
    "\n",
    "Sim_MF6 = imod.mf6.Modflow6Simulation.from_imod5_data(PRJ_no_cap, period_data, times)\n",
    "print(\"Simulation created successfully!\")"
   ]
  },
  {
   "cell_type": "markdown",
   "id": "420df23c",
   "metadata": {},
   "source": [
    "We have to remove MetaSWAP (MSW), otherwie this function fails."
   ]
  },
  {
   "cell_type": "code",
   "execution_count": 21,
   "id": "ccd52404",
   "metadata": {},
   "outputs": [
    {
     "data": {
      "text/plain": [
       "dict_keys(['cap'])"
      ]
     },
     "execution_count": 21,
     "metadata": {},
     "output_type": "execute_result"
    }
   ],
   "source": [
    "PRJ_CAP.keys()"
   ]
  },
  {
   "cell_type": "code",
   "execution_count": 22,
   "id": "08ee7f1e",
   "metadata": {},
   "outputs": [
    {
     "data": {
      "text/plain": [
       "dict_keys(['urban_infiltration_capacity', 'rootzone_thickness', 'soil_moisture_fraction', 'meteo_station_number', 'rural_infiltration_capacity', 'perched_water_table_level', 'artificial_recharge_capacity', 'soil_physical_unit', 'urban_ponding_depth', 'rural_ponding_depth', 'landuse', 'rural_runoff_resistance', 'surface_elevation', 'artificial_recharge_layer', 'urban_runoff_resistance', 'rural_runon_resistance', 'wetted_area', 'urban_area', 'conductivitiy_factor', 'boundary', 'artificial_recharge', 'urban_runon_resistance'])"
      ]
     },
     "execution_count": 22,
     "metadata": {},
     "output_type": "execute_result"
    }
   ],
   "source": [
    "PRJ_CAP['cap'].keys()"
   ]
  },
  {
   "cell_type": "code",
   "execution_count": 23,
   "id": "02af4484",
   "metadata": {},
   "outputs": [],
   "source": [
    "MF6_DIS = Sim_MF6[\"imported_model\"][\"dis\"]"
   ]
  },
  {
   "cell_type": "code",
   "execution_count": 24,
   "id": "1ed6fe49",
   "metadata": {},
   "outputs": [
    {
     "ename": "KeyError",
     "evalue": "'extra'",
     "output_type": "error",
     "traceback": [
      "\u001b[1;31m---------------------------------------------------------------------------\u001b[0m",
      "\u001b[1;31mKeyError\u001b[0m                                  Traceback (most recent call last)",
      "Cell \u001b[1;32mIn[24], line 1\u001b[0m\n\u001b[1;32m----> 1\u001b[0m MSW_Mdl \u001b[38;5;241m=\u001b[39m \u001b[43mMSW\u001b[49m\u001b[38;5;241;43m.\u001b[39;49m\u001b[43mMetaSwapModel\u001b[49m\u001b[38;5;241;43m.\u001b[39;49m\u001b[43mfrom_imod5_data\u001b[49m\u001b[43m(\u001b[49m\u001b[43mPRJ_CAP\u001b[49m\u001b[43m,\u001b[49m\u001b[43m \u001b[49m\u001b[43mMF6_DIS\u001b[49m\u001b[43m,\u001b[49m\u001b[43m \u001b[49m\u001b[43mtimes\u001b[49m\u001b[43m)\u001b[49m\n",
      "File \u001b[1;32mc:\\mamba_envs\\WS\\Lib\\site-packages\\imod\\msw\\model.py:430\u001b[0m, in \u001b[0;36mMetaSwapModel.from_imod5_data\u001b[1;34m(cls, imod5_data, target_dis, times)\u001b[0m\n\u001b[0;32m    402\u001b[0m \u001b[38;5;129m@classmethod\u001b[39m\n\u001b[0;32m    403\u001b[0m \u001b[38;5;28;01mdef\u001b[39;00m\u001b[38;5;250m \u001b[39m\u001b[38;5;21mfrom_imod5_data\u001b[39m(\n\u001b[0;32m    404\u001b[0m     \u001b[38;5;28mcls\u001b[39m,\n\u001b[1;32m   (...)\u001b[0m\n\u001b[0;32m    407\u001b[0m     times: \u001b[38;5;28mlist\u001b[39m[datetime],\n\u001b[0;32m    408\u001b[0m ):\n\u001b[0;32m    409\u001b[0m \u001b[38;5;250m    \u001b[39m\u001b[38;5;124;03m\"\"\"\u001b[39;00m\n\u001b[0;32m    410\u001b[0m \u001b[38;5;124;03m    Construct a MetaSWAP model from iMOD5 data in the CAP package, loaded\u001b[39;00m\n\u001b[0;32m    411\u001b[0m \u001b[38;5;124;03m    with the :func:`imod.formats.prj.open_projectfile_data` function.\u001b[39;00m\n\u001b[1;32m   (...)\u001b[0m\n\u001b[0;32m    428\u001b[0m \u001b[38;5;124;03m        MetaSWAP model imported from imod5 data.\u001b[39;00m\n\u001b[0;32m    429\u001b[0m \u001b[38;5;124;03m    \"\"\"\u001b[39;00m\n\u001b[1;32m--> 430\u001b[0m     extra_paths \u001b[38;5;241m=\u001b[39m \u001b[43mimod5_data\u001b[49m\u001b[43m[\u001b[49m\u001b[38;5;124;43m\"\u001b[39;49m\u001b[38;5;124;43mextra\u001b[39;49m\u001b[38;5;124;43m\"\u001b[39;49m\u001b[43m]\u001b[49m[\u001b[38;5;124m\"\u001b[39m\u001b[38;5;124mpaths\u001b[39m\u001b[38;5;124m\"\u001b[39m]\n\u001b[0;32m    431\u001b[0m     path_to_parasim \u001b[38;5;241m=\u001b[39m find_in_file_list(\u001b[38;5;124m\"\u001b[39m\u001b[38;5;124mpara_sim.inp\u001b[39m\u001b[38;5;124m\"\u001b[39m, extra_paths)\n\u001b[0;32m    432\u001b[0m     parasim_settings \u001b[38;5;241m=\u001b[39m read_para_sim(path_to_parasim)\n",
      "\u001b[1;31mKeyError\u001b[0m: 'extra'"
     ]
    }
   ],
   "source": [
    "MSW_Mdl = MSW.MetaSwapModel.from_imod5_data(PRJ_CAP, MF6_DIS, times)"
   ]
  },
  {
   "cell_type": "markdown",
   "id": "7a4a578f",
   "metadata": {},
   "source": [
    "## 2nd attempt"
   ]
  },
  {
   "cell_type": "markdown",
   "id": "1cf4e775",
   "metadata": {},
   "source": [
    "Let's investigate this error:"
   ]
  },
  {
   "cell_type": "code",
   "execution_count": 26,
   "id": "6265ddcf",
   "metadata": {},
   "outputs": [
    {
     "data": {
      "text/plain": [
       "dict_keys(['urban_infiltration_capacity', 'rootzone_thickness', 'soil_moisture_fraction', 'meteo_station_number', 'rural_infiltration_capacity', 'perched_water_table_level', 'artificial_recharge_capacity', 'soil_physical_unit', 'urban_ponding_depth', 'rural_ponding_depth', 'landuse', 'rural_runoff_resistance', 'surface_elevation', 'artificial_recharge_layer', 'urban_runoff_resistance', 'rural_runon_resistance', 'wetted_area', 'urban_area', 'conductivitiy_factor', 'boundary', 'artificial_recharge', 'urban_runon_resistance'])"
      ]
     },
     "execution_count": 26,
     "metadata": {},
     "output_type": "execute_result"
    }
   ],
   "source": [
    "PRJ_CAP['cap'].keys()"
   ]
  },
  {
   "cell_type": "code",
   "execution_count": null,
   "id": "761ee85b",
   "metadata": {},
   "outputs": [],
   "source": [
    "# Debug the grid alignment issue\n",
    "print(\"=== Target Discretization ===\")\n",
    "print(f\"Type: {type(target_dis)}\")\n",
    "print(f\"Keys: {list(target_dis.keys()) if hasattr(target_dis, 'keys') else 'No keys method'}\")\n",
    "\n",
    "# Access the data from target_dis\n",
    "if hasattr(target_dis, 'dataset'):\n",
    "    print(f\"Dataset keys: {list(target_dis.dataset.keys())}\")\n",
    "    target_x = target_dis.dataset.x.values\n",
    "    target_y = target_dis.dataset.y.values\n",
    "else:\n",
    "    # Try accessing as a dataset directly\n",
    "    target_x = target_dis.x.values\n",
    "    target_y = target_dis.y.values\n",
    "\n",
    "print(f\"Target X range: {target_x.min()} to {target_x.max()}, length: {len(target_x)}\")\n",
    "print(f\"Target Y range: {target_y.min()} to {target_y.max()}, length: {len(target_y)}\")\n",
    "\n",
    "print(\"\\n=== CAP Data ===\")\n",
    "sample_cap = PRJ_CAP['cap']['urban_area']\n",
    "cap_x = sample_cap.x.values\n",
    "cap_y = sample_cap.y.values\n",
    "print(f\"CAP X range: {cap_x.min()} to {cap_x.max()}, length: {len(cap_x)}\")\n",
    "print(f\"CAP Y range: {cap_y.min()} to {cap_y.max()}, length: {len(cap_y)}\")\n",
    "\n",
    "print(f\"\\n=== Comparison ===\")\n",
    "print(f\"X grids compatible: {len(target_x) == len(cap_x) and np.allclose(target_x, cap_x)}\")\n",
    "print(f\"Y grids compatible: {len(target_y) == len(cap_y) and np.allclose(target_y, cap_y)}\")"
   ]
  },
  {
   "cell_type": "code",
   "execution_count": null,
   "id": "370df6d5",
   "metadata": {},
   "outputs": [],
   "source": [
    "# Remove 'extra' from cap if it exists (to avoid isel error on metadata)\n",
    "if 'extra' in PRJ_CAP['cap'].keys():\n",
    "    PRJ_CAP['cap']['extra']\n",
    "\n",
    "# Get the MODFLOW6 extent (target domain)\n",
    "target_dis_orig = Sim_MF6[\"imported_model\"][\"dis\"]\n",
    "mf6_x_min, mf6_x_max = target_dis_orig.dataset.x.min().item(), target_dis_orig.dataset.x.max().item()\n",
    "mf6_y_min, mf6_y_max = target_dis_orig.dataset.y.min().item(), target_dis_orig.dataset.y.max().item()\n",
    "\n",
    "print(f\"MODFLOW6 domain: X({mf6_x_min:.1f} to {mf6_x_max:.1f}), Y({mf6_y_min:.1f} to {mf6_y_max:.1f})\")\n",
    "\n",
    "# Get CAP grid info\n",
    "sample_cap = PRJ_CAP['cap']['urban_area']\n",
    "cap_dx = abs(sample_cap.x.values[1] - sample_cap.x.values[0])  # CAP resolution (absolute value)\n",
    "cap_dy = abs(sample_cap.y.values[1] - sample_cap.y.values[0])  # CAP resolution (absolute value)\n",
    "\n",
    "print(f\"CAP grid resolution: dx={cap_dx:.1f}m, dy={cap_dy:.1f}m\")\n",
    "\n",
    "# Create exact coordinates for the refined grid within MODFLOW6 domain\n",
    "refined_x = np.arange(mf6_x_min + cap_dx/2, mf6_x_max, cap_dx)\n",
    "refined_y = np.arange(mf6_y_max - cap_dy/2, mf6_y_min, -cap_dy)\n",
    "\n",
    "print(f\"Refined grid: x from {refined_x.min():.1f} to {refined_x.max():.1f} ({len(refined_x)} cells)\")\n",
    "print(f\"Refined grid: y from {refined_y.min():.1f} to {refined_y.max():.1f} ({len(refined_y)} cells)\")\n",
    "\n",
    "# Create a refined target discretization\n",
    "target_dis_refined = target_dis_orig.dataset.interp(\n",
    "    x=refined_x,\n",
    "    y=refined_y,\n",
    "    method='nearest'\n",
    ")\n",
    "target_dis_refined['idomain'] = target_dis_refined['idomain'].astype(int)\n",
    "\n",
    "# Convert back to StructuredDiscretization\n",
    "from imod.mf6 import StructuredDiscretization\n",
    "target_dis = StructuredDiscretization(\n",
    "    idomain=target_dis_refined['idomain'],\n",
    "    top=target_dis_refined['top'],\n",
    "    bottom=target_dis_refined['bottom']\n",
    ")\n",
    "\n",
    "print(f\"Refined target_dis shape: {target_dis.dataset.sizes}\")\n",
    "\n",
    "# Now regrid all CAP data to the exact refined coordinates\n",
    "PRJ_CAP_regridded = {'cap': {}}\n",
    "for key, data in PRJ_CAP['cap'].items():\n",
    "    print(f\"Processing {key}: dims = {data.dims}\")\n",
    "    \n",
    "    # Check if data has spatial dimensions (x, y)\n",
    "    if 'x' in data.dims and 'y' in data.dims:\n",
    "        if key == 'wetted_area':\n",
    "            # For area-related fields, we need to preserve the total area\n",
    "            # The wetted_area represents the actual area, which should remain as cell area\n",
    "            regridded_data = data.interp(x=refined_x, y=refined_y, method='nearest')\n",
    "            # Set to full cell area (25m x 25m = 625 m²)\n",
    "            PRJ_CAP_regridded['cap'][key] = regridded_data * 0 + (cap_dx * cap_dy)\n",
    "        else:\n",
    "            # For other spatial data, interpolate normally\n",
    "            PRJ_CAP_regridded['cap'][key] = data.interp(\n",
    "                x=refined_x,\n",
    "                y=refined_y,\n",
    "                method='nearest'\n",
    "            )\n",
    "    else:\n",
    "        # Keep non-spatial data as is\n",
    "        PRJ_CAP_regridded['cap'][key] = data\n",
    "\n",
    "print(\"CAP data regridding completed.\")\n",
    "\n",
    "# Merge with extra metadata\n",
    "PRJ_CAP_for_MSW = {**PRJ_CAP_regridded, **PRJ_extra}\n",
    "\n",
    "# Create the MetaSwap model\n",
    "MSW_Mdl = MSW.MetaSwapModel.from_imod5_data(PRJ_CAP_for_MSW, target_dis, times)\n",
    "print(\"🎉 MetaSwap model created successfully!\")"
   ]
  },
  {
   "cell_type": "markdown",
   "id": "1595df81",
   "metadata": {},
   "source": [
    "# Load MSW"
   ]
  },
  {
   "cell_type": "code",
   "execution_count": null,
   "id": "433a5591",
   "metadata": {},
   "outputs": [],
   "source": [
    "MSW_Mdl = MSW.MetaSwapModel(unsaturated_database=PJ(Pa_WS, r'data\\MetaSWAP_DB\\LHM2018_v02v'))"
   ]
  },
  {
   "cell_type": "markdown",
   "id": "060a5f30",
   "metadata": {},
   "source": [
    "# Junkyard"
   ]
  },
  {
   "cell_type": "markdown",
   "id": "f8a103b6",
   "metadata": {},
   "source": [
    "#### Test sim without cap"
   ]
  },
  {
   "cell_type": "markdown",
   "id": "504b7fc0",
   "metadata": {},
   "source": [
    " <!-- # Simple solution: Remove CAP package and test if conversion works\n",
    " print(\"=== Testing Without CAP Package ===\")\n",
    "\n",
    " # Create a copy of PRJ without the CAP package\n",
    " PRJ_no_cap = PRJ.copy()\n",
    " if \"cap\" in PRJ_no_cap:\n",
    "     del PRJ_no_cap[\"cap\"]\n",
    "     print(\"CAP package removed from PRJ\")\n",
    " else:\n",
    "     print(\"CAP package not found in PRJ\")\n",
    "\n",
    " print(f\"Original PRJ keys: {list(PRJ.keys())}\")\n",
    " print(f\"PRJ without CAP keys: {list(PRJ_no_cap.keys())}\")\n",
    "\n",
    " # Test the conversion without CAP\n",
    " try:\n",
    "     print(\"\\n=== Testing Simulation Conversion Without CAP ===\")\n",
    "     simulation = imod.mf6.Modflow6Simulation.from_imod5_data(PRJ_no_cap, period_data, times)\n",
    "     print(\"SUCCESS: Simulation created without CAP package!\")\n",
    "     print(f\"Simulation keys: {list(simulation.keys())}\")\n",
    "    \n",
    "     # Check what packages were created\n",
    "     if \"imported_model\" in simulation:\n",
    "         model = simulation[\"imported_model\"]\n",
    "         print(f\"Model packages: {list(model.keys())}\")\n",
    "        \n",
    " except Exception as e:\n",
    "     print(f\"Error without CAP: {e}\")\n",
    "     import traceback\n",
    "     traceback.print_exc() -->"
   ]
  },
  {
   "cell_type": "markdown",
   "id": "2f0f474d",
   "metadata": {},
   "source": [
    "#### Investigate well error"
   ]
  },
  {
   "cell_type": "markdown",
   "id": "ae2382b8",
   "metadata": {},
   "source": [
    "from imod.mf6.wel import LayeredWell, Well"
   ]
  },
  {
   "cell_type": "markdown",
   "id": "061bef74",
   "metadata": {},
   "source": [
    "PRJ['wel-WEL_Br_Wa_T_NBr1']['layer']"
   ]
  },
  {
   "cell_type": "markdown",
   "id": "db1688bd",
   "metadata": {},
   "source": [
    "Well.from_imod5_data('wel-WEL_Br_Wa_T_NBr1', PRJ, times)"
   ]
  },
  {
   "cell_type": "markdown",
   "id": "db2b363a",
   "metadata": {},
   "source": [
    "os.remove(Pa_PRJ_temp)  # Delete temp PRJ file as it's not needed anymore."
   ]
  }
 ],
 "metadata": {
  "kernelspec": {
   "display_name": "Python 3",
   "language": "python",
   "name": "python3"
  },
  "language_info": {
   "codemirror_mode": {
    "name": "ipython",
    "version": 3
   },
   "file_extension": ".py",
   "mimetype": "text/x-python",
   "name": "python",
   "nbconvert_exporter": "python",
   "pygments_lexer": "ipython3",
   "version": "3.12.8"
  }
 },
 "nbformat": 4,
 "nbformat_minor": 5
}
