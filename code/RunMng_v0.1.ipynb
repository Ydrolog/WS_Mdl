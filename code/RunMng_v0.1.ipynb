{
 "cells": [
  {
   "cell_type": "markdown",
   "metadata": {},
   "source": [
    "<h2><b>Automate & document iMOD runs</b></h2>"
   ]
  },
  {
   "cell_type": "markdown",
   "metadata": {},
   "source": [
    "This script works as a wrapper for the iMOD runs performed for the WaterScape project. Inputs are read from the RunLog, where the runs are documented. Then those inputs are used to run the model and PoP the output, in an automated and documented way.<br>\n",
    "This is also necessary because additional functions, from WS_Mdl.py are run in between iMOD functions. Hence a \"coordinator\" is needed."
   ]
  },
  {
   "cell_type": "markdown",
   "metadata": {},
   "source": [
    "# 0. Prep"
   ]
  },
  {
   "cell_type": "markdown",
   "metadata": {},
   "source": [
    "## 0.0. Libraries"
   ]
  },
  {
   "cell_type": "code",
   "execution_count": 1,
   "metadata": {},
   "outputs": [],
   "source": [
    "import WS_Mdl as WS\n",
    "import shutil as sh\n",
    "import os\n",
    "import openpyxl as xl\n",
    "from openpyxl.styles import PatternFill\n",
    "import pandas as pd\n",
    "from datetime import datetime as DT, timezone as TZ, timedelta\n",
    "import subprocess as sp\n",
    "from multiprocessing import Process, cpu_count"
   ]
  },
  {
   "cell_type": "markdown",
   "metadata": {},
   "source": [
    "## 0.1. Paths"
   ]
  },
  {
   "cell_type": "code",
   "execution_count": 2,
   "metadata": {},
   "outputs": [],
   "source": [
    "path_RunLog = r\"../Mng/WS_RunLog.xlsx\"\n",
    "# get_MdlN_paths()"
   ]
  },
  {
   "cell_type": "markdown",
   "metadata": {},
   "source": [
    "# 1. Load RunLog and read inputs"
   ]
  },
  {
   "cell_type": "code",
   "execution_count": 3,
   "metadata": {},
   "outputs": [
    {
     "name": "stdout",
     "output_type": "stream",
     "text": [
      "-- RunMng initiated at 2025-03-27 10:28:42.016\n"
     ]
    }
   ],
   "source": [
    "TZ_UTC1 = TZ(timedelta(hours=1))  # Define UTC+1 timezone\n",
    "DT_Script_Start = DT.now(TZ_UTC1)\n",
    "print(f\"-- RunMng initiated at {DT_Script_Start.strftime('%Y-%m-%d %H:%M:%S.%f')[:23]}\")"
   ]
  },
  {
   "cell_type": "markdown",
   "metadata": {},
   "source": [
    "## 1.0. Read RunLog with openpyxl\n",
    "Allows value modifications without overwritting formatting"
   ]
  },
  {
   "cell_type": "code",
   "execution_count": 4,
   "metadata": {},
   "outputs": [
    {
     "data": {
      "text/plain": [
       "'../Mng/SS/WS_RunLog_20250327_102842.xlsx'"
      ]
     },
     "execution_count": 4,
     "metadata": {},
     "output_type": "execute_result"
    }
   ],
   "source": [
    "sh.copy2(path_RunLog, f\"../Mng/SS/WS_RunLog_{DT_Script_Start.strftime(format=\"%Y%m%d_%H%M%S\")}.xlsx\") # Make a copy of RunLog just in case."
   ]
  },
  {
   "cell_type": "code",
   "execution_count": 5,
   "metadata": {},
   "outputs": [],
   "source": [
    "# WB = xl.load_workbook(path_RunLog, data_only=True) # Load the workbook #666 unecessary as we can do the same with pandas, but much faster.\n",
    "WB = xl.load_workbook(path_RunLog)['RunLog'] # Load the workbook - write. Only RunLog tab will be written to."
   ]
  },
  {
   "cell_type": "code",
   "execution_count": 6,
   "metadata": {},
   "outputs": [],
   "source": [
    "# WB_RL, WB_PP_Ctrl, WB_PP_Opt = WB['RunLog'], WB['PP_Ctrl'], WB['PP_Opt']"
   ]
  },
  {
   "cell_type": "code",
   "execution_count": 7,
   "metadata": {},
   "outputs": [],
   "source": [
    "# N_Ln = -1\n",
    "# for R in WB.iter_rows(values_only=True, max_row=20):\n",
    "#     print(R)\n",
    "#     if not ( (isinstance(R[0], int)) or (R[0]=='runN') ):\n",
    "#         break\n",
    "#     N_Ln += 1\n",
    "# N_Ln"
   ]
  },
  {
   "cell_type": "markdown",
   "metadata": {},
   "source": [
    "## 1.1 Read with pd for easier work"
   ]
  },
  {
   "cell_type": "code",
   "execution_count": 21,
   "metadata": {},
   "outputs": [],
   "source": [
    "DF = pd.read_excel(path_RunLog, sheet_name='RunLog').dropna(subset='runN')\n",
    "DF_Opt = pd.read_excel(path_RunLog, skiprows=1, sheet_name='PP_Opt').dropna(subset='MdlN')"
   ]
  },
  {
   "cell_type": "code",
   "execution_count": 23,
   "metadata": {},
   "outputs": [],
   "source": [
    "DF_q = DF.loc[DF['Status'] == 'Queued'] # _q for queued"
   ]
  },
  {
   "cell_type": "code",
   "execution_count": null,
   "metadata": {},
   "outputs": [],
   "source": [
    "if __name__ == \"__main__\":\n",
    "\n",
    "    num_cores = min(len(DF_q), cpu_count())  # Determine max number of cores to use\n",
    "    processes = []  # Store processes\n",
    "\n",
    "    for i, Se_Ln in DF_q.iterrows():  # Start a separate process for each model\n",
    "        p = Process(target=WS.run_Mdl, args=(Se_Ln, DF_Opt))\n",
    "        processes.append(p)\n",
    "        p.start()\n",
    "\n",
    "    for p in processes:  # Ensure all processes complete\n",
    "        p.join()"
   ]
  },
  {
   "cell_type": "code",
   "execution_count": null,
   "metadata": {},
   "outputs": [],
   "source": [
    "stop"
   ]
  },
  {
   "cell_type": "markdown",
   "metadata": {},
   "source": [
    "# Junkyard"
   ]
  },
  {
   "cell_type": "code",
   "execution_count": null,
   "metadata": {},
   "outputs": [],
   "source": [
    "stop"
   ]
  },
  {
   "cell_type": "code",
   "execution_count": null,
   "metadata": {},
   "outputs": [],
   "source": [
    "d_Cmds.items()"
   ]
  },
  {
   "cell_type": "code",
   "execution_count": null,
   "metadata": {},
   "outputs": [],
   "source": [
    "# Run models in parallel using a process pool\n",
    "with Pool(num_cores) as pool:\n",
    "    pool.starmap(WS.run_Mdl, [(row, DF_Opt) for _, row in queued_Sims.iterrows()])"
   ]
  },
  {
   "cell_type": "code",
   "execution_count": null,
   "metadata": {},
   "outputs": [],
   "source": [
    "for i, Se_Ln in DF.loc[DF['Status']=='Queued'].iterrows():\n",
    "    MdlN = Se_Ln['MdlN'] # Get MdlN from Se\n",
    "    print(f\"--- Executing run_Mdl for {MdlN}\")\n",
    "\n",
    "    d_paths = WS.get_MdlN_paths(MdlN) # Get default directories\n",
    "    MdlN_B, path_Mdl, path_MdlN, path_INI, path_BAT, path_PRJ = (d_paths[k] for k in ['MdlN_B','path_Mdl', 'path_MdlN', \"path_INI_S\", \"path_BAT_S\", \"path_PRJ_S\"]) # and pass them to objects that will be used in the function #666 some of those may be unecessary. Check and remove before conveting to .py\n",
    "        \n",
    "    d_Cmds = {path_BAT: os.path.dirname(path_BAT),\n",
    "            \"activate imod\": os.path.dirname(path_BAT),\n",
    "            f\"WS_Mdl add_OBS {MdlN} {DF_Opt.loc[DF_Opt['MdlN']==MdlN, 'add_OBS'].values[0]}\": os.path.dirname(path_BAT),\n",
    "            'RUN.BAT': path_MdlN} # contains command and cwd path for command to be run in.\n",
    "\n",
    "    with open(os.path.join(path_MdlN, f'Tmnl_Out_{MdlN}.txt'), 'w') as f:\n",
    "        for Cmd in d_Cmds:\n",
    "            try:\n",
    "                print(f\" -- Executing: {Cmd}\")\n",
    "                Tmnl_Out = sp.run(Cmd, shell=True, capture_output=True, text=True, check=True, cwd=d_Cmds[Cmd])\n",
    "                print(f\"  - \\u2713\")\n",
    "\n",
    "                f.write(f'{\"*\"*50}  START OF COMMAND   {\"*\"*50}\\n')\n",
    "                f.write(f\"Command: {Tmnl_Out.args}\\n{\"-\"*120}\\n\\n\")\n",
    "                f.write(f\"Output:\\n{Tmnl_Out.stdout}\\n{\"-\"*120}\\n\\n\")\n",
    "                f.write(f\"Errors:\\n{Tmnl_Out.stderr}\\n{\"-\"*120}\\n\\n\")\n",
    "                f.write(f\"Return Code: {Tmnl_Out.returncode}\\n{\"-\"*120}\\n\\n\")\n",
    "                f.write(f'{\"*\"*50}  END OF COMMAND     {\"*\"*50}\\n\\n')\n",
    "            except sp.CalledProcessError as e:\n",
    "                print(f\"  - \\u274C: {Cmd}\\nError: {e.stderr}\")"
   ]
  },
  {
   "cell_type": "code",
   "execution_count": null,
   "metadata": {},
   "outputs": [],
   "source": [
    "s = 'NBr1'\n",
    "Mdl, SimN = \"\".join(filter(str.isalpha, s)), \"\".join(filter(str.isdigit, s))\n",
    "Mdl, SimN"
   ]
  },
  {
   "cell_type": "code",
   "execution_count": null,
   "metadata": {},
   "outputs": [],
   "source": []
  },
  {
   "cell_type": "markdown",
   "metadata": {},
   "source": [
    "## Examples"
   ]
  },
  {
   "cell_type": "code",
   "execution_count": null,
   "metadata": {},
   "outputs": [],
   "source": [
    "# Change the color of a specific cell (e.g., A1)\n",
    "fill = PatternFill(start_color=\"FFFF00\", end_color=\"FFFF00\", fill_type=\"solid\")  # Yellow color\n",
    "sheet['A1'].fill = fill"
   ]
  },
  {
   "cell_type": "code",
   "execution_count": null,
   "metadata": {},
   "outputs": [],
   "source": [
    "sheet['F5'] = 'Development'\n",
    "sheet['F6'] = 'development'\n",
    "sheet['F7'] = 'Development_'"
   ]
  },
  {
   "cell_type": "code",
   "execution_count": null,
   "metadata": {},
   "outputs": [],
   "source": [
    "# Save the modified workbook\n",
    "wb.save('modified_file.xlsx')"
   ]
  }
 ],
 "metadata": {
  "kernelspec": {
   "display_name": "Python 3",
   "language": "python",
   "name": "python3"
  },
  "language_info": {
   "codemirror_mode": {
    "name": "ipython",
    "version": 3
   },
   "file_extension": ".py",
   "mimetype": "text/x-python",
   "name": "python",
   "nbconvert_exporter": "python",
   "pygments_lexer": "ipython3",
   "version": "3.12.8"
  }
 },
 "nbformat": 4,
 "nbformat_minor": 4
}
