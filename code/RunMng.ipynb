{
 "cells": [
  {
   "cell_type": "markdown",
   "metadata": {},
   "source": [
    "<h2><b>Automate & document iMOD runs</b></h2>"
   ]
  },
  {
   "cell_type": "markdown",
   "metadata": {},
   "source": [
    "This script works as a wrapper for the iMOD runs performed for the WaterScape project.<br>\n",
    "It'll read WS_RunLog.xlsx, identify queued runs, then execute the corresponding snakemake file(s)."
   ]
  },
  {
   "cell_type": "markdown",
   "metadata": {},
   "source": [
    "# 0. Prep"
   ]
  },
  {
   "cell_type": "markdown",
   "metadata": {},
   "source": [
    "## 0.0. Libraries"
   ]
  },
  {
   "cell_type": "code",
   "execution_count": 1,
   "metadata": {},
   "outputs": [],
   "source": [
    "import WS_Mdl as WS\n",
    "import os\n",
    "import pandas as pd\n",
    "import subprocess as sp"
   ]
  },
  {
   "cell_type": "markdown",
   "metadata": {},
   "source": [
    "## 0.1. Paths"
   ]
  },
  {
   "cell_type": "code",
   "execution_count": 2,
   "metadata": {},
   "outputs": [],
   "source": [
    "path_RunLog = os.path.join(WS.path_WS, 'Mng/WS_RunLog.xlsx')"
   ]
  },
  {
   "cell_type": "markdown",
   "metadata": {},
   "source": [
    "# 1. Load RunLog and read inputs"
   ]
  },
  {
   "cell_type": "code",
   "execution_count": 3,
   "metadata": {},
   "outputs": [],
   "source": [
    "DF = pd.read_excel(path_RunLog, sheet_name='RunLog').dropna(subset='runN')"
   ]
  },
  {
   "cell_type": "code",
   "execution_count": 4,
   "metadata": {},
   "outputs": [],
   "source": [
    "DF_q = DF.loc[ (DF['Start Status'] == 'Queued') & ((DF['End Status'].isna()) | (DF['End Status']=='Failed')) ] # _q for queued"
   ]
  },
  {
   "cell_type": "code",
   "execution_count": 45,
   "metadata": {},
   "outputs": [
    {
     "name": "stderr",
     "output_type": "stream",
     "text": [
      "Assuming unrestricted shared filesystem usage.\n",
      "host: UU120516\n",
      "Building DAG of jobs...\n",
      "Provided cores: 10\n",
      "Rules claiming more threads will be scaled down.\n",
      "Job stats:\n",
      "job             count\n",
      "------------  -------\n",
      "all                 1\n",
      "log_Init            1\n",
      "log_SP_dates        1\n",
      "test1               1\n",
      "total               4\n",
      "\n",
      "Select jobs to execute...\n",
      "Execute 2 jobs...\n",
      "\n",
      "[Thu May  1 16:38:10 2025]\n",
      "localrule test1:\n",
      "    output: test\n",
      "    jobid: 3\n",
      "    reason: Missing output files: test\n",
      "    resources: tmpdir=C:\\Users\\Karam014\\AppData\\Local\\Temp\n",
      "Shell command: None\n",
      "\n",
      "[Thu May  1 16:38:10 2025]\n",
      "localrule log_Init:\n",
      "    output: C:/OD/WS_Mdl/models/NBr/code/snakemake/temp1\n",
      "    jobid: 2\n",
      "    reason: Missing output files: C:/OD/WS_Mdl/models/NBr/code/snakemake/temp1\n",
      "    resources: tmpdir=C:\\Users\\Karam014\\AppData\\Local\\Temp\n",
      "Shell command: None\n",
      "[Thu May  1 16:38:10 2025]\n",
      "Finished jobid: 3 (Rule: test1)\n",
      "1 of 4 steps (25%) done\n",
      "RuleException:\n",
      "PermissionError in file \"C:\\OD\\WS_Mdl\\models\\NBr\\code\\snakemake\\NBr11.smk\", line 26:\n",
      "[Errno 13] Permission denied: 'C:/OD/WS_Mdl\\\\Mng/log.csv'\n",
      "  File \"C:\\OD\\WS_Mdl\\models\\NBr\\code\\snakemake\\NBr11.smk\", line 26, in __rule_log_Init\n",
      "  File \"c:\\users\\karam014\\onedrive - universiteit utrecht\\ws_mdl\\code\\WS_Mdl\\WS_Mdl.py\", line 434, in Up_log\n",
      "  File \"C:\\mamba_envs\\WS\\Lib\\site-packages\\pandas\\util\\_decorators.py\", line 333, in wrapper\n",
      "  File \"C:\\mamba_envs\\WS\\Lib\\site-packages\\pandas\\core\\generic.py\", line 3967, in to_csv\n",
      "  File \"C:\\mamba_envs\\WS\\Lib\\site-packages\\pandas\\io\\formats\\format.py\", line 1014, in to_csv\n",
      "  File \"C:\\mamba_envs\\WS\\Lib\\site-packages\\pandas\\io\\formats\\csvs.py\", line 251, in save\n",
      "  File \"C:\\mamba_envs\\WS\\Lib\\site-packages\\pandas\\io\\common.py\", line 873, in get_handle\n",
      "[Thu May  1 16:38:10 2025]\n",
      "Error in rule log_Init:\n",
      "    message: None\n",
      "    jobid: 2\n",
      "    output: C:/OD/WS_Mdl/models/NBr/code/snakemake/temp1\n",
      "Shutting down, this might take some time.\n",
      "Exiting because a job execution failed. Look below for error messages\n",
      "[Thu May  1 16:38:10 2025]\n",
      "Error in rule log_Init:\n",
      "    message: None\n",
      "    jobid: 2\n",
      "    output: C:/OD/WS_Mdl/models/NBr/code/snakemake/temp1\n",
      "Complete log(s): C:\\OD\\WS_Mdl\\models\\NBr\\.snakemake\\log\\2025-05-01T163809.900195.snakemake.log\n",
      "WorkflowError:\n",
      "At least one job did not complete successfully.\n"
     ]
    }
   ],
   "source": [
    "!snakemake -p -s $path_Smk --cores 10"
   ]
  },
  {
   "cell_type": "code",
   "execution_count": 44,
   "metadata": {},
   "outputs": [],
   "source": [
    "os.remove(r'C:\\OD\\WS_Mdl\\models\\NBr\\test\\.snakemake_timestamp')\n",
    "os.rmdir(r'C:\\OD\\WS_Mdl\\models\\NBr\\test', )\n",
    "os.remove(r'C:\\OD\\WS_Mdl\\models\\NBr\\code\\snakemake\\temp2')"
   ]
  },
  {
   "cell_type": "code",
   "execution_count": null,
   "metadata": {},
   "outputs": [
    {
     "name": "stdout",
     "output_type": "stream",
     "text": [
      "\n",
      "🟦 Running model NBr11...\n",
      "   Snakefile: C:/OD/WS_Mdl\\models/NBr/code/snakemake/NBr11.smk\n",
      "------------------------------------------------------------\n",
      "--- Snakemake stdout ---\n",
      "\n",
      "\n",
      "--- Snakemake stderr ---\n",
      "SyntaxError in file \"C:\\OD\\WS_Mdl\\models\\NBr\\code\\snakemake\\NBr11.smk\", line 16:\n",
      "invalid syntax:\n",
      "        [temp(\"code/snakemake/temp2\")]\n",
      "\n",
      "\n",
      "\n",
      "❌ Model NBr11 failed!\n",
      "============================================================\n"
     ]
    }
   ],
   "source": [
    "for i, Se_Ln in DF_q.iterrows():\n",
    "    path_Smk = os.path.join(WS.path_WS, f'models/{Se_Ln[\"model alias\"]}/code/snakemake/{Se_Ln[\"MdlN\"]}.smk')\n",
    "    model_name = Se_Ln[\"MdlN\"]\n",
    "\n",
    "    print(f\"\\n🟦 Running model {model_name}...\")\n",
    "    print(f\"   Snakefile: {path_Smk}\\n\" + \"-\"*60)\n",
    "\n",
    "    try:\n",
    "        result = sp.run(['snakemake', '-s', '-p', path_Smk], check=True, capture_output=True, text=True)\n",
    "        print(result.stdout)\n",
    "        print(f\"✅ Model {model_name} finished successfully.\\n\" + \"=\"*60)\n",
    "    except sp.CalledProcessError as e:\n",
    "        print(f\"--- Snakemake stdout ---\\n{e.stdout}\\n\")\n",
    "        print(f\"--- Snakemake stderr ---\\n{e.stderr}\\n\")\n",
    "        print(f\"❌ Model {model_name} failed!\\n\" + \"=\"*60)\n"
   ]
  },
  {
   "cell_type": "code",
   "execution_count": null,
   "metadata": {},
   "outputs": [],
   "source": [
    "stop"
   ]
  },
  {
   "cell_type": "markdown",
   "metadata": {},
   "source": [
    "# Junkyard"
   ]
  },
  {
   "cell_type": "markdown",
   "metadata": {},
   "source": [
    "stop"
   ]
  },
  {
   "cell_type": "markdown",
   "metadata": {},
   "source": [
    "d_Cmds.items()"
   ]
  },
  {
   "cell_type": "markdown",
   "metadata": {},
   "source": [
    "## Run models in parallel using a process pool\n",
    "with Pool(num_cores) as pool:\n",
    "    pool.starmap(WS.run_Mdl, [(row, DF_Opt) for _, row in queued_Sims.iterrows()])"
   ]
  },
  {
   "cell_type": "markdown",
   "metadata": {},
   "source": [
    "d_Cmds"
   ]
  },
  {
   "cell_type": "markdown",
   "metadata": {},
   "source": [
    "for i, Se_Ln in DF.loc[DF['Status']=='Queued'].iterrows():\n",
    "    MdlN = Se_Ln['MdlN']\n",
    "    print(f\"--- Executing RunMng for {MdlN}\")\n",
    "\n",
    "    # Get default directories\n",
    "    d_paths = WS.get_MdlN_paths(MdlN)\n",
    "    MdlN_B, path_Mdl, path_MdlN, path_INI, path_BAT, path_PRJ = (d_paths[k] for k in ['MdlN_B', 'path_Mdl', 'path_MdlN', \"path_INI_S\", \"path_BAT_S\", \"path_PRJ_S\"])\n",
    "        \n",
    "    # Define commands and their working directories\n",
    "    d_Cmds = {path_BAT: os.path.dirname(path_BAT),\n",
    "              \"activate WS\": os.path.dirname(path_BAT),\n",
    "              f\"WS_Mdl add_OBS {MdlN} {DF_Opt.loc[DF_Opt['MdlN']==MdlN, 'add_OBS'].values[0]}\": os.path.dirname(path_BAT),\n",
    "              r'.\\RUN.BAT': path_MdlN}\n",
    "\n",
    "    # Generate log file path\n",
    "    log_file = os.path.join(path_MdlN, f'Tmnl_Out_{MdlN}.txt')\n",
    "    os.makedirs(os.path.dirname(log_file), exist_ok=True)\n",
    "\n",
    "    with open(log_file, 'w', encoding='utf-8') as f:\n",
    "        for Cmd, cwd in d_Cmds.items():\n",
    "            try:\n",
    "                print(f\" -- Executing: {Cmd}\")\n",
    "\n",
    "                # Run command in blocking mode, capturing output live\n",
    "                process = sp.run(Cmd, shell=True, cwd=cwd,\n",
    "                                 capture_output=True, text=True, check=True)\n",
    "\n",
    "                # Write output to file\n",
    "                f.write(f'{\"*\"*50}  START OF COMMAND   {\"*\"*50}\\n')\n",
    "                f.write(f\"Command: {Cmd}\\n{\"-\"*120}\\n\\n\")\n",
    "                f.write(f\"Output:\\n{process.stdout}\\n{\"-\"*120}\\n\\n\")\n",
    "                f.write(f\"Errors:\\n{process.stderr}\\n{\"-\"*120}\\n\\n\")\n",
    "                f.write(f\"Return Code: {process.returncode}\\n{\"-\"*120}\\n\\n\")\n",
    "                f.write(f'{\"*\"*50}  END OF COMMAND     {\"*\"*50}\\n\\n')\n",
    "\n",
    "                print(f\"  - ✓\")\n",
    "\n",
    "            except sp.CalledProcessError as e:\n",
    "                print(f\"  - ❌: {Cmd}\\nError: {e.stderr}\")\n",
    "                f.write(f\"ERROR: {e.stderr}\\n\")\n"
   ]
  },
  {
   "cell_type": "markdown",
   "metadata": {},
   "source": [
    "os.path.basename(log_file)"
   ]
  },
  {
   "cell_type": "markdown",
   "metadata": {},
   "source": [
    "s = 'NBr1'\n",
    "Mdl, SimN = \"\".join(filter(str.isalpha, s)), \"\".join(filter(str.isdigit, s))\n",
    "Mdl, SimN"
   ]
  },
  {
   "cell_type": "markdown",
   "metadata": {},
   "source": []
  },
  {
   "cell_type": "markdown",
   "metadata": {},
   "source": [
    "## Examples"
   ]
  },
  {
   "cell_type": "markdown",
   "metadata": {},
   "source": [
    "## Change the color of a specific cell (e.g., A1)\n",
    "fill = PatternFill(start_color=\"FFFF00\", end_color=\"FFFF00\", fill_type=\"solid\")  # Yellow color\n",
    "sheet['A1'].fill = fill"
   ]
  },
  {
   "cell_type": "markdown",
   "metadata": {},
   "source": [
    "sheet['F5'] = 'Development'\n",
    "sheet['F6'] = 'development'\n",
    "sheet['F7'] = 'Development_'"
   ]
  },
  {
   "cell_type": "markdown",
   "metadata": {},
   "source": [
    "## Save the modified workbook\n",
    "wb.save('modified_file.xlsx')"
   ]
  }
 ],
 "metadata": {
  "kernelspec": {
   "display_name": "Python 3",
   "language": "python",
   "name": "python3"
  },
  "language_info": {
   "codemirror_mode": {
    "name": "ipython",
    "version": 3
   },
   "file_extension": ".py",
   "mimetype": "text/x-python",
   "name": "python",
   "nbconvert_exporter": "python",
   "pygments_lexer": "ipython3",
   "version": "3.12.8"
  }
 },
 "nbformat": 4,
 "nbformat_minor": 4
}
