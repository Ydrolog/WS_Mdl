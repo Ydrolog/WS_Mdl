{
 "cells": [
  {
   "cell_type": "code",
   "execution_count": 1,
   "metadata": {},
   "outputs": [],
   "source": [
    "import WS_Mdl as WS\n",
    "import pandas as pd\n",
    "import os
from os import listdir as LD, makedirs as MDs
from os.path import join as PJ, basename as PBN, dirname as PDN, exists as PE"
   ]
  },
  {
   "cell_type": "code",
   "execution_count": 2,
   "metadata": {},
   "outputs": [
    {
     "data": {
      "text/plain": [
       "'c:\\\\OD\\\\WS_Mdl\\\\code\\\\PrP\\\\make_OBS_IPF'"
      ]
     },
     "execution_count": 2,
     "metadata": {},
     "output_type": "execute_result"
    }
   ],
   "source": [
    "os.getcwd()"
   ]
  },
  {
   "cell_type": "code",
   "execution_count": 3,
   "metadata": {},
   "outputs": [],
   "source": [
    "DF_OBS_IPF_MF6 = WS.read_IPF_Spa(f'../../../models/NBr/In/OBS/NBr5/ijkset_selectie/ijkset_selectie.ipf')"
   ]
  },
  {
   "cell_type": "code",
   "execution_count": 4,
   "metadata": {},
   "outputs": [],
   "source": [
    "DF_OBS_IPF_MF6.columns = DF_OBS_IPF_MF6.columns.str.replace(',-9999','') # Headers had ',-9999' in their names. They serve no purpose, hence will be removed."
   ]
  },
  {
   "cell_type": "code",
   "execution_count": 5,
   "metadata": {},
   "outputs": [
    {
     "data": {
      "text/html": [
       "<div>\n",
       "<style scoped>\n",
       "    .dataframe tbody tr th:only-of-type {\n",
       "        vertical-align: middle;\n",
       "    }\n",
       "\n",
       "    .dataframe tbody tr th {\n",
       "        vertical-align: top;\n",
       "    }\n",
       "\n",
       "    .dataframe thead th {\n",
       "        text-align: right;\n",
       "    }\n",
       "</style>\n",
       "<table border=\"1\" class=\"dataframe\">\n",
       "  <thead>\n",
       "    <tr style=\"text-align: right;\">\n",
       "      <th></th>\n",
       "      <th>xcoordinate</th>\n",
       "      <th>ycoordinate</th>\n",
       "      <th>ilay</th>\n",
       "      <th>id</th>\n",
       "      <th>code</th>\n",
       "      <th>filterno</th>\n",
       "      <th>surfacelevel</th>\n",
       "      <th>filtertoplevel</th>\n",
       "      <th>filterbottomlevel</th>\n",
       "    </tr>\n",
       "  </thead>\n",
       "  <tbody>\n",
       "    <tr>\n",
       "      <th>0</th>\n",
       "      <td>130879.0</td>\n",
       "      <td>404056.0</td>\n",
       "      <td>3</td>\n",
       "      <td>2001_1</td>\n",
       "      <td>2001</td>\n",
       "      <td>1</td>\n",
       "      <td>-0.69</td>\n",
       "      <td>7.82</td>\n",
       "      <td>6.82</td>\n",
       "    </tr>\n",
       "    <tr>\n",
       "      <th>1</th>\n",
       "      <td>130879.0</td>\n",
       "      <td>404056.0</td>\n",
       "      <td>4</td>\n",
       "      <td>2001_2</td>\n",
       "      <td>2001</td>\n",
       "      <td>2</td>\n",
       "      <td>5.13</td>\n",
       "      <td>-10.09</td>\n",
       "      <td>-11.09</td>\n",
       "    </tr>\n",
       "    <tr>\n",
       "      <th>2</th>\n",
       "      <td>111628.0</td>\n",
       "      <td>405726.0</td>\n",
       "      <td>1</td>\n",
       "      <td>2013_1</td>\n",
       "      <td>2013</td>\n",
       "      <td>1</td>\n",
       "      <td>1.92</td>\n",
       "      <td>-0.53</td>\n",
       "      <td>-1.53</td>\n",
       "    </tr>\n",
       "    <tr>\n",
       "      <th>3</th>\n",
       "      <td>126388.0</td>\n",
       "      <td>411199.0</td>\n",
       "      <td>3</td>\n",
       "      <td>2014_1</td>\n",
       "      <td>2014</td>\n",
       "      <td>1</td>\n",
       "      <td>-0.32</td>\n",
       "      <td>-1.30</td>\n",
       "      <td>-2.30</td>\n",
       "    </tr>\n",
       "    <tr>\n",
       "      <th>4</th>\n",
       "      <td>126391.0</td>\n",
       "      <td>411132.0</td>\n",
       "      <td>3</td>\n",
       "      <td>2015_1</td>\n",
       "      <td>2015</td>\n",
       "      <td>1</td>\n",
       "      <td>-0.03</td>\n",
       "      <td>-1.11</td>\n",
       "      <td>-2.11</td>\n",
       "    </tr>\n",
       "    <tr>\n",
       "      <th>...</th>\n",
       "      <td>...</td>\n",
       "      <td>...</td>\n",
       "      <td>...</td>\n",
       "      <td>...</td>\n",
       "      <td>...</td>\n",
       "      <td>...</td>\n",
       "      <td>...</td>\n",
       "      <td>...</td>\n",
       "      <td>...</td>\n",
       "    </tr>\n",
       "    <tr>\n",
       "      <th>7243</th>\n",
       "      <td>181076.0</td>\n",
       "      <td>375269.0</td>\n",
       "      <td>3</td>\n",
       "      <td>WOOL003_1</td>\n",
       "      <td>WOOL003</td>\n",
       "      <td>1</td>\n",
       "      <td>25.58</td>\n",
       "      <td>22.70</td>\n",
       "      <td>21.70</td>\n",
       "    </tr>\n",
       "    <tr>\n",
       "      <th>7244</th>\n",
       "      <td>181150.0</td>\n",
       "      <td>375100.0</td>\n",
       "      <td>3</td>\n",
       "      <td>WOOL004_1</td>\n",
       "      <td>WOOL004</td>\n",
       "      <td>1</td>\n",
       "      <td>28.34</td>\n",
       "      <td>24.64</td>\n",
       "      <td>23.64</td>\n",
       "    </tr>\n",
       "    <tr>\n",
       "      <th>7245</th>\n",
       "      <td>182883.0</td>\n",
       "      <td>374584.0</td>\n",
       "      <td>2</td>\n",
       "      <td>WOOL006_1</td>\n",
       "      <td>WOOL006</td>\n",
       "      <td>1</td>\n",
       "      <td>27.76</td>\n",
       "      <td>26.16</td>\n",
       "      <td>25.16</td>\n",
       "    </tr>\n",
       "    <tr>\n",
       "      <th>7246</th>\n",
       "      <td>181081.0</td>\n",
       "      <td>375259.0</td>\n",
       "      <td>2</td>\n",
       "      <td>WOOL007_1</td>\n",
       "      <td>WOOL007</td>\n",
       "      <td>1</td>\n",
       "      <td>26.28</td>\n",
       "      <td>24.84</td>\n",
       "      <td>23.84</td>\n",
       "    </tr>\n",
       "    <tr>\n",
       "      <th>7247</th>\n",
       "      <td>180742.0</td>\n",
       "      <td>375926.0</td>\n",
       "      <td>2</td>\n",
       "      <td>WOOL008_1</td>\n",
       "      <td>WOOL008</td>\n",
       "      <td>1</td>\n",
       "      <td>26.09</td>\n",
       "      <td>24.65</td>\n",
       "      <td>23.65</td>\n",
       "    </tr>\n",
       "  </tbody>\n",
       "</table>\n",
       "<p>7248 rows × 9 columns</p>\n",
       "</div>"
      ],
      "text/plain": [
       "      xcoordinate  ycoordinate  ilay         id     code  filterno  \\\n",
       "0        130879.0     404056.0     3     2001_1     2001         1   \n",
       "1        130879.0     404056.0     4     2001_2     2001         2   \n",
       "2        111628.0     405726.0     1     2013_1     2013         1   \n",
       "3        126388.0     411199.0     3     2014_1     2014         1   \n",
       "4        126391.0     411132.0     3     2015_1     2015         1   \n",
       "...           ...          ...   ...        ...      ...       ...   \n",
       "7243     181076.0     375269.0     3  WOOL003_1  WOOL003         1   \n",
       "7244     181150.0     375100.0     3  WOOL004_1  WOOL004         1   \n",
       "7245     182883.0     374584.0     2  WOOL006_1  WOOL006         1   \n",
       "7246     181081.0     375259.0     2  WOOL007_1  WOOL007         1   \n",
       "7247     180742.0     375926.0     2  WOOL008_1  WOOL008         1   \n",
       "\n",
       "      surfacelevel  filtertoplevel  filterbottomlevel  \n",
       "0            -0.69            7.82               6.82  \n",
       "1             5.13          -10.09             -11.09  \n",
       "2             1.92           -0.53              -1.53  \n",
       "3            -0.32           -1.30              -2.30  \n",
       "4            -0.03           -1.11              -2.11  \n",
       "...            ...             ...                ...  \n",
       "7243         25.58           22.70              21.70  \n",
       "7244         28.34           24.64              23.64  \n",
       "7245         27.76           26.16              25.16  \n",
       "7246         26.28           24.84              23.84  \n",
       "7247         26.09           24.65              23.65  \n",
       "\n",
       "[7248 rows x 9 columns]"
      ]
     },
     "execution_count": 5,
     "metadata": {},
     "output_type": "execute_result"
    }
   ],
   "source": [
    "DF_OBS_IPF_MF6"
   ]
  },
  {
   "cell_type": "code",
   "execution_count": 6,
   "metadata": {},
   "outputs": [],
   "source": [
    "DF_OBS_IPF_MF6['ilay'] = DF_OBS_IPF_MF6['ilay']*2 - 1"
   ]
  },
  {
   "cell_type": "code",
   "execution_count": 7,
   "metadata": {},
   "outputs": [],
   "source": [
    "DF_OBS_IPF_MF6.rename(columns={'ilay': 'L',\n",
    "                               'xcoordinate':'X',\n",
    "                               'ycoordinate':'Y',\n",
    "                               'id':'Id'}, inplace=True)"
   ]
  },
  {
   "cell_type": "code",
   "execution_count": 8,
   "metadata": {},
   "outputs": [],
   "source": [
    "DF_OBS_IPF_MF6['path'] = '../NBr5/ijkset_selectie/' + DF_OBS_IPF_MF6['Id']"
   ]
  },
  {
   "cell_type": "code",
   "execution_count": 9,
   "metadata": {},
   "outputs": [],
   "source": [
    "import imod"
   ]
  },
  {
   "cell_type": "code",
   "execution_count": 10,
   "metadata": {},
   "outputs": [],
   "source": [
    "MDs(f'../../../models/NBr/In/OBS/NBr7', exist_ok=True)"
   ]
  },
  {
   "cell_type": "code",
   "execution_count": 11,
   "metadata": {},
   "outputs": [],
   "source": [
    "imod.formats.ipf.write(f'../../../models/NBr/In/OBS/NBr7/ijkset_selectie_NBr7.ipf', DF_OBS_IPF_MF6, indexcolumn=10, assoc_ext='txt', nodata=1e+20)"
   ]
  }
 ],
 "metadata": {
  "kernelspec": {
   "display_name": "Python 3",
   "language": "python",
   "name": "python3"
  },
  "language_info": {
   "codemirror_mode": {
    "name": "ipython",
    "version": 3
   },
   "file_extension": ".py",
   "mimetype": "text/x-python",
   "name": "python",
   "nbconvert_exporter": "python",
   "pygments_lexer": "ipython3",
   "version": "3.12.8"
  }
 },
 "nbformat": 4,
 "nbformat_minor": 2
}
