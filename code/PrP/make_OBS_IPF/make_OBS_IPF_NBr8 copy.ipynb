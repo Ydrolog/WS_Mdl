{
 "cells": [
  {
   "cell_type": "markdown",
   "metadata": {},
   "source": [
    "<span style=\"font-size:24px; font-family:'Roboto'; font-weight:bold;\">\n",
    "Script to create new OBS IPF file. - THIS IS JUST A BACKUP. DO NOT RUN IT, IT'S SLOW\n",
    "</span><br>\n",
    "It was discovered that some OBS are not assigned to the correct layer. That will be corrected via this script."
   ]
  },
  {
   "cell_type": "markdown",
   "metadata": {},
   "source": [
    "# 0. Options"
   ]
  },
  {
   "cell_type": "code",
   "execution_count": 1,
   "metadata": {},
   "outputs": [],
   "source": [
    "import WS_Mdl as WS\n",
    "import pandas as pd\n",
    "import os\n",
    "import numpy as np\n",
    "from scipy.spatial import cKDTree"
   ]
  },
  {
   "cell_type": "code",
   "execution_count": 2,
   "metadata": {},
   "outputs": [],
   "source": [
    "import imod"
   ]
  },
  {
   "cell_type": "code",
   "execution_count": 3,
   "metadata": {},
   "outputs": [
    {
     "data": {
      "text/plain": [
       "'c:\\\\OD\\\\WS_Mdl\\\\code\\\\PrP\\\\make_OBS_IPF'"
      ]
     },
     "execution_count": 3,
     "metadata": {},
     "output_type": "execute_result"
    }
   ],
   "source": [
    "os.getcwd()"
   ]
  },
  {
   "cell_type": "code",
   "execution_count": 4,
   "metadata": {},
   "outputs": [],
   "source": [
    "MdlN = 'NBr8'"
   ]
  },
  {
   "cell_type": "code",
   "execution_count": 5,
   "metadata": {},
   "outputs": [],
   "source": [
    "MdlN_B = 'NBr7'"
   ]
  },
  {
   "cell_type": "code",
   "execution_count": 6,
   "metadata": {},
   "outputs": [],
   "source": [
    "d_paths = WS.get_MdlN_paths(MdlN)"
   ]
  },
  {
   "cell_type": "markdown",
   "metadata": {},
   "source": [
    "# 1. Read previous IPF file.\n",
    "B is NBr5, but NBr7 is the same, but with corrected column names (helps with PP automation etc.)."
   ]
  },
  {
   "cell_type": "code",
   "execution_count": 7,
   "metadata": {},
   "outputs": [],
   "source": [
    "DF_IPF_B = WS.read_IPF_Spa(f'../../../models/NBr/In/OBS/{MdlN_B}/ijkset_selectie_{MdlN_B}.ipf')"
   ]
  },
  {
   "cell_type": "markdown",
   "metadata": {},
   "source": [
    "# 2. Read TOP and BOT arrays "
   ]
  },
  {
   "cell_type": "code",
   "execution_count": 8,
   "metadata": {},
   "outputs": [],
   "source": [
    "path_TOP = r'C:\\OD\\WS_Mdl\\models\\NBr\\In\\TOP'\n",
    "l_TOP = [os.path.join(path_TOP, i) for i in os.listdir(path_TOP) if 'idf' in i]\n",
    "TOP = imod.formats.idf.open(l_TOP, pattern=\"{name}_L{layer}_\")"
   ]
  },
  {
   "cell_type": "code",
   "execution_count": 9,
   "metadata": {},
   "outputs": [],
   "source": [
    "path_BOT = r'C:\\OD\\WS_Mdl\\models\\NBr\\In\\BOT'\n",
    "l_BOT = [os.path.join(path_BOT, i) for i in os.listdir(path_BOT) if 'idf' in i]\n",
    "BOT = imod.formats.idf.open(l_BOT, pattern=\"{name}_L{layer}_\")"
   ]
  },
  {
   "cell_type": "code",
   "execution_count": 10,
   "metadata": {},
   "outputs": [
    {
     "data": {
      "text/plain": [
       "xarray.core.dataarray.DataArray"
      ]
     },
     "execution_count": 10,
     "metadata": {},
     "output_type": "execute_result"
    }
   ],
   "source": [
    "type(TOP)"
   ]
  },
  {
   "cell_type": "markdown",
   "metadata": {},
   "source": [
    "# 3. Match L based on TOP and BOT values (compared to filter top and bot)"
   ]
  },
  {
   "cell_type": "code",
   "execution_count": 11,
   "metadata": {},
   "outputs": [],
   "source": [
    "TOP_x, TOP_y = TOP.coords['x'].values, TOP.coords['y'].values # Make sure x and y coordinates exist in TOP as 1D arrays"
   ]
  },
  {
   "cell_type": "code",
   "execution_count": 12,
   "metadata": {},
   "outputs": [],
   "source": [
    "# Prepare output containers\n",
    "case1_layers, case2_layers, case3_layers, case4_layers, combined_layers, match_distances, combined_TOP_vals, combined_BOT_vals = ([] for i in range(8))"
   ]
  },
  {
   "cell_type": "code",
   "execution_count": null,
   "metadata": {},
   "outputs": [
    {
     "name": "stdout",
     "output_type": "stream",
     "text": [
      "0/7248\n",
      "100/7248\n",
      "200/7248\n",
      "300/7248\n",
      "400/7248\n",
      "500/7248\n",
      "600/7248\n",
      "700/7248\n",
      "800/7248\n",
      "900/7248\n"
     ]
    }
   ],
   "source": [
    "for _, row in DF_IPF_B.iterrows(): # Loop through each row in IPF_Mdl\n",
    "    if _%100==0:\n",
    "        print(f'{int(_)}/{DF_IPF_B.shape[0]}')\n",
    "    \n",
    "    # Find closest grid point in TOP\n",
    "    dx = TOP_x - row['X']\n",
    "    dy = TOP_y - row['Y']\n",
    "    dist_matrix = np.sqrt((dy[:, None])**2 + (dx[None, :])**2)\n",
    "    iy, ix = np.unravel_index(np.argmin(dist_matrix), dist_matrix.shape)\n",
    "    min_dist = dist_matrix[iy, ix]\n",
    "\n",
    "    flt_top = row['filtertoplevel']\n",
    "    flt_bot = row['filterbottomlevel']\n",
    "    n_layers = TOP.shape[0]\n",
    "\n",
    "    # Initialize per-row results\n",
    "    layer_case1 = None\n",
    "    layer_case2 = None\n",
    "    layer_case3 = None\n",
    "    layers_case4 = []\n",
    "\n",
    "    # Loop over layers\n",
    "    for k in range(n_layers):\n",
    "        top_k = TOP[k, iy, ix]\n",
    "        bot_k = BOT[k, iy, ix]\n",
    "\n",
    "        in_top  = bot_k < flt_top < top_k\n",
    "        in_bot  = bot_k < flt_bot < top_k\n",
    "        in_full = flt_bot < bot_k and flt_top > top_k\n",
    "\n",
    "        if in_top:\n",
    "            layer_case1 = k\n",
    "        if in_bot:\n",
    "            layer_case2 = k\n",
    "        if in_top and in_bot:\n",
    "            layer_case3 = k\n",
    "        if in_full:\n",
    "            layers_case4.append(k)\n",
    "\n",
    "    # Combine and convert to 1-based indexing\n",
    "    matched_layers = sorted(set(\n",
    "        [l for l in [layer_case1, layer_case2, layer_case3] if l is not None] + layers_case4\n",
    "    ))\n",
    "    matched_layers_1based = [l + 1 for l in matched_layers]\n",
    "\n",
    "    # Get combined TOP and BOT if any layer matched\n",
    "    if matched_layers:\n",
    "        shallowest_k = min(matched_layers)\n",
    "        deepest_k    = max(matched_layers)\n",
    "        top_val = float(TOP[shallowest_k, iy, ix].values)\n",
    "        bot_val = float(BOT[deepest_k,    iy, ix].values)\n",
    "    else:\n",
    "        top_val = None\n",
    "        bot_val = None\n",
    "\n",
    "    # Store results (with 1-based indexing)\n",
    "    case1_layers.append(layer_case1 + 1 if layer_case1 is not None else None)\n",
    "    case2_layers.append(layer_case2 + 1 if layer_case2 is not None else None)\n",
    "    case3_layers.append(layer_case3 + 1 if layer_case3 is not None else None)\n",
    "    case4_layers.append([l + 1 for l in layers_case4])\n",
    "    combined_layers.append(matched_layers_1based)\n",
    "    combined_TOP_vals.append(top_val)\n",
    "    combined_BOT_vals.append(bot_val)\n",
    "    match_distances.append(min_dist)"
   ]
  },
  {
   "cell_type": "code",
   "execution_count": null,
   "metadata": {},
   "outputs": [],
   "source": [
    "DF_IPF_B_ = DF_IPF_B.copy() # copy, in case it doesn't workout or we want to test some things."
   ]
  },
  {
   "cell_type": "code",
   "execution_count": null,
   "metadata": {},
   "outputs": [],
   "source": [
    "# Assign to DataFrame\n",
    "DF_IPF_B_['case1_L']     = case1_layers\n",
    "DF_IPF_B_['case2_L']     = case2_layers\n",
    "DF_IPF_B_['case3_L']     = case3_layers\n",
    "DF_IPF_B_['case4_L']     = case4_layers\n",
    "DF_IPF_B_['L_match']  = combined_layers\n",
    "DF_IPF_B_['TOP_L_match']    = combined_TOP_vals\n",
    "DF_IPF_B_['BOT_L_match']    = combined_BOT_vals\n",
    "DF_IPF_B_['match_distance']  = match_distances\n"
   ]
  },
  {
   "cell_type": "code",
   "execution_count": null,
   "metadata": {},
   "outputs": [],
   "source": [
    "IPF_Mdl_.sort_values('R', inplace=True)"
   ]
  },
  {
   "cell_type": "code",
   "execution_count": null,
   "metadata": {},
   "outputs": [],
   "source": [
    "IPF_Mdl_"
   ]
  },
  {
   "cell_type": "code",
   "execution_count": null,
   "metadata": {},
   "outputs": [],
   "source": [
    "def remove_L_from_combined_str(row):\n",
    "    try:\n",
    "        layer_list = row['L_match'].copy()\n",
    "        layer_list.remove(row['L'])\n",
    "    except ValueError:\n",
    "        layer_list = row['L_match']\n",
    "    return ', '.join(str(x) for x in layer_list)"
   ]
  },
  {
   "cell_type": "code",
   "execution_count": null,
   "metadata": {},
   "outputs": [],
   "source": [
    "# Checks\n",
    "IPF_Mdl_['match?'] = IPF_Mdl_.apply(lambda row: row['L'] in row['L_match'], axis=1)\n",
    "IPF_Mdl_['L_extra'] = IPF_Mdl_.apply(remove_L_from_combined_str, axis=1)\n",
    "IPF_Mdl_['TOP_match?'] = IPF_Mdl_.apply(lambda R: True if R['TOP_L_match'] > R['filtertoplevel'] else False, axis=1)\n",
    "IPF_Mdl_['BOT_match?'] = IPF_Mdl_.apply(lambda R: True if R['BOT_L_match'] < R['filterbottomlevel'] else False, axis=1)"
   ]
  },
  {
   "cell_type": "code",
   "execution_count": null,
   "metadata": {},
   "outputs": [],
   "source": [
    "IPF_Mdl_['case4_L'] = IPF_Mdl_['case4_L'].apply(lambda x: ', '.join(str(i) for i in x))\n",
    "IPF_Mdl_['L_match'] = IPF_Mdl_['L_match'].apply(lambda x: ', '.join(str(i) for i in x))"
   ]
  },
  {
   "cell_type": "code",
   "execution_count": null,
   "metadata": {},
   "outputs": [],
   "source": [
    "IPF_Mdl_[['case4_L', 'L_match', 'L_extra']] = IPF_Mdl_[['case4_L', 'L_match', 'L_extra']].astype(str)"
   ]
  },
  {
   "cell_type": "code",
   "execution_count": null,
   "metadata": {},
   "outputs": [],
   "source": [
    "IPF_Mdl_.sort_values('id')"
   ]
  },
  {
   "cell_type": "code",
   "execution_count": null,
   "metadata": {},
   "outputs": [],
   "source": [
    "IPF_Mdl_.to_csv('check_OBS_L_values.csv', index=None)"
   ]
  },
  {
   "cell_type": "markdown",
   "metadata": {},
   "source": [
    "# 6. Stats"
   ]
  },
  {
   "cell_type": "markdown",
   "metadata": {},
   "source": [
    "## 6.0. KGE of all Vs incorrectly matched. "
   ]
  },
  {
   "cell_type": "markdown",
   "metadata": {},
   "source": []
  },
  {
   "cell_type": "code",
   "execution_count": null,
   "metadata": {},
   "outputs": [],
   "source": []
  },
  {
   "cell_type": "code",
   "execution_count": null,
   "metadata": {},
   "outputs": [],
   "source": []
  },
  {
   "cell_type": "code",
   "execution_count": null,
   "metadata": {},
   "outputs": [],
   "source": []
  },
  {
   "cell_type": "code",
   "execution_count": null,
   "metadata": {},
   "outputs": [],
   "source": []
  },
  {
   "cell_type": "code",
   "execution_count": null,
   "metadata": {},
   "outputs": [],
   "source": []
  },
  {
   "cell_type": "markdown",
   "metadata": {},
   "source": [
    "# 2. Read and edit check file."
   ]
  },
  {
   "cell_type": "code",
   "execution_count": null,
   "metadata": {},
   "outputs": [],
   "source": [
    "DF_check = pd.read_csv(r'..\\..\\\\explore\\check_OBS_L\\check_OBS_L_values.csv')"
   ]
  },
  {
   "cell_type": "code",
   "execution_count": null,
   "metadata": {},
   "outputs": [],
   "source": [
    "DF_check"
   ]
  },
  {
   "cell_type": "code",
   "execution_count": null,
   "metadata": {},
   "outputs": [],
   "source": [
    "DF_OBS_IPF_MF6.columns"
   ]
  },
  {
   "cell_type": "code",
   "execution_count": null,
   "metadata": {},
   "outputs": [],
   "source": [
    "DF_check.columns"
   ]
  },
  {
   "cell_type": "code",
   "execution_count": null,
   "metadata": {},
   "outputs": [],
   "source": [
    "DF_edit = DF_check[['x', 'y', 'L_match', 'id', 'code', 'filterno', 'surfacelevel', 'filtertoplevel', 'filterbottomlevel']].copy()\n",
    "DF_edit['L_match'] = DF_edit['L_match'].astype(str).str.split(', ')\n",
    "DF_edit = DF_edit.explode('L_match').reset_index(drop=True)"
   ]
  },
  {
   "cell_type": "code",
   "execution_count": null,
   "metadata": {},
   "outputs": [],
   "source": [
    "DF_edit.rename(columns={'x': 'X',\n",
    "                        'y': 'Y',\n",
    "                        'L_match': 'L',\n",
    "                        'id': 'Id'}, inplace=True)"
   ]
  },
  {
   "cell_type": "code",
   "execution_count": null,
   "metadata": {},
   "outputs": [],
   "source": [
    "help(DF_edit.merge)"
   ]
  },
  {
   "cell_type": "code",
   "execution_count": null,
   "metadata": {},
   "outputs": [],
   "source": [
    "DF_edit = DF_edit.merge(right=DF_OBS_IPF_MF6[['Id', 'path']], right_on='Id', left_on='Id')"
   ]
  },
  {
   "cell_type": "code",
   "execution_count": null,
   "metadata": {},
   "outputs": [],
   "source": [
    "DF_edit.head()"
   ]
  },
  {
   "cell_type": "code",
   "execution_count": null,
   "metadata": {},
   "outputs": [],
   "source": []
  },
  {
   "cell_type": "code",
   "execution_count": null,
   "metadata": {},
   "outputs": [],
   "source": [
    "os.makedirs(f'../../../models/NBr/In/OBS/{MdlN}', exist_ok=True)"
   ]
  },
  {
   "cell_type": "code",
   "execution_count": null,
   "metadata": {},
   "outputs": [],
   "source": [
    "imod.formats.ipf.write(f'../../../models/NBr/In/OBS/{MdlN}/ijkset_selectie_{MdlN}.ipf', DF_edit, indexcolumn=10, assoc_ext='txt', nodata=1e+20)"
   ]
  }
 ],
 "metadata": {
  "kernelspec": {
   "display_name": "Python 3",
   "language": "python",
   "name": "python3"
  },
  "language_info": {
   "codemirror_mode": {
    "name": "ipython",
    "version": 3
   },
   "file_extension": ".py",
   "mimetype": "text/x-python",
   "name": "python",
   "nbconvert_exporter": "python",
   "pygments_lexer": "ipython3",
   "version": "3.12.8"
  }
 },
 "nbformat": 4,
 "nbformat_minor": 2
}
