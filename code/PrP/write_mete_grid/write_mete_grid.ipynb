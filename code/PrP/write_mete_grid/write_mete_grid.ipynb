{
 "cells": [
  {
   "cell_type": "markdown",
   "metadata": {},
   "source": [
    "<span style=\"font-size:24px; font-family:'Roboto'; font-weight:bold;\">\n",
    "Script to write a mete_grid.inp file\n",
    "</span><br>\n",
    "Will read inputs from write_mete_grid_In.txt to write the mete_grid.inp, which will be placed in the corresponding folder."
   ]
  },
  {
   "cell_type": "markdown",
   "metadata": {},
   "source": [
    "## 1. Options"
   ]
  },
  {
   "cell_type": "code",
   "execution_count": 1,
   "metadata": {},
   "outputs": [],
   "source": [
    "import pandas as pd\n",
    "import os\n",
    "from datetime import datetime as DT"
   ]
  },
  {
   "cell_type": "code",
   "execution_count": 2,
   "metadata": {},
   "outputs": [
    {
     "name": "stdout",
     "output_type": "stream",
     "text": [
      "Writing mete_grid.py with input parameters:\n",
      "date_start 2010-01-01\n",
      "date_end 2018-12-31\n",
      "Mdl NBr\n",
      "SimN 5\n",
      "SimN_P 1\n",
      "SimN_PET 1\n"
     ]
    }
   ],
   "source": [
    "with open('./write_mete_grid_In.txt', \"r\") as file:\n",
    "    params = {}\n",
    "    exec(file.read(), {}, params)\n",
    "\n",
    "# Access parameters\n",
    "date_start = params[\"date_start\"]\n",
    "date_end = params[\"date_end\"]\n",
    "Mdl = params[\"Mdl\"]\n",
    "SimN = params[\"SimN\"] #SimN of mete_grid file\n",
    "SimN_P = params[\"SimN_P\"] #SimN of P. P and PET grids can belong to a previous run. \n",
    "SimN_PET = params[\"SimN_PET\"] #SimN of PET. P and PET grids can belong to a previous run. \n",
    "\n",
    "print('Writing mete_grid.py with input parameters:')\n",
    "for p in params:\n",
    "    print(p, params[p])"
   ]
  },
  {
   "cell_type": "markdown",
   "metadata": {},
   "source": [
    "## 2 Read and prep DF"
   ]
  },
  {
   "cell_type": "code",
   "execution_count": 3,
   "metadata": {},
   "outputs": [],
   "source": [
    "DF = pd.read_csv(r'../../../data/Dates.csv')"
   ]
  },
  {
   "cell_type": "code",
   "execution_count": 4,
   "metadata": {},
   "outputs": [],
   "source": [
    "DF['Date'] = pd.to_datetime(DF['Date'])"
   ]
  },
  {
   "cell_type": "code",
   "execution_count": 5,
   "metadata": {},
   "outputs": [],
   "source": [
    "DF = DF.loc[(DF['Date'] >= date_start) & (DF['Date'] <= date_end)].reset_index(drop=True)"
   ]
  },
  {
   "cell_type": "code",
   "execution_count": 6,
   "metadata": {},
   "outputs": [],
   "source": [
    "DF['Year'] = DF['Date'].dt.year\n",
    "DF['Month'] = DF['Date'].dt.month\n",
    "DF['Day'] = DF['Date'].dt.day\n",
    "DF['DayOfYear'] = DF['Date'].dt.dayofyear-1"
   ]
  },
  {
   "cell_type": "markdown",
   "metadata": {},
   "source": [
    "## 3. Write block/txt file"
   ]
  },
  {
   "cell_type": "code",
   "execution_count": 7,
   "metadata": {},
   "outputs": [],
   "source": [
    "with open(f'../../../models/{Mdl}/In/CAP/mete_grid/{Mdl+str(SimN)}/mete_grid.inp', 'w') as f:\n",
    "    for i, row in DF.iterrows():\n",
    "        f.write(rf'{row[\"DayOfYear\"]:.2f},{row[\"Year\"]},\"..\\..\\In\\CAP\\P\\{Mdl+str(SimN_P)}\\P_{row[\"Date\"].strftime(\"%Y%m%d\")}.asc\",\"..\\..\\In\\CAP\\PET\\{Mdl+str(SimN_PET)}\\PET_{row[\"Date\"].strftime(\"%Y%m%d\")}.asc\"')\n",
    "        f.write('\\n')"
   ]
  }
 ],
 "metadata": {
  "kernelspec": {
   "display_name": "Python 3",
   "language": "python",
   "name": "python3"
  },
  "language_info": {
   "codemirror_mode": {
    "name": "ipython",
    "version": 3
   },
   "file_extension": ".py",
   "mimetype": "text/x-python",
   "name": "python",
   "nbconvert_exporter": "python",
   "pygments_lexer": "ipython3",
   "version": "3.12.8"
  }
 },
 "nbformat": 4,
 "nbformat_minor": 2
}
