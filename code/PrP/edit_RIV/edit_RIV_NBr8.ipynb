{
 "cells": [
  {
   "cell_type": "code",
   "execution_count": 1,
   "metadata": {},
   "outputs": [],
   "source": [
    "import WS_Mdl as WS\n",
    "import os\n",
    "import imod"
   ]
  },
  {
   "cell_type": "code",
   "execution_count": 2,
   "metadata": {},
   "outputs": [],
   "source": [
    "MdlN, MdlN_B = 'NBr8', 'NBr1'"
   ]
  },
  {
   "cell_type": "code",
   "execution_count": 3,
   "metadata": {},
   "outputs": [],
   "source": [
    "d_paths_B = WS.get_MdlN_paths(MdlN_B) # Get default directories\n",
    "Dir_RIV = os.path.join(d_paths_B['path_Mdl'], 'In/RIV')"
   ]
  },
  {
   "cell_type": "code",
   "execution_count": 4,
   "metadata": {},
   "outputs": [],
   "source": [
    "d_paths_S = WS.get_MdlN_paths((MdlN))"
   ]
  },
  {
   "cell_type": "code",
   "execution_count": 5,
   "metadata": {},
   "outputs": [
    {
     "data": {
      "text/plain": [
       "{'MdlN_B': 'NBr-',\n",
       " 'path_Mdl': 'C:/OD/WS_Mdl\\\\models/NBr',\n",
       " 'path_MdlN': 'C:/OD/WS_Mdl\\\\models/NBr\\\\Sim/NBr1',\n",
       " 'path_INI_B': 'C:/OD/WS_Mdl\\\\models/NBr\\\\code/Mdl_Prep/Mdl_Prep_NBr-.ini',\n",
       " 'path_INI_S': 'C:/OD/WS_Mdl\\\\models/NBr\\\\code/Mdl_Prep/Mdl_Prep_NBr1.ini',\n",
       " 'path_BAT_B': 'C:/OD/WS_Mdl\\\\models/NBr\\\\code/Mdl_Prep/Mdl_Prep_NBr-.bat',\n",
       " 'path_BAT_S': 'C:/OD/WS_Mdl\\\\models/NBr\\\\code/Mdl_Prep/Mdl_Prep_NBr1.bat',\n",
       " 'path_PRJ_B': 'C:/OD/WS_Mdl\\\\models/NBr\\\\In/PRJ/NBr-.prj',\n",
       " 'path_PRJ_S': 'C:/OD/WS_Mdl\\\\models/NBr\\\\In/PRJ/NBr1.prj'}"
      ]
     },
     "execution_count": 5,
     "metadata": {},
     "output_type": "execute_result"
    }
   ],
   "source": [
    "d_paths_B"
   ]
  },
  {
   "cell_type": "markdown",
   "metadata": {},
   "source": [
    "Read B RIV files"
   ]
  },
  {
   "cell_type": "code",
   "execution_count": 6,
   "metadata": {},
   "outputs": [
    {
     "data": {
      "text/plain": [
       "['RIV_Stg_Detailwatergangen_NBr1.IDF',\n",
       " 'RIV_Stg_Maas_NBr1.IDF',\n",
       " 'RIV_Stg_Polderpeil_summer_NBr1.IDF',\n",
       " 'RIV_Stg_summer_NBr1.IDF',\n",
       " 'RIV_Stg_winter_NBr1.IDF']"
      ]
     },
     "execution_count": 6,
     "metadata": {},
     "output_type": "execute_result"
    }
   ],
   "source": [
    "l_RIV_B = [f for f in os.listdir(Dir_RIV) if (MdlN_B in f) and ('RIV_Stg' in f) and ('.IDF' in f.upper())]\n",
    "l_RIV_B"
   ]
  },
  {
   "cell_type": "code",
   "execution_count": null,
   "metadata": {},
   "outputs": [],
   "source": [
    "for f in l_RIV_B[:]:\n",
    "    IDF = imod.formats.idf.open(os.path.join(Dir_RIV, f))  # Load IDF\n",
    "    IDF = IDF.compute() if IDF.chunks is not None else IDF  # Ensure it's computed if it's a Dask array\n",
    "    IDF_modified = IDF + 0.1  # Add 0.1 to all values\n",
    "    Dir_Out = os.path.join(Dir_RIV, MdlN, f.replace(MdlN_B, MdlN))  # Define output file name\n",
    "    imod.formats.idf.save(Dir_Out, IDF_modified)  # Save the modified IDF"
   ]
  }
 ],
 "metadata": {
  "kernelspec": {
   "display_name": "imod",
   "language": "python",
   "name": "python3"
  },
  "language_info": {
   "codemirror_mode": {
    "name": "ipython",
    "version": 3
   },
   "file_extension": ".py",
   "mimetype": "text/x-python",
   "name": "python",
   "nbconvert_exporter": "python",
   "pygments_lexer": "ipython3",
   "version": "3.12.8"
  }
 },
 "nbformat": 4,
 "nbformat_minor": 2
}
