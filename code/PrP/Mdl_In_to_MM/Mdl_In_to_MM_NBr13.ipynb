{
 "cells": [
  {
   "cell_type": "markdown",
   "metadata": {},
   "source": [
    "<span style=\"font-size:24px; font-family:'Roboto'; font-weight:bold;\">\n",
    "Script to visualize iMOD inputs in QGIS.\n",
    "</span><br>"
   ]
  },
  {
   "cell_type": "code",
   "execution_count": 1,
   "metadata": {},
   "outputs": [
    {
     "name": "stdout",
     "output_type": "stream",
     "text": [
      "\u001b[1m************************************************** Mdl_In_to_mm **************************************************\u001b[0m\n",
      "This script converts model inputs (mainly IDF) to TIF files, to be visualized in QGIS. It also calculates some parameters from Mdl Ins (e.g.) Aquifer layer thickness is calculated from TOP-BOT (same as MF does internally).\n"
     ]
    }
   ],
   "source": [
    "print(f\"\\033[1m{'*'*50} Mdl_In_to_mm {'*'*50}\\033[0m\")\n",
    "print('This script converts model inputs (mainly IDF) to TIF files, to be visualized in QGIS. It also calculates some parameters from Mdl Ins (e.g.) Aquifer layer thickness is calculated from TOP-BOT (same as MF does internally).')"
   ]
  },
  {
   "cell_type": "markdown",
   "metadata": {},
   "source": [
    "# Prep"
   ]
  },
  {
   "cell_type": "markdown",
   "metadata": {},
   "source": [
    "## 0.0. Libraries"
   ]
  },
  {
   "cell_type": "code",
   "execution_count": 2,
   "metadata": {},
   "outputs": [],
   "source": [
    "from WS_Mdl import utils as U\n",
    "from WS_Mdl import geo as G\n",
    "from WS_Mdl import utils_imod as UIM"
   ]
  },
  {
   "cell_type": "code",
   "execution_count": 3,
   "metadata": {},
   "outputs": [
    {
     "data": {
      "text/plain": [
       "<module 'WS_Mdl.utils_imod' from 'c:\\\\users\\\\karam014\\\\onedrive - universiteit utrecht\\\\ws_mdl\\\\code\\\\WS_Mdl\\\\utils_imod.py'>"
      ]
     },
     "execution_count": 3,
     "metadata": {},
     "output_type": "execute_result"
    }
   ],
   "source": [
    "import importlib\n",
    "importlib.reload(G)\n",
    "importlib.reload(U)\n",
    "importlib.reload(UIM)"
   ]
  },
  {
   "cell_type": "markdown",
   "metadata": {},
   "source": [
    "## 0.1. Options"
   ]
  },
  {
   "cell_type": "code",
   "execution_count": 4,
   "metadata": {},
   "outputs": [],
   "source": [
    "MdlN = 'NBr13'"
   ]
  },
  {
   "cell_type": "markdown",
   "metadata": {},
   "source": [
    "# 1. PoP In\n",
    "Also makes replace.csv for S QGIS project."
   ]
  },
  {
   "cell_type": "code",
   "execution_count": 5,
   "metadata": {},
   "outputs": [
    {
     "name": "stdout",
     "output_type": "stream",
     "text": [
      "✅ - NBr13 paths extracted from RunLog and returned as dictionary with keys:\n",
      "Mdl, MdlN_B, path_Mdl, path_INI, path_BAT, path_PRJ, path_Smk, path_MdlN, path_Out_HD, path_PoP, path_PoP_Out_MdlN, path_MM, path_INI_B, path_BAT_B, path_PRJ_B, path_Smk_B, path_MdlN_B, path_Out_HD_B, path_PoP_Out_MdlN_B, path_MM_B\n",
      "✅ - INI file C:/OD/WS_Mdl\\models/NBr\\code/Mdl_Prep/Mdl_Prep_NBr13.ini read successfully. Dictionary created with 21 keys.\n",
      "✅ - model dimensions extracted from C:/OD/WS_Mdl\\models/NBr\\code/Mdl_Prep/Mdl_Prep_NBr13.ini.\n",
      "✅ - NBr13 paths extracted from RunLog and returned as dictionary with keys:\n",
      "Mdl, MdlN_B, path_Mdl, path_INI, path_BAT, path_PRJ, path_Smk, path_MdlN, path_Out_HD, path_PoP, path_PoP_Out_MdlN, path_MM, path_INI_B, path_BAT_B, path_PRJ_B, path_Smk_B, path_MdlN_B, path_Out_HD_B, path_PoP_Out_MdlN_B, path_MM_B\n",
      " --- Reading PRJ Packages into DF ---\n",
      "\t(cap)  \t...\t✓\n",
      "\textra  \t...\t❌\n",
      "\t(bnd)  \t...\t✓\n",
      "\t(top)  \t...\t✓\n",
      "\t(bot)  \t...\t✓\n",
      "\t(khv)  \t...\t✓\n",
      "\t(kva)  \t...\t✓\n",
      "\t(shd)  \t...\t✓\n",
      "\t(sto)  \t...\t✓\n",
      "\t(spy)  \t...\t✓\n",
      "\t(hfb)  \t...\t✓\n",
      "\t(drn)  \t...\t✓\n",
      "\t(riv)  \t...\t✓\n",
      "\t(wel)  \t...\t✓\n",
      "\t(pcg)  \t...\t❌\n",
      "\t(chd)  \t...\t✓\n",
      "\tperiods\t...\t❌\n",
      "\tspecies\t...\t❌\n",
      " --- Success! ---\n",
      " ----------------------------------------------------------------------------------------------------\n",
      "\n",
      " --- Converting time-independant package IDF files to TIF ---\n",
      "\t0 , boundary                       ... ❌ - CAP_boundary_NBr1.tif already exists. Skipping.\n",
      "\t1 , landuse                        ... ❌ - CAP_landuse_NBr1.tif already exists. Skipping.\n",
      "\t2 , rootzone_thickness             ... ❌ - CAP_rootzone_thickness_NBr1.tif already exists. Skipping.\n",
      "\t3 , soil_physical_unit             ... ❌ - CAP_soil_physical_unit_NBr1.tif already exists. Skipping.\n",
      "\t4 , meteo_station_number           ... ❌ - CAP_meteo_station_number_NBr1.tif already exists. Skipping.\n",
      "\t5 , surface_elevation              ... ❌ - CAP_surface_elevation_NBr1.tif already exists. Skipping.\n",
      "\t6 , artificial_recharge            ... ❌ - CAP_artificial_recharge_NBr1.tif already exists. Skipping.\n",
      "\t7 , artificial_recharge_layer      ... ❌ - CAP_artificial_recharge_layer_NBr1.tif already exists. Skipping.\n",
      "\t8 , wetted_area                    ... ❌ - CAP_wetted_area_NBr1.tif already exists. Skipping.\n",
      "\t9 , urban_area                     ... ❌ - CAP_urban_area_NBr1.tif already exists. Skipping.\n",
      "\t10, ibound                         ... ❌ - BND_ibound_NBr1.tif already exists. Skipping.\n",
      "\t11, top                            ... ❌ - TOP_top_NBr1.tif already exists. Skipping.\n",
      "\t12, bottom                         ... ❌ - BOT_bottom_NBr1.tif already exists. Skipping.\n",
      "\t13, kh                             ... ❌ - KHV_kh_NBr1.tif already exists. Skipping.\n",
      "\t14, head                           ... ❌ - SHD_head_NBr8.tif already exists. Skipping.\n",
      "\n",
      " --- Converting time dependant packages ---\n",
      "\tDRN_conductance                ... ❌ - DRN_Cond_buis_NBr1.tif already exists. Skipping.\n",
      "\tDRN_conductance                ... ❌ - DRN_Cond_MV_25M_MODEL_NBr1.tif already exists. Skipping.\n",
      "\tDRN_conductance                ... ❌ - DRN_Cond_ONTWATERING_BELGIE_NBr1.tif already exists. Skipping.\n",
      "\tDRN_conductance                ... ❌ - DRN_Cond_buis_NBr1.tif already exists. Skipping.\n",
      "\tDRN_conductance                ... ❌ - DRN_Cond_MV_25M_MODEL_NBr1.tif already exists. Skipping.\n",
      "\tDRN_conductance                ... ❌ - DRN_Cond_ONTWATERING_BELGIE_NBr1.tif already exists. Skipping.\n",
      "\tDRN_elevation                  ... ❌ - DRN_Elv_buis_NBr1.tif already exists. Skipping.\n",
      "\tDRN_elevation                  ... ❌ - DRN_Elv_MV_25M_NBr1.tif already exists. Skipping.\n",
      "\tDRN_elevation                  ... ❌ - DRN_Elv_BELGIE_NBr1.tif already exists. Skipping.\n",
      "\tDRN_elevation                  ... ❌ - DRN_Elv_buis_NBr1.tif already exists. Skipping.\n",
      "\tDRN_elevation                  ... ❌ - DRN_Elv_MV_25M_NBr1.tif already exists. Skipping.\n",
      "\tDRN_elevation                  ... ❌ - DRN_Elv_BELGIE_NBr1.tif already exists. Skipping.\n",
      "\tRIV_conductance                ... ❌ - RIV_Cond_DETAILWATERGANGEN_NBr1.tif already exists. Skipping.\n",
      "\tRIV_conductance                ... ❌ - RIV_Cond_RIV_NBr1.tif already exists. Skipping.\n",
      "\tRIV_conductance                ... ❌ - RIV_Cond_DRN_NBr1.tif already exists. Skipping.\n",
      "\tRIV_conductance                ... ❌ - RIV_Cond_Maas_NBr1.tif already exists. Skipping.\n",
      "\tRIV_conductance                ... ❌ - RIV_Cond_Polderpeil_NBr1.tif already exists. Skipping.\n",
      "\tRIV_conductance                ... ❌ - RIV_Cond_DETAILWATERGANGEN_NBr1.tif already exists. Skipping.\n",
      "\tRIV_conductance                ... ❌ - RIV_Cond_RIV_NBr1.tif already exists. Skipping.\n",
      "\tRIV_conductance                ... ❌ - RIV_Cond_DRN_NBr1.tif already exists. Skipping.\n",
      "\tRIV_conductance                ... ❌ - RIV_Cond_Maas_NBr1.tif already exists. Skipping.\n",
      "\tRIV_conductance                ... ❌ - RIV_Cond_Polderpeil_NBr1.tif already exists. Skipping.\n",
      "\tRIV_conductance                ... ❌ - RIV_Cond_DETAILWATERGANGEN_NBr1.tif already exists. Skipping.\n",
      "\tRIV_conductance                ... ❌ - RIV_Cond_RIV_NBr1.tif already exists. Skipping.\n",
      "\tRIV_conductance                ... ❌ - RIV_Cond_DRN_NBr1.tif already exists. Skipping.\n",
      "\tRIV_conductance                ... ❌ - RIV_Cond_Maas_NBr1.tif already exists. Skipping.\n",
      "\tRIV_conductance                ... ❌ - RIV_Cond_Polderpeil_NBr1.tif already exists. Skipping.\n",
      "\tRIV_stage                      ... ✓ - IDF converted to TIF - single-band without L attribute\n",
      "\tRIV_stage                      ... ✓ - IDF converted to TIF - single-band without L attribute\n",
      "\tRIV_stage                      ... ❌ - RIV_Stg_winter_NBr13.tif already exists. Skipping.\n",
      "\tRIV_stage                      ... ✓ - IDF converted to TIF - single-band without L attribute\n",
      "\tRIV_stage                      ... ✓ - IDF converted to TIF - single-band without L attribute\n",
      "\tRIV_stage                      ... ❌ - RIV_Stg_Detailwatergangen_NBr13.tif already exists. Skipping.\n",
      "\tRIV_stage                      ... ❌ - RIV_Stg_winter_NBr13.tif already exists. Skipping.\n",
      "\tRIV_stage                      ... ❌ - RIV_Stg_winter_NBr13.tif already exists. Skipping.\n",
      "\tRIV_stage                      ... ❌ - RIV_Stg_Maas_NBr13.tif already exists. Skipping.\n",
      "\tRIV_stage                      ... ❌ - RIV_Stg_winter_NBr13.tif already exists. Skipping.\n",
      "\tRIV_stage                      ... ❌ - RIV_Stg_Detailwatergangen_NBr13.tif already exists. Skipping.\n",
      "\tRIV_stage                      ... ✓ - IDF converted to TIF - single-band without L attribute\n",
      "\tRIV_stage                      ... ❌ - RIV_Stg_summer_NBr13.tif already exists. Skipping.\n",
      "\tRIV_stage                      ... ❌ - RIV_Stg_Maas_NBr13.tif already exists. Skipping.\n",
      "\tRIV_stage                      ... ❌ - RIV_Stg_Polderpeil_summer_NBr13.tif already exists. Skipping.\n",
      "\tRIV_bottom_elevation           ... ❌ - RIV_Stg_Detailwatergangen_NBr13.tif already exists. Skipping.\n",
      "\tRIV_bottom_elevation           ... ❌ - RIV_Bot_RIVER_RIVER_BOTTOM_NBr1.tif already exists. Skipping.\n",
      "\tRIV_bottom_elevation           ... ❌ - RIV_Stg_winter_NBr13.tif already exists. Skipping.\n",
      "\tRIV_bottom_elevation           ... ❌ - RIV_Bot_Maas_NBr1.tif already exists. Skipping.\n",
      "\tRIV_bottom_elevation           ... ❌ - RIV_Bot_polderpeil_NBr1.tif already exists. Skipping.\n",
      "\tRIV_bottom_elevation           ... ❌ - RIV_Stg_Detailwatergangen_NBr13.tif already exists. Skipping.\n",
      "\tRIV_bottom_elevation           ... ❌ - RIV_Bot_RIVER_RIVER_BOTTOM_NBr1.tif already exists. Skipping.\n",
      "\tRIV_bottom_elevation           ... ❌ - RIV_Stg_winter_NBr13.tif already exists. Skipping.\n",
      "\tRIV_bottom_elevation           ... ❌ - RIV_Bot_Maas_NBr1.tif already exists. Skipping.\n",
      "\tRIV_bottom_elevation           ... ❌ - RIV_Bot_polderpeil_NBr1.tif already exists. Skipping.\n",
      "\tRIV_bottom_elevation           ... ❌ - RIV_Stg_Detailwatergangen_NBr13.tif already exists. Skipping.\n",
      "\tRIV_bottom_elevation           ... ❌ - RIV_Bot_RIVER_RIVER_BOTTOM_NBr1.tif already exists. Skipping.\n",
      "\tRIV_bottom_elevation           ... ❌ - RIV_Stg_summer_NBr13.tif already exists. Skipping.\n",
      "\tRIV_bottom_elevation           ... ❌ - RIV_Bot_Maas_NBr1.tif already exists. Skipping.\n",
      "\tRIV_bottom_elevation           ... ❌ - RIV_Bot_polderpeil_NBr1.tif already exists. Skipping.\n",
      "\tWEL_Ind_Aa_and_Maas_T_NBr1.ipf ... ❌ - file WEL_Ind_Aa_and_Maas_T_NBr1.gpkg exists. Skipping.\n",
      "\tWEL_Ind_Br_T_NBr1.ipf          ... ❌ - file WEL_Ind_Br_T_NBr1.gpkg exists. Skipping.\n",
      "\tWEL_Br_Wa_T_NBr1.ipf           ... ❌ - file WEL_Br_Wa_T_NBr1.gpkg exists. Skipping.\n",
      " --- Converting calculated inputs to TIF ---\n",
      "\tthickness                      ... ❌ - Thk_NBr1.tif already exists. Skipping.\n",
      "\ttransmissivity                 ... ❌ - T_NBr1.tif already exists. Skipping.\n",
      " --- Writing .csv file with paths to be replaced ---\n",
      "✅ - NBr13 paths extracted from RunLog and returned as dictionary with keys:\n",
      "Mdl, MdlN_B, path_Mdl, path_INI, path_BAT, path_PRJ, path_Smk, path_MdlN, path_Out_HD, path_PoP, path_PoP_Out_MdlN, path_MM, path_INI_B, path_BAT_B, path_PRJ_B, path_Smk_B, path_MdlN_B, path_Out_HD_B, path_PoP_Out_MdlN_B, path_MM_B\n",
      " --- Reading PRJ Packages into DF ---\n",
      "\t(cap)  \t...\t✓\n",
      "\textra  \t...\t❌\n",
      "\t(bnd)  \t...\t✓\n",
      "\t(top)  \t...\t✓\n",
      "\t(bot)  \t...\t✓\n",
      "\t(khv)  \t...\t✓\n",
      "\t(kva)  \t...\t✓\n",
      "\t(shd)  \t...\t✓\n",
      "\t(sto)  \t...\t✓\n",
      "\t(spy)  \t...\t✓\n",
      "\t(hfb)  \t...\t✓\n",
      "\t(drn)  \t...\t✓\n",
      "\t(riv)  \t...\t✓\n",
      "\t(wel)  \t...\t✓\n",
      "\t(pcg)  \t...\t❌\n",
      "\t(chd)  \t...\t✓\n",
      "\tperiods\t...\t❌\n",
      "\tspecies\t...\t❌\n",
      " --- Success! ---\n",
      " ----------------------------------------------------------------------------------------------------\n",
      "✅ - NBr12 paths extracted from RunLog and returned as dictionary with keys:\n",
      "Mdl, MdlN_B, path_Mdl, path_INI, path_BAT, path_PRJ, path_Smk, path_MdlN, path_Out_HD, path_PoP, path_PoP_Out_MdlN, path_MM, path_INI_B, path_BAT_B, path_PRJ_B, path_Smk_B, path_MdlN_B, path_Out_HD_B, path_PoP_Out_MdlN_B, path_MM_B\n",
      " --- Reading PRJ Packages into DF ---\n",
      "\t(cap)  \t...\t✓\n",
      "\textra  \t...\t❌\n",
      "\t(bnd)  \t...\t✓\n",
      "\t(top)  \t...\t✓\n",
      "\t(bot)  \t...\t✓\n",
      "\t(khv)  \t...\t✓\n",
      "\t(kva)  \t...\t✓\n",
      "\t(shd)  \t...\t✓\n",
      "\t(sto)  \t...\t✓\n",
      "\t(spy)  \t...\t✓\n",
      "\t(hfb)  \t...\t✓\n",
      "\t(drn)  \t...\t✓\n",
      "\t(riv)  \t...\t✓\n",
      "\t(wel)  \t...\t✓\n",
      "\t(pcg)  \t...\t❌\n",
      "\t(chd)  \t...\t✓\n",
      "\tperiods\t...\t❌\n",
      "\tspecies\t...\t❌\n",
      " --- Success! ---\n",
      " ----------------------------------------------------------------------------------------------------\n",
      " --- Success! ---\n",
      " ----------------------------------------------------------------------------------------------------\n"
     ]
    }
   ],
   "source": [
    "G.PRJ_to_TIF(MdlN)"
   ]
  },
  {
   "cell_type": "markdown",
   "metadata": {},
   "source": [
    "# 2. Copy QGIS project"
   ]
  },
  {
   "cell_type": "code",
   "execution_count": 6,
   "metadata": {},
   "outputs": [],
   "source": [
    "import os\n",
    "import shutil\n",
    "import pandas as pd"
   ]
  },
  {
   "cell_type": "code",
   "execution_count": 7,
   "metadata": {},
   "outputs": [
    {
     "name": "stdout",
     "output_type": "stream",
     "text": [
      "✅ - NBr13 paths extracted from RunLog and returned as dictionary with keys:\n",
      "Mdl, MdlN_B, path_Mdl, path_INI, path_BAT, path_PRJ, path_Smk, path_MdlN, path_Out_HD, path_PoP, path_PoP_Out_MdlN, path_MM, path_INI_B, path_BAT_B, path_PRJ_B, path_Smk_B, path_MdlN_B, path_Out_HD_B, path_PoP_Out_MdlN_B, path_MM_B\n"
     ]
    }
   ],
   "source": [
    "d_paths = U.get_MdlN_paths(MdlN)"
   ]
  },
  {
   "cell_type": "code",
   "execution_count": 8,
   "metadata": {},
   "outputs": [],
   "source": [
    "Src_path = os.path.join(d_paths['path_PoP_Out_MdlN_B'], f\"MM-{d_paths['MdlN_B']}.qgz\")\n",
    "Dst_path = os.path.join(d_paths['path_PoP_Out_MdlN'], f\"MM-{MdlN}.qgz\")"
   ]
  },
  {
   "cell_type": "code",
   "execution_count": 9,
   "metadata": {},
   "outputs": [
    {
     "name": "stdout",
     "output_type": "stream",
     "text": [
      "Copied QGIS project from C:/OD/WS_Mdl\\models/NBr\\PoP\\Out\\NBr12\\MM-NBr12.qgz to C:/OD/WS_Mdl\\models/NBr\\PoP\\Out\\NBr13\\MM-NBr13.qgz.\n"
     ]
    }
   ],
   "source": [
    "os.makedirs(os.path.basename(Dst_path), exist_ok=True)    # Ensure destination folder exists\n",
    "shutil.copy(Src_path, Dst_path)         # Copy the file\n",
    "print(f\"Copied QGIS project from {Src_path} to {Dst_path}.\")"
   ]
  },
  {
   "cell_type": "code",
   "execution_count": 10,
   "metadata": {},
   "outputs": [],
   "source": [
    "import zipfile\n",
    "import xml.etree.ElementTree as ET"
   ]
  },
  {
   "cell_type": "code",
   "execution_count": 11,
   "metadata": {},
   "outputs": [],
   "source": [
    "DF_Up = pd.read_csv(os.path.join(d_paths['path_PoP_Out_MdlN'], f'MM_path_Up_{MdlN}.csv'))"
   ]
  },
  {
   "cell_type": "code",
   "execution_count": 12,
   "metadata": {},
   "outputs": [],
   "source": [
    "path_QGZ, path_QGZ_B = d_paths['path_MM'], d_paths['path_MM_B']"
   ]
  },
  {
   "cell_type": "code",
   "execution_count": 13,
   "metadata": {},
   "outputs": [],
   "source": [
    "# def Up_QGZ_paths(path_QGZ_B, path_QGZ, path_mapping):"
   ]
  },
  {
   "cell_type": "code",
   "execution_count": 14,
   "metadata": {},
   "outputs": [],
   "source": [
    "path_temp = os.path.join(os.path.dirname(path_QGZ), 'temp')\n",
    "os.makedirs(path_temp, exist_ok=True)\n",
    "\n",
    "with zipfile.ZipFile(path_QGZ_B, 'r') as zip_ref:     # Unzip .qgz\n",
    "    zip_ref.extractall(path_temp)"
   ]
  },
  {
   "cell_type": "code",
   "execution_count": 15,
   "metadata": {},
   "outputs": [],
   "source": [
    "path_QGS = os.path.join(path_temp, os.path.basename(path_QGZ_B).replace('.qgz', '.qgs'))\n",
    "tree = ET.parse(path_QGS)\n",
    "root = tree.getroot()"
   ]
  },
  {
   "cell_type": "code",
   "execution_count": 16,
   "metadata": {},
   "outputs": [
    {
     "data": {
      "application/vnd.microsoft.datawrangler.viewer.v0+json": {
       "columns": [
        {
         "name": "index",
         "rawType": "int64",
         "type": "integer"
        },
        {
         "name": "B",
         "rawType": "object",
         "type": "string"
        },
        {
         "name": "S",
         "rawType": "object",
         "type": "string"
        }
       ],
       "ref": "a4141821-ca0c-44fd-9cee-61a18fbf4fcc",
       "rows": [
        [
         "0",
         "C:/OD/WS_Mdl\\models\\NBr\\In\\RIV\\RIV_Stg_Detailwatergangen_NBr1.IDF",
         "C:/OD/WS_Mdl\\models\\NBr\\In\\RIV\\NBr13\\RIV_Stg_winter_NBr13.IDF"
        ],
        [
         "1",
         "C:/OD/WS_Mdl\\models\\NBr\\In\\RIV\\RIV_Stg_winter_NBr1.IDF",
         "C:/OD/WS_Mdl\\models\\NBr\\In\\RIV\\NBr13\\RIV_Stg_winter_NBr13.IDF"
        ],
        [
         "2",
         "C:/OD/WS_Mdl\\models\\NBr\\In\\RIV\\RIV_Stg_summer_NBr1.IDF",
         "C:/OD/WS_Mdl\\models\\NBr\\In\\RIV\\NBr13\\RIV_Stg_summer_NBr13.IDF"
        ],
        [
         "3",
         "C:/OD/WS_Mdl\\models\\NBr\\In\\RIV\\RIV_Stg_Maas_NBr1.IDF",
         "C:/OD/WS_Mdl\\models\\NBr\\In\\RIV\\NBr13\\RIV_Stg_winter_NBr13.IDF"
        ],
        [
         "4",
         "C:/OD/WS_Mdl\\models\\NBr\\In\\RIV\\RIV_Stg_Polderpeil_summer_NBr1.IDF",
         "C:/OD/WS_Mdl\\models\\NBr\\In\\RIV\\NBr13\\RIV_Stg_summer_NBr13.IDF"
        ]
       ],
       "shape": {
        "columns": 2,
        "rows": 5
       }
      },
      "text/html": [
       "<div>\n",
       "<style scoped>\n",
       "    .dataframe tbody tr th:only-of-type {\n",
       "        vertical-align: middle;\n",
       "    }\n",
       "\n",
       "    .dataframe tbody tr th {\n",
       "        vertical-align: top;\n",
       "    }\n",
       "\n",
       "    .dataframe thead th {\n",
       "        text-align: right;\n",
       "    }\n",
       "</style>\n",
       "<table border=\"1\" class=\"dataframe\">\n",
       "  <thead>\n",
       "    <tr style=\"text-align: right;\">\n",
       "      <th></th>\n",
       "      <th>B</th>\n",
       "      <th>S</th>\n",
       "    </tr>\n",
       "  </thead>\n",
       "  <tbody>\n",
       "    <tr>\n",
       "      <th>0</th>\n",
       "      <td>C:/OD/WS_Mdl\\models\\NBr\\In\\RIV\\RIV_Stg_Detailw...</td>\n",
       "      <td>C:/OD/WS_Mdl\\models\\NBr\\In\\RIV\\NBr13\\RIV_Stg_w...</td>\n",
       "    </tr>\n",
       "    <tr>\n",
       "      <th>1</th>\n",
       "      <td>C:/OD/WS_Mdl\\models\\NBr\\In\\RIV\\RIV_Stg_winter_...</td>\n",
       "      <td>C:/OD/WS_Mdl\\models\\NBr\\In\\RIV\\NBr13\\RIV_Stg_w...</td>\n",
       "    </tr>\n",
       "    <tr>\n",
       "      <th>2</th>\n",
       "      <td>C:/OD/WS_Mdl\\models\\NBr\\In\\RIV\\RIV_Stg_summer_...</td>\n",
       "      <td>C:/OD/WS_Mdl\\models\\NBr\\In\\RIV\\NBr13\\RIV_Stg_s...</td>\n",
       "    </tr>\n",
       "    <tr>\n",
       "      <th>3</th>\n",
       "      <td>C:/OD/WS_Mdl\\models\\NBr\\In\\RIV\\RIV_Stg_Maas_NB...</td>\n",
       "      <td>C:/OD/WS_Mdl\\models\\NBr\\In\\RIV\\NBr13\\RIV_Stg_w...</td>\n",
       "    </tr>\n",
       "    <tr>\n",
       "      <th>4</th>\n",
       "      <td>C:/OD/WS_Mdl\\models\\NBr\\In\\RIV\\RIV_Stg_Polderp...</td>\n",
       "      <td>C:/OD/WS_Mdl\\models\\NBr\\In\\RIV\\NBr13\\RIV_Stg_s...</td>\n",
       "    </tr>\n",
       "  </tbody>\n",
       "</table>\n",
       "</div>"
      ],
      "text/plain": [
       "                                                   B  \\\n",
       "0  C:/OD/WS_Mdl\\models\\NBr\\In\\RIV\\RIV_Stg_Detailw...   \n",
       "1  C:/OD/WS_Mdl\\models\\NBr\\In\\RIV\\RIV_Stg_winter_...   \n",
       "2  C:/OD/WS_Mdl\\models\\NBr\\In\\RIV\\RIV_Stg_summer_...   \n",
       "3  C:/OD/WS_Mdl\\models\\NBr\\In\\RIV\\RIV_Stg_Maas_NB...   \n",
       "4  C:/OD/WS_Mdl\\models\\NBr\\In\\RIV\\RIV_Stg_Polderp...   \n",
       "\n",
       "                                                   S  \n",
       "0  C:/OD/WS_Mdl\\models\\NBr\\In\\RIV\\NBr13\\RIV_Stg_w...  \n",
       "1  C:/OD/WS_Mdl\\models\\NBr\\In\\RIV\\NBr13\\RIV_Stg_w...  \n",
       "2  C:/OD/WS_Mdl\\models\\NBr\\In\\RIV\\NBr13\\RIV_Stg_s...  \n",
       "3  C:/OD/WS_Mdl\\models\\NBr\\In\\RIV\\NBr13\\RIV_Stg_w...  \n",
       "4  C:/OD/WS_Mdl\\models\\NBr\\In\\RIV\\NBr13\\RIV_Stg_s...  "
      ]
     },
     "execution_count": 16,
     "metadata": {},
     "output_type": "execute_result"
    }
   ],
   "source": [
    "DF_Up"
   ]
  },
  {
   "cell_type": "code",
   "execution_count": 95,
   "metadata": {},
   "outputs": [],
   "source": [
    "x = DF_Up['B'].iloc[0]"
   ]
  },
  {
   "cell_type": "code",
   "execution_count": 105,
   "metadata": {},
   "outputs": [
    {
     "data": {
      "text/plain": [
       "('RIV_Stg_Detailwatergangen', 'NBr1')"
      ]
     },
     "execution_count": 105,
     "metadata": {},
     "output_type": "execute_result"
    }
   ],
   "source": [
    "l_ = os.path.splitext(os.path.basename(x))[0].split(f'_{Mdl}')\n",
    "Par_TIF, TIF_MdlN = l_[0], Mdl + l_[1]\n",
    "Par_TIF, TIF_MdlN"
   ]
  },
  {
   "cell_type": "code",
   "execution_count": 106,
   "metadata": {},
   "outputs": [
    {
     "data": {
      "text/plain": [
       "dict_keys(['Mdl', 'MdlN_B', 'path_Mdl', 'path_INI', 'path_BAT', 'path_PRJ', 'path_Smk', 'path_MdlN', 'path_Out_HD', 'path_PoP', 'path_PoP_Out_MdlN', 'path_MM', 'path_INI_B', 'path_BAT_B', 'path_PRJ_B', 'path_Smk_B', 'path_MdlN_B', 'path_Out_HD_B', 'path_PoP_Out_MdlN_B', 'path_MM_B'])"
      ]
     },
     "execution_count": 106,
     "metadata": {},
     "output_type": "execute_result"
    }
   ],
   "source": [
    "d_paths.keys()"
   ]
  },
  {
   "cell_type": "code",
   "execution_count": null,
   "metadata": {},
   "outputs": [
    {
     "data": {
      "text/plain": [
       "'C:/OD/WS_Mdl\\\\models/NBr\\\\PoP'"
      ]
     },
     "execution_count": 107,
     "metadata": {},
     "output_type": "execute_result"
    }
   ],
   "source": [
    "os.path.join(d_paths['path_PoP'], 'In', "
   ]
  },
  {
   "cell_type": "code",
   "execution_count": null,
   "metadata": {},
   "outputs": [],
   "source": [
    "final = da"
   ]
  },
  {
   "cell_type": "code",
   "execution_count": 19,
   "metadata": {},
   "outputs": [
    {
     "name": "stdout",
     "output_type": "stream",
     "text": [
      "None\n",
      "../../../../../../GIS/DutchWaterSystem/Shp/4_DataPacks/Hydrography/Hydrography.gml|layername=Crossing|geometrytype=LineString25D\n",
      "../../../../../../GIS/DutchWaterSystem/Shp/4_DataPacks/Hydrography/Hydrography.gml|layername=Crossing|geometrytype=Point25D\n",
      "../../In/DRN/NBr1/DRN_Cond_MV_25M_MODEL_NBr1.tif\n",
      "../../In/DRN/NBr1/DRN_Cond_ONTWATERING_BELGIE_NBr1.tif\n",
      "../../In/DRN/NBr1/DRN_Cond_buis_NBr1.tif\n",
      "../../In/DRN/NBr1/DRN_Elv_BELGIE_NBr1.tif\n",
      "../../In/DRN/NBr1/DRN_Elv_MV_25M_NBr1.tif\n",
      "../../In/DRN/NBr1/DRN_Elv_buis_NBr1.tif\n",
      "../../../../../../GIS/DutchWaterSystem/Shp/4_DataPacks/Hydrography/Hydrography.gml|layername=DamOrWeir\n",
      "../../../../../../GIS/DutchWaterSystem/Shp/4_DataPacks/Hydrography/Hydrography.gml|layername=DrainageBasin\n",
      "../../../../../../GIS/DutchWaterSystem/Shp/4_DataPacks/Hydrography/Hydrography.gml|layername=Embankment\n",
      "crs=EPSG:3857&format&type=xyz&url=https://services.arcgisonline.com/ArcGIS/rest/services/World_Imagery/MapServer/tile/%7Bz%7D/%7By%7D/%7Bx%7D&zmax=18&zmin=0\n",
      "../../../../../../GIS/DutchWaterSystem/Shp/4_DataPacks/Hydrography/Hydrography.gml|layername=Lock\n",
      "../../../../../../GIS/DutchWaterSystem/Shp/3_Plg/NationalPark/natpark.gpkg|layername=natpark\n",
      "crs=EPSG:3857&format&type=xyz&url=http://tile.openstreetmap.org/%7Bz%7D/%7Bx%7D/%7By%7D.png&zmax=19&zmin=0\n",
      "crs=EPSG:3857&format&type=xyz&url=http://tile.openstreetmap.org/%7Bz%7D/%7Bx%7D/%7By%7D.png&zmax=19&zmin=0\n",
      "../../common/Pgn/Chaamse_beek/Mdl_window_NBr5.gpkg|layername=Mdl_window_NBr5\n",
      "../../In/RIV/NBr1/RIV_Bot_Maas_NBr1.tif\n",
      "../../In/RIV/NBr1/RIV_Bot_RIVER_RIVER_BOTTOM_NBr1.tif\n",
      "../../In/RIV/NBr1/RIV_Bot_polderpeil_NBr1.tif\n",
      "../../In/RIV/NBr1/RIV_Cond_DETAILWATERGANGEN_NBr1.tif\n",
      "../../In/RIV/NBr1/RIV_Cond_DRN_NBr1.tif\n",
      "../../In/RIV/NBr1/RIV_Cond_Maas_NBr1.tif\n",
      "../../In/RIV/NBr1/RIV_Cond_Polderpeil_NBr1.tif\n",
      "../../In/RIV/NBr1/RIV_Cond_RIV_NBr1.tif\n",
      "../../In/RIV/NBr1/RIV_Stg_Detailwatergangen_NBr1.tif\n",
      "../../In/RIV/NBr1/RIV_Stg_Maas_NBr1.tif\n",
      "../../In/RIV/NBr1/RIV_Stg_Polderpeil_summer_NBr1.tif\n",
      "../../In/RIV/NBr1/RIV_Stg_summer_NBr1.tif\n",
      "../../In/RIV/NBr1/RIV_Stg_winter_NBr1.tif\n",
      "../../../../../../GIS/DutchWaterSystem/Shp/4_DataPacks/Hydrography/Hydrography.gml|layername=Sluice\n",
      "../../Clc_In/T/NBr1/T_NBr1.tif\n",
      "../../Clc_In/Thk/NBr1/Thk_NBr1.tif\n",
      "../../In/WEL/NBr1/WEL_Br_Wa_T_NBr1.gpkg|layername=WEL_Br_Wa_T_NBr1\n",
      "../../In/WEL/NBr1/WEL_Ind_Aa_and_Maas_T_NBr1.gpkg|layername=WEL_Ind_Aa_and_Maas_T_NBr1\n",
      "../../In/WEL/NBr1/WEL_Ind_Br_T_NBr1.gpkg|layername=WEL_Ind_Br_T_NBr1\n",
      "../../../../../../GIS/DutchWaterSystem/Shp/3_Plg/WaterschappenAdminEenheden/administrativeunit.gml|layername=AdministrativeUnit\n",
      "../../../../../../GIS/DutchWaterSystem/Shp/4_DataPacks/Hydrography/Hydrography.gml|layername=Watercourse\n",
      "../../In/CAP/NBr1/CAP_artificial_recharge_NBr1.tif\n",
      "../../In/CAP/NBr1/CAP_artificial_recharge_layer_NBr1.tif\n",
      "../../In/BOT/NBr1/BOT_bottom_NBr1.tif\n",
      "../../In/CAP/NBr1/CAP_boundary_NBr1.tif\n",
      "../../common/Pgn/Chaamse_beek/catchment_chaamsebeek_ulvenhout.shp\n",
      "../../../../../../GIS/DutchWaterSystem/Shp/3_Plg/AdministartiveAreas/NL_AdminAas.gpkg|layername=gemeentegebied\n",
      "../../In/SHD/NBr1/SHD_head_NBr1.tif\n",
      "../../In/BND/NBr1/BND_ibound_NBr1.tif\n",
      "../../In/OBS/ijkset_selectie_Mdl_Aa_NBr7.gpkg\n",
      "../../In/KHV/NBr1/KHV_kh_NBr1.tif\n",
      "../../../../../../GIS/DutchWaterSystem/Shp/3_Plg/AdministartiveAreas/NL_AdminAas.gpkg|layername=landgebied\n",
      "../../In/CAP/NBr1/CAP_landuse_NBr1.tif\n",
      "../../In/CAP/NBr1/CAP_meteo_station_number_NBr1.tif\n",
      "../../../../../../GIS/DutchWaterSystem/Shp/3_Plg/Natura2000/natura2000.gpkg|layername=n2000\n",
      "../../../../../../GIS/DutchWaterSystem/Shp/2_Ln/NaErth_RivLk_Centerlines/ne_10m_rivers_europe.shp\n",
      "../../../../../../GIS/DutchWaterSystem/Shp/2_Ln/NaErth_RivLk_Centerlines/ne_10m_rivers_lake_centerlines.shp\n",
      "../../../../../../GIS/DutchWaterSystem/Shp/3_Plg/AdministartiveAreas/NL_AdminAas.gpkg|layername=provinciegebied\n",
      "../../In/CAP/NBr1/CAP_rootzone_thickness_NBr1.tif\n",
      "../../In/CAP/NBr1/CAP_soil_physical_unit_NBr1.tif\n",
      "../../In/CAP/NBr1/CAP_surface_elevation_NBr1.tif\n",
      "../../In/TOP/NBr1/TOP_top_NBr1.tif\n",
      "../../In/CAP/NBr1/CAP_urban_area_NBr1.tif\n",
      "../../In/CAP/NBr1/CAP_wetted_area_NBr1.tif\n"
     ]
    }
   ],
   "source": [
    "for DS in root.iter('datasource'):                  # Update datasource paths\n",
    "    path_DS = DS.text\n",
    "    print(path_DS)\n",
    "    # for i, (B, S) in DF_Up.iterrows():\n",
    "    #     print(path_DS, B, S, sep='\\n')\n",
    "        # if old in old_path:   \n",
    "        #     datasource.text = old_path.replace(old, new)\n",
    "        #     break\n",
    "    # print(f'{\"-\"*50}\\n')"
   ]
  },
  {
   "cell_type": "code",
   "execution_count": null,
   "metadata": {},
   "outputs": [],
   "source": [
    "# Save the modified .qgs file\n",
    "tree.write(qgs_path, encoding='utf-8', xml_declaration=True)\n",
    "\n",
    "# Zip back into .qgz\n",
    "with zipfile.ZipFile(output_path, 'w', zipfile.ZIP_DEFLATED) as zipf:\n",
    "    for foldername, _, filenames in os.walk(temp_dir):\n",
    "        for filename in filenames:\n",
    "            filepath = os.path.join(foldername, filename)\n",
    "            arcname = os.path.relpath(filepath, temp_dir)\n",
    "            zipf.write(filepath, arcname)\n",
    "\n",
    "shutil.rmtree(temp_dir)"
   ]
  },
  {
   "cell_type": "code",
   "execution_count": null,
   "metadata": {},
   "outputs": [],
   "source": [
    "# Example usage\n",
    "update_layer_paths(\n",
    "    qgz_path='example.qgz',\n",
    "    output_path='updated_project.qgz',\n",
    "    path_mapping={\n",
    "        '/old/path/': '/new/path/'\n",
    "    }\n",
    ")\n"
   ]
  },
  {
   "cell_type": "markdown",
   "metadata": {},
   "source": [
    "---"
   ]
  },
  {
   "cell_type": "code",
   "execution_count": null,
   "metadata": {},
   "outputs": [],
   "source": [
    "stop"
   ]
  },
  {
   "cell_type": "code",
   "execution_count": 61,
   "metadata": {},
   "outputs": [],
   "source": [
    "import imod\n",
    "import re"
   ]
  },
  {
   "cell_type": "code",
   "execution_count": 59,
   "metadata": {},
   "outputs": [
    {
     "name": "stdout",
     "output_type": "stream",
     "text": [
      "✅ - NBr13 paths extracted from RunLog and returned as dictionary with keys:\n",
      "Mdl, MdlN_B, path_Mdl, path_INI, path_BAT, path_PRJ, path_Smk, path_MdlN, path_Out_HD, path_PoP, path_PoP_Out_MdlN, path_MM, path_INI_B, path_BAT_B, path_PRJ_B, path_Smk_B, path_MdlN_B, path_Out_HD_B, path_PoP_Out_MdlN_B, path_MM_B\n",
      "✅ - INI file C:/OD/WS_Mdl\\models/NBr\\code/Mdl_Prep/Mdl_Prep_NBr13.ini read successfully. Dictionary created with 21 keys.\n",
      "✅ - model dimensions extracted from C:/OD/WS_Mdl\\models/NBr\\code/Mdl_Prep/Mdl_Prep_NBr13.ini.\n",
      "✅ - NBr13 paths extracted from RunLog and returned as dictionary with keys:\n",
      "Mdl, MdlN_B, path_Mdl, path_INI, path_BAT, path_PRJ, path_Smk, path_MdlN, path_Out_HD, path_PoP, path_PoP_Out_MdlN, path_MM, path_INI_B, path_BAT_B, path_PRJ_B, path_Smk_B, path_MdlN_B, path_Out_HD_B, path_PoP_Out_MdlN_B, path_MM_B\n",
      " --- Reading PRJ Packages into DF ---\n",
      "\t(cap)  \t...\t✓\n",
      "\textra  \t...\t❌\n",
      "\t(bnd)  \t...\t✓\n",
      "\t(top)  \t...\t✓\n",
      "\t(bot)  \t...\t✓\n",
      "\t(khv)  \t...\t✓\n",
      "\t(kva)  \t...\t✓\n",
      "\t(shd)  \t...\t✓\n",
      "\t(sto)  \t...\t✓\n",
      "\t(spy)  \t...\t✓\n",
      "\t(hfb)  \t...\t✓\n",
      "\t(drn)  \t...\t✓\n",
      "\t(riv)  \t...\t✓\n",
      "\t(wel)  \t...\t✓\n",
      "\t(pcg)  \t...\t❌\n",
      "\t(chd)  \t...\t✓\n",
      "\tperiods\t...\t❌\n",
      "\tspecies\t...\t❌\n",
      " --- Success! ---\n",
      " ----------------------------------------------------------------------------------------------------\n",
      "✅ - NBr13 paths extracted from RunLog and returned as dictionary with keys:\n",
      "Mdl, MdlN_B, path_Mdl, path_INI, path_BAT, path_PRJ, path_Smk, path_MdlN, path_Out_HD, path_PoP, path_PoP_Out_MdlN, path_MM, path_INI_B, path_BAT_B, path_PRJ_B, path_Smk_B, path_MdlN_B, path_Out_HD_B, path_PoP_Out_MdlN_B, path_MM_B\n",
      " --- Reading PRJ Packages into DF ---\n",
      "\t(cap)  \t...\t✓\n",
      "\textra  \t...\t❌\n",
      "\t(bnd)  \t...\t✓\n",
      "\t(top)  \t...\t✓\n",
      "\t(bot)  \t...\t✓\n",
      "\t(khv)  \t...\t✓\n",
      "\t(kva)  \t...\t✓\n",
      "\t(shd)  \t...\t✓\n",
      "\t(sto)  \t...\t✓\n",
      "\t(spy)  \t...\t✓\n",
      "\t(hfb)  \t...\t✓\n",
      "\t(drn)  \t...\t✓\n",
      "\t(riv)  \t...\t✓\n",
      "\t(wel)  \t...\t✓\n",
      "\t(pcg)  \t...\t❌\n",
      "\t(chd)  \t...\t✓\n",
      "\tperiods\t...\t❌\n",
      "\tspecies\t...\t❌\n",
      " --- Success! ---\n",
      " ----------------------------------------------------------------------------------------------------\n"
     ]
    }
   ],
   "source": [
    "# -------------------- Initiate ------------------------------------------------------------------------------------------\n",
    "d_paths = U.get_MdlN_paths(MdlN)                                                        # Get paths\n",
    "Xmin, Ymin, Xmax, Ymax, cellsize, N_R, N_C = U.Mdl_Dmns_from_INI(d_paths['path_INI'])   # Get dimensions\n",
    "\n",
    "MdlN_B = d_paths['MdlN_B']\n",
    "path_Up = os.path.join(d_paths['path_PoP_Out_MdlN'], f'MM_path_Up_{MdlN}.csv')\n",
    "if not os.path.exists(path_Up):\n",
    "    os.makedirs(os.path.dirname(path_Up), exist_ok=True)\n",
    "DF_Up = pd.read_csv(path_Up)    # DF to store QGIS path changes\n",
    "\n",
    "DF = UIM.PRJ_to_DF(MdlN) # Read PRJ file to DF\n",
    "DF_B = UIM.PRJ_to_DF(MdlN) # Read B_ PRJ file to DF"
   ]
  },
  {
   "cell_type": "code",
   "execution_count": 68,
   "metadata": {},
   "outputs": [
    {
     "name": "stdout",
     "output_type": "stream",
     "text": [
      "\n",
      " --- Converting time dependant packages ---\n"
     ]
    }
   ],
   "source": [
    "# -------------------- Process time-dependent packages (RIV, DRN, WEL) --------------------\n",
    "## RIV & DRN\n",
    "print(f'\\n --- Converting time dependant packages ---')\n",
    "rule_time =  ( DF[\"time\"].notna() ) & ( DF[\"time\"]!='-'    ) & ( DF['path'].notna() )\n",
    "DF_time = DF[rule_time] # Non time packages have NaN in 'time' Fld. Failed packages have '-', so they'll also be excluded.         \n",
    "DF_time_B = DF_B[rule_time] "
   ]
  },
  {
   "cell_type": "code",
   "execution_count": 65,
   "metadata": {},
   "outputs": [
    {
     "name": "stdout",
     "output_type": "stream",
     "text": [
      "\tDRN_conductance                ... ❌ - DRN_Cond_buis_NBr1.tif already exists. Skipping.\n",
      "\tDRN_conductance                ... ❌ - DRN_Cond_MV_25M_MODEL_NBr1.tif already exists. Skipping.\n",
      "\tDRN_conductance                ... ❌ - DRN_Cond_ONTWATERING_BELGIE_NBr1.tif already exists. Skipping.\n",
      "\tDRN_conductance                ... ❌ - DRN_Cond_buis_NBr1.tif already exists. Skipping.\n",
      "\tDRN_conductance                ... ❌ - DRN_Cond_MV_25M_MODEL_NBr1.tif already exists. Skipping.\n",
      "\tDRN_conductance                ... ❌ - DRN_Cond_ONTWATERING_BELGIE_NBr1.tif already exists. Skipping.\n",
      "\tDRN_elevation                  ... ❌ - DRN_Elv_buis_NBr1.tif already exists. Skipping.\n",
      "\tDRN_elevation                  ... ❌ - DRN_Elv_MV_25M_NBr1.tif already exists. Skipping.\n",
      "\tDRN_elevation                  ... ❌ - DRN_Elv_BELGIE_NBr1.tif already exists. Skipping.\n",
      "\tDRN_elevation                  ... ❌ - DRN_Elv_buis_NBr1.tif already exists. Skipping.\n",
      "\tDRN_elevation                  ... ❌ - DRN_Elv_MV_25M_NBr1.tif already exists. Skipping.\n",
      "\tDRN_elevation                  ... ❌ - DRN_Elv_BELGIE_NBr1.tif already exists. Skipping.\n",
      "\tRIV_conductance                ... ❌ - RIV_Cond_DETAILWATERGANGEN_NBr1.tif already exists. Skipping.\n",
      "\tRIV_conductance                ... ❌ - RIV_Cond_RIV_NBr1.tif already exists. Skipping.\n",
      "\tRIV_conductance                ... ❌ - RIV_Cond_DRN_NBr1.tif already exists. Skipping.\n",
      "\tRIV_conductance                ... ❌ - RIV_Cond_Maas_NBr1.tif already exists. Skipping.\n",
      "\tRIV_conductance                ... ❌ - RIV_Cond_Polderpeil_NBr1.tif already exists. Skipping.\n",
      "\tRIV_conductance                ... ❌ - RIV_Cond_DETAILWATERGANGEN_NBr1.tif already exists. Skipping.\n",
      "\tRIV_conductance                ... ❌ - RIV_Cond_RIV_NBr1.tif already exists. Skipping.\n",
      "\tRIV_conductance                ... ❌ - RIV_Cond_DRN_NBr1.tif already exists. Skipping.\n",
      "\tRIV_conductance                ... ❌ - RIV_Cond_Maas_NBr1.tif already exists. Skipping.\n",
      "\tRIV_conductance                ... ❌ - RIV_Cond_Polderpeil_NBr1.tif already exists. Skipping.\n",
      "\tRIV_conductance                ... ❌ - RIV_Cond_DETAILWATERGANGEN_NBr1.tif already exists. Skipping.\n",
      "\tRIV_conductance                ... ❌ - RIV_Cond_RIV_NBr1.tif already exists. Skipping.\n",
      "\tRIV_conductance                ... ❌ - RIV_Cond_DRN_NBr1.tif already exists. Skipping.\n",
      "\tRIV_conductance                ... ❌ - RIV_Cond_Maas_NBr1.tif already exists. Skipping.\n",
      "\tRIV_conductance                ... ❌ - RIV_Cond_Polderpeil_NBr1.tif already exists. Skipping.\n",
      "\tRIV_stage                      ... ✓ - IDF converted to TIF - single-band without L attribute\n",
      "\tRIV_stage                      ... ✓ - IDF converted to TIF - single-band without L attribute\n",
      "\tRIV_stage                      ... ✓ - IDF converted to TIF - single-band without L attribute\n",
      "\tRIV_stage                      ... ✓ - IDF converted to TIF - single-band without L attribute\n",
      "\tRIV_stage                      ... ✓ - IDF converted to TIF - single-band without L attribute\n",
      "\tRIV_stage                      ... ✓ - IDF converted to TIF - single-band without L attribute\n",
      "\tRIV_stage                      ... ✓ - IDF converted to TIF - single-band without L attribute\n",
      "\tRIV_stage                      ... ✓ - IDF converted to TIF - single-band without L attribute\n",
      "\tRIV_stage                      ... ✓ - IDF converted to TIF - single-band without L attribute\n",
      "\tRIV_stage                      ... ✓ - IDF converted to TIF - single-band without L attribute\n",
      "\tRIV_stage                      ... ✓ - IDF converted to TIF - single-band without L attribute\n",
      "\tRIV_stage                      ... ✓ - IDF converted to TIF - single-band without L attribute\n",
      "\tRIV_stage                      ... ✓ - IDF converted to TIF - single-band without L attribute\n",
      "\tRIV_stage                      ... ✓ - IDF converted to TIF - single-band without L attribute\n",
      "\tRIV_stage                      ... ✓ - IDF converted to TIF - single-band without L attribute\n",
      "\tRIV_bottom_elevation           ... ✓ - IDF converted to TIF - single-band without L attribute\n",
      "\tRIV_bottom_elevation           ... ❌ - RIV_Bot_RIVER_RIVER_BOTTOM_NBr1.tif already exists. Skipping.\n",
      "\tRIV_bottom_elevation           ... ✓ - IDF converted to TIF - single-band without L attribute\n",
      "\tRIV_bottom_elevation           ... ❌ - RIV_Bot_Maas_NBr1.tif already exists. Skipping.\n",
      "\tRIV_bottom_elevation           ... ❌ - RIV_Bot_polderpeil_NBr1.tif already exists. Skipping.\n",
      "\tRIV_bottom_elevation           ... ✓ - IDF converted to TIF - single-band without L attribute\n",
      "\tRIV_bottom_elevation           ... ❌ - RIV_Bot_RIVER_RIVER_BOTTOM_NBr1.tif already exists. Skipping.\n",
      "\tRIV_bottom_elevation           ... ✓ - IDF converted to TIF - single-band without L attribute\n",
      "\tRIV_bottom_elevation           ... ❌ - RIV_Bot_Maas_NBr1.tif already exists. Skipping.\n",
      "\tRIV_bottom_elevation           ... ❌ - RIV_Bot_polderpeil_NBr1.tif already exists. Skipping.\n",
      "\tRIV_bottom_elevation           ... ✓ - IDF converted to TIF - single-band without L attribute\n",
      "\tRIV_bottom_elevation           ... ❌ - RIV_Bot_RIVER_RIVER_BOTTOM_NBr1.tif already exists. Skipping.\n",
      "\tRIV_bottom_elevation           ... ✓ - IDF converted to TIF - single-band without L attribute\n",
      "\tRIV_bottom_elevation           ... ❌ - RIV_Bot_Maas_NBr1.tif already exists. Skipping.\n",
      "\tRIV_bottom_elevation           ... ❌ - RIV_Bot_polderpeil_NBr1.tif already exists. Skipping.\n"
     ]
    }
   ],
   "source": [
    "for i, R in DF_time[DF_time['package'].isin(('DRN', 'RIV'))].iterrows():\n",
    "    print(f\"\\t{f\"{R['package']}_{R['parameter']}\":<30} ... \", end='')\n",
    "\n",
    "    path_TIF = os.path.join(d_paths['path_Mdl'], 'PoP', 'In', R['package'], R['MdlN'], os.path.basename(re.sub(r'\\.idf$', '.tif', R['path'], flags=re.IGNORECASE)))  # Full path to TIF file\n",
    "    \n",
    "    if os.path.exists(path_TIF):\n",
    "        print(f'\\u274C - {os.path.basename(path_TIF)} already exists. Skipping.')\n",
    "        continue\n",
    "    else:\n",
    "        try:    \n",
    "            os.makedirs(os.path.dirname(path_TIF), exist_ok=True) # Make sure the directory exists\n",
    "\n",
    "            ## Build a dictionary mapping each band’s name to its row’s metadata.\n",
    "            d_MtDt = {f\"{R['parameter']}_L{R['layer']}_{R['MdlN']}\" : {('origin_path' if col == 'path' else col): str(val) for col, val in R.items()}}\n",
    "\n",
    "            DA = imod.formats.idf.open(R['path'], pattern=f'{{name}}_{Mdl}').sel(x=slice(Xmin, Xmax), y=slice(Ymax, Ymin))\n",
    "            # DA_to_TIF(DA.squeeze(drop=True), path_TIF, d_MtDt) # .squeeze cause 2D arrays have extra dimension with size 1 sometimes.\n",
    "            print(f'\\u2713 - IDF converted to TIF - single-band without L attribute')\n",
    "\n",
    "            path_TIF_B = path_TIF\n",
    "        except Exception as e:\n",
    "            print(f\"\\u274C - Error: {e}\")"
   ]
  },
  {
   "cell_type": "code",
   "execution_count": 126,
   "metadata": {},
   "outputs": [],
   "source": [
    "S = DF_B.loc[DF_B.index==R.name].squeeze()"
   ]
  },
  {
   "cell_type": "code",
   "execution_count": 132,
   "metadata": {},
   "outputs": [
    {
     "data": {
      "text/plain": [
       "('RIV_Bot_polderpeil', 'NBr1')"
      ]
     },
     "execution_count": 132,
     "metadata": {},
     "output_type": "execute_result"
    }
   ],
   "source": [
    "l_ = os.path.splitext(os.path.basename(S['path']))[0].split(f'_{Mdl}')\n",
    "Par_TIF, MdlN_TIF = l_[0], Mdl + l_[1]\n",
    "Par_TIF, MdlN_TIF"
   ]
  },
  {
   "cell_type": "code",
   "execution_count": 130,
   "metadata": {},
   "outputs": [
    {
     "data": {
      "application/vnd.microsoft.datawrangler.viewer.v0+json": {
       "columns": [
        {
         "name": "index",
         "rawType": "object",
         "type": "string"
        },
        {
         "name": "(RIV)_bottom_elevation_Sys5_summer",
         "rawType": "object",
         "type": "unknown"
        }
       ],
       "ref": "031a811b-242e-4df2-98a7-3b5fd19b8a3c",
       "rows": [
        [
         "package",
         "RIV"
        ],
        [
         "parameter",
         "bottom_elevation"
        ],
        [
         "MdlN",
         "NBr1"
        ],
        [
         "time",
         "summer"
        ],
        [
         "active",
         "True"
        ],
        [
         "is_constant",
         "2"
        ],
        [
         "layer",
         "0"
        ],
        [
         "factor",
         "1.0"
        ],
        [
         "addition",
         "0.0"
        ],
        [
         "constant",
         "-999.99"
        ],
        [
         "suffix",
         ".idf"
        ],
        [
         "path",
         "C:/OD/WS_Mdl\\models\\NBr\\In\\RIV\\RIV_Bot_polderpeil_NBr1.IDF"
        ]
       ],
       "shape": {
        "columns": 1,
        "rows": 12
       }
      },
      "text/plain": [
       "package                                                      RIV\n",
       "parameter                                       bottom_elevation\n",
       "MdlN                                                        NBr1\n",
       "time                                                      summer\n",
       "active                                                      True\n",
       "is_constant                                                    2\n",
       "layer                                                          0\n",
       "factor                                                       1.0\n",
       "addition                                                     0.0\n",
       "constant                                                 -999.99\n",
       "suffix                                                      .idf\n",
       "path           C:/OD/WS_Mdl\\models\\NBr\\In\\RIV\\RIV_Bot_polderp...\n",
       "Name: (RIV)_bottom_elevation_Sys5_summer, dtype: object"
      ]
     },
     "execution_count": 130,
     "metadata": {},
     "output_type": "execute_result"
    }
   ],
   "source": [
    "S"
   ]
  },
  {
   "cell_type": "code",
   "execution_count": 133,
   "metadata": {},
   "outputs": [
    {
     "data": {
      "text/plain": [
       "'C:/OD/WS_Mdl\\\\models/NBr\\\\PoP\\\\In\\\\RIV\\\\NBr1\\\\RIV_Bot_polderpeil_NBr1.tif'"
      ]
     },
     "execution_count": 133,
     "metadata": {},
     "output_type": "execute_result"
    }
   ],
   "source": [
    "path_TIF = os.path.join(d_paths['path_PoP'], 'In', S.loc['package'], MdlN_TIF, f'{Par_TIF}_{MdlN_TIF}.tif')\n",
    "path_TIF"
   ]
  },
  {
   "cell_type": "code",
   "execution_count": null,
   "metadata": {},
   "outputs": [],
   "source": []
  }
 ],
 "metadata": {
  "kernelspec": {
   "display_name": "WS",
   "language": "python",
   "name": "python3"
  },
  "language_info": {
   "codemirror_mode": {
    "name": "ipython",
    "version": 3
   },
   "file_extension": ".py",
   "mimetype": "text/x-python",
   "name": "python",
   "nbconvert_exporter": "python",
   "pygments_lexer": "ipython3",
   "version": "3.12.8"
  }
 },
 "nbformat": 4,
 "nbformat_minor": 2
}
