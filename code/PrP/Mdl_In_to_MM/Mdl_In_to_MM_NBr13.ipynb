{
 "cells": [
  {
   "cell_type": "markdown",
   "metadata": {},
   "source": [
    "<span style=\"font-size:24px; font-family:'Roboto'; font-weight:bold;\">\n",
    "Script to visualize iMOD inputs in QGIS.\n",
    "</span><br>"
   ]
  },
  {
   "cell_type": "code",
   "execution_count": 1,
   "metadata": {},
   "outputs": [
    {
     "name": "stdout",
     "output_type": "stream",
     "text": [
      "\u001b[1m************************************************** Mdl_In_to_mm **************************************************\u001b[0m\n",
      "This script converts model inputs (mainly IDF) to TIF files, to be visualized in QGIS. It also calculates some parameters from Mdl Ins (e.g.) Aquifer layer thickness is calculated from TOP-BOT (same as MF does internally).\n"
     ]
    }
   ],
   "source": [
    "print(f\"\\033[1m{'*'*50} Mdl_In_to_mm {'*'*50}\\033[0m\")\n",
    "print('This script converts model inputs (mainly IDF) to TIF files, to be visualized in QGIS. It also calculates some parameters from Mdl Ins (e.g.) Aquifer layer thickness is calculated from TOP-BOT (same as MF does internally).')"
   ]
  },
  {
   "cell_type": "markdown",
   "metadata": {},
   "source": [
    "# Prep"
   ]
  },
  {
   "cell_type": "markdown",
   "metadata": {},
   "source": [
    "## 0.0. Libraries"
   ]
  },
  {
   "cell_type": "code",
   "execution_count": 2,
   "metadata": {},
   "outputs": [],
   "source": [
    "from WS_Mdl import utils as U\n",
    "from WS_Mdl import geo as G\n",
    "from WS_Mdl import utils_imod as UIM"
   ]
  },
  {
   "cell_type": "code",
   "execution_count": 51,
   "metadata": {},
   "outputs": [
    {
     "data": {
      "text/plain": [
       "<module 'WS_Mdl.utils_imod' from 'c:\\\\users\\\\karam014\\\\onedrive - universiteit utrecht\\\\ws_mdl\\\\code\\\\WS_Mdl\\\\utils_imod.py'>"
      ]
     },
     "execution_count": 51,
     "metadata": {},
     "output_type": "execute_result"
    }
   ],
   "source": [
    "import importlib\n",
    "importlib.reload(G)\n",
    "importlib.reload(U)\n",
    "importlib.reload(UIM)"
   ]
  },
  {
   "cell_type": "markdown",
   "metadata": {},
   "source": [
    "## 0.1. Options"
   ]
  },
  {
   "cell_type": "code",
   "execution_count": 35,
   "metadata": {},
   "outputs": [],
   "source": [
    "MdlN = 'NBr13'"
   ]
  },
  {
   "cell_type": "markdown",
   "metadata": {},
   "source": [
    "# 1. PoP In\n",
    "Also makes replace.csv for S QGIS project."
   ]
  },
  {
   "cell_type": "code",
   "execution_count": 5,
   "metadata": {},
   "outputs": [
    {
     "name": "stdout",
     "output_type": "stream",
     "text": [
      "✅ - NBr13 paths extracted from RunLog and returned as dictionary with keys:\n",
      "Mdl, MdlN_B, path_Mdl, path_INI, path_BAT, path_PRJ, path_Smk, path_MdlN, path_Out_HD, path_PoP, path_PoP_Out_MdlN, path_MM, path_INI_B, path_BAT_B, path_PRJ_B, path_Smk_B, path_MdlN_B, path_Out_HD_B, path_PoP_Out_MdlN_B, path_MM_B\n",
      "✅ - INI file C:/OD/WS_Mdl\\models/NBr\\code/Mdl_Prep/Mdl_Prep_NBr13.ini read successfully. Dictionary created with 21 keys.\n",
      "✅ - model dimensions extracted from C:/OD/WS_Mdl\\models/NBr\\code/Mdl_Prep/Mdl_Prep_NBr13.ini.\n",
      "✅ - NBr13 paths extracted from RunLog and returned as dictionary with keys:\n",
      "Mdl, MdlN_B, path_Mdl, path_INI, path_BAT, path_PRJ, path_Smk, path_MdlN, path_Out_HD, path_PoP, path_PoP_Out_MdlN, path_MM, path_INI_B, path_BAT_B, path_PRJ_B, path_Smk_B, path_MdlN_B, path_Out_HD_B, path_PoP_Out_MdlN_B, path_MM_B\n",
      " --- Reading PRJ Packages into DF ---\n",
      "\t(cap)  \t...\t✓\n",
      "\textra  \t...\t❌\n",
      "\t(bnd)  \t...\t✓\n",
      "\t(top)  \t...\t✓\n",
      "\t(bot)  \t...\t✓\n",
      "\t(khv)  \t...\t✓\n",
      "\t(kva)  \t...\t✓\n",
      "\t(shd)  \t...\t✓\n",
      "\t(sto)  \t...\t✓\n",
      "\t(spy)  \t...\t✓\n",
      "\t(hfb)  \t...\t✓\n",
      "\t(drn)  \t...\t✓\n",
      "\t(riv)  \t...\t✓\n",
      "\t(wel)  \t...\t✓\n",
      "\t(pcg)  \t...\t❌\n",
      "\t(chd)  \t...\t✓\n",
      "\tperiods\t...\t❌\n",
      "\tspecies\t...\t❌\n",
      " --- Success! ---\n",
      " ----------------------------------------------------------------------------------------------------\n",
      "\n",
      " --- Converting time-independant package IDF files to TIF ---\n",
      "\t0 , boundary                       ... ❌ - CAP_boundary_NBr1.tif already exists. Skipping.\n",
      "\t1 , landuse                        ... ❌ - CAP_landuse_NBr1.tif already exists. Skipping.\n",
      "\t2 , rootzone_thickness             ... ❌ - CAP_rootzone_thickness_NBr1.tif already exists. Skipping.\n",
      "\t3 , soil_physical_unit             ... ❌ - CAP_soil_physical_unit_NBr1.tif already exists. Skipping.\n",
      "\t4 , meteo_station_number           ... ❌ - CAP_meteo_station_number_NBr1.tif already exists. Skipping.\n",
      "\t5 , surface_elevation              ... ❌ - CAP_surface_elevation_NBr1.tif already exists. Skipping.\n",
      "\t6 , artificial_recharge            ... ❌ - CAP_artificial_recharge_NBr1.tif already exists. Skipping.\n",
      "\t7 , artificial_recharge_layer      ... ❌ - CAP_artificial_recharge_layer_NBr1.tif already exists. Skipping.\n",
      "\t8 , wetted_area                    ... ❌ - CAP_wetted_area_NBr1.tif already exists. Skipping.\n",
      "\t9 , urban_area                     ... ❌ - CAP_urban_area_NBr1.tif already exists. Skipping.\n",
      "\t10, ibound                         ... ❌ - BND_ibound_NBr1.tif already exists. Skipping.\n",
      "\t11, top                            ... ❌ - TOP_top_NBr1.tif already exists. Skipping.\n",
      "\t12, bottom                         ... ❌ - BOT_bottom_NBr1.tif already exists. Skipping.\n",
      "\t13, kh                             ... ❌ - KHV_kh_NBr1.tif already exists. Skipping.\n",
      "\t14, head                           ... ❌ - SHD_head_NBr8.tif already exists. Skipping.\n",
      "\n",
      " --- Converting time dependant packages ---\n",
      "\tDRN_conductance                ... ❌ - DRN_Cond_buis_NBr1.tif already exists. Skipping.\n",
      "\tDRN_conductance                ... ❌ - DRN_Cond_MV_25M_MODEL_NBr1.tif already exists. Skipping.\n",
      "\tDRN_conductance                ... ❌ - DRN_Cond_ONTWATERING_BELGIE_NBr1.tif already exists. Skipping.\n",
      "\tDRN_conductance                ... ❌ - DRN_Cond_buis_NBr1.tif already exists. Skipping.\n",
      "\tDRN_conductance                ... ❌ - DRN_Cond_MV_25M_MODEL_NBr1.tif already exists. Skipping.\n",
      "\tDRN_conductance                ... ❌ - DRN_Cond_ONTWATERING_BELGIE_NBr1.tif already exists. Skipping.\n",
      "\tDRN_elevation                  ... ❌ - DRN_Elv_buis_NBr1.tif already exists. Skipping.\n",
      "\tDRN_elevation                  ... ❌ - DRN_Elv_MV_25M_NBr1.tif already exists. Skipping.\n",
      "\tDRN_elevation                  ... ❌ - DRN_Elv_BELGIE_NBr1.tif already exists. Skipping.\n",
      "\tDRN_elevation                  ... ❌ - DRN_Elv_buis_NBr1.tif already exists. Skipping.\n",
      "\tDRN_elevation                  ... ❌ - DRN_Elv_MV_25M_NBr1.tif already exists. Skipping.\n",
      "\tDRN_elevation                  ... ❌ - DRN_Elv_BELGIE_NBr1.tif already exists. Skipping.\n",
      "\tRIV_conductance                ... ❌ - RIV_Cond_DETAILWATERGANGEN_NBr1.tif already exists. Skipping.\n",
      "\tRIV_conductance                ... ❌ - RIV_Cond_RIV_NBr1.tif already exists. Skipping.\n",
      "\tRIV_conductance                ... ❌ - RIV_Cond_DRN_NBr1.tif already exists. Skipping.\n",
      "\tRIV_conductance                ... ❌ - RIV_Cond_Maas_NBr1.tif already exists. Skipping.\n",
      "\tRIV_conductance                ... ❌ - RIV_Cond_Polderpeil_NBr1.tif already exists. Skipping.\n",
      "\tRIV_conductance                ... ❌ - RIV_Cond_DETAILWATERGANGEN_NBr1.tif already exists. Skipping.\n",
      "\tRIV_conductance                ... ❌ - RIV_Cond_RIV_NBr1.tif already exists. Skipping.\n",
      "\tRIV_conductance                ... ❌ - RIV_Cond_DRN_NBr1.tif already exists. Skipping.\n",
      "\tRIV_conductance                ... ❌ - RIV_Cond_Maas_NBr1.tif already exists. Skipping.\n",
      "\tRIV_conductance                ... ❌ - RIV_Cond_Polderpeil_NBr1.tif already exists. Skipping.\n",
      "\tRIV_conductance                ... ❌ - RIV_Cond_DETAILWATERGANGEN_NBr1.tif already exists. Skipping.\n",
      "\tRIV_conductance                ... ❌ - RIV_Cond_RIV_NBr1.tif already exists. Skipping.\n",
      "\tRIV_conductance                ... ❌ - RIV_Cond_DRN_NBr1.tif already exists. Skipping.\n",
      "\tRIV_conductance                ... ❌ - RIV_Cond_Maas_NBr1.tif already exists. Skipping.\n",
      "\tRIV_conductance                ... ❌ - RIV_Cond_Polderpeil_NBr1.tif already exists. Skipping.\n",
      "\tRIV_stage                      ... ✓ - IDF converted to TIF - single-band without L attribute\n",
      "\tRIV_stage                      ... ✓ - IDF converted to TIF - single-band without L attribute\n",
      "\tRIV_stage                      ... ❌ - RIV_Stg_winter_NBr13.tif already exists. Skipping.\n",
      "\tRIV_stage                      ... ✓ - IDF converted to TIF - single-band without L attribute\n",
      "\tRIV_stage                      ... ✓ - IDF converted to TIF - single-band without L attribute\n",
      "\tRIV_stage                      ... ❌ - RIV_Stg_Detailwatergangen_NBr13.tif already exists. Skipping.\n",
      "\tRIV_stage                      ... ❌ - RIV_Stg_winter_NBr13.tif already exists. Skipping.\n",
      "\tRIV_stage                      ... ❌ - RIV_Stg_winter_NBr13.tif already exists. Skipping.\n",
      "\tRIV_stage                      ... ❌ - RIV_Stg_Maas_NBr13.tif already exists. Skipping.\n",
      "\tRIV_stage                      ... ❌ - RIV_Stg_winter_NBr13.tif already exists. Skipping.\n",
      "\tRIV_stage                      ... ❌ - RIV_Stg_Detailwatergangen_NBr13.tif already exists. Skipping.\n",
      "\tRIV_stage                      ... ✓ - IDF converted to TIF - single-band without L attribute\n",
      "\tRIV_stage                      ... ❌ - RIV_Stg_summer_NBr13.tif already exists. Skipping.\n",
      "\tRIV_stage                      ... ❌ - RIV_Stg_Maas_NBr13.tif already exists. Skipping.\n",
      "\tRIV_stage                      ... ❌ - RIV_Stg_Polderpeil_summer_NBr13.tif already exists. Skipping.\n",
      "\tRIV_bottom_elevation           ... ❌ - RIV_Stg_Detailwatergangen_NBr13.tif already exists. Skipping.\n",
      "\tRIV_bottom_elevation           ... ❌ - RIV_Bot_RIVER_RIVER_BOTTOM_NBr1.tif already exists. Skipping.\n",
      "\tRIV_bottom_elevation           ... ❌ - RIV_Stg_winter_NBr13.tif already exists. Skipping.\n",
      "\tRIV_bottom_elevation           ... ❌ - RIV_Bot_Maas_NBr1.tif already exists. Skipping.\n",
      "\tRIV_bottom_elevation           ... ❌ - RIV_Bot_polderpeil_NBr1.tif already exists. Skipping.\n",
      "\tRIV_bottom_elevation           ... ❌ - RIV_Stg_Detailwatergangen_NBr13.tif already exists. Skipping.\n",
      "\tRIV_bottom_elevation           ... ❌ - RIV_Bot_RIVER_RIVER_BOTTOM_NBr1.tif already exists. Skipping.\n",
      "\tRIV_bottom_elevation           ... ❌ - RIV_Stg_winter_NBr13.tif already exists. Skipping.\n",
      "\tRIV_bottom_elevation           ... ❌ - RIV_Bot_Maas_NBr1.tif already exists. Skipping.\n",
      "\tRIV_bottom_elevation           ... ❌ - RIV_Bot_polderpeil_NBr1.tif already exists. Skipping.\n",
      "\tRIV_bottom_elevation           ... ❌ - RIV_Stg_Detailwatergangen_NBr13.tif already exists. Skipping.\n",
      "\tRIV_bottom_elevation           ... ❌ - RIV_Bot_RIVER_RIVER_BOTTOM_NBr1.tif already exists. Skipping.\n",
      "\tRIV_bottom_elevation           ... ❌ - RIV_Stg_summer_NBr13.tif already exists. Skipping.\n",
      "\tRIV_bottom_elevation           ... ❌ - RIV_Bot_Maas_NBr1.tif already exists. Skipping.\n",
      "\tRIV_bottom_elevation           ... ❌ - RIV_Bot_polderpeil_NBr1.tif already exists. Skipping.\n",
      "\tWEL_Ind_Aa_and_Maas_T_NBr1.ipf ... ❌ - file WEL_Ind_Aa_and_Maas_T_NBr1.gpkg exists. Skipping.\n",
      "\tWEL_Ind_Br_T_NBr1.ipf          ... ❌ - file WEL_Ind_Br_T_NBr1.gpkg exists. Skipping.\n",
      "\tWEL_Br_Wa_T_NBr1.ipf           ... ❌ - file WEL_Br_Wa_T_NBr1.gpkg exists. Skipping.\n",
      " --- Converting calculated inputs to TIF ---\n",
      "\tthickness                      ... ❌ - Thk_NBr1.tif already exists. Skipping.\n",
      "\ttransmissivity                 ... ❌ - T_NBr1.tif already exists. Skipping.\n"
     ]
    }
   ],
   "source": [
    "G.PRJ_to_TIF(MdlN)"
   ]
  },
  {
   "cell_type": "markdown",
   "metadata": {},
   "source": [
    "# 2. Make new MM"
   ]
  },
  {
   "cell_type": "markdown",
   "metadata": {},
   "source": [
    "## 2.0 Init"
   ]
  },
  {
   "cell_type": "code",
   "execution_count": 6,
   "metadata": {},
   "outputs": [
    {
     "name": "stdout",
     "output_type": "stream",
     "text": [
      "\u001b[38;5;244m********************************************************************************\u001b[0m\n",
      "\n",
      "\n",
      "Creating MM for NBr13\n",
      "✅ - NBr13 paths extracted from RunLog and returned as dictionary with keys:\n",
      "Mdl, MdlN_B, path_Mdl, path_INI, path_BAT, path_PRJ, path_Smk, path_MdlN, path_Out_HD, path_PoP, path_PoP_Out_MdlN, path_MM, path_INI_B, path_BAT_B, path_PRJ_B, path_Smk_B, path_MdlN_B, path_Out_HD_B, path_PoP_Out_MdlN_B, path_MM_B\n",
      "Copied QGIS project from C:/OD/WS_Mdl\\models/NBr\\PoP\\Out\\NBr12\\MM-NBr12.qgz to C:/OD/WS_Mdl\\models/NBr\\PoP\\Out\\NBr13\\MM-NBr13.qgz.\n",
      "Updating layer path ...\n",
      " - ✅ Updated NBr1 → NBr13 in C:\\OD\\WS_Mdl\\models\\NBr\\PoP\\In\\RIV\\NBr13\\RIV_Stg_Detailwatergangen_NBr13.tif\n",
      " - ✅ Updated NBr1 → NBr13 in C:\\OD\\WS_Mdl\\models\\NBr\\PoP\\In\\RIV\\NBr13\\RIV_Stg_Maas_NBr13.tif\n",
      " - ✅ Updated NBr1 → NBr13 in C:\\OD\\WS_Mdl\\models\\NBr\\PoP\\In\\RIV\\NBr13\\RIV_Stg_Polderpeil_summer_NBr13.tif\n",
      " - ✅ Updated NBr1 → NBr13 in C:\\OD\\WS_Mdl\\models\\NBr\\PoP\\In\\RIV\\NBr13\\RIV_Stg_summer_NBr13.tif\n",
      " - ✅ Updated NBr1 → NBr13 in C:\\OD\\WS_Mdl\\models\\NBr\\PoP\\In\\RIV\\NBr13\\RIV_Stg_winter_NBr13.tif\n",
      "\u001b[38;5;52m\n",
      "end_of_transmission\n",
      "\u001b[38;5;244m********************************************************************************\u001b[0m\n",
      "\n"
     ]
    }
   ],
   "source": [
    "G.Up_MM(MdlN)"
   ]
  },
  {
   "cell_type": "markdown",
   "metadata": {},
   "source": [
    "# 3. PoP Out"
   ]
  },
  {
   "cell_type": "markdown",
   "metadata": {},
   "source": [
    "## 3.1. GXG"
   ]
  },
  {
   "cell_type": "code",
   "execution_count": 53,
   "metadata": {},
   "outputs": [
    {
     "name": "stdout",
     "output_type": "stream",
     "text": [
      "\u001b[38;5;244m********************************************************************************\u001b[0m\n",
      "\n",
      "\n",
      "*** NBr13 *** - HD_IDF_GXG_to_MBTIF\n",
      "\n",
      "✅ - NBr13 paths extracted from RunLog and returned as dictionary with keys:\n",
      "Mdl, MdlN_B, path_Mdl, path_INI, path_BAT, path_PRJ, path_Smk, path_MdlN, path_Out_HD, path_PoP, path_PoP_Out_MdlN, path_MM, path_INI_B, path_BAT_B, path_PRJ_B, path_Smk_B, path_MdlN_B, path_Out_HD_B, path_PoP_Out_MdlN_B, path_MM_B\n",
      "\t GXG_L1 ✔ - Elapsed time (from start): 0:03:02.028773\n",
      "\t GXG_L2 ✔ - Elapsed time (from start): 0:03:02.056683\n",
      "\t GXG_L3 ✔ - Elapsed time (from start): 0:03:02.056683\n",
      "\t GXG_L4 ✔ - Elapsed time (from start): 0:03:02.056683\n",
      "\t GXG_L5 ✔ - Elapsed time (from start): 0:03:02.056683\n",
      "\t GXG_L6 ✔ - Elapsed time (from start): 0:03:02.056683\n",
      "\t GXG_L7 ✔ - Elapsed time (from start): 0:03:02.308155\n",
      "\t GXG_L8 ✔ - Elapsed time (from start): 0:03:02.309157\n",
      "\t GXG_L9 ✔ - Elapsed time (from start): 0:03:02.309157\n",
      "\t GXG_L10 ✔ - Elapsed time (from start): 0:03:02.408124\n",
      "\t GXG_L11 ✔ - Elapsed time (from start): 0:05:24.788633\n",
      "\t GXG_L12 ✔ - Elapsed time (from start): 0:05:28.709644\n",
      "\t GXG_L13 ✔ - Elapsed time (from start): 0:05:28.710638\n",
      "\t GXG_L14 ✔ - Elapsed time (from start): 0:05:28.710638\n",
      "\t GXG_L15 ✔ - Elapsed time (from start): 0:05:33.053000\n",
      "\t GXG_L16 ✔ - Elapsed time (from start): 0:05:34.732888\n",
      "\t GXG_L17 ✔ - Elapsed time (from start): 0:05:34.732888\n",
      "\t GXG_L18 ✔ - Elapsed time (from start): 0:05:34.732888\n",
      "\t GXG_L19 ✔ - Elapsed time (from start): 0:05:34.732888\n",
      "\t GXG_L20 ✔ - Elapsed time (from start): 0:05:34.732888\n",
      "\t GXG_L21 ✔ - Elapsed time (from start): 0:07:51.832669\n",
      "\t GXG_L22 ✔ - Elapsed time (from start): 0:07:59.323097\n",
      "\t GXG_L23 ✔ - Elapsed time (from start): 0:07:59.338897\n",
      "\t GXG_L24 ✔ - Elapsed time (from start): 0:07:59.338897\n",
      "\t GXG_L25 ✔ - Elapsed time (from start): 0:07:59.338897\n",
      "\t GXG_L26 ✔ - Elapsed time (from start): 0:08:00.417170\n",
      "\t GXG_L27 ✔ - Elapsed time (from start): 0:08:00.417170\n",
      "\t GXG_L28 ✔ - Elapsed time (from start): 0:08:02.901527\n",
      "\t GXG_L29 ✔ - Elapsed time (from start): 0:08:02.901527\n",
      "\t GXG_L30 ✔ - Elapsed time (from start): 0:08:02.901527\n",
      "\t GXG_L31 ✔ - Elapsed time (from start): 0:09:42.742714\n",
      "\t GXG_L32 ✔ - Elapsed time (from start): 0:09:47.629568\n",
      "\t GXG_L33 ✔ - Elapsed time (from start): 0:09:47.630568\n",
      "\t GXG_L34 ✔ - Elapsed time (from start): 0:09:47.630568\n",
      "\t GXG_L35 ✔ - Elapsed time (from start): 0:09:47.630568\n",
      "\t GXG_L36 ✔ - Elapsed time (from start): 0:09:47.716993\n",
      "\t GXG_L37 ✔ - Elapsed time (from start): 0:09:47.716993\n",
      "Total elapsed: 0:09:49.703223\n"
     ]
    }
   ],
   "source": [
    "G.HD_IDF_GXG_to_MBTIF(MdlN)"
   ]
  },
  {
   "cell_type": "code",
   "execution_count": 54,
   "metadata": {},
   "outputs": [
    {
     "name": "stdout",
     "output_type": "stream",
     "text": [
      "\u001b[38;5;244m********************************************************************************\u001b[0m\n",
      "\n",
      "\n",
      "*** NBr12 *** - HD_IDF_GXG_to_MBTIF\n",
      "\n",
      "✅ - NBr12 paths extracted from RunLog and returned as dictionary with keys:\n",
      "Mdl, MdlN_B, path_Mdl, path_INI, path_BAT, path_PRJ, path_Smk, path_MdlN, path_Out_HD, path_PoP, path_PoP_Out_MdlN, path_MM, path_INI_B, path_BAT_B, path_PRJ_B, path_Smk_B, path_MdlN_B, path_Out_HD_B, path_PoP_Out_MdlN_B, path_MM_B\n",
      "\t GXG_L1 ✔ - Elapsed time (from start): 0:03:16.592356\n",
      "\t GXG_L2 ✔ - Elapsed time (from start): 0:03:16.592356\n",
      "\t GXG_L3 ✔ - Elapsed time (from start): 0:03:16.592356\n",
      "\t GXG_L4 ✔ - Elapsed time (from start): 0:03:16.592356\n",
      "\t GXG_L5 ✔ - Elapsed time (from start): 0:03:16.592356\n",
      "\t GXG_L6 ✔ - Elapsed time (from start): 0:03:16.592356\n",
      "\t GXG_L7 ✔ - Elapsed time (from start): 0:03:16.592356\n",
      "\t GXG_L8 ✔ - Elapsed time (from start): 0:03:16.592356\n",
      "\t GXG_L9 ✔ - Elapsed time (from start): 0:03:16.592356\n",
      "\t GXG_L10 ✔ - Elapsed time (from start): 0:03:16.592356\n",
      "\t GXG_L11 ✔ - Elapsed time (from start): 0:05:43.335268\n",
      "\t GXG_L12 ✔ - Elapsed time (from start): 0:05:48.818609\n",
      "\t GXG_L13 ✔ - Elapsed time (from start): 0:05:48.818609\n",
      "\t GXG_L14 ✔ - Elapsed time (from start): 0:05:48.818609\n",
      "\t GXG_L15 ✔ - Elapsed time (from start): 0:05:50.272381\n",
      "\t GXG_L16 ✔ - Elapsed time (from start): 0:05:50.272381\n",
      "\t GXG_L17 ✔ - Elapsed time (from start): 0:05:50.272381\n",
      "\t GXG_L18 ✔ - Elapsed time (from start): 0:05:52.887165\n",
      "\t GXG_L19 ✔ - Elapsed time (from start): 0:05:52.887165\n",
      "\t GXG_L20 ✔ - Elapsed time (from start): 0:05:53.016699\n",
      "\t GXG_L21 ✔ - Elapsed time (from start): 0:08:17.120080\n",
      "\t GXG_L22 ✔ - Elapsed time (from start): 0:08:21.527249\n",
      "\t GXG_L23 ✔ - Elapsed time (from start): 0:08:21.527249\n",
      "\t GXG_L24 ✔ - Elapsed time (from start): 0:08:22.172600\n",
      "\t GXG_L25 ✔ - Elapsed time (from start): 0:08:23.286910\n",
      "\t GXG_L26 ✔ - Elapsed time (from start): 0:08:23.286910\n",
      "\t GXG_L27 ✔ - Elapsed time (from start): 0:08:23.286910\n",
      "\t GXG_L28 ✔ - Elapsed time (from start): 0:08:25.604319\n",
      "\t GXG_L29 ✔ - Elapsed time (from start): 0:08:27.699019\n",
      "\t GXG_L30 ✔ - Elapsed time (from start): 0:08:27.700019\n",
      "\t GXG_L31 ✔ - Elapsed time (from start): 0:10:09.857525\n",
      "\t GXG_L32 ✔ - Elapsed time (from start): 0:10:11.342244\n",
      "\t GXG_L33 ✔ - Elapsed time (from start): 0:10:11.342244\n",
      "\t GXG_L34 ✔ - Elapsed time (from start): 0:10:11.342244\n",
      "\t GXG_L35 ✔ - Elapsed time (from start): 0:10:11.703105\n",
      "\t GXG_L36 ✔ - Elapsed time (from start): 0:10:11.703105\n",
      "\t GXG_L37 ✔ - Elapsed time (from start): 0:10:11.703105\n",
      "Total elapsed: 0:10:13.017144\n"
     ]
    }
   ],
   "source": [
    "G.HD_IDF_GXG_to_MBTIF('NBr12')"
   ]
  },
  {
   "cell_type": "code",
   "execution_count": 45,
   "metadata": {},
   "outputs": [],
   "source": [
    "import os\n",
    "import rasterio\n",
    "import numpy as np"
   ]
  },
  {
   "cell_type": "code",
   "execution_count": 13,
   "metadata": {},
   "outputs": [
    {
     "name": "stdout",
     "output_type": "stream",
     "text": [
      "✅ - NBr13 paths extracted from RunLog and returned as dictionary with keys:\n",
      "Mdl, MdlN_B, path_Mdl, path_INI, path_BAT, path_PRJ, path_Smk, path_MdlN, path_Out_HD, path_PoP, path_PoP_Out_MdlN, path_MM, path_INI_B, path_BAT_B, path_PRJ_B, path_Smk_B, path_MdlN_B, path_Out_HD_B, path_PoP_Out_MdlN_B, path_MM_B\n"
     ]
    }
   ],
   "source": [
    "d_paths = U.get_MdlN_paths(MdlN)\n",
    "MdlN_B, path_PoP, path_MdlN, path_PoP_Out_MdlN, path_PoP_Out_MdlN_B = [ d_paths[v] for v in ['MdlN_B', 'path_PoP', 'path_MdlN', 'path_PoP_Out_MdlN', 'path_PoP_Out_MdlN_B'] ]"
   ]
  },
  {
   "cell_type": "code",
   "execution_count": 47,
   "metadata": {},
   "outputs": [],
   "source": [
    "path_GXG = os.path.join(path_PoP_Out_MdlN, 'GXG')\n",
    "path_GXG_B = path_GXG.replace (MdlN, MdlN_B)\n",
    "path_GXG_SmB = os.path.join(path_PoP_Out_MdlN, 'GXG_SmB')\n",
    "os.makedirs(path_GXG_SmB, exist_ok=True)"
   ]
  },
  {
   "cell_type": "code",
   "execution_count": 36,
   "metadata": {},
   "outputs": [],
   "source": [
    "l_path_S = [os.path.join(path_GXG, p) for p in sorted(os.listdir(path_GXG), key=lambda f: int(f.split('_')[1][1:]))]\n",
    "l_path_B = [x.replace(MdlN, MdlN_B) for x in l_path_S]"
   ]
  },
  {
   "cell_type": "code",
   "execution_count": 48,
   "metadata": {},
   "outputs": [
    {
     "name": "stdout",
     "output_type": "stream",
     "text": [
      "C:/OD/WS_Mdl\\models/NBr\\PoP\\Out\\NBr13\\GXG_SmB\\GXG_L1_NBr13_m_NBr12.tif\n",
      "C:/OD/WS_Mdl\\models/NBr\\PoP\\Out\\NBr13\\GXG_SmB\\GXG_L2_NBr13_m_NBr12.tif\n",
      "C:/OD/WS_Mdl\\models/NBr\\PoP\\Out\\NBr13\\GXG_SmB\\GXG_L3_NBr13_m_NBr12.tif\n",
      "C:/OD/WS_Mdl\\models/NBr\\PoP\\Out\\NBr13\\GXG_SmB\\GXG_L4_NBr13_m_NBr12.tif\n",
      "C:/OD/WS_Mdl\\models/NBr\\PoP\\Out\\NBr13\\GXG_SmB\\GXG_L5_NBr13_m_NBr12.tif\n",
      "C:/OD/WS_Mdl\\models/NBr\\PoP\\Out\\NBr13\\GXG_SmB\\GXG_L6_NBr13_m_NBr12.tif\n",
      "C:/OD/WS_Mdl\\models/NBr\\PoP\\Out\\NBr13\\GXG_SmB\\GXG_L7_NBr13_m_NBr12.tif\n",
      "C:/OD/WS_Mdl\\models/NBr\\PoP\\Out\\NBr13\\GXG_SmB\\GXG_L8_NBr13_m_NBr12.tif\n",
      "C:/OD/WS_Mdl\\models/NBr\\PoP\\Out\\NBr13\\GXG_SmB\\GXG_L9_NBr13_m_NBr12.tif\n",
      "C:/OD/WS_Mdl\\models/NBr\\PoP\\Out\\NBr13\\GXG_SmB\\GXG_L10_NBr13_m_NBr12.tif\n",
      "C:/OD/WS_Mdl\\models/NBr\\PoP\\Out\\NBr13\\GXG_SmB\\GXG_L11_NBr13_m_NBr12.tif\n",
      "C:/OD/WS_Mdl\\models/NBr\\PoP\\Out\\NBr13\\GXG_SmB\\GXG_L12_NBr13_m_NBr12.tif\n",
      "C:/OD/WS_Mdl\\models/NBr\\PoP\\Out\\NBr13\\GXG_SmB\\GXG_L13_NBr13_m_NBr12.tif\n",
      "C:/OD/WS_Mdl\\models/NBr\\PoP\\Out\\NBr13\\GXG_SmB\\GXG_L14_NBr13_m_NBr12.tif\n",
      "C:/OD/WS_Mdl\\models/NBr\\PoP\\Out\\NBr13\\GXG_SmB\\GXG_L15_NBr13_m_NBr12.tif\n",
      "C:/OD/WS_Mdl\\models/NBr\\PoP\\Out\\NBr13\\GXG_SmB\\GXG_L16_NBr13_m_NBr12.tif\n",
      "C:/OD/WS_Mdl\\models/NBr\\PoP\\Out\\NBr13\\GXG_SmB\\GXG_L17_NBr13_m_NBr12.tif\n",
      "C:/OD/WS_Mdl\\models/NBr\\PoP\\Out\\NBr13\\GXG_SmB\\GXG_L18_NBr13_m_NBr12.tif\n",
      "C:/OD/WS_Mdl\\models/NBr\\PoP\\Out\\NBr13\\GXG_SmB\\GXG_L19_NBr13_m_NBr12.tif\n",
      "C:/OD/WS_Mdl\\models/NBr\\PoP\\Out\\NBr13\\GXG_SmB\\GXG_L20_NBr13_m_NBr12.tif\n",
      "C:/OD/WS_Mdl\\models/NBr\\PoP\\Out\\NBr13\\GXG_SmB\\GXG_L21_NBr13_m_NBr12.tif\n",
      "C:/OD/WS_Mdl\\models/NBr\\PoP\\Out\\NBr13\\GXG_SmB\\GXG_L22_NBr13_m_NBr12.tif\n",
      "C:/OD/WS_Mdl\\models/NBr\\PoP\\Out\\NBr13\\GXG_SmB\\GXG_L23_NBr13_m_NBr12.tif\n",
      "C:/OD/WS_Mdl\\models/NBr\\PoP\\Out\\NBr13\\GXG_SmB\\GXG_L24_NBr13_m_NBr12.tif\n",
      "C:/OD/WS_Mdl\\models/NBr\\PoP\\Out\\NBr13\\GXG_SmB\\GXG_L25_NBr13_m_NBr12.tif\n",
      "C:/OD/WS_Mdl\\models/NBr\\PoP\\Out\\NBr13\\GXG_SmB\\GXG_L26_NBr13_m_NBr12.tif\n",
      "C:/OD/WS_Mdl\\models/NBr\\PoP\\Out\\NBr13\\GXG_SmB\\GXG_L27_NBr13_m_NBr12.tif\n",
      "C:/OD/WS_Mdl\\models/NBr\\PoP\\Out\\NBr13\\GXG_SmB\\GXG_L28_NBr13_m_NBr12.tif\n",
      "C:/OD/WS_Mdl\\models/NBr\\PoP\\Out\\NBr13\\GXG_SmB\\GXG_L29_NBr13_m_NBr12.tif\n",
      "C:/OD/WS_Mdl\\models/NBr\\PoP\\Out\\NBr13\\GXG_SmB\\GXG_L30_NBr13_m_NBr12.tif\n",
      "C:/OD/WS_Mdl\\models/NBr\\PoP\\Out\\NBr13\\GXG_SmB\\GXG_L31_NBr13_m_NBr12.tif\n",
      "C:/OD/WS_Mdl\\models/NBr\\PoP\\Out\\NBr13\\GXG_SmB\\GXG_L32_NBr13_m_NBr12.tif\n",
      "C:/OD/WS_Mdl\\models/NBr\\PoP\\Out\\NBr13\\GXG_SmB\\GXG_L33_NBr13_m_NBr12.tif\n",
      "C:/OD/WS_Mdl\\models/NBr\\PoP\\Out\\NBr13\\GXG_SmB\\GXG_L34_NBr13_m_NBr12.tif\n",
      "C:/OD/WS_Mdl\\models/NBr\\PoP\\Out\\NBr13\\GXG_SmB\\GXG_L35_NBr13_m_NBr12.tif\n",
      "C:/OD/WS_Mdl\\models/NBr\\PoP\\Out\\NBr13\\GXG_SmB\\GXG_L36_NBr13_m_NBr12.tif\n",
      "C:/OD/WS_Mdl\\models/NBr\\PoP\\Out\\NBr13\\GXG_SmB\\GXG_L37_NBr13_m_NBr12.tif\n"
     ]
    }
   ],
   "source": [
    "for p_S, p_B in zip(l_path_S, l_path_B):\n",
    "    # print(f_S, f_B, '-'*50, sep='\\n')\n",
    "    with rasterio.open(p_S) as f_S, rasterio.open(p_B) as f_B:\n",
    "        assert f_S.count == f_B.count, f\"Different number of bands:\\n{p_S}:\\t{f_S.count}\\n{p_B}:\\t{f_B.count}\"\n",
    "        assert f_S.width == f_B.width and f_S.height == f_B.height, f\"Image dimensions must match:\\n{p_S}:\\t{f_S.width}x{f_S.height}\\n{p_B}:\\t{f_B.width}x{f_B.height}\"\n",
    "\n",
    "        profile = f_S.profile  # Use metadata from the first file\n",
    "        profile.update(dtype=rasterio.float32)  # Ensure output can handle differences (including negatives)\n",
    "\n",
    "        path_Out = os.path.join(path_GXG_SmB, os.path.basename(p_S).replace(MdlN, f\"{MdlN}_m_{MdlN_B}\"))\n",
    "        print(path_Out)\n",
    "\n",
    "        with rasterio.open(path_Out, 'w', **profile) as dst:\n",
    "            for i in range(f_S.count):\n",
    "                d_S = f_S.read(i + 1).astype(np.float32)\n",
    "                d_B = f_B.read(i + 1).astype(np.float32)\n",
    "                dst.write(d_S - d_B, i + 1)\n",
    "\n",
    "            tags_S = f_S.tags()\n",
    "            tags_B = f_B.tags()\n",
    "            combined_tags = {**{f\"S_{k}\": v for k, v in tags_S.items()},\n",
    "                             **{f\"B_{k}\": v for k, v in tags_B.items()}}\n",
    "            dst.update_tags(**combined_tags)"
   ]
  },
  {
   "cell_type": "code",
   "execution_count": 50,
   "metadata": {},
   "outputs": [
    {
     "name": "stdout",
     "output_type": "stream",
     "text": [
      "['0', '1', '2', '3', '4', '5']\n"
     ]
    }
   ],
   "source": [
    "with rasterio.open(p_S) as src:\n",
    "    band_names = [src.descriptions[i] for i in range(src.count)]\n",
    "    print(band_names)"
   ]
  },
  {
   "cell_type": "code",
   "execution_count": 49,
   "metadata": {},
   "outputs": [
    {
     "data": {
      "text/plain": [
       "{'S_Description': 'NBr13 GXG (path: C:/OD/WS_Mdl\\\\models/NBr\\\\Sim/NBr13\\\\GWF_1/MODELOUTPUT/HEAD/HEAD)\\nFor more info see: https://deltares.github.io/imod-python/api/generated/evaluate/imod.evaluate.calculate_gxg.html',\n",
       " 'S_parameters': 'Coordinates:\\n  * x        (x) float64 4kB 1.131e+05 1.131e+05 ... 1.251e+05 1.251e+05\\n  * y        (y) float64 3kB 3.962e+05 3.962e+05 ... 3.876e+05 3.876e+05\\n    dx       float64 8B 25.0\\n    dy       float64 8B -25.0\\n  * time     (time) datetime64[ns] 2kB 2010-01-14 2010-01-28 ... 2018-12-28\\n  * layer    (layer) int64 8B 37',\n",
       " 'S_AREA_OR_POINT': 'Area',\n",
       " 'B_Description': 'NBr12 GXG (path: C:/OD/WS_Mdl\\\\models/NBr\\\\Sim/NBr12\\\\GWF_1/MODELOUTPUT/HEAD/HEAD)\\nFor more info see: https://deltares.github.io/imod-python/api/generated/evaluate/imod.evaluate.calculate_gxg.html',\n",
       " 'B_parameters': 'Coordinates:\\n  * x        (x) float64 4kB 1.131e+05 1.131e+05 ... 1.251e+05 1.251e+05\\n  * y        (y) float64 3kB 3.962e+05 3.962e+05 ... 3.876e+05 3.876e+05\\n    dx       float64 8B 25.0\\n    dy       float64 8B -25.0\\n  * time     (time) datetime64[ns] 2kB 2010-01-14 2010-01-28 ... 2018-12-28\\n  * layer    (layer) int64 8B 37',\n",
       " 'B_AREA_OR_POINT': 'Area'}"
      ]
     },
     "execution_count": 49,
     "metadata": {},
     "output_type": "execute_result"
    }
   ],
   "source": [
    "combined_tags"
   ]
  },
  {
   "cell_type": "code",
   "execution_count": 43,
   "metadata": {},
   "outputs": [
    {
     "data": {
      "text/plain": [
       "'C:/OD/WS_Mdl\\\\models/NBr\\\\PoP\\\\Out\\\\NBr13\\\\GXG_SmB\\\\GXG_L37_NBr13_m_NBr12.tif'"
      ]
     },
     "execution_count": 43,
     "metadata": {},
     "output_type": "execute_result"
    }
   ],
   "source": []
  },
  {
   "cell_type": "code",
   "execution_count": null,
   "metadata": {},
   "outputs": [],
   "source": []
  }
 ],
 "metadata": {
  "kernelspec": {
   "display_name": "WS",
   "language": "python",
   "name": "python3"
  },
  "language_info": {
   "codemirror_mode": {
    "name": "ipython",
    "version": 3
   },
   "file_extension": ".py",
   "mimetype": "text/x-python",
   "name": "python",
   "nbconvert_exporter": "python",
   "pygments_lexer": "ipython3",
   "version": "3.12.8"
  }
 },
 "nbformat": 4,
 "nbformat_minor": 2
}
