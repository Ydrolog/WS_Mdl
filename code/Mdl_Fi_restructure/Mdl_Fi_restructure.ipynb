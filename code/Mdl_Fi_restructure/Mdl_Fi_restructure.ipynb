{
 "cells": [
  {
   "cell_type": "markdown",
   "metadata": {},
   "source": [
    "<span style=\"font-size:24px; font-family:'Roboto'; font-weight:bold;\">\n",
    "Copy and rename files from N_Brabant folder (created based on files provided by Eva), to NBr folder, which uses the new folder structure.\n",
    "</span>"
   ]
  },
  {
   "cell_type": "markdown",
   "metadata": {},
   "source": [
    "- You're advised to run the notebook cells one by one to understand what they're doing and avoid any problems.\n",
    "- If there are no lines to process, the script will run into an error cause some of the DFs will be empty.\n",
    "- As Wed 29/01/2025 some of ome files, necessary to run the script, are missing because I had to format my PC and they were lost in the process. The OG files are on Deltares' servers, so no file has been completelly lost. Also, since this script was run before the format, all the outputs had already been created on my OneDrive, so it's not necessary to re-run it."
   ]
  },
  {
   "cell_type": "markdown",
   "metadata": {},
   "source": [
    "# 0. Preparation"
   ]
  },
  {
   "cell_type": "code",
   "execution_count": null,
   "metadata": {},
   "outputs": [],
   "source": [
    "import os\n",
    "import shutil\n",
    "import pandas as pd\n",
    "pd.set_option('display.width', 200)\n",
    "pd.set_option('display.max_colwidth', None)\n",
    "import openpyxl as xl\n",
    "import Mdl_Fi_restructure_functions as fn\n",
    "from datetime import datetime as DT, timezone as TZ\n",
    "import pytz\n",
    "import re\n",
    "import numpy as np\n",
    "import matplotlib.pyplot as plt\n",
    "import ast # To read tuples as tuples instead of strings\n",
    "from tqdm import tqdm  # For progress visualization (optional)"
   ]
  },
  {
   "cell_type": "code",
   "execution_count": null,
   "metadata": {},
   "outputs": [],
   "source": [
    "import imod # separate cell cause this one takes longer to load."
   ]
  },
  {
   "cell_type": "code",
   "execution_count": null,
   "metadata": {},
   "outputs": [
    {
     "data": {
      "text/plain": [
       "<module 'Mdl_Fi_restructure_functions' from 'c:\\\\Users\\\\Karam014\\\\OneDrive - Universiteit Utrecht\\\\WS_Mdl\\\\code\\\\Mdl_Fi_restructure\\\\Mdl_Fi_restructure_functions.py'>"
      ]
     },
     "metadata": {},
     "output_type": "display_data"
    }
   ],
   "source": [
    "import importlib\n",
    "importlib.reload(fn) # For when I want t reload my custom functions"
   ]
  },
  {
   "cell_type": "markdown",
   "metadata": {},
   "source": [
    "## 0.0. Options"
   ]
  },
  {
   "cell_type": "code",
   "execution_count": 4,
   "metadata": {},
   "outputs": [],
   "source": [
    "Dir_Src_base = r'C:\\WS_Mdl'\n",
    "Dir_Dst_base = r'C:\\OD\\WS_Mdl\\models'"
   ]
  },
  {
   "cell_type": "markdown",
   "metadata": {},
   "source": [
    "## 0.1. Read .prj file to get all input directories saved to a CSV file"
   ]
  },
  {
   "cell_type": "code",
   "execution_count": 5,
   "metadata": {},
   "outputs": [],
   "source": [
    "Dir_PRJ_Old = r\"C:\\WS_Mdl\\N_Brabant\\data\\3_input\\prj_file_scenario_sponswerking_ref_noOBS.prj\"\n",
    "Dir_PRJ_New = r\"C:\\OD\\WS_Mdl\\models\\NBr\\In\\PRJ\\Nbr1.prj\"\n",
    "Dir_mete_grid_Old = r'C:\\WS_Mdl\\N_Brabant\\data\\3_input\\dbase_sponswerking_ref\\metaswap\\METE_GRID.INP'\n",
    "Dir_mete_grid_New = r'C:\\OD\\WS_Mdl\\models\\NBr\\In\\CAP\\mete_grid\\Nbr1\\mete_grid.inp'"
   ]
  },
  {
   "cell_type": "code",
   "execution_count": 6,
   "metadata": {},
   "outputs": [
    {
     "ename": "FileNotFoundError",
     "evalue": "[Errno 2] No such file or directory: 'C:\\\\WS_Mdl\\\\N_Brabant\\\\data\\\\3_input\\\\prj_file_scenario_sponswerking_ref_noOBS.prj'",
     "output_type": "error",
     "traceback": [
      "\u001b[1;31m---------------------------------------------------------------------------\u001b[0m",
      "\u001b[1;31mFileNotFoundError\u001b[0m                         Traceback (most recent call last)",
      "Cell \u001b[1;32mIn[6], line 1\u001b[0m\n\u001b[1;32m----> 1\u001b[0m d_PRJ \u001b[38;5;241m=\u001b[39m \u001b[43mimod\u001b[49m\u001b[38;5;241;43m.\u001b[39;49m\u001b[43mformats\u001b[49m\u001b[38;5;241;43m.\u001b[39;49m\u001b[43mprj\u001b[49m\u001b[38;5;241;43m.\u001b[39;49m\u001b[43mread_projectfile\u001b[49m\u001b[43m(\u001b[49m\u001b[43mDir_PRJ_Old\u001b[49m\u001b[43m)\u001b[49m\n",
      "File \u001b[1;32mc:\\mamba_envs\\imod\\Lib\\site-packages\\imod\\formats\\prj\\prj.py:992\u001b[0m, in \u001b[0;36mread_projectfile\u001b[1;34m(path)\u001b[0m\n\u001b[0;32m    989\u001b[0m \u001b[38;5;66;03m# Force to Path\u001b[39;00m\n\u001b[0;32m    990\u001b[0m path \u001b[38;5;241m=\u001b[39m Path(path)\n\u001b[1;32m--> 992\u001b[0m \u001b[38;5;28;01mwith\u001b[39;00m \u001b[38;5;28;43mopen\u001b[39;49m\u001b[43m(\u001b[49m\u001b[43mpath\u001b[49m\u001b[43m)\u001b[49m \u001b[38;5;28;01mas\u001b[39;00m f:\n\u001b[0;32m    993\u001b[0m     lines \u001b[38;5;241m=\u001b[39m f\u001b[38;5;241m.\u001b[39mreadlines()\n\u001b[0;32m    995\u001b[0m tokenized \u001b[38;5;241m=\u001b[39m []\n",
      "\u001b[1;31mFileNotFoundError\u001b[0m: [Errno 2] No such file or directory: 'C:\\\\WS_Mdl\\\\N_Brabant\\\\data\\\\3_input\\\\prj_file_scenario_sponswerking_ref_noOBS.prj'"
     ]
    }
   ],
   "source": [
    "d_PRJ = imod.formats.prj.read_projectfile(Dir_PRJ_Old)"
   ]
  },
  {
   "cell_type": "code",
   "execution_count": null,
   "metadata": {},
   "outputs": [],
   "source": [
    "DF_PRJ_Dir = fn.PRJ_to_DF(d_PRJ)"
   ]
  },
  {
   "cell_type": "code",
   "execution_count": null,
   "metadata": {},
   "outputs": [],
   "source": [
    "DF_PRJ_Dir['directory'] = DF_PRJ_Dir['directory'].str.replace('C:\\WS_Mdl\\\\N_Brabant\\\\', \"\").str.replace('..\\..\\\\', \"\")"
   ]
  },
  {
   "cell_type": "code",
   "execution_count": null,
   "metadata": {},
   "outputs": [],
   "source": [
    "DF_PRJ_Dir['file name'] = DF_PRJ_Dir['directory'].str.split('\\\\').str[-1].str.split('.').str[0]\n",
    "DF_PRJ_Dir['package'] = DF_PRJ_Dir['package'].str.replace('(', '').str.replace(')', '').str.upper()"
   ]
  },
  {
   "cell_type": "code",
   "execution_count": null,
   "metadata": {},
   "outputs": [
    {
     "name": "stdout",
     "output_type": "stream",
     "text": [
      "PRJ_Dirs.csv file already exists. If you want to save a new one, delete it.\n"
     ]
    }
   ],
   "source": [
    "Dir_Out_PRJ_Dirs = 'PRJ_Dirs.csv'\n",
    "if Dir_Out_PRJ_Dirs not in (os.listdir()):\n",
    "    DF_PRJ_Dir.to_csv('PRJ_Dirs.csv', index=None)\n",
    "else:\n",
    "    print(f'{Dir_Out_PRJ_Dirs} file already exists. If you want to save a new one, delete it.')"
   ]
  },
  {
   "cell_type": "markdown",
   "metadata": {},
   "source": [
    "### 0.1.1 Read Extra MetaSWAP files to get directories."
   ]
  },
  {
   "cell_type": "code",
   "execution_count": null,
   "metadata": {},
   "outputs": [
    {
     "data": {
      "text/plain": [
       "[['../../data/3_input/dbase/metaswap/fact_svat.inp'],\n",
       " ['../../data/3_input/dbase/metaswap/luse_svat.inp'],\n",
       " ['../../data/3_input/dbase_sponswerking_ref/metaswap/mete_grid.inp'],\n",
       " ['../../data/3_input/dbase/metaswap/para_sim.inp'],\n",
       " ['../../data/3_input/dbase/metaswap/init_svat.inp'],\n",
       " ['../../data/3_input/dbase/metaswap/tiop_day/tiop_sim.inp'],\n",
       " ['../../data/3_input/dbase/metaswap/output/Balans_en_GWA/sel_key_svat_per.inp']]"
      ]
     },
     "execution_count": 26,
     "metadata": {},
     "output_type": "execute_result"
    }
   ],
   "source": [
    "d_PRJ['extra']['paths']"
   ]
  },
  {
   "cell_type": "markdown",
   "metadata": {},
   "source": [
    "Those are all the files, we'll only read those containing directories (cause those files need to be copied too). The files containing directories are:\n",
    "- mete_grid at position 2\n",
    "- para_sim only has 1 Dir, I copied it manually, no need to read it.\n",
    "\n",
    "So only mete_grid..."
   ]
  },
  {
   "cell_type": "code",
   "execution_count": null,
   "metadata": {},
   "outputs": [],
   "source": [
    "DF_mete_grid = pd.read_csv(Dir_mete_grid_Old, names=['dayN', 'year', 'P', 'EVT'])"
   ]
  },
  {
   "cell_type": "code",
   "execution_count": null,
   "metadata": {},
   "outputs": [],
   "source": [
    "DF_mete_grid.replace(re.escape(r\"..\\..\\data\"), 'data', regex=True, inplace=True)"
   ]
  },
  {
   "cell_type": "code",
   "execution_count": null,
   "metadata": {},
   "outputs": [
    {
     "name": "stdout",
     "output_type": "stream",
     "text": [
      "mete_grid_Dirs.csv file already exists. If you want to save a new one, delete it.\n"
     ]
    }
   ],
   "source": [
    "Dir_Out_mete_grid = 'mete_grid_Dirs.csv'\n",
    "\n",
    "if Dir_Out_mete_grid not in (os.listdir()):\n",
    "    DF_mete_grid[['P', 'EVT']].to_csv(Dir_Out_mete_grid, index=None)\n",
    "    print(f\"{Dir_Out_mete_grid} saved\")\n",
    "else:\n",
    "    print(f'{Dir_Out_mete_grid} file already exists. If you want to save a new one, delete it.')"
   ]
  },
  {
   "cell_type": "markdown",
   "metadata": {},
   "source": [
    "There are also other directories linked trough the WEL file that I'll add to the DB manually."
   ]
  },
  {
   "cell_type": "markdown",
   "metadata": {},
   "source": [
    "## 0.2. Test functions"
   ]
  },
  {
   "cell_type": "markdown",
   "metadata": {},
   "source": [
    "Empty for now"
   ]
  },
  {
   "cell_type": "markdown",
   "metadata": {},
   "source": [
    "# 1. Work"
   ]
  },
  {
   "cell_type": "markdown",
   "metadata": {},
   "source": [
    "## 1.0. Read and inspect DB that contains the directories."
   ]
  },
  {
   "cell_type": "markdown",
   "metadata": {},
   "source": [
    "### 1.0.0. Read in DF"
   ]
  },
  {
   "cell_type": "markdown",
   "metadata": {},
   "source": [
    "Get timezone to create a back-up file"
   ]
  },
  {
   "cell_type": "code",
   "execution_count": null,
   "metadata": {},
   "outputs": [],
   "source": [
    "TZ = pytz.timezone('Europe/Amsterdam')"
   ]
  },
  {
   "cell_type": "code",
   "execution_count": null,
   "metadata": {},
   "outputs": [],
   "source": [
    "Cur_time = DT.now(TZ).strftime('%Y%m%d%H%M_%Z')"
   ]
  },
  {
   "cell_type": "code",
   "execution_count": null,
   "metadata": {},
   "outputs": [
    {
     "name": "stdout",
     "output_type": "stream",
     "text": [
      "Mdl_Fi_restructure_In has been copied to the SS folder for backup.\n"
     ]
    }
   ],
   "source": [
    "Dir_In = 'Mdl_Fi_restructure_In.xlsx'\n",
    "shutil.copy2(Dir_In, f\"SS\\{Dir_In.split('.')[0]}_{Cur_time}.xlsx\")\n",
    "print('Mdl_Fi_restructure_In has been copied to the SS folder for backup.')"
   ]
  },
  {
   "cell_type": "markdown",
   "metadata": {},
   "source": [
    "#### "
   ]
  },
  {
   "cell_type": "code",
   "execution_count": null,
   "metadata": {},
   "outputs": [],
   "source": [
    "WB = xl.load_workbook(Dir_In)\n",
    "WB_SS = WB['DB'] # SS for spreadsheet (not steady state)"
   ]
  },
  {
   "cell_type": "code",
   "execution_count": null,
   "metadata": {},
   "outputs": [],
   "source": [
    "WB_SS_data = WB_SS.values\n",
    "WB_SS_Cols = next(WB_SS_data)"
   ]
  },
  {
   "cell_type": "code",
   "execution_count": null,
   "metadata": {},
   "outputs": [],
   "source": [
    "DF = pd.DataFrame(WB_SS_data, columns=WB_SS_Cols).set_index('#').replace({None: np.nan})\n",
    "DF['replace'] = DF['replace'].apply(lambda x: ast.literal_eval(x) if pd.notna(x) else np.nan) # To convert tuples to actual tuples (they're read as strings)\n",
    "DF['insert'] = DF['insert'].apply(lambda x: ast.literal_eval(x) if pd.notna(x) else np.nan) # Similarly for insert column\n",
    "DF_init = DF.copy()"
   ]
  },
  {
   "cell_type": "markdown",
   "metadata": {},
   "source": [
    "### 1.0.1 Inspect"
   ]
  },
  {
   "cell_type": "code",
   "execution_count": null,
   "metadata": {},
   "outputs": [
    {
     "name": "stdout",
     "output_type": "stream",
     "text": [
      "\u001b[1mdata\\3_input\\dbase\\ibound\\IBOUND_L1.IDF\tappears multiple times.\u001b[0m\n",
      "It appears 39 times in those packages:\n",
      "CAP\n",
      "BND\n",
      "\n",
      "\u001b[1mdata\\3_input\\dbase\\shd\\shd_L1.idf\tappears multiple times.\u001b[0m\n",
      "It appears 2 times in those packages:\n",
      "SHD\n",
      "\n",
      "\u001b[1mdata\\3_input\\dbase\\shd\\shd_L2.idf\tappears multiple times.\u001b[0m\n",
      "It appears 2 times in those packages:\n",
      "SHD\n",
      "\n",
      "\u001b[1mdata\\3_input\\dbase\\shd\\shd_L3.idf\tappears multiple times.\u001b[0m\n",
      "It appears 2 times in those packages:\n",
      "SHD\n",
      "\n",
      "\u001b[1mdata\\3_input\\dbase\\shd\\shd_L4.idf\tappears multiple times.\u001b[0m\n",
      "It appears 2 times in those packages:\n",
      "SHD\n",
      "\n",
      "\u001b[1mdata\\3_input\\dbase\\shd\\shd_L5.idf\tappears multiple times.\u001b[0m\n",
      "It appears 2 times in those packages:\n",
      "SHD\n",
      "\n",
      "\u001b[1mdata\\3_input\\dbase\\shd\\shd_L6.idf\tappears multiple times.\u001b[0m\n",
      "It appears 2 times in those packages:\n",
      "SHD\n",
      "\n",
      "\u001b[1mdata\\3_input\\dbase\\shd\\shd_L7.idf\tappears multiple times.\u001b[0m\n",
      "It appears 2 times in those packages:\n",
      "SHD\n",
      "\n",
      "\u001b[1mdata\\3_input\\dbase\\shd\\shd_L8.idf\tappears multiple times.\u001b[0m\n",
      "It appears 2 times in those packages:\n",
      "SHD\n",
      "\n",
      "\u001b[1mdata\\3_input\\dbase\\shd\\shd_L9.idf\tappears multiple times.\u001b[0m\n",
      "It appears 2 times in those packages:\n",
      "SHD\n",
      "\n",
      "\u001b[1mdata\\3_input\\dbase\\shd\\shd_L10.idf\tappears multiple times.\u001b[0m\n",
      "It appears 2 times in those packages:\n",
      "SHD\n",
      "\n",
      "\u001b[1mdata\\3_input\\dbase\\shd\\shd_L11.idf\tappears multiple times.\u001b[0m\n",
      "It appears 2 times in those packages:\n",
      "SHD\n",
      "\n",
      "\u001b[1mdata\\3_input\\dbase\\shd\\shd_L12.idf\tappears multiple times.\u001b[0m\n",
      "It appears 2 times in those packages:\n",
      "SHD\n",
      "\n",
      "\u001b[1mdata\\3_input\\dbase\\shd\\shd_L13.idf\tappears multiple times.\u001b[0m\n",
      "It appears 2 times in those packages:\n",
      "SHD\n",
      "\n",
      "\u001b[1mdata\\3_input\\dbase\\shd\\shd_L14.idf\tappears multiple times.\u001b[0m\n",
      "It appears 2 times in those packages:\n",
      "SHD\n",
      "\n",
      "\u001b[1mdata\\3_input\\dbase\\shd\\shd_L15.idf\tappears multiple times.\u001b[0m\n",
      "It appears 2 times in those packages:\n",
      "SHD\n",
      "\n",
      "\u001b[1mdata\\3_input\\dbase\\shd\\shd_L16.idf\tappears multiple times.\u001b[0m\n",
      "It appears 2 times in those packages:\n",
      "SHD\n",
      "\n",
      "\u001b[1mdata\\3_input\\dbase\\shd\\shd_L17.idf\tappears multiple times.\u001b[0m\n",
      "It appears 2 times in those packages:\n",
      "SHD\n",
      "\n",
      "\u001b[1mdata\\3_input\\dbase\\shd\\shd_L18.idf\tappears multiple times.\u001b[0m\n",
      "It appears 2 times in those packages:\n",
      "SHD\n",
      "\n",
      "\u001b[1mdata\\3_input\\dbase\\HFB\\Peelrandbreuk.GEN\tappears multiple times.\u001b[0m\n",
      "It appears 37 times in those packages:\n",
      "HFB\n",
      "\n",
      "\u001b[1mdata\\3_input\\dbase\\HFB\\Feldbiss_noord.GEN\tappears multiple times.\u001b[0m\n",
      "It appears 21 times in those packages:\n",
      "HFB\n",
      "\n",
      "\u001b[1mdata\\3_input\\dbase\\HFB\\Feldbiss_midden.GEN\tappears multiple times.\u001b[0m\n",
      "It appears 21 times in those packages:\n",
      "HFB\n",
      "\n",
      "\u001b[1mdata\\3_input\\dbase\\HFB\\Feldbiss_zuid.GEN\tappears multiple times.\u001b[0m\n",
      "It appears 21 times in those packages:\n",
      "HFB\n",
      "\n",
      "\u001b[1mdata\\3_input\\dbase\\HFB\\h3o_253_kempen.GEN\tappears multiple times.\u001b[0m\n",
      "It appears 29 times in those packages:\n",
      "HFB\n",
      "\n",
      "\u001b[1mdata\\3_input\\dbase\\HFB\\regis_beegden.GEN\tappears multiple times.\u001b[0m\n",
      "It appears 21 times in those packages:\n",
      "HFB\n",
      "\n",
      "\u001b[1mdata\\3_input\\dbase\\drain\\buisdrainage\\BUISDRAINAGE_CONDUCTANCE.IDF\tappears multiple times.\u001b[0m\n",
      "It appears 2 times in those packages:\n",
      "DRN\n",
      "\n",
      "\u001b[1mdata\\3_input\\dbase\\surfacelevel\\MV_25M_MODEL_CONDUCTANCE.IDF\tappears multiple times.\u001b[0m\n",
      "It appears 2 times in those packages:\n",
      "DRN\n",
      "\n",
      "\u001b[1mdata\\3_input\\dbase\\drain\\belgie\\ONTWATERING_BELGIE_CONDUCTANCE.IDF\tappears multiple times.\u001b[0m\n",
      "It appears 2 times in those packages:\n",
      "DRN\n",
      "\n",
      "\u001b[1mdata\\3_input\\dbase\\sof\\sof_25m\\output\\BUISDRAINAGE_FLD.IDF\tappears multiple times.\u001b[0m\n",
      "It appears 2 times in those packages:\n",
      "DRN\n",
      "\n",
      "\u001b[1mdata\\3_input\\dbase\\sof\\sof_25m\\output\\MV_25M_FLD.IDF\tappears multiple times.\u001b[0m\n",
      "It appears 2 times in those packages:\n",
      "DRN\n",
      "\n",
      "\u001b[1mdata\\3_input\\dbase\\sof\\sof_25m\\output\\BELGIE_FLD.IDF\tappears multiple times.\u001b[0m\n",
      "It appears 2 times in those packages:\n",
      "DRN\n",
      "\n",
      "\u001b[1mdata\\3_input\\dbase\\drain\\detailwatergangen\\25m\\DETAILWATERGANGEN_CONDUCTANCE.IDF\tappears multiple times.\u001b[0m\n",
      "It appears 3 times in those packages:\n",
      "RIV\n",
      "\n",
      "\u001b[1mdata\\3_input\\dbase\\rivers\\legger\\25m\\RIVER_RIV_COND.IDF\tappears multiple times.\u001b[0m\n",
      "It appears 3 times in those packages:\n",
      "RIV\n",
      "\n",
      "\u001b[1mdata\\3_input\\dbase\\rivers\\legger\\25m\\RIVER_DRN_COND.IDF\tappears multiple times.\u001b[0m\n",
      "It appears 3 times in those packages:\n",
      "RIV\n",
      "\n",
      "\u001b[1mdata\\3_input\\dbase\\rivers\\grote_rivieren\\COND_MAAS.IDF\tappears multiple times.\u001b[0m\n",
      "It appears 3 times in those packages:\n",
      "RIV\n",
      "\n",
      "\u001b[1mdata\\3_input\\dbase\\rivers\\polderpeil\\POLDERPEIL_COND.IDF\tappears multiple times.\u001b[0m\n",
      "It appears 3 times in those packages:\n",
      "RIV\n",
      "\n",
      "\u001b[1mdata\\3_input\\dbase\\sof\\sof_25m\\output\\DETAILWATERGANGEN_FLD.IDF\tappears multiple times.\u001b[0m\n",
      "It appears 6 times in those packages:\n",
      "RIV\n",
      "\n",
      "\u001b[1mdata\\3_input\\dbase\\rivers\\legger\\25m\\RIVER_WINTER_STAGE.IDF\tappears multiple times.\u001b[0m\n",
      "It appears 6 times in those packages:\n",
      "RIV\n",
      "\n",
      "\u001b[1mdata\\3_input\\dbase\\rivers\\grote_rivieren\\STAGE_MAAS.IDF\tappears multiple times.\u001b[0m\n",
      "It appears 3 times in those packages:\n",
      "RIV\n",
      "\n",
      "\u001b[1mdata\\3_input\\dbase\\rivers\\polderpeil\\POLDERPEIL_ZOMER.IDF\tappears multiple times.\u001b[0m\n",
      "It appears 2 times in those packages:\n",
      "RIV\n",
      "\n",
      "\u001b[1mdata\\3_input\\dbase\\rivers\\legger\\25m\\RIVER_SUMMER_STAGE.IDF\tappears multiple times.\u001b[0m\n",
      "It appears 3 times in those packages:\n",
      "RIV\n",
      "\n",
      "\u001b[1mdata\\3_input\\dbase\\rivers\\legger\\25m\\RIVER_RIVER_BOTTOM.IDF\tappears multiple times.\u001b[0m\n",
      "It appears 3 times in those packages:\n",
      "RIV\n",
      "\n",
      "\u001b[1mdata\\3_input\\dbase\\rivers\\grote_rivieren\\BOTTOM_MAAS.IDF\tappears multiple times.\u001b[0m\n",
      "It appears 3 times in those packages:\n",
      "RIV\n",
      "\n",
      "\u001b[1mdata\\3_input\\dbase\\rivers\\polderpeil\\POLDERPEIL_BOTTOM.IDF\tappears multiple times.\u001b[0m\n",
      "It appears 3 times in those packages:\n",
      "RIV\n",
      "\n",
      "\u001b[1mdata\\3_input\\HEAD_grof_-1B\\HEAD\tappears multiple times.\u001b[0m\n",
      "It appears 2 times in those packages:\n",
      "CHD\n",
      "\n",
      "\u001b[1mdata\\3_input\\dbase\\wells\\brabant_water\\welT_brabant_water_02-PP030.txt\tappears multiple times.\u001b[0m\n",
      "It appears 2 times in those packages:\n",
      "WEL\\brabant_water\n",
      "\n",
      "\u001b[1mdata\\3_input\\dbase\\wells\\brabant_water\\welT_brabant_water_02-PP031.txt\tappears multiple times.\u001b[0m\n",
      "It appears 2 times in those packages:\n",
      "WEL\\brabant_water\n",
      "\n",
      "\u001b[1mdata\\3_input\\dbase\\wells\\brabant_water\\welT_brabant_water_02-PP032.txt\tappears multiple times.\u001b[0m\n",
      "It appears 2 times in those packages:\n",
      "WEL\\brabant_water\n",
      "\n",
      "\u001b[1mdata\\3_input\\dbase\\wells\\brabant_water\\welT_brabant_water_02-PP033.txt\tappears multiple times.\u001b[0m\n",
      "It appears 2 times in those packages:\n",
      "WEL\\brabant_water\n",
      "\n",
      "\u001b[1mdata\\3_input\\dbase\\wells\\brabant_water\\welT_brabant_water_02-PP034.txt\tappears multiple times.\u001b[0m\n",
      "It appears 2 times in those packages:\n",
      "WEL\\brabant_water\n",
      "\n",
      "\u001b[1mdata\\3_input\\dbase\\wells\\brabant_water\\welT_brabant_water_02-PP035.txt\tappears multiple times.\u001b[0m\n",
      "It appears 2 times in those packages:\n",
      "WEL\\brabant_water\n",
      "\n",
      "\u001b[1mdata\\3_input\\dbase\\wells\\brabant_water\\welT_brabant_water_02-PP036.txt\tappears multiple times.\u001b[0m\n",
      "It appears 2 times in those packages:\n",
      "WEL\\brabant_water\n",
      "\n",
      "\u001b[1mdata\\3_input\\dbase\\wells\\brabant_water\\welT_brabant_water_12-PP004.txt\tappears multiple times.\u001b[0m\n",
      "It appears 2 times in those packages:\n",
      "WEL\\brabant_water\n",
      "\n",
      "\u001b[1mdata\\3_input\\dbase\\wells\\brabant_water\\welT_brabant_water_22-PP031.txt\tappears multiple times.\u001b[0m\n",
      "It appears 2 times in those packages:\n",
      "WEL\\brabant_water\n",
      "\n",
      "\u001b[1mdata\\3_input\\dbase\\wells\\brabant_water\\welT_brabant_water_20-PP101.txt\tappears multiple times.\u001b[0m\n",
      "It appears 2 times in those packages:\n",
      "WEL\\brabant_water\n",
      "\n",
      "\u001b[1mdata\\3_input\\dbase\\wells\\brabant_water\\welT_brabant_water_20-PP102.txt\tappears multiple times.\u001b[0m\n",
      "It appears 2 times in those packages:\n",
      "WEL\\brabant_water\n",
      "\n",
      "\u001b[1mdata\\3_input\\dbase\\wells\\brabant_water\\welT_brabant_water_20-PP103.txt\tappears multiple times.\u001b[0m\n",
      "It appears 2 times in those packages:\n",
      "WEL\\brabant_water\n",
      "\n",
      "\u001b[1mdata\\3_input\\dbase\\wells\\brabant_water\\welT_brabant_water_20-PP111.txt\tappears multiple times.\u001b[0m\n",
      "It appears 2 times in those packages:\n",
      "WEL\\brabant_water\n",
      "\n",
      "\u001b[1mdata\\3_input\\dbase\\wells\\brabant_water\\welT_brabant_water_20-PP112.txt\tappears multiple times.\u001b[0m\n",
      "It appears 2 times in those packages:\n",
      "WEL\\brabant_water\n",
      "\n",
      "\u001b[1mdata\\3_input\\dbase\\wells\\brabant_water\\welT_brabant_water_20-PP113.txt\tappears multiple times.\u001b[0m\n",
      "It appears 2 times in those packages:\n",
      "WEL\\brabant_water\n",
      "\n",
      "\u001b[1mdata\\3_input\\dbase\\wells\\brabant_water\\welT_brabant_water_20-PP114.txt\tappears multiple times.\u001b[0m\n",
      "It appears 2 times in those packages:\n",
      "WEL\\brabant_water\n",
      "\n",
      "\u001b[1mdata\\3_input\\dbase\\wells\\brabant_water\\welT_brabant_water_20-PP115.txt\tappears multiple times.\u001b[0m\n",
      "It appears 2 times in those packages:\n",
      "WEL\\brabant_water\n",
      "\n",
      "\u001b[1mdata\\3_input\\dbase\\wells\\brabant_water\\welT_brabant_water_30-PP057.txt\tappears multiple times.\u001b[0m\n",
      "It appears 2 times in those packages:\n",
      "WEL\\brabant_water\n",
      "\n",
      "\u001b[1mdata\\3_input\\dbase\\wells\\brabant_water\\welT_brabant_water_35-PP008.txt\tappears multiple times.\u001b[0m\n",
      "It appears 2 times in those packages:\n",
      "WEL\\brabant_water\n",
      "\n",
      "\u001b[1mdata\\3_input\\dbase\\wells\\brabant_water\\welT_brabant_water_39-PPD30.txt\tappears multiple times.\u001b[0m\n",
      "It appears 2 times in those packages:\n",
      "WEL\\brabant_water\n",
      "\n"
     ]
    }
   ],
   "source": [
    "count = 0\n",
    "DF_Dup = DF.loc[DF.duplicated('Dir_Src_Rel', keep=False)]\n",
    "for i in DF_Dup['Dir_Src_Rel'].unique():\n",
    "    DF_Dup_Dir = DF_Dup.loc[DF_Dup['Dir_Src_Rel']==i]\n",
    "    count += DF_Dup_Dir.shape[0]\n",
    "    print(f\"\\033[1m{i}\\tappears multiple times.\\033[0m\")\n",
    "    print(f'It appears {DF_Dup_Dir.shape[0]} times in those packages:')\n",
    "    for j in DF_Dup_Dir['Module'].unique():\n",
    "        print(j)\n",
    "    #print(DF_Dup.loc[DF_Dup['Dir_Src']==i])\n",
    "    print()"
   ]
  },
  {
   "cell_type": "markdown",
   "metadata": {},
   "source": [
    "The duplicates are reasonable. Some files are used multiple times, e.g. IDOMAIN is the same for all the layers, some river parameters are the same for the SS and summer/winter or the same file for multiple RIV entries.\n",
    "\n",
    "But let's also check if there are any duplicate Src Dirs where the Dst Dir differs. There should be none, as there is no reason for the same file to be stored twice."
   ]
  },
  {
   "cell_type": "code",
   "execution_count": null,
   "metadata": {},
   "outputs": [
    {
     "data": {
      "text/plain": [
       "<pandas.core.groupby.generic.DataFrameGroupBy object at 0x000001DA87DAEB50>"
      ]
     },
     "execution_count": 37,
     "metadata": {},
     "output_type": "execute_result"
    }
   ],
   "source": [
    "DF_Dup.groupby('Dir_Src_Rel')"
   ]
  },
  {
   "cell_type": "code",
   "execution_count": null,
   "metadata": {},
   "outputs": [
    {
     "data": {
      "text/html": [
       "<div>\n",
       "<style scoped>\n",
       "    .dataframe tbody tr th:only-of-type {\n",
       "        vertical-align: middle;\n",
       "    }\n",
       "\n",
       "    .dataframe tbody tr th {\n",
       "        vertical-align: top;\n",
       "    }\n",
       "\n",
       "    .dataframe thead th {\n",
       "        text-align: right;\n",
       "    }\n",
       "</style>\n",
       "<table border=\"1\" class=\"dataframe\">\n",
       "  <thead>\n",
       "    <tr style=\"text-align: right;\">\n",
       "      <th></th>\n",
       "      <th>Instruction</th>\n",
       "      <th>DT_processed</th>\n",
       "      <th>Type</th>\n",
       "      <th>Mdl_Old</th>\n",
       "      <th>Module</th>\n",
       "      <th>Dir_Src_Rel</th>\n",
       "      <th>Mdl</th>\n",
       "      <th>Dir_Dst_Rel</th>\n",
       "      <th>rename</th>\n",
       "      <th>replace</th>\n",
       "      <th>insert</th>\n",
       "      <th>append</th>\n",
       "      <th>relative_dir</th>\n",
       "      <th>Dir_Src</th>\n",
       "      <th>Dir_Dst_Fo</th>\n",
       "      <th>Src_Fi</th>\n",
       "      <th>Dst_Fi</th>\n",
       "      <th>Dir_Dst</th>\n",
       "    </tr>\n",
       "    <tr>\n",
       "      <th>#</th>\n",
       "      <th></th>\n",
       "      <th></th>\n",
       "      <th></th>\n",
       "      <th></th>\n",
       "      <th></th>\n",
       "      <th></th>\n",
       "      <th></th>\n",
       "      <th></th>\n",
       "      <th></th>\n",
       "      <th></th>\n",
       "      <th></th>\n",
       "      <th></th>\n",
       "      <th></th>\n",
       "      <th></th>\n",
       "      <th></th>\n",
       "      <th></th>\n",
       "      <th></th>\n",
       "      <th></th>\n",
       "    </tr>\n",
       "  </thead>\n",
       "  <tbody>\n",
       "  </tbody>\n",
       "</table>\n",
       "</div>"
      ],
      "text/plain": [
       "Empty DataFrame\n",
       "Columns: [Instruction, DT_processed, Type, Mdl_Old, Module, Dir_Src_Rel, Mdl, Dir_Dst_Rel, rename, replace, insert, append, relative_dir, Dir_Src, Dir_Dst_Fo, Src_Fi, Dst_Fi, Dir_Dst]\n",
       "Index: []"
      ]
     },
     "execution_count": 38,
     "metadata": {},
     "output_type": "execute_result"
    }
   ],
   "source": [
    "DF_Dup_diff_Dst =DF_Dup.groupby('Dir_Src_Rel').filter(lambda group: group['Dir_Dst_Rel'].nunique() > 1)\n",
    "DF_Dup_diff_Dst"
   ]
  },
  {
   "cell_type": "markdown",
   "metadata": {},
   "source": [
    "Correct!"
   ]
  },
  {
   "cell_type": "code",
   "execution_count": null,
   "metadata": {},
   "outputs": [
    {
     "data": {
      "text/plain": [
       "array([ 2., nan])"
      ]
     },
     "execution_count": 39,
     "metadata": {},
     "output_type": "execute_result"
    }
   ],
   "source": [
    "DF['replace'].apply(lambda x: x if (x is None) or isinstance(x, float) else len(x)).unique() # prints length of tuples to make sure they're even numbers"
   ]
  },
  {
   "cell_type": "markdown",
   "metadata": {},
   "source": [
    "## 1.1. Prepare new Fi names"
   ]
  },
  {
   "cell_type": "code",
   "execution_count": null,
   "metadata": {},
   "outputs": [],
   "source": [
    "DF_process = DF.loc[DF['Instruction']=='Process'].drop_duplicates() # We want to select files that haven't been copied yet and drop duplicates, cause each file only needs to be copied once."
   ]
  },
  {
   "cell_type": "code",
   "execution_count": null,
   "metadata": {},
   "outputs": [],
   "source": [
    "DF_process.loc[~DF_process.index.isin(DF_process.index), 'Instruction'] = 'Duplicate' # Set duplicate rows instruction to duplicate"
   ]
  },
  {
   "cell_type": "code",
   "execution_count": null,
   "metadata": {},
   "outputs": [
    {
     "name": "stdout",
     "output_type": "stream",
     "text": [
      "251 /2145 rows have been removed cause they're duplicates.\n"
     ]
    }
   ],
   "source": [
    "print(DF.shape[0] - DF_process.shape[0], f\"/{DF.shape[0]} rows have been removed cause they're duplicates.\")"
   ]
  },
  {
   "cell_type": "code",
   "execution_count": null,
   "metadata": {},
   "outputs": [],
   "source": [
    "DF_process['Dir_Src'] = Dir_Src_base + '\\\\' + DF_process['Mdl_Old'] + '\\\\' + DF_process['Dir_Src_Rel'] #Directory to copy file from\n",
    "DF_process['Dir_Dst_Fo'] = Dir_Dst_base + '\\\\' + DF_process['Mdl'] + '\\\\' + DF_process['Dir_Dst_Rel'] # Directory for file to be copied to (lacks file name ATM), will be added later."
   ]
  },
  {
   "cell_type": "code",
   "execution_count": null,
   "metadata": {},
   "outputs": [],
   "source": [
    "DF_process['Src_Fi'] = DF_process['Dir_Src'].str.split('\\\\').str[-1]  #Set new filenames same as old"
   ]
  },
  {
   "cell_type": "code",
   "execution_count": null,
   "metadata": {},
   "outputs": [],
   "source": [
    "DF_process.loc[DF_process['Type']!='Fo', 'Dst_Fi'] = DF_process.loc[DF_process['Type']!='Fo', 'Src_Fi'].astype(str) # Copy those for the Dst\n",
    "if DF_process.empty:\n",
    "    print(\"DF_process is empty. Skipping operations.\")\n",
    "else:\n",
    "    DF_process.loc[DF_process['Type'] != 'Fo', 'Dst_Fi'] = fn.edit_Fi_name(DF_process.loc[DF_process['Type'] != 'Fo'].copy(),\n",
    "                                                                           'Dst_Fi', 'rename', 'replace', 'insert', 'append')"
   ]
  },
  {
   "cell_type": "code",
   "execution_count": null,
   "metadata": {},
   "outputs": [],
   "source": [
    "DF_process['Dir_Dst'] = DF_process['Dir_Dst_Fo'] + os.sep + DF_process['Dst_Fi']"
   ]
  },
  {
   "cell_type": "code",
   "execution_count": null,
   "metadata": {},
   "outputs": [],
   "source": [
    "DF_process.to_csv('DB_process_for_inspection.csv')"
   ]
  },
  {
   "cell_type": "markdown",
   "metadata": {},
   "source": [
    "Inspect the file before moving forward. The destination directories need to make sense."
   ]
  },
  {
   "cell_type": "markdown",
   "metadata": {},
   "source": [
    "## 1.2. Copy files (ignore Folder directories for now)"
   ]
  },
  {
   "cell_type": "code",
   "execution_count": null,
   "metadata": {},
   "outputs": [
    {
     "name": "stderr",
     "output_type": "stream",
     "text": [
      "Copying files: 100%|██████████| 1889/1889 [00:01<00:00, 1487.71it/s]"
     ]
    },
    {
     "name": "stdout",
     "output_type": "stream",
     "text": [
      "\n"
     ]
    },
    {
     "name": "stderr",
     "output_type": "stream",
     "text": [
      "\n"
     ]
    }
   ],
   "source": [
    "tqdm.pandas(desc=\"Copying files\") # Apply the function row-wise with tqdm for tracking progress (optional)\n",
    "DF_process.loc[DF_process['Type'] == 'Fi'] = DF_process.loc[DF_process['Type'] == 'Fi'].progress_apply(fn.copy_Fi_DF_row, axis=1)\n",
    "print()"
   ]
  },
  {
   "cell_type": "markdown",
   "metadata": {},
   "source": [
    "## 1.3. Copy files from folder directories."
   ]
  },
  {
   "cell_type": "markdown",
   "metadata": {},
   "source": [
    "Folder copying below uses Dir_Dst_Fo, so there is no need to calculate file directories as with the files. The replace column is the only one that's useful so far."
   ]
  },
  {
   "cell_type": "code",
   "execution_count": null,
   "metadata": {},
   "outputs": [
    {
     "name": "stderr",
     "output_type": "stream",
     "text": [
      "Copying from C:\\WS_Mdl\\N_Brabant\\data\\3_input\\HEAD_grof_-1B\\HEAD to C:\\OD\\WS_Mdl\\models\\NBr\\In\\CHD\\NBr1: 100%|██████████| 10730/10730 [00:01<00:00, 6427.04it/s]\n",
      "Copying from C:\\WS_Mdl\\N_Brabant\\data\\1_external\\MetaSWAP\\database\\LHM2018_v02v\\ to C:\\OD\\WS_Mdl\\models\\NBr\\In\\CAP\\DB\\LHM2018_v02v: 100%|██████████| 49583/49583 [00:21<00:00, 2305.38it/s]\n",
      "Copying from C:\\WS_Mdl\\N_Brabant\\data\\3_input\\dbase\\metaswap\\meteo\\precipitation to C:\\OD\\WS_Mdl\\models\\NBr\\In\\CAP\\P: 100%|██████████| 10875/10875 [00:01<00:00, 6802.20it/s]\n",
      "Copying from C:\\WS_Mdl\\N_Brabant\\data\\3_input\\dbase\\metaswap\\meteo\\evaporation to C:\\OD\\WS_Mdl\\models\\NBr\\In\\CAP\\PET: 100%|██████████| 10872/10872 [00:01<00:00, 6662.40it/s]\n",
      "Copying from C:\\WS_Mdl\\N_Brabant\\data\\3_input\\HEAD_grof_-1B\\HEAD to C:\\OD\\WS_Mdl\\models\\NBr\\In\\CHD\\NBr1: 100%|██████████| 10730/10730 [00:01<00:00, 6593.78it/s]\n",
      "Processing folders: 100%|██████████| 5/5 [00:31<00:00,  6.34s/it]\n"
     ]
    }
   ],
   "source": [
    "for i, row in tqdm(DF_process[DF_process['Type'] == 'Fo'].iterrows(), total=len(DF_process[DF_process['Type'] == 'Fo']), desc=\"Processing folders\"):\n",
    "    fn.copy_Fo(row['Dir_Src'], row['Dir_Dst_Fo'], replace=row['replace'])\n",
    "    DF_process.at[i, 'Instruction'] = 'Processed'\n",
    "    DF_process.at[i, 'DT_processed'] = DT.now()\n"
   ]
  },
  {
   "cell_type": "code",
   "execution_count": null,
   "metadata": {},
   "outputs": [
    {
     "data": {
      "text/plain": [
       "Instruction\n",
       "Processed    1894\n",
       "Name: count, dtype: int64"
      ]
     },
     "execution_count": 50,
     "metadata": {},
     "output_type": "execute_result"
    }
   ],
   "source": [
    "DF_process['Instruction'].value_counts()"
   ]
  },
  {
   "cell_type": "markdown",
   "metadata": {},
   "source": [
    "## 1.4. Write DF back to input file (to reflect changes to Instruction column and add new columns)."
   ]
  },
  {
   "cell_type": "markdown",
   "metadata": {},
   "source": [
    "### 1.4.0. Return DF_process edits to DF"
   ]
  },
  {
   "cell_type": "code",
   "execution_count": null,
   "metadata": {},
   "outputs": [],
   "source": [
    "if not DF_process.empty: # Update values in DF with DF_process\n",
    "    DF.update(DF_process)"
   ]
  },
  {
   "cell_type": "code",
   "execution_count": null,
   "metadata": {},
   "outputs": [],
   "source": [
    "additional_columns = [col for col in DF_process.columns if col not in DF.columns] # Append additional columns from DF_process to DF. Only necessary the first time. Useless now.\n",
    "DF = pd.concat([DF, DF_process[additional_columns]], axis=1)"
   ]
  },
  {
   "cell_type": "code",
   "execution_count": null,
   "metadata": {},
   "outputs": [],
   "source": [
    "DF.insert(0, \"#\", DF.index) # Add \"#\" column with row numbers and make it the first column"
   ]
  },
  {
   "cell_type": "code",
   "execution_count": null,
   "metadata": {},
   "outputs": [],
   "source": [
    "if not DF.iloc[:, 1:].equals(DF_init):\n",
    "    DF[DF.columns[1:]] = DF[DF.columns[1:]].fillna(\"\").astype(str) # Convert all DataFrame values to strings and replace NaNs with blank strings (except for index columns, which is numeric)\n",
    "\n",
    "    # Iterate over the DataFrame rows and columns to update the Excel sheet\n",
    "    for i, R in enumerate(DF.itertuples(index=False), start=2):  # Start=2 because headers are in the top row\n",
    "        for j, C in enumerate(R, start=1):  # Iterate over row elements\n",
    "            cell = WB_SS.cell(row=i, column=j)\n",
    "            cell.value = C\n",
    "\n",
    "    # Handle new columns\n",
    "    N_C_existing = len(WB_SS_Cols)  # Number of existing columns\n",
    "    l_C_extra = [col for col in DF.columns if col not in WB_SS_Cols]  # Identify extra columns\n",
    "\n",
    "    for j, C in enumerate(l_C_extra, start=N_C_existing + 1):  # Write extra columns starting after existing ones\n",
    "        WB_SS.cell(row=1, column=j, value=C)  # Write the column header\n",
    "        for i, value in enumerate(DF[C], start=2):  # Write column values\n",
    "            WB_SS.cell(row=i, column=j, value=value)\n",
    "\n",
    "    # Save the workbook back to the file\n",
    "    WB.save(Dir_In)\n",
    "else:\n",
    "    print(f\"No changes have been made. Hence {Dir_In} wasn't read.\")"
   ]
  },
  {
   "cell_type": "markdown",
   "metadata": {},
   "source": [
    "# 2. Edit text in files"
   ]
  },
  {
   "cell_type": "markdown",
   "metadata": {},
   "source": [
    "## 2.0. Convert full directories to relative directories."
   ]
  },
  {
   "cell_type": "code",
   "execution_count": null,
   "metadata": {},
   "outputs": [],
   "source": [
    "t_base_replace_Src = (Dir_Src_base + '\\\\' + DF_process['Mdl_Old'].iloc[0], \"..\\..\")\n",
    "t_base_replace_Dst = (Dir_Dst_base + '\\\\' + DF_process['Mdl'].iloc[0], \"..\\..\")"
   ]
  },
  {
   "cell_type": "code",
   "execution_count": null,
   "metadata": {},
   "outputs": [],
   "source": [
    "DF_process['Dir_Src'] = DF_process['Dir_Src'].str.replace(*t_base_replace_Src)\n",
    "DF_process['Dir_Dst'] = DF_process['Dir_Dst'].str.replace(*t_base_replace_Dst)\n",
    "DF_process['Dir_Dst_Fo'] = DF_process['Dir_Dst_Fo'].str.replace(*t_base_replace_Dst)"
   ]
  },
  {
   "cell_type": "markdown",
   "metadata": {},
   "source": [
    "## 2.1. Write new PRJ file"
   ]
  },
  {
   "cell_type": "markdown",
   "metadata": {},
   "source": [
    "Fi lines first"
   ]
  },
  {
   "cell_type": "code",
   "execution_count": null,
   "metadata": {},
   "outputs": [
    {
     "data": {
      "text/plain": [
       "#\n",
       "1                                 ..\\..\\data\\3_input\\dbase\\ibound\\IBOUND_L1.IDF\n",
       "2                                     ..\\..\\data\\3_input\\dbase\\metaswap\\lgn.idf\n",
       "3                             ..\\..\\data\\3_input\\dbase\\metaswap\\rootzone_cm.idf\n",
       "4                                ..\\..\\data\\3_input\\dbase\\metaswap\\BODEM370.idf\n",
       "6                        ..\\..\\data\\3_input\\dbase\\surfacelevel\\MV_25M_MODEL.IDF\n",
       "                                         ...                                   \n",
       "2141                      ..\\..\\data\\3_input\\dbase\\metaswap\\meteo\\precipitation\n",
       "2142                        ..\\..\\data\\3_input\\dbase\\metaswap\\meteo\\evaporation\n",
       "2143                                      ..\\..\\data\\3_input\\HEAD_grof_-1B\\HEAD\n",
       "2144    ..\\..\\data\\1_external\\BrabantWater\\dbase\\timeseries\\ijkset_selectie.ipf\n",
       "2145                                   ..\\..\\data\\2_interim\\obs_dataset\\obs.ipf\n",
       "Name: Dir_Src, Length: 1894, dtype: object"
      ]
     },
     "execution_count": 58,
     "metadata": {},
     "output_type": "execute_result"
    }
   ],
   "source": [
    "DF_process['Dir_Src']"
   ]
  },
  {
   "cell_type": "code",
   "execution_count": null,
   "metadata": {},
   "outputs": [],
   "source": [
    "fn.replace_in_file_Fi_line(DF_process.loc[DF_process['Type']=='Fi'], Dir_PRJ_Old, Dir_PRJ_New, \"Dir_Src\", \"Dir_Dst\")"
   ]
  },
  {
   "cell_type": "markdown",
   "metadata": {},
   "source": [
    "Fo lines now. Those need to be processed separately cause the replace column was applied when the files were being copied, but directories for individual files haven't been created. "
   ]
  },
  {
   "cell_type": "code",
   "execution_count": null,
   "metadata": {},
   "outputs": [],
   "source": [
    "fn.replace_in_file_Fo_line(DF_process.loc[DF_process['Type']=='Fo'], Dir_PRJ_New, Dir_PRJ_New, \"Dir_Src\", \"Dir_Dst_Fo\")"
   ]
  },
  {
   "cell_type": "markdown",
   "metadata": {},
   "source": [
    "## 2.2. Write new mete_grid.inp"
   ]
  },
  {
   "cell_type": "code",
   "execution_count": null,
   "metadata": {},
   "outputs": [],
   "source": [
    "fn.replace_in_file_Fo_line(DF_process.loc[DF_process['Type']=='Fo'], Dir_mete_grid_Old, Dir_mete_grid_New, \"Dir_Src\", \"Dir_Dst_Fo\")"
   ]
  },
  {
   "cell_type": "markdown",
   "metadata": {},
   "source": [
    "Dummy grids were used for the first day for some reason. I'll replace those with the real grids."
   ]
  },
  {
   "cell_type": "code",
   "execution_count": null,
   "metadata": {},
   "outputs": [],
   "source": [
    "with open(Dir_mete_grid_New, 'r') as f: # Open the file in 'r' mode to read its content\n",
    "    l_lines = f.readlines()\n",
    "# Modify the content\n",
    "l_lines[0] = l_lines[0].replace(r\"..\\..\\data\\1_external\\metegrid_data\\MeteoInputP_precip_8mm.asc\", r\"..\\..\\In\\CAP\\P\\P_19930101.asc\").replace(r\"..\\..\\data\\1_external\\metegrid_data\\MeteoInputP_evap_0mm.asc\", r\"..\\..\\In\\CAP\\PET\\PET_19930101.asc\")\n",
    "\n",
    "with open(Dir_mete_grid_New, 'w') as f: # Open the file in 'w' mode to write back the modified content\n",
    "    f.writelines(l_lines)"
   ]
  },
  {
   "cell_type": "markdown",
   "metadata": {},
   "source": [
    "## 2.3. para_sim.inp edit\n",
    "MetaSWAP DB directory needs to be changed."
   ]
  },
  {
   "cell_type": "code",
   "execution_count": null,
   "metadata": {},
   "outputs": [],
   "source": [
    "Dir_para_sim_Src = r\"C:\\OD\\WS_Mdl\\models\\NBr\\In\\CAP\\para_sim\\NBr1\\para_sim.inp\"\n",
    "Dir_para_sim_Dst = r\"C:\\OD\\WS_Mdl\\models\\NBr\\Sim\\NBR1\\GWF_1\\MSWAPINPUT\\PARA_SIM.INP\"\n",
    "Dir_para_sim_val = r\"..\\..\\data\\1_external\\MetaSWAP\\database\\LHM2018_v02v\"\n",
    "Dir_para_sim_val_replace = r\"C:\\OD\\WS_Mdl\\models\\NBr\\In\\CAP\\DB\\LHM2018_v02v\""
   ]
  },
  {
   "cell_type": "code",
   "execution_count": null,
   "metadata": {},
   "outputs": [],
   "source": [
    "with open(Dir_para_sim_Src, 'r') as f1:\n",
    "    f_contents = f1.read().replace(Dir_para_sim_val, Dir_para_sim_val_replace)\n",
    "with open(Dir_para_sim_Dst, 'w') as f2:                                  \n",
    "    f2.write(f_contents)\n"
   ]
  },
  {
   "cell_type": "markdown",
   "metadata": {},
   "source": [
    "## 2.4 Edit transient WEL files\n",
    "The SS WEL files have the Locs and values for each WEL. The T WEL files have references to the TS for each well. So they need to be corrected."
   ]
  },
  {
   "cell_type": "code",
   "execution_count": 7,
   "metadata": {},
   "outputs": [],
   "source": [
    "Dir_WEL_Fo = r'C:\\OD\\WS_Mdl\\models\\NBr\\In\\WEL'\n",
    "l_T_WEL =  [i for i in os.listdir(Dir_WEL_Fo) if \"_T_\" in i]"
   ]
  },
  {
   "cell_type": "code",
   "execution_count": 38,
   "metadata": {},
   "outputs": [],
   "source": [
    "for Fi in l_T_WEL:\n",
    "    subFo = Fi.split(\"_T\")[0].replace(\"WEL_\", \"\") # That's the name of the sub-folder for each category of wells.\n",
    "    with open(os.path.join(Dir_WEL_Fo, Fi), 'r') as f:\n",
    "        s_contents = f.read().replace('\"welT', fr'\"{subFo}\\WEL').replace('\"IND', fr'\"{subFo}\\IND').replace('brabant_water', 'Br_Wa').replace('industrie_brabant', 'Ind_Br').replace('`','').split('\\n') # I put the individual WEL files in a sub-folder, the name of the folder needs to be put in front of the file-name. All file names start with \"welT or \"IND\n",
    "\n",
    "        modified_lines = []\n",
    "    for line in s_contents:\n",
    "        modified_line = re.sub(r'(\"([^\"]+)\")', r'\"\\2_NBr1\"', line, count=1)  # Modify first quoted string per line\n",
    "        modified_lines.append(modified_line+'\\n')\n",
    "\n",
    "    with open(os.path.join(Dir_WEL_Fo, Fi), 'w') as f2:\n",
    "        f2.writelines(modified_lines)  # Write modified content back"
   ]
  },
  {
   "cell_type": "code",
   "execution_count": 34,
   "metadata": {},
   "outputs": [
    {
     "data": {
      "text/plain": [
       "'\\n'"
      ]
     },
     "execution_count": 34,
     "metadata": {},
     "output_type": "execute_result"
    }
   ],
   "source": [
    "modified_line+'\\n'"
   ]
  },
  {
   "cell_type": "code",
   "execution_count": null,
   "metadata": {},
   "outputs": [
    {
     "name": "stdout",
     "output_type": "stream",
     "text": [
      "Help on built-in function write:\n",
      "\n",
      "write(text, /) method of _io.TextIOWrapper instance\n",
      "    Write string s to stream.\n",
      "\n",
      "    Return the number of characters written\n",
      "    (which is always equal to the length of the string).\n",
      "\n"
     ]
    }
   ],
   "source": [
    "help(f2.write)"
   ]
  },
  {
   "cell_type": "code",
   "execution_count": null,
   "metadata": {},
   "outputs": [
    {
     "data": {
      "text/plain": [
       "'846\\n18\\nx\\ny\\nq_m3\\nFilterTopLevel\\nFilterBottomLevel\\nputcode\\nFilterNo\\nALIAS\\nStartDateTime\\nSurfaceLevel\\nWellTopLevel\\nWellBottomLevel\\nStatus\\nType\\nComment\\nCommentBy\\nSite\\nOrganisation\\n3,txt\\n191231.52,406381.47,Br_Wa\"/welT_brabant_water_01-PP001\",4.11,-1.69,01-PP001,0,B46D0517,\"30-11-1981 00:00\",13.41,13.41,nan,Inactive,Vertical,\"Boxmeer\",\"Tom van Steijn - Brabant Water\",\"Boxmeer\",\"Brabant Water\"\\n191171.96,406420.89,Br_Wa\"/welT_brabant_water_01-PP002\",3.78,-2.02,01-PP002,0,B46D0518,\"30-11-1981 00:00\",13.18,13.18,nan,Inactive,Vertical,\"Boxmeer\",\"Tom van Steijn - Brabant Water\",\"Boxmeer\",\"Brabant Water\"\\n191112.11,406460.02,Br_Wa\"/welT_brabant_water_01-PP003\",3.81,-1.99,01-PP003,0,B46D0519,\"30-11-1981 00:00\",13.21,13.21,nan,Inactive,Vertical,\"Boxmeer\",\"Tom van Steijn - Brabant Water\",\"Boxmeer\",\"Brabant Water\"\\n191052.93,406498.98,Br_Wa\"/welT_brabant_water_01-PP004\",3.81,-1.99,01-PP004,0,B46D0520,\"30-11-1981 00:00\",13.21,13.21,nan,Inactive,Vertical,\"Boxmeer\",\"Tom van Steijn - Brabant Water\",\"Boxmeer\",\"Brabant Water\"\\n190998.1,406535.07,Br_Wa\"/welT_brabant_water_01-PP005\",3.88,-1.92,01-PP005,0,B46D0521,\"30-11-1981 00:00\",13.28,13.28,nan,Inactive,Vertical,\"Boxmeer\",\"Tom van Steijn - Brabant Water\",\"Boxmeer\",\"Brabant Water\"\\n190935.42,406576.34,Br_Wa\"/welT_brabant_water_01-PP006\",4.34,-2.9,01-PP006,0,B46D0330,\"12-12-1990 00:00\",13.4,13.4,nan,Inactive,Vertical,\"Boxmeer\",\"Tom van Steijn - Brabant Water\",\"Boxmeer\",\"Brabant Water\"\\n190885.0,405890.0,Br_Wa\"/welT_brabant_water_01-PPV01\",5.7,0.7,01-PPV01,0,nan,\"01-02-1952 00:00\",nan,13.7,nan,Abandoned,Vertical,\"Boxmeer/Virtuele put\",\"Tom van Steijn - Brabant Water\",\"Boxmeer\",\"Brabant Water\"\\n168695.73,366582.37,Br_Wa\"/welT_brabant_water_02-PP001\",-6.91,-30.91,02-PP001,0,B57E0126,\"09-09-1974 00:00\",28.39,28.39,nan,Abandoned,Vertical,\"Budel middeldiep\",\"Tom van Steijn - Brabant Water\",\"Budel\",\"Brabant Water\"\\n168792.76,366617.91,Br_Wa\"/welT_brabant_water_02-PP002\",-9.2,-22.65,02-PP002,0,B57E0127,\"03-09-1974 00:00\",28.35,28.35,nan,Abandoned,Vertical,\"Budel middeldiep\",\"Tom van Steijn - Brabant Water\",\"Budel\",\"Brabant Water\"\\n168899.47,366655.62,Br_Wa\"/welT_brabant_water_02-PP003\",-10.51,-25.01,02-PP003,0,B57E0128,\"04-11-1974 00:00\",28.19,28.19,nan,Abandoned,Vertical,\"Budel middeldiep\",\"Tom van Steijn - Brabant Water\",\"Budel\",\"Brabant Water\"\\n168988.47,366703.9,Br_Wa\"/welT_brabant_water_02-PP004\",-12.08,-24.08,02-PP004,0,B57E0129,\"01-11-1974 00:00\",28.17,28.17,nan,Abandoned,Vertical,\"Budel middeldiep\",\"Tom van Steijn - Brabant Water\",\"Budel\",\"Brabant Water\"\\n168679.0,366531.0,Br_Wa\"/welT_brabant_water_02-PP005\",-11.61,-31.11,02-PP005,0,B57E0120,\"19-09-1974 00:00\",28.54,28.54,nan,Abandoned,Vertical,\"Budel middeldiep\",\"Tom van Steijn - Brabant Water\",\"Budel\",\"Brabant Water\"\\n168754.0,366501.0,Br_Wa\"/welT_brabant_water_02-PP006\",-10.35,-21.7,02-PP006,0,B57E0131,\"20-09-1974 00:00\",28.65,28.65,nan,Abandoned,Vertical,\"Budel middeldiep\",\"Tom van Steijn - Brabant Water\",\"Budel\",\"Brabant Water\"\\n168832.0,366566.0,Br_Wa\"/welT_brabant_water_02-PP007\",-11.37,-24.37,02-PP007,0,B57E0132,\"10-10-1974 00:00\",28.63,28.63,nan,Abandoned,Vertical,\"Budel middeldiep\",\"Tom van Steijn - Brabant Water\",\"Budel\",\"Brabant Water\"\\n168926.0,366622.0,Br_Wa\"/welT_brabant_water_02-PP008\",-11.85,-23.85,02-PP008,0,B57E0133,\"22-10-1974 00:00\",28.15,28.15,nan,Abandoned,Vertical,\"Budel middeldiep\",\"Tom van Steijn - Brabant Water\",\"Budel\",\"Brabant Water\"\\n168751.45,366706.46,Br_Wa\"/welT_brabant_water_02-PP009\",-5.87,-18.87,02-PP009,0,B57E0052,\"01-01-1964 00:00\",28.13,28.13,nan,Abandoned,Vertical,\"Budel middeldiep\",\"Tom van Steijn - Brabant Water\",\"Budel\",\"Brabant Water\"\\n168716.38,366800.05,Br_Wa\"/welT_brabant_water_02-PP010\",-10.16,-26.16,02-PP010,0,B57E0053,\"01-01-1964 00:00\",27.84,27.84,nan,Abandoned,Vertical,\"Budel middeldiep\",\"Tom van Steijn - Brabant Water\",\"Budel\",\"Brabant Water\"\\n168679.7,366893.55,Br_Wa\"/welT_brabant_water_02-PP011\",-8.69,-24.69,02-PP011,0,B57E0054,\"01-01-1964 00:00\",27.81,27.81,nan,Abandoned,Vertical,\"Budel middeldiep\",\"Tom van Steijn - Brabant Water\",\"Budel\",\"Brabant Water\"\\n168898.58,366755.16,Br_Wa\"/welT_brabant_water_02-PP012\",-9.21,-24.71,02-PP012,0,B57E0055,\"01-01-1964 00:00\",27.79,27.79,nan,Abandoned,Vertical,\"Budel middeldiep\",\"Tom van Steijn - Brabant Water\",\"Budel\",\"Brabant Water\"\\n168854.06,366839.64,Br_Wa\"/welT_brabant_water_02-PP013\",-7.52,-24.52,02-PP013,0,B57E0056,\"01-01-1964 00:00\",27.48,27.48,nan,Abandoned,Vertical,\"Budel middeldiep\",\"Tom van Steijn - Brabant Water\",\"Budel\",\"Brabant Water\"\\n168808.69,366929.23,Br_Wa\"/welT_brabant_water_02-PP014\",-8.36,-24.36,02-PP014,0,B57E0057,\"01-01-1964 00:00\",27.64,27.64,nan,Abandoned,Vertical,\"Budel middeldiep\",\"Tom van Steijn - Brabant Water\",\"Budel\",\"Brabant Water\"\\n168885.85,366965.33,Br_Wa\"/welT_brabant_water_02-PP015\",-4.29,-23.29,02-PP015,0,B57E0134,\"11-08-1972 00:00\",27.71,27.71,nan,Abandoned,Vertical,\"Budel middeldiep\",\"Tom van Steijn - Brabant Water\",\"Budel\",\"Brabant Water\"\\n168952.59,366885.21,Br_Wa\"/welT_brabant_water_02-PP016\",-5.79,-24.79,02-PP016,0,B57E0135,\"31-08-1972 00:00\",27.81,27.81,nan,Abandoned,Vertical,\"Budel middeldiep\",\"Tom van Steijn - Brabant Water\",\"Budel\",\"Brabant Water\"\\n169015.11,366810.92,Br_Wa\"/welT_brabant_water_02-PP017\",-5.34,-24.34,02-PP017,0,B57E0136,\"18-09-1972 00:00\",27.66,27.66,nan,Abandoned,Vertical,\"Budel middeldiep\",\"Tom van Steijn - Brabant Water\",\"Budel\",\"Brabant Water\"\\n168942.32,367054.13,Br_Wa\"/welT_brabant_water_02-PP018\",-4.24,-24.24,02-PP018,0,B57E0137,\"31-07-1972 00:00\",27.76,27.76,nan,Abandoned,Vertical,\"Budel middeldiep\",\"Tom van Steijn - Brabant Water\",\"Budel\",\"Brabant Water\"\\n169082.64,366757.75,Br_Wa\"/welT_brabant_water_02-PP021\",-4.97,-24.47,02-PP021,0,B57E0138,\"23-06-1972 00:00\",28.03,28.03,nan,Abandoned,Vertical,\"Budel middeldiep\",\"Tom van Steijn - Brabant Water\",\"Budel\",\"Brabant Water\"\\n169053.0,366685.0,Br_Wa\"/welT_brabant_water_02-PP022\",-10.02,-25.02,02-PP022,0,57EA3139,\"13-06-1972 00:00\",27.98,27.98,nan,Abandoned,Vertical,\"Budel middeldiep\",\"Tom van Steijn - Brabant Water\",\"Budel\",\"Brabant Water\"\\n168605.55,366841.82,Br_Wa\"/welT_brabant_water_02-PP025\",-12.64,-33.8,02-PP025,0,B57E0107,\"26-02-1992 00:00\",27.4,27.4,nan,Abandoned,Vertical,\"Budel middeldiep\",\"Tom van Steijn - Brabant Water\",\"Budel\",\"Brabant Water\"\\n168609.28,366749.56,Br_Wa\"/welT_brabant_water_02-PP026\",-10.3,-28.4,02-PP026,0,B57E0108,\"11-02-1992 00:00\",27.4,27.4,nan,Abandoned,Vertical,\"Budel middeldiep\",\"Tom van Steijn - Brabant Water\",\"Budel\",\"Brabant Water\"\\n169012.02,366985.98,Br_Wa\"/welT_brabant_water_02-PP027\",-9.49,-24.6,02-PP027,0,B57E0109,\"27-03-1992 00:00\",27.2,27.2,nan,Abandoned,Vertical,\"Budel middeldiep\",\"Tom van Steijn - Brabant Water\",\"Budel\",\"Brabant Water\"\\n169099.2,366902.88,Br_Wa\"/welT_brabant_water_02-PP028\",-10.73,-25.1,02-PP028,0,B57E0110,\"18-03-1992 00:00\",27.1,27.1,nan,Abandoned,Vertical,\"Budel middeldiep\",\"Tom van Steijn - Brabant Water\",\"Budel\",\"Brabant Water\"\\n169139.9,366792.05,Br_Wa\"/welT_brabant_water_02-PP030\",-159.0,-197.78,02-PP030,0,B57E0639,\"31-12-2013 00:00\",28.29,27.89,nan,Active,Vertical,\"Budel diep\",\"Jelle van Sijl - Brabant Water\",\"Budel\",\"Brabant Water\"\\n169062.81,366745.62,Br_Wa\"/welT_brabant_water_02-PP031\",-173.02,-200.54,02-PP031,0,B57E0640,\"31-12-2013 00:00\",28.29,27.91,nan,Active,Vertical,\"Budel diep\",\"Jelle van Sijl - Brabant Water\",\"Budel\",\"Brabant Water\"\\n168975.23,366693.49,Br_Wa\"/welT_brabant_water_02-PP032\",-171.93,-199.91,02-PP032,0,B57E0641,\"31-12-2013 00:00\",28.33,27.99,nan,Active,Vertical,\"Budel diep\",\"Jelle van Sijl - Brabant Water\",\"Budel\",\"Brabant Water\"\\n168883.95,366645.8,Br_Wa\"/welT_brabant_water_02-PP033\",-166.94,-200.04,02-PP033,0,B57E0642,\"31-12-2013 00:00\",28.39,28.0,nan,Active,Vertical,\"Budel diep\",\"Jelle van Sijl - Brabant Water\",\"Budel\",\"Brabant Water\"\\n168776.04,366622.76,Br_Wa\"/welT_brabant_water_02-PP034\",-169.69,-200.02,02-PP034,0,B57E0643,\"31-12-2013 00:00\",28.35,28.0,nan,Active,Vertical,\"Budel diep\",\"Jelle van Sijl - Brabant Water\",\"Budel\",\"Brabant Water\"\\n168782.29,366717.67,Br_Wa\"/welT_brabant_water_02-PP035\",-167.93,-198.56,02-PP035,0,B57E0644,\"31-12-2013 00:00\",28.39,28.02,nan,Active,Vertical,\"Budel diep\",\"Jelle van Sijl - Brabant Water\",\"Budel\",\"Brabant Water\"\\n168746.53,366805.73,Br_Wa\"/welT_brabant_water_02-PP036\",-155.95,-198.47,02-PP036,0,B57E0645,\"31-12-2013 00:00\",28.4,28.02,nan,Active,Vertical,\"Budel diep\",\"Jelle van Sijl - Brabant Water\",\"Budel\",\"Brabant Water\"\\n168705.59,366898.15,Br_Wa\"/welT_brabant_water_02-PP037\",-162.71,-199.01,02-PP037,0,B57E0083,\"28-10-1987 00:00\",28.35,28.03,nan,Active,Vertical,\"Budel diep\",\"Jelle van Sijl - Brabant Water\",\"Budel\",\"Brabant Water\"\\n168904.99,366843.13,Br_Wa\"/welT_brabant_water_02-PPV01\",-8.29,-24.89,02-PPV01,0,nan,\"01-01-1949 00:00\",nan,27.89,nan,Abandoned,Vertical,\"Budel middeldiep/Virtuele put\",\"Tom van Steijn - Brabant Water\",\"Budel\",\"Brabant Water\"\\n145542.98,403008.7,Br_Wa\"/welT_brabant_water_03-PP001A\",-135.13,-194.02,03-PP001A,0,B45C0336,\"02-06-1989 00:00\",7.48,7.48,nan,Active,Vertical,\"Haaren\",\"Tom van Steijn - Brabant Water\",\"Haaren\",\"Brabant Water\"\\n145478.97,403054.19,Br_Wa\"/welT_brabant_water_03-PP003A\",-136.06,-202.82,03-PP003A,0,B45C0337,\"02-06-1989 00:00\",7.3,7.3,nan,Active,Vertical,\"Haaren\",\"Tom van Steijn - Brabant Water\",\"Haaren\",\"Brabant Water\"\\n145373.82,403078.74,Br_Wa\"/welT_brabant_water_03-PP004A\",-131.4,-197.7,03-PP004A,0,B45C0549,\"21-11-1989 00:00\",7.1,7.1,nan,Active,Vertical,\"Haaren\",\"Tom van Steijn - Brabant Water\",\"Haaren\",\"Brabant Water\"\\n145321.73,403011.79,Br_Wa\"/welT_brabant_water_03-PP005A\",-133.54,-197.62,03-PP005A,0,B45C0338,\"08-06-1989 00:00\",7.58,7.58,nan,Active,Vertical,\"Haaren\",\"Tom van Steijn - Brabant Water\",\"Haaren\",\"Brabant Water\"\\n145023.09,402140.62,Br_Wa\"/welT_brabant_water_03-PP026A\",-127.91,-201.8,03-PP026A,0,B45C0550,\"20-12-1989 00:00\",8.5,8.5,nan,Active,Vertical,\"Haaren\",\"Tom van Steijn - Brabant Water\",\"Haaren\",\"Brabant Water\"\\n144963.1,402055.39,Br_Wa\"/welT_brabant_water_03-PP027A\",-119.31,-200.97,03-PP027A,0,B45C0339,\"20-12-1989 00:00\",8.63,7.24,nan,Active,Vertical,\"Haaren\",\"Tom van Steijn - Brabant Water\",\"Haaren\",\"Brabant Water\"\\n144905.04,401967.26,Br_Wa\"/welT_brabant_water_03-PP028A\",-123.09,-173.2,03-PP028A,0,B45C0568,\"19-12-1989 00:00\",8.4,8.4,nan,Active,Vertical,\"Haaren\",\"Tom van Steijn - Brabant Water\",\"Haaren\",\"Brabant Water\"\\n144809.04,401870.39,Br_Wa\"/welT_brabant_water_03-PP029A\",-119.65,-200.05,03-PP029A,0,B45C0551,\"13-12-1989 00:00\",8.05,8.05,nan,Active,Vertical,\"Haaren\",\"Tom van Steijn - Brabant Water\",\"Haaren\",\"Brabant Water\"\\n144692.19,401629.04,Br_Wa\"/welT_brabant_water_03-PP031A\",-117.11,-136.61,03-PP031A,0,B45C0569,\"23-12-1988 00:00\",8.19,8.19,nan,Active,Vertical,\"Haaren\",\"Tom van Steijn - Brabant Water\",\"Haaren\",\"Brabant Water\"\\n144784.46,401577.57,Br_Wa\"/welT_brabant_water_03-PP032A\",-116.65,-135.85,03-PP032A,0,B45C0570,\"20-12-1988 00:00\",8.75,8.75,nan,Active,Vertical,\"Haaren\",\"Tom van Steijn - Brabant Water\",\"Haaren\",\"Brabant Water\"\\n144812.99,401504.26,Br_Wa\"/welT_brabant_water_03-PP033A\",-118.91,-139.26,03-PP033A,0,B45C0571,\"31-05-1989 00:00\",8.89,8.89,nan,Active,Vertical,\"Haaren\",\"Tom van Steijn - Brabant Water\",\"Haaren\",\"Brabant Water\"\\n144875.11,401426.63,Br_Wa\"/welT_brabant_water_03-PP034A\",-119.02,-138.24,03-PP034A,0,B45C0334,\"02-12-1988 00:00\",9.18,9.18,nan,Active,Vertical,\"Haaren\",\"Tom van Steijn - Brabant Water\",\"Haaren\",\"Brabant Water\"\\n145316.96,401794.07,Br_Wa\"/welT_brabant_water_03-PP046\",-121.44,-162.44,03-PP046,0,B45C0369,\"03-04-1973 00:00\",8.56,8.56,nan,Active,Vertical,\"Haaren\",\"Tom van Steijn - Brabant Water\",\"Haaren\",\"Brabant Water\"\\n145266.18,401891.04,Br_Wa\"/welT_brabant_water_03-PP047\",-124.93,-171.93,03-PP047,0,B45C0196,\"19-02-1973 00:00\",8.07,8.07,nan,Active,Vertical,\"Haaren\",\"Tom van Steijn - Brabant Water\",\"Haaren\",\"Brabant Water\"\\n145215.05,401988.25,Br_Wa\"/welT_brabant_water_03-PP048\",-123.71,-167.21,03-PP048,0,B45C0367,\"10-01-1973 00:00\",7.79,7.79,nan,Active,Vertical,\"Haaren\",\"Tom van Steijn - Brabant Water\",\"Haaren\",\"Brabant Water\"\\n145171.14,402067.62,Br_Wa\"/welT_brabant_water_03-PP049\",-120.7,-146.62,03-PP049,0,B45C0335,\"22-03-1989 00:00\",8.16,8.16,nan,Active,Vertical,\"Haaren\",\"Tom van Steijn - Brabant Water\",\"Haaren\",\"Brabant Water\"\\n145110.63,402128.33,Br_Wa\"/welT_brabant_water_03-PP050\",-124.59,-140.83,03-PP050,0,B45C0572,\"02-06-1989 00:00\",8.37,8.37,nan,Active,Vertical,\"Haaren\",\"Tom van Steijn - Brabant Water\",\"Haaren\",\"Brabant Water\"\\n144707.81,402708.05,Br_Wa\"/welT_brabant_water_03-PP051\",-117.69,-149.19,03-PP051,0,B45C0368,\"03-03-1972 00:00\",6.31,6.31,nan,Active,Vertical,\"Haaren\",\"Tom van Steijn - Brabant Water\",\"Haaren\",\"Brabant Water\"\\n144764.42,402786.48,Br_Wa\"/welT_brabant_water_03-PP052\",-120.36,-153.86,03-PP052,0,B45C0366,\"01-09-1972 00:00\",6.07,4.14,nan,Active,Vertical,\"Haaren\",\"Tom van Steijn - Brabant Water\",\"Haaren\",\"Brabant Water\"\\n144820.02,402863.51,Br_Wa\"/welT_brabant_water_03-PP053\",-123.3,-156.3,03-PP053,0,B45C0365,\"06-10-1972 00:00\",6.7,6.7,nan,Active,Vertical,\"Haaren\",\"Tom van Steijn - Brabant Water\",\"Haaren\",\"Brabant Water\"\\n144875.37,402940.32,Br_Wa\"/welT_brabant_water_03-PP054\",-168.41,-208.41,03-PP054,0,B45C0204,\"17-10-1971 00:00\",6.59,6.59,nan,Active,Vertical,\"Haaren\",\"Tom van Steijn - Brabant Water\",\"Haaren\",\"Brabant Water\"\\n144798.29,402976.92,Br_Wa\"/welT_brabant_water_03-PP055\",-123.5,-181.5,03-PP055,0,B45C0192,\"05-01-1972 00:00\",6.58,4.72,nan,Active,Vertical,\"Haaren\",\"Tom van Steijn - Brabant Water\",\"Haaren\",\"Brabant Water\"\\n144748.97,402897.04,Br_Wa\"/welT_brabant_water_03-PP056\",-125.1,-173.79,03-PP056,0,B45C0573,\"07-06-1988 00:00\",6.4,6.4,nan,Active,Vertical,\"Haaren\",\"Tom van Steijn - Brabant Water\",\"Haaren\",\"Brabant Water\"\\n144690.44,402819.98,Br_Wa\"/welT_brabant_water_03-PP057\",-123.85,-147.88,03-PP057,0,B45C0574,\"24-05-1988 00:00\",6.15,6.15,nan,Active,Vertical,\"Haaren\",\"Tom van Steijn - Brabant Water\",\"Haaren\",\"Brabant Water\"\\n144644.81,402733.74,Br_Wa\"/welT_brabant_water_03-PP058\",-122.2,-146.16,03-PP058,0,B45C0321,\"18-05-1988 00:00\",6.14,6.14,nan,Active,Vertical,\"Haaren\",\"Tom van Steijn - Brabant Water\",\"Haaren\",\"Brabant Water\"\\n144934.9,402744.32,Br_Wa\"/welT_brabant_water_03-PP059\",-124.92,-146.92,03-PP059,0,B45C0319,\"07-04-1988 00:00\",8.08,8.08,nan,Active,Vertical,\"Haaren\",\"Tom van Steijn - Brabant Water\",\"Haaren\",\"Brabant Water\"\\n144871.01,403053.37,Br_Wa\"/welT_brabant_water_03-PP060\",-126.5,-193.13,03-PP060,0,B45C0320,\"25-04-1988 00:00\",7.07,7.07,nan,Active,Vertical,\"Haaren\",\"Tom van Steijn - Brabant Water\",\"Haaren\",\"Brabant Water\"\\n144987.19,402457.6,Br_Wa\"/welT_brabant_water_03-PPV01\",-125.9,-168.89,03-PPV01,0,nan,\"01-01-1962 00:00\",nan,7.28,nan,Abandoned,Vertical,\"Haaren/Virtuele put\",\"Tom van Steijn - Brabant Water\",\"Haaren\",\"Brabant Water\"\\n167170.27,391802.82,Br_Wa\"/welT_brabant_water_04-PP001\",-130.03,-204.94,04-PP001,0,B51E0157,\"13-07-1994 00:00\",14.45,14.45,nan,Active,Vertical,\"Lieshout\",\"Tom van Steijn - Brabant Water\",\"Lieshout\",\"Brabant Water\"\\n167132.0,391849.0,Br_Wa\"/welT_brabant_water_04-PP002\",-177.55,-209.55,04-PP002,0,B51E0055,\"03-12-1970 00:00\",14.45,14.45,nan,Active,Vertical,\"Lieshout\",\"Tom van Steijn - Brabant Water\",\"Lieshout\",\"Brabant Water\"\\n167207.0,391898.0,Br_Wa\"/welT_brabant_water_04-PP003\",-128.91,-204.26,04-PP003,0,B51E0081,\"18-12-1986 00:00\",14.29,14.29,nan,Active,Vertical,\"Lieshout\",\"Tom van Steijn - Brabant Water\",\"Lieshout\",\"Brabant Water\"\\n167123.0,391936.0,Br_Wa\"/welT_brabant_water_04-PP004\",-130.86,-205.21,04-PP004,0,B51E0082,\"04-12-1986 00:00\",14.24,14.24,nan,Active,Vertical,\"Lieshout\",\"Tom van Steijn - Brabant Water\",\"Lieshout\",\"Brabant Water\"\\n167224.97,391956.49,Br_Wa\"/welT_brabant_water_04-PP005\",-129.75,-205.9,04-PP005,0,B51E0156,\"07-07-1994 00:00\",14.3,14.3,nan,Active,Vertical,\"Lieshout\",\"Tom van Steijn - Brabant Water\",\"Lieshout\",\"Brabant Water\"\\n167101.0,392019.0,Br_Wa\"/welT_brabant_water_04-PP006\",-132.43,-206.37,04-PP006,0,B51E0307,\"30-10-1986 00:00\",14.13,14.13,nan,Active,Vertical,\"Lieshout\",\"Tom van Steijn - Brabant Water\",\"Lieshout\",\"Brabant Water\"\\n167078.0,392101.0,Br_Wa\"/welT_brabant_water_04-PP007\",-126.82,-206.33,04-PP007,0,B51E0309,\"30-10-1986 00:00\",14.15,14.15,nan,Active,Vertical,\"Lieshout\",\"Tom van Steijn - Brabant Water\",\"Lieshout\",\"Brabant Water\"\\n167171.0,392134.0,Br_Wa\"/welT_brabant_water_04-PP008\",-127.76,-189.06,04-PP008,0,B51E0308,\"30-10-1986 00:00\",13.94,13.94,nan,Active,Vertical,\"Lieshout\",\"Tom van Steijn - Brabant Water\",\"Lieshout\",\"Brabant Water\"\\n167056.0,392184.0,Br_Wa\"/welT_brabant_water_04-PP009\",-130.87,-204.77,04-PP009,0,B51E0310,\"28-10-1986 00:00\",14.33,14.33,nan,Active,Vertical,\"Lieshout\",\"Tom van Steijn - Brabant Water\",\"Lieshout\",\"Brabant Water\"\\n167234.0,392261.0,Br_Wa\"/welT_brabant_water_04-PP010\",-131.48,-205.83,04-PP010,0,B51E0154,\"08-06-1994 00:00\",13.85,13.85,nan,Active,Vertical,\"Lieshout\",\"Tom van Steijn - Brabant Water\",\"Lieshout\",\"Brabant Water\"\\n167147.0,392295.0,Br_Wa\"/welT_brabant_water_04-PP011\",-132.51,-206.08,04-PP011,0,B51E0153,\"05-05-1994 00:00\",13.52,13.52,nan,Active,Vertical,\"Lieshout\",\"Tom van Steijn - Brabant Water\",\"Lieshout\",\"Brabant Water\"\\n167169.0,392378.0,Br_Wa\"/welT_brabant_water_04-PP012\",-132.98,-207.48,04-PP012,0,B51E0152,\"03-05-1994 00:00\",13.52,13.52,nan,Active,Vertical,\"Lieshout\",\"Tom van Steijn - Brabant Water\",\"Lieshout\",\"Brabant Water\"\\n167264.0,392379.0,Br_Wa\"/welT_brabant_water_04-PP013\",-128.68,-206.72,04-PP013,0,B51E0155,\"21-06-1994 00:00\",14.08,14.08,nan,Active,Vertical,\"Lieshout\",\"Tom van Steijn - Brabant Water\",\"Lieshout\",\"Brabant Water\"\\n166707.81,392874.69,Br_Wa\"/welT_brabant_water_04-PP014\",-131.39,-210.42,04-PP014,0,B51E0144,\"25-10-1993 00:00\",14.6,14.6,nan,Active,Vertical,\"Lieshout\",\"Tom van Steijn - Brabant Water\",\"Lieshout\",\"Brabant Water\"\\n166743.51,392963.62,Br_Wa\"/welT_brabant_water_04-PP015\",-133.79,-210.58,04-PP015,0,B51E0145,\"16-11-1993 00:00\",15.62,15.62,nan,Active,Vertical,\"Lieshout\",\"Tom van Steijn - Brabant Water\",\"Lieshout\",\"Brabant Water\"\\n166668.34,393013.61,Br_Wa\"/welT_brabant_water_04-PP016\",-135.28,-212.65,04-PP016,0,B51E0147,\"18-11-1993 00:00\",15.47,15.47,nan,Active,Vertical,\"Lieshout\",\"Tom van Steijn - Brabant Water\",\"Lieshout\",\"Brabant Water\"\\n166757.17,393071.65,Br_Wa\"/welT_brabant_water_04-PP017\",-137.08,-212.37,04-PP017,0,B51E0146,\"11-01-1994 00:00\",15.83,15.83,nan,Active,Vertical,\"Lieshout\",\"Tom van Steijn - Brabant Water\",\"Lieshout\",\"Brabant Water\"\\n166639.84,393148.42,Br_Wa\"/welT_brabant_water_04-PP018\",-129.02,-194.54,04-PP018,0,B51E0143,\"01-09-1993 00:00\",16.31,16.31,nan,Active,Vertical,\"Lieshout\",\"Tom van Steijn - Brabant Water\",\"Lieshout\",\"Brabant Water\"\\n166750.68,393222.84,Br_Wa\"/welT_brabant_water_04-PP019\",-131.41,-209.88,04-PP019,0,B51E0151,\"29-03-1994 00:00\",14.95,14.95,nan,Active,Vertical,\"Lieshout\",\"Tom van Steijn - Brabant Water\",\"Lieshout\",\"Brabant Water\"\\n166614.85,393265.3,Br_Wa\"/welT_brabant_water_04-PP020\",-131.45,-209.87,04-PP020,0,B51E0150,\"25-03-1994 00:00\",15.73,15.73,nan,Active,Vertical,\"Lieshout\",\"Tom van Steijn - Brabant Water\",\"Lieshout\",\"Brabant Water\"\\n166689.88,393311.85,Br_Wa\"/welT_brabant_water_04-PP021\",-132.24,-210.42,04-PP021,0,B51E0149,\"27-01-1994 00:00\",15.62,15.62,nan,Active,Vertical,\"Lieshout\",\"Tom van Steijn - Brabant Water\",\"Lieshout\",\"Brabant Water\"\\n166585.65,393380.32,Br_Wa\"/welT_brabant_water_04-PP022\",-131.64,-208.7,04-PP022,0,B51E0148,\"27-01-1994 00:00\",14.8,14.8,nan,Active,Vertical,\"Lieshout\",\"Tom van Steijn - Brabant Water\",\"Lieshout\",\"Brabant Water\"\\n156155.03,421498.37,Br_Wa\"/welT_brabant_water_05-PP051\",-26.61,-53.11,05-PP051,0,B45B0109,\"24-03-1972 00:00\",2.99,2.57,nan,Active,Vertical,\"Lith\",\"Tom van Steijn - Brabant Water\",\"Lith\",\"Brabant Water\"\\n156053.55,421496.06,Br_Wa\"/welT_brabant_water_05-PP052\",-19.92,-51.97,05-PP052,0,B45B0296,\"17-01-1984 00:00\",2.72,2.59,nan,Active,Vertical,\"Lith\",\"Tom van Steijn - Brabant Water\",\"Lith\",\"Brabant Water\"\\n155958.55,421471.9,Br_Wa\"/welT_brabant_water_05-PP053\",-17.46,-49.36,05-PP053,0,B45B0297,\"20-01-1984 00:00\",2.68,2.63,nan,Active,Vertical,\"Lith\",\"Tom van Steijn - Brabant Water\",\"Lith\",\"Brabant Water\"\\n155863.79,421447.6,Br_Wa\"/welT_brabant_water_05-PP054\",-16.99,-57.69,05-PP054,0,B45B0298,\"02-02-1984 00:00\",2.66,2.47,nan,Active,Vertical,\"Lith\",\"Tom van Steijn - Brabant Water\",\"Lith\",\"Brabant Water\"\\n155768.9,421423.47,Br_Wa\"/welT_brabant_water_05-PP055\",-16.94,-60.94,05-PP055,0,B45B0299,\"09-02-1984 00:00\",2.53,2.51,nan,Active,Vertical,\"Lith\",\"Tom van Steijn - Brabant Water\",\"Lith\",\"Brabant Water\"\\n155672.54,421404.44,Br_Wa\"/welT_brabant_water_05-PP056\",-19.61,-53.11,05-PP056,0,B45B0300,\"16-02-1984 00:00\",2.42,2.43,nan,Active,Vertical,\"Lith\",\"Tom van Steijn - Brabant Water\",\"Lith\",\"Brabant Water\"\\n155575.51,421391.81,Br_Wa\"/welT_brabant_water_05-PP057\",-17.12,-48.22,05-PP057,0,B45B0301,\"28-02-1984 00:00\",2.33,2.39,nan,Active,Vertical,\"Lith\",\"Tom van Steijn - Brabant Water\",\"Lith\",\"Brabant Water\"\\n155478.19,421378.92,Br_Wa\"/welT_brabant_water_05-PP058\",-18.58,-28.03,05-PP058,0,B45B0217,\"06-03-1984 00:00\",2.32,2.32,nan,Active,Vertical,\"Lith\",\"Tom van Steijn - Brabant Water\",\"Lith\",\"Brabant Water\"\\n162597.9,411748.36,Br_Wa\"/welT_brabant_water_06-PP001\",-121.9,-151.51,06-PP001,0,B45G0225,\"21-10-1991 00:00\",6.29,6.29,nan,Active,Vertical,\"Loosbroek\",\"Tom van Steijn - Brabant Water\",\"Loosbroek\",\"Brabant Water\"\\n162565.6,411659.4,Br_Wa\"/welT_brabant_water_06-PP002\",-137.06,-152.28,06-PP002,0,B45G0250,\"21-10-1991 00:00\",5.82,5.82,nan,Active,Vertical,\"Loosbroek\",\"Tom van Steijn - Brabant Water\",\"Loosbroek\",\"Brabant Water\"\\n162532.9,411568.4,Br_Wa\"/welT_brabant_water_06-PP003\",-142.84,-156.55,06-PP003,0,B45G0231,\"21-10-1991 00:00\",6.25,6.25,nan,Active,Vertical,\"Loosbroek\",\"Tom van Steijn - Brabant Water\",\"Loosbroek\",\"Brabant Water\"\\n162432.8,411310.9,Br_Wa\"/welT_brabant_water_06-PP004\",-113.78,-149.68,06-PP004,0,B45G0251,\"21-10-1991 00:00\",6.42,6.42,nan,Active,Vertical,\"Loosbroek\",\"Tom van Steijn - Brabant Water\",\"Loosbroek\",\"Brabant Water\"\\n162397.9,411217.3,Br_Wa\"/welT_brabant_water_06-PP005\",-112.49,-146.98,06-PP005,0,B45G0252,\"21-10-1991 00:00\",6.42,6.42,nan,Active,Vertical,\"Loosbroek\",\"Tom van Steijn - Brabant Water\",\"Loosbroek\",\"Brabant Water\"\\n162363.7,411123.0,Br_Wa\"/welT_brabant_water_06-PP006\",-109.47,-144.79,06-PP006,0,B45G0239,\"19-12-1991 00:00\",6.21,6.21,nan,Active,Vertical,\"Loosbroek\",\"Tom van Steijn - Brabant Water\",\"Loosbroek\",\"Brabant Water\"\\n162333.2,410297.3,Br_Wa\"/welT_brabant_water_06-PP007\",-123.86,-141.3,06-PP007,0,B45G0232,\"21-10-1991 00:00\",7.1,7.1,nan,Active,Vertical,\"Loosbroek\",\"Tom van Steijn - Brabant Water\",\"Loosbroek\",\"Brabant Water\"\\n162287.29,410197.02,Br_Wa\"/welT_brabant_water_06-PP008\",-123.97,-138.4,06-PP008,0,B45G0253,\"21-10-1991 00:00\",7.1,7.1,nan,Active,Vertical,\"Loosbroek\",\"Tom van Steijn - Brabant Water\",\"Loosbroek\",\"Brabant Water\"\\n162249.97,410108.26,Br_Wa\"/welT_brabant_water_06-PP009\",-118.62,-137.17,06-PP009,0,B45G0242,\"13-11-1997 00:00\",6.83,5.24,nan,Active,Vertical,\"Loosbroek\",\"Tom van Steijn - Brabant Water\",\"Loosbroek\",\"Brabant Water\"\\n162207.31,410020.89,Br_Wa\"/welT_brabant_water_06-PP010\",-123.0,-140.8,06-PP010,0,B45G0254,\"23-10-1991 00:00\",7.2,7.2,nan,Active,Vertical,\"Loosbroek\",\"Tom van Steijn - Brabant Water\",\"Loosbroek\",\"Brabant Water\"\\n162153.33,409916.86,Br_Wa\"/welT_brabant_water_06-PP011\",-122.97,-146.97,06-PP011,0,B45G0073,\"16-12-1968 00:00\",7.53,7.53,nan,Active,Vertical,\"Loosbroek\",\"Tom van Steijn - Brabant Water\",\"Loosbroek\",\"Brabant Water\"\\n162108.32,409815.48,Br_Wa\"/welT_brabant_water_06-PP012\",-114.82,-135.72,06-PP012,0,B45G0243,\"04-11-1997 00:00\",7.31,5.68,nan,Active,Vertical,\"Loosbroek\",\"Tom van Steijn - Brabant Water\",\"Loosbroek\",\"Brabant Water\"\\n162065.87,409723.73,Br_Wa\"/welT_brabant_water_06-PP013\",-115.19,-134.51,06-PP013,0,B45G0244,\"18-11-1997 00:00\",7.29,5.66,nan,Active,Vertical,\"Loosbroek\",\"Tom van Steijn - Brabant Water\",\"Loosbroek\",\"Brabant Water\"\\n162031.3,409647.3,Br_Wa\"/welT_brabant_water_06-PP014\",-113.35,-134.11,06-PP014,0,B45G0255,\"27-11-1991 00:00\",7.54,7.54,nan,Active,Vertical,\"Loosbroek\",\"Tom van Steijn - Brabant Water\",\"Loosbroek\",\"Brabant Water\"\\n161991.08,409563.54,Br_Wa\"/welT_brabant_water_06-PP015\",-111.43,-149.73,06-PP015,0,B45G0209,\"22-06-1969 00:00\",7.57,7.57,nan,Active,Vertical,\"Loosbroek\",\"Tom van Steijn - Brabant Water\",\"Loosbroek\",\"Brabant Water\"\\n161965.63,409482.79,Br_Wa\"/welT_brabant_water_06-PP016\",-110.53,-140.53,06-PP016,0,B45G0208,\"27-06-1969 00:00\",7.47,7.47,nan,Active,Vertical,\"Loosbroek\",\"Tom van Steijn - Brabant Water\",\"Loosbroek\",\"Brabant Water\"\\n161966.25,409399.8,Br_Wa\"/welT_brabant_water_06-PP017\",-112.01,-144.01,06-PP017,0,B45G0074,\"14-08-1969 00:00\",7.49,7.49,nan,Abandoned,Vertical,\"Loosbroek\",\"Tom van Steijn - Brabant Water\",\"Loosbroek\",\"Brabant Water\"\\n161913.18,409322.01,Br_Wa\"/welT_brabant_water_06-PP018\",-108.35,-133.85,06-PP018,0,B45G0207,\"12-09-1969 00:00\",7.65,7.65,nan,Active,Vertical,\"Loosbroek\",\"Tom van Steijn - Brabant Water\",\"Loosbroek\",\"Brabant Water\"\\n162014.66,409289.41,Br_Wa\"/welT_brabant_water_06-PP019\",-109.41,-134.41,06-PP019,0,B45G0206,\"23-10-1969 00:00\",7.59,7.59,nan,Active,Vertical,\"Loosbroek\",\"Tom van Steijn - Brabant Water\",\"Loosbroek\",\"Brabant Water\"\\n162105.26,409259.99,Br_Wa\"/welT_brabant_water_06-PP020\",-110.94,-136.94,06-PP020,0,B45G0205,\"02-02-1970 00:00\",8.06,8.06,nan,Active,Vertical,\"Loosbroek\",\"Tom van Steijn - Brabant Water\",\"Loosbroek\",\"Brabant Water\"\\n162173.52,409233.71,Br_Wa\"/welT_brabant_water_06-PP021\",-112.65,-143.55,06-PP021,0,B45G0256,\"17-12-1991 00:00\",8.25,8.25,nan,Active,Vertical,\"Loosbroek\",\"Tom van Steijn - Brabant Water\",\"Loosbroek\",\"Brabant Water\"\\n162287.29,409199.66,Br_Wa\"/welT_brabant_water_06-PP022\",-115.4,-145.15,06-PP022,0,B45G0075,\"28-05-1970 00:00\",7.85,7.85,nan,Active,Vertical,\"Loosbroek\",\"Tom van Steijn - Brabant Water\",\"Loosbroek\",\"Brabant Water\"\\n162378.42,409170.1,Br_Wa\"/welT_brabant_water_06-PP023\",-113.39,-143.04,06-PP023,0,B45G0203,\"18-06-1970 00:00\",7.96,7.96,nan,Active,Vertical,\"Loosbroek\",\"Tom van Steijn - Brabant Water\",\"Loosbroek\",\"Brabant Water\"\\n162481.85,409137.08,Br_Wa\"/welT_brabant_water_06-PP024\",-117.16,-144.16,06-PP024,0,B45G0202,\"15-10-1970 00:00\",7.84,7.84,nan,Active,Vertical,\"Loosbroek\",\"Tom van Steijn - Brabant Water\",\"Loosbroek\",\"Brabant Water\"\\n162566.12,409112.33,Br_Wa\"/welT_brabant_water_06-PP025\",-117.07,-143.27,06-PP025,0,B45G0076,\"22-09-1970 00:00\",8.16,6.73,nan,Abandoned,Vertical,\"Loosbroek\",\"Tom van Steijn - Brabant Water\",\"Loosbroek\",\"Brabant Water\"\\n162236.6,410097.8,Br_Wa\"/welT_brabant_water_06-PP109\",-123.01,-145.11,06-PP109,0,B45G0213,\"21-11-1968 00:00\",6.99,6.99,nan,Abandoned,Vertical,\"Loosbroek\",\"Tom van Steijn - Brabant Water\",\"Loosbroek\",\"Brabant Water\"\\n162111.3,409825.8,Br_Wa\"/welT_brabant_water_06-PP112\",-114.97,-147.97,06-PP112,0,B45G0211,\"05-03-1969 00:00\",7.53,7.53,nan,Abandoned,Vertical,\"Loosbroek\",\"Tom van Steijn - Brabant Water\",\"Loosbroek\",\"Brabant Water\"\\n162069.6,409734.9,Br_Wa\"/welT_brabant_water_06-PP113\",-113.63,-145.13,06-PP113,0,B45G0210,\"22-04-1969 00:00\",7.37,7.37,nan,Abandoned,Vertical,\"Loosbroek\",\"Tom van Steijn - Brabant Water\",\"Loosbroek\",\"Brabant Water\"\\n147870.9,366027.9,Br_Wa\"/welT_brabant_water_07-PP101\",-18.67,-44.32,07-PP101,0,B57A0257,\"06-07-1990 00:00\",42.28,42.28,nan,Active,Vertical,\"Luyksgestel\",\"Tom van Steijn - Brabant Water\",\"Luyksgestel\",\"Brabant Water\"\\n147808.85,366110.04,Br_Wa\"/welT_brabant_water_07-PP102\",-18.8,-40.8,07-PP102,0,B57A0045,\"07-02-1983 00:00\",40.2,38.83,nan,Active,Vertical,\"Luyksgestel\",\"Tom van Steijn - Brabant Water\",\"Luyksgestel\",\"Brabant Water\"\\n147871.7,366107.6,Br_Wa\"/welT_brabant_water_07-PP103\",-22.12,-46.12,07-PP103,0,B57A0258,\"06-07-1990 00:00\",41.88,41.88,nan,Active,Vertical,\"Luyksgestel\",\"Tom van Steijn - Brabant Water\",\"Luyksgestel\",\"Brabant Water\"\\n147873.0,366206.6,Br_Wa\"/welT_brabant_water_07-PP104\",-22.86,-46.97,07-PP104,0,B57A0259,\"06-07-1990 00:00\",40.62,40.62,nan,Active,Vertical,\"Luyksgestel\",\"Tom van Steijn - Brabant Water\",\"Luyksgestel\",\"Brabant Water\"\\n147747.8,366005.0,Br_Wa\"/welT_brabant_water_07-PP201\",-23.02,-45.7,07-PP201,0,B57A0260,\"20-07-1990 00:00\",41.24,41.24,nan,Active,Vertical,\"Luyksgestel\",\"Tom van Steijn - Brabant Water\",\"Luyksgestel\",\"Brabant Water\"\\n147747.5,366077.9,Br_Wa\"/welT_brabant_water_07-PP203\",-19.26,-45.57,07-PP203,0,B57A0261,\"20-07-1990 00:00\",39.93,39.93,nan,Active,Vertical,\"Luyksgestel\",\"Tom van Steijn - Brabant Water\",\"Luyksgestel\",\"Brabant Water\"\\n147810.0,366178.0,Br_Wa\"/welT_brabant_water_07-PP204\",-19.31,-45.52,07-PP204,0,B57A0262,\"20-07-1990 00:00\",40.78,40.78,nan,Active,Vertical,\"Luyksgestel\",\"Tom van Steijn - Brabant Water\",\"Luyksgestel\",\"Brabant Water\"\\n147746.1,366200.0,Br_Wa\"/welT_brabant_water_07-PP205\",-19.82,-46.25,07-PP205,0,B57A0263,\"06-07-1990 00:00\",40.75,40.75,nan,Active,Vertical,\"Luyksgestel\",\"Tom van Steijn - Brabant Water\",\"Luyksgestel\",\"Brabant Water\"\\n164722.0,423553.0,Br_Wa\"/welT_brabant_water_08-PP101\",-7.17,-10.47,08-PP101,0,B45E0347,\"18-06-1993 00:00\",5.27,5.23,nan,Inactive,Vertical,\"Macharen\",\"Tom van Steijn - Brabant Water\",\"Macharen\",\"Brabant Water\"\\n164661.0,423605.0,Br_Wa\"/welT_brabant_water_08-PP102\",-3.67,-8.27,08-PP102,0,B45E0348,\"18-06-1993 00:00\",5.2,5.23,nan,Inactive,Vertical,\"Macharen\",\"Tom van Steijn - Brabant Water\",\"Macharen\",\"Brabant Water\"\\n164344.04,424327.64,Br_Wa\"/welT_brabant_water_08-PP201\",-2.72,-12.57,08-PP201,0,B45E0325,\"21-11-1980 00:00\",5.5,4.77,nan,Inactive,Vertical,\"Macharen\",\"Tom van Steijn - Brabant Water\",\"Macharen\",\"Brabant Water\"\\n164343.59,424307.04,Br_Wa\"/welT_brabant_water_08-PP202\",-2.76,-12.61,08-PP202,0,B45E0326,\"12-11-1980 00:00\",5.44,5.44,nan,Inactive,Vertical,\"Macharen\",\"Tom van Steijn - Brabant Water\",\"Macharen\",\"Brabant Water\"\\n164344.03,424283.78,Br_Wa\"/welT_brabant_water_08-PP203\",-2.74,-12.59,08-PP203,0,B45E0327,\"11-11-1980 00:00\",5.41,5.41,nan,Inactive,Vertical,\"Macharen\",\"Tom van Steijn - Brabant Water\",\"Macharen\",\"Brabant Water\"\\n164344.71,424259.32,Br_Wa\"/welT_brabant_water_08-PP204\",-2.79,-10.39,08-PP204,0,B45E0328,\"30-11-1980 00:00\",5.41,5.41,nan,Inactive,Vertical,\"Macharen\",\"Tom van Steijn - Brabant Water\",\"Macharen\",\"Brabant Water\"\\n164345.17,424236.64,Br_Wa\"/welT_brabant_water_08-PP205\",-2.77,-8.32,08-PP205,0,B45E0329,\"06-11-1980 00:00\",5.43,5.43,nan,Inactive,Vertical,\"Macharen\",\"Tom van Steijn - Brabant Water\",\"Macharen\",\"Brabant Water\"\\n164345.68,424213.69,Br_Wa\"/welT_brabant_water_08-PP206\",-2.74,-11.24,08-PP206,0,B45E0330,\"28-10-1980 00:00\",5.46,5.46,nan,Inactive,Vertical,\"Macharen\",\"Tom van Steijn - Brabant Water\",\"Macharen\",\"Brabant Water\"\\n164346.41,424190.58,Br_Wa\"/welT_brabant_water_08-PP207\",-2.69,-10.29,08-PP207,0,B45E0331,\"30-10-1980 00:00\",5.46,5.46,nan,Inactive,Vertical,\"Macharen\",\"Tom van Steijn - Brabant Water\",\"Macharen\",\"Brabant Water\"\\n164347.02,424167.01,Br_Wa\"/welT_brabant_water_08-PP208\",-2.77,-11.42,08-PP208,0,B45E0332,\"28-10-1980 00:00\",5.43,5.43,nan,Inactive,Vertical,\"Macharen\",\"Tom van Steijn - Brabant Water\",\"Macharen\",\"Brabant Water\"\\n164347.64,424143.71,Br_Wa\"/welT_brabant_water_08-PP209\",-2.73,-9.58,08-PP209,0,B45E0333,\"27-10-1980 00:00\",5.42,5.42,nan,Inactive,Vertical,\"Macharen\",\"Tom van Steijn - Brabant Water\",\"Macharen\",\"Brabant Water\"\\n164348.1,424121.94,Br_Wa\"/welT_brabant_water_08-PP210\",-2.78,-7.83,08-PP210,0,B45E0334,\"23-10-1980 00:00\",5.42,5.42,nan,Inactive,Vertical,\"Macharen\",\"Tom van Steijn - Brabant Water\",\"Macharen\",\"Brabant Water\"\\n164348.52,424099.93,Br_Wa\"/welT_brabant_water_08-PP211\",-2.48,-9.08,08-PP211,0,B45E0335,\"17-11-1980 00:00\",5.42,5.42,nan,Inactive,Vertical,\"Macharen\",\"Tom van Steijn - Brabant Water\",\"Macharen\",\"Brabant Water\"\\n164349.18,424078.27,Br_Wa\"/welT_brabant_water_08-PP212\",-3.21,-13.06,08-PP212,0,B45E0336,\"20-10-1980 00:00\",5.39,5.39,nan,Inactive,Vertical,\"Macharen\",\"Tom van Steijn - Brabant Water\",\"Macharen\",\"Brabant Water\"\\n164349.71,424056.24,Br_Wa\"/welT_brabant_water_08-PP213\",-2.72,-12.62,08-PP213,0,B45E0337,\"21-10-1980 00:00\",5.43,5.43,nan,Inactive,Vertical,\"Macharen\",\"Tom van Steijn - Brabant Water\",\"Macharen\",\"Brabant Water\"\\n164350.21,424034.09,Br_Wa\"/welT_brabant_water_08-PP214\",-2.72,-12.57,08-PP214,0,B45E0338,\"15-10-1980 00:00\",5.43,5.43,nan,Inactive,Vertical,\"Macharen\",\"Tom van Steijn - Brabant Water\",\"Macharen\",\"Brabant Water\"\\n164350.63,424012.01,Br_Wa\"/welT_brabant_water_08-PP215\",-2.74,-10.59,08-PP215,0,B45E0339,\"14-10-1980 00:00\",5.41,5.41,nan,Inactive,Vertical,\"Macharen\",\"Tom van Steijn - Brabant Water\",\"Macharen\",\"Brabant Water\"\\n164351.3,423989.8,Br_Wa\"/welT_brabant_water_08-PP216\",-2.53,-12.38,08-PP216,0,B45E0340,\"14-10-1980 00:00\",5.42,5.42,nan,Inactive,Vertical,\"Macharen\",\"Tom van Steijn - Brabant Water\",\"Macharen\",\"Brabant Water\"\\n164352.0,423968.0,Br_Wa\"/welT_brabant_water_08-PP217\",-2.78,-12.63,08-PP217,0,B45E0341,\"10-10-1980 00:00\",5.42,5.42,nan,Abandoned,Vertical,\"Macharen\",\"Tom van Steijn - Brabant Water\",\"Macharen\",\"Brabant Water\"\\n164352.33,423944.21,Br_Wa\"/welT_brabant_water_08-PP218\",-2.75,-12.6,08-PP218,0,B45E0342,\"01-10-1980 00:00\",5.4,5.4,nan,Inactive,Vertical,\"Macharen\",\"Tom van Steijn - Brabant Water\",\"Macharen\",\"Brabant Water\"\\n164352.79,423920.52,Br_Wa\"/welT_brabant_water_08-PP219\",-2.78,-12.63,08-PP219,0,B45E0343,\"29-09-1980 00:00\",5.42,5.42,nan,Inactive,Vertical,\"Macharen\",\"Tom van Steijn - Brabant Water\",\"Macharen\",\"Brabant Water\"\\n164353.48,423897.75,Br_Wa\"/welT_brabant_water_08-PP220\",-2.48,-10.33,08-PP220,0,B45E0344,\"25-09-1980 00:00\",5.42,5.42,nan,Inactive,Vertical,\"Macharen\",\"Tom van Steijn - Brabant Water\",\"Macharen\",\"Brabant Water\"\\n164353.96,423875.46,Br_Wa\"/welT_brabant_water_08-PP221\",-2.58,-10.38,08-PP221,0,B45E0345,\"26-09-1980 00:00\",5.42,5.42,nan,Inactive,Vertical,\"Macharen\",\"Tom van Steijn - Brabant Water\",\"Macharen\",\"Brabant Water\"\\n164539.0,423708.0,Br_Wa\"/welT_brabant_water_08-PP222\",-5.45,-9.65,08-PP222,0,B45E0349,\"18-06-1993 00:00\",5.21,5.23,nan,Inactive,Vertical,\"Macharen\",\"Tom van Steijn - Brabant Water\",\"Macharen\",\"Brabant Water\"\\n164600.0,423657.0,Br_Wa\"/welT_brabant_water_08-PP223\",-4.15,-8.15,08-PP223,0,B45E0350,\"18-06-1993 00:00\",5.34,5.23,nan,Inactive,Vertical,\"Macharen\",\"Tom van Steijn - Brabant Water\",\"Macharen\",\"Brabant Water\"\\n165169.44,423311.57,Br_Wa\"/welT_brabant_water_08-PP301\",-2.86,-12.66,08-PP301,0,B45E0368,\"02-11-1979 00:00\",5.24,5.24,nan,Abandoned,Vertical,\"Macharen\",\"Tom van Steijn - Brabant Water\",\"Macharen\",\"Brabant Water\"\\n165190.73,423305.89,Br_Wa\"/welT_brabant_water_08-PP302\",-2.79,-10.99,08-PP302,0,B45E0369,\"29-03-1982 00:00\",5.21,5.21,nan,Abandoned,Vertical,\"Macharen\",\"Tom van Steijn - Brabant Water\",\"Macharen\",\"Brabant Water\"\\n165212.76,423299.8,Br_Wa\"/welT_brabant_water_08-PP303\",-1.91,-11.71,08-PP303,0,B45E0370,\"05-11-1979 00:00\",5.19,5.19,nan,Abandoned,Vertical,\"Macharen\",\"Tom van Steijn - Brabant Water\",\"Macharen\",\"Brabant Water\"\\n165234.56,423294.04,Br_Wa\"/welT_brabant_water_08-PP304\",-2.71,-11.21,08-PP304,0,B45E0371,\"30-03-1982 00:00\",5.29,5.29,nan,Abandoned,Vertical,\"Macharen\",\"Tom van Steijn - Brabant Water\",\"Macharen\",\"Brabant Water\"\\n165256.27,423287.93,Br_Wa\"/welT_brabant_water_08-PP305\",-2.91,-12.71,08-PP305,0,B45E0372,\"02-11-1979 00:00\",5.19,5.19,nan,Abandoned,Vertical,\"Macharen\",\"Tom van Steijn - Brabant Water\",\"Macharen\",\"Brabant Water\"\\n165279.89,423281.67,Br_Wa\"/welT_brabant_water_08-PP306\",-2.77,-10.77,08-PP306,0,B45E0373,\"05-04-1982 00:00\",5.23,5.23,nan,Abandoned,Vertical,\"Macharen\",\"Tom van Steijn - Brabant Water\",\"Macharen\",\"Brabant Water\"\\n165303.51,423274.97,Br_Wa\"/welT_brabant_water_08-PP307\",-2.89,-10.69,08-PP307,0,B45E0374,\"31-10-1979 00:00\",5.21,5.21,nan,Abandoned,Vertical,\"Macharen\",\"Tom van Steijn - Brabant Water\",\"Macharen\",\"Brabant Water\"\\n165325.68,423268.98,Br_Wa\"/welT_brabant_water_08-PP308\",-2.71,-8.21,08-PP308,0,B45E0375,\"06-04-1982 00:00\",5.29,5.29,nan,Abandoned,Vertical,\"Macharen\",\"Tom van Steijn - Brabant Water\",\"Macharen\",\"Brabant Water\"\\n165351.26,423262.0,Br_Wa\"/welT_brabant_water_08-PP309\",-2.77,-8.27,08-PP309,0,B45E0376,\"08-04-1982 00:00\",5.23,5.23,nan,Abandoned,Vertical,\"Macharen\",\"Tom van Steijn - Brabant Water\",\"Macharen\",\"Brabant Water\"\\n165373.41,423255.75,Br_Wa\"/welT_brabant_water_08-PP310\",-2.85,-8.25,08-PP310,0,B45E0377,\"22-04-1982 00:00\",5.13,4.57,nan,Abandoned,Vertical,\"Macharen\",\"Tom van Steijn - Brabant Water\",\"Macharen\",\"Brabant Water\"\\n165390.22,423251.12,Br_Wa\"/welT_brabant_water_08-PP311\",-2.79,-8.19,08-PP311,0,B45E0378,\"14-04-1982 00:00\",5.21,5.21,nan,Abandoned,Vertical,\"Macharen\",\"Tom van Steijn - Brabant Water\",\"Macharen\",\"Brabant Water\"\\n165411.19,423243.78,Br_Wa\"/welT_brabant_water_08-PP312\",-2.75,-8.75,08-PP312,0,B45E0379,\"25-05-1982 00:00\",5.25,5.25,nan,Abandoned,Vertical,\"Macharen\",\"Tom van Steijn - Brabant Water\",\"Macharen\",\"Brabant Water\"\\n165432.55,423236.34,Br_Wa\"/welT_brabant_water_08-PP313\",-2.79,-5.79,08-PP313,0,B45E0380,\"25-05-1982 00:00\",5.21,5.21,nan,Abandoned,Vertical,\"Macharen\",\"Tom van Steijn - Brabant Water\",\"Macharen\",\"Brabant Water\"\\n165454.33,423229.09,Br_Wa\"/welT_brabant_water_08-PP314\",-2.79,-5.79,08-PP314,0,B45E0381,\"16-06-1982 00:00\",5.21,5.21,nan,Abandoned,Vertical,\"Macharen\",\"Tom van Steijn - Brabant Water\",\"Macharen\",\"Brabant Water\"\\n165471.83,423220.29,Br_Wa\"/welT_brabant_water_08-PP315\",-3.42,-11.47,08-PP315,0,B45E0382,\"03-05-1982 00:00\",5.16,4.58,nan,Abandoned,Vertical,\"Macharen\",\"Tom van Steijn - Brabant Water\",\"Macharen\",\"Brabant Water\"\\n165496.67,423214.1,Br_Wa\"/welT_brabant_water_08-PP316\",-2.8,-9.5,08-PP316,0,B45E0383,\"25-05-1982 00:00\",5.2,5.2,nan,Abandoned,Vertical,\"Macharen\",\"Tom van Steijn - Brabant Water\",\"Macharen\",\"Brabant Water\"\\n165516.12,423209.02,Br_Wa\"/welT_brabant_water_08-PP317\",-3.43,-7.93,08-PP317,0,B45E0384,\"25-05-1982 00:00\",5.09,4.57,nan,Abandoned,Vertical,\"Macharen\",\"Tom van Steijn - Brabant Water\",\"Macharen\",\"Brabant Water\"\\n165542.97,423198.26,Br_Wa\"/welT_brabant_water_08-PP318\",-2.81,-8.31,08-PP318,0,B45E0385,\"22-04-1982 00:00\",5.19,5.19,nan,Abandoned,Vertical,\"Macharen\",\"Tom van Steijn - Brabant Water\",\"Macharen\",\"Brabant Water\"\\n165565.23,423193.06,Br_Wa\"/welT_brabant_water_08-PP319\",-3.44,-8.44,08-PP319,0,B45E0386,\"23-04-1982 00:00\",5.06,4.56,nan,Abandoned,Vertical,\"Macharen\",\"Tom van Steijn - Brabant Water\",\"Macharen\",\"Brabant Water\"\\n164823.36,423657.58,Br_Wa\"/welT_brabant_water_08-PPV01\",-2.9,-10.34,08-PPV01,0,nan,\"01-01-1950 00:00\",nan,5.27,nan,Abandoned,Vertical,\"Macharen/Virtuele put\",\"Tom van Steijn - Brabant Water\",\"Macharen\",\"Brabant Water\"\\n145794.67,393872.95,Br_Wa\"/welT_brabant_water_09-PP001\",-163.34,-194.84,09-PP001,0,B51A0104,\"15-04-1983 00:00\",10.16,8.39,nan,Active,Vertical,\"Oirschot\",\"Tom van Steijn - Brabant Water\",\"Oirschot\",\"Brabant Water\"\\n145881.82,393839.79,Br_Wa\"/welT_brabant_water_09-PP002\",-166.58,-194.38,09-PP002,0,B51A0106,\"15-04-1983 00:00\",10.42,8.87,nan,Active,Vertical,\"Oirschot\",\"Tom van Steijn - Brabant Water\",\"Oirschot\",\"Brabant Water\"\\n145918.81,393726.89,Br_Wa\"/welT_brabant_water_09-PP003\",-168.14,-194.64,09-PP003,0,B51A0107,\"27-04-1983 00:00\",10.36,8.91,nan,Active,Vertical,\"Oirschot\",\"Tom van Steijn - Brabant Water\",\"Oirschot\",\"Brabant Water\"\\n145863.15,393607.36,Br_Wa\"/welT_brabant_water_09-PP004\",-165.76,-188.65,09-PP004,0,B51A0188,\"17-12-1992 00:00\",10.41,8.86,nan,Active,Vertical,\"Oirschot\",\"Tom van Steijn - Brabant Water\",\"Oirschot\",\"Brabant Water\"\\n145745.03,393510.93,Br_Wa\"/welT_brabant_water_09-PP005\",-167.58,-194.87,09-PP005,0,B51A0187,\"17-12-1992 00:00\",10.63,9.1,nan,Active,Vertical,\"Oirschot\",\"Tom van Steijn - Brabant Water\",\"Oirschot\",\"Brabant Water\"\\n145765.73,393788.53,Br_Wa\"/welT_brabant_water_09-PP006\",-168.01,-194.01,09-PP006,0,B51A0105,\"10-03-1983 00:00\",9.99,8.58,nan,Active,Vertical,\"Oirschot\",\"Tom van Steijn - Brabant Water\",\"Oirschot\",\"Brabant Water\"\\n145728.0,393714.0,Br_Wa\"/welT_brabant_water_09-PP102\",-160.01,-193.01,09-PP102,0,B51A0044,\"19-07-1973 00:00\",9.99,9.89,nan,Abandoned,Vertical,\"Oirschot\",\"Tom van Steijn - Brabant Water\",\"Oirschot\",\"Brabant Water\"\\n145685.0,393622.0,Br_Wa\"/welT_brabant_water_09-PP103\",-163.86,-193.86,09-PP103,0,B51A0043,\"25-05-1973 00:00\",10.14,9.74,nan,Abandoned,Vertical,\"Oirschot\",\"Tom van Steijn - Brabant Water\",\"Oirschot\",\"Brabant Water\"\\n145867.0,393447.0,Br_Wa\"/welT_brabant_water_09-PP205\",-160.32,-194.57,09-PP205,0,B51A0047,\"12-12-1973 00:00\",10.68,11.58,nan,Abandoned,Vertical,\"Oirschot\",\"Tom van Steijn - Brabant Water\",\"Oirschot\",\"Brabant Water\"\\n156631.44,401290.18,Br_Wa\"/welT_brabant_water_10-PP001\",-151.76,-200.76,10-PP001,0,B45D0130,\"19-02-1974 00:00\",8.3,6.56,nan,Active,Vertical,\"Schijndel\",\"Tom van Steijn - Brabant Water\",\"Schijndel\",\"Brabant Water\"\\n156598.06,401279.13,Br_Wa\"/welT_brabant_water_10-PP002\",-141.63,-203.63,10-PP002,0,B45D0131,\"15-10-1974 00:00\",8.37,6.7,nan,Active,Vertical,\"Schijndel\",\"Tom van Steijn - Brabant Water\",\"Schijndel\",\"Brabant Water\"\\n156565.06,401267.93,Br_Wa\"/welT_brabant_water_10-PP003\",-139.74,-202.74,10-PP003,0,B45D0132,\"19-03-1974 00:00\",8.26,8.26,nan,Abandoned,Vertical,\"Schijndel\",\"Tom van Steijn - Brabant Water\",\"Schijndel\",\"Brabant Water\"\\n156532.91,401257.3,Br_Wa\"/welT_brabant_water_10-PP004\",-139.59,-202.59,10-PP004,0,B45D0133,\"28-10-1974 00:00\",8.41,6.63,nan,Active,Vertical,\"Schijndel\",\"Tom van Steijn - Brabant Water\",\"Schijndel\",\"Brabant Water\"\\n156500.78,401246.63,Br_Wa\"/welT_brabant_water_10-PP005\",-141.22,-201.62,10-PP005,0,B45D0134,\"25-03-1974 00:00\",8.38,6.57,nan,Active,Vertical,\"Schijndel\",\"Tom van Steijn - Brabant Water\",\"Schijndel\",\"Brabant Water\"\\n156394.19,401216.29,Br_Wa\"/welT_brabant_water_10-PP006\",-145.7,-203.7,10-PP006,0,B45D0135,\"22-04-1974 00:00\",8.3,6.66,nan,Active,Vertical,\"Schijndel\",\"Tom van Steijn - Brabant Water\",\"Schijndel\",\"Brabant Water\"\\n156311.57,401195.65,Br_Wa\"/welT_brabant_water_10-PP007\",-145.88,-203.88,10-PP007,0,B45D0136,\"20-05-1974 00:00\",8.12,6.75,nan,Active,Vertical,\"Schijndel\",\"Tom van Steijn - Brabant Water\",\"Schijndel\",\"Brabant Water\"\\n156231.42,401175.37,Br_Wa\"/welT_brabant_water_10-PP008\",-141.89,-203.89,10-PP008,0,B45D0137,\"30-05-1974 00:00\",8.11,6.53,nan,Active,Vertical,\"Schijndel\",\"Tom van Steijn - Brabant Water\",\"Schijndel\",\"Brabant Water\"\\n156158.58,401116.06,Br_Wa\"/welT_brabant_water_10-PP009\",-146.51,-206.51,10-PP009,0,B45D0138,\"10-07-1974 00:00\",7.99,6.42,nan,Active,Vertical,\"Schijndel\",\"Tom van Steijn - Brabant Water\",\"Schijndel\",\"Brabant Water\"\\n156065.4,401141.15,Br_Wa\"/welT_brabant_water_10-PP010\",-147.96,-203.96,10-PP010,0,B45D0139,\"25-06-1974 00:00\",8.04,6.49,nan,Active,Vertical,\"Schijndel\",\"Tom van Steijn - Brabant Water\",\"Schijndel\",\"Brabant Water\"\\n155990.73,401103.91,Br_Wa\"/welT_brabant_water_10-PP011\",-146.27,-207.27,10-PP011,0,B45D0140,\"10-07-1974 00:00\",7.73,6.23,nan,Active,Vertical,\"Schijndel\",\"Tom van Steijn - Brabant Water\",\"Schijndel\",\"Brabant Water\"\\n155896.15,401151.02,Br_Wa\"/welT_brabant_water_10-PP012\",-158.53,-208.03,10-PP012,0,B45D0141,\"11-07-1974 00:00\",7.97,6.21,nan,Active,Vertical,\"Schijndel\",\"Tom van Steijn - Brabant Water\",\"Schijndel\",\"Brabant Water\"\\n155812.09,401215.4,Br_Wa\"/welT_brabant_water_10-PP013\",-160.05,-197.55,10-PP013,0,B45D0142,\"19-08-1974 00:00\",7.95,6.32,nan,Active,Vertical,\"Schijndel\",\"Tom van Steijn - Brabant Water\",\"Schijndel\",\"Brabant Water\"\\n155741.98,401283.86,Br_Wa\"/welT_brabant_water_10-PP014\",-156.21,-203.21,10-PP014,0,B45D0143,\"10-07-1975 00:00\",7.79,6.45,nan,Active,Vertical,\"Schijndel\",\"Tom van Steijn - Brabant Water\",\"Schijndel\",\"Brabant Water\"\\n155700.51,401361.88,Br_Wa\"/welT_brabant_water_10-PP015\",-152.11,-196.11,10-PP015,0,B45D0144,\"10-07-1975 00:00\",7.89,6.33,nan,Active,Vertical,\"Schijndel\",\"Tom van Steijn - Brabant Water\",\"Schijndel\",\"Brabant Water\"\\n155588.2,401520.63,Br_Wa\"/welT_brabant_water_10-PP017\",-154.34,-201.94,10-PP017,0,B45D0145,\"23-06-1975 00:00\",7.66,5.94,nan,Active,Vertical,\"Schijndel\",\"Tom van Steijn - Brabant Water\",\"Schijndel\",\"Brabant Water\"\\n155538.59,401607.38,Br_Wa\"/welT_brabant_water_10-PP018\",-187.4,-203.4,10-PP018,0,B45D0146,\"02-06-1975 00:00\",7.6,5.87,nan,Active,Vertical,\"Schijndel\",\"Tom van Steijn - Brabant Water\",\"Schijndel\",\"Brabant Water\"\\n155513.86,401650.47,Br_Wa\"/welT_brabant_water_10-PP019\",-183.45,-204.95,10-PP019,0,B45D0325,\"01-10-1975 00:00\",7.55,5.74,nan,Active,Vertical,\"Schijndel\",\"Tom van Steijn - Brabant Water\",\"Schijndel\",\"Brabant Water\"\\n155488.88,401693.93,Br_Wa\"/welT_brabant_water_10-PP020\",-183.53,-204.53,10-PP020,0,B45D0147,\"02-05-1975 00:00\",7.47,5.7,nan,Active,Vertical,\"Schijndel\",\"Tom van Steijn - Brabant Water\",\"Schijndel\",\"Brabant Water\"\\n155439.07,401780.68,Br_Wa\"/welT_brabant_water_10-PP021\",-177.43,-203.43,10-PP021,0,B45D0148,\"21-04-1975 00:00\",7.57,5.92,nan,Active,Vertical,\"Schijndel\",\"Tom van Steijn - Brabant Water\",\"Schijndel\",\"Brabant Water\"\\n155331.33,401928.74,Br_Wa\"/welT_brabant_water_10-PP022\",-145.44,-198.69,10-PP022,0,B45D0149,\"10-07-1975 00:00\",7.31,6.06,nan,Active,Vertical,\"Schijndel\",\"Tom van Steijn - Brabant Water\",\"Schijndel\",\"Brabant Water\"\\n155212.67,402166.9,Br_Wa\"/welT_brabant_water_10-PP023\",-150.67,-212.17,10-PP023,0,B45D0150,\"25-03-1975 00:00\",7.33,5.68,nan,Active,Vertical,\"Schijndel\",\"Tom van Steijn - Brabant Water\",\"Schijndel\",\"Brabant Water\"\\n155166.33,402238.33,Br_Wa\"/welT_brabant_water_10-PP024\",-163.64,-211.64,10-PP024,0,B45D0151,\"27-02-1975 00:00\",7.36,5.76,nan,Active,Vertical,\"Schijndel\",\"Tom van Steijn - Brabant Water\",\"Schijndel\",\"Brabant Water\"\\n155120.02,402309.86,Br_Wa\"/welT_brabant_water_10-PP025\",-150.77,-211.27,10-PP025,0,B45D0152,\"18-02-1975 00:00\",7.23,5.56,nan,Active,Vertical,\"Schijndel\",\"Tom van Steijn - Brabant Water\",\"Schijndel\",\"Brabant Water\"\\n155077.32,402375.7,Br_Wa\"/welT_brabant_water_10-PP026\",-151.75,-212.75,10-PP026,0,B45D0153,\"06-03-1975 00:00\",7.25,5.56,nan,Abandoned,Vertical,\"Schijndel\",\"Tom van Steijn - Brabant Water\",\"Schijndel\",\"Brabant Water\"\\n176091.44,371500.89,Br_Wa\"/welT_brabant_water_11-PP001\",-144.91,-220.91,11-PP001,0,B57F0062,\"23-01-1973 00:00\",28.09,26.44,nan,Active,Vertical,\"Someren\",\"Tom van Steijn - Brabant Water\",\"Someren\",\"Brabant Water\"\\n175923.0,371484.0,Br_Wa\"/welT_brabant_water_11-PP002\",-148.55,-221.55,11-PP002,0,B57F0101,\"14-07-1978 00:00\",28.45,28.45,nan,Active,Vertical,\"Someren\",\"Tom van Steijn - Brabant Water\",\"Someren\",\"Brabant Water\"\\n175956.0,371543.0,Br_Wa\"/welT_brabant_water_11-PP003\",-147.96,-222.96,11-PP003,0,B57F0102,\"19-09-1978 00:00\",28.04,28.04,nan,Active,Vertical,\"Someren\",\"Tom van Steijn - Brabant Water\",\"Someren\",\"Brabant Water\"\\n175821.0,371518.0,Br_Wa\"/welT_brabant_water_11-PP004\",-143.5,-220.8,11-PP004,0,B57F0103,\"20-10-1978 00:00\",29.5,29.5,nan,Active,Vertical,\"Someren\",\"Tom van Steijn - Brabant Water\",\"Someren\",\"Brabant Water\"\\n175861.27,371631.78,Br_Wa\"/welT_brabant_water_11-PP005\",-149.59,-223.34,11-PP005,0,B57F0104,\"20-11-1978 00:00\",28.41,28.41,nan,Active,Vertical,\"Someren\",\"Tom van Steijn - Brabant Water\",\"Someren\",\"Brabant Water\"\\n175762.0,371600.0,Br_Wa\"/welT_brabant_water_11-PP006\",-143.95,-223.95,11-PP006,0,B57F0105,\"07-11-1978 00:00\",29.05,29.05,nan,Active,Vertical,\"Someren\",\"Tom van Steijn - Brabant Water\",\"Someren\",\"Brabant Water\"\\n175673.0,371573.0,Br_Wa\"/welT_brabant_water_11-PP007\",-152.03,-224.33,11-PP007,0,B57F0106,\"18-12-1978 00:00\",28.97,28.97,nan,Active,Vertical,\"Someren\",\"Tom van Steijn - Brabant Water\",\"Someren\",\"Brabant Water\"\\n175577.0,371542.0,Br_Wa\"/welT_brabant_water_11-PP008\",-155.54,-227.44,11-PP008,0,B57F0107,\"21-02-1979 00:00\",28.16,28.16,nan,Active,Vertical,\"Someren\",\"Tom van Steijn - Brabant Water\",\"Someren\",\"Brabant Water\"\\n175575.0,371628.0,Br_Wa\"/welT_brabant_water_11-PP009\",-150.82,-226.72,11-PP009,0,B57F0108,\"20-11-1978 00:00\",29.28,29.28,nan,Active,Vertical,\"Someren\",\"Tom van Steijn - Brabant Water\",\"Someren\",\"Brabant Water\"\\n175524.98,371684.22,Br_Wa\"/welT_brabant_water_11-PP010\",-125.03,-226.63,11-PP010,0,B57F0082,\"10-02-1979 00:00\",28.77,27.17,nan,Active,Vertical,\"Someren\",\"Tom van Steijn - Brabant Water\",\"Someren\",\"Brabant Water\"\\n175043.56,371919.03,Br_Wa\"/welT_brabant_water_11-PP011\",-134.17,-232.17,11-PP011,0,B57F0120,\"16-01-1998 00:00\",28.83,28.83,nan,Active,Vertical,\"Someren\",\"Tom van Steijn - Brabant Water\",\"Someren\",\"Brabant Water\"\\n175046.04,372044.16,Br_Wa\"/welT_brabant_water_11-PP012\",-165.28,-233.73,11-PP012,0,B57F0119,\"02-12-1997 00:00\",28.07,28.07,nan,Active,Vertical,\"Someren\",\"Tom van Steijn - Brabant Water\",\"Someren\",\"Brabant Water\"\\n175048.86,372168.85,Br_Wa\"/welT_brabant_water_11-PP013\",-174.32,-233.69,11-PP013,0,B57F0118,\"14-11-1997 00:00\",27.48,27.48,nan,Active,Vertical,\"Someren\",\"Tom van Steijn - Brabant Water\",\"Someren\",\"Brabant Water\"\\n157257.0,393536.0,Br_Wa\"/welT_brabant_water_12-PP001\",-151.35,-226.35,12-PP001,0,B51B0253,\"31-07-1972 00:00\",13.65,13.65,nan,Active,Vertical,\"Son\",\"Tom van Steijn - Brabant Water\",\"Son\",\"Brabant Water\"\\n157314.0,393453.0,Br_Wa\"/welT_brabant_water_12-PP002\",-149.15,-226.15,12-PP002,0,B51B0254,\"13-06-1972 00:00\",13.85,13.85,nan,Active,Vertical,\"Son\",\"Tom van Steijn - Brabant Water\",\"Son\",\"Brabant Water\"\\n157370.0,393371.0,Br_Wa\"/welT_brabant_water_12-PP003\",-152.77,-234.52,12-PP003,0,B51B0255,\"19-05-1972 00:00\",14.23,14.23,nan,Active,Vertical,\"Son\",\"Tom van Steijn - Brabant Water\",\"Son\",\"Brabant Water\"\\n157426.0,393290.0,Br_Wa\"/welT_brabant_water_12-PP004\",-150.56,-234.56,12-PP004,0,B51B0256,\"27-04-1973 00:00\",14.44,14.44,nan,Active,Vertical,\"Son\",\"Tom van Steijn - Brabant Water\",\"Son\",\"Brabant Water \"\\n161448.39,380814.76,Br_Wa\"/welT_brabant_water_22-PP001\",-33.45,-57.35,22-PP001,0,B51G0530,\"18-04-1980 00:00\",18.46,16.65,nan,Active,Vertical,\"Aalsterweg middeldiep\",\"Tom van Steijn - Brabant Water\",\"Aalsterweg\",\"Brabant Water\"\\n161403.07,380690.98,Br_Wa\"/welT_brabant_water_22-PP007\",-28.92,-60.87,22-PP007,0,B51G2380,\"11-08-1958 00:00\",18.71,18.83,nan,Abandoned,Vertical,\"Aalsterweg middeldiep\",\"Tom van Steijn - Brabant Water\",\"Aalsterweg\",\"Brabant Water\"\\n161388.38,380642.8,Br_Wa\"/welT_brabant_water_22-PP008\",-28.86,-60.81,22-PP008,0,B51G2384,\"11-08-1958 00:00\",18.77,19.03,nan,Abandoned,Vertical,\"Aalsterweg middeldiep\",\"Tom van Steijn - Brabant Water\",\"Aalsterweg\",\"Brabant Water\"\\n161361.82,380527.6,Br_Wa\"/welT_brabant_water_22-PP009\",-29.37,-61.32,22-PP009,0,B51G0442,\"11-08-1958 00:00\",18.26,18.46,nan,Abandoned,Vertical,\"Aalsterweg middeldiep\",\"Tom van Steijn - Brabant Water\",\"Aalsterweg\",\"Brabant Water\"\\n161420.55,380618.83,Br_Wa\"/welT_brabant_water_22-PP010\",-28.82,-60.77,22-PP010,0,B51G2383,\"11-08-1958 00:00\",18.81,15.74,nan,Abandoned,Vertical,\"Aalsterweg middeldiep\",\"Tom van Steijn - Brabant Water\",\"Aalsterweg\",\"Brabant Water\"\\n161456.11,380618.75,Br_Wa\"/welT_brabant_water_22-PP011\",-30.57,-62.52,22-PP011,0,B51G2699,\"11-08-1958 00:00\",17.06,17.26,nan,Abandoned,Vertical,\"Aalsterweg middeldiep\",\"Tom van Steijn - Brabant Water\",\"Aalsterweg\",\"Brabant Water\"\\n161495.0,380590.0,Br_Wa\"/welT_brabant_water_22-PP012\",-41.6,-63.1,22-PP012,0,B51G0436,\"08-05-1952 00:00\",18.9,18.9,nan,Abandoned,Vertical,\"Aalsterweg middeldiep\",\"Tom van Steijn - Brabant Water\",\"Aalsterweg\",\"Brabant Water\"\\n161437.8,380676.93,Br_Wa\"/welT_brabant_water_22-PP014\",-29.37,-60.22,22-PP014,0,B51G2419,\"17-04-2012 00:00\",18.78,18.38,nan,Active,Vertical,\"Aalsterweg middeldiep\",\"Tom van Steijn - Brabant Water\",\"Aalsterweg\",\"Brabant Water\"\\n161516.98,380500.96,Br_Wa\"/welT_brabant_water_22-PP015\",-31.73,-59.79,22-PP015,0,B51G2420,\"03-04-2012 00:00\",18.44,18.0,nan,Active,Vertical,\"Aalsterweg middeldiep\",\"Tom van Steijn - Brabant Water\",\"Aalsterweg\",\"Brabant Water\"\\n161574.19,380584.45,Br_Wa\"/welT_brabant_water_22-PP016\",-30.7,-59.94,22-PP016,0,B51G2421,\"23-03-2012 00:00\",18.69,18.38,nan,Active,Vertical,\"Aalsterweg middeldiep\",\"Tom van Steijn - Brabant Water\",\"Aalsterweg\",\"Brabant Water\"\\n161528.79,379895.6,Br_Wa\"/welT_brabant_water_22-PP031\",-7.08,-57.08,22-PP031,0,B51G0253,\"12-06-1963 00:00\",17.94,17.92,nan,Abandoned,Vertical,\"Aalsterweg middeldiep\",\"Tom van Steijn - Brabant Water\",\"Aalsterweg\",\"Brabant Water\"\\n152348.0,416517.0,Br_Wa\"/welT_brabant_water_21-PPV01\",-41.8,-61.4,21-PPV01,0,nan,\"01-01-1989 00:00\",nan,2.7,nan,Abandoned,Vertical,\"Empel/Virtuele put\",\"Tom van Steijn - Brabant Water\",\"Empel\",\"Brabant Water\"\\n175929.63,388556.46,Br_Wa\"/welT_brabant_water_19-PP001\",-3.09,-21.09,19-PP001,0,B51F0011,\"01-01-1951 00:00\",18.91,18.91,nan,Abandoned,Vertical,\"Helmond middeldiep\",\"Tom van Steijn - Brabant Water\",\"Helmond\",\"Brabant Water\"\\n176003.68,388555.74,Br_Wa\"/welT_brabant_water_19-PP002\",-12.1,-24.1,19-PP002,0,B51F0012,\"01-01-1951 00:00\",19.0,19.0,nan,Abandoned,Vertical,\"Helmond middeldiep\",\"Tom van Steijn - Brabant Water\",\"Helmond\",\"Brabant Water\"\\n176079.21,388554.57,Br_Wa\"/welT_brabant_water_19-PP003\",-4.23,-24.3,19-PP003,0,B51F0013,\"01-01-1951 00:00\",18.91,18.91,nan,Abandoned,Vertical,\"Helmond middeldiep\",\"Tom van Steijn - Brabant Water\",\"Helmond\",\"Brabant Water\"\\n176153.11,388554.92,Br_Wa\"/welT_brabant_water_19-PP004\",-10.97,-26.47,19-PP004,0,B51F0014,\"01-01-1956 00:00\",19.08,19.08,nan,Abandoned,Vertical,\"Helmond middeldiep\",\"Tom van Steijn - Brabant Water\",\"Helmond\",\"Brabant Water\"\\n176227.9,388554.01,Br_Wa\"/welT_brabant_water_19-PP005\",-13.82,-28.82,19-PP005,0,B51F0015,\"01-01-1956 00:00\",19.15,19.15,nan,Abandoned,Vertical,\"Helmond middeldiep\",\"Tom van Steijn - Brabant Water\",\"Helmond\",\"Brabant Water\"\\n176302.96,388553.01,Br_Wa\"/welT_brabant_water_19-PP006\",-11.98,-25.98,19-PP006,0,B51F0016,\"01-01-1956 00:00\",19.06,19.06,nan,Abandoned,Vertical,\"Helmond middeldiep\",\"Tom van Steijn - Brabant Water\",\"Helmond\",\"Brabant Water\"\\n176040.0,388485.0,Br_Wa\"/welT_brabant_water_19-PP007\",-12.92,-30.62,19-PP007,0,B51F0057,\"15-03-1965 00:00\",19.08,19.08,nan,Abandoned,Vertical,\"Helmond middeldiep\",\"Tom van Steijn - Brabant Water\",\"Helmond\",\"Brabant Water\"\\n176070.0,388420.0,Br_Wa\"/welT_brabant_water_19-PP008\",-8.08,-25.88,19-PP008,0,B51F0058,\"01-04-1965 00:00\",19.12,19.12,nan,Abandoned,Vertical,\"Helmond middeldiep\",\"Tom van Steijn - Brabant Water\",\"Helmond\",\"Brabant Water\"\\n176100.0,388350.0,Br_Wa\"/welT_brabant_water_19-PP009\",-12.85,-30.85,19-PP009,0,B51F0059,\"15-04-1965 00:00\",19.15,19.15,nan,Abandoned,Vertical,\"Helmond middeldiep\",\"Tom van Steijn - Brabant Water\",\"Helmond\",\"Brabant Water\"\\n176140.0,388285.0,Br_Wa\"/welT_brabant_water_19-PP010\",-4.01,-27.06,19-PP010,0,B51F0060,\"01-01-1965 00:00\",19.13,19.13,nan,Abandoned,Vertical,\"Helmond middeldiep\",\"Tom van Steijn - Brabant Water\",\"Helmond\",\"Brabant Water\"\\n176125.65,388447.79,Br_Wa\"/welT_brabant_water_19-PP011\",-109.16,-166.98,19-PP011,0,B51F0284,\"16-12-1999 00:00\",18.87,17.22,nan,Active,Vertical,\"Helmond diep\",\"Tom van Steijn - Brabant Water\",\"Helmond\",\"Brabant Water\"\\n176175.0,388220.0,Br_Wa\"/welT_brabant_water_19-PP011V\",-12.43,-30.59,19-PP011V,0,B51F0061,\"15-05-1965 00:00\",19.07,19.07,nan,Abandoned,Vertical,\"Helmond middeldiep\",\"Tom van Steijn - Brabant Water\",\"Helmond\",\"Brabant Water\"\\n176347.35,388500.11,Br_Wa\"/welT_brabant_water_19-PP012\",-114.42,-163.95,19-PP012,0,B51F0280,\"13-10-1999 00:00\",19.51,17.81,nan,Active,Vertical,\"Helmond diep\",\"Tom van Steijn - Brabant Water\",\"Helmond\",\"Brabant Water\"\\n176205.0,388150.0,Br_Wa\"/welT_brabant_water_19-PP012V\",-3.3,-28.82,19-PP012V,0,B51F0062,\"01-06-1965 00:00\",19.18,19.18,nan,Abandoned,Vertical,\"Helmond middeldiep\",\"Tom van Steijn - Brabant Water\",\"Helmond\",\"Brabant Water\"\\n176510.56,388461.94,Br_Wa\"/welT_brabant_water_19-PP013\",-109.48,-164.31,19-PP013,0,B51F0285,\"10-04-2000 00:00\",19.89,18.15,nan,Active,Vertical,\"Helmond diep\",\"Tom van Steijn - Brabant Water\",\"Helmond\",\"Brabant Water\"\\n176240.0,388080.0,Br_Wa\"/welT_brabant_water_19-PP013V\",-2.52,-31.12,19-PP013V,0,B51F0063,\"15-06-1965 00:00\",19.13,19.13,nan,Abandoned,Vertical,\"Helmond middeldiep\",\"Tom van Steijn - Brabant Water\",\"Helmond\",\"Brabant Water\"\\n176670.14,388450.81,Br_Wa\"/welT_brabant_water_19-PP014\",-103.37,-154.03,19-PP014,0,B51F0286,\"17-11-1999 00:00\",19.92,18.17,nan,Active,Vertical,\"Helmond diep\",\"Tom van Steijn - Brabant Water\",\"Helmond\",\"Brabant Water\"\\n175860.0,388630.0,Br_Wa\"/welT_brabant_water_19-PP014V\",-237.72,-257.77,19-PP014V,0,B51F0102,\"25-08-1972 00:00\",18.28,18.28,nan,Abandoned,Vertical,\"Helmond zeer diep\",\"Tom van Steijn - Brabant Water\",\"Helmond\",\"Brabant Water\"\\n176836.41,388451.5,Br_Wa\"/welT_brabant_water_19-PP015\",-107.47,-158.97,19-PP015,0,B51F0244,\"30-03-1990 00:00\",19.73,18.1,nan,Active,Vertical,\"Helmond diep\",\"Tom van Steijn - Brabant Water\",\"Helmond\",\"Brabant Water\"\\n175970.0,388690.0,Br_Wa\"/welT_brabant_water_19-PP015V\",-11.52,-35.4,19-PP015V,0,B51F0104,\"13-09-1972 00:00\",18.6,18.6,nan,Abandoned,Vertical,\"Helmond middeldiep\",\"Tom van Steijn - Brabant Water\",\"Helmond\",\"Brabant Water\"\\n176792.19,388591.82,Br_Wa\"/welT_brabant_water_19-PP016\",-114.48,-171.89,19-PP016,0,B51F0301,\"27-03-2000 00:00\",20.31,18.61,nan,Active,Vertical,\"Helmond diep\",\"Tom van Steijn - Brabant Water\",\"Helmond\",\"Brabant Water\"\\n176080.0,388740.0,Br_Wa\"/welT_brabant_water_19-PP016V\",-11.66,-30.9,19-PP016V,0,B51F0105,\"13-09-1972 00:00\",18.6,18.6,nan,Abandoned,Vertical,\"Helmond middeldiep\",\"Tom van Steijn - Brabant Water\",\"Helmond\",\"Brabant Water\"\\n176641.13,388619.26,Br_Wa\"/welT_brabant_water_19-PP017\",-111.07,-169.76,19-PP017,0,B51F0302,\"07-04-2000 00:00\",19.18,17.44,nan,Active,Vertical,\"Helmond diep\",\"Tom van Steijn - Brabant Water\",\"Helmond\",\"Brabant Water\"\\n175899.61,388367.15,Br_Wa\"/welT_brabant_water_19-PP017V\",-233.29,-258.29,19-PP017V,0,B51F0230,\"29-05-1985 00:00\",18.71,18.71,nan,Abandoned,Vertical,\"Helmond zeer diep\",\"Tom van Steijn - Brabant Water\",\"Helmond\",\"Brabant Water\"\\n175980.0,388170.0,Br_Wa\"/welT_brabant_water_19-PP018\",-223.85,-257.7,19-PP018,0,B51F0231,\"03-12-1984 00:00\",19.17,17.45,nan,Abandoned,Vertical,\"Helmond zeer diep\",\"Tom van Steijn - Brabant Water\",\"Helmond\",\"Brabant Water\"\\n175959.49,388629.86,Br_Wa\"/welT_brabant_water_19-PP021\",-103.27,-165.07,19-PP021,0,B51F0245,\"12-03-1990 00:00\",18.43,17.81,nan,Active,Vertical,\"Helmond diep\",\"Tom van Steijn - Brabant Water\",\"Helmond\",\"Brabant Water\"\\n176065.29,388644.95,Br_Wa\"/welT_brabant_water_19-PP022\",-104.07,-164.88,19-PP022,0,B51F0246,\"12-03-1991 00:00\",18.82,17.54,nan,Active,Vertical,\"Helmond diep\",\"Tom van Steijn - Brabant Water\",\"Helmond\",\"Brabant Water\"\\n176038.54,388402.75,Br_Wa\"/welT_brabant_water_19-PP023\",-105.84,-159.48,19-PP023,0,B51F0276,\"25-04-1997 00:00\",18.64,17.05,nan,Active,Vertical,\"Helmond diep\",\"Tom van Steijn - Brabant Water\",\"Helmond\",\"Brabant Water\"\\n176202.97,388506.86,Br_Wa\"/welT_brabant_water_19-PP024\",-105.94,-165.57,19-PP024,0,B51F0281,\"30-11-1999 00:00\",19.21,17.5,nan,Active,Vertical,\"Helmond diep\",\"Tom van Steijn - Brabant Water\",\"Helmond\",\"Brabant Water\"\\n176172.36,388614.36,Br_Wa\"/welT_brabant_water_19-PP025\",-102.11,-163.14,19-PP025,0,B51F0282,\"13-01-2000 00:00\",19.19,17.46,nan,Active,Vertical,\"Helmond diep\",\"Tom van Steijn - Brabant Water\",\"Helmond\",\"Brabant Water\"\\n176057.42,388212.48,Br_Wa\"/welT_brabant_water_19-PP026\",-108.66,-165.16,19-PP026,0,B51F0283,\"25-01-2000 00:00\",19.42,17.64,nan,Active,Vertical,\"Helmond diep\",\"Tom van Steijn - Brabant Water\",\"Helmond\",\"Brabant Water\"\\n176281.19,388402.67,Br_Wa\"/welT_brabant_water_19-PP027\",-110.7,-166.31,19-PP027,0,B51F0300,\"18-02-2000 00:00\",19.57,17.21,nan,Active,Vertical,\"Helmond diep\",\"Tom van Steijn - Brabant Water\",\"Helmond\",\"Brabant Water\"\\n176294.16,388368.71,Br_Wa\"/welT_brabant_water_19-PP051\",-14.33,-54.67,19-PP051,0,B51F0292,\"15-02-2000 00:00\",19.44,17.76,nan,Active,Vertical,\"Helmond middeldiep\",\"Tom van Steijn - Brabant Water\",\"Helmond\",\"Brabant Water\"\\n176365.36,388291.59,Br_Wa\"/welT_brabant_water_19-PP052\",-12.6,-44.26,19-PP052,0,B51F0293,\"21-02-2000 00:00\",19.37,17.69,nan,Active,Vertical,\"Helmond middeldiep\",\"Tom van Steijn - Brabant Water\",\"Helmond\",\"Brabant Water\"\\n176509.31,388285.66,Br_Wa\"/welT_brabant_water_19-PP053\",-14.59,-49.72,19-PP053,0,B51F0294,\"17-04-2000 00:00\",19.71,17.97,nan,Active,Vertical,\"Helmond middeldiep\",\"Tom van Steijn - Brabant Water\",\"Helmond\",\"Brabant Water\"\\n176695.05,388308.51,Br_Wa\"/welT_brabant_water_19-PP054\",-13.46,-52.77,19-PP054,0,B51F0295,\"15-03-2000 00:00\",19.92,18.11,nan,Active,Vertical,\"Helmond middeldiep\",\"Tom van Steijn - Brabant Water\",\"Helmond\",\"Brabant Water\"\\n176714.79,388412.72,Br_Wa\"/welT_brabant_water_19-PP055\",-12.73,-54.7,19-PP055,0,B51F0296,\"08-02-2000 00:00\",19.81,18.17,nan,Active,Vertical,\"Helmond middeldiep\",\"Tom van Steijn - Brabant Water\",\"Helmond\",\"Brabant Water\"\\n176660.86,388559.98,Br_Wa\"/welT_brabant_water_19-PP056\",-16.25,-46.93,19-PP056,0,B51F0297,\"11-04-2000 00:00\",19.92,18.22,nan,Active,Vertical,\"Helmond middeldiep\",\"Tom van Steijn - Brabant Water\",\"Helmond\",\"Brabant Water\"\\n175980.94,388640.72,Br_Wa\"/welT_brabant_water_19-PP061\",-14.46,-43.76,19-PP061,0,B51F0298,\"22-08-1996 00:00\",18.66,17.62,nan,Active,Vertical,\"Helmond middeldiep\",\"Tom van Steijn - Brabant Water\",\"Helmond\",\"Brabant Water\"\\n176150.09,388660.23,Br_Wa\"/welT_brabant_water_19-PP062\",-13.47,-44.44,19-PP062,0,B51F0299,\"28-08-1996 00:00\",18.55,17.45,nan,Active,Vertical,\"Helmond middeldiep\",\"Tom van Steijn - Brabant Water\",\"Helmond\",\"Brabant Water\"\\n176241.76,388567.79,Br_Wa\"/welT_brabant_water_19-PP063\",-14.46,-47.87,19-PP063,0,B51F0287,\"01-02-2000 00:00\",18.88,17.2,nan,Active,Vertical,\"Helmond middeldiep\",\"Tom van Steijn - Brabant Water\",\"Helmond\",\"Brabant Water\"\\n176359.64,388617.79,Br_Wa\"/welT_brabant_water_19-PP064\",-12.25,-56.93,19-PP064,0,B51F0288,\"04-11-1999 00:00\",18.46,16.76,nan,Active,Vertical,\"Helmond middeldiep\",\"Tom van Steijn - Brabant Water\",\"Helmond\",\"Brabant Water\"\\n176477.08,388639.48,Br_Wa\"/welT_brabant_water_19-PP065\",-13.06,-58.11,19-PP065,0,B51F0289,\"27-01-2000 00:00\",19.45,17.56,nan,Active,Vertical,\"Helmond middeldiep\",\"Tom van Steijn - Brabant Water\",\"Helmond\",\"Brabant Water\"\\n176622.46,388686.73,Br_Wa\"/welT_brabant_water_19-PP066\",-13.99,-53.32,19-PP066,0,B51F0290,\"23-12-1999 00:00\",18.93,17.27,nan,Active,Vertical,\"Helmond middeldiep\",\"Tom van Steijn - Brabant Water\",\"Helmond\",\"Brabant Water\"\\n176030.68,388399.28,Br_Wa\"/welT_brabant_water_19-PP067\",-16.2,-49.92,19-PP067,0,B51F0291,\"04-02-2000 00:00\",18.79,17.29,nan,Active,Vertical,\"Helmond middeldiep\",\"Tom van Steijn - Brabant Water\",\"Helmond\",\"Brabant Water\"\\n140545.57,408786.15,Br_Wa\"/welT_brabant_water_18-PP011\",-116.19,-191.69,18-PP011,0,B45C0291,\"01-10-1981 00:00\",4.81,4.81,nan,Active,Vertical,\"Helvoirt diep\",\"Tom van Steijn - Brabant Water\",\"Helvoirt\",\"Brabant Water\"\\n140522.54,408662.1,Br_Wa\"/welT_brabant_water_18-PP012\",-152.95,-190.45,18-PP012,0,B45C0348,\"08-04-1971 00:00\",4.75,4.75,nan,Active,Vertical,\"Helvoirt diep\",\"Tom van Steijn - Brabant Water\",\"Helvoirt\",\"Brabant Water\"\\n140409.01,408475.15,Br_Wa\"/welT_brabant_water_18-PP013\",-110.24,-143.94,18-PP013,0,B45C0349,\"23-07-1981 00:00\",5.16,5.16,nan,Active,Vertical,\"Helvoirt diep\",\"Tom van Steijn - Brabant Water\",\"Helvoirt\",\"Brabant Water\"\\n140300.97,408452.73,Br_Wa\"/welT_brabant_water_18-PP014\",-113.2,-168.2,18-PP014,0,B45C0350,\"15-06-1971 00:00\",5.29,3.8,nan,Active,Vertical,\"Helvoirt diep\",\"Tom van Steijn - Brabant Water\",\"Helvoirt\",\"Brabant Water\"\\n140509.0,408567.53,Br_Wa\"/welT_brabant_water_18-PP023\",-40.99,-58.99,18-PP023,0,B45C0342,\"15-03-1971 00:00\",5.01,5.01,nan,Abandoned,Vertical,\"Helvoirt middeldiep\",\"Tom van Steijn - Brabant Water\",\"Helvoirt\",\"Brabant Water\"\\n140599.5,408565.0,Br_Wa\"/welT_brabant_water_18-PP051\",-32.62,-59.52,18-PP051,0,B45C0341,\"21-07-1981 00:00\",4.98,4.98,nan,Active,Vertical,\"Helvoirt middeldiep\",\"Tom van Steijn - Brabant Water\",\"Helvoirt\",\"Brabant Water\"\\n140494.78,408519.19,Br_Wa\"/welT_brabant_water_18-PP052\",-33.96,-57.16,18-PP052,0,B45C0343,\"16-07-1981 00:00\",4.84,4.84,nan,Abandoned,Vertical,\"Helvoirt middeldiep\",\"Tom van Steijn - Brabant Water\",\"Helvoirt\",\"Brabant Water\"\\n140416.58,408574.48,Br_Wa\"/welT_brabant_water_18-PP053\",-28.91,-46.91,18-PP053,0,B45C0351,\"15-09-1981 00:00\",5.09,5.09,nan,Active,Vertical,\"Helvoirt middeldiep\",\"Tom van Steijn - Brabant Water\",\"Helvoirt\",\"Brabant Water\"\\n140433.91,408673.02,Br_Wa\"/welT_brabant_water_18-PP054\",-29.15,-47.15,18-PP054,0,B45C0344,\"08-09-1981 00:00\",4.85,4.85,nan,Abandoned,Vertical,\"Helvoirt middeldiep\",\"Tom van Steijn - Brabant Water\",\"Helvoirt\",\"Brabant Water\"\\n140451.26,408771.7,Br_Wa\"/welT_brabant_water_18-PP055\",-29.35,-46.85,18-PP055,0,B45C0345,\"02-09-1981 00:00\",4.65,4.65,nan,Abandoned,Vertical,\"Helvoirt middeldiep\",\"Tom van Steijn - Brabant Water\",\"Helvoirt\",\"Brabant Water\"\\n140308.2,408496.16,Br_Wa\"/welT_brabant_water_18-PP056\",-33.73,-57.73,18-PP056,0,B45C0352,\"07-07-1981 00:00\",5.07,5.07,nan,Active,Vertical,\"Helvoirt middeldiep\",\"Tom van Steijn - Brabant Water\",\"Helvoirt\",\"Brabant Water\"\\n140325.08,408590.56,Br_Wa\"/welT_brabant_water_18-PP057\",-34.85,-58.2,18-PP057,0,B45C0353,\"07-07-1981 00:00\",5.05,5.05,nan,Active,Vertical,\"Helvoirt middeldiep\",\"Tom van Steijn - Brabant Water\",\"Helvoirt\",\"Brabant Water\"\\n140342.36,408689.1,Br_Wa\"/welT_brabant_water_18-PP058\",-33.58,-50.08,18-PP058,0,B45C0346,\"13-07-1981 00:00\",4.92,4.92,nan,Abandoned,Vertical,\"Helvoirt middeldiep\",\"Tom van Steijn - Brabant Water\",\"Helvoirt\",\"Brabant Water\"\\n140359.51,408787.52,Br_Wa\"/welT_brabant_water_18-PP059\",-37.6,-50.6,18-PP059,0,B45C0354,\"26-08-1981 00:00\",4.4,4.4,nan,Abandoned,Vertical,\"Helvoirt middeldiep\",\"Tom van Steijn - Brabant Water\",\"Helvoirt\",\"Brabant Water\"\\n156844.97,414901.28,Br_Wa\"/welT_brabant_water_20-PP101\",-110.4,-129.8,20-PP101,0,B45B0206,\"01-01-1979 00:00\",5.1,5.1,nan,Abandoned,Vertical,\"Nuland diep\",\"Jelle van Sijl - Brabant Water\",\"Nuland\",\"Brabant Water\"\\n156779.97,414887.84,Br_Wa\"/welT_brabant_water_20-PP102\",-109.46,-129.46,20-PP102,0,B45B0207,\"01-01-1979 00:00\",5.35,4.74,nan,Abandoned,Vertical,\"Nuland diep\",\"Jelle van Sijl - Brabant Water\",\"Nuland\",\"Brabant Water\"\\n156649.7,415016.97,Br_Wa\"/welT_brabant_water_20-PP103\",-114.52,-134.52,20-PP103,0,B45B0216,\"16-01-1984 00:00\",5.71,5.48,nan,Abandoned,Vertical,\"Nuland diep\",\"Jelle van Sijl - Brabant Water\",\"Nuland\",\"Brabant Water\"\\n156725.0,414925.0,Br_Wa\"/welT_brabant_water_20-PP111\",-43.68,-63.66,20-PP111,0,B45B0189,\"01-01-1969 00:00\",5.1,5.1,nan,Abandoned,Vertical,\"Nuland middeldiep\",\"Jelle van Sijl - Brabant Water\",\"Nuland\",\"Brabant Water\"\\n156772.7,414943.14,Br_Wa\"/welT_brabant_water_20-PP112\",-45.4,-65.4,20-PP112,0,B45B0190,\"01-01-1969 00:00\",5.1,5.1,nan,Abandoned,Vertical,\"Nuland middeldiep\",\"Jelle van Sijl - Brabant Water\",\"Nuland\",\"Brabant Water\"\\n156830.0,414970.0,Br_Wa\"/welT_brabant_water_20-PP113\",-45.4,-65.4,20-PP113,0,B45B0191,\"01-01-1969 00:00\",5.1,5.1,nan,Abandoned,Vertical,\"Nuland middeldiep\",\"Jelle van Sijl - Brabant Water\",\"Nuland\",\"Brabant Water\"\\n156661.81,415030.42,Br_Wa\"/welT_brabant_water_20-PP114\",-45.4,-65.4,20-PP114,0,B45B0192,\"01-01-1970 00:00\",5.1,5.1,nan,Abandoned,Vertical,\"Nuland middeldiep\",\"Jelle van Sijl - Brabant Water\",\"Nuland\",\"Brabant Water\"\\n156738.26,415052.08,Br_Wa\"/welT_brabant_water_20-PP115\",-45.9,-65.9,20-PP115,0,B45B0193,\"01-01-1970 00:00\",5.1,5.1,nan,Abandoned,Vertical,\"Nuland middeldiep\",\"Jelle van Sijl - Brabant Water\",\"Nuland\",\"Brabant Water\"\\n156808.83,415076.64,Br_Wa\"/welT_brabant_water_20-PP116\",-46.9,-66.9,20-PP116,0,B45B0194,\"01-01-1960 00:00\",5.1,5.1,nan,Abandoned,Vertical,\"Nuland middeldiep\",\"Jelle van Sijl - Brabant Water\",\"Nuland\",\"Brabant Water\"\\n156638.34,414701.82,Br_Wa\"/welT_brabant_water_20-PP201\",-106.17,-126.02,20-PP201,0,B45B0204,\"01-01-1958 00:00\",4.9,4.38,nan,Abandoned,Vertical,\"Nuland diep\",\"Tom van Steijn - Brabant Water\",\"Nuland\",\"Brabant Water\"\\n156504.15,414653.2,Br_Wa\"/welT_brabant_water_20-PP202\",-114.9,-127.9,20-PP202,0,B45B0602,\"01-01-1988 00:00\",5.1,5.1,nan,Abandoned,Vertical,\"Nuland diep\",\"Tom van Steijn - Brabant Water\",\"Nuland\",\"Brabant Water\"\\n156612.96,414692.56,Br_Wa\"/welT_brabant_water_20-PP212\",-44.57,-65.57,20-PP212,0,B45B0199,\"01-01-1958 00:00\",4.83,4.43,nan,Abandoned,Vertical,\"Nuland middeldiep\",\"Tom van Steijn - Brabant Water\",\"Nuland\",\"Brabant Water\"\\n156542.74,414666.24,Br_Wa\"/welT_brabant_water_20-PP213\",-40.66,-65.16,20-PP213,0,B45B0603,\"01-01-1960 00:00\",5.55,3.84,nan,Abandoned,Vertical,\"Nuland middeldiep\",\"Tom van Steijn - Brabant Water\",\"Nuland\",\"Brabant Water\"\\n156472.36,414640.13,Br_Wa\"/welT_brabant_water_20-PP214\",-47.5,-63.5,20-PP214,0,B45B0158,\"01-01-1961 00:00\",5.0,5.0,nan,Abandoned,Vertical,\"Nuland middeldiep\",\"Tom van Steijn - Brabant Water\",\"Nuland\",\"Brabant Water\"\\n156999.39,414791.75,Br_Wa\"/welT_brabant_water_20-PP301\",-93.27,-127.27,20-PP301,0,B45B0598,\"01-01-1988 00:00\",7.43,7.43,nan,Abandoned,Vertical,\"Nuland diep\",\"Tom van Steijn - Brabant Water\",\"Nuland\",\"Brabant Water\"\\n157073.9,414810.63,Br_Wa\"/welT_brabant_water_20-PP302\",-106.61,-126.61,20-PP302,0,B45B0075,\"01-01-1965 00:00\",6.7,5.39,nan,Abandoned,Vertical,\"Nuland diep\",\"Tom van Steijn - Brabant Water\",\"Nuland\",\"Brabant Water\"\\n157142.84,414847.42,Br_Wa\"/welT_brabant_water_20-PP303\",-108.15,-125.45,20-PP303,0,B45B0198,\"01-01-1977 00:00\",5.38,4.85,nan,Abandoned,Vertical,\"Nuland diep\",\"Tom van Steijn - Brabant Water\",\"Nuland\",\"Brabant Water\"\\n157307.99,414895.82,Br_Wa\"/welT_brabant_water_20-PP304\",-103.14,-122.89,20-PP304,0,B45B0205,\"01-01-1977 00:00\",5.25,4.46,nan,Abandoned,Vertical,\"Nuland diep\",\"Tom van Steijn - Brabant Water\",\"Nuland\",\"Brabant Water\"\\n156729.13,414746.02,Br_Wa\"/welT_brabant_water_20-PP305\",-115.1,-135.1,20-PP305,0,B45B0604,\"01-01-1984 00:00\",4.9,4.9,nan,Abandoned,Vertical,\"Nuland diep\",\"Tom van Steijn - Brabant Water\",\"Nuland\",\"Brabant Water\"\\n157080.61,414691.17,Br_Wa\"/welT_brabant_water_20-PP306\",-81.8,-117.8,20-PP306,0,B45B0605,\"02-11-1991 00:00\",5.2,5.2,nan,Abandoned,Vertical,\"Nuland diep\",\"Tom van Steijn - Brabant Water\",\"Nuland\",\"Brabant Water\"\\n157012.66,414915.81,Br_Wa\"/welT_brabant_water_20-PP307\",-81.9,-117.9,20-PP307,0,B45B0229,\"01-01-1991 00:00\",5.1,5.1,nan,Abandoned,Vertical,\"Nuland diep\",\"Tom van Steijn - Brabant Water\",\"Nuland\",\"Brabant Water\"\\n156901.37,414752.91,Br_Wa\"/welT_brabant_water_20-PP311\",-42.97,-60.97,20-PP311,0,B45B0201,\"01-01-1948 00:00\",7.17,7.53,nan,Abandoned,Vertical,\"Nuland middeldiep\",\"Tom van Steijn - Brabant Water\",\"Nuland\",\"Brabant Water\"\\n157310.15,414886.06,Br_Wa\"/welT_brabant_water_20-PP312\",-45.04,-65.64,20-PP312,0,B45B0156,\"01-01-1961 00:00\",6.14,5.41,nan,Abandoned,Vertical,\"Nuland middeldiep\",\"Tom van Steijn - Brabant Water\",\"Nuland\",\"Brabant Water\"\\n157120.41,414822.55,Br_Wa\"/welT_brabant_water_20-PP314\",-42.33,-63.63,20-PP314,0,B45B0155,\"01-01-1961 00:00\",6.06,5.37,nan,Abandoned,Vertical,\"Nuland middeldiep\",\"Tom van Steijn - Brabant Water\",\"Nuland\",\"Brabant Water\"\\n157043.42,414799.19,Br_Wa\"/welT_brabant_water_20-PP315\",-48.57,-70.27,20-PP315,0,B45B0152,\"01-01-1963 00:00\",6.9,0.0,nan,Abandoned,Vertical,\"Nuland middeldiep\",\"Tom van Steijn - Brabant Water\",\"Nuland\",\"Brabant Water\"\\n156920.0,414855.0,Br_Wa\"/welT_brabant_water_20-PP316\",-47.05,-67.05,20-PP316,0,B45B0196,\"01-01-1977 00:00\",5.1,5.1,nan,Abandoned,Vertical,\"Nuland middeldiep\",\"Tom van Steijn - Brabant Water\",\"Nuland\",\"Brabant Water\"\\n156872.29,414967.96,Br_Wa\"/welT_brabant_water_20-PPV01\",-7.12,-12.12,20-PPV01,0,nan,\"01-01-1900 00:00\",nan,7.53,nan,Abandoned,Vertical,\"Nuland ondiep/Virtuele put\",\"Tom van Steijn - Brabant Water\",\"Nuland\",\"Brabant Water\"\\n156885.67,414839.89,Br_Wa\"/welT_brabant_water_20-PPV02\",-23.47,-32.47,20-PPV02,0,nan,\"01-01-1900 00:00\",nan,7.53,nan,Abandoned,Vertical,\"Nuland ondiep\",\"Tom van Steijn - Brabant Water\",\"Nuland\",\"Brabant Water\"\\n156909.5,414849.11,Br_Wa\"/welT_brabant_water_20-PPV03\",-42.97,-57.97,20-PPV03,0,nan,\"01-01-1900 00:00\",nan,7.53,nan,Abandoned,Vertical,\"Nuland middeldiep\",\"Tom van Steijn - Brabant Water\",\"Nuland\",\"Brabant Water\"\\n156901.23,414845.59,Br_Wa\"/welT_brabant_water_20-PPV04\",-135.47,-151.07,20-PPV04,0,nan,\"01-01-1900 00:00\",nan,7.53,nan,Abandoned,Vertical,\"Nuland diep\",\"Tom van Steijn - Brabant Water\",\"Nuland\",\"Brabant Water\"\\n157426.0,393290.0,Br_Wa\"/welT_brabant_water_12-PP004\",-150.56,-234.56,12-PP004,0,B51B0256,\"27-04-1973 00:00\",14.44,14.44,nan,Active,Vertical,\"Son\",\"Tom van Steijn - Brabant Water\",\"Son\",\"Brabant Water\"\\n157482.0,393207.0,Br_Wa\"/welT_brabant_water_12-PP005\",-150.73,-230.23,12-PP005,0,B51B0257,\"12-04-1972 00:00\",14.27,14.27,nan,Active,Vertical,\"Son\",\"Tom van Steijn - Brabant Water\",\"Son\",\"Brabant Water\"\\n157538.0,393124.0,Br_Wa\"/welT_brabant_water_12-PP006\",-150.66,-230.16,12-PP006,0,B51B0258,\"21-03-1972 00:00\",14.34,14.34,nan,Active,Vertical,\"Son\",\"Tom van Steijn - Brabant Water\",\"Son\",\"Brabant Water\"\\n157602.0,393031.0,Br_Wa\"/welT_brabant_water_12-PP007\",-151.3,-227.9,12-PP007,0,B51B0259,\"02-03-1972 00:00\",14.1,14.1,nan,Active,Vertical,\"Son\",\"Tom van Steijn - Brabant Water\",\"Son\",\"Brabant Water\"\\n157687.0,392963.0,Br_Wa\"/welT_brabant_water_12-PP008\",-150.84,-228.34,12-PP008,0,B51B0260,\"17-01-1972 00:00\",14.66,14.66,nan,Active,Vertical,\"Son\",\"Tom van Steijn - Brabant Water\",\"Son\",\"Brabant Water\"\\n157775.0,393000.0,Br_Wa\"/welT_brabant_water_12-PP009\",-145.18,-229.18,12-PP009,0,B51B0261,\"06-01-1972 00:00\",14.82,14.82,nan,Active,Vertical,\"Son\",\"Tom van Steijn - Brabant Water\",\"Son\",\"Brabant Water\"\\n157864.0,393038.0,Br_Wa\"/welT_brabant_water_12-PP010\",-148.68,-228.68,12-PP010,0,B51B0270,\"02-12-1971 00:00\",14.32,14.32,nan,Active,Vertical,\"Son\",\"Tom van Steijn - Brabant Water\",\"Son\",\"Brabant Water\"\\n157950.0,393073.0,Br_Wa\"/welT_brabant_water_12-PP011\",-150.55,-225.55,12-PP011,0,B51B0271,\"30-11-1971 00:00\",14.45,14.45,nan,Active,Vertical,\"Son\",\"Tom van Steijn - Brabant Water\",\"Son\",\"Brabant Water\"\\n158039.0,393111.0,Br_Wa\"/welT_brabant_water_12-PP012\",-147.39,-229.39,12-PP012,0,B51B0272,\"22-06-1971 00:00\",14.61,14.61,nan,Active,Vertical,\"Son\",\"Tom van Steijn - Brabant Water\",\"Son\",\"Brabant Water\"\\n158126.0,393149.0,Br_Wa\"/welT_brabant_water_12-PP013\",-150.35,-229.35,12-PP013,0,B51B0273,\"18-08-1971 00:00\",14.65,14.65,nan,Active,Vertical,\"Son\",\"Tom van Steijn - Brabant Water\",\"Son\",\"Brabant Water\"\\n158214.0,393188.0,Br_Wa\"/welT_brabant_water_12-PP014\",-150.88,-229.88,12-PP014,0,B51B0274,\"08-07-1971 00:00\",14.12,14.12,nan,Active,Vertical,\"Son\",\"Tom van Steijn - Brabant Water\",\"Son\",\"Brabant Water\"\\n158314.0,393238.0,Br_Wa\"/welT_brabant_water_12-PP015\",-139.36,-195.26,12-PP015,0,B51B0304,\"26-10-1972 00:00\",14.14,14.14,nan,Active,Vertical,\"Son\",\"Tom van Steijn - Brabant Water\",\"Son\",\"Brabant Water\"\\n158404.0,393271.0,Br_Wa\"/welT_brabant_water_12-PP016\",-152.09,-226.59,12-PP016,0,B51B0269,\"15-06-1971 00:00\",13.91,13.91,nan,Active,Vertical,\"Son\",\"Tom van Steijn - Brabant Water\",\"Son\",\"Brabant Water\"\\n158492.0,393308.0,Br_Wa\"/welT_brabant_water_12-PP017\",-151.94,-224.94,12-PP017,0,B51B0268,\"15-06-1971 00:00\",14.06,14.06,nan,Active,Vertical,\"Son\",\"Tom van Steijn - Brabant Water\",\"Son\",\"Brabant Water\"\\n158579.0,393345.0,Br_Wa\"/welT_brabant_water_12-PP018\",-151.82,-226.52,12-PP018,0,B51B0267,\"28-04-1971 00:00\",14.18,14.18,nan,Active,Vertical,\"Son\",\"Tom van Steijn - Brabant Water\",\"Son\",\"Brabant Water\"\\n158667.0,393382.0,Br_Wa\"/welT_brabant_water_12-PP019\",-148.71,-224.21,12-PP019,0,B51B0266,\"11-04-1971 00:00\",14.29,14.29,nan,Active,Vertical,\"Son\",\"Tom van Steijn - Brabant Water\",\"Son\",\"Brabant Water\"\\n158754.0,393420.0,Br_Wa\"/welT_brabant_water_12-PP020\",-147.01,-224.21,12-PP020,0,B51B0265,\"08-03-1971 00:00\",14.29,14.29,nan,Active,Vertical,\"Son\",\"Tom van Steijn - Brabant Water\",\"Son\",\"Brabant Water\"\\n158837.0,393463.0,Br_Wa\"/welT_brabant_water_12-PP021\",-148.01,-224.97,12-PP021,0,B51B0306,\"01-01-1971 00:00\",14.49,14.49,nan,Active,Vertical,\"Son\",\"Tom van Steijn - Brabant Water\",\"Son\",\"Brabant Water\"\\n158960.0,393498.0,Br_Wa\"/welT_brabant_water_12-PP022\",-147.97,-223.97,12-PP022,0,B51B0264,\"02-03-1971 00:00\",14.03,14.03,nan,Active,Vertical,\"Son\",\"Tom van Steijn - Brabant Water\",\"Son\",\"Brabant Water\"\\n159066.06,393545.39,Br_Wa\"/welT_brabant_water_12-PP023\",-146.16,-223.92,12-PP023,0,B51B0073,\"29-06-1970 00:00\",13.84,12.54,nan,Active,Vertical,\"Son\",\"Tom van Steijn - Brabant Water\",\"Son\",\"Brabant Water\"\\n159156.0,393578.0,Br_Wa\"/welT_brabant_water_12-PP024\",-151.27,-221.27,12-PP024,0,B51B0263,\"18-01-1971 00:00\",13.73,13.73,nan,Active,Vertical,\"Son\",\"Tom van Steijn - Brabant Water\",\"Son\",\"Brabant Water\"\\n159247.0,393612.0,Br_Wa\"/welT_brabant_water_12-PP025\",-146.98,-227.88,12-PP025,0,B51B0305,\"24-04-1972 00:00\",14.02,14.02,nan,Active,Vertical,\"Son\",\"Tom van Steijn - Brabant Water\",\"Son\",\"Brabant Water\"\\n159360.0,393654.0,Br_Wa\"/welT_brabant_water_12-PP026\",-146.23,-222.23,12-PP026,0,B51B0262,\"14-11-1973 00:00\",13.77,13.77,nan,Active,Vertical,\"Son\",\"Tom van Steijn - Brabant Water\",\"Son\",\"Brabant Water\"\\n168531.69,402550.28,Br_Wa\"/welT_brabant_water_13-PP001\",-105.17,-157.02,13-PP001,0,B45G0198,\"16-06-1980 00:00\",9.88,9.88,nan,Active,Vertical,\"Veghel\",\"Tom van Steijn - Brabant Water\",\"Veghel\",\"Brabant Water\"\\n168520.78,402431.28,Br_Wa\"/welT_brabant_water_13-PP002\",-105.61,-157.01,13-PP002,0,B45G0199,\"31-03-1980 00:00\",9.99,9.99,nan,Active,Vertical,\"Veghel\",\"Tom van Steijn - Brabant Water\",\"Veghel\",\"Brabant Water\"\\n168497.19,402333.73,Br_Wa\"/welT_brabant_water_13-PP003\",-106.04,-159.69,13-PP003,0,B45G0200,\"04-04-1980 00:00\",10.06,10.06,nan,Active,Vertical,\"Veghel\",\"Tom van Steijn - Brabant Water\",\"Veghel\",\"Brabant Water\"\\n168471.59,402235.72,Br_Wa\"/welT_brabant_water_13-PP004\",-103.84,-155.74,13-PP004,0,B45G0201,\"19-05-1980 00:00\",10.06,10.06,nan,Active,Vertical,\"Veghel\",\"Tom van Steijn - Brabant Water\",\"Veghel\",\"Brabant Water\"\\n168334.1,402388.97,Br_Wa\"/welT_brabant_water_13-PP005\",-104.78,-147.81,13-PP005,0,B45G0419,\"21-06-1989 00:00\",9.99,9.99,nan,Active,Vertical,\"Veghel\",\"Tom van Steijn - Brabant Water\",\"Veghel\",\"Brabant Water\"\\n168418.95,402145.96,Br_Wa\"/welT_brabant_water_13-PP006\",-102.91,-152.8,13-PP006,0,B45G0420,\"12-07-1989 00:00\",10.0,10.0,nan,Active,Vertical,\"Veghel\",\"Tom van Steijn - Brabant Water\",\"Veghel\",\"Brabant Water\"\\n168397.25,402058.62,Br_Wa\"/welT_brabant_water_13-PP007\",-103.96,-150.27,13-PP007,0,B45G0421,\"10-07-1989 00:00\",9.93,9.93,nan,Active,Vertical,\"Veghel\",\"Tom van Steijn - Brabant Water\",\"Veghel\",\"Brabant Water\"\\n168375.53,401971.31,Br_Wa\"/welT_brabant_water_13-PP008\",-102.22,-154.06,13-PP008,0,B45G0422,\"22-06-1989 00:00\",10.04,10.04,nan,Active,Vertical,\"Veghel\",\"Tom van Steijn - Brabant Water\",\"Veghel\",\"Brabant Water\"\\n168272.82,402004.15,Br_Wa\"/welT_brabant_water_13-PP009\",-101.9,-148.85,13-PP009,0,B45G0423,\"21-06-1989 00:00\",10.05,10.05,nan,Active,Vertical,\"Veghel\",\"Tom van Steijn - Brabant Water\",\"Veghel\",\"Brabant Water\"\\n168486.3,402733.9,Br_Wa\"/welT_brabant_water_13-PP011\",-111.58,-154.89,13-PP011,0,B45G0178,\"03-10-1990 00:00\",8.61,8.61,nan,Active,Vertical,\"Veghel\",\"Tom van Steijn - Brabant Water\",\"Veghel\",\"Brabant Water\"\\n168510.75,402830.96,Br_Wa\"/welT_brabant_water_13-PP012\",-108.5,-141.93,13-PP012,0,B45G0182,\"20-08-1990 00:00\",10.09,10.09,nan,Active,Vertical,\"Veghel\",\"Tom van Steijn - Brabant Water\",\"Veghel\",\"Brabant Water\"\\n168539.4,402945.8,Br_Wa\"/welT_brabant_water_13-PP013\",-86.97,-144.37,13-PP013,0,B45G0183,\"27-08-1990 00:00\",9.93,9.93,nan,Active,Vertical,\"Veghel\",\"Tom van Steijn - Brabant Water\",\"Veghel\",\"Brabant Water\"\\n168563.7,403042.9,Br_Wa\"/welT_brabant_water_13-PP014\",-88.96,-126.97,13-PP014,0,B45G0179,\"29-08-1990 00:00\",10.03,10.03,nan,Active,Vertical,\"Veghel\",\"Tom van Steijn - Brabant Water\",\"Veghel\",\"Brabant Water\"\\n168633.4,403227.91,Br_Wa\"/welT_brabant_water_13-PP015\",-108.95,-138.11,13-PP015,0,B45G0237,\"23-09-1991 00:00\",9.59,9.59,nan,Active,Vertical,\"Veghel\",\"Tom van Steijn - Brabant Water\",\"Veghel\",\"Brabant Water\"\\n168688.7,403311.24,Br_Wa\"/welT_brabant_water_13-PP016\",-103.25,-140.27,13-PP016,0,B45G0229,\"23-09-1991 00:00\",10.03,10.03,nan,Active,Vertical,\"Veghel\",\"Tom van Steijn - Brabant Water\",\"Veghel\",\"Brabant Water\"\\n168618.5,403397.86,Br_Wa\"/welT_brabant_water_13-PP017\",-115.04,-148.85,13-PP017,0,B45G0226,\"23-09-1991 00:00\",10.05,10.05,nan,Active,Vertical,\"Veghel\",\"Tom van Steijn - Brabant Water\",\"Veghel\",\"Brabant Water\"\\n168561.52,403315.98,Br_Wa\"/welT_brabant_water_13-PP018\",-117.31,-138.84,13-PP018,0,B45G0238,\"23-09-1991 00:00\",9.66,9.66,nan,Active,Vertical,\"Veghel\",\"Tom van Steijn - Brabant Water\",\"Veghel\",\"Brabant Water\"\\n168307.0,402241.0,Br_Wa\"/welT_brabant_water_13-PP019\",-102.57,-169.57,13-PP019,0,B45G0126,\"26-03-1958 00:00\",9.73,9.73,nan,Abandoned,Vertical,\"Veghel\",\"Tom van Steijn - Brabant Water\",\"Veghel\",\"Brabant Water\"\\n168286.0,402120.0,Br_Wa\"/welT_brabant_water_13-PP020\",-102.43,-168.43,13-PP020,0,B45G0127,\"31-07-1958 00:00\",9.74,9.74,nan,Abandoned,Vertical,\"Veghel\",\"Tom van Steijn - Brabant Water\",\"Veghel\",\"Brabant Water\"\\n168264.0,402023.0,Br_Wa\"/welT_brabant_water_13-PP021\",-101.23,-175.08,13-PP021,0,B45G0128,\"21-10-1958 00:00\",9.77,9.77,nan,Abandoned,Vertical,\"Veghel\",\"Tom van Steijn - Brabant Water\",\"Veghel\",\"Brabant Water\"\\n168238.0,401927.0,Br_Wa\"/welT_brabant_water_13-PP022\",-103.64,-173.39,13-PP022,0,B45G0039,\"30-06-1959 00:00\",9.86,9.86,nan,Abandoned,Vertical,\"Veghel\",\"Tom van Steijn - Brabant Water\",\"Veghel\",\"Brabant Water\"\\n168465.0,401605.0,Br_Wa\"/welT_brabant_water_13-PP023\",-105.76,-173.03,13-PP023,0,B45G0048,\"05-04-1960 00:00\",10.24,10.24,nan,Abandoned,Vertical,\"Veghel\",\"Tom van Steijn - Brabant Water\",\"Veghel\",\"Brabant Water\"\\n168403.0,401388.0,Br_Wa\"/welT_brabant_water_13-PP024\",-105.32,-171.07,13-PP024,0,B45G0195,\"21-06-1960 00:00\",10.27,10.27,nan,Abandoned,Vertical,\"Veghel\",\"Tom van Steijn - Brabant Water\",\"Veghel\",\"Brabant Water\"\\n168351.0,401239.0,Br_Wa\"/welT_brabant_water_13-PP025\",-106.07,-167.07,13-PP025,0,B45G0049,\"07-07-1960 00:00\",10.18,10.18,nan,Abandoned,Vertical,\"Veghel\",\"Tom van Steijn - Brabant Water\",\"Veghel\",\"Brabant Water\"\\n168289.0,401117.0,Br_Wa\"/welT_brabant_water_13-PP026\",-102.05,-160.11,13-PP026,0,B45G0196,\"20-04-1961 00:00\",10.1,10.1,nan,Abandoned,Vertical,\"Veghel\",\"Tom van Steijn - Brabant Water\",\"Veghel\",\"Brabant Water\"\\n168364.05,402812.51,Br_Wa\"/welT_brabant_water_13-PP027\",-90.68,-138.59,13-PP027,0,B45G0187,\"17-09-1990 00:00\",9.78,9.78,nan,Active,Vertical,\"Veghel\",\"Tom van Steijn - Brabant Water\",\"Veghel\",\"Brabant Water\"\\n168405.34,402901.85,Br_Wa\"/welT_brabant_water_13-PP028\",-89.01,-125.5,13-PP028,0,B45G0188,\"05-09-1990 00:00\",9.9,9.9,nan,Active,Vertical,\"Veghel\",\"Tom van Steijn - Brabant Water\",\"Veghel\",\"Brabant Water\"\\n168237.91,402873.79,Br_Wa\"/welT_brabant_water_13-PP029\",-90.31,-137.23,13-PP029,0,B45G0189,\"12-09-1990 00:00\",9.77,9.77,nan,Active,Vertical,\"Veghel\",\"Tom van Steijn - Brabant Water\",\"Veghel\",\"Brabant Water\"\\n168296.03,402955.05,Br_Wa\"/welT_brabant_water_13-PP030\",-92.75,-138.08,13-PP030,0,B45G0181,\"10-09-1990 00:00\",9.72,9.72,nan,Active,Vertical,\"Veghel\",\"Tom van Steijn - Brabant Water\",\"Veghel\",\"Brabant Water\"\\n168354.53,403036.74,Br_Wa\"/welT_brabant_water_13-PP031\",-90.19,-137.12,13-PP031,0,B45G0185,\"04-09-1990 00:00\",9.78,9.78,nan,Active,Vertical,\"Veghel\",\"Tom van Steijn - Brabant Water\",\"Veghel\",\"Brabant Water\"\\n168412.48,403117.84,Br_Wa\"/welT_brabant_water_13-PP032\",-87.78,-128.8,13-PP032,0,B45G0180,\"03-09-1990 00:00\",9.8,9.8,nan,Active,Vertical,\"Veghel\",\"Tom van Steijn - Brabant Water\",\"Veghel\",\"Brabant Water\"\\n168489.22,403403.52,Br_Wa\"/welT_brabant_water_13-PP033\",-108.41,-145.03,13-PP033,0,B45G0227,\"23-09-1991 00:00\",9.77,9.77,nan,Active,Vertical,\"Veghel\",\"Tom van Steijn - Brabant Water\",\"Veghel\",\"Brabant Water\"\\n168547.78,403484.42,Br_Wa\"/welT_brabant_water_13-PP034\",-106.8,-141.32,13-PP034,0,B45G0224,\"23-09-1991 00:00\",9.88,9.88,nan,Active,Vertical,\"Veghel\",\"Tom van Steijn - Brabant Water\",\"Veghel\",\"Brabant Water\"\\n168252.0,402753.0,Br_Wa\"/welT_brabant_water_13-PP036\",-112.22,-181.52,13-PP036,0,B45G0035,\"15-11-1961 00:00\",9.78,9.78,nan,Abandoned,Vertical,\"Veghel\",\"Tom van Steijn - Brabant Water\",\"Veghel\",\"Brabant Water\"\\n168157.0,402852.0,Br_Wa\"/welT_brabant_water_13-PP037\",-110.15,-179.15,13-PP037,0,B45G0036,\"15-04-1962 00:00\",9.85,9.85,nan,Abandoned,Vertical,\"Veghel\",\"Tom van Steijn - Brabant Water\",\"Veghel\",\"Brabant Water\"\\n168246.0,402975.0,Br_Wa\"/welT_brabant_water_13-PP038\",-112.77,-181.77,13-PP038,0,B45G0037,\"15-08-1962 00:00\",9.73,9.73,nan,Abandoned,Vertical,\"Veghel\",\"Tom van Steijn - Brabant Water\",\"Veghel\",\"Brabant Water\"\\n168303.0,403058.0,Br_Wa\"/welT_brabant_water_13-PP039\",-115.66,-185.66,13-PP039,0,B45G0038,\"15-10-1962 00:00\",9.84,9.84,nan,Abandoned,Vertical,\"Veghel\",\"Tom van Steijn - Brabant Water\",\"Veghel\",\"Brabant Water\"\\n168388.0,403171.0,Br_Wa\"/welT_brabant_water_13-PP040\",-117.31,-173.03,13-PP040,0,B45G0131,\"15-03-1963 00:00\",9.79,9.79,nan,Abandoned,Vertical,\"Veghel\",\"Tom van Steijn - Brabant Water\",\"Veghel\",\"Brabant Water\"\\n168459.0,403270.0,Br_Wa\"/welT_brabant_water_13-PP041\",-118.59,-179.69,13-PP041,0,B45G0132,\"15-05-1963 00:00\",9.91,9.91,nan,Abandoned,Vertical,\"Veghel\",\"Tom van Steijn - Brabant Water\",\"Veghel\",\"Brabant Water\"\\n168391.0,403364.0,Br_Wa\"/welT_brabant_water_13-PP042\",-108.26,-177.26,13-PP042,0,B45G0133,\"15-08-1963 00:00\",9.74,9.74,nan,Abandoned,Vertical,\"Veghel\",\"Tom van Steijn - Brabant Water\",\"Veghel\",\"Brabant Water\"\\n168450.0,403441.0,Br_Wa\"/welT_brabant_water_13-PP043\",-109.54,-173.6,13-PP043,0,B45G0134,\"15-09-1963 00:00\",9.96,9.96,nan,Abandoned,Vertical,\"Veghel\",\"Tom van Steijn - Brabant Water\",\"Veghel\",\"Brabant Water\"\\n168514.0,403527.0,Br_Wa\"/welT_brabant_water_13-PP044\",-105.11,-173.69,13-PP044,0,B45G0135,\"15-12-1963 00:00\",9.89,9.89,nan,Abandoned,Vertical,\"Veghel\",\"Tom van Steijn - Brabant Water\",\"Veghel\",\"Brabant Water\"\\n168573.0,403612.0,Br_Wa\"/welT_brabant_water_13-PP045\",-102.16,-170.83,13-PP045,0,B45G0057,\"15-10-1963 00:00\",9.92,9.92,nan,Abandoned,Vertical,\"Veghel\",\"Tom van Steijn - Brabant Water\",\"Veghel\",\"Brabant Water\"\\n168623.0,403675.0,Br_Wa\"/welT_brabant_water_13-PP046\",-79.0,-143.0,13-PP046,0,B45G0058,\"15-05-1964 00:00\",9.96,9.96,nan,Abandoned,Vertical,\"Veghel\",\"Tom van Steijn - Brabant Water\",\"Veghel\",\"Brabant Water\"\\n168695.0,403770.0,Br_Wa\"/welT_brabant_water_13-PP047\",-92.85,-145.07,13-PP047,0,B45G0136,\"15-10-1965 00:00\",10.04,10.04,nan,Abandoned,Vertical,\"Veghel\",\"Tom van Steijn - Brabant Water\",\"Veghel\",\"Brabant Water\"\\n168791.0,403903.0,Br_Wa\"/welT_brabant_water_13-PP048\",-88.18,-142.79,13-PP048,0,B45G0137,\"15-10-1965 00:00\",10.32,10.32,nan,Abandoned,Vertical,\"Veghel\",\"Tom van Steijn - Brabant Water\",\"Veghel\",\"Brabant Water\"\\n168859.0,403999.0,Br_Wa\"/welT_brabant_water_13-PP049\",-87.87,-140.71,13-PP049,0,B45G0138,\"15-05-1966 00:00\",10.29,10.29,nan,Abandoned,Vertical,\"Veghel\",\"Tom van Steijn - Brabant Water\",\"Veghel\",\"Brabant Water\"\\n168909.0,404065.0,Br_Wa\"/welT_brabant_water_13-PP050\",-84.46,-137.58,13-PP050,0,B45G0139,\"15-09-1966 00:00\",10.27,10.27,nan,Abandoned,Vertical,\"Veghel\",\"Tom van Steijn - Brabant Water\",\"Veghel\",\"Brabant Water\"\\n169028.0,404181.0,Br_Wa\"/welT_brabant_water_13-PP051\",-87.48,-139.78,13-PP051,0,B45G0140,\"15-08-1968 00:00\",10.52,10.52,nan,Abandoned,Vertical,\"Veghel\",\"Tom van Steijn - Brabant Water\",\"Veghel\",\"Brabant Water\"\\n169115.0,404046.0,Br_Wa\"/welT_brabant_water_13-PP052\",-84.22,-136.34,13-PP052,0,B45G0197,\"15-04-1968 00:00\",10.51,10.51,nan,Abandoned,Vertical,\"Veghel\",\"Tom van Steijn - Brabant Water\",\"Veghel\",\"Brabant Water\"\\n169207.0,403895.0,Br_Wa\"/welT_brabant_water_13-PP053\",-96.96,-131.83,13-PP053,0,B45G0142,\"15-04-1968 00:00\",10.57,10.57,nan,Abandoned,Vertical,\"Veghel\",\"Tom van Steijn - Brabant Water\",\"Veghel\",\"Brabant Water\"\\n149891.0,382681.0,Br_Wa\"/welT_brabant_water_14-PP001\",2.34,-18.36,14-PP001,0,B51C0006,\"10-06-1974 00:00\",23.64,23.64,nan,Abandoned,Vertical,\"Vessem\",\"Tom van Steijn - Brabant Water\",\"Vessem\",\"Brabant Water\"\\n149802.0,382722.0,Br_Wa\"/welT_brabant_water_14-PP002\",-6.85,-20.85,14-PP002,0,B51C0007,\"17-10-1973 00:00\",23.15,23.15,nan,Abandoned,Vertical,\"Vessem\",\"Tom van Steijn - Brabant Water\",\"Vessem\",\"Brabant Water\"\\n149690.0,382773.0,Br_Wa\"/welT_brabant_water_14-PP003\",-4.36,-19.46,14-PP003,0,B51C0008,\"20-12-1973 00:00\",23.44,23.44,nan,Abandoned,Vertical,\"Vessem\",\"Tom van Steijn - Brabant Water\",\"Vessem\",\"Brabant Water\"\\n149582.0,382823.0,Br_Wa\"/welT_brabant_water_14-PP004\",-3.18,-20.58,14-PP004,0,B51C0396,\"21-05-1974 00:00\",23.12,23.12,nan,Abandoned,Vertical,\"Vessem\",\"Tom van Steijn - Brabant Water\",\"Vessem\",\"Brabant Water\"\\n150058.0,382868.0,Br_Wa\"/welT_brabant_water_14-PP005\",-3.2,-19.4,14-PP005,0,B51D0019,\"18-06-1974 00:00\",23.6,23.6,nan,Abandoned,Vertical,\"Vessem\",\"Tom van Steijn - Brabant Water\",\"Vessem\",\"Brabant Water\"\\n149961.0,382894.0,Br_Wa\"/welT_brabant_water_14-PP006\",-3.5,-20.5,14-PP006,0,B51C0009,\"21-06-1974 00:00\",23.4,23.4,nan,Abandoned,Vertical,\"Vessem\",\"Tom van Steijn - Brabant Water\",\"Vessem\",\"Brabant Water\"\\n149865.0,382919.0,Br_Wa\"/welT_brabant_water_14-PP007\",-2.36,-19.76,14-PP007,0,B51C0010,\"27-06-1974 00:00\",23.34,23.34,nan,Abandoned,Vertical,\"Vessem\",\"Tom van Steijn - Brabant Water\",\"Vessem\",\"Brabant Water\"\\n149770.0,382945.0,Br_Wa\"/welT_brabant_water_14-PP008\",-7.24,-20.99,14-PP008,0,B51C0011,\"09-07-1974 00:00\",23.01,23.01,nan,Abandoned,Vertical,\"Vessem\",\"Tom van Steijn - Brabant Water\",\"Vessem\",\"Brabant Water\"\\n149718.0,383033.0,Br_Wa\"/welT_brabant_water_14-PP009\",-8.17,-19.97,14-PP009,0,B51C0012,\"10-07-1974 00:00\",23.03,23.03,nan,Abandoned,Vertical,\"Vessem\",\"Tom van Steijn - Brabant Water\",\"Vessem\",\"Brabant Water\"\\n149492.0,382864.0,Br_Wa\"/welT_brabant_water_14-PP010\",-8.83,-21.83,14-PP010,0,B51C0013,\"18-01-1974 00:00\",23.27,23.27,nan,Abandoned,Vertical,\"Vessem\",\"Tom van Steijn - Brabant Water\",\"Vessem\",\"Brabant Water\"\\n149402.0,382905.0,Br_Wa\"/welT_brabant_water_14-PP011\",-8.55,-23.15,14-PP011,0,B51C0014,\"21-02-1974 00:00\",23.65,23.65,nan,Abandoned,Vertical,\"Vessem\",\"Tom van Steijn - Brabant Water\",\"Vessem\",\"Brabant Water\"\\n149312.0,382947.0,Br_Wa\"/welT_brabant_water_14-PP012\",-6.34,-18.84,14-PP012,0,B51C0015,\"12-03-1974 00:00\",23.96,23.96,nan,Abandoned,Vertical,\"Vessem\",\"Tom van Steijn - Brabant Water\",\"Vessem\",\"Brabant Water\"\\n149221.0,382987.0,Br_Wa\"/welT_brabant_water_14-PP013\",-4.84,-22.84,14-PP013,0,B51C0016,\"15-03-1974 00:00\",23.96,23.96,nan,Abandoned,Vertical,\"Vessem\",\"Tom van Steijn - Brabant Water\",\"Vessem\",\"Brabant Water\"\\n149132.0,383029.0,Br_Wa\"/welT_brabant_water_14-PP014\",-4.25,-16.85,14-PP014,0,B51C0017,\"22-02-1974 00:00\",23.75,23.75,nan,Abandoned,Vertical,\"Vessem\",\"Tom van Steijn - Brabant Water\",\"Vessem\",\"Brabant Water\"\\n149675.0,383119.0,Br_Wa\"/welT_brabant_water_14-PP015\",-5.76,-21.86,14-PP015,0,B51C0028,\"18-04-1974 00:00\",23.64,23.64,nan,Abandoned,Vertical,\"Vessem\",\"Tom van Steijn - Brabant Water\",\"Vessem\",\"Brabant Water\"\\n149575.0,383136.0,Br_Wa\"/welT_brabant_water_14-PP016\",-2.34,-21.34,14-PP016,0,B51C0027,\"17-04-1974 00:00\",23.66,23.66,nan,Abandoned,Vertical,\"Vessem\",\"Tom van Steijn - Brabant Water\",\"Vessem\",\"Brabant Water\"\\n149475.0,383153.0,Br_Wa\"/welT_brabant_water_14-PP017\",-5.51,-24.91,14-PP017,0,B51C0026,\"11-04-1974 00:00\",23.09,23.09,nan,Abandoned,Vertical,\"Vessem\",\"Tom van Steijn - Brabant Water\",\"Vessem\",\"Brabant Water\"\\n149376.0,383169.0,Br_Wa\"/welT_brabant_water_14-PP018\",-5.43,-24.83,14-PP018,0,B51C0025,\"15-05-1974 00:00\",23.17,23.17,nan,Abandoned,Vertical,\"Vessem\",\"Tom van Steijn - Brabant Water\",\"Vessem\",\"Brabant Water\"\\n149276.0,383186.0,Br_Wa\"/welT_brabant_water_14-PP019\",-3.93,-23.18,14-PP019,0,B51C0024,\"02-04-1974 00:00\",23.57,23.57,nan,Abandoned,Vertical,\"Vessem\",\"Tom van Steijn - Brabant Water\",\"Vessem\",\"Brabant Water\"\\n149982.0,383095.0,Br_Wa\"/welT_brabant_water_14-PP020\",-100.76,-144.76,14-PP020,0,B51C0023,\"01-01-1964 00:00\",24.09,24.09,nan,Abandoned,Vertical,\"Vessem\",\"Tom van Steijn - Brabant Water\",\"Vessem\",\"Brabant Water\"\\n150003.0,383096.0,Br_Wa\"/welT_brabant_water_14-PP021\",-5.09,-25.09,14-PP021,0,B51D0333,\"01-01-1964 00:00\",23.91,23.91,nan,Abandoned,Vertical,\"Vessem\",\"Tom van Steijn - Brabant Water\",\"Vessem\",\"Brabant Water\"\\n150103.0,383096.0,Br_Wa\"/welT_brabant_water_14-PP022\",-7.2,-23.2,14-PP022,0,B51D0099,\"01-01-1964 00:00\",23.8,23.8,nan,Abandoned,Vertical,\"Vessem\",\"Tom van Steijn - Brabant Water\",\"Vessem\",\"Brabant Water\"\\n150203.0,383095.0,Br_Wa\"/welT_brabant_water_14-PP023\",-6.08,-22.08,14-PP023,0,B51D0100,\"01-01-1964 00:00\",23.92,23.92,nan,Abandoned,Vertical,\"Vessem\",\"Tom van Steijn - Brabant Water\",\"Vessem\",\"Brabant Water\"\\n149937.0,383175.0,Br_Wa\"/welT_brabant_water_14-PP024\",-8.89,-30.89,14-PP024,0,B51C0032,\"01-01-1964 00:00\",23.11,23.11,nan,Abandoned,Vertical,\"Vessem\",\"Tom van Steijn - Brabant Water\",\"Vessem\",\"Brabant Water\"\\n149794.0,383279.0,Br_Wa\"/welT_brabant_water_14-PP026\",-7.02,-25.02,14-PP026,0,B51C0034,\"01-01-1964 00:00\",22.98,22.98,nan,Abandoned,Vertical,\"Vessem\",\"Tom van Steijn - Brabant Water\",\"Vessem\",\"Brabant Water\"\\n149696.0,383297.0,Br_Wa\"/welT_brabant_water_14-PP027\",-11.83,-27.83,14-PP027,0,B51C0035,\"01-01-1964 00:00\",22.17,22.17,nan,Abandoned,Vertical,\"Vessem\",\"Tom van Steijn - Brabant Water\",\"Vessem\",\"Brabant Water\"\\n149597.0,383313.0,Br_Wa\"/welT_brabant_water_14-PP028\",-8.12,-26.12,14-PP028,0,B51C0036,\"01-01-1964 00:00\",22.88,22.88,nan,Abandoned,Vertical,\"Vessem\",\"Tom van Steijn - Brabant Water\",\"Vessem\",\"Brabant Water\"\\n149500.0,383334.0,Br_Wa\"/welT_brabant_water_14-PP029\",-8.22,-25.22,14-PP029,0,B51C0037,\"01-01-1964 00:00\",22.78,22.78,nan,Abandoned,Vertical,\"Vessem\",\"Tom van Steijn - Brabant Water\",\"Vessem\",\"Brabant Water\"\\n149402.0,383355.0,Br_Wa\"/welT_brabant_water_14-PP030\",-7.17,-25.17,14-PP030,0,B51C0038,\"01-01-1964 00:00\",22.83,22.83,nan,Abandoned,Vertical,\"Vessem\",\"Tom van Steijn - Brabant Water\",\"Vessem\",\"Brabant Water\"\\n150104.08,383095.04,Br_Wa\"/welT_brabant_water_14-PP051\",-4.89,-24.09,14-PP051,0,B51D0540,\"03-04-1991 00:00\",23.91,23.91,nan,Active,Vertical,\"Vessem\",\"Tom van Steijn - Brabant Water\",\"Vessem\",\"Brabant Water\"\\n150004.22,383094.84,Br_Wa\"/welT_brabant_water_14-PP052\",-4.68,-23.88,14-PP052,0,B51D0539,\"10-04-1991 00:00\",24.12,24.12,nan,Active,Vertical,\"Vessem\",\"Tom van Steijn - Brabant Water\",\"Vessem\",\"Brabant Water\"\\n149869.81,383084.84,Br_Wa\"/welT_brabant_water_14-PP053\",-4.81,-22.01,14-PP053,0,B51C0397,\"01-05-1991 00:00\",23.99,23.99,nan,Active,Vertical,\"Vessem\",\"Tom van Steijn - Brabant Water\",\"Vessem\",\"Brabant Water\"\\n149937.21,383175.78,Br_Wa\"/welT_brabant_water_14-PP054\",-5.67,-29.17,14-PP054,0,B51C0398,\"19-04-1991 00:00\",23.33,23.33,nan,Active,Vertical,\"Vessem\",\"Tom van Steijn - Brabant Water\",\"Vessem\",\"Brabant Water\"\\n149903.47,383251.3,Br_Wa\"/welT_brabant_water_14-PP055\",-5.65,-26.08,14-PP055,0,B51C0399,\"17-10-1991 00:00\",23.07,23.07,nan,Active,Vertical,\"Vessem\",\"Tom van Steijn - Brabant Water\",\"Vessem\",\"Brabant Water\"\\n149779.62,383281.84,Br_Wa\"/welT_brabant_water_14-PP056\",-5.44,-24.0,14-PP056,0,B51C0400,\"17-10-1991 00:00\",23.2,23.2,nan,Active,Vertical,\"Vessem\",\"Tom van Steijn - Brabant Water\",\"Vessem\",\"Brabant Water\"\\n149681.97,383299.74,Br_Wa\"/welT_brabant_water_14-PP057\",-5.44,-23.69,14-PP057,0,B51C0401,\"17-10-1991 00:00\",23.41,23.41,nan,Active,Vertical,\"Vessem\",\"Tom van Steijn - Brabant Water\",\"Vessem\",\"Brabant Water\"\\n149587.57,383315.08,Br_Wa\"/welT_brabant_water_14-PP058\",-7.81,-25.51,14-PP058,0,B51C0402,\"17-10-1991 00:00\",22.79,22.79,nan,Active,Vertical,\"Vessem\",\"Tom van Steijn - Brabant Water\",\"Vessem\",\"Brabant Water\"\\n149509.89,383331.38,Br_Wa\"/welT_brabant_water_14-PP059\",-5.96,-24.53,14-PP059,0,B51C0275,\"17-10-1991 00:00\",22.97,22.97,nan,Active,Vertical,\"Vessem\",\"Tom van Steijn - Brabant Water\",\"Vessem\",\"Brabant Water\"\\n149416.31,383353.4,Br_Wa\"/welT_brabant_water_14-PP060\",-5.77,-23.31,14-PP060,0,B51C0276,\"17-10-1991 00:00\",23.19,23.19,nan,Active,Vertical,\"Vessem\",\"Tom van Steijn - Brabant Water\",\"Vessem\",\"Brabant Water\"\\n149676.96,383079.99,Br_Wa\"/welT_brabant_water_14-PPV01\",-9.45,-27.74,14-PPV01,0,nan,\"01-01-1952 00:00\",nan,23.39,nan,Abandoned,Vertical,\"Vessem/Virtuele put\",\"Tom van Steijn - Brabant Water\",\"Vessem\",\"Brabant Water\"\\n194188.33,400776.88,Br_Wa\"/welT_brabant_water_15-PP001A\",1.92,-4.58,15-PP001A,0,B46D0284,\"20-03-1987 00:00\",18.92,18.92,nan,Abandoned,Vertical,\"Vierlingsbeek\",\"Tom van Steijn - Brabant Water\",\"Vierlingsbeek\",\"Brabant Water\"\\n194415.2,400849.86,Br_Wa\"/welT_brabant_water_15-PP004A\",2.13,-8.4,15-PP004A,0,B46D0285,\"25-03-1987 00:00\",18.9,18.9,nan,Abandoned,Vertical,\"Vierlingsbeek\",\"Tom van Steijn - Brabant Water\",\"Vierlingsbeek\",\"Brabant Water\"\\n194027.28,400720.41,Br_Wa\"/welT_brabant_water_15-PP005A\",2.13,-3.97,15-PP005A,0,B46D0286,\"27-02-1987 00:00\",19.03,19.03,nan,Abandoned,Vertical,\"Vierlingsbeek\",\"Tom van Steijn - Brabant Water\",\"Vierlingsbeek\",\"Brabant Water\"\\n193947.69,400692.61,Br_Wa\"/welT_brabant_water_15-PP006A\",1.56,-5.69,15-PP006A,0,B46D0287,\"27-02-1987 00:00\",19.31,19.31,nan,Abandoned,Vertical,\"Vierlingsbeek\",\"Tom van Steijn - Brabant Water\",\"Vierlingsbeek\",\"Brabant Water\"\\n193870.0,400661.0,Br_Wa\"/welT_brabant_water_15-PP007\",9.53,-7.02,15-PP007,0,B46D0272,\"15-10-1968 00:00\",19.48,19.48,nan,Abandoned,Vertical,\"Vierlingsbeek\",\"Tom van Steijn - Brabant Water\",\"Vierlingsbeek\",\"Brabant Water\"\\n193870.0,400661.0,Br_Wa\"/welT_brabant_water_15-PP007A\",-9.9,-26.57,15-PP007A,0,B46D1061,\"18-11-1996 00:00\",19.5,0.0,nan,Abandoned,Vertical,\"Vierlingsbeek\",\"Tom van Steijn - Brabant Water\",\"Vierlingsbeek\",\"Brabant Water\"\\n193776.0,400628.0,Br_Wa\"/welT_brabant_water_15-PP008\",10.01,-6.54,15-PP008,0,B46D0273,\"15-10-1968 00:00\",19.96,19.96,nan,Abandoned,Vertical,\"Vierlingsbeek\",\"Tom van Steijn - Brabant Water\",\"Vierlingsbeek\",\"Brabant Water\"\\n194093.79,400744.01,Br_Wa\"/welT_brabant_water_15-PP009\",7.37,-6.86,15-PP009,0,B46D0274,\"27-07-1973 00:00\",18.97,18.97,nan,Abandoned,Vertical,\"Vierlingsbeek\",\"Tom van Steijn - Brabant Water\",\"Vierlingsbeek\",\"Brabant Water\"\\n194436.79,400772.09,Br_Wa\"/welT_brabant_water_15-PP010\",7.37,-10.63,15-PP010,0,B46D0275,\"27-07-1973 00:00\",18.47,18.47,nan,Abandoned,Vertical,\"Vierlingsbeek\",\"Tom van Steijn - Brabant Water\",\"Vierlingsbeek\",\"Brabant Water\"\\n194461.0,400709.0,Br_Wa\"/welT_brabant_water_15-PP011\",7.7,-10.3,15-PP011,0,B46D0276,\"27-07-1973 00:00\",18.8,18.8,nan,Abandoned,Vertical,\"Vierlingsbeek\",\"Tom van Steijn - Brabant Water\",\"Vierlingsbeek\",\"Brabant Water\"\\n193680.0,400592.0,Br_Wa\"/welT_brabant_water_15-PP013\",5.11,-9.29,15-PP013,0,B46D0278,\"18-12-1981 00:00\",19.11,19.11,nan,Abandoned,Vertical,\"Vierlingsbeek\",\"Tom van Steijn - Brabant Water\",\"Vierlingsbeek\",\"Brabant Water\"\\n193580.0,400550.0,Br_Wa\"/welT_brabant_water_15-PP014\",5.15,-10.35,15-PP014,0,B46D0279,\"18-12-1981 00:00\",19.15,19.15,nan,Abandoned,Vertical,\"Vierlingsbeek\",\"Tom van Steijn - Brabant Water\",\"Vierlingsbeek\",\"Brabant Water\"\\n193493.0,400526.0,Br_Wa\"/welT_brabant_water_15-PP015\",5.42,-8.98,15-PP015,0,B46D0280,\"18-12-1981 00:00\",19.42,19.42,nan,Abandoned,Vertical,\"Vierlingsbeek\",\"Tom van Steijn - Brabant Water\",\"Vierlingsbeek\",\"Brabant Water\"\\n194188.33,400776.88,Br_Wa\"/welT_brabant_water_15-PPV01\",5.28,-8.63,15-PPV01,0,nan,\"01-01-1960 00:00\",nan,18.37,nan,Abandoned,Vertical,\"Vierlingsbeek/Virtuele put\",\"Tom van Steijn - Brabant Water\",\"Vierlingsbeek\",\"Brabant Water\"\\n180860.29,383235.77,Br_Wa\"/welT_brabant_water_16-PP001\",-116.33,-150.83,16-PP001,0,B52C0167,\"20-12-1971 00:00\",25.67,24.3,nan,Active,Vertical,\"Vlierden diep\",\"Tom van Steijn - Brabant Water\",\"Vlierden\",\"Brabant Water\"\\n180924.91,383311.56,Br_Wa\"/welT_brabant_water_16-PP002\",-115.7,-149.36,16-PP002,0,B52C0236,\"27-11-1986 00:00\",25.64,24.46,nan,Active,Vertical,\"Vlierden diep\",\"Tom van Steijn - Brabant Water\",\"Vlierden\",\"Brabant Water\"\\n181024.56,383302.0,Br_Wa\"/welT_brabant_water_16-PP003\",-115.68,-141.83,16-PP003,0,B52C0237,\"11-12-1986 00:00\",25.82,24.43,nan,Active,Vertical,\"Vlierden diep\",\"Tom van Steijn - Brabant Water\",\"Vlierden\",\"Brabant Water\"\\n181124.02,383292.2,Br_Wa\"/welT_brabant_water_16-PP004\",-114.5,-186.31,16-PP004,0,B52C0238,\"03-12-1986 00:00\",25.59,24.17,nan,Active,Vertical,\"Vlierden diep\",\"Tom van Steijn - Brabant Water\",\"Vlierden\",\"Brabant Water\"\\n181058.14,383201.22,Br_Wa\"/welT_brabant_water_16-PP005\",-113.83,-143.23,16-PP005,0,B52C0239,\"05-05-1987 00:00\",25.67,24.31,nan,Active,Vertical,\"Vlierden diep\",\"Tom van Steijn - Brabant Water\",\"Vlierden\",\"Brabant Water\"\\n181159.29,383185.41,Br_Wa\"/welT_brabant_water_16-PP006\",-114.4,-186.3,16-PP006,0,B52C0240,\"21-05-1987 00:00\",25.3,23.97,nan,Active,Vertical,\"Vlierden diep\",\"Tom van Steijn - Brabant Water\",\"Vlierden\",\"Brabant Water\"\\n180967.52,383087.34,Br_Wa\"/welT_brabant_water_16-PP007\",-113.99,-141.91,16-PP007,0,B52C0249,\"17-12-1990 00:00\",24.29,23.17,nan,Active,Vertical,\"Vlierden diep\",\"Tom van Steijn - Brabant Water\",\"Vlierden\",\"Brabant Water\"\\n181233.93,383111.81,Br_Wa\"/welT_brabant_water_16-PP008\",-114.29,-186.01,16-PP008,0,B52C0242,\"22-09-1988 00:00\",25.21,24.08,nan,Active,Vertical,\"Vlierden diep\",\"Tom van Steijn - Brabant Water\",\"Vlierden\",\"Brabant Water\"\\n181323.27,383026.51,Br_Wa\"/welT_brabant_water_16-PP009\",-114.94,-185.12,16-PP009,0,B52C0243,\"04-10-1988 00:00\",25.06,23.75,nan,Active,Vertical,\"Vlierden diep\",\"Tom van Steijn - Brabant Water\",\"Vlierden\",\"Brabant Water\"\\n181526.79,383071.89,Br_Wa\"/welT_brabant_water_16-PP010\",-109.71,-182.81,16-PP010,0,B52C0235,\"09-07-1971 00:00\",25.29,24.17,nan,Active,Vertical,\"Vlierden diep\",\"Tom van Steijn - Brabant Water\",\"Vlierden\",\"Brabant Water\"\\n181598.53,383164.83,Br_Wa\"/welT_brabant_water_16-PP011\",-109.24,-177.24,16-PP011,0,B52C0166,\"24-02-1971 00:00\",25.76,24.72,nan,Active,Vertical,\"Vlierden diep\",\"Tom van Steijn - Brabant Water\",\"Vlierden\",\"Brabant Water\"\\n181557.59,382981.55,Br_Wa\"/welT_brabant_water_16-PP012\",-108.55,-181.94,16-PP012,0,B52C0244,\"04-11-1988 00:00\",25.29,24.27,nan,Active,Vertical,\"Vlierden diep\",\"Tom van Steijn - Brabant Water\",\"Vlierden\",\"Brabant Water\"\\n181630.85,383047.03,Br_Wa\"/welT_brabant_water_16-PP013\",-109.14,-177.94,16-PP013,0,B52C0245,\"21-10-1988 00:00\",25.96,24.85,nan,Active,Vertical,\"Vlierden diep\",\"Tom van Steijn - Brabant Water\",\"Vlierden\",\"Brabant Water\"\\n181265.42,383141.95,Br_Wa\"/welT_brabant_water_16-PPV01\",-108.46,-181.85,16-PPV01,0,nan,\"01-01-1955 00:00\",nan,24.27,nan,Abandoned,Vertical,\"Vlierden middeldiep/Virtuele put\",\"Tom van Steijn - Brabant Water\",\"Vlierden\",\"Brabant Water\"\\n140881.0,410799.0,Br_Wa\"/welT_brabant_water_17-PP002\",-117.07,-157.07,17-PP002,0,B45C1045,\"06-04-1972 00:00\",3.93,3.93,nan,Active,Vertical,\"Vlijmen\",\"Tom van Steijn - Brabant Water\",\"Vlijmen\",\"Brabant Water\"\\n140964.0,410815.0,Br_Wa\"/welT_brabant_water_17-PP003\",-117.35,-137.35,17-PP003,0,B45C1044,\"22-09-1989 00:00\",3.65,3.65,nan,Active,Vertical,\"Vlijmen\",\"Tom van Steijn - Brabant Water\",\"Vlijmen\",\"Brabant Water\"\\n141039.71,410837.0,Br_Wa\"/welT_brabant_water_17-PP004\",-121.35,-158.35,17-PP004,0,B45C1046,\"08-05-1972 00:00\",3.65,3.65,nan,Active,Vertical,\"Vlijmen\",\"Tom van Steijn - Brabant Water\",\"Vlijmen\",\"Brabant Water\"\\n141122.34,410845.4,Br_Wa\"/welT_brabant_water_17-PP005\",-120.36,-158.36,17-PP005,0,B45C0562,\"16-05-1972 00:00\",3.64,3.64,nan,Active,Vertical,\"Vlijmen\",\"Tom van Steijn - Brabant Water\",\"Vlijmen\",\"Brabant Water\"\\n141217.0,410823.0,Br_Wa\"/welT_brabant_water_17-PP006\",-122.37,-160.37,17-PP006,0,B45C0563,\"07-06-1972 00:00\",3.63,3.63,nan,Active,Vertical,\"Vlijmen\",\"Tom van Steijn - Brabant Water\",\"Vlijmen\",\"Brabant Water\"\\n141295.0,410800.0,Br_Wa\"/welT_brabant_water_17-PP007\",-125.15,-158.15,17-PP007,0,B45C0564,\"20-06-1972 00:00\",3.85,3.85,nan,Active,Vertical,\"Vlijmen\",\"Tom van Steijn - Brabant Water\",\"Vlijmen\",\"Brabant Water\"\\n141370.0,410779.0,Br_Wa\"/welT_brabant_water_17-PP008\",-96.11,-148.11,17-PP008,0,B45C1082,\"20-07-1972 00:00\",3.89,3.89,nan,Active,Vertical,\"Vlijmen\",\"Tom van Steijn - Brabant Water\",\"Vlijmen\",\"Brabant Water\"\\n140875.0,408825.0,Br_Wa\"/welT_brabant_water_17-PPD\",-135.7,-185.7,17-PPD,0,B45C0396,\"11-07-1971 00:00\",4.3,5.06,nan,Abandoned,Vertical,\"Vlijmen\",\"Tom van Steijn - Brabant Water\",\"Vlijmen\",\"Brabant Water\"\\n141147.0,410781.69,Br_Wa\"/welT_brabant_water_17-PPV01\",-118.59,-157.38,17-PPV01,0,nan,\"01-01-1956 00:00\",nan,3.86,nan,Abandoned,Vertical,\"Vlijmen/Virtuele put\",\"Tom van Steijn - Brabant Water\",\"Vlijmen\",\"Brabant Water \"\\n161528.79,379895.6,Br_Wa\"/welT_brabant_water_22-PP031\",-7.08,-57.08,22-PP031,0,B51G0253,\"12-06-1963 00:00\",17.94,17.92,nan,Abandoned,Vertical,\"Aalsterweg middeldiep\",\"Tom van Steijn - Brabant Water\",\"Aalsterweg\",\"Brabant Water\"\\n161500.0,379825.0,Br_Wa\"/welT_brabant_water_22-PP032\",-9.9,-59.9,22-PP032,0,B51G0254,\"10-06-1961 00:00\",17.8,17.8,nan,Abandoned,Vertical,\"Aalsterweg middeldiep\",\"Tom van Steijn - Brabant Water\",\"Aalsterweg\",\"Brabant Water\"\\n161490.91,379750.9,Br_Wa\"/welT_brabant_water_22-PP033\",-9.15,-59.91,22-PP033,0,B51G0255,\"26-04-1963 00:00\",18.26,18.42,nan,Abandoned,Vertical,\"Aalsterweg middeldiep\",\"Tom van Steijn - Brabant Water\",\"Aalsterweg\",\"Brabant Water\"\\n161482.89,379688.72,Br_Wa\"/welT_brabant_water_22-PP034\",-11.93,-61.93,22-PP034,0,B51G0256,\"24-04-1963 00:00\",18.07,16.07,nan,Abandoned,Vertical,\"Aalsterweg middeldiep\",\"Tom van Steijn - Brabant Water\",\"Aalsterweg\",\"Brabant Water\"\\n161430.38,379816.88,Br_Wa\"/welT_brabant_water_22-PP035\",-7.64,-57.64,22-PP035,0,B51G0257,\"01-01-1963 00:00\",17.86,18.12,nan,Abandoned,Vertical,\"Aalsterweg middeldiep\",\"Tom van Steijn - Brabant Water\",\"Aalsterweg\",\"Brabant Water\"\\n161358.99,379785.23,Br_Wa\"/welT_brabant_water_22-PP036\",-11.47,-61.47,22-PP036,0,B51G0266,\"08-06-1963 00:00\",17.78,17.61,nan,Abandoned,Vertical,\"Aalsterweg middeldiep\",\"Tom van Steijn - Brabant Water\",\"Aalsterweg\",\"Brabant Water\"\\n161255.0,379750.0,Br_Wa\"/welT_brabant_water_22-PP037\",0.0,0.0,22-PP037,0,B51G0494,\"21-02-1980 00:00\",17.7,0.0,nan,Abandoned,Vertical,\"Aalsterweg middeldiep\",\"Tom van Steijn - Brabant Water\",\"Aalsterweg\",\"Brabant Water\"\\n161170.0,379835.0,Br_Wa\"/welT_brabant_water_22-PP038\",0.0,0.0,22-PP038,0,B51G0495,\"18-02-1980 00:00\",17.3,0.0,nan,Abandoned,Vertical,\"Aalsterweg middeldiep\",\"Tom van Steijn - Brabant Water\",\"Aalsterweg\",\"Brabant Water\"\\n160965.69,379811.29,Br_Wa\"/welT_brabant_water_22-PP040\",-34.97,-58.82,22-PP040,0,B51G2382,\"03-02-1978 00:00\",18.15,18.34,nan,Inactive,Vertical,\"Aalsterweg middeldiep\",\"Tom van Steijn - Brabant Water\",\"Aalsterweg\",\"Brabant Water\"\\n160952.04,380010.48,Br_Wa\"/welT_brabant_water_22-PP042\",-32.14,-58.14,22-PP042,0,B51G2260,\"03-03-2009 00:00\",18.86,18.44,nan,Active,Vertical,\"Aalsterweg middeldiep\",\"Tom van Steijn - Brabant Water\",\"Aalsterweg\",\"Brabant Water\"\\n160934.74,380088.57,Br_Wa\"/welT_brabant_water_22-PP043\",-26.49,-52.44,22-PP043,0,B51G2259,\"10-12-2008 00:00\",18.68,18.3,nan,Active,Vertical,\"Aalsterweg middeldiep\",\"Tom van Steijn - Brabant Water\",\"Aalsterweg\",\"Brabant Water\"\\n160917.69,380169.91,Br_Wa\"/welT_brabant_water_22-PP044\",-33.76,-62.77,22-PP044,0,B51G2258,\"01-12-2008 00:00\",18.35,17.94,nan,Active,Vertical,\"Aalsterweg middeldiep\",\"Tom van Steijn - Brabant Water\",\"Aalsterweg\",\"Brabant Water\"\\n160882.49,380249.44,Br_Wa\"/welT_brabant_water_22-PP046\",-5.21,-62.41,22-PP046,0,B51G0288,\"31-12-1964 00:00\",17.59,18.02,nan,Abandoned,Vertical,\"Aalsterweg middeldiep\",\"Tom van Steijn - Brabant Water\",\"Aalsterweg\",\"Brabant Water\"\\n160867.51,380311.35,Br_Wa\"/welT_brabant_water_22-PP047\",-6.22,-64.57,22-PP047,0,B51G0287,\"17-10-1964 00:00\",17.43,17.83,nan,Abandoned,Vertical,\"Aalsterweg middeldiep\",\"Tom van Steijn - Brabant Water\",\"Aalsterweg\",\"Brabant Water\"\\n160853.8,380379.69,Br_Wa\"/welT_brabant_water_22-PP048\",-5.9,-62.5,22-PP048,0,B51G0286,\"17-10-1964 00:00\",17.5,15.52,nan,Abandoned,Vertical,\"Aalsterweg middeldiep\",\"Tom van Steijn - Brabant Water\",\"Aalsterweg\",\"Brabant Water\"\\n160835.0,380415.0,Br_Wa\"/welT_brabant_water_22-PP049\",-8.15,-60.0,22-PP049,0,B51G0285,\"31-10-1964 00:00\",18.0,18.0,nan,Abandoned,Vertical,\"Aalsterweg middeldiep\",\"Tom van Steijn - Brabant Water\",\"Aalsterweg\",\"Brabant Water\"\\n160820.0,380480.0,Br_Wa\"/welT_brabant_water_22-PP050\",-11.2,-65.2,22-PP050,0,B51G0284,\"17-10-1964 00:00\",17.8,16.39,nan,Abandoned,Vertical,\"Aalsterweg middeldiep\",\"Tom van Steijn - Brabant Water\",\"Aalsterweg\",\"Brabant Water\"\\n161451.16,380754.24,Br_Wa\"/welT_brabant_water_22-PP100\",-161.04,-211.04,22-PP100,0,B51G0302,\"22-09-1960 00:00\",18.96,18.94,nan,Abandoned,Vertical,\"Aalsterweg diep\",\"Tom van Steijn - Brabant Water\",\"Aalsterweg\",\"Brabant Water\"\\n161477.75,380624.93,Br_Wa\"/welT_brabant_water_22-PP101\",-165.78,-200.63,22-PP101,0,B51G0218,\"15-09-1959 00:00\",16.83,16.99,nan,Abandoned,Vertical,\"Aalsterweg diep\",\"Tom van Steijn - Brabant Water\",\"Aalsterweg\",\"Brabant Water\"\\n161502.22,380541.34,Br_Wa\"/welT_brabant_water_22-PP102\",-161.22,-211.22,22-PP102,0,B51G0245,\"16-12-1961 00:00\",18.78,18.76,nan,Abandoned,Vertical,\"Aalsterweg diep\",\"Tom van Steijn - Brabant Water\",\"Aalsterweg\",\"Brabant Water\"\\n161649.28,380812.96,Br_Wa\"/welT_brabant_water_22-PP103\",-204.5,-242.16,22-PP103,0,B51G0878,\"15-03-1976 00:00\",18.3,18.64,nan,Abandoned,Vertical,\"Aalsterweg diep\",\"Tom van Steijn - Brabant Water\",\"Aalsterweg\",\"Brabant Water\"\\n161432.79,380696.74,Br_Wa\"/welT_brabant_water_22-PP104\",-213.41,-306.85,22-PP104,0,B51G2422,\"19-06-2012 00:00\",18.76,18.4,nan,Active,Vertical,\"Aalsterweg diep\",\"Tom van Steijn - Brabant Water\",\"Aalsterweg\",\"Brabant Water\"\\n161514.65,380486.02,Br_Wa\"/welT_brabant_water_22-PP105\",-205.95,-307.79,22-PP105,0,B51G2423,\"08-05-2012 00:00\",18.4,18.0,nan,Active,Vertical,\"Aalsterweg diep\",\"Tom van Steijn - Brabant Water\",\"Aalsterweg\",\"Brabant Water\"\\n161586.48,380575.43,Br_Wa\"/welT_brabant_water_22-PP106\",-209.75,-308.56,22-PP106,0,B51G2426,\"10-07-2012 00:00\",18.71,18.4,nan,Active,Vertical,\"Aalsterweg diep\",\"Tom van Steijn - Brabant Water\",\"Aalsterweg\",\"Brabant Water\"\\n161498.51,379844.31,Br_Wa\"/welT_brabant_water_22-PP108\",-202.76,-253.76,22-PP108,0,B51G0624,\"01-04-1972 00:00\",17.74,17.89,nan,Abandoned,Vertical,\"Aalsterweg diep\",\"Tom van Steijn - Brabant Water\",\"Aalsterweg\",\"Brabant Water\"\\n161170.62,379742.55,Br_Wa\"/welT_brabant_water_22-PP109\",-201.13,-252.13,22-PP109,0,B51G0623,\"01-10-1972 00:00\",17.37,17.91,nan,Abandoned,Vertical,\"Aalsterweg diep\",\"Tom van Steijn - Brabant Water\",\"Aalsterweg\",\"Brabant Water\"\\n160969.55,379744.03,Br_Wa\"/welT_brabant_water_22-PP110\",-204.59,-256.59,22-PP110,0,B51G0557,\"09-11-1975 00:00\",18.41,18.54,nan,Abandoned,Vertical,\"Aalsterweg diep\",\"Tom van Steijn - Brabant Water\",\"Aalsterweg\",\"Brabant Water\"\\n160935.11,379920.31,Br_Wa\"/welT_brabant_water_22-PP111\",-201.52,-255.2,22-PP111,0,B51G0556,\"21-09-1974 00:00\",18.38,18.48,nan,Active,Vertical,\"Aalsterweg diep\",\"Tom van Steijn - Brabant Water\",\"Aalsterweg\",\"Brabant Water\"\\n160948.91,380025.21,Br_Wa\"/welT_brabant_water_22-PP112\",-237.92,-300.35,22-PP112,0,B51G2263,\"13-02-2009 00:00\",18.85,18.43,nan,Active,Vertical,\"Aalsterweg diep\",\"Tom van Steijn - Brabant Water\",\"Aalsterweg\",\"Brabant Water\"\\n160931.4,380103.22,Br_Wa\"/welT_brabant_water_22-PP113\",-239.46,-301.65,22-PP113,0,B51G2262,\"23-01-2009 00:00\",18.71,18.31,nan,Active,Vertical,\"Aalsterweg diep\",\"Tom van Steijn - Brabant Water\",\"Aalsterweg\",\"Brabant Water\"\\n160914.65,380184.53,Br_Wa\"/welT_brabant_water_22-PP114\",-214.53,-297.63,22-PP114,0,B51G2261,\"18-11-2008 00:00\",18.37,17.94,nan,Active,Vertical,\"Aalsterweg diep\",\"Tom van Steijn - Brabant Water\",\"Aalsterweg\",\"Brabant Water\"\\n160873.65,380247.6,Br_Wa\"/welT_brabant_water_22-PP115\",-170.18,-220.27,22-PP115,0,B51G0303,\"30-05-1979 00:00\",17.82,17.96,nan,Abandoned,Vertical,\"Aalsterweg diep\",\"Tom van Steijn - Brabant Water\",\"Aalsterweg\",\"Brabant Water\"\\n160817.8,380560.09,Br_Wa\"/welT_brabant_water_22-PP117\",-175.92,-225.9,22-PP117,0,B51G0304,\"15-04-1968 00:00\",18.08,18.08,nan,Abandoned,Vertical,\"Aalsterweg diep\",\"Tom van Steijn - Brabant Water\",\"Aalsterweg\",\"Brabant Water\"\\n160827.18,380693.24,Br_Wa\"/welT_brabant_water_22-PP118\",-194.6,-234.6,22-PP118,0,B51G0305,\"15-08-1968 00:00\",18.4,18.61,nan,Abandoned,Vertical,\"Aalsterweg diep\",\"Tom van Steijn - Brabant Water\",\"Aalsterweg\",\"Brabant Water\"\\n160991.0,380540.0,Br_Wa\"/welT_brabant_water_22-PP119\",-197.59,-261.09,22-PP119,0,B51G0876,\"30-04-1976 00:00\",18.4,18.54,nan,Active,Vertical,\"Aalsterweg diep\",\"Tom van Steijn - Brabant Water\",\"Aalsterweg\",\"Brabant Water\"\\n161050.58,380037.62,Br_Wa\"/welT_brabant_water_22-PP120\",-241.73,-304.0,22-PP120,0,B51G2571,\"01-04-2015 00:00\",17.88,17.39,nan,Active,Vertical,\"Aalsterweg diep\",\"Tom van Steijn - Brabant Water\",\"Aalsterweg\",\"Brabant Water\"\\n161202.67,380273.09,Br_Wa\"/welT_brabant_water_22-PPV01\",-17.57,-57.42,22-PPV01,0,nan,\"01-01-1950 00:00\",nan,16.86,nan,Abandoned,Vertical,\"Aalsterweg middeldiep/Virtuele put\",\"Tom van Steijn - Brabant Water\",\"Aalsterweg\",\"Brabant Water\"\\n80359.07,388438.34,Br_Wa\"/welT_brabant_water_26-PP001\",-75.1,-97.15,26-PP001,0,B49E1435,\"11-10-2016 00:00\",13.0,12.52,nan,Active,Vertical,\"Bergen op Zoom\",\"Tom van Steijn - Brabant Water\",\"Bergen op Zoom\",\"Brabant Water\"\\n80427.32,388366.51,Br_Wa\"/welT_brabant_water_26-PP002\",-71.44,-99.44,26-PP002,0,B49E1436,\"27-09-2016 00:00\",11.64,11.2,nan,Active,Vertical,\"Bergen op Zoom\",\"Tom van Steijn - Brabant Water\",\"Bergen op Zoom\",\"Brabant Water\"\\n80172.0,388121.0,Br_Wa\"/welT_brabant_water_26-PP002A\",-26.4,-41.7,26-PP002A,0,B49E0163,\"01-01-1974 00:00\",12.1,12.4,nan,Abandoned,Vertical,\"Bergen op Zoom\",\"Tom van Steijn - Brabant Water\",\"Bergen op Zoom\",\"Brabant Water\"\\n80483.73,388281.55,Br_Wa\"/welT_brabant_water_26-PP003\",-72.26,-101.14,26-PP003,0,B49E1437,\"21-06-2016 00:00\",10.82,10.33,nan,Active,Vertical,\"Bergen op Zoom\",\"Tom van Steijn - Brabant Water\",\"Bergen op Zoom\",\"Brabant Water\"\\n80451.02,388155.21,Br_Wa\"/welT_brabant_water_26-PP004\",-70.13,-99.12,26-PP004,0,B49E1438,\"06-09-2016 00:00\",10.01,9.53,nan,Active,Vertical,\"Bergen op Zoom\",\"Tom van Steijn - Brabant Water\",\"Bergen op Zoom\",\"Brabant Water\"\\n80383.0,388124.0,Br_Wa\"/welT_brabant_water_26-PP004A\",-20.93,-41.93,26-PP004A,0,B49E0164,\"01-01-1974 00:00\",8.97,9.29,nan,Abandoned,Vertical,\"Bergen op Zoom\",\"Tom van Steijn - Brabant Water\",\"Bergen op Zoom\",\"Brabant Water\"\\n80342.6,388136.31,Br_Wa\"/welT_brabant_water_26-PP005\",-73.54,-97.81,26-PP005,0,B49E1439,\"25-07-2016 00:00\",10.03,9.5,nan,Active,Vertical,\"Bergen op Zoom\",\"Tom van Steijn - Brabant Water\",\"Bergen op Zoom\",\"Brabant Water\"\\n80279.0,388111.0,Br_Wa\"/welT_brabant_water_26-PP006A\",-16.09,-40.09,26-PP006A,0,B49E0165,\"01-01-1974 00:00\",10.8,11.11,nan,Abandoned,Vertical,\"Bergen op Zoom\",\"Tom van Steijn - Brabant Water\",\"Bergen op Zoom\",\"Brabant Water\"\\n80235.0,388465.0,Br_Wa\"/welT_brabant_water_26-PP007\",0.0,-103.0,26-PP007,0,B49E0298,\"01-01-1927 00:00\",10.83,0.0,nan,Abandoned,Vertical,\"Bergen op Zoom\",\"Tom van Steijn - Brabant Water\",\"Bergen op Zoom\",\"Brabant Water\"\\n80121.0,388206.0,Br_Wa\"/welT_brabant_water_26-PP007A\",-66.98,-95.48,26-PP007A,0,B49E0161,\"01-01-1974 00:00\",12.52,12.87,nan,Abandoned,Vertical,\"Bergen op Zoom\",\"Tom van Steijn - Brabant Water\",\"Bergen op Zoom\",\"Brabant Water\"\\n80048.0,388138.0,Br_Wa\"/welT_brabant_water_26-PP008A\",-65.86,-96.36,26-PP008A,0,B49E0166,\"01-01-1974 00:00\",13.14,13.44,nan,Abandoned,Vertical,\"Bergen op Zoom\",\"Tom van Steijn - Brabant Water\",\"Bergen op Zoom\",\"Brabant Water\"\\n80454.0,388245.0,Br_Wa\"/welT_brabant_water_26-PP009A\",-21.27,-40.57,26-PP009A,0,B49E0167,\"01-01-1974 00:00\",10.73,11.1,nan,Abandoned,Vertical,\"Bergen op Zoom\",\"Tom van Steijn - Brabant Water\",\"Bergen op Zoom\",\"Brabant Water\"\\n80298.0,388401.0,Br_Wa\"/welT_brabant_water_26-PP010A\",-70.78,-96.78,26-PP010A,0,B49E0159,\"01-01-1974 00:00\",13.22,13.12,nan,Abandoned,Vertical,\"Bergen op Zoom\",\"Tom van Steijn - Brabant Water\",\"Bergen op Zoom\",\"Brabant Water\"\\n81212.07,388500.7,Br_Wa\"/welT_brabant_water_26-PP011\",-76.5,-100.68,26-PP011,0,B49E1444,\"13-02-2017 00:00\",11.57,11.11,nan,Active,Vertical,\"Bergen op Zoom\",\"Tom van Steijn - Brabant Water\",\"Bergen op Zoom\",\"Brabant Water\"\\n80286.0,388369.0,Br_Wa\"/welT_brabant_water_26-PP011A\",-12.24,-37.94,26-PP011A,0,B49E0158,\"01-01-1974 00:00\",14.76,15.02,nan,Abandoned,Vertical,\"Bergen op Zoom\",\"Tom van Steijn - Brabant Water\",\"Bergen op Zoom\",\"Brabant Water\"\\n80979.45,388478.4,Br_Wa\"/welT_brabant_water_26-PP012\",-78.66,-102.78,26-PP012,0,B49E1445,\"30-01-2017 00:00\",10.4,9.89,nan,Active,Vertical,\"Bergen op Zoom\",\"Tom van Steijn - Brabant Water\",\"Bergen op Zoom\",\"Brabant Water\"\\n80314.0,388313.0,Br_Wa\"/welT_brabant_water_26-PP012A\",-21.31,-40.51,26-PP012A,0,B49E0162,\"01-01-1974 00:00\",11.49,11.8,nan,Abandoned,Vertical,\"Bergen op Zoom\",\"Tom van Steijn - Brabant Water\",\"Bergen op Zoom\",\"Brabant Water\"\\n81067.66,388569.91,Br_Wa\"/welT_brabant_water_26-PP013\",-74.46,-98.71,26-PP013,0,B49E1446,\"17-05-2017 00:00\",11.65,11.13,nan,Active,Vertical,\"Bergen op Zoom\",\"Tom van Steijn - Brabant Water\",\"Bergen op Zoom\",\"Brabant Water\"\\n80218.0,388360.0,Br_Wa\"/welT_brabant_water_26-PP013A\",-65.45,-96.45,26-PP013A,0,B49E0157,\"01-01-1974 00:00\",12.55,12.72,nan,Abandoned,Vertical,\"Bergen op Zoom\",\"Tom van Steijn - Brabant Water\",\"Bergen op Zoom\",\"Brabant Water\"\\n81093.15,388661.88,Br_Wa\"/welT_brabant_water_26-PP014\",-77.39,-101.56,26-PP014,0,B49E1447,\"15-03-2017 00:00\",11.83,11.39,nan,Active,Vertical,\"Bergen op Zoom\",\"Tom van Steijn - Brabant Water\",\"Bergen op Zoom\",\"Brabant Water\"\\n80203.0,388272.0,Br_Wa\"/welT_brabant_water_26-PP014A\",-67.14,-96.14,26-PP014A,0,B49E0160,\"01-01-1974 00:00\",12.36,12.65,nan,Abandoned,Vertical,\"Bergen op Zoom\",\"Tom van Steijn - Brabant Water\",\"Bergen op Zoom\",\"Brabant Water\"\\n81081.36,388783.67,Br_Wa\"/welT_brabant_water_26-PP015\",-78.31,-102.47,26-PP015,0,B49E1448,\"04-05-2017 00:00\",11.78,11.31,nan,Active,Vertical,\"Bergen op Zoom\",\"Tom van Steijn - Brabant Water\",\"Bergen op Zoom\",\"Brabant Water\"\\n80010.0,388264.0,Br_Wa\"/welT_brabant_water_26-PP019\",-74.5,-95.5,26-PP019,0,B49E0045,\"01-01-1960 00:00\",12.0,12.0,nan,Abandoned,Vertical,\"Bergen op Zoom\",\"Tom van Steijn - Brabant Water\",\"Bergen op Zoom\",\"Brabant Water\"\\n80305.0,388562.0,Br_Wa\"/welT_brabant_water_26-PP020\",-76.47,-101.47,26-PP020,0,B49E0058,\"01-01-1965 00:00\",10.53,10.81,nan,Abandoned,Vertical,\"Bergen op Zoom\",\"Tom van Steijn - Brabant Water\",\"Bergen op Zoom\",\"Brabant Water\"\\n80316.0,388476.0,Br_Wa\"/welT_brabant_water_26-PP021\",-76.55,-98.55,26-PP021,0,B49E0060,\"01-01-1965 00:00\",12.45,12.62,nan,Abandoned,Vertical,\"Bergen op Zoom\",\"Tom van Steijn - Brabant Water\",\"Bergen op Zoom\",\"Brabant Water\"\\n80378.0,388460.0,Br_Wa\"/welT_brabant_water_26-PP022\",-76.16,-97.16,26-PP022,0,B49E0061,\"01-01-1965 00:00\",11.84,12.16,nan,Abandoned,Vertical,\"Bergen op Zoom\",\"Tom van Steijn - Brabant Water\",\"Bergen op Zoom\",\"Brabant Water\"\\n80388.0,388391.0,Br_Wa\"/welT_brabant_water_26-PP023\",-73.41,-98.41,26-PP023,0,B49E0059,\"01-01-1965 00:00\",11.59,12.01,nan,Abandoned,Vertical,\"Bergen op Zoom\",\"Tom van Steijn - Brabant Water\",\"Bergen op Zoom\",\"Brabant Water\"\\n81085.05,388594.85,Br_Wa\"/welT_brabant_water_26-PP031\",-29.69,-52.95,26-PP031,0,B49E0117,\"01-01-1970 00:00\",10.63,11.08,nan,Abandoned,Vertical,\"Bergen op Zoom\",\"Tom van Steijn - Brabant Water\",\"Bergen op Zoom\",\"Brabant Water\"\\n81083.47,388601.73,Br_Wa\"/welT_brabant_water_26-PP032\",-81.09,-101.09,26-PP032,0,B49E0118,\"01-01-1970 00:00\",10.63,11.02,nan,Abandoned,Vertical,\"Bergen op Zoom\",\"Tom van Steijn - Brabant Water\",\"Bergen op Zoom\",\"Brabant Water\"\\n81074.13,388701.69,Br_Wa\"/welT_brabant_water_26-PP033\",-28.89,-51.92,26-PP033,0,B49E0119,\"01-01-1970 00:00\",11.9,12.4,nan,Abandoned,Vertical,\"Bergen op Zoom\",\"Tom van Steijn - Brabant Water\",\"Bergen op Zoom\",\"Brabant Water\"\\n81084.69,388699.66,Br_Wa\"/welT_brabant_water_26-PP034\",-77.38,-95.63,26-PP034,0,B49E0120,\"01-01-1971 00:00\",11.9,12.22,nan,Abandoned,Vertical,\"Bergen op Zoom\",\"Tom van Steijn - Brabant Water\",\"Bergen op Zoom\",\"Brabant Water\"\\n81058.53,388789.58,Br_Wa\"/welT_brabant_water_26-PP035\",-29.02,-52.05,26-PP035,0,B49E0121,\"01-01-1971 00:00\",11.6,11.9,nan,Abandoned,Vertical,\"Bergen op Zoom\",\"Tom van Steijn - Brabant Water\",\"Bergen op Zoom\",\"Brabant Water\"\\n81062.83,388808.13,Br_Wa\"/welT_brabant_water_26-PP036\",-79.26,-93.69,26-PP036,0,B49E0122,\"01-01-1971 00:00\",10.99,11.41,nan,Abandoned,Vertical,\"Bergen op Zoom\",\"Tom van Steijn - Brabant Water\",\"Bergen op Zoom\",\"Brabant Water\"\\n81030.45,388883.78,Br_Wa\"/welT_brabant_water_26-PP037\",-29.83,-54.66,26-PP037,0,B49E0123,\"01-01-1971 00:00\",9.39,9.88,nan,Abandoned,Vertical,\"Bergen op Zoom\",\"Tom van Steijn - Brabant Water\",\"Bergen op Zoom\",\"Brabant Water\"\\n81036.44,388913.84,Br_Wa\"/welT_brabant_water_26-PP038\",-82.75,-106.58,26-PP038,0,B49E0124,\"01-01-1971 00:00\",9.9,10.3,nan,Abandoned,Vertical,\"Bergen op Zoom\",\"Tom van Steijn - Brabant Water\",\"Bergen op Zoom\",\"Brabant Water\"\\n81143.54,388516.94,Br_Wa\"/welT_brabant_water_26-PP039\",-29.74,-52.24,26-PP039,0,B49E0125,\"01-01-1971 00:00\",10.97,11.44,nan,Abandoned,Vertical,\"Bergen op Zoom\",\"Tom van Steijn - Brabant Water\",\"Bergen op Zoom\",\"Brabant Water\"\\n81144.22,388524.49,Br_Wa\"/welT_brabant_water_26-PP040\",-67.79,-90.84,26-PP040,0,B49E0126,\"01-01-1971 00:00\",10.97,11.45,nan,Abandoned,Vertical,\"Bergen op Zoom\",\"Tom van Steijn - Brabant Water\",\"Bergen op Zoom\",\"Brabant Water\"\\n81225.21,388476.34,Br_Wa\"/welT_brabant_water_26-PP041\",-29.29,-52.34,26-PP041,0,B49E0127,\"01-01-1971 00:00\",11.06,11.3,nan,Abandoned,Vertical,\"Bergen op Zoom\",\"Tom van Steijn - Brabant Water\",\"Bergen op Zoom\",\"Brabant Water\"\\n81231.1,388483.81,Br_Wa\"/welT_brabant_water_26-PP042\",-67.81,-90.91,26-PP042,0,B49E0128,\"01-01-1971 00:00\",11.06,11.43,nan,Abandoned,Vertical,\"Bergen op Zoom\",\"Tom van Steijn - Brabant Water\",\"Bergen op Zoom\",\"Brabant Water\"\\n81154.71,388385.55,Br_Wa\"/welT_brabant_water_26-PP043\",-30.01,-53.3,26-PP043,0,B49E0129,\"01-01-1971 00:00\",10.37,10.8,nan,Abandoned,Vertical,\"Bergen op Zoom\",\"Tom van Steijn - Brabant Water\",\"Bergen op Zoom\",\"Brabant Water\"\\n81060.62,388307.9,Br_Wa\"/welT_brabant_water_26-PP045\",-30.22,-53.48,26-PP045,0,B49E0130,\"01-01-1971 00:00\",10.24,10.69,nan,Abandoned,Vertical,\"Bergen op Zoom\",\"Tom van Steijn - Brabant Water\",\"Bergen op Zoom\",\"Brabant Water\"\\n80975.98,388399.47,Br_Wa\"/welT_brabant_water_26-PP047\",-29.02,-52.22,26-PP047,0,B49E0131,\"01-01-1971 00:00\",10.38,10.89,nan,Abandoned,Vertical,\"Bergen op Zoom\",\"Tom van Steijn - Brabant Water\",\"Bergen op Zoom\",\"Brabant Water\"\\n80951.59,388483.86,Br_Wa\"/welT_brabant_water_26-PP049\",-30.64,-53.99,26-PP049,0,B49E0132,\"01-01-1971 00:00\",10.01,10.48,nan,Abandoned,Vertical,\"Bergen op Zoom\",\"Tom van Steijn - Brabant Water\",\"Bergen op Zoom\",\"Brabant Water\"\\n80088.33,388249.36,Br_Wa\"/welT_brabant_water_26-PP051\",-22.62,-46.68,26-PP051,0,B49E1440,\"09-06-2016 00:00\",11.82,11.32,nan,Active,Vertical,\"Bergen op Zoom\",\"Tom van Steijn - Brabant Water\",\"Bergen op Zoom\",\"Brabant Water\"\\n80298.99,388382.42,Br_Wa\"/welT_brabant_water_26-PP052\",-30.18,-50.33,26-PP052,0,B49E1441,\"25-10-2016 00:00\",14.07,13.61,nan,Active,Vertical,\"Bergen op Zoom\",\"Tom van Steijn - Brabant Water\",\"Bergen op Zoom\",\"Brabant Water\"\\n80295.83,388209.58,Br_Wa\"/welT_brabant_water_26-PP053\",-21.4,-45.6,26-PP053,0,B49E1442,\"12-07-2016 00:00\",11.28,10.82,nan,Active,Vertical,\"Bergen op Zoom\",\"Tom van Steijn - Brabant Water\",\"Bergen op Zoom\",\"Brabant Water\"\\n80203.67,388133.13,Br_Wa\"/welT_brabant_water_26-PP054\",-17.16,-48.01,26-PP054,0,B49E1443,\"05-07-2016 00:00\",12.54,12.03,nan,Active,Vertical,\"Bergen op Zoom\",\"Tom van Steijn - Brabant Water\",\"Bergen op Zoom\",\"Brabant Water\"\\n81186.85,388502.19,Br_Wa\"/welT_brabant_water_26-PP061\",-21.63,-50.55,26-PP061,0,B49E1449,\"28-02-2017 00:00\",11.5,11.02,nan,Active,Vertical,\"Bergen op Zoom\",\"Tom van Steijn - Brabant Water\",\"Bergen op Zoom\",\"Brabant Water\"\\n81079.85,388641.36,Br_Wa\"/welT_brabant_water_26-PP062\",-28.07,-52.26,26-PP062,0,B49E1450,\"28-03-2017 00:00\",11.92,11.43,nan,Active,Vertical,\"Bergen op Zoom\",\"Tom van Steijn - Brabant Water\",\"Bergen op Zoom\",\"Brabant Water\"\\n81085.63,388765.44,Br_Wa\"/welT_brabant_water_26-PP063\",-25.35,-54.32,26-PP063,0,B49E1451,\"11-04-2017 00:00\",11.69,11.23,nan,Active,Vertical,\"Bergen op Zoom\",\"Tom van Steijn - Brabant Water\",\"Bergen op Zoom\",\"Brabant Water\"\\n118630.0,401099.0,Br_Wa\"/welT_brabant_water_27-PP001\",-118.28,-183.08,27-PP001,0,B44D0429,\"01-01-1977 00:00\",7.72,6.52,nan,Active,Vertical,\"Dorst\",\"Tom van Steijn - Brabant Water\",\"Dorst\",\"Brabant Water\"\\n118915.0,401015.0,Br_Wa\"/welT_brabant_water_27-PP002\",-118.09,-183.09,27-PP002,0,B44D0436,\"01-01-1981 00:00\",8.12,7.42,nan,Active,Vertical,\"Dorst\",\"Tom van Steijn - Brabant Water\",\"Dorst\",\"Brabant Water\"\\n119260.0,400925.0,Br_Wa\"/welT_brabant_water_27-PP003\",-118.55,-176.25,27-PP003,0,B44D0437,\"01-01-1981 00:00\",8.33,7.71,nan,Active,Vertical,\"Dorst\",\"Tom van Steijn - Brabant Water\",\"Dorst\",\"Brabant Water\"\\n118855.0,400722.0,Br_Wa\"/welT_brabant_water_27-PP004\",-117.65,-176.86,27-PP004,0,B44D0430,\"01-01-1977 00:00\",8.34,7.16,nan,Active,Vertical,\"Dorst\",\"Tom van Steijn - Brabant Water\",\"Dorst\",\"Brabant Water\"\\n118595.0,400680.0,Br_Wa\"/welT_brabant_water_27-PP005\",-115.77,-178.57,27-PP005,0,B44D0431,\"01-01-1977 00:00\",7.55,6.9,nan,Active,Vertical,\"Dorst\",\"Tom van Steijn - Brabant Water\",\"Dorst\",\"Brabant Water\"\\n118500.0,400852.0,Br_Wa\"/welT_brabant_water_27-PP006\",-118.11,-188.2,27-PP006,0,B44D0412,\"01-01-1970 00:00\",7.88,6.21,nan,Active,Vertical,\"Dorst\",\"Tom van Steijn - Brabant Water\",\"Dorst\",\"Brabant Water\"\\n118400.0,400933.0,Br_Wa\"/welT_brabant_water_27-PP015\",-120.2,-184.5,27-PP015,0,B44D0152,\"01-01-1955 00:00\",7.87,6.07,nan,Abandoned,Vertical,\"Dorst\",\"Tom van Steijn - Brabant Water\",\"Dorst\",\"Brabant Water\"\\n118650.0,401385.0,Br_Wa\"/welT_brabant_water_27-PP021\",-116.11,-186.24,27-PP021,0,B44D0428,\"01-01-1968 00:00\",8.99,7.46,nan,Active,Vertical,\"Dorst\",\"Tom van Steijn - Brabant Water\",\"Dorst\",\"Brabant Water\"\\n118920.0,401289.0,Br_Wa\"/welT_brabant_water_27-PP022\",-120.44,-183.0,27-PP022,0,B44D0427,\"01-04-1977 00:00\",8.78,8.1,nan,Active,Vertical,\"Dorst\",\"Tom van Steijn - Brabant Water\",\"Dorst\",\"Brabant Water\"\\n119120.0,401262.0,Br_Wa\"/welT_brabant_water_27-PP023\",-117.21,-183.23,27-PP023,0,B44D0156,\"01-01-1960 00:00\",9.19,8.1,nan,Active,Vertical,\"Dorst\",\"Tom van Steijn - Brabant Water\",\"Dorst\",\"Brabant Water\"\\n119307.0,401150.0,Br_Wa\"/welT_brabant_water_27-PP024\",-138.0,-164.02,27-PP024,0,B44D0514,\"28-06-1995 00:00\",7.83,8.1,nan,Active,Vertical,\"Dorst\",\"Tom van Steijn - Brabant Water\",\"Dorst\",\"Brabant Water\"\\n119470.77,401127.82,Br_Wa\"/welT_brabant_water_27-PP025\",-138.02,-166.84,27-PP025,0,B44D0515,\"15-03-1995 00:00\",9.11,9.39,nan,Active,Vertical,\"Dorst\",\"Tom van Steijn - Brabant Water\",\"Dorst\",\"Brabant Water\"\\n119570.0,400600.0,Br_Wa\"/welT_brabant_water_27-PP027\",-112.47,-165.44,27-PP027,0,B44D0424,\"01-05-1974 00:00\",9.03,8.42,nan,Active,Vertical,\"Dorst\",\"Tom van Steijn - Brabant Water\",\"Dorst\",\"Brabant Water\"\\n119305.0,400636.0,Br_Wa\"/welT_brabant_water_27-PP028\",-113.74,-164.19,27-PP028,0,B44D0425,\"16-04-1974 00:00\",8.59,7.89,nan,Active,Vertical,\"Dorst\",\"Tom van Steijn - Brabant Water\",\"Dorst\",\"Brabant Water\"\\n119035.0,400683.0,Br_Wa\"/welT_brabant_water_27-PP029\",-124.76,-177.76,27-PP029,0,B44D0426,\"28-03-1974 00:00\",8.37,7.12,nan,Active,Vertical,\"Dorst\",\"Tom van Steijn - Brabant Water\",\"Dorst\",\"Brabant Water\"\\n119225.0,401475.0,Br_Wa\"/welT_brabant_water_27-PP030\",-124.78,-157.44,27-PP030,0,B44D0516,\"18-04-1995 00:00\",7.13,7.34,nan,Active,Vertical,\"Dorst\",\"Tom van Steijn - Brabant Water\",\"Dorst\",\"Brabant Water\"\\n119511.0,401438.0,Br_Wa\"/welT_brabant_water_27-PP031\",-125.39,-164.02,27-PP031,0,B44D0517,\"15-03-1995 00:00\",8.0,8.66,nan,Active,Vertical,\"Dorst\",\"Tom van Steijn - Brabant Water\",\"Dorst\",\"Brabant Water\"\\n119025.63,401116.4,Br_Wa\"/welT_brabant_water_27-PPV01\",-119.65,-177.4,27-PPV01,0,nan,\"01-01-1900 00:00\",nan,7.43,nan,Abandoned,Vertical,\"Dorst/Virtuele put\",\"Tom van Steijn - Brabant Water\",\"Dorst\",\"Brabant Water\"\\n130089.41,413857.46,Br_Wa\"/welT_brabant_water_28-PP013\",-55.02,-74.24,28-PP013,0,B44F0232,\"01-01-1987 00:00\",0.93,1.47,nan,Active,Vertical,\"Drongelen\",\"Tom van Steijn - Brabant Water\",\"Drongelen\",\"Brabant Water\"\\n129962.37,413871.07,Br_Wa\"/welT_brabant_water_28-PP014\",-51.99,-92.39,28-PP014,0,B44E0130,\"01-01-1987 00:00\",0.95,1.36,nan,Active,Vertical,\"Drongelen\",\"Tom van Steijn - Brabant Water\",\"Drongelen\",\"Brabant Water\"\\n129833.44,413887.65,Br_Wa\"/welT_brabant_water_28-PP015\",-55.55,-117.65,28-PP015,0,B44E0131,\"01-01-1987 00:00\",0.95,1.57,nan,Active,Vertical,\"Drongelen\",\"Tom van Steijn - Brabant Water\",\"Drongelen\",\"Brabant Water\"\\n129705.17,413905.97,Br_Wa\"/welT_brabant_water_28-PP016\",-54.8,-103.14,28-PP016,0,B44E0137,\"01-01-1992 00:00\",0.87,1.35,nan,Active,Vertical,\"Drongelen\",\"Tom van Steijn - Brabant Water\",\"Drongelen\",\"Brabant Water\"\\n129577.72,413925.22,Br_Wa\"/welT_brabant_water_28-PP017\",-54.96,-92.11,28-PP017,0,B44E0138,\"01-01-1992 00:00\",1.03,1.15,nan,Active,Vertical,\"Drongelen\",\"Tom van Steijn - Brabant Water\",\"Drongelen\",\"Brabant Water\"\\n129450.11,413945.98,Br_Wa\"/welT_brabant_water_28-PP018\",-57.35,-94.16,28-PP018,0,B44E0139,\"01-01-1992 00:00\",1.23,1.49,nan,Active,Vertical,\"Drongelen\",\"Tom van Steijn - Brabant Water\",\"Drongelen\",\"Brabant Water\"\\n129322.37,413968.9,Br_Wa\"/welT_brabant_water_28-PP019\",-60.17,-102.57,28-PP019,0,B44E0140,\"01-01-1992 00:00\",1.08,1.09,nan,Active,Vertical,\"Drongelen\",\"Tom van Steijn - Brabant Water\",\"Drongelen\",\"Brabant Water\"\\n129198.83,413992.56,Br_Wa\"/welT_brabant_water_28-PP020\",-63.79,-103.98,28-PP020,0,B44E0141,\"01-01-1992 00:00\",1.02,1.23,nan,Abandoned,Vertical,\"Drongelen\",\"Tom van Steijn - Brabant Water\",\"Drongelen\",\"Brabant Water\"\\n135043.35,417195.05,Br_Wa\"/welT_brabant_water_29-PP001\",-69.45,-102.56,29-PP001,0,B44F0126,\"01-01-1977 00:00\",1.55,1.1,nan,Active,Vertical,\"Genderen\",\"Tom van Steijn - Brabant Water\",\"Genderen\",\"Brabant Water\"\\n135187.04,417237.27,Br_Wa\"/welT_brabant_water_29-PP002\",-70.75,-146.2,29-PP002,0,B44F0077,\"01-01-1965 00:00\",1.3,1.71,nan,Active,Vertical,\"Genderen\",\"Tom van Steijn - Brabant Water\",\"Genderen\",\"Brabant Water\"\\n135349.0,417254.0,Br_Wa\"/welT_brabant_water_29-PP003\",-71.72,-145.94,29-PP003,0,B44F0093,\"01-01-1974 00:00\",1.3,1.3,nan,Abandoned,Vertical,\"Genderen\",\"Tom van Steijn - Brabant Water\",\"Genderen\",\"Brabant Water\"\\n135426.0,417147.0,Br_Wa\"/welT_brabant_water_29-PP004\",-73.47,-145.55,29-PP004,0,B44F0082,\"01-01-1969 00:00\",1.35,1.48,nan,Active,Vertical,\"Genderen\",\"Tom van Steijn - Brabant Water\",\"Genderen\",\"Brabant Water\"\\n135519.0,417023.0,Br_Wa\"/welT_brabant_water_29-PP005\",-73.37,-159.11,29-PP005,0,B44F0080,\"01-01-1967 00:00\",1.09,1.3,nan,Active,Vertical,\"Genderen\",\"Tom van Steijn - Brabant Water\",\"Genderen\",\"Brabant Water\"\\n135419.0,416962.0,Br_Wa\"/welT_brabant_water_29-PP006\",-72.26,-129.34,29-PP006,0,B44F0084,\"01-01-1977 00:00\",1.18,1.18,nan,Abandoned,Vertical,\"Genderen\",\"Tom van Steijn - Brabant Water\",\"Genderen\",\"Brabant Water\"\\n135287.0,416885.0,Br_Wa\"/welT_brabant_water_29-PP007\",-69.25,-81.19,29-PP007,0,B44F0085,\"01-01-1971 00:00\",1.25,0.77,nan,Active,Vertical,\"Genderen\",\"Tom van Steijn - Brabant Water\",\"Genderen\",\"Brabant Water\"\\n135178.0,416821.0,Br_Wa\"/welT_brabant_water_29-PP008\",-69.48,-142.45,29-PP008,0,B44F0086,\"01-01-1970 00:00\",1.15,1.63,nan,Active,Vertical,\"Genderen\",\"Tom van Steijn - Brabant Water\",\"Genderen\",\"Brabant Water\"\\n135052.0,416846.0,Br_Wa\"/welT_brabant_water_29-PP009\",-66.46,-142.15,29-PP009,0,B44F0087,\"01-01-1970 00:00\",1.55,1.49,nan,Active,Vertical,\"Genderen\",\"Tom van Steijn - Brabant Water\",\"Genderen\",\"Brabant Water\"\\n134986.0,416939.0,Br_Wa\"/welT_brabant_water_29-PP010\",-66.91,-126.98,29-PP010,0,B44F0088,\"01-01-1971 00:00\",1.5,1.5,nan,Abandoned,Vertical,\"Genderen\",\"Tom van Steijn - Brabant Water\",\"Genderen\",\"Brabant Water\"\\n134915.0,417049.0,Br_Wa\"/welT_brabant_water_29-PP011\",-66.89,-130.0,29-PP011,0,B44F0089,\"01-01-1974 00:00\",1.24,1.24,nan,Abandoned,Vertical,\"Genderen\",\"Tom van Steijn - Brabant Water\",\"Genderen\",\"Brabant Water\"\\n134851.45,417133.91,Br_Wa\"/welT_brabant_water_29-PP012\",-67.68,-79.64,29-PP012,0,B44F0090,\"01-01-1974 00:00\",1.24,0.45,nan,Active,Vertical,\"Genderen\",\"Tom van Steijn - Brabant Water\",\"Genderen\",\"Brabant Water\"\\n134987.0,416950.0,Br_Wa\"/welT_brabant_water_29-PP021\",-67.64,-79.07,29-PP021,0,B44F0242,\"09-04-2001 00:00\",1.33,1.43,nan,Active,Vertical,\"Genderen\",\"Tom van Steijn - Brabant Water\",\"Genderen\",\"Brabant Water\"\\n134910.0,417056.0,Br_Wa\"/welT_brabant_water_29-PP022\",-66.38,-77.09,29-PP022,0,B44F0245,\"01-04-2002 00:00\",1.29,1.51,nan,Active,Vertical,\"Genderen\",\"Tom van Steijn - Brabant Water\",\"Genderen\",\"Brabant Water\"\\n135361.0,417237.0,Br_Wa\"/welT_brabant_water_29-PP023\",-73.07,-112.91,29-PP023,0,B44F0366,\"01-03-2004 00:00\",1.26,1.04,nan,Active,Vertical,\"Genderen\",\"Tom van Steijn - Brabant Water\",\"Genderen\",\"Brabant Water\"\\n135383.0,416944.0,Br_Wa\"/welT_brabant_water_29-PP024\",-73.22,-105.52,29-PP024,0,B44F0367,\"01-03-2004 00:00\",1.2,0.86,nan,Active,Vertical,\"Genderen\",\"Tom van Steijn - Brabant Water\",\"Genderen\",\"Brabant Water\"\\n135470.0,417251.0,Br_Wa\"/welT_brabant_water_29-PP025\",-76.88,-145.96,29-PP025,0,B44F0373,\"16-09-2006 00:00\",1.29,0.91,nan,Active,Vertical,\"Genderen\",\"Tom van Steijn - Brabant Water\",\"Genderen\",\"Brabant Water\"\\n135572.0,417114.0,Br_Wa\"/welT_brabant_water_29-PP026\",-78.07,-141.53,29-PP026,0,B44F0374,\"05-10-2006 00:00\",1.42,1.1,nan,Active,Vertical,\"Genderen\",\"Tom van Steijn - Brabant Water\",\"Genderen\",\"Brabant Water\"\\n135511.0,416894.0,Br_Wa\"/welT_brabant_water_29-PP027\",-74.65,-129.15,29-PP027,0,B44F0375,\"25-10-2006 00:00\",0.95,0.61,nan,Active,Vertical,\"Genderen\",\"Tom van Steijn - Brabant Water\",\"Genderen\",\"Brabant Water\"\\n135225.02,416989.88,Br_Wa\"/welT_brabant_water_29-PPV01\",-70.17,-125.07,29-PPV01,0,nan,\"01-01-1964 00:00\",nan,1.25,nan,Abandoned,Vertical,\"Genderen/Virtuele put\",\"Tom van Steijn - Brabant Water\",\"Genderen\",\"Brabant Water\"\\n124690.0,393268.0,Br_Wa\"/welT_brabant_water_30-PP001\",-31.98,-97.98,30-PP001,0,B50E0093,\"01-01-1953 00:00\",16.67,16.67,nan,Abandoned,Vertical,\"Gilze\",\"Tom van Steijn - Brabant Water\",\"Gilze\",\"Brabant Water\"\\n124737.0,393333.0,Br_Wa\"/welT_brabant_water_30-PP002\",-35.33,-86.33,30-PP002,0,B50E0094,\"01-01-1954 00:00\",16.67,16.67,nan,Abandoned,Vertical,\"Gilze\",\"Tom van Steijn - Brabant Water\",\"Gilze\",\"Brabant Water\"\\n124780.0,393395.0,Br_Wa\"/welT_brabant_water_30-PP003\",-37.18,-93.18,30-PP003,0,B50E0151,\"01-01-1951 00:00\",16.6,16.6,nan,Abandoned,Vertical,\"Gilze\",\"Tom van Steijn - Brabant Water\",\"Gilze\",\"Brabant Water\"\\n124771.15,393273.65,Br_Wa\"/welT_brabant_water_30-PP004\",-33.32,-86.32,30-PP004,0,B50E0149,\"01-01-1956 00:00\",16.67,14.16,nan,Abandoned,Vertical,\"Gilze\",\"Tom van Steijn - Brabant Water\",\"Gilze\",\"Brabant Water\"\\n124813.75,393340.97,Br_Wa\"/welT_brabant_water_30-PP005\",-37.06,-88.06,30-PP005,0,B50E0150,\"01-01-1969 00:00\",16.64,16.35,nan,Abandoned,Vertical,\"Gilze\",\"Tom van Steijn - Brabant Water\",\"Gilze\",\"Brabant Water\"\\n124856.96,393408.3,Br_Wa\"/welT_brabant_water_30-PP006\",-38.0,-93.5,30-PP006,0,B50E0152,\"01-01-1969 00:00\",16.75,15.62,nan,Abandoned,Vertical,\"Gilze\",\"Tom van Steijn - Brabant Water\",\"Gilze\",\"Brabant Water\"\\n124885.87,393566.3,Br_Wa\"/welT_brabant_water_30-PP053\",-34.1,-96.45,30-PP053,0,B50E0153,\"01-01-1969 00:00\",16.76,14.85,nan,Active,Vertical,\"Gilze\",\"Tom van Steijn - Brabant Water\",\"Gilze\",\"Brabant Water\"\\n124965.98,393576.38,Br_Wa\"/welT_brabant_water_30-PP054\",-38.72,-98.57,30-PP054,0,B50E0154,\"01-01-1969 00:00\",16.33,14.44,nan,Active,Vertical,\"Gilze\",\"Tom van Steijn - Brabant Water\",\"Gilze\",\"Brabant Water\"\\n124797.49,393313.3,Br_Wa\"/welT_brabant_water_30-PP055\",-36.44,-46.21,30-PP055,0,B50E1263,\"10-05-2011 00:00\",16.69,16.26,nan,Active,Vertical,\"Gilze\",\"Tom van Steijn - Brabant Water\",\"Gilze\",\"Brabant Water\"\\n124797.06,393313.47,Br_Wa\"/welT_brabant_water_30-PP056\",-55.71,-81.28,30-PP056,0,B50E1264,\"10-05-2011 00:00\",16.69,16.25,nan,Active,Vertical,\"Gilze\",\"Tom van Steijn - Brabant Water\",\"Gilze\",\"Brabant Water\"\\n9999999.0,9999999.0,Br_Wa\"/welT_brabant_water_30-PP057\",1.0,0.0,30-PP057,0,B50E1392,\"01-01-2019 00:00\",999.0,999.0,nan,Active,Vertical,\"Gilze\",\"Jelle van Sijl - Brabant Water\",\"Gilze\",\"Brabant Water\"\\n124875.97,393435.13,Br_Wa\"/welT_brabant_water_30-PPV01\",-35.9,-91.52,30-PPV01,0,nan,\"01-01-1949 00:00\",nan,15.64,nan,Abandoned,Vertical,\"Gilze/Virtuele put\",\"Tom van Steijn - Brabant Water\",\"Gilze\",\"Brabant Water\"\\n113944.84,396988.23,Br_Wa\"/welT_brabant_water_31-PP012\",-60.22,-80.61,31-PP012,0,B50B0338,\"01-01-1994 00:00\",3.51,3.72,nan,Active,Vertical,\"Ginneken\",\"Tom van Steijn - Brabant Water\",\"Ginneken\",\"Brabant Water\"\\n165707.7,377436.34,Br_Wa\"/welT_brabant_water_23-PP152\",-203.65,-288.58,23-PP152,0,B51G0608,\"01-09-1994 00:00\",22.52,22.69,nan,Active,Vertical,\"Groote Heide\",\"Tom van Steijn - Brabant Water\",\"Groote Heide\",\"Brabant Water\"\\n165942.47,377672.17,Br_Wa\"/welT_brabant_water_23-PP153\",-197.62,-280.45,23-PP153,0,B51G0607,\"01-11-1993 00:00\",23.55,23.69,nan,Active,Vertical,\"Groote Heide\",\"Tom van Steijn - Brabant Water\",\"Groote Heide\",\"Brabant Water\"\\n166177.14,377842.82,Br_Wa\"/welT_brabant_water_23-PP154\",-229.01,-285.01,23-PP154,0,B51G0604,\"01-08-1992 00:00\",22.99,23.11,nan,Active,Vertical,\"Groote Heide\",\"Tom van Steijn - Brabant Water\",\"Groote Heide\",\"Brabant Water\"\\n165977.09,378121.85,Br_Wa\"/welT_brabant_water_23-PP155\",-246.05,-293.53,23-PP155,0,B51G0550,\"04-09-1990 00:00\",22.49,22.84,nan,Active,Vertical,\"Groote Heide\",\"Tom van Steijn - Brabant Water\",\"Groote Heide\",\"Brabant Water\"\\n165789.78,378385.91,Br_Wa\"/welT_brabant_water_23-PP156\",-200.26,-286.84,23-PP156,0,B51G0546,\"02-10-1987 00:00\",23.04,21.13,nan,Active,Vertical,\"Groote Heide\",\"Tom van Steijn - Brabant Water\",\"Groote Heide\",\"Brabant Water\"\\n165554.71,378654.61,Br_Wa\"/welT_brabant_water_23-PP157\",-171.0,-219.05,23-PP157,0,B51G0547,\"14-02-1987 00:00\",22.11,22.18,nan,Active,Vertical,\"Groote Heide\",\"Tom van Steijn - Brabant Water\",\"Groote Heide\",\"Brabant Water\"\\n165204.85,378668.25,Br_Wa\"/welT_brabant_water_23-PP158\",-186.76,-235.36,23-PP158,0,B51G2381,\"26-09-1980 00:00\",22.14,22.08,nan,Active,Vertical,\"Groote Heide\",\"Tom van Steijn - Brabant Water\",\"Groote Heide\",\"Brabant Water\"\\n164975.01,378769.03,Br_Wa\"/welT_brabant_water_23-PP159\",-155.35,-223.35,23-PP159,0,B51G0377,\"05-02-1973 00:00\",21.65,21.88,nan,Active,Vertical,\"Groote Heide middeldiep\",\"Tom van Steijn - Brabant Water\",\"Groote Heide\",\"Brabant Water\"\\n164867.95,378556.95,Br_Wa\"/welT_brabant_water_23-PP160\",-180.42,-224.92,23-PP160,0,B51G0376,\"01-12-1972 00:00\",21.31,21.59,nan,Active,Vertical,\"Groote Heide\",\"Tom van Steijn - Brabant Water\",\"Groote Heide\",\"Brabant Water\"\\n164673.52,378474.17,Br_Wa\"/welT_brabant_water_23-PP161\",-186.33,-236.33,23-PP161,0,B51G0380,\"01-10-1970 00:00\",22.24,19.74,nan,Abandoned,Vertical,\"Groote Heide\",\"Tom van Steijn - Brabant Water\",\"Groote Heide\",\"Brabant Water\"\\n164682.2,378232.7,Br_Wa\"/welT_brabant_water_23-PP162\",-159.01,-222.08,23-PP162,0,B51G0378,\"31-12-1972 00:00\",21.73,21.92,nan,Active,Vertical,\"Groote Heide\",\"Tom van Steijn - Brabant Water\",\"Groote Heide\",\"Brabant Water\"\\n164557.28,377947.75,Br_Wa\"/welT_brabant_water_23-PP163\",-242.02,-292.04,23-PP163,0,B51G0548,\"12-12-1989 00:00\",21.9,21.96,nan,Active,Vertical,\"Groote Heide\",\"Tom van Steijn - Brabant Water\",\"Groote Heide\",\"Brabant Water\"\\n164668.43,377640.2,Br_Wa\"/welT_brabant_water_23-PP164\",-231.59,-281.61,23-PP164,0,B51G0549,\"24-12-1989 00:00\",22.39,22.62,nan,Active,Vertical,\"Groote Heide\",\"Tom van Steijn - Brabant Water\",\"Groote Heide\",\"Brabant Water\"\\n164753.78,377311.01,Br_Wa\"/welT_brabant_water_23-PP165\",-196.19,-267.51,23-PP165,0,B51G0610,\"30-11-1994 00:00\",22.49,22.6,nan,Active,Vertical,\"Groote Heide\",\"Tom van Steijn - Brabant Water\",\"Groote Heide\",\"Brabant Water\"\\n165076.69,377210.89,Br_Wa\"/welT_brabant_water_23-PP166\",-220.04,-288.11,23-PP166,0,B51G0611,\"15-10-1994 00:00\",23.89,24.08,nan,Active,Vertical,\"Groote Heide\",\"Tom van Steijn - Brabant Water\",\"Groote Heide\",\"Brabant Water\"\\n165335.59,377300.04,Br_Wa\"/welT_brabant_water_23-PP167\",-230.31,-287.81,23-PP167,0,B51G0609,\"27-09-1994 00:00\",23.19,23.44,nan,Active,Vertical,\"Groote Heide\",\"Tom van Steijn - Brabant Water\",\"Groote Heide\",\"Brabant Water\"\\n165263.63,377877.0,Br_Wa\"/welT_brabant_water_23-PPV01\",-155.35,-223.35,23-PPV01,0,nan,\"01-01-1969 00:00\",nan,21.88,nan,Abandoned,Vertical,\"Groote Heide middeldiep/Virtuele put\",\"Tom van Steijn - Brabant Water\",\"Groote Heide\",\"Brabant Water\"\\n158936.23,379733.72,Br_Wa\"/welT_brabant_water_25-PP402\",-202.25,-248.85,25-PP402,0,B51D0342,\"15-04-1997 00:00\",18.28,18.34,nan,Active,Vertical,\"Klotputten\",\"Tom van Steijn - Brabant Water\",\"Klotputten\",\"Brabant Water\"\\n158619.21,379725.82,Br_Wa\"/welT_brabant_water_25-PP403\",-197.04,-246.85,25-PP403,0,B51D0343,\"01-04-1997 00:00\",18.21,18.31,nan,Active,Vertical,\"Klotputten\",\"Tom van Steijn - Brabant Water\",\"Klotputten\",\"Brabant Water\"\\n158596.76,380068.91,Br_Wa\"/welT_brabant_water_25-PP404\",-197.6,-297.66,25-PP404,0,B51D0344,\"15-05-1997 00:00\",17.44,17.55,nan,Active,Vertical,\"Klotputten\",\"Tom van Steijn - Brabant Water\",\"Klotputten\",\"Brabant Water\"\\n117016.0,404708.0,Br_Wa\"/welT_brabant_water_32-PP005\",-131.58,-175.58,32-PP005,0,B44D0200,\"01-01-1957 00:00\",6.07,5.04,nan,Abandoned,Vertical,\"Oosterhout\",\"Tom van Steijn - Brabant Water\",\"Oosterhout\",\"Brabant Water\"\\n117058.0,404777.0,Br_Wa\"/welT_brabant_water_32-PP006\",-133.18,-176.43,32-PP006,0,B44D0199,\"01-01-1957 00:00\",5.6,5.6,nan,Abandoned,Vertical,\"Oosterhout\",\"Tom van Steijn - Brabant Water\",\"Oosterhout\",\"Brabant Water\"\\n117141.08,404961.5,Br_Wa\"/welT_brabant_water_32-PP007\",-139.35,-189.75,32-PP007,0,B44D0197,\"01-01-1967 00:00\",5.61,5.43,nan,Active,Vertical,\"Oosterhout\",\"Tom van Steijn - Brabant Water\",\"Oosterhout\",\"Brabant Water\"\\n117179.84,405087.38,Br_Wa\"/welT_brabant_water_32-PP008\",-137.8,-187.65,32-PP008,0,B44D0196,\"01-01-1967 00:00\",6.02,4.58,nan,Active,Vertical,\"Oosterhout\",\"Tom van Steijn - Brabant Water\",\"Oosterhout\",\"Brabant Water\"\\n117212.69,405212.82,Br_Wa\"/welT_brabant_water_32-PP009\",-137.18,-187.18,32-PP009,0,B44D0173,\"01-01-1966 00:00\",5.73,3.87,nan,Active,Vertical,\"Oosterhout\",\"Tom van Steijn - Brabant Water\",\"Oosterhout\",\"Brabant Water\"\\n116939.15,404801.35,Br_Wa\"/welT_brabant_water_32-PP011\",-135.43,-183.5,32-PP011,0,B44D0465,\"01-01-1990 00:00\",6.83,5.35,nan,Active,Vertical,\"Oosterhout\",\"Tom van Steijn - Brabant Water\",\"Oosterhout\",\"Brabant Water\"\\n116812.14,404921.97,Br_Wa\"/welT_brabant_water_32-PP012\",-130.56,-183.51,32-PP012,0,B44D0215,\"01-01-1970 00:00\",5.73,4.7,nan,Active,Vertical,\"Oosterhout\",\"Tom van Steijn - Brabant Water\",\"Oosterhout\",\"Brabant Water\"\\n116741.35,405031.7,Br_Wa\"/welT_brabant_water_32-PP013\",-134.56,-184.56,32-PP013,0,B44D0216,\"01-01-1968 00:00\",5.5,4.36,nan,Active,Vertical,\"Oosterhout\",\"Tom van Steijn - Brabant Water\",\"Oosterhout\",\"Brabant Water\"\\n116672.72,405142.11,Br_Wa\"/welT_brabant_water_32-PP014\",-135.0,-185.0,32-PP014,0,B44D0217,\"01-01-1968 00:00\",5.18,3.62,nan,Active,Vertical,\"Oosterhout\",\"Tom van Steijn - Brabant Water\",\"Oosterhout\",\"Brabant Water\"\\n116599.23,405249.47,Br_Wa\"/welT_brabant_water_32-PP015\",-135.46,-185.44,32-PP015,0,B44D0231,\"01-01-1970 00:00\",5.13,4.22,nan,Active,Vertical,\"Oosterhout\",\"Tom van Steijn - Brabant Water\",\"Oosterhout\",\"Brabant Water\"\\n116485.0,405317.0,Br_Wa\"/welT_brabant_water_32-PP016\",-136.59,-185.59,32-PP016,0,B44D0232,\"01-01-1970 00:00\",5.36,5.06,nan,Active,Vertical,\"Oosterhout\",\"Tom van Steijn - Brabant Water\",\"Oosterhout\",\"Brabant Water\"\\n116368.77,405374.34,Br_Wa\"/welT_brabant_water_32-PP017\",-136.79,-187.33,32-PP017,0,B44D0233,\"01-01-1970 00:00\",5.1,4.55,nan,Active,Vertical,\"Oosterhout\",\"Tom van Steijn - Brabant Water\",\"Oosterhout\",\"Brabant Water\"\\n116663.95,404918.77,Br_Wa\"/welT_brabant_water_32-PP018\",-134.04,-186.07,32-PP018,0,B44D0218,\"01-01-1970 00:00\",5.4,3.98,nan,Active,Vertical,\"Oosterhout\",\"Tom van Steijn - Brabant Water\",\"Oosterhout\",\"Brabant Water\"\\n116645.38,404770.24,Br_Wa\"/welT_brabant_water_32-PP019\",-137.09,-189.22,32-PP019,0,B44D0219,\"01-01-1970 00:00\",5.48,4.73,nan,Active,Vertical,\"Oosterhout\",\"Tom van Steijn - Brabant Water\",\"Oosterhout\",\"Brabant Water\"\\n116815.06,404680.54,Br_Wa\"/welT_brabant_water_32-PP020\",-136.9,-184.55,32-PP020,0,B44D0466,\"01-01-1990 00:00\",6.25,4.86,nan,Active,Vertical,\"Oosterhout\",\"Tom van Steijn - Brabant Water\",\"Oosterhout\",\"Brabant Water\"\\n116323.63,405257.66,Br_Wa\"/welT_brabant_water_32-PP021\",-143.03,-186.26,32-PP021,0,B44D0480,\"01-01-1991 00:00\",5.23,3.66,nan,Active,Vertical,\"Oosterhout\",\"Tom van Steijn - Brabant Water\",\"Oosterhout\",\"Brabant Water\"\\n116166.19,405194.06,Br_Wa\"/welT_brabant_water_32-PP022\",-144.22,-192.24,32-PP022,0,B44D0481,\"01-01-1991 00:00\",5.12,3.61,nan,Active,Vertical,\"Oosterhout\",\"Tom van Steijn - Brabant Water\",\"Oosterhout\",\"Brabant Water\"\\n116025.3,405150.07,Br_Wa\"/welT_brabant_water_32-PP023\",-140.07,-188.07,32-PP023,0,B44D0482,\"01-01-1991 00:00\",5.12,3.5,nan,Active,Vertical,\"Oosterhout\",\"Tom van Steijn - Brabant Water\",\"Oosterhout\",\"Brabant Water\"\\n115906.02,405077.1,Br_Wa\"/welT_brabant_water_32-PP024\",-149.2,-194.72,32-PP024,0,B44D0499,\"01-01-1991 00:00\",5.16,3.49,nan,Active,Vertical,\"Oosterhout\",\"Tom van Steijn - Brabant Water\",\"Oosterhout\",\"Brabant Water\"\\n115774.86,405021.16,Br_Wa\"/welT_brabant_water_32-PP025\",-148.93,-196.92,32-PP025,0,B44D0500,\"01-01-1991 00:00\",5.12,3.41,nan,Active,Vertical,\"Oosterhout\",\"Tom van Steijn - Brabant Water\",\"Oosterhout\",\"Brabant Water\"\\n115916.49,404955.32,Br_Wa\"/welT_brabant_water_32-PP026\",-148.03,-191.15,32-PP026,0,B44D0501,\"01-01-1991 00:00\",5.13,3.41,nan,Active,Vertical,\"Oosterhout\",\"Tom van Steijn - Brabant Water\",\"Oosterhout\",\"Brabant Water\"\\n116525.47,405059.64,Br_Wa\"/welT_brabant_water_32-PPV01\",-137.3,-184.25,32-PPV01,0,nan,\"01-01-1924 00:00\",nan,4.43,nan,Abandoned,Vertical,\"Oosterhout/Virtuele put\",\"Tom van Steijn - Brabant Water\",\"Oosterhout\",\"Brabant Water\"\\n119325.0,395054.0,Br_Wa\"/welT_brabant_water_33-PP001\",-96.75,-124.56,33-PP001,0,B50B0217,\"01-01-1992 00:00\",9.9,9.35,nan,Active,Vertical,\"Prinsenbosch\",\"Tom van Steijn - Brabant Water\",\"Prinsenbosch\",\"Brabant Water\"\\n119175.0,395060.0,Br_Wa\"/welT_brabant_water_33-PP002\",-90.06,-124.06,33-PP002,0,B50B0218,\"01-01-1992 00:00\",9.95,10.0,nan,Active,Vertical,\"Prinsenbosch\",\"Tom van Steijn - Brabant Water\",\"Prinsenbosch\",\"Brabant Water\"\\n119025.0,395064.0,Br_Wa\"/welT_brabant_water_33-PP003\",-97.0,-127.64,33-PP003,0,B50B0288,\"01-01-1989 00:00\",9.98,9.31,nan,Active,Vertical,\"Prinsenbosch\",\"Tom van Steijn - Brabant Water\",\"Prinsenbosch\",\"Brabant Water\"\\n118877.0,395071.0,Br_Wa\"/welT_brabant_water_33-PP004\",-98.77,-129.22,33-PP004,0,B50B0289,\"01-01-1989 00:00\",9.68,9.45,nan,Active,Vertical,\"Prinsenbosch\",\"Tom van Steijn - Brabant Water\",\"Prinsenbosch\",\"Brabant Water\"\\n118786.0,395020.0,Br_Wa\"/welT_brabant_water_33-PP005\",-97.76,-124.36,33-PP005,0,B50B0069,\"01-01-1969 00:00\",11.06,9.49,nan,Active,Vertical,\"Prinsenbosch\",\"Tom van Steijn - Brabant Water\",\"Prinsenbosch\",\"Brabant Water\"\\n118710.0,394947.0,Br_Wa\"/welT_brabant_water_33-PP006\",-89.64,-125.4,33-PP006,0,B50B0136,\"01-01-1977 00:00\",10.36,10.88,nan,Active,Vertical,\"Prinsenbosch\",\"Tom van Steijn - Brabant Water\",\"Prinsenbosch\",\"Brabant Water\"\\n118649.0,394856.0,Br_Wa\"/welT_brabant_water_33-PP007\",-89.62,-123.08,33-PP007,0,B50B0137,\"01-01-1977 00:00\",10.39,10.49,nan,Active,Vertical,\"Prinsenbosch\",\"Tom van Steijn - Brabant Water\",\"Prinsenbosch\",\"Brabant Water\"\\n118450.0,394890.0,Br_Wa\"/welT_brabant_water_33-PP008\",-88.75,-129.65,33-PP008,0,B50B0219,\"01-01-1992 00:00\",9.45,8.23,nan,Active,Vertical,\"Prinsenbosch\",\"Tom van Steijn - Brabant Water\",\"Prinsenbosch\",\"Brabant Water\"\\n118285.0,395005.0,Br_Wa\"/welT_brabant_water_33-PP009\",-98.82,-127.6,33-PP009,0,B50B0220,\"01-01-1992 00:00\",9.28,8.14,nan,Active,Vertical,\"Prinsenbosch\",\"Tom van Steijn - Brabant Water\",\"Prinsenbosch\",\"Brabant Water\"\\n118122.0,395120.0,Br_Wa\"/welT_brabant_water_33-PP010\",-90.98,-130.97,33-PP010,0,B50B0221,\"01-01-1992 00:00\",9.03,7.54,nan,Active,Vertical,\"Prinsenbosch\",\"Tom van Steijn - Brabant Water\",\"Prinsenbosch\",\"Brabant Water\"\\n119475.0,395048.0,Br_Wa\"/welT_brabant_water_33-PP011\",-96.13,-123.16,33-PP011,0,B50B0222,\"01-01-1992 00:00\",10.78,9.81,nan,Active,Vertical,\"Prinsenbosch\",\"Tom van Steijn - Brabant Water\",\"Prinsenbosch\",\"Brabant Water\"\\n91597.13,391666.53,Br_Wa\"/welT_brabant_water_34-PP001\",-58.75,-70.5,34-PP001,0,B49F0440,\"01-05-2001 00:00\",8.7,8.54,nan,Active,Vertical,\"Roosendaal\",\"Tom van Steijn - Brabant Water\",\"Roosendaal\",\"Brabant Water\"\\n91672.19,391719.51,Br_Wa\"/welT_brabant_water_34-PP002\",-54.74,-71.0,34-PP002,0,B49F0441,\"01-05-2001 00:00\",7.95,8.33,nan,Active,Vertical,\"Roosendaal\",\"Tom van Steijn - Brabant Water\",\"Roosendaal\",\"Brabant Water\"\\n91684.92,391621.55,Br_Wa\"/welT_brabant_water_34-PP003\",-43.94,-72.17,34-PP003,0,B49F0442,\"01-05-2001 00:00\",8.23,7.79,nan,Active,Vertical,\"Roosendaal\",\"Tom van Steijn - Brabant Water\",\"Roosendaal\",\"Brabant Water\"\\n91608.1,391568.93,Br_Wa\"/welT_brabant_water_34-PP004\",-48.99,-71.04,34-PP004,0,B49F0443,\"01-05-2001 00:00\",8.96,7.6,nan,Active,Vertical,\"Roosendaal\",\"Tom van Steijn - Brabant Water\",\"Roosendaal\",\"Brabant Water\"\\n91517.51,391609.37,Br_Wa\"/welT_brabant_water_34-PP005\",-53.77,-71.21,34-PP005,0,B49F0439,\"01-05-2001 00:00\",8.89,8.38,nan,Active,Vertical,\"Roosendaal\",\"Tom van Steijn - Brabant Water\",\"Roosendaal\",\"Brabant Water\"\\n91456.0,391726.0,Br_Wa\"/welT_brabant_water_34-PP006\",-61.4,-71.06,34-PP006,0,B49F0456,\"16-09-2003 00:00\",9.1,8.61,nan,Active,Vertical,\"Roosendaal\",\"Tom van Steijn - Brabant Water\",\"Roosendaal\",\"Brabant Water\"\\n91430.0,391706.0,Br_Wa\"/welT_brabant_water_34-PP007\",0.0,0.0,34-PP007,0,B49F0310,\"01-01-1952 00:00\",8.84,0.0,nan,Abandoned,Vertical,\"Roosendaal\",\"Tom van Steijn - Brabant Water\",\"Roosendaal\",\"Brabant Water\"\\n91448.0,391717.0,Br_Wa\"/welT_brabant_water_34-PP008\",-33.52,-71.02,34-PP008,0,B49F0110,\"01-01-1960 00:00\",8.98,8.98,nan,Abandoned,Vertical,\"Roosendaal\",\"Tom van Steijn - Brabant Water\",\"Roosendaal\",\"Brabant Water\"\\n91462.0,391727.0,Br_Wa\"/welT_brabant_water_34-PP009\",-99.21,-142.01,34-PP009,0,B49F0111,\"01-01-1960 00:00\",8.99,8.99,nan,Abandoned,Vertical,\"Roosendaal\",\"Tom van Steijn - Brabant Water\",\"Roosendaal\",\"Brabant Water\"\\n91467.0,391731.0,Br_Wa\"/welT_brabant_water_34-PP010\",-46.96,-70.96,34-PP010,0,B49F0112,\"01-01-1960 00:00\",9.04,9.04,nan,Abandoned,Vertical,\"Roosendaal\",\"Tom van Steijn - Brabant Water\",\"Roosendaal\",\"Brabant Water\"\\n91540.15,391719.73,Br_Wa\"/welT_brabant_water_34-PP011\",-99.07,-132.79,34-PP011,0,B49F0457,\"26-09-2003 00:00\",9.0,8.35,nan,Active,Vertical,\"Roosendaal\",\"Tom van Steijn - Brabant Water\",\"Roosendaal\",\"Brabant Water\"\\n91437.0,391667.0,Br_Wa\"/welT_brabant_water_34-PP012\",-100.74,-136.62,34-PP012,0,B49F0458,\"02-10-2003 00:00\",8.79,8.31,nan,Active,Vertical,\"Roosendaal\",\"Tom van Steijn - Brabant Water\",\"Roosendaal\",\"Brabant Water\"\\n91360.94,391600.53,Br_Wa\"/welT_brabant_water_34-PP013\",-98.61,-135.64,34-PP013,0,B49F0459,\"08-09-2003 00:00\",8.51,7.94,nan,Active,Vertical,\"Roosendaal\",\"Tom van Steijn - Brabant Water\",\"Roosendaal\",\"Brabant Water\"\\n91456.53,391564.0,Br_Wa\"/welT_brabant_water_34-PP014\",-97.24,-135.68,34-PP014,0,B49F0460,\"23-09-2003 00:00\",8.7,8.16,nan,Active,Vertical,\"Roosendaal\",\"Tom van Steijn - Brabant Water\",\"Roosendaal\",\"Brabant Water\"\\n91558.67,391639.61,Br_Wa\"/welT_brabant_water_34-PP015\",-97.17,-135.62,34-PP015,0,B49F0437,\"01-05-2001 00:00\",8.86,8.45,nan,Active,Vertical,\"Roosendaal\",\"Tom van Steijn - Brabant Water\",\"Roosendaal\",\"Brabant Water\"\\n91499.06,391779.45,Br_Wa\"/welT_brabant_water_34-PP016\",-99.29,-124.52,34-PP016,0,B49F0438,\"01-05-2001 00:00\",8.65,8.14,nan,Active,Vertical,\"Roosendaal\",\"Tom van Steijn - Brabant Water\",\"Roosendaal\",\"Brabant Water\"\\n96770.46,390840.56,Br_Wa\"/welT_brabant_water_35-PP001\",-92.41,-147.71,35-PP001,0,B49F0213,\"01-01-1971 00:00\",14.56,14.93,nan,Active,Vertical,\"Schijf\",\"Tom van Steijn - Brabant Water\",\"Schijf\",\"Brabant Water\"\\n96673.65,390677.14,Br_Wa\"/welT_brabant_water_35-PP002\",-92.15,-142.67,35-PP002,0,B49F0202,\"01-01-1971 00:00\",14.67,13.66,nan,Active,Vertical,\"Schijf\",\"Tom van Steijn - Brabant Water\",\"Schijf\",\"Brabant Water\"\\n96537.77,390794.26,Br_Wa\"/welT_brabant_water_35-PP003\",-89.89,-145.89,35-PP003,0,B49F0149,\"01-01-1964 00:00\",15.14,15.24,nan,Active,Vertical,\"Schijf\",\"Tom van Steijn - Brabant Water\",\"Schijf\",\"Brabant Water\"\\n96443.65,390878.85,Br_Wa\"/welT_brabant_water_35-PP004\",-89.29,-127.78,35-PP004,0,B49F0204,\"01-01-1971 00:00\",14.38,14.57,nan,Active,Vertical,\"Schijf\",\"Tom van Steijn - Brabant Water\",\"Schijf\",\"Brabant Water\"\\n96347.55,390963.36,Br_Wa\"/welT_brabant_water_35-PP005\",-91.07,-151.25,35-PP005,0,B49F0205,\"01-01-1971 00:00\",14.06,14.32,nan,Active,Vertical,\"Schijf\",\"Tom van Steijn - Brabant Water\",\"Schijf\",\"Brabant Water\"\\n96234.95,391077.23,Br_Wa\"/welT_brabant_water_35-PP006\",-91.29,-155.25,35-PP006,0,B49F0206,\"01-01-1971 00:00\",13.93,14.26,nan,Active,Vertical,\"Schijf\",\"Tom van Steijn - Brabant Water\",\"Schijf\",\"Brabant Water\"\\n96371.45,391212.57,Br_Wa\"/welT_brabant_water_35-PP007\",-92.15,-151.6,35-PP007,0,B49F0207,\"01-01-1971 00:00\",13.6,13.92,nan,Active,Vertical,\"Schijf\",\"Tom van Steijn - Brabant Water\",\"Schijf\",\"Brabant Water\"\\n96546.3,391385.82,Br_Wa\"/welT_brabant_water_35-PP008\",-97.03,-157.03,35-PP008,0,B49F0334,\"01-01-1980 00:00\",13.73,14.06,nan,Active,Vertical,\"Schijf\",\"Tom van Steijn - Brabant Water\",\"Schijf\",\"Brabant Water\"\\n156556.37,385159.49,Br_Wa\"/welT_brabant_water_24-PP001\",-112.54,-253.5,24-PP001,0,B51D0201,\"19-01-1990 00:00\",20.39,20.57,nan,Active,Vertical,\"Welschap\",\"Tom van Steijn - Brabant Water\",\"Welschap\",\"Brabant Water\"\\n156863.92,384940.05,Br_Wa\"/welT_brabant_water_24-PP002\",-115.62,-250.78,24-PP002,0,B51D0200,\"03-02-1990 00:00\",20.22,20.44,nan,Active,Vertical,\"Welschap\",\"Tom van Steijn - Brabant Water\",\"Welschap\",\"Brabant Water\"\\n157321.32,384604.72,Br_Wa\"/welT_brabant_water_24-PP004\",-120.19,-309.75,24-PP004,0,B51D0329,\"15-12-1992 00:00\",19.15,19.33,nan,Active,Vertical,\"Welschap\",\"Tom van Steijn - Brabant Water\",\"Welschap\",\"Brabant Water\"\\n157642.94,384201.41,Br_Wa\"/welT_brabant_water_24-PP005\",-116.01,-255.68,24-PP005,0,B51D0331,\"15-01-1993 00:00\",19.32,19.54,nan,Active,Vertical,\"Welschap\",\"Tom van Steijn - Brabant Water\",\"Welschap\",\"Brabant Water\"\\n157616.48,383980.53,Br_Wa\"/welT_brabant_water_24-PP006\",-115.55,-267.26,24-PP006,0,B51D0332,\"01-05-1993 00:00\",18.74,18.88,nan,Active,Vertical,\"Welschap\",\"Tom van Steijn - Brabant Water\",\"Welschap\",\"Brabant Water\"\\n157337.3,384082.74,Br_Wa\"/welT_brabant_water_24-PP007\",-116.77,-253.54,24-PP007,0,B51D0327,\"17-10-1991 00:00\",19.73,17.56,nan,Active,Vertical,\"Welschap\",\"Tom van Steijn - Brabant Water\",\"Welschap\",\"Brabant Water\"\\n157180.43,384261.03,Br_Wa\"/welT_brabant_water_24-PP008\",-112.0,-256.21,24-PP008,0,B51D0301,\"01-10-1991 00:00\",18.89,19.38,nan,Active,Vertical,\"Welschap\",\"Tom van Steijn - Brabant Water\",\"Welschap\",\"Brabant Water\"\\n157001.52,384471.85,Br_Wa\"/welT_brabant_water_24-PP009\",-116.26,-251.61,24-PP009,0,B51D0215,\"11-09-1991 00:00\",20.39,20.53,nan,Active,Vertical,\"Welschap\",\"Tom van Steijn - Brabant Water\",\"Welschap\",\"Brabant Water\"\\n156790.26,384713.97,Br_Wa\"/welT_brabant_water_24-PP010\",-115.43,-255.64,24-PP010,0,B51D0216,\"01-08-1991 00:00\",19.54,19.62,nan,Active,Vertical,\"Welschap\",\"Tom van Steijn - Brabant Water\",\"Welschap\",\"Brabant Water\"\\n156627.43,384911.3,Br_Wa\"/welT_brabant_water_24-PP011\",-116.49,-255.25,24-PP011,0,B51D0210,\"15-07-1991 00:00\",19.1,19.22,nan,Active,Vertical,\"Welschap\",\"Tom van Steijn - Brabant Water\",\"Welschap\",\"Brabant Water \"\\n169214.91,366846.36,Br_Wa\"/welT_brabant_water_02-PP029\",-157.91,-197.92,02-PP029,0,B57E0638,\"02-11-2012 00:00\",28.23,27.9,nan,Active,Vertical,\"Budel diep\",\"Tom van Steijn - Brabant Water\",\"Budel\",\"Brabant Water\"\\n169139.9,366792.05,Br_Wa\"/welT_brabant_water_02-PP030\",-158.93,-197.71,02-PP030,0,B57E0639,\"20-12-2012 00:00\",28.29,27.89,nan,Active,Vertical,\"Budel diep\",\"Tom van Steijn - Brabant Water\",\"Budel\",\"Brabant Water\"\\n169062.81,366745.62,Br_Wa\"/welT_brabant_water_02-PP031\",-172.14,-199.66,02-PP031,0,B57E0640,\"05-02-2013 00:00\",28.29,27.91,nan,Active,Vertical,\"Budel diep\",\"Tom van Steijn - Brabant Water\",\"Budel\",\"Brabant Water\"\\n168975.23,366693.49,Br_Wa\"/welT_brabant_water_02-PP032\",-171.99,-199.97,02-PP032,0,B57E0641,\"26-02-2013 00:00\",28.33,27.99,nan,Active,Vertical,\"Budel diep\",\"Tom van Steijn - Brabant Water\",\"Budel\",\"Brabant Water\"\\n168883.95,366645.8,Br_Wa\"/welT_brabant_water_02-PP033\",-166.81,-199.91,02-PP033,0,B57E0642,\"30-11-2012 00:00\",28.39,28.0,nan,Active,Vertical,\"Budel diep\",\"Tom van Steijn - Brabant Water\",\"Budel\",\"Brabant Water\"\\n168776.04,366622.76,Br_Wa\"/welT_brabant_water_02-PP034\",-169.72,-200.05,02-PP034,0,B57E0643,\"15-10-2012 00:00\",28.35,28.0,nan,Active,Vertical,\"Budel diep\",\"Tom van Steijn - Brabant Water\",\"Budel\",\"Brabant Water\"\\n168782.29,366717.67,Br_Wa\"/welT_brabant_water_02-PP035\",-167.93,-198.56,02-PP035,0,B57E0644,\"03-04-2013 00:00\",28.39,28.02,nan,Active,Vertical,\"Budel diep\",\"Tom van Steijn - Brabant Water\",\"Budel\",\"Brabant Water\"\\n168746.53,366805.73,Br_Wa\"/welT_brabant_water_02-PP036\",-155.98,-198.5,02-PP036,0,B57E0645,\"30-05-2013 00:00\",28.4,28.02,nan,Active,Vertical,\"Budel diep\",\"Tom van Steijn - Brabant Water\",\"Budel\",\"Brabant Water\"\\n124703.0,393334.0,Br_Wa\"/welT_brabant_water_30-PP057\",1.0,0.0,30-PP057,0,B50E1392,\"25-01-2019 00:00\",999.0,999.0,nan,Active,Vertical,\"Gilze\",\"Tom van Steijn - Brabant Water\",\"Gilze\",\"Brabant Water\"\\n156498.3,414637.18,Br_Wa\"/welT_brabant_water_20-PP101\",-111.57,-118.87,20-PP101,0,B45B0518,\"26-06-2002 00:00\",5.23,3.53,nan,Active,Vertical,\"Nuland diep\",\"Tom van Steijn - Brabant Water\",\"Nuland\",\"Brabant Water\"\\n156522.08,414723.74,Br_Wa\"/welT_brabant_water_20-PP102\",-110.36,-118.96,20-PP102,0,B45B0519,\"20-06-2002 00:00\",5.24,3.67,nan,Active,Vertical,\"Nuland diep\",\"Tom van Steijn - Brabant Water\",\"Nuland\",\"Brabant Water\"\\n156588.55,414657.41,Br_Wa\"/welT_brabant_water_20-PP103\",-107.78,-116.64,20-PP103,0,B45B0520,\"29-08-2002 00:00\",5.56,3.95,nan,Active,Vertical,\"Nuland diep\",\"Tom van Steijn - Brabant Water\",\"Nuland\",\"Brabant Water\"\\n156647.7,414767.55,Br_Wa\"/welT_brabant_water_20-PP104\",-105.23,-114.44,20-PP104,0,B45B0521,\"04-09-2002 00:00\",5.56,3.94,nan,Active,Vertical,\"Nuland diep\",\"Tom van Steijn - Brabant Water\",\"Nuland\",\"Brabant Water\"\\n156656.84,414700.46,Br_Wa\"/welT_brabant_water_20-PP105\",-105.99,-114.86,20-PP105,0,B45B0522,\"23-07-2002 00:00\",5.74,4.23,nan,Active,Vertical,\"Nuland diep\",\"Tom van Steijn - Brabant Water\",\"Nuland\",\"Brabant Water\"\\n156732.19,414725.37,Br_Wa\"/welT_brabant_water_20-PP106\",-104.24,-113.04,20-PP106,0,B45B0523,\"07-06-2002 00:00\",6.46,4.9,nan,Active,Vertical,\"Nuland diep\",\"Tom van Steijn - Brabant Water\",\"Nuland\",\"Brabant Water\"\\n157022.99,414923.29,Br_Wa\"/welT_brabant_water_20-PP107\",-106.32,-118.05,20-PP107,0,B45B0524,\"15-10-2002 00:00\",5.95,4.34,nan,Active,Vertical,\"Nuland diep\",\"Tom van Steijn - Brabant Water\",\"Nuland\",\"Brabant Water\"\\n157110.87,414895.11,Br_Wa\"/welT_brabant_water_20-PP108\",-105.77,-117.62,20-PP108,0,B45B0525,\"14-11-2002 00:00\",5.78,4.3,nan,Active,Vertical,\"Nuland diep\",\"Tom van Steijn - Brabant Water\",\"Nuland\",\"Brabant Water\"\\n157204.34,414997.73,Br_Wa\"/welT_brabant_water_20-PP109\",-106.76,-116.52,20-PP109,0,B45B0526,\"10-11-2002 00:00\",5.58,4.1,nan,Active,Vertical,\"Nuland diep\",\"Tom van Steijn - Brabant Water\",\"Nuland\",\"Brabant Water\"\\n157206.46,414916.11,Br_Wa\"/welT_brabant_water_20-PP110\",-105.3,-116.67,20-PP110,0,B45B0527,\"13-01-2003 00:00\",5.53,4.04,nan,Active,Vertical,\"Nuland diep\",\"Tom van Steijn - Brabant Water\",\"Nuland\",\"Brabant Water\"\\n157232.97,414843.77,Br_Wa\"/welT_brabant_water_20-PP111\",-106.12,-117.43,20-PP111,0,B45B0517,\"31-10-2002 00:00\",5.77,4.29,nan,Active,Vertical,\"Nuland diep\",\"Tom van Steijn - Brabant Water\",\"Nuland\",\"Brabant Water\"\\n157267.92,414753.19,Br_Wa\"/welT_brabant_water_20-PP112\",-105.35,-114.38,20-PP112,0,B45B0512,\"23-10-2002 00:00\",5.82,4.14,nan,Active,Vertical,\"Nuland diep\",\"Tom van Steijn - Brabant Water\",\"Nuland\",\"Brabant Water\"\\n156881.24,414508.22,Br_Wa\"/welT_brabant_water_20-PP113\",-106.97,-130.52,20-PP113,0,B45B0370,\"07-04-1997 00:00\",5.38,3.95,nan,Active,Vertical,\"Nuland diep\",\"Tom van Steijn - Brabant Water\",\"Nuland\",\"Brabant Water\"\\n156983.4,414539.41,Br_Wa\"/welT_brabant_water_20-PP114\",-102.93,-125.53,20-PP114,0,B45B0368,\"07-04-1997 00:00\",5.97,4.6,nan,Active,Vertical,\"Nuland diep\",\"Tom van Steijn - Brabant Water\",\"Nuland\",\"Brabant Water\"\\n157094.98,414579.88,Br_Wa\"/welT_brabant_water_20-PP115\",-106.17,-125.32,20-PP115,0,B45B0369,\"07-04-1997 00:00\",5.68,4.38,nan,Active,Vertical,\"Nuland diep\",\"Tom van Steijn - Brabant Water\",\"Nuland\",\"Brabant Water\"\\n156675.21,414435.1,Br_Wa\"/welT_brabant_water_20-PP251\",-29.12,-59.6,20-PP251,0,B45B0372,\"07-04-1997 00:00\",5.4,3.84,nan,Active,Vertical,\"Nuland middeldiep\",\"Tom van Steijn - Brabant Water\",\"Nuland\",\"Brabant Water\"\\n156771.39,414473.81,Br_Wa\"/welT_brabant_water_20-PP252\",-32.26,-63.53,20-PP252,0,B45B0371,\"07-04-1997 00:00\",5.57,4.08,nan,Active,Vertical,\"Nuland middeldiep\",\"Tom van Steijn - Brabant Water\",\"Nuland\",\"Brabant Water\"\\n156542.89,414294.89,Br_Wa\"/welT_brabant_water_20-PP253\",-42.76,-65.79,20-PP253,0,B45B0446,\"16-03-1999 00:00\",5.21,4.19,nan,Active,Vertical,\"Nuland middeldiep\",\"Tom van Steijn - Brabant Water\",\"Nuland\",\"Brabant Water\"\\n156642.06,414325.27,Br_Wa\"/welT_brabant_water_20-PP254\",-45.62,-70.63,20-PP254,0,B45B0513,\"19-08-2002 00:00\",5.37,4.41,nan,Active,Vertical,\"Nuland middeldiep\",\"Tom van Steijn - Brabant Water\",\"Nuland\",\"Brabant Water\"\\n156744.21,414350.26,Br_Wa\"/welT_brabant_water_20-PP255\",-44.75,-59.64,20-PP255,0,B45B0514,\"19-08-2002 00:00\",5.76,4.81,nan,Active,Vertical,\"Nuland middeldiep\",\"Tom van Steijn - Brabant Water\",\"Nuland\",\"Brabant Water\"\\n156844.3,414387.07,Br_Wa\"/welT_brabant_water_20-PP256\",-45.78,-66.04,20-PP256,0,B45B0530,\"11-09-2002 00:00\",5.66,4.74,nan,Active,Vertical,\"Nuland middeldiep\",\"Tom van Steijn - Brabant Water\",\"Nuland\",\"Brabant Water\"\\n156972.14,414411.38,Br_Wa\"/welT_brabant_water_20-PP257\",-50.29,-64.87,20-PP257,0,B45B0516,\"27-08-2002 00:00\",6.63,5.17,nan,Active,Vertical,\"Nuland middeldiep\",\"Tom van Steijn - Brabant Water\",\"Nuland\",\"Brabant Water\"\\n157070.81,414440.6,Br_Wa\"/welT_brabant_water_20-PP258\",-50.75,-65.16,20-PP258,0,B45B0435,\"16-04-1999 00:00\",6.74,5.13,nan,Active,Vertical,\"Nuland middeldiep\",\"Tom van Steijn - Brabant Water\",\"Nuland\",\"Brabant Water\"\\n157161.1,414465.86,Br_Wa\"/welT_brabant_water_20-PP259\",-46.34,-60.61,20-PP259,0,B45B0436,\"29-03-1999 00:00\",5.39,3.71,nan,Active,Vertical,\"Nuland middeldiep\",\"Tom van Steijn - Brabant Water\",\"Nuland\",\"Brabant Water\"\\n157249.82,414489.66,Br_Wa\"/welT_brabant_water_20-PP260\",-50.76,-66.01,20-PP260,0,B45B0437,\"01-04-1999 00:00\",5.69,4.19,nan,Active,Vertical,\"Nuland middeldiep\",\"Tom van Steijn - Brabant Water\",\"Nuland\",\"Brabant Water\"\\n157338.32,414509.0,Br_Wa\"/welT_brabant_water_20-PP261\",-38.35,-60.03,20-PP261,0,B45B0438,\"22-03-1999 00:00\",5.77,4.17,nan,Active,Vertical,\"Nuland middeldiep\",\"Tom van Steijn - Brabant Water\",\"Nuland\",\"Brabant Water\"\\n96546.3,391385.82,Br_Wa\"/welT_brabant_water_35-PP008\",-97.03,-157.03,35-PP008,0,B49F0334,\"01-01-1980 00:00\",13.73,14.06,nan,Active,Vertical,\"Schijf\",\"Tom van Steijn - Brabant Water\",\"Schijf\",\"Brabant Water\"\\n96675.45,391513.56,Br_Wa\"/welT_brabant_water_35-PP009\",-94.48,-148.67,35-PP009,0,B49F0209,\"01-01-1971 00:00\",13.29,13.35,nan,Active,Vertical,\"Schijf\",\"Tom van Steijn - Brabant Water\",\"Schijf\",\"Brabant Water\"\\n96894.36,391542.07,Br_Wa\"/welT_brabant_water_35-PP010\",-96.55,-150.46,35-PP010,0,B49F0210,\"01-01-1971 00:00\",12.99,13.11,nan,Active,Vertical,\"Schijf\",\"Tom van Steijn - Brabant Water\",\"Schijf\",\"Brabant Water\"\\n96818.18,391321.54,Br_Wa\"/welT_brabant_water_35-PP011\",-93.17,-160.56,35-PP011,0,B49F0211,\"01-01-1971 00:00\",13.42,13.66,nan,Active,Vertical,\"Schijf\",\"Tom van Steijn - Brabant Water\",\"Schijf\",\"Brabant Water\"\\n96744.76,391048.29,Br_Wa\"/welT_brabant_water_35-PP012\",-91.35,-150.81,35-PP012,0,B49F0212,\"01-01-1971 00:00\",13.56,13.83,nan,Active,Vertical,\"Schijf\",\"Tom van Steijn - Brabant Water\",\"Schijf\",\"Brabant Water\"\\n97192.35,397118.39,Br_Wa\"/welT_brabant_water_36-PP001\",-111.9,-164.59,36-PP001,0,B49F0295,\"01-01-1976 00:00\",9.12,8.6,nan,Active,Vertical,\"Seppe\",\"Tom van Steijn - Brabant Water\",\"Seppe\",\"Brabant Water\"\\n97296.59,397137.54,Br_Wa\"/welT_brabant_water_36-PP002\",-112.51,-162.67,36-PP002,0,B49F0289,\"01-01-1974 00:00\",9.11,7.08,nan,Active,Vertical,\"Seppe\",\"Tom van Steijn - Brabant Water\",\"Seppe\",\"Brabant Water\"\\n97443.32,397163.69,Br_Wa\"/welT_brabant_water_36-PP003\",-111.02,-158.27,36-PP003,0,B49F0200,\"01-01-1969 00:00\",8.34,6.92,nan,Active,Vertical,\"Seppe\",\"Tom van Steijn - Brabant Water\",\"Seppe\",\"Brabant Water\"\\n97550.18,397194.2,Br_Wa\"/welT_brabant_water_36-PP004\",-117.4,-167.4,36-PP004,0,B49F0236,\"01-01-1970 00:00\",8.32,8.38,nan,Active,Vertical,\"Seppe\",\"Tom van Steijn - Brabant Water\",\"Seppe\",\"Brabant Water\"\\n97665.79,397224.27,Br_Wa\"/welT_brabant_water_36-PP005\",-115.56,-165.81,36-PP005,0,B49F0237,\"01-01-1971 00:00\",8.45,8.7,nan,Active,Vertical,\"Seppe\",\"Tom van Steijn - Brabant Water\",\"Seppe\",\"Brabant Water\"\\n97781.52,397255.64,Br_Wa\"/welT_brabant_water_36-PP006\",-112.24,-162.01,36-PP006,0,B49F0201,\"01-01-1969 00:00\",8.52,7.07,nan,Active,Vertical,\"Seppe\",\"Tom van Steijn - Brabant Water\",\"Seppe\",\"Brabant Water\"\\n97898.75,397288.71,Br_Wa\"/welT_brabant_water_36-PP007\",-111.74,-161.71,36-PP007,0,B49F0290,\"01-01-1973 00:00\",8.03,5.99,nan,Active,Vertical,\"Seppe\",\"Tom van Steijn - Brabant Water\",\"Seppe\",\"Brabant Water\"\\n97840.19,397416.55,Br_Wa\"/welT_brabant_water_36-PP008\",-111.56,-164.25,36-PP008,0,B49F0296,\"01-01-1976 00:00\",8.33,7.07,nan,Active,Vertical,\"Seppe\",\"Tom van Steijn - Brabant Water\",\"Seppe\",\"Brabant Water\"\\n97781.58,397537.28,Br_Wa\"/welT_brabant_water_36-PP009\",-115.19,-164.94,36-PP009,0,B49F0184,\"01-01-1966 00:00\",8.27,6.83,nan,Active,Vertical,\"Seppe\",\"Tom van Steijn - Brabant Water\",\"Seppe\",\"Brabant Water\"\\n97643.46,397609.91,Br_Wa\"/welT_brabant_water_36-PP010\",-115.66,-163.56,36-PP010,0,B49F0371,\"01-01-1988 00:00\",7.78,7.6,nan,Active,Vertical,\"Seppe\",\"Tom van Steijn - Brabant Water\",\"Seppe\",\"Brabant Water\"\\n97668.91,397778.06,Br_Wa\"/welT_brabant_water_36-PP011\",-117.54,-168.16,36-PP011,0,B49F0175,\"01-01-1966 00:00\",8.22,6.13,nan,Active,Vertical,\"Seppe\",\"Tom van Steijn - Brabant Water\",\"Seppe\",\"Brabant Water\"\\n97600.6,397917.74,Br_Wa\"/welT_brabant_water_36-PP012\",-117.92,-167.74,36-PP012,0,B49F0174,\"01-01-1965 00:00\",8.21,6.77,nan,Active,Vertical,\"Seppe\",\"Tom van Steijn - Brabant Water\",\"Seppe\",\"Brabant Water\"\\n97505.8,397815.76,Br_Wa\"/welT_brabant_water_36-PP013\",-117.64,-166.58,36-PP013,0,B49F0180,\"01-01-1965 00:00\",8.91,6.84,nan,Active,Vertical,\"Seppe\",\"Tom van Steijn - Brabant Water\",\"Seppe\",\"Brabant Water\"\\n97444.07,397715.37,Br_Wa\"/welT_brabant_water_36-PP014\",-116.35,-166.16,36-PP014,0,B49F0186,\"01-01-1966 00:00\",9.54,8.0,nan,Active,Vertical,\"Seppe\",\"Tom van Steijn - Brabant Water\",\"Seppe\",\"Brabant Water\"\\n97391.41,397576.41,Br_Wa\"/welT_brabant_water_36-PP015\",-114.09,-166.78,36-PP015,0,B49F0297,\"01-01-1976 00:00\",9.3,8.18,nan,Active,Vertical,\"Seppe\",\"Tom van Steijn - Brabant Water\",\"Seppe\",\"Brabant Water\"\\n97361.12,397463.07,Br_Wa\"/welT_brabant_water_36-PP016\",-115.57,-165.22,36-PP016,0,B49F0185,\"01-01-1966 00:00\",9.09,7.82,nan,Active,Vertical,\"Seppe\",\"Tom van Steijn - Brabant Water\",\"Seppe\",\"Brabant Water\"\\n97302.85,397325.06,Br_Wa\"/welT_brabant_water_36-PP017\",-113.98,-164.07,36-PP017,0,B49F0189,\"01-01-1967 00:00\",9.02,7.85,nan,Active,Vertical,\"Seppe\",\"Tom van Steijn - Brabant Water\",\"Seppe\",\"Brabant Water\"\\n97241.93,397199.02,Br_Wa\"/welT_brabant_water_36-PP018\",-111.08,-160.66,36-PP018,0,B49F0188,\"01-01-1967 00:00\",9.31,8.09,nan,Active,Vertical,\"Seppe\",\"Tom van Steijn - Brabant Water\",\"Seppe\",\"Brabant Water\"\\n97199.16,397323.67,Br_Wa\"/welT_brabant_water_36-PP019\",-112.57,-160.78,36-PP019,0,B49F0412,\"01-01-1993 00:00\",10.19,8.59,nan,Active,Vertical,\"Seppe\",\"Tom van Steijn - Brabant Water\",\"Seppe\",\"Brabant Water\"\\n97083.81,397299.08,Br_Wa\"/welT_brabant_water_36-PP020\",-111.69,-158.06,36-PP020,0,B49F0413,\"01-01-1993 00:00\",10.51,8.96,nan,Active,Vertical,\"Seppe\",\"Tom van Steijn - Brabant Water\",\"Seppe\",\"Brabant Water\"\\n97075.74,397378.28,Br_Wa\"/welT_brabant_water_36-PP021\",-111.83,-158.07,36-PP021,0,B49F0414,\"01-01-1993 00:00\",11.26,9.68,nan,Active,Vertical,\"Seppe\",\"Tom van Steijn - Brabant Water\",\"Seppe\",\"Brabant Water\"\\n97399.35,397386.52,Br_Wa\"/welT_brabant_water_36-PPV01\",-114.26,-164.1,36-PPV01,0,nan,\"01-01-1924 00:00\",nan,7.55,nan,Abandoned,Vertical,\"Seppe/Virtuele put\",\"Tom van Steijn - Brabant Water\",\"Seppe\",\"Brabant Water\"\\n129026.03,396149.71,Br_Wa\"/welT_brabant_water_39-PP001\",-57.5,-88.5,39-PP001,0,B50E0186,\"01-01-1934 00:00\",13.06,12.5,nan,Abandoned,Vertical,\"Tilburg\",\"Tom van Steijn - Brabant Water\",\"Tilburg\",\"Brabant Water\"\\n130344.71,396073.72,Br_Wa\"/welT_brabant_water_39-PP002\",-72.7,-156.7,39-PP002,0,B50F0684,\"01-05-2003 00:00\",14.3,14.14,nan,Active,Vertical,\"Tilburg\",\"Tom van Steijn - Brabant Water\",\"Tilburg\",\"Brabant Water\"\\n130310.28,395935.14,Br_Wa\"/welT_brabant_water_39-PP003\",-88.1,-121.7,39-PP003,0,B50F0546,\"01-09-2005 00:00\",13.9,14.95,nan,Active,Vertical,\"Tilburg\",\"Tom van Steijn - Brabant Water\",\"Tilburg\",\"Brabant Water\"\\n130368.66,395699.84,Br_Wa\"/welT_brabant_water_39-PP004\",-85.64,-149.14,39-PP004,0,B50F1429,\"01-05-1999 00:00\",13.86,13.7,nan,Active,Vertical,\"Tilburg\",\"Tom van Steijn - Brabant Water\",\"Tilburg\",\"Brabant Water\"\\n129988.47,396028.37,Br_Wa\"/welT_brabant_water_39-PP005\",-151.96,-165.46,39-PP005,0,B50E0343,\"03-06-1988 00:00\",13.14,12.98,nan,Active,Vertical,\"Tilburg\",\"Tom van Steijn - Brabant Water\",\"Tilburg\",\"Brabant Water\"\\n130073.04,395882.39,Br_Wa\"/welT_brabant_water_39-PP006\",-53.12,-100.35,39-PP006,0,B50F1430,\"01-01-1974 00:00\",13.92,13.78,nan,Active,Vertical,\"Tilburg\",\"Tom van Steijn - Brabant Water\",\"Tilburg\",\"Brabant Water\"\\n129958.23,395680.98,Br_Wa\"/welT_brabant_water_39-PP007\",-64.11,-89.11,39-PP007,0,B50E0155,\"01-01-1974 00:00\",13.79,13.57,nan,Active,Vertical,\"Tilburg\",\"Tom van Steijn - Brabant Water\",\"Tilburg\",\"Brabant Water\"\\n129497.18,395548.19,Br_Wa\"/welT_brabant_water_39-PP008\",-107.55,-122.55,39-PP008,0,B50E1212,\"01-08-1997 00:00\",13.45,13.49,nan,Active,Vertical,\"Tilburg\",\"Tom van Steijn - Brabant Water\",\"Tilburg\",\"Brabant Water\"\\n129591.38,395395.79,Br_Wa\"/welT_brabant_water_39-PP009\",-56.24,-113.24,39-PP009,0,B50E1213,\"01-08-1997 00:00\",13.76,13.6,nan,Active,Vertical,\"Tilburg\",\"Tom van Steijn - Brabant Water\",\"Tilburg\",\"Brabant Water\"\\n129695.64,395199.62,Br_Wa\"/welT_brabant_water_39-PP010\",-61.25,-112.65,39-PP010,0,B50E1214,\"01-08-1997 00:00\",13.75,13.61,nan,Active,Vertical,\"Tilburg\",\"Tom van Steijn - Brabant Water\",\"Tilburg\",\"Brabant Water\"\\n128307.19,394637.7,Br_Wa\"/welT_brabant_water_39-PP011\",-107.79,-122.79,39-PP011,0,B50E0565,\"01-04-2003 00:00\",14.21,13.97,nan,Active,Vertical,\"Tilburg\",\"Tom van Steijn - Brabant Water\",\"Tilburg\",\"Brabant Water\"\\n128152.95,394634.45,Br_Wa\"/welT_brabant_water_39-PP012\",-101.95,-129.65,39-PP012,0,B50E0344,\"01-06-1988 00:00\",13.35,13.27,nan,Active,Vertical,\"Tilburg\",\"Tom van Steijn - Brabant Water\",\"Tilburg\",\"Brabant Water\"\\n127411.6,394679.3,Br_Wa\"/welT_brabant_water_39-PP013\",-112.58,-127.0,39-PP013,0,B50E0347,\"01-08-1989 00:00\",14.0,14.44,nan,Active,Vertical,\"Tilburg\",\"Tom van Steijn - Brabant Water\",\"Tilburg\",\"Brabant Water\"\\n128911.12,396184.24,Br_Wa\"/welT_brabant_water_39-PP057\",-19.7,-34.05,39-PP057,0,B50E0187,\"01-01-1935 00:00\",13.3,13.0,nan,Active,Vertical,\"Tilburg\",\"Tom van Steijn - Brabant Water\",\"Tilburg\",\"Brabant Water\"\\n129299.86,395991.54,Br_Wa\"/welT_brabant_water_39-PP058\",-57.58,-65.88,39-PP058,0,B50E0131,\"12-10-1986 00:00\",13.67,13.52,nan,Active,Vertical,\"Tilburg\",\"Tom van Steijn - Brabant Water\",\"Tilburg\",\"Brabant Water\"\\n129276.01,395876.93,Br_Wa\"/welT_brabant_water_39-PP059\",-54.3,-80.3,39-PP059,0,B50E0130,\"01-08-1964 00:00\",13.7,13.56,nan,Active,Vertical,\"Tilburg\",\"Tom van Steijn - Brabant Water\",\"Tilburg\",\"Brabant Water\"\\n129412.78,395726.73,Br_Wa\"/welT_brabant_water_39-PP060\",-19.78,-62.28,39-PP060,0,B50E0330,\"01-11-1986 00:00\",13.72,13.58,nan,Inactive,Vertical,\"Tilburg\",\"Tom van Steijn - Brabant Water\",\"Tilburg\",\"Brabant Water\"\\n129371.06,395550.18,Br_Wa\"/welT_brabant_water_39-PP061\",-53.82,-67.52,39-PP061,0,B50E0127,\"01-06-1964 00:00\",13.88,13.76,nan,Active,Vertical,\"Tilburg\",\"Tom van Steijn - Brabant Water\",\"Tilburg\",\"Brabant Water\"\\n128316.82,395768.41,Br_Wa\"/welT_brabant_water_39-PP062\",-54.55,-71.16,39-PP062,0,B50E1216,\"01-01-1995 00:00\",12.45,12.18,nan,Active,Vertical,\"Tilburg\",\"Tom van Steijn - Brabant Water\",\"Tilburg\",\"Brabant Water\"\\n128382.71,395597.5,Br_Wa\"/welT_brabant_water_39-PP063\",-57.88,-77.28,39-PP063,0,B50E0113,\"01-09-1963 00:00\",12.72,12.57,nan,Active,Vertical,\"Tilburg\",\"Tom van Steijn - Brabant Water\",\"Tilburg\",\"Brabant Water\"\\n128330.46,395271.35,Br_Wa\"/welT_brabant_water_39-PP064\",-53.49,-77.38,39-PP064,0,B50E0375,\"28-06-1994 00:00\",13.21,13.07,nan,Active,Vertical,\"Tilburg\",\"Tom van Steijn - Brabant Water\",\"Tilburg\",\"Brabant Water\"\\n128186.55,395459.17,Br_Wa\"/welT_brabant_water_39-PP065\",-54.25,-73.1,39-PP065,0,B50E0378,\"01-12-1995 00:00\",13.0,13.2,nan,Active,Vertical,\"Tilburg\",\"Tom van Steijn - Brabant Water\",\"Tilburg\",\"Brabant Water\"\\n128120.52,395262.5,Br_Wa\"/welT_brabant_water_39-PP066\",-52.11,-78.18,39-PP066,0,B50E0376,\"28-06-1994 00:00\",12.82,12.65,nan,Active,Vertical,\"Tilburg\",\"Tom van Steijn - Brabant Water\",\"Tilburg\",\"Brabant Water\"\\n128540.11,395207.07,Br_Wa\"/welT_brabant_water_39-PP067\",-53.75,-76.75,39-PP067,0,B50E1283,\"25-09-2013 00:00\",13.3,12.91,nan,Active,Vertical,\"Tilburg\",\"Tom van Steijn - Brabant Water\",\"Tilburg\",\"Brabant Water\"\\n128640.94,395044.91,Br_Wa\"/welT_brabant_water_39-PP068\",-53.74,-75.64,39-PP068,0,B50E0411,\"01-05-1982 00:00\",13.91,14.08,nan,Active,Vertical,\"Tilburg\",\"Tom van Steijn - Brabant Water\",\"Tilburg\",\"Brabant Water\"\\n128891.77,394985.34,Br_Wa\"/welT_brabant_water_39-PP069\",-54.15,-72.65,39-PP069,0,B50E1284,\"02-10-2013 00:00\",12.95,12.5,nan,Active,Vertical,\"Tilburg\",\"Tom van Steijn - Brabant Water\",\"Tilburg\",\"Brabant Water\"\\n128699.54,394829.64,Br_Wa\"/welT_brabant_water_39-PP070\",-57.94,-80.4,39-PP070,0,B50E0126,\"01-03-1964 00:00\",14.06,13.91,nan,Active,Vertical,\"Tilburg\",\"Tom van Steijn - Brabant Water\",\"Tilburg\",\"Brabant Water\"\\n128470.68,394981.93,Br_Wa\"/welT_brabant_water_39-PP071\",-60.54,-74.94,39-PP071,0,B50E1285,\"18-09-2013 00:00\",14.11,13.65,nan,Active,Vertical,\"Tilburg\",\"Tom van Steijn - Brabant Water\",\"Tilburg\",\"Brabant Water\"\\n128291.47,394923.93,Br_Wa\"/welT_brabant_water_39-PP072\",-63.11,-80.11,39-PP072,0,B50E1286,\"11-09-2013 00:00\",13.79,13.32,nan,Active,Vertical,\"Tilburg\",\"Tom van Steijn - Brabant Water\",\"Tilburg\",\"Brabant Water\"\\n127887.19,394728.35,Br_Wa\"/welT_brabant_water_39-PP073\",-58.25,-78.0,39-PP073,0,B50E1220,\"01-08-1989 00:00\",14.0,13.3,nan,Active,Vertical,\"Tilburg\",\"Tom van Steijn - Brabant Water\",\"Tilburg\",\"Brabant Water\"\\n127656.98,394703.29,Br_Wa\"/welT_brabant_water_39-PP074\",-55.89,-75.5,39-PP074,0,B50E1219,\"01-08-1989 00:00\",14.0,13.51,nan,Active,Vertical,\"Tilburg\",\"Tom van Steijn - Brabant Water\",\"Tilburg\",\"Brabant Water\"\\n128728.32,396110.57,Br_Wa\"/welT_brabant_water_39-PPD01\",-55.17,-81.57,39-PPD01,0,B50E0081,\"01-11-1929 00:00\",13.2,12.93,nan,Abandoned,Vertical,\"Tilburg\",\"Tom van Steijn - Brabant Water\",\"Tilburg\",\"Brabant Water\"\\n128832.7,396200.96,Br_Wa\"/welT_brabant_water_39-PPD04\",-55.5,-90.5,39-PPD04,0,B50E0188,\"01-01-1935 00:00\",13.25,13.0,nan,Abandoned,Vertical,\"Tilburg\",\"Tom van Steijn - Brabant Water\",\"Tilburg\",\"Brabant Water\"\\n128680.0,396237.0,Br_Wa\"/welT_brabant_water_39-PPD05\",-60.4,-93.0,39-PPD05,0,B50E0189,\"01-01-1935 00:00\",13.0,12.5,nan,Abandoned,Vertical,\"Tilburg\",\"Tom van Steijn - Brabant Water\",\"Tilburg\",\"Brabant Water\"\\n128629.3,396247.4,Br_Wa\"/welT_brabant_water_39-PPD06\",-31.44,-76.0,39-PPD06,0,B50E0190,\"01-01-1935 00:00\",13.09,13.0,nan,Abandoned,Vertical,\"Tilburg\",\"Tom van Steijn - Brabant Water\",\"Tilburg\",\"Brabant Water\"\\n128536.16,396267.97,Br_Wa\"/welT_brabant_water_39-PPD07\",-53.55,-88.85,39-PPD07,0,B50E0191,\"01-01-1974 00:00\",13.25,13.0,nan,Abandoned,Vertical,\"Tilburg\",\"Tom van Steijn - Brabant Water\",\"Tilburg\",\"Brabant Water\"\\n128753.55,396168.9,Br_Wa\"/welT_brabant_water_39-PPD08\",-18.0,-35.3,39-PPD08,0,B50E0192,\"01-01-1935 00:00\",13.25,12.5,nan,Abandoned,Vertical,\"Tilburg\",\"Tom van Steijn - Brabant Water\",\"Tilburg\",\"Brabant Water\"\\n129227.0,395325.0,Br_Wa\"/welT_brabant_water_39-PPD09\",-53.75,-77.75,39-PPD09,0,B50E0124,\"01-05-1969 00:00\",13.49,13.5,nan,Abandoned,Vertical,\"Tilburg\",\"Tom van Steijn - Brabant Water\",\"Tilburg\",\"Brabant Water\"\\n129329.0,395396.0,Br_Wa\"/welT_brabant_water_39-PPD10\",-52.5,-72.5,39-PPD10,0,B50E1211,\"01-01-1964 00:00\",13.85,13.5,nan,Abandoned,Vertical,\"Tilburg\",\"Tom van Steijn - Brabant Water\",\"Tilburg\",\"Brabant Water\"\\n129313.45,395662.63,Br_Wa\"/welT_brabant_water_39-PPD12\",-53.88,-72.88,39-PPD12,0,B50E0128,\"01-06-1964 00:00\",13.31,13.62,nan,Abandoned,Vertical,\"Tilburg\",\"Tom van Steijn - Brabant Water\",\"Tilburg\",\"Brabant Water\"\\n129974.0,396108.0,Br_Wa\"/welT_brabant_water_39-PPD123\",-984.01,-985.01,39-PPD123,0,B50E1215,\"01-01-1974 00:00\",14.03,13.99,nan,Abandoned,Vertical,\"Tilburg\",\"Tom van Steijn - Brabant Water\",\"Tilburg\",\"Brabant Water\"\\n129302.31,395773.24,Br_Wa\"/welT_brabant_water_39-PPD13\",-57.1,-82.1,39-PPD13,0,B50E0129,\"01-06-1964 00:00\",13.69,13.9,nan,Abandoned,Vertical,\"Tilburg\",\"Tom van Steijn - Brabant Water\",\"Tilburg\",\"Brabant Water\"\\n128299.0,394648.0,Br_Wa\"/welT_brabant_water_39-PPD142\",-52.04,-72.04,39-PPD142,0,B50E1399,\"01-01-1970 00:00\",13.95,14.31,nan,Abandoned,Vertical,\"Tilburg\",\"Tom van Steijn - Brabant Water\",\"Tilburg\",\"Brabant Water\"\\n130775.0,396126.0,Br_Wa\"/welT_brabant_water_39-PPD20\",-984.32,-985.32,39-PPD20,0,B50F0101,\"01-01-1974 00:00\",13.85,13.68,nan,Abandoned,Vertical,\"Tilburg\",\"Tom van Steijn - Brabant Water\",\"Tilburg\",\"Brabant Water\"\\n130230.0,396100.0,Br_Wa\"/welT_brabant_water_39-PPD30\",-983.64,-984.64,39-PPD30,0,B50F1431,\"01-01-1896 00:00\",14.36,14.36,nan,Abandoned,Vertical,\"Tilburg\",\"Tom van Steijn - Brabant Water\",\"Tilburg\",\"Brabant Water\"\\n130230.0,396100.0,Br_Wa\"/welT_brabant_water_39-PPD30\",-983.64,-984.64,39-PPD30,0,B50F1431,\"01-01-1901 00:00\",14.36,14.36,nan,Abandoned,Vertical,\"Tilburg\",\"Jelle van Sijl - Brabant Water\",\"Tilburg\",\"Brabant Water\"\\n128554.57,395211.15,Br_Wa\"/welT_brabant_water_39-PPD34\",-53.54,-78.54,39-PPD34,0,B50E0125,\"01-03-1964 00:00\",13.41,13.46,nan,Abandoned,Vertical,\"Tilburg\",\"Tom van Steijn - Brabant Water\",\"Tilburg\",\"Brabant Water\"\\n128875.72,394983.22,Br_Wa\"/welT_brabant_water_39-PPD38\",-51.76,-71.46,39-PPD38,0,B50E0410,\"01-01-1971 00:00\",13.28,13.24,nan,Abandoned,Vertical,\"Tilburg\",\"Tom van Steijn - Brabant Water\",\"Tilburg\",\"Brabant Water\"\\n128490.71,394986.07,Br_Wa\"/welT_brabant_water_39-PPD40\",-41.68,-72.03,39-PPD40,0,B50E0412,\"01-06-1970 00:00\",14.24,14.32,nan,Abandoned,Vertical,\"Tilburg\",\"Tom van Steijn - Brabant Water\",\"Tilburg\",\"Brabant Water\"\\n128292.34,394929.31,Br_Wa\"/welT_brabant_water_39-PPD41\",-58.18,-78.18,39-PPD41,0,B50E0413,\"01-06-1970 00:00\",13.93,14.02,nan,Abandoned,Vertical,\"Tilburg\",\"Tom van Steijn - Brabant Water\",\"Tilburg\",\"Brabant Water\"\\n128504.28,394640.07,Br_Wa\"/welT_brabant_water_39-PPD43\",-52.43,-72.43,39-PPD43,0,B50E1217,\"01-08-1970 00:00\",14.0,14.33,nan,Abandoned,Vertical,\"Tilburg\",\"Tom van Steijn - Brabant Water\",\"Tilburg\",\"Brabant Water\"\\n128715.06,394685.44,Br_Wa\"/welT_brabant_water_39-PPD44\",-50.46,-75.46,39-PPD44,0,B50E1218,\"01-08-1970 00:00\",14.35,14.54,nan,Abandoned,Vertical,\"Tilburg\",\"Tom van Steijn - Brabant Water\",\"Tilburg\",\"Brabant Water\"\\n133105.6,409622.5,Br_Wa\"/welT_brabant_water_37-PP005\",-9.71,-34.03,37-PP005,0,B44H0044,\"01-01-1966 00:00\",3.04,2.59,nan,Abandoned,Vertical,\"Waalwijk\",\"Tom van Steijn - Brabant Water\",\"Waalwijk\",\"Brabant Water\"\\n133157.3,409548.9,Br_Wa\"/welT_brabant_water_37-PP060\",-20.85,-35.85,37-PP060,0,B44H0065,\"01-01-1974 00:00\",3.15,2.86,nan,Active,Vertical,\"Waalwijk\",\"Tom van Steijn - Brabant Water\",\"Waalwijk\",\"Brabant Water\"\\n133164.5,409472.6,Br_Wa\"/welT_brabant_water_37-PP061\",-18.71,-33.71,37-PP061,0,B44H0064,\"01-01-1974 00:00\",3.29,2.59,nan,Active,Vertical,\"Waalwijk\",\"Tom van Steijn - Brabant Water\",\"Waalwijk\",\"Brabant Water\"\\n133122.6,409435.0,Br_Wa\"/welT_brabant_water_37-PP062\",-21.48,-37.98,37-PP062,0,B44H0090,\"01-01-1977 00:00\",3.42,3.1,nan,Active,Vertical,\"Waalwijk\",\"Tom van Steijn - Brabant Water\",\"Waalwijk\",\"Brabant Water\"\\n133117.6,409481.1,Br_Wa\"/welT_brabant_water_37-PP063\",-21.2,-36.2,37-PP063,0,B44H0107,\"01-01-1980 00:00\",3.3,2.65,nan,Active,Vertical,\"Waalwijk\",\"Tom van Steijn - Brabant Water\",\"Waalwijk\",\"Brabant Water\"\\n133109.2,409574.6,Br_Wa\"/welT_brabant_water_37-PP065\",-21.75,-39.25,37-PP065,0,B44H0106,\"01-01-1980 00:00\",3.1,2.53,nan,Active,Vertical,\"Waalwijk\",\"Tom van Steijn - Brabant Water\",\"Waalwijk\",\"Brabant Water\"\\n133152.5,409599.2,Br_Wa\"/welT_brabant_water_37-PP066\",-23.49,-39.99,37-PP066,0,B44H0104,\"01-01-1980 00:00\",3.01,2.3,nan,Active,Vertical,\"Waalwijk\",\"Tom van Steijn - Brabant Water\",\"Waalwijk\",\"Brabant Water\"\\n133147.7,409648.9,Br_Wa\"/welT_brabant_water_37-PP067\",-18.41,-34.41,37-PP067,0,B44H0105,\"01-01-1980 00:00\",2.99,2.43,nan,Active,Vertical,\"Waalwijk\",\"Tom van Steijn - Brabant Water\",\"Waalwijk\",\"Brabant Water\"\\n133133.59,409560.35,Br_Wa\"/welT_brabant_water_37-PPV01\",-19.5,-36.48,37-PPV01,0,nan,\"01-01-1955 00:00\",nan,2.63,nan,Abandoned,Vertical,\"Waalwijk/Virtuele put\",\"Tom van Steijn - Brabant Water\",\"Waalwijk\",\"Brabant Water\"\\n83926.97,394050.47,Br_Wa\"/welT_brabant_water_38-PP001\",-101.59,-136.94,38-PP001,0,B49E0079,\"01-01-1966 00:00\",5.11,3.79,nan,Active,Vertical,\"Wouw\",\"Tom van Steijn - Brabant Water\",\"Wouw\",\"Brabant Water\"\\n84089.0,394007.0,Br_Wa\"/welT_brabant_water_38-PP002A\",-104.09,-139.12,38-PP002A,0,B49E0169,\"01-01-1974 00:00\",4.49,3.24,nan,Active,Vertical,\"Wouw\",\"Tom van Steijn - Brabant Water\",\"Wouw\",\"Brabant Water\"\\n84210.09,393998.03,Br_Wa\"/welT_brabant_water_38-PP003\",-102.64,-142.5,38-PP003,0,B49E0101,\"01-01-1968 00:00\",4.1,2.82,nan,Active,Vertical,\"Wouw\",\"Tom van Steijn - Brabant Water\",\"Wouw\",\"Brabant Water\"\\n84053.54,393921.27,Br_Wa\"/welT_brabant_water_38-PP004\",-103.03,-138.76,38-PP004,0,B49E0170,\"01-01-1974 00:00\",4.07,2.65,nan,Active,Vertical,\"Wouw\",\"Tom van Steijn - Brabant Water\",\"Wouw\",\"Brabant Water\"\\n83859.0,393867.0,Br_Wa\"/welT_brabant_water_38-PP006\",-102.45,-137.53,38-PP006,0,B49E0138,\"01-01-1971 00:00\",4.91,4.93,nan,Active,Vertical,\"Wouw\",\"Tom van Steijn - Brabant Water\",\"Wouw\",\"Brabant Water\"\\n83693.59,393869.84,Br_Wa\"/welT_brabant_water_38-PP007\",-102.6,-138.66,38-PP007,0,B49E0139,\"01-01-1971 00:00\",5.39,5.47,nan,Active,Vertical,\"Wouw\",\"Tom van Steijn - Brabant Water\",\"Wouw\",\"Brabant Water\"\\n83701.0,394005.0,Br_Wa\"/welT_brabant_water_38-PP008\",-97.42,-137.42,38-PP008,0,B49E0140,\"01-01-1970 00:00\",5.18,4.64,nan,Active,Vertical,\"Wouw\",\"Tom van Steijn - Brabant Water\",\"Wouw\",\"Brabant Water\"\\n83845.0,394055.0,Br_Wa\"/welT_brabant_water_38-PP009\",-103.68,-137.25,38-PP009,0,B49E0252,\"01-01-1988 00:00\",5.6,5.09,nan,Active,Vertical,\"Wouw\",\"Tom van Steijn - Brabant Water\",\"Wouw\",\"Brabant Water \"\\n'"
      ]
     },
     "execution_count": 18,
     "metadata": {},
     "output_type": "execute_result"
    }
   ],
   "source": [
    "s_contents"
   ]
  },
  {
   "cell_type": "code",
   "execution_count": null,
   "metadata": {},
   "outputs": [],
   "source": [
    "stop"
   ]
  },
  {
   "cell_type": "markdown",
   "metadata": {},
   "source": [
    "# -1. Junkyard"
   ]
  },
  {
   "cell_type": "code",
   "execution_count": null,
   "metadata": {},
   "outputs": [],
   "source": [
    "stop # Ensures code in Junkyard won't be run."
   ]
  },
  {
   "cell_type": "markdown",
   "metadata": {},
   "source": [
    "Archive of code that didn't \"make the cut\"."
   ]
  },
  {
   "cell_type": "markdown",
   "metadata": {},
   "source": [
    "## 0.1. Get file direcories"
   ]
  },
  {
   "cell_type": "code",
   "execution_count": null,
   "metadata": {},
   "outputs": [],
   "source": [
    "Dir_Fo = r\"C:\\WS_Mdl\\N_Brabant\\data\\3_input\\dbase\\HFB\"  # Replace with the target directory\n",
    "Dir_Rem = r\"C:\\WS_Mdl\\N_Brabant\" +'\\\\'\n",
    "all_files = fn.get_all_file_paths(Dir_Fo)\n",
    "for file_path in all_files:\n",
    "    print(file_path.replace(Dir_Rem, \"\"), end='\\n')"
   ]
  }
 ],
 "metadata": {
  "kernelspec": {
   "display_name": "Python 3",
   "language": "python",
   "name": "python3"
  },
  "language_info": {
   "codemirror_mode": {
    "name": "ipython",
    "version": 3
   },
   "file_extension": ".py",
   "mimetype": "text/x-python",
   "name": "python",
   "nbconvert_exporter": "python",
   "pygments_lexer": "ipython3",
   "version": "3.12.8"
  }
 },
 "nbformat": 4,
 "nbformat_minor": 2
}
