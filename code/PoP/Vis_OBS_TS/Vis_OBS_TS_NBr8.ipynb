{
 "cells": [
  {
   "cell_type": "markdown",
   "metadata": {},
   "source": [
    "<span style=\"font-size:24px; font-family:'Roboto'; font-weight:bold;\">\n",
    "Script to PoP OBS TS file, to create visualizations.\n",
    "</span><br>\n",
    "To be used after the model Sim has finished, and the obs.csv file has been created.<br>\n",
    "It was discovered that there are some mismatches between OBS and model cells (in NBr5). In NBr8, this was corrected. This script is designed to correct this. There are multiple cells connected to some wells now. The weighted average: h = ( T1*h1 + T2*h2 + ... ) / (T1 + T2 + ...), will be the main line on the plot."
   ]
  },
  {
   "cell_type": "markdown",
   "metadata": {},
   "source": [
    "# 0. Prep"
   ]
  },
  {
   "cell_type": "markdown",
   "metadata": {},
   "source": [
    "## 0.0. Libraries"
   ]
  },
  {
   "cell_type": "code",
   "execution_count": 1,
   "metadata": {},
   "outputs": [],
   "source": [
    "import WS_Mdl as WS"
   ]
  },
  {
   "cell_type": "code",
   "execution_count": 2,
   "metadata": {},
   "outputs": [],
   "source": [
    "import os
from os import listdir as LD, makedirs as MDs
from os.path import join as PJ, basename as PBN, dirname as PDN, exists as PE\n",
    "import numpy as np\n",
    "import pandas as pd\n",
    "import re\n",
    "import matplotlib.pyplot as plt\n",
    "import plotly.graph_objects as go\n",
    "from plotly.subplots import make_subplots\n",
    "from datetime import datetime as DT\n",
    "from sklearn.metrics import mean_squared_error\n",
    "import geopandas as gpd"
   ]
  },
  {
   "cell_type": "code",
   "execution_count": 3,
   "metadata": {},
   "outputs": [],
   "source": [
    "import imod\n",
    "import flopy as fp"
   ]
  },
  {
   "cell_type": "code",
   "execution_count": 4,
   "metadata": {},
   "outputs": [
    {
     "data": {
      "text/plain": [
       "<module 'WS_Mdl' from 'c:\\\\users\\\\karam014\\\\onedrive - universiteit utrecht\\\\ws_mdl\\\\code\\\\WS_Mdl\\\\__init__.py'>"
      ]
     },
     "execution_count": 4,
     "metadata": {},
     "output_type": "execute_result"
    }
   ],
   "source": [
    "import importlib # To be used while writing JupNote. Reloads library (if you re-run the import line, the library isn't imported cause it's already cached)\n",
    "importlib.reload(WS)"
   ]
  },
  {
   "cell_type": "code",
   "execution_count": 5,
   "metadata": {},
   "outputs": [],
   "source": [
    "if False:\n",
    "    WS.Pa_WS_Mdl #666 use this to define all other directories. I can make this a function in the library itself, so that all script inherit the directories."
   ]
  },
  {
   "cell_type": "markdown",
   "metadata": {},
   "source": [
    "## 0.1. Options"
   ]
  },
  {
   "cell_type": "code",
   "execution_count": 6,
   "metadata": {},
   "outputs": [],
   "source": [
    "MdlN = 'NBr8'\n",
    "Mdl, SimN = \"\".join(re.findall('[a-zA-Z]', MdlN)), \"\".join(re.findall('[0-9]', MdlN))"
   ]
  },
  {
   "cell_type": "markdown",
   "metadata": {},
   "source": [
    "Define directories"
   ]
  },
  {
   "cell_type": "code",
   "execution_count": 42,
   "metadata": {},
   "outputs": [],
   "source": [
    "Pa_Mdl = f\"../../../models/{Mdl}\"\n",
    "Pa_Sim_Mdl = PJ(Pa_Mdl, f\"Sim/{MdlN}\")\n",
    "Pa_OBS_IPF = os.path.normpath(PJ(Pa_Mdl, f'In/OBS/{MdlN}/ijkset_selectie_{MdlN}.ipf'))\n",
    "# Pa_OBS = PJ(Pa_Sim_Mdl, f'GWF_1/MODELINPUT/{MdlN}.OBS6') # pathectory where OBS file will be written.\n",
    "Pa_OBS_Out = PJ(Pa_Sim_Mdl, fr'OBS_ijkset_selectie_{MdlN}.csv') #666 this needs to be read from the NAM or PRJ file.\n",
    "Pa_INI = PJ(Pa_Mdl, f'code/Mdl_Prep/Mdl_Prep_{MdlN}.ini')"
   ]
  },
  {
   "cell_type": "code",
   "execution_count": 38,
   "metadata": {},
   "outputs": [
    {
     "data": {
      "text/plain": [
       "'../../../models/NBr\\\\Sim/NBr8'"
      ]
     },
     "execution_count": 38,
     "metadata": {},
     "output_type": "execute_result"
    }
   ],
   "source": [
    "Pa_Sim_Mdl"
   ]
  },
  {
   "cell_type": "markdown",
   "metadata": {},
   "source": [
    "## 0.2. Data from INI file"
   ]
  },
  {
   "cell_type": "code",
   "execution_count": 8,
   "metadata": {},
   "outputs": [],
   "source": [
    "d_INI = WS.INI_to_d(Pa_INI)\n",
    "# d_INI.keys()"
   ]
  },
  {
   "cell_type": "code",
   "execution_count": 9,
   "metadata": {},
   "outputs": [],
   "source": [
    "Xmin, Ymin, Xmax, Ymax = [float(i) for i in d_INI['WINDOW'].split(',')]\n",
    "cellsize = float(d_INI['CELLSIZE'])\n",
    "start_date = DT.strptime(d_INI['SDATE'], '%Y%m%d')\n",
    "end_date = DT.strptime(d_INI['EDATE'], '%Y%m%d')"
   ]
  },
  {
   "cell_type": "code",
   "execution_count": 10,
   "metadata": {},
   "outputs": [
    {
     "name": "stdout",
     "output_type": "stream",
     "text": [
      "The model area has 344 rows and 480 columns.\n"
     ]
    }
   ],
   "source": [
    "N_R, N_C = int( - (Ymin - Ymax) / cellsize ), int( (Xmax - Xmin) / cellsize ), \n",
    "print(f'The model area has {N_R} rows and {N_C} columns.')"
   ]
  },
  {
   "cell_type": "markdown",
   "metadata": {},
   "source": [
    "# 1. Read and prepare OBS IPF file"
   ]
  },
  {
   "cell_type": "code",
   "execution_count": 11,
   "metadata": {},
   "outputs": [
    {
     "name": "stderr",
     "output_type": "stream",
     "text": [
      "c:\\mamba_envs\\WS\\Lib\\site-packages\\imod\\formats\\ipf.py:30: UserWarning: Inconsistent IPF: header states 2 columns, first line contains 0\n",
      "  warnings.warn(\n",
      "c:\\mamba_envs\\WS\\Lib\\site-packages\\imod\\formats\\ipf.py:30: UserWarning: Inconsistent IPF: header states 2 columns, first line contains 0\n",
      "  warnings.warn(\n",
      "c:\\mamba_envs\\WS\\Lib\\site-packages\\imod\\formats\\ipf.py:30: UserWarning: Inconsistent IPF: header states 2 columns, first line contains 0\n",
      "  warnings.warn(\n",
      "c:\\mamba_envs\\WS\\Lib\\site-packages\\imod\\formats\\ipf.py:30: UserWarning: Inconsistent IPF: header states 2 columns, first line contains 0\n",
      "  warnings.warn(\n",
      "c:\\mamba_envs\\WS\\Lib\\site-packages\\imod\\formats\\ipf.py:30: UserWarning: Inconsistent IPF: header states 2 columns, first line contains 0\n",
      "  warnings.warn(\n",
      "c:\\mamba_envs\\WS\\Lib\\site-packages\\imod\\formats\\ipf.py:30: UserWarning: Inconsistent IPF: header states 2 columns, first line contains 0\n",
      "  warnings.warn(\n",
      "c:\\mamba_envs\\WS\\Lib\\site-packages\\imod\\formats\\ipf.py:30: UserWarning: Inconsistent IPF: header states 2 columns, first line contains 0\n",
      "  warnings.warn(\n",
      "c:\\mamba_envs\\WS\\Lib\\site-packages\\imod\\formats\\ipf.py:30: UserWarning: Inconsistent IPF: header states 2 columns, first line contains 0\n",
      "  warnings.warn(\n",
      "c:\\mamba_envs\\WS\\Lib\\site-packages\\imod\\formats\\ipf.py:30: UserWarning: Inconsistent IPF: header states 2 columns, first line contains 0\n",
      "  warnings.warn(\n",
      "c:\\mamba_envs\\WS\\Lib\\site-packages\\imod\\formats\\ipf.py:30: UserWarning: Inconsistent IPF: header states 2 columns, first line contains 0\n",
      "  warnings.warn(\n",
      "c:\\mamba_envs\\WS\\Lib\\site-packages\\imod\\formats\\ipf.py:30: UserWarning: Inconsistent IPF: header states 2 columns, first line contains 0\n",
      "  warnings.warn(\n",
      "c:\\mamba_envs\\WS\\Lib\\site-packages\\imod\\formats\\ipf.py:30: UserWarning: Inconsistent IPF: header states 2 columns, first line contains 0\n",
      "  warnings.warn(\n",
      "c:\\mamba_envs\\WS\\Lib\\site-packages\\imod\\formats\\ipf.py:30: UserWarning: Inconsistent IPF: header states 2 columns, first line contains 0\n",
      "  warnings.warn(\n",
      "c:\\mamba_envs\\WS\\Lib\\site-packages\\imod\\formats\\ipf.py:30: UserWarning: Inconsistent IPF: header states 2 columns, first line contains 0\n",
      "  warnings.warn(\n",
      "c:\\mamba_envs\\WS\\Lib\\site-packages\\imod\\formats\\ipf.py:30: UserWarning: Inconsistent IPF: header states 2 columns, first line contains 0\n",
      "  warnings.warn(\n",
      "c:\\mamba_envs\\WS\\Lib\\site-packages\\imod\\formats\\ipf.py:30: UserWarning: Inconsistent IPF: header states 2 columns, first line contains 0\n",
      "  warnings.warn(\n",
      "c:\\mamba_envs\\WS\\Lib\\site-packages\\imod\\formats\\ipf.py:30: UserWarning: Inconsistent IPF: header states 2 columns, first line contains 0\n",
      "  warnings.warn(\n",
      "c:\\mamba_envs\\WS\\Lib\\site-packages\\imod\\formats\\ipf.py:30: UserWarning: Inconsistent IPF: header states 2 columns, first line contains 0\n",
      "  warnings.warn(\n",
      "c:\\mamba_envs\\WS\\Lib\\site-packages\\imod\\formats\\ipf.py:30: UserWarning: Inconsistent IPF: header states 2 columns, first line contains 0\n",
      "  warnings.warn(\n",
      "c:\\mamba_envs\\WS\\Lib\\site-packages\\imod\\formats\\ipf.py:30: UserWarning: Inconsistent IPF: header states 2 columns, first line contains 0\n",
      "  warnings.warn(\n",
      "c:\\mamba_envs\\WS\\Lib\\site-packages\\imod\\formats\\ipf.py:30: UserWarning: Inconsistent IPF: header states 2 columns, first line contains 0\n",
      "  warnings.warn(\n",
      "c:\\mamba_envs\\WS\\Lib\\site-packages\\imod\\formats\\ipf.py:30: UserWarning: Inconsistent IPF: header states 2 columns, first line contains 0\n",
      "  warnings.warn(\n",
      "c:\\mamba_envs\\WS\\Lib\\site-packages\\imod\\formats\\ipf.py:30: UserWarning: Inconsistent IPF: header states 2 columns, first line contains 0\n",
      "  warnings.warn(\n",
      "c:\\mamba_envs\\WS\\Lib\\site-packages\\imod\\formats\\ipf.py:30: UserWarning: Inconsistent IPF: header states 2 columns, first line contains 0\n",
      "  warnings.warn(\n",
      "c:\\mamba_envs\\WS\\Lib\\site-packages\\imod\\formats\\ipf.py:30: UserWarning: Inconsistent IPF: header states 2 columns, first line contains 0\n",
      "  warnings.warn(\n",
      "c:\\mamba_envs\\WS\\Lib\\site-packages\\imod\\formats\\ipf.py:30: UserWarning: Inconsistent IPF: header states 2 columns, first line contains 0\n",
      "  warnings.warn(\n",
      "c:\\mamba_envs\\WS\\Lib\\site-packages\\imod\\formats\\ipf.py:30: UserWarning: Inconsistent IPF: header states 2 columns, first line contains 0\n",
      "  warnings.warn(\n",
      "c:\\mamba_envs\\WS\\Lib\\site-packages\\imod\\formats\\ipf.py:30: UserWarning: Inconsistent IPF: header states 2 columns, first line contains 0\n",
      "  warnings.warn(\n"
     ]
    }
   ],
   "source": [
    "DF_OBS_IPF = imod.formats.ipf.read(Pa_OBS_IPF) # Read IPF file containing OBS BHs"
   ]
  },
  {
   "cell_type": "code",
   "execution_count": 12,
   "metadata": {},
   "outputs": [
    {
     "data": {
      "text/plain": [
       "Index(['datetime', 'head', 'X', 'Y', 'L', 'Id', 'code', 'filterno',\n",
       "       'surfacelevel', 'filtertoplevel', 'filterbottomlevel', 'path'],\n",
       "      dtype='object')"
      ]
     },
     "execution_count": 12,
     "metadata": {},
     "output_type": "execute_result"
    }
   ],
   "source": [
    "DF_OBS_IPF.columns"
   ]
  },
  {
   "cell_type": "code",
   "execution_count": 13,
   "metadata": {},
   "outputs": [],
   "source": [
    "# Limit to OBS within the Mdl Aa and Sim time.\n",
    "DF_OBS_IPF_MdlAa = DF_OBS_IPF.loc[( (DF_OBS_IPF['X'] > Xmin) & (DF_OBS_IPF['X'] < Xmax) ) &\n",
    "                                  ( (DF_OBS_IPF['Y'] > Ymin) & (DF_OBS_IPF['Y'] < Ymax) ) &\n",
    "                                  ( (DF_OBS_IPF['datetime'] > start_date) & (DF_OBS_IPF['datetime'] < end_date) )].copy() "
   ]
  },
  {
   "cell_type": "code",
   "execution_count": 15,
   "metadata": {},
   "outputs": [
    {
     "name": "stdout",
     "output_type": "stream",
     "text": [
      "148 out of 9404 locations/Obs BHs were selected.\n"
     ]
    }
   ],
   "source": [
    "print(f\"{len(DF_OBS_IPF_MdlAa['Id'].unique())} out of {len(DF_OBS_IPF['Id'].unique())} locations/Obs BHs were selected.\")"
   ]
  },
  {
   "cell_type": "code",
   "execution_count": 18,
   "metadata": {},
   "outputs": [],
   "source": [
    "DF_OBS_IPF_MdlAa['R'] = ( -(DF_OBS_IPF_MdlAa['Y']-Ymax) / cellsize ).astype(np.int32) + 1 # Ymax is at the origin of the model.\n",
    "DF_OBS_IPF_MdlAa['C'] = ( (DF_OBS_IPF_MdlAa['X']-Xmin) / cellsize ).astype(np.int32) + 1 # Xmin at the origin of the model."
   ]
  },
  {
   "cell_type": "code",
   "execution_count": 19,
   "metadata": {},
   "outputs": [],
   "source": [
    "DF_OBS_IPF_MdlAa.sort_values(by=[\"L\", \"R\", \"C\"], ascending=[True, True, True], inplace=True) # Let's sort the DF by L, R, C"
   ]
  },
  {
   "cell_type": "markdown",
   "metadata": {},
   "source": [
    "# 2. Read OBS Out file"
   ]
  },
  {
   "cell_type": "code",
   "execution_count": 43,
   "metadata": {},
   "outputs": [],
   "source": [
    "DF_OBS_Out = fp.utils.Mf6Obs(Pa_OBS_Out).get_dataframe()"
   ]
  },
  {
   "cell_type": "code",
   "execution_count": 44,
   "metadata": {},
   "outputs": [],
   "source": [
    "model_time = (DF_OBS_Out.index - pd.Timestamp(\"1970-01-01\")).days # Convert existing datetime index back to model time (days since 1970-01-01)\n",
    "DF_OBS_Out.index = pd.to_datetime(start_date) + pd.to_timedelta(model_time, unit=\"D\") # Now apply the correct start date from TDIS"
   ]
  },
  {
   "cell_type": "code",
   "execution_count": 46,
   "metadata": {},
   "outputs": [],
   "source": [
    "DF_OBS_Out.drop('totim', axis=1, inplace=True) # We don't need the time since the start of the Sim anymore"
   ]
  },
  {
   "cell_type": "code",
   "execution_count": 47,
   "metadata": {},
   "outputs": [],
   "source": [
    "DF_OBS_Out = DF_OBS_Out[DF_OBS_Out.columns.sort_values()] # Sort columns/OBS Locs."
   ]
  },
  {
   "cell_type": "markdown",
   "metadata": {},
   "source": [
    "# 3. Validation"
   ]
  },
  {
   "cell_type": "markdown",
   "metadata": {},
   "source": [
    "# 3.0. Prep for Calc of Vld Metrices"
   ]
  },
  {
   "cell_type": "code",
   "execution_count": null,
   "metadata": {},
   "outputs": [],
   "source": [
    "metrics = [WS.Vld_Mtc(\"NSE\", \"-\"),\n",
    "           WS.Vld_Mtc(\"RMSE\", \"m\"),\n",
    "           WS.Vld_Mtc(\"MAE\", \"m\"),\n",
    "           WS.Vld_Mtc(\"Correlation\", \"-\"),\n",
    "           WS.Vld_Mtc(\"Bias Ratio\", \"-\"),\n",
    "           WS.Vld_Mtc(\"Variability Ratio\", \"-\"),\n",
    "           WS.Vld_Mtc(\"KGE\", \"-\")]\n",
    "\n",
    "DF_Mtc = pd.DataFrame({\"Metric\": [metric.name for metric in metrics],\n",
    "                       \"Value\": np.nan,\n",
    "                       \"Unit\": [metric.unit for metric in metrics],\n",
    "                       'Formula': [metric.formula for metric in metrics]})"
   ]
  },
  {
   "cell_type": "code",
   "execution_count": null,
   "metadata": {},
   "outputs": [],
   "source": [
    "DF_Mtc_I = pd.DataFrame(columns=[i for i in DF_Mtc['Metric']]).astype(float)\n",
    "DF_Mtc_I.index.name = 'Obs_id'\n",
    "DF_Mtc_I"
   ]
  },
  {
   "cell_type": "markdown",
   "metadata": {},
   "source": [
    "## 3.1. Read in OBS_IPF .gpkg file."
   ]
  },
  {
   "cell_type": "code",
   "execution_count": null,
   "metadata": {},
   "outputs": [],
   "source": [
    "l_GDF_Cs = [\"X\",\"Y\",\"L\",\"Id\",\"code\",\"filterno\",\"surfacelevel\",\"filtertoplevel\",\"filterbottomlevel\",\"path\"]"
   ]
  },
  {
   "cell_type": "code",
   "execution_count": null,
   "metadata": {},
   "outputs": [],
   "source": [
    "Pa_OBS_gpkg = r'C:\\OD\\WS_Mdl\\models\\NBr\\PoP\\In\\OBS\\ijkset_selectie_Mdl_Aa_NBr7.gpkg'"
   ]
  },
  {
   "cell_type": "code",
   "execution_count": null,
   "metadata": {},
   "outputs": [],
   "source": [
    "GDF = gpd.read_file(Pa_OBS_gpkg)"
   ]
  },
  {
   "cell_type": "code",
   "execution_count": null,
   "metadata": {},
   "outputs": [],
   "source": [
    "for C in GDF.columns[-4:]:\n",
    "    l_GDF_Cs.append(C)"
   ]
  },
  {
   "cell_type": "code",
   "execution_count": null,
   "metadata": {},
   "outputs": [],
   "source": [
    "GDF.columns = l_GDF_Cs"
   ]
  },
  {
   "cell_type": "markdown",
   "metadata": {},
   "source": [
    "## 3.1. Make HTML Calibration Plots"
   ]
  },
  {
   "cell_type": "code",
   "execution_count": null,
   "metadata": {},
   "outputs": [],
   "source": [
    "Pa_Fo_HTML = PJ(Pa_Mdl, f'PoP/Out/{MdlN}/Vld/GW_HD_HTML')\n",
    "MDs(Pa_Fo_HTML, exist_ok=True) # Make folder to store HTML files if it doesn't already exist."
   ]
  },
  {
   "cell_type": "code",
   "execution_count": null,
   "metadata": {},
   "outputs": [],
   "source": [
    "DF_Mtc_I"
   ]
  },
  {
   "cell_type": "code",
   "execution_count": null,
   "metadata": {},
   "outputs": [],
   "source": [
    "for id in DF_OBS_Out.columns[:]:\n",
    "    DF_outer = pd.merge(left=DF_OBS_IPF_MdlAa.loc[DF_OBS_IPF_MdlAa['id'] == id], right=DF_OBS_Out[id], how='outer', left_on='datetime', right_index=True)\n",
    "    DF_notNA = DF_outer[ (DF_outer['head'].notna()) & (DF_outer['id'].notna())]\n",
    "    first_idx, last_idx = DF_notNA.first_valid_index(), DF_notNA.last_valid_index() # Find first and last valid indices\n",
    "    DF = DF_outer.loc[first_idx:last_idx] # Slice the DataFrame. To Min and Max date where both Obs and Sim data are available.\n",
    "\n",
    "    X, Y, L, R, C = DF.loc[DF['id'] == id].iloc[0][['xcoordinate', 'ycoordinate', 'L', 'R', 'C']]\n",
    "    min_val, max_val = np.floor(min(DF['head'].min(), DF[id].min()) * 10) / 10, np.ceil(max(DF['head'].max(), DF[id].max()) * 10) / 10\n",
    "    buffer = (max_val - min_val) * 0.05\n",
    "    adj_min, adj_max = min_val - buffer, max_val + buffer\n",
    "\n",
    "    # Calculate validation metrics and append to DF_Vld_Glb\n",
    "    obs, sim = DF_notNA['head'].values, DF_notNA[id].values\n",
    "    for m in metrics:\n",
    "        DF_Mtc_I.loc[id, m.name] = m.compute(obs, sim)\n",
    "    DF_Pct = pd.DataFrame({'Percentile': np.linspace(0, 100, 101), 'Obs': np.percentile(DF_notNA['head'], np.linspace(0, 100, 101)), 'Sim': np.percentile(DF_notNA[id], np.linspace(0, 100, 101))}) # Compute percentiles for head and simulated values\n",
    "\n",
    "    # Make figure\n",
    "    fig = make_subplots(rows=2, cols=2, column_widths=[0.78, 0.22], row_heights=[0.5, 0.5], vertical_spacing=0.12, horizontal_spacing=0.05, subplot_titles=[\"Time-Series Plot\", \"Parity Plot\", \"Percentile Plot\"], specs=[[{\"rowspan\": 2}, {}], [None, {}]]) # Less horizontal space\n",
    "\n",
    "    # Create Plots for each Graph (TS, Parity, Pct)\n",
    "    fig.add_trace(go.Scatter(x=DF['datetime'], y=DF['head'], mode='markers', name='Observed', marker=dict(size=3, color='#74c476')), row=1, col=1) # TS plot - Obs dots\n",
    "    fig.add_trace(go.Scatter(x=DF['datetime'], y=DF[id], mode='lines', name='Simulated', line=dict(color='#005a1b')), row=1, col=1) # TS plot - Sim line\n",
    "\n",
    "    fig.add_trace(go.Scatter(x=DF['head'], y=DF[id], mode='markers', marker=dict(size=4, color='#3a8448'), name='Scatter',hovertemplate=\"Observed: %{x}<br>Simulated: %{y}<extra></extra>\"), row=1, col=2) # Parity - dots\n",
    "    fig.add_trace(go.Scatter(x=[adj_min, adj_max], y=[adj_min, adj_max], mode='lines', name='1:1 Line', line=dict(color='darkgrey', dash='dash')), row=1, col=2) # Parity - 1:1 line\n",
    "\n",
    "    fig.add_trace(go.Scatter(x=DF_Pct['Percentile'], y=DF_Pct['Obs'], mode='lines', name='Observed', line=dict(color='#74c476')), row=2, col=2) # Pct - Obs\n",
    "    fig.add_trace(go.Scatter(x=DF_Pct['Percentile'], y=DF_Pct['Sim'], mode='lines', name='Simulated', line=dict(color='#005a1b')), row=2, col=2) # Pct - Sim\n",
    "\n",
    "    stats_text = (\n",
    "        \"<span style='font-family:Courier New; white-space:pre;'>\"\n",
    "        \"NSE: {:>5.2f}  <br>\"\n",
    "        \"RMSE:{:>5.2f} m<br>\"\n",
    "        \"MAE: {:>5.2f} m<br>\"\n",
    "        \"Cor: {:>5.2f}  <br>\"\n",
    "        \"BR:{:>5.2f}  <br>\"\n",
    "        \"VR: {:>5.2f}  <br>\"\n",
    "        \"KGE: {:>5.2f}  </span>\"\n",
    "    ).format(\n",
    "    DF_Mtc_I.loc[id, 'NSE'],\n",
    "    DF_Mtc_I.loc[id, 'RMSE'],\n",
    "    DF_Mtc_I.loc[id, 'MAE'],\n",
    "    DF_Mtc_I.loc[id, 'Correlation'],\n",
    "    DF_Mtc_I.loc[id, 'Bias Ratio'],\n",
    "    DF_Mtc_I.loc[id, 'Variability Ratio'],\n",
    "    DF_Mtc_I.loc[id, 'KGE']\n",
    ")\n",
    "\n",
    "    fig.add_annotation(text=stats_text,\n",
    "                       xref=\"x domain\", yref=\"y domain\",\n",
    "                       x=1, y=0, showarrow=False,\n",
    "                       font=dict(size=12, family=\"Courier New\"),  # Ensures uniform spacing\n",
    "                       bgcolor=\"white\", borderwidth=1, borderpad=5,\n",
    "                       align=\"left\", row=1, col=2)\n",
    "\n",
    "    # Stylistic updates for each graph.\n",
    "    fig.update_yaxes(title_text='Head (mNAP)', tickformat=\".2f\", row=1, col=1)\n",
    "    fig.update_yaxes(title_text='Head (mNAP)', tickformat=\".2f\", row=2, col=2)\n",
    "    tick_step = round((adj_max - adj_min) / 10, 1)\n",
    "    tick_values = np.arange(adj_min, adj_max + tick_step, tick_step)\n",
    "    tick_values = np.round(tick_values, 1)\n",
    "    fig.update_xaxes(title_text='Observed Head (mNAP)', tickformat=\".1f\", row=1, col=2, range=[adj_min, adj_max], tickvals=tick_values)\n",
    "    fig.update_yaxes(title_text='Simulated Head (mNAP)', tickformat=\".1f\", row=1, col=2, range=[adj_min, adj_max], tickvals=tick_values)\n",
    "    fig.update_xaxes(title_text='Percentile (%)', tickformat=\".1f\", row=2, col=2)\n",
    "\n",
    "    # Add separate legends to each subplot\n",
    "    fig.add_annotation(text=\"<b>Simulated</b>  <span style='color:#005a1b;'>▬▬▬</span><br><b>Observed</b>        <span style='color:#74c476;'>●</span>\",\n",
    "                       xref=\"x domain\",yref=\"y domain\",\n",
    "                       x=0, y=1, showarrow=False,\n",
    "                       font=dict(size=14), bgcolor=\"white\",\n",
    "                       borderwidth=1, borderpad=5,align=\"left\",row=1, col=1)\n",
    "    fig.add_annotation(text=\"<b>Deviation</b> <span style='color:#3a8448;'>      ●</span> <br><b>1:1</b>              <span style='color:darkgrey;'>━ ━ ━</span>\",\n",
    "                       xref=\"x domain\",yref=\"y domain\",\n",
    "                       x=0, y=1, showarrow=False,\n",
    "                       font=dict(size=12), bgcolor=\"white\",\n",
    "                       borderwidth=1, borderpad=5,align=\"left\",row=1, col=2)\n",
    "    fig.add_annotation(text=\"<b>Simulated</b>  <span style='color:#005a1b;'>▬▬▬</span><br><b>Observed</b>        <span style='color:#74c476;'>●</span>\",\n",
    "                       xref=\"x domain\",yref=\"y domain\",\n",
    "                       x=0, y=1, showarrow=False,\n",
    "                       font=dict(size=12), bgcolor=\"white\",\n",
    "                       borderwidth=1, borderpad=5,align=\"left\",row=2, col=2)\n",
    "\n",
    "    # Layout options for all graphs.\n",
    "    fig.update_layout(title=dict(text=f'<b>Groundwater Head Validation - {MdlN}</b><br><span style=\"font-size:14px; font-weight:normal;\">id: {id} | X: {X}, Y: {Y}, L: {L}, R: {R}, C: {C}</span>', font=dict(size=20), y=0.98, x=0.5, xanchor='center'), margin=dict(t=80, b=40, l=40, r=40), xaxis_showgrid=True, yaxis_showgrid=True, showlegend=False)\n",
    "    fig.update_layout(legend=dict(font=dict(size=10)))\n",
    "    fig.update_layout(hovermode=\"x unified\",spikedistance=1000,xaxis_showspikes=True,yaxis_showspikes=False,xaxis_spikemode=\"across\")\n",
    "    fig.update_layout(\n",
    "        autosize=True,\n",
    "        width=None,\n",
    "        height=None,\n",
    "        margin=dict(autoexpand=True),\n",
    "        xaxis=dict(automargin=True),\n",
    "        yaxis=dict(automargin=True)) # Graph scaling, to avoid overlapping of graph elements.\n",
    "\n",
    "    print(f'Saving {id} ... ', end='')\n",
    "    fig.write_html(PJ(Pa_Fo_HTML, f'{id}.HTML'))\n",
    "    print('completed!')\n",
    "print('Finished creating HTML plots!')"
   ]
  },
  {
   "cell_type": "code",
   "execution_count": null,
   "metadata": {},
   "outputs": [],
   "source": [
    "DF_Mtc_I['NSE']['5028_2']\n",
    "\n"
   ]
  },
  {
   "cell_type": "code",
   "execution_count": null,
   "metadata": {},
   "outputs": [],
   "source": [
    "DF_Mtc_I.loc['B50E0157_2']"
   ]
  },
  {
   "cell_type": "code",
   "execution_count": null,
   "metadata": {},
   "outputs": [],
   "source": [
    "DF_Mtc_I.describe()"
   ]
  },
  {
   "cell_type": "code",
   "execution_count": null,
   "metadata": {},
   "outputs": [],
   "source": [
    "GDF.shape"
   ]
  },
  {
   "cell_type": "code",
   "execution_count": null,
   "metadata": {},
   "outputs": [],
   "source": [
    "type(DF_Mtc_I.index[0])"
   ]
  },
  {
   "cell_type": "code",
   "execution_count": null,
   "metadata": {},
   "outputs": [],
   "source": [
    "[i for i in GDF['Id'] if i not in DF_Mtc_I.index]"
   ]
  },
  {
   "cell_type": "code",
   "execution_count": null,
   "metadata": {},
   "outputs": [],
   "source": [
    "GDF_Mtcs_I = GDF.merge(DF_Mtc_I, left_on=\"Id\", right_index=True, how=\"outer\")  # Use \"inner\" or \"outer\" if needed"
   ]
  },
  {
   "cell_type": "code",
   "execution_count": null,
   "metadata": {},
   "outputs": [],
   "source": [
    "Pa_OBS_gpkg"
   ]
  },
  {
   "cell_type": "code",
   "execution_count": null,
   "metadata": {},
   "outputs": [],
   "source": [
    "GDF_Mtcs_I.to_file(Pa_OBS_gpkg)"
   ]
  },
  {
   "cell_type": "code",
   "execution_count": null,
   "metadata": {},
   "outputs": [],
   "source": [
    "DF_Mtc_I.sort_values('KGE', ascending=False)"
   ]
  },
  {
   "cell_type": "code",
   "execution_count": null,
   "metadata": {},
   "outputs": [],
   "source": [
    "DF_Mtc_I.loc[DF_Mtc_I['NSE']==DF_Mtc_I['NSE'].max()]"
   ]
  },
  {
   "cell_type": "code",
   "execution_count": null,
   "metadata": {},
   "outputs": [],
   "source": [
    "DF_Mtc_I.loc[DF_Mtc_I['NSE']>=0.75]"
   ]
  },
  {
   "cell_type": "code",
   "execution_count": null,
   "metadata": {},
   "outputs": [],
   "source": [
    "stop"
   ]
  },
  {
   "cell_type": "code",
   "execution_count": null,
   "metadata": {},
   "outputs": [],
   "source": []
  },
  {
   "cell_type": "markdown",
   "metadata": {},
   "source": [
    "## 3.2. Make PNG Calibration Plots"
   ]
  },
  {
   "cell_type": "code",
   "execution_count": null,
   "metadata": {},
   "outputs": [],
   "source": [
    "if False: # False for now, cause more things need to be added to the PNGs. They're also not necessary, as the HTMLs do the job better.\n",
    "    Pa_Fo_PNG = PJ(Pa_Mdl, f'PoP/{MdlN}/Vld/GW_HD_PNG')\n",
    "    MDs(Pa_Fo_HTML, exist_ok=True) # Make folder to store HTML files if it doesn't already exist.\n",
    "\n",
    "    for id in DF_OBS_Out.columns[:]:\n",
    "        fig, ax = plt.subplots(figsize=(15, 5))\n",
    "\n",
    "        DF_OBS_id = DF_OBS_IPF_MdlAa.loc[DF_OBS_IPF_MdlAa['id'] == id] # Filter DF_OBS_id for the current id\n",
    "        X, Y, L, R, C = DF_OBS_id.iloc[0][['xcoordinate', 'ycoordinate', 'L', 'R', 'C']]\n",
    "\n",
    "        ax.plot(DF_OBS_Out.index, DF_OBS_Out[id], label=f'Simulated', marker='', linestyle='-', lw=2, color='#005a1b') # , linestyle='-' # Plot DF_OBS_Out (time series)\n",
    "        ax.plot(DF_OBS_id['datetime'], DF_OBS_id['head'], label=f'Observed', marker='.', ls='',markersize=3, color='#74c476') #  linestyle='-', # Plot DF_OBS_id (datetime vs head)    \n",
    "\n",
    "        ax.set_ylabel('Head (m)')\n",
    "        ax.set_title(f'id: {id}', fontsize=12, y=1.1, fontweight='bold')  # Main title\n",
    "        ax.text(0.5, 1.05, f'X: {X}, Y: {Y}, L: {L}, R: {R}, C: {C}', \n",
    "                fontsize=10, ha='center', va='top', transform=ax.transAxes)\n",
    "        ax.legend(loc='upper center')\n",
    "        ax.yaxis.set_major_formatter(plt.FuncFormatter(lambda x, _: f'{x:.2f}'))\n",
    "        ax.grid()\n",
    "\n",
    "        print(f'Saving {id} ... ', end='')\n",
    "        fig.savefig(PJ(Pa_Fo_PNG, f'{id}.png'), dpi=400, bbox_inches='tight')\n",
    "        plt.close(fig)  # Prevent display in the output\n",
    "        print('completed!')\n",
    "    print('Finished creating PNG images!')"
   ]
  },
  {
   "cell_type": "markdown",
   "metadata": {},
   "source": [
    "## 3.3. Global Performance"
   ]
  }
 ],
 "metadata": {
  "kernelspec": {
   "display_name": "WS",
   "language": "python",
   "name": "python3"
  },
  "language_info": {
   "codemirror_mode": {
    "name": "ipython",
    "version": 3
   },
   "file_extension": ".py",
   "mimetype": "text/x-python",
   "name": "python",
   "nbconvert_exporter": "python",
   "pygments_lexer": "ipython3",
   "version": "3.12.8"
  }
 },
 "nbformat": 4,
 "nbformat_minor": 2
}
