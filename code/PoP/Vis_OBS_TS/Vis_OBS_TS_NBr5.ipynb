{
 "cells": [
  {
   "cell_type": "markdown",
   "metadata": {},
   "source": [
    "<span style=\"font-size:24px; font-family:'Roboto'; font-weight:bold;\">\n",
    "Script to PoP OBS TS file, to create visualizations.\n",
    "</span><br>\n",
    "To be used after the model Sim has finished, and the obs.csv file has been created."
   ]
  },
  {
   "cell_type": "markdown",
   "metadata": {},
   "source": [
    "# 0. Prep"
   ]
  },
  {
   "cell_type": "markdown",
   "metadata": {},
   "source": [
    "## 0.0. Libraries"
   ]
  },
  {
   "cell_type": "code",
   "execution_count": 1,
   "metadata": {},
   "outputs": [],
   "source": [
    "import WS_Mdl as WS"
   ]
  },
  {
   "cell_type": "code",
   "execution_count": 2,
   "metadata": {},
   "outputs": [],
   "source": [
    "import os
from os import listdir as LD, makedirs as MDs
from os.path import join as PJ, basename as PBN, dirname as PDN, exists as PE\n",
    "import numpy as np\n",
    "import pandas as pd\n",
    "import re\n",
    "import matplotlib.pyplot as plt\n",
    "import plotly.graph_objects as go\n",
    "from plotly.subplots import make_subplots\n",
    "from datetime import datetime as DT\n",
    "from sklearn.metrics import mean_squared_error\n",
    "import geopandas as gpd"
   ]
  },
  {
   "cell_type": "code",
   "execution_count": 3,
   "metadata": {},
   "outputs": [],
   "source": [
    "import imod"
   ]
  },
  {
   "cell_type": "code",
   "execution_count": 4,
   "metadata": {},
   "outputs": [],
   "source": [
    "import flopy as fp"
   ]
  },
  {
   "cell_type": "code",
   "execution_count": 5,
   "metadata": {},
   "outputs": [
    {
     "data": {
      "text/plain": [
       "<module 'WS_Mdl' from 'c:\\\\users\\\\karam014\\\\onedrive - universiteit utrecht\\\\ws_mdl\\\\code\\\\WS_Mdl\\\\__init__.py'>"
      ]
     },
     "execution_count": 5,
     "metadata": {},
     "output_type": "execute_result"
    }
   ],
   "source": [
    "import importlib # To be used while writing JupNote. Reloads library (if you re-run the import line, the library isn't imported cause it's already cached)\n",
    "importlib.reload(WS)"
   ]
  },
  {
   "cell_type": "code",
   "execution_count": 6,
   "metadata": {},
   "outputs": [],
   "source": [
    "if False:\n",
    "    WS.Pa_WS_Mdl #666 use this to define all other directories. I can make this a function in the library itself, so that all script inherit the directories."
   ]
  },
  {
   "cell_type": "markdown",
   "metadata": {},
   "source": [
    "## 0.1. Options"
   ]
  },
  {
   "cell_type": "code",
   "execution_count": 7,
   "metadata": {},
   "outputs": [],
   "source": [
    "MdlN = 'NBr5'\n",
    "Mdl, SimN = \"\".join(re.findall('[a-zA-Z]', MdlN)), \"\".join(re.findall('[0-9]', MdlN))"
   ]
  },
  {
   "cell_type": "markdown",
   "metadata": {},
   "source": [
    "Define directories"
   ]
  },
  {
   "cell_type": "code",
   "execution_count": 8,
   "metadata": {},
   "outputs": [],
   "source": [
    "Pa_Mdl = f\"../../../models/{Mdl}\"\n",
    "Pa_Sim_Mdl = PJ(Pa_Mdl, f\"Sim/{MdlN}\")\n",
    "Pa_OBS_IPF = os.path.normpath(PJ(Pa_Mdl, 'In/OBS/NBr5/ijkset_selectie/ijkset_selectie.ipf'))\n",
    "Pa_OBS = PJ(Pa_Sim_Mdl, f'GWF_1/MODELINPUT/{MdlN}.OBS6') # pathectory where OBS file will be written.\n",
    "Pa_OBS_Out = PJ(Pa_Sim_Mdl, 'obs.csv') \n",
    "Pa_INI = PJ(Pa_Mdl, f'code/Mdl_Prep/Mdl_Prep_{MdlN}.ini')"
   ]
  },
  {
   "cell_type": "markdown",
   "metadata": {},
   "source": [
    "## 0.2. Data from INI file"
   ]
  },
  {
   "cell_type": "code",
   "execution_count": 9,
   "metadata": {},
   "outputs": [],
   "source": [
    "d_INI = WS.INI_to_d(Pa_INI)\n",
    "# d_INI.keys()"
   ]
  },
  {
   "cell_type": "code",
   "execution_count": 10,
   "metadata": {},
   "outputs": [],
   "source": [
    "Xmin, Ymin, Xmax, Ymax = [float(i) for i in d_INI['window'].split(',')]\n",
    "cellsize = float(d_INI['CELLSIZE'])\n",
    "start_date = DT.strptime(d_INI['SDATE'], '%Y%m%d')\n",
    "end_date = DT.strptime(d_INI['EDATE'], '%Y%m%d')"
   ]
  },
  {
   "cell_type": "code",
   "execution_count": 11,
   "metadata": {},
   "outputs": [
    {
     "name": "stdout",
     "output_type": "stream",
     "text": [
      "The model area has 344 rows and 480 columns.\n"
     ]
    }
   ],
   "source": [
    "N_R, N_C = int( - (Ymin - Ymax) / cellsize ), int( (Xmax - Xmin) / cellsize ), \n",
    "print(f'The model area has {N_R} rows and {N_C} columns.')"
   ]
  },
  {
   "cell_type": "markdown",
   "metadata": {},
   "source": [
    "# 1. Read and prepare OBS IPF file"
   ]
  },
  {
   "cell_type": "code",
   "execution_count": 12,
   "metadata": {},
   "outputs": [
    {
     "name": "stderr",
     "output_type": "stream",
     "text": [
      "c:\\mamba_envs\\WS\\Lib\\site-packages\\imod\\formats\\ipf.py:30: UserWarning: Inconsistent IPF: header states 2 columns, first line contains 0\n",
      "  warnings.warn(\n",
      "c:\\mamba_envs\\WS\\Lib\\site-packages\\imod\\formats\\ipf.py:30: UserWarning: Inconsistent IPF: header states 2 columns, first line contains 0\n",
      "  warnings.warn(\n",
      "c:\\mamba_envs\\WS\\Lib\\site-packages\\imod\\formats\\ipf.py:30: UserWarning: Inconsistent IPF: header states 2 columns, first line contains 0\n",
      "  warnings.warn(\n",
      "c:\\mamba_envs\\WS\\Lib\\site-packages\\imod\\formats\\ipf.py:30: UserWarning: Inconsistent IPF: header states 2 columns, first line contains 0\n",
      "  warnings.warn(\n",
      "c:\\mamba_envs\\WS\\Lib\\site-packages\\imod\\formats\\ipf.py:30: UserWarning: Inconsistent IPF: header states 2 columns, first line contains 0\n",
      "  warnings.warn(\n",
      "c:\\mamba_envs\\WS\\Lib\\site-packages\\imod\\formats\\ipf.py:30: UserWarning: Inconsistent IPF: header states 2 columns, first line contains 0\n",
      "  warnings.warn(\n",
      "c:\\mamba_envs\\WS\\Lib\\site-packages\\imod\\formats\\ipf.py:30: UserWarning: Inconsistent IPF: header states 2 columns, first line contains 0\n",
      "  warnings.warn(\n",
      "c:\\mamba_envs\\WS\\Lib\\site-packages\\imod\\formats\\ipf.py:30: UserWarning: Inconsistent IPF: header states 2 columns, first line contains 0\n",
      "  warnings.warn(\n",
      "c:\\mamba_envs\\WS\\Lib\\site-packages\\imod\\formats\\ipf.py:30: UserWarning: Inconsistent IPF: header states 2 columns, first line contains 0\n",
      "  warnings.warn(\n",
      "c:\\mamba_envs\\WS\\Lib\\site-packages\\imod\\formats\\ipf.py:30: UserWarning: Inconsistent IPF: header states 2 columns, first line contains 0\n",
      "  warnings.warn(\n",
      "c:\\mamba_envs\\WS\\Lib\\site-packages\\imod\\formats\\ipf.py:30: UserWarning: Inconsistent IPF: header states 2 columns, first line contains 0\n",
      "  warnings.warn(\n",
      "c:\\mamba_envs\\WS\\Lib\\site-packages\\imod\\formats\\ipf.py:30: UserWarning: Inconsistent IPF: header states 2 columns, first line contains 0\n",
      "  warnings.warn(\n",
      "c:\\mamba_envs\\WS\\Lib\\site-packages\\imod\\formats\\ipf.py:30: UserWarning: Inconsistent IPF: header states 2 columns, first line contains 0\n",
      "  warnings.warn(\n",
      "c:\\mamba_envs\\WS\\Lib\\site-packages\\imod\\formats\\ipf.py:30: UserWarning: Inconsistent IPF: header states 2 columns, first line contains 0\n",
      "  warnings.warn(\n",
      "c:\\mamba_envs\\WS\\Lib\\site-packages\\imod\\formats\\ipf.py:30: UserWarning: Inconsistent IPF: header states 2 columns, first line contains 0\n",
      "  warnings.warn(\n",
      "c:\\mamba_envs\\WS\\Lib\\site-packages\\imod\\formats\\ipf.py:30: UserWarning: Inconsistent IPF: header states 2 columns, first line contains 0\n",
      "  warnings.warn(\n",
      "c:\\mamba_envs\\WS\\Lib\\site-packages\\imod\\formats\\ipf.py:30: UserWarning: Inconsistent IPF: header states 2 columns, first line contains 0\n",
      "  warnings.warn(\n",
      "c:\\mamba_envs\\WS\\Lib\\site-packages\\imod\\formats\\ipf.py:30: UserWarning: Inconsistent IPF: header states 2 columns, first line contains 0\n",
      "  warnings.warn(\n",
      "c:\\mamba_envs\\WS\\Lib\\site-packages\\imod\\formats\\ipf.py:30: UserWarning: Inconsistent IPF: header states 2 columns, first line contains 0\n",
      "  warnings.warn(\n",
      "c:\\mamba_envs\\WS\\Lib\\site-packages\\imod\\formats\\ipf.py:30: UserWarning: Inconsistent IPF: header states 2 columns, first line contains 0\n",
      "  warnings.warn(\n",
      "c:\\mamba_envs\\WS\\Lib\\site-packages\\imod\\formats\\ipf.py:30: UserWarning: Inconsistent IPF: header states 2 columns, first line contains 0\n",
      "  warnings.warn(\n",
      "c:\\mamba_envs\\WS\\Lib\\site-packages\\imod\\formats\\ipf.py:30: UserWarning: Inconsistent IPF: header states 2 columns, first line contains 0\n",
      "  warnings.warn(\n"
     ]
    }
   ],
   "source": [
    "DF_OBS_IPF = imod.formats.ipf.read(Pa_OBS_IPF) # Read IPF file containing OBS BHs"
   ]
  },
  {
   "cell_type": "code",
   "execution_count": 13,
   "metadata": {},
   "outputs": [],
   "source": [
    "DF_OBS_IPF.columns = DF_OBS_IPF.columns.str.replace(',-9999','') # Headers had ',-9999' in their names. They serve no purpose, hence will be removed."
   ]
  },
  {
   "cell_type": "code",
   "execution_count": 14,
   "metadata": {},
   "outputs": [],
   "source": [
    "# Limit to OBS within the Mdl Aa and Sim time.\n",
    "DF_OBS_IPF_MdlAa = DF_OBS_IPF.loc[( (DF_OBS_IPF['xcoordinate'] > Xmin) & (DF_OBS_IPF['xcoordinate'] < Xmax) ) &\n",
    "                                  ( (DF_OBS_IPF['ycoordinate'] > Ymin) & (DF_OBS_IPF['ycoordinate'] < Ymax) ) &\n",
    "                                  ( (DF_OBS_IPF['datetime'] > start_date) & (DF_OBS_IPF['datetime'] < end_date) )].copy() "
   ]
  },
  {
   "cell_type": "code",
   "execution_count": 15,
   "metadata": {},
   "outputs": [
    {
     "name": "stdout",
     "output_type": "stream",
     "text": [
      "99 out of 7036 locations/Obs BHs were selected.\n"
     ]
    }
   ],
   "source": [
    "print(f\"{len(DF_OBS_IPF_MdlAa['id'].unique())} out of {len(DF_OBS_IPF['id'].unique())} locations/Obs BHs were selected.\")"
   ]
  },
  {
   "cell_type": "markdown",
   "metadata": {},
   "source": [
    "The layer numbers are the old model layers, those have to be converted to the new ones."
   ]
  },
  {
   "cell_type": "code",
   "execution_count": 16,
   "metadata": {},
   "outputs": [],
   "source": [
    "DF_OBS_IPF_MdlAa['L'] = DF_OBS_IPF_MdlAa['ilay']*2 - 1"
   ]
  },
  {
   "cell_type": "markdown",
   "metadata": {},
   "source": [
    "Let's see if they're all even numbers now."
   ]
  },
  {
   "cell_type": "code",
   "execution_count": 17,
   "metadata": {},
   "outputs": [
    {
     "data": {
      "text/plain": [
       "L\n",
       "1      3\n",
       "3      1\n",
       "5     19\n",
       "7      5\n",
       "9      3\n",
       "11    14\n",
       "13     8\n",
       "15     5\n",
       "17    18\n",
       "19     2\n",
       "21     3\n",
       "23     5\n",
       "25     4\n",
       "35     7\n",
       "37     2\n",
       "Name: id, dtype: int64"
      ]
     },
     "execution_count": 17,
     "metadata": {},
     "output_type": "execute_result"
    }
   ],
   "source": [
    "DF_OBS_IPF_MdlAa.groupby('L')['id'].nunique()"
   ]
  },
  {
   "cell_type": "code",
   "execution_count": 18,
   "metadata": {},
   "outputs": [],
   "source": [
    "DF_OBS_IPF_MdlAa['R'] = ( -(DF_OBS_IPF_MdlAa['ycoordinate']-Ymax) / cellsize ).astype(np.int32) + 1 # Ymax is at the origin of the model.\n",
    "DF_OBS_IPF_MdlAa['C'] = ( (DF_OBS_IPF_MdlAa['xcoordinate']-Xmin) / cellsize ).astype(np.int32) + 1 # Xmin at the origin of the model."
   ]
  },
  {
   "cell_type": "code",
   "execution_count": 19,
   "metadata": {},
   "outputs": [],
   "source": [
    "DF_OBS_IPF_MdlAa.sort_values(by=[\"L\", \"R\", \"C\"], ascending=[True, True, True], inplace=True) # Let's sort the DF by L, R, C"
   ]
  },
  {
   "cell_type": "markdown",
   "metadata": {},
   "source": [
    "# 2. Read OBS Out file"
   ]
  },
  {
   "cell_type": "code",
   "execution_count": null,
   "metadata": {},
   "outputs": [],
   "source": [
    "DF_OBS_Out = fp.utils.Mf6Obs(Pa_OBS_Out).get_dataframe()"
   ]
  },
  {
   "cell_type": "code",
   "execution_count": 21,
   "metadata": {},
   "outputs": [],
   "source": [
    "model_time = (DF_OBS_Out.index - pd.Timestamp(\"1970-01-01\")).days # Convert existing datetime index back to model time (days since 1970-01-01)\n",
    "DF_OBS_Out.index = pd.to_datetime(start_date) + pd.to_timedelta(model_time, unit=\"D\") # Now apply the correct start date from TDIS"
   ]
  },
  {
   "cell_type": "code",
   "execution_count": 22,
   "metadata": {},
   "outputs": [],
   "source": [
    "DF_OBS_Out.drop('totim', axis=1, inplace=True) # We don't need the time since the start of the Sim anymore"
   ]
  },
  {
   "cell_type": "code",
   "execution_count": 23,
   "metadata": {},
   "outputs": [],
   "source": [
    "DF_OBS_Out = DF_OBS_Out[DF_OBS_Out.columns.sort_values()] # Sort columns/OBS Locs."
   ]
  },
  {
   "cell_type": "markdown",
   "metadata": {},
   "source": [
    "# 3. Validation"
   ]
  },
  {
   "cell_type": "markdown",
   "metadata": {},
   "source": [
    "# 3.0. Prep for Calc of Vld Metrices"
   ]
  },
  {
   "cell_type": "code",
   "execution_count": 24,
   "metadata": {},
   "outputs": [],
   "source": [
    "metrics = [WS.Vld_Mtc(\"NSE\", \"-\"),\n",
    "           WS.Vld_Mtc(\"RMSE\", \"m\"),\n",
    "           WS.Vld_Mtc(\"MAE\", \"m\"),\n",
    "           WS.Vld_Mtc(\"Correlation\", \"-\"),\n",
    "           WS.Vld_Mtc(\"Bias Ratio\", \"-\"),\n",
    "           WS.Vld_Mtc(\"Variability Ratio\", \"-\"),\n",
    "           WS.Vld_Mtc(\"KGE\", \"-\")]\n",
    "\n",
    "DF_Mtc = pd.DataFrame({\"Metric\": [metric.name for metric in metrics],\n",
    "                       \"Value\": np.nan,\n",
    "                       \"Unit\": [metric.unit for metric in metrics],\n",
    "                       'Formula': [metric.formula for metric in metrics]})"
   ]
  },
  {
   "cell_type": "code",
   "execution_count": 25,
   "metadata": {},
   "outputs": [
    {
     "data": {
      "text/html": [
       "<div>\n",
       "<style scoped>\n",
       "    .dataframe tbody tr th:only-of-type {\n",
       "        vertical-align: middle;\n",
       "    }\n",
       "\n",
       "    .dataframe tbody tr th {\n",
       "        vertical-align: top;\n",
       "    }\n",
       "\n",
       "    .dataframe thead th {\n",
       "        text-align: right;\n",
       "    }\n",
       "</style>\n",
       "<table border=\"1\" class=\"dataframe\">\n",
       "  <thead>\n",
       "    <tr style=\"text-align: right;\">\n",
       "      <th></th>\n",
       "      <th>NSE</th>\n",
       "      <th>RMSE</th>\n",
       "      <th>MAE</th>\n",
       "      <th>Correlation</th>\n",
       "      <th>Bias Ratio</th>\n",
       "      <th>Variability Ratio</th>\n",
       "      <th>KGE</th>\n",
       "    </tr>\n",
       "    <tr>\n",
       "      <th>Obs_id</th>\n",
       "      <th></th>\n",
       "      <th></th>\n",
       "      <th></th>\n",
       "      <th></th>\n",
       "      <th></th>\n",
       "      <th></th>\n",
       "      <th></th>\n",
       "    </tr>\n",
       "  </thead>\n",
       "  <tbody>\n",
       "  </tbody>\n",
       "</table>\n",
       "</div>"
      ],
      "text/plain": [
       "Empty DataFrame\n",
       "Columns: [NSE, RMSE, MAE, Correlation, Bias Ratio, Variability Ratio, KGE]\n",
       "Index: []"
      ]
     },
     "execution_count": 25,
     "metadata": {},
     "output_type": "execute_result"
    }
   ],
   "source": [
    "DF_Mtc_I = pd.DataFrame(columns=[i for i in DF_Mtc['Metric']]).astype(float)\n",
    "DF_Mtc_I.index.name = 'Obs_id'\n",
    "DF_Mtc_I"
   ]
  },
  {
   "cell_type": "markdown",
   "metadata": {},
   "source": [
    "## 3.1. Read in OBS_IPF .gpkg file."
   ]
  },
  {
   "cell_type": "code",
   "execution_count": 37,
   "metadata": {},
   "outputs": [],
   "source": [
    "l_GDF_Cs = [\"X\",\"Y\",\"L\",\"Id\",\"code\",\"filterno\",\"surfacelevel\",\"filtertoplevel\",\"filterbottomlevel\",\"path\"]"
   ]
  },
  {
   "cell_type": "code",
   "execution_count": 38,
   "metadata": {},
   "outputs": [],
   "source": [
    "Pa_OBS_gpkg = r'C:\\OD\\WS_Mdl\\models\\NBr\\PoP\\In\\OBS\\ijkset_selectie_Mdl_Aa_NBr7.gpkg'"
   ]
  },
  {
   "cell_type": "code",
   "execution_count": 39,
   "metadata": {},
   "outputs": [],
   "source": [
    "GDF = gpd.read_file(Pa_OBS_gpkg)"
   ]
  },
  {
   "cell_type": "code",
   "execution_count": 41,
   "metadata": {},
   "outputs": [],
   "source": [
    "for C in GDF.columns[-4:]:\n",
    "    l_GDF_Cs.append(C)"
   ]
  },
  {
   "cell_type": "code",
   "execution_count": 42,
   "metadata": {},
   "outputs": [],
   "source": [
    "GDF.columns = l_GDF_Cs"
   ]
  },
  {
   "cell_type": "markdown",
   "metadata": {},
   "source": [
    "## 3.1. Make HTML Calibration Plots"
   ]
  },
  {
   "cell_type": "code",
   "execution_count": 43,
   "metadata": {},
   "outputs": [],
   "source": [
    "Pa_Fo_HTML = PJ(Pa_Mdl, f'PoP/Out/{MdlN}/Vld/GW_HD_HTML')\n",
    "MDs(Pa_Fo_HTML, exist_ok=True) # Make folder to store HTML files if it doesn't already exist."
   ]
  },
  {
   "cell_type": "code",
   "execution_count": 44,
   "metadata": {},
   "outputs": [
    {
     "data": {
      "text/html": [
       "<div>\n",
       "<style scoped>\n",
       "    .dataframe tbody tr th:only-of-type {\n",
       "        vertical-align: middle;\n",
       "    }\n",
       "\n",
       "    .dataframe tbody tr th {\n",
       "        vertical-align: top;\n",
       "    }\n",
       "\n",
       "    .dataframe thead th {\n",
       "        text-align: right;\n",
       "    }\n",
       "</style>\n",
       "<table border=\"1\" class=\"dataframe\">\n",
       "  <thead>\n",
       "    <tr style=\"text-align: right;\">\n",
       "      <th></th>\n",
       "      <th>NSE</th>\n",
       "      <th>RMSE</th>\n",
       "      <th>MAE</th>\n",
       "      <th>Correlation</th>\n",
       "      <th>Bias Ratio</th>\n",
       "      <th>Variability Ratio</th>\n",
       "      <th>KGE</th>\n",
       "    </tr>\n",
       "    <tr>\n",
       "      <th>Obs_id</th>\n",
       "      <th></th>\n",
       "      <th></th>\n",
       "      <th></th>\n",
       "      <th></th>\n",
       "      <th></th>\n",
       "      <th></th>\n",
       "      <th></th>\n",
       "    </tr>\n",
       "  </thead>\n",
       "  <tbody>\n",
       "  </tbody>\n",
       "</table>\n",
       "</div>"
      ],
      "text/plain": [
       "Empty DataFrame\n",
       "Columns: [NSE, RMSE, MAE, Correlation, Bias Ratio, Variability Ratio, KGE]\n",
       "Index: []"
      ]
     },
     "execution_count": 44,
     "metadata": {},
     "output_type": "execute_result"
    }
   ],
   "source": [
    "DF_Mtc_I"
   ]
  },
  {
   "cell_type": "code",
   "execution_count": null,
   "metadata": {},
   "outputs": [
    {
     "name": "stdout",
     "output_type": "stream",
     "text": [
      "Saving 5028_2 ... completed!\n",
      "Saving 5028_3 ... completed!\n",
      "Saving 5029_1 ... completed!\n",
      "Saving 5029_3 ... completed!\n",
      "Saving 5187_1 ... completed!\n",
      "Saving 5205_1 ... completed!\n",
      "Saving 5206_1 ... completed!\n",
      "Saving 5207_1 ... completed!\n",
      "Saving 5212_1 ... completed!\n",
      "Saving 5213_1 ... completed!\n",
      "Saving 5231_1 ... completed!\n",
      "Saving 5237_1 ... completed!\n",
      "Saving 5238_1 ... completed!\n",
      "Saving 5239_1 ... completed!\n",
      "Saving 5240_1 ... completed!\n",
      "Saving 5241_1 ... completed!\n",
      "Saving 5243_1 ... completed!\n",
      "Saving 5244_1 ... completed!\n",
      "Saving 5249_1 ... completed!\n",
      "Saving 5250_1 ... completed!\n",
      "Saving 5256_1 ... completed!\n",
      "Saving 5305_2 ... completed!\n",
      "Saving 5349_1 ... completed!\n",
      "Saving 5349_2 ... completed!\n",
      "Saving 5357_2 ... completed!\n",
      "Saving 5359_1 ... completed!\n",
      "Saving B50B0056_1 ... completed!\n",
      "Saving B50B0056_2 ... completed!\n",
      "Saving B50B0057_2 ... completed!\n",
      "Saving B50B0057_3 ... completed!\n",
      "Saving B50B0057_4 ... completed!\n",
      "Saving B50B0070_1 ... completed!\n",
      "Saving B50B0070_2 ... completed!\n",
      "Saving B50B0070_3 ... completed!\n",
      "Saving B50B0070_5 ... completed!\n",
      "Saving B50B0070_6 ... completed!\n",
      "Saving B50B0070_7 ... completed!\n",
      "Saving B50B0071_3 ... completed!\n",
      "Saving B50B0073_1 ... completed!\n",
      "Saving B50B0073_2 ... completed!\n",
      "Saving B50B0074_2 ... completed!\n",
      "Saving B50B0075_1 ... completed!\n",
      "Saving B50B0075_2 ... completed!\n",
      "Saving B50B0075_3 ... completed!\n",
      "Saving B50B0075_7 ... completed!\n",
      "Saving B50B0077_1 ... completed!\n",
      "Saving B50B0077_2 ... completed!\n",
      "Saving B50B0077_6 ... completed!\n",
      "Saving B50B0210_1 ... completed!\n",
      "Saving B50B0210_2 ... completed!\n",
      "Saving B50B0210_3 ... completed!\n",
      "Saving B50B0212_1 ... completed!\n",
      "Saving B50B0214_1 ... completed!\n",
      "Saving B50B0214_2 ... completed!\n",
      "Saving B50B0214_3 ... completed!\n",
      "Saving B50B0214_4 ... completed!\n",
      "Saving B50B0216_1 ... completed!\n",
      "Saving B50B0216_2 ... completed!\n",
      "Saving B50B0371_1 ... completed!\n",
      "Saving B50B0374_1 ... completed!\n",
      "Saving B50B0376_1 ... completed!\n",
      "Saving B50B0380_1 ... completed!\n",
      "Saving B50B0393_1 ... completed!\n",
      "Saving B50B0428_2 ... completed!\n",
      "Saving B50B0428_3 ... completed!\n",
      "Saving B50B0438_1 ... completed!\n",
      "Saving B50B0438_3 ... completed!\n",
      "Saving B50B0505_1 ... completed!\n",
      "Saving B50B0527_1 ... completed!\n",
      "Saving B50B0529_1 ... completed!\n",
      "Saving B50B0546_2 ... completed!\n",
      "Saving B50B0555_2 ... completed!\n",
      "Saving B50B0566_1 ... completed!\n",
      "Saving B50B0577_1 ... completed!\n",
      "Saving B50B0583_1 ... completed!\n",
      "Saving B50B0583_2 ... completed!\n",
      "Saving B50B1186_1 ... completed!\n",
      "Saving B50E0140_2 ... completed!\n",
      "Saving B50E0140_3 ... completed!\n",
      "Saving B50E0140_6 ... completed!\n",
      "Saving B50E0146_2 ... completed!\n",
      "Saving B50E0157_2 ... completed!\n",
      "Saving B50E0199_1 ... completed!\n",
      "Saving B50E0199_2 ... completed!\n",
      "Saving B50E0199_3 ... completed!\n",
      "Saving B50E0346_1 ... completed!\n",
      "Saving B50E0346_2 ... completed!\n",
      "Saving B50E0346_5 ... completed!\n",
      "Saving B50E0348_1 ... completed!\n",
      "Saving B50E0348_2 ... completed!\n",
      "Saving B50E0348_4 ... completed!\n",
      "Saving B50E0379_1 ... completed!\n",
      "Saving B50E0429_1 ... completed!\n",
      "Saving B50E0537_2 ... completed!\n",
      "Saving B50E0539_1 ... completed!\n",
      "Saving B50E0541_1 ... completed!\n",
      "Saving B50E0548_1 ... completed!\n",
      "Saving B50E0563_1 ... completed!\n",
      "Saving B50E0566_1 ... completed!\n",
      "Finished creating HTML plots!\n"
     ]
    }
   ],
   "source": [
    "for id in DF_OBS_Out.columns[:]:\n",
    "    DF_outer = pd.merge(left=DF_OBS_IPF_MdlAa.loc[DF_OBS_IPF_MdlAa['id'] == id], right=DF_OBS_Out[id], how='outer', left_on='datetime', right_index=True)\n",
    "    DF_notNA = DF_outer[ (DF_outer['head'].notna()) & (DF_outer['id'].notna())]\n",
    "    first_idx, last_idx = DF_notNA.first_valid_index(), DF_notNA.last_valid_index() # Find first and last valid indices\n",
    "    DF = DF_outer.loc[first_idx:last_idx] # Slice the DataFrame. To Min and Max date where both Obs and Sim data are available.\n",
    "\n",
    "    X, Y, L, R, C = DF.loc[DF['id'] == id].iloc[0][['xcoordinate', 'ycoordinate', 'L', 'R', 'C']]\n",
    "    min_val, max_val = np.floor(min(DF['head'].min(), DF[id].min()) * 10) / 10, np.ceil(max(DF['head'].max(), DF[id].max()) * 10) / 10\n",
    "    buffer = (max_val - min_val) * 0.05\n",
    "    adj_min, adj_max = min_val - buffer, max_val + buffer\n",
    "\n",
    "    # Calculate validation metrics and append to DF_Vld_Glb\n",
    "    obs, sim = DF_notNA['head'].values, DF_notNA[id].values\n",
    "    for m in metrics:\n",
    "        DF_Mtc_I.loc[id, m.name] = m.compute(obs, sim)\n",
    "    DF_Pct = pd.DataFrame({'Percentile': np.linspace(0, 100, 101), 'Obs': np.percentile(DF_notNA['head'], np.linspace(0, 100, 101)), 'Sim': np.percentile(DF_notNA[id], np.linspace(0, 100, 101))}) # Compute percentiles for head and simulated values\n",
    "\n",
    "    # Make figure\n",
    "    fig = make_subplots(rows=2, cols=2, column_widths=[0.78, 0.22], row_heights=[0.5, 0.5], vertical_spacing=0.12, horizontal_spacing=0.05, subplot_titles=[\"Time-Series Plot\", \"Parity Plot\", \"Percentile Plot\"], specs=[[{\"rowspan\": 2}, {}], [None, {}]]) # Less horizontal space\n",
    "\n",
    "    # Create Plots for each Graph (TS, Parity, Pct)\n",
    "    fig.add_trace(go.Scatter(x=DF['datetime'], y=DF['head'], mode='markers', name='Observed', marker=dict(size=3, color='#74c476')), row=1, col=1) # TS plot - Obs dots\n",
    "    fig.add_trace(go.Scatter(x=DF['datetime'], y=DF[id], mode='lines', name='Simulated', line=dict(color='#005a1b')), row=1, col=1) # TS plot - Sim line\n",
    "\n",
    "    fig.add_trace(go.Scatter(x=DF['head'], y=DF[id], mode='markers', marker=dict(size=4, color='#3a8448'), name='Scatter',hovertemplate=\"Observed: %{x}<br>Simulated: %{y}<extra></extra>\"), row=1, col=2) # Parity - dots\n",
    "    fig.add_trace(go.Scatter(x=[adj_min, adj_max], y=[adj_min, adj_max], mode='lines', name='1:1 Line', line=dict(color='darkgrey', dash='dash')), row=1, col=2) # Parity - 1:1 line\n",
    "\n",
    "    fig.add_trace(go.Scatter(x=DF_Pct['Percentile'], y=DF_Pct['Obs'], mode='lines', name='Observed', line=dict(color='#74c476')), row=2, col=2) # Pct - Obs\n",
    "    fig.add_trace(go.Scatter(x=DF_Pct['Percentile'], y=DF_Pct['Sim'], mode='lines', name='Simulated', line=dict(color='#005a1b')), row=2, col=2) # Pct - Sim\n",
    "\n",
    "    stats_text = (\n",
    "        \"<span style='font-family:Courier New; white-space:pre;'>\"\n",
    "        \"NSE: {:>5.2f}  <br>\"\n",
    "        \"RMSE:{:>5.2f} m<br>\"\n",
    "        \"MAE: {:>5.2f} m<br>\"\n",
    "        \"Cor: {:>5.2f}  <br>\"\n",
    "        \"BR:{:>5.2f}  <br>\"\n",
    "        \"VR: {:>5.2f}  <br>\"\n",
    "        \"KGE: {:>5.2f}  </span>\"\n",
    "    ).format(\n",
    "    DF_Mtc_I.loc[id, 'NSE'],\n",
    "    DF_Mtc_I.loc[id, 'RMSE'],\n",
    "    DF_Mtc_I.loc[id, 'MAE'],\n",
    "    DF_Mtc_I.loc[id, 'Correlation'],\n",
    "    DF_Mtc_I.loc[id, 'Bias Ratio'],\n",
    "    DF_Mtc_I.loc[id, 'Variability Ratio'],\n",
    "    DF_Mtc_I.loc[id, 'KGE']\n",
    ")\n",
    "\n",
    "    fig.add_annotation(text=stats_text,\n",
    "                       xref=\"x domain\", yref=\"y domain\",\n",
    "                       x=1, y=0, showarrow=False,\n",
    "                       font=dict(size=12, family=\"Courier New\"),  # Ensures uniform spacing\n",
    "                       bgcolor=\"white\", borderwidth=1, borderpad=5,\n",
    "                       align=\"left\", row=1, col=2)\n",
    "\n",
    "    # Stylistic updates for each graph.\n",
    "    fig.update_yaxes(title_text='Head (mNAP)', tickformat=\".2f\", row=1, col=1)\n",
    "    fig.update_yaxes(title_text='Head (mNAP)', tickformat=\".2f\", row=2, col=2)\n",
    "    tick_step = round((adj_max - adj_min) / 10, 1)\n",
    "    tick_values = np.arange(adj_min, adj_max + tick_step, tick_step)\n",
    "    tick_values = np.round(tick_values, 1)\n",
    "    fig.update_xaxes(title_text='Observed Head (mNAP)', tickformat=\".1f\", row=1, col=2, range=[adj_min, adj_max], tickvals=tick_values)\n",
    "    fig.update_yaxes(title_text='Simulated Head (mNAP)', tickformat=\".1f\", row=1, col=2, range=[adj_min, adj_max], tickvals=tick_values)\n",
    "    fig.update_xaxes(title_text='Percentile (%)', tickformat=\".1f\", row=2, col=2)\n",
    "\n",
    "    # Add separate legends to each subplot\n",
    "    fig.add_annotation(text=\"<b>Simulated</b>  <span style='color:#005a1b;'>▬▬▬</span><br><b>Observed</b>        <span style='color:#74c476;'>●</span>\",\n",
    "                       xref=\"x domain\",yref=\"y domain\",\n",
    "                       x=0, y=1, showarrow=False,\n",
    "                       font=dict(size=14), bgcolor=\"white\",\n",
    "                       borderwidth=1, borderpad=5,align=\"left\",row=1, col=1)\n",
    "    fig.add_annotation(text=\"<b>Deviation</b> <span style='color:#3a8448;'>      ●</span> <br><b>1:1</b>              <span style='color:darkgrey;'>━ ━ ━</span>\",\n",
    "                       xref=\"x domain\",yref=\"y domain\",\n",
    "                       x=0, y=1, showarrow=False,\n",
    "                       font=dict(size=12), bgcolor=\"white\",\n",
    "                       borderwidth=1, borderpad=5,align=\"left\",row=1, col=2)\n",
    "    fig.add_annotation(text=\"<b>Simulated</b>  <span style='color:#005a1b;'>▬▬▬</span><br><b>Observed</b>        <span style='color:#74c476;'>●</span>\",\n",
    "                       xref=\"x domain\",yref=\"y domain\",\n",
    "                       x=0, y=1, showarrow=False,\n",
    "                       font=dict(size=12), bgcolor=\"white\",\n",
    "                       borderwidth=1, borderpad=5,align=\"left\",row=2, col=2)\n",
    "\n",
    "    # Layout options for all graphs.\n",
    "    fig.update_layout(title=dict(text=f'<b>Groundwater Head Validation - {MdlN}</b><br><span style=\"font-size:14px; font-weight:normal;\">id: {id} | X: {X}, Y: {Y}, L: {L}, R: {R}, C: {C}</span>', font=dict(size=20), y=0.98, x=0.5, xanchor='center'), margin=dict(t=80, b=40, l=40, r=40), xaxis_showgrid=True, yaxis_showgrid=True, showlegend=False)\n",
    "    fig.update_layout(legend=dict(font=dict(size=10)))\n",
    "    fig.update_layout(hovermode=\"x unified\",spikedistance=1000,xaxis_showspikes=True,yaxis_showspikes=False,xaxis_spikemode=\"across\")\n",
    "    fig.update_layout(\n",
    "        autosize=True,\n",
    "        width=None,\n",
    "        height=None,\n",
    "        margin=dict(autoexpand=True),\n",
    "        xaxis=dict(automargin=True),\n",
    "        yaxis=dict(automargin=True)) # Graph scaling, to avoid overlapping of graph elements.\n",
    "\n",
    "    print(f'Saving {id} ... ', end='')\n",
    "    fig.write_html(PJ(Pa_Fo_HTML, f'{id}.HTML'))\n",
    "    print('completed!')\n",
    "print('Finished creating HTML plots!')"
   ]
  },
  {
   "cell_type": "code",
   "execution_count": null,
   "metadata": {},
   "outputs": [
    {
     "data": {
      "text/plain": [
       "np.float64(-2.6177460293461325)"
      ]
     },
     "execution_count": 66,
     "metadata": {},
     "output_type": "execute_result"
    }
   ],
   "source": [
    "DF_Mtc_I['NSE']['5028_2']\n",
    "\n"
   ]
  },
  {
   "cell_type": "code",
   "execution_count": 60,
   "metadata": {},
   "outputs": [
    {
     "data": {
      "text/plain": [
       "NSE                 -0.958977\n",
       "RMSE                 0.420471\n",
       "MAE                  0.358575\n",
       "Correlation          0.888091\n",
       "Bias Ratio           0.977124\n",
       "Variability Ratio    1.530187\n",
       "KGE                  0.457648\n",
       "Name: B50E0157_2, dtype: float64"
      ]
     },
     "execution_count": 60,
     "metadata": {},
     "output_type": "execute_result"
    }
   ],
   "source": [
    "DF_Mtc_I.loc['B50E0157_2']"
   ]
  },
  {
   "cell_type": "code",
   "execution_count": 46,
   "metadata": {},
   "outputs": [
    {
     "data": {
      "text/html": [
       "<div>\n",
       "<style scoped>\n",
       "    .dataframe tbody tr th:only-of-type {\n",
       "        vertical-align: middle;\n",
       "    }\n",
       "\n",
       "    .dataframe tbody tr th {\n",
       "        vertical-align: top;\n",
       "    }\n",
       "\n",
       "    .dataframe thead th {\n",
       "        text-align: right;\n",
       "    }\n",
       "</style>\n",
       "<table border=\"1\" class=\"dataframe\">\n",
       "  <thead>\n",
       "    <tr style=\"text-align: right;\">\n",
       "      <th></th>\n",
       "      <th>NSE</th>\n",
       "      <th>RMSE</th>\n",
       "      <th>MAE</th>\n",
       "      <th>Correlation</th>\n",
       "      <th>Bias Ratio</th>\n",
       "      <th>Variability Ratio</th>\n",
       "      <th>KGE</th>\n",
       "    </tr>\n",
       "  </thead>\n",
       "  <tbody>\n",
       "    <tr>\n",
       "      <th>count</th>\n",
       "      <td>99.000000</td>\n",
       "      <td>99.000000</td>\n",
       "      <td>99.000000</td>\n",
       "      <td>99.000000</td>\n",
       "      <td>99.000000</td>\n",
       "      <td>99.000000</td>\n",
       "      <td>99.000000</td>\n",
       "    </tr>\n",
       "    <tr>\n",
       "      <th>mean</th>\n",
       "      <td>-3.550085</td>\n",
       "      <td>0.515397</td>\n",
       "      <td>0.465317</td>\n",
       "      <td>0.745533</td>\n",
       "      <td>0.985766</td>\n",
       "      <td>0.894929</td>\n",
       "      <td>0.542658</td>\n",
       "    </tr>\n",
       "    <tr>\n",
       "      <th>std</th>\n",
       "      <td>11.895749</td>\n",
       "      <td>0.548386</td>\n",
       "      <td>0.539914</td>\n",
       "      <td>0.234532</td>\n",
       "      <td>0.130122</td>\n",
       "      <td>0.515039</td>\n",
       "      <td>0.450196</td>\n",
       "    </tr>\n",
       "    <tr>\n",
       "      <th>min</th>\n",
       "      <td>-74.252511</td>\n",
       "      <td>0.073369</td>\n",
       "      <td>0.057798</td>\n",
       "      <td>-0.288539</td>\n",
       "      <td>0.455419</td>\n",
       "      <td>0.132824</td>\n",
       "      <td>-2.207691</td>\n",
       "    </tr>\n",
       "    <tr>\n",
       "      <th>25%</th>\n",
       "      <td>-1.642622</td>\n",
       "      <td>0.220591</td>\n",
       "      <td>0.175241</td>\n",
       "      <td>0.659039</td>\n",
       "      <td>0.949316</td>\n",
       "      <td>0.680098</td>\n",
       "      <td>0.483081</td>\n",
       "    </tr>\n",
       "    <tr>\n",
       "      <th>50%</th>\n",
       "      <td>-0.011431</td>\n",
       "      <td>0.322023</td>\n",
       "      <td>0.269830</td>\n",
       "      <td>0.827236</td>\n",
       "      <td>0.989235</td>\n",
       "      <td>0.784880</td>\n",
       "      <td>0.661515</td>\n",
       "    </tr>\n",
       "    <tr>\n",
       "      <th>75%</th>\n",
       "      <td>0.535781</td>\n",
       "      <td>0.651838</td>\n",
       "      <td>0.585767</td>\n",
       "      <td>0.906275</td>\n",
       "      <td>1.023984</td>\n",
       "      <td>0.942528</td>\n",
       "      <td>0.777179</td>\n",
       "    </tr>\n",
       "    <tr>\n",
       "      <th>max</th>\n",
       "      <td>0.879682</td>\n",
       "      <td>3.650488</td>\n",
       "      <td>3.611131</td>\n",
       "      <td>0.970539</td>\n",
       "      <td>1.872132</td>\n",
       "      <td>4.146508</td>\n",
       "      <td>0.936211</td>\n",
       "    </tr>\n",
       "  </tbody>\n",
       "</table>\n",
       "</div>"
      ],
      "text/plain": [
       "             NSE       RMSE        MAE  Correlation  Bias Ratio  \\\n",
       "count  99.000000  99.000000  99.000000    99.000000   99.000000   \n",
       "mean   -3.550085   0.515397   0.465317     0.745533    0.985766   \n",
       "std    11.895749   0.548386   0.539914     0.234532    0.130122   \n",
       "min   -74.252511   0.073369   0.057798    -0.288539    0.455419   \n",
       "25%    -1.642622   0.220591   0.175241     0.659039    0.949316   \n",
       "50%    -0.011431   0.322023   0.269830     0.827236    0.989235   \n",
       "75%     0.535781   0.651838   0.585767     0.906275    1.023984   \n",
       "max     0.879682   3.650488   3.611131     0.970539    1.872132   \n",
       "\n",
       "       Variability Ratio        KGE  \n",
       "count          99.000000  99.000000  \n",
       "mean            0.894929   0.542658  \n",
       "std             0.515039   0.450196  \n",
       "min             0.132824  -2.207691  \n",
       "25%             0.680098   0.483081  \n",
       "50%             0.784880   0.661515  \n",
       "75%             0.942528   0.777179  \n",
       "max             4.146508   0.936211  "
      ]
     },
     "execution_count": 46,
     "metadata": {},
     "output_type": "execute_result"
    }
   ],
   "source": [
    "DF_Mtc_I.describe()"
   ]
  },
  {
   "cell_type": "code",
   "execution_count": 47,
   "metadata": {},
   "outputs": [
    {
     "data": {
      "text/plain": [
       "(100, 14)"
      ]
     },
     "execution_count": 47,
     "metadata": {},
     "output_type": "execute_result"
    }
   ],
   "source": [
    "GDF.shape"
   ]
  },
  {
   "cell_type": "code",
   "execution_count": 48,
   "metadata": {},
   "outputs": [
    {
     "data": {
      "text/plain": [
       "str"
      ]
     },
     "execution_count": 48,
     "metadata": {},
     "output_type": "execute_result"
    }
   ],
   "source": [
    "type(DF_Mtc_I.index[0])"
   ]
  },
  {
   "cell_type": "code",
   "execution_count": 49,
   "metadata": {},
   "outputs": [
    {
     "data": {
      "text/plain": [
       "['B50B0545_2']"
      ]
     },
     "execution_count": 49,
     "metadata": {},
     "output_type": "execute_result"
    }
   ],
   "source": [
    "[i for i in GDF['Id'] if i not in DF_Mtc_I.index]"
   ]
  },
  {
   "cell_type": "code",
   "execution_count": 50,
   "metadata": {},
   "outputs": [],
   "source": [
    "GDF_Mtcs_I = GDF.merge(DF_Mtc_I, left_on=\"Id\", right_index=True, how=\"outer\")  # Use \"inner\" or \"outer\" if needed"
   ]
  },
  {
   "cell_type": "code",
   "execution_count": 51,
   "metadata": {},
   "outputs": [
    {
     "data": {
      "text/plain": [
       "'C:\\\\OD\\\\WS_Mdl\\\\models\\\\NBr\\\\PoP\\\\In\\\\OBS\\\\ijkset_selectie_Mdl_Aa_NBr7.gpkg'"
      ]
     },
     "execution_count": 51,
     "metadata": {},
     "output_type": "execute_result"
    }
   ],
   "source": [
    "Pa_OBS_gpkg"
   ]
  },
  {
   "cell_type": "code",
   "execution_count": 52,
   "metadata": {},
   "outputs": [],
   "source": [
    "GDF_Mtcs_I.to_file(Pa_OBS_gpkg)"
   ]
  },
  {
   "cell_type": "code",
   "execution_count": 53,
   "metadata": {},
   "outputs": [
    {
     "data": {
      "text/html": [
       "<div>\n",
       "<style scoped>\n",
       "    .dataframe tbody tr th:only-of-type {\n",
       "        vertical-align: middle;\n",
       "    }\n",
       "\n",
       "    .dataframe tbody tr th {\n",
       "        vertical-align: top;\n",
       "    }\n",
       "\n",
       "    .dataframe thead th {\n",
       "        text-align: right;\n",
       "    }\n",
       "</style>\n",
       "<table border=\"1\" class=\"dataframe\">\n",
       "  <thead>\n",
       "    <tr style=\"text-align: right;\">\n",
       "      <th></th>\n",
       "      <th>NSE</th>\n",
       "      <th>RMSE</th>\n",
       "      <th>MAE</th>\n",
       "      <th>Correlation</th>\n",
       "      <th>Bias Ratio</th>\n",
       "      <th>Variability Ratio</th>\n",
       "      <th>KGE</th>\n",
       "    </tr>\n",
       "    <tr>\n",
       "      <th>Obs_id</th>\n",
       "      <th></th>\n",
       "      <th></th>\n",
       "      <th></th>\n",
       "      <th></th>\n",
       "      <th></th>\n",
       "      <th></th>\n",
       "      <th></th>\n",
       "    </tr>\n",
       "  </thead>\n",
       "  <tbody>\n",
       "    <tr>\n",
       "      <th>B50B0376_1</th>\n",
       "      <td>0.805247</td>\n",
       "      <td>0.162672</td>\n",
       "      <td>0.136315</td>\n",
       "      <td>0.970539</td>\n",
       "      <td>0.983327</td>\n",
       "      <td>0.945934</td>\n",
       "      <td>0.936211</td>\n",
       "    </tr>\n",
       "    <tr>\n",
       "      <th>5029_1</th>\n",
       "      <td>0.858022</td>\n",
       "      <td>0.152268</td>\n",
       "      <td>0.112656</td>\n",
       "      <td>0.928807</td>\n",
       "      <td>0.996750</td>\n",
       "      <td>0.966040</td>\n",
       "      <td>0.921056</td>\n",
       "    </tr>\n",
       "    <tr>\n",
       "      <th>B50B0070_1</th>\n",
       "      <td>0.444258</td>\n",
       "      <td>0.286625</td>\n",
       "      <td>0.252675</td>\n",
       "      <td>0.917058</td>\n",
       "      <td>1.030792</td>\n",
       "      <td>1.001965</td>\n",
       "      <td>0.911505</td>\n",
       "    </tr>\n",
       "    <tr>\n",
       "      <th>B50B0529_1</th>\n",
       "      <td>0.843518</td>\n",
       "      <td>0.141091</td>\n",
       "      <td>0.115741</td>\n",
       "      <td>0.927596</td>\n",
       "      <td>1.000663</td>\n",
       "      <td>1.055990</td>\n",
       "      <td>0.908470</td>\n",
       "    </tr>\n",
       "    <tr>\n",
       "      <th>B50B0438_1</th>\n",
       "      <td>0.797747</td>\n",
       "      <td>0.178829</td>\n",
       "      <td>0.124934</td>\n",
       "      <td>0.929356</td>\n",
       "      <td>0.986305</td>\n",
       "      <td>0.916623</td>\n",
       "      <td>0.889864</td>\n",
       "    </tr>\n",
       "    <tr>\n",
       "      <th>...</th>\n",
       "      <td>...</td>\n",
       "      <td>...</td>\n",
       "      <td>...</td>\n",
       "      <td>...</td>\n",
       "      <td>...</td>\n",
       "      <td>...</td>\n",
       "      <td>...</td>\n",
       "    </tr>\n",
       "    <tr>\n",
       "      <th>B50B0393_1</th>\n",
       "      <td>-21.533984</td>\n",
       "      <td>0.694562</td>\n",
       "      <td>0.682655</td>\n",
       "      <td>0.504796</td>\n",
       "      <td>1.872132</td>\n",
       "      <td>0.132824</td>\n",
       "      <td>-0.325834</td>\n",
       "    </tr>\n",
       "    <tr>\n",
       "      <th>B50E0548_1</th>\n",
       "      <td>-3.060326</td>\n",
       "      <td>1.256672</td>\n",
       "      <td>0.999431</td>\n",
       "      <td>-0.288539</td>\n",
       "      <td>0.936403</td>\n",
       "      <td>0.535038</td>\n",
       "      <td>-0.371338</td>\n",
       "    </tr>\n",
       "    <tr>\n",
       "      <th>B50B0527_1</th>\n",
       "      <td>-4.789960</td>\n",
       "      <td>0.281781</td>\n",
       "      <td>0.238756</td>\n",
       "      <td>0.454798</td>\n",
       "      <td>0.992287</td>\n",
       "      <td>2.651886</td>\n",
       "      <td>-0.739550</td>\n",
       "    </tr>\n",
       "    <tr>\n",
       "      <th>B50B0070_7</th>\n",
       "      <td>-43.505428</td>\n",
       "      <td>3.147383</td>\n",
       "      <td>3.116712</td>\n",
       "      <td>0.805685</td>\n",
       "      <td>0.455419</td>\n",
       "      <td>3.340753</td>\n",
       "      <td>-1.411110</td>\n",
       "    </tr>\n",
       "    <tr>\n",
       "      <th>5349_1</th>\n",
       "      <td>-63.430918</td>\n",
       "      <td>0.476808</td>\n",
       "      <td>0.439282</td>\n",
       "      <td>0.403914</td>\n",
       "      <td>0.817106</td>\n",
       "      <td>4.146508</td>\n",
       "      <td>-2.207691</td>\n",
       "    </tr>\n",
       "  </tbody>\n",
       "</table>\n",
       "<p>99 rows × 7 columns</p>\n",
       "</div>"
      ],
      "text/plain": [
       "                  NSE      RMSE       MAE  Correlation  Bias Ratio  \\\n",
       "Obs_id                                                               \n",
       "B50B0376_1   0.805247  0.162672  0.136315     0.970539    0.983327   \n",
       "5029_1       0.858022  0.152268  0.112656     0.928807    0.996750   \n",
       "B50B0070_1   0.444258  0.286625  0.252675     0.917058    1.030792   \n",
       "B50B0529_1   0.843518  0.141091  0.115741     0.927596    1.000663   \n",
       "B50B0438_1   0.797747  0.178829  0.124934     0.929356    0.986305   \n",
       "...               ...       ...       ...          ...         ...   \n",
       "B50B0393_1 -21.533984  0.694562  0.682655     0.504796    1.872132   \n",
       "B50E0548_1  -3.060326  1.256672  0.999431    -0.288539    0.936403   \n",
       "B50B0527_1  -4.789960  0.281781  0.238756     0.454798    0.992287   \n",
       "B50B0070_7 -43.505428  3.147383  3.116712     0.805685    0.455419   \n",
       "5349_1     -63.430918  0.476808  0.439282     0.403914    0.817106   \n",
       "\n",
       "            Variability Ratio       KGE  \n",
       "Obs_id                                   \n",
       "B50B0376_1           0.945934  0.936211  \n",
       "5029_1               0.966040  0.921056  \n",
       "B50B0070_1           1.001965  0.911505  \n",
       "B50B0529_1           1.055990  0.908470  \n",
       "B50B0438_1           0.916623  0.889864  \n",
       "...                       ...       ...  \n",
       "B50B0393_1           0.132824 -0.325834  \n",
       "B50E0548_1           0.535038 -0.371338  \n",
       "B50B0527_1           2.651886 -0.739550  \n",
       "B50B0070_7           3.340753 -1.411110  \n",
       "5349_1               4.146508 -2.207691  \n",
       "\n",
       "[99 rows x 7 columns]"
      ]
     },
     "execution_count": 53,
     "metadata": {},
     "output_type": "execute_result"
    }
   ],
   "source": [
    "DF_Mtc_I.sort_values('KGE', ascending=False)"
   ]
  },
  {
   "cell_type": "code",
   "execution_count": 54,
   "metadata": {},
   "outputs": [
    {
     "data": {
      "text/html": [
       "<div>\n",
       "<style scoped>\n",
       "    .dataframe tbody tr th:only-of-type {\n",
       "        vertical-align: middle;\n",
       "    }\n",
       "\n",
       "    .dataframe tbody tr th {\n",
       "        vertical-align: top;\n",
       "    }\n",
       "\n",
       "    .dataframe thead th {\n",
       "        text-align: right;\n",
       "    }\n",
       "</style>\n",
       "<table border=\"1\" class=\"dataframe\">\n",
       "  <thead>\n",
       "    <tr style=\"text-align: right;\">\n",
       "      <th></th>\n",
       "      <th>NSE</th>\n",
       "      <th>RMSE</th>\n",
       "      <th>MAE</th>\n",
       "      <th>Correlation</th>\n",
       "      <th>Bias Ratio</th>\n",
       "      <th>Variability Ratio</th>\n",
       "      <th>KGE</th>\n",
       "    </tr>\n",
       "    <tr>\n",
       "      <th>Obs_id</th>\n",
       "      <th></th>\n",
       "      <th></th>\n",
       "      <th></th>\n",
       "      <th></th>\n",
       "      <th></th>\n",
       "      <th></th>\n",
       "      <th></th>\n",
       "    </tr>\n",
       "  </thead>\n",
       "  <tbody>\n",
       "    <tr>\n",
       "      <th>B50B0505_1</th>\n",
       "      <td>0.879682</td>\n",
       "      <td>0.073369</td>\n",
       "      <td>0.057798</td>\n",
       "      <td>0.958674</td>\n",
       "      <td>0.995114</td>\n",
       "      <td>0.7701</td>\n",
       "      <td>0.766364</td>\n",
       "    </tr>\n",
       "  </tbody>\n",
       "</table>\n",
       "</div>"
      ],
      "text/plain": [
       "                 NSE      RMSE       MAE  Correlation  Bias Ratio  \\\n",
       "Obs_id                                                              \n",
       "B50B0505_1  0.879682  0.073369  0.057798     0.958674    0.995114   \n",
       "\n",
       "            Variability Ratio       KGE  \n",
       "Obs_id                                   \n",
       "B50B0505_1             0.7701  0.766364  "
      ]
     },
     "execution_count": 54,
     "metadata": {},
     "output_type": "execute_result"
    }
   ],
   "source": [
    "DF_Mtc_I.loc[DF_Mtc_I['NSE']==DF_Mtc_I['NSE'].max()]"
   ]
  },
  {
   "cell_type": "code",
   "execution_count": 55,
   "metadata": {},
   "outputs": [
    {
     "data": {
      "text/html": [
       "<div>\n",
       "<style scoped>\n",
       "    .dataframe tbody tr th:only-of-type {\n",
       "        vertical-align: middle;\n",
       "    }\n",
       "\n",
       "    .dataframe tbody tr th {\n",
       "        vertical-align: top;\n",
       "    }\n",
       "\n",
       "    .dataframe thead th {\n",
       "        text-align: right;\n",
       "    }\n",
       "</style>\n",
       "<table border=\"1\" class=\"dataframe\">\n",
       "  <thead>\n",
       "    <tr style=\"text-align: right;\">\n",
       "      <th></th>\n",
       "      <th>NSE</th>\n",
       "      <th>RMSE</th>\n",
       "      <th>MAE</th>\n",
       "      <th>Correlation</th>\n",
       "      <th>Bias Ratio</th>\n",
       "      <th>Variability Ratio</th>\n",
       "      <th>KGE</th>\n",
       "    </tr>\n",
       "    <tr>\n",
       "      <th>Obs_id</th>\n",
       "      <th></th>\n",
       "      <th></th>\n",
       "      <th></th>\n",
       "      <th></th>\n",
       "      <th></th>\n",
       "      <th></th>\n",
       "      <th></th>\n",
       "    </tr>\n",
       "  </thead>\n",
       "  <tbody>\n",
       "    <tr>\n",
       "      <th>5029_1</th>\n",
       "      <td>0.858022</td>\n",
       "      <td>0.152268</td>\n",
       "      <td>0.112656</td>\n",
       "      <td>0.928807</td>\n",
       "      <td>0.996750</td>\n",
       "      <td>0.966040</td>\n",
       "      <td>0.921056</td>\n",
       "    </tr>\n",
       "    <tr>\n",
       "      <th>5231_1</th>\n",
       "      <td>0.856315</td>\n",
       "      <td>0.140688</td>\n",
       "      <td>0.113358</td>\n",
       "      <td>0.952327</td>\n",
       "      <td>1.010373</td>\n",
       "      <td>0.749377</td>\n",
       "      <td>0.744673</td>\n",
       "    </tr>\n",
       "    <tr>\n",
       "      <th>5359_1</th>\n",
       "      <td>0.801321</td>\n",
       "      <td>0.075652</td>\n",
       "      <td>0.063933</td>\n",
       "      <td>0.897459</td>\n",
       "      <td>1.005390</td>\n",
       "      <td>0.861685</td>\n",
       "      <td>0.827737</td>\n",
       "    </tr>\n",
       "    <tr>\n",
       "      <th>B50B0077_1</th>\n",
       "      <td>0.786374</td>\n",
       "      <td>0.142175</td>\n",
       "      <td>0.117030</td>\n",
       "      <td>0.951785</td>\n",
       "      <td>0.989235</td>\n",
       "      <td>0.732417</td>\n",
       "      <td>0.727895</td>\n",
       "    </tr>\n",
       "    <tr>\n",
       "      <th>B50B0376_1</th>\n",
       "      <td>0.805247</td>\n",
       "      <td>0.162672</td>\n",
       "      <td>0.136315</td>\n",
       "      <td>0.970539</td>\n",
       "      <td>0.983327</td>\n",
       "      <td>0.945934</td>\n",
       "      <td>0.936211</td>\n",
       "    </tr>\n",
       "    <tr>\n",
       "      <th>B50B0438_1</th>\n",
       "      <td>0.797747</td>\n",
       "      <td>0.178829</td>\n",
       "      <td>0.124934</td>\n",
       "      <td>0.929356</td>\n",
       "      <td>0.986305</td>\n",
       "      <td>0.916623</td>\n",
       "      <td>0.889864</td>\n",
       "    </tr>\n",
       "    <tr>\n",
       "      <th>B50B0505_1</th>\n",
       "      <td>0.879682</td>\n",
       "      <td>0.073369</td>\n",
       "      <td>0.057798</td>\n",
       "      <td>0.958674</td>\n",
       "      <td>0.995114</td>\n",
       "      <td>0.770100</td>\n",
       "      <td>0.766364</td>\n",
       "    </tr>\n",
       "    <tr>\n",
       "      <th>B50B0529_1</th>\n",
       "      <td>0.843518</td>\n",
       "      <td>0.141091</td>\n",
       "      <td>0.115741</td>\n",
       "      <td>0.927596</td>\n",
       "      <td>1.000663</td>\n",
       "      <td>1.055990</td>\n",
       "      <td>0.908470</td>\n",
       "    </tr>\n",
       "    <tr>\n",
       "      <th>B50B0546_2</th>\n",
       "      <td>0.836941</td>\n",
       "      <td>0.099605</td>\n",
       "      <td>0.074519</td>\n",
       "      <td>0.947566</td>\n",
       "      <td>1.007439</td>\n",
       "      <td>0.834117</td>\n",
       "      <td>0.825868</td>\n",
       "    </tr>\n",
       "    <tr>\n",
       "      <th>B50E0429_1</th>\n",
       "      <td>0.764258</td>\n",
       "      <td>0.193074</td>\n",
       "      <td>0.153530</td>\n",
       "      <td>0.906448</td>\n",
       "      <td>0.996912</td>\n",
       "      <td>0.692667</td>\n",
       "      <td>0.678729</td>\n",
       "    </tr>\n",
       "  </tbody>\n",
       "</table>\n",
       "</div>"
      ],
      "text/plain": [
       "                 NSE      RMSE       MAE  Correlation  Bias Ratio  \\\n",
       "Obs_id                                                              \n",
       "5029_1      0.858022  0.152268  0.112656     0.928807    0.996750   \n",
       "5231_1      0.856315  0.140688  0.113358     0.952327    1.010373   \n",
       "5359_1      0.801321  0.075652  0.063933     0.897459    1.005390   \n",
       "B50B0077_1  0.786374  0.142175  0.117030     0.951785    0.989235   \n",
       "B50B0376_1  0.805247  0.162672  0.136315     0.970539    0.983327   \n",
       "B50B0438_1  0.797747  0.178829  0.124934     0.929356    0.986305   \n",
       "B50B0505_1  0.879682  0.073369  0.057798     0.958674    0.995114   \n",
       "B50B0529_1  0.843518  0.141091  0.115741     0.927596    1.000663   \n",
       "B50B0546_2  0.836941  0.099605  0.074519     0.947566    1.007439   \n",
       "B50E0429_1  0.764258  0.193074  0.153530     0.906448    0.996912   \n",
       "\n",
       "            Variability Ratio       KGE  \n",
       "Obs_id                                   \n",
       "5029_1               0.966040  0.921056  \n",
       "5231_1               0.749377  0.744673  \n",
       "5359_1               0.861685  0.827737  \n",
       "B50B0077_1           0.732417  0.727895  \n",
       "B50B0376_1           0.945934  0.936211  \n",
       "B50B0438_1           0.916623  0.889864  \n",
       "B50B0505_1           0.770100  0.766364  \n",
       "B50B0529_1           1.055990  0.908470  \n",
       "B50B0546_2           0.834117  0.825868  \n",
       "B50E0429_1           0.692667  0.678729  "
      ]
     },
     "execution_count": 55,
     "metadata": {},
     "output_type": "execute_result"
    }
   ],
   "source": [
    "DF_Mtc_I.loc[DF_Mtc_I['NSE']>=0.75]"
   ]
  },
  {
   "cell_type": "code",
   "execution_count": 56,
   "metadata": {},
   "outputs": [
    {
     "ename": "NameError",
     "evalue": "name 'stop' is not defined",
     "output_type": "error",
     "traceback": [
      "\u001b[1;31m---------------------------------------------------------------------------\u001b[0m",
      "\u001b[1;31mNameError\u001b[0m                                 Traceback (most recent call last)",
      "Cell \u001b[1;32mIn[56], line 1\u001b[0m\n\u001b[1;32m----> 1\u001b[0m \u001b[43mstop\u001b[49m\n",
      "\u001b[1;31mNameError\u001b[0m: name 'stop' is not defined"
     ]
    }
   ],
   "source": [
    "stop"
   ]
  },
  {
   "cell_type": "code",
   "execution_count": null,
   "metadata": {},
   "outputs": [],
   "source": []
  },
  {
   "cell_type": "markdown",
   "metadata": {},
   "source": [
    "## 3.2. Make PNG Calibration Plots"
   ]
  },
  {
   "cell_type": "code",
   "execution_count": null,
   "metadata": {},
   "outputs": [],
   "source": [
    "if False: # False for now, cause more things need to be added to the PNGs. They're also not necessary, as the HTMLs do the job better.\n",
    "    Pa_Fo_PNG = PJ(Pa_Mdl, f'PoP/{MdlN}/Vld/GW_HD_PNG')\n",
    "    MDs(Pa_Fo_HTML, exist_ok=True) # Make folder to store HTML files if it doesn't already exist.\n",
    "\n",
    "    for id in DF_OBS_Out.columns[:]:\n",
    "        fig, ax = plt.subplots(figsize=(15, 5))\n",
    "\n",
    "        DF_OBS_id = DF_OBS_IPF_MdlAa.loc[DF_OBS_IPF_MdlAa['id'] == id] # Filter DF_OBS_id for the current id\n",
    "        X, Y, L, R, C = DF_OBS_id.iloc[0][['xcoordinate', 'ycoordinate', 'L', 'R', 'C']]\n",
    "\n",
    "        ax.plot(DF_OBS_Out.index, DF_OBS_Out[id], label=f'Simulated', marker='', linestyle='-', lw=2, color='#005a1b') # , linestyle='-' # Plot DF_OBS_Out (time series)\n",
    "        ax.plot(DF_OBS_id['datetime'], DF_OBS_id['head'], label=f'Observed', marker='.', ls='',markersize=3, color='#74c476') #  linestyle='-', # Plot DF_OBS_id (datetime vs head)    \n",
    "\n",
    "        ax.set_ylabel('Head (m)')\n",
    "        ax.set_title(f'id: {id}', fontsize=12, y=1.1, fontweight='bold')  # Main title\n",
    "        ax.text(0.5, 1.05, f'X: {X}, Y: {Y}, L: {L}, R: {R}, C: {C}', \n",
    "                fontsize=10, ha='center', va='top', transform=ax.transAxes)\n",
    "        ax.legend(loc='upper center')\n",
    "        ax.yaxis.set_major_formatter(plt.FuncFormatter(lambda x, _: f'{x:.2f}'))\n",
    "        ax.grid()\n",
    "\n",
    "        print(f'Saving {id} ... ', end='')\n",
    "        fig.savefig(PJ(Pa_Fo_PNG, f'{id}.png'), dpi=400, bbox_inches='tight')\n",
    "        plt.close(fig)  # Prevent display in the output\n",
    "        print('completed!')\n",
    "    print('Finished creating PNG images!')"
   ]
  },
  {
   "cell_type": "markdown",
   "metadata": {},
   "source": [
    "## 3.3. Global Performance"
   ]
  }
 ],
 "metadata": {
  "kernelspec": {
   "display_name": "Python 3",
   "language": "python",
   "name": "python3"
  },
  "language_info": {
   "codemirror_mode": {
    "name": "ipython",
    "version": 3
   },
   "file_extension": ".py",
   "mimetype": "text/x-python",
   "name": "python",
   "nbconvert_exporter": "python",
   "pygments_lexer": "ipython3",
   "version": "3.12.8"
  }
 },
 "nbformat": 4,
 "nbformat_minor": 2
}
