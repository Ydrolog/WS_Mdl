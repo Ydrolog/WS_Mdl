{
 "cells": [
  {
   "cell_type": "markdown",
   "metadata": {},
   "source": [
    "<span style=\"font-size:24px; font-family:'Roboto'; font-weight:bold;\">\n",
    "Script to create TS data from IDF files in folder\n",
    "</span>"
   ]
  },
  {
   "cell_type": "markdown",
   "metadata": {},
   "source": [
    "Designed to get HD TS at a specific location (Duivelsbrug)."
   ]
  },
  {
   "cell_type": "code",
   "execution_count": null,
   "metadata": {},
   "outputs": [],
   "source": [
    "import imod"
   ]
  },
  {
   "cell_type": "code",
   "execution_count": null,
   "metadata": {},
   "outputs": [],
   "source": [
    "import matplotlib.pyplot as plt\n",
    "import matplotlib.dates as mdates\n",
    "import pandas as pd\n",
    "import os"
   ]
  },
  {
   "cell_type": "markdown",
   "metadata": {},
   "source": [
    "# 1 Duivelsbrug - R48 C108"
   ]
  },
  {
   "cell_type": "code",
   "execution_count": null,
   "metadata": {},
   "outputs": [],
   "source": [
    "X = 113110.1\n",
    "Y = 397686.3"
   ]
  },
  {
   "cell_type": "code",
   "execution_count": null,
   "metadata": {},
   "outputs": [],
   "source": [
    "path_Fo = r'C:\\OD\\WS_Mdl\\models\\NBr\\Sim\\NBR2\\GWF_1\\MODELOUTPUT\\HEAD\\HEAD'"
   ]
  },
  {
   "cell_type": "code",
   "execution_count": null,
   "metadata": {},
   "outputs": [],
   "source": [
    "def Fo_IDFs_to_TS_DF(path_Fo, l_Fi, X, Y):\n",
    "\n",
    "    l_Vals = []\n",
    "\n",
    "    for Fi in l_Fi[:]:\n",
    "        A, MtDt = imod.idf.read(os.path.join(path_Fo, Fi))\n",
    "        R = int((Y - MtDt['ymax']) / MtDt['dy'])\n",
    "        C = int((X - MtDt['xmin']) / MtDt['dx'])\n",
    "        l_Vals.append([A[R, C], MtDt['time']])\n",
    "\n",
    "    print(R, C)\n",
    "    \n",
    "    return pd.DataFrame(l_Vals, columns=['Time', 'Value'])"
   ]
  },
  {
   "cell_type": "code",
   "execution_count": null,
   "metadata": {},
   "outputs": [],
   "source": [
    "DF = Fo_IDFs_to_TS_DF(path_Fo, [Fi for Fi in os.listdir(path_Fo) if '_L1.' in(Fi.upper())], X, Y)"
   ]
  },
  {
   "cell_type": "code",
   "execution_count": null,
   "metadata": {},
   "outputs": [],
   "source": [
    "path_Fo_S = r'C:\\OD\\WS_Mdl\\models\\NBr\\Sim\\NBR3\\GWF_1\\MODELOUTPUT\\HEAD\\HEAD'\n",
    "DF_S = Fo_IDFs_to_TS_DF(path_Fo_S, [Fi for Fi in os.listdir(path_Fo_S) if '_L1.' in(Fi.upper())], X, Y)"
   ]
  },
  {
   "cell_type": "code",
   "execution_count": null,
   "metadata": {},
   "outputs": [],
   "source": [
    "plt.figure(figsize=(15, 6))\n",
    "plt.plot(DF['Value'], DF['Time'], label=\"Baseline\")  # Keep Value on X and Time on Y\n",
    "plt.plot(DF_S['Value'], DF_S['Time'], label=\"Scenario\")  # Same for Scenario\n",
    "\n",
    "plt.gca().xaxis.set_major_locator(mdates.MonthLocator())  # Show only months\n",
    "plt.gca().xaxis.set_major_formatter(mdates.DateFormatter('%b %Y'))  # Format as 'Jan 2025'\n",
    "\n",
    "# Titles and labels\n",
    "plt.title(\"Groundwater Head at Duivelsbrug\")\n",
    "plt.ylabel(\"GWL (mNAP)\")  # Y-axis label for Time\n",
    "\n",
    "# Grid and legend\n",
    "plt.grid(color='gray', linestyle='--', linewidth=0.5)  # Adjust color, style, and width\n",
    "plt.legend()\n",
    "\n",
    "plt.show()\n"
   ]
  },
  {
   "cell_type": "code",
   "execution_count": null,
   "metadata": {},
   "outputs": [],
   "source": [
    "stop"
   ]
  },
  {
   "cell_type": "markdown",
   "metadata": {},
   "source": [
    "# 2 Left of Duivelsbrug - R C: 49 107"
   ]
  },
  {
   "cell_type": "code",
   "execution_count": null,
   "metadata": {},
   "outputs": [],
   "source": [
    "X = 113090.1\n",
    "Y = 397659.0"
   ]
  },
  {
   "cell_type": "code",
   "execution_count": null,
   "metadata": {},
   "outputs": [],
   "source": [
    "DF = Fo_IDFs_to_TS_DF(path_Fo, [Fi for Fi in os.listdir(path_Fo) if '_L1.' in(Fi.upper())], X, Y)\n",
    "DF_S = Fo_IDFs_to_TS_DF(path_Fo_S, [Fi for Fi in os.listdir(path_Fo_S) if '_L1.' in(Fi.upper())], X, Y)"
   ]
  },
  {
   "cell_type": "code",
   "execution_count": null,
   "metadata": {},
   "outputs": [],
   "source": [
    "plt.figure(figsize=(20, 10))\n",
    "plt.plot(DF['Value'], DF['Time'])\n",
    "plt.plot(DF_S['Value'], DF_S['Time'])\n",
    "\n",
    "plt.gca().xaxis.set_major_locator(mdates.MonthLocator())  # Show only months\n",
    "plt.gca().xaxis.set_major_formatter(mdates.DateFormatter('%b %Y'))  # Format as 'Jan 2025'\n",
    "plt.grid(True)  # Enable gridlines\n",
    "plt.legend()\n",
    "plt.show()"
   ]
  },
  {
   "cell_type": "markdown",
   "metadata": {},
   "source": [
    "# 3 Left of Duivelsbrug - R C: 49 107"
   ]
  },
  {
   "cell_type": "code",
   "execution_count": null,
   "metadata": {},
   "outputs": [],
   "source": [
    "X = 113113.6\n",
    "Y = 397634.7"
   ]
  },
  {
   "cell_type": "code",
   "execution_count": null,
   "metadata": {},
   "outputs": [],
   "source": [
    "DF = Fo_IDFs_to_TS_DF(path_Fo, [Fi for Fi in os.listdir(path_Fo) if '_L1.' in(Fi.upper())], X, Y)\n",
    "DF_S = Fo_IDFs_to_TS_DF(path_Fo_S, [Fi for Fi in os.listdir(path_Fo_S) if '_L1.' in(Fi.upper())], X, Y)"
   ]
  },
  {
   "cell_type": "code",
   "execution_count": null,
   "metadata": {},
   "outputs": [],
   "source": [
    "plt.figure(figsize=(20, 10))\n",
    "plt.plot(DF['Value'], DF['Time'])\n",
    "plt.plot(DF_S['Value'], DF_S['Time'])\n",
    "\n",
    "plt.gca().xaxis.set_major_locator(mdates.MonthLocator())  # Show only months\n",
    "plt.gca().xaxis.set_major_formatter(mdates.DateFormatter('%b %Y'))  # Format as 'Jan 2025'\n",
    "plt.grid(True)  # Enable gridlines\n",
    "plt.legend()\n",
    "plt.show()"
   ]
  }
 ],
 "metadata": {
  "kernelspec": {
   "display_name": "Python 3",
   "language": "python",
   "name": "python3"
  },
  "language_info": {
   "codemirror_mode": {
    "name": "ipython",
    "version": 3
   },
   "file_extension": ".py",
   "mimetype": "text/x-python",
   "name": "python",
   "nbconvert_exporter": "python",
   "pygments_lexer": "ipython3",
   "version": "3.12.8"
  }
 },
 "nbformat": 4,
 "nbformat_minor": 2
}
