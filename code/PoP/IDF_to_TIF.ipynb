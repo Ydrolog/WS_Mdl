{
 "cells": [
  {
   "cell_type": "markdown",
   "metadata": {},
   "source": [
    "<span style=\"font-size:24px; font-family:'Roboto'; font-weight:bold;\">\n",
    "Script to convert IDF files to TIF\n",
    "</span>"
   ]
  },
  {
   "cell_type": "code",
   "execution_count": 1,
   "metadata": {},
   "outputs": [],
   "source": [
    "import os
from os import listdir as LD, makedirs as MDs
from os.path import join as PJ, basename as PBN, dirname as PDN, exists as PE\n",
    "import sys\n",
    "path_Init = os.getcwd()\n",
    "path_WS_Mdl, path_code = PJ(path_Init, '../../'), PJ(path_Init, '../')\n",
    "sys.path.append(path_code)\n",
    "import WS_Mdl_Fn as fn # import functions defined for WS_Mdl (by me)"
   ]
  },
  {
   "cell_type": "code",
   "execution_count": 3,
   "metadata": {},
   "outputs": [],
   "source": [
    "path_Fo = r'C:\\OD\\WS_Mdl\\models\\NBr\\In\\RIV'\n",
    "l_RIV_Fi = [i for i in LD(path_Fo) if i.lower().endswith('.idf')]"
   ]
  },
  {
   "cell_type": "code",
   "execution_count": 4,
   "metadata": {},
   "outputs": [
    {
     "name": "stdout",
     "output_type": "stream",
     "text": [
      "C:\\OD\\WS_Mdl\\models\\NBr\\In\\RIV\\RIV_Bot_Detailwatergangen_NBr1.tif has been saved (GeoTIFF).\n"
     ]
    }
   ],
   "source": [
    "for f in l_RIV_Fi[:1]:\n",
    "    fn.IDF_to_TIF(PJ(path_Fo, f))"
   ]
  }
 ],
 "metadata": {
  "kernelspec": {
   "display_name": "Python 3",
   "language": "python",
   "name": "python3"
  },
  "language_info": {
   "codemirror_mode": {
    "name": "ipython",
    "version": 3
   },
   "file_extension": ".py",
   "mimetype": "text/x-python",
   "name": "python",
   "nbconvert_exporter": "python",
   "pygments_lexer": "ipython3",
   "version": "3.12.8"
  }
 },
 "nbformat": 4,
 "nbformat_minor": 2
}
