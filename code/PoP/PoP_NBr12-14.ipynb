{
 "cells": [
  {
   "cell_type": "markdown",
   "id": "7dda8526",
   "metadata": {},
   "source": [
    "# PoP NBr12-14"
   ]
  },
  {
   "cell_type": "code",
   "execution_count": null,
   "id": "576c79c0",
   "metadata": {},
   "outputs": [],
   "source": [
    "from WS_Mdl import utils as U\n",
    "from WS_Mdl import geo as G\n",
    "# import os\n",
    "# import pandas as pd\n",
    "# import numpy as np\n",
    "# from tqdm import tqdm\n",
    "# from pathlib import Path"
   ]
  },
  {
   "cell_type": "code",
   "execution_count": null,
   "id": "6b7fde0e",
   "metadata": {},
   "outputs": [],
   "source": [
    "import os\n",
    "from datetime import datetime as DT\n",
    "from WS_Mdl.geo import _HD_IDF_Mo_Avg_to_MBTIF_process_Mo \n",
    "N_cores = None\n",
    "from concurrent.futures import ProcessPoolExecutor as PPE"
   ]
  },
  {
   "cell_type": "code",
   "execution_count": null,
   "id": "67543cda",
   "metadata": {},
   "outputs": [],
   "source": [
    "import importlib\n",
    "importlib.reload(G)\n",
    "importlib.reload(U)"
   ]
  },
  {
   "cell_type": "markdown",
   "id": "537d16c8",
   "metadata": {},
   "source": [
    "# Options"
   ]
  },
  {
   "cell_type": "code",
   "execution_count": null,
   "id": "b1d007b7",
   "metadata": {},
   "outputs": [],
   "source": [
    "#l_MdlN = [f'NBr{i}' for i in range(12, 14+1)]"
   ]
  },
  {
   "cell_type": "markdown",
   "id": "2f93b335",
   "metadata": {},
   "source": [
    "# Calculate Mo AVG HDs maps for each L of a Sim"
   ]
  },
  {
   "cell_type": "code",
   "execution_count": null,
   "id": "e331741e",
   "metadata": {},
   "outputs": [],
   "source": [
    "MdlN = 'NBr13'\n",
    "L = None"
   ]
  },
  {
   "cell_type": "code",
   "execution_count": null,
   "id": "3d25e7c9",
   "metadata": {},
   "outputs": [],
   "source": [
    "d_paths = U.get_MdlN_paths(MdlN)\n",
    "path_PoP, path_HD = [ d_paths[v] for v in ['path_PoP', 'path_Out_HD'] ]"
   ]
  },
  {
   "cell_type": "code",
   "execution_count": null,
   "id": "b233f47b",
   "metadata": {},
   "outputs": [],
   "source": [
    "DF = U.HD_Out_IDF_to_DF(path_HD) # Read the IDF files to a DataFrame\n",
    "DF_grouped = DF.groupby(['year', 'month'])['path']"
   ]
  },
  {
   "cell_type": "code",
   "execution_count": null,
   "id": "b04886f6",
   "metadata": {},
   "outputs": [],
   "source": [
    "DF.sort_values(['day', 'L'])"
   ]
  },
  {
   "cell_type": "code",
   "execution_count": null,
   "id": "b5691a4b",
   "metadata": {},
   "outputs": [],
   "source": [
    "path_Mo_AVG_Fo = os.path.join(path_PoP, f'Out/{MdlN}/HD_Mo_AVG') # path where Mo AVG files are stored\n",
    "os.makedirs(path_Mo_AVG_Fo, exist_ok=True) # Create the directory if it doesn't exist\n",
    "\n",
    "if N_cores is None:\n",
    "    N_cores = max(os.cpu_count() - 2, 1) # Leave 2 cores free for other tasks. If there aren't enough cores available, set to 1.\n",
    "\n",
    "start = DT.now() # Start time\n",
    "with PPE(max_workers=N_cores) as E:\n",
    "    futures = [E.submit(_HD_IDF_Mo_Avg_to_MBTIF_process_Mo, year, month, list(paths), MdlN, path_Mo_AVG_Fo, path_HD, crs)\n",
    "                for (year, month), paths in DF_grouped]\n",
    "    for f in futures:\n",
    "        print('\\t', f.result(), '- Elapsed time (from start):', DT.now() - start)"
   ]
  },
  {
   "cell_type": "code",
   "execution_count": null,
   "id": "83e72951",
   "metadata": {},
   "outputs": [],
   "source": [
    "for MdlN in l_MdlN:\n",
    "    G.HD_IDF_Mo_Avg_to_MBTIF(MdlN)"
   ]
  },
  {
   "cell_type": "markdown",
   "id": "8d820e59",
   "metadata": {},
   "source": [
    "# Calculate differences"
   ]
  },
  {
   "cell_type": "code",
   "execution_count": null,
   "id": "1eb08252",
   "metadata": {},
   "outputs": [],
   "source": []
  },
  {
   "cell_type": "markdown",
   "id": "e41d9d89",
   "metadata": {},
   "source": [
    "# GXG"
   ]
  },
  {
   "cell_type": "code",
   "execution_count": null,
   "id": "8cb10e86",
   "metadata": {},
   "outputs": [],
   "source": [
    "for MdlN in l_MdlN:\n",
    "    G.HD_IDF_GXG_to_MBTIF(MdlN)"
   ]
  }
 ],
 "metadata": {
  "kernelspec": {
   "display_name": "WS",
   "language": "python",
   "name": "python3"
  },
  "language_info": {
   "codemirror_mode": {
    "name": "ipython",
    "version": 3
   },
   "file_extension": ".py",
   "mimetype": "text/x-python",
   "name": "python",
   "nbconvert_exporter": "python",
   "pygments_lexer": "ipython3",
   "version": "3.12.8"
  }
 },
 "nbformat": 4,
 "nbformat_minor": 5
}
