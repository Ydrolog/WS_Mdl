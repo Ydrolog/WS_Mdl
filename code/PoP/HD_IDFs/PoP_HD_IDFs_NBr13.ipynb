{
 "cells": [
  {
   "cell_type": "markdown",
   "metadata": {},
   "source": [
    "<span style=\"font-size:24px; font-family:'Roboto'; font-weight:bold;\">\n",
    "Script to PoP iMOD Sim HD outputs\n",
    "</span>"
   ]
  },
  {
   "cell_type": "markdown",
   "metadata": {},
   "source": [
    "You're advised to run the notebook cells one by one to understand what they're doing and avoid any problems."
   ]
  },
  {
   "cell_type": "code",
   "execution_count": 1,
   "metadata": {},
   "outputs": [],
   "source": [
    "from WS_Mdl import utils as Utl\n",
    "from WS_Mdl import utils_imod as Utl_IM\n",
    "from WS_Mdl import geo\n",
    "import os\n",
    "import pandas as pd\n",
    "import numpy as np\n",
    "from tqdm import tqdm"
   ]
  },
  {
   "cell_type": "markdown",
   "metadata": {},
   "source": [
    "# Options"
   ]
  },
  {
   "cell_type": "markdown",
   "metadata": {},
   "source": [
    "This block can be replaced with a configuration excel spreadsheet that will be read as a DF.\n",
    "I think it's preferable to have a working script first, then convert it to functions and a shorter main script, that's why I'm not using the Cfg s/s o the get go."
   ]
  },
  {
   "cell_type": "code",
   "execution_count": 2,
   "metadata": {},
   "outputs": [],
   "source": [
    "MdlN_S = 'NBr13'\n",
    "SmB = True"
   ]
  },
  {
   "cell_type": "markdown",
   "metadata": {},
   "source": [
    "# Infer parameters"
   ]
  },
  {
   "cell_type": "code",
   "execution_count": 3,
   "metadata": {},
   "outputs": [],
   "source": [
    "d_paths = Utl.get_MdlN_paths(MdlN_S)\n",
    "d_INI = Utl.INI_to_d(d_paths['path_INI_S'])\n",
    "Mdl = ''.join([i for i in MdlN_S if i.isalpha()])\n",
    "MdlN_B, path_PoP, path_MdlN_S, path_MdlN_B = [ d_paths[v] for v in ['MdlN_B', 'path_PoP', 'path_MdlN', 'path_MdlN_B'] ]"
   ]
  },
  {
   "cell_type": "code",
   "execution_count": 4,
   "metadata": {},
   "outputs": [],
   "source": [
    "l_Mo_winter = [10, 11, 12, 1, 2, 3]\n",
    "l_Mo_summer = [i for i in range(1,13) if i not in l_Mo_winter]\n",
    "l_layers = ['L1']"
   ]
  },
  {
   "cell_type": "code",
   "execution_count": 5,
   "metadata": {},
   "outputs": [],
   "source": [
    "S_Fi_HD_B = pd.Series([i for i in os.listdir(os.path.join(path_MdlN_B, f'GWF_1/MODELOUTPUT/HEAD/HEAD')) if i.split('.')[0].split('_')[-1] in l_layers])\n",
    "S_Fi_HD_S = pd.Series([i for i in os.listdir(os.path.join(path_MdlN_S, f'GWF_1/MODELOUTPUT/HEAD/HEAD')) if i.split('.')[0].split('_')[-1] in l_layers])\n",
    "\n",
    "S_path_HD_B = pd.Series([os.path.join(path_MdlN_B, f'GWF_1/MODELOUTPUT/HEAD/HEAD', i) for i in S_Fi_HD_B])\n",
    "S_path_HD_S = pd.Series([os.path.join(path_MdlN_S, f'GWF_1/MODELOUTPUT/HEAD/HEAD', i) for i in S_Fi_HD_S])"
   ]
  },
  {
   "cell_type": "code",
   "execution_count": 6,
   "metadata": {},
   "outputs": [],
   "source": [
    "S_Fi_B_Mo = S_Fi_HD_B.str.split(\"_\").str[1].str[4:6].astype(int)\n",
    "S_Fi_S_Mo = S_Fi_HD_S.str.split(\"_\").str[1].str[4:6].astype(int)"
   ]
  },
  {
   "cell_type": "markdown",
   "metadata": {},
   "source": [
    "# Load IDF's and calculate AVGs"
   ]
  },
  {
   "cell_type": "markdown",
   "metadata": {},
   "source": [
    "## B"
   ]
  },
  {
   "cell_type": "code",
   "execution_count": 7,
   "metadata": {},
   "outputs": [
    {
     "name": "stderr",
     "output_type": "stream",
     "text": [
      "Processing .IDF files: 100%|██████████| 3287/3287 [01:19<00:00, 41.18it/s]\n"
     ]
    }
   ],
   "source": [
    "DF_IDF_B = Utl_IM.IDFs_to_DF(S_path_HD_B)"
   ]
  },
  {
   "cell_type": "code",
   "execution_count": null,
   "metadata": {},
   "outputs": [],
   "source": []
  },
  {
   "cell_type": "code",
   "execution_count": null,
   "metadata": {},
   "outputs": [],
   "source": [
    "A_B_AVG = np.mean(np.stack(DF_IDF_B['IDF'].apply(lambda x: x[0])), axis=0)\n",
    "A_B_AVG_summer = np.mean(np.stack(DF_IDF_B.loc[ S_Fi_B_Mo.isin(l_Mo_summer), 'IDF'].apply(lambda x: x[0])), axis=0)\n",
    "A_B_AVG_winter = np.mean(np.stack(DF_IDF_B.loc[ S_Fi_B_Mo.isin(l_Mo_winter), 'IDF'].apply(lambda x: x[0])), axis=0)\n",
    "d_A_B_AVG = {'full_year': A_B_AVG,\n",
    "             'summer': A_B_AVG_summer,\n",
    "             'winter': A_B_AVG_winter}"
   ]
  },
  {
   "cell_type": "code",
   "execution_count": null,
   "metadata": {},
   "outputs": [],
   "source": [
    "IDF_MtDt = DF_IDF_B.at[0, 'IDF'][1] # The metadata for all IDF's is the same, except for time. But time doesn't matter for what we'll do."
   ]
  },
  {
   "cell_type": "code",
   "execution_count": null,
   "metadata": {},
   "outputs": [],
   "source": [
    "for k in d_A_B_AVG:\n",
    "    group = '' if k=='full_year' else (k+'_')\n",
    "    path_Out = os.path.join(path_PoP, 'HD_map', f'{Mdl}{SimN_B}', f'HD_{group}{Mdl}{SimN_B}.')\n",
    "    os.makedirs(os.path.dirname(path_Out), exist_ok=True)\n",
    "    A_to_Raster_n_IDF(d_A_B_AVG[k], IDF_MtDt, path_Out)"
   ]
  },
  {
   "cell_type": "markdown",
   "metadata": {},
   "source": [
    "## S"
   ]
  },
  {
   "cell_type": "code",
   "execution_count": null,
   "metadata": {},
   "outputs": [],
   "source": [
    "DF_IDF_S = make_DF_IDF(path_S, S_Fi_S)"
   ]
  },
  {
   "cell_type": "code",
   "execution_count": null,
   "metadata": {},
   "outputs": [],
   "source": [
    "A_S_AVG = np.mean(np.stack(DF_IDF_S['IDF'].apply(lambda x: x[0])), axis=0)\n",
    "A_S_AVG_summer = np.mean(np.stack(DF_IDF_S.loc[ S_Fi_S_Mo.isin(l_Mo_summer), 'IDF'].apply(lambda x: x[0])), axis=0)\n",
    "A_S_AVG_winter = np.mean(np.stack(DF_IDF_S.loc[ S_Fi_S_Mo.isin(l_Mo_winter), 'IDF'].apply(lambda x: x[0])), axis=0)\n",
    "d_A_S_AVG = {'full_year': A_S_AVG,\n",
    "             'summer': A_S_AVG_summer,\n",
    "             'winter': A_S_AVG_winter}"
   ]
  },
  {
   "cell_type": "code",
   "execution_count": null,
   "metadata": {},
   "outputs": [],
   "source": [
    "IDF_MtDt = DF_IDF_S.at[0, 'IDF'][1] # The metadata for all IDF's is the same, except for time. But time doesn't matter for what we'll do."
   ]
  },
  {
   "cell_type": "code",
   "execution_count": null,
   "metadata": {},
   "outputs": [],
   "source": [
    "for k in d_A_S_AVG:\n",
    "    group = '' if k=='full_year' else (k+'_')\n",
    "    path_Out = os.path.join(path_PoP, 'HD_map', f'{Mdl}{SimN_S}', f'HD_{group}{Mdl}{SimN_S}.')\n",
    "    os.makedirs(os.path.dirname(path_Out), exist_ok=True)\n",
    "    A_to_Raster_n_IDF(d_A_S_AVG[k], IDF_MtDt, path_Out)"
   ]
  },
  {
   "cell_type": "code",
   "execution_count": null,
   "metadata": {},
   "outputs": [],
   "source": []
  },
  {
   "cell_type": "code",
   "execution_count": null,
   "metadata": {},
   "outputs": [],
   "source": [
    "# import shutil\n",
    "# pd.set_option('display.width', 200)\n",
    "# pd.set_option('display.max_colwidth', None)\n",
    "# import openpyxl as xl\n",
    "# import matplotlib.pyplot as plt\n",
    "# import geopandas as gpd\n",
    "# import rasterio\n",
    "# from rasterio.transform import from_bounds\n",
    "# from shapely.geometry import shape\n",
    "# import xarray as xr"
   ]
  }
 ],
 "metadata": {
  "kernelspec": {
   "display_name": "Python 3",
   "language": "python",
   "name": "python3"
  },
  "language_info": {
   "codemirror_mode": {
    "name": "ipython",
    "version": 3
   },
   "file_extension": ".py",
   "mimetype": "text/x-python",
   "name": "python",
   "nbconvert_exporter": "python",
   "pygments_lexer": "ipython3",
   "version": "3.12.8"
  }
 },
 "nbformat": 4,
 "nbformat_minor": 2
}
