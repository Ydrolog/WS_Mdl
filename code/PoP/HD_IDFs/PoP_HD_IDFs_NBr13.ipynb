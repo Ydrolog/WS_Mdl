{
 "cells": [
  {
   "cell_type": "markdown",
   "metadata": {},
   "source": [
    "<span style=\"font-size:24px; font-family:'Roboto'; font-weight:bold;\">\n",
    "Script to PoP iMOD Sim HD outputs\n",
    "</span>"
   ]
  },
  {
   "cell_type": "markdown",
   "metadata": {},
   "source": [
    "You're advised to run the notebook cells one by one to understand what they're doing and avoid any problems."
   ]
  },
  {
   "cell_type": "code",
   "execution_count": 1,
   "metadata": {},
   "outputs": [],
   "source": [
    "from WS_Mdl import utils as U\n",
    "from WS_Mdl import utils_imod as UIM\n",
    "from WS_Mdl import geo as G\n",
    "import os\n",
    "import pandas as pd\n",
    "import numpy as np\n",
    "from tqdm import tqdm"
   ]
  },
  {
   "cell_type": "markdown",
   "metadata": {},
   "source": [
    "# Options"
   ]
  },
  {
   "cell_type": "code",
   "execution_count": 2,
   "metadata": {},
   "outputs": [],
   "source": [
    "MdlN_S = 'NBr13'\n",
    "SmB = True"
   ]
  },
  {
   "cell_type": "markdown",
   "metadata": {},
   "source": [
    "# Infer parameters"
   ]
  },
  {
   "cell_type": "code",
   "execution_count": 4,
   "metadata": {},
   "outputs": [
    {
     "name": "stdout",
     "output_type": "stream",
     "text": [
      "✅ - NBr13 paths extracted from RunLog and returned as dictionary with keys:\n",
      "Mdl, MdlN_B, path_Mdl, path_MdlN, path_Out_HD, path_PoP, path_PoP_Out_MdlN, path_INI, path_BAT, path_PRJ, path_Smk, path_MdlN_B, path_Out_HD_B, path_PoP_Out_MdlN_B, path_INI_B, path_BAT_B, path_PRJ_B, path_Smk_B\n",
      "✅ - INI file C:/OD/WS_Mdl\\models/NBr\\code/Mdl_Prep/Mdl_Prep_NBr13.ini read successfully. Dictionary created with 21 keys.\n"
     ]
    }
   ],
   "source": [
    "d_paths = U.get_MdlN_paths(MdlN_S)\n",
    "d_INI = U.INI_to_d(d_paths['path_INI'])\n",
    "MdlN_B, path_PoP, path_MdlN_S, path_MdlN_B, Mdl, path_Out_HD, path_Out_HD_B = [ d_paths[v] for v in ['MdlN_B', 'path_PoP', 'path_MdlN', 'path_MdlN_B', 'Mdl', 'path_Out_HD', 'path_Out_HD_B'] ]"
   ]
  },
  {
   "cell_type": "code",
   "execution_count": 5,
   "metadata": {},
   "outputs": [],
   "source": [
    "l_Mo_winter = [10, 11, 12, 1, 2, 3]\n",
    "l_Mo_summer = [i for i in range(1,13) if i not in l_Mo_winter]\n",
    "l_layers = ['L1']"
   ]
  },
  {
   "cell_type": "code",
   "execution_count": 6,
   "metadata": {},
   "outputs": [],
   "source": [
    "Se_path_HD_B = pd.Series([i for i in os.listdir(path_Out_HD_B) if i.lower().endswith('.idf')]).apply(lambda x: os.path.join(path_Out_HD_B, x))\n",
    "Se_Fi_HD_B = Se_path_HD_B.apply(lambda x: os.path.basename(x))\n",
    "Se_path_HD_S = pd.Series([i for i in os.listdir(path_Out_HD) if i.lower().endswith('.idf')]).apply(lambda x: os.path.join(path_Out_HD, x))\n",
    "Se_Fi_HD_S = Se_path_HD_S.apply(lambda x: os.path.basename(x))"
   ]
  },
  {
   "cell_type": "code",
   "execution_count": 7,
   "metadata": {},
   "outputs": [],
   "source": [
    "Se_Fi_B_Mo = Se_Fi_HD_B.str.split(\"_\").str[1].str[4:6].astype(int)\n",
    "Se_Fi_S_Mo = Se_Fi_HD_S.str.split(\"_\").str[1].str[4:6].astype(int)"
   ]
  },
  {
   "cell_type": "markdown",
   "metadata": {},
   "source": [
    "# Load IDF's and calculate AVGs"
   ]
  },
  {
   "cell_type": "markdown",
   "metadata": {},
   "source": [
    "## B"
   ]
  },
  {
   "cell_type": "code",
   "execution_count": 9,
   "metadata": {},
   "outputs": [
    {
     "name": "stderr",
     "output_type": "stream",
     "text": [
      "Loading .IDF files: 100%|██████████| 10/10 [00:00<00:00, 542.52it/s]\n"
     ]
    }
   ],
   "source": [
    "DF_IDF_B = UIM.IDFs_to_DF(Se_path_HD_B.iloc[:10])"
   ]
  },
  {
   "cell_type": "code",
   "execution_count": 10,
   "metadata": {},
   "outputs": [
    {
     "data": {
      "application/vnd.microsoft.datawrangler.viewer.v0+json": {
       "columns": [
        {
         "name": "index",
         "rawType": "int64",
         "type": "integer"
        },
        {
         "name": "path",
         "rawType": "object",
         "type": "string"
        },
        {
         "name": "IDF",
         "rawType": "object",
         "type": "unknown"
        }
       ],
       "ref": "69101062-1dea-4a49-931c-d7f0586f9fa6",
       "rows": [
        [
         "0",
         "C:/OD/WS_Mdl\\models/NBr\\Sim/NBr12\\GWF_1/MODELOUTPUT/HEAD/HEAD\\HEAD_20100101000000_L1.IDF",
         "(array([[ 2.1205072,  2.11753  ,  2.0634706, ...,  9.832757 ,  9.82305  ,\n         9.820761 ],\n       [ 2.121772 ,  2.1414373,  2.0904276, ...,  9.882762 ,  9.863968 ,\n         9.823056 ],\n       [ 2.1240077,  2.145009 ,  2.0941334, ...,  9.891854 ,  9.873984 ,\n         9.829185 ],\n       ...,\n       [ 7.2986474,  7.32643  ,  7.354524 , ..., 22.088728 , 22.08854  ,\n        22.07851  ],\n       [ 7.292349 ,  7.3189116,  7.3467627, ..., 22.103745 , 22.103603 ,\n        22.094534 ],\n       [ 7.289313 ,  7.2944975,  7.3194175, ..., 22.096352 , 22.096786 ,\n        22.09652  ]], dtype=float32), {'name': 'head', 'time': datetime.datetime(2010, 1, 1, 0, 0), 'layer': 1, 'extension': '.IDF', 'directory': Path('C:/OD/WS_Mdl/models/NBr/Sim/NBr12/GWF_1/MODELOUTPUT/HEAD/HEAD'), 'dims': ['time', 'layer'], 'xmin': 113100.0, 'xmax': 125100.0, 'ymin': 387600.0, 'ymax': 396200.0, 'dx': 25.0, 'dy': -25.0})"
        ],
        [
         "1",
         "C:/OD/WS_Mdl\\models/NBr\\Sim/NBr12\\GWF_1/MODELOUTPUT/HEAD/HEAD\\HEAD_20100101000000_L10.IDF",
         "(array([[ 2.0031214,  1.992437 ,  1.9591572, ..., 10.026773 , 10.02918  ,\n        10.030412 ],\n       [ 2.0045319,  1.9982065,  1.9660096, ..., 10.029986 , 10.032153 ,\n        10.033263 ],\n       [ 2.0062025,  2.0005555,  1.9685462, ..., 10.035874 , 10.037908 ,\n        10.038908 ],\n       ...,\n       [ 7.3063526,  7.3330564,  7.3612704, ..., 22.054434 , 22.053886 ,\n        22.052095 ],\n       [ 7.300093 ,  7.3252788,  7.3531713, ..., 22.067814 , 22.067513 ,\n        22.066124 ],\n       [ 7.29672  ,  7.30249  ,  7.327365 , ..., 22.072247 , 22.07229  ,\n        22.071905 ]], dtype=float32), {'name': 'head', 'time': datetime.datetime(2010, 1, 1, 0, 0), 'layer': 10, 'extension': '.IDF', 'directory': Path('C:/OD/WS_Mdl/models/NBr/Sim/NBr12/GWF_1/MODELOUTPUT/HEAD/HEAD'), 'dims': ['time', 'layer'], 'xmin': 113100.0, 'xmax': 125100.0, 'ymin': 387600.0, 'ymax': 396200.0, 'dx': 25.0, 'dy': -25.0})"
        ],
        [
         "2",
         "C:/OD/WS_Mdl\\models/NBr\\Sim/NBr12\\GWF_1/MODELOUTPUT/HEAD/HEAD\\HEAD_20100101000000_L11.IDF",
         "(array([[ 1.9608903,  1.9484155,  1.9224886, ..., 10.05224  , 10.053456 ,\n        10.0540695],\n       [ 1.9618047,  1.9496853,  1.9239246, ..., 10.05502  , 10.056196 ,\n        10.0567875],\n       [ 1.9632238,  1.9512496,  1.9255848, ..., 10.060542 , 10.061639 ,\n        10.062187 ],\n       ...,\n       [       nan,        nan,        nan, ..., 22.04865  , 22.04822  ,\n        22.047258 ],\n       [       nan,        nan,        nan, ..., 22.061878 , 22.06167  ,\n        22.060976 ],\n       [       nan,        nan,        nan, ..., 22.067451 , 22.06748  ,\n        22.0672   ]], dtype=float32), {'name': 'head', 'time': datetime.datetime(2010, 1, 1, 0, 0), 'layer': 11, 'extension': '.IDF', 'directory': Path('C:/OD/WS_Mdl/models/NBr/Sim/NBr12/GWF_1/MODELOUTPUT/HEAD/HEAD'), 'dims': ['time', 'layer'], 'xmin': 113100.0, 'xmax': 125100.0, 'ymin': 387600.0, 'ymax': 396200.0, 'dx': 25.0, 'dy': -25.0})"
        ],
        [
         "3",
         "C:/OD/WS_Mdl\\models/NBr\\Sim/NBr12\\GWF_1/MODELOUTPUT/HEAD/HEAD\\HEAD_20100101000000_L12.IDF",
         "(array([[nan, nan, nan, ..., nan, nan, nan],\n       [nan, nan, nan, ..., nan, nan, nan],\n       [nan, nan, nan, ..., nan, nan, nan],\n       ...,\n       [nan, nan, nan, ..., nan, nan, nan],\n       [nan, nan, nan, ..., nan, nan, nan],\n       [nan, nan, nan, ..., nan, nan, nan]], dtype=float32), {'name': 'head', 'time': datetime.datetime(2010, 1, 1, 0, 0), 'layer': 12, 'extension': '.IDF', 'directory': Path('C:/OD/WS_Mdl/models/NBr/Sim/NBr12/GWF_1/MODELOUTPUT/HEAD/HEAD'), 'dims': ['time', 'layer'], 'xmin': 113100.0, 'xmax': 125100.0, 'ymin': 387600.0, 'ymax': 396200.0, 'dx': 25.0, 'dy': -25.0})"
        ],
        [
         "4",
         "C:/OD/WS_Mdl\\models/NBr\\Sim/NBr12\\GWF_1/MODELOUTPUT/HEAD/HEAD\\HEAD_20100101000000_L13.IDF",
         "(array([[ 1.9605143,  1.9480246,  1.9221693, ..., 10.052256 , 10.053468 ,\n        10.05408  ],\n       [ 1.9614232,  1.949254 ,  1.923556 , ..., 10.055035 , 10.056208 ,\n        10.056798 ],\n       [ 1.9628378,  1.9508083,  1.9252052, ..., 10.060556 , 10.06165  ,\n        10.062198 ],\n       ...,\n       [       nan,        nan,        nan, ..., 22.04836  , 22.047935 ,\n        22.04701  ],\n       [       nan,        nan,        nan, ..., 22.061583 , 22.06138  ,\n        22.060715 ],\n       [       nan,        nan,        nan, ..., 22.067205 , 22.067234 ,\n        22.06696  ]], dtype=float32), {'name': 'head', 'time': datetime.datetime(2010, 1, 1, 0, 0), 'layer': 13, 'extension': '.IDF', 'directory': Path('C:/OD/WS_Mdl/models/NBr/Sim/NBr12/GWF_1/MODELOUTPUT/HEAD/HEAD'), 'dims': ['time', 'layer'], 'xmin': 113100.0, 'xmax': 125100.0, 'ymin': 387600.0, 'ymax': 396200.0, 'dx': 25.0, 'dy': -25.0})"
        ],
        [
         "5",
         "C:/OD/WS_Mdl\\models/NBr\\Sim/NBr12\\GWF_1/MODELOUTPUT/HEAD/HEAD\\HEAD_20100101000000_L14.IDF",
         "(array([[nan, nan, nan, ..., nan, nan, nan],\n       [nan, nan, nan, ..., nan, nan, nan],\n       [nan, nan, nan, ..., nan, nan, nan],\n       ...,\n       [nan, nan, nan, ..., nan, nan, nan],\n       [nan, nan, nan, ..., nan, nan, nan],\n       [nan, nan, nan, ..., nan, nan, nan]], dtype=float32), {'name': 'head', 'time': datetime.datetime(2010, 1, 1, 0, 0), 'layer': 14, 'extension': '.IDF', 'directory': Path('C:/OD/WS_Mdl/models/NBr/Sim/NBr12/GWF_1/MODELOUTPUT/HEAD/HEAD'), 'dims': ['time', 'layer'], 'xmin': 113100.0, 'xmax': 125100.0, 'ymin': 387600.0, 'ymax': 396200.0, 'dx': 25.0, 'dy': -25.0})"
        ],
        [
         "6",
         "C:/OD/WS_Mdl\\models/NBr\\Sim/NBr12\\GWF_1/MODELOUTPUT/HEAD/HEAD\\HEAD_20100101000000_L15.IDF",
         "(array([[ 1.9603072,  1.9478096,  1.9219983, ..., 10.052263 , 10.053473 ,\n        10.054085 ],\n       [ 1.9612123,  1.9490155,  1.9233559, ..., 10.055042 , 10.056212 ,\n        10.056803 ],\n       [ 1.9626249,  1.9505641,  1.9249989, ..., 10.060563 , 10.061655 ,\n        10.062202 ],\n       ...,\n       [       nan,        nan,        nan, ..., 22.048098 , 22.047676 ,\n        22.046778 ],\n       [       nan,        nan,        nan, ..., 22.061316 , 22.061117 ,\n        22.060472 ],\n       [       nan,        nan,        nan, ..., 22.066975 , 22.067003 ,\n        22.06673  ]], dtype=float32), {'name': 'head', 'time': datetime.datetime(2010, 1, 1, 0, 0), 'layer': 15, 'extension': '.IDF', 'directory': Path('C:/OD/WS_Mdl/models/NBr/Sim/NBr12/GWF_1/MODELOUTPUT/HEAD/HEAD'), 'dims': ['time', 'layer'], 'xmin': 113100.0, 'xmax': 125100.0, 'ymin': 387600.0, 'ymax': 396200.0, 'dx': 25.0, 'dy': -25.0})"
        ],
        [
         "7",
         "C:/OD/WS_Mdl\\models/NBr\\Sim/NBr12\\GWF_1/MODELOUTPUT/HEAD/HEAD\\HEAD_20100101000000_L16.IDF",
         "(array([[       nan,        nan,        nan, ...,  9.7712755,  9.771598 ,\n         9.771757 ],\n       [       nan,        nan,        nan, ...,  9.772681 ,  9.772989 ,\n         9.77314  ],\n       [       nan,        nan,        nan, ...,  9.779233 ,  9.7794695,\n         9.779606 ],\n       ...,\n       [ 7.9427204,  7.95332  ,  7.97171  , ..., 21.13318  , 21.132875 ,\n        21.132383 ],\n       [ 7.940206 ,  7.9501944,  7.9685926, ..., 21.1428   , 21.142593 ,\n        21.142206 ],\n       [ 7.938963 ,  7.9418154,  7.959059 , ..., 21.145746 , 21.145628 ,\n        21.145386 ]], dtype=float32), {'name': 'head', 'time': datetime.datetime(2010, 1, 1, 0, 0), 'layer': 16, 'extension': '.IDF', 'directory': Path('C:/OD/WS_Mdl/models/NBr/Sim/NBr12/GWF_1/MODELOUTPUT/HEAD/HEAD'), 'dims': ['time', 'layer'], 'xmin': 113100.0, 'xmax': 125100.0, 'ymin': 387600.0, 'ymax': 396200.0, 'dx': 25.0, 'dy': -25.0})"
        ],
        [
         "8",
         "C:/OD/WS_Mdl\\models/NBr\\Sim/NBr12\\GWF_1/MODELOUTPUT/HEAD/HEAD\\HEAD_20100101000000_L17.IDF",
         "(array([[ 1.9594263,  1.9468943,  1.9213105, ...,  9.707734 ,  9.7074175,\n         9.707259 ],\n       [ 1.96031  ,  1.9479891,  1.9225281, ...,  9.708944 ,  9.708626 ,\n         9.7084675],\n       [ 1.9617311,  1.9495294,  1.9241549, ...,  9.711365 ,  9.711046 ,\n         9.710887 ],\n       ...,\n       [       nan,        nan,        nan, ..., 20.15018  , 20.149479 ,\n        20.149136 ],\n       [       nan,        nan,        nan, ..., 20.153168 , 20.15247  ,\n        20.15213  ],\n       [       nan,        nan,        nan, ..., 20.154648 , 20.153954 ,\n        20.153616 ]], dtype=float32), {'name': 'head', 'time': datetime.datetime(2010, 1, 1, 0, 0), 'layer': 17, 'extension': '.IDF', 'directory': Path('C:/OD/WS_Mdl/models/NBr/Sim/NBr12/GWF_1/MODELOUTPUT/HEAD/HEAD'), 'dims': ['time', 'layer'], 'xmin': 113100.0, 'xmax': 125100.0, 'ymin': 387600.0, 'ymax': 396200.0, 'dx': 25.0, 'dy': -25.0})"
        ],
        [
         "9",
         "C:/OD/WS_Mdl\\models/NBr\\Sim/NBr12\\GWF_1/MODELOUTPUT/HEAD/HEAD\\HEAD_20100101000000_L18.IDF",
         "(array([[ 2.4211159,  2.4148133,  2.4003341, ...,  9.7070465,  9.70673  ,\n         9.706573 ],\n       [ 2.4218402,  2.415625 ,  2.4012003, ...,  9.708253 ,  9.707935 ,\n         9.707778 ],\n       [ 2.4234302,  2.4172688,  2.40289  , ...,  9.710668 ,  9.710349 ,\n         9.710191 ],\n       ...,\n       [ 8.699301 ,  8.701524 ,  8.707059 , ..., 19.949942 , 19.949913 ,\n        19.949915 ],\n       [ 8.700298 ,  8.702435 ,  8.708039 , ..., 19.95276  , 19.952734 ,\n        19.952738 ],\n       [ 8.700593 ,  8.702275 ,  8.707766 , ..., 19.953861 , 19.953836 ,\n        19.95384  ]], dtype=float32), {'name': 'head', 'time': datetime.datetime(2010, 1, 1, 0, 0), 'layer': 18, 'extension': '.IDF', 'directory': Path('C:/OD/WS_Mdl/models/NBr/Sim/NBr12/GWF_1/MODELOUTPUT/HEAD/HEAD'), 'dims': ['time', 'layer'], 'xmin': 113100.0, 'xmax': 125100.0, 'ymin': 387600.0, 'ymax': 396200.0, 'dx': 25.0, 'dy': -25.0})"
        ]
       ],
       "shape": {
        "columns": 2,
        "rows": 10
       }
      },
      "text/html": [
       "<div>\n",
       "<style scoped>\n",
       "    .dataframe tbody tr th:only-of-type {\n",
       "        vertical-align: middle;\n",
       "    }\n",
       "\n",
       "    .dataframe tbody tr th {\n",
       "        vertical-align: top;\n",
       "    }\n",
       "\n",
       "    .dataframe thead th {\n",
       "        text-align: right;\n",
       "    }\n",
       "</style>\n",
       "<table border=\"1\" class=\"dataframe\">\n",
       "  <thead>\n",
       "    <tr style=\"text-align: right;\">\n",
       "      <th></th>\n",
       "      <th>path</th>\n",
       "      <th>IDF</th>\n",
       "    </tr>\n",
       "  </thead>\n",
       "  <tbody>\n",
       "    <tr>\n",
       "      <th>0</th>\n",
       "      <td>C:/OD/WS_Mdl\\models/NBr\\Sim/NBr12\\GWF_1/MODELO...</td>\n",
       "      <td>([[2.1205072, 2.11753, 2.0634706, 1.9590068, 1...</td>\n",
       "    </tr>\n",
       "    <tr>\n",
       "      <th>1</th>\n",
       "      <td>C:/OD/WS_Mdl\\models/NBr\\Sim/NBr12\\GWF_1/MODELO...</td>\n",
       "      <td>([[2.0031214, 1.992437, 1.9591572, 1.9046625, ...</td>\n",
       "    </tr>\n",
       "    <tr>\n",
       "      <th>2</th>\n",
       "      <td>C:/OD/WS_Mdl\\models/NBr\\Sim/NBr12\\GWF_1/MODELO...</td>\n",
       "      <td>([[1.9608903, 1.9484155, 1.9224886, 1.8844573,...</td>\n",
       "    </tr>\n",
       "    <tr>\n",
       "      <th>3</th>\n",
       "      <td>C:/OD/WS_Mdl\\models/NBr\\Sim/NBr12\\GWF_1/MODELO...</td>\n",
       "      <td>([[nan, nan, nan, nan, nan, nan, nan, nan, nan...</td>\n",
       "    </tr>\n",
       "    <tr>\n",
       "      <th>4</th>\n",
       "      <td>C:/OD/WS_Mdl\\models/NBr\\Sim/NBr12\\GWF_1/MODELO...</td>\n",
       "      <td>([[1.9605143, 1.9480246, 1.9221693, 1.8842961,...</td>\n",
       "    </tr>\n",
       "    <tr>\n",
       "      <th>5</th>\n",
       "      <td>C:/OD/WS_Mdl\\models/NBr\\Sim/NBr12\\GWF_1/MODELO...</td>\n",
       "      <td>([[nan, nan, nan, nan, nan, nan, nan, nan, nan...</td>\n",
       "    </tr>\n",
       "    <tr>\n",
       "      <th>6</th>\n",
       "      <td>C:/OD/WS_Mdl\\models/NBr\\Sim/NBr12\\GWF_1/MODELO...</td>\n",
       "      <td>([[1.9603072, 1.9478096, 1.9219983, 1.8842221,...</td>\n",
       "    </tr>\n",
       "    <tr>\n",
       "      <th>7</th>\n",
       "      <td>C:/OD/WS_Mdl\\models/NBr\\Sim/NBr12\\GWF_1/MODELO...</td>\n",
       "      <td>([[nan, nan, nan, nan, nan, nan, nan, nan, nan...</td>\n",
       "    </tr>\n",
       "    <tr>\n",
       "      <th>8</th>\n",
       "      <td>C:/OD/WS_Mdl\\models/NBr\\Sim/NBr12\\GWF_1/MODELO...</td>\n",
       "      <td>([[1.9594263, 1.9468943, 1.9213105, 1.8840382,...</td>\n",
       "    </tr>\n",
       "    <tr>\n",
       "      <th>9</th>\n",
       "      <td>C:/OD/WS_Mdl\\models/NBr\\Sim/NBr12\\GWF_1/MODELO...</td>\n",
       "      <td>([[2.4211159, 2.4148133, 2.4003341, 2.3783822,...</td>\n",
       "    </tr>\n",
       "  </tbody>\n",
       "</table>\n",
       "</div>"
      ],
      "text/plain": [
       "                                                path  \\\n",
       "0  C:/OD/WS_Mdl\\models/NBr\\Sim/NBr12\\GWF_1/MODELO...   \n",
       "1  C:/OD/WS_Mdl\\models/NBr\\Sim/NBr12\\GWF_1/MODELO...   \n",
       "2  C:/OD/WS_Mdl\\models/NBr\\Sim/NBr12\\GWF_1/MODELO...   \n",
       "3  C:/OD/WS_Mdl\\models/NBr\\Sim/NBr12\\GWF_1/MODELO...   \n",
       "4  C:/OD/WS_Mdl\\models/NBr\\Sim/NBr12\\GWF_1/MODELO...   \n",
       "5  C:/OD/WS_Mdl\\models/NBr\\Sim/NBr12\\GWF_1/MODELO...   \n",
       "6  C:/OD/WS_Mdl\\models/NBr\\Sim/NBr12\\GWF_1/MODELO...   \n",
       "7  C:/OD/WS_Mdl\\models/NBr\\Sim/NBr12\\GWF_1/MODELO...   \n",
       "8  C:/OD/WS_Mdl\\models/NBr\\Sim/NBr12\\GWF_1/MODELO...   \n",
       "9  C:/OD/WS_Mdl\\models/NBr\\Sim/NBr12\\GWF_1/MODELO...   \n",
       "\n",
       "                                                 IDF  \n",
       "0  ([[2.1205072, 2.11753, 2.0634706, 1.9590068, 1...  \n",
       "1  ([[2.0031214, 1.992437, 1.9591572, 1.9046625, ...  \n",
       "2  ([[1.9608903, 1.9484155, 1.9224886, 1.8844573,...  \n",
       "3  ([[nan, nan, nan, nan, nan, nan, nan, nan, nan...  \n",
       "4  ([[1.9605143, 1.9480246, 1.9221693, 1.8842961,...  \n",
       "5  ([[nan, nan, nan, nan, nan, nan, nan, nan, nan...  \n",
       "6  ([[1.9603072, 1.9478096, 1.9219983, 1.8842221,...  \n",
       "7  ([[nan, nan, nan, nan, nan, nan, nan, nan, nan...  \n",
       "8  ([[1.9594263, 1.9468943, 1.9213105, 1.8840382,...  \n",
       "9  ([[2.4211159, 2.4148133, 2.4003341, 2.3783822,...  "
      ]
     },
     "execution_count": 10,
     "metadata": {},
     "output_type": "execute_result"
    }
   ],
   "source": [
    "DF_IDF_B"
   ]
  },
  {
   "cell_type": "code",
   "execution_count": null,
   "metadata": {},
   "outputs": [],
   "source": [
    "S_path_HD_B.iloc[0]"
   ]
  },
  {
   "cell_type": "code",
   "execution_count": null,
   "metadata": {},
   "outputs": [],
   "source": [
    "print([os.path.basename(i) for i in S_path_HD_B.iloc[0:10]])"
   ]
  },
  {
   "cell_type": "code",
   "execution_count": null,
   "metadata": {},
   "outputs": [],
   "source": [
    "print([os.path.basename(i) for i in S_path_HD_B.iloc[-10:]])"
   ]
  },
  {
   "cell_type": "code",
   "execution_count": null,
   "metadata": {},
   "outputs": [],
   "source": [
    "XA_HD_B = imod.formats.idf.open(list(S_path_HD_B), pattern=\"{name}_{DT}_L{layer}\")"
   ]
  },
  {
   "cell_type": "code",
   "execution_count": null,
   "metadata": {},
   "outputs": [],
   "source": [
    "XA_HD_B"
   ]
  },
  {
   "cell_type": "code",
   "execution_count": null,
   "metadata": {},
   "outputs": [],
   "source": [
    "XA_HD_B.coords[\"dt\"] = pd.to_datetime(XA_HD_B.coords[\"dt\"].values, format=\"%Y%m%d%H%M%S\")"
   ]
  },
  {
   "cell_type": "code",
   "execution_count": null,
   "metadata": {},
   "outputs": [],
   "source": [
    "XA_HD_B.coords[\"month\"] = XA_HD_B.coords[\"dt\"].to_index().to_period(\"M\")"
   ]
  },
  {
   "cell_type": "code",
   "execution_count": null,
   "metadata": {},
   "outputs": [],
   "source": [
    "XA_HD_B"
   ]
  },
  {
   "cell_type": "code",
   "execution_count": null,
   "metadata": {},
   "outputs": [],
   "source": []
  },
  {
   "cell_type": "code",
   "execution_count": null,
   "metadata": {},
   "outputs": [],
   "source": []
  },
  {
   "cell_type": "code",
   "execution_count": null,
   "metadata": {},
   "outputs": [],
   "source": []
  },
  {
   "cell_type": "markdown",
   "metadata": {},
   "source": [
    "---"
   ]
  },
  {
   "cell_type": "code",
   "execution_count": null,
   "metadata": {},
   "outputs": [],
   "source": [
    "A_B_AVG = np.mean(np.stack(DF_IDF_B['IDF'].apply(lambda x: x[0])), axis=0)\n",
    "A_B_AVG_summer = np.mean(np.stack(DF_IDF_B.loc[ S_Fi_B_Mo.isin(l_Mo_summer), 'IDF'].apply(lambda x: x[0])), axis=0)\n",
    "A_B_AVG_winter = np.mean(np.stack(DF_IDF_B.loc[ S_Fi_B_Mo.isin(l_Mo_winter), 'IDF'].apply(lambda x: x[0])), axis=0)\n",
    "d_A_B_AVG = {'full_year': A_B_AVG,\n",
    "             'summer': A_B_AVG_summer,\n",
    "             'winter': A_B_AVG_winter}"
   ]
  },
  {
   "cell_type": "code",
   "execution_count": null,
   "metadata": {},
   "outputs": [],
   "source": [
    "IDF_MtDt = DF_IDF_B.at[0, 'IDF'][1] # The metadata for all IDF's is the same, except for time. But time doesn't matter for what we'll do."
   ]
  },
  {
   "cell_type": "code",
   "execution_count": null,
   "metadata": {},
   "outputs": [],
   "source": [
    "for k in d_A_B_AVG:\n",
    "    group = '' if k=='full_year' else (k+'_')\n",
    "    path_Out = os.path.join(path_PoP, 'HD_map', f'{Mdl}{SimN_B}', f'HD_{group}{Mdl}{SimN_B}.')\n",
    "    os.makedirs(os.path.dirname(path_Out), exist_ok=True)\n",
    "    A_to_Raster_n_IDF(d_A_B_AVG[k], IDF_MtDt, path_Out)"
   ]
  },
  {
   "cell_type": "markdown",
   "metadata": {},
   "source": [
    "## S"
   ]
  },
  {
   "cell_type": "code",
   "execution_count": null,
   "metadata": {},
   "outputs": [],
   "source": [
    "DF_IDF_S = make_DF_IDF(path_S, S_Fi_S)"
   ]
  },
  {
   "cell_type": "code",
   "execution_count": null,
   "metadata": {},
   "outputs": [],
   "source": [
    "A_S_AVG = np.mean(np.stack(DF_IDF_S['IDF'].apply(lambda x: x[0])), axis=0)\n",
    "A_S_AVG_summer = np.mean(np.stack(DF_IDF_S.loc[ S_Fi_S_Mo.isin(l_Mo_summer), 'IDF'].apply(lambda x: x[0])), axis=0)\n",
    "A_S_AVG_winter = np.mean(np.stack(DF_IDF_S.loc[ S_Fi_S_Mo.isin(l_Mo_winter), 'IDF'].apply(lambda x: x[0])), axis=0)\n",
    "d_A_S_AVG = {'full_year': A_S_AVG,\n",
    "             'summer': A_S_AVG_summer,\n",
    "             'winter': A_S_AVG_winter}"
   ]
  },
  {
   "cell_type": "code",
   "execution_count": null,
   "metadata": {},
   "outputs": [],
   "source": [
    "IDF_MtDt = DF_IDF_S.at[0, 'IDF'][1] # The metadata for all IDF's is the same, except for time. But time doesn't matter for what we'll do."
   ]
  },
  {
   "cell_type": "code",
   "execution_count": null,
   "metadata": {},
   "outputs": [],
   "source": [
    "for k in d_A_S_AVG:\n",
    "    group = '' if k=='full_year' else (k+'_')\n",
    "    path_Out = os.path.join(path_PoP, 'HD_map', f'{Mdl}{SimN_S}', f'HD_{group}{Mdl}{SimN_S}.')\n",
    "    os.makedirs(os.path.dirname(path_Out), exist_ok=True)\n",
    "    A_to_Raster_n_IDF(d_A_S_AVG[k], IDF_MtDt, path_Out)"
   ]
  }
 ],
 "metadata": {
  "kernelspec": {
   "display_name": "WS",
   "language": "python",
   "name": "python3"
  },
  "language_info": {
   "codemirror_mode": {
    "name": "ipython",
    "version": 3
   },
   "file_extension": ".py",
   "mimetype": "text/x-python",
   "name": "python",
   "nbconvert_exporter": "python",
   "pygments_lexer": "ipython3",
   "version": "3.12.8"
  }
 },
 "nbformat": 4,
 "nbformat_minor": 2
}
